{
 "cells": [
  {
   "cell_type": "code",
   "execution_count": 1,
   "metadata": {},
   "outputs": [
    {
     "ename": "NameError",
     "evalue": "name 'OperationalError' is not defined",
     "output_type": "error",
     "traceback": [
      "\u001b[1;31m---------------------------------------------------------------------------\u001b[0m",
      "\u001b[1;31mOperationalError\u001b[0m                          Traceback (most recent call last)",
      "\u001b[1;32m<ipython-input-1-14feb8885d5b>\u001b[0m in \u001b[0;36m<module>\u001b[1;34m\u001b[0m\n\u001b[0;32m     35\u001b[0m \u001b[1;33m\u001b[0m\u001b[0m\n\u001b[1;32m---> 36\u001b[1;33m     \u001b[0mcursor\u001b[0m\u001b[1;33m.\u001b[0m\u001b[0mexecute\u001b[0m\u001b[1;33m(\u001b[0m\u001b[0mall_time_prices_query\u001b[0m\u001b[1;33m)\u001b[0m\u001b[1;33m\u001b[0m\u001b[1;33m\u001b[0m\u001b[0m\n\u001b[0m\u001b[0;32m     37\u001b[0m \u001b[1;33m\u001b[0m\u001b[0m\n",
      "\u001b[1;31mOperationalError\u001b[0m: table all_time_prices already exists",
      "\nDuring handling of the above exception, another exception occurred:\n",
      "\u001b[1;31mNameError\u001b[0m                                 Traceback (most recent call last)",
      "\u001b[1;32m<ipython-input-1-14feb8885d5b>\u001b[0m in \u001b[0;36m<module>\u001b[1;34m\u001b[0m\n\u001b[0;32m     40\u001b[0m     \u001b[1;31m# Close the connection\u001b[0m\u001b[1;33m\u001b[0m\u001b[1;33m\u001b[0m\u001b[1;33m\u001b[0m\u001b[0m\n\u001b[0;32m     41\u001b[0m     \u001b[0mconn\u001b[0m\u001b[1;33m.\u001b[0m\u001b[0mclose\u001b[0m\u001b[1;33m(\u001b[0m\u001b[1;33m)\u001b[0m\u001b[1;33m\u001b[0m\u001b[1;33m\u001b[0m\u001b[0m\n\u001b[1;32m---> 42\u001b[1;33m \u001b[1;32mexcept\u001b[0m \u001b[0mOperationalError\u001b[0m\u001b[1;33m:\u001b[0m\u001b[1;33m\u001b[0m\u001b[1;33m\u001b[0m\u001b[0m\n\u001b[0m\u001b[0;32m     43\u001b[0m     \u001b[1;32mpass\u001b[0m\u001b[1;33m\u001b[0m\u001b[1;33m\u001b[0m\u001b[0m\n",
      "\u001b[1;31mNameError\u001b[0m: name 'OperationalError' is not defined"
     ]
    }
   ],
   "source": [
    "import numpy as np\n",
    "import pandas as pd\n",
    "import math\n",
    "import requests \n",
    "import matplotlib as plt\n",
    "import seaborn as sns\n",
    "import yfinance as yf\n",
    "import pandas_datareader as web\n",
    "from pandas_datareader import data\n",
    "from bs4 import BeautifulSoup as bs\n",
    "from scipy import stats\n",
    "import sqlite3\n",
    "\n",
    "#Create db\n",
    "conn = sqlite3.connect('financial_data.db')\n",
    "\n",
    "# Create a cursor\n",
    "cursor = conn.cursor()\n",
    "\"\"\"\n",
    "# Create the first table\n",
    "all_time_prices_query = '''\n",
    "CREATE TABLE all_time_prices (\n",
    "    Date INTEGER PRIMARY KEY,\n",
    "    Open FLOAT,\n",
    "    High FLOAT, \n",
    "    Low FLOAT, \n",
    "    Close FLOAT, \n",
    "    Volume FLOAT,\n",
    "    Dividends FLOAT, \n",
    "    Stock Splits FLOAT, \n",
    "    Ticker TEXT NOT NULL    \n",
    ");\n",
    "'''\n",
    "\n",
    "cursor.execute(all_time_prices_query)\n",
    "\n",
    "\"\"\"\n",
    "\n",
    "momentum_query = '''\n",
    "CREATE TABLE momentum (\n",
    "    Date INTEGER PRIMARY KEY,\n",
    "    Open FLOAT,\n",
    "    High FLOAT, \n",
    "    Low FLOAT, \n",
    "    Close FLOAT, \n",
    "    Volume FLOAT,\n",
    "    Dividends FLOAT, \n",
    "    Stock Splits FLOAT, \n",
    "    Ticker TEXT NOT NULL    \n",
    ");\n",
    "'''\n",
    "\n",
    "cursor.execute(momentum_query)\n",
    "\n",
    "conn.commit()\n",
    "\n",
    "# Close the connection\n",
    "conn.close()\n"
   ]
  },
  {
   "cell_type": "code",
   "execution_count": 24,
   "metadata": {},
   "outputs": [],
   "source": [
    "#Create first table with all stock info from yfinance\n",
    "tick = pd.read_csv(\"all_stocks\")\n",
    "all_time_cols = ['Date', 'Open', 'High', 'Low', 'Close', 'Volume', 'Dividends', 'Stock Splits', 'Ticker']\n",
    "all_time = pd.DataFrame(columns = all_time_cols)\n",
    "for i in range(len(tick)): \n",
    "    #Creating the df to be added to all_time_prices\n",
    "    ticker = tick[\"0\"][i]\n",
    "    info = yf.Ticker(ticker).history(period='max')\n",
    "    info.reset_index(inplace = True)\n",
    "    info['Ticker'] = ticker\n",
    "\n",
    "    # Append the first dataframe to the table\n",
    "    all_time = pd.concat([all_time, info])\n",
    "\n",
    "    #Creating the df to be added to momentum\n",
    "    \n",
    "\n",
    "all_time.to_sql('all_time_prices', conn, if_exists='append', index=False)"
   ]
  },
  {
   "cell_type": "code",
   "execution_count": 31,
   "metadata": {},
   "outputs": [
    {
     "name": "stdout",
     "output_type": "stream",
     "text": [
      "<class 'pandas.core.frame.DataFrame'>\n",
      "Int64Index: 10608 entries, 0 to 10607\n",
      "Data columns (total 9 columns):\n",
      " #   Column        Non-Null Count  Dtype                           \n",
      "---  ------        --------------  -----                           \n",
      " 0   Date          10608 non-null  datetime64[ns, America/New_York]\n",
      " 1   Open          10608 non-null  float64                         \n",
      " 2   High          10608 non-null  float64                         \n",
      " 3   Low           10608 non-null  float64                         \n",
      " 4   Close         10608 non-null  float64                         \n",
      " 5   Volume        10608 non-null  object                          \n",
      " 6   Dividends     10608 non-null  float64                         \n",
      " 7   Stock Splits  10608 non-null  float64                         \n",
      " 8   Ticker        10608 non-null  object                          \n",
      "dtypes: datetime64[ns, America/New_York](1), float64(6), object(2)\n",
      "memory usage: 1.1+ MB\n"
     ]
    }
   ],
   "source": [
    "final.info()"
   ]
  },
  {
   "cell_type": "code",
   "execution_count": null,
   "metadata": {},
   "outputs": [],
   "source": []
  }
 ],
 "metadata": {
  "interpreter": {
   "hash": "f36662cf0d2dc2d22e7ce50b6b2dd5771b8ab03597c45c6e0e62ff4a448306d1"
  },
  "kernelspec": {
   "display_name": "Python 3.8.5 64-bit",
   "language": "python",
   "name": "python3"
  },
  "language_info": {
   "codemirror_mode": {
    "name": "ipython",
    "version": 3
   },
   "file_extension": ".py",
   "mimetype": "text/x-python",
   "name": "python",
   "nbconvert_exporter": "python",
   "pygments_lexer": "ipython3",
   "version": "3.8.5"
  },
  "orig_nbformat": 4
 },
 "nbformat": 4,
 "nbformat_minor": 2
}
