{
 "cells": [
  {
   "cell_type": "code",
   "execution_count": null,
   "metadata": {},
   "outputs": [],
   "source": [
    "import numpy as np\n",
    "import pandas as pd\n",
    "import math\n",
    "import requests \n",
    "import matplotlib as plt\n",
    "import seaborn as sns\n",
    "import yfinance as yf\n",
    "import pandas_datareader as web\n",
    "from pandas_datareader import data\n",
    "from bs4 import BeautifulSoup as bs\n",
    "from scipy import stats\n",
    "import sqlite3\n",
    "import time\n",
    "\n",
    "\"\"\"\n",
    "#Create db\n",
    "conn = sqlite3.connect('financial_data.db')\n",
    "\n",
    "# Create a cursor\n",
    "cursor = conn.cursor()\n",
    "\"\"\"\n",
    "# Create the first table\n",
    "#all_time_prices_query = \n",
    "'''\n",
    "CREATE TABLE all_time_prices (\n",
    "    Date INTEGER PRIMARY KEY,\n",
    "    Open FLOAT,\n",
    "    High FLOAT, \n",
    "    Low FLOAT, \n",
    "    Close FLOAT, \n",
    "    Volume FLOAT,\n",
    "    Dividends FLOAT, \n",
    "    Stock Splits FLOAT, \n",
    "    Ticker TEXT NOT NULL    \n",
    ");\n",
    "'''\n",
    "\n",
    "#cursor.execute(all_time_prices_query)\n",
    "\n",
    "\"\"\"\n",
    "\n",
    "momentum_query = '''\n",
    "CREATE TABLE momentum (\n",
    "    Date INTEGER PRIMARY KEY,\n",
    "    Open FLOAT,\n",
    "    High FLOAT, \n",
    "    Low FLOAT, \n",
    "    Close FLOAT, \n",
    "    Volume FLOAT,\n",
    "    Dividends FLOAT, \n",
    "    Stock Splits FLOAT, \n",
    "    Ticker TEXT NOT NULL    \n",
    ");\n",
    "'''\n",
    "\n",
    "cursor.execute(momentum_query)\n",
    "\n",
    "conn.commit()\n",
    "\n",
    "# Close the connection\n",
    "conn.close()\n",
    "\"\"\""
   ]
  },
  {
   "cell_type": "code",
   "execution_count": 6,
   "metadata": {},
   "outputs": [
    {
     "name": "stderr",
     "output_type": "stream",
     "text": [
      "<ipython-input-6-ba13226fe2c3>:41: FutureWarning: Indexing a timezone-aware DatetimeIndex with a timezone-naive datetime is deprecated and will raise KeyError in a future version. Use a timezone-aware object instead.\n",
      "  y = info.truncate(before=pd.Timestamp('today') - pd.DateOffset(months=12))\n",
      "<ipython-input-6-ba13226fe2c3>:42: FutureWarning: Indexing a timezone-aware DatetimeIndex with a timezone-naive datetime is deprecated and will raise KeyError in a future version. Use a timezone-aware object instead.\n",
      "  m6 = info.truncate(before=pd.Timestamp('today') - pd.DateOffset(months=6))\n",
      "<ipython-input-6-ba13226fe2c3>:43: FutureWarning: Indexing a timezone-aware DatetimeIndex with a timezone-naive datetime is deprecated and will raise KeyError in a future version. Use a timezone-aware object instead.\n",
      "  m3 = info.truncate(before=pd.Timestamp('today') - pd.DateOffset(months=3))\n",
      "<ipython-input-6-ba13226fe2c3>:44: FutureWarning: Indexing a timezone-aware DatetimeIndex with a timezone-naive datetime is deprecated and will raise KeyError in a future version. Use a timezone-aware object instead.\n",
      "  m1 = info.truncate(before=pd.Timestamp('today') - pd.DateOffset(months=1))\n"
     ]
    },
    {
     "name": "stdout",
     "output_type": "stream",
     "text": [
      "1.0489237308502197\n"
     ]
    },
    {
     "name": "stderr",
     "output_type": "stream",
     "text": [
      "<ipython-input-6-ba13226fe2c3>:41: FutureWarning: Indexing a timezone-aware DatetimeIndex with a timezone-naive datetime is deprecated and will raise KeyError in a future version. Use a timezone-aware object instead.\n",
      "  y = info.truncate(before=pd.Timestamp('today') - pd.DateOffset(months=12))\n",
      "<ipython-input-6-ba13226fe2c3>:42: FutureWarning: Indexing a timezone-aware DatetimeIndex with a timezone-naive datetime is deprecated and will raise KeyError in a future version. Use a timezone-aware object instead.\n",
      "  m6 = info.truncate(before=pd.Timestamp('today') - pd.DateOffset(months=6))\n",
      "<ipython-input-6-ba13226fe2c3>:43: FutureWarning: Indexing a timezone-aware DatetimeIndex with a timezone-naive datetime is deprecated and will raise KeyError in a future version. Use a timezone-aware object instead.\n",
      "  m3 = info.truncate(before=pd.Timestamp('today') - pd.DateOffset(months=3))\n",
      "<ipython-input-6-ba13226fe2c3>:44: FutureWarning: Indexing a timezone-aware DatetimeIndex with a timezone-naive datetime is deprecated and will raise KeyError in a future version. Use a timezone-aware object instead.\n",
      "  m1 = info.truncate(before=pd.Timestamp('today') - pd.DateOffset(months=1))\n"
     ]
    },
    {
     "name": "stdout",
     "output_type": "stream",
     "text": [
      "0.6244051456451416\n"
     ]
    },
    {
     "name": "stderr",
     "output_type": "stream",
     "text": [
      "<ipython-input-6-ba13226fe2c3>:41: FutureWarning: Indexing a timezone-aware DatetimeIndex with a timezone-naive datetime is deprecated and will raise KeyError in a future version. Use a timezone-aware object instead.\n",
      "  y = info.truncate(before=pd.Timestamp('today') - pd.DateOffset(months=12))\n",
      "<ipython-input-6-ba13226fe2c3>:42: FutureWarning: Indexing a timezone-aware DatetimeIndex with a timezone-naive datetime is deprecated and will raise KeyError in a future version. Use a timezone-aware object instead.\n",
      "  m6 = info.truncate(before=pd.Timestamp('today') - pd.DateOffset(months=6))\n",
      "<ipython-input-6-ba13226fe2c3>:43: FutureWarning: Indexing a timezone-aware DatetimeIndex with a timezone-naive datetime is deprecated and will raise KeyError in a future version. Use a timezone-aware object instead.\n",
      "  m3 = info.truncate(before=pd.Timestamp('today') - pd.DateOffset(months=3))\n",
      "<ipython-input-6-ba13226fe2c3>:44: FutureWarning: Indexing a timezone-aware DatetimeIndex with a timezone-naive datetime is deprecated and will raise KeyError in a future version. Use a timezone-aware object instead.\n",
      "  m1 = info.truncate(before=pd.Timestamp('today') - pd.DateOffset(months=1))\n"
     ]
    },
    {
     "name": "stdout",
     "output_type": "stream",
     "text": [
      "0.5154259204864502\n"
     ]
    },
    {
     "name": "stderr",
     "output_type": "stream",
     "text": [
      "<ipython-input-6-ba13226fe2c3>:41: FutureWarning: Indexing a timezone-aware DatetimeIndex with a timezone-naive datetime is deprecated and will raise KeyError in a future version. Use a timezone-aware object instead.\n",
      "  y = info.truncate(before=pd.Timestamp('today') - pd.DateOffset(months=12))\n",
      "<ipython-input-6-ba13226fe2c3>:42: FutureWarning: Indexing a timezone-aware DatetimeIndex with a timezone-naive datetime is deprecated and will raise KeyError in a future version. Use a timezone-aware object instead.\n",
      "  m6 = info.truncate(before=pd.Timestamp('today') - pd.DateOffset(months=6))\n",
      "<ipython-input-6-ba13226fe2c3>:43: FutureWarning: Indexing a timezone-aware DatetimeIndex with a timezone-naive datetime is deprecated and will raise KeyError in a future version. Use a timezone-aware object instead.\n",
      "  m3 = info.truncate(before=pd.Timestamp('today') - pd.DateOffset(months=3))\n",
      "<ipython-input-6-ba13226fe2c3>:44: FutureWarning: Indexing a timezone-aware DatetimeIndex with a timezone-naive datetime is deprecated and will raise KeyError in a future version. Use a timezone-aware object instead.\n",
      "  m1 = info.truncate(before=pd.Timestamp('today') - pd.DateOffset(months=1))\n",
      "<ipython-input-6-ba13226fe2c3>:11: RuntimeWarning: divide by zero encountered in log\n",
      "  reg = np.polyfit(np.log(lags), np.log(tau), 1)\n",
      "C:\\Users\\Kamen\\AppData\\Local\\Programs\\Python\\Python38\\lib\\site-packages\\numpy\\core\\_methods.py:262: RuntimeWarning: Degrees of freedom <= 0 for slice\n",
      "  ret = _var(a, axis=axis, dtype=dtype, out=out, ddof=ddof,\n",
      "C:\\Users\\Kamen\\AppData\\Local\\Programs\\Python\\Python38\\lib\\site-packages\\numpy\\core\\_methods.py:222: RuntimeWarning: invalid value encountered in true_divide\n",
      "  arrmean = um.true_divide(arrmean, div, out=arrmean, casting='unsafe',\n",
      "C:\\Users\\Kamen\\AppData\\Local\\Programs\\Python\\Python38\\lib\\site-packages\\numpy\\core\\_methods.py:254: RuntimeWarning: invalid value encountered in double_scalars\n",
      "  ret = ret.dtype.type(ret / rcount)\n"
     ]
    },
    {
     "name": "stdout",
     "output_type": "stream",
     "text": [
      "0.3780190944671631\n",
      "CBG: 1d data not available for startTime=-2208994789 and endTime=1673461824. Only 100 years worth of day granularity data are allowed to be fetched per request.\n",
      "Index Error when producing momentum table\n",
      "CDI: 1d data not available for startTime=-2208994789 and endTime=1673461825. Only 100 years worth of day granularity data are allowed to be fetched per request.\n",
      "Index Error when producing momentum table\n"
     ]
    },
    {
     "name": "stderr",
     "output_type": "stream",
     "text": [
      "<ipython-input-6-ba13226fe2c3>:41: FutureWarning: Indexing a timezone-aware DatetimeIndex with a timezone-naive datetime is deprecated and will raise KeyError in a future version. Use a timezone-aware object instead.\n",
      "  y = info.truncate(before=pd.Timestamp('today') - pd.DateOffset(months=12))\n",
      "<ipython-input-6-ba13226fe2c3>:42: FutureWarning: Indexing a timezone-aware DatetimeIndex with a timezone-naive datetime is deprecated and will raise KeyError in a future version. Use a timezone-aware object instead.\n",
      "  m6 = info.truncate(before=pd.Timestamp('today') - pd.DateOffset(months=6))\n",
      "<ipython-input-6-ba13226fe2c3>:43: FutureWarning: Indexing a timezone-aware DatetimeIndex with a timezone-naive datetime is deprecated and will raise KeyError in a future version. Use a timezone-aware object instead.\n",
      "  m3 = info.truncate(before=pd.Timestamp('today') - pd.DateOffset(months=3))\n",
      "<ipython-input-6-ba13226fe2c3>:44: FutureWarning: Indexing a timezone-aware DatetimeIndex with a timezone-naive datetime is deprecated and will raise KeyError in a future version. Use a timezone-aware object instead.\n",
      "  m1 = info.truncate(before=pd.Timestamp('today') - pd.DateOffset(months=1))\n"
     ]
    },
    {
     "name": "stdout",
     "output_type": "stream",
     "text": [
      "0.8490805625915527\n",
      "Got error from yahoo api for ticker CDR, Error: {'code': 'Not Found', 'description': 'No data found, symbol may be delisted'}\n",
      "- CDR: No timezone found, symbol may be delisted\n",
      "Index Error when producing momentum table\n",
      "CGI: 1d data not available for startTime=-2208994789 and endTime=1673461826. Only 100 years worth of day granularity data are allowed to be fetched per request.\n",
      "Index Error when producing momentum table\n"
     ]
    },
    {
     "name": "stderr",
     "output_type": "stream",
     "text": [
      "<ipython-input-6-ba13226fe2c3>:41: FutureWarning: Indexing a timezone-aware DatetimeIndex with a timezone-naive datetime is deprecated and will raise KeyError in a future version. Use a timezone-aware object instead.\n",
      "  y = info.truncate(before=pd.Timestamp('today') - pd.DateOffset(months=12))\n",
      "<ipython-input-6-ba13226fe2c3>:42: FutureWarning: Indexing a timezone-aware DatetimeIndex with a timezone-naive datetime is deprecated and will raise KeyError in a future version. Use a timezone-aware object instead.\n",
      "  m6 = info.truncate(before=pd.Timestamp('today') - pd.DateOffset(months=6))\n",
      "<ipython-input-6-ba13226fe2c3>:43: FutureWarning: Indexing a timezone-aware DatetimeIndex with a timezone-naive datetime is deprecated and will raise KeyError in a future version. Use a timezone-aware object instead.\n",
      "  m3 = info.truncate(before=pd.Timestamp('today') - pd.DateOffset(months=3))\n",
      "<ipython-input-6-ba13226fe2c3>:44: FutureWarning: Indexing a timezone-aware DatetimeIndex with a timezone-naive datetime is deprecated and will raise KeyError in a future version. Use a timezone-aware object instead.\n",
      "  m1 = info.truncate(before=pd.Timestamp('today') - pd.DateOffset(months=1))\n"
     ]
    },
    {
     "name": "stdout",
     "output_type": "stream",
     "text": [
      "0.6758122444152832\n"
     ]
    },
    {
     "name": "stderr",
     "output_type": "stream",
     "text": [
      "<ipython-input-6-ba13226fe2c3>:41: FutureWarning: Indexing a timezone-aware DatetimeIndex with a timezone-naive datetime is deprecated and will raise KeyError in a future version. Use a timezone-aware object instead.\n",
      "  y = info.truncate(before=pd.Timestamp('today') - pd.DateOffset(months=12))\n",
      "<ipython-input-6-ba13226fe2c3>:42: FutureWarning: Indexing a timezone-aware DatetimeIndex with a timezone-naive datetime is deprecated and will raise KeyError in a future version. Use a timezone-aware object instead.\n",
      "  m6 = info.truncate(before=pd.Timestamp('today') - pd.DateOffset(months=6))\n",
      "<ipython-input-6-ba13226fe2c3>:43: FutureWarning: Indexing a timezone-aware DatetimeIndex with a timezone-naive datetime is deprecated and will raise KeyError in a future version. Use a timezone-aware object instead.\n",
      "  m3 = info.truncate(before=pd.Timestamp('today') - pd.DateOffset(months=3))\n",
      "<ipython-input-6-ba13226fe2c3>:44: FutureWarning: Indexing a timezone-aware DatetimeIndex with a timezone-naive datetime is deprecated and will raise KeyError in a future version. Use a timezone-aware object instead.\n",
      "  m1 = info.truncate(before=pd.Timestamp('today') - pd.DateOffset(months=1))\n"
     ]
    },
    {
     "name": "stdout",
     "output_type": "stream",
     "text": [
      "0.6066622734069824\n",
      "Got error from yahoo api for ticker CEL, Error: {'code': 'Not Found', 'description': 'No data found, symbol may be delisted'}\n",
      "- CEL: No timezone found, symbol may be delisted\n",
      "Index Error when producing momentum table\n"
     ]
    },
    {
     "name": "stderr",
     "output_type": "stream",
     "text": [
      "<ipython-input-6-ba13226fe2c3>:41: FutureWarning: Indexing a timezone-aware DatetimeIndex with a timezone-naive datetime is deprecated and will raise KeyError in a future version. Use a timezone-aware object instead.\n",
      "  y = info.truncate(before=pd.Timestamp('today') - pd.DateOffset(months=12))\n",
      "<ipython-input-6-ba13226fe2c3>:42: FutureWarning: Indexing a timezone-aware DatetimeIndex with a timezone-naive datetime is deprecated and will raise KeyError in a future version. Use a timezone-aware object instead.\n",
      "  m6 = info.truncate(before=pd.Timestamp('today') - pd.DateOffset(months=6))\n",
      "<ipython-input-6-ba13226fe2c3>:43: FutureWarning: Indexing a timezone-aware DatetimeIndex with a timezone-naive datetime is deprecated and will raise KeyError in a future version. Use a timezone-aware object instead.\n",
      "  m3 = info.truncate(before=pd.Timestamp('today') - pd.DateOffset(months=3))\n",
      "<ipython-input-6-ba13226fe2c3>:44: FutureWarning: Indexing a timezone-aware DatetimeIndex with a timezone-naive datetime is deprecated and will raise KeyError in a future version. Use a timezone-aware object instead.\n",
      "  m1 = info.truncate(before=pd.Timestamp('today') - pd.DateOffset(months=1))\n"
     ]
    },
    {
     "name": "stdout",
     "output_type": "stream",
     "text": [
      "0.5370242595672607\n"
     ]
    },
    {
     "name": "stderr",
     "output_type": "stream",
     "text": [
      "<ipython-input-6-ba13226fe2c3>:41: FutureWarning: Indexing a timezone-aware DatetimeIndex with a timezone-naive datetime is deprecated and will raise KeyError in a future version. Use a timezone-aware object instead.\n",
      "  y = info.truncate(before=pd.Timestamp('today') - pd.DateOffset(months=12))\n",
      "<ipython-input-6-ba13226fe2c3>:42: FutureWarning: Indexing a timezone-aware DatetimeIndex with a timezone-naive datetime is deprecated and will raise KeyError in a future version. Use a timezone-aware object instead.\n",
      "  m6 = info.truncate(before=pd.Timestamp('today') - pd.DateOffset(months=6))\n",
      "<ipython-input-6-ba13226fe2c3>:43: FutureWarning: Indexing a timezone-aware DatetimeIndex with a timezone-naive datetime is deprecated and will raise KeyError in a future version. Use a timezone-aware object instead.\n",
      "  m3 = info.truncate(before=pd.Timestamp('today') - pd.DateOffset(months=3))\n",
      "<ipython-input-6-ba13226fe2c3>:44: FutureWarning: Indexing a timezone-aware DatetimeIndex with a timezone-naive datetime is deprecated and will raise KeyError in a future version. Use a timezone-aware object instead.\n",
      "  m1 = info.truncate(before=pd.Timestamp('today') - pd.DateOffset(months=1))\n"
     ]
    },
    {
     "name": "stdout",
     "output_type": "stream",
     "text": [
      "0.7065434455871582\n",
      "CNCO: 1d data not available for startTime=-2208994789 and endTime=1673461829. Only 100 years worth of day granularity data are allowed to be fetched per request.\n",
      "Index Error when producing momentum table\n"
     ]
    },
    {
     "name": "stderr",
     "output_type": "stream",
     "text": [
      "<ipython-input-6-ba13226fe2c3>:41: FutureWarning: Indexing a timezone-aware DatetimeIndex with a timezone-naive datetime is deprecated and will raise KeyError in a future version. Use a timezone-aware object instead.\n",
      "  y = info.truncate(before=pd.Timestamp('today') - pd.DateOffset(months=12))\n",
      "<ipython-input-6-ba13226fe2c3>:42: FutureWarning: Indexing a timezone-aware DatetimeIndex with a timezone-naive datetime is deprecated and will raise KeyError in a future version. Use a timezone-aware object instead.\n",
      "  m6 = info.truncate(before=pd.Timestamp('today') - pd.DateOffset(months=6))\n",
      "<ipython-input-6-ba13226fe2c3>:43: FutureWarning: Indexing a timezone-aware DatetimeIndex with a timezone-naive datetime is deprecated and will raise KeyError in a future version. Use a timezone-aware object instead.\n",
      "  m3 = info.truncate(before=pd.Timestamp('today') - pd.DateOffset(months=3))\n",
      "<ipython-input-6-ba13226fe2c3>:44: FutureWarning: Indexing a timezone-aware DatetimeIndex with a timezone-naive datetime is deprecated and will raise KeyError in a future version. Use a timezone-aware object instead.\n",
      "  m1 = info.truncate(before=pd.Timestamp('today') - pd.DateOffset(months=1))\n"
     ]
    },
    {
     "name": "stdout",
     "output_type": "stream",
     "text": [
      "0.4531586170196533\n"
     ]
    },
    {
     "name": "stderr",
     "output_type": "stream",
     "text": [
      "<ipython-input-6-ba13226fe2c3>:41: FutureWarning: Indexing a timezone-aware DatetimeIndex with a timezone-naive datetime is deprecated and will raise KeyError in a future version. Use a timezone-aware object instead.\n",
      "  y = info.truncate(before=pd.Timestamp('today') - pd.DateOffset(months=12))\n",
      "<ipython-input-6-ba13226fe2c3>:42: FutureWarning: Indexing a timezone-aware DatetimeIndex with a timezone-naive datetime is deprecated and will raise KeyError in a future version. Use a timezone-aware object instead.\n",
      "  m6 = info.truncate(before=pd.Timestamp('today') - pd.DateOffset(months=6))\n",
      "<ipython-input-6-ba13226fe2c3>:43: FutureWarning: Indexing a timezone-aware DatetimeIndex with a timezone-naive datetime is deprecated and will raise KeyError in a future version. Use a timezone-aware object instead.\n",
      "  m3 = info.truncate(before=pd.Timestamp('today') - pd.DateOffset(months=3))\n",
      "<ipython-input-6-ba13226fe2c3>:44: FutureWarning: Indexing a timezone-aware DatetimeIndex with a timezone-naive datetime is deprecated and will raise KeyError in a future version. Use a timezone-aware object instead.\n",
      "  m1 = info.truncate(before=pd.Timestamp('today') - pd.DateOffset(months=1))\n"
     ]
    },
    {
     "name": "stdout",
     "output_type": "stream",
     "text": [
      "0.8068161010742188\n"
     ]
    },
    {
     "name": "stderr",
     "output_type": "stream",
     "text": [
      "<ipython-input-6-ba13226fe2c3>:41: FutureWarning: Indexing a timezone-aware DatetimeIndex with a timezone-naive datetime is deprecated and will raise KeyError in a future version. Use a timezone-aware object instead.\n",
      "  y = info.truncate(before=pd.Timestamp('today') - pd.DateOffset(months=12))\n",
      "<ipython-input-6-ba13226fe2c3>:42: FutureWarning: Indexing a timezone-aware DatetimeIndex with a timezone-naive datetime is deprecated and will raise KeyError in a future version. Use a timezone-aware object instead.\n",
      "  m6 = info.truncate(before=pd.Timestamp('today') - pd.DateOffset(months=6))\n",
      "<ipython-input-6-ba13226fe2c3>:43: FutureWarning: Indexing a timezone-aware DatetimeIndex with a timezone-naive datetime is deprecated and will raise KeyError in a future version. Use a timezone-aware object instead.\n",
      "  m3 = info.truncate(before=pd.Timestamp('today') - pd.DateOffset(months=3))\n",
      "<ipython-input-6-ba13226fe2c3>:44: FutureWarning: Indexing a timezone-aware DatetimeIndex with a timezone-naive datetime is deprecated and will raise KeyError in a future version. Use a timezone-aware object instead.\n",
      "  m1 = info.truncate(before=pd.Timestamp('today') - pd.DateOffset(months=1))\n"
     ]
    },
    {
     "name": "stdout",
     "output_type": "stream",
     "text": [
      "1.042255163192749\n"
     ]
    },
    {
     "name": "stderr",
     "output_type": "stream",
     "text": [
      "<ipython-input-6-ba13226fe2c3>:41: FutureWarning: Indexing a timezone-aware DatetimeIndex with a timezone-naive datetime is deprecated and will raise KeyError in a future version. Use a timezone-aware object instead.\n",
      "  y = info.truncate(before=pd.Timestamp('today') - pd.DateOffset(months=12))\n",
      "<ipython-input-6-ba13226fe2c3>:42: FutureWarning: Indexing a timezone-aware DatetimeIndex with a timezone-naive datetime is deprecated and will raise KeyError in a future version. Use a timezone-aware object instead.\n",
      "  m6 = info.truncate(before=pd.Timestamp('today') - pd.DateOffset(months=6))\n",
      "<ipython-input-6-ba13226fe2c3>:43: FutureWarning: Indexing a timezone-aware DatetimeIndex with a timezone-naive datetime is deprecated and will raise KeyError in a future version. Use a timezone-aware object instead.\n",
      "  m3 = info.truncate(before=pd.Timestamp('today') - pd.DateOffset(months=3))\n",
      "<ipython-input-6-ba13226fe2c3>:44: FutureWarning: Indexing a timezone-aware DatetimeIndex with a timezone-naive datetime is deprecated and will raise KeyError in a future version. Use a timezone-aware object instead.\n",
      "  m1 = info.truncate(before=pd.Timestamp('today') - pd.DateOffset(months=1))\n"
     ]
    },
    {
     "name": "stdout",
     "output_type": "stream",
     "text": [
      "0.4582335948944092\n"
     ]
    },
    {
     "name": "stderr",
     "output_type": "stream",
     "text": [
      "<ipython-input-6-ba13226fe2c3>:41: FutureWarning: Indexing a timezone-aware DatetimeIndex with a timezone-naive datetime is deprecated and will raise KeyError in a future version. Use a timezone-aware object instead.\n",
      "  y = info.truncate(before=pd.Timestamp('today') - pd.DateOffset(months=12))\n",
      "<ipython-input-6-ba13226fe2c3>:42: FutureWarning: Indexing a timezone-aware DatetimeIndex with a timezone-naive datetime is deprecated and will raise KeyError in a future version. Use a timezone-aware object instead.\n",
      "  m6 = info.truncate(before=pd.Timestamp('today') - pd.DateOffset(months=6))\n",
      "<ipython-input-6-ba13226fe2c3>:43: FutureWarning: Indexing a timezone-aware DatetimeIndex with a timezone-naive datetime is deprecated and will raise KeyError in a future version. Use a timezone-aware object instead.\n",
      "  m3 = info.truncate(before=pd.Timestamp('today') - pd.DateOffset(months=3))\n",
      "<ipython-input-6-ba13226fe2c3>:44: FutureWarning: Indexing a timezone-aware DatetimeIndex with a timezone-naive datetime is deprecated and will raise KeyError in a future version. Use a timezone-aware object instead.\n",
      "  m1 = info.truncate(before=pd.Timestamp('today') - pd.DateOffset(months=1))\n"
     ]
    },
    {
     "name": "stdout",
     "output_type": "stream",
     "text": [
      "0.6121413707733154\n"
     ]
    },
    {
     "name": "stderr",
     "output_type": "stream",
     "text": [
      "<ipython-input-6-ba13226fe2c3>:41: FutureWarning: Indexing a timezone-aware DatetimeIndex with a timezone-naive datetime is deprecated and will raise KeyError in a future version. Use a timezone-aware object instead.\n",
      "  y = info.truncate(before=pd.Timestamp('today') - pd.DateOffset(months=12))\n",
      "<ipython-input-6-ba13226fe2c3>:42: FutureWarning: Indexing a timezone-aware DatetimeIndex with a timezone-naive datetime is deprecated and will raise KeyError in a future version. Use a timezone-aware object instead.\n",
      "  m6 = info.truncate(before=pd.Timestamp('today') - pd.DateOffset(months=6))\n",
      "<ipython-input-6-ba13226fe2c3>:43: FutureWarning: Indexing a timezone-aware DatetimeIndex with a timezone-naive datetime is deprecated and will raise KeyError in a future version. Use a timezone-aware object instead.\n",
      "  m3 = info.truncate(before=pd.Timestamp('today') - pd.DateOffset(months=3))\n",
      "<ipython-input-6-ba13226fe2c3>:44: FutureWarning: Indexing a timezone-aware DatetimeIndex with a timezone-naive datetime is deprecated and will raise KeyError in a future version. Use a timezone-aware object instead.\n",
      "  m1 = info.truncate(before=pd.Timestamp('today') - pd.DateOffset(months=1))\n"
     ]
    },
    {
     "name": "stdout",
     "output_type": "stream",
     "text": [
      "0.43204617500305176\n",
      "Got error from yahoo api for ticker CTL, Error: {'code': 'Not Found', 'description': 'No data found, symbol may be delisted'}\n",
      "- CTL: No timezone found, symbol may be delisted\n",
      "Index Error when producing momentum table\n",
      "CVO: 1d data not available for startTime=-2208994789 and endTime=1673461834. Only 100 years worth of day granularity data are allowed to be fetched per request.\n",
      "Index Error when producing momentum table\n"
     ]
    },
    {
     "name": "stderr",
     "output_type": "stream",
     "text": [
      "<ipython-input-6-ba13226fe2c3>:41: FutureWarning: Indexing a timezone-aware DatetimeIndex with a timezone-naive datetime is deprecated and will raise KeyError in a future version. Use a timezone-aware object instead.\n",
      "  y = info.truncate(before=pd.Timestamp('today') - pd.DateOffset(months=12))\n",
      "<ipython-input-6-ba13226fe2c3>:42: FutureWarning: Indexing a timezone-aware DatetimeIndex with a timezone-naive datetime is deprecated and will raise KeyError in a future version. Use a timezone-aware object instead.\n",
      "  m6 = info.truncate(before=pd.Timestamp('today') - pd.DateOffset(months=6))\n",
      "<ipython-input-6-ba13226fe2c3>:43: FutureWarning: Indexing a timezone-aware DatetimeIndex with a timezone-naive datetime is deprecated and will raise KeyError in a future version. Use a timezone-aware object instead.\n",
      "  m3 = info.truncate(before=pd.Timestamp('today') - pd.DateOffset(months=3))\n",
      "<ipython-input-6-ba13226fe2c3>:44: FutureWarning: Indexing a timezone-aware DatetimeIndex with a timezone-naive datetime is deprecated and will raise KeyError in a future version. Use a timezone-aware object instead.\n",
      "  m1 = info.truncate(before=pd.Timestamp('today') - pd.DateOffset(months=1))\n"
     ]
    },
    {
     "name": "stdout",
     "output_type": "stream",
     "text": [
      "0.5191624164581299\n",
      "CGG: 1d data not available for startTime=-2208994789 and endTime=1673461835. Only 100 years worth of day granularity data are allowed to be fetched per request.\n",
      "Index Error when producing momentum table\n"
     ]
    },
    {
     "name": "stderr",
     "output_type": "stream",
     "text": [
      "<ipython-input-6-ba13226fe2c3>:41: FutureWarning: Indexing a timezone-aware DatetimeIndex with a timezone-naive datetime is deprecated and will raise KeyError in a future version. Use a timezone-aware object instead.\n",
      "  y = info.truncate(before=pd.Timestamp('today') - pd.DateOffset(months=12))\n",
      "<ipython-input-6-ba13226fe2c3>:42: FutureWarning: Indexing a timezone-aware DatetimeIndex with a timezone-naive datetime is deprecated and will raise KeyError in a future version. Use a timezone-aware object instead.\n",
      "  m6 = info.truncate(before=pd.Timestamp('today') - pd.DateOffset(months=6))\n",
      "<ipython-input-6-ba13226fe2c3>:43: FutureWarning: Indexing a timezone-aware DatetimeIndex with a timezone-naive datetime is deprecated and will raise KeyError in a future version. Use a timezone-aware object instead.\n",
      "  m3 = info.truncate(before=pd.Timestamp('today') - pd.DateOffset(months=3))\n",
      "<ipython-input-6-ba13226fe2c3>:44: FutureWarning: Indexing a timezone-aware DatetimeIndex with a timezone-naive datetime is deprecated and will raise KeyError in a future version. Use a timezone-aware object instead.\n",
      "  m1 = info.truncate(before=pd.Timestamp('today') - pd.DateOffset(months=1))\n"
     ]
    },
    {
     "name": "stdout",
     "output_type": "stream",
     "text": [
      "0.7028100490570068\n"
     ]
    },
    {
     "name": "stderr",
     "output_type": "stream",
     "text": [
      "<ipython-input-6-ba13226fe2c3>:41: FutureWarning: Indexing a timezone-aware DatetimeIndex with a timezone-naive datetime is deprecated and will raise KeyError in a future version. Use a timezone-aware object instead.\n",
      "  y = info.truncate(before=pd.Timestamp('today') - pd.DateOffset(months=12))\n",
      "<ipython-input-6-ba13226fe2c3>:42: FutureWarning: Indexing a timezone-aware DatetimeIndex with a timezone-naive datetime is deprecated and will raise KeyError in a future version. Use a timezone-aware object instead.\n",
      "  m6 = info.truncate(before=pd.Timestamp('today') - pd.DateOffset(months=6))\n",
      "<ipython-input-6-ba13226fe2c3>:43: FutureWarning: Indexing a timezone-aware DatetimeIndex with a timezone-naive datetime is deprecated and will raise KeyError in a future version. Use a timezone-aware object instead.\n",
      "  m3 = info.truncate(before=pd.Timestamp('today') - pd.DateOffset(months=3))\n",
      "<ipython-input-6-ba13226fe2c3>:44: FutureWarning: Indexing a timezone-aware DatetimeIndex with a timezone-naive datetime is deprecated and will raise KeyError in a future version. Use a timezone-aware object instead.\n",
      "  m1 = info.truncate(before=pd.Timestamp('today') - pd.DateOffset(months=1))\n"
     ]
    },
    {
     "name": "stdout",
     "output_type": "stream",
     "text": [
      "Index Error when producing momentum table\n"
     ]
    },
    {
     "name": "stderr",
     "output_type": "stream",
     "text": [
      "<ipython-input-6-ba13226fe2c3>:41: FutureWarning: Indexing a timezone-aware DatetimeIndex with a timezone-naive datetime is deprecated and will raise KeyError in a future version. Use a timezone-aware object instead.\n",
      "  y = info.truncate(before=pd.Timestamp('today') - pd.DateOffset(months=12))\n",
      "<ipython-input-6-ba13226fe2c3>:42: FutureWarning: Indexing a timezone-aware DatetimeIndex with a timezone-naive datetime is deprecated and will raise KeyError in a future version. Use a timezone-aware object instead.\n",
      "  m6 = info.truncate(before=pd.Timestamp('today') - pd.DateOffset(months=6))\n",
      "<ipython-input-6-ba13226fe2c3>:43: FutureWarning: Indexing a timezone-aware DatetimeIndex with a timezone-naive datetime is deprecated and will raise KeyError in a future version. Use a timezone-aware object instead.\n",
      "  m3 = info.truncate(before=pd.Timestamp('today') - pd.DateOffset(months=3))\n",
      "<ipython-input-6-ba13226fe2c3>:44: FutureWarning: Indexing a timezone-aware DatetimeIndex with a timezone-naive datetime is deprecated and will raise KeyError in a future version. Use a timezone-aware object instead.\n",
      "  m1 = info.truncate(before=pd.Timestamp('today') - pd.DateOffset(months=1))\n"
     ]
    },
    {
     "name": "stdout",
     "output_type": "stream",
     "text": [
      "Index Error when producing momentum table\n"
     ]
    },
    {
     "name": "stderr",
     "output_type": "stream",
     "text": [
      "<ipython-input-6-ba13226fe2c3>:41: FutureWarning: Indexing a timezone-aware DatetimeIndex with a timezone-naive datetime is deprecated and will raise KeyError in a future version. Use a timezone-aware object instead.\n",
      "  y = info.truncate(before=pd.Timestamp('today') - pd.DateOffset(months=12))\n",
      "<ipython-input-6-ba13226fe2c3>:42: FutureWarning: Indexing a timezone-aware DatetimeIndex with a timezone-naive datetime is deprecated and will raise KeyError in a future version. Use a timezone-aware object instead.\n",
      "  m6 = info.truncate(before=pd.Timestamp('today') - pd.DateOffset(months=6))\n",
      "<ipython-input-6-ba13226fe2c3>:43: FutureWarning: Indexing a timezone-aware DatetimeIndex with a timezone-naive datetime is deprecated and will raise KeyError in a future version. Use a timezone-aware object instead.\n",
      "  m3 = info.truncate(before=pd.Timestamp('today') - pd.DateOffset(months=3))\n",
      "<ipython-input-6-ba13226fe2c3>:44: FutureWarning: Indexing a timezone-aware DatetimeIndex with a timezone-naive datetime is deprecated and will raise KeyError in a future version. Use a timezone-aware object instead.\n",
      "  m1 = info.truncate(before=pd.Timestamp('today') - pd.DateOffset(months=1))\n"
     ]
    },
    {
     "name": "stdout",
     "output_type": "stream",
     "text": [
      "0.5928909778594971\n"
     ]
    },
    {
     "name": "stderr",
     "output_type": "stream",
     "text": [
      "<ipython-input-6-ba13226fe2c3>:41: FutureWarning: Indexing a timezone-aware DatetimeIndex with a timezone-naive datetime is deprecated and will raise KeyError in a future version. Use a timezone-aware object instead.\n",
      "  y = info.truncate(before=pd.Timestamp('today') - pd.DateOffset(months=12))\n",
      "<ipython-input-6-ba13226fe2c3>:42: FutureWarning: Indexing a timezone-aware DatetimeIndex with a timezone-naive datetime is deprecated and will raise KeyError in a future version. Use a timezone-aware object instead.\n",
      "  m6 = info.truncate(before=pd.Timestamp('today') - pd.DateOffset(months=6))\n",
      "<ipython-input-6-ba13226fe2c3>:43: FutureWarning: Indexing a timezone-aware DatetimeIndex with a timezone-naive datetime is deprecated and will raise KeyError in a future version. Use a timezone-aware object instead.\n",
      "  m3 = info.truncate(before=pd.Timestamp('today') - pd.DateOffset(months=3))\n",
      "<ipython-input-6-ba13226fe2c3>:44: FutureWarning: Indexing a timezone-aware DatetimeIndex with a timezone-naive datetime is deprecated and will raise KeyError in a future version. Use a timezone-aware object instead.\n",
      "  m1 = info.truncate(before=pd.Timestamp('today') - pd.DateOffset(months=1))\n"
     ]
    },
    {
     "name": "stdout",
     "output_type": "stream",
     "text": [
      "0.689244270324707\n"
     ]
    },
    {
     "name": "stderr",
     "output_type": "stream",
     "text": [
      "<ipython-input-6-ba13226fe2c3>:41: FutureWarning: Indexing a timezone-aware DatetimeIndex with a timezone-naive datetime is deprecated and will raise KeyError in a future version. Use a timezone-aware object instead.\n",
      "  y = info.truncate(before=pd.Timestamp('today') - pd.DateOffset(months=12))\n",
      "<ipython-input-6-ba13226fe2c3>:42: FutureWarning: Indexing a timezone-aware DatetimeIndex with a timezone-naive datetime is deprecated and will raise KeyError in a future version. Use a timezone-aware object instead.\n",
      "  m6 = info.truncate(before=pd.Timestamp('today') - pd.DateOffset(months=6))\n",
      "<ipython-input-6-ba13226fe2c3>:43: FutureWarning: Indexing a timezone-aware DatetimeIndex with a timezone-naive datetime is deprecated and will raise KeyError in a future version. Use a timezone-aware object instead.\n",
      "  m3 = info.truncate(before=pd.Timestamp('today') - pd.DateOffset(months=3))\n",
      "<ipython-input-6-ba13226fe2c3>:44: FutureWarning: Indexing a timezone-aware DatetimeIndex with a timezone-naive datetime is deprecated and will raise KeyError in a future version. Use a timezone-aware object instead.\n",
      "  m1 = info.truncate(before=pd.Timestamp('today') - pd.DateOffset(months=1))\n"
     ]
    },
    {
     "name": "stdout",
     "output_type": "stream",
     "text": [
      "0.591620683670044\n",
      "HELI: 1d data not available for startTime=-2208994789 and endTime=1673461838. Only 100 years worth of day granularity data are allowed to be fetched per request.\n",
      "Index Error when producing momentum table\n",
      "CKP: 1d data not available for startTime=-2208994789 and endTime=1673461839. Only 100 years worth of day granularity data are allowed to be fetched per request.\n",
      "Index Error when producing momentum table\n"
     ]
    },
    {
     "name": "stderr",
     "output_type": "stream",
     "text": [
      "<ipython-input-6-ba13226fe2c3>:41: FutureWarning: Indexing a timezone-aware DatetimeIndex with a timezone-naive datetime is deprecated and will raise KeyError in a future version. Use a timezone-aware object instead.\n",
      "  y = info.truncate(before=pd.Timestamp('today') - pd.DateOffset(months=12))\n",
      "<ipython-input-6-ba13226fe2c3>:42: FutureWarning: Indexing a timezone-aware DatetimeIndex with a timezone-naive datetime is deprecated and will raise KeyError in a future version. Use a timezone-aware object instead.\n",
      "  m6 = info.truncate(before=pd.Timestamp('today') - pd.DateOffset(months=6))\n",
      "<ipython-input-6-ba13226fe2c3>:43: FutureWarning: Indexing a timezone-aware DatetimeIndex with a timezone-naive datetime is deprecated and will raise KeyError in a future version. Use a timezone-aware object instead.\n",
      "  m3 = info.truncate(before=pd.Timestamp('today') - pd.DateOffset(months=3))\n",
      "<ipython-input-6-ba13226fe2c3>:44: FutureWarning: Indexing a timezone-aware DatetimeIndex with a timezone-naive datetime is deprecated and will raise KeyError in a future version. Use a timezone-aware object instead.\n",
      "  m1 = info.truncate(before=pd.Timestamp('today') - pd.DateOffset(months=1))\n"
     ]
    },
    {
     "name": "stdout",
     "output_type": "stream",
     "text": [
      "0.6863918304443359\n"
     ]
    },
    {
     "name": "stderr",
     "output_type": "stream",
     "text": [
      "<ipython-input-6-ba13226fe2c3>:41: FutureWarning: Indexing a timezone-aware DatetimeIndex with a timezone-naive datetime is deprecated and will raise KeyError in a future version. Use a timezone-aware object instead.\n",
      "  y = info.truncate(before=pd.Timestamp('today') - pd.DateOffset(months=12))\n",
      "<ipython-input-6-ba13226fe2c3>:42: FutureWarning: Indexing a timezone-aware DatetimeIndex with a timezone-naive datetime is deprecated and will raise KeyError in a future version. Use a timezone-aware object instead.\n",
      "  m6 = info.truncate(before=pd.Timestamp('today') - pd.DateOffset(months=6))\n",
      "<ipython-input-6-ba13226fe2c3>:43: FutureWarning: Indexing a timezone-aware DatetimeIndex with a timezone-naive datetime is deprecated and will raise KeyError in a future version. Use a timezone-aware object instead.\n",
      "  m3 = info.truncate(before=pd.Timestamp('today') - pd.DateOffset(months=3))\n",
      "<ipython-input-6-ba13226fe2c3>:44: FutureWarning: Indexing a timezone-aware DatetimeIndex with a timezone-naive datetime is deprecated and will raise KeyError in a future version. Use a timezone-aware object instead.\n",
      "  m1 = info.truncate(before=pd.Timestamp('today') - pd.DateOffset(months=1))\n"
     ]
    },
    {
     "name": "stdout",
     "output_type": "stream",
     "text": [
      "0.5533287525177002\n"
     ]
    },
    {
     "name": "stderr",
     "output_type": "stream",
     "text": [
      "<ipython-input-6-ba13226fe2c3>:41: FutureWarning: Indexing a timezone-aware DatetimeIndex with a timezone-naive datetime is deprecated and will raise KeyError in a future version. Use a timezone-aware object instead.\n",
      "  y = info.truncate(before=pd.Timestamp('today') - pd.DateOffset(months=12))\n",
      "<ipython-input-6-ba13226fe2c3>:42: FutureWarning: Indexing a timezone-aware DatetimeIndex with a timezone-naive datetime is deprecated and will raise KeyError in a future version. Use a timezone-aware object instead.\n",
      "  m6 = info.truncate(before=pd.Timestamp('today') - pd.DateOffset(months=6))\n",
      "<ipython-input-6-ba13226fe2c3>:43: FutureWarning: Indexing a timezone-aware DatetimeIndex with a timezone-naive datetime is deprecated and will raise KeyError in a future version. Use a timezone-aware object instead.\n",
      "  m3 = info.truncate(before=pd.Timestamp('today') - pd.DateOffset(months=3))\n",
      "<ipython-input-6-ba13226fe2c3>:44: FutureWarning: Indexing a timezone-aware DatetimeIndex with a timezone-naive datetime is deprecated and will raise KeyError in a future version. Use a timezone-aware object instead.\n",
      "  m1 = info.truncate(before=pd.Timestamp('today') - pd.DateOffset(months=1))\n"
     ]
    },
    {
     "name": "stdout",
     "output_type": "stream",
     "text": [
      "0.7040231227874756\n"
     ]
    },
    {
     "name": "stderr",
     "output_type": "stream",
     "text": [
      "<ipython-input-6-ba13226fe2c3>:41: FutureWarning: Indexing a timezone-aware DatetimeIndex with a timezone-naive datetime is deprecated and will raise KeyError in a future version. Use a timezone-aware object instead.\n",
      "  y = info.truncate(before=pd.Timestamp('today') - pd.DateOffset(months=12))\n",
      "<ipython-input-6-ba13226fe2c3>:42: FutureWarning: Indexing a timezone-aware DatetimeIndex with a timezone-naive datetime is deprecated and will raise KeyError in a future version. Use a timezone-aware object instead.\n",
      "  m6 = info.truncate(before=pd.Timestamp('today') - pd.DateOffset(months=6))\n",
      "<ipython-input-6-ba13226fe2c3>:43: FutureWarning: Indexing a timezone-aware DatetimeIndex with a timezone-naive datetime is deprecated and will raise KeyError in a future version. Use a timezone-aware object instead.\n",
      "  m3 = info.truncate(before=pd.Timestamp('today') - pd.DateOffset(months=3))\n",
      "<ipython-input-6-ba13226fe2c3>:44: FutureWarning: Indexing a timezone-aware DatetimeIndex with a timezone-naive datetime is deprecated and will raise KeyError in a future version. Use a timezone-aware object instead.\n",
      "  m1 = info.truncate(before=pd.Timestamp('today') - pd.DateOffset(months=1))\n",
      "<ipython-input-6-ba13226fe2c3>:11: RuntimeWarning: divide by zero encountered in log\n",
      "  reg = np.polyfit(np.log(lags), np.log(tau), 1)\n",
      "C:\\Users\\Kamen\\AppData\\Local\\Programs\\Python\\Python38\\lib\\site-packages\\numpy\\core\\_methods.py:262: RuntimeWarning: Degrees of freedom <= 0 for slice\n",
      "  ret = _var(a, axis=axis, dtype=dtype, out=out, ddof=ddof,\n",
      "C:\\Users\\Kamen\\AppData\\Local\\Programs\\Python\\Python38\\lib\\site-packages\\numpy\\core\\_methods.py:222: RuntimeWarning: invalid value encountered in true_divide\n",
      "  arrmean = um.true_divide(arrmean, div, out=arrmean, casting='unsafe',\n",
      "C:\\Users\\Kamen\\AppData\\Local\\Programs\\Python\\Python38\\lib\\site-packages\\numpy\\core\\_methods.py:254: RuntimeWarning: invalid value encountered in double_scalars\n",
      "  ret = ret.dtype.type(ret / rcount)\n"
     ]
    },
    {
     "name": "stdout",
     "output_type": "stream",
     "text": [
      "0.7051379680633545\n"
     ]
    },
    {
     "name": "stderr",
     "output_type": "stream",
     "text": [
      "<ipython-input-6-ba13226fe2c3>:41: FutureWarning: Indexing a timezone-aware DatetimeIndex with a timezone-naive datetime is deprecated and will raise KeyError in a future version. Use a timezone-aware object instead.\n",
      "  y = info.truncate(before=pd.Timestamp('today') - pd.DateOffset(months=12))\n",
      "<ipython-input-6-ba13226fe2c3>:42: FutureWarning: Indexing a timezone-aware DatetimeIndex with a timezone-naive datetime is deprecated and will raise KeyError in a future version. Use a timezone-aware object instead.\n",
      "  m6 = info.truncate(before=pd.Timestamp('today') - pd.DateOffset(months=6))\n",
      "<ipython-input-6-ba13226fe2c3>:43: FutureWarning: Indexing a timezone-aware DatetimeIndex with a timezone-naive datetime is deprecated and will raise KeyError in a future version. Use a timezone-aware object instead.\n",
      "  m3 = info.truncate(before=pd.Timestamp('today') - pd.DateOffset(months=3))\n",
      "<ipython-input-6-ba13226fe2c3>:44: FutureWarning: Indexing a timezone-aware DatetimeIndex with a timezone-naive datetime is deprecated and will raise KeyError in a future version. Use a timezone-aware object instead.\n",
      "  m1 = info.truncate(before=pd.Timestamp('today') - pd.DateOffset(months=1))\n"
     ]
    },
    {
     "name": "stdout",
     "output_type": "stream",
     "text": [
      "0.4242544174194336\n"
     ]
    },
    {
     "name": "stderr",
     "output_type": "stream",
     "text": [
      "<ipython-input-6-ba13226fe2c3>:41: FutureWarning: Indexing a timezone-aware DatetimeIndex with a timezone-naive datetime is deprecated and will raise KeyError in a future version. Use a timezone-aware object instead.\n",
      "  y = info.truncate(before=pd.Timestamp('today') - pd.DateOffset(months=12))\n",
      "<ipython-input-6-ba13226fe2c3>:42: FutureWarning: Indexing a timezone-aware DatetimeIndex with a timezone-naive datetime is deprecated and will raise KeyError in a future version. Use a timezone-aware object instead.\n",
      "  m6 = info.truncate(before=pd.Timestamp('today') - pd.DateOffset(months=6))\n",
      "<ipython-input-6-ba13226fe2c3>:43: FutureWarning: Indexing a timezone-aware DatetimeIndex with a timezone-naive datetime is deprecated and will raise KeyError in a future version. Use a timezone-aware object instead.\n",
      "  m3 = info.truncate(before=pd.Timestamp('today') - pd.DateOffset(months=3))\n",
      "<ipython-input-6-ba13226fe2c3>:44: FutureWarning: Indexing a timezone-aware DatetimeIndex with a timezone-naive datetime is deprecated and will raise KeyError in a future version. Use a timezone-aware object instead.\n",
      "  m1 = info.truncate(before=pd.Timestamp('today') - pd.DateOffset(months=1))\n",
      "C:\\Users\\Kamen\\AppData\\Local\\Programs\\Python\\Python38\\lib\\site-packages\\numpy\\core\\_methods.py:262: RuntimeWarning: Degrees of freedom <= 0 for slice\n",
      "  ret = _var(a, axis=axis, dtype=dtype, out=out, ddof=ddof,\n",
      "C:\\Users\\Kamen\\AppData\\Local\\Programs\\Python\\Python38\\lib\\site-packages\\numpy\\core\\_methods.py:222: RuntimeWarning: invalid value encountered in true_divide\n",
      "  arrmean = um.true_divide(arrmean, div, out=arrmean, casting='unsafe',\n",
      "C:\\Users\\Kamen\\AppData\\Local\\Programs\\Python\\Python38\\lib\\site-packages\\numpy\\core\\_methods.py:254: RuntimeWarning: invalid value encountered in double_scalars\n",
      "  ret = ret.dtype.type(ret / rcount)\n",
      "<ipython-input-6-ba13226fe2c3>:11: RuntimeWarning: divide by zero encountered in log\n",
      "  reg = np.polyfit(np.log(lags), np.log(tau), 1)\n"
     ]
    },
    {
     "name": "stdout",
     "output_type": "stream",
     "text": [
      "0.3222825527191162\n"
     ]
    },
    {
     "name": "stderr",
     "output_type": "stream",
     "text": [
      "<ipython-input-6-ba13226fe2c3>:41: FutureWarning: Indexing a timezone-aware DatetimeIndex with a timezone-naive datetime is deprecated and will raise KeyError in a future version. Use a timezone-aware object instead.\n",
      "  y = info.truncate(before=pd.Timestamp('today') - pd.DateOffset(months=12))\n",
      "<ipython-input-6-ba13226fe2c3>:42: FutureWarning: Indexing a timezone-aware DatetimeIndex with a timezone-naive datetime is deprecated and will raise KeyError in a future version. Use a timezone-aware object instead.\n",
      "  m6 = info.truncate(before=pd.Timestamp('today') - pd.DateOffset(months=6))\n",
      "<ipython-input-6-ba13226fe2c3>:43: FutureWarning: Indexing a timezone-aware DatetimeIndex with a timezone-naive datetime is deprecated and will raise KeyError in a future version. Use a timezone-aware object instead.\n",
      "  m3 = info.truncate(before=pd.Timestamp('today') - pd.DateOffset(months=3))\n",
      "<ipython-input-6-ba13226fe2c3>:44: FutureWarning: Indexing a timezone-aware DatetimeIndex with a timezone-naive datetime is deprecated and will raise KeyError in a future version. Use a timezone-aware object instead.\n",
      "  m1 = info.truncate(before=pd.Timestamp('today') - pd.DateOffset(months=1))\n",
      "C:\\Users\\Kamen\\AppData\\Local\\Programs\\Python\\Python38\\lib\\site-packages\\numpy\\core\\_methods.py:262: RuntimeWarning: Degrees of freedom <= 0 for slice\n",
      "  ret = _var(a, axis=axis, dtype=dtype, out=out, ddof=ddof,\n",
      "C:\\Users\\Kamen\\AppData\\Local\\Programs\\Python\\Python38\\lib\\site-packages\\numpy\\core\\_methods.py:222: RuntimeWarning: invalid value encountered in true_divide\n",
      "  arrmean = um.true_divide(arrmean, div, out=arrmean, casting='unsafe',\n",
      "C:\\Users\\Kamen\\AppData\\Local\\Programs\\Python\\Python38\\lib\\site-packages\\numpy\\core\\_methods.py:254: RuntimeWarning: invalid value encountered in double_scalars\n",
      "  ret = ret.dtype.type(ret / rcount)\n",
      "<ipython-input-6-ba13226fe2c3>:11: RuntimeWarning: divide by zero encountered in log\n",
      "  reg = np.polyfit(np.log(lags), np.log(tau), 1)\n"
     ]
    },
    {
     "name": "stdout",
     "output_type": "stream",
     "text": [
      "0.39970827102661133\n",
      "Got error from yahoo api for ticker CHSP, Error: {'code': 'Not Found', 'description': 'No data found, symbol may be delisted'}\n",
      "- CHSP: No timezone found, symbol may be delisted\n",
      "Index Error when producing momentum table\n"
     ]
    },
    {
     "name": "stderr",
     "output_type": "stream",
     "text": [
      "<ipython-input-6-ba13226fe2c3>:41: FutureWarning: Indexing a timezone-aware DatetimeIndex with a timezone-naive datetime is deprecated and will raise KeyError in a future version. Use a timezone-aware object instead.\n",
      "  y = info.truncate(before=pd.Timestamp('today') - pd.DateOffset(months=12))\n",
      "<ipython-input-6-ba13226fe2c3>:42: FutureWarning: Indexing a timezone-aware DatetimeIndex with a timezone-naive datetime is deprecated and will raise KeyError in a future version. Use a timezone-aware object instead.\n",
      "  m6 = info.truncate(before=pd.Timestamp('today') - pd.DateOffset(months=6))\n",
      "<ipython-input-6-ba13226fe2c3>:43: FutureWarning: Indexing a timezone-aware DatetimeIndex with a timezone-naive datetime is deprecated and will raise KeyError in a future version. Use a timezone-aware object instead.\n",
      "  m3 = info.truncate(before=pd.Timestamp('today') - pd.DateOffset(months=3))\n",
      "<ipython-input-6-ba13226fe2c3>:44: FutureWarning: Indexing a timezone-aware DatetimeIndex with a timezone-naive datetime is deprecated and will raise KeyError in a future version. Use a timezone-aware object instead.\n",
      "  m1 = info.truncate(before=pd.Timestamp('today') - pd.DateOffset(months=1))\n"
     ]
    },
    {
     "name": "stdout",
     "output_type": "stream",
     "text": [
      "0.7805297374725342\n"
     ]
    },
    {
     "name": "stderr",
     "output_type": "stream",
     "text": [
      "<ipython-input-6-ba13226fe2c3>:41: FutureWarning: Indexing a timezone-aware DatetimeIndex with a timezone-naive datetime is deprecated and will raise KeyError in a future version. Use a timezone-aware object instead.\n",
      "  y = info.truncate(before=pd.Timestamp('today') - pd.DateOffset(months=12))\n",
      "<ipython-input-6-ba13226fe2c3>:42: FutureWarning: Indexing a timezone-aware DatetimeIndex with a timezone-naive datetime is deprecated and will raise KeyError in a future version. Use a timezone-aware object instead.\n",
      "  m6 = info.truncate(before=pd.Timestamp('today') - pd.DateOffset(months=6))\n",
      "<ipython-input-6-ba13226fe2c3>:43: FutureWarning: Indexing a timezone-aware DatetimeIndex with a timezone-naive datetime is deprecated and will raise KeyError in a future version. Use a timezone-aware object instead.\n",
      "  m3 = info.truncate(before=pd.Timestamp('today') - pd.DateOffset(months=3))\n",
      "<ipython-input-6-ba13226fe2c3>:44: FutureWarning: Indexing a timezone-aware DatetimeIndex with a timezone-naive datetime is deprecated and will raise KeyError in a future version. Use a timezone-aware object instead.\n",
      "  m1 = info.truncate(before=pd.Timestamp('today') - pd.DateOffset(months=1))\n"
     ]
    },
    {
     "name": "stdout",
     "output_type": "stream",
     "text": [
      "0.8052768707275391\n"
     ]
    },
    {
     "name": "stderr",
     "output_type": "stream",
     "text": [
      "<ipython-input-6-ba13226fe2c3>:41: FutureWarning: Indexing a timezone-aware DatetimeIndex with a timezone-naive datetime is deprecated and will raise KeyError in a future version. Use a timezone-aware object instead.\n",
      "  y = info.truncate(before=pd.Timestamp('today') - pd.DateOffset(months=12))\n",
      "<ipython-input-6-ba13226fe2c3>:42: FutureWarning: Indexing a timezone-aware DatetimeIndex with a timezone-naive datetime is deprecated and will raise KeyError in a future version. Use a timezone-aware object instead.\n",
      "  m6 = info.truncate(before=pd.Timestamp('today') - pd.DateOffset(months=6))\n",
      "<ipython-input-6-ba13226fe2c3>:43: FutureWarning: Indexing a timezone-aware DatetimeIndex with a timezone-naive datetime is deprecated and will raise KeyError in a future version. Use a timezone-aware object instead.\n",
      "  m3 = info.truncate(before=pd.Timestamp('today') - pd.DateOffset(months=3))\n",
      "<ipython-input-6-ba13226fe2c3>:44: FutureWarning: Indexing a timezone-aware DatetimeIndex with a timezone-naive datetime is deprecated and will raise KeyError in a future version. Use a timezone-aware object instead.\n",
      "  m1 = info.truncate(before=pd.Timestamp('today') - pd.DateOffset(months=1))\n"
     ]
    },
    {
     "name": "stdout",
     "output_type": "stream",
     "text": [
      "0.5226969718933105\n"
     ]
    },
    {
     "name": "stderr",
     "output_type": "stream",
     "text": [
      "<ipython-input-6-ba13226fe2c3>:41: FutureWarning: Indexing a timezone-aware DatetimeIndex with a timezone-naive datetime is deprecated and will raise KeyError in a future version. Use a timezone-aware object instead.\n",
      "  y = info.truncate(before=pd.Timestamp('today') - pd.DateOffset(months=12))\n",
      "<ipython-input-6-ba13226fe2c3>:42: FutureWarning: Indexing a timezone-aware DatetimeIndex with a timezone-naive datetime is deprecated and will raise KeyError in a future version. Use a timezone-aware object instead.\n",
      "  m6 = info.truncate(before=pd.Timestamp('today') - pd.DateOffset(months=6))\n",
      "<ipython-input-6-ba13226fe2c3>:43: FutureWarning: Indexing a timezone-aware DatetimeIndex with a timezone-naive datetime is deprecated and will raise KeyError in a future version. Use a timezone-aware object instead.\n",
      "  m3 = info.truncate(before=pd.Timestamp('today') - pd.DateOffset(months=3))\n",
      "<ipython-input-6-ba13226fe2c3>:44: FutureWarning: Indexing a timezone-aware DatetimeIndex with a timezone-naive datetime is deprecated and will raise KeyError in a future version. Use a timezone-aware object instead.\n",
      "  m1 = info.truncate(before=pd.Timestamp('today') - pd.DateOffset(months=1))\n"
     ]
    },
    {
     "name": "stdout",
     "output_type": "stream",
     "text": [
      "0.5158729553222656\n"
     ]
    },
    {
     "name": "stderr",
     "output_type": "stream",
     "text": [
      "<ipython-input-6-ba13226fe2c3>:41: FutureWarning: Indexing a timezone-aware DatetimeIndex with a timezone-naive datetime is deprecated and will raise KeyError in a future version. Use a timezone-aware object instead.\n",
      "  y = info.truncate(before=pd.Timestamp('today') - pd.DateOffset(months=12))\n",
      "<ipython-input-6-ba13226fe2c3>:42: FutureWarning: Indexing a timezone-aware DatetimeIndex with a timezone-naive datetime is deprecated and will raise KeyError in a future version. Use a timezone-aware object instead.\n",
      "  m6 = info.truncate(before=pd.Timestamp('today') - pd.DateOffset(months=6))\n",
      "<ipython-input-6-ba13226fe2c3>:43: FutureWarning: Indexing a timezone-aware DatetimeIndex with a timezone-naive datetime is deprecated and will raise KeyError in a future version. Use a timezone-aware object instead.\n",
      "  m3 = info.truncate(before=pd.Timestamp('today') - pd.DateOffset(months=3))\n",
      "<ipython-input-6-ba13226fe2c3>:44: FutureWarning: Indexing a timezone-aware DatetimeIndex with a timezone-naive datetime is deprecated and will raise KeyError in a future version. Use a timezone-aware object instead.\n",
      "  m1 = info.truncate(before=pd.Timestamp('today') - pd.DateOffset(months=1))\n"
     ]
    },
    {
     "name": "stdout",
     "output_type": "stream",
     "text": [
      "0.5516388416290283\n"
     ]
    },
    {
     "name": "stderr",
     "output_type": "stream",
     "text": [
      "<ipython-input-6-ba13226fe2c3>:41: FutureWarning: Indexing a timezone-aware DatetimeIndex with a timezone-naive datetime is deprecated and will raise KeyError in a future version. Use a timezone-aware object instead.\n",
      "  y = info.truncate(before=pd.Timestamp('today') - pd.DateOffset(months=12))\n",
      "<ipython-input-6-ba13226fe2c3>:42: FutureWarning: Indexing a timezone-aware DatetimeIndex with a timezone-naive datetime is deprecated and will raise KeyError in a future version. Use a timezone-aware object instead.\n",
      "  m6 = info.truncate(before=pd.Timestamp('today') - pd.DateOffset(months=6))\n",
      "<ipython-input-6-ba13226fe2c3>:43: FutureWarning: Indexing a timezone-aware DatetimeIndex with a timezone-naive datetime is deprecated and will raise KeyError in a future version. Use a timezone-aware object instead.\n",
      "  m3 = info.truncate(before=pd.Timestamp('today') - pd.DateOffset(months=3))\n",
      "<ipython-input-6-ba13226fe2c3>:44: FutureWarning: Indexing a timezone-aware DatetimeIndex with a timezone-naive datetime is deprecated and will raise KeyError in a future version. Use a timezone-aware object instead.\n",
      "  m1 = info.truncate(before=pd.Timestamp('today') - pd.DateOffset(months=1))\n"
     ]
    },
    {
     "name": "stdout",
     "output_type": "stream",
     "text": [
      "0.5077729225158691\n",
      "STV: 1d data not available for startTime=-2208994789 and endTime=1673461847. Only 100 years worth of day granularity data are allowed to be fetched per request.\n",
      "Index Error when producing momentum table\n",
      "Got error from yahoo api for ticker DL, Error: {'code': 'Not Found', 'description': 'No data found, symbol may be delisted'}\n",
      "- DL: No timezone found, symbol may be delisted\n",
      "Index Error when producing momentum table\n"
     ]
    },
    {
     "name": "stderr",
     "output_type": "stream",
     "text": [
      "<ipython-input-6-ba13226fe2c3>:41: FutureWarning: Indexing a timezone-aware DatetimeIndex with a timezone-naive datetime is deprecated and will raise KeyError in a future version. Use a timezone-aware object instead.\n",
      "  y = info.truncate(before=pd.Timestamp('today') - pd.DateOffset(months=12))\n",
      "<ipython-input-6-ba13226fe2c3>:42: FutureWarning: Indexing a timezone-aware DatetimeIndex with a timezone-naive datetime is deprecated and will raise KeyError in a future version. Use a timezone-aware object instead.\n",
      "  m6 = info.truncate(before=pd.Timestamp('today') - pd.DateOffset(months=6))\n",
      "<ipython-input-6-ba13226fe2c3>:43: FutureWarning: Indexing a timezone-aware DatetimeIndex with a timezone-naive datetime is deprecated and will raise KeyError in a future version. Use a timezone-aware object instead.\n",
      "  m3 = info.truncate(before=pd.Timestamp('today') - pd.DateOffset(months=3))\n",
      "<ipython-input-6-ba13226fe2c3>:44: FutureWarning: Indexing a timezone-aware DatetimeIndex with a timezone-naive datetime is deprecated and will raise KeyError in a future version. Use a timezone-aware object instead.\n",
      "  m1 = info.truncate(before=pd.Timestamp('today') - pd.DateOffset(months=1))\n"
     ]
    },
    {
     "name": "stdout",
     "output_type": "stream",
     "text": [
      "0.6864187717437744\n"
     ]
    },
    {
     "name": "stderr",
     "output_type": "stream",
     "text": [
      "<ipython-input-6-ba13226fe2c3>:41: FutureWarning: Indexing a timezone-aware DatetimeIndex with a timezone-naive datetime is deprecated and will raise KeyError in a future version. Use a timezone-aware object instead.\n",
      "  y = info.truncate(before=pd.Timestamp('today') - pd.DateOffset(months=12))\n",
      "<ipython-input-6-ba13226fe2c3>:42: FutureWarning: Indexing a timezone-aware DatetimeIndex with a timezone-naive datetime is deprecated and will raise KeyError in a future version. Use a timezone-aware object instead.\n",
      "  m6 = info.truncate(before=pd.Timestamp('today') - pd.DateOffset(months=6))\n",
      "<ipython-input-6-ba13226fe2c3>:43: FutureWarning: Indexing a timezone-aware DatetimeIndex with a timezone-naive datetime is deprecated and will raise KeyError in a future version. Use a timezone-aware object instead.\n",
      "  m3 = info.truncate(before=pd.Timestamp('today') - pd.DateOffset(months=3))\n",
      "<ipython-input-6-ba13226fe2c3>:44: FutureWarning: Indexing a timezone-aware DatetimeIndex with a timezone-naive datetime is deprecated and will raise KeyError in a future version. Use a timezone-aware object instead.\n",
      "  m1 = info.truncate(before=pd.Timestamp('today') - pd.DateOffset(months=1))\n"
     ]
    },
    {
     "name": "stdout",
     "output_type": "stream",
     "text": [
      "0.4583556652069092\n",
      "Got error from yahoo api for ticker LFC, Error: {'code': 'Not Found', 'description': 'No data found, symbol may be delisted'}\n",
      "- LFC: No timezone found, symbol may be delisted\n",
      "Index Error when producing momentum table\n",
      "MY: 1d data not available for startTime=-2208994789 and endTime=1673461849. Only 100 years worth of day granularity data are allowed to be fetched per request.\n",
      "Index Error when producing momentum table\n",
      "Got error from yahoo api for ticker CHL, Error: {'code': 'Not Found', 'description': 'No data found, symbol may be delisted'}\n",
      "- CHL: No timezone found, symbol may be delisted\n",
      "Index Error when producing momentum table\n",
      "NPD: 1d data not available for startTime=-2208994789 and endTime=1673461849. Only 100 years worth of day granularity data are allowed to be fetched per request.\n",
      "Index Error when producing momentum table\n",
      "Got error from yahoo api for ticker BORN, Error: {'code': 'Not Found', 'description': 'No data found, symbol may be delisted'}\n",
      "- BORN: No timezone found, symbol may be delisted\n",
      "Index Error when producing momentum table\n",
      "Got error from yahoo api for ticker SNP, Error: {'code': 'Not Found', 'description': 'No data found, symbol may be delisted'}\n",
      "- SNP: No timezone found, symbol may be delisted\n",
      "Index Error when producing momentum table\n"
     ]
    },
    {
     "name": "stderr",
     "output_type": "stream",
     "text": [
      "<ipython-input-6-ba13226fe2c3>:41: FutureWarning: Indexing a timezone-aware DatetimeIndex with a timezone-naive datetime is deprecated and will raise KeyError in a future version. Use a timezone-aware object instead.\n",
      "  y = info.truncate(before=pd.Timestamp('today') - pd.DateOffset(months=12))\n",
      "<ipython-input-6-ba13226fe2c3>:42: FutureWarning: Indexing a timezone-aware DatetimeIndex with a timezone-naive datetime is deprecated and will raise KeyError in a future version. Use a timezone-aware object instead.\n",
      "  m6 = info.truncate(before=pd.Timestamp('today') - pd.DateOffset(months=6))\n",
      "<ipython-input-6-ba13226fe2c3>:43: FutureWarning: Indexing a timezone-aware DatetimeIndex with a timezone-naive datetime is deprecated and will raise KeyError in a future version. Use a timezone-aware object instead.\n",
      "  m3 = info.truncate(before=pd.Timestamp('today') - pd.DateOffset(months=3))\n",
      "<ipython-input-6-ba13226fe2c3>:44: FutureWarning: Indexing a timezone-aware DatetimeIndex with a timezone-naive datetime is deprecated and will raise KeyError in a future version. Use a timezone-aware object instead.\n",
      "  m1 = info.truncate(before=pd.Timestamp('today') - pd.DateOffset(months=1))\n"
     ]
    },
    {
     "name": "stdout",
     "output_type": "stream",
     "text": [
      "0.6251106262207031\n",
      "Got error from yahoo api for ticker CHA, Error: {'code': 'Not Found', 'description': 'No data found, symbol may be delisted'}\n",
      "- CHA: No timezone found, symbol may be delisted\n",
      "Index Error when producing momentum table\n",
      "Got error from yahoo api for ticker CHU, Error: {'code': 'Not Found', 'description': 'No data found, symbol may be delisted'}\n",
      "- CHU: No timezone found, symbol may be delisted\n",
      "Index Error when producing momentum table\n",
      "XNY: 1d data not available for startTime=-2208994789 and endTime=1673461851. Only 100 years worth of day granularity data are allowed to be fetched per request.\n",
      "Index Error when producing momentum table\n"
     ]
    },
    {
     "name": "stderr",
     "output_type": "stream",
     "text": [
      "<ipython-input-6-ba13226fe2c3>:41: FutureWarning: Indexing a timezone-aware DatetimeIndex with a timezone-naive datetime is deprecated and will raise KeyError in a future version. Use a timezone-aware object instead.\n",
      "  y = info.truncate(before=pd.Timestamp('today') - pd.DateOffset(months=12))\n",
      "<ipython-input-6-ba13226fe2c3>:42: FutureWarning: Indexing a timezone-aware DatetimeIndex with a timezone-naive datetime is deprecated and will raise KeyError in a future version. Use a timezone-aware object instead.\n",
      "  m6 = info.truncate(before=pd.Timestamp('today') - pd.DateOffset(months=6))\n",
      "<ipython-input-6-ba13226fe2c3>:43: FutureWarning: Indexing a timezone-aware DatetimeIndex with a timezone-naive datetime is deprecated and will raise KeyError in a future version. Use a timezone-aware object instead.\n",
      "  m3 = info.truncate(before=pd.Timestamp('today') - pd.DateOffset(months=3))\n",
      "<ipython-input-6-ba13226fe2c3>:44: FutureWarning: Indexing a timezone-aware DatetimeIndex with a timezone-naive datetime is deprecated and will raise KeyError in a future version. Use a timezone-aware object instead.\n",
      "  m1 = info.truncate(before=pd.Timestamp('today') - pd.DateOffset(months=1))\n"
     ]
    },
    {
     "name": "stdout",
     "output_type": "stream",
     "text": [
      "0.6482796669006348\n",
      "ZX: 1d data not available for startTime=-2208994789 and endTime=1673461852. Only 100 years worth of day granularity data are allowed to be fetched per request.\n",
      "Index Error when producing momentum table\n"
     ]
    },
    {
     "name": "stderr",
     "output_type": "stream",
     "text": [
      "<ipython-input-6-ba13226fe2c3>:41: FutureWarning: Indexing a timezone-aware DatetimeIndex with a timezone-naive datetime is deprecated and will raise KeyError in a future version. Use a timezone-aware object instead.\n",
      "  y = info.truncate(before=pd.Timestamp('today') - pd.DateOffset(months=12))\n",
      "<ipython-input-6-ba13226fe2c3>:42: FutureWarning: Indexing a timezone-aware DatetimeIndex with a timezone-naive datetime is deprecated and will raise KeyError in a future version. Use a timezone-aware object instead.\n",
      "  m6 = info.truncate(before=pd.Timestamp('today') - pd.DateOffset(months=6))\n",
      "<ipython-input-6-ba13226fe2c3>:43: FutureWarning: Indexing a timezone-aware DatetimeIndex with a timezone-naive datetime is deprecated and will raise KeyError in a future version. Use a timezone-aware object instead.\n",
      "  m3 = info.truncate(before=pd.Timestamp('today') - pd.DateOffset(months=3))\n",
      "<ipython-input-6-ba13226fe2c3>:44: FutureWarning: Indexing a timezone-aware DatetimeIndex with a timezone-naive datetime is deprecated and will raise KeyError in a future version. Use a timezone-aware object instead.\n",
      "  m1 = info.truncate(before=pd.Timestamp('today') - pd.DateOffset(months=1))\n"
     ]
    },
    {
     "name": "stdout",
     "output_type": "stream",
     "text": [
      "0.390958309173584\n",
      "CQB: 1d data not available for startTime=-2208994789 and endTime=1673461853. Only 100 years worth of day granularity data are allowed to be fetched per request.\n",
      "Index Error when producing momentum table\n"
     ]
    },
    {
     "name": "stderr",
     "output_type": "stream",
     "text": [
      "<ipython-input-6-ba13226fe2c3>:41: FutureWarning: Indexing a timezone-aware DatetimeIndex with a timezone-naive datetime is deprecated and will raise KeyError in a future version. Use a timezone-aware object instead.\n",
      "  y = info.truncate(before=pd.Timestamp('today') - pd.DateOffset(months=12))\n",
      "<ipython-input-6-ba13226fe2c3>:42: FutureWarning: Indexing a timezone-aware DatetimeIndex with a timezone-naive datetime is deprecated and will raise KeyError in a future version. Use a timezone-aware object instead.\n",
      "  m6 = info.truncate(before=pd.Timestamp('today') - pd.DateOffset(months=6))\n",
      "<ipython-input-6-ba13226fe2c3>:43: FutureWarning: Indexing a timezone-aware DatetimeIndex with a timezone-naive datetime is deprecated and will raise KeyError in a future version. Use a timezone-aware object instead.\n",
      "  m3 = info.truncate(before=pd.Timestamp('today') - pd.DateOffset(months=3))\n",
      "<ipython-input-6-ba13226fe2c3>:44: FutureWarning: Indexing a timezone-aware DatetimeIndex with a timezone-naive datetime is deprecated and will raise KeyError in a future version. Use a timezone-aware object instead.\n",
      "  m1 = info.truncate(before=pd.Timestamp('today') - pd.DateOffset(months=1))\n"
     ]
    },
    {
     "name": "stdout",
     "output_type": "stream",
     "text": [
      "0.5048935413360596\n",
      "Got error from yahoo api for ticker CBK, Error: {'code': 'Not Found', 'description': 'No data found, symbol may be delisted'}\n",
      "- CBK: No timezone found, symbol may be delisted\n",
      "Index Error when producing momentum table\n"
     ]
    },
    {
     "name": "stderr",
     "output_type": "stream",
     "text": [
      "<ipython-input-6-ba13226fe2c3>:41: FutureWarning: Indexing a timezone-aware DatetimeIndex with a timezone-naive datetime is deprecated and will raise KeyError in a future version. Use a timezone-aware object instead.\n",
      "  y = info.truncate(before=pd.Timestamp('today') - pd.DateOffset(months=12))\n",
      "<ipython-input-6-ba13226fe2c3>:42: FutureWarning: Indexing a timezone-aware DatetimeIndex with a timezone-naive datetime is deprecated and will raise KeyError in a future version. Use a timezone-aware object instead.\n",
      "  m6 = info.truncate(before=pd.Timestamp('today') - pd.DateOffset(months=6))\n",
      "<ipython-input-6-ba13226fe2c3>:43: FutureWarning: Indexing a timezone-aware DatetimeIndex with a timezone-naive datetime is deprecated and will raise KeyError in a future version. Use a timezone-aware object instead.\n",
      "  m3 = info.truncate(before=pd.Timestamp('today') - pd.DateOffset(months=3))\n",
      "<ipython-input-6-ba13226fe2c3>:44: FutureWarning: Indexing a timezone-aware DatetimeIndex with a timezone-naive datetime is deprecated and will raise KeyError in a future version. Use a timezone-aware object instead.\n",
      "  m1 = info.truncate(before=pd.Timestamp('today') - pd.DateOffset(months=1))\n"
     ]
    },
    {
     "name": "stdout",
     "output_type": "stream",
     "text": [
      "0.7022223472595215\n"
     ]
    },
    {
     "name": "stderr",
     "output_type": "stream",
     "text": [
      "<ipython-input-6-ba13226fe2c3>:41: FutureWarning: Indexing a timezone-aware DatetimeIndex with a timezone-naive datetime is deprecated and will raise KeyError in a future version. Use a timezone-aware object instead.\n",
      "  y = info.truncate(before=pd.Timestamp('today') - pd.DateOffset(months=12))\n",
      "<ipython-input-6-ba13226fe2c3>:42: FutureWarning: Indexing a timezone-aware DatetimeIndex with a timezone-naive datetime is deprecated and will raise KeyError in a future version. Use a timezone-aware object instead.\n",
      "  m6 = info.truncate(before=pd.Timestamp('today') - pd.DateOffset(months=6))\n",
      "<ipython-input-6-ba13226fe2c3>:43: FutureWarning: Indexing a timezone-aware DatetimeIndex with a timezone-naive datetime is deprecated and will raise KeyError in a future version. Use a timezone-aware object instead.\n",
      "  m3 = info.truncate(before=pd.Timestamp('today') - pd.DateOffset(months=3))\n",
      "<ipython-input-6-ba13226fe2c3>:44: FutureWarning: Indexing a timezone-aware DatetimeIndex with a timezone-naive datetime is deprecated and will raise KeyError in a future version. Use a timezone-aware object instead.\n",
      "  m1 = info.truncate(before=pd.Timestamp('today') - pd.DateOffset(months=1))\n"
     ]
    },
    {
     "name": "stdout",
     "output_type": "stream",
     "text": [
      "0.44865918159484863\n"
     ]
    },
    {
     "name": "stderr",
     "output_type": "stream",
     "text": [
      "<ipython-input-6-ba13226fe2c3>:41: FutureWarning: Indexing a timezone-aware DatetimeIndex with a timezone-naive datetime is deprecated and will raise KeyError in a future version. Use a timezone-aware object instead.\n",
      "  y = info.truncate(before=pd.Timestamp('today') - pd.DateOffset(months=12))\n",
      "<ipython-input-6-ba13226fe2c3>:42: FutureWarning: Indexing a timezone-aware DatetimeIndex with a timezone-naive datetime is deprecated and will raise KeyError in a future version. Use a timezone-aware object instead.\n",
      "  m6 = info.truncate(before=pd.Timestamp('today') - pd.DateOffset(months=6))\n",
      "<ipython-input-6-ba13226fe2c3>:43: FutureWarning: Indexing a timezone-aware DatetimeIndex with a timezone-naive datetime is deprecated and will raise KeyError in a future version. Use a timezone-aware object instead.\n",
      "  m3 = info.truncate(before=pd.Timestamp('today') - pd.DateOffset(months=3))\n",
      "<ipython-input-6-ba13226fe2c3>:44: FutureWarning: Indexing a timezone-aware DatetimeIndex with a timezone-naive datetime is deprecated and will raise KeyError in a future version. Use a timezone-aware object instead.\n",
      "  m1 = info.truncate(before=pd.Timestamp('today') - pd.DateOffset(months=1))\n"
     ]
    },
    {
     "name": "stdout",
     "output_type": "stream",
     "text": [
      "0.6010773181915283\n"
     ]
    },
    {
     "name": "stderr",
     "output_type": "stream",
     "text": [
      "<ipython-input-6-ba13226fe2c3>:41: FutureWarning: Indexing a timezone-aware DatetimeIndex with a timezone-naive datetime is deprecated and will raise KeyError in a future version. Use a timezone-aware object instead.\n",
      "  y = info.truncate(before=pd.Timestamp('today') - pd.DateOffset(months=12))\n",
      "<ipython-input-6-ba13226fe2c3>:42: FutureWarning: Indexing a timezone-aware DatetimeIndex with a timezone-naive datetime is deprecated and will raise KeyError in a future version. Use a timezone-aware object instead.\n",
      "  m6 = info.truncate(before=pd.Timestamp('today') - pd.DateOffset(months=6))\n",
      "<ipython-input-6-ba13226fe2c3>:43: FutureWarning: Indexing a timezone-aware DatetimeIndex with a timezone-naive datetime is deprecated and will raise KeyError in a future version. Use a timezone-aware object instead.\n",
      "  m3 = info.truncate(before=pd.Timestamp('today') - pd.DateOffset(months=3))\n",
      "<ipython-input-6-ba13226fe2c3>:44: FutureWarning: Indexing a timezone-aware DatetimeIndex with a timezone-naive datetime is deprecated and will raise KeyError in a future version. Use a timezone-aware object instead.\n",
      "  m1 = info.truncate(before=pd.Timestamp('today') - pd.DateOffset(months=1))\n"
     ]
    },
    {
     "name": "stdout",
     "output_type": "stream",
     "text": [
      "0.7331433296203613\n"
     ]
    },
    {
     "name": "stderr",
     "output_type": "stream",
     "text": [
      "<ipython-input-6-ba13226fe2c3>:41: FutureWarning: Indexing a timezone-aware DatetimeIndex with a timezone-naive datetime is deprecated and will raise KeyError in a future version. Use a timezone-aware object instead.\n",
      "  y = info.truncate(before=pd.Timestamp('today') - pd.DateOffset(months=12))\n",
      "<ipython-input-6-ba13226fe2c3>:42: FutureWarning: Indexing a timezone-aware DatetimeIndex with a timezone-naive datetime is deprecated and will raise KeyError in a future version. Use a timezone-aware object instead.\n",
      "  m6 = info.truncate(before=pd.Timestamp('today') - pd.DateOffset(months=6))\n",
      "<ipython-input-6-ba13226fe2c3>:43: FutureWarning: Indexing a timezone-aware DatetimeIndex with a timezone-naive datetime is deprecated and will raise KeyError in a future version. Use a timezone-aware object instead.\n",
      "  m3 = info.truncate(before=pd.Timestamp('today') - pd.DateOffset(months=3))\n",
      "<ipython-input-6-ba13226fe2c3>:44: FutureWarning: Indexing a timezone-aware DatetimeIndex with a timezone-naive datetime is deprecated and will raise KeyError in a future version. Use a timezone-aware object instead.\n",
      "  m1 = info.truncate(before=pd.Timestamp('today') - pd.DateOffset(months=1))\n"
     ]
    },
    {
     "name": "stdout",
     "output_type": "stream",
     "text": [
      "0.6787664890289307\n",
      "Got error from yahoo api for ticker CBB, Error: {'code': 'Not Found', 'description': 'No data found, symbol may be delisted'}\n",
      "- CBB: No timezone found, symbol may be delisted\n",
      "Index Error when producing momentum table\n"
     ]
    },
    {
     "name": "stderr",
     "output_type": "stream",
     "text": [
      "<ipython-input-6-ba13226fe2c3>:41: FutureWarning: Indexing a timezone-aware DatetimeIndex with a timezone-naive datetime is deprecated and will raise KeyError in a future version. Use a timezone-aware object instead.\n",
      "  y = info.truncate(before=pd.Timestamp('today') - pd.DateOffset(months=12))\n",
      "<ipython-input-6-ba13226fe2c3>:42: FutureWarning: Indexing a timezone-aware DatetimeIndex with a timezone-naive datetime is deprecated and will raise KeyError in a future version. Use a timezone-aware object instead.\n",
      "  m6 = info.truncate(before=pd.Timestamp('today') - pd.DateOffset(months=6))\n",
      "<ipython-input-6-ba13226fe2c3>:43: FutureWarning: Indexing a timezone-aware DatetimeIndex with a timezone-naive datetime is deprecated and will raise KeyError in a future version. Use a timezone-aware object instead.\n",
      "  m3 = info.truncate(before=pd.Timestamp('today') - pd.DateOffset(months=3))\n",
      "<ipython-input-6-ba13226fe2c3>:44: FutureWarning: Indexing a timezone-aware DatetimeIndex with a timezone-naive datetime is deprecated and will raise KeyError in a future version. Use a timezone-aware object instead.\n",
      "  m1 = info.truncate(before=pd.Timestamp('today') - pd.DateOffset(months=1))\n"
     ]
    },
    {
     "name": "stdout",
     "output_type": "stream",
     "text": [
      "0.45339059829711914\n"
     ]
    },
    {
     "name": "stderr",
     "output_type": "stream",
     "text": [
      "<ipython-input-6-ba13226fe2c3>:41: FutureWarning: Indexing a timezone-aware DatetimeIndex with a timezone-naive datetime is deprecated and will raise KeyError in a future version. Use a timezone-aware object instead.\n",
      "  y = info.truncate(before=pd.Timestamp('today') - pd.DateOffset(months=12))\n",
      "<ipython-input-6-ba13226fe2c3>:42: FutureWarning: Indexing a timezone-aware DatetimeIndex with a timezone-naive datetime is deprecated and will raise KeyError in a future version. Use a timezone-aware object instead.\n",
      "  m6 = info.truncate(before=pd.Timestamp('today') - pd.DateOffset(months=6))\n",
      "<ipython-input-6-ba13226fe2c3>:43: FutureWarning: Indexing a timezone-aware DatetimeIndex with a timezone-naive datetime is deprecated and will raise KeyError in a future version. Use a timezone-aware object instead.\n",
      "  m3 = info.truncate(before=pd.Timestamp('today') - pd.DateOffset(months=3))\n",
      "<ipython-input-6-ba13226fe2c3>:44: FutureWarning: Indexing a timezone-aware DatetimeIndex with a timezone-naive datetime is deprecated and will raise KeyError in a future version. Use a timezone-aware object instead.\n",
      "  m1 = info.truncate(before=pd.Timestamp('today') - pd.DateOffset(months=1))\n"
     ]
    },
    {
     "name": "stdout",
     "output_type": "stream",
     "text": [
      "0.48023462295532227\n"
     ]
    },
    {
     "name": "stderr",
     "output_type": "stream",
     "text": [
      "<ipython-input-6-ba13226fe2c3>:41: FutureWarning: Indexing a timezone-aware DatetimeIndex with a timezone-naive datetime is deprecated and will raise KeyError in a future version. Use a timezone-aware object instead.\n",
      "  y = info.truncate(before=pd.Timestamp('today') - pd.DateOffset(months=12))\n",
      "<ipython-input-6-ba13226fe2c3>:42: FutureWarning: Indexing a timezone-aware DatetimeIndex with a timezone-naive datetime is deprecated and will raise KeyError in a future version. Use a timezone-aware object instead.\n",
      "  m6 = info.truncate(before=pd.Timestamp('today') - pd.DateOffset(months=6))\n",
      "<ipython-input-6-ba13226fe2c3>:43: FutureWarning: Indexing a timezone-aware DatetimeIndex with a timezone-naive datetime is deprecated and will raise KeyError in a future version. Use a timezone-aware object instead.\n",
      "  m3 = info.truncate(before=pd.Timestamp('today') - pd.DateOffset(months=3))\n",
      "<ipython-input-6-ba13226fe2c3>:44: FutureWarning: Indexing a timezone-aware DatetimeIndex with a timezone-naive datetime is deprecated and will raise KeyError in a future version. Use a timezone-aware object instead.\n",
      "  m1 = info.truncate(before=pd.Timestamp('today') - pd.DateOffset(months=1))\n"
     ]
    },
    {
     "name": "stdout",
     "output_type": "stream",
     "text": [
      "0.767298698425293\n"
     ]
    },
    {
     "name": "stderr",
     "output_type": "stream",
     "text": [
      "<ipython-input-6-ba13226fe2c3>:41: FutureWarning: Indexing a timezone-aware DatetimeIndex with a timezone-naive datetime is deprecated and will raise KeyError in a future version. Use a timezone-aware object instead.\n",
      "  y = info.truncate(before=pd.Timestamp('today') - pd.DateOffset(months=12))\n",
      "<ipython-input-6-ba13226fe2c3>:42: FutureWarning: Indexing a timezone-aware DatetimeIndex with a timezone-naive datetime is deprecated and will raise KeyError in a future version. Use a timezone-aware object instead.\n",
      "  m6 = info.truncate(before=pd.Timestamp('today') - pd.DateOffset(months=6))\n",
      "<ipython-input-6-ba13226fe2c3>:43: FutureWarning: Indexing a timezone-aware DatetimeIndex with a timezone-naive datetime is deprecated and will raise KeyError in a future version. Use a timezone-aware object instead.\n",
      "  m3 = info.truncate(before=pd.Timestamp('today') - pd.DateOffset(months=3))\n",
      "<ipython-input-6-ba13226fe2c3>:44: FutureWarning: Indexing a timezone-aware DatetimeIndex with a timezone-naive datetime is deprecated and will raise KeyError in a future version. Use a timezone-aware object instead.\n",
      "  m1 = info.truncate(before=pd.Timestamp('today') - pd.DateOffset(months=1))\n"
     ]
    },
    {
     "name": "stdout",
     "output_type": "stream",
     "text": [
      "0.6330835819244385\n"
     ]
    },
    {
     "name": "stderr",
     "output_type": "stream",
     "text": [
      "<ipython-input-6-ba13226fe2c3>:41: FutureWarning: Indexing a timezone-aware DatetimeIndex with a timezone-naive datetime is deprecated and will raise KeyError in a future version. Use a timezone-aware object instead.\n",
      "  y = info.truncate(before=pd.Timestamp('today') - pd.DateOffset(months=12))\n",
      "<ipython-input-6-ba13226fe2c3>:42: FutureWarning: Indexing a timezone-aware DatetimeIndex with a timezone-naive datetime is deprecated and will raise KeyError in a future version. Use a timezone-aware object instead.\n",
      "  m6 = info.truncate(before=pd.Timestamp('today') - pd.DateOffset(months=6))\n",
      "<ipython-input-6-ba13226fe2c3>:43: FutureWarning: Indexing a timezone-aware DatetimeIndex with a timezone-naive datetime is deprecated and will raise KeyError in a future version. Use a timezone-aware object instead.\n",
      "  m3 = info.truncate(before=pd.Timestamp('today') - pd.DateOffset(months=3))\n",
      "<ipython-input-6-ba13226fe2c3>:44: FutureWarning: Indexing a timezone-aware DatetimeIndex with a timezone-naive datetime is deprecated and will raise KeyError in a future version. Use a timezone-aware object instead.\n",
      "  m1 = info.truncate(before=pd.Timestamp('today') - pd.DateOffset(months=1))\n",
      "C:\\Users\\Kamen\\AppData\\Local\\Programs\\Python\\Python38\\lib\\site-packages\\numpy\\core\\_methods.py:262: RuntimeWarning: Degrees of freedom <= 0 for slice\n",
      "  ret = _var(a, axis=axis, dtype=dtype, out=out, ddof=ddof,\n",
      "C:\\Users\\Kamen\\AppData\\Local\\Programs\\Python\\Python38\\lib\\site-packages\\numpy\\core\\_methods.py:222: RuntimeWarning: invalid value encountered in true_divide\n",
      "  arrmean = um.true_divide(arrmean, div, out=arrmean, casting='unsafe',\n",
      "C:\\Users\\Kamen\\AppData\\Local\\Programs\\Python\\Python38\\lib\\site-packages\\numpy\\core\\_methods.py:254: RuntimeWarning: invalid value encountered in double_scalars\n",
      "  ret = ret.dtype.type(ret / rcount)\n",
      "<ipython-input-6-ba13226fe2c3>:11: RuntimeWarning: divide by zero encountered in log\n",
      "  reg = np.polyfit(np.log(lags), np.log(tau), 1)\n"
     ]
    },
    {
     "name": "stdout",
     "output_type": "stream",
     "text": [
      "0.34317636489868164\n"
     ]
    },
    {
     "name": "stderr",
     "output_type": "stream",
     "text": [
      "<ipython-input-6-ba13226fe2c3>:41: FutureWarning: Indexing a timezone-aware DatetimeIndex with a timezone-naive datetime is deprecated and will raise KeyError in a future version. Use a timezone-aware object instead.\n",
      "  y = info.truncate(before=pd.Timestamp('today') - pd.DateOffset(months=12))\n",
      "<ipython-input-6-ba13226fe2c3>:42: FutureWarning: Indexing a timezone-aware DatetimeIndex with a timezone-naive datetime is deprecated and will raise KeyError in a future version. Use a timezone-aware object instead.\n",
      "  m6 = info.truncate(before=pd.Timestamp('today') - pd.DateOffset(months=6))\n",
      "<ipython-input-6-ba13226fe2c3>:43: FutureWarning: Indexing a timezone-aware DatetimeIndex with a timezone-naive datetime is deprecated and will raise KeyError in a future version. Use a timezone-aware object instead.\n",
      "  m3 = info.truncate(before=pd.Timestamp('today') - pd.DateOffset(months=3))\n",
      "<ipython-input-6-ba13226fe2c3>:44: FutureWarning: Indexing a timezone-aware DatetimeIndex with a timezone-naive datetime is deprecated and will raise KeyError in a future version. Use a timezone-aware object instead.\n",
      "  m1 = info.truncate(before=pd.Timestamp('today') - pd.DateOffset(months=1))\n"
     ]
    },
    {
     "name": "stdout",
     "output_type": "stream",
     "text": [
      "0.6831948757171631\n"
     ]
    },
    {
     "name": "stderr",
     "output_type": "stream",
     "text": [
      "<ipython-input-6-ba13226fe2c3>:41: FutureWarning: Indexing a timezone-aware DatetimeIndex with a timezone-naive datetime is deprecated and will raise KeyError in a future version. Use a timezone-aware object instead.\n",
      "  y = info.truncate(before=pd.Timestamp('today') - pd.DateOffset(months=12))\n",
      "<ipython-input-6-ba13226fe2c3>:42: FutureWarning: Indexing a timezone-aware DatetimeIndex with a timezone-naive datetime is deprecated and will raise KeyError in a future version. Use a timezone-aware object instead.\n",
      "  m6 = info.truncate(before=pd.Timestamp('today') - pd.DateOffset(months=6))\n",
      "<ipython-input-6-ba13226fe2c3>:43: FutureWarning: Indexing a timezone-aware DatetimeIndex with a timezone-naive datetime is deprecated and will raise KeyError in a future version. Use a timezone-aware object instead.\n",
      "  m3 = info.truncate(before=pd.Timestamp('today') - pd.DateOffset(months=3))\n",
      "<ipython-input-6-ba13226fe2c3>:44: FutureWarning: Indexing a timezone-aware DatetimeIndex with a timezone-naive datetime is deprecated and will raise KeyError in a future version. Use a timezone-aware object instead.\n",
      "  m1 = info.truncate(before=pd.Timestamp('today') - pd.DateOffset(months=1))\n"
     ]
    },
    {
     "name": "stdout",
     "output_type": "stream",
     "text": [
      "0.4859457015991211\n"
     ]
    },
    {
     "name": "stderr",
     "output_type": "stream",
     "text": [
      "<ipython-input-6-ba13226fe2c3>:41: FutureWarning: Indexing a timezone-aware DatetimeIndex with a timezone-naive datetime is deprecated and will raise KeyError in a future version. Use a timezone-aware object instead.\n",
      "  y = info.truncate(before=pd.Timestamp('today') - pd.DateOffset(months=12))\n",
      "<ipython-input-6-ba13226fe2c3>:42: FutureWarning: Indexing a timezone-aware DatetimeIndex with a timezone-naive datetime is deprecated and will raise KeyError in a future version. Use a timezone-aware object instead.\n",
      "  m6 = info.truncate(before=pd.Timestamp('today') - pd.DateOffset(months=6))\n",
      "<ipython-input-6-ba13226fe2c3>:43: FutureWarning: Indexing a timezone-aware DatetimeIndex with a timezone-naive datetime is deprecated and will raise KeyError in a future version. Use a timezone-aware object instead.\n",
      "  m3 = info.truncate(before=pd.Timestamp('today') - pd.DateOffset(months=3))\n",
      "<ipython-input-6-ba13226fe2c3>:44: FutureWarning: Indexing a timezone-aware DatetimeIndex with a timezone-naive datetime is deprecated and will raise KeyError in a future version. Use a timezone-aware object instead.\n",
      "  m1 = info.truncate(before=pd.Timestamp('today') - pd.DateOffset(months=1))\n"
     ]
    },
    {
     "name": "stdout",
     "output_type": "stream",
     "text": [
      "Index Error when producing momentum table\n",
      "CWEI: 1d data not available for startTime=-2208994789 and endTime=1673461861. Only 100 years worth of day granularity data are allowed to be fetched per request.\n",
      "Index Error when producing momentum table\n"
     ]
    },
    {
     "name": "stderr",
     "output_type": "stream",
     "text": [
      "<ipython-input-6-ba13226fe2c3>:41: FutureWarning: Indexing a timezone-aware DatetimeIndex with a timezone-naive datetime is deprecated and will raise KeyError in a future version. Use a timezone-aware object instead.\n",
      "  y = info.truncate(before=pd.Timestamp('today') - pd.DateOffset(months=12))\n",
      "<ipython-input-6-ba13226fe2c3>:42: FutureWarning: Indexing a timezone-aware DatetimeIndex with a timezone-naive datetime is deprecated and will raise KeyError in a future version. Use a timezone-aware object instead.\n",
      "  m6 = info.truncate(before=pd.Timestamp('today') - pd.DateOffset(months=6))\n",
      "<ipython-input-6-ba13226fe2c3>:43: FutureWarning: Indexing a timezone-aware DatetimeIndex with a timezone-naive datetime is deprecated and will raise KeyError in a future version. Use a timezone-aware object instead.\n",
      "  m3 = info.truncate(before=pd.Timestamp('today') - pd.DateOffset(months=3))\n",
      "<ipython-input-6-ba13226fe2c3>:44: FutureWarning: Indexing a timezone-aware DatetimeIndex with a timezone-naive datetime is deprecated and will raise KeyError in a future version. Use a timezone-aware object instead.\n",
      "  m1 = info.truncate(before=pd.Timestamp('today') - pd.DateOffset(months=1))\n"
     ]
    },
    {
     "name": "stdout",
     "output_type": "stream",
     "text": [
      "0.9396255016326904\n"
     ]
    },
    {
     "name": "stderr",
     "output_type": "stream",
     "text": [
      "<ipython-input-6-ba13226fe2c3>:41: FutureWarning: Indexing a timezone-aware DatetimeIndex with a timezone-naive datetime is deprecated and will raise KeyError in a future version. Use a timezone-aware object instead.\n",
      "  y = info.truncate(before=pd.Timestamp('today') - pd.DateOffset(months=12))\n",
      "<ipython-input-6-ba13226fe2c3>:42: FutureWarning: Indexing a timezone-aware DatetimeIndex with a timezone-naive datetime is deprecated and will raise KeyError in a future version. Use a timezone-aware object instead.\n",
      "  m6 = info.truncate(before=pd.Timestamp('today') - pd.DateOffset(months=6))\n",
      "<ipython-input-6-ba13226fe2c3>:43: FutureWarning: Indexing a timezone-aware DatetimeIndex with a timezone-naive datetime is deprecated and will raise KeyError in a future version. Use a timezone-aware object instead.\n",
      "  m3 = info.truncate(before=pd.Timestamp('today') - pd.DateOffset(months=3))\n",
      "<ipython-input-6-ba13226fe2c3>:44: FutureWarning: Indexing a timezone-aware DatetimeIndex with a timezone-naive datetime is deprecated and will raise KeyError in a future version. Use a timezone-aware object instead.\n",
      "  m1 = info.truncate(before=pd.Timestamp('today') - pd.DateOffset(months=1))\n"
     ]
    },
    {
     "name": "stdout",
     "output_type": "stream",
     "text": [
      "0.43576502799987793\n"
     ]
    },
    {
     "name": "stderr",
     "output_type": "stream",
     "text": [
      "<ipython-input-6-ba13226fe2c3>:41: FutureWarning: Indexing a timezone-aware DatetimeIndex with a timezone-naive datetime is deprecated and will raise KeyError in a future version. Use a timezone-aware object instead.\n",
      "  y = info.truncate(before=pd.Timestamp('today') - pd.DateOffset(months=12))\n",
      "<ipython-input-6-ba13226fe2c3>:42: FutureWarning: Indexing a timezone-aware DatetimeIndex with a timezone-naive datetime is deprecated and will raise KeyError in a future version. Use a timezone-aware object instead.\n",
      "  m6 = info.truncate(before=pd.Timestamp('today') - pd.DateOffset(months=6))\n",
      "<ipython-input-6-ba13226fe2c3>:43: FutureWarning: Indexing a timezone-aware DatetimeIndex with a timezone-naive datetime is deprecated and will raise KeyError in a future version. Use a timezone-aware object instead.\n",
      "  m3 = info.truncate(before=pd.Timestamp('today') - pd.DateOffset(months=3))\n",
      "<ipython-input-6-ba13226fe2c3>:44: FutureWarning: Indexing a timezone-aware DatetimeIndex with a timezone-naive datetime is deprecated and will raise KeyError in a future version. Use a timezone-aware object instead.\n",
      "  m1 = info.truncate(before=pd.Timestamp('today') - pd.DateOffset(months=1))\n"
     ]
    },
    {
     "name": "stdout",
     "output_type": "stream",
     "text": [
      "0.43349456787109375\n",
      "CNL: 1d data not available for startTime=-2208994789 and endTime=1673461864. Only 100 years worth of day granularity data are allowed to be fetched per request.\n",
      "Index Error when producing momentum table\n"
     ]
    },
    {
     "name": "stderr",
     "output_type": "stream",
     "text": [
      "<ipython-input-6-ba13226fe2c3>:41: FutureWarning: Indexing a timezone-aware DatetimeIndex with a timezone-naive datetime is deprecated and will raise KeyError in a future version. Use a timezone-aware object instead.\n",
      "  y = info.truncate(before=pd.Timestamp('today') - pd.DateOffset(months=12))\n",
      "<ipython-input-6-ba13226fe2c3>:42: FutureWarning: Indexing a timezone-aware DatetimeIndex with a timezone-naive datetime is deprecated and will raise KeyError in a future version. Use a timezone-aware object instead.\n",
      "  m6 = info.truncate(before=pd.Timestamp('today') - pd.DateOffset(months=6))\n",
      "<ipython-input-6-ba13226fe2c3>:43: FutureWarning: Indexing a timezone-aware DatetimeIndex with a timezone-naive datetime is deprecated and will raise KeyError in a future version. Use a timezone-aware object instead.\n",
      "  m3 = info.truncate(before=pd.Timestamp('today') - pd.DateOffset(months=3))\n",
      "<ipython-input-6-ba13226fe2c3>:44: FutureWarning: Indexing a timezone-aware DatetimeIndex with a timezone-naive datetime is deprecated and will raise KeyError in a future version. Use a timezone-aware object instead.\n",
      "  m1 = info.truncate(before=pd.Timestamp('today') - pd.DateOffset(months=1))\n"
     ]
    },
    {
     "name": "stdout",
     "output_type": "stream",
     "text": [
      "0.7318227291107178\n"
     ]
    },
    {
     "name": "stderr",
     "output_type": "stream",
     "text": [
      "<ipython-input-6-ba13226fe2c3>:41: FutureWarning: Indexing a timezone-aware DatetimeIndex with a timezone-naive datetime is deprecated and will raise KeyError in a future version. Use a timezone-aware object instead.\n",
      "  y = info.truncate(before=pd.Timestamp('today') - pd.DateOffset(months=12))\n",
      "<ipython-input-6-ba13226fe2c3>:42: FutureWarning: Indexing a timezone-aware DatetimeIndex with a timezone-naive datetime is deprecated and will raise KeyError in a future version. Use a timezone-aware object instead.\n",
      "  m6 = info.truncate(before=pd.Timestamp('today') - pd.DateOffset(months=6))\n",
      "<ipython-input-6-ba13226fe2c3>:43: FutureWarning: Indexing a timezone-aware DatetimeIndex with a timezone-naive datetime is deprecated and will raise KeyError in a future version. Use a timezone-aware object instead.\n",
      "  m3 = info.truncate(before=pd.Timestamp('today') - pd.DateOffset(months=3))\n",
      "<ipython-input-6-ba13226fe2c3>:44: FutureWarning: Indexing a timezone-aware DatetimeIndex with a timezone-naive datetime is deprecated and will raise KeyError in a future version. Use a timezone-aware object instead.\n",
      "  m1 = info.truncate(before=pd.Timestamp('today') - pd.DateOffset(months=1))\n"
     ]
    },
    {
     "name": "stdout",
     "output_type": "stream",
     "text": [
      "0.6420848369598389\n",
      "Got error from yahoo api for ticker CLD, Error: {'code': 'Not Found', 'description': 'No data found, symbol may be delisted'}\n",
      "- CLD: No timezone found, symbol may be delisted\n",
      "Index Error when producing momentum table\n",
      "MYCC: 1d data not available for startTime=-2208994789 and endTime=1673461865. Only 100 years worth of day granularity data are allowed to be fetched per request.\n",
      "Index Error when producing momentum table\n"
     ]
    },
    {
     "name": "stderr",
     "output_type": "stream",
     "text": [
      "<ipython-input-6-ba13226fe2c3>:41: FutureWarning: Indexing a timezone-aware DatetimeIndex with a timezone-naive datetime is deprecated and will raise KeyError in a future version. Use a timezone-aware object instead.\n",
      "  y = info.truncate(before=pd.Timestamp('today') - pd.DateOffset(months=12))\n",
      "<ipython-input-6-ba13226fe2c3>:42: FutureWarning: Indexing a timezone-aware DatetimeIndex with a timezone-naive datetime is deprecated and will raise KeyError in a future version. Use a timezone-aware object instead.\n",
      "  m6 = info.truncate(before=pd.Timestamp('today') - pd.DateOffset(months=6))\n",
      "<ipython-input-6-ba13226fe2c3>:43: FutureWarning: Indexing a timezone-aware DatetimeIndex with a timezone-naive datetime is deprecated and will raise KeyError in a future version. Use a timezone-aware object instead.\n",
      "  m3 = info.truncate(before=pd.Timestamp('today') - pd.DateOffset(months=3))\n",
      "<ipython-input-6-ba13226fe2c3>:44: FutureWarning: Indexing a timezone-aware DatetimeIndex with a timezone-naive datetime is deprecated and will raise KeyError in a future version. Use a timezone-aware object instead.\n",
      "  m1 = info.truncate(before=pd.Timestamp('today') - pd.DateOffset(months=1))\n"
     ]
    },
    {
     "name": "stdout",
     "output_type": "stream",
     "text": [
      "0.7527399063110352\n"
     ]
    },
    {
     "name": "stderr",
     "output_type": "stream",
     "text": [
      "<ipython-input-6-ba13226fe2c3>:41: FutureWarning: Indexing a timezone-aware DatetimeIndex with a timezone-naive datetime is deprecated and will raise KeyError in a future version. Use a timezone-aware object instead.\n",
      "  y = info.truncate(before=pd.Timestamp('today') - pd.DateOffset(months=12))\n",
      "<ipython-input-6-ba13226fe2c3>:42: FutureWarning: Indexing a timezone-aware DatetimeIndex with a timezone-naive datetime is deprecated and will raise KeyError in a future version. Use a timezone-aware object instead.\n",
      "  m6 = info.truncate(before=pd.Timestamp('today') - pd.DateOffset(months=6))\n",
      "<ipython-input-6-ba13226fe2c3>:43: FutureWarning: Indexing a timezone-aware DatetimeIndex with a timezone-naive datetime is deprecated and will raise KeyError in a future version. Use a timezone-aware object instead.\n",
      "  m3 = info.truncate(before=pd.Timestamp('today') - pd.DateOffset(months=3))\n",
      "<ipython-input-6-ba13226fe2c3>:44: FutureWarning: Indexing a timezone-aware DatetimeIndex with a timezone-naive datetime is deprecated and will raise KeyError in a future version. Use a timezone-aware object instead.\n",
      "  m1 = info.truncate(before=pd.Timestamp('today') - pd.DateOffset(months=1))\n"
     ]
    },
    {
     "name": "stdout",
     "output_type": "stream",
     "text": [
      "0.7561743259429932\n"
     ]
    },
    {
     "name": "stderr",
     "output_type": "stream",
     "text": [
      "<ipython-input-6-ba13226fe2c3>:41: FutureWarning: Indexing a timezone-aware DatetimeIndex with a timezone-naive datetime is deprecated and will raise KeyError in a future version. Use a timezone-aware object instead.\n",
      "  y = info.truncate(before=pd.Timestamp('today') - pd.DateOffset(months=12))\n",
      "<ipython-input-6-ba13226fe2c3>:42: FutureWarning: Indexing a timezone-aware DatetimeIndex with a timezone-naive datetime is deprecated and will raise KeyError in a future version. Use a timezone-aware object instead.\n",
      "  m6 = info.truncate(before=pd.Timestamp('today') - pd.DateOffset(months=6))\n",
      "<ipython-input-6-ba13226fe2c3>:43: FutureWarning: Indexing a timezone-aware DatetimeIndex with a timezone-naive datetime is deprecated and will raise KeyError in a future version. Use a timezone-aware object instead.\n",
      "  m3 = info.truncate(before=pd.Timestamp('today') - pd.DateOffset(months=3))\n",
      "<ipython-input-6-ba13226fe2c3>:44: FutureWarning: Indexing a timezone-aware DatetimeIndex with a timezone-naive datetime is deprecated and will raise KeyError in a future version. Use a timezone-aware object instead.\n",
      "  m1 = info.truncate(before=pd.Timestamp('today') - pd.DateOffset(months=1))\n"
     ]
    },
    {
     "name": "stdout",
     "output_type": "stream",
     "text": [
      "0.5276682376861572\n"
     ]
    },
    {
     "name": "stderr",
     "output_type": "stream",
     "text": [
      "<ipython-input-6-ba13226fe2c3>:41: FutureWarning: Indexing a timezone-aware DatetimeIndex with a timezone-naive datetime is deprecated and will raise KeyError in a future version. Use a timezone-aware object instead.\n",
      "  y = info.truncate(before=pd.Timestamp('today') - pd.DateOffset(months=12))\n",
      "<ipython-input-6-ba13226fe2c3>:42: FutureWarning: Indexing a timezone-aware DatetimeIndex with a timezone-naive datetime is deprecated and will raise KeyError in a future version. Use a timezone-aware object instead.\n",
      "  m6 = info.truncate(before=pd.Timestamp('today') - pd.DateOffset(months=6))\n",
      "<ipython-input-6-ba13226fe2c3>:43: FutureWarning: Indexing a timezone-aware DatetimeIndex with a timezone-naive datetime is deprecated and will raise KeyError in a future version. Use a timezone-aware object instead.\n",
      "  m3 = info.truncate(before=pd.Timestamp('today') - pd.DateOffset(months=3))\n",
      "<ipython-input-6-ba13226fe2c3>:44: FutureWarning: Indexing a timezone-aware DatetimeIndex with a timezone-naive datetime is deprecated and will raise KeyError in a future version. Use a timezone-aware object instead.\n",
      "  m1 = info.truncate(before=pd.Timestamp('today') - pd.DateOffset(months=1))\n"
     ]
    },
    {
     "name": "stdout",
     "output_type": "stream",
     "text": [
      "0.6252937316894531\n"
     ]
    },
    {
     "name": "stderr",
     "output_type": "stream",
     "text": [
      "<ipython-input-6-ba13226fe2c3>:41: FutureWarning: Indexing a timezone-aware DatetimeIndex with a timezone-naive datetime is deprecated and will raise KeyError in a future version. Use a timezone-aware object instead.\n",
      "  y = info.truncate(before=pd.Timestamp('today') - pd.DateOffset(months=12))\n",
      "<ipython-input-6-ba13226fe2c3>:42: FutureWarning: Indexing a timezone-aware DatetimeIndex with a timezone-naive datetime is deprecated and will raise KeyError in a future version. Use a timezone-aware object instead.\n",
      "  m6 = info.truncate(before=pd.Timestamp('today') - pd.DateOffset(months=6))\n",
      "<ipython-input-6-ba13226fe2c3>:43: FutureWarning: Indexing a timezone-aware DatetimeIndex with a timezone-naive datetime is deprecated and will raise KeyError in a future version. Use a timezone-aware object instead.\n",
      "  m3 = info.truncate(before=pd.Timestamp('today') - pd.DateOffset(months=3))\n",
      "<ipython-input-6-ba13226fe2c3>:44: FutureWarning: Indexing a timezone-aware DatetimeIndex with a timezone-naive datetime is deprecated and will raise KeyError in a future version. Use a timezone-aware object instead.\n",
      "  m1 = info.truncate(before=pd.Timestamp('today') - pd.DateOffset(months=1))\n"
     ]
    },
    {
     "name": "stdout",
     "output_type": "stream",
     "text": [
      "Index Error when producing momentum table\n",
      "COH: No data found for this date range, symbol may be delisted\n",
      "Index Error when producing momentum table\n",
      "CIE: 1d data not available for startTime=-2208994789 and endTime=1673461869. Only 100 years worth of day granularity data are allowed to be fetched per request.\n",
      "Index Error when producing momentum table\n"
     ]
    },
    {
     "name": "stderr",
     "output_type": "stream",
     "text": [
      "<ipython-input-6-ba13226fe2c3>:41: FutureWarning: Indexing a timezone-aware DatetimeIndex with a timezone-naive datetime is deprecated and will raise KeyError in a future version. Use a timezone-aware object instead.\n",
      "  y = info.truncate(before=pd.Timestamp('today') - pd.DateOffset(months=12))\n",
      "<ipython-input-6-ba13226fe2c3>:42: FutureWarning: Indexing a timezone-aware DatetimeIndex with a timezone-naive datetime is deprecated and will raise KeyError in a future version. Use a timezone-aware object instead.\n",
      "  m6 = info.truncate(before=pd.Timestamp('today') - pd.DateOffset(months=6))\n",
      "<ipython-input-6-ba13226fe2c3>:43: FutureWarning: Indexing a timezone-aware DatetimeIndex with a timezone-naive datetime is deprecated and will raise KeyError in a future version. Use a timezone-aware object instead.\n",
      "  m3 = info.truncate(before=pd.Timestamp('today') - pd.DateOffset(months=3))\n",
      "<ipython-input-6-ba13226fe2c3>:44: FutureWarning: Indexing a timezone-aware DatetimeIndex with a timezone-naive datetime is deprecated and will raise KeyError in a future version. Use a timezone-aware object instead.\n",
      "  m1 = info.truncate(before=pd.Timestamp('today') - pd.DateOffset(months=1))\n"
     ]
    },
    {
     "name": "stdout",
     "output_type": "stream",
     "text": [
      "0.7357678413391113\n"
     ]
    },
    {
     "name": "stderr",
     "output_type": "stream",
     "text": [
      "<ipython-input-6-ba13226fe2c3>:41: FutureWarning: Indexing a timezone-aware DatetimeIndex with a timezone-naive datetime is deprecated and will raise KeyError in a future version. Use a timezone-aware object instead.\n",
      "  y = info.truncate(before=pd.Timestamp('today') - pd.DateOffset(months=12))\n",
      "<ipython-input-6-ba13226fe2c3>:42: FutureWarning: Indexing a timezone-aware DatetimeIndex with a timezone-naive datetime is deprecated and will raise KeyError in a future version. Use a timezone-aware object instead.\n",
      "  m6 = info.truncate(before=pd.Timestamp('today') - pd.DateOffset(months=6))\n",
      "<ipython-input-6-ba13226fe2c3>:43: FutureWarning: Indexing a timezone-aware DatetimeIndex with a timezone-naive datetime is deprecated and will raise KeyError in a future version. Use a timezone-aware object instead.\n",
      "  m3 = info.truncate(before=pd.Timestamp('today') - pd.DateOffset(months=3))\n",
      "<ipython-input-6-ba13226fe2c3>:44: FutureWarning: Indexing a timezone-aware DatetimeIndex with a timezone-naive datetime is deprecated and will raise KeyError in a future version. Use a timezone-aware object instead.\n",
      "  m1 = info.truncate(before=pd.Timestamp('today') - pd.DateOffset(months=1))\n"
     ]
    },
    {
     "name": "stdout",
     "output_type": "stream",
     "text": [
      "Index Error when producing momentum table\n"
     ]
    },
    {
     "name": "stderr",
     "output_type": "stream",
     "text": [
      "<ipython-input-6-ba13226fe2c3>:41: FutureWarning: Indexing a timezone-aware DatetimeIndex with a timezone-naive datetime is deprecated and will raise KeyError in a future version. Use a timezone-aware object instead.\n",
      "  y = info.truncate(before=pd.Timestamp('today') - pd.DateOffset(months=12))\n",
      "<ipython-input-6-ba13226fe2c3>:42: FutureWarning: Indexing a timezone-aware DatetimeIndex with a timezone-naive datetime is deprecated and will raise KeyError in a future version. Use a timezone-aware object instead.\n",
      "  m6 = info.truncate(before=pd.Timestamp('today') - pd.DateOffset(months=6))\n",
      "<ipython-input-6-ba13226fe2c3>:43: FutureWarning: Indexing a timezone-aware DatetimeIndex with a timezone-naive datetime is deprecated and will raise KeyError in a future version. Use a timezone-aware object instead.\n",
      "  m3 = info.truncate(before=pd.Timestamp('today') - pd.DateOffset(months=3))\n",
      "<ipython-input-6-ba13226fe2c3>:44: FutureWarning: Indexing a timezone-aware DatetimeIndex with a timezone-naive datetime is deprecated and will raise KeyError in a future version. Use a timezone-aware object instead.\n",
      "  m1 = info.truncate(before=pd.Timestamp('today') - pd.DateOffset(months=1))\n"
     ]
    },
    {
     "name": "stdout",
     "output_type": "stream",
     "text": [
      "0.8607683181762695\n"
     ]
    },
    {
     "name": "stderr",
     "output_type": "stream",
     "text": [
      "<ipython-input-6-ba13226fe2c3>:41: FutureWarning: Indexing a timezone-aware DatetimeIndex with a timezone-naive datetime is deprecated and will raise KeyError in a future version. Use a timezone-aware object instead.\n",
      "  y = info.truncate(before=pd.Timestamp('today') - pd.DateOffset(months=12))\n",
      "<ipython-input-6-ba13226fe2c3>:42: FutureWarning: Indexing a timezone-aware DatetimeIndex with a timezone-naive datetime is deprecated and will raise KeyError in a future version. Use a timezone-aware object instead.\n",
      "  m6 = info.truncate(before=pd.Timestamp('today') - pd.DateOffset(months=6))\n",
      "<ipython-input-6-ba13226fe2c3>:43: FutureWarning: Indexing a timezone-aware DatetimeIndex with a timezone-naive datetime is deprecated and will raise KeyError in a future version. Use a timezone-aware object instead.\n",
      "  m3 = info.truncate(before=pd.Timestamp('today') - pd.DateOffset(months=3))\n",
      "<ipython-input-6-ba13226fe2c3>:44: FutureWarning: Indexing a timezone-aware DatetimeIndex with a timezone-naive datetime is deprecated and will raise KeyError in a future version. Use a timezone-aware object instead.\n",
      "  m1 = info.truncate(before=pd.Timestamp('today') - pd.DateOffset(months=1))\n"
     ]
    },
    {
     "name": "stdout",
     "output_type": "stream",
     "text": [
      "0.5176060199737549\n",
      "Got error from yahoo api for ticker CDE.WS, Error: {'code': 'Not Found', 'description': 'No data found, symbol may be delisted'}\n",
      "- CDE.WS: No timezone found, symbol may be delisted\n",
      "Index Error when producing momentum table\n"
     ]
    },
    {
     "name": "stderr",
     "output_type": "stream",
     "text": [
      "<ipython-input-6-ba13226fe2c3>:41: FutureWarning: Indexing a timezone-aware DatetimeIndex with a timezone-naive datetime is deprecated and will raise KeyError in a future version. Use a timezone-aware object instead.\n",
      "  y = info.truncate(before=pd.Timestamp('today') - pd.DateOffset(months=12))\n",
      "<ipython-input-6-ba13226fe2c3>:42: FutureWarning: Indexing a timezone-aware DatetimeIndex with a timezone-naive datetime is deprecated and will raise KeyError in a future version. Use a timezone-aware object instead.\n",
      "  m6 = info.truncate(before=pd.Timestamp('today') - pd.DateOffset(months=6))\n",
      "<ipython-input-6-ba13226fe2c3>:43: FutureWarning: Indexing a timezone-aware DatetimeIndex with a timezone-naive datetime is deprecated and will raise KeyError in a future version. Use a timezone-aware object instead.\n",
      "  m3 = info.truncate(before=pd.Timestamp('today') - pd.DateOffset(months=3))\n",
      "<ipython-input-6-ba13226fe2c3>:44: FutureWarning: Indexing a timezone-aware DatetimeIndex with a timezone-naive datetime is deprecated and will raise KeyError in a future version. Use a timezone-aware object instead.\n",
      "  m1 = info.truncate(before=pd.Timestamp('today') - pd.DateOffset(months=1))\n"
     ]
    },
    {
     "name": "stdout",
     "output_type": "stream",
     "text": [
      "0.4659857749938965\n",
      "Got error from yahoo api for ticker CFX, Error: {'code': 'Not Found', 'description': 'No data found, symbol may be delisted'}\n",
      "- CFX: No timezone found, symbol may be delisted\n",
      "Index Error when producing momentum table\n"
     ]
    },
    {
     "name": "stderr",
     "output_type": "stream",
     "text": [
      "<ipython-input-6-ba13226fe2c3>:41: FutureWarning: Indexing a timezone-aware DatetimeIndex with a timezone-naive datetime is deprecated and will raise KeyError in a future version. Use a timezone-aware object instead.\n",
      "  y = info.truncate(before=pd.Timestamp('today') - pd.DateOffset(months=12))\n",
      "<ipython-input-6-ba13226fe2c3>:42: FutureWarning: Indexing a timezone-aware DatetimeIndex with a timezone-naive datetime is deprecated and will raise KeyError in a future version. Use a timezone-aware object instead.\n",
      "  m6 = info.truncate(before=pd.Timestamp('today') - pd.DateOffset(months=6))\n",
      "<ipython-input-6-ba13226fe2c3>:43: FutureWarning: Indexing a timezone-aware DatetimeIndex with a timezone-naive datetime is deprecated and will raise KeyError in a future version. Use a timezone-aware object instead.\n",
      "  m3 = info.truncate(before=pd.Timestamp('today') - pd.DateOffset(months=3))\n",
      "<ipython-input-6-ba13226fe2c3>:44: FutureWarning: Indexing a timezone-aware DatetimeIndex with a timezone-naive datetime is deprecated and will raise KeyError in a future version. Use a timezone-aware object instead.\n",
      "  m1 = info.truncate(before=pd.Timestamp('today') - pd.DateOffset(months=1))\n"
     ]
    },
    {
     "name": "stdout",
     "output_type": "stream",
     "text": [
      "0.7670917510986328\n",
      "Got error from yahoo api for ticker CLNY, Error: {'code': 'Not Found', 'description': 'No data found, symbol may be delisted'}\n",
      "- CLNY: No timezone found, symbol may be delisted\n",
      "Index Error when producing momentum table\n",
      "Got error from yahoo api for ticker CXP, Error: {'code': 'Not Found', 'description': 'No data found, symbol may be delisted'}\n",
      "- CXP: No timezone found, symbol may be delisted\n",
      "Index Error when producing momentum table\n"
     ]
    },
    {
     "name": "stderr",
     "output_type": "stream",
     "text": [
      "<ipython-input-6-ba13226fe2c3>:41: FutureWarning: Indexing a timezone-aware DatetimeIndex with a timezone-naive datetime is deprecated and will raise KeyError in a future version. Use a timezone-aware object instead.\n",
      "  y = info.truncate(before=pd.Timestamp('today') - pd.DateOffset(months=12))\n",
      "<ipython-input-6-ba13226fe2c3>:42: FutureWarning: Indexing a timezone-aware DatetimeIndex with a timezone-naive datetime is deprecated and will raise KeyError in a future version. Use a timezone-aware object instead.\n",
      "  m6 = info.truncate(before=pd.Timestamp('today') - pd.DateOffset(months=6))\n",
      "<ipython-input-6-ba13226fe2c3>:43: FutureWarning: Indexing a timezone-aware DatetimeIndex with a timezone-naive datetime is deprecated and will raise KeyError in a future version. Use a timezone-aware object instead.\n",
      "  m3 = info.truncate(before=pd.Timestamp('today') - pd.DateOffset(months=3))\n",
      "<ipython-input-6-ba13226fe2c3>:44: FutureWarning: Indexing a timezone-aware DatetimeIndex with a timezone-naive datetime is deprecated and will raise KeyError in a future version. Use a timezone-aware object instead.\n",
      "  m1 = info.truncate(before=pd.Timestamp('today') - pd.DateOffset(months=1))\n",
      "C:\\Users\\Kamen\\AppData\\Local\\Programs\\Python\\Python38\\lib\\site-packages\\numpy\\core\\_methods.py:262: RuntimeWarning: Degrees of freedom <= 0 for slice\n",
      "  ret = _var(a, axis=axis, dtype=dtype, out=out, ddof=ddof,\n",
      "C:\\Users\\Kamen\\AppData\\Local\\Programs\\Python\\Python38\\lib\\site-packages\\numpy\\core\\_methods.py:222: RuntimeWarning: invalid value encountered in true_divide\n",
      "  arrmean = um.true_divide(arrmean, div, out=arrmean, casting='unsafe',\n",
      "C:\\Users\\Kamen\\AppData\\Local\\Programs\\Python\\Python38\\lib\\site-packages\\numpy\\core\\_methods.py:254: RuntimeWarning: invalid value encountered in double_scalars\n",
      "  ret = ret.dtype.type(ret / rcount)\n",
      "<ipython-input-6-ba13226fe2c3>:11: RuntimeWarning: divide by zero encountered in log\n",
      "  reg = np.polyfit(np.log(lags), np.log(tau), 1)\n"
     ]
    },
    {
     "name": "stdout",
     "output_type": "stream",
     "text": [
      "0.32076048851013184\n"
     ]
    },
    {
     "name": "stderr",
     "output_type": "stream",
     "text": [
      "<ipython-input-6-ba13226fe2c3>:41: FutureWarning: Indexing a timezone-aware DatetimeIndex with a timezone-naive datetime is deprecated and will raise KeyError in a future version. Use a timezone-aware object instead.\n",
      "  y = info.truncate(before=pd.Timestamp('today') - pd.DateOffset(months=12))\n",
      "<ipython-input-6-ba13226fe2c3>:42: FutureWarning: Indexing a timezone-aware DatetimeIndex with a timezone-naive datetime is deprecated and will raise KeyError in a future version. Use a timezone-aware object instead.\n",
      "  m6 = info.truncate(before=pd.Timestamp('today') - pd.DateOffset(months=6))\n",
      "<ipython-input-6-ba13226fe2c3>:43: FutureWarning: Indexing a timezone-aware DatetimeIndex with a timezone-naive datetime is deprecated and will raise KeyError in a future version. Use a timezone-aware object instead.\n",
      "  m3 = info.truncate(before=pd.Timestamp('today') - pd.DateOffset(months=3))\n",
      "<ipython-input-6-ba13226fe2c3>:44: FutureWarning: Indexing a timezone-aware DatetimeIndex with a timezone-naive datetime is deprecated and will raise KeyError in a future version. Use a timezone-aware object instead.\n",
      "  m1 = info.truncate(before=pd.Timestamp('today') - pd.DateOffset(months=1))\n",
      "C:\\Users\\Kamen\\AppData\\Local\\Programs\\Python\\Python38\\lib\\site-packages\\numpy\\core\\_methods.py:262: RuntimeWarning: Degrees of freedom <= 0 for slice\n",
      "  ret = _var(a, axis=axis, dtype=dtype, out=out, ddof=ddof,\n",
      "C:\\Users\\Kamen\\AppData\\Local\\Programs\\Python\\Python38\\lib\\site-packages\\numpy\\core\\_methods.py:222: RuntimeWarning: invalid value encountered in true_divide\n",
      "  arrmean = um.true_divide(arrmean, div, out=arrmean, casting='unsafe',\n",
      "C:\\Users\\Kamen\\AppData\\Local\\Programs\\Python\\Python38\\lib\\site-packages\\numpy\\core\\_methods.py:254: RuntimeWarning: invalid value encountered in double_scalars\n",
      "  ret = ret.dtype.type(ret / rcount)\n",
      "<ipython-input-6-ba13226fe2c3>:11: RuntimeWarning: divide by zero encountered in log\n",
      "  reg = np.polyfit(np.log(lags), np.log(tau), 1)\n"
     ]
    },
    {
     "name": "stdout",
     "output_type": "stream",
     "text": [
      "1.365403652191162\n"
     ]
    },
    {
     "name": "stderr",
     "output_type": "stream",
     "text": [
      "<ipython-input-6-ba13226fe2c3>:41: FutureWarning: Indexing a timezone-aware DatetimeIndex with a timezone-naive datetime is deprecated and will raise KeyError in a future version. Use a timezone-aware object instead.\n",
      "  y = info.truncate(before=pd.Timestamp('today') - pd.DateOffset(months=12))\n",
      "<ipython-input-6-ba13226fe2c3>:42: FutureWarning: Indexing a timezone-aware DatetimeIndex with a timezone-naive datetime is deprecated and will raise KeyError in a future version. Use a timezone-aware object instead.\n",
      "  m6 = info.truncate(before=pd.Timestamp('today') - pd.DateOffset(months=6))\n",
      "<ipython-input-6-ba13226fe2c3>:43: FutureWarning: Indexing a timezone-aware DatetimeIndex with a timezone-naive datetime is deprecated and will raise KeyError in a future version. Use a timezone-aware object instead.\n",
      "  m3 = info.truncate(before=pd.Timestamp('today') - pd.DateOffset(months=3))\n",
      "<ipython-input-6-ba13226fe2c3>:44: FutureWarning: Indexing a timezone-aware DatetimeIndex with a timezone-naive datetime is deprecated and will raise KeyError in a future version. Use a timezone-aware object instead.\n",
      "  m1 = info.truncate(before=pd.Timestamp('today') - pd.DateOffset(months=1))\n"
     ]
    },
    {
     "name": "stdout",
     "output_type": "stream",
     "text": [
      "0.6097443103790283\n"
     ]
    },
    {
     "name": "stderr",
     "output_type": "stream",
     "text": [
      "<ipython-input-6-ba13226fe2c3>:41: FutureWarning: Indexing a timezone-aware DatetimeIndex with a timezone-naive datetime is deprecated and will raise KeyError in a future version. Use a timezone-aware object instead.\n",
      "  y = info.truncate(before=pd.Timestamp('today') - pd.DateOffset(months=12))\n",
      "<ipython-input-6-ba13226fe2c3>:42: FutureWarning: Indexing a timezone-aware DatetimeIndex with a timezone-naive datetime is deprecated and will raise KeyError in a future version. Use a timezone-aware object instead.\n",
      "  m6 = info.truncate(before=pd.Timestamp('today') - pd.DateOffset(months=6))\n",
      "<ipython-input-6-ba13226fe2c3>:43: FutureWarning: Indexing a timezone-aware DatetimeIndex with a timezone-naive datetime is deprecated and will raise KeyError in a future version. Use a timezone-aware object instead.\n",
      "  m3 = info.truncate(before=pd.Timestamp('today') - pd.DateOffset(months=3))\n",
      "<ipython-input-6-ba13226fe2c3>:44: FutureWarning: Indexing a timezone-aware DatetimeIndex with a timezone-naive datetime is deprecated and will raise KeyError in a future version. Use a timezone-aware object instead.\n",
      "  m1 = info.truncate(before=pd.Timestamp('today') - pd.DateOffset(months=1))\n"
     ]
    },
    {
     "name": "stdout",
     "output_type": "stream",
     "text": [
      "0.6137685775756836\n"
     ]
    },
    {
     "name": "stderr",
     "output_type": "stream",
     "text": [
      "<ipython-input-6-ba13226fe2c3>:41: FutureWarning: Indexing a timezone-aware DatetimeIndex with a timezone-naive datetime is deprecated and will raise KeyError in a future version. Use a timezone-aware object instead.\n",
      "  y = info.truncate(before=pd.Timestamp('today') - pd.DateOffset(months=12))\n",
      "<ipython-input-6-ba13226fe2c3>:42: FutureWarning: Indexing a timezone-aware DatetimeIndex with a timezone-naive datetime is deprecated and will raise KeyError in a future version. Use a timezone-aware object instead.\n",
      "  m6 = info.truncate(before=pd.Timestamp('today') - pd.DateOffset(months=6))\n",
      "<ipython-input-6-ba13226fe2c3>:43: FutureWarning: Indexing a timezone-aware DatetimeIndex with a timezone-naive datetime is deprecated and will raise KeyError in a future version. Use a timezone-aware object instead.\n",
      "  m3 = info.truncate(before=pd.Timestamp('today') - pd.DateOffset(months=3))\n",
      "<ipython-input-6-ba13226fe2c3>:44: FutureWarning: Indexing a timezone-aware DatetimeIndex with a timezone-naive datetime is deprecated and will raise KeyError in a future version. Use a timezone-aware object instead.\n",
      "  m1 = info.truncate(before=pd.Timestamp('today') - pd.DateOffset(months=1))\n"
     ]
    },
    {
     "name": "stdout",
     "output_type": "stream",
     "text": [
      "0.8253870010375977\n"
     ]
    },
    {
     "name": "stderr",
     "output_type": "stream",
     "text": [
      "<ipython-input-6-ba13226fe2c3>:41: FutureWarning: Indexing a timezone-aware DatetimeIndex with a timezone-naive datetime is deprecated and will raise KeyError in a future version. Use a timezone-aware object instead.\n",
      "  y = info.truncate(before=pd.Timestamp('today') - pd.DateOffset(months=12))\n",
      "<ipython-input-6-ba13226fe2c3>:42: FutureWarning: Indexing a timezone-aware DatetimeIndex with a timezone-naive datetime is deprecated and will raise KeyError in a future version. Use a timezone-aware object instead.\n",
      "  m6 = info.truncate(before=pd.Timestamp('today') - pd.DateOffset(months=6))\n",
      "<ipython-input-6-ba13226fe2c3>:43: FutureWarning: Indexing a timezone-aware DatetimeIndex with a timezone-naive datetime is deprecated and will raise KeyError in a future version. Use a timezone-aware object instead.\n",
      "  m3 = info.truncate(before=pd.Timestamp('today') - pd.DateOffset(months=3))\n",
      "<ipython-input-6-ba13226fe2c3>:44: FutureWarning: Indexing a timezone-aware DatetimeIndex with a timezone-naive datetime is deprecated and will raise KeyError in a future version. Use a timezone-aware object instead.\n",
      "  m1 = info.truncate(before=pd.Timestamp('today') - pd.DateOffset(months=1))\n"
     ]
    },
    {
     "name": "stdout",
     "output_type": "stream",
     "text": [
      "0.503718376159668\n"
     ]
    },
    {
     "name": "stderr",
     "output_type": "stream",
     "text": [
      "<ipython-input-6-ba13226fe2c3>:41: FutureWarning: Indexing a timezone-aware DatetimeIndex with a timezone-naive datetime is deprecated and will raise KeyError in a future version. Use a timezone-aware object instead.\n",
      "  y = info.truncate(before=pd.Timestamp('today') - pd.DateOffset(months=12))\n",
      "<ipython-input-6-ba13226fe2c3>:42: FutureWarning: Indexing a timezone-aware DatetimeIndex with a timezone-naive datetime is deprecated and will raise KeyError in a future version. Use a timezone-aware object instead.\n",
      "  m6 = info.truncate(before=pd.Timestamp('today') - pd.DateOffset(months=6))\n",
      "<ipython-input-6-ba13226fe2c3>:43: FutureWarning: Indexing a timezone-aware DatetimeIndex with a timezone-naive datetime is deprecated and will raise KeyError in a future version. Use a timezone-aware object instead.\n",
      "  m3 = info.truncate(before=pd.Timestamp('today') - pd.DateOffset(months=3))\n",
      "<ipython-input-6-ba13226fe2c3>:44: FutureWarning: Indexing a timezone-aware DatetimeIndex with a timezone-naive datetime is deprecated and will raise KeyError in a future version. Use a timezone-aware object instead.\n",
      "  m1 = info.truncate(before=pd.Timestamp('today') - pd.DateOffset(months=1))\n"
     ]
    },
    {
     "name": "stdout",
     "output_type": "stream",
     "text": [
      "0.6823301315307617\n"
     ]
    },
    {
     "name": "stderr",
     "output_type": "stream",
     "text": [
      "<ipython-input-6-ba13226fe2c3>:41: FutureWarning: Indexing a timezone-aware DatetimeIndex with a timezone-naive datetime is deprecated and will raise KeyError in a future version. Use a timezone-aware object instead.\n",
      "  y = info.truncate(before=pd.Timestamp('today') - pd.DateOffset(months=12))\n",
      "<ipython-input-6-ba13226fe2c3>:42: FutureWarning: Indexing a timezone-aware DatetimeIndex with a timezone-naive datetime is deprecated and will raise KeyError in a future version. Use a timezone-aware object instead.\n",
      "  m6 = info.truncate(before=pd.Timestamp('today') - pd.DateOffset(months=6))\n",
      "<ipython-input-6-ba13226fe2c3>:43: FutureWarning: Indexing a timezone-aware DatetimeIndex with a timezone-naive datetime is deprecated and will raise KeyError in a future version. Use a timezone-aware object instead.\n",
      "  m3 = info.truncate(before=pd.Timestamp('today') - pd.DateOffset(months=3))\n",
      "<ipython-input-6-ba13226fe2c3>:44: FutureWarning: Indexing a timezone-aware DatetimeIndex with a timezone-naive datetime is deprecated and will raise KeyError in a future version. Use a timezone-aware object instead.\n",
      "  m1 = info.truncate(before=pd.Timestamp('today') - pd.DateOffset(months=1))\n"
     ]
    },
    {
     "name": "stdout",
     "output_type": "stream",
     "text": [
      "0.6510779857635498\n"
     ]
    },
    {
     "name": "stderr",
     "output_type": "stream",
     "text": [
      "<ipython-input-6-ba13226fe2c3>:41: FutureWarning: Indexing a timezone-aware DatetimeIndex with a timezone-naive datetime is deprecated and will raise KeyError in a future version. Use a timezone-aware object instead.\n",
      "  y = info.truncate(before=pd.Timestamp('today') - pd.DateOffset(months=12))\n",
      "<ipython-input-6-ba13226fe2c3>:42: FutureWarning: Indexing a timezone-aware DatetimeIndex with a timezone-naive datetime is deprecated and will raise KeyError in a future version. Use a timezone-aware object instead.\n",
      "  m6 = info.truncate(before=pd.Timestamp('today') - pd.DateOffset(months=6))\n",
      "<ipython-input-6-ba13226fe2c3>:43: FutureWarning: Indexing a timezone-aware DatetimeIndex with a timezone-naive datetime is deprecated and will raise KeyError in a future version. Use a timezone-aware object instead.\n",
      "  m3 = info.truncate(before=pd.Timestamp('today') - pd.DateOffset(months=3))\n",
      "<ipython-input-6-ba13226fe2c3>:44: FutureWarning: Indexing a timezone-aware DatetimeIndex with a timezone-naive datetime is deprecated and will raise KeyError in a future version. Use a timezone-aware object instead.\n",
      "  m1 = info.truncate(before=pd.Timestamp('today') - pd.DateOffset(months=1))\n"
     ]
    },
    {
     "name": "stdout",
     "output_type": "stream",
     "text": [
      "0.8779544830322266\n"
     ]
    },
    {
     "name": "stderr",
     "output_type": "stream",
     "text": [
      "<ipython-input-6-ba13226fe2c3>:41: FutureWarning: Indexing a timezone-aware DatetimeIndex with a timezone-naive datetime is deprecated and will raise KeyError in a future version. Use a timezone-aware object instead.\n",
      "  y = info.truncate(before=pd.Timestamp('today') - pd.DateOffset(months=12))\n",
      "<ipython-input-6-ba13226fe2c3>:42: FutureWarning: Indexing a timezone-aware DatetimeIndex with a timezone-naive datetime is deprecated and will raise KeyError in a future version. Use a timezone-aware object instead.\n",
      "  m6 = info.truncate(before=pd.Timestamp('today') - pd.DateOffset(months=6))\n",
      "<ipython-input-6-ba13226fe2c3>:43: FutureWarning: Indexing a timezone-aware DatetimeIndex with a timezone-naive datetime is deprecated and will raise KeyError in a future version. Use a timezone-aware object instead.\n",
      "  m3 = info.truncate(before=pd.Timestamp('today') - pd.DateOffset(months=3))\n",
      "<ipython-input-6-ba13226fe2c3>:44: FutureWarning: Indexing a timezone-aware DatetimeIndex with a timezone-naive datetime is deprecated and will raise KeyError in a future version. Use a timezone-aware object instead.\n",
      "  m1 = info.truncate(before=pd.Timestamp('today') - pd.DateOffset(months=1))\n"
     ]
    },
    {
     "name": "stdout",
     "output_type": "stream",
     "text": [
      "0.48033809661865234\n"
     ]
    },
    {
     "name": "stderr",
     "output_type": "stream",
     "text": [
      "<ipython-input-6-ba13226fe2c3>:41: FutureWarning: Indexing a timezone-aware DatetimeIndex with a timezone-naive datetime is deprecated and will raise KeyError in a future version. Use a timezone-aware object instead.\n",
      "  y = info.truncate(before=pd.Timestamp('today') - pd.DateOffset(months=12))\n",
      "<ipython-input-6-ba13226fe2c3>:42: FutureWarning: Indexing a timezone-aware DatetimeIndex with a timezone-naive datetime is deprecated and will raise KeyError in a future version. Use a timezone-aware object instead.\n",
      "  m6 = info.truncate(before=pd.Timestamp('today') - pd.DateOffset(months=6))\n",
      "<ipython-input-6-ba13226fe2c3>:43: FutureWarning: Indexing a timezone-aware DatetimeIndex with a timezone-naive datetime is deprecated and will raise KeyError in a future version. Use a timezone-aware object instead.\n",
      "  m3 = info.truncate(before=pd.Timestamp('today') - pd.DateOffset(months=3))\n",
      "<ipython-input-6-ba13226fe2c3>:44: FutureWarning: Indexing a timezone-aware DatetimeIndex with a timezone-naive datetime is deprecated and will raise KeyError in a future version. Use a timezone-aware object instead.\n",
      "  m1 = info.truncate(before=pd.Timestamp('today') - pd.DateOffset(months=1))\n"
     ]
    },
    {
     "name": "stdout",
     "output_type": "stream",
     "text": [
      "0.5730433464050293\n"
     ]
    },
    {
     "name": "stderr",
     "output_type": "stream",
     "text": [
      "<ipython-input-6-ba13226fe2c3>:41: FutureWarning: Indexing a timezone-aware DatetimeIndex with a timezone-naive datetime is deprecated and will raise KeyError in a future version. Use a timezone-aware object instead.\n",
      "  y = info.truncate(before=pd.Timestamp('today') - pd.DateOffset(months=12))\n",
      "<ipython-input-6-ba13226fe2c3>:42: FutureWarning: Indexing a timezone-aware DatetimeIndex with a timezone-naive datetime is deprecated and will raise KeyError in a future version. Use a timezone-aware object instead.\n",
      "  m6 = info.truncate(before=pd.Timestamp('today') - pd.DateOffset(months=6))\n",
      "<ipython-input-6-ba13226fe2c3>:43: FutureWarning: Indexing a timezone-aware DatetimeIndex with a timezone-naive datetime is deprecated and will raise KeyError in a future version. Use a timezone-aware object instead.\n",
      "  m3 = info.truncate(before=pd.Timestamp('today') - pd.DateOffset(months=3))\n",
      "<ipython-input-6-ba13226fe2c3>:44: FutureWarning: Indexing a timezone-aware DatetimeIndex with a timezone-naive datetime is deprecated and will raise KeyError in a future version. Use a timezone-aware object instead.\n",
      "  m1 = info.truncate(before=pd.Timestamp('today') - pd.DateOffset(months=1))\n"
     ]
    },
    {
     "name": "stdout",
     "output_type": "stream",
     "text": [
      "0.6223948001861572\n"
     ]
    },
    {
     "name": "stderr",
     "output_type": "stream",
     "text": [
      "<ipython-input-6-ba13226fe2c3>:41: FutureWarning: Indexing a timezone-aware DatetimeIndex with a timezone-naive datetime is deprecated and will raise KeyError in a future version. Use a timezone-aware object instead.\n",
      "  y = info.truncate(before=pd.Timestamp('today') - pd.DateOffset(months=12))\n",
      "<ipython-input-6-ba13226fe2c3>:42: FutureWarning: Indexing a timezone-aware DatetimeIndex with a timezone-naive datetime is deprecated and will raise KeyError in a future version. Use a timezone-aware object instead.\n",
      "  m6 = info.truncate(before=pd.Timestamp('today') - pd.DateOffset(months=6))\n",
      "<ipython-input-6-ba13226fe2c3>:43: FutureWarning: Indexing a timezone-aware DatetimeIndex with a timezone-naive datetime is deprecated and will raise KeyError in a future version. Use a timezone-aware object instead.\n",
      "  m3 = info.truncate(before=pd.Timestamp('today') - pd.DateOffset(months=3))\n",
      "<ipython-input-6-ba13226fe2c3>:44: FutureWarning: Indexing a timezone-aware DatetimeIndex with a timezone-naive datetime is deprecated and will raise KeyError in a future version. Use a timezone-aware object instead.\n",
      "  m1 = info.truncate(before=pd.Timestamp('today') - pd.DateOffset(months=1))\n"
     ]
    },
    {
     "name": "stdout",
     "output_type": "stream",
     "text": [
      "0.5302822589874268\n"
     ]
    },
    {
     "name": "stderr",
     "output_type": "stream",
     "text": [
      "<ipython-input-6-ba13226fe2c3>:41: FutureWarning: Indexing a timezone-aware DatetimeIndex with a timezone-naive datetime is deprecated and will raise KeyError in a future version. Use a timezone-aware object instead.\n",
      "  y = info.truncate(before=pd.Timestamp('today') - pd.DateOffset(months=12))\n",
      "<ipython-input-6-ba13226fe2c3>:42: FutureWarning: Indexing a timezone-aware DatetimeIndex with a timezone-naive datetime is deprecated and will raise KeyError in a future version. Use a timezone-aware object instead.\n",
      "  m6 = info.truncate(before=pd.Timestamp('today') - pd.DateOffset(months=6))\n",
      "<ipython-input-6-ba13226fe2c3>:43: FutureWarning: Indexing a timezone-aware DatetimeIndex with a timezone-naive datetime is deprecated and will raise KeyError in a future version. Use a timezone-aware object instead.\n",
      "  m3 = info.truncate(before=pd.Timestamp('today') - pd.DateOffset(months=3))\n",
      "<ipython-input-6-ba13226fe2c3>:44: FutureWarning: Indexing a timezone-aware DatetimeIndex with a timezone-naive datetime is deprecated and will raise KeyError in a future version. Use a timezone-aware object instead.\n",
      "  m1 = info.truncate(before=pd.Timestamp('today') - pd.DateOffset(months=1))\n"
     ]
    },
    {
     "name": "stdout",
     "output_type": "stream",
     "text": [
      "0.9823355674743652\n"
     ]
    },
    {
     "name": "stderr",
     "output_type": "stream",
     "text": [
      "<ipython-input-6-ba13226fe2c3>:41: FutureWarning: Indexing a timezone-aware DatetimeIndex with a timezone-naive datetime is deprecated and will raise KeyError in a future version. Use a timezone-aware object instead.\n",
      "  y = info.truncate(before=pd.Timestamp('today') - pd.DateOffset(months=12))\n",
      "<ipython-input-6-ba13226fe2c3>:42: FutureWarning: Indexing a timezone-aware DatetimeIndex with a timezone-naive datetime is deprecated and will raise KeyError in a future version. Use a timezone-aware object instead.\n",
      "  m6 = info.truncate(before=pd.Timestamp('today') - pd.DateOffset(months=6))\n",
      "<ipython-input-6-ba13226fe2c3>:43: FutureWarning: Indexing a timezone-aware DatetimeIndex with a timezone-naive datetime is deprecated and will raise KeyError in a future version. Use a timezone-aware object instead.\n",
      "  m3 = info.truncate(before=pd.Timestamp('today') - pd.DateOffset(months=3))\n",
      "<ipython-input-6-ba13226fe2c3>:44: FutureWarning: Indexing a timezone-aware DatetimeIndex with a timezone-naive datetime is deprecated and will raise KeyError in a future version. Use a timezone-aware object instead.\n",
      "  m1 = info.truncate(before=pd.Timestamp('today') - pd.DateOffset(months=1))\n"
     ]
    },
    {
     "name": "stdout",
     "output_type": "stream",
     "text": [
      "0.5121726989746094\n"
     ]
    },
    {
     "name": "stderr",
     "output_type": "stream",
     "text": [
      "<ipython-input-6-ba13226fe2c3>:41: FutureWarning: Indexing a timezone-aware DatetimeIndex with a timezone-naive datetime is deprecated and will raise KeyError in a future version. Use a timezone-aware object instead.\n",
      "  y = info.truncate(before=pd.Timestamp('today') - pd.DateOffset(months=12))\n",
      "<ipython-input-6-ba13226fe2c3>:42: FutureWarning: Indexing a timezone-aware DatetimeIndex with a timezone-naive datetime is deprecated and will raise KeyError in a future version. Use a timezone-aware object instead.\n",
      "  m6 = info.truncate(before=pd.Timestamp('today') - pd.DateOffset(months=6))\n",
      "<ipython-input-6-ba13226fe2c3>:43: FutureWarning: Indexing a timezone-aware DatetimeIndex with a timezone-naive datetime is deprecated and will raise KeyError in a future version. Use a timezone-aware object instead.\n",
      "  m3 = info.truncate(before=pd.Timestamp('today') - pd.DateOffset(months=3))\n",
      "<ipython-input-6-ba13226fe2c3>:44: FutureWarning: Indexing a timezone-aware DatetimeIndex with a timezone-naive datetime is deprecated and will raise KeyError in a future version. Use a timezone-aware object instead.\n",
      "  m1 = info.truncate(before=pd.Timestamp('today') - pd.DateOffset(months=1))\n"
     ]
    },
    {
     "name": "stdout",
     "output_type": "stream",
     "text": [
      "0.55110764503479\n"
     ]
    },
    {
     "name": "stderr",
     "output_type": "stream",
     "text": [
      "<ipython-input-6-ba13226fe2c3>:41: FutureWarning: Indexing a timezone-aware DatetimeIndex with a timezone-naive datetime is deprecated and will raise KeyError in a future version. Use a timezone-aware object instead.\n",
      "  y = info.truncate(before=pd.Timestamp('today') - pd.DateOffset(months=12))\n",
      "<ipython-input-6-ba13226fe2c3>:42: FutureWarning: Indexing a timezone-aware DatetimeIndex with a timezone-naive datetime is deprecated and will raise KeyError in a future version. Use a timezone-aware object instead.\n",
      "  m6 = info.truncate(before=pd.Timestamp('today') - pd.DateOffset(months=6))\n",
      "<ipython-input-6-ba13226fe2c3>:43: FutureWarning: Indexing a timezone-aware DatetimeIndex with a timezone-naive datetime is deprecated and will raise KeyError in a future version. Use a timezone-aware object instead.\n",
      "  m3 = info.truncate(before=pd.Timestamp('today') - pd.DateOffset(months=3))\n",
      "<ipython-input-6-ba13226fe2c3>:44: FutureWarning: Indexing a timezone-aware DatetimeIndex with a timezone-naive datetime is deprecated and will raise KeyError in a future version. Use a timezone-aware object instead.\n",
      "  m1 = info.truncate(before=pd.Timestamp('today') - pd.DateOffset(months=1))\n"
     ]
    },
    {
     "name": "stdout",
     "output_type": "stream",
     "text": [
      "0.8183455467224121\n"
     ]
    },
    {
     "name": "stderr",
     "output_type": "stream",
     "text": [
      "<ipython-input-6-ba13226fe2c3>:41: FutureWarning: Indexing a timezone-aware DatetimeIndex with a timezone-naive datetime is deprecated and will raise KeyError in a future version. Use a timezone-aware object instead.\n",
      "  y = info.truncate(before=pd.Timestamp('today') - pd.DateOffset(months=12))\n",
      "<ipython-input-6-ba13226fe2c3>:42: FutureWarning: Indexing a timezone-aware DatetimeIndex with a timezone-naive datetime is deprecated and will raise KeyError in a future version. Use a timezone-aware object instead.\n",
      "  m6 = info.truncate(before=pd.Timestamp('today') - pd.DateOffset(months=6))\n",
      "<ipython-input-6-ba13226fe2c3>:43: FutureWarning: Indexing a timezone-aware DatetimeIndex with a timezone-naive datetime is deprecated and will raise KeyError in a future version. Use a timezone-aware object instead.\n",
      "  m3 = info.truncate(before=pd.Timestamp('today') - pd.DateOffset(months=3))\n",
      "<ipython-input-6-ba13226fe2c3>:44: FutureWarning: Indexing a timezone-aware DatetimeIndex with a timezone-naive datetime is deprecated and will raise KeyError in a future version. Use a timezone-aware object instead.\n",
      "  m1 = info.truncate(before=pd.Timestamp('today') - pd.DateOffset(months=1))\n"
     ]
    },
    {
     "name": "stdout",
     "output_type": "stream",
     "text": [
      "Index Error when producing momentum table\n"
     ]
    },
    {
     "name": "stderr",
     "output_type": "stream",
     "text": [
      "<ipython-input-6-ba13226fe2c3>:41: FutureWarning: Indexing a timezone-aware DatetimeIndex with a timezone-naive datetime is deprecated and will raise KeyError in a future version. Use a timezone-aware object instead.\n",
      "  y = info.truncate(before=pd.Timestamp('today') - pd.DateOffset(months=12))\n",
      "<ipython-input-6-ba13226fe2c3>:42: FutureWarning: Indexing a timezone-aware DatetimeIndex with a timezone-naive datetime is deprecated and will raise KeyError in a future version. Use a timezone-aware object instead.\n",
      "  m6 = info.truncate(before=pd.Timestamp('today') - pd.DateOffset(months=6))\n",
      "<ipython-input-6-ba13226fe2c3>:43: FutureWarning: Indexing a timezone-aware DatetimeIndex with a timezone-naive datetime is deprecated and will raise KeyError in a future version. Use a timezone-aware object instead.\n",
      "  m3 = info.truncate(before=pd.Timestamp('today') - pd.DateOffset(months=3))\n",
      "<ipython-input-6-ba13226fe2c3>:44: FutureWarning: Indexing a timezone-aware DatetimeIndex with a timezone-naive datetime is deprecated and will raise KeyError in a future version. Use a timezone-aware object instead.\n",
      "  m1 = info.truncate(before=pd.Timestamp('today') - pd.DateOffset(months=1))\n"
     ]
    },
    {
     "name": "stdout",
     "output_type": "stream",
     "text": [
      "0.6534125804901123\n",
      "CNW: 1d data not available for startTime=-2208994789 and endTime=1673461887. Only 100 years worth of day granularity data are allowed to be fetched per request.\n",
      "Index Error when producing momentum table\n"
     ]
    },
    {
     "name": "stderr",
     "output_type": "stream",
     "text": [
      "<ipython-input-6-ba13226fe2c3>:41: FutureWarning: Indexing a timezone-aware DatetimeIndex with a timezone-naive datetime is deprecated and will raise KeyError in a future version. Use a timezone-aware object instead.\n",
      "  y = info.truncate(before=pd.Timestamp('today') - pd.DateOffset(months=12))\n",
      "<ipython-input-6-ba13226fe2c3>:42: FutureWarning: Indexing a timezone-aware DatetimeIndex with a timezone-naive datetime is deprecated and will raise KeyError in a future version. Use a timezone-aware object instead.\n",
      "  m6 = info.truncate(before=pd.Timestamp('today') - pd.DateOffset(months=6))\n",
      "<ipython-input-6-ba13226fe2c3>:43: FutureWarning: Indexing a timezone-aware DatetimeIndex with a timezone-naive datetime is deprecated and will raise KeyError in a future version. Use a timezone-aware object instead.\n",
      "  m3 = info.truncate(before=pd.Timestamp('today') - pd.DateOffset(months=3))\n",
      "<ipython-input-6-ba13226fe2c3>:44: FutureWarning: Indexing a timezone-aware DatetimeIndex with a timezone-naive datetime is deprecated and will raise KeyError in a future version. Use a timezone-aware object instead.\n",
      "  m1 = info.truncate(before=pd.Timestamp('today') - pd.DateOffset(months=1))\n"
     ]
    },
    {
     "name": "stdout",
     "output_type": "stream",
     "text": [
      "1.0190751552581787\n",
      "Got error from yahoo api for ticker CXO, Error: {'code': 'Not Found', 'description': 'No data found, symbol may be delisted'}\n",
      "- CXO: No timezone found, symbol may be delisted\n",
      "Index Error when producing momentum table\n"
     ]
    },
    {
     "name": "stderr",
     "output_type": "stream",
     "text": [
      "<ipython-input-6-ba13226fe2c3>:41: FutureWarning: Indexing a timezone-aware DatetimeIndex with a timezone-naive datetime is deprecated and will raise KeyError in a future version. Use a timezone-aware object instead.\n",
      "  y = info.truncate(before=pd.Timestamp('today') - pd.DateOffset(months=12))\n",
      "<ipython-input-6-ba13226fe2c3>:42: FutureWarning: Indexing a timezone-aware DatetimeIndex with a timezone-naive datetime is deprecated and will raise KeyError in a future version. Use a timezone-aware object instead.\n",
      "  m6 = info.truncate(before=pd.Timestamp('today') - pd.DateOffset(months=6))\n",
      "<ipython-input-6-ba13226fe2c3>:43: FutureWarning: Indexing a timezone-aware DatetimeIndex with a timezone-naive datetime is deprecated and will raise KeyError in a future version. Use a timezone-aware object instead.\n",
      "  m3 = info.truncate(before=pd.Timestamp('today') - pd.DateOffset(months=3))\n",
      "<ipython-input-6-ba13226fe2c3>:44: FutureWarning: Indexing a timezone-aware DatetimeIndex with a timezone-naive datetime is deprecated and will raise KeyError in a future version. Use a timezone-aware object instead.\n",
      "  m1 = info.truncate(before=pd.Timestamp('today') - pd.DateOffset(months=1))\n"
     ]
    },
    {
     "name": "stdout",
     "output_type": "stream",
     "text": [
      "0.5391597747802734\n"
     ]
    },
    {
     "name": "stderr",
     "output_type": "stream",
     "text": [
      "<ipython-input-6-ba13226fe2c3>:41: FutureWarning: Indexing a timezone-aware DatetimeIndex with a timezone-naive datetime is deprecated and will raise KeyError in a future version. Use a timezone-aware object instead.\n",
      "  y = info.truncate(before=pd.Timestamp('today') - pd.DateOffset(months=12))\n",
      "<ipython-input-6-ba13226fe2c3>:42: FutureWarning: Indexing a timezone-aware DatetimeIndex with a timezone-naive datetime is deprecated and will raise KeyError in a future version. Use a timezone-aware object instead.\n",
      "  m6 = info.truncate(before=pd.Timestamp('today') - pd.DateOffset(months=6))\n",
      "<ipython-input-6-ba13226fe2c3>:43: FutureWarning: Indexing a timezone-aware DatetimeIndex with a timezone-naive datetime is deprecated and will raise KeyError in a future version. Use a timezone-aware object instead.\n",
      "  m3 = info.truncate(before=pd.Timestamp('today') - pd.DateOffset(months=3))\n",
      "<ipython-input-6-ba13226fe2c3>:44: FutureWarning: Indexing a timezone-aware DatetimeIndex with a timezone-naive datetime is deprecated and will raise KeyError in a future version. Use a timezone-aware object instead.\n",
      "  m1 = info.truncate(before=pd.Timestamp('today') - pd.DateOffset(months=1))\n"
     ]
    },
    {
     "name": "stdout",
     "output_type": "stream",
     "text": [
      "0.7230849266052246\n"
     ]
    },
    {
     "name": "stderr",
     "output_type": "stream",
     "text": [
      "<ipython-input-6-ba13226fe2c3>:41: FutureWarning: Indexing a timezone-aware DatetimeIndex with a timezone-naive datetime is deprecated and will raise KeyError in a future version. Use a timezone-aware object instead.\n",
      "  y = info.truncate(before=pd.Timestamp('today') - pd.DateOffset(months=12))\n",
      "<ipython-input-6-ba13226fe2c3>:42: FutureWarning: Indexing a timezone-aware DatetimeIndex with a timezone-naive datetime is deprecated and will raise KeyError in a future version. Use a timezone-aware object instead.\n",
      "  m6 = info.truncate(before=pd.Timestamp('today') - pd.DateOffset(months=6))\n",
      "<ipython-input-6-ba13226fe2c3>:43: FutureWarning: Indexing a timezone-aware DatetimeIndex with a timezone-naive datetime is deprecated and will raise KeyError in a future version. Use a timezone-aware object instead.\n",
      "  m3 = info.truncate(before=pd.Timestamp('today') - pd.DateOffset(months=3))\n",
      "<ipython-input-6-ba13226fe2c3>:44: FutureWarning: Indexing a timezone-aware DatetimeIndex with a timezone-naive datetime is deprecated and will raise KeyError in a future version. Use a timezone-aware object instead.\n",
      "  m1 = info.truncate(before=pd.Timestamp('today') - pd.DateOffset(months=1))\n"
     ]
    },
    {
     "name": "stdout",
     "output_type": "stream",
     "text": [
      "0.5029714107513428\n"
     ]
    },
    {
     "name": "stderr",
     "output_type": "stream",
     "text": [
      "<ipython-input-6-ba13226fe2c3>:41: FutureWarning: Indexing a timezone-aware DatetimeIndex with a timezone-naive datetime is deprecated and will raise KeyError in a future version. Use a timezone-aware object instead.\n",
      "  y = info.truncate(before=pd.Timestamp('today') - pd.DateOffset(months=12))\n",
      "<ipython-input-6-ba13226fe2c3>:42: FutureWarning: Indexing a timezone-aware DatetimeIndex with a timezone-naive datetime is deprecated and will raise KeyError in a future version. Use a timezone-aware object instead.\n",
      "  m6 = info.truncate(before=pd.Timestamp('today') - pd.DateOffset(months=6))\n",
      "<ipython-input-6-ba13226fe2c3>:43: FutureWarning: Indexing a timezone-aware DatetimeIndex with a timezone-naive datetime is deprecated and will raise KeyError in a future version. Use a timezone-aware object instead.\n",
      "  m3 = info.truncate(before=pd.Timestamp('today') - pd.DateOffset(months=3))\n",
      "<ipython-input-6-ba13226fe2c3>:44: FutureWarning: Indexing a timezone-aware DatetimeIndex with a timezone-naive datetime is deprecated and will raise KeyError in a future version. Use a timezone-aware object instead.\n",
      "  m1 = info.truncate(before=pd.Timestamp('today') - pd.DateOffset(months=1))\n"
     ]
    },
    {
     "name": "stdout",
     "output_type": "stream",
     "text": [
      "1.1220362186431885\n"
     ]
    },
    {
     "name": "stderr",
     "output_type": "stream",
     "text": [
      "<ipython-input-6-ba13226fe2c3>:41: FutureWarning: Indexing a timezone-aware DatetimeIndex with a timezone-naive datetime is deprecated and will raise KeyError in a future version. Use a timezone-aware object instead.\n",
      "  y = info.truncate(before=pd.Timestamp('today') - pd.DateOffset(months=12))\n",
      "<ipython-input-6-ba13226fe2c3>:42: FutureWarning: Indexing a timezone-aware DatetimeIndex with a timezone-naive datetime is deprecated and will raise KeyError in a future version. Use a timezone-aware object instead.\n",
      "  m6 = info.truncate(before=pd.Timestamp('today') - pd.DateOffset(months=6))\n",
      "<ipython-input-6-ba13226fe2c3>:43: FutureWarning: Indexing a timezone-aware DatetimeIndex with a timezone-naive datetime is deprecated and will raise KeyError in a future version. Use a timezone-aware object instead.\n",
      "  m3 = info.truncate(before=pd.Timestamp('today') - pd.DateOffset(months=3))\n",
      "<ipython-input-6-ba13226fe2c3>:44: FutureWarning: Indexing a timezone-aware DatetimeIndex with a timezone-naive datetime is deprecated and will raise KeyError in a future version. Use a timezone-aware object instead.\n",
      "  m1 = info.truncate(before=pd.Timestamp('today') - pd.DateOffset(months=1))\n"
     ]
    },
    {
     "name": "stdout",
     "output_type": "stream",
     "text": [
      "1.0864572525024414\n"
     ]
    },
    {
     "name": "stderr",
     "output_type": "stream",
     "text": [
      "<ipython-input-6-ba13226fe2c3>:41: FutureWarning: Indexing a timezone-aware DatetimeIndex with a timezone-naive datetime is deprecated and will raise KeyError in a future version. Use a timezone-aware object instead.\n",
      "  y = info.truncate(before=pd.Timestamp('today') - pd.DateOffset(months=12))\n",
      "<ipython-input-6-ba13226fe2c3>:42: FutureWarning: Indexing a timezone-aware DatetimeIndex with a timezone-naive datetime is deprecated and will raise KeyError in a future version. Use a timezone-aware object instead.\n",
      "  m6 = info.truncate(before=pd.Timestamp('today') - pd.DateOffset(months=6))\n",
      "<ipython-input-6-ba13226fe2c3>:43: FutureWarning: Indexing a timezone-aware DatetimeIndex with a timezone-naive datetime is deprecated and will raise KeyError in a future version. Use a timezone-aware object instead.\n",
      "  m3 = info.truncate(before=pd.Timestamp('today') - pd.DateOffset(months=3))\n",
      "<ipython-input-6-ba13226fe2c3>:44: FutureWarning: Indexing a timezone-aware DatetimeIndex with a timezone-naive datetime is deprecated and will raise KeyError in a future version. Use a timezone-aware object instead.\n",
      "  m1 = info.truncate(before=pd.Timestamp('today') - pd.DateOffset(months=1))\n"
     ]
    },
    {
     "name": "stdout",
     "output_type": "stream",
     "text": [
      "0.4778611660003662\n"
     ]
    },
    {
     "name": "stderr",
     "output_type": "stream",
     "text": [
      "<ipython-input-6-ba13226fe2c3>:41: FutureWarning: Indexing a timezone-aware DatetimeIndex with a timezone-naive datetime is deprecated and will raise KeyError in a future version. Use a timezone-aware object instead.\n",
      "  y = info.truncate(before=pd.Timestamp('today') - pd.DateOffset(months=12))\n",
      "<ipython-input-6-ba13226fe2c3>:42: FutureWarning: Indexing a timezone-aware DatetimeIndex with a timezone-naive datetime is deprecated and will raise KeyError in a future version. Use a timezone-aware object instead.\n",
      "  m6 = info.truncate(before=pd.Timestamp('today') - pd.DateOffset(months=6))\n",
      "<ipython-input-6-ba13226fe2c3>:43: FutureWarning: Indexing a timezone-aware DatetimeIndex with a timezone-naive datetime is deprecated and will raise KeyError in a future version. Use a timezone-aware object instead.\n",
      "  m3 = info.truncate(before=pd.Timestamp('today') - pd.DateOffset(months=3))\n",
      "<ipython-input-6-ba13226fe2c3>:44: FutureWarning: Indexing a timezone-aware DatetimeIndex with a timezone-naive datetime is deprecated and will raise KeyError in a future version. Use a timezone-aware object instead.\n",
      "  m1 = info.truncate(before=pd.Timestamp('today') - pd.DateOffset(months=1))\n"
     ]
    },
    {
     "name": "stdout",
     "output_type": "stream",
     "text": [
      "0.5509676933288574\n",
      "Got error from yahoo api for ticker CBPX, Error: {'code': 'Not Found', 'description': 'No data found, symbol may be delisted'}\n",
      "- CBPX: No timezone found, symbol may be delisted\n",
      "Index Error when producing momentum table\n"
     ]
    },
    {
     "name": "stderr",
     "output_type": "stream",
     "text": [
      "<ipython-input-6-ba13226fe2c3>:41: FutureWarning: Indexing a timezone-aware DatetimeIndex with a timezone-naive datetime is deprecated and will raise KeyError in a future version. Use a timezone-aware object instead.\n",
      "  y = info.truncate(before=pd.Timestamp('today') - pd.DateOffset(months=12))\n",
      "<ipython-input-6-ba13226fe2c3>:42: FutureWarning: Indexing a timezone-aware DatetimeIndex with a timezone-naive datetime is deprecated and will raise KeyError in a future version. Use a timezone-aware object instead.\n",
      "  m6 = info.truncate(before=pd.Timestamp('today') - pd.DateOffset(months=6))\n",
      "<ipython-input-6-ba13226fe2c3>:43: FutureWarning: Indexing a timezone-aware DatetimeIndex with a timezone-naive datetime is deprecated and will raise KeyError in a future version. Use a timezone-aware object instead.\n",
      "  m3 = info.truncate(before=pd.Timestamp('today') - pd.DateOffset(months=3))\n",
      "<ipython-input-6-ba13226fe2c3>:44: FutureWarning: Indexing a timezone-aware DatetimeIndex with a timezone-naive datetime is deprecated and will raise KeyError in a future version. Use a timezone-aware object instead.\n",
      "  m1 = info.truncate(before=pd.Timestamp('today') - pd.DateOffset(months=1))\n"
     ]
    },
    {
     "name": "stdout",
     "output_type": "stream",
     "text": [
      "Index Error when producing momentum table\n"
     ]
    },
    {
     "name": "stderr",
     "output_type": "stream",
     "text": [
      "<ipython-input-6-ba13226fe2c3>:41: FutureWarning: Indexing a timezone-aware DatetimeIndex with a timezone-naive datetime is deprecated and will raise KeyError in a future version. Use a timezone-aware object instead.\n",
      "  y = info.truncate(before=pd.Timestamp('today') - pd.DateOffset(months=12))\n",
      "<ipython-input-6-ba13226fe2c3>:42: FutureWarning: Indexing a timezone-aware DatetimeIndex with a timezone-naive datetime is deprecated and will raise KeyError in a future version. Use a timezone-aware object instead.\n",
      "  m6 = info.truncate(before=pd.Timestamp('today') - pd.DateOffset(months=6))\n",
      "<ipython-input-6-ba13226fe2c3>:43: FutureWarning: Indexing a timezone-aware DatetimeIndex with a timezone-naive datetime is deprecated and will raise KeyError in a future version. Use a timezone-aware object instead.\n",
      "  m3 = info.truncate(before=pd.Timestamp('today') - pd.DateOffset(months=3))\n",
      "<ipython-input-6-ba13226fe2c3>:44: FutureWarning: Indexing a timezone-aware DatetimeIndex with a timezone-naive datetime is deprecated and will raise KeyError in a future version. Use a timezone-aware object instead.\n",
      "  m1 = info.truncate(before=pd.Timestamp('today') - pd.DateOffset(months=1))\n"
     ]
    },
    {
     "name": "stdout",
     "output_type": "stream",
     "text": [
      "0.4898543357849121\n"
     ]
    },
    {
     "name": "stderr",
     "output_type": "stream",
     "text": [
      "<ipython-input-6-ba13226fe2c3>:41: FutureWarning: Indexing a timezone-aware DatetimeIndex with a timezone-naive datetime is deprecated and will raise KeyError in a future version. Use a timezone-aware object instead.\n",
      "  y = info.truncate(before=pd.Timestamp('today') - pd.DateOffset(months=12))\n",
      "<ipython-input-6-ba13226fe2c3>:42: FutureWarning: Indexing a timezone-aware DatetimeIndex with a timezone-naive datetime is deprecated and will raise KeyError in a future version. Use a timezone-aware object instead.\n",
      "  m6 = info.truncate(before=pd.Timestamp('today') - pd.DateOffset(months=6))\n",
      "<ipython-input-6-ba13226fe2c3>:43: FutureWarning: Indexing a timezone-aware DatetimeIndex with a timezone-naive datetime is deprecated and will raise KeyError in a future version. Use a timezone-aware object instead.\n",
      "  m3 = info.truncate(before=pd.Timestamp('today') - pd.DateOffset(months=3))\n",
      "<ipython-input-6-ba13226fe2c3>:44: FutureWarning: Indexing a timezone-aware DatetimeIndex with a timezone-naive datetime is deprecated and will raise KeyError in a future version. Use a timezone-aware object instead.\n",
      "  m1 = info.truncate(before=pd.Timestamp('today') - pd.DateOffset(months=1))\n"
     ]
    },
    {
     "name": "stdout",
     "output_type": "stream",
     "text": [
      "1.229600429534912\n"
     ]
    },
    {
     "name": "stderr",
     "output_type": "stream",
     "text": [
      "<ipython-input-6-ba13226fe2c3>:41: FutureWarning: Indexing a timezone-aware DatetimeIndex with a timezone-naive datetime is deprecated and will raise KeyError in a future version. Use a timezone-aware object instead.\n",
      "  y = info.truncate(before=pd.Timestamp('today') - pd.DateOffset(months=12))\n",
      "<ipython-input-6-ba13226fe2c3>:42: FutureWarning: Indexing a timezone-aware DatetimeIndex with a timezone-naive datetime is deprecated and will raise KeyError in a future version. Use a timezone-aware object instead.\n",
      "  m6 = info.truncate(before=pd.Timestamp('today') - pd.DateOffset(months=6))\n",
      "<ipython-input-6-ba13226fe2c3>:43: FutureWarning: Indexing a timezone-aware DatetimeIndex with a timezone-naive datetime is deprecated and will raise KeyError in a future version. Use a timezone-aware object instead.\n",
      "  m3 = info.truncate(before=pd.Timestamp('today') - pd.DateOffset(months=3))\n",
      "<ipython-input-6-ba13226fe2c3>:44: FutureWarning: Indexing a timezone-aware DatetimeIndex with a timezone-naive datetime is deprecated and will raise KeyError in a future version. Use a timezone-aware object instead.\n",
      "  m1 = info.truncate(before=pd.Timestamp('today') - pd.DateOffset(months=1))\n"
     ]
    },
    {
     "name": "stdout",
     "output_type": "stream",
     "text": [
      "0.6284792423248291\n"
     ]
    },
    {
     "name": "stderr",
     "output_type": "stream",
     "text": [
      "<ipython-input-6-ba13226fe2c3>:41: FutureWarning: Indexing a timezone-aware DatetimeIndex with a timezone-naive datetime is deprecated and will raise KeyError in a future version. Use a timezone-aware object instead.\n",
      "  y = info.truncate(before=pd.Timestamp('today') - pd.DateOffset(months=12))\n",
      "<ipython-input-6-ba13226fe2c3>:42: FutureWarning: Indexing a timezone-aware DatetimeIndex with a timezone-naive datetime is deprecated and will raise KeyError in a future version. Use a timezone-aware object instead.\n",
      "  m6 = info.truncate(before=pd.Timestamp('today') - pd.DateOffset(months=6))\n",
      "<ipython-input-6-ba13226fe2c3>:43: FutureWarning: Indexing a timezone-aware DatetimeIndex with a timezone-naive datetime is deprecated and will raise KeyError in a future version. Use a timezone-aware object instead.\n",
      "  m3 = info.truncate(before=pd.Timestamp('today') - pd.DateOffset(months=3))\n",
      "<ipython-input-6-ba13226fe2c3>:44: FutureWarning: Indexing a timezone-aware DatetimeIndex with a timezone-naive datetime is deprecated and will raise KeyError in a future version. Use a timezone-aware object instead.\n",
      "  m1 = info.truncate(before=pd.Timestamp('today') - pd.DateOffset(months=1))\n"
     ]
    },
    {
     "name": "stdout",
     "output_type": "stream",
     "text": [
      "0.4786651134490967\n",
      "Got error from yahoo api for ticker CTB, Error: {'code': 'Not Found', 'description': 'No data found, symbol may be delisted'}\n",
      "- CTB: No timezone found, symbol may be delisted\n",
      "Index Error when producing momentum table\n"
     ]
    },
    {
     "name": "stderr",
     "output_type": "stream",
     "text": [
      "<ipython-input-6-ba13226fe2c3>:41: FutureWarning: Indexing a timezone-aware DatetimeIndex with a timezone-naive datetime is deprecated and will raise KeyError in a future version. Use a timezone-aware object instead.\n",
      "  y = info.truncate(before=pd.Timestamp('today') - pd.DateOffset(months=12))\n",
      "<ipython-input-6-ba13226fe2c3>:42: FutureWarning: Indexing a timezone-aware DatetimeIndex with a timezone-naive datetime is deprecated and will raise KeyError in a future version. Use a timezone-aware object instead.\n",
      "  m6 = info.truncate(before=pd.Timestamp('today') - pd.DateOffset(months=6))\n",
      "<ipython-input-6-ba13226fe2c3>:43: FutureWarning: Indexing a timezone-aware DatetimeIndex with a timezone-naive datetime is deprecated and will raise KeyError in a future version. Use a timezone-aware object instead.\n",
      "  m3 = info.truncate(before=pd.Timestamp('today') - pd.DateOffset(months=3))\n",
      "<ipython-input-6-ba13226fe2c3>:44: FutureWarning: Indexing a timezone-aware DatetimeIndex with a timezone-naive datetime is deprecated and will raise KeyError in a future version. Use a timezone-aware object instead.\n",
      "  m1 = info.truncate(before=pd.Timestamp('today') - pd.DateOffset(months=1))\n"
     ]
    },
    {
     "name": "stdout",
     "output_type": "stream",
     "text": [
      "0.46826982498168945\n"
     ]
    },
    {
     "name": "stderr",
     "output_type": "stream",
     "text": [
      "<ipython-input-6-ba13226fe2c3>:41: FutureWarning: Indexing a timezone-aware DatetimeIndex with a timezone-naive datetime is deprecated and will raise KeyError in a future version. Use a timezone-aware object instead.\n",
      "  y = info.truncate(before=pd.Timestamp('today') - pd.DateOffset(months=12))\n",
      "<ipython-input-6-ba13226fe2c3>:42: FutureWarning: Indexing a timezone-aware DatetimeIndex with a timezone-naive datetime is deprecated and will raise KeyError in a future version. Use a timezone-aware object instead.\n",
      "  m6 = info.truncate(before=pd.Timestamp('today') - pd.DateOffset(months=6))\n",
      "<ipython-input-6-ba13226fe2c3>:43: FutureWarning: Indexing a timezone-aware DatetimeIndex with a timezone-naive datetime is deprecated and will raise KeyError in a future version. Use a timezone-aware object instead.\n",
      "  m3 = info.truncate(before=pd.Timestamp('today') - pd.DateOffset(months=3))\n",
      "<ipython-input-6-ba13226fe2c3>:44: FutureWarning: Indexing a timezone-aware DatetimeIndex with a timezone-naive datetime is deprecated and will raise KeyError in a future version. Use a timezone-aware object instead.\n",
      "  m1 = info.truncate(before=pd.Timestamp('today') - pd.DateOffset(months=1))\n"
     ]
    },
    {
     "name": "stdout",
     "output_type": "stream",
     "text": [
      "0.512596607208252\n",
      "Got error from yahoo api for ticker CLGX, Error: {'code': 'Not Found', 'description': 'No data found, symbol may be delisted'}\n",
      "- CLGX: No timezone found, symbol may be delisted\n",
      "Index Error when producing momentum table\n"
     ]
    },
    {
     "name": "stderr",
     "output_type": "stream",
     "text": [
      "<ipython-input-6-ba13226fe2c3>:41: FutureWarning: Indexing a timezone-aware DatetimeIndex with a timezone-naive datetime is deprecated and will raise KeyError in a future version. Use a timezone-aware object instead.\n",
      "  y = info.truncate(before=pd.Timestamp('today') - pd.DateOffset(months=12))\n",
      "<ipython-input-6-ba13226fe2c3>:42: FutureWarning: Indexing a timezone-aware DatetimeIndex with a timezone-naive datetime is deprecated and will raise KeyError in a future version. Use a timezone-aware object instead.\n",
      "  m6 = info.truncate(before=pd.Timestamp('today') - pd.DateOffset(months=6))\n",
      "<ipython-input-6-ba13226fe2c3>:43: FutureWarning: Indexing a timezone-aware DatetimeIndex with a timezone-naive datetime is deprecated and will raise KeyError in a future version. Use a timezone-aware object instead.\n",
      "  m3 = info.truncate(before=pd.Timestamp('today') - pd.DateOffset(months=3))\n",
      "<ipython-input-6-ba13226fe2c3>:44: FutureWarning: Indexing a timezone-aware DatetimeIndex with a timezone-naive datetime is deprecated and will raise KeyError in a future version. Use a timezone-aware object instead.\n",
      "  m1 = info.truncate(before=pd.Timestamp('today') - pd.DateOffset(months=1))\n"
     ]
    },
    {
     "name": "stdout",
     "output_type": "stream",
     "text": [
      "0.5664243698120117\n"
     ]
    },
    {
     "name": "stderr",
     "output_type": "stream",
     "text": [
      "<ipython-input-6-ba13226fe2c3>:41: FutureWarning: Indexing a timezone-aware DatetimeIndex with a timezone-naive datetime is deprecated and will raise KeyError in a future version. Use a timezone-aware object instead.\n",
      "  y = info.truncate(before=pd.Timestamp('today') - pd.DateOffset(months=12))\n",
      "<ipython-input-6-ba13226fe2c3>:42: FutureWarning: Indexing a timezone-aware DatetimeIndex with a timezone-naive datetime is deprecated and will raise KeyError in a future version. Use a timezone-aware object instead.\n",
      "  m6 = info.truncate(before=pd.Timestamp('today') - pd.DateOffset(months=6))\n",
      "<ipython-input-6-ba13226fe2c3>:43: FutureWarning: Indexing a timezone-aware DatetimeIndex with a timezone-naive datetime is deprecated and will raise KeyError in a future version. Use a timezone-aware object instead.\n",
      "  m3 = info.truncate(before=pd.Timestamp('today') - pd.DateOffset(months=3))\n",
      "<ipython-input-6-ba13226fe2c3>:44: FutureWarning: Indexing a timezone-aware DatetimeIndex with a timezone-naive datetime is deprecated and will raise KeyError in a future version. Use a timezone-aware object instead.\n",
      "  m1 = info.truncate(before=pd.Timestamp('today') - pd.DateOffset(months=1))\n"
     ]
    },
    {
     "name": "stdout",
     "output_type": "stream",
     "text": [
      "0.6164050102233887\n"
     ]
    },
    {
     "name": "stderr",
     "output_type": "stream",
     "text": [
      "<ipython-input-6-ba13226fe2c3>:41: FutureWarning: Indexing a timezone-aware DatetimeIndex with a timezone-naive datetime is deprecated and will raise KeyError in a future version. Use a timezone-aware object instead.\n",
      "  y = info.truncate(before=pd.Timestamp('today') - pd.DateOffset(months=12))\n",
      "<ipython-input-6-ba13226fe2c3>:42: FutureWarning: Indexing a timezone-aware DatetimeIndex with a timezone-naive datetime is deprecated and will raise KeyError in a future version. Use a timezone-aware object instead.\n",
      "  m6 = info.truncate(before=pd.Timestamp('today') - pd.DateOffset(months=6))\n",
      "<ipython-input-6-ba13226fe2c3>:43: FutureWarning: Indexing a timezone-aware DatetimeIndex with a timezone-naive datetime is deprecated and will raise KeyError in a future version. Use a timezone-aware object instead.\n",
      "  m3 = info.truncate(before=pd.Timestamp('today') - pd.DateOffset(months=3))\n",
      "<ipython-input-6-ba13226fe2c3>:44: FutureWarning: Indexing a timezone-aware DatetimeIndex with a timezone-naive datetime is deprecated and will raise KeyError in a future version. Use a timezone-aware object instead.\n",
      "  m1 = info.truncate(before=pd.Timestamp('today') - pd.DateOffset(months=1))\n"
     ]
    },
    {
     "name": "stdout",
     "output_type": "stream",
     "text": [
      "Index Error when producing momentum table\n",
      "Got error from yahoo api for ticker GYB, Error: {'code': 'Not Found', 'description': 'No data found, symbol may be delisted'}\n",
      "- GYB: No timezone found, symbol may be delisted\n",
      "Index Error when producing momentum table\n"
     ]
    },
    {
     "name": "stderr",
     "output_type": "stream",
     "text": [
      "<ipython-input-6-ba13226fe2c3>:41: FutureWarning: Indexing a timezone-aware DatetimeIndex with a timezone-naive datetime is deprecated and will raise KeyError in a future version. Use a timezone-aware object instead.\n",
      "  y = info.truncate(before=pd.Timestamp('today') - pd.DateOffset(months=12))\n",
      "<ipython-input-6-ba13226fe2c3>:42: FutureWarning: Indexing a timezone-aware DatetimeIndex with a timezone-naive datetime is deprecated and will raise KeyError in a future version. Use a timezone-aware object instead.\n",
      "  m6 = info.truncate(before=pd.Timestamp('today') - pd.DateOffset(months=6))\n",
      "<ipython-input-6-ba13226fe2c3>:43: FutureWarning: Indexing a timezone-aware DatetimeIndex with a timezone-naive datetime is deprecated and will raise KeyError in a future version. Use a timezone-aware object instead.\n",
      "  m3 = info.truncate(before=pd.Timestamp('today') - pd.DateOffset(months=3))\n",
      "<ipython-input-6-ba13226fe2c3>:44: FutureWarning: Indexing a timezone-aware DatetimeIndex with a timezone-naive datetime is deprecated and will raise KeyError in a future version. Use a timezone-aware object instead.\n",
      "  m1 = info.truncate(before=pd.Timestamp('today') - pd.DateOffset(months=1))\n"
     ]
    },
    {
     "name": "stdout",
     "output_type": "stream",
     "text": [
      "Index Error when producing momentum table\n"
     ]
    },
    {
     "name": "stderr",
     "output_type": "stream",
     "text": [
      "<ipython-input-6-ba13226fe2c3>:41: FutureWarning: Indexing a timezone-aware DatetimeIndex with a timezone-naive datetime is deprecated and will raise KeyError in a future version. Use a timezone-aware object instead.\n",
      "  y = info.truncate(before=pd.Timestamp('today') - pd.DateOffset(months=12))\n",
      "<ipython-input-6-ba13226fe2c3>:42: FutureWarning: Indexing a timezone-aware DatetimeIndex with a timezone-naive datetime is deprecated and will raise KeyError in a future version. Use a timezone-aware object instead.\n",
      "  m6 = info.truncate(before=pd.Timestamp('today') - pd.DateOffset(months=6))\n",
      "<ipython-input-6-ba13226fe2c3>:43: FutureWarning: Indexing a timezone-aware DatetimeIndex with a timezone-naive datetime is deprecated and will raise KeyError in a future version. Use a timezone-aware object instead.\n",
      "  m3 = info.truncate(before=pd.Timestamp('today') - pd.DateOffset(months=3))\n",
      "<ipython-input-6-ba13226fe2c3>:44: FutureWarning: Indexing a timezone-aware DatetimeIndex with a timezone-naive datetime is deprecated and will raise KeyError in a future version. Use a timezone-aware object instead.\n",
      "  m1 = info.truncate(before=pd.Timestamp('today') - pd.DateOffset(months=1))\n"
     ]
    },
    {
     "name": "stdout",
     "output_type": "stream",
     "text": [
      "Index Error when producing momentum table\n"
     ]
    },
    {
     "name": "stderr",
     "output_type": "stream",
     "text": [
      "<ipython-input-6-ba13226fe2c3>:41: FutureWarning: Indexing a timezone-aware DatetimeIndex with a timezone-naive datetime is deprecated and will raise KeyError in a future version. Use a timezone-aware object instead.\n",
      "  y = info.truncate(before=pd.Timestamp('today') - pd.DateOffset(months=12))\n",
      "<ipython-input-6-ba13226fe2c3>:42: FutureWarning: Indexing a timezone-aware DatetimeIndex with a timezone-naive datetime is deprecated and will raise KeyError in a future version. Use a timezone-aware object instead.\n",
      "  m6 = info.truncate(before=pd.Timestamp('today') - pd.DateOffset(months=6))\n",
      "<ipython-input-6-ba13226fe2c3>:43: FutureWarning: Indexing a timezone-aware DatetimeIndex with a timezone-naive datetime is deprecated and will raise KeyError in a future version. Use a timezone-aware object instead.\n",
      "  m3 = info.truncate(before=pd.Timestamp('today') - pd.DateOffset(months=3))\n",
      "<ipython-input-6-ba13226fe2c3>:44: FutureWarning: Indexing a timezone-aware DatetimeIndex with a timezone-naive datetime is deprecated and will raise KeyError in a future version. Use a timezone-aware object instead.\n",
      "  m1 = info.truncate(before=pd.Timestamp('today') - pd.DateOffset(months=1))\n"
     ]
    },
    {
     "name": "stdout",
     "output_type": "stream",
     "text": [
      "0.7664554119110107\n"
     ]
    },
    {
     "name": "stderr",
     "output_type": "stream",
     "text": [
      "<ipython-input-6-ba13226fe2c3>:41: FutureWarning: Indexing a timezone-aware DatetimeIndex with a timezone-naive datetime is deprecated and will raise KeyError in a future version. Use a timezone-aware object instead.\n",
      "  y = info.truncate(before=pd.Timestamp('today') - pd.DateOffset(months=12))\n",
      "<ipython-input-6-ba13226fe2c3>:42: FutureWarning: Indexing a timezone-aware DatetimeIndex with a timezone-naive datetime is deprecated and will raise KeyError in a future version. Use a timezone-aware object instead.\n",
      "  m6 = info.truncate(before=pd.Timestamp('today') - pd.DateOffset(months=6))\n",
      "<ipython-input-6-ba13226fe2c3>:43: FutureWarning: Indexing a timezone-aware DatetimeIndex with a timezone-naive datetime is deprecated and will raise KeyError in a future version. Use a timezone-aware object instead.\n",
      "  m3 = info.truncate(before=pd.Timestamp('today') - pd.DateOffset(months=3))\n",
      "<ipython-input-6-ba13226fe2c3>:44: FutureWarning: Indexing a timezone-aware DatetimeIndex with a timezone-naive datetime is deprecated and will raise KeyError in a future version. Use a timezone-aware object instead.\n",
      "  m1 = info.truncate(before=pd.Timestamp('today') - pd.DateOffset(months=1))\n"
     ]
    },
    {
     "name": "stdout",
     "output_type": "stream",
     "text": [
      "0.6509535312652588\n",
      "Got error from yahoo api for ticker CZZ, Error: {'code': 'Not Found', 'description': 'No data found, symbol may be delisted'}\n",
      "- CZZ: No timezone found, symbol may be delisted\n",
      "Index Error when producing momentum table\n"
     ]
    },
    {
     "name": "stderr",
     "output_type": "stream",
     "text": [
      "<ipython-input-6-ba13226fe2c3>:41: FutureWarning: Indexing a timezone-aware DatetimeIndex with a timezone-naive datetime is deprecated and will raise KeyError in a future version. Use a timezone-aware object instead.\n",
      "  y = info.truncate(before=pd.Timestamp('today') - pd.DateOffset(months=12))\n",
      "<ipython-input-6-ba13226fe2c3>:42: FutureWarning: Indexing a timezone-aware DatetimeIndex with a timezone-naive datetime is deprecated and will raise KeyError in a future version. Use a timezone-aware object instead.\n",
      "  m6 = info.truncate(before=pd.Timestamp('today') - pd.DateOffset(months=6))\n",
      "<ipython-input-6-ba13226fe2c3>:43: FutureWarning: Indexing a timezone-aware DatetimeIndex with a timezone-naive datetime is deprecated and will raise KeyError in a future version. Use a timezone-aware object instead.\n",
      "  m3 = info.truncate(before=pd.Timestamp('today') - pd.DateOffset(months=3))\n",
      "<ipython-input-6-ba13226fe2c3>:44: FutureWarning: Indexing a timezone-aware DatetimeIndex with a timezone-naive datetime is deprecated and will raise KeyError in a future version. Use a timezone-aware object instead.\n",
      "  m1 = info.truncate(before=pd.Timestamp('today') - pd.DateOffset(months=1))\n"
     ]
    },
    {
     "name": "stdout",
     "output_type": "stream",
     "text": [
      "0.41492128372192383\n",
      "Got error from yahoo api for ticker COT, Error: {'code': 'Not Found', 'description': 'No data found, symbol may be delisted'}\n",
      "- COT: No timezone found, symbol may be delisted\n",
      "Index Error when producing momentum table\n"
     ]
    },
    {
     "name": "stderr",
     "output_type": "stream",
     "text": [
      "<ipython-input-6-ba13226fe2c3>:41: FutureWarning: Indexing a timezone-aware DatetimeIndex with a timezone-naive datetime is deprecated and will raise KeyError in a future version. Use a timezone-aware object instead.\n",
      "  y = info.truncate(before=pd.Timestamp('today') - pd.DateOffset(months=12))\n",
      "<ipython-input-6-ba13226fe2c3>:42: FutureWarning: Indexing a timezone-aware DatetimeIndex with a timezone-naive datetime is deprecated and will raise KeyError in a future version. Use a timezone-aware object instead.\n",
      "  m6 = info.truncate(before=pd.Timestamp('today') - pd.DateOffset(months=6))\n",
      "<ipython-input-6-ba13226fe2c3>:43: FutureWarning: Indexing a timezone-aware DatetimeIndex with a timezone-naive datetime is deprecated and will raise KeyError in a future version. Use a timezone-aware object instead.\n",
      "  m3 = info.truncate(before=pd.Timestamp('today') - pd.DateOffset(months=3))\n",
      "<ipython-input-6-ba13226fe2c3>:44: FutureWarning: Indexing a timezone-aware DatetimeIndex with a timezone-naive datetime is deprecated and will raise KeyError in a future version. Use a timezone-aware object instead.\n",
      "  m1 = info.truncate(before=pd.Timestamp('today') - pd.DateOffset(months=1))\n"
     ]
    },
    {
     "name": "stdout",
     "output_type": "stream",
     "text": [
      "0.42221975326538086\n"
     ]
    },
    {
     "name": "stderr",
     "output_type": "stream",
     "text": [
      "<ipython-input-6-ba13226fe2c3>:41: FutureWarning: Indexing a timezone-aware DatetimeIndex with a timezone-naive datetime is deprecated and will raise KeyError in a future version. Use a timezone-aware object instead.\n",
      "  y = info.truncate(before=pd.Timestamp('today') - pd.DateOffset(months=12))\n",
      "<ipython-input-6-ba13226fe2c3>:42: FutureWarning: Indexing a timezone-aware DatetimeIndex with a timezone-naive datetime is deprecated and will raise KeyError in a future version. Use a timezone-aware object instead.\n",
      "  m6 = info.truncate(before=pd.Timestamp('today') - pd.DateOffset(months=6))\n",
      "<ipython-input-6-ba13226fe2c3>:43: FutureWarning: Indexing a timezone-aware DatetimeIndex with a timezone-naive datetime is deprecated and will raise KeyError in a future version. Use a timezone-aware object instead.\n",
      "  m3 = info.truncate(before=pd.Timestamp('today') - pd.DateOffset(months=3))\n",
      "<ipython-input-6-ba13226fe2c3>:44: FutureWarning: Indexing a timezone-aware DatetimeIndex with a timezone-naive datetime is deprecated and will raise KeyError in a future version. Use a timezone-aware object instead.\n",
      "  m1 = info.truncate(before=pd.Timestamp('today') - pd.DateOffset(months=1))\n"
     ]
    },
    {
     "name": "stdout",
     "output_type": "stream",
     "text": [
      "Index Error when producing momentum table\n"
     ]
    },
    {
     "name": "stderr",
     "output_type": "stream",
     "text": [
      "<ipython-input-6-ba13226fe2c3>:41: FutureWarning: Indexing a timezone-aware DatetimeIndex with a timezone-naive datetime is deprecated and will raise KeyError in a future version. Use a timezone-aware object instead.\n",
      "  y = info.truncate(before=pd.Timestamp('today') - pd.DateOffset(months=12))\n",
      "<ipython-input-6-ba13226fe2c3>:42: FutureWarning: Indexing a timezone-aware DatetimeIndex with a timezone-naive datetime is deprecated and will raise KeyError in a future version. Use a timezone-aware object instead.\n",
      "  m6 = info.truncate(before=pd.Timestamp('today') - pd.DateOffset(months=6))\n",
      "<ipython-input-6-ba13226fe2c3>:43: FutureWarning: Indexing a timezone-aware DatetimeIndex with a timezone-naive datetime is deprecated and will raise KeyError in a future version. Use a timezone-aware object instead.\n",
      "  m3 = info.truncate(before=pd.Timestamp('today') - pd.DateOffset(months=3))\n",
      "<ipython-input-6-ba13226fe2c3>:44: FutureWarning: Indexing a timezone-aware DatetimeIndex with a timezone-naive datetime is deprecated and will raise KeyError in a future version. Use a timezone-aware object instead.\n",
      "  m1 = info.truncate(before=pd.Timestamp('today') - pd.DateOffset(months=1))\n"
     ]
    },
    {
     "name": "stdout",
     "output_type": "stream",
     "text": [
      "0.48337769508361816\n"
     ]
    },
    {
     "name": "stderr",
     "output_type": "stream",
     "text": [
      "<ipython-input-6-ba13226fe2c3>:41: FutureWarning: Indexing a timezone-aware DatetimeIndex with a timezone-naive datetime is deprecated and will raise KeyError in a future version. Use a timezone-aware object instead.\n",
      "  y = info.truncate(before=pd.Timestamp('today') - pd.DateOffset(months=12))\n",
      "<ipython-input-6-ba13226fe2c3>:42: FutureWarning: Indexing a timezone-aware DatetimeIndex with a timezone-naive datetime is deprecated and will raise KeyError in a future version. Use a timezone-aware object instead.\n",
      "  m6 = info.truncate(before=pd.Timestamp('today') - pd.DateOffset(months=6))\n",
      "<ipython-input-6-ba13226fe2c3>:43: FutureWarning: Indexing a timezone-aware DatetimeIndex with a timezone-naive datetime is deprecated and will raise KeyError in a future version. Use a timezone-aware object instead.\n",
      "  m3 = info.truncate(before=pd.Timestamp('today') - pd.DateOffset(months=3))\n",
      "<ipython-input-6-ba13226fe2c3>:44: FutureWarning: Indexing a timezone-aware DatetimeIndex with a timezone-naive datetime is deprecated and will raise KeyError in a future version. Use a timezone-aware object instead.\n",
      "  m1 = info.truncate(before=pd.Timestamp('today') - pd.DateOffset(months=1))\n"
     ]
    },
    {
     "name": "stdout",
     "output_type": "stream",
     "text": [
      "0.8235471248626709\n",
      "CVD: 1d data not available for startTime=-2208994789 and endTime=1673461908. Only 100 years worth of day granularity data are allowed to be fetched per request.\n",
      "Index Error when producing momentum table\n",
      "Got error from yahoo api for ticker CVA, Error: {'code': 'Not Found', 'description': 'No data found, symbol may be delisted'}\n",
      "- CVA: No timezone found, symbol may be delisted\n",
      "Index Error when producing momentum table\n"
     ]
    },
    {
     "name": "stderr",
     "output_type": "stream",
     "text": [
      "<ipython-input-6-ba13226fe2c3>:41: FutureWarning: Indexing a timezone-aware DatetimeIndex with a timezone-naive datetime is deprecated and will raise KeyError in a future version. Use a timezone-aware object instead.\n",
      "  y = info.truncate(before=pd.Timestamp('today') - pd.DateOffset(months=12))\n",
      "<ipython-input-6-ba13226fe2c3>:42: FutureWarning: Indexing a timezone-aware DatetimeIndex with a timezone-naive datetime is deprecated and will raise KeyError in a future version. Use a timezone-aware object instead.\n",
      "  m6 = info.truncate(before=pd.Timestamp('today') - pd.DateOffset(months=6))\n",
      "<ipython-input-6-ba13226fe2c3>:43: FutureWarning: Indexing a timezone-aware DatetimeIndex with a timezone-naive datetime is deprecated and will raise KeyError in a future version. Use a timezone-aware object instead.\n",
      "  m3 = info.truncate(before=pd.Timestamp('today') - pd.DateOffset(months=3))\n",
      "<ipython-input-6-ba13226fe2c3>:44: FutureWarning: Indexing a timezone-aware DatetimeIndex with a timezone-naive datetime is deprecated and will raise KeyError in a future version. Use a timezone-aware object instead.\n",
      "  m1 = info.truncate(before=pd.Timestamp('today') - pd.DateOffset(months=1))\n"
     ]
    },
    {
     "name": "stdout",
     "output_type": "stream",
     "text": [
      "Index Error when producing momentum table\n",
      "Got error from yahoo api for ticker CPL, Error: {'code': 'Not Found', 'description': 'No data found, symbol may be delisted'}\n",
      "- CPL: No timezone found, symbol may be delisted\n",
      "Index Error when producing momentum table\n"
     ]
    },
    {
     "name": "stderr",
     "output_type": "stream",
     "text": [
      "<ipython-input-6-ba13226fe2c3>:41: FutureWarning: Indexing a timezone-aware DatetimeIndex with a timezone-naive datetime is deprecated and will raise KeyError in a future version. Use a timezone-aware object instead.\n",
      "  y = info.truncate(before=pd.Timestamp('today') - pd.DateOffset(months=12))\n",
      "<ipython-input-6-ba13226fe2c3>:42: FutureWarning: Indexing a timezone-aware DatetimeIndex with a timezone-naive datetime is deprecated and will raise KeyError in a future version. Use a timezone-aware object instead.\n",
      "  m6 = info.truncate(before=pd.Timestamp('today') - pd.DateOffset(months=6))\n",
      "<ipython-input-6-ba13226fe2c3>:43: FutureWarning: Indexing a timezone-aware DatetimeIndex with a timezone-naive datetime is deprecated and will raise KeyError in a future version. Use a timezone-aware object instead.\n",
      "  m3 = info.truncate(before=pd.Timestamp('today') - pd.DateOffset(months=3))\n",
      "<ipython-input-6-ba13226fe2c3>:44: FutureWarning: Indexing a timezone-aware DatetimeIndex with a timezone-naive datetime is deprecated and will raise KeyError in a future version. Use a timezone-aware object instead.\n",
      "  m1 = info.truncate(before=pd.Timestamp('today') - pd.DateOffset(months=1))\n"
     ]
    },
    {
     "name": "stdout",
     "output_type": "stream",
     "text": [
      "0.9661862850189209\n",
      "Got error from yahoo api for ticker CRD.A, Error: {'code': 'Not Found', 'description': 'No data found, symbol may be delisted'}\n",
      "- CRD.A: No timezone found, symbol may be delisted\n",
      "Index Error when producing momentum table\n",
      "Got error from yahoo api for ticker CRD.B, Error: {'code': 'Not Found', 'description': 'No data found, symbol may be delisted'}\n",
      "- CRD.B: No timezone found, symbol may be delisted\n",
      "Index Error when producing momentum table\n"
     ]
    },
    {
     "name": "stderr",
     "output_type": "stream",
     "text": [
      "<ipython-input-6-ba13226fe2c3>:41: FutureWarning: Indexing a timezone-aware DatetimeIndex with a timezone-naive datetime is deprecated and will raise KeyError in a future version. Use a timezone-aware object instead.\n",
      "  y = info.truncate(before=pd.Timestamp('today') - pd.DateOffset(months=12))\n",
      "<ipython-input-6-ba13226fe2c3>:42: FutureWarning: Indexing a timezone-aware DatetimeIndex with a timezone-naive datetime is deprecated and will raise KeyError in a future version. Use a timezone-aware object instead.\n",
      "  m6 = info.truncate(before=pd.Timestamp('today') - pd.DateOffset(months=6))\n",
      "<ipython-input-6-ba13226fe2c3>:43: FutureWarning: Indexing a timezone-aware DatetimeIndex with a timezone-naive datetime is deprecated and will raise KeyError in a future version. Use a timezone-aware object instead.\n",
      "  m3 = info.truncate(before=pd.Timestamp('today') - pd.DateOffset(months=3))\n",
      "<ipython-input-6-ba13226fe2c3>:44: FutureWarning: Indexing a timezone-aware DatetimeIndex with a timezone-naive datetime is deprecated and will raise KeyError in a future version. Use a timezone-aware object instead.\n",
      "  m1 = info.truncate(before=pd.Timestamp('today') - pd.DateOffset(months=1))\n"
     ]
    },
    {
     "name": "stdout",
     "output_type": "stream",
     "text": [
      "0.5831222534179688\n"
     ]
    },
    {
     "name": "stderr",
     "output_type": "stream",
     "text": [
      "<ipython-input-6-ba13226fe2c3>:41: FutureWarning: Indexing a timezone-aware DatetimeIndex with a timezone-naive datetime is deprecated and will raise KeyError in a future version. Use a timezone-aware object instead.\n",
      "  y = info.truncate(before=pd.Timestamp('today') - pd.DateOffset(months=12))\n",
      "<ipython-input-6-ba13226fe2c3>:42: FutureWarning: Indexing a timezone-aware DatetimeIndex with a timezone-naive datetime is deprecated and will raise KeyError in a future version. Use a timezone-aware object instead.\n",
      "  m6 = info.truncate(before=pd.Timestamp('today') - pd.DateOffset(months=6))\n",
      "<ipython-input-6-ba13226fe2c3>:43: FutureWarning: Indexing a timezone-aware DatetimeIndex with a timezone-naive datetime is deprecated and will raise KeyError in a future version. Use a timezone-aware object instead.\n",
      "  m3 = info.truncate(before=pd.Timestamp('today') - pd.DateOffset(months=3))\n",
      "<ipython-input-6-ba13226fe2c3>:44: FutureWarning: Indexing a timezone-aware DatetimeIndex with a timezone-naive datetime is deprecated and will raise KeyError in a future version. Use a timezone-aware object instead.\n",
      "  m1 = info.truncate(before=pd.Timestamp('today') - pd.DateOffset(months=1))\n"
     ]
    },
    {
     "name": "stdout",
     "output_type": "stream",
     "text": [
      "0.5918495655059814\n"
     ]
    },
    {
     "name": "stderr",
     "output_type": "stream",
     "text": [
      "<ipython-input-6-ba13226fe2c3>:41: FutureWarning: Indexing a timezone-aware DatetimeIndex with a timezone-naive datetime is deprecated and will raise KeyError in a future version. Use a timezone-aware object instead.\n",
      "  y = info.truncate(before=pd.Timestamp('today') - pd.DateOffset(months=12))\n",
      "<ipython-input-6-ba13226fe2c3>:42: FutureWarning: Indexing a timezone-aware DatetimeIndex with a timezone-naive datetime is deprecated and will raise KeyError in a future version. Use a timezone-aware object instead.\n",
      "  m6 = info.truncate(before=pd.Timestamp('today') - pd.DateOffset(months=6))\n",
      "<ipython-input-6-ba13226fe2c3>:43: FutureWarning: Indexing a timezone-aware DatetimeIndex with a timezone-naive datetime is deprecated and will raise KeyError in a future version. Use a timezone-aware object instead.\n",
      "  m3 = info.truncate(before=pd.Timestamp('today') - pd.DateOffset(months=3))\n",
      "<ipython-input-6-ba13226fe2c3>:44: FutureWarning: Indexing a timezone-aware DatetimeIndex with a timezone-naive datetime is deprecated and will raise KeyError in a future version. Use a timezone-aware object instead.\n",
      "  m1 = info.truncate(before=pd.Timestamp('today') - pd.DateOffset(months=1))\n"
     ]
    },
    {
     "name": "stdout",
     "output_type": "stream",
     "text": [
      "0.5096697807312012\n"
     ]
    },
    {
     "name": "stderr",
     "output_type": "stream",
     "text": [
      "<ipython-input-6-ba13226fe2c3>:41: FutureWarning: Indexing a timezone-aware DatetimeIndex with a timezone-naive datetime is deprecated and will raise KeyError in a future version. Use a timezone-aware object instead.\n",
      "  y = info.truncate(before=pd.Timestamp('today') - pd.DateOffset(months=12))\n",
      "<ipython-input-6-ba13226fe2c3>:42: FutureWarning: Indexing a timezone-aware DatetimeIndex with a timezone-naive datetime is deprecated and will raise KeyError in a future version. Use a timezone-aware object instead.\n",
      "  m6 = info.truncate(before=pd.Timestamp('today') - pd.DateOffset(months=6))\n",
      "<ipython-input-6-ba13226fe2c3>:43: FutureWarning: Indexing a timezone-aware DatetimeIndex with a timezone-naive datetime is deprecated and will raise KeyError in a future version. Use a timezone-aware object instead.\n",
      "  m3 = info.truncate(before=pd.Timestamp('today') - pd.DateOffset(months=3))\n",
      "<ipython-input-6-ba13226fe2c3>:44: FutureWarning: Indexing a timezone-aware DatetimeIndex with a timezone-naive datetime is deprecated and will raise KeyError in a future version. Use a timezone-aware object instead.\n",
      "  m1 = info.truncate(before=pd.Timestamp('today') - pd.DateOffset(months=1))\n"
     ]
    },
    {
     "name": "stdout",
     "output_type": "stream",
     "text": [
      "0.8071935176849365\n",
      "CMLP: 1d data not available for startTime=-2208994789 and endTime=1673461913. Only 100 years worth of day granularity data are allowed to be fetched per request.\n",
      "Index Error when producing momentum table\n"
     ]
    },
    {
     "name": "stderr",
     "output_type": "stream",
     "text": [
      "<ipython-input-6-ba13226fe2c3>:41: FutureWarning: Indexing a timezone-aware DatetimeIndex with a timezone-naive datetime is deprecated and will raise KeyError in a future version. Use a timezone-aware object instead.\n",
      "  y = info.truncate(before=pd.Timestamp('today') - pd.DateOffset(months=12))\n",
      "<ipython-input-6-ba13226fe2c3>:42: FutureWarning: Indexing a timezone-aware DatetimeIndex with a timezone-naive datetime is deprecated and will raise KeyError in a future version. Use a timezone-aware object instead.\n",
      "  m6 = info.truncate(before=pd.Timestamp('today') - pd.DateOffset(months=6))\n",
      "<ipython-input-6-ba13226fe2c3>:43: FutureWarning: Indexing a timezone-aware DatetimeIndex with a timezone-naive datetime is deprecated and will raise KeyError in a future version. Use a timezone-aware object instead.\n",
      "  m3 = info.truncate(before=pd.Timestamp('today') - pd.DateOffset(months=3))\n",
      "<ipython-input-6-ba13226fe2c3>:44: FutureWarning: Indexing a timezone-aware DatetimeIndex with a timezone-naive datetime is deprecated and will raise KeyError in a future version. Use a timezone-aware object instead.\n",
      "  m1 = info.truncate(before=pd.Timestamp('today') - pd.DateOffset(months=1))\n"
     ]
    },
    {
     "name": "stdout",
     "output_type": "stream",
     "text": [
      "0.7813258171081543\n"
     ]
    },
    {
     "name": "stderr",
     "output_type": "stream",
     "text": [
      "<ipython-input-6-ba13226fe2c3>:41: FutureWarning: Indexing a timezone-aware DatetimeIndex with a timezone-naive datetime is deprecated and will raise KeyError in a future version. Use a timezone-aware object instead.\n",
      "  y = info.truncate(before=pd.Timestamp('today') - pd.DateOffset(months=12))\n",
      "<ipython-input-6-ba13226fe2c3>:42: FutureWarning: Indexing a timezone-aware DatetimeIndex with a timezone-naive datetime is deprecated and will raise KeyError in a future version. Use a timezone-aware object instead.\n",
      "  m6 = info.truncate(before=pd.Timestamp('today') - pd.DateOffset(months=6))\n",
      "<ipython-input-6-ba13226fe2c3>:43: FutureWarning: Indexing a timezone-aware DatetimeIndex with a timezone-naive datetime is deprecated and will raise KeyError in a future version. Use a timezone-aware object instead.\n",
      "  m3 = info.truncate(before=pd.Timestamp('today') - pd.DateOffset(months=3))\n",
      "<ipython-input-6-ba13226fe2c3>:44: FutureWarning: Indexing a timezone-aware DatetimeIndex with a timezone-naive datetime is deprecated and will raise KeyError in a future version. Use a timezone-aware object instead.\n",
      "  m1 = info.truncate(before=pd.Timestamp('today') - pd.DateOffset(months=1))\n"
     ]
    },
    {
     "name": "stdout",
     "output_type": "stream",
     "text": [
      "0.6429018974304199\n"
     ]
    },
    {
     "name": "stderr",
     "output_type": "stream",
     "text": [
      "<ipython-input-6-ba13226fe2c3>:41: FutureWarning: Indexing a timezone-aware DatetimeIndex with a timezone-naive datetime is deprecated and will raise KeyError in a future version. Use a timezone-aware object instead.\n",
      "  y = info.truncate(before=pd.Timestamp('today') - pd.DateOffset(months=12))\n",
      "<ipython-input-6-ba13226fe2c3>:42: FutureWarning: Indexing a timezone-aware DatetimeIndex with a timezone-naive datetime is deprecated and will raise KeyError in a future version. Use a timezone-aware object instead.\n",
      "  m6 = info.truncate(before=pd.Timestamp('today') - pd.DateOffset(months=6))\n",
      "<ipython-input-6-ba13226fe2c3>:43: FutureWarning: Indexing a timezone-aware DatetimeIndex with a timezone-naive datetime is deprecated and will raise KeyError in a future version. Use a timezone-aware object instead.\n",
      "  m3 = info.truncate(before=pd.Timestamp('today') - pd.DateOffset(months=3))\n",
      "<ipython-input-6-ba13226fe2c3>:44: FutureWarning: Indexing a timezone-aware DatetimeIndex with a timezone-naive datetime is deprecated and will raise KeyError in a future version. Use a timezone-aware object instead.\n",
      "  m1 = info.truncate(before=pd.Timestamp('today') - pd.DateOffset(months=1))\n"
     ]
    },
    {
     "name": "stdout",
     "output_type": "stream",
     "text": [
      "0.6597809791564941\n",
      "Got error from yahoo api for ticker CCI.PRA, Error: {'code': 'Not Found', 'description': 'No data found, symbol may be delisted'}\n",
      "- CCI.PRA: No timezone found, symbol may be delisted\n",
      "Index Error when producing momentum table\n"
     ]
    },
    {
     "name": "stderr",
     "output_type": "stream",
     "text": [
      "<ipython-input-6-ba13226fe2c3>:41: FutureWarning: Indexing a timezone-aware DatetimeIndex with a timezone-naive datetime is deprecated and will raise KeyError in a future version. Use a timezone-aware object instead.\n",
      "  y = info.truncate(before=pd.Timestamp('today') - pd.DateOffset(months=12))\n",
      "<ipython-input-6-ba13226fe2c3>:42: FutureWarning: Indexing a timezone-aware DatetimeIndex with a timezone-naive datetime is deprecated and will raise KeyError in a future version. Use a timezone-aware object instead.\n",
      "  m6 = info.truncate(before=pd.Timestamp('today') - pd.DateOffset(months=6))\n",
      "<ipython-input-6-ba13226fe2c3>:43: FutureWarning: Indexing a timezone-aware DatetimeIndex with a timezone-naive datetime is deprecated and will raise KeyError in a future version. Use a timezone-aware object instead.\n",
      "  m3 = info.truncate(before=pd.Timestamp('today') - pd.DateOffset(months=3))\n",
      "<ipython-input-6-ba13226fe2c3>:44: FutureWarning: Indexing a timezone-aware DatetimeIndex with a timezone-naive datetime is deprecated and will raise KeyError in a future version. Use a timezone-aware object instead.\n",
      "  m1 = info.truncate(before=pd.Timestamp('today') - pd.DateOffset(months=1))\n"
     ]
    },
    {
     "name": "stdout",
     "output_type": "stream",
     "text": [
      "0.615440845489502\n",
      "Got error from yahoo api for ticker CRY, Error: {'code': 'Not Found', 'description': 'No data found, symbol may be delisted'}\n",
      "- CRY: No timezone found, symbol may be delisted\n",
      "Index Error when producing momentum table\n",
      "Got error from yahoo api for ticker CSS, Error: {'code': 'Not Found', 'description': 'No data found, symbol may be delisted'}\n",
      "- CSS: No timezone found, symbol may be delisted\n",
      "Index Error when producing momentum table\n",
      "CST: 1d data not available for startTime=-2208994789 and endTime=1673461917. Only 100 years worth of day granularity data are allowed to be fetched per request.\n",
      "Index Error when producing momentum table\n"
     ]
    },
    {
     "name": "stderr",
     "output_type": "stream",
     "text": [
      "<ipython-input-6-ba13226fe2c3>:41: FutureWarning: Indexing a timezone-aware DatetimeIndex with a timezone-naive datetime is deprecated and will raise KeyError in a future version. Use a timezone-aware object instead.\n",
      "  y = info.truncate(before=pd.Timestamp('today') - pd.DateOffset(months=12))\n",
      "<ipython-input-6-ba13226fe2c3>:42: FutureWarning: Indexing a timezone-aware DatetimeIndex with a timezone-naive datetime is deprecated and will raise KeyError in a future version. Use a timezone-aware object instead.\n",
      "  m6 = info.truncate(before=pd.Timestamp('today') - pd.DateOffset(months=6))\n",
      "<ipython-input-6-ba13226fe2c3>:43: FutureWarning: Indexing a timezone-aware DatetimeIndex with a timezone-naive datetime is deprecated and will raise KeyError in a future version. Use a timezone-aware object instead.\n",
      "  m3 = info.truncate(before=pd.Timestamp('today') - pd.DateOffset(months=3))\n",
      "<ipython-input-6-ba13226fe2c3>:44: FutureWarning: Indexing a timezone-aware DatetimeIndex with a timezone-naive datetime is deprecated and will raise KeyError in a future version. Use a timezone-aware object instead.\n",
      "  m1 = info.truncate(before=pd.Timestamp('today') - pd.DateOffset(months=1))\n"
     ]
    },
    {
     "name": "stdout",
     "output_type": "stream",
     "text": [
      "2.3660290241241455\n"
     ]
    },
    {
     "name": "stderr",
     "output_type": "stream",
     "text": [
      "<ipython-input-6-ba13226fe2c3>:41: FutureWarning: Indexing a timezone-aware DatetimeIndex with a timezone-naive datetime is deprecated and will raise KeyError in a future version. Use a timezone-aware object instead.\n",
      "  y = info.truncate(before=pd.Timestamp('today') - pd.DateOffset(months=12))\n",
      "<ipython-input-6-ba13226fe2c3>:42: FutureWarning: Indexing a timezone-aware DatetimeIndex with a timezone-naive datetime is deprecated and will raise KeyError in a future version. Use a timezone-aware object instead.\n",
      "  m6 = info.truncate(before=pd.Timestamp('today') - pd.DateOffset(months=6))\n",
      "<ipython-input-6-ba13226fe2c3>:43: FutureWarning: Indexing a timezone-aware DatetimeIndex with a timezone-naive datetime is deprecated and will raise KeyError in a future version. Use a timezone-aware object instead.\n",
      "  m3 = info.truncate(before=pd.Timestamp('today') - pd.DateOffset(months=3))\n",
      "<ipython-input-6-ba13226fe2c3>:44: FutureWarning: Indexing a timezone-aware DatetimeIndex with a timezone-naive datetime is deprecated and will raise KeyError in a future version. Use a timezone-aware object instead.\n",
      "  m1 = info.truncate(before=pd.Timestamp('today') - pd.DateOffset(months=1))\n"
     ]
    },
    {
     "name": "stdout",
     "output_type": "stream",
     "text": [
      "0.9075307846069336\n"
     ]
    },
    {
     "name": "stderr",
     "output_type": "stream",
     "text": [
      "<ipython-input-6-ba13226fe2c3>:41: FutureWarning: Indexing a timezone-aware DatetimeIndex with a timezone-naive datetime is deprecated and will raise KeyError in a future version. Use a timezone-aware object instead.\n",
      "  y = info.truncate(before=pd.Timestamp('today') - pd.DateOffset(months=12))\n",
      "<ipython-input-6-ba13226fe2c3>:42: FutureWarning: Indexing a timezone-aware DatetimeIndex with a timezone-naive datetime is deprecated and will raise KeyError in a future version. Use a timezone-aware object instead.\n",
      "  m6 = info.truncate(before=pd.Timestamp('today') - pd.DateOffset(months=6))\n",
      "<ipython-input-6-ba13226fe2c3>:43: FutureWarning: Indexing a timezone-aware DatetimeIndex with a timezone-naive datetime is deprecated and will raise KeyError in a future version. Use a timezone-aware object instead.\n",
      "  m3 = info.truncate(before=pd.Timestamp('today') - pd.DateOffset(months=3))\n",
      "<ipython-input-6-ba13226fe2c3>:44: FutureWarning: Indexing a timezone-aware DatetimeIndex with a timezone-naive datetime is deprecated and will raise KeyError in a future version. Use a timezone-aware object instead.\n",
      "  m1 = info.truncate(before=pd.Timestamp('today') - pd.DateOffset(months=1))\n"
     ]
    },
    {
     "name": "stdout",
     "output_type": "stream",
     "text": [
      "0.46282100677490234\n",
      "Got error from yahoo api for ticker CUB, Error: {'code': 'Not Found', 'description': 'No data found, symbol may be delisted'}\n",
      "- CUB: No timezone found, symbol may be delisted\n",
      "Index Error when producing momentum table\n"
     ]
    },
    {
     "name": "stderr",
     "output_type": "stream",
     "text": [
      "<ipython-input-6-ba13226fe2c3>:41: FutureWarning: Indexing a timezone-aware DatetimeIndex with a timezone-naive datetime is deprecated and will raise KeyError in a future version. Use a timezone-aware object instead.\n",
      "  y = info.truncate(before=pd.Timestamp('today') - pd.DateOffset(months=12))\n",
      "<ipython-input-6-ba13226fe2c3>:42: FutureWarning: Indexing a timezone-aware DatetimeIndex with a timezone-naive datetime is deprecated and will raise KeyError in a future version. Use a timezone-aware object instead.\n",
      "  m6 = info.truncate(before=pd.Timestamp('today') - pd.DateOffset(months=6))\n",
      "<ipython-input-6-ba13226fe2c3>:43: FutureWarning: Indexing a timezone-aware DatetimeIndex with a timezone-naive datetime is deprecated and will raise KeyError in a future version. Use a timezone-aware object instead.\n",
      "  m3 = info.truncate(before=pd.Timestamp('today') - pd.DateOffset(months=3))\n",
      "<ipython-input-6-ba13226fe2c3>:44: FutureWarning: Indexing a timezone-aware DatetimeIndex with a timezone-naive datetime is deprecated and will raise KeyError in a future version. Use a timezone-aware object instead.\n",
      "  m1 = info.truncate(before=pd.Timestamp('today') - pd.DateOffset(months=1))\n"
     ]
    },
    {
     "name": "stdout",
     "output_type": "stream",
     "text": [
      "0.8240976333618164\n"
     ]
    },
    {
     "name": "stderr",
     "output_type": "stream",
     "text": [
      "<ipython-input-6-ba13226fe2c3>:41: FutureWarning: Indexing a timezone-aware DatetimeIndex with a timezone-naive datetime is deprecated and will raise KeyError in a future version. Use a timezone-aware object instead.\n",
      "  y = info.truncate(before=pd.Timestamp('today') - pd.DateOffset(months=12))\n",
      "<ipython-input-6-ba13226fe2c3>:42: FutureWarning: Indexing a timezone-aware DatetimeIndex with a timezone-naive datetime is deprecated and will raise KeyError in a future version. Use a timezone-aware object instead.\n",
      "  m6 = info.truncate(before=pd.Timestamp('today') - pd.DateOffset(months=6))\n",
      "<ipython-input-6-ba13226fe2c3>:43: FutureWarning: Indexing a timezone-aware DatetimeIndex with a timezone-naive datetime is deprecated and will raise KeyError in a future version. Use a timezone-aware object instead.\n",
      "  m3 = info.truncate(before=pd.Timestamp('today') - pd.DateOffset(months=3))\n",
      "<ipython-input-6-ba13226fe2c3>:44: FutureWarning: Indexing a timezone-aware DatetimeIndex with a timezone-naive datetime is deprecated and will raise KeyError in a future version. Use a timezone-aware object instead.\n",
      "  m1 = info.truncate(before=pd.Timestamp('today') - pd.DateOffset(months=1))\n"
     ]
    },
    {
     "name": "stdout",
     "output_type": "stream",
     "text": [
      "Index Error when producing momentum table\n"
     ]
    },
    {
     "name": "stderr",
     "output_type": "stream",
     "text": [
      "<ipython-input-6-ba13226fe2c3>:41: FutureWarning: Indexing a timezone-aware DatetimeIndex with a timezone-naive datetime is deprecated and will raise KeyError in a future version. Use a timezone-aware object instead.\n",
      "  y = info.truncate(before=pd.Timestamp('today') - pd.DateOffset(months=12))\n",
      "<ipython-input-6-ba13226fe2c3>:42: FutureWarning: Indexing a timezone-aware DatetimeIndex with a timezone-naive datetime is deprecated and will raise KeyError in a future version. Use a timezone-aware object instead.\n",
      "  m6 = info.truncate(before=pd.Timestamp('today') - pd.DateOffset(months=6))\n",
      "<ipython-input-6-ba13226fe2c3>:43: FutureWarning: Indexing a timezone-aware DatetimeIndex with a timezone-naive datetime is deprecated and will raise KeyError in a future version. Use a timezone-aware object instead.\n",
      "  m3 = info.truncate(before=pd.Timestamp('today') - pd.DateOffset(months=3))\n",
      "<ipython-input-6-ba13226fe2c3>:44: FutureWarning: Indexing a timezone-aware DatetimeIndex with a timezone-naive datetime is deprecated and will raise KeyError in a future version. Use a timezone-aware object instead.\n",
      "  m1 = info.truncate(before=pd.Timestamp('today') - pd.DateOffset(months=1))\n"
     ]
    },
    {
     "name": "stdout",
     "output_type": "stream",
     "text": [
      "0.8304390907287598\n"
     ]
    },
    {
     "name": "stderr",
     "output_type": "stream",
     "text": [
      "<ipython-input-6-ba13226fe2c3>:41: FutureWarning: Indexing a timezone-aware DatetimeIndex with a timezone-naive datetime is deprecated and will raise KeyError in a future version. Use a timezone-aware object instead.\n",
      "  y = info.truncate(before=pd.Timestamp('today') - pd.DateOffset(months=12))\n",
      "<ipython-input-6-ba13226fe2c3>:42: FutureWarning: Indexing a timezone-aware DatetimeIndex with a timezone-naive datetime is deprecated and will raise KeyError in a future version. Use a timezone-aware object instead.\n",
      "  m6 = info.truncate(before=pd.Timestamp('today') - pd.DateOffset(months=6))\n",
      "<ipython-input-6-ba13226fe2c3>:43: FutureWarning: Indexing a timezone-aware DatetimeIndex with a timezone-naive datetime is deprecated and will raise KeyError in a future version. Use a timezone-aware object instead.\n",
      "  m3 = info.truncate(before=pd.Timestamp('today') - pd.DateOffset(months=3))\n",
      "<ipython-input-6-ba13226fe2c3>:44: FutureWarning: Indexing a timezone-aware DatetimeIndex with a timezone-naive datetime is deprecated and will raise KeyError in a future version. Use a timezone-aware object instead.\n",
      "  m1 = info.truncate(before=pd.Timestamp('today') - pd.DateOffset(months=1))\n"
     ]
    },
    {
     "name": "stdout",
     "output_type": "stream",
     "text": [
      "0.6010043621063232\n"
     ]
    },
    {
     "name": "stderr",
     "output_type": "stream",
     "text": [
      "<ipython-input-6-ba13226fe2c3>:41: FutureWarning: Indexing a timezone-aware DatetimeIndex with a timezone-naive datetime is deprecated and will raise KeyError in a future version. Use a timezone-aware object instead.\n",
      "  y = info.truncate(before=pd.Timestamp('today') - pd.DateOffset(months=12))\n",
      "<ipython-input-6-ba13226fe2c3>:42: FutureWarning: Indexing a timezone-aware DatetimeIndex with a timezone-naive datetime is deprecated and will raise KeyError in a future version. Use a timezone-aware object instead.\n",
      "  m6 = info.truncate(before=pd.Timestamp('today') - pd.DateOffset(months=6))\n",
      "<ipython-input-6-ba13226fe2c3>:43: FutureWarning: Indexing a timezone-aware DatetimeIndex with a timezone-naive datetime is deprecated and will raise KeyError in a future version. Use a timezone-aware object instead.\n",
      "  m3 = info.truncate(before=pd.Timestamp('today') - pd.DateOffset(months=3))\n",
      "<ipython-input-6-ba13226fe2c3>:44: FutureWarning: Indexing a timezone-aware DatetimeIndex with a timezone-naive datetime is deprecated and will raise KeyError in a future version. Use a timezone-aware object instead.\n",
      "  m1 = info.truncate(before=pd.Timestamp('today') - pd.DateOffset(months=1))\n",
      "C:\\Users\\Kamen\\AppData\\Local\\Programs\\Python\\Python38\\lib\\site-packages\\numpy\\core\\_methods.py:262: RuntimeWarning: Degrees of freedom <= 0 for slice\n",
      "  ret = _var(a, axis=axis, dtype=dtype, out=out, ddof=ddof,\n",
      "C:\\Users\\Kamen\\AppData\\Local\\Programs\\Python\\Python38\\lib\\site-packages\\numpy\\core\\_methods.py:222: RuntimeWarning: invalid value encountered in true_divide\n",
      "  arrmean = um.true_divide(arrmean, div, out=arrmean, casting='unsafe',\n",
      "C:\\Users\\Kamen\\AppData\\Local\\Programs\\Python\\Python38\\lib\\site-packages\\numpy\\core\\_methods.py:254: RuntimeWarning: invalid value encountered in double_scalars\n",
      "  ret = ret.dtype.type(ret / rcount)\n",
      "<ipython-input-6-ba13226fe2c3>:11: RuntimeWarning: divide by zero encountered in log\n",
      "  reg = np.polyfit(np.log(lags), np.log(tau), 1)\n"
     ]
    },
    {
     "name": "stdout",
     "output_type": "stream",
     "text": [
      "0.36959147453308105\n"
     ]
    },
    {
     "name": "stderr",
     "output_type": "stream",
     "text": [
      "<ipython-input-6-ba13226fe2c3>:41: FutureWarning: Indexing a timezone-aware DatetimeIndex with a timezone-naive datetime is deprecated and will raise KeyError in a future version. Use a timezone-aware object instead.\n",
      "  y = info.truncate(before=pd.Timestamp('today') - pd.DateOffset(months=12))\n",
      "<ipython-input-6-ba13226fe2c3>:42: FutureWarning: Indexing a timezone-aware DatetimeIndex with a timezone-naive datetime is deprecated and will raise KeyError in a future version. Use a timezone-aware object instead.\n",
      "  m6 = info.truncate(before=pd.Timestamp('today') - pd.DateOffset(months=6))\n",
      "<ipython-input-6-ba13226fe2c3>:43: FutureWarning: Indexing a timezone-aware DatetimeIndex with a timezone-naive datetime is deprecated and will raise KeyError in a future version. Use a timezone-aware object instead.\n",
      "  m3 = info.truncate(before=pd.Timestamp('today') - pd.DateOffset(months=3))\n",
      "<ipython-input-6-ba13226fe2c3>:44: FutureWarning: Indexing a timezone-aware DatetimeIndex with a timezone-naive datetime is deprecated and will raise KeyError in a future version. Use a timezone-aware object instead.\n",
      "  m1 = info.truncate(before=pd.Timestamp('today') - pd.DateOffset(months=1))\n"
     ]
    },
    {
     "name": "stdout",
     "output_type": "stream",
     "text": [
      "0.4674065113067627\n"
     ]
    },
    {
     "name": "stderr",
     "output_type": "stream",
     "text": [
      "<ipython-input-6-ba13226fe2c3>:41: FutureWarning: Indexing a timezone-aware DatetimeIndex with a timezone-naive datetime is deprecated and will raise KeyError in a future version. Use a timezone-aware object instead.\n",
      "  y = info.truncate(before=pd.Timestamp('today') - pd.DateOffset(months=12))\n",
      "<ipython-input-6-ba13226fe2c3>:42: FutureWarning: Indexing a timezone-aware DatetimeIndex with a timezone-naive datetime is deprecated and will raise KeyError in a future version. Use a timezone-aware object instead.\n",
      "  m6 = info.truncate(before=pd.Timestamp('today') - pd.DateOffset(months=6))\n",
      "<ipython-input-6-ba13226fe2c3>:43: FutureWarning: Indexing a timezone-aware DatetimeIndex with a timezone-naive datetime is deprecated and will raise KeyError in a future version. Use a timezone-aware object instead.\n",
      "  m3 = info.truncate(before=pd.Timestamp('today') - pd.DateOffset(months=3))\n",
      "<ipython-input-6-ba13226fe2c3>:44: FutureWarning: Indexing a timezone-aware DatetimeIndex with a timezone-naive datetime is deprecated and will raise KeyError in a future version. Use a timezone-aware object instead.\n",
      "  m1 = info.truncate(before=pd.Timestamp('today') - pd.DateOffset(months=1))\n"
     ]
    },
    {
     "name": "stdout",
     "output_type": "stream",
     "text": [
      "0.7221946716308594\n"
     ]
    },
    {
     "name": "stderr",
     "output_type": "stream",
     "text": [
      "<ipython-input-6-ba13226fe2c3>:41: FutureWarning: Indexing a timezone-aware DatetimeIndex with a timezone-naive datetime is deprecated and will raise KeyError in a future version. Use a timezone-aware object instead.\n",
      "  y = info.truncate(before=pd.Timestamp('today') - pd.DateOffset(months=12))\n",
      "<ipython-input-6-ba13226fe2c3>:42: FutureWarning: Indexing a timezone-aware DatetimeIndex with a timezone-naive datetime is deprecated and will raise KeyError in a future version. Use a timezone-aware object instead.\n",
      "  m6 = info.truncate(before=pd.Timestamp('today') - pd.DateOffset(months=6))\n",
      "<ipython-input-6-ba13226fe2c3>:43: FutureWarning: Indexing a timezone-aware DatetimeIndex with a timezone-naive datetime is deprecated and will raise KeyError in a future version. Use a timezone-aware object instead.\n",
      "  m3 = info.truncate(before=pd.Timestamp('today') - pd.DateOffset(months=3))\n",
      "<ipython-input-6-ba13226fe2c3>:44: FutureWarning: Indexing a timezone-aware DatetimeIndex with a timezone-naive datetime is deprecated and will raise KeyError in a future version. Use a timezone-aware object instead.\n",
      "  m1 = info.truncate(before=pd.Timestamp('today') - pd.DateOffset(months=1))\n"
     ]
    },
    {
     "name": "stdout",
     "output_type": "stream",
     "text": [
      "Index Error when producing momentum table\n"
     ]
    },
    {
     "name": "stderr",
     "output_type": "stream",
     "text": [
      "<ipython-input-6-ba13226fe2c3>:41: FutureWarning: Indexing a timezone-aware DatetimeIndex with a timezone-naive datetime is deprecated and will raise KeyError in a future version. Use a timezone-aware object instead.\n",
      "  y = info.truncate(before=pd.Timestamp('today') - pd.DateOffset(months=12))\n",
      "<ipython-input-6-ba13226fe2c3>:42: FutureWarning: Indexing a timezone-aware DatetimeIndex with a timezone-naive datetime is deprecated and will raise KeyError in a future version. Use a timezone-aware object instead.\n",
      "  m6 = info.truncate(before=pd.Timestamp('today') - pd.DateOffset(months=6))\n",
      "<ipython-input-6-ba13226fe2c3>:43: FutureWarning: Indexing a timezone-aware DatetimeIndex with a timezone-naive datetime is deprecated and will raise KeyError in a future version. Use a timezone-aware object instead.\n",
      "  m3 = info.truncate(before=pd.Timestamp('today') - pd.DateOffset(months=3))\n",
      "<ipython-input-6-ba13226fe2c3>:44: FutureWarning: Indexing a timezone-aware DatetimeIndex with a timezone-naive datetime is deprecated and will raise KeyError in a future version. Use a timezone-aware object instead.\n",
      "  m1 = info.truncate(before=pd.Timestamp('today') - pd.DateOffset(months=1))\n"
     ]
    },
    {
     "name": "stdout",
     "output_type": "stream",
     "text": [
      "0.9890890121459961\n",
      "Got error from yahoo api for ticker CELP, Error: {'code': 'Not Found', 'description': 'No data found, symbol may be delisted'}\n",
      "- CELP: No timezone found, symbol may be delisted\n",
      "Index Error when producing momentum table\n"
     ]
    },
    {
     "name": "stderr",
     "output_type": "stream",
     "text": [
      "<ipython-input-6-ba13226fe2c3>:41: FutureWarning: Indexing a timezone-aware DatetimeIndex with a timezone-naive datetime is deprecated and will raise KeyError in a future version. Use a timezone-aware object instead.\n",
      "  y = info.truncate(before=pd.Timestamp('today') - pd.DateOffset(months=12))\n",
      "<ipython-input-6-ba13226fe2c3>:42: FutureWarning: Indexing a timezone-aware DatetimeIndex with a timezone-naive datetime is deprecated and will raise KeyError in a future version. Use a timezone-aware object instead.\n",
      "  m6 = info.truncate(before=pd.Timestamp('today') - pd.DateOffset(months=6))\n",
      "<ipython-input-6-ba13226fe2c3>:43: FutureWarning: Indexing a timezone-aware DatetimeIndex with a timezone-naive datetime is deprecated and will raise KeyError in a future version. Use a timezone-aware object instead.\n",
      "  m3 = info.truncate(before=pd.Timestamp('today') - pd.DateOffset(months=3))\n",
      "<ipython-input-6-ba13226fe2c3>:44: FutureWarning: Indexing a timezone-aware DatetimeIndex with a timezone-naive datetime is deprecated and will raise KeyError in a future version. Use a timezone-aware object instead.\n",
      "  m1 = info.truncate(before=pd.Timestamp('today') - pd.DateOffset(months=1))\n"
     ]
    },
    {
     "name": "stdout",
     "output_type": "stream",
     "text": [
      "Index Error when producing momentum table\n"
     ]
    },
    {
     "name": "stderr",
     "output_type": "stream",
     "text": [
      "<ipython-input-6-ba13226fe2c3>:41: FutureWarning: Indexing a timezone-aware DatetimeIndex with a timezone-naive datetime is deprecated and will raise KeyError in a future version. Use a timezone-aware object instead.\n",
      "  y = info.truncate(before=pd.Timestamp('today') - pd.DateOffset(months=12))\n",
      "<ipython-input-6-ba13226fe2c3>:42: FutureWarning: Indexing a timezone-aware DatetimeIndex with a timezone-naive datetime is deprecated and will raise KeyError in a future version. Use a timezone-aware object instead.\n",
      "  m6 = info.truncate(before=pd.Timestamp('today') - pd.DateOffset(months=6))\n",
      "<ipython-input-6-ba13226fe2c3>:43: FutureWarning: Indexing a timezone-aware DatetimeIndex with a timezone-naive datetime is deprecated and will raise KeyError in a future version. Use a timezone-aware object instead.\n",
      "  m3 = info.truncate(before=pd.Timestamp('today') - pd.DateOffset(months=3))\n",
      "<ipython-input-6-ba13226fe2c3>:44: FutureWarning: Indexing a timezone-aware DatetimeIndex with a timezone-naive datetime is deprecated and will raise KeyError in a future version. Use a timezone-aware object instead.\n",
      "  m1 = info.truncate(before=pd.Timestamp('today') - pd.DateOffset(months=1))\n",
      "C:\\Users\\Kamen\\AppData\\Local\\Programs\\Python\\Python38\\lib\\site-packages\\numpy\\core\\_methods.py:262: RuntimeWarning: Degrees of freedom <= 0 for slice\n",
      "  ret = _var(a, axis=axis, dtype=dtype, out=out, ddof=ddof,\n",
      "C:\\Users\\Kamen\\AppData\\Local\\Programs\\Python\\Python38\\lib\\site-packages\\numpy\\core\\_methods.py:222: RuntimeWarning: invalid value encountered in true_divide\n",
      "  arrmean = um.true_divide(arrmean, div, out=arrmean, casting='unsafe',\n",
      "C:\\Users\\Kamen\\AppData\\Local\\Programs\\Python\\Python38\\lib\\site-packages\\numpy\\core\\_methods.py:254: RuntimeWarning: invalid value encountered in double_scalars\n",
      "  ret = ret.dtype.type(ret / rcount)\n",
      "<ipython-input-6-ba13226fe2c3>:11: RuntimeWarning: divide by zero encountered in log\n",
      "  reg = np.polyfit(np.log(lags), np.log(tau), 1)\n"
     ]
    },
    {
     "name": "stdout",
     "output_type": "stream",
     "text": [
      "0.3440852165222168\n"
     ]
    },
    {
     "name": "stderr",
     "output_type": "stream",
     "text": [
      "<ipython-input-6-ba13226fe2c3>:41: FutureWarning: Indexing a timezone-aware DatetimeIndex with a timezone-naive datetime is deprecated and will raise KeyError in a future version. Use a timezone-aware object instead.\n",
      "  y = info.truncate(before=pd.Timestamp('today') - pd.DateOffset(months=12))\n",
      "<ipython-input-6-ba13226fe2c3>:42: FutureWarning: Indexing a timezone-aware DatetimeIndex with a timezone-naive datetime is deprecated and will raise KeyError in a future version. Use a timezone-aware object instead.\n",
      "  m6 = info.truncate(before=pd.Timestamp('today') - pd.DateOffset(months=6))\n",
      "<ipython-input-6-ba13226fe2c3>:43: FutureWarning: Indexing a timezone-aware DatetimeIndex with a timezone-naive datetime is deprecated and will raise KeyError in a future version. Use a timezone-aware object instead.\n",
      "  m3 = info.truncate(before=pd.Timestamp('today') - pd.DateOffset(months=3))\n",
      "<ipython-input-6-ba13226fe2c3>:44: FutureWarning: Indexing a timezone-aware DatetimeIndex with a timezone-naive datetime is deprecated and will raise KeyError in a future version. Use a timezone-aware object instead.\n",
      "  m1 = info.truncate(before=pd.Timestamp('today') - pd.DateOffset(months=1))\n"
     ]
    },
    {
     "name": "stdout",
     "output_type": "stream",
     "text": [
      "0.8372480869293213\n"
     ]
    },
    {
     "name": "stderr",
     "output_type": "stream",
     "text": [
      "<ipython-input-6-ba13226fe2c3>:41: FutureWarning: Indexing a timezone-aware DatetimeIndex with a timezone-naive datetime is deprecated and will raise KeyError in a future version. Use a timezone-aware object instead.\n",
      "  y = info.truncate(before=pd.Timestamp('today') - pd.DateOffset(months=12))\n",
      "<ipython-input-6-ba13226fe2c3>:42: FutureWarning: Indexing a timezone-aware DatetimeIndex with a timezone-naive datetime is deprecated and will raise KeyError in a future version. Use a timezone-aware object instead.\n",
      "  m6 = info.truncate(before=pd.Timestamp('today') - pd.DateOffset(months=6))\n",
      "<ipython-input-6-ba13226fe2c3>:43: FutureWarning: Indexing a timezone-aware DatetimeIndex with a timezone-naive datetime is deprecated and will raise KeyError in a future version. Use a timezone-aware object instead.\n",
      "  m3 = info.truncate(before=pd.Timestamp('today') - pd.DateOffset(months=3))\n",
      "<ipython-input-6-ba13226fe2c3>:44: FutureWarning: Indexing a timezone-aware DatetimeIndex with a timezone-naive datetime is deprecated and will raise KeyError in a future version. Use a timezone-aware object instead.\n",
      "  m1 = info.truncate(before=pd.Timestamp('today') - pd.DateOffset(months=1))\n",
      "C:\\Users\\Kamen\\AppData\\Local\\Programs\\Python\\Python38\\lib\\site-packages\\numpy\\core\\_methods.py:262: RuntimeWarning: Degrees of freedom <= 0 for slice\n",
      "  ret = _var(a, axis=axis, dtype=dtype, out=out, ddof=ddof,\n",
      "C:\\Users\\Kamen\\AppData\\Local\\Programs\\Python\\Python38\\lib\\site-packages\\numpy\\core\\_methods.py:222: RuntimeWarning: invalid value encountered in true_divide\n",
      "  arrmean = um.true_divide(arrmean, div, out=arrmean, casting='unsafe',\n",
      "C:\\Users\\Kamen\\AppData\\Local\\Programs\\Python\\Python38\\lib\\site-packages\\numpy\\core\\_methods.py:254: RuntimeWarning: invalid value encountered in double_scalars\n",
      "  ret = ret.dtype.type(ret / rcount)\n",
      "<ipython-input-6-ba13226fe2c3>:11: RuntimeWarning: divide by zero encountered in log\n",
      "  reg = np.polyfit(np.log(lags), np.log(tau), 1)\n"
     ]
    },
    {
     "name": "stdout",
     "output_type": "stream",
     "text": [
      "0.43855762481689453\n"
     ]
    },
    {
     "name": "stderr",
     "output_type": "stream",
     "text": [
      "<ipython-input-6-ba13226fe2c3>:41: FutureWarning: Indexing a timezone-aware DatetimeIndex with a timezone-naive datetime is deprecated and will raise KeyError in a future version. Use a timezone-aware object instead.\n",
      "  y = info.truncate(before=pd.Timestamp('today') - pd.DateOffset(months=12))\n",
      "<ipython-input-6-ba13226fe2c3>:42: FutureWarning: Indexing a timezone-aware DatetimeIndex with a timezone-naive datetime is deprecated and will raise KeyError in a future version. Use a timezone-aware object instead.\n",
      "  m6 = info.truncate(before=pd.Timestamp('today') - pd.DateOffset(months=6))\n",
      "<ipython-input-6-ba13226fe2c3>:43: FutureWarning: Indexing a timezone-aware DatetimeIndex with a timezone-naive datetime is deprecated and will raise KeyError in a future version. Use a timezone-aware object instead.\n",
      "  m3 = info.truncate(before=pd.Timestamp('today') - pd.DateOffset(months=3))\n",
      "<ipython-input-6-ba13226fe2c3>:44: FutureWarning: Indexing a timezone-aware DatetimeIndex with a timezone-naive datetime is deprecated and will raise KeyError in a future version. Use a timezone-aware object instead.\n",
      "  m1 = info.truncate(before=pd.Timestamp('today') - pd.DateOffset(months=1))\n"
     ]
    },
    {
     "name": "stdout",
     "output_type": "stream",
     "text": [
      "0.4757704734802246\n"
     ]
    },
    {
     "name": "stderr",
     "output_type": "stream",
     "text": [
      "<ipython-input-6-ba13226fe2c3>:41: FutureWarning: Indexing a timezone-aware DatetimeIndex with a timezone-naive datetime is deprecated and will raise KeyError in a future version. Use a timezone-aware object instead.\n",
      "  y = info.truncate(before=pd.Timestamp('today') - pd.DateOffset(months=12))\n",
      "<ipython-input-6-ba13226fe2c3>:42: FutureWarning: Indexing a timezone-aware DatetimeIndex with a timezone-naive datetime is deprecated and will raise KeyError in a future version. Use a timezone-aware object instead.\n",
      "  m6 = info.truncate(before=pd.Timestamp('today') - pd.DateOffset(months=6))\n",
      "<ipython-input-6-ba13226fe2c3>:43: FutureWarning: Indexing a timezone-aware DatetimeIndex with a timezone-naive datetime is deprecated and will raise KeyError in a future version. Use a timezone-aware object instead.\n",
      "  m3 = info.truncate(before=pd.Timestamp('today') - pd.DateOffset(months=3))\n",
      "<ipython-input-6-ba13226fe2c3>:44: FutureWarning: Indexing a timezone-aware DatetimeIndex with a timezone-naive datetime is deprecated and will raise KeyError in a future version. Use a timezone-aware object instead.\n",
      "  m1 = info.truncate(before=pd.Timestamp('today') - pd.DateOffset(months=1))\n"
     ]
    },
    {
     "name": "stdout",
     "output_type": "stream",
     "text": [
      "0.724036693572998\n"
     ]
    },
    {
     "name": "stderr",
     "output_type": "stream",
     "text": [
      "<ipython-input-6-ba13226fe2c3>:41: FutureWarning: Indexing a timezone-aware DatetimeIndex with a timezone-naive datetime is deprecated and will raise KeyError in a future version. Use a timezone-aware object instead.\n",
      "  y = info.truncate(before=pd.Timestamp('today') - pd.DateOffset(months=12))\n",
      "<ipython-input-6-ba13226fe2c3>:42: FutureWarning: Indexing a timezone-aware DatetimeIndex with a timezone-naive datetime is deprecated and will raise KeyError in a future version. Use a timezone-aware object instead.\n",
      "  m6 = info.truncate(before=pd.Timestamp('today') - pd.DateOffset(months=6))\n",
      "<ipython-input-6-ba13226fe2c3>:43: FutureWarning: Indexing a timezone-aware DatetimeIndex with a timezone-naive datetime is deprecated and will raise KeyError in a future version. Use a timezone-aware object instead.\n",
      "  m3 = info.truncate(before=pd.Timestamp('today') - pd.DateOffset(months=3))\n",
      "<ipython-input-6-ba13226fe2c3>:44: FutureWarning: Indexing a timezone-aware DatetimeIndex with a timezone-naive datetime is deprecated and will raise KeyError in a future version. Use a timezone-aware object instead.\n",
      "  m1 = info.truncate(before=pd.Timestamp('today') - pd.DateOffset(months=1))\n"
     ]
    },
    {
     "name": "stdout",
     "output_type": "stream",
     "text": [
      "0.6129426956176758\n"
     ]
    },
    {
     "name": "stderr",
     "output_type": "stream",
     "text": [
      "<ipython-input-6-ba13226fe2c3>:41: FutureWarning: Indexing a timezone-aware DatetimeIndex with a timezone-naive datetime is deprecated and will raise KeyError in a future version. Use a timezone-aware object instead.\n",
      "  y = info.truncate(before=pd.Timestamp('today') - pd.DateOffset(months=12))\n",
      "<ipython-input-6-ba13226fe2c3>:42: FutureWarning: Indexing a timezone-aware DatetimeIndex with a timezone-naive datetime is deprecated and will raise KeyError in a future version. Use a timezone-aware object instead.\n",
      "  m6 = info.truncate(before=pd.Timestamp('today') - pd.DateOffset(months=6))\n",
      "<ipython-input-6-ba13226fe2c3>:43: FutureWarning: Indexing a timezone-aware DatetimeIndex with a timezone-naive datetime is deprecated and will raise KeyError in a future version. Use a timezone-aware object instead.\n",
      "  m3 = info.truncate(before=pd.Timestamp('today') - pd.DateOffset(months=3))\n",
      "<ipython-input-6-ba13226fe2c3>:44: FutureWarning: Indexing a timezone-aware DatetimeIndex with a timezone-naive datetime is deprecated and will raise KeyError in a future version. Use a timezone-aware object instead.\n",
      "  m1 = info.truncate(before=pd.Timestamp('today') - pd.DateOffset(months=1))\n"
     ]
    },
    {
     "name": "stdout",
     "output_type": "stream",
     "text": [
      "0.4135150909423828\n"
     ]
    },
    {
     "name": "stderr",
     "output_type": "stream",
     "text": [
      "<ipython-input-6-ba13226fe2c3>:41: FutureWarning: Indexing a timezone-aware DatetimeIndex with a timezone-naive datetime is deprecated and will raise KeyError in a future version. Use a timezone-aware object instead.\n",
      "  y = info.truncate(before=pd.Timestamp('today') - pd.DateOffset(months=12))\n",
      "<ipython-input-6-ba13226fe2c3>:42: FutureWarning: Indexing a timezone-aware DatetimeIndex with a timezone-naive datetime is deprecated and will raise KeyError in a future version. Use a timezone-aware object instead.\n",
      "  m6 = info.truncate(before=pd.Timestamp('today') - pd.DateOffset(months=6))\n",
      "<ipython-input-6-ba13226fe2c3>:43: FutureWarning: Indexing a timezone-aware DatetimeIndex with a timezone-naive datetime is deprecated and will raise KeyError in a future version. Use a timezone-aware object instead.\n",
      "  m3 = info.truncate(before=pd.Timestamp('today') - pd.DateOffset(months=3))\n",
      "<ipython-input-6-ba13226fe2c3>:44: FutureWarning: Indexing a timezone-aware DatetimeIndex with a timezone-naive datetime is deprecated and will raise KeyError in a future version. Use a timezone-aware object instead.\n",
      "  m1 = info.truncate(before=pd.Timestamp('today') - pd.DateOffset(months=1))\n"
     ]
    },
    {
     "name": "stdout",
     "output_type": "stream",
     "text": [
      "0.8752918243408203\n"
     ]
    },
    {
     "name": "stderr",
     "output_type": "stream",
     "text": [
      "<ipython-input-6-ba13226fe2c3>:41: FutureWarning: Indexing a timezone-aware DatetimeIndex with a timezone-naive datetime is deprecated and will raise KeyError in a future version. Use a timezone-aware object instead.\n",
      "  y = info.truncate(before=pd.Timestamp('today') - pd.DateOffset(months=12))\n",
      "<ipython-input-6-ba13226fe2c3>:42: FutureWarning: Indexing a timezone-aware DatetimeIndex with a timezone-naive datetime is deprecated and will raise KeyError in a future version. Use a timezone-aware object instead.\n",
      "  m6 = info.truncate(before=pd.Timestamp('today') - pd.DateOffset(months=6))\n",
      "<ipython-input-6-ba13226fe2c3>:43: FutureWarning: Indexing a timezone-aware DatetimeIndex with a timezone-naive datetime is deprecated and will raise KeyError in a future version. Use a timezone-aware object instead.\n",
      "  m3 = info.truncate(before=pd.Timestamp('today') - pd.DateOffset(months=3))\n",
      "<ipython-input-6-ba13226fe2c3>:44: FutureWarning: Indexing a timezone-aware DatetimeIndex with a timezone-naive datetime is deprecated and will raise KeyError in a future version. Use a timezone-aware object instead.\n",
      "  m1 = info.truncate(before=pd.Timestamp('today') - pd.DateOffset(months=1))\n"
     ]
    },
    {
     "name": "stdout",
     "output_type": "stream",
     "text": [
      "0.5192549228668213\n"
     ]
    },
    {
     "name": "stderr",
     "output_type": "stream",
     "text": [
      "<ipython-input-6-ba13226fe2c3>:41: FutureWarning: Indexing a timezone-aware DatetimeIndex with a timezone-naive datetime is deprecated and will raise KeyError in a future version. Use a timezone-aware object instead.\n",
      "  y = info.truncate(before=pd.Timestamp('today') - pd.DateOffset(months=12))\n",
      "<ipython-input-6-ba13226fe2c3>:42: FutureWarning: Indexing a timezone-aware DatetimeIndex with a timezone-naive datetime is deprecated and will raise KeyError in a future version. Use a timezone-aware object instead.\n",
      "  m6 = info.truncate(before=pd.Timestamp('today') - pd.DateOffset(months=6))\n",
      "<ipython-input-6-ba13226fe2c3>:43: FutureWarning: Indexing a timezone-aware DatetimeIndex with a timezone-naive datetime is deprecated and will raise KeyError in a future version. Use a timezone-aware object instead.\n",
      "  m3 = info.truncate(before=pd.Timestamp('today') - pd.DateOffset(months=3))\n",
      "<ipython-input-6-ba13226fe2c3>:44: FutureWarning: Indexing a timezone-aware DatetimeIndex with a timezone-naive datetime is deprecated and will raise KeyError in a future version. Use a timezone-aware object instead.\n",
      "  m1 = info.truncate(before=pd.Timestamp('today') - pd.DateOffset(months=1))\n"
     ]
    },
    {
     "name": "stdout",
     "output_type": "stream",
     "text": [
      "0.9218864440917969\n",
      "Got error from yahoo api for ticker DPM, Error: {'code': 'Not Found', 'description': 'No data found, symbol may be delisted'}\n",
      "- DPM: No timezone found, symbol may be delisted\n",
      "Index Error when producing momentum table\n"
     ]
    },
    {
     "name": "stderr",
     "output_type": "stream",
     "text": [
      "<ipython-input-6-ba13226fe2c3>:41: FutureWarning: Indexing a timezone-aware DatetimeIndex with a timezone-naive datetime is deprecated and will raise KeyError in a future version. Use a timezone-aware object instead.\n",
      "  y = info.truncate(before=pd.Timestamp('today') - pd.DateOffset(months=12))\n",
      "<ipython-input-6-ba13226fe2c3>:42: FutureWarning: Indexing a timezone-aware DatetimeIndex with a timezone-naive datetime is deprecated and will raise KeyError in a future version. Use a timezone-aware object instead.\n",
      "  m6 = info.truncate(before=pd.Timestamp('today') - pd.DateOffset(months=6))\n",
      "<ipython-input-6-ba13226fe2c3>:43: FutureWarning: Indexing a timezone-aware DatetimeIndex with a timezone-naive datetime is deprecated and will raise KeyError in a future version. Use a timezone-aware object instead.\n",
      "  m3 = info.truncate(before=pd.Timestamp('today') - pd.DateOffset(months=3))\n",
      "<ipython-input-6-ba13226fe2c3>:44: FutureWarning: Indexing a timezone-aware DatetimeIndex with a timezone-naive datetime is deprecated and will raise KeyError in a future version. Use a timezone-aware object instead.\n",
      "  m1 = info.truncate(before=pd.Timestamp('today') - pd.DateOffset(months=1))\n"
     ]
    },
    {
     "name": "stdout",
     "output_type": "stream",
     "text": [
      "1.7981157302856445\n"
     ]
    },
    {
     "name": "stderr",
     "output_type": "stream",
     "text": [
      "<ipython-input-6-ba13226fe2c3>:41: FutureWarning: Indexing a timezone-aware DatetimeIndex with a timezone-naive datetime is deprecated and will raise KeyError in a future version. Use a timezone-aware object instead.\n",
      "  y = info.truncate(before=pd.Timestamp('today') - pd.DateOffset(months=12))\n",
      "<ipython-input-6-ba13226fe2c3>:42: FutureWarning: Indexing a timezone-aware DatetimeIndex with a timezone-naive datetime is deprecated and will raise KeyError in a future version. Use a timezone-aware object instead.\n",
      "  m6 = info.truncate(before=pd.Timestamp('today') - pd.DateOffset(months=6))\n",
      "<ipython-input-6-ba13226fe2c3>:43: FutureWarning: Indexing a timezone-aware DatetimeIndex with a timezone-naive datetime is deprecated and will raise KeyError in a future version. Use a timezone-aware object instead.\n",
      "  m3 = info.truncate(before=pd.Timestamp('today') - pd.DateOffset(months=3))\n",
      "<ipython-input-6-ba13226fe2c3>:44: FutureWarning: Indexing a timezone-aware DatetimeIndex with a timezone-naive datetime is deprecated and will raise KeyError in a future version. Use a timezone-aware object instead.\n",
      "  m1 = info.truncate(before=pd.Timestamp('today') - pd.DateOffset(months=1))\n"
     ]
    },
    {
     "name": "stdout",
     "output_type": "stream",
     "text": [
      "0.6861865520477295\n"
     ]
    },
    {
     "name": "stderr",
     "output_type": "stream",
     "text": [
      "<ipython-input-6-ba13226fe2c3>:41: FutureWarning: Indexing a timezone-aware DatetimeIndex with a timezone-naive datetime is deprecated and will raise KeyError in a future version. Use a timezone-aware object instead.\n",
      "  y = info.truncate(before=pd.Timestamp('today') - pd.DateOffset(months=12))\n",
      "<ipython-input-6-ba13226fe2c3>:42: FutureWarning: Indexing a timezone-aware DatetimeIndex with a timezone-naive datetime is deprecated and will raise KeyError in a future version. Use a timezone-aware object instead.\n",
      "  m6 = info.truncate(before=pd.Timestamp('today') - pd.DateOffset(months=6))\n",
      "<ipython-input-6-ba13226fe2c3>:43: FutureWarning: Indexing a timezone-aware DatetimeIndex with a timezone-naive datetime is deprecated and will raise KeyError in a future version. Use a timezone-aware object instead.\n",
      "  m3 = info.truncate(before=pd.Timestamp('today') - pd.DateOffset(months=3))\n",
      "<ipython-input-6-ba13226fe2c3>:44: FutureWarning: Indexing a timezone-aware DatetimeIndex with a timezone-naive datetime is deprecated and will raise KeyError in a future version. Use a timezone-aware object instead.\n",
      "  m1 = info.truncate(before=pd.Timestamp('today') - pd.DateOffset(months=1))\n"
     ]
    },
    {
     "name": "stdout",
     "output_type": "stream",
     "text": [
      "0.6446530818939209\n"
     ]
    },
    {
     "name": "stderr",
     "output_type": "stream",
     "text": [
      "<ipython-input-6-ba13226fe2c3>:41: FutureWarning: Indexing a timezone-aware DatetimeIndex with a timezone-naive datetime is deprecated and will raise KeyError in a future version. Use a timezone-aware object instead.\n",
      "  y = info.truncate(before=pd.Timestamp('today') - pd.DateOffset(months=12))\n",
      "<ipython-input-6-ba13226fe2c3>:42: FutureWarning: Indexing a timezone-aware DatetimeIndex with a timezone-naive datetime is deprecated and will raise KeyError in a future version. Use a timezone-aware object instead.\n",
      "  m6 = info.truncate(before=pd.Timestamp('today') - pd.DateOffset(months=6))\n",
      "<ipython-input-6-ba13226fe2c3>:43: FutureWarning: Indexing a timezone-aware DatetimeIndex with a timezone-naive datetime is deprecated and will raise KeyError in a future version. Use a timezone-aware object instead.\n",
      "  m3 = info.truncate(before=pd.Timestamp('today') - pd.DateOffset(months=3))\n",
      "<ipython-input-6-ba13226fe2c3>:44: FutureWarning: Indexing a timezone-aware DatetimeIndex with a timezone-naive datetime is deprecated and will raise KeyError in a future version. Use a timezone-aware object instead.\n",
      "  m1 = info.truncate(before=pd.Timestamp('today') - pd.DateOffset(months=1))\n"
     ]
    },
    {
     "name": "stdout",
     "output_type": "stream",
     "text": [
      "0.6356799602508545\n"
     ]
    },
    {
     "name": "stderr",
     "output_type": "stream",
     "text": [
      "<ipython-input-6-ba13226fe2c3>:41: FutureWarning: Indexing a timezone-aware DatetimeIndex with a timezone-naive datetime is deprecated and will raise KeyError in a future version. Use a timezone-aware object instead.\n",
      "  y = info.truncate(before=pd.Timestamp('today') - pd.DateOffset(months=12))\n",
      "<ipython-input-6-ba13226fe2c3>:42: FutureWarning: Indexing a timezone-aware DatetimeIndex with a timezone-naive datetime is deprecated and will raise KeyError in a future version. Use a timezone-aware object instead.\n",
      "  m6 = info.truncate(before=pd.Timestamp('today') - pd.DateOffset(months=6))\n",
      "<ipython-input-6-ba13226fe2c3>:43: FutureWarning: Indexing a timezone-aware DatetimeIndex with a timezone-naive datetime is deprecated and will raise KeyError in a future version. Use a timezone-aware object instead.\n",
      "  m3 = info.truncate(before=pd.Timestamp('today') - pd.DateOffset(months=3))\n",
      "<ipython-input-6-ba13226fe2c3>:44: FutureWarning: Indexing a timezone-aware DatetimeIndex with a timezone-naive datetime is deprecated and will raise KeyError in a future version. Use a timezone-aware object instead.\n",
      "  m1 = info.truncate(before=pd.Timestamp('today') - pd.DateOffset(months=1))\n"
     ]
    },
    {
     "name": "stdout",
     "output_type": "stream",
     "text": [
      "0.7266147136688232\n"
     ]
    },
    {
     "name": "stderr",
     "output_type": "stream",
     "text": [
      "<ipython-input-6-ba13226fe2c3>:41: FutureWarning: Indexing a timezone-aware DatetimeIndex with a timezone-naive datetime is deprecated and will raise KeyError in a future version. Use a timezone-aware object instead.\n",
      "  y = info.truncate(before=pd.Timestamp('today') - pd.DateOffset(months=12))\n",
      "<ipython-input-6-ba13226fe2c3>:42: FutureWarning: Indexing a timezone-aware DatetimeIndex with a timezone-naive datetime is deprecated and will raise KeyError in a future version. Use a timezone-aware object instead.\n",
      "  m6 = info.truncate(before=pd.Timestamp('today') - pd.DateOffset(months=6))\n",
      "<ipython-input-6-ba13226fe2c3>:43: FutureWarning: Indexing a timezone-aware DatetimeIndex with a timezone-naive datetime is deprecated and will raise KeyError in a future version. Use a timezone-aware object instead.\n",
      "  m3 = info.truncate(before=pd.Timestamp('today') - pd.DateOffset(months=3))\n",
      "<ipython-input-6-ba13226fe2c3>:44: FutureWarning: Indexing a timezone-aware DatetimeIndex with a timezone-naive datetime is deprecated and will raise KeyError in a future version. Use a timezone-aware object instead.\n",
      "  m1 = info.truncate(before=pd.Timestamp('today') - pd.DateOffset(months=1))\n"
     ]
    },
    {
     "name": "stdout",
     "output_type": "stream",
     "text": [
      "0.6005630493164062\n",
      "Got error from yahoo api for ticker DLPH, Error: {'code': 'Not Found', 'description': 'No data found, symbol may be delisted'}\n",
      "- DLPH: No timezone found, symbol may be delisted\n",
      "Index Error when producing momentum table\n"
     ]
    },
    {
     "name": "stderr",
     "output_type": "stream",
     "text": [
      "<ipython-input-6-ba13226fe2c3>:41: FutureWarning: Indexing a timezone-aware DatetimeIndex with a timezone-naive datetime is deprecated and will raise KeyError in a future version. Use a timezone-aware object instead.\n",
      "  y = info.truncate(before=pd.Timestamp('today') - pd.DateOffset(months=12))\n",
      "<ipython-input-6-ba13226fe2c3>:42: FutureWarning: Indexing a timezone-aware DatetimeIndex with a timezone-naive datetime is deprecated and will raise KeyError in a future version. Use a timezone-aware object instead.\n",
      "  m6 = info.truncate(before=pd.Timestamp('today') - pd.DateOffset(months=6))\n",
      "<ipython-input-6-ba13226fe2c3>:43: FutureWarning: Indexing a timezone-aware DatetimeIndex with a timezone-naive datetime is deprecated and will raise KeyError in a future version. Use a timezone-aware object instead.\n",
      "  m3 = info.truncate(before=pd.Timestamp('today') - pd.DateOffset(months=3))\n",
      "<ipython-input-6-ba13226fe2c3>:44: FutureWarning: Indexing a timezone-aware DatetimeIndex with a timezone-naive datetime is deprecated and will raise KeyError in a future version. Use a timezone-aware object instead.\n",
      "  m1 = info.truncate(before=pd.Timestamp('today') - pd.DateOffset(months=1))\n"
     ]
    },
    {
     "name": "stdout",
     "output_type": "stream",
     "text": [
      "0.6899890899658203\n"
     ]
    },
    {
     "name": "stderr",
     "output_type": "stream",
     "text": [
      "<ipython-input-6-ba13226fe2c3>:41: FutureWarning: Indexing a timezone-aware DatetimeIndex with a timezone-naive datetime is deprecated and will raise KeyError in a future version. Use a timezone-aware object instead.\n",
      "  y = info.truncate(before=pd.Timestamp('today') - pd.DateOffset(months=12))\n",
      "<ipython-input-6-ba13226fe2c3>:42: FutureWarning: Indexing a timezone-aware DatetimeIndex with a timezone-naive datetime is deprecated and will raise KeyError in a future version. Use a timezone-aware object instead.\n",
      "  m6 = info.truncate(before=pd.Timestamp('today') - pd.DateOffset(months=6))\n",
      "<ipython-input-6-ba13226fe2c3>:43: FutureWarning: Indexing a timezone-aware DatetimeIndex with a timezone-naive datetime is deprecated and will raise KeyError in a future version. Use a timezone-aware object instead.\n",
      "  m3 = info.truncate(before=pd.Timestamp('today') - pd.DateOffset(months=3))\n",
      "<ipython-input-6-ba13226fe2c3>:44: FutureWarning: Indexing a timezone-aware DatetimeIndex with a timezone-naive datetime is deprecated and will raise KeyError in a future version. Use a timezone-aware object instead.\n",
      "  m1 = info.truncate(before=pd.Timestamp('today') - pd.DateOffset(months=1))\n"
     ]
    },
    {
     "name": "stdout",
     "output_type": "stream",
     "text": [
      "Index Error when producing momentum table\n"
     ]
    },
    {
     "name": "stderr",
     "output_type": "stream",
     "text": [
      "<ipython-input-6-ba13226fe2c3>:41: FutureWarning: Indexing a timezone-aware DatetimeIndex with a timezone-naive datetime is deprecated and will raise KeyError in a future version. Use a timezone-aware object instead.\n",
      "  y = info.truncate(before=pd.Timestamp('today') - pd.DateOffset(months=12))\n",
      "<ipython-input-6-ba13226fe2c3>:42: FutureWarning: Indexing a timezone-aware DatetimeIndex with a timezone-naive datetime is deprecated and will raise KeyError in a future version. Use a timezone-aware object instead.\n",
      "  m6 = info.truncate(before=pd.Timestamp('today') - pd.DateOffset(months=6))\n",
      "<ipython-input-6-ba13226fe2c3>:43: FutureWarning: Indexing a timezone-aware DatetimeIndex with a timezone-naive datetime is deprecated and will raise KeyError in a future version. Use a timezone-aware object instead.\n",
      "  m3 = info.truncate(before=pd.Timestamp('today') - pd.DateOffset(months=3))\n",
      "<ipython-input-6-ba13226fe2c3>:44: FutureWarning: Indexing a timezone-aware DatetimeIndex with a timezone-naive datetime is deprecated and will raise KeyError in a future version. Use a timezone-aware object instead.\n",
      "  m1 = info.truncate(before=pd.Timestamp('today') - pd.DateOffset(months=1))\n"
     ]
    },
    {
     "name": "stdout",
     "output_type": "stream",
     "text": [
      "1.0021190643310547\n",
      "DMD: 1d data not available for startTime=-2208994789 and endTime=1673461942. Only 100 years worth of day granularity data are allowed to be fetched per request.\n",
      "Index Error when producing momentum table\n",
      "DWRE: 1d data not available for startTime=-2208994789 and endTime=1673461943. Only 100 years worth of day granularity data are allowed to be fetched per request.\n",
      "Index Error when producing momentum table\n",
      "DNY: 1d data not available for startTime=-2208994789 and endTime=1673461943. Only 100 years worth of day granularity data are allowed to be fetched per request.\n",
      "Index Error when producing momentum table\n"
     ]
    },
    {
     "name": "stderr",
     "output_type": "stream",
     "text": [
      "<ipython-input-6-ba13226fe2c3>:41: FutureWarning: Indexing a timezone-aware DatetimeIndex with a timezone-naive datetime is deprecated and will raise KeyError in a future version. Use a timezone-aware object instead.\n",
      "  y = info.truncate(before=pd.Timestamp('today') - pd.DateOffset(months=12))\n",
      "<ipython-input-6-ba13226fe2c3>:42: FutureWarning: Indexing a timezone-aware DatetimeIndex with a timezone-naive datetime is deprecated and will raise KeyError in a future version. Use a timezone-aware object instead.\n",
      "  m6 = info.truncate(before=pd.Timestamp('today') - pd.DateOffset(months=6))\n",
      "<ipython-input-6-ba13226fe2c3>:43: FutureWarning: Indexing a timezone-aware DatetimeIndex with a timezone-naive datetime is deprecated and will raise KeyError in a future version. Use a timezone-aware object instead.\n",
      "  m3 = info.truncate(before=pd.Timestamp('today') - pd.DateOffset(months=3))\n",
      "<ipython-input-6-ba13226fe2c3>:44: FutureWarning: Indexing a timezone-aware DatetimeIndex with a timezone-naive datetime is deprecated and will raise KeyError in a future version. Use a timezone-aware object instead.\n",
      "  m1 = info.truncate(before=pd.Timestamp('today') - pd.DateOffset(months=1))\n",
      "C:\\Users\\Kamen\\AppData\\Local\\Programs\\Python\\Python38\\lib\\site-packages\\numpy\\core\\_methods.py:262: RuntimeWarning: Degrees of freedom <= 0 for slice\n",
      "  ret = _var(a, axis=axis, dtype=dtype, out=out, ddof=ddof,\n",
      "C:\\Users\\Kamen\\AppData\\Local\\Programs\\Python\\Python38\\lib\\site-packages\\numpy\\core\\_methods.py:222: RuntimeWarning: invalid value encountered in true_divide\n",
      "  arrmean = um.true_divide(arrmean, div, out=arrmean, casting='unsafe',\n",
      "C:\\Users\\Kamen\\AppData\\Local\\Programs\\Python\\Python38\\lib\\site-packages\\numpy\\core\\_methods.py:254: RuntimeWarning: invalid value encountered in double_scalars\n",
      "  ret = ret.dtype.type(ret / rcount)\n",
      "<ipython-input-6-ba13226fe2c3>:11: RuntimeWarning: divide by zero encountered in log\n",
      "  reg = np.polyfit(np.log(lags), np.log(tau), 1)\n"
     ]
    },
    {
     "name": "stdout",
     "output_type": "stream",
     "text": [
      "0.4066798686981201\n"
     ]
    },
    {
     "name": "stderr",
     "output_type": "stream",
     "text": [
      "<ipython-input-6-ba13226fe2c3>:41: FutureWarning: Indexing a timezone-aware DatetimeIndex with a timezone-naive datetime is deprecated and will raise KeyError in a future version. Use a timezone-aware object instead.\n",
      "  y = info.truncate(before=pd.Timestamp('today') - pd.DateOffset(months=12))\n",
      "<ipython-input-6-ba13226fe2c3>:42: FutureWarning: Indexing a timezone-aware DatetimeIndex with a timezone-naive datetime is deprecated and will raise KeyError in a future version. Use a timezone-aware object instead.\n",
      "  m6 = info.truncate(before=pd.Timestamp('today') - pd.DateOffset(months=6))\n",
      "<ipython-input-6-ba13226fe2c3>:43: FutureWarning: Indexing a timezone-aware DatetimeIndex with a timezone-naive datetime is deprecated and will raise KeyError in a future version. Use a timezone-aware object instead.\n",
      "  m3 = info.truncate(before=pd.Timestamp('today') - pd.DateOffset(months=3))\n",
      "<ipython-input-6-ba13226fe2c3>:44: FutureWarning: Indexing a timezone-aware DatetimeIndex with a timezone-naive datetime is deprecated and will raise KeyError in a future version. Use a timezone-aware object instead.\n",
      "  m1 = info.truncate(before=pd.Timestamp('today') - pd.DateOffset(months=1))\n"
     ]
    },
    {
     "name": "stdout",
     "output_type": "stream",
     "text": [
      "0.5889229774475098\n"
     ]
    },
    {
     "name": "stderr",
     "output_type": "stream",
     "text": [
      "<ipython-input-6-ba13226fe2c3>:41: FutureWarning: Indexing a timezone-aware DatetimeIndex with a timezone-naive datetime is deprecated and will raise KeyError in a future version. Use a timezone-aware object instead.\n",
      "  y = info.truncate(before=pd.Timestamp('today') - pd.DateOffset(months=12))\n",
      "<ipython-input-6-ba13226fe2c3>:42: FutureWarning: Indexing a timezone-aware DatetimeIndex with a timezone-naive datetime is deprecated and will raise KeyError in a future version. Use a timezone-aware object instead.\n",
      "  m6 = info.truncate(before=pd.Timestamp('today') - pd.DateOffset(months=6))\n",
      "<ipython-input-6-ba13226fe2c3>:43: FutureWarning: Indexing a timezone-aware DatetimeIndex with a timezone-naive datetime is deprecated and will raise KeyError in a future version. Use a timezone-aware object instead.\n",
      "  m3 = info.truncate(before=pd.Timestamp('today') - pd.DateOffset(months=3))\n",
      "<ipython-input-6-ba13226fe2c3>:44: FutureWarning: Indexing a timezone-aware DatetimeIndex with a timezone-naive datetime is deprecated and will raise KeyError in a future version. Use a timezone-aware object instead.\n",
      "  m1 = info.truncate(before=pd.Timestamp('today') - pd.DateOffset(months=1))\n"
     ]
    },
    {
     "name": "stdout",
     "output_type": "stream",
     "text": [
      "Index Error when producing momentum table\n",
      "Got error from yahoo api for ticker DUA, Error: {'code': 'Not Found', 'description': 'No data found, symbol may be delisted'}\n",
      "- DUA: No timezone found, symbol may be delisted\n",
      "Index Error when producing momentum table\n",
      "Got error from yahoo api for ticker DXB, Error: {'code': 'Not Found', 'description': 'No data found, symbol may be delisted'}\n",
      "- DXB: No timezone found, symbol may be delisted\n",
      "Index Error when producing momentum table\n"
     ]
    },
    {
     "name": "stderr",
     "output_type": "stream",
     "text": [
      "<ipython-input-6-ba13226fe2c3>:41: FutureWarning: Indexing a timezone-aware DatetimeIndex with a timezone-naive datetime is deprecated and will raise KeyError in a future version. Use a timezone-aware object instead.\n",
      "  y = info.truncate(before=pd.Timestamp('today') - pd.DateOffset(months=12))\n",
      "<ipython-input-6-ba13226fe2c3>:42: FutureWarning: Indexing a timezone-aware DatetimeIndex with a timezone-naive datetime is deprecated and will raise KeyError in a future version. Use a timezone-aware object instead.\n",
      "  m6 = info.truncate(before=pd.Timestamp('today') - pd.DateOffset(months=6))\n",
      "<ipython-input-6-ba13226fe2c3>:43: FutureWarning: Indexing a timezone-aware DatetimeIndex with a timezone-naive datetime is deprecated and will raise KeyError in a future version. Use a timezone-aware object instead.\n",
      "  m3 = info.truncate(before=pd.Timestamp('today') - pd.DateOffset(months=3))\n",
      "<ipython-input-6-ba13226fe2c3>:44: FutureWarning: Indexing a timezone-aware DatetimeIndex with a timezone-naive datetime is deprecated and will raise KeyError in a future version. Use a timezone-aware object instead.\n",
      "  m1 = info.truncate(before=pd.Timestamp('today') - pd.DateOffset(months=1))\n"
     ]
    },
    {
     "name": "stdout",
     "output_type": "stream",
     "text": [
      "Index Error when producing momentum table\n",
      "Got error from yahoo api for ticker DKT, Error: {'code': 'Not Found', 'description': 'No data found, symbol may be delisted'}\n",
      "- DKT: No timezone found, symbol may be delisted\n",
      "Index Error when producing momentum table\n"
     ]
    },
    {
     "name": "stderr",
     "output_type": "stream",
     "text": [
      "<ipython-input-6-ba13226fe2c3>:41: FutureWarning: Indexing a timezone-aware DatetimeIndex with a timezone-naive datetime is deprecated and will raise KeyError in a future version. Use a timezone-aware object instead.\n",
      "  y = info.truncate(before=pd.Timestamp('today') - pd.DateOffset(months=12))\n",
      "<ipython-input-6-ba13226fe2c3>:42: FutureWarning: Indexing a timezone-aware DatetimeIndex with a timezone-naive datetime is deprecated and will raise KeyError in a future version. Use a timezone-aware object instead.\n",
      "  m6 = info.truncate(before=pd.Timestamp('today') - pd.DateOffset(months=6))\n",
      "<ipython-input-6-ba13226fe2c3>:43: FutureWarning: Indexing a timezone-aware DatetimeIndex with a timezone-naive datetime is deprecated and will raise KeyError in a future version. Use a timezone-aware object instead.\n",
      "  m3 = info.truncate(before=pd.Timestamp('today') - pd.DateOffset(months=3))\n",
      "<ipython-input-6-ba13226fe2c3>:44: FutureWarning: Indexing a timezone-aware DatetimeIndex with a timezone-naive datetime is deprecated and will raise KeyError in a future version. Use a timezone-aware object instead.\n",
      "  m1 = info.truncate(before=pd.Timestamp('today') - pd.DateOffset(months=1))\n"
     ]
    },
    {
     "name": "stdout",
     "output_type": "stream",
     "text": [
      "0.6968851089477539\n"
     ]
    },
    {
     "name": "stderr",
     "output_type": "stream",
     "text": [
      "<ipython-input-6-ba13226fe2c3>:41: FutureWarning: Indexing a timezone-aware DatetimeIndex with a timezone-naive datetime is deprecated and will raise KeyError in a future version. Use a timezone-aware object instead.\n",
      "  y = info.truncate(before=pd.Timestamp('today') - pd.DateOffset(months=12))\n",
      "<ipython-input-6-ba13226fe2c3>:42: FutureWarning: Indexing a timezone-aware DatetimeIndex with a timezone-naive datetime is deprecated and will raise KeyError in a future version. Use a timezone-aware object instead.\n",
      "  m6 = info.truncate(before=pd.Timestamp('today') - pd.DateOffset(months=6))\n",
      "<ipython-input-6-ba13226fe2c3>:43: FutureWarning: Indexing a timezone-aware DatetimeIndex with a timezone-naive datetime is deprecated and will raise KeyError in a future version. Use a timezone-aware object instead.\n",
      "  m3 = info.truncate(before=pd.Timestamp('today') - pd.DateOffset(months=3))\n",
      "<ipython-input-6-ba13226fe2c3>:44: FutureWarning: Indexing a timezone-aware DatetimeIndex with a timezone-naive datetime is deprecated and will raise KeyError in a future version. Use a timezone-aware object instead.\n",
      "  m1 = info.truncate(before=pd.Timestamp('today') - pd.DateOffset(months=1))\n",
      "C:\\Users\\Kamen\\AppData\\Local\\Programs\\Python\\Python38\\lib\\site-packages\\numpy\\core\\_methods.py:262: RuntimeWarning: Degrees of freedom <= 0 for slice\n",
      "  ret = _var(a, axis=axis, dtype=dtype, out=out, ddof=ddof,\n",
      "C:\\Users\\Kamen\\AppData\\Local\\Programs\\Python\\Python38\\lib\\site-packages\\numpy\\core\\_methods.py:222: RuntimeWarning: invalid value encountered in true_divide\n",
      "  arrmean = um.true_divide(arrmean, div, out=arrmean, casting='unsafe',\n",
      "C:\\Users\\Kamen\\AppData\\Local\\Programs\\Python\\Python38\\lib\\site-packages\\numpy\\core\\_methods.py:254: RuntimeWarning: invalid value encountered in double_scalars\n",
      "  ret = ret.dtype.type(ret / rcount)\n",
      "<ipython-input-6-ba13226fe2c3>:11: RuntimeWarning: divide by zero encountered in log\n",
      "  reg = np.polyfit(np.log(lags), np.log(tau), 1)\n"
     ]
    },
    {
     "name": "stdout",
     "output_type": "stream",
     "text": [
      "0.46581244468688965\n"
     ]
    },
    {
     "name": "stderr",
     "output_type": "stream",
     "text": [
      "<ipython-input-6-ba13226fe2c3>:41: FutureWarning: Indexing a timezone-aware DatetimeIndex with a timezone-naive datetime is deprecated and will raise KeyError in a future version. Use a timezone-aware object instead.\n",
      "  y = info.truncate(before=pd.Timestamp('today') - pd.DateOffset(months=12))\n",
      "<ipython-input-6-ba13226fe2c3>:42: FutureWarning: Indexing a timezone-aware DatetimeIndex with a timezone-naive datetime is deprecated and will raise KeyError in a future version. Use a timezone-aware object instead.\n",
      "  m6 = info.truncate(before=pd.Timestamp('today') - pd.DateOffset(months=6))\n",
      "<ipython-input-6-ba13226fe2c3>:43: FutureWarning: Indexing a timezone-aware DatetimeIndex with a timezone-naive datetime is deprecated and will raise KeyError in a future version. Use a timezone-aware object instead.\n",
      "  m3 = info.truncate(before=pd.Timestamp('today') - pd.DateOffset(months=3))\n",
      "<ipython-input-6-ba13226fe2c3>:44: FutureWarning: Indexing a timezone-aware DatetimeIndex with a timezone-naive datetime is deprecated and will raise KeyError in a future version. Use a timezone-aware object instead.\n",
      "  m1 = info.truncate(before=pd.Timestamp('today') - pd.DateOffset(months=1))\n"
     ]
    },
    {
     "name": "stdout",
     "output_type": "stream",
     "text": [
      "0.5127122402191162\n"
     ]
    },
    {
     "name": "stderr",
     "output_type": "stream",
     "text": [
      "<ipython-input-6-ba13226fe2c3>:41: FutureWarning: Indexing a timezone-aware DatetimeIndex with a timezone-naive datetime is deprecated and will raise KeyError in a future version. Use a timezone-aware object instead.\n",
      "  y = info.truncate(before=pd.Timestamp('today') - pd.DateOffset(months=12))\n",
      "<ipython-input-6-ba13226fe2c3>:42: FutureWarning: Indexing a timezone-aware DatetimeIndex with a timezone-naive datetime is deprecated and will raise KeyError in a future version. Use a timezone-aware object instead.\n",
      "  m6 = info.truncate(before=pd.Timestamp('today') - pd.DateOffset(months=6))\n",
      "<ipython-input-6-ba13226fe2c3>:43: FutureWarning: Indexing a timezone-aware DatetimeIndex with a timezone-naive datetime is deprecated and will raise KeyError in a future version. Use a timezone-aware object instead.\n",
      "  m3 = info.truncate(before=pd.Timestamp('today') - pd.DateOffset(months=3))\n",
      "<ipython-input-6-ba13226fe2c3>:44: FutureWarning: Indexing a timezone-aware DatetimeIndex with a timezone-naive datetime is deprecated and will raise KeyError in a future version. Use a timezone-aware object instead.\n",
      "  m1 = info.truncate(before=pd.Timestamp('today') - pd.DateOffset(months=1))\n"
     ]
    },
    {
     "name": "stdout",
     "output_type": "stream",
     "text": [
      "0.628828763961792\n"
     ]
    },
    {
     "name": "stderr",
     "output_type": "stream",
     "text": [
      "<ipython-input-6-ba13226fe2c3>:41: FutureWarning: Indexing a timezone-aware DatetimeIndex with a timezone-naive datetime is deprecated and will raise KeyError in a future version. Use a timezone-aware object instead.\n",
      "  y = info.truncate(before=pd.Timestamp('today') - pd.DateOffset(months=12))\n",
      "<ipython-input-6-ba13226fe2c3>:42: FutureWarning: Indexing a timezone-aware DatetimeIndex with a timezone-naive datetime is deprecated and will raise KeyError in a future version. Use a timezone-aware object instead.\n",
      "  m6 = info.truncate(before=pd.Timestamp('today') - pd.DateOffset(months=6))\n",
      "<ipython-input-6-ba13226fe2c3>:43: FutureWarning: Indexing a timezone-aware DatetimeIndex with a timezone-naive datetime is deprecated and will raise KeyError in a future version. Use a timezone-aware object instead.\n",
      "  m3 = info.truncate(before=pd.Timestamp('today') - pd.DateOffset(months=3))\n",
      "<ipython-input-6-ba13226fe2c3>:44: FutureWarning: Indexing a timezone-aware DatetimeIndex with a timezone-naive datetime is deprecated and will raise KeyError in a future version. Use a timezone-aware object instead.\n",
      "  m1 = info.truncate(before=pd.Timestamp('today') - pd.DateOffset(months=1))\n",
      "C:\\Users\\Kamen\\AppData\\Local\\Programs\\Python\\Python38\\lib\\site-packages\\numpy\\core\\_methods.py:262: RuntimeWarning: Degrees of freedom <= 0 for slice\n",
      "  ret = _var(a, axis=axis, dtype=dtype, out=out, ddof=ddof,\n",
      "C:\\Users\\Kamen\\AppData\\Local\\Programs\\Python\\Python38\\lib\\site-packages\\numpy\\core\\_methods.py:222: RuntimeWarning: invalid value encountered in true_divide\n",
      "  arrmean = um.true_divide(arrmean, div, out=arrmean, casting='unsafe',\n",
      "C:\\Users\\Kamen\\AppData\\Local\\Programs\\Python\\Python38\\lib\\site-packages\\numpy\\core\\_methods.py:254: RuntimeWarning: invalid value encountered in double_scalars\n",
      "  ret = ret.dtype.type(ret / rcount)\n",
      "<ipython-input-6-ba13226fe2c3>:11: RuntimeWarning: divide by zero encountered in log\n",
      "  reg = np.polyfit(np.log(lags), np.log(tau), 1)\n"
     ]
    },
    {
     "name": "stdout",
     "output_type": "stream",
     "text": [
      "0.3735005855560303\n",
      "DRII: 1d data not available for startTime=-2208994789 and endTime=1673461949. Only 100 years worth of day granularity data are allowed to be fetched per request.\n",
      "Index Error when producing momentum table\n"
     ]
    },
    {
     "name": "stderr",
     "output_type": "stream",
     "text": [
      "<ipython-input-6-ba13226fe2c3>:41: FutureWarning: Indexing a timezone-aware DatetimeIndex with a timezone-naive datetime is deprecated and will raise KeyError in a future version. Use a timezone-aware object instead.\n",
      "  y = info.truncate(before=pd.Timestamp('today') - pd.DateOffset(months=12))\n",
      "<ipython-input-6-ba13226fe2c3>:42: FutureWarning: Indexing a timezone-aware DatetimeIndex with a timezone-naive datetime is deprecated and will raise KeyError in a future version. Use a timezone-aware object instead.\n",
      "  m6 = info.truncate(before=pd.Timestamp('today') - pd.DateOffset(months=6))\n",
      "<ipython-input-6-ba13226fe2c3>:43: FutureWarning: Indexing a timezone-aware DatetimeIndex with a timezone-naive datetime is deprecated and will raise KeyError in a future version. Use a timezone-aware object instead.\n",
      "  m3 = info.truncate(before=pd.Timestamp('today') - pd.DateOffset(months=3))\n",
      "<ipython-input-6-ba13226fe2c3>:44: FutureWarning: Indexing a timezone-aware DatetimeIndex with a timezone-naive datetime is deprecated and will raise KeyError in a future version. Use a timezone-aware object instead.\n",
      "  m1 = info.truncate(before=pd.Timestamp('today') - pd.DateOffset(months=1))\n"
     ]
    },
    {
     "name": "stdout",
     "output_type": "stream",
     "text": [
      "0.5106251239776611\n"
     ]
    },
    {
     "name": "stderr",
     "output_type": "stream",
     "text": [
      "<ipython-input-6-ba13226fe2c3>:41: FutureWarning: Indexing a timezone-aware DatetimeIndex with a timezone-naive datetime is deprecated and will raise KeyError in a future version. Use a timezone-aware object instead.\n",
      "  y = info.truncate(before=pd.Timestamp('today') - pd.DateOffset(months=12))\n",
      "<ipython-input-6-ba13226fe2c3>:42: FutureWarning: Indexing a timezone-aware DatetimeIndex with a timezone-naive datetime is deprecated and will raise KeyError in a future version. Use a timezone-aware object instead.\n",
      "  m6 = info.truncate(before=pd.Timestamp('today') - pd.DateOffset(months=6))\n",
      "<ipython-input-6-ba13226fe2c3>:43: FutureWarning: Indexing a timezone-aware DatetimeIndex with a timezone-naive datetime is deprecated and will raise KeyError in a future version. Use a timezone-aware object instead.\n",
      "  m3 = info.truncate(before=pd.Timestamp('today') - pd.DateOffset(months=3))\n",
      "<ipython-input-6-ba13226fe2c3>:44: FutureWarning: Indexing a timezone-aware DatetimeIndex with a timezone-naive datetime is deprecated and will raise KeyError in a future version. Use a timezone-aware object instead.\n",
      "  m1 = info.truncate(before=pd.Timestamp('today') - pd.DateOffset(months=1))\n"
     ]
    },
    {
     "name": "stdout",
     "output_type": "stream",
     "text": [
      "0.5073428153991699\n",
      "Got error from yahoo api for ticker DSX.PRB, Error: {'code': 'Not Found', 'description': 'No data found, symbol may be delisted'}\n",
      "- DSX.PRB: No timezone found, symbol may be delisted\n",
      "Index Error when producing momentum table\n"
     ]
    },
    {
     "name": "stderr",
     "output_type": "stream",
     "text": [
      "<ipython-input-6-ba13226fe2c3>:41: FutureWarning: Indexing a timezone-aware DatetimeIndex with a timezone-naive datetime is deprecated and will raise KeyError in a future version. Use a timezone-aware object instead.\n",
      "  y = info.truncate(before=pd.Timestamp('today') - pd.DateOffset(months=12))\n",
      "<ipython-input-6-ba13226fe2c3>:42: FutureWarning: Indexing a timezone-aware DatetimeIndex with a timezone-naive datetime is deprecated and will raise KeyError in a future version. Use a timezone-aware object instead.\n",
      "  m6 = info.truncate(before=pd.Timestamp('today') - pd.DateOffset(months=6))\n",
      "<ipython-input-6-ba13226fe2c3>:43: FutureWarning: Indexing a timezone-aware DatetimeIndex with a timezone-naive datetime is deprecated and will raise KeyError in a future version. Use a timezone-aware object instead.\n",
      "  m3 = info.truncate(before=pd.Timestamp('today') - pd.DateOffset(months=3))\n",
      "<ipython-input-6-ba13226fe2c3>:44: FutureWarning: Indexing a timezone-aware DatetimeIndex with a timezone-naive datetime is deprecated and will raise KeyError in a future version. Use a timezone-aware object instead.\n",
      "  m1 = info.truncate(before=pd.Timestamp('today') - pd.DateOffset(months=1))\n"
     ]
    },
    {
     "name": "stdout",
     "output_type": "stream",
     "text": [
      "0.6165416240692139\n"
     ]
    },
    {
     "name": "stderr",
     "output_type": "stream",
     "text": [
      "<ipython-input-6-ba13226fe2c3>:41: FutureWarning: Indexing a timezone-aware DatetimeIndex with a timezone-naive datetime is deprecated and will raise KeyError in a future version. Use a timezone-aware object instead.\n",
      "  y = info.truncate(before=pd.Timestamp('today') - pd.DateOffset(months=12))\n",
      "<ipython-input-6-ba13226fe2c3>:42: FutureWarning: Indexing a timezone-aware DatetimeIndex with a timezone-naive datetime is deprecated and will raise KeyError in a future version. Use a timezone-aware object instead.\n",
      "  m6 = info.truncate(before=pd.Timestamp('today') - pd.DateOffset(months=6))\n",
      "<ipython-input-6-ba13226fe2c3>:43: FutureWarning: Indexing a timezone-aware DatetimeIndex with a timezone-naive datetime is deprecated and will raise KeyError in a future version. Use a timezone-aware object instead.\n",
      "  m3 = info.truncate(before=pd.Timestamp('today') - pd.DateOffset(months=3))\n",
      "<ipython-input-6-ba13226fe2c3>:44: FutureWarning: Indexing a timezone-aware DatetimeIndex with a timezone-naive datetime is deprecated and will raise KeyError in a future version. Use a timezone-aware object instead.\n",
      "  m1 = info.truncate(before=pd.Timestamp('today') - pd.DateOffset(months=1))\n"
     ]
    },
    {
     "name": "stdout",
     "output_type": "stream",
     "text": [
      "0.47800207138061523\n"
     ]
    },
    {
     "name": "stderr",
     "output_type": "stream",
     "text": [
      "<ipython-input-6-ba13226fe2c3>:41: FutureWarning: Indexing a timezone-aware DatetimeIndex with a timezone-naive datetime is deprecated and will raise KeyError in a future version. Use a timezone-aware object instead.\n",
      "  y = info.truncate(before=pd.Timestamp('today') - pd.DateOffset(months=12))\n",
      "<ipython-input-6-ba13226fe2c3>:42: FutureWarning: Indexing a timezone-aware DatetimeIndex with a timezone-naive datetime is deprecated and will raise KeyError in a future version. Use a timezone-aware object instead.\n",
      "  m6 = info.truncate(before=pd.Timestamp('today') - pd.DateOffset(months=6))\n",
      "<ipython-input-6-ba13226fe2c3>:43: FutureWarning: Indexing a timezone-aware DatetimeIndex with a timezone-naive datetime is deprecated and will raise KeyError in a future version. Use a timezone-aware object instead.\n",
      "  m3 = info.truncate(before=pd.Timestamp('today') - pd.DateOffset(months=3))\n",
      "<ipython-input-6-ba13226fe2c3>:44: FutureWarning: Indexing a timezone-aware DatetimeIndex with a timezone-naive datetime is deprecated and will raise KeyError in a future version. Use a timezone-aware object instead.\n",
      "  m1 = info.truncate(before=pd.Timestamp('today') - pd.DateOffset(months=1))\n"
     ]
    },
    {
     "name": "stdout",
     "output_type": "stream",
     "text": [
      "0.8587954044342041\n"
     ]
    },
    {
     "name": "stderr",
     "output_type": "stream",
     "text": [
      "<ipython-input-6-ba13226fe2c3>:41: FutureWarning: Indexing a timezone-aware DatetimeIndex with a timezone-naive datetime is deprecated and will raise KeyError in a future version. Use a timezone-aware object instead.\n",
      "  y = info.truncate(before=pd.Timestamp('today') - pd.DateOffset(months=12))\n",
      "<ipython-input-6-ba13226fe2c3>:42: FutureWarning: Indexing a timezone-aware DatetimeIndex with a timezone-naive datetime is deprecated and will raise KeyError in a future version. Use a timezone-aware object instead.\n",
      "  m6 = info.truncate(before=pd.Timestamp('today') - pd.DateOffset(months=6))\n",
      "<ipython-input-6-ba13226fe2c3>:43: FutureWarning: Indexing a timezone-aware DatetimeIndex with a timezone-naive datetime is deprecated and will raise KeyError in a future version. Use a timezone-aware object instead.\n",
      "  m3 = info.truncate(before=pd.Timestamp('today') - pd.DateOffset(months=3))\n",
      "<ipython-input-6-ba13226fe2c3>:44: FutureWarning: Indexing a timezone-aware DatetimeIndex with a timezone-naive datetime is deprecated and will raise KeyError in a future version. Use a timezone-aware object instead.\n",
      "  m1 = info.truncate(before=pd.Timestamp('today') - pd.DateOffset(months=1))\n"
     ]
    },
    {
     "name": "stdout",
     "output_type": "stream",
     "text": [
      "0.5412065982818604\n",
      "Got error from yahoo api for ticker DLR.PRE, Error: {'code': 'Not Found', 'description': 'No data found, symbol may be delisted'}\n",
      "- DLR.PRE: No timezone found, symbol may be delisted\n",
      "Index Error when producing momentum table\n",
      "Got error from yahoo api for ticker DLR.PRF, Error: {'code': 'Not Found', 'description': 'No data found, symbol may be delisted'}\n",
      "- DLR.PRF: No timezone found, symbol may be delisted\n",
      "Index Error when producing momentum table\n",
      "Got error from yahoo api for ticker DLR.PRG, Error: {'code': 'Not Found', 'description': 'No data found, symbol may be delisted'}\n",
      "- DLR.PRG: No timezone found, symbol may be delisted\n",
      "Index Error when producing momentum table\n",
      "Got error from yahoo api for ticker DLR.PRH, Error: {'code': 'Not Found', 'description': 'No data found, symbol may be delisted'}\n",
      "- DLR.PRH: No timezone found, symbol may be delisted\n",
      "Index Error when producing momentum table\n"
     ]
    },
    {
     "name": "stderr",
     "output_type": "stream",
     "text": [
      "<ipython-input-6-ba13226fe2c3>:41: FutureWarning: Indexing a timezone-aware DatetimeIndex with a timezone-naive datetime is deprecated and will raise KeyError in a future version. Use a timezone-aware object instead.\n",
      "  y = info.truncate(before=pd.Timestamp('today') - pd.DateOffset(months=12))\n",
      "<ipython-input-6-ba13226fe2c3>:42: FutureWarning: Indexing a timezone-aware DatetimeIndex with a timezone-naive datetime is deprecated and will raise KeyError in a future version. Use a timezone-aware object instead.\n",
      "  m6 = info.truncate(before=pd.Timestamp('today') - pd.DateOffset(months=6))\n",
      "<ipython-input-6-ba13226fe2c3>:43: FutureWarning: Indexing a timezone-aware DatetimeIndex with a timezone-naive datetime is deprecated and will raise KeyError in a future version. Use a timezone-aware object instead.\n",
      "  m3 = info.truncate(before=pd.Timestamp('today') - pd.DateOffset(months=3))\n",
      "<ipython-input-6-ba13226fe2c3>:44: FutureWarning: Indexing a timezone-aware DatetimeIndex with a timezone-naive datetime is deprecated and will raise KeyError in a future version. Use a timezone-aware object instead.\n",
      "  m1 = info.truncate(before=pd.Timestamp('today') - pd.DateOffset(months=1))\n"
     ]
    },
    {
     "name": "stdout",
     "output_type": "stream",
     "text": [
      "0.7685155868530273\n"
     ]
    },
    {
     "name": "stderr",
     "output_type": "stream",
     "text": [
      "<ipython-input-6-ba13226fe2c3>:41: FutureWarning: Indexing a timezone-aware DatetimeIndex with a timezone-naive datetime is deprecated and will raise KeyError in a future version. Use a timezone-aware object instead.\n",
      "  y = info.truncate(before=pd.Timestamp('today') - pd.DateOffset(months=12))\n",
      "<ipython-input-6-ba13226fe2c3>:42: FutureWarning: Indexing a timezone-aware DatetimeIndex with a timezone-naive datetime is deprecated and will raise KeyError in a future version. Use a timezone-aware object instead.\n",
      "  m6 = info.truncate(before=pd.Timestamp('today') - pd.DateOffset(months=6))\n",
      "<ipython-input-6-ba13226fe2c3>:43: FutureWarning: Indexing a timezone-aware DatetimeIndex with a timezone-naive datetime is deprecated and will raise KeyError in a future version. Use a timezone-aware object instead.\n",
      "  m3 = info.truncate(before=pd.Timestamp('today') - pd.DateOffset(months=3))\n",
      "<ipython-input-6-ba13226fe2c3>:44: FutureWarning: Indexing a timezone-aware DatetimeIndex with a timezone-naive datetime is deprecated and will raise KeyError in a future version. Use a timezone-aware object instead.\n",
      "  m1 = info.truncate(before=pd.Timestamp('today') - pd.DateOffset(months=1))\n"
     ]
    },
    {
     "name": "stdout",
     "output_type": "stream",
     "text": [
      "0.5729053020477295\n"
     ]
    },
    {
     "name": "stderr",
     "output_type": "stream",
     "text": [
      "<ipython-input-6-ba13226fe2c3>:41: FutureWarning: Indexing a timezone-aware DatetimeIndex with a timezone-naive datetime is deprecated and will raise KeyError in a future version. Use a timezone-aware object instead.\n",
      "  y = info.truncate(before=pd.Timestamp('today') - pd.DateOffset(months=12))\n",
      "<ipython-input-6-ba13226fe2c3>:42: FutureWarning: Indexing a timezone-aware DatetimeIndex with a timezone-naive datetime is deprecated and will raise KeyError in a future version. Use a timezone-aware object instead.\n",
      "  m6 = info.truncate(before=pd.Timestamp('today') - pd.DateOffset(months=6))\n",
      "<ipython-input-6-ba13226fe2c3>:43: FutureWarning: Indexing a timezone-aware DatetimeIndex with a timezone-naive datetime is deprecated and will raise KeyError in a future version. Use a timezone-aware object instead.\n",
      "  m3 = info.truncate(before=pd.Timestamp('today') - pd.DateOffset(months=3))\n",
      "<ipython-input-6-ba13226fe2c3>:44: FutureWarning: Indexing a timezone-aware DatetimeIndex with a timezone-naive datetime is deprecated and will raise KeyError in a future version. Use a timezone-aware object instead.\n",
      "  m1 = info.truncate(before=pd.Timestamp('today') - pd.DateOffset(months=1))\n"
     ]
    },
    {
     "name": "stdout",
     "output_type": "stream",
     "text": [
      "0.8619461059570312\n"
     ]
    },
    {
     "name": "stderr",
     "output_type": "stream",
     "text": [
      "<ipython-input-6-ba13226fe2c3>:41: FutureWarning: Indexing a timezone-aware DatetimeIndex with a timezone-naive datetime is deprecated and will raise KeyError in a future version. Use a timezone-aware object instead.\n",
      "  y = info.truncate(before=pd.Timestamp('today') - pd.DateOffset(months=12))\n",
      "<ipython-input-6-ba13226fe2c3>:42: FutureWarning: Indexing a timezone-aware DatetimeIndex with a timezone-naive datetime is deprecated and will raise KeyError in a future version. Use a timezone-aware object instead.\n",
      "  m6 = info.truncate(before=pd.Timestamp('today') - pd.DateOffset(months=6))\n",
      "<ipython-input-6-ba13226fe2c3>:43: FutureWarning: Indexing a timezone-aware DatetimeIndex with a timezone-naive datetime is deprecated and will raise KeyError in a future version. Use a timezone-aware object instead.\n",
      "  m3 = info.truncate(before=pd.Timestamp('today') - pd.DateOffset(months=3))\n",
      "<ipython-input-6-ba13226fe2c3>:44: FutureWarning: Indexing a timezone-aware DatetimeIndex with a timezone-naive datetime is deprecated and will raise KeyError in a future version. Use a timezone-aware object instead.\n",
      "  m1 = info.truncate(before=pd.Timestamp('today') - pd.DateOffset(months=1))\n"
     ]
    },
    {
     "name": "stdout",
     "output_type": "stream",
     "text": [
      "0.5869872570037842\n",
      "Got error from yahoo api for ticker DFS.PRB, Error: {'code': 'Not Found', 'description': 'No data found, symbol may be delisted'}\n",
      "- DFS.PRB: No timezone found, symbol may be delisted\n",
      "Index Error when producing momentum table\n",
      "Got error from yahoo api for ticker DNI, Error: {'code': 'Not Found', 'description': 'No data found, symbol may be delisted'}\n",
      "- DNI: No timezone found, symbol may be delisted\n",
      "Index Error when producing momentum table\n"
     ]
    },
    {
     "name": "stderr",
     "output_type": "stream",
     "text": [
      "<ipython-input-6-ba13226fe2c3>:41: FutureWarning: Indexing a timezone-aware DatetimeIndex with a timezone-naive datetime is deprecated and will raise KeyError in a future version. Use a timezone-aware object instead.\n",
      "  y = info.truncate(before=pd.Timestamp('today') - pd.DateOffset(months=12))\n",
      "<ipython-input-6-ba13226fe2c3>:42: FutureWarning: Indexing a timezone-aware DatetimeIndex with a timezone-naive datetime is deprecated and will raise KeyError in a future version. Use a timezone-aware object instead.\n",
      "  m6 = info.truncate(before=pd.Timestamp('today') - pd.DateOffset(months=6))\n",
      "<ipython-input-6-ba13226fe2c3>:43: FutureWarning: Indexing a timezone-aware DatetimeIndex with a timezone-naive datetime is deprecated and will raise KeyError in a future version. Use a timezone-aware object instead.\n",
      "  m3 = info.truncate(before=pd.Timestamp('today') - pd.DateOffset(months=3))\n",
      "<ipython-input-6-ba13226fe2c3>:44: FutureWarning: Indexing a timezone-aware DatetimeIndex with a timezone-naive datetime is deprecated and will raise KeyError in a future version. Use a timezone-aware object instead.\n",
      "  m1 = info.truncate(before=pd.Timestamp('today') - pd.DateOffset(months=1))\n"
     ]
    },
    {
     "name": "stdout",
     "output_type": "stream",
     "text": [
      "0.6769251823425293\n"
     ]
    },
    {
     "name": "stderr",
     "output_type": "stream",
     "text": [
      "<ipython-input-6-ba13226fe2c3>:41: FutureWarning: Indexing a timezone-aware DatetimeIndex with a timezone-naive datetime is deprecated and will raise KeyError in a future version. Use a timezone-aware object instead.\n",
      "  y = info.truncate(before=pd.Timestamp('today') - pd.DateOffset(months=12))\n",
      "<ipython-input-6-ba13226fe2c3>:42: FutureWarning: Indexing a timezone-aware DatetimeIndex with a timezone-naive datetime is deprecated and will raise KeyError in a future version. Use a timezone-aware object instead.\n",
      "  m6 = info.truncate(before=pd.Timestamp('today') - pd.DateOffset(months=6))\n",
      "<ipython-input-6-ba13226fe2c3>:43: FutureWarning: Indexing a timezone-aware DatetimeIndex with a timezone-naive datetime is deprecated and will raise KeyError in a future version. Use a timezone-aware object instead.\n",
      "  m3 = info.truncate(before=pd.Timestamp('today') - pd.DateOffset(months=3))\n",
      "<ipython-input-6-ba13226fe2c3>:44: FutureWarning: Indexing a timezone-aware DatetimeIndex with a timezone-naive datetime is deprecated and will raise KeyError in a future version. Use a timezone-aware object instead.\n",
      "  m1 = info.truncate(before=pd.Timestamp('today') - pd.DateOffset(months=1))\n"
     ]
    },
    {
     "name": "stdout",
     "output_type": "stream",
     "text": [
      "0.7389628887176514\n"
     ]
    },
    {
     "name": "stderr",
     "output_type": "stream",
     "text": [
      "<ipython-input-6-ba13226fe2c3>:41: FutureWarning: Indexing a timezone-aware DatetimeIndex with a timezone-naive datetime is deprecated and will raise KeyError in a future version. Use a timezone-aware object instead.\n",
      "  y = info.truncate(before=pd.Timestamp('today') - pd.DateOffset(months=12))\n",
      "<ipython-input-6-ba13226fe2c3>:42: FutureWarning: Indexing a timezone-aware DatetimeIndex with a timezone-naive datetime is deprecated and will raise KeyError in a future version. Use a timezone-aware object instead.\n",
      "  m6 = info.truncate(before=pd.Timestamp('today') - pd.DateOffset(months=6))\n",
      "<ipython-input-6-ba13226fe2c3>:43: FutureWarning: Indexing a timezone-aware DatetimeIndex with a timezone-naive datetime is deprecated and will raise KeyError in a future version. Use a timezone-aware object instead.\n",
      "  m3 = info.truncate(before=pd.Timestamp('today') - pd.DateOffset(months=3))\n",
      "<ipython-input-6-ba13226fe2c3>:44: FutureWarning: Indexing a timezone-aware DatetimeIndex with a timezone-naive datetime is deprecated and will raise KeyError in a future version. Use a timezone-aware object instead.\n",
      "  m1 = info.truncate(before=pd.Timestamp('today') - pd.DateOffset(months=1))\n"
     ]
    },
    {
     "name": "stdout",
     "output_type": "stream",
     "text": [
      "0.4901602268218994\n"
     ]
    },
    {
     "name": "stderr",
     "output_type": "stream",
     "text": [
      "<ipython-input-6-ba13226fe2c3>:41: FutureWarning: Indexing a timezone-aware DatetimeIndex with a timezone-naive datetime is deprecated and will raise KeyError in a future version. Use a timezone-aware object instead.\n",
      "  y = info.truncate(before=pd.Timestamp('today') - pd.DateOffset(months=12))\n",
      "<ipython-input-6-ba13226fe2c3>:42: FutureWarning: Indexing a timezone-aware DatetimeIndex with a timezone-naive datetime is deprecated and will raise KeyError in a future version. Use a timezone-aware object instead.\n",
      "  m6 = info.truncate(before=pd.Timestamp('today') - pd.DateOffset(months=6))\n",
      "<ipython-input-6-ba13226fe2c3>:43: FutureWarning: Indexing a timezone-aware DatetimeIndex with a timezone-naive datetime is deprecated and will raise KeyError in a future version. Use a timezone-aware object instead.\n",
      "  m3 = info.truncate(before=pd.Timestamp('today') - pd.DateOffset(months=3))\n",
      "<ipython-input-6-ba13226fe2c3>:44: FutureWarning: Indexing a timezone-aware DatetimeIndex with a timezone-naive datetime is deprecated and will raise KeyError in a future version. Use a timezone-aware object instead.\n",
      "  m1 = info.truncate(before=pd.Timestamp('today') - pd.DateOffset(months=1))\n"
     ]
    },
    {
     "name": "stdout",
     "output_type": "stream",
     "text": [
      "0.8777756690979004\n",
      "Got error from yahoo api for ticker DCUA, Error: {'code': 'Not Found', 'description': 'No data found, symbol may be delisted'}\n",
      "- DCUA: No timezone found, symbol may be delisted\n",
      "Index Error when producing momentum table\n",
      "Got error from yahoo api for ticker DCUB, Error: {'code': 'Not Found', 'description': 'No data found, symbol may be delisted'}\n",
      "- DCUB: No timezone found, symbol may be delisted\n",
      "Index Error when producing momentum table\n",
      "Got error from yahoo api for ticker DCUC, Error: {'code': 'Not Found', 'description': 'No data found, symbol may be delisted'}\n",
      "- DCUC: No timezone found, symbol may be delisted\n",
      "Index Error when producing momentum table\n",
      "DRU: 1d data not available for startTime=-2208994789 and endTime=1673461962. Only 100 years worth of day granularity data are allowed to be fetched per request.\n",
      "Index Error when producing momentum table\n"
     ]
    },
    {
     "name": "stderr",
     "output_type": "stream",
     "text": [
      "<ipython-input-6-ba13226fe2c3>:41: FutureWarning: Indexing a timezone-aware DatetimeIndex with a timezone-naive datetime is deprecated and will raise KeyError in a future version. Use a timezone-aware object instead.\n",
      "  y = info.truncate(before=pd.Timestamp('today') - pd.DateOffset(months=12))\n",
      "<ipython-input-6-ba13226fe2c3>:42: FutureWarning: Indexing a timezone-aware DatetimeIndex with a timezone-naive datetime is deprecated and will raise KeyError in a future version. Use a timezone-aware object instead.\n",
      "  m6 = info.truncate(before=pd.Timestamp('today') - pd.DateOffset(months=6))\n",
      "<ipython-input-6-ba13226fe2c3>:43: FutureWarning: Indexing a timezone-aware DatetimeIndex with a timezone-naive datetime is deprecated and will raise KeyError in a future version. Use a timezone-aware object instead.\n",
      "  m3 = info.truncate(before=pd.Timestamp('today') - pd.DateOffset(months=3))\n",
      "<ipython-input-6-ba13226fe2c3>:44: FutureWarning: Indexing a timezone-aware DatetimeIndex with a timezone-naive datetime is deprecated and will raise KeyError in a future version. Use a timezone-aware object instead.\n",
      "  m1 = info.truncate(before=pd.Timestamp('today') - pd.DateOffset(months=1))\n"
     ]
    },
    {
     "name": "stdout",
     "output_type": "stream",
     "text": [
      "Index Error when producing momentum table\n"
     ]
    },
    {
     "name": "stderr",
     "output_type": "stream",
     "text": [
      "<ipython-input-6-ba13226fe2c3>:41: FutureWarning: Indexing a timezone-aware DatetimeIndex with a timezone-naive datetime is deprecated and will raise KeyError in a future version. Use a timezone-aware object instead.\n",
      "  y = info.truncate(before=pd.Timestamp('today') - pd.DateOffset(months=12))\n",
      "<ipython-input-6-ba13226fe2c3>:42: FutureWarning: Indexing a timezone-aware DatetimeIndex with a timezone-naive datetime is deprecated and will raise KeyError in a future version. Use a timezone-aware object instead.\n",
      "  m6 = info.truncate(before=pd.Timestamp('today') - pd.DateOffset(months=6))\n",
      "<ipython-input-6-ba13226fe2c3>:43: FutureWarning: Indexing a timezone-aware DatetimeIndex with a timezone-naive datetime is deprecated and will raise KeyError in a future version. Use a timezone-aware object instead.\n",
      "  m3 = info.truncate(before=pd.Timestamp('today') - pd.DateOffset(months=3))\n",
      "<ipython-input-6-ba13226fe2c3>:44: FutureWarning: Indexing a timezone-aware DatetimeIndex with a timezone-naive datetime is deprecated and will raise KeyError in a future version. Use a timezone-aware object instead.\n",
      "  m1 = info.truncate(before=pd.Timestamp('today') - pd.DateOffset(months=1))\n"
     ]
    },
    {
     "name": "stdout",
     "output_type": "stream",
     "text": [
      "0.5499138832092285\n",
      "Got error from yahoo api for ticker UFS, Error: {'code': 'Not Found', 'description': 'No data found, symbol may be delisted'}\n",
      "- UFS: No timezone found, symbol may be delisted\n",
      "Index Error when producing momentum table\n"
     ]
    },
    {
     "name": "stderr",
     "output_type": "stream",
     "text": [
      "<ipython-input-6-ba13226fe2c3>:41: FutureWarning: Indexing a timezone-aware DatetimeIndex with a timezone-naive datetime is deprecated and will raise KeyError in a future version. Use a timezone-aware object instead.\n",
      "  y = info.truncate(before=pd.Timestamp('today') - pd.DateOffset(months=12))\n",
      "<ipython-input-6-ba13226fe2c3>:42: FutureWarning: Indexing a timezone-aware DatetimeIndex with a timezone-naive datetime is deprecated and will raise KeyError in a future version. Use a timezone-aware object instead.\n",
      "  m6 = info.truncate(before=pd.Timestamp('today') - pd.DateOffset(months=6))\n",
      "<ipython-input-6-ba13226fe2c3>:43: FutureWarning: Indexing a timezone-aware DatetimeIndex with a timezone-naive datetime is deprecated and will raise KeyError in a future version. Use a timezone-aware object instead.\n",
      "  m3 = info.truncate(before=pd.Timestamp('today') - pd.DateOffset(months=3))\n",
      "<ipython-input-6-ba13226fe2c3>:44: FutureWarning: Indexing a timezone-aware DatetimeIndex with a timezone-naive datetime is deprecated and will raise KeyError in a future version. Use a timezone-aware object instead.\n",
      "  m1 = info.truncate(before=pd.Timestamp('today') - pd.DateOffset(months=1))\n"
     ]
    },
    {
     "name": "stdout",
     "output_type": "stream",
     "text": [
      "0.6384425163269043\n"
     ]
    },
    {
     "name": "stderr",
     "output_type": "stream",
     "text": [
      "<ipython-input-6-ba13226fe2c3>:41: FutureWarning: Indexing a timezone-aware DatetimeIndex with a timezone-naive datetime is deprecated and will raise KeyError in a future version. Use a timezone-aware object instead.\n",
      "  y = info.truncate(before=pd.Timestamp('today') - pd.DateOffset(months=12))\n",
      "<ipython-input-6-ba13226fe2c3>:42: FutureWarning: Indexing a timezone-aware DatetimeIndex with a timezone-naive datetime is deprecated and will raise KeyError in a future version. Use a timezone-aware object instead.\n",
      "  m6 = info.truncate(before=pd.Timestamp('today') - pd.DateOffset(months=6))\n",
      "<ipython-input-6-ba13226fe2c3>:43: FutureWarning: Indexing a timezone-aware DatetimeIndex with a timezone-naive datetime is deprecated and will raise KeyError in a future version. Use a timezone-aware object instead.\n",
      "  m3 = info.truncate(before=pd.Timestamp('today') - pd.DateOffset(months=3))\n",
      "<ipython-input-6-ba13226fe2c3>:44: FutureWarning: Indexing a timezone-aware DatetimeIndex with a timezone-naive datetime is deprecated and will raise KeyError in a future version. Use a timezone-aware object instead.\n",
      "  m1 = info.truncate(before=pd.Timestamp('today') - pd.DateOffset(months=1))\n"
     ]
    },
    {
     "name": "stdout",
     "output_type": "stream",
     "text": [
      "Index Error when producing momentum table\n"
     ]
    },
    {
     "name": "stderr",
     "output_type": "stream",
     "text": [
      "<ipython-input-6-ba13226fe2c3>:41: FutureWarning: Indexing a timezone-aware DatetimeIndex with a timezone-naive datetime is deprecated and will raise KeyError in a future version. Use a timezone-aware object instead.\n",
      "  y = info.truncate(before=pd.Timestamp('today') - pd.DateOffset(months=12))\n",
      "<ipython-input-6-ba13226fe2c3>:42: FutureWarning: Indexing a timezone-aware DatetimeIndex with a timezone-naive datetime is deprecated and will raise KeyError in a future version. Use a timezone-aware object instead.\n",
      "  m6 = info.truncate(before=pd.Timestamp('today') - pd.DateOffset(months=6))\n",
      "<ipython-input-6-ba13226fe2c3>:43: FutureWarning: Indexing a timezone-aware DatetimeIndex with a timezone-naive datetime is deprecated and will raise KeyError in a future version. Use a timezone-aware object instead.\n",
      "  m3 = info.truncate(before=pd.Timestamp('today') - pd.DateOffset(months=3))\n",
      "<ipython-input-6-ba13226fe2c3>:44: FutureWarning: Indexing a timezone-aware DatetimeIndex with a timezone-naive datetime is deprecated and will raise KeyError in a future version. Use a timezone-aware object instead.\n",
      "  m1 = info.truncate(before=pd.Timestamp('today') - pd.DateOffset(months=1))\n"
     ]
    },
    {
     "name": "stdout",
     "output_type": "stream",
     "text": [
      "0.5273511409759521\n"
     ]
    },
    {
     "name": "stderr",
     "output_type": "stream",
     "text": [
      "<ipython-input-6-ba13226fe2c3>:41: FutureWarning: Indexing a timezone-aware DatetimeIndex with a timezone-naive datetime is deprecated and will raise KeyError in a future version. Use a timezone-aware object instead.\n",
      "  y = info.truncate(before=pd.Timestamp('today') - pd.DateOffset(months=12))\n",
      "<ipython-input-6-ba13226fe2c3>:42: FutureWarning: Indexing a timezone-aware DatetimeIndex with a timezone-naive datetime is deprecated and will raise KeyError in a future version. Use a timezone-aware object instead.\n",
      "  m6 = info.truncate(before=pd.Timestamp('today') - pd.DateOffset(months=6))\n",
      "<ipython-input-6-ba13226fe2c3>:43: FutureWarning: Indexing a timezone-aware DatetimeIndex with a timezone-naive datetime is deprecated and will raise KeyError in a future version. Use a timezone-aware object instead.\n",
      "  m3 = info.truncate(before=pd.Timestamp('today') - pd.DateOffset(months=3))\n",
      "<ipython-input-6-ba13226fe2c3>:44: FutureWarning: Indexing a timezone-aware DatetimeIndex with a timezone-naive datetime is deprecated and will raise KeyError in a future version. Use a timezone-aware object instead.\n",
      "  m1 = info.truncate(before=pd.Timestamp('today') - pd.DateOffset(months=1))\n"
     ]
    },
    {
     "name": "stdout",
     "output_type": "stream",
     "text": [
      "0.5641694068908691\n"
     ]
    },
    {
     "name": "stderr",
     "output_type": "stream",
     "text": [
      "<ipython-input-6-ba13226fe2c3>:41: FutureWarning: Indexing a timezone-aware DatetimeIndex with a timezone-naive datetime is deprecated and will raise KeyError in a future version. Use a timezone-aware object instead.\n",
      "  y = info.truncate(before=pd.Timestamp('today') - pd.DateOffset(months=12))\n",
      "<ipython-input-6-ba13226fe2c3>:42: FutureWarning: Indexing a timezone-aware DatetimeIndex with a timezone-naive datetime is deprecated and will raise KeyError in a future version. Use a timezone-aware object instead.\n",
      "  m6 = info.truncate(before=pd.Timestamp('today') - pd.DateOffset(months=6))\n",
      "<ipython-input-6-ba13226fe2c3>:43: FutureWarning: Indexing a timezone-aware DatetimeIndex with a timezone-naive datetime is deprecated and will raise KeyError in a future version. Use a timezone-aware object instead.\n",
      "  m3 = info.truncate(before=pd.Timestamp('today') - pd.DateOffset(months=3))\n",
      "<ipython-input-6-ba13226fe2c3>:44: FutureWarning: Indexing a timezone-aware DatetimeIndex with a timezone-naive datetime is deprecated and will raise KeyError in a future version. Use a timezone-aware object instead.\n",
      "  m1 = info.truncate(before=pd.Timestamp('today') - pd.DateOffset(months=1))\n"
     ]
    },
    {
     "name": "stdout",
     "output_type": "stream",
     "text": [
      "0.43746161460876465\n"
     ]
    },
    {
     "name": "stderr",
     "output_type": "stream",
     "text": [
      "<ipython-input-6-ba13226fe2c3>:41: FutureWarning: Indexing a timezone-aware DatetimeIndex with a timezone-naive datetime is deprecated and will raise KeyError in a future version. Use a timezone-aware object instead.\n",
      "  y = info.truncate(before=pd.Timestamp('today') - pd.DateOffset(months=12))\n",
      "<ipython-input-6-ba13226fe2c3>:42: FutureWarning: Indexing a timezone-aware DatetimeIndex with a timezone-naive datetime is deprecated and will raise KeyError in a future version. Use a timezone-aware object instead.\n",
      "  m6 = info.truncate(before=pd.Timestamp('today') - pd.DateOffset(months=6))\n",
      "<ipython-input-6-ba13226fe2c3>:43: FutureWarning: Indexing a timezone-aware DatetimeIndex with a timezone-naive datetime is deprecated and will raise KeyError in a future version. Use a timezone-aware object instead.\n",
      "  m3 = info.truncate(before=pd.Timestamp('today') - pd.DateOffset(months=3))\n",
      "<ipython-input-6-ba13226fe2c3>:44: FutureWarning: Indexing a timezone-aware DatetimeIndex with a timezone-naive datetime is deprecated and will raise KeyError in a future version. Use a timezone-aware object instead.\n",
      "  m1 = info.truncate(before=pd.Timestamp('today') - pd.DateOffset(months=1))\n"
     ]
    },
    {
     "name": "stdout",
     "output_type": "stream",
     "text": [
      "0.5251383781433105\n"
     ]
    },
    {
     "name": "stderr",
     "output_type": "stream",
     "text": [
      "<ipython-input-6-ba13226fe2c3>:41: FutureWarning: Indexing a timezone-aware DatetimeIndex with a timezone-naive datetime is deprecated and will raise KeyError in a future version. Use a timezone-aware object instead.\n",
      "  y = info.truncate(before=pd.Timestamp('today') - pd.DateOffset(months=12))\n",
      "<ipython-input-6-ba13226fe2c3>:42: FutureWarning: Indexing a timezone-aware DatetimeIndex with a timezone-naive datetime is deprecated and will raise KeyError in a future version. Use a timezone-aware object instead.\n",
      "  m6 = info.truncate(before=pd.Timestamp('today') - pd.DateOffset(months=6))\n",
      "<ipython-input-6-ba13226fe2c3>:43: FutureWarning: Indexing a timezone-aware DatetimeIndex with a timezone-naive datetime is deprecated and will raise KeyError in a future version. Use a timezone-aware object instead.\n",
      "  m3 = info.truncate(before=pd.Timestamp('today') - pd.DateOffset(months=3))\n",
      "<ipython-input-6-ba13226fe2c3>:44: FutureWarning: Indexing a timezone-aware DatetimeIndex with a timezone-naive datetime is deprecated and will raise KeyError in a future version. Use a timezone-aware object instead.\n",
      "  m1 = info.truncate(before=pd.Timestamp('today') - pd.DateOffset(months=1))\n"
     ]
    },
    {
     "name": "stdout",
     "output_type": "stream",
     "text": [
      "0.7193441390991211\n"
     ]
    },
    {
     "name": "stderr",
     "output_type": "stream",
     "text": [
      "<ipython-input-6-ba13226fe2c3>:41: FutureWarning: Indexing a timezone-aware DatetimeIndex with a timezone-naive datetime is deprecated and will raise KeyError in a future version. Use a timezone-aware object instead.\n",
      "  y = info.truncate(before=pd.Timestamp('today') - pd.DateOffset(months=12))\n",
      "<ipython-input-6-ba13226fe2c3>:42: FutureWarning: Indexing a timezone-aware DatetimeIndex with a timezone-naive datetime is deprecated and will raise KeyError in a future version. Use a timezone-aware object instead.\n",
      "  m6 = info.truncate(before=pd.Timestamp('today') - pd.DateOffset(months=6))\n",
      "<ipython-input-6-ba13226fe2c3>:43: FutureWarning: Indexing a timezone-aware DatetimeIndex with a timezone-naive datetime is deprecated and will raise KeyError in a future version. Use a timezone-aware object instead.\n",
      "  m3 = info.truncate(before=pd.Timestamp('today') - pd.DateOffset(months=3))\n",
      "<ipython-input-6-ba13226fe2c3>:44: FutureWarning: Indexing a timezone-aware DatetimeIndex with a timezone-naive datetime is deprecated and will raise KeyError in a future version. Use a timezone-aware object instead.\n",
      "  m1 = info.truncate(before=pd.Timestamp('today') - pd.DateOffset(months=1))\n"
     ]
    },
    {
     "name": "stdout",
     "output_type": "stream",
     "text": [
      "0.8562829494476318\n",
      "Got error from yahoo api for ticker DDE, Error: {'code': 'Not Found', 'description': 'No data found, symbol may be delisted'}\n",
      "- DDE: No timezone found, symbol may be delisted\n",
      "Index Error when producing momentum table\n",
      "Got error from yahoo api for ticker DVD, Error: {'code': 'Not Found', 'description': 'No data found, symbol may be delisted'}\n",
      "- DVD: No timezone found, symbol may be delisted\n",
      "Index Error when producing momentum table\n",
      "Got error from yahoo api for ticker DPO, Error: {'code': 'Not Found', 'description': 'No data found, symbol may be delisted'}\n",
      "- DPO: No timezone found, symbol may be delisted\n",
      "Index Error when producing momentum table\n",
      "Got error from yahoo api for ticker DPD, Error: {'code': 'Not Found', 'description': 'No data found, symbol may be delisted'}\n",
      "- DPD: No timezone found, symbol may be delisted\n",
      "Index Error when producing momentum table\n"
     ]
    },
    {
     "name": "stderr",
     "output_type": "stream",
     "text": [
      "<ipython-input-6-ba13226fe2c3>:41: FutureWarning: Indexing a timezone-aware DatetimeIndex with a timezone-naive datetime is deprecated and will raise KeyError in a future version. Use a timezone-aware object instead.\n",
      "  y = info.truncate(before=pd.Timestamp('today') - pd.DateOffset(months=12))\n",
      "<ipython-input-6-ba13226fe2c3>:42: FutureWarning: Indexing a timezone-aware DatetimeIndex with a timezone-naive datetime is deprecated and will raise KeyError in a future version. Use a timezone-aware object instead.\n",
      "  m6 = info.truncate(before=pd.Timestamp('today') - pd.DateOffset(months=6))\n",
      "<ipython-input-6-ba13226fe2c3>:43: FutureWarning: Indexing a timezone-aware DatetimeIndex with a timezone-naive datetime is deprecated and will raise KeyError in a future version. Use a timezone-aware object instead.\n",
      "  m3 = info.truncate(before=pd.Timestamp('today') - pd.DateOffset(months=3))\n",
      "<ipython-input-6-ba13226fe2c3>:44: FutureWarning: Indexing a timezone-aware DatetimeIndex with a timezone-naive datetime is deprecated and will raise KeyError in a future version. Use a timezone-aware object instead.\n",
      "  m1 = info.truncate(before=pd.Timestamp('today') - pd.DateOffset(months=1))\n",
      "C:\\Users\\Kamen\\AppData\\Local\\Programs\\Python\\Python38\\lib\\site-packages\\numpy\\core\\_methods.py:262: RuntimeWarning: Degrees of freedom <= 0 for slice\n",
      "  ret = _var(a, axis=axis, dtype=dtype, out=out, ddof=ddof,\n",
      "C:\\Users\\Kamen\\AppData\\Local\\Programs\\Python\\Python38\\lib\\site-packages\\numpy\\core\\_methods.py:222: RuntimeWarning: invalid value encountered in true_divide\n",
      "  arrmean = um.true_divide(arrmean, div, out=arrmean, casting='unsafe',\n",
      "C:\\Users\\Kamen\\AppData\\Local\\Programs\\Python\\Python38\\lib\\site-packages\\numpy\\core\\_methods.py:254: RuntimeWarning: invalid value encountered in double_scalars\n",
      "  ret = ret.dtype.type(ret / rcount)\n",
      "<ipython-input-6-ba13226fe2c3>:11: RuntimeWarning: divide by zero encountered in log\n",
      "  reg = np.polyfit(np.log(lags), np.log(tau), 1)\n"
     ]
    },
    {
     "name": "stdout",
     "output_type": "stream",
     "text": [
      "0.4235661029815674\n",
      "DPS: 1d data not available for startTime=-2208994789 and endTime=1673461970. Only 100 years worth of day granularity data are allowed to be fetched per request.\n",
      "Index Error when producing momentum table\n"
     ]
    },
    {
     "name": "stderr",
     "output_type": "stream",
     "text": [
      "<ipython-input-6-ba13226fe2c3>:41: FutureWarning: Indexing a timezone-aware DatetimeIndex with a timezone-naive datetime is deprecated and will raise KeyError in a future version. Use a timezone-aware object instead.\n",
      "  y = info.truncate(before=pd.Timestamp('today') - pd.DateOffset(months=12))\n",
      "<ipython-input-6-ba13226fe2c3>:42: FutureWarning: Indexing a timezone-aware DatetimeIndex with a timezone-naive datetime is deprecated and will raise KeyError in a future version. Use a timezone-aware object instead.\n",
      "  m6 = info.truncate(before=pd.Timestamp('today') - pd.DateOffset(months=6))\n",
      "<ipython-input-6-ba13226fe2c3>:43: FutureWarning: Indexing a timezone-aware DatetimeIndex with a timezone-naive datetime is deprecated and will raise KeyError in a future version. Use a timezone-aware object instead.\n",
      "  m3 = info.truncate(before=pd.Timestamp('today') - pd.DateOffset(months=3))\n",
      "<ipython-input-6-ba13226fe2c3>:44: FutureWarning: Indexing a timezone-aware DatetimeIndex with a timezone-naive datetime is deprecated and will raise KeyError in a future version. Use a timezone-aware object instead.\n",
      "  m1 = info.truncate(before=pd.Timestamp('today') - pd.DateOffset(months=1))\n"
     ]
    },
    {
     "name": "stdout",
     "output_type": "stream",
     "text": [
      "0.7855494022369385\n"
     ]
    },
    {
     "name": "stderr",
     "output_type": "stream",
     "text": [
      "<ipython-input-6-ba13226fe2c3>:41: FutureWarning: Indexing a timezone-aware DatetimeIndex with a timezone-naive datetime is deprecated and will raise KeyError in a future version. Use a timezone-aware object instead.\n",
      "  y = info.truncate(before=pd.Timestamp('today') - pd.DateOffset(months=12))\n",
      "<ipython-input-6-ba13226fe2c3>:42: FutureWarning: Indexing a timezone-aware DatetimeIndex with a timezone-naive datetime is deprecated and will raise KeyError in a future version. Use a timezone-aware object instead.\n",
      "  m6 = info.truncate(before=pd.Timestamp('today') - pd.DateOffset(months=6))\n",
      "<ipython-input-6-ba13226fe2c3>:43: FutureWarning: Indexing a timezone-aware DatetimeIndex with a timezone-naive datetime is deprecated and will raise KeyError in a future version. Use a timezone-aware object instead.\n",
      "  m3 = info.truncate(before=pd.Timestamp('today') - pd.DateOffset(months=3))\n",
      "<ipython-input-6-ba13226fe2c3>:44: FutureWarning: Indexing a timezone-aware DatetimeIndex with a timezone-naive datetime is deprecated and will raise KeyError in a future version. Use a timezone-aware object instead.\n",
      "  m1 = info.truncate(before=pd.Timestamp('today') - pd.DateOffset(months=1))\n"
     ]
    },
    {
     "name": "stdout",
     "output_type": "stream",
     "text": [
      "0.8701889514923096\n"
     ]
    },
    {
     "name": "stderr",
     "output_type": "stream",
     "text": [
      "<ipython-input-6-ba13226fe2c3>:41: FutureWarning: Indexing a timezone-aware DatetimeIndex with a timezone-naive datetime is deprecated and will raise KeyError in a future version. Use a timezone-aware object instead.\n",
      "  y = info.truncate(before=pd.Timestamp('today') - pd.DateOffset(months=12))\n",
      "<ipython-input-6-ba13226fe2c3>:42: FutureWarning: Indexing a timezone-aware DatetimeIndex with a timezone-naive datetime is deprecated and will raise KeyError in a future version. Use a timezone-aware object instead.\n",
      "  m6 = info.truncate(before=pd.Timestamp('today') - pd.DateOffset(months=6))\n",
      "<ipython-input-6-ba13226fe2c3>:43: FutureWarning: Indexing a timezone-aware DatetimeIndex with a timezone-naive datetime is deprecated and will raise KeyError in a future version. Use a timezone-aware object instead.\n",
      "  m3 = info.truncate(before=pd.Timestamp('today') - pd.DateOffset(months=3))\n",
      "<ipython-input-6-ba13226fe2c3>:44: FutureWarning: Indexing a timezone-aware DatetimeIndex with a timezone-naive datetime is deprecated and will raise KeyError in a future version. Use a timezone-aware object instead.\n",
      "  m1 = info.truncate(before=pd.Timestamp('today') - pd.DateOffset(months=1))\n"
     ]
    },
    {
     "name": "stdout",
     "output_type": "stream",
     "text": [
      "Index Error when producing momentum table\n",
      "DW: 1d data not available for startTime=-2208994789 and endTime=1673461972. Only 100 years worth of day granularity data are allowed to be fetched per request.\n",
      "Index Error when producing momentum table\n"
     ]
    },
    {
     "name": "stderr",
     "output_type": "stream",
     "text": [
      "<ipython-input-6-ba13226fe2c3>:41: FutureWarning: Indexing a timezone-aware DatetimeIndex with a timezone-naive datetime is deprecated and will raise KeyError in a future version. Use a timezone-aware object instead.\n",
      "  y = info.truncate(before=pd.Timestamp('today') - pd.DateOffset(months=12))\n",
      "<ipython-input-6-ba13226fe2c3>:42: FutureWarning: Indexing a timezone-aware DatetimeIndex with a timezone-naive datetime is deprecated and will raise KeyError in a future version. Use a timezone-aware object instead.\n",
      "  m6 = info.truncate(before=pd.Timestamp('today') - pd.DateOffset(months=6))\n",
      "<ipython-input-6-ba13226fe2c3>:43: FutureWarning: Indexing a timezone-aware DatetimeIndex with a timezone-naive datetime is deprecated and will raise KeyError in a future version. Use a timezone-aware object instead.\n",
      "  m3 = info.truncate(before=pd.Timestamp('today') - pd.DateOffset(months=3))\n",
      "<ipython-input-6-ba13226fe2c3>:44: FutureWarning: Indexing a timezone-aware DatetimeIndex with a timezone-naive datetime is deprecated and will raise KeyError in a future version. Use a timezone-aware object instead.\n",
      "  m1 = info.truncate(before=pd.Timestamp('today') - pd.DateOffset(months=1))\n"
     ]
    },
    {
     "name": "stdout",
     "output_type": "stream",
     "text": [
      "0.5727458000183105\n"
     ]
    },
    {
     "name": "stderr",
     "output_type": "stream",
     "text": [
      "<ipython-input-6-ba13226fe2c3>:41: FutureWarning: Indexing a timezone-aware DatetimeIndex with a timezone-naive datetime is deprecated and will raise KeyError in a future version. Use a timezone-aware object instead.\n",
      "  y = info.truncate(before=pd.Timestamp('today') - pd.DateOffset(months=12))\n",
      "<ipython-input-6-ba13226fe2c3>:42: FutureWarning: Indexing a timezone-aware DatetimeIndex with a timezone-naive datetime is deprecated and will raise KeyError in a future version. Use a timezone-aware object instead.\n",
      "  m6 = info.truncate(before=pd.Timestamp('today') - pd.DateOffset(months=6))\n",
      "<ipython-input-6-ba13226fe2c3>:43: FutureWarning: Indexing a timezone-aware DatetimeIndex with a timezone-naive datetime is deprecated and will raise KeyError in a future version. Use a timezone-aware object instead.\n",
      "  m3 = info.truncate(before=pd.Timestamp('today') - pd.DateOffset(months=3))\n",
      "<ipython-input-6-ba13226fe2c3>:44: FutureWarning: Indexing a timezone-aware DatetimeIndex with a timezone-naive datetime is deprecated and will raise KeyError in a future version. Use a timezone-aware object instead.\n",
      "  m1 = info.truncate(before=pd.Timestamp('today') - pd.DateOffset(months=1))\n"
     ]
    },
    {
     "name": "stdout",
     "output_type": "stream",
     "text": [
      "0.6615395545959473\n"
     ]
    },
    {
     "name": "stderr",
     "output_type": "stream",
     "text": [
      "<ipython-input-6-ba13226fe2c3>:41: FutureWarning: Indexing a timezone-aware DatetimeIndex with a timezone-naive datetime is deprecated and will raise KeyError in a future version. Use a timezone-aware object instead.\n",
      "  y = info.truncate(before=pd.Timestamp('today') - pd.DateOffset(months=12))\n",
      "<ipython-input-6-ba13226fe2c3>:42: FutureWarning: Indexing a timezone-aware DatetimeIndex with a timezone-naive datetime is deprecated and will raise KeyError in a future version. Use a timezone-aware object instead.\n",
      "  m6 = info.truncate(before=pd.Timestamp('today') - pd.DateOffset(months=6))\n",
      "<ipython-input-6-ba13226fe2c3>:43: FutureWarning: Indexing a timezone-aware DatetimeIndex with a timezone-naive datetime is deprecated and will raise KeyError in a future version. Use a timezone-aware object instead.\n",
      "  m3 = info.truncate(before=pd.Timestamp('today') - pd.DateOffset(months=3))\n",
      "<ipython-input-6-ba13226fe2c3>:44: FutureWarning: Indexing a timezone-aware DatetimeIndex with a timezone-naive datetime is deprecated and will raise KeyError in a future version. Use a timezone-aware object instead.\n",
      "  m1 = info.truncate(before=pd.Timestamp('today') - pd.DateOffset(months=1))\n"
     ]
    },
    {
     "name": "stdout",
     "output_type": "stream",
     "text": [
      "0.5931551456451416\n"
     ]
    },
    {
     "name": "stderr",
     "output_type": "stream",
     "text": [
      "<ipython-input-6-ba13226fe2c3>:41: FutureWarning: Indexing a timezone-aware DatetimeIndex with a timezone-naive datetime is deprecated and will raise KeyError in a future version. Use a timezone-aware object instead.\n",
      "  y = info.truncate(before=pd.Timestamp('today') - pd.DateOffset(months=12))\n",
      "<ipython-input-6-ba13226fe2c3>:42: FutureWarning: Indexing a timezone-aware DatetimeIndex with a timezone-naive datetime is deprecated and will raise KeyError in a future version. Use a timezone-aware object instead.\n",
      "  m6 = info.truncate(before=pd.Timestamp('today') - pd.DateOffset(months=6))\n",
      "<ipython-input-6-ba13226fe2c3>:43: FutureWarning: Indexing a timezone-aware DatetimeIndex with a timezone-naive datetime is deprecated and will raise KeyError in a future version. Use a timezone-aware object instead.\n",
      "  m3 = info.truncate(before=pd.Timestamp('today') - pd.DateOffset(months=3))\n",
      "<ipython-input-6-ba13226fe2c3>:44: FutureWarning: Indexing a timezone-aware DatetimeIndex with a timezone-naive datetime is deprecated and will raise KeyError in a future version. Use a timezone-aware object instead.\n",
      "  m1 = info.truncate(before=pd.Timestamp('today') - pd.DateOffset(months=1))\n"
     ]
    },
    {
     "name": "stdout",
     "output_type": "stream",
     "text": [
      "0.7782711982727051\n"
     ]
    },
    {
     "name": "stderr",
     "output_type": "stream",
     "text": [
      "<ipython-input-6-ba13226fe2c3>:41: FutureWarning: Indexing a timezone-aware DatetimeIndex with a timezone-naive datetime is deprecated and will raise KeyError in a future version. Use a timezone-aware object instead.\n",
      "  y = info.truncate(before=pd.Timestamp('today') - pd.DateOffset(months=12))\n",
      "<ipython-input-6-ba13226fe2c3>:42: FutureWarning: Indexing a timezone-aware DatetimeIndex with a timezone-naive datetime is deprecated and will raise KeyError in a future version. Use a timezone-aware object instead.\n",
      "  m6 = info.truncate(before=pd.Timestamp('today') - pd.DateOffset(months=6))\n",
      "<ipython-input-6-ba13226fe2c3>:43: FutureWarning: Indexing a timezone-aware DatetimeIndex with a timezone-naive datetime is deprecated and will raise KeyError in a future version. Use a timezone-aware object instead.\n",
      "  m3 = info.truncate(before=pd.Timestamp('today') - pd.DateOffset(months=3))\n",
      "<ipython-input-6-ba13226fe2c3>:44: FutureWarning: Indexing a timezone-aware DatetimeIndex with a timezone-naive datetime is deprecated and will raise KeyError in a future version. Use a timezone-aware object instead.\n",
      "  m1 = info.truncate(before=pd.Timestamp('today') - pd.DateOffset(months=1))\n"
     ]
    },
    {
     "name": "stdout",
     "output_type": "stream",
     "text": [
      "0.5170245170593262\n"
     ]
    },
    {
     "name": "stderr",
     "output_type": "stream",
     "text": [
      "<ipython-input-6-ba13226fe2c3>:41: FutureWarning: Indexing a timezone-aware DatetimeIndex with a timezone-naive datetime is deprecated and will raise KeyError in a future version. Use a timezone-aware object instead.\n",
      "  y = info.truncate(before=pd.Timestamp('today') - pd.DateOffset(months=12))\n",
      "<ipython-input-6-ba13226fe2c3>:42: FutureWarning: Indexing a timezone-aware DatetimeIndex with a timezone-naive datetime is deprecated and will raise KeyError in a future version. Use a timezone-aware object instead.\n",
      "  m6 = info.truncate(before=pd.Timestamp('today') - pd.DateOffset(months=6))\n",
      "<ipython-input-6-ba13226fe2c3>:43: FutureWarning: Indexing a timezone-aware DatetimeIndex with a timezone-naive datetime is deprecated and will raise KeyError in a future version. Use a timezone-aware object instead.\n",
      "  m3 = info.truncate(before=pd.Timestamp('today') - pd.DateOffset(months=3))\n",
      "<ipython-input-6-ba13226fe2c3>:44: FutureWarning: Indexing a timezone-aware DatetimeIndex with a timezone-naive datetime is deprecated and will raise KeyError in a future version. Use a timezone-aware object instead.\n",
      "  m1 = info.truncate(before=pd.Timestamp('today') - pd.DateOffset(months=1))\n"
     ]
    },
    {
     "name": "stdout",
     "output_type": "stream",
     "text": [
      "Index Error when producing momentum table\n",
      "Got error from yahoo api for ticker DSW, Error: {'code': 'Not Found', 'description': 'No data found, symbol may be delisted'}\n",
      "- DSW: No timezone found, symbol may be delisted\n",
      "Index Error when producing momentum table\n"
     ]
    },
    {
     "name": "stderr",
     "output_type": "stream",
     "text": [
      "<ipython-input-6-ba13226fe2c3>:41: FutureWarning: Indexing a timezone-aware DatetimeIndex with a timezone-naive datetime is deprecated and will raise KeyError in a future version. Use a timezone-aware object instead.\n",
      "  y = info.truncate(before=pd.Timestamp('today') - pd.DateOffset(months=12))\n",
      "<ipython-input-6-ba13226fe2c3>:42: FutureWarning: Indexing a timezone-aware DatetimeIndex with a timezone-naive datetime is deprecated and will raise KeyError in a future version. Use a timezone-aware object instead.\n",
      "  m6 = info.truncate(before=pd.Timestamp('today') - pd.DateOffset(months=6))\n",
      "<ipython-input-6-ba13226fe2c3>:43: FutureWarning: Indexing a timezone-aware DatetimeIndex with a timezone-naive datetime is deprecated and will raise KeyError in a future version. Use a timezone-aware object instead.\n",
      "  m3 = info.truncate(before=pd.Timestamp('today') - pd.DateOffset(months=3))\n",
      "<ipython-input-6-ba13226fe2c3>:44: FutureWarning: Indexing a timezone-aware DatetimeIndex with a timezone-naive datetime is deprecated and will raise KeyError in a future version. Use a timezone-aware object instead.\n",
      "  m1 = info.truncate(before=pd.Timestamp('today') - pd.DateOffset(months=1))\n"
     ]
    },
    {
     "name": "stdout",
     "output_type": "stream",
     "text": [
      "0.7966475486755371\n",
      "Got error from yahoo api for ticker DTQ, Error: {'code': 'Not Found', 'description': 'No data found, symbol may be delisted'}\n",
      "- DTQ: No timezone found, symbol may be delisted\n",
      "Index Error when producing momentum table\n",
      "Got error from yahoo api for ticker DTZ, Error: {'code': 'Not Found', 'description': 'No data found, symbol may be delisted'}\n",
      "- DTZ: No timezone found, symbol may be delisted\n",
      "Index Error when producing momentum table\n"
     ]
    },
    {
     "name": "stderr",
     "output_type": "stream",
     "text": [
      "<ipython-input-6-ba13226fe2c3>:41: FutureWarning: Indexing a timezone-aware DatetimeIndex with a timezone-naive datetime is deprecated and will raise KeyError in a future version. Use a timezone-aware object instead.\n",
      "  y = info.truncate(before=pd.Timestamp('today') - pd.DateOffset(months=12))\n",
      "<ipython-input-6-ba13226fe2c3>:42: FutureWarning: Indexing a timezone-aware DatetimeIndex with a timezone-naive datetime is deprecated and will raise KeyError in a future version. Use a timezone-aware object instead.\n",
      "  m6 = info.truncate(before=pd.Timestamp('today') - pd.DateOffset(months=6))\n",
      "<ipython-input-6-ba13226fe2c3>:43: FutureWarning: Indexing a timezone-aware DatetimeIndex with a timezone-naive datetime is deprecated and will raise KeyError in a future version. Use a timezone-aware object instead.\n",
      "  m3 = info.truncate(before=pd.Timestamp('today') - pd.DateOffset(months=3))\n",
      "<ipython-input-6-ba13226fe2c3>:44: FutureWarning: Indexing a timezone-aware DatetimeIndex with a timezone-naive datetime is deprecated and will raise KeyError in a future version. Use a timezone-aware object instead.\n",
      "  m1 = info.truncate(before=pd.Timestamp('today') - pd.DateOffset(months=1))\n"
     ]
    },
    {
     "name": "stdout",
     "output_type": "stream",
     "text": [
      "0.7478938102722168\n"
     ]
    },
    {
     "name": "stderr",
     "output_type": "stream",
     "text": [
      "<ipython-input-6-ba13226fe2c3>:41: FutureWarning: Indexing a timezone-aware DatetimeIndex with a timezone-naive datetime is deprecated and will raise KeyError in a future version. Use a timezone-aware object instead.\n",
      "  y = info.truncate(before=pd.Timestamp('today') - pd.DateOffset(months=12))\n",
      "<ipython-input-6-ba13226fe2c3>:42: FutureWarning: Indexing a timezone-aware DatetimeIndex with a timezone-naive datetime is deprecated and will raise KeyError in a future version. Use a timezone-aware object instead.\n",
      "  m6 = info.truncate(before=pd.Timestamp('today') - pd.DateOffset(months=6))\n",
      "<ipython-input-6-ba13226fe2c3>:43: FutureWarning: Indexing a timezone-aware DatetimeIndex with a timezone-naive datetime is deprecated and will raise KeyError in a future version. Use a timezone-aware object instead.\n",
      "  m3 = info.truncate(before=pd.Timestamp('today') - pd.DateOffset(months=3))\n",
      "<ipython-input-6-ba13226fe2c3>:44: FutureWarning: Indexing a timezone-aware DatetimeIndex with a timezone-naive datetime is deprecated and will raise KeyError in a future version. Use a timezone-aware object instead.\n",
      "  m1 = info.truncate(before=pd.Timestamp('today') - pd.DateOffset(months=1))\n"
     ]
    },
    {
     "name": "stdout",
     "output_type": "stream",
     "text": [
      "0.7725906372070312\n"
     ]
    },
    {
     "name": "stderr",
     "output_type": "stream",
     "text": [
      "<ipython-input-6-ba13226fe2c3>:41: FutureWarning: Indexing a timezone-aware DatetimeIndex with a timezone-naive datetime is deprecated and will raise KeyError in a future version. Use a timezone-aware object instead.\n",
      "  y = info.truncate(before=pd.Timestamp('today') - pd.DateOffset(months=12))\n",
      "<ipython-input-6-ba13226fe2c3>:42: FutureWarning: Indexing a timezone-aware DatetimeIndex with a timezone-naive datetime is deprecated and will raise KeyError in a future version. Use a timezone-aware object instead.\n",
      "  m6 = info.truncate(before=pd.Timestamp('today') - pd.DateOffset(months=6))\n",
      "<ipython-input-6-ba13226fe2c3>:43: FutureWarning: Indexing a timezone-aware DatetimeIndex with a timezone-naive datetime is deprecated and will raise KeyError in a future version. Use a timezone-aware object instead.\n",
      "  m3 = info.truncate(before=pd.Timestamp('today') - pd.DateOffset(months=3))\n",
      "<ipython-input-6-ba13226fe2c3>:44: FutureWarning: Indexing a timezone-aware DatetimeIndex with a timezone-naive datetime is deprecated and will raise KeyError in a future version. Use a timezone-aware object instead.\n",
      "  m1 = info.truncate(before=pd.Timestamp('today') - pd.DateOffset(months=1))\n"
     ]
    },
    {
     "name": "stdout",
     "output_type": "stream",
     "text": [
      "0.6235177516937256\n",
      "Got error from yahoo api for ticker DUC, Error: {'code': 'Not Found', 'description': 'No data found, symbol may be delisted'}\n",
      "- DUC: No timezone found, symbol may be delisted\n",
      "Index Error when producing momentum table\n"
     ]
    },
    {
     "name": "stderr",
     "output_type": "stream",
     "text": [
      "<ipython-input-6-ba13226fe2c3>:41: FutureWarning: Indexing a timezone-aware DatetimeIndex with a timezone-naive datetime is deprecated and will raise KeyError in a future version. Use a timezone-aware object instead.\n",
      "  y = info.truncate(before=pd.Timestamp('today') - pd.DateOffset(months=12))\n",
      "<ipython-input-6-ba13226fe2c3>:42: FutureWarning: Indexing a timezone-aware DatetimeIndex with a timezone-naive datetime is deprecated and will raise KeyError in a future version. Use a timezone-aware object instead.\n",
      "  m6 = info.truncate(before=pd.Timestamp('today') - pd.DateOffset(months=6))\n",
      "<ipython-input-6-ba13226fe2c3>:43: FutureWarning: Indexing a timezone-aware DatetimeIndex with a timezone-naive datetime is deprecated and will raise KeyError in a future version. Use a timezone-aware object instead.\n",
      "  m3 = info.truncate(before=pd.Timestamp('today') - pd.DateOffset(months=3))\n",
      "<ipython-input-6-ba13226fe2c3>:44: FutureWarning: Indexing a timezone-aware DatetimeIndex with a timezone-naive datetime is deprecated and will raise KeyError in a future version. Use a timezone-aware object instead.\n",
      "  m1 = info.truncate(before=pd.Timestamp('today') - pd.DateOffset(months=1))\n"
     ]
    },
    {
     "name": "stdout",
     "output_type": "stream",
     "text": [
      "0.8350143432617188\n"
     ]
    },
    {
     "name": "stderr",
     "output_type": "stream",
     "text": [
      "<ipython-input-6-ba13226fe2c3>:41: FutureWarning: Indexing a timezone-aware DatetimeIndex with a timezone-naive datetime is deprecated and will raise KeyError in a future version. Use a timezone-aware object instead.\n",
      "  y = info.truncate(before=pd.Timestamp('today') - pd.DateOffset(months=12))\n",
      "<ipython-input-6-ba13226fe2c3>:42: FutureWarning: Indexing a timezone-aware DatetimeIndex with a timezone-naive datetime is deprecated and will raise KeyError in a future version. Use a timezone-aware object instead.\n",
      "  m6 = info.truncate(before=pd.Timestamp('today') - pd.DateOffset(months=6))\n",
      "<ipython-input-6-ba13226fe2c3>:43: FutureWarning: Indexing a timezone-aware DatetimeIndex with a timezone-naive datetime is deprecated and will raise KeyError in a future version. Use a timezone-aware object instead.\n",
      "  m3 = info.truncate(before=pd.Timestamp('today') - pd.DateOffset(months=3))\n",
      "<ipython-input-6-ba13226fe2c3>:44: FutureWarning: Indexing a timezone-aware DatetimeIndex with a timezone-naive datetime is deprecated and will raise KeyError in a future version. Use a timezone-aware object instead.\n",
      "  m1 = info.truncate(before=pd.Timestamp('today') - pd.DateOffset(months=1))\n"
     ]
    },
    {
     "name": "stdout",
     "output_type": "stream",
     "text": [
      "Index Error when producing momentum table\n",
      "Got error from yahoo api for ticker DRE.PRK, Error: {'code': 'Not Found', 'description': 'No data found, symbol may be delisted'}\n",
      "- DRE.PRK: No timezone found, symbol may be delisted\n",
      "Index Error when producing momentum table\n",
      "Got error from yahoo api for ticker DRE.PRL, Error: {'code': 'Not Found', 'description': 'No data found, symbol may be delisted'}\n",
      "- DRE.PRL: No timezone found, symbol may be delisted\n",
      "Index Error when producing momentum table\n"
     ]
    },
    {
     "name": "stderr",
     "output_type": "stream",
     "text": [
      "<ipython-input-6-ba13226fe2c3>:41: FutureWarning: Indexing a timezone-aware DatetimeIndex with a timezone-naive datetime is deprecated and will raise KeyError in a future version. Use a timezone-aware object instead.\n",
      "  y = info.truncate(before=pd.Timestamp('today') - pd.DateOffset(months=12))\n",
      "<ipython-input-6-ba13226fe2c3>:42: FutureWarning: Indexing a timezone-aware DatetimeIndex with a timezone-naive datetime is deprecated and will raise KeyError in a future version. Use a timezone-aware object instead.\n",
      "  m6 = info.truncate(before=pd.Timestamp('today') - pd.DateOffset(months=6))\n",
      "<ipython-input-6-ba13226fe2c3>:43: FutureWarning: Indexing a timezone-aware DatetimeIndex with a timezone-naive datetime is deprecated and will raise KeyError in a future version. Use a timezone-aware object instead.\n",
      "  m3 = info.truncate(before=pd.Timestamp('today') - pd.DateOffset(months=3))\n",
      "<ipython-input-6-ba13226fe2c3>:44: FutureWarning: Indexing a timezone-aware DatetimeIndex with a timezone-naive datetime is deprecated and will raise KeyError in a future version. Use a timezone-aware object instead.\n",
      "  m1 = info.truncate(before=pd.Timestamp('today') - pd.DateOffset(months=1))\n"
     ]
    },
    {
     "name": "stdout",
     "output_type": "stream",
     "text": [
      "0.9511210918426514\n",
      "DFT: 1d data not available for startTime=-2208994789 and endTime=1673461984. Only 100 years worth of day granularity data are allowed to be fetched per request.\n",
      "Index Error when producing momentum table\n",
      "Got error from yahoo api for ticker DFT.PRA, Error: {'code': 'Not Found', 'description': 'No data found, symbol may be delisted'}\n",
      "- DFT.PRA: No timezone found, symbol may be delisted\n",
      "Index Error when producing momentum table\n",
      "Got error from yahoo api for ticker DFT.PRB, Error: {'code': 'Not Found', 'description': 'No data found, symbol may be delisted'}\n",
      "- DFT.PRB: No timezone found, symbol may be delisted\n",
      "Index Error when producing momentum table\n",
      "LBF: 1d data not available for startTime=-2208994789 and endTime=1673461985. Only 100 years worth of day granularity data are allowed to be fetched per request.\n",
      "Index Error when producing momentum table\n"
     ]
    },
    {
     "name": "stderr",
     "output_type": "stream",
     "text": [
      "C:\\Users\\Kamen\\AppData\\Local\\Programs\\Python\\Python38\\lib\\site-packages\\yfinance\\utils.py:613: SettingWithCopyWarning: \n",
      "A value is trying to be set on a copy of a slice from a DataFrame.\n",
      "Try using .loc[row_indexer,col_indexer] = value instead\n",
      "\n",
      "See the caveats in the documentation: https://pandas.pydata.org/pandas-docs/stable/user_guide/indexing.html#returning-a-view-versus-a-copy\n",
      "  df_sub_missing[list(keys)] = _np.nan\n",
      "C:\\Users\\Kamen\\AppData\\Local\\Programs\\Python\\Python38\\lib\\site-packages\\yfinance\\utils.py:613: SettingWithCopyWarning: \n",
      "A value is trying to be set on a copy of a slice from a DataFrame.\n",
      "Try using .loc[row_indexer,col_indexer] = value instead\n",
      "\n",
      "See the caveats in the documentation: https://pandas.pydata.org/pandas-docs/stable/user_guide/indexing.html#returning-a-view-versus-a-copy\n",
      "  df_sub_missing[list(keys)] = _np.nan\n",
      "C:\\Users\\Kamen\\AppData\\Local\\Programs\\Python\\Python38\\lib\\site-packages\\yfinance\\utils.py:613: SettingWithCopyWarning: \n",
      "A value is trying to be set on a copy of a slice from a DataFrame.\n",
      "Try using .loc[row_indexer,col_indexer] = value instead\n",
      "\n",
      "See the caveats in the documentation: https://pandas.pydata.org/pandas-docs/stable/user_guide/indexing.html#returning-a-view-versus-a-copy\n",
      "  df_sub_missing[list(keys)] = _np.nan\n",
      "C:\\Users\\Kamen\\AppData\\Local\\Programs\\Python\\Python38\\lib\\site-packages\\yfinance\\utils.py:613: SettingWithCopyWarning: \n",
      "A value is trying to be set on a copy of a slice from a DataFrame.\n",
      "Try using .loc[row_indexer,col_indexer] = value instead\n",
      "\n",
      "See the caveats in the documentation: https://pandas.pydata.org/pandas-docs/stable/user_guide/indexing.html#returning-a-view-versus-a-copy\n",
      "  df_sub_missing[list(keys)] = _np.nan\n",
      "C:\\Users\\Kamen\\AppData\\Local\\Programs\\Python\\Python38\\lib\\site-packages\\yfinance\\utils.py:613: SettingWithCopyWarning: \n",
      "A value is trying to be set on a copy of a slice from a DataFrame.\n",
      "Try using .loc[row_indexer,col_indexer] = value instead\n",
      "\n",
      "See the caveats in the documentation: https://pandas.pydata.org/pandas-docs/stable/user_guide/indexing.html#returning-a-view-versus-a-copy\n",
      "  df_sub_missing[list(keys)] = _np.nan\n"
     ]
    },
    {
     "ename": "ValueError",
     "evalue": "truncate requires a sorted index",
     "output_type": "error",
     "traceback": [
      "\u001b[1;31m---------------------------------------------------------------------------\u001b[0m",
      "\u001b[1;31mValueError\u001b[0m                                Traceback (most recent call last)",
      "\u001b[1;32m<ipython-input-6-ba13226fe2c3>\u001b[0m in \u001b[0;36m<module>\u001b[1;34m\u001b[0m\n\u001b[0;32m     39\u001b[0m         \u001b[0minfo\u001b[0m\u001b[1;33m.\u001b[0m\u001b[0mset_index\u001b[0m\u001b[1;33m(\u001b[0m\u001b[1;34m\"Date\"\u001b[0m\u001b[1;33m,\u001b[0m \u001b[0minplace\u001b[0m \u001b[1;33m=\u001b[0m \u001b[1;32mTrue\u001b[0m\u001b[1;33m)\u001b[0m\u001b[1;33m\u001b[0m\u001b[1;33m\u001b[0m\u001b[0m\n\u001b[0;32m     40\u001b[0m         \u001b[1;31m#Creating the df to be added to momentum\u001b[0m\u001b[1;33m\u001b[0m\u001b[1;33m\u001b[0m\u001b[1;33m\u001b[0m\u001b[0m\n\u001b[1;32m---> 41\u001b[1;33m         \u001b[0my\u001b[0m \u001b[1;33m=\u001b[0m \u001b[0minfo\u001b[0m\u001b[1;33m.\u001b[0m\u001b[0mtruncate\u001b[0m\u001b[1;33m(\u001b[0m\u001b[0mbefore\u001b[0m\u001b[1;33m=\u001b[0m\u001b[0mpd\u001b[0m\u001b[1;33m.\u001b[0m\u001b[0mTimestamp\u001b[0m\u001b[1;33m(\u001b[0m\u001b[1;34m'today'\u001b[0m\u001b[1;33m)\u001b[0m \u001b[1;33m-\u001b[0m \u001b[0mpd\u001b[0m\u001b[1;33m.\u001b[0m\u001b[0mDateOffset\u001b[0m\u001b[1;33m(\u001b[0m\u001b[0mmonths\u001b[0m\u001b[1;33m=\u001b[0m\u001b[1;36m12\u001b[0m\u001b[1;33m)\u001b[0m\u001b[1;33m)\u001b[0m\u001b[1;33m\u001b[0m\u001b[1;33m\u001b[0m\u001b[0m\n\u001b[0m\u001b[0;32m     42\u001b[0m         \u001b[0mm6\u001b[0m \u001b[1;33m=\u001b[0m \u001b[0minfo\u001b[0m\u001b[1;33m.\u001b[0m\u001b[0mtruncate\u001b[0m\u001b[1;33m(\u001b[0m\u001b[0mbefore\u001b[0m\u001b[1;33m=\u001b[0m\u001b[0mpd\u001b[0m\u001b[1;33m.\u001b[0m\u001b[0mTimestamp\u001b[0m\u001b[1;33m(\u001b[0m\u001b[1;34m'today'\u001b[0m\u001b[1;33m)\u001b[0m \u001b[1;33m-\u001b[0m \u001b[0mpd\u001b[0m\u001b[1;33m.\u001b[0m\u001b[0mDateOffset\u001b[0m\u001b[1;33m(\u001b[0m\u001b[0mmonths\u001b[0m\u001b[1;33m=\u001b[0m\u001b[1;36m6\u001b[0m\u001b[1;33m)\u001b[0m\u001b[1;33m)\u001b[0m\u001b[1;33m\u001b[0m\u001b[1;33m\u001b[0m\u001b[0m\n\u001b[0;32m     43\u001b[0m         \u001b[0mm3\u001b[0m \u001b[1;33m=\u001b[0m \u001b[0minfo\u001b[0m\u001b[1;33m.\u001b[0m\u001b[0mtruncate\u001b[0m\u001b[1;33m(\u001b[0m\u001b[0mbefore\u001b[0m\u001b[1;33m=\u001b[0m\u001b[0mpd\u001b[0m\u001b[1;33m.\u001b[0m\u001b[0mTimestamp\u001b[0m\u001b[1;33m(\u001b[0m\u001b[1;34m'today'\u001b[0m\u001b[1;33m)\u001b[0m \u001b[1;33m-\u001b[0m \u001b[0mpd\u001b[0m\u001b[1;33m.\u001b[0m\u001b[0mDateOffset\u001b[0m\u001b[1;33m(\u001b[0m\u001b[0mmonths\u001b[0m\u001b[1;33m=\u001b[0m\u001b[1;36m3\u001b[0m\u001b[1;33m)\u001b[0m\u001b[1;33m)\u001b[0m\u001b[1;33m\u001b[0m\u001b[1;33m\u001b[0m\u001b[0m\n",
      "\u001b[1;32m~\\AppData\\Local\\Programs\\Python\\Python38\\lib\\site-packages\\pandas\\core\\generic.py\u001b[0m in \u001b[0;36mtruncate\u001b[1;34m(self, before, after, axis, copy)\u001b[0m\n\u001b[0;32m   9723\u001b[0m         \u001b[1;31m# Check that index is sorted\u001b[0m\u001b[1;33m\u001b[0m\u001b[1;33m\u001b[0m\u001b[1;33m\u001b[0m\u001b[0m\n\u001b[0;32m   9724\u001b[0m         \u001b[1;32mif\u001b[0m \u001b[1;32mnot\u001b[0m \u001b[0max\u001b[0m\u001b[1;33m.\u001b[0m\u001b[0mis_monotonic_increasing\u001b[0m \u001b[1;32mand\u001b[0m \u001b[1;32mnot\u001b[0m \u001b[0max\u001b[0m\u001b[1;33m.\u001b[0m\u001b[0mis_monotonic_decreasing\u001b[0m\u001b[1;33m:\u001b[0m\u001b[1;33m\u001b[0m\u001b[1;33m\u001b[0m\u001b[0m\n\u001b[1;32m-> 9725\u001b[1;33m             \u001b[1;32mraise\u001b[0m \u001b[0mValueError\u001b[0m\u001b[1;33m(\u001b[0m\u001b[1;34m\"truncate requires a sorted index\"\u001b[0m\u001b[1;33m)\u001b[0m\u001b[1;33m\u001b[0m\u001b[1;33m\u001b[0m\u001b[0m\n\u001b[0m\u001b[0;32m   9726\u001b[0m \u001b[1;33m\u001b[0m\u001b[0m\n\u001b[0;32m   9727\u001b[0m         \u001b[1;31m# if we have a date index, convert to dates, otherwise\u001b[0m\u001b[1;33m\u001b[0m\u001b[1;33m\u001b[0m\u001b[1;33m\u001b[0m\u001b[0m\n",
      "\u001b[1;31mValueError\u001b[0m: truncate requires a sorted index"
     ]
    }
   ],
   "source": [
    "#calulate the Hurst exponent of a stock\n",
    "def get_hurst_exponent(time_series, max_lag):\n",
    "    \"\"\"Returns the Hurst Exponent of the time series\"\"\"\n",
    "        \n",
    "    lags = range(2, max_lag)\n",
    "\n",
    "    # variances of the lagged differences\n",
    "    tau = [np.std(np.subtract(time_series[lag:], time_series[:-lag])) for lag in lags]\n",
    "\n",
    "    # calculate the slope of the log plot -> the Hurst Exponent\n",
    "    reg = np.polyfit(np.log(lags), np.log(tau), 1)\n",
    "\n",
    "    return reg[0]\n",
    "\n",
    "#Create first table with all stock info from yfinance\n",
    "tick = pd.read_csv(\"all_stocks\")\n",
    "all_time_cols = ['Date', 'Open', 'High', 'Low', 'Close', 'Volume', 'Dividends', 'Stock Splits', 'Ticker']\n",
    "momentum_cols = ['Ticker','Price',\n",
    "                '1y Price Return','1y percentile', \n",
    "                '6m Price Return', '6m percentile', \n",
    "                '3m Price Return', '3m percentile',\n",
    "                '1m Price Return','1m percentile',\n",
    "                'Weighted Hurst Exponent']\n",
    "momentum = pd.DataFrame(columns = momentum_cols)\n",
    "all_time = pd.DataFrame(columns = all_time_cols)\n",
    "count = 0 \n",
    "for i in range(len(tick)): \n",
    "    start = time.time()    \n",
    "    try:\n",
    "        #Creating the df to be added to all_time_prices\n",
    "        ticker = tick[\"0\"][i]\n",
    "        info = yf.Ticker(ticker).history(period='max')\n",
    "        info.reset_index(inplace = True)\n",
    "        info['Ticker'] = ticker\n",
    "\n",
    "        # Append the first dataframe to the table\n",
    "        all_time = pd.concat([all_time, info])\n",
    "        info.sort_values(\"Date\", ascending = True, inplace = True)\n",
    "        info.set_index(\"Date\", inplace = True)\n",
    "        #Creating the df to be added to momentum\n",
    "        y = info.truncate(before=pd.Timestamp('today') - pd.DateOffset(months=12))\n",
    "        m6 = info.truncate(before=pd.Timestamp('today') - pd.DateOffset(months=6))\n",
    "        m3 = info.truncate(before=pd.Timestamp('today') - pd.DateOffset(months=3))\n",
    "        m1 = info.truncate(before=pd.Timestamp('today') - pd.DateOffset(months=1))\n",
    "\n",
    "        #momentum['Ticker'] = tick['0'][i]  \n",
    "        try: \n",
    "            perc_change1y = ((y.iloc[-1]['Close'] - y.iloc[0]['Close'])/y.iloc[0][\"Close\"])\n",
    "            #momentum['1y Price Return'] = perc_change1y\n",
    "            perc_change6m = ((m6.iloc[-1]['Close'] - m6.iloc[0]['Close'])/m6.iloc[0][\"Close\"])\n",
    "            #momentum['6m Price Return'] = perc_change6m\n",
    "            perc_change3m = ((m3.iloc[-1]['Close'] - m3.iloc[0]['Close'])/m3.iloc[0][\"Close\"])\n",
    "            #momentum['3m Price Return'] = perc_change3m\n",
    "            perc_change1m = ((m1.iloc[-1]['Close'] - m1.iloc[0]['Close'])/m1.iloc[0][\"Close\"])\n",
    "            #momentum['1m Price Return'] = perc_change1m\n",
    "\n",
    "            #momentum['Price'] = info['Close'] \n",
    "            #momentum['1y percentile'] = 0\n",
    "            #momentum['6m percentile'] = 0\n",
    "            #momentum['3m percentile'] = 0\n",
    "            #momentum['1m percentile'] = 0\n",
    "            #momentum['Weighted Hurst Exponent'] = 0\n",
    "            t = [20, 100, 300, 500, 1000]\n",
    "            total_hurst = 0\n",
    "            weight = 0.4\n",
    "            for j in range(len(t)): \n",
    "                #Use Weighted average to determine hurst exp of the stock\n",
    "                hurst_exp = get_hurst_exponent(info[\"Close\"].values, t[j])\n",
    "                #print(tick[\"0\"][i] + \" Hurst exponent with \" + str(t[j]) +  ' lags: ' + str(hurst_exp))\n",
    "                total_hurst += hurst_exp*weight\n",
    "                if j >= 2: \n",
    "                    weight = 0.1\n",
    "                else: \n",
    "                    weight = 0.2\n",
    "            #momentum = momentum.iloc[-1]\n",
    "        except IndexError: \n",
    "            print('Index Error when producing momentum table')\n",
    "            continue\n",
    "        momentum_append = pd.Series([tick['0'][i],info['Close'][-1],perc_change1y,0,perc_change6m,0,perc_change3m,0,perc_change1m,0, total_hurst],\n",
    "                                index = momentum_cols)\n",
    "        #print(momentum_append)\n",
    "    except TypeError: \n",
    "        print(\"Nonetype found for: \" + tick[\"0\"][i])\n",
    "        continue\n",
    "    except IndexError: \n",
    "        print(\"Couldn't find: \",tick[\"0\"][i])\n",
    "        continue\n",
    "    except KeyError:\n",
    "        print(\"Couldnt find key for: \" + tick['0'][i])\n",
    "        continue\n",
    "    stop = time.time()\n",
    "    duration = stop-start\n",
    "    print(duration)\n",
    "    momentum.loc[len(momentum)] = momentum_append\n",
    "#Get percentiles for each stock\n",
    "cols = ['1y', '6m', '3m', '1m']\n",
    "for c in cols: \n",
    "    for index, row in momentum.iterrows(): \n",
    "        percentile_change = stats.percentileofscore(momentum[c + ' Price Return'], momentum[c + ' Price Return'].loc[index])\n",
    "        momentum[c + ' percentile'][index] = percentile_change \n",
    "momentum['Shares To Buy'] = 0\n",
    "    \n",
    "#Calculate HQM score\n",
    "#Get the mean of all 4 percentiles \n",
    "momentum['HQM score'] = 0\n",
    "from statistics import mean\n",
    "for index, row in momentum.iterrows(): \n",
    "    all_periods_p = [row['1y percentile'], row['6m percentile'], row['3m percentile'], row['1m percentile']]\n",
    "    momentum['HQM score'].iloc[index] = mean(all_periods_p)\n",
    "\n",
    "\n",
    "#PUSH TO DATABASE\n",
    "#all_time.to_sql('all_time_prices', conn, if_exists='append', index=False)"
   ]
  },
  {
   "cell_type": "code",
   "execution_count": 7,
   "metadata": {},
   "outputs": [
    {
     "data": {
      "text/html": [
       "<div>\n",
       "<style scoped>\n",
       "    .dataframe tbody tr th:only-of-type {\n",
       "        vertical-align: middle;\n",
       "    }\n",
       "\n",
       "    .dataframe tbody tr th {\n",
       "        vertical-align: top;\n",
       "    }\n",
       "\n",
       "    .dataframe thead th {\n",
       "        text-align: right;\n",
       "    }\n",
       "</style>\n",
       "<table border=\"1\" class=\"dataframe\">\n",
       "  <thead>\n",
       "    <tr style=\"text-align: right;\">\n",
       "      <th></th>\n",
       "      <th>Ticker</th>\n",
       "      <th>Price</th>\n",
       "      <th>1y Price Return</th>\n",
       "      <th>1y percentile</th>\n",
       "      <th>6m Price Return</th>\n",
       "      <th>6m percentile</th>\n",
       "      <th>3m Price Return</th>\n",
       "      <th>3m percentile</th>\n",
       "      <th>1m Price Return</th>\n",
       "      <th>1m percentile</th>\n",
       "      <th>Weighted Hurst Exponent</th>\n",
       "    </tr>\n",
       "  </thead>\n",
       "  <tbody>\n",
       "    <tr>\n",
       "      <th>0</th>\n",
       "      <td>AOS</td>\n",
       "      <td>61.82</td>\n",
       "      <td>-0.250057</td>\n",
       "      <td>0</td>\n",
       "      <td>0.112724</td>\n",
       "      <td>0</td>\n",
       "      <td>0.26561</td>\n",
       "      <td>0</td>\n",
       "      <td>0.056572</td>\n",
       "      <td>0</td>\n",
       "      <td>0.483347</td>\n",
       "    </tr>\n",
       "    <tr>\n",
       "      <th>1</th>\n",
       "      <td>ATEN</td>\n",
       "      <td>15.89</td>\n",
       "      <td>0.086372</td>\n",
       "      <td>0</td>\n",
       "      <td>0.173409</td>\n",
       "      <td>0</td>\n",
       "      <td>0.082274</td>\n",
       "      <td>0</td>\n",
       "      <td>-0.130744</td>\n",
       "      <td>0</td>\n",
       "      <td>0.433248</td>\n",
       "    </tr>\n",
       "    <tr>\n",
       "      <th>2</th>\n",
       "      <td>AAC</td>\n",
       "      <td>10.13</td>\n",
       "      <td>0.03791</td>\n",
       "      <td>0</td>\n",
       "      <td>0.030519</td>\n",
       "      <td>0</td>\n",
       "      <td>0.01809</td>\n",
       "      <td>0</td>\n",
       "      <td>0.006958</td>\n",
       "      <td>0</td>\n",
       "      <td>NaN</td>\n",
       "    </tr>\n",
       "    <tr>\n",
       "      <th>3</th>\n",
       "      <td>AIR</td>\n",
       "      <td>47.915001</td>\n",
       "      <td>0.14739</td>\n",
       "      <td>0</td>\n",
       "      <td>0.155971</td>\n",
       "      <td>0</td>\n",
       "      <td>0.254976</td>\n",
       "      <td>0</td>\n",
       "      <td>0.036448</td>\n",
       "      <td>0</td>\n",
       "      <td>0.464653</td>\n",
       "    </tr>\n",
       "    <tr>\n",
       "      <th>4</th>\n",
       "      <td>AAN</td>\n",
       "      <td>13.76</td>\n",
       "      <td>-0.379757</td>\n",
       "      <td>0</td>\n",
       "      <td>-0.058047</td>\n",
       "      <td>0</td>\n",
       "      <td>0.524308</td>\n",
       "      <td>0</td>\n",
       "      <td>0.137301</td>\n",
       "      <td>0</td>\n",
       "      <td>NaN</td>\n",
       "    </tr>\n",
       "    <tr>\n",
       "      <th>...</th>\n",
       "      <td>...</td>\n",
       "      <td>...</td>\n",
       "      <td>...</td>\n",
       "      <td>...</td>\n",
       "      <td>...</td>\n",
       "      <td>...</td>\n",
       "      <td>...</td>\n",
       "      <td>...</td>\n",
       "      <td>...</td>\n",
       "      <td>...</td>\n",
       "      <td>...</td>\n",
       "    </tr>\n",
       "    <tr>\n",
       "      <th>453</th>\n",
       "      <td>DTF</td>\n",
       "      <td>11.12</td>\n",
       "      <td>-0.189929</td>\n",
       "      <td>0</td>\n",
       "      <td>-0.078904</td>\n",
       "      <td>0</td>\n",
       "      <td>-0.024439</td>\n",
       "      <td>0</td>\n",
       "      <td>-0.002425</td>\n",
       "      <td>0</td>\n",
       "      <td>0.472434</td>\n",
       "    </tr>\n",
       "    <tr>\n",
       "      <th>454</th>\n",
       "      <td>DCO</td>\n",
       "      <td>55.968102</td>\n",
       "      <td>0.227371</td>\n",
       "      <td>0</td>\n",
       "      <td>0.310422</td>\n",
       "      <td>0</td>\n",
       "      <td>0.380906</td>\n",
       "      <td>0</td>\n",
       "      <td>0.108938</td>\n",
       "      <td>0</td>\n",
       "      <td>0.422994</td>\n",
       "    </tr>\n",
       "    <tr>\n",
       "      <th>455</th>\n",
       "      <td>DPG</td>\n",
       "      <td>14.08</td>\n",
       "      <td>0.081002</td>\n",
       "      <td>0</td>\n",
       "      <td>0.119747</td>\n",
       "      <td>0</td>\n",
       "      <td>0.166418</td>\n",
       "      <td>0</td>\n",
       "      <td>0.075292</td>\n",
       "      <td>0</td>\n",
       "      <td>0.421715</td>\n",
       "    </tr>\n",
       "    <tr>\n",
       "      <th>456</th>\n",
       "      <td>DUK</td>\n",
       "      <td>105.43</td>\n",
       "      <td>0.057338</td>\n",
       "      <td>0</td>\n",
       "      <td>-0.001535</td>\n",
       "      <td>0</td>\n",
       "      <td>0.239073</td>\n",
       "      <td>0</td>\n",
       "      <td>0.030395</td>\n",
       "      <td>0</td>\n",
       "      <td>0.426989</td>\n",
       "    </tr>\n",
       "    <tr>\n",
       "      <th>457</th>\n",
       "      <td>DRE</td>\n",
       "      <td>48.200001</td>\n",
       "      <td>-0.187021</td>\n",
       "      <td>0</td>\n",
       "      <td>-0.149171</td>\n",
       "      <td>0</td>\n",
       "      <td>0.0</td>\n",
       "      <td>0</td>\n",
       "      <td>0.0</td>\n",
       "      <td>0</td>\n",
       "      <td>0.476875</td>\n",
       "    </tr>\n",
       "  </tbody>\n",
       "</table>\n",
       "<p>458 rows × 11 columns</p>\n",
       "</div>"
      ],
      "text/plain": [
       "    Ticker      Price 1y Price Return 1y percentile 6m Price Return  \\\n",
       "0      AOS      61.82       -0.250057             0        0.112724   \n",
       "1     ATEN      15.89        0.086372             0        0.173409   \n",
       "2      AAC      10.13         0.03791             0        0.030519   \n",
       "3      AIR  47.915001         0.14739             0        0.155971   \n",
       "4      AAN      13.76       -0.379757             0       -0.058047   \n",
       "..     ...        ...             ...           ...             ...   \n",
       "453    DTF      11.12       -0.189929             0       -0.078904   \n",
       "454    DCO  55.968102        0.227371             0        0.310422   \n",
       "455    DPG      14.08        0.081002             0        0.119747   \n",
       "456    DUK     105.43        0.057338             0       -0.001535   \n",
       "457    DRE  48.200001       -0.187021             0       -0.149171   \n",
       "\n",
       "    6m percentile 3m Price Return 3m percentile 1m Price Return 1m percentile  \\\n",
       "0               0         0.26561             0        0.056572             0   \n",
       "1               0        0.082274             0       -0.130744             0   \n",
       "2               0         0.01809             0        0.006958             0   \n",
       "3               0        0.254976             0        0.036448             0   \n",
       "4               0        0.524308             0        0.137301             0   \n",
       "..            ...             ...           ...             ...           ...   \n",
       "453             0       -0.024439             0       -0.002425             0   \n",
       "454             0        0.380906             0        0.108938             0   \n",
       "455             0        0.166418             0        0.075292             0   \n",
       "456             0        0.239073             0        0.030395             0   \n",
       "457             0             0.0             0             0.0             0   \n",
       "\n",
       "    Weighted Hurst Exponent  \n",
       "0                  0.483347  \n",
       "1                  0.433248  \n",
       "2                       NaN  \n",
       "3                  0.464653  \n",
       "4                       NaN  \n",
       "..                      ...  \n",
       "453                0.472434  \n",
       "454                0.422994  \n",
       "455                0.421715  \n",
       "456                0.426989  \n",
       "457                0.476875  \n",
       "\n",
       "[458 rows x 11 columns]"
      ]
     },
     "execution_count": 7,
     "metadata": {},
     "output_type": "execute_result"
    }
   ],
   "source": [
    "momentum"
   ]
  },
  {
   "cell_type": "code",
   "execution_count": 8,
   "metadata": {},
   "outputs": [
    {
     "data": {
      "text/html": [
       "<div>\n",
       "<style scoped>\n",
       "    .dataframe tbody tr th:only-of-type {\n",
       "        vertical-align: middle;\n",
       "    }\n",
       "\n",
       "    .dataframe tbody tr th {\n",
       "        vertical-align: top;\n",
       "    }\n",
       "\n",
       "    .dataframe thead th {\n",
       "        text-align: right;\n",
       "    }\n",
       "</style>\n",
       "<table border=\"1\" class=\"dataframe\">\n",
       "  <thead>\n",
       "    <tr style=\"text-align: right;\">\n",
       "      <th></th>\n",
       "      <th>Date</th>\n",
       "      <th>Open</th>\n",
       "      <th>High</th>\n",
       "      <th>Low</th>\n",
       "      <th>Close</th>\n",
       "      <th>Volume</th>\n",
       "      <th>Dividends</th>\n",
       "      <th>Stock Splits</th>\n",
       "      <th>Ticker</th>\n",
       "      <th>Capital Gains</th>\n",
       "      <th>Adj Close</th>\n",
       "    </tr>\n",
       "  </thead>\n",
       "  <tbody>\n",
       "    <tr>\n",
       "      <th>0</th>\n",
       "      <td>1983-09-30 00:00:00-04:00</td>\n",
       "      <td>0.00</td>\n",
       "      <td>0.470171</td>\n",
       "      <td>0.452757</td>\n",
       "      <td>0.452757</td>\n",
       "      <td>18000</td>\n",
       "      <td>0.000</td>\n",
       "      <td>0.0</td>\n",
       "      <td>AOS</td>\n",
       "      <td>NaN</td>\n",
       "      <td>NaN</td>\n",
       "    </tr>\n",
       "    <tr>\n",
       "      <th>1</th>\n",
       "      <td>1983-10-03 00:00:00-04:00</td>\n",
       "      <td>0.00</td>\n",
       "      <td>0.455660</td>\n",
       "      <td>0.449855</td>\n",
       "      <td>0.452757</td>\n",
       "      <td>18000</td>\n",
       "      <td>0.000</td>\n",
       "      <td>0.0</td>\n",
       "      <td>AOS</td>\n",
       "      <td>NaN</td>\n",
       "      <td>NaN</td>\n",
       "    </tr>\n",
       "    <tr>\n",
       "      <th>2</th>\n",
       "      <td>1983-10-04 00:00:00-04:00</td>\n",
       "      <td>0.00</td>\n",
       "      <td>0.449855</td>\n",
       "      <td>0.446952</td>\n",
       "      <td>0.446952</td>\n",
       "      <td>21600</td>\n",
       "      <td>0.000</td>\n",
       "      <td>0.0</td>\n",
       "      <td>AOS</td>\n",
       "      <td>NaN</td>\n",
       "      <td>NaN</td>\n",
       "    </tr>\n",
       "    <tr>\n",
       "      <th>3</th>\n",
       "      <td>1983-10-05 00:00:00-04:00</td>\n",
       "      <td>0.00</td>\n",
       "      <td>0.444050</td>\n",
       "      <td>0.394711</td>\n",
       "      <td>0.394711</td>\n",
       "      <td>127800</td>\n",
       "      <td>0.000</td>\n",
       "      <td>0.0</td>\n",
       "      <td>AOS</td>\n",
       "      <td>NaN</td>\n",
       "      <td>NaN</td>\n",
       "    </tr>\n",
       "    <tr>\n",
       "      <th>4</th>\n",
       "      <td>1983-10-06 00:00:00-04:00</td>\n",
       "      <td>0.00</td>\n",
       "      <td>0.403419</td>\n",
       "      <td>0.391809</td>\n",
       "      <td>0.403419</td>\n",
       "      <td>118800</td>\n",
       "      <td>0.000</td>\n",
       "      <td>0.0</td>\n",
       "      <td>AOS</td>\n",
       "      <td>NaN</td>\n",
       "      <td>NaN</td>\n",
       "    </tr>\n",
       "    <tr>\n",
       "      <th>...</th>\n",
       "      <td>...</td>\n",
       "      <td>...</td>\n",
       "      <td>...</td>\n",
       "      <td>...</td>\n",
       "      <td>...</td>\n",
       "      <td>...</td>\n",
       "      <td>...</td>\n",
       "      <td>...</td>\n",
       "      <td>...</td>\n",
       "      <td>...</td>\n",
       "      <td>...</td>\n",
       "    </tr>\n",
       "    <tr>\n",
       "      <th>119</th>\n",
       "      <td>2018-03-15 00:00:00-04:00</td>\n",
       "      <td>14.97</td>\n",
       "      <td>14.970000</td>\n",
       "      <td>14.970000</td>\n",
       "      <td>14.970000</td>\n",
       "      <td>0</td>\n",
       "      <td>0.000</td>\n",
       "      <td>0.0</td>\n",
       "      <td>DHG</td>\n",
       "      <td>0.0</td>\n",
       "      <td>NaN</td>\n",
       "    </tr>\n",
       "    <tr>\n",
       "      <th>120</th>\n",
       "      <td>2018-03-16 00:00:00-04:00</td>\n",
       "      <td>14.97</td>\n",
       "      <td>14.970000</td>\n",
       "      <td>14.970000</td>\n",
       "      <td>14.970000</td>\n",
       "      <td>0</td>\n",
       "      <td>0.000</td>\n",
       "      <td>0.0</td>\n",
       "      <td>DHG</td>\n",
       "      <td>0.0</td>\n",
       "      <td>NaN</td>\n",
       "    </tr>\n",
       "    <tr>\n",
       "      <th>121</th>\n",
       "      <td>2018-03-19 00:00:00-04:00</td>\n",
       "      <td>14.97</td>\n",
       "      <td>14.970000</td>\n",
       "      <td>14.970000</td>\n",
       "      <td>14.970000</td>\n",
       "      <td>0</td>\n",
       "      <td>0.000</td>\n",
       "      <td>0.0</td>\n",
       "      <td>DHG</td>\n",
       "      <td>0.0</td>\n",
       "      <td>NaN</td>\n",
       "    </tr>\n",
       "    <tr>\n",
       "      <th>122</th>\n",
       "      <td>2018-03-20 00:00:00-04:00</td>\n",
       "      <td>14.97</td>\n",
       "      <td>14.970000</td>\n",
       "      <td>14.970000</td>\n",
       "      <td>14.970000</td>\n",
       "      <td>0</td>\n",
       "      <td>0.000</td>\n",
       "      <td>0.0</td>\n",
       "      <td>DHG</td>\n",
       "      <td>0.0</td>\n",
       "      <td>NaN</td>\n",
       "    </tr>\n",
       "    <tr>\n",
       "      <th>123</th>\n",
       "      <td>2017-09-15 00:00:00-04:00</td>\n",
       "      <td>NaN</td>\n",
       "      <td>NaN</td>\n",
       "      <td>NaN</td>\n",
       "      <td>NaN</td>\n",
       "      <td>0</td>\n",
       "      <td>0.069</td>\n",
       "      <td>0.0</td>\n",
       "      <td>DHG</td>\n",
       "      <td>0.0</td>\n",
       "      <td>NaN</td>\n",
       "    </tr>\n",
       "  </tbody>\n",
       "</table>\n",
       "<p>3026575 rows × 11 columns</p>\n",
       "</div>"
      ],
      "text/plain": [
       "                         Date   Open       High        Low      Close  Volume  \\\n",
       "0   1983-09-30 00:00:00-04:00   0.00   0.470171   0.452757   0.452757   18000   \n",
       "1   1983-10-03 00:00:00-04:00   0.00   0.455660   0.449855   0.452757   18000   \n",
       "2   1983-10-04 00:00:00-04:00   0.00   0.449855   0.446952   0.446952   21600   \n",
       "3   1983-10-05 00:00:00-04:00   0.00   0.444050   0.394711   0.394711  127800   \n",
       "4   1983-10-06 00:00:00-04:00   0.00   0.403419   0.391809   0.403419  118800   \n",
       "..                        ...    ...        ...        ...        ...     ...   \n",
       "119 2018-03-15 00:00:00-04:00  14.97  14.970000  14.970000  14.970000       0   \n",
       "120 2018-03-16 00:00:00-04:00  14.97  14.970000  14.970000  14.970000       0   \n",
       "121 2018-03-19 00:00:00-04:00  14.97  14.970000  14.970000  14.970000       0   \n",
       "122 2018-03-20 00:00:00-04:00  14.97  14.970000  14.970000  14.970000       0   \n",
       "123 2017-09-15 00:00:00-04:00    NaN        NaN        NaN        NaN       0   \n",
       "\n",
       "     Dividends  Stock Splits Ticker  Capital Gains  Adj Close  \n",
       "0        0.000           0.0    AOS            NaN        NaN  \n",
       "1        0.000           0.0    AOS            NaN        NaN  \n",
       "2        0.000           0.0    AOS            NaN        NaN  \n",
       "3        0.000           0.0    AOS            NaN        NaN  \n",
       "4        0.000           0.0    AOS            NaN        NaN  \n",
       "..         ...           ...    ...            ...        ...  \n",
       "119      0.000           0.0    DHG            0.0        NaN  \n",
       "120      0.000           0.0    DHG            0.0        NaN  \n",
       "121      0.000           0.0    DHG            0.0        NaN  \n",
       "122      0.000           0.0    DHG            0.0        NaN  \n",
       "123      0.069           0.0    DHG            0.0        NaN  \n",
       "\n",
       "[3026575 rows x 11 columns]"
      ]
     },
     "execution_count": 8,
     "metadata": {},
     "output_type": "execute_result"
    }
   ],
   "source": [
    "all_time"
   ]
  },
  {
   "cell_type": "code",
   "execution_count": null,
   "metadata": {},
   "outputs": [],
   "source": []
  }
 ],
 "metadata": {
  "interpreter": {
   "hash": "f36662cf0d2dc2d22e7ce50b6b2dd5771b8ab03597c45c6e0e62ff4a448306d1"
  },
  "kernelspec": {
   "display_name": "Python 3.8.5 64-bit",
   "language": "python",
   "name": "python3"
  },
  "language_info": {
   "codemirror_mode": {
    "name": "ipython",
    "version": 3
   },
   "file_extension": ".py",
   "mimetype": "text/x-python",
   "name": "python",
   "nbconvert_exporter": "python",
   "pygments_lexer": "ipython3",
   "version": "3.8.5"
  },
  "orig_nbformat": 4
 },
 "nbformat": 4,
 "nbformat_minor": 2
}
