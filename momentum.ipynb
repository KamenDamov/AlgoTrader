{
 "cells": [
  {
   "cell_type": "code",
   "execution_count": 5,
   "metadata": {},
   "outputs": [],
   "source": [
    "import numpy as np\n",
    "import pandas as pd\n",
    "import math\n",
    "import requests \n",
    "import matplotlib as plt\n",
    "import seaborn as sns\n",
    "import yfinance as yf\n",
    "import pandas_datareader as web\n",
    "from pandas_datareader import data\n",
    "from bs4 import BeautifulSoup as bs\n",
    "from scipy import stats"
   ]
  },
  {
   "cell_type": "code",
   "execution_count": 6,
   "metadata": {},
   "outputs": [],
   "source": [
    "tick = pd.read_csv(\"all_stocks\")"
   ]
  },
  {
   "cell_type": "code",
   "execution_count": 10,
   "metadata": {},
   "outputs": [
    {
     "name": "stdout",
     "output_type": "stream",
     "text": [
      "Producing data for:  AOS\n"
     ]
    }
   ],
   "source": [
    "final = pd.DataFrame(columns=['Ticker','Date','Open', 'High', 'Low', 'Close', 'Volume','Market Cap','Dividends', 'Stock Splits'])\n",
    "for i in range(len(tick[\"0\"])):\n",
    "    print(\"Producing data for: \", tick[\"0\"][i])\n",
    "    try:\n",
    "        d = yf.Ticker(tick[\"0\"][i]).history(period='1y')\n",
    "    except IndexError: \n",
    "        print(\"Couldn't find: \",tick[\"0\"][i])\n",
    "        continue\n",
    "    except KeyError:\n",
    "        continue\n",
    "    d.reset_index(inplace=True)\n",
    "    d['Ticker'] = tick['0'][i]\n",
    "    try:\n",
    "        d['Market Cap'] = web.get_quote_yahoo(tick[\"0\"][i])['marketCap'][0]\n",
    "    except IndexError:\n",
    "        print(\"Couldn't find market cap for \",tick[\"0\"][i])\n",
    "        continue\n",
    "    except KeyError:\n",
    "        continue\n",
    "    \n",
    "    #d = d.iloc[-1]\n",
    "\n",
    "    #Change to keep only last 2 days!!! get date\n",
    "\n",
    "    #Append latest value\n",
    "    #final = final.append(\n",
    "    ##    pd.Series(d,\n",
    "    #    index=['Ticker','Date','Open', 'High', 'Low', 'Close', 'Volume','Market Cap','Dividends', 'Stock Splits']), \n",
    "    #    ignore_index = True\n",
    "    #)  \n",
    "    break"
   ]
  },
  {
   "cell_type": "code",
   "execution_count": 13,
   "metadata": {},
   "outputs": [
    {
     "data": {
      "text/plain": [
       "Date            2021-12-27 00:00:00-05:00\n",
       "Open                            81.804747\n",
       "High                            83.188776\n",
       "Low                             81.520096\n",
       "Close                           83.139694\n",
       "Volume                             700900\n",
       "Dividends                             0.0\n",
       "Stock Splits                          0.0\n",
       "Ticker                                AOS\n",
       "Market Cap                     8692955136\n",
       "Name: 0, dtype: object"
      ]
     },
     "execution_count": 13,
     "metadata": {},
     "output_type": "execute_result"
    }
   ],
   "source": [
    "d.iloc[0]"
   ]
  }
 ],
 "metadata": {
  "interpreter": {
   "hash": "f36662cf0d2dc2d22e7ce50b6b2dd5771b8ab03597c45c6e0e62ff4a448306d1"
  },
  "kernelspec": {
   "display_name": "Python 3.8.5 64-bit",
   "language": "python",
   "name": "python3"
  },
  "language_info": {
   "codemirror_mode": {
    "name": "ipython",
    "version": 3
   },
   "file_extension": ".py",
   "mimetype": "text/x-python",
   "name": "python",
   "nbconvert_exporter": "python",
   "pygments_lexer": "ipython3",
   "version": "3.8.5"
  },
  "orig_nbformat": 4
 },
 "nbformat": 4,
 "nbformat_minor": 2
}
