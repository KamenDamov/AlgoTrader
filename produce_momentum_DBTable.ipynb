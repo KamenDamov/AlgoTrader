{
 "cells": [
  {
   "cell_type": "code",
   "execution_count": 1,
   "metadata": {},
   "outputs": [],
   "source": [
    "import numpy as np\n",
    "import pandas as pd\n",
    "import math\n",
    "import requests \n",
    "import matplotlib as plt\n",
    "import seaborn as sns\n",
    "import yfinance as yf\n",
    "import pandas_datareader as web\n",
    "from pandas_datareader import data\n",
    "from bs4 import BeautifulSoup as bs\n",
    "from scipy import stats\n",
    "import sqlite3\n",
    "import time\n",
    "\n",
    "\n",
    "#Create db\n",
    "conn = sqlite3.connect('financial_data.db')\n",
    "\n",
    "# Create a cursor\n",
    "cursor = conn.cursor()\n",
    "\n",
    "\n",
    "momentum_query = '''\n",
    "CREATE TABLE momentum (\n",
    "    Ticker TEXT NOT NULL,\n",
    "    Price FLOAT,\n",
    "    y1_Price Return FLOAT, \n",
    "    y1_percentile FLOAT, \n",
    "    m6_Price_Return FLOAT, \n",
    "    m6_percentile FLOAT,\n",
    "    m3_Price_Return FLOAT, \n",
    "    m3_percentile FLOAT, \n",
    "    m1_Price_Return FLOAT, \n",
    "    m1_percentile FLOAT, \n",
    "    Weighted_Hurst_Exponent FLOAT\n",
    ");\n",
    "'''\n",
    "\n",
    "cursor.execute(momentum_query)\n",
    "\n",
    "conn.commit()\n"
   ]
  },
  {
   "cell_type": "code",
   "execution_count": 2,
   "metadata": {},
   "outputs": [
    {
     "name": "stderr",
     "output_type": "stream",
     "text": [
      "<ipython-input-2-2a4a68363179>:37: FutureWarning: Indexing a timezone-aware DatetimeIndex with a timezone-naive datetime is deprecated and will raise KeyError in a future version. Use a timezone-aware object instead.\n",
      "  y = info.truncate(before=pd.Timestamp('today') - pd.DateOffset(months=12))\n",
      "<ipython-input-2-2a4a68363179>:38: FutureWarning: Indexing a timezone-aware DatetimeIndex with a timezone-naive datetime is deprecated and will raise KeyError in a future version. Use a timezone-aware object instead.\n",
      "  m6 = info.truncate(before=pd.Timestamp('today') - pd.DateOffset(months=6))\n",
      "<ipython-input-2-2a4a68363179>:39: FutureWarning: Indexing a timezone-aware DatetimeIndex with a timezone-naive datetime is deprecated and will raise KeyError in a future version. Use a timezone-aware object instead.\n",
      "  m3 = info.truncate(before=pd.Timestamp('today') - pd.DateOffset(months=3))\n",
      "<ipython-input-2-2a4a68363179>:40: FutureWarning: Indexing a timezone-aware DatetimeIndex with a timezone-naive datetime is deprecated and will raise KeyError in a future version. Use a timezone-aware object instead.\n",
      "  m1 = info.truncate(before=pd.Timestamp('today') - pd.DateOffset(months=1))\n"
     ]
    },
    {
     "name": "stdout",
     "output_type": "stream",
     "text": [
      "1.5908231735229492\n"
     ]
    },
    {
     "name": "stderr",
     "output_type": "stream",
     "text": [
      "<ipython-input-2-2a4a68363179>:37: FutureWarning: Indexing a timezone-aware DatetimeIndex with a timezone-naive datetime is deprecated and will raise KeyError in a future version. Use a timezone-aware object instead.\n",
      "  y = info.truncate(before=pd.Timestamp('today') - pd.DateOffset(months=12))\n",
      "<ipython-input-2-2a4a68363179>:38: FutureWarning: Indexing a timezone-aware DatetimeIndex with a timezone-naive datetime is deprecated and will raise KeyError in a future version. Use a timezone-aware object instead.\n",
      "  m6 = info.truncate(before=pd.Timestamp('today') - pd.DateOffset(months=6))\n",
      "<ipython-input-2-2a4a68363179>:39: FutureWarning: Indexing a timezone-aware DatetimeIndex with a timezone-naive datetime is deprecated and will raise KeyError in a future version. Use a timezone-aware object instead.\n",
      "  m3 = info.truncate(before=pd.Timestamp('today') - pd.DateOffset(months=3))\n",
      "<ipython-input-2-2a4a68363179>:40: FutureWarning: Indexing a timezone-aware DatetimeIndex with a timezone-naive datetime is deprecated and will raise KeyError in a future version. Use a timezone-aware object instead.\n",
      "  m1 = info.truncate(before=pd.Timestamp('today') - pd.DateOffset(months=1))\n"
     ]
    },
    {
     "name": "stdout",
     "output_type": "stream",
     "text": [
      "0.6784226894378662\n"
     ]
    },
    {
     "name": "stderr",
     "output_type": "stream",
     "text": [
      "<ipython-input-2-2a4a68363179>:37: FutureWarning: Indexing a timezone-aware DatetimeIndex with a timezone-naive datetime is deprecated and will raise KeyError in a future version. Use a timezone-aware object instead.\n",
      "  y = info.truncate(before=pd.Timestamp('today') - pd.DateOffset(months=12))\n",
      "<ipython-input-2-2a4a68363179>:38: FutureWarning: Indexing a timezone-aware DatetimeIndex with a timezone-naive datetime is deprecated and will raise KeyError in a future version. Use a timezone-aware object instead.\n",
      "  m6 = info.truncate(before=pd.Timestamp('today') - pd.DateOffset(months=6))\n",
      "<ipython-input-2-2a4a68363179>:39: FutureWarning: Indexing a timezone-aware DatetimeIndex with a timezone-naive datetime is deprecated and will raise KeyError in a future version. Use a timezone-aware object instead.\n",
      "  m3 = info.truncate(before=pd.Timestamp('today') - pd.DateOffset(months=3))\n",
      "<ipython-input-2-2a4a68363179>:40: FutureWarning: Indexing a timezone-aware DatetimeIndex with a timezone-naive datetime is deprecated and will raise KeyError in a future version. Use a timezone-aware object instead.\n",
      "  m1 = info.truncate(before=pd.Timestamp('today') - pd.DateOffset(months=1))\n",
      "C:\\Users\\Kamen\\AppData\\Local\\Programs\\Python\\Python38\\lib\\site-packages\\numpy\\core\\_methods.py:262: RuntimeWarning: Degrees of freedom <= 0 for slice\n",
      "  ret = _var(a, axis=axis, dtype=dtype, out=out, ddof=ddof,\n",
      "C:\\Users\\Kamen\\AppData\\Local\\Programs\\Python\\Python38\\lib\\site-packages\\numpy\\core\\_methods.py:222: RuntimeWarning: invalid value encountered in true_divide\n",
      "  arrmean = um.true_divide(arrmean, div, out=arrmean, casting='unsafe',\n",
      "C:\\Users\\Kamen\\AppData\\Local\\Programs\\Python\\Python38\\lib\\site-packages\\numpy\\core\\_methods.py:254: RuntimeWarning: invalid value encountered in double_scalars\n",
      "  ret = ret.dtype.type(ret / rcount)\n",
      "<ipython-input-2-2a4a68363179>:11: RuntimeWarning: divide by zero encountered in log\n",
      "  reg = np.polyfit(np.log(lags), np.log(tau), 1)\n"
     ]
    },
    {
     "name": "stdout",
     "output_type": "stream",
     "text": [
      "0.6589970588684082\n"
     ]
    },
    {
     "name": "stderr",
     "output_type": "stream",
     "text": [
      "<ipython-input-2-2a4a68363179>:37: FutureWarning: Indexing a timezone-aware DatetimeIndex with a timezone-naive datetime is deprecated and will raise KeyError in a future version. Use a timezone-aware object instead.\n",
      "  y = info.truncate(before=pd.Timestamp('today') - pd.DateOffset(months=12))\n",
      "<ipython-input-2-2a4a68363179>:38: FutureWarning: Indexing a timezone-aware DatetimeIndex with a timezone-naive datetime is deprecated and will raise KeyError in a future version. Use a timezone-aware object instead.\n",
      "  m6 = info.truncate(before=pd.Timestamp('today') - pd.DateOffset(months=6))\n",
      "<ipython-input-2-2a4a68363179>:39: FutureWarning: Indexing a timezone-aware DatetimeIndex with a timezone-naive datetime is deprecated and will raise KeyError in a future version. Use a timezone-aware object instead.\n",
      "  m3 = info.truncate(before=pd.Timestamp('today') - pd.DateOffset(months=3))\n",
      "<ipython-input-2-2a4a68363179>:40: FutureWarning: Indexing a timezone-aware DatetimeIndex with a timezone-naive datetime is deprecated and will raise KeyError in a future version. Use a timezone-aware object instead.\n",
      "  m1 = info.truncate(before=pd.Timestamp('today') - pd.DateOffset(months=1))\n"
     ]
    },
    {
     "name": "stdout",
     "output_type": "stream",
     "text": [
      "1.2196295261383057\n"
     ]
    },
    {
     "name": "stderr",
     "output_type": "stream",
     "text": [
      "<ipython-input-2-2a4a68363179>:37: FutureWarning: Indexing a timezone-aware DatetimeIndex with a timezone-naive datetime is deprecated and will raise KeyError in a future version. Use a timezone-aware object instead.\n",
      "  y = info.truncate(before=pd.Timestamp('today') - pd.DateOffset(months=12))\n",
      "<ipython-input-2-2a4a68363179>:38: FutureWarning: Indexing a timezone-aware DatetimeIndex with a timezone-naive datetime is deprecated and will raise KeyError in a future version. Use a timezone-aware object instead.\n",
      "  m6 = info.truncate(before=pd.Timestamp('today') - pd.DateOffset(months=6))\n",
      "<ipython-input-2-2a4a68363179>:39: FutureWarning: Indexing a timezone-aware DatetimeIndex with a timezone-naive datetime is deprecated and will raise KeyError in a future version. Use a timezone-aware object instead.\n",
      "  m3 = info.truncate(before=pd.Timestamp('today') - pd.DateOffset(months=3))\n",
      "<ipython-input-2-2a4a68363179>:40: FutureWarning: Indexing a timezone-aware DatetimeIndex with a timezone-naive datetime is deprecated and will raise KeyError in a future version. Use a timezone-aware object instead.\n",
      "  m1 = info.truncate(before=pd.Timestamp('today') - pd.DateOffset(months=1))\n",
      "C:\\Users\\Kamen\\AppData\\Local\\Programs\\Python\\Python38\\lib\\site-packages\\numpy\\core\\_methods.py:262: RuntimeWarning: Degrees of freedom <= 0 for slice\n",
      "  ret = _var(a, axis=axis, dtype=dtype, out=out, ddof=ddof,\n",
      "C:\\Users\\Kamen\\AppData\\Local\\Programs\\Python\\Python38\\lib\\site-packages\\numpy\\core\\_methods.py:222: RuntimeWarning: invalid value encountered in true_divide\n",
      "  arrmean = um.true_divide(arrmean, div, out=arrmean, casting='unsafe',\n",
      "C:\\Users\\Kamen\\AppData\\Local\\Programs\\Python\\Python38\\lib\\site-packages\\numpy\\core\\_methods.py:254: RuntimeWarning: invalid value encountered in double_scalars\n",
      "  ret = ret.dtype.type(ret / rcount)\n",
      "<ipython-input-2-2a4a68363179>:11: RuntimeWarning: divide by zero encountered in log\n",
      "  reg = np.polyfit(np.log(lags), np.log(tau), 1)\n"
     ]
    },
    {
     "name": "stdout",
     "output_type": "stream",
     "text": [
      "0.5077109336853027\n"
     ]
    },
    {
     "name": "stderr",
     "output_type": "stream",
     "text": [
      "<ipython-input-2-2a4a68363179>:37: FutureWarning: Indexing a timezone-aware DatetimeIndex with a timezone-naive datetime is deprecated and will raise KeyError in a future version. Use a timezone-aware object instead.\n",
      "  y = info.truncate(before=pd.Timestamp('today') - pd.DateOffset(months=12))\n",
      "<ipython-input-2-2a4a68363179>:38: FutureWarning: Indexing a timezone-aware DatetimeIndex with a timezone-naive datetime is deprecated and will raise KeyError in a future version. Use a timezone-aware object instead.\n",
      "  m6 = info.truncate(before=pd.Timestamp('today') - pd.DateOffset(months=6))\n",
      "<ipython-input-2-2a4a68363179>:39: FutureWarning: Indexing a timezone-aware DatetimeIndex with a timezone-naive datetime is deprecated and will raise KeyError in a future version. Use a timezone-aware object instead.\n",
      "  m3 = info.truncate(before=pd.Timestamp('today') - pd.DateOffset(months=3))\n",
      "<ipython-input-2-2a4a68363179>:40: FutureWarning: Indexing a timezone-aware DatetimeIndex with a timezone-naive datetime is deprecated and will raise KeyError in a future version. Use a timezone-aware object instead.\n",
      "  m1 = info.truncate(before=pd.Timestamp('today') - pd.DateOffset(months=1))\n"
     ]
    },
    {
     "name": "stdout",
     "output_type": "stream",
     "text": [
      "0.8828518390655518\n"
     ]
    },
    {
     "name": "stderr",
     "output_type": "stream",
     "text": [
      "<ipython-input-2-2a4a68363179>:37: FutureWarning: Indexing a timezone-aware DatetimeIndex with a timezone-naive datetime is deprecated and will raise KeyError in a future version. Use a timezone-aware object instead.\n",
      "  y = info.truncate(before=pd.Timestamp('today') - pd.DateOffset(months=12))\n",
      "<ipython-input-2-2a4a68363179>:38: FutureWarning: Indexing a timezone-aware DatetimeIndex with a timezone-naive datetime is deprecated and will raise KeyError in a future version. Use a timezone-aware object instead.\n",
      "  m6 = info.truncate(before=pd.Timestamp('today') - pd.DateOffset(months=6))\n",
      "<ipython-input-2-2a4a68363179>:39: FutureWarning: Indexing a timezone-aware DatetimeIndex with a timezone-naive datetime is deprecated and will raise KeyError in a future version. Use a timezone-aware object instead.\n",
      "  m3 = info.truncate(before=pd.Timestamp('today') - pd.DateOffset(months=3))\n",
      "<ipython-input-2-2a4a68363179>:40: FutureWarning: Indexing a timezone-aware DatetimeIndex with a timezone-naive datetime is deprecated and will raise KeyError in a future version. Use a timezone-aware object instead.\n",
      "  m1 = info.truncate(before=pd.Timestamp('today') - pd.DateOffset(months=1))\n"
     ]
    },
    {
     "name": "stdout",
     "output_type": "stream",
     "text": [
      "1.4314730167388916\n"
     ]
    },
    {
     "name": "stderr",
     "output_type": "stream",
     "text": [
      "<ipython-input-2-2a4a68363179>:37: FutureWarning: Indexing a timezone-aware DatetimeIndex with a timezone-naive datetime is deprecated and will raise KeyError in a future version. Use a timezone-aware object instead.\n",
      "  y = info.truncate(before=pd.Timestamp('today') - pd.DateOffset(months=12))\n",
      "<ipython-input-2-2a4a68363179>:38: FutureWarning: Indexing a timezone-aware DatetimeIndex with a timezone-naive datetime is deprecated and will raise KeyError in a future version. Use a timezone-aware object instead.\n",
      "  m6 = info.truncate(before=pd.Timestamp('today') - pd.DateOffset(months=6))\n",
      "<ipython-input-2-2a4a68363179>:39: FutureWarning: Indexing a timezone-aware DatetimeIndex with a timezone-naive datetime is deprecated and will raise KeyError in a future version. Use a timezone-aware object instead.\n",
      "  m3 = info.truncate(before=pd.Timestamp('today') - pd.DateOffset(months=3))\n",
      "<ipython-input-2-2a4a68363179>:40: FutureWarning: Indexing a timezone-aware DatetimeIndex with a timezone-naive datetime is deprecated and will raise KeyError in a future version. Use a timezone-aware object instead.\n",
      "  m1 = info.truncate(before=pd.Timestamp('today') - pd.DateOffset(months=1))\n"
     ]
    },
    {
     "name": "stdout",
     "output_type": "stream",
     "text": [
      "0.7288799285888672\n"
     ]
    },
    {
     "name": "stderr",
     "output_type": "stream",
     "text": [
      "<ipython-input-2-2a4a68363179>:37: FutureWarning: Indexing a timezone-aware DatetimeIndex with a timezone-naive datetime is deprecated and will raise KeyError in a future version. Use a timezone-aware object instead.\n",
      "  y = info.truncate(before=pd.Timestamp('today') - pd.DateOffset(months=12))\n",
      "<ipython-input-2-2a4a68363179>:38: FutureWarning: Indexing a timezone-aware DatetimeIndex with a timezone-naive datetime is deprecated and will raise KeyError in a future version. Use a timezone-aware object instead.\n",
      "  m6 = info.truncate(before=pd.Timestamp('today') - pd.DateOffset(months=6))\n",
      "<ipython-input-2-2a4a68363179>:39: FutureWarning: Indexing a timezone-aware DatetimeIndex with a timezone-naive datetime is deprecated and will raise KeyError in a future version. Use a timezone-aware object instead.\n",
      "  m3 = info.truncate(before=pd.Timestamp('today') - pd.DateOffset(months=3))\n",
      "<ipython-input-2-2a4a68363179>:40: FutureWarning: Indexing a timezone-aware DatetimeIndex with a timezone-naive datetime is deprecated and will raise KeyError in a future version. Use a timezone-aware object instead.\n",
      "  m1 = info.truncate(before=pd.Timestamp('today') - pd.DateOffset(months=1))\n"
     ]
    },
    {
     "name": "stdout",
     "output_type": "stream",
     "text": [
      "0.903677225112915\n"
     ]
    },
    {
     "name": "stderr",
     "output_type": "stream",
     "text": [
      "<ipython-input-2-2a4a68363179>:37: FutureWarning: Indexing a timezone-aware DatetimeIndex with a timezone-naive datetime is deprecated and will raise KeyError in a future version. Use a timezone-aware object instead.\n",
      "  y = info.truncate(before=pd.Timestamp('today') - pd.DateOffset(months=12))\n",
      "<ipython-input-2-2a4a68363179>:38: FutureWarning: Indexing a timezone-aware DatetimeIndex with a timezone-naive datetime is deprecated and will raise KeyError in a future version. Use a timezone-aware object instead.\n",
      "  m6 = info.truncate(before=pd.Timestamp('today') - pd.DateOffset(months=6))\n",
      "<ipython-input-2-2a4a68363179>:39: FutureWarning: Indexing a timezone-aware DatetimeIndex with a timezone-naive datetime is deprecated and will raise KeyError in a future version. Use a timezone-aware object instead.\n",
      "  m3 = info.truncate(before=pd.Timestamp('today') - pd.DateOffset(months=3))\n",
      "<ipython-input-2-2a4a68363179>:40: FutureWarning: Indexing a timezone-aware DatetimeIndex with a timezone-naive datetime is deprecated and will raise KeyError in a future version. Use a timezone-aware object instead.\n",
      "  m1 = info.truncate(before=pd.Timestamp('today') - pd.DateOffset(months=1))\n"
     ]
    },
    {
     "name": "stdout",
     "output_type": "stream",
     "text": [
      "Index Error when producing momentum table\n"
     ]
    },
    {
     "name": "stderr",
     "output_type": "stream",
     "text": [
      "<ipython-input-2-2a4a68363179>:37: FutureWarning: Indexing a timezone-aware DatetimeIndex with a timezone-naive datetime is deprecated and will raise KeyError in a future version. Use a timezone-aware object instead.\n",
      "  y = info.truncate(before=pd.Timestamp('today') - pd.DateOffset(months=12))\n",
      "<ipython-input-2-2a4a68363179>:38: FutureWarning: Indexing a timezone-aware DatetimeIndex with a timezone-naive datetime is deprecated and will raise KeyError in a future version. Use a timezone-aware object instead.\n",
      "  m6 = info.truncate(before=pd.Timestamp('today') - pd.DateOffset(months=6))\n",
      "<ipython-input-2-2a4a68363179>:39: FutureWarning: Indexing a timezone-aware DatetimeIndex with a timezone-naive datetime is deprecated and will raise KeyError in a future version. Use a timezone-aware object instead.\n",
      "  m3 = info.truncate(before=pd.Timestamp('today') - pd.DateOffset(months=3))\n",
      "<ipython-input-2-2a4a68363179>:40: FutureWarning: Indexing a timezone-aware DatetimeIndex with a timezone-naive datetime is deprecated and will raise KeyError in a future version. Use a timezone-aware object instead.\n",
      "  m1 = info.truncate(before=pd.Timestamp('today') - pd.DateOffset(months=1))\n"
     ]
    },
    {
     "name": "stdout",
     "output_type": "stream",
     "text": [
      "1.1120669841766357\n"
     ]
    },
    {
     "name": "stderr",
     "output_type": "stream",
     "text": [
      "<ipython-input-2-2a4a68363179>:37: FutureWarning: Indexing a timezone-aware DatetimeIndex with a timezone-naive datetime is deprecated and will raise KeyError in a future version. Use a timezone-aware object instead.\n",
      "  y = info.truncate(before=pd.Timestamp('today') - pd.DateOffset(months=12))\n",
      "<ipython-input-2-2a4a68363179>:38: FutureWarning: Indexing a timezone-aware DatetimeIndex with a timezone-naive datetime is deprecated and will raise KeyError in a future version. Use a timezone-aware object instead.\n",
      "  m6 = info.truncate(before=pd.Timestamp('today') - pd.DateOffset(months=6))\n",
      "<ipython-input-2-2a4a68363179>:39: FutureWarning: Indexing a timezone-aware DatetimeIndex with a timezone-naive datetime is deprecated and will raise KeyError in a future version. Use a timezone-aware object instead.\n",
      "  m3 = info.truncate(before=pd.Timestamp('today') - pd.DateOffset(months=3))\n",
      "<ipython-input-2-2a4a68363179>:40: FutureWarning: Indexing a timezone-aware DatetimeIndex with a timezone-naive datetime is deprecated and will raise KeyError in a future version. Use a timezone-aware object instead.\n",
      "  m1 = info.truncate(before=pd.Timestamp('today') - pd.DateOffset(months=1))\n"
     ]
    },
    {
     "name": "stdout",
     "output_type": "stream",
     "text": [
      "Index Error when producing momentum table\n"
     ]
    },
    {
     "name": "stderr",
     "output_type": "stream",
     "text": [
      "<ipython-input-2-2a4a68363179>:37: FutureWarning: Indexing a timezone-aware DatetimeIndex with a timezone-naive datetime is deprecated and will raise KeyError in a future version. Use a timezone-aware object instead.\n",
      "  y = info.truncate(before=pd.Timestamp('today') - pd.DateOffset(months=12))\n",
      "<ipython-input-2-2a4a68363179>:38: FutureWarning: Indexing a timezone-aware DatetimeIndex with a timezone-naive datetime is deprecated and will raise KeyError in a future version. Use a timezone-aware object instead.\n",
      "  m6 = info.truncate(before=pd.Timestamp('today') - pd.DateOffset(months=6))\n",
      "<ipython-input-2-2a4a68363179>:39: FutureWarning: Indexing a timezone-aware DatetimeIndex with a timezone-naive datetime is deprecated and will raise KeyError in a future version. Use a timezone-aware object instead.\n",
      "  m3 = info.truncate(before=pd.Timestamp('today') - pd.DateOffset(months=3))\n",
      "<ipython-input-2-2a4a68363179>:40: FutureWarning: Indexing a timezone-aware DatetimeIndex with a timezone-naive datetime is deprecated and will raise KeyError in a future version. Use a timezone-aware object instead.\n",
      "  m1 = info.truncate(before=pd.Timestamp('today') - pd.DateOffset(months=1))\n"
     ]
    },
    {
     "name": "stdout",
     "output_type": "stream",
     "text": [
      "1.4822797775268555\n"
     ]
    },
    {
     "name": "stderr",
     "output_type": "stream",
     "text": [
      "<ipython-input-2-2a4a68363179>:37: FutureWarning: Indexing a timezone-aware DatetimeIndex with a timezone-naive datetime is deprecated and will raise KeyError in a future version. Use a timezone-aware object instead.\n",
      "  y = info.truncate(before=pd.Timestamp('today') - pd.DateOffset(months=12))\n",
      "<ipython-input-2-2a4a68363179>:38: FutureWarning: Indexing a timezone-aware DatetimeIndex with a timezone-naive datetime is deprecated and will raise KeyError in a future version. Use a timezone-aware object instead.\n",
      "  m6 = info.truncate(before=pd.Timestamp('today') - pd.DateOffset(months=6))\n",
      "<ipython-input-2-2a4a68363179>:39: FutureWarning: Indexing a timezone-aware DatetimeIndex with a timezone-naive datetime is deprecated and will raise KeyError in a future version. Use a timezone-aware object instead.\n",
      "  m3 = info.truncate(before=pd.Timestamp('today') - pd.DateOffset(months=3))\n",
      "<ipython-input-2-2a4a68363179>:40: FutureWarning: Indexing a timezone-aware DatetimeIndex with a timezone-naive datetime is deprecated and will raise KeyError in a future version. Use a timezone-aware object instead.\n",
      "  m1 = info.truncate(before=pd.Timestamp('today') - pd.DateOffset(months=1))\n"
     ]
    },
    {
     "name": "stdout",
     "output_type": "stream",
     "text": [
      "1.2917256355285645\n"
     ]
    },
    {
     "name": "stderr",
     "output_type": "stream",
     "text": [
      "<ipython-input-2-2a4a68363179>:37: FutureWarning: Indexing a timezone-aware DatetimeIndex with a timezone-naive datetime is deprecated and will raise KeyError in a future version. Use a timezone-aware object instead.\n",
      "  y = info.truncate(before=pd.Timestamp('today') - pd.DateOffset(months=12))\n",
      "<ipython-input-2-2a4a68363179>:38: FutureWarning: Indexing a timezone-aware DatetimeIndex with a timezone-naive datetime is deprecated and will raise KeyError in a future version. Use a timezone-aware object instead.\n",
      "  m6 = info.truncate(before=pd.Timestamp('today') - pd.DateOffset(months=6))\n",
      "<ipython-input-2-2a4a68363179>:39: FutureWarning: Indexing a timezone-aware DatetimeIndex with a timezone-naive datetime is deprecated and will raise KeyError in a future version. Use a timezone-aware object instead.\n",
      "  m3 = info.truncate(before=pd.Timestamp('today') - pd.DateOffset(months=3))\n",
      "<ipython-input-2-2a4a68363179>:40: FutureWarning: Indexing a timezone-aware DatetimeIndex with a timezone-naive datetime is deprecated and will raise KeyError in a future version. Use a timezone-aware object instead.\n",
      "  m1 = info.truncate(before=pd.Timestamp('today') - pd.DateOffset(months=1))\n"
     ]
    },
    {
     "name": "stdout",
     "output_type": "stream",
     "text": [
      "0.9169034957885742\n"
     ]
    },
    {
     "name": "stderr",
     "output_type": "stream",
     "text": [
      "<ipython-input-2-2a4a68363179>:37: FutureWarning: Indexing a timezone-aware DatetimeIndex with a timezone-naive datetime is deprecated and will raise KeyError in a future version. Use a timezone-aware object instead.\n",
      "  y = info.truncate(before=pd.Timestamp('today') - pd.DateOffset(months=12))\n",
      "<ipython-input-2-2a4a68363179>:38: FutureWarning: Indexing a timezone-aware DatetimeIndex with a timezone-naive datetime is deprecated and will raise KeyError in a future version. Use a timezone-aware object instead.\n",
      "  m6 = info.truncate(before=pd.Timestamp('today') - pd.DateOffset(months=6))\n",
      "<ipython-input-2-2a4a68363179>:39: FutureWarning: Indexing a timezone-aware DatetimeIndex with a timezone-naive datetime is deprecated and will raise KeyError in a future version. Use a timezone-aware object instead.\n",
      "  m3 = info.truncate(before=pd.Timestamp('today') - pd.DateOffset(months=3))\n",
      "<ipython-input-2-2a4a68363179>:40: FutureWarning: Indexing a timezone-aware DatetimeIndex with a timezone-naive datetime is deprecated and will raise KeyError in a future version. Use a timezone-aware object instead.\n",
      "  m1 = info.truncate(before=pd.Timestamp('today') - pd.DateOffset(months=1))\n"
     ]
    },
    {
     "name": "stdout",
     "output_type": "stream",
     "text": [
      "0.6609513759613037\n",
      "Got error from yahoo api for ticker ATV, Error: {'code': 'Not Found', 'description': 'No data found, symbol may be delisted'}\n",
      "- ATV: No timezone found, symbol may be delisted\n",
      "Index Error when producing momentum table\n",
      "Got error from yahoo api for ticker ATU, Error: {'code': 'Not Found', 'description': 'No data found, symbol may be delisted'}\n",
      "- ATU: No timezone found, symbol may be delisted\n",
      "Index Error when producing momentum table\n"
     ]
    },
    {
     "name": "stderr",
     "output_type": "stream",
     "text": [
      "<ipython-input-2-2a4a68363179>:37: FutureWarning: Indexing a timezone-aware DatetimeIndex with a timezone-naive datetime is deprecated and will raise KeyError in a future version. Use a timezone-aware object instead.\n",
      "  y = info.truncate(before=pd.Timestamp('today') - pd.DateOffset(months=12))\n",
      "<ipython-input-2-2a4a68363179>:38: FutureWarning: Indexing a timezone-aware DatetimeIndex with a timezone-naive datetime is deprecated and will raise KeyError in a future version. Use a timezone-aware object instead.\n",
      "  m6 = info.truncate(before=pd.Timestamp('today') - pd.DateOffset(months=6))\n",
      "<ipython-input-2-2a4a68363179>:39: FutureWarning: Indexing a timezone-aware DatetimeIndex with a timezone-naive datetime is deprecated and will raise KeyError in a future version. Use a timezone-aware object instead.\n",
      "  m3 = info.truncate(before=pd.Timestamp('today') - pd.DateOffset(months=3))\n",
      "<ipython-input-2-2a4a68363179>:40: FutureWarning: Indexing a timezone-aware DatetimeIndex with a timezone-naive datetime is deprecated and will raise KeyError in a future version. Use a timezone-aware object instead.\n",
      "  m1 = info.truncate(before=pd.Timestamp('today') - pd.DateOffset(months=1))\n"
     ]
    },
    {
     "name": "stdout",
     "output_type": "stream",
     "text": [
      "0.7995331287384033\n"
     ]
    },
    {
     "name": "stderr",
     "output_type": "stream",
     "text": [
      "<ipython-input-2-2a4a68363179>:37: FutureWarning: Indexing a timezone-aware DatetimeIndex with a timezone-naive datetime is deprecated and will raise KeyError in a future version. Use a timezone-aware object instead.\n",
      "  y = info.truncate(before=pd.Timestamp('today') - pd.DateOffset(months=12))\n",
      "<ipython-input-2-2a4a68363179>:38: FutureWarning: Indexing a timezone-aware DatetimeIndex with a timezone-naive datetime is deprecated and will raise KeyError in a future version. Use a timezone-aware object instead.\n",
      "  m6 = info.truncate(before=pd.Timestamp('today') - pd.DateOffset(months=6))\n",
      "<ipython-input-2-2a4a68363179>:39: FutureWarning: Indexing a timezone-aware DatetimeIndex with a timezone-naive datetime is deprecated and will raise KeyError in a future version. Use a timezone-aware object instead.\n",
      "  m3 = info.truncate(before=pd.Timestamp('today') - pd.DateOffset(months=3))\n",
      "<ipython-input-2-2a4a68363179>:40: FutureWarning: Indexing a timezone-aware DatetimeIndex with a timezone-naive datetime is deprecated and will raise KeyError in a future version. Use a timezone-aware object instead.\n",
      "  m1 = info.truncate(before=pd.Timestamp('today') - pd.DateOffset(months=1))\n"
     ]
    },
    {
     "name": "stdout",
     "output_type": "stream",
     "text": [
      "0.803499698638916\n"
     ]
    },
    {
     "name": "stderr",
     "output_type": "stream",
     "text": [
      "<ipython-input-2-2a4a68363179>:37: FutureWarning: Indexing a timezone-aware DatetimeIndex with a timezone-naive datetime is deprecated and will raise KeyError in a future version. Use a timezone-aware object instead.\n",
      "  y = info.truncate(before=pd.Timestamp('today') - pd.DateOffset(months=12))\n",
      "<ipython-input-2-2a4a68363179>:38: FutureWarning: Indexing a timezone-aware DatetimeIndex with a timezone-naive datetime is deprecated and will raise KeyError in a future version. Use a timezone-aware object instead.\n",
      "  m6 = info.truncate(before=pd.Timestamp('today') - pd.DateOffset(months=6))\n",
      "<ipython-input-2-2a4a68363179>:39: FutureWarning: Indexing a timezone-aware DatetimeIndex with a timezone-naive datetime is deprecated and will raise KeyError in a future version. Use a timezone-aware object instead.\n",
      "  m3 = info.truncate(before=pd.Timestamp('today') - pd.DateOffset(months=3))\n",
      "<ipython-input-2-2a4a68363179>:40: FutureWarning: Indexing a timezone-aware DatetimeIndex with a timezone-naive datetime is deprecated and will raise KeyError in a future version. Use a timezone-aware object instead.\n",
      "  m1 = info.truncate(before=pd.Timestamp('today') - pd.DateOffset(months=1))\n"
     ]
    },
    {
     "name": "stdout",
     "output_type": "stream",
     "text": [
      "1.2879037857055664\n"
     ]
    },
    {
     "name": "stderr",
     "output_type": "stream",
     "text": [
      "<ipython-input-2-2a4a68363179>:37: FutureWarning: Indexing a timezone-aware DatetimeIndex with a timezone-naive datetime is deprecated and will raise KeyError in a future version. Use a timezone-aware object instead.\n",
      "  y = info.truncate(before=pd.Timestamp('today') - pd.DateOffset(months=12))\n",
      "<ipython-input-2-2a4a68363179>:38: FutureWarning: Indexing a timezone-aware DatetimeIndex with a timezone-naive datetime is deprecated and will raise KeyError in a future version. Use a timezone-aware object instead.\n",
      "  m6 = info.truncate(before=pd.Timestamp('today') - pd.DateOffset(months=6))\n",
      "<ipython-input-2-2a4a68363179>:39: FutureWarning: Indexing a timezone-aware DatetimeIndex with a timezone-naive datetime is deprecated and will raise KeyError in a future version. Use a timezone-aware object instead.\n",
      "  m3 = info.truncate(before=pd.Timestamp('today') - pd.DateOffset(months=3))\n",
      "<ipython-input-2-2a4a68363179>:40: FutureWarning: Indexing a timezone-aware DatetimeIndex with a timezone-naive datetime is deprecated and will raise KeyError in a future version. Use a timezone-aware object instead.\n",
      "  m1 = info.truncate(before=pd.Timestamp('today') - pd.DateOffset(months=1))\n"
     ]
    },
    {
     "name": "stdout",
     "output_type": "stream",
     "text": [
      "0.9459719657897949\n"
     ]
    },
    {
     "name": "stderr",
     "output_type": "stream",
     "text": [
      "<ipython-input-2-2a4a68363179>:37: FutureWarning: Indexing a timezone-aware DatetimeIndex with a timezone-naive datetime is deprecated and will raise KeyError in a future version. Use a timezone-aware object instead.\n",
      "  y = info.truncate(before=pd.Timestamp('today') - pd.DateOffset(months=12))\n",
      "<ipython-input-2-2a4a68363179>:38: FutureWarning: Indexing a timezone-aware DatetimeIndex with a timezone-naive datetime is deprecated and will raise KeyError in a future version. Use a timezone-aware object instead.\n",
      "  m6 = info.truncate(before=pd.Timestamp('today') - pd.DateOffset(months=6))\n",
      "<ipython-input-2-2a4a68363179>:39: FutureWarning: Indexing a timezone-aware DatetimeIndex with a timezone-naive datetime is deprecated and will raise KeyError in a future version. Use a timezone-aware object instead.\n",
      "  m3 = info.truncate(before=pd.Timestamp('today') - pd.DateOffset(months=3))\n",
      "<ipython-input-2-2a4a68363179>:40: FutureWarning: Indexing a timezone-aware DatetimeIndex with a timezone-naive datetime is deprecated and will raise KeyError in a future version. Use a timezone-aware object instead.\n",
      "  m1 = info.truncate(before=pd.Timestamp('today') - pd.DateOffset(months=1))\n",
      "C:\\Users\\Kamen\\AppData\\Local\\Programs\\Python\\Python38\\lib\\site-packages\\numpy\\core\\_methods.py:262: RuntimeWarning: Degrees of freedom <= 0 for slice\n",
      "  ret = _var(a, axis=axis, dtype=dtype, out=out, ddof=ddof,\n",
      "C:\\Users\\Kamen\\AppData\\Local\\Programs\\Python\\Python38\\lib\\site-packages\\numpy\\core\\_methods.py:222: RuntimeWarning: invalid value encountered in true_divide\n",
      "  arrmean = um.true_divide(arrmean, div, out=arrmean, casting='unsafe',\n",
      "C:\\Users\\Kamen\\AppData\\Local\\Programs\\Python\\Python38\\lib\\site-packages\\numpy\\core\\_methods.py:254: RuntimeWarning: invalid value encountered in double_scalars\n",
      "  ret = ret.dtype.type(ret / rcount)\n",
      "<ipython-input-2-2a4a68363179>:11: RuntimeWarning: divide by zero encountered in log\n",
      "  reg = np.polyfit(np.log(lags), np.log(tau), 1)\n"
     ]
    },
    {
     "name": "stdout",
     "output_type": "stream",
     "text": [
      "0.6088685989379883\n"
     ]
    },
    {
     "name": "stderr",
     "output_type": "stream",
     "text": [
      "<ipython-input-2-2a4a68363179>:37: FutureWarning: Indexing a timezone-aware DatetimeIndex with a timezone-naive datetime is deprecated and will raise KeyError in a future version. Use a timezone-aware object instead.\n",
      "  y = info.truncate(before=pd.Timestamp('today') - pd.DateOffset(months=12))\n",
      "<ipython-input-2-2a4a68363179>:38: FutureWarning: Indexing a timezone-aware DatetimeIndex with a timezone-naive datetime is deprecated and will raise KeyError in a future version. Use a timezone-aware object instead.\n",
      "  m6 = info.truncate(before=pd.Timestamp('today') - pd.DateOffset(months=6))\n",
      "<ipython-input-2-2a4a68363179>:39: FutureWarning: Indexing a timezone-aware DatetimeIndex with a timezone-naive datetime is deprecated and will raise KeyError in a future version. Use a timezone-aware object instead.\n",
      "  m3 = info.truncate(before=pd.Timestamp('today') - pd.DateOffset(months=3))\n",
      "<ipython-input-2-2a4a68363179>:40: FutureWarning: Indexing a timezone-aware DatetimeIndex with a timezone-naive datetime is deprecated and will raise KeyError in a future version. Use a timezone-aware object instead.\n",
      "  m1 = info.truncate(before=pd.Timestamp('today') - pd.DateOffset(months=1))\n"
     ]
    },
    {
     "name": "stdout",
     "output_type": "stream",
     "text": [
      "0.7911171913146973\n"
     ]
    },
    {
     "name": "stderr",
     "output_type": "stream",
     "text": [
      "<ipython-input-2-2a4a68363179>:37: FutureWarning: Indexing a timezone-aware DatetimeIndex with a timezone-naive datetime is deprecated and will raise KeyError in a future version. Use a timezone-aware object instead.\n",
      "  y = info.truncate(before=pd.Timestamp('today') - pd.DateOffset(months=12))\n",
      "<ipython-input-2-2a4a68363179>:38: FutureWarning: Indexing a timezone-aware DatetimeIndex with a timezone-naive datetime is deprecated and will raise KeyError in a future version. Use a timezone-aware object instead.\n",
      "  m6 = info.truncate(before=pd.Timestamp('today') - pd.DateOffset(months=6))\n",
      "<ipython-input-2-2a4a68363179>:39: FutureWarning: Indexing a timezone-aware DatetimeIndex with a timezone-naive datetime is deprecated and will raise KeyError in a future version. Use a timezone-aware object instead.\n",
      "  m3 = info.truncate(before=pd.Timestamp('today') - pd.DateOffset(months=3))\n",
      "<ipython-input-2-2a4a68363179>:40: FutureWarning: Indexing a timezone-aware DatetimeIndex with a timezone-naive datetime is deprecated and will raise KeyError in a future version. Use a timezone-aware object instead.\n",
      "  m1 = info.truncate(before=pd.Timestamp('today') - pd.DateOffset(months=1))\n"
     ]
    },
    {
     "name": "stdout",
     "output_type": "stream",
     "text": [
      "1.1881635189056396\n",
      "Got error from yahoo api for ticker ADSW, Error: {'code': 'Not Found', 'description': 'No data found, symbol may be delisted'}\n",
      "- ADSW: No timezone found, symbol may be delisted\n",
      "Index Error when producing momentum table\n"
     ]
    },
    {
     "name": "stderr",
     "output_type": "stream",
     "text": [
      "<ipython-input-2-2a4a68363179>:37: FutureWarning: Indexing a timezone-aware DatetimeIndex with a timezone-naive datetime is deprecated and will raise KeyError in a future version. Use a timezone-aware object instead.\n",
      "  y = info.truncate(before=pd.Timestamp('today') - pd.DateOffset(months=12))\n",
      "<ipython-input-2-2a4a68363179>:38: FutureWarning: Indexing a timezone-aware DatetimeIndex with a timezone-naive datetime is deprecated and will raise KeyError in a future version. Use a timezone-aware object instead.\n",
      "  m6 = info.truncate(before=pd.Timestamp('today') - pd.DateOffset(months=6))\n",
      "<ipython-input-2-2a4a68363179>:39: FutureWarning: Indexing a timezone-aware DatetimeIndex with a timezone-naive datetime is deprecated and will raise KeyError in a future version. Use a timezone-aware object instead.\n",
      "  m3 = info.truncate(before=pd.Timestamp('today') - pd.DateOffset(months=3))\n",
      "<ipython-input-2-2a4a68363179>:40: FutureWarning: Indexing a timezone-aware DatetimeIndex with a timezone-naive datetime is deprecated and will raise KeyError in a future version. Use a timezone-aware object instead.\n",
      "  m1 = info.truncate(before=pd.Timestamp('today') - pd.DateOffset(months=1))\n"
     ]
    },
    {
     "name": "stdout",
     "output_type": "stream",
     "text": [
      "0.5541725158691406\n"
     ]
    },
    {
     "name": "stderr",
     "output_type": "stream",
     "text": [
      "<ipython-input-2-2a4a68363179>:37: FutureWarning: Indexing a timezone-aware DatetimeIndex with a timezone-naive datetime is deprecated and will raise KeyError in a future version. Use a timezone-aware object instead.\n",
      "  y = info.truncate(before=pd.Timestamp('today') - pd.DateOffset(months=12))\n",
      "<ipython-input-2-2a4a68363179>:38: FutureWarning: Indexing a timezone-aware DatetimeIndex with a timezone-naive datetime is deprecated and will raise KeyError in a future version. Use a timezone-aware object instead.\n",
      "  m6 = info.truncate(before=pd.Timestamp('today') - pd.DateOffset(months=6))\n",
      "<ipython-input-2-2a4a68363179>:39: FutureWarning: Indexing a timezone-aware DatetimeIndex with a timezone-naive datetime is deprecated and will raise KeyError in a future version. Use a timezone-aware object instead.\n",
      "  m3 = info.truncate(before=pd.Timestamp('today') - pd.DateOffset(months=3))\n",
      "<ipython-input-2-2a4a68363179>:40: FutureWarning: Indexing a timezone-aware DatetimeIndex with a timezone-naive datetime is deprecated and will raise KeyError in a future version. Use a timezone-aware object instead.\n",
      "  m1 = info.truncate(before=pd.Timestamp('today') - pd.DateOffset(months=1))\n"
     ]
    },
    {
     "name": "stdout",
     "output_type": "stream",
     "text": [
      "0.8828291893005371\n",
      "APFH: 1d data not available for startTime=-2208994789 and endTime=1673491420. Only 100 years worth of day granularity data are allowed to be fetched per request.\n",
      "Index Error when producing momentum table\n"
     ]
    },
    {
     "name": "stderr",
     "output_type": "stream",
     "text": [
      "<ipython-input-2-2a4a68363179>:37: FutureWarning: Indexing a timezone-aware DatetimeIndex with a timezone-naive datetime is deprecated and will raise KeyError in a future version. Use a timezone-aware object instead.\n",
      "  y = info.truncate(before=pd.Timestamp('today') - pd.DateOffset(months=12))\n",
      "<ipython-input-2-2a4a68363179>:38: FutureWarning: Indexing a timezone-aware DatetimeIndex with a timezone-naive datetime is deprecated and will raise KeyError in a future version. Use a timezone-aware object instead.\n",
      "  m6 = info.truncate(before=pd.Timestamp('today') - pd.DateOffset(months=6))\n",
      "<ipython-input-2-2a4a68363179>:39: FutureWarning: Indexing a timezone-aware DatetimeIndex with a timezone-naive datetime is deprecated and will raise KeyError in a future version. Use a timezone-aware object instead.\n",
      "  m3 = info.truncate(before=pd.Timestamp('today') - pd.DateOffset(months=3))\n",
      "<ipython-input-2-2a4a68363179>:40: FutureWarning: Indexing a timezone-aware DatetimeIndex with a timezone-naive datetime is deprecated and will raise KeyError in a future version. Use a timezone-aware object instead.\n",
      "  m1 = info.truncate(before=pd.Timestamp('today') - pd.DateOffset(months=1))\n"
     ]
    },
    {
     "name": "stdout",
     "output_type": "stream",
     "text": [
      "0.777379035949707\n",
      "AAV: 1d data not available for startTime=-2208994789 and endTime=1673491421. Only 100 years worth of day granularity data are allowed to be fetched per request.\n",
      "Index Error when producing momentum table\n"
     ]
    },
    {
     "name": "stderr",
     "output_type": "stream",
     "text": [
      "<ipython-input-2-2a4a68363179>:37: FutureWarning: Indexing a timezone-aware DatetimeIndex with a timezone-naive datetime is deprecated and will raise KeyError in a future version. Use a timezone-aware object instead.\n",
      "  y = info.truncate(before=pd.Timestamp('today') - pd.DateOffset(months=12))\n",
      "<ipython-input-2-2a4a68363179>:38: FutureWarning: Indexing a timezone-aware DatetimeIndex with a timezone-naive datetime is deprecated and will raise KeyError in a future version. Use a timezone-aware object instead.\n",
      "  m6 = info.truncate(before=pd.Timestamp('today') - pd.DateOffset(months=6))\n",
      "<ipython-input-2-2a4a68363179>:39: FutureWarning: Indexing a timezone-aware DatetimeIndex with a timezone-naive datetime is deprecated and will raise KeyError in a future version. Use a timezone-aware object instead.\n",
      "  m3 = info.truncate(before=pd.Timestamp('today') - pd.DateOffset(months=3))\n",
      "<ipython-input-2-2a4a68363179>:40: FutureWarning: Indexing a timezone-aware DatetimeIndex with a timezone-naive datetime is deprecated and will raise KeyError in a future version. Use a timezone-aware object instead.\n",
      "  m1 = info.truncate(before=pd.Timestamp('today') - pd.DateOffset(months=1))\n"
     ]
    },
    {
     "name": "stdout",
     "output_type": "stream",
     "text": [
      "1.1542553901672363\n",
      "Got error from yahoo api for ticker AGC, Error: {'code': 'Not Found', 'description': 'No data found, symbol may be delisted'}\n",
      "- AGC: No timezone found, symbol may be delisted\n",
      "Index Error when producing momentum table\n"
     ]
    },
    {
     "name": "stderr",
     "output_type": "stream",
     "text": [
      "<ipython-input-2-2a4a68363179>:37: FutureWarning: Indexing a timezone-aware DatetimeIndex with a timezone-naive datetime is deprecated and will raise KeyError in a future version. Use a timezone-aware object instead.\n",
      "  y = info.truncate(before=pd.Timestamp('today') - pd.DateOffset(months=12))\n",
      "<ipython-input-2-2a4a68363179>:38: FutureWarning: Indexing a timezone-aware DatetimeIndex with a timezone-naive datetime is deprecated and will raise KeyError in a future version. Use a timezone-aware object instead.\n",
      "  m6 = info.truncate(before=pd.Timestamp('today') - pd.DateOffset(months=6))\n",
      "<ipython-input-2-2a4a68363179>:39: FutureWarning: Indexing a timezone-aware DatetimeIndex with a timezone-naive datetime is deprecated and will raise KeyError in a future version. Use a timezone-aware object instead.\n",
      "  m3 = info.truncate(before=pd.Timestamp('today') - pd.DateOffset(months=3))\n",
      "<ipython-input-2-2a4a68363179>:40: FutureWarning: Indexing a timezone-aware DatetimeIndex with a timezone-naive datetime is deprecated and will raise KeyError in a future version. Use a timezone-aware object instead.\n",
      "  m1 = info.truncate(before=pd.Timestamp('today') - pd.DateOffset(months=1))\n"
     ]
    },
    {
     "name": "stdout",
     "output_type": "stream",
     "text": [
      "Index Error when producing momentum table\n"
     ]
    },
    {
     "name": "stderr",
     "output_type": "stream",
     "text": [
      "<ipython-input-2-2a4a68363179>:37: FutureWarning: Indexing a timezone-aware DatetimeIndex with a timezone-naive datetime is deprecated and will raise KeyError in a future version. Use a timezone-aware object instead.\n",
      "  y = info.truncate(before=pd.Timestamp('today') - pd.DateOffset(months=12))\n",
      "<ipython-input-2-2a4a68363179>:38: FutureWarning: Indexing a timezone-aware DatetimeIndex with a timezone-naive datetime is deprecated and will raise KeyError in a future version. Use a timezone-aware object instead.\n",
      "  m6 = info.truncate(before=pd.Timestamp('today') - pd.DateOffset(months=6))\n",
      "<ipython-input-2-2a4a68363179>:39: FutureWarning: Indexing a timezone-aware DatetimeIndex with a timezone-naive datetime is deprecated and will raise KeyError in a future version. Use a timezone-aware object instead.\n",
      "  m3 = info.truncate(before=pd.Timestamp('today') - pd.DateOffset(months=3))\n",
      "<ipython-input-2-2a4a68363179>:40: FutureWarning: Indexing a timezone-aware DatetimeIndex with a timezone-naive datetime is deprecated and will raise KeyError in a future version. Use a timezone-aware object instead.\n",
      "  m1 = info.truncate(before=pd.Timestamp('today') - pd.DateOffset(months=1))\n"
     ]
    },
    {
     "name": "stdout",
     "output_type": "stream",
     "text": [
      "0.7018694877624512\n",
      "ANW: 1d data not available for startTime=-2208994789 and endTime=1673491424. Only 100 years worth of day granularity data are allowed to be fetched per request.\n",
      "Index Error when producing momentum table\n"
     ]
    },
    {
     "name": "stderr",
     "output_type": "stream",
     "text": [
      "<ipython-input-2-2a4a68363179>:37: FutureWarning: Indexing a timezone-aware DatetimeIndex with a timezone-naive datetime is deprecated and will raise KeyError in a future version. Use a timezone-aware object instead.\n",
      "  y = info.truncate(before=pd.Timestamp('today') - pd.DateOffset(months=12))\n",
      "<ipython-input-2-2a4a68363179>:38: FutureWarning: Indexing a timezone-aware DatetimeIndex with a timezone-naive datetime is deprecated and will raise KeyError in a future version. Use a timezone-aware object instead.\n",
      "  m6 = info.truncate(before=pd.Timestamp('today') - pd.DateOffset(months=6))\n",
      "<ipython-input-2-2a4a68363179>:39: FutureWarning: Indexing a timezone-aware DatetimeIndex with a timezone-naive datetime is deprecated and will raise KeyError in a future version. Use a timezone-aware object instead.\n",
      "  m3 = info.truncate(before=pd.Timestamp('today') - pd.DateOffset(months=3))\n",
      "<ipython-input-2-2a4a68363179>:40: FutureWarning: Indexing a timezone-aware DatetimeIndex with a timezone-naive datetime is deprecated and will raise KeyError in a future version. Use a timezone-aware object instead.\n",
      "  m1 = info.truncate(before=pd.Timestamp('today') - pd.DateOffset(months=1))\n"
     ]
    },
    {
     "name": "stdout",
     "output_type": "stream",
     "text": [
      "1.2095496654510498\n"
     ]
    },
    {
     "name": "stderr",
     "output_type": "stream",
     "text": [
      "<ipython-input-2-2a4a68363179>:37: FutureWarning: Indexing a timezone-aware DatetimeIndex with a timezone-naive datetime is deprecated and will raise KeyError in a future version. Use a timezone-aware object instead.\n",
      "  y = info.truncate(before=pd.Timestamp('today') - pd.DateOffset(months=12))\n",
      "<ipython-input-2-2a4a68363179>:38: FutureWarning: Indexing a timezone-aware DatetimeIndex with a timezone-naive datetime is deprecated and will raise KeyError in a future version. Use a timezone-aware object instead.\n",
      "  m6 = info.truncate(before=pd.Timestamp('today') - pd.DateOffset(months=6))\n",
      "<ipython-input-2-2a4a68363179>:39: FutureWarning: Indexing a timezone-aware DatetimeIndex with a timezone-naive datetime is deprecated and will raise KeyError in a future version. Use a timezone-aware object instead.\n",
      "  m3 = info.truncate(before=pd.Timestamp('today') - pd.DateOffset(months=3))\n",
      "<ipython-input-2-2a4a68363179>:40: FutureWarning: Indexing a timezone-aware DatetimeIndex with a timezone-naive datetime is deprecated and will raise KeyError in a future version. Use a timezone-aware object instead.\n",
      "  m1 = info.truncate(before=pd.Timestamp('today') - pd.DateOffset(months=1))\n"
     ]
    },
    {
     "name": "stdout",
     "output_type": "stream",
     "text": [
      "Index Error when producing momentum table\n"
     ]
    }
   ],
   "source": [
    "#calulate the Hurst exponent of a stock\n",
    "def get_hurst_exponent(time_series, max_lag):\n",
    "    \"\"\"Returns the Hurst Exponent of the time series\"\"\"\n",
    "        \n",
    "    lags = range(2, max_lag)\n",
    "\n",
    "    # variances of the lagged differences\n",
    "    tau = [np.std(np.subtract(time_series[lag:], time_series[:-lag])) for lag in lags]\n",
    "\n",
    "    # calculate the slope of the log plot -> the Hurst Exponent\n",
    "    reg = np.polyfit(np.log(lags), np.log(tau), 1)\n",
    "\n",
    "    return reg[0]\n",
    "\n",
    "#Create first table with all stock info from yfinance\n",
    "tick = pd.read_csv(\"all_stocks\")\n",
    "momentum_cols = ['Ticker','Price',\n",
    "                '1y Price Return','1y percentile', \n",
    "                '6m Price Return', '6m percentile', \n",
    "                '3m Price Return', '3m percentile',\n",
    "                '1m Price Return','1m percentile',\n",
    "                'Weighted Hurst Exponent']\n",
    "momentum = pd.DataFrame(columns = momentum_cols)\n",
    "count = 0 \n",
    "for i in range(len(tick)): \n",
    "    start = time.time()    \n",
    "    try:\n",
    "        #Creating the df to be added to all_time_prices\n",
    "        ticker = tick[\"0\"][i]\n",
    "        info = yf.Ticker(ticker).history(period='max')\n",
    "        info.reset_index(inplace = True)\n",
    "        info['Ticker'] = ticker\n",
    "\n",
    "        info.sort_values(\"Date\", ascending = True, inplace = True)\n",
    "        info.set_index(\"Date\", inplace = True)\n",
    "        #Creating the df to be added to momentum\n",
    "        y = info.truncate(before=pd.Timestamp('today') - pd.DateOffset(months=12))\n",
    "        m6 = info.truncate(before=pd.Timestamp('today') - pd.DateOffset(months=6))\n",
    "        m3 = info.truncate(before=pd.Timestamp('today') - pd.DateOffset(months=3))\n",
    "        m1 = info.truncate(before=pd.Timestamp('today') - pd.DateOffset(months=1))\n",
    "\n",
    "        #momentum['Ticker'] = tick['0'][i]  \n",
    "        try: \n",
    "            perc_change1y = ((y.iloc[-1]['Close'] - y.iloc[0]['Close'])/y.iloc[0][\"Close\"])\n",
    "            #momentum['1y Price Return'] = perc_change1y\n",
    "            perc_change6m = ((m6.iloc[-1]['Close'] - m6.iloc[0]['Close'])/m6.iloc[0][\"Close\"])\n",
    "            #momentum['6m Price Return'] = perc_change6m\n",
    "            perc_change3m = ((m3.iloc[-1]['Close'] - m3.iloc[0]['Close'])/m3.iloc[0][\"Close\"])\n",
    "            #momentum['3m Price Return'] = perc_change3m\n",
    "            perc_change1m = ((m1.iloc[-1]['Close'] - m1.iloc[0]['Close'])/m1.iloc[0][\"Close\"])\n",
    "            #momentum['1m Price Return'] = perc_change1m\n",
    "\n",
    "            #momentum['Price'] = info['Close'] \n",
    "            #momentum['1y percentile'] = 0\n",
    "            #momentum['6m percentile'] = 0\n",
    "            #momentum['3m percentile'] = 0\n",
    "            #momentum['1m percentile'] = 0\n",
    "            #momentum['Weighted Hurst Exponent'] = 0\n",
    "            t = [20, 100, 300, 500, 1000]\n",
    "            total_hurst = 0\n",
    "            weight = 0.4\n",
    "            for j in range(len(t)): \n",
    "                #Use Weighted average to determine hurst exp of the stock\n",
    "                hurst_exp = get_hurst_exponent(info[\"Close\"].values, t[j])\n",
    "                #print(tick[\"0\"][i] + \" Hurst exponent with \" + str(t[j]) +  ' lags: ' + str(hurst_exp))\n",
    "                total_hurst += hurst_exp*weight\n",
    "                if j >= 2: \n",
    "                    weight = 0.1\n",
    "                else: \n",
    "                    weight = 0.2\n",
    "            #momentum = momentum.iloc[-1]\n",
    "        except IndexError: \n",
    "            print('Index Error when producing momentum table')\n",
    "            continue\n",
    "        momentum_append = pd.Series([tick['0'][i],info['Close'][-1],perc_change1y,0,perc_change6m,0,perc_change3m,0,perc_change1m,0, total_hurst],\n",
    "                                index = momentum_cols)\n",
    "        #print(momentum_append)\n",
    "    except TypeError: \n",
    "        print(\"Nonetype found for: \" + tick[\"0\"][i])\n",
    "        continue\n",
    "    except IndexError: \n",
    "        print(\"Couldn't find: \",tick[\"0\"][i])\n",
    "        continue\n",
    "    except KeyError:\n",
    "        print(\"Couldnt find key for: \" + tick['0'][i])\n",
    "        continue\n",
    "    stop = time.time()\n",
    "    duration = stop-start\n",
    "    print(duration)\n",
    "    momentum.loc[len(momentum)] = momentum_append\n",
    "#Get percentiles for each stock\n",
    "cols = ['1y', '6m', '3m', '1m']\n",
    "for c in cols: \n",
    "    for index, row in momentum.iterrows(): \n",
    "        percentile_change = stats.percentileofscore(momentum[c + ' Price Return'], momentum[c + ' Price Return'].loc[index])\n",
    "        momentum[c + ' percentile'][index] = percentile_change \n",
    "momentum['Shares To Buy'] = 0\n",
    "    \n",
    "#Calculate HQM score\n",
    "#Get the mean of all 4 percentiles \n",
    "momentum['HQM score'] = 0\n",
    "from statistics import mean\n",
    "for index, row in momentum.iterrows(): \n",
    "    all_periods_p = [row['1y percentile'], row['6m percentile'], row['3m percentile'], row['1m percentile']]\n",
    "    momentum['HQM score'].iloc[index] = mean(all_periods_p)\n",
    "\n",
    "\n",
    "#PUSH TO DATABASE\n",
    "momentum.to_sql('momentum', conn, if_exists='append', index=False)\n",
    "\n",
    "# Close the connection\n",
    "conn.close()"
   ]
  },
  {
   "cell_type": "code",
   "execution_count": null,
   "metadata": {},
   "outputs": [],
   "source": [
    "momentum.info()"
   ]
  },
  {
   "cell_type": "code",
   "execution_count": null,
   "metadata": {},
   "outputs": [],
   "source": []
  }
 ],
 "metadata": {
  "interpreter": {
   "hash": "f36662cf0d2dc2d22e7ce50b6b2dd5771b8ab03597c45c6e0e62ff4a448306d1"
  },
  "kernelspec": {
   "display_name": "Python 3.8.5 64-bit",
   "language": "python",
   "name": "python3"
  },
  "language_info": {
   "codemirror_mode": {
    "name": "ipython",
    "version": 3
   },
   "file_extension": ".py",
   "mimetype": "text/x-python",
   "name": "python",
   "nbconvert_exporter": "python",
   "pygments_lexer": "ipython3",
   "version": "3.8.5"
  },
  "orig_nbformat": 4
 },
 "nbformat": 4,
 "nbformat_minor": 2
}
