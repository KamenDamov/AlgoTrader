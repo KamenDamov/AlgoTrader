{
 "cells": [
  {
   "cell_type": "code",
   "execution_count": 1,
   "metadata": {},
   "outputs": [
    {
     "ename": "OperationalError",
     "evalue": "table momentum already exists",
     "output_type": "error",
     "traceback": [
      "\u001b[1;31m---------------------------------------------------------------------------\u001b[0m",
      "\u001b[1;31mOperationalError\u001b[0m                          Traceback (most recent call last)",
      "\u001b[1;32m<ipython-input-1-67f2d28dfbb7>\u001b[0m in \u001b[0;36m<module>\u001b[1;34m\u001b[0m\n\u001b[0;32m     37\u001b[0m '''\n\u001b[0;32m     38\u001b[0m \u001b[1;33m\u001b[0m\u001b[0m\n\u001b[1;32m---> 39\u001b[1;33m \u001b[0mcursor\u001b[0m\u001b[1;33m.\u001b[0m\u001b[0mexecute\u001b[0m\u001b[1;33m(\u001b[0m\u001b[0mmomentum_query\u001b[0m\u001b[1;33m)\u001b[0m\u001b[1;33m\u001b[0m\u001b[1;33m\u001b[0m\u001b[0m\n\u001b[0m\u001b[0;32m     40\u001b[0m \u001b[1;33m\u001b[0m\u001b[0m\n\u001b[0;32m     41\u001b[0m \u001b[0mconn\u001b[0m\u001b[1;33m.\u001b[0m\u001b[0mcommit\u001b[0m\u001b[1;33m(\u001b[0m\u001b[1;33m)\u001b[0m\u001b[1;33m\u001b[0m\u001b[1;33m\u001b[0m\u001b[0m\n",
      "\u001b[1;31mOperationalError\u001b[0m: table momentum already exists"
     ]
    }
   ],
   "source": [
    "import numpy as np\n",
    "import pandas as pd\n",
    "import math\n",
    "import requests \n",
    "import matplotlib as plt\n",
    "import seaborn as sns\n",
    "import yfinance as yf\n",
    "import pandas_datareader as web\n",
    "from pandas_datareader import data\n",
    "from bs4 import BeautifulSoup as bs\n",
    "from scipy import stats\n",
    "import sqlite3\n",
    "import time\n",
    "\n",
    "\n",
    "#Create db\n",
    "conn = sqlite3.connect('financial_data.db')\n",
    "\n",
    "# Create a cursor\n",
    "cursor = conn.cursor()\n",
    "\n",
    "\n",
    "momentum_query = '''\n",
    "CREATE TABLE momentum (\n",
    "    Ticker TEXT NOT NULL,\n",
    "    Price FLOAT,\n",
    "    y1_Price Return FLOAT, \n",
    "    y1_percentile FLOAT, \n",
    "    m6_Price_Return FLOAT, \n",
    "    m6_percentile FLOAT,\n",
    "    m3_Price_Return FLOAT, \n",
    "    m3_percentile FLOAT, \n",
    "    m1_Price_Return FLOAT, \n",
    "    m1_percentile FLOAT, \n",
    "    Weighted_Hurst_Exponent FLOAT\n",
    ");\n",
    "'''\n",
    "\n",
    "cursor.execute(momentum_query)\n",
    "\n",
    "conn.commit()\n"
   ]
  },
  {
   "cell_type": "code",
   "execution_count": null,
   "metadata": {},
   "outputs": [
    {
     "name": "stderr",
     "output_type": "stream",
     "text": [
      "<ipython-input-4-fccb78a48aec>:37: FutureWarning: Indexing a timezone-aware DatetimeIndex with a timezone-naive datetime is deprecated and will raise KeyError in a future version. Use a timezone-aware object instead.\n",
      "  y = info.truncate(before=pd.Timestamp('today') - pd.DateOffset(months=12))\n",
      "<ipython-input-4-fccb78a48aec>:38: FutureWarning: Indexing a timezone-aware DatetimeIndex with a timezone-naive datetime is deprecated and will raise KeyError in a future version. Use a timezone-aware object instead.\n",
      "  m6 = info.truncate(before=pd.Timestamp('today') - pd.DateOffset(months=6))\n",
      "<ipython-input-4-fccb78a48aec>:39: FutureWarning: Indexing a timezone-aware DatetimeIndex with a timezone-naive datetime is deprecated and will raise KeyError in a future version. Use a timezone-aware object instead.\n",
      "  m3 = info.truncate(before=pd.Timestamp('today') - pd.DateOffset(months=3))\n",
      "<ipython-input-4-fccb78a48aec>:40: FutureWarning: Indexing a timezone-aware DatetimeIndex with a timezone-naive datetime is deprecated and will raise KeyError in a future version. Use a timezone-aware object instead.\n",
      "  m1 = info.truncate(before=pd.Timestamp('today') - pd.DateOffset(months=1))\n"
     ]
    },
    {
     "name": "stdout",
     "output_type": "stream",
     "text": [
      "1.4093704223632812\n"
     ]
    },
    {
     "name": "stderr",
     "output_type": "stream",
     "text": [
      "<ipython-input-4-fccb78a48aec>:37: FutureWarning: Indexing a timezone-aware DatetimeIndex with a timezone-naive datetime is deprecated and will raise KeyError in a future version. Use a timezone-aware object instead.\n",
      "  y = info.truncate(before=pd.Timestamp('today') - pd.DateOffset(months=12))\n",
      "<ipython-input-4-fccb78a48aec>:38: FutureWarning: Indexing a timezone-aware DatetimeIndex with a timezone-naive datetime is deprecated and will raise KeyError in a future version. Use a timezone-aware object instead.\n",
      "  m6 = info.truncate(before=pd.Timestamp('today') - pd.DateOffset(months=6))\n",
      "<ipython-input-4-fccb78a48aec>:39: FutureWarning: Indexing a timezone-aware DatetimeIndex with a timezone-naive datetime is deprecated and will raise KeyError in a future version. Use a timezone-aware object instead.\n",
      "  m3 = info.truncate(before=pd.Timestamp('today') - pd.DateOffset(months=3))\n",
      "<ipython-input-4-fccb78a48aec>:40: FutureWarning: Indexing a timezone-aware DatetimeIndex with a timezone-naive datetime is deprecated and will raise KeyError in a future version. Use a timezone-aware object instead.\n",
      "  m1 = info.truncate(before=pd.Timestamp('today') - pd.DateOffset(months=1))\n"
     ]
    },
    {
     "name": "stdout",
     "output_type": "stream",
     "text": [
      "4.062016487121582\n"
     ]
    },
    {
     "name": "stderr",
     "output_type": "stream",
     "text": [
      "<ipython-input-4-fccb78a48aec>:37: FutureWarning: Indexing a timezone-aware DatetimeIndex with a timezone-naive datetime is deprecated and will raise KeyError in a future version. Use a timezone-aware object instead.\n",
      "  y = info.truncate(before=pd.Timestamp('today') - pd.DateOffset(months=12))\n",
      "<ipython-input-4-fccb78a48aec>:38: FutureWarning: Indexing a timezone-aware DatetimeIndex with a timezone-naive datetime is deprecated and will raise KeyError in a future version. Use a timezone-aware object instead.\n",
      "  m6 = info.truncate(before=pd.Timestamp('today') - pd.DateOffset(months=6))\n",
      "<ipython-input-4-fccb78a48aec>:39: FutureWarning: Indexing a timezone-aware DatetimeIndex with a timezone-naive datetime is deprecated and will raise KeyError in a future version. Use a timezone-aware object instead.\n",
      "  m3 = info.truncate(before=pd.Timestamp('today') - pd.DateOffset(months=3))\n",
      "<ipython-input-4-fccb78a48aec>:40: FutureWarning: Indexing a timezone-aware DatetimeIndex with a timezone-naive datetime is deprecated and will raise KeyError in a future version. Use a timezone-aware object instead.\n",
      "  m1 = info.truncate(before=pd.Timestamp('today') - pd.DateOffset(months=1))\n"
     ]
    },
    {
     "name": "stdout",
     "output_type": "stream",
     "text": [
      "0.7471015453338623\n",
      "Got error from yahoo api for ticker AXE, Error: {'code': 'Not Found', 'description': 'No data found, symbol may be delisted'}\n",
      "- AXE: No timezone found, symbol may be delisted\n",
      "Index Error when producing momentum table\n"
     ]
    },
    {
     "name": "stderr",
     "output_type": "stream",
     "text": [
      "<ipython-input-4-fccb78a48aec>:37: FutureWarning: Indexing a timezone-aware DatetimeIndex with a timezone-naive datetime is deprecated and will raise KeyError in a future version. Use a timezone-aware object instead.\n",
      "  y = info.truncate(before=pd.Timestamp('today') - pd.DateOffset(months=12))\n",
      "<ipython-input-4-fccb78a48aec>:38: FutureWarning: Indexing a timezone-aware DatetimeIndex with a timezone-naive datetime is deprecated and will raise KeyError in a future version. Use a timezone-aware object instead.\n",
      "  m6 = info.truncate(before=pd.Timestamp('today') - pd.DateOffset(months=6))\n",
      "<ipython-input-4-fccb78a48aec>:39: FutureWarning: Indexing a timezone-aware DatetimeIndex with a timezone-naive datetime is deprecated and will raise KeyError in a future version. Use a timezone-aware object instead.\n",
      "  m3 = info.truncate(before=pd.Timestamp('today') - pd.DateOffset(months=3))\n",
      "<ipython-input-4-fccb78a48aec>:40: FutureWarning: Indexing a timezone-aware DatetimeIndex with a timezone-naive datetime is deprecated and will raise KeyError in a future version. Use a timezone-aware object instead.\n",
      "  m1 = info.truncate(before=pd.Timestamp('today') - pd.DateOffset(months=1))\n"
     ]
    },
    {
     "name": "stdout",
     "output_type": "stream",
     "text": [
      "1.2600302696228027\n",
      "Got error from yahoo api for ticker NLY.PRA, Error: {'code': 'Not Found', 'description': 'No data found, symbol may be delisted'}\n",
      "- NLY.PRA: No timezone found, symbol may be delisted\n",
      "Index Error when producing momentum table\n",
      "Got error from yahoo api for ticker NLY.PRC, Error: {'code': 'Not Found', 'description': 'No data found, symbol may be delisted'}\n",
      "- NLY.PRC: No timezone found, symbol may be delisted\n",
      "Index Error when producing momentum table\n",
      "Got error from yahoo api for ticker NLY.PRD, Error: {'code': 'Not Found', 'description': 'No data found, symbol may be delisted'}\n",
      "- NLY.PRD: No timezone found, symbol may be delisted\n",
      "Index Error when producing momentum table\n",
      "Got error from yahoo api for ticker NLY.PRE, Error: {'code': 'Not Found', 'description': 'No data found, symbol may be delisted'}\n",
      "- NLY.PRE: No timezone found, symbol may be delisted\n",
      "Index Error when producing momentum table\n"
     ]
    },
    {
     "name": "stderr",
     "output_type": "stream",
     "text": [
      "<ipython-input-4-fccb78a48aec>:37: FutureWarning: Indexing a timezone-aware DatetimeIndex with a timezone-naive datetime is deprecated and will raise KeyError in a future version. Use a timezone-aware object instead.\n",
      "  y = info.truncate(before=pd.Timestamp('today') - pd.DateOffset(months=12))\n",
      "<ipython-input-4-fccb78a48aec>:38: FutureWarning: Indexing a timezone-aware DatetimeIndex with a timezone-naive datetime is deprecated and will raise KeyError in a future version. Use a timezone-aware object instead.\n",
      "  m6 = info.truncate(before=pd.Timestamp('today') - pd.DateOffset(months=6))\n",
      "<ipython-input-4-fccb78a48aec>:39: FutureWarning: Indexing a timezone-aware DatetimeIndex with a timezone-naive datetime is deprecated and will raise KeyError in a future version. Use a timezone-aware object instead.\n",
      "  m3 = info.truncate(before=pd.Timestamp('today') - pd.DateOffset(months=3))\n",
      "<ipython-input-4-fccb78a48aec>:40: FutureWarning: Indexing a timezone-aware DatetimeIndex with a timezone-naive datetime is deprecated and will raise KeyError in a future version. Use a timezone-aware object instead.\n",
      "  m1 = info.truncate(before=pd.Timestamp('today') - pd.DateOffset(months=1))\n"
     ]
    },
    {
     "name": "stdout",
     "output_type": "stream",
     "text": [
      "0.6635031700134277\n"
     ]
    },
    {
     "name": "stderr",
     "output_type": "stream",
     "text": [
      "<ipython-input-4-fccb78a48aec>:37: FutureWarning: Indexing a timezone-aware DatetimeIndex with a timezone-naive datetime is deprecated and will raise KeyError in a future version. Use a timezone-aware object instead.\n",
      "  y = info.truncate(before=pd.Timestamp('today') - pd.DateOffset(months=12))\n",
      "<ipython-input-4-fccb78a48aec>:38: FutureWarning: Indexing a timezone-aware DatetimeIndex with a timezone-naive datetime is deprecated and will raise KeyError in a future version. Use a timezone-aware object instead.\n",
      "  m6 = info.truncate(before=pd.Timestamp('today') - pd.DateOffset(months=6))\n",
      "<ipython-input-4-fccb78a48aec>:39: FutureWarning: Indexing a timezone-aware DatetimeIndex with a timezone-naive datetime is deprecated and will raise KeyError in a future version. Use a timezone-aware object instead.\n",
      "  m3 = info.truncate(before=pd.Timestamp('today') - pd.DateOffset(months=3))\n",
      "<ipython-input-4-fccb78a48aec>:40: FutureWarning: Indexing a timezone-aware DatetimeIndex with a timezone-naive datetime is deprecated and will raise KeyError in a future version. Use a timezone-aware object instead.\n",
      "  m1 = info.truncate(before=pd.Timestamp('today') - pd.DateOffset(months=1))\n"
     ]
    },
    {
     "name": "stdout",
     "output_type": "stream",
     "text": [
      "0.7035918235778809\n",
      "Got error from yahoo api for ticker ANTM, Error: {'code': 'Not Found', 'description': 'No data found, symbol may be delisted'}\n",
      "- ANTM: No timezone found, symbol may be delisted\n",
      "Index Error when producing momentum table\n"
     ]
    },
    {
     "name": "stderr",
     "output_type": "stream",
     "text": [
      "<ipython-input-4-fccb78a48aec>:37: FutureWarning: Indexing a timezone-aware DatetimeIndex with a timezone-naive datetime is deprecated and will raise KeyError in a future version. Use a timezone-aware object instead.\n",
      "  y = info.truncate(before=pd.Timestamp('today') - pd.DateOffset(months=12))\n",
      "<ipython-input-4-fccb78a48aec>:38: FutureWarning: Indexing a timezone-aware DatetimeIndex with a timezone-naive datetime is deprecated and will raise KeyError in a future version. Use a timezone-aware object instead.\n",
      "  m6 = info.truncate(before=pd.Timestamp('today') - pd.DateOffset(months=6))\n",
      "<ipython-input-4-fccb78a48aec>:39: FutureWarning: Indexing a timezone-aware DatetimeIndex with a timezone-naive datetime is deprecated and will raise KeyError in a future version. Use a timezone-aware object instead.\n",
      "  m3 = info.truncate(before=pd.Timestamp('today') - pd.DateOffset(months=3))\n",
      "<ipython-input-4-fccb78a48aec>:40: FutureWarning: Indexing a timezone-aware DatetimeIndex with a timezone-naive datetime is deprecated and will raise KeyError in a future version. Use a timezone-aware object instead.\n",
      "  m1 = info.truncate(before=pd.Timestamp('today') - pd.DateOffset(months=1))\n",
      "C:\\Users\\Kamen\\AppData\\Local\\Programs\\Python\\Python38\\lib\\site-packages\\numpy\\core\\_methods.py:262: RuntimeWarning: Degrees of freedom <= 0 for slice\n",
      "  ret = _var(a, axis=axis, dtype=dtype, out=out, ddof=ddof,\n",
      "C:\\Users\\Kamen\\AppData\\Local\\Programs\\Python\\Python38\\lib\\site-packages\\numpy\\core\\_methods.py:222: RuntimeWarning: invalid value encountered in true_divide\n",
      "  arrmean = um.true_divide(arrmean, div, out=arrmean, casting='unsafe',\n",
      "C:\\Users\\Kamen\\AppData\\Local\\Programs\\Python\\Python38\\lib\\site-packages\\numpy\\core\\_methods.py:254: RuntimeWarning: invalid value encountered in double_scalars\n",
      "  ret = ret.dtype.type(ret / rcount)\n",
      "<ipython-input-4-fccb78a48aec>:11: RuntimeWarning: divide by zero encountered in log\n",
      "  reg = np.polyfit(np.log(lags), np.log(tau), 1)\n"
     ]
    },
    {
     "name": "stdout",
     "output_type": "stream",
     "text": [
      "0.4618210792541504\n",
      "Got error from yahoo api for ticker ANH, Error: {'code': 'Not Found', 'description': 'No data found, symbol may be delisted'}\n",
      "- ANH: No timezone found, symbol may be delisted\n",
      "Index Error when producing momentum table\n",
      "Got error from yahoo api for ticker ANH.PRA, Error: {'code': 'Not Found', 'description': 'No data found, symbol may be delisted'}\n",
      "- ANH.PRA: No timezone found, symbol may be delisted\n",
      "Index Error when producing momentum table\n",
      "Got error from yahoo api for ticker ANH.PRB, Error: {'code': 'Not Found', 'description': 'No data found, symbol may be delisted'}\n",
      "- ANH.PRB: No timezone found, symbol may be delisted\n",
      "Index Error when producing momentum table\n",
      "Got error from yahoo api for ticker ANH.PRC, Error: {'code': 'Not Found', 'description': 'No data found, symbol may be delisted'}\n",
      "- ANH.PRC: No timezone found, symbol may be delisted\n",
      "Index Error when producing momentum table\n"
     ]
    },
    {
     "name": "stderr",
     "output_type": "stream",
     "text": [
      "<ipython-input-4-fccb78a48aec>:37: FutureWarning: Indexing a timezone-aware DatetimeIndex with a timezone-naive datetime is deprecated and will raise KeyError in a future version. Use a timezone-aware object instead.\n",
      "  y = info.truncate(before=pd.Timestamp('today') - pd.DateOffset(months=12))\n",
      "<ipython-input-4-fccb78a48aec>:38: FutureWarning: Indexing a timezone-aware DatetimeIndex with a timezone-naive datetime is deprecated and will raise KeyError in a future version. Use a timezone-aware object instead.\n",
      "  m6 = info.truncate(before=pd.Timestamp('today') - pd.DateOffset(months=6))\n",
      "<ipython-input-4-fccb78a48aec>:39: FutureWarning: Indexing a timezone-aware DatetimeIndex with a timezone-naive datetime is deprecated and will raise KeyError in a future version. Use a timezone-aware object instead.\n",
      "  m3 = info.truncate(before=pd.Timestamp('today') - pd.DateOffset(months=3))\n",
      "<ipython-input-4-fccb78a48aec>:40: FutureWarning: Indexing a timezone-aware DatetimeIndex with a timezone-naive datetime is deprecated and will raise KeyError in a future version. Use a timezone-aware object instead.\n",
      "  m1 = info.truncate(before=pd.Timestamp('today') - pd.DateOffset(months=1))\n"
     ]
    },
    {
     "name": "stdout",
     "output_type": "stream",
     "text": [
      "2.0604653358459473\n"
     ]
    },
    {
     "name": "stderr",
     "output_type": "stream",
     "text": [
      "<ipython-input-4-fccb78a48aec>:37: FutureWarning: Indexing a timezone-aware DatetimeIndex with a timezone-naive datetime is deprecated and will raise KeyError in a future version. Use a timezone-aware object instead.\n",
      "  y = info.truncate(before=pd.Timestamp('today') - pd.DateOffset(months=12))\n",
      "<ipython-input-4-fccb78a48aec>:38: FutureWarning: Indexing a timezone-aware DatetimeIndex with a timezone-naive datetime is deprecated and will raise KeyError in a future version. Use a timezone-aware object instead.\n",
      "  m6 = info.truncate(before=pd.Timestamp('today') - pd.DateOffset(months=6))\n",
      "<ipython-input-4-fccb78a48aec>:39: FutureWarning: Indexing a timezone-aware DatetimeIndex with a timezone-naive datetime is deprecated and will raise KeyError in a future version. Use a timezone-aware object instead.\n",
      "  m3 = info.truncate(before=pd.Timestamp('today') - pd.DateOffset(months=3))\n",
      "<ipython-input-4-fccb78a48aec>:40: FutureWarning: Indexing a timezone-aware DatetimeIndex with a timezone-naive datetime is deprecated and will raise KeyError in a future version. Use a timezone-aware object instead.\n",
      "  m1 = info.truncate(before=pd.Timestamp('today') - pd.DateOffset(months=1))\n"
     ]
    },
    {
     "name": "stdout",
     "output_type": "stream",
     "text": [
      "1.6152565479278564\n"
     ]
    },
    {
     "name": "stderr",
     "output_type": "stream",
     "text": [
      "<ipython-input-4-fccb78a48aec>:37: FutureWarning: Indexing a timezone-aware DatetimeIndex with a timezone-naive datetime is deprecated and will raise KeyError in a future version. Use a timezone-aware object instead.\n",
      "  y = info.truncate(before=pd.Timestamp('today') - pd.DateOffset(months=12))\n",
      "<ipython-input-4-fccb78a48aec>:38: FutureWarning: Indexing a timezone-aware DatetimeIndex with a timezone-naive datetime is deprecated and will raise KeyError in a future version. Use a timezone-aware object instead.\n",
      "  m6 = info.truncate(before=pd.Timestamp('today') - pd.DateOffset(months=6))\n",
      "<ipython-input-4-fccb78a48aec>:39: FutureWarning: Indexing a timezone-aware DatetimeIndex with a timezone-naive datetime is deprecated and will raise KeyError in a future version. Use a timezone-aware object instead.\n",
      "  m3 = info.truncate(before=pd.Timestamp('today') - pd.DateOffset(months=3))\n",
      "<ipython-input-4-fccb78a48aec>:40: FutureWarning: Indexing a timezone-aware DatetimeIndex with a timezone-naive datetime is deprecated and will raise KeyError in a future version. Use a timezone-aware object instead.\n",
      "  m1 = info.truncate(before=pd.Timestamp('today') - pd.DateOffset(months=1))\n"
     ]
    },
    {
     "name": "stdout",
     "output_type": "stream",
     "text": [
      "1.2153644561767578\n",
      "Got error from yahoo api for ticker AIV.PRA, Error: {'code': 'Not Found', 'description': 'No data found, symbol may be delisted'}\n",
      "- AIV.PRA: No timezone found, symbol may be delisted\n",
      "Index Error when producing momentum table\n"
     ]
    },
    {
     "name": "stderr",
     "output_type": "stream",
     "text": [
      "<ipython-input-4-fccb78a48aec>:37: FutureWarning: Indexing a timezone-aware DatetimeIndex with a timezone-naive datetime is deprecated and will raise KeyError in a future version. Use a timezone-aware object instead.\n",
      "  y = info.truncate(before=pd.Timestamp('today') - pd.DateOffset(months=12))\n",
      "<ipython-input-4-fccb78a48aec>:38: FutureWarning: Indexing a timezone-aware DatetimeIndex with a timezone-naive datetime is deprecated and will raise KeyError in a future version. Use a timezone-aware object instead.\n",
      "  m6 = info.truncate(before=pd.Timestamp('today') - pd.DateOffset(months=6))\n",
      "<ipython-input-4-fccb78a48aec>:39: FutureWarning: Indexing a timezone-aware DatetimeIndex with a timezone-naive datetime is deprecated and will raise KeyError in a future version. Use a timezone-aware object instead.\n",
      "  m3 = info.truncate(before=pd.Timestamp('today') - pd.DateOffset(months=3))\n",
      "<ipython-input-4-fccb78a48aec>:40: FutureWarning: Indexing a timezone-aware DatetimeIndex with a timezone-naive datetime is deprecated and will raise KeyError in a future version. Use a timezone-aware object instead.\n",
      "  m1 = info.truncate(before=pd.Timestamp('today') - pd.DateOffset(months=1))\n"
     ]
    },
    {
     "name": "stdout",
     "output_type": "stream",
     "text": [
      "0.7316505908966064\n",
      "Got error from yahoo api for ticker ARI.PRA, Error: {'code': 'Not Found', 'description': 'No data found, symbol may be delisted'}\n",
      "- ARI.PRA: No timezone found, symbol may be delisted\n",
      "Index Error when producing momentum table\n",
      "Got error from yahoo api for ticker ARI.PRC, Error: {'code': 'Not Found', 'description': 'No data found, symbol may be delisted'}\n",
      "- ARI.PRC: No timezone found, symbol may be delisted\n",
      "Index Error when producing momentum table\n"
     ]
    },
    {
     "name": "stderr",
     "output_type": "stream",
     "text": [
      "<ipython-input-4-fccb78a48aec>:37: FutureWarning: Indexing a timezone-aware DatetimeIndex with a timezone-naive datetime is deprecated and will raise KeyError in a future version. Use a timezone-aware object instead.\n",
      "  y = info.truncate(before=pd.Timestamp('today') - pd.DateOffset(months=12))\n",
      "<ipython-input-4-fccb78a48aec>:38: FutureWarning: Indexing a timezone-aware DatetimeIndex with a timezone-naive datetime is deprecated and will raise KeyError in a future version. Use a timezone-aware object instead.\n",
      "  m6 = info.truncate(before=pd.Timestamp('today') - pd.DateOffset(months=6))\n",
      "<ipython-input-4-fccb78a48aec>:39: FutureWarning: Indexing a timezone-aware DatetimeIndex with a timezone-naive datetime is deprecated and will raise KeyError in a future version. Use a timezone-aware object instead.\n",
      "  m3 = info.truncate(before=pd.Timestamp('today') - pd.DateOffset(months=3))\n",
      "<ipython-input-4-fccb78a48aec>:40: FutureWarning: Indexing a timezone-aware DatetimeIndex with a timezone-naive datetime is deprecated and will raise KeyError in a future version. Use a timezone-aware object instead.\n",
      "  m1 = info.truncate(before=pd.Timestamp('today') - pd.DateOffset(months=1))\n"
     ]
    },
    {
     "name": "stdout",
     "output_type": "stream",
     "text": [
      "1.317211627960205\n"
     ]
    },
    {
     "name": "stderr",
     "output_type": "stream",
     "text": [
      "<ipython-input-4-fccb78a48aec>:37: FutureWarning: Indexing a timezone-aware DatetimeIndex with a timezone-naive datetime is deprecated and will raise KeyError in a future version. Use a timezone-aware object instead.\n",
      "  y = info.truncate(before=pd.Timestamp('today') - pd.DateOffset(months=12))\n",
      "<ipython-input-4-fccb78a48aec>:38: FutureWarning: Indexing a timezone-aware DatetimeIndex with a timezone-naive datetime is deprecated and will raise KeyError in a future version. Use a timezone-aware object instead.\n",
      "  m6 = info.truncate(before=pd.Timestamp('today') - pd.DateOffset(months=6))\n",
      "<ipython-input-4-fccb78a48aec>:39: FutureWarning: Indexing a timezone-aware DatetimeIndex with a timezone-naive datetime is deprecated and will raise KeyError in a future version. Use a timezone-aware object instead.\n",
      "  m3 = info.truncate(before=pd.Timestamp('today') - pd.DateOffset(months=3))\n",
      "<ipython-input-4-fccb78a48aec>:40: FutureWarning: Indexing a timezone-aware DatetimeIndex with a timezone-naive datetime is deprecated and will raise KeyError in a future version. Use a timezone-aware object instead.\n",
      "  m1 = info.truncate(before=pd.Timestamp('today') - pd.DateOffset(months=1))\n",
      "C:\\Users\\Kamen\\AppData\\Local\\Programs\\Python\\Python38\\lib\\site-packages\\numpy\\core\\_methods.py:262: RuntimeWarning: Degrees of freedom <= 0 for slice\n",
      "  ret = _var(a, axis=axis, dtype=dtype, out=out, ddof=ddof,\n",
      "C:\\Users\\Kamen\\AppData\\Local\\Programs\\Python\\Python38\\lib\\site-packages\\numpy\\core\\_methods.py:222: RuntimeWarning: invalid value encountered in true_divide\n",
      "  arrmean = um.true_divide(arrmean, div, out=arrmean, casting='unsafe',\n",
      "C:\\Users\\Kamen\\AppData\\Local\\Programs\\Python\\Python38\\lib\\site-packages\\numpy\\core\\_methods.py:254: RuntimeWarning: invalid value encountered in double_scalars\n",
      "  ret = ret.dtype.type(ret / rcount)\n",
      "<ipython-input-4-fccb78a48aec>:11: RuntimeWarning: divide by zero encountered in log\n",
      "  reg = np.polyfit(np.log(lags), np.log(tau), 1)\n"
     ]
    },
    {
     "name": "stdout",
     "output_type": "stream",
     "text": [
      "0.6295216083526611\n",
      "Got error from yahoo api for ticker AIY, Error: {'code': 'Not Found', 'description': 'No data found, symbol may be delisted'}\n",
      "- AIY: No timezone found, symbol may be delisted\n",
      "Index Error when producing momentum table\n"
     ]
    },
    {
     "name": "stderr",
     "output_type": "stream",
     "text": [
      "<ipython-input-4-fccb78a48aec>:37: FutureWarning: Indexing a timezone-aware DatetimeIndex with a timezone-naive datetime is deprecated and will raise KeyError in a future version. Use a timezone-aware object instead.\n",
      "  y = info.truncate(before=pd.Timestamp('today') - pd.DateOffset(months=12))\n",
      "<ipython-input-4-fccb78a48aec>:38: FutureWarning: Indexing a timezone-aware DatetimeIndex with a timezone-naive datetime is deprecated and will raise KeyError in a future version. Use a timezone-aware object instead.\n",
      "  m6 = info.truncate(before=pd.Timestamp('today') - pd.DateOffset(months=6))\n",
      "<ipython-input-4-fccb78a48aec>:39: FutureWarning: Indexing a timezone-aware DatetimeIndex with a timezone-naive datetime is deprecated and will raise KeyError in a future version. Use a timezone-aware object instead.\n",
      "  m3 = info.truncate(before=pd.Timestamp('today') - pd.DateOffset(months=3))\n",
      "<ipython-input-4-fccb78a48aec>:40: FutureWarning: Indexing a timezone-aware DatetimeIndex with a timezone-naive datetime is deprecated and will raise KeyError in a future version. Use a timezone-aware object instead.\n",
      "  m1 = info.truncate(before=pd.Timestamp('today') - pd.DateOffset(months=1))\n"
     ]
    },
    {
     "name": "stdout",
     "output_type": "stream",
     "text": [
      "0.9677460193634033\n"
     ]
    },
    {
     "name": "stderr",
     "output_type": "stream",
     "text": [
      "<ipython-input-4-fccb78a48aec>:37: FutureWarning: Indexing a timezone-aware DatetimeIndex with a timezone-naive datetime is deprecated and will raise KeyError in a future version. Use a timezone-aware object instead.\n",
      "  y = info.truncate(before=pd.Timestamp('today') - pd.DateOffset(months=12))\n",
      "<ipython-input-4-fccb78a48aec>:38: FutureWarning: Indexing a timezone-aware DatetimeIndex with a timezone-naive datetime is deprecated and will raise KeyError in a future version. Use a timezone-aware object instead.\n",
      "  m6 = info.truncate(before=pd.Timestamp('today') - pd.DateOffset(months=6))\n",
      "<ipython-input-4-fccb78a48aec>:39: FutureWarning: Indexing a timezone-aware DatetimeIndex with a timezone-naive datetime is deprecated and will raise KeyError in a future version. Use a timezone-aware object instead.\n",
      "  m3 = info.truncate(before=pd.Timestamp('today') - pd.DateOffset(months=3))\n",
      "<ipython-input-4-fccb78a48aec>:40: FutureWarning: Indexing a timezone-aware DatetimeIndex with a timezone-naive datetime is deprecated and will raise KeyError in a future version. Use a timezone-aware object instead.\n",
      "  m1 = info.truncate(before=pd.Timestamp('today') - pd.DateOffset(months=1))\n"
     ]
    },
    {
     "name": "stdout",
     "output_type": "stream",
     "text": [
      "0.6903502941131592\n"
     ]
    },
    {
     "name": "stderr",
     "output_type": "stream",
     "text": [
      "<ipython-input-4-fccb78a48aec>:37: FutureWarning: Indexing a timezone-aware DatetimeIndex with a timezone-naive datetime is deprecated and will raise KeyError in a future version. Use a timezone-aware object instead.\n",
      "  y = info.truncate(before=pd.Timestamp('today') - pd.DateOffset(months=12))\n",
      "<ipython-input-4-fccb78a48aec>:38: FutureWarning: Indexing a timezone-aware DatetimeIndex with a timezone-naive datetime is deprecated and will raise KeyError in a future version. Use a timezone-aware object instead.\n",
      "  m6 = info.truncate(before=pd.Timestamp('today') - pd.DateOffset(months=6))\n",
      "<ipython-input-4-fccb78a48aec>:39: FutureWarning: Indexing a timezone-aware DatetimeIndex with a timezone-naive datetime is deprecated and will raise KeyError in a future version. Use a timezone-aware object instead.\n",
      "  m3 = info.truncate(before=pd.Timestamp('today') - pd.DateOffset(months=3))\n",
      "<ipython-input-4-fccb78a48aec>:40: FutureWarning: Indexing a timezone-aware DatetimeIndex with a timezone-naive datetime is deprecated and will raise KeyError in a future version. Use a timezone-aware object instead.\n",
      "  m1 = info.truncate(before=pd.Timestamp('today') - pd.DateOffset(months=1))\n"
     ]
    },
    {
     "name": "stdout",
     "output_type": "stream",
     "text": [
      "0.8402104377746582\n"
     ]
    },
    {
     "name": "stderr",
     "output_type": "stream",
     "text": [
      "<ipython-input-4-fccb78a48aec>:37: FutureWarning: Indexing a timezone-aware DatetimeIndex with a timezone-naive datetime is deprecated and will raise KeyError in a future version. Use a timezone-aware object instead.\n",
      "  y = info.truncate(before=pd.Timestamp('today') - pd.DateOffset(months=12))\n",
      "<ipython-input-4-fccb78a48aec>:38: FutureWarning: Indexing a timezone-aware DatetimeIndex with a timezone-naive datetime is deprecated and will raise KeyError in a future version. Use a timezone-aware object instead.\n",
      "  m6 = info.truncate(before=pd.Timestamp('today') - pd.DateOffset(months=6))\n",
      "<ipython-input-4-fccb78a48aec>:39: FutureWarning: Indexing a timezone-aware DatetimeIndex with a timezone-naive datetime is deprecated and will raise KeyError in a future version. Use a timezone-aware object instead.\n",
      "  m3 = info.truncate(before=pd.Timestamp('today') - pd.DateOffset(months=3))\n",
      "<ipython-input-4-fccb78a48aec>:40: FutureWarning: Indexing a timezone-aware DatetimeIndex with a timezone-naive datetime is deprecated and will raise KeyError in a future version. Use a timezone-aware object instead.\n",
      "  m1 = info.truncate(before=pd.Timestamp('today') - pd.DateOffset(months=1))\n"
     ]
    },
    {
     "name": "stdout",
     "output_type": "stream",
     "text": [
      "1.4365832805633545\n"
     ]
    },
    {
     "name": "stderr",
     "output_type": "stream",
     "text": [
      "<ipython-input-4-fccb78a48aec>:37: FutureWarning: Indexing a timezone-aware DatetimeIndex with a timezone-naive datetime is deprecated and will raise KeyError in a future version. Use a timezone-aware object instead.\n",
      "  y = info.truncate(before=pd.Timestamp('today') - pd.DateOffset(months=12))\n",
      "<ipython-input-4-fccb78a48aec>:38: FutureWarning: Indexing a timezone-aware DatetimeIndex with a timezone-naive datetime is deprecated and will raise KeyError in a future version. Use a timezone-aware object instead.\n",
      "  m6 = info.truncate(before=pd.Timestamp('today') - pd.DateOffset(months=6))\n",
      "<ipython-input-4-fccb78a48aec>:39: FutureWarning: Indexing a timezone-aware DatetimeIndex with a timezone-naive datetime is deprecated and will raise KeyError in a future version. Use a timezone-aware object instead.\n",
      "  m3 = info.truncate(before=pd.Timestamp('today') - pd.DateOffset(months=3))\n",
      "<ipython-input-4-fccb78a48aec>:40: FutureWarning: Indexing a timezone-aware DatetimeIndex with a timezone-naive datetime is deprecated and will raise KeyError in a future version. Use a timezone-aware object instead.\n",
      "  m1 = info.truncate(before=pd.Timestamp('today') - pd.DateOffset(months=1))\n"
     ]
    },
    {
     "name": "stdout",
     "output_type": "stream",
     "text": [
      "1.3888826370239258\n",
      "Got error from yahoo api for ticker WTR, Error: {'code': 'Not Found', 'description': 'No data found, symbol may be delisted'}\n",
      "- WTR: No timezone found, symbol may be delisted\n",
      "Index Error when producing momentum table\n",
      "Got error from yahoo api for ticker WAAS, Error: {'code': 'Not Found', 'description': 'No data found, symbol may be delisted'}\n",
      "- WAAS: No timezone found, symbol may be delisted\n",
      "Index Error when producing momentum table\n"
     ]
    },
    {
     "name": "stderr",
     "output_type": "stream",
     "text": [
      "<ipython-input-4-fccb78a48aec>:37: FutureWarning: Indexing a timezone-aware DatetimeIndex with a timezone-naive datetime is deprecated and will raise KeyError in a future version. Use a timezone-aware object instead.\n",
      "  y = info.truncate(before=pd.Timestamp('today') - pd.DateOffset(months=12))\n",
      "<ipython-input-4-fccb78a48aec>:38: FutureWarning: Indexing a timezone-aware DatetimeIndex with a timezone-naive datetime is deprecated and will raise KeyError in a future version. Use a timezone-aware object instead.\n",
      "  m6 = info.truncate(before=pd.Timestamp('today') - pd.DateOffset(months=6))\n",
      "<ipython-input-4-fccb78a48aec>:39: FutureWarning: Indexing a timezone-aware DatetimeIndex with a timezone-naive datetime is deprecated and will raise KeyError in a future version. Use a timezone-aware object instead.\n",
      "  m3 = info.truncate(before=pd.Timestamp('today') - pd.DateOffset(months=3))\n",
      "<ipython-input-4-fccb78a48aec>:40: FutureWarning: Indexing a timezone-aware DatetimeIndex with a timezone-naive datetime is deprecated and will raise KeyError in a future version. Use a timezone-aware object instead.\n",
      "  m1 = info.truncate(before=pd.Timestamp('today') - pd.DateOffset(months=1))\n"
     ]
    },
    {
     "name": "stdout",
     "output_type": "stream",
     "text": [
      "1.0004403591156006\n"
     ]
    },
    {
     "name": "stderr",
     "output_type": "stream",
     "text": [
      "<ipython-input-4-fccb78a48aec>:37: FutureWarning: Indexing a timezone-aware DatetimeIndex with a timezone-naive datetime is deprecated and will raise KeyError in a future version. Use a timezone-aware object instead.\n",
      "  y = info.truncate(before=pd.Timestamp('today') - pd.DateOffset(months=12))\n",
      "<ipython-input-4-fccb78a48aec>:38: FutureWarning: Indexing a timezone-aware DatetimeIndex with a timezone-naive datetime is deprecated and will raise KeyError in a future version. Use a timezone-aware object instead.\n",
      "  m6 = info.truncate(before=pd.Timestamp('today') - pd.DateOffset(months=6))\n",
      "<ipython-input-4-fccb78a48aec>:39: FutureWarning: Indexing a timezone-aware DatetimeIndex with a timezone-naive datetime is deprecated and will raise KeyError in a future version. Use a timezone-aware object instead.\n",
      "  m3 = info.truncate(before=pd.Timestamp('today') - pd.DateOffset(months=3))\n",
      "<ipython-input-4-fccb78a48aec>:40: FutureWarning: Indexing a timezone-aware DatetimeIndex with a timezone-naive datetime is deprecated and will raise KeyError in a future version. Use a timezone-aware object instead.\n",
      "  m1 = info.truncate(before=pd.Timestamp('today') - pd.DateOffset(months=1))\n"
     ]
    },
    {
     "name": "stdout",
     "output_type": "stream",
     "text": [
      "1.021479606628418\n",
      "Got error from yahoo api for ticker ABRN, Error: {'code': 'Not Found', 'description': 'No data found, symbol may be delisted'}\n",
      "- ABRN: No timezone found, symbol may be delisted\n",
      "Index Error when producing momentum table\n",
      "Got error from yahoo api for ticker ABR.PRA, Error: {'code': 'Not Found', 'description': 'No data found, symbol may be delisted'}\n",
      "- ABR.PRA: No timezone found, symbol may be delisted\n",
      "Index Error when producing momentum table\n",
      "Got error from yahoo api for ticker ABR.PRB, Error: {'code': 'Not Found', 'description': 'No data found, symbol may be delisted'}\n",
      "- ABR.PRB: No timezone found, symbol may be delisted\n",
      "Index Error when producing momentum table\n",
      "Got error from yahoo api for ticker ABR.PRC, Error: {'code': 'Not Found', 'description': 'No data found, symbol may be delisted'}\n",
      "- ABR.PRC: No timezone found, symbol may be delisted\n",
      "Index Error when producing momentum table\n"
     ]
    },
    {
     "name": "stderr",
     "output_type": "stream",
     "text": [
      "<ipython-input-4-fccb78a48aec>:37: FutureWarning: Indexing a timezone-aware DatetimeIndex with a timezone-naive datetime is deprecated and will raise KeyError in a future version. Use a timezone-aware object instead.\n",
      "  y = info.truncate(before=pd.Timestamp('today') - pd.DateOffset(months=12))\n",
      "<ipython-input-4-fccb78a48aec>:38: FutureWarning: Indexing a timezone-aware DatetimeIndex with a timezone-naive datetime is deprecated and will raise KeyError in a future version. Use a timezone-aware object instead.\n",
      "  m6 = info.truncate(before=pd.Timestamp('today') - pd.DateOffset(months=6))\n",
      "<ipython-input-4-fccb78a48aec>:39: FutureWarning: Indexing a timezone-aware DatetimeIndex with a timezone-naive datetime is deprecated and will raise KeyError in a future version. Use a timezone-aware object instead.\n",
      "  m3 = info.truncate(before=pd.Timestamp('today') - pd.DateOffset(months=3))\n",
      "<ipython-input-4-fccb78a48aec>:40: FutureWarning: Indexing a timezone-aware DatetimeIndex with a timezone-naive datetime is deprecated and will raise KeyError in a future version. Use a timezone-aware object instead.\n",
      "  m1 = info.truncate(before=pd.Timestamp('today') - pd.DateOffset(months=1))\n"
     ]
    },
    {
     "name": "stdout",
     "output_type": "stream",
     "text": [
      "0.6898980140686035\n",
      "ARCX: 1d data not available for startTime=-2208994789 and endTime=1673489852. Only 100 years worth of day granularity data are allowed to be fetched per request.\n",
      "Index Error when producing momentum table\n"
     ]
    },
    {
     "name": "stderr",
     "output_type": "stream",
     "text": [
      "<ipython-input-4-fccb78a48aec>:37: FutureWarning: Indexing a timezone-aware DatetimeIndex with a timezone-naive datetime is deprecated and will raise KeyError in a future version. Use a timezone-aware object instead.\n",
      "  y = info.truncate(before=pd.Timestamp('today') - pd.DateOffset(months=12))\n",
      "<ipython-input-4-fccb78a48aec>:38: FutureWarning: Indexing a timezone-aware DatetimeIndex with a timezone-naive datetime is deprecated and will raise KeyError in a future version. Use a timezone-aware object instead.\n",
      "  m6 = info.truncate(before=pd.Timestamp('today') - pd.DateOffset(months=6))\n",
      "<ipython-input-4-fccb78a48aec>:39: FutureWarning: Indexing a timezone-aware DatetimeIndex with a timezone-naive datetime is deprecated and will raise KeyError in a future version. Use a timezone-aware object instead.\n",
      "  m3 = info.truncate(before=pd.Timestamp('today') - pd.DateOffset(months=3))\n",
      "<ipython-input-4-fccb78a48aec>:40: FutureWarning: Indexing a timezone-aware DatetimeIndex with a timezone-naive datetime is deprecated and will raise KeyError in a future version. Use a timezone-aware object instead.\n",
      "  m1 = info.truncate(before=pd.Timestamp('today') - pd.DateOffset(months=1))\n"
     ]
    },
    {
     "name": "stdout",
     "output_type": "stream",
     "text": [
      "1.0220248699188232\n",
      "Got error from yahoo api for ticker ARH.PRC, Error: {'code': 'Not Found', 'description': 'No data found, symbol may be delisted'}\n",
      "- ARH.PRC: No timezone found, symbol may be delisted\n",
      "Index Error when producing momentum table\n"
     ]
    },
    {
     "name": "stderr",
     "output_type": "stream",
     "text": [
      "<ipython-input-4-fccb78a48aec>:37: FutureWarning: Indexing a timezone-aware DatetimeIndex with a timezone-naive datetime is deprecated and will raise KeyError in a future version. Use a timezone-aware object instead.\n",
      "  y = info.truncate(before=pd.Timestamp('today') - pd.DateOffset(months=12))\n",
      "<ipython-input-4-fccb78a48aec>:38: FutureWarning: Indexing a timezone-aware DatetimeIndex with a timezone-naive datetime is deprecated and will raise KeyError in a future version. Use a timezone-aware object instead.\n",
      "  m6 = info.truncate(before=pd.Timestamp('today') - pd.DateOffset(months=6))\n",
      "<ipython-input-4-fccb78a48aec>:39: FutureWarning: Indexing a timezone-aware DatetimeIndex with a timezone-naive datetime is deprecated and will raise KeyError in a future version. Use a timezone-aware object instead.\n",
      "  m3 = info.truncate(before=pd.Timestamp('today') - pd.DateOffset(months=3))\n",
      "<ipython-input-4-fccb78a48aec>:40: FutureWarning: Indexing a timezone-aware DatetimeIndex with a timezone-naive datetime is deprecated and will raise KeyError in a future version. Use a timezone-aware object instead.\n",
      "  m1 = info.truncate(before=pd.Timestamp('today') - pd.DateOffset(months=1))\n"
     ]
    },
    {
     "name": "stdout",
     "output_type": "stream",
     "text": [
      "0.6533820629119873\n"
     ]
    },
    {
     "name": "stderr",
     "output_type": "stream",
     "text": [
      "<ipython-input-4-fccb78a48aec>:37: FutureWarning: Indexing a timezone-aware DatetimeIndex with a timezone-naive datetime is deprecated and will raise KeyError in a future version. Use a timezone-aware object instead.\n",
      "  y = info.truncate(before=pd.Timestamp('today') - pd.DateOffset(months=12))\n",
      "<ipython-input-4-fccb78a48aec>:38: FutureWarning: Indexing a timezone-aware DatetimeIndex with a timezone-naive datetime is deprecated and will raise KeyError in a future version. Use a timezone-aware object instead.\n",
      "  m6 = info.truncate(before=pd.Timestamp('today') - pd.DateOffset(months=6))\n",
      "<ipython-input-4-fccb78a48aec>:39: FutureWarning: Indexing a timezone-aware DatetimeIndex with a timezone-naive datetime is deprecated and will raise KeyError in a future version. Use a timezone-aware object instead.\n",
      "  m3 = info.truncate(before=pd.Timestamp('today') - pd.DateOffset(months=3))\n",
      "<ipython-input-4-fccb78a48aec>:40: FutureWarning: Indexing a timezone-aware DatetimeIndex with a timezone-naive datetime is deprecated and will raise KeyError in a future version. Use a timezone-aware object instead.\n",
      "  m1 = info.truncate(before=pd.Timestamp('today') - pd.DateOffset(months=1))\n"
     ]
    },
    {
     "name": "stdout",
     "output_type": "stream",
     "text": [
      "1.949854850769043\n"
     ]
    },
    {
     "name": "stderr",
     "output_type": "stream",
     "text": [
      "<ipython-input-4-fccb78a48aec>:37: FutureWarning: Indexing a timezone-aware DatetimeIndex with a timezone-naive datetime is deprecated and will raise KeyError in a future version. Use a timezone-aware object instead.\n",
      "  y = info.truncate(before=pd.Timestamp('today') - pd.DateOffset(months=12))\n",
      "<ipython-input-4-fccb78a48aec>:38: FutureWarning: Indexing a timezone-aware DatetimeIndex with a timezone-naive datetime is deprecated and will raise KeyError in a future version. Use a timezone-aware object instead.\n",
      "  m6 = info.truncate(before=pd.Timestamp('today') - pd.DateOffset(months=6))\n",
      "<ipython-input-4-fccb78a48aec>:39: FutureWarning: Indexing a timezone-aware DatetimeIndex with a timezone-naive datetime is deprecated and will raise KeyError in a future version. Use a timezone-aware object instead.\n",
      "  m3 = info.truncate(before=pd.Timestamp('today') - pd.DateOffset(months=3))\n",
      "<ipython-input-4-fccb78a48aec>:40: FutureWarning: Indexing a timezone-aware DatetimeIndex with a timezone-naive datetime is deprecated and will raise KeyError in a future version. Use a timezone-aware object instead.\n",
      "  m1 = info.truncate(before=pd.Timestamp('today') - pd.DateOffset(months=1))\n"
     ]
    },
    {
     "name": "stdout",
     "output_type": "stream",
     "text": [
      "0.804401159286499\n"
     ]
    },
    {
     "ename": "KeyboardInterrupt",
     "evalue": "",
     "output_type": "error",
     "traceback": [
      "\u001b[1;31m---------------------------------------------------------------------------\u001b[0m",
      "\u001b[1;31mKeyboardInterrupt\u001b[0m                         Traceback (most recent call last)",
      "\u001b[1;32m<ipython-input-4-fccb78a48aec>\u001b[0m in \u001b[0;36m<module>\u001b[1;34m\u001b[0m\n\u001b[0;32m     28\u001b[0m         \u001b[1;31m#Creating the df to be added to all_time_prices\u001b[0m\u001b[1;33m\u001b[0m\u001b[1;33m\u001b[0m\u001b[1;33m\u001b[0m\u001b[0m\n\u001b[0;32m     29\u001b[0m         \u001b[0mticker\u001b[0m \u001b[1;33m=\u001b[0m \u001b[0mtick\u001b[0m\u001b[1;33m[\u001b[0m\u001b[1;34m\"0\"\u001b[0m\u001b[1;33m]\u001b[0m\u001b[1;33m[\u001b[0m\u001b[0mi\u001b[0m\u001b[1;33m]\u001b[0m\u001b[1;33m\u001b[0m\u001b[1;33m\u001b[0m\u001b[0m\n\u001b[1;32m---> 30\u001b[1;33m         \u001b[0minfo\u001b[0m \u001b[1;33m=\u001b[0m \u001b[0myf\u001b[0m\u001b[1;33m.\u001b[0m\u001b[0mTicker\u001b[0m\u001b[1;33m(\u001b[0m\u001b[0mticker\u001b[0m\u001b[1;33m)\u001b[0m\u001b[1;33m.\u001b[0m\u001b[0mhistory\u001b[0m\u001b[1;33m(\u001b[0m\u001b[0mperiod\u001b[0m\u001b[1;33m=\u001b[0m\u001b[1;34m'max'\u001b[0m\u001b[1;33m)\u001b[0m\u001b[1;33m\u001b[0m\u001b[1;33m\u001b[0m\u001b[0m\n\u001b[0m\u001b[0;32m     31\u001b[0m         \u001b[0minfo\u001b[0m\u001b[1;33m.\u001b[0m\u001b[0mreset_index\u001b[0m\u001b[1;33m(\u001b[0m\u001b[0minplace\u001b[0m \u001b[1;33m=\u001b[0m \u001b[1;32mTrue\u001b[0m\u001b[1;33m)\u001b[0m\u001b[1;33m\u001b[0m\u001b[1;33m\u001b[0m\u001b[0m\n\u001b[0;32m     32\u001b[0m         \u001b[0minfo\u001b[0m\u001b[1;33m[\u001b[0m\u001b[1;34m'Ticker'\u001b[0m\u001b[1;33m]\u001b[0m \u001b[1;33m=\u001b[0m \u001b[0mticker\u001b[0m\u001b[1;33m\u001b[0m\u001b[1;33m\u001b[0m\u001b[0m\n",
      "\u001b[1;32m~\\AppData\\Local\\Programs\\Python\\Python38\\lib\\site-packages\\yfinance\\base.py\u001b[0m in \u001b[0;36mhistory\u001b[1;34m(self, period, interval, start, end, prepost, actions, auto_adjust, back_adjust, repair, keepna, proxy, rounding, timeout, debug, raise_errors)\u001b[0m\n\u001b[0;32m    195\u001b[0m                     \u001b[1;31m# Date range in past so safe to fetch through cache:\u001b[0m\u001b[1;33m\u001b[0m\u001b[1;33m\u001b[0m\u001b[1;33m\u001b[0m\u001b[0m\n\u001b[0;32m    196\u001b[0m                     \u001b[0mget_fn\u001b[0m \u001b[1;33m=\u001b[0m \u001b[0mself\u001b[0m\u001b[1;33m.\u001b[0m\u001b[0m_data\u001b[0m\u001b[1;33m.\u001b[0m\u001b[0mcache_get\u001b[0m\u001b[1;33m\u001b[0m\u001b[1;33m\u001b[0m\u001b[0m\n\u001b[1;32m--> 197\u001b[1;33m             data = get_fn(\n\u001b[0m\u001b[0;32m    198\u001b[0m                 \u001b[0murl\u001b[0m\u001b[1;33m=\u001b[0m\u001b[0murl\u001b[0m\u001b[1;33m,\u001b[0m\u001b[1;33m\u001b[0m\u001b[1;33m\u001b[0m\u001b[0m\n\u001b[0;32m    199\u001b[0m                 \u001b[0mparams\u001b[0m\u001b[1;33m=\u001b[0m\u001b[0mparams\u001b[0m\u001b[1;33m,\u001b[0m\u001b[1;33m\u001b[0m\u001b[1;33m\u001b[0m\u001b[0m\n",
      "\u001b[1;32m~\\AppData\\Local\\Programs\\Python\\Python38\\lib\\site-packages\\yfinance\\data.py\u001b[0m in \u001b[0;36mget\u001b[1;34m(self, url, user_agent_headers, params, proxy, timeout)\u001b[0m\n\u001b[0;32m    133\u001b[0m     \u001b[1;32mdef\u001b[0m \u001b[0mget\u001b[0m\u001b[1;33m(\u001b[0m\u001b[0mself\u001b[0m\u001b[1;33m,\u001b[0m \u001b[0murl\u001b[0m\u001b[1;33m,\u001b[0m \u001b[0muser_agent_headers\u001b[0m\u001b[1;33m=\u001b[0m\u001b[1;32mNone\u001b[0m\u001b[1;33m,\u001b[0m \u001b[0mparams\u001b[0m\u001b[1;33m=\u001b[0m\u001b[1;32mNone\u001b[0m\u001b[1;33m,\u001b[0m \u001b[0mproxy\u001b[0m\u001b[1;33m=\u001b[0m\u001b[1;32mNone\u001b[0m\u001b[1;33m,\u001b[0m \u001b[0mtimeout\u001b[0m\u001b[1;33m=\u001b[0m\u001b[1;36m30\u001b[0m\u001b[1;33m)\u001b[0m\u001b[1;33m:\u001b[0m\u001b[1;33m\u001b[0m\u001b[1;33m\u001b[0m\u001b[0m\n\u001b[0;32m    134\u001b[0m         \u001b[0mproxy\u001b[0m \u001b[1;33m=\u001b[0m \u001b[0mself\u001b[0m\u001b[1;33m.\u001b[0m\u001b[0m_get_proxy\u001b[0m\u001b[1;33m(\u001b[0m\u001b[0mproxy\u001b[0m\u001b[1;33m)\u001b[0m\u001b[1;33m\u001b[0m\u001b[1;33m\u001b[0m\u001b[0m\n\u001b[1;32m--> 135\u001b[1;33m         response = self._session.get(\n\u001b[0m\u001b[0;32m    136\u001b[0m             \u001b[0murl\u001b[0m\u001b[1;33m=\u001b[0m\u001b[0murl\u001b[0m\u001b[1;33m,\u001b[0m\u001b[1;33m\u001b[0m\u001b[1;33m\u001b[0m\u001b[0m\n\u001b[0;32m    137\u001b[0m             \u001b[0mparams\u001b[0m\u001b[1;33m=\u001b[0m\u001b[0mparams\u001b[0m\u001b[1;33m,\u001b[0m\u001b[1;33m\u001b[0m\u001b[1;33m\u001b[0m\u001b[0m\n",
      "\u001b[1;32m~\\AppData\\Local\\Programs\\Python\\Python38\\lib\\site-packages\\requests\\api.py\u001b[0m in \u001b[0;36mget\u001b[1;34m(url, params, **kwargs)\u001b[0m\n\u001b[0;32m     73\u001b[0m     \"\"\"\n\u001b[0;32m     74\u001b[0m \u001b[1;33m\u001b[0m\u001b[0m\n\u001b[1;32m---> 75\u001b[1;33m     \u001b[1;32mreturn\u001b[0m \u001b[0mrequest\u001b[0m\u001b[1;33m(\u001b[0m\u001b[1;34m'get'\u001b[0m\u001b[1;33m,\u001b[0m \u001b[0murl\u001b[0m\u001b[1;33m,\u001b[0m \u001b[0mparams\u001b[0m\u001b[1;33m=\u001b[0m\u001b[0mparams\u001b[0m\u001b[1;33m,\u001b[0m \u001b[1;33m**\u001b[0m\u001b[0mkwargs\u001b[0m\u001b[1;33m)\u001b[0m\u001b[1;33m\u001b[0m\u001b[1;33m\u001b[0m\u001b[0m\n\u001b[0m\u001b[0;32m     76\u001b[0m \u001b[1;33m\u001b[0m\u001b[0m\n\u001b[0;32m     77\u001b[0m \u001b[1;33m\u001b[0m\u001b[0m\n",
      "\u001b[1;32m~\\AppData\\Local\\Programs\\Python\\Python38\\lib\\site-packages\\requests\\api.py\u001b[0m in \u001b[0;36mrequest\u001b[1;34m(method, url, **kwargs)\u001b[0m\n\u001b[0;32m     59\u001b[0m     \u001b[1;31m# cases, and look like a memory leak in others.\u001b[0m\u001b[1;33m\u001b[0m\u001b[1;33m\u001b[0m\u001b[1;33m\u001b[0m\u001b[0m\n\u001b[0;32m     60\u001b[0m     \u001b[1;32mwith\u001b[0m \u001b[0msessions\u001b[0m\u001b[1;33m.\u001b[0m\u001b[0mSession\u001b[0m\u001b[1;33m(\u001b[0m\u001b[1;33m)\u001b[0m \u001b[1;32mas\u001b[0m \u001b[0msession\u001b[0m\u001b[1;33m:\u001b[0m\u001b[1;33m\u001b[0m\u001b[1;33m\u001b[0m\u001b[0m\n\u001b[1;32m---> 61\u001b[1;33m         \u001b[1;32mreturn\u001b[0m \u001b[0msession\u001b[0m\u001b[1;33m.\u001b[0m\u001b[0mrequest\u001b[0m\u001b[1;33m(\u001b[0m\u001b[0mmethod\u001b[0m\u001b[1;33m=\u001b[0m\u001b[0mmethod\u001b[0m\u001b[1;33m,\u001b[0m \u001b[0murl\u001b[0m\u001b[1;33m=\u001b[0m\u001b[0murl\u001b[0m\u001b[1;33m,\u001b[0m \u001b[1;33m**\u001b[0m\u001b[0mkwargs\u001b[0m\u001b[1;33m)\u001b[0m\u001b[1;33m\u001b[0m\u001b[1;33m\u001b[0m\u001b[0m\n\u001b[0m\u001b[0;32m     62\u001b[0m \u001b[1;33m\u001b[0m\u001b[0m\n\u001b[0;32m     63\u001b[0m \u001b[1;33m\u001b[0m\u001b[0m\n",
      "\u001b[1;32m~\\AppData\\Local\\Programs\\Python\\Python38\\lib\\site-packages\\requests\\sessions.py\u001b[0m in \u001b[0;36mrequest\u001b[1;34m(self, method, url, params, data, headers, cookies, files, auth, timeout, allow_redirects, proxies, hooks, stream, verify, cert, json)\u001b[0m\n\u001b[0;32m    527\u001b[0m         }\n\u001b[0;32m    528\u001b[0m         \u001b[0msend_kwargs\u001b[0m\u001b[1;33m.\u001b[0m\u001b[0mupdate\u001b[0m\u001b[1;33m(\u001b[0m\u001b[0msettings\u001b[0m\u001b[1;33m)\u001b[0m\u001b[1;33m\u001b[0m\u001b[1;33m\u001b[0m\u001b[0m\n\u001b[1;32m--> 529\u001b[1;33m         \u001b[0mresp\u001b[0m \u001b[1;33m=\u001b[0m \u001b[0mself\u001b[0m\u001b[1;33m.\u001b[0m\u001b[0msend\u001b[0m\u001b[1;33m(\u001b[0m\u001b[0mprep\u001b[0m\u001b[1;33m,\u001b[0m \u001b[1;33m**\u001b[0m\u001b[0msend_kwargs\u001b[0m\u001b[1;33m)\u001b[0m\u001b[1;33m\u001b[0m\u001b[1;33m\u001b[0m\u001b[0m\n\u001b[0m\u001b[0;32m    530\u001b[0m \u001b[1;33m\u001b[0m\u001b[0m\n\u001b[0;32m    531\u001b[0m         \u001b[1;32mreturn\u001b[0m \u001b[0mresp\u001b[0m\u001b[1;33m\u001b[0m\u001b[1;33m\u001b[0m\u001b[0m\n",
      "\u001b[1;32m~\\AppData\\Local\\Programs\\Python\\Python38\\lib\\site-packages\\requests\\sessions.py\u001b[0m in \u001b[0;36msend\u001b[1;34m(self, request, **kwargs)\u001b[0m\n\u001b[0;32m    643\u001b[0m \u001b[1;33m\u001b[0m\u001b[0m\n\u001b[0;32m    644\u001b[0m         \u001b[1;31m# Send the request\u001b[0m\u001b[1;33m\u001b[0m\u001b[1;33m\u001b[0m\u001b[1;33m\u001b[0m\u001b[0m\n\u001b[1;32m--> 645\u001b[1;33m         \u001b[0mr\u001b[0m \u001b[1;33m=\u001b[0m \u001b[0madapter\u001b[0m\u001b[1;33m.\u001b[0m\u001b[0msend\u001b[0m\u001b[1;33m(\u001b[0m\u001b[0mrequest\u001b[0m\u001b[1;33m,\u001b[0m \u001b[1;33m**\u001b[0m\u001b[0mkwargs\u001b[0m\u001b[1;33m)\u001b[0m\u001b[1;33m\u001b[0m\u001b[1;33m\u001b[0m\u001b[0m\n\u001b[0m\u001b[0;32m    646\u001b[0m \u001b[1;33m\u001b[0m\u001b[0m\n\u001b[0;32m    647\u001b[0m         \u001b[1;31m# Total elapsed time of the request (approximately)\u001b[0m\u001b[1;33m\u001b[0m\u001b[1;33m\u001b[0m\u001b[1;33m\u001b[0m\u001b[0m\n",
      "\u001b[1;32m~\\AppData\\Local\\Programs\\Python\\Python38\\lib\\site-packages\\requests\\adapters.py\u001b[0m in \u001b[0;36msend\u001b[1;34m(self, request, stream, timeout, verify, cert, proxies)\u001b[0m\n\u001b[0;32m    438\u001b[0m         \u001b[1;32mtry\u001b[0m\u001b[1;33m:\u001b[0m\u001b[1;33m\u001b[0m\u001b[1;33m\u001b[0m\u001b[0m\n\u001b[0;32m    439\u001b[0m             \u001b[1;32mif\u001b[0m \u001b[1;32mnot\u001b[0m \u001b[0mchunked\u001b[0m\u001b[1;33m:\u001b[0m\u001b[1;33m\u001b[0m\u001b[1;33m\u001b[0m\u001b[0m\n\u001b[1;32m--> 440\u001b[1;33m                 resp = conn.urlopen(\n\u001b[0m\u001b[0;32m    441\u001b[0m                     \u001b[0mmethod\u001b[0m\u001b[1;33m=\u001b[0m\u001b[0mrequest\u001b[0m\u001b[1;33m.\u001b[0m\u001b[0mmethod\u001b[0m\u001b[1;33m,\u001b[0m\u001b[1;33m\u001b[0m\u001b[1;33m\u001b[0m\u001b[0m\n\u001b[0;32m    442\u001b[0m                     \u001b[0murl\u001b[0m\u001b[1;33m=\u001b[0m\u001b[0murl\u001b[0m\u001b[1;33m,\u001b[0m\u001b[1;33m\u001b[0m\u001b[1;33m\u001b[0m\u001b[0m\n",
      "\u001b[1;32m~\\AppData\\Local\\Programs\\Python\\Python38\\lib\\site-packages\\urllib3\\connectionpool.py\u001b[0m in \u001b[0;36murlopen\u001b[1;34m(self, method, url, body, headers, retries, redirect, assert_same_host, timeout, pool_timeout, release_conn, chunked, body_pos, **response_kw)\u001b[0m\n\u001b[0;32m    697\u001b[0m \u001b[1;33m\u001b[0m\u001b[0m\n\u001b[0;32m    698\u001b[0m             \u001b[1;31m# Make the request on the httplib connection object.\u001b[0m\u001b[1;33m\u001b[0m\u001b[1;33m\u001b[0m\u001b[1;33m\u001b[0m\u001b[0m\n\u001b[1;32m--> 699\u001b[1;33m             httplib_response = self._make_request(\n\u001b[0m\u001b[0;32m    700\u001b[0m                 \u001b[0mconn\u001b[0m\u001b[1;33m,\u001b[0m\u001b[1;33m\u001b[0m\u001b[1;33m\u001b[0m\u001b[0m\n\u001b[0;32m    701\u001b[0m                 \u001b[0mmethod\u001b[0m\u001b[1;33m,\u001b[0m\u001b[1;33m\u001b[0m\u001b[1;33m\u001b[0m\u001b[0m\n",
      "\u001b[1;32m~\\AppData\\Local\\Programs\\Python\\Python38\\lib\\site-packages\\urllib3\\connectionpool.py\u001b[0m in \u001b[0;36m_make_request\u001b[1;34m(self, conn, method, url, timeout, chunked, **httplib_request_kw)\u001b[0m\n\u001b[0;32m    380\u001b[0m         \u001b[1;31m# Trigger any extra validation we need to do.\u001b[0m\u001b[1;33m\u001b[0m\u001b[1;33m\u001b[0m\u001b[1;33m\u001b[0m\u001b[0m\n\u001b[0;32m    381\u001b[0m         \u001b[1;32mtry\u001b[0m\u001b[1;33m:\u001b[0m\u001b[1;33m\u001b[0m\u001b[1;33m\u001b[0m\u001b[0m\n\u001b[1;32m--> 382\u001b[1;33m             \u001b[0mself\u001b[0m\u001b[1;33m.\u001b[0m\u001b[0m_validate_conn\u001b[0m\u001b[1;33m(\u001b[0m\u001b[0mconn\u001b[0m\u001b[1;33m)\u001b[0m\u001b[1;33m\u001b[0m\u001b[1;33m\u001b[0m\u001b[0m\n\u001b[0m\u001b[0;32m    383\u001b[0m         \u001b[1;32mexcept\u001b[0m \u001b[1;33m(\u001b[0m\u001b[0mSocketTimeout\u001b[0m\u001b[1;33m,\u001b[0m \u001b[0mBaseSSLError\u001b[0m\u001b[1;33m)\u001b[0m \u001b[1;32mas\u001b[0m \u001b[0me\u001b[0m\u001b[1;33m:\u001b[0m\u001b[1;33m\u001b[0m\u001b[1;33m\u001b[0m\u001b[0m\n\u001b[0;32m    384\u001b[0m             \u001b[1;31m# Py2 raises this as a BaseSSLError, Py3 raises it as socket timeout.\u001b[0m\u001b[1;33m\u001b[0m\u001b[1;33m\u001b[0m\u001b[1;33m\u001b[0m\u001b[0m\n",
      "\u001b[1;32m~\\AppData\\Local\\Programs\\Python\\Python38\\lib\\site-packages\\urllib3\\connectionpool.py\u001b[0m in \u001b[0;36m_validate_conn\u001b[1;34m(self, conn)\u001b[0m\n\u001b[0;32m   1008\u001b[0m         \u001b[1;31m# Force connect early to allow us to validate the connection.\u001b[0m\u001b[1;33m\u001b[0m\u001b[1;33m\u001b[0m\u001b[1;33m\u001b[0m\u001b[0m\n\u001b[0;32m   1009\u001b[0m         \u001b[1;32mif\u001b[0m \u001b[1;32mnot\u001b[0m \u001b[0mgetattr\u001b[0m\u001b[1;33m(\u001b[0m\u001b[0mconn\u001b[0m\u001b[1;33m,\u001b[0m \u001b[1;34m\"sock\"\u001b[0m\u001b[1;33m,\u001b[0m \u001b[1;32mNone\u001b[0m\u001b[1;33m)\u001b[0m\u001b[1;33m:\u001b[0m  \u001b[1;31m# AppEngine might not have  `.sock`\u001b[0m\u001b[1;33m\u001b[0m\u001b[1;33m\u001b[0m\u001b[0m\n\u001b[1;32m-> 1010\u001b[1;33m             \u001b[0mconn\u001b[0m\u001b[1;33m.\u001b[0m\u001b[0mconnect\u001b[0m\u001b[1;33m(\u001b[0m\u001b[1;33m)\u001b[0m\u001b[1;33m\u001b[0m\u001b[1;33m\u001b[0m\u001b[0m\n\u001b[0m\u001b[0;32m   1011\u001b[0m \u001b[1;33m\u001b[0m\u001b[0m\n\u001b[0;32m   1012\u001b[0m         \u001b[1;32mif\u001b[0m \u001b[1;32mnot\u001b[0m \u001b[0mconn\u001b[0m\u001b[1;33m.\u001b[0m\u001b[0mis_verified\u001b[0m\u001b[1;33m:\u001b[0m\u001b[1;33m\u001b[0m\u001b[1;33m\u001b[0m\u001b[0m\n",
      "\u001b[1;32m~\\AppData\\Local\\Programs\\Python\\Python38\\lib\\site-packages\\urllib3\\connection.py\u001b[0m in \u001b[0;36mconnect\u001b[1;34m(self)\u001b[0m\n\u001b[0;32m    356\u001b[0m     \u001b[1;32mdef\u001b[0m \u001b[0mconnect\u001b[0m\u001b[1;33m(\u001b[0m\u001b[0mself\u001b[0m\u001b[1;33m)\u001b[0m\u001b[1;33m:\u001b[0m\u001b[1;33m\u001b[0m\u001b[1;33m\u001b[0m\u001b[0m\n\u001b[0;32m    357\u001b[0m         \u001b[1;31m# Add certificate verification\u001b[0m\u001b[1;33m\u001b[0m\u001b[1;33m\u001b[0m\u001b[1;33m\u001b[0m\u001b[0m\n\u001b[1;32m--> 358\u001b[1;33m         \u001b[0mconn\u001b[0m \u001b[1;33m=\u001b[0m \u001b[0mself\u001b[0m\u001b[1;33m.\u001b[0m\u001b[0m_new_conn\u001b[0m\u001b[1;33m(\u001b[0m\u001b[1;33m)\u001b[0m\u001b[1;33m\u001b[0m\u001b[1;33m\u001b[0m\u001b[0m\n\u001b[0m\u001b[0;32m    359\u001b[0m         \u001b[0mhostname\u001b[0m \u001b[1;33m=\u001b[0m \u001b[0mself\u001b[0m\u001b[1;33m.\u001b[0m\u001b[0mhost\u001b[0m\u001b[1;33m\u001b[0m\u001b[1;33m\u001b[0m\u001b[0m\n\u001b[0;32m    360\u001b[0m         \u001b[0mtls_in_tls\u001b[0m \u001b[1;33m=\u001b[0m \u001b[1;32mFalse\u001b[0m\u001b[1;33m\u001b[0m\u001b[1;33m\u001b[0m\u001b[0m\n",
      "\u001b[1;32m~\\AppData\\Local\\Programs\\Python\\Python38\\lib\\site-packages\\urllib3\\connection.py\u001b[0m in \u001b[0;36m_new_conn\u001b[1;34m(self)\u001b[0m\n\u001b[0;32m    172\u001b[0m \u001b[1;33m\u001b[0m\u001b[0m\n\u001b[0;32m    173\u001b[0m         \u001b[1;32mtry\u001b[0m\u001b[1;33m:\u001b[0m\u001b[1;33m\u001b[0m\u001b[1;33m\u001b[0m\u001b[0m\n\u001b[1;32m--> 174\u001b[1;33m             conn = connection.create_connection(\n\u001b[0m\u001b[0;32m    175\u001b[0m                 \u001b[1;33m(\u001b[0m\u001b[0mself\u001b[0m\u001b[1;33m.\u001b[0m\u001b[0m_dns_host\u001b[0m\u001b[1;33m,\u001b[0m \u001b[0mself\u001b[0m\u001b[1;33m.\u001b[0m\u001b[0mport\u001b[0m\u001b[1;33m)\u001b[0m\u001b[1;33m,\u001b[0m \u001b[0mself\u001b[0m\u001b[1;33m.\u001b[0m\u001b[0mtimeout\u001b[0m\u001b[1;33m,\u001b[0m \u001b[1;33m**\u001b[0m\u001b[0mextra_kw\u001b[0m\u001b[1;33m\u001b[0m\u001b[1;33m\u001b[0m\u001b[0m\n\u001b[0;32m    176\u001b[0m             )\n",
      "\u001b[1;32m~\\AppData\\Local\\Programs\\Python\\Python38\\lib\\site-packages\\urllib3\\util\\connection.py\u001b[0m in \u001b[0;36mcreate_connection\u001b[1;34m(address, timeout, source_address, socket_options)\u001b[0m\n\u001b[0;32m     84\u001b[0m             \u001b[1;32mif\u001b[0m \u001b[0msource_address\u001b[0m\u001b[1;33m:\u001b[0m\u001b[1;33m\u001b[0m\u001b[1;33m\u001b[0m\u001b[0m\n\u001b[0;32m     85\u001b[0m                 \u001b[0msock\u001b[0m\u001b[1;33m.\u001b[0m\u001b[0mbind\u001b[0m\u001b[1;33m(\u001b[0m\u001b[0msource_address\u001b[0m\u001b[1;33m)\u001b[0m\u001b[1;33m\u001b[0m\u001b[1;33m\u001b[0m\u001b[0m\n\u001b[1;32m---> 86\u001b[1;33m             \u001b[0msock\u001b[0m\u001b[1;33m.\u001b[0m\u001b[0mconnect\u001b[0m\u001b[1;33m(\u001b[0m\u001b[0msa\u001b[0m\u001b[1;33m)\u001b[0m\u001b[1;33m\u001b[0m\u001b[1;33m\u001b[0m\u001b[0m\n\u001b[0m\u001b[0;32m     87\u001b[0m             \u001b[1;32mreturn\u001b[0m \u001b[0msock\u001b[0m\u001b[1;33m\u001b[0m\u001b[1;33m\u001b[0m\u001b[0m\n\u001b[0;32m     88\u001b[0m \u001b[1;33m\u001b[0m\u001b[0m\n",
      "\u001b[1;31mKeyboardInterrupt\u001b[0m: "
     ]
    }
   ],
   "source": [
    "#calulate the Hurst exponent of a stock\n",
    "def get_hurst_exponent(time_series, max_lag):\n",
    "    \"\"\"Returns the Hurst Exponent of the time series\"\"\"\n",
    "        \n",
    "    lags = range(2, max_lag)\n",
    "\n",
    "    # variances of the lagged differences\n",
    "    tau = [np.std(np.subtract(time_series[lag:], time_series[:-lag])) for lag in lags]\n",
    "\n",
    "    # calculate the slope of the log plot -> the Hurst Exponent\n",
    "    reg = np.polyfit(np.log(lags), np.log(tau), 1)\n",
    "\n",
    "    return reg[0]\n",
    "\n",
    "#Create first table with all stock info from yfinance\n",
    "tick = pd.read_csv(\"all_stocks\")\n",
    "momentum_cols = ['Ticker','Price',\n",
    "                '1y Price Return','1y percentile', \n",
    "                '6m Price Return', '6m percentile', \n",
    "                '3m Price Return', '3m percentile',\n",
    "                '1m Price Return','1m percentile',\n",
    "                'Weighted Hurst Exponent']\n",
    "momentum = pd.DataFrame(columns = momentum_cols)\n",
    "count = 0 \n",
    "for i in range(len(tick)): \n",
    "    start = time.time()    \n",
    "    try:\n",
    "        #Creating the df to be added to all_time_prices\n",
    "        ticker = tick[\"0\"][i]\n",
    "        info = yf.Ticker(ticker).history(period='max')\n",
    "        info.reset_index(inplace = True)\n",
    "        info['Ticker'] = ticker\n",
    "\n",
    "        info.sort_values(\"Date\", ascending = True, inplace = True)\n",
    "        info.set_index(\"Date\", inplace = True)\n",
    "        #Creating the df to be added to momentum\n",
    "        y = info.truncate(before=pd.Timestamp('today') - pd.DateOffset(months=12))\n",
    "        m6 = info.truncate(before=pd.Timestamp('today') - pd.DateOffset(months=6))\n",
    "        m3 = info.truncate(before=pd.Timestamp('today') - pd.DateOffset(months=3))\n",
    "        m1 = info.truncate(before=pd.Timestamp('today') - pd.DateOffset(months=1))\n",
    "\n",
    "        #momentum['Ticker'] = tick['0'][i]  \n",
    "        try: \n",
    "            perc_change1y = ((y.iloc[-1]['Close'] - y.iloc[0]['Close'])/y.iloc[0][\"Close\"])\n",
    "            #momentum['1y Price Return'] = perc_change1y\n",
    "            perc_change6m = ((m6.iloc[-1]['Close'] - m6.iloc[0]['Close'])/m6.iloc[0][\"Close\"])\n",
    "            #momentum['6m Price Return'] = perc_change6m\n",
    "            perc_change3m = ((m3.iloc[-1]['Close'] - m3.iloc[0]['Close'])/m3.iloc[0][\"Close\"])\n",
    "            #momentum['3m Price Return'] = perc_change3m\n",
    "            perc_change1m = ((m1.iloc[-1]['Close'] - m1.iloc[0]['Close'])/m1.iloc[0][\"Close\"])\n",
    "            #momentum['1m Price Return'] = perc_change1m\n",
    "\n",
    "            #momentum['Price'] = info['Close'] \n",
    "            #momentum['1y percentile'] = 0\n",
    "            #momentum['6m percentile'] = 0\n",
    "            #momentum['3m percentile'] = 0\n",
    "            #momentum['1m percentile'] = 0\n",
    "            #momentum['Weighted Hurst Exponent'] = 0\n",
    "            t = [20, 100, 300, 500, 1000]\n",
    "            total_hurst = 0\n",
    "            weight = 0.4\n",
    "            for j in range(len(t)): \n",
    "                #Use Weighted average to determine hurst exp of the stock\n",
    "                hurst_exp = get_hurst_exponent(info[\"Close\"].values, t[j])\n",
    "                #print(tick[\"0\"][i] + \" Hurst exponent with \" + str(t[j]) +  ' lags: ' + str(hurst_exp))\n",
    "                total_hurst += hurst_exp*weight\n",
    "                if j >= 2: \n",
    "                    weight = 0.1\n",
    "                else: \n",
    "                    weight = 0.2\n",
    "            #momentum = momentum.iloc[-1]\n",
    "        except IndexError: \n",
    "            print('Index Error when producing momentum table')\n",
    "            continue\n",
    "        momentum_append = pd.Series([tick['0'][i],info['Close'][-1],perc_change1y,0,perc_change6m,0,perc_change3m,0,perc_change1m,0, total_hurst],\n",
    "                                index = momentum_cols)\n",
    "        #print(momentum_append)\n",
    "    except TypeError: \n",
    "        print(\"Nonetype found for: \" + tick[\"0\"][i])\n",
    "        continue\n",
    "    except IndexError: \n",
    "        print(\"Couldn't find: \",tick[\"0\"][i])\n",
    "        continue\n",
    "    except KeyError:\n",
    "        print(\"Couldnt find key for: \" + tick['0'][i])\n",
    "        continue\n",
    "    stop = time.time()\n",
    "    duration = stop-start\n",
    "    print(duration)\n",
    "    momentum.loc[len(momentum)] = momentum_append\n",
    "#Get percentiles for each stock\n",
    "cols = ['1y', '6m', '3m', '1m']\n",
    "for c in cols: \n",
    "    for index, row in momentum.iterrows(): \n",
    "        percentile_change = stats.percentileofscore(momentum[c + ' Price Return'], momentum[c + ' Price Return'].loc[index])\n",
    "        momentum[c + ' percentile'][index] = percentile_change \n",
    "momentum['Shares To Buy'] = 0\n",
    "    \n",
    "#Calculate HQM score\n",
    "#Get the mean of all 4 percentiles \n",
    "momentum['HQM score'] = 0\n",
    "from statistics import mean\n",
    "for index, row in momentum.iterrows(): \n",
    "    all_periods_p = [row['1y percentile'], row['6m percentile'], row['3m percentile'], row['1m percentile']]\n",
    "    momentum['HQM score'].iloc[index] = mean(all_periods_p)\n",
    "\n",
    "\n",
    "#PUSH TO DATABASE\n",
    "momentum.to_sql('momentum', conn, if_exists='append', index=False)\n",
    "\n",
    "# Close the connection\n",
    "conn.close()"
   ]
  },
  {
   "cell_type": "code",
   "execution_count": null,
   "metadata": {},
   "outputs": [],
   "source": [
    "momentum.info()"
   ]
  },
  {
   "cell_type": "code",
   "execution_count": null,
   "metadata": {},
   "outputs": [],
   "source": []
  }
 ],
 "metadata": {
  "interpreter": {
   "hash": "f36662cf0d2dc2d22e7ce50b6b2dd5771b8ab03597c45c6e0e62ff4a448306d1"
  },
  "kernelspec": {
   "display_name": "Python 3.8.5 64-bit",
   "language": "python",
   "name": "python3"
  },
  "language_info": {
   "codemirror_mode": {
    "name": "ipython",
    "version": 3
   },
   "file_extension": ".py",
   "mimetype": "text/x-python",
   "name": "python",
   "nbconvert_exporter": "python",
   "pygments_lexer": "ipython3",
   "version": "3.8.5"
  },
  "orig_nbformat": 4
 },
 "nbformat": 4,
 "nbformat_minor": 2
}
