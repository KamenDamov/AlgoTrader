{
 "cells": [
  {
   "cell_type": "code",
   "execution_count": null,
   "metadata": {},
   "outputs": [],
   "source": [
    "import numpy as np\n",
    "import pandas as pd\n",
    "import math\n",
    "import requests \n",
    "import matplotlib as plt\n",
    "import seaborn as sns\n",
    "import yfinance as yf\n",
    "from pandas_datareader import data as pdr\n",
    "from bs4 import BeautifulSoup as bs\n",
    "from scipy import stats\n",
    "import datetime"
   ]
  },
  {
   "cell_type": "code",
   "execution_count": null,
   "metadata": {},
   "outputs": [],
   "source": [
    "tick = pd.read_csv(\"all_stocks\")"
   ]
  },
  {
   "cell_type": "code",
   "execution_count": null,
   "metadata": {},
   "outputs": [],
   "source": [
    "final = pd.DataFrame(columns=['Ticker','Price','Trailing PE ratio','Forward PE ratio','Price To Book',\\\n",
    "                                'Price To Sale','EV/EBITDA','EV/GP','Working Capital','Shares to buy'])\n",
    "for i in range(len(tick[\"0\"])):\n",
    "    print(\"Producing data for: \", tick[\"0\"][i])\n",
    "    try:\n",
    "        ticker = tick[\"0\"][i]\n",
    "        stock_info = yf.Ticker(ticker)\n",
    "        d = yf.Ticker(tick[\"0\"][i]).history(period = \"1mo\")\n",
    "        # Get the income statement for the stock\n",
    "\n",
    "        info = stock_info.info\n",
    "        fpe = info[\"forwardPE\"]\n",
    "        tpe = info[\"trailingPE\"]\n",
    "        fin = stock_info.info\n",
    "        liab = stock_info.balance_sheet\n",
    "        price_to_book = fin['priceToBook']\n",
    "        price_to_sale = fin['priceToSalesTrailing12Months']\n",
    "        ev_ebidta = fin['enterpriseToEbitda']\n",
    "        enterprise_value = fin['enterpriseValue']\n",
    "        gp = fin['grossProfits']\n",
    "        ev_gp = enterprise_value/gp\n",
    "        current_assets = liab[liab.index=='Current Assets'].iloc[0,0]\n",
    "        current_liab = liab[liab.index=='Current Liabilities'].iloc[0,0]\n",
    "        working_capital = current_assets/current_liab \n",
    "\n",
    "            #Ratio endettement (liabilities/assets)\n",
    "            #Working capital (currentAssets/currentLiability) Voir si depense sont capapble d'etre couverte dans la prochaine annee\n",
    "            #In balance_sheet we have: \n",
    "                #Current assets\n",
    "                #Current liabilities\n",
    "\n",
    "    except TypeError: \n",
    "        print(\"Nonetype found for: \" + tick[\"0\"][i])\n",
    "        continue\n",
    "    except IndexError: \n",
    "        print(\"Couldn't find: \",tick[\"0\"][i])\n",
    "        continue\n",
    "    except KeyError:\n",
    "        print(\"Couldnt find key for: \" + tick['0'][i])\n",
    "        continue\n",
    "    \n",
    "    d.reset_index(inplace = True)\n",
    "    try: \n",
    "        d['Ticker'] = tick['0'][i]\n",
    "        d[\"Price\"] = d['Close']\n",
    "        d['Trailing PE ratio'] = tpe\n",
    "        d['Forward PE ratio'] = fpe\n",
    "        d['Price To Book'] = price_to_book\n",
    "        d['Price To Sale'] = price_to_sale\n",
    "        d['EV/EBITDA'] = ev_ebidta\n",
    "        d['EV/GP'] = ev_gp\n",
    "        d['Working Capital'] = working_capital\n",
    "        d = d.iloc[-1]\n",
    "    except IndexError: \n",
    "        continue\n",
    "    #Append latest value\n",
    "    final = final.append(\n",
    "        pd.Series(d,\n",
    "        index=['Ticker','Price','Trailing PE ratio', 'Forward PE ratio','Price To Book', 'Price To Sale','EV/EBITDA','EV/GP','Working Capital','Shares to buy']), \n",
    "        ignore_index = True\n",
    "    ) "
   ]
  },
  {
   "cell_type": "code",
   "execution_count": null,
   "metadata": {},
   "outputs": [],
   "source": [
    "final.to_csv(\"value_invest_advanced_sheet\")"
   ]
  }
 ],
 "metadata": {
  "interpreter": {
   "hash": "f36662cf0d2dc2d22e7ce50b6b2dd5771b8ab03597c45c6e0e62ff4a448306d1"
  },
  "kernelspec": {
   "display_name": "Python 3.8.5 64-bit",
   "language": "python",
   "name": "python3"
  },
  "language_info": {
   "codemirror_mode": {
    "name": "ipython",
    "version": 3
   },
   "file_extension": ".py",
   "mimetype": "text/x-python",
   "name": "python",
   "nbconvert_exporter": "python",
   "pygments_lexer": "ipython3",
   "version": "3.8.5"
  },
  "orig_nbformat": 4
 },
 "nbformat": 4,
 "nbformat_minor": 2
}
