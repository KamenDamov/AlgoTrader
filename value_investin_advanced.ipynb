{
 "cells": [
  {
   "cell_type": "code",
   "execution_count": 77,
   "metadata": {},
   "outputs": [],
   "source": [
    "import numpy as np\n",
    "import pandas as pd\n",
    "import math\n",
    "import requests \n",
    "import matplotlib as plt\n",
    "import seaborn as sns\n",
    "import yfinance as yf\n",
    "from pandas_datareader import data as pdr\n",
    "from bs4 import BeautifulSoup as bs\n",
    "from scipy import stats\n",
    "import datetime"
   ]
  },
  {
   "cell_type": "code",
   "execution_count": 78,
   "metadata": {},
   "outputs": [],
   "source": [
    "tick = pd.read_csv(\"all_stocks\")"
   ]
  },
  {
   "cell_type": "code",
   "execution_count": 83,
   "metadata": {},
   "outputs": [
    {
     "name": "stdout",
     "output_type": "stream",
     "text": [
      "Producing data for:  AOS\n",
      "Index(['Total Revenue', 'Operating Revenue', 'Cost Of Revenue', 'Gross Profit',\n",
      "       'Operating Expense', 'Selling General And Administration',\n",
      "       'Operating Income', 'Net Non Operating Interest Income Expense',\n",
      "       'Interest Expense Non Operating', 'Other Income Expense',\n",
      "       'Special Income Charges', 'Restructuring And Mergern Acquisition',\n",
      "       'Other Non Operating Income Expenses', 'Pretax Income', 'Tax Provision',\n",
      "       'Net Income Common Stockholders', 'Net Income',\n",
      "       'Net Income Including Noncontrolling Interests',\n",
      "       'Net Income Continuous Operations',\n",
      "       'Diluted NI Availto Com Stockholders', 'Basic EPS', 'Diluted EPS',\n",
      "       'Basic Average Shares', 'Diluted Average Shares', 'Total Expenses',\n",
      "       'Net Income From Continuing And Discontinued Operation',\n",
      "       'Normalized Income', 'Interest Expense', 'Net Interest Income', 'EBIT',\n",
      "       'Reconciled Cost Of Revenue', 'Reconciled Depreciation',\n",
      "       'Net Income From Continuing Operation Net Minority Interest',\n",
      "       'Total Unusual Items Excluding Goodwill', 'Total Unusual Items',\n",
      "       'Normalized EBITDA', 'Tax Rate For Calcs',\n",
      "       'Tax Effect Of Unusual Items'],\n",
      "      dtype='object')\n"
     ]
    }
   ],
   "source": [
    "final = pd.DataFrame(columns=['Ticker','Price','Trailing PE ratio', 'Forward PE ratio','Shares to buy'])\n",
    "for i in range(len(tick[\"0\"])):\n",
    "    print(\"Producing data for: \", tick[\"0\"][i])\n",
    "    try:\n",
    "        ticker = tick[\"0\"][i]\n",
    "        stock_info = yf.Ticker(ticker)\n",
    "\n",
    "        # Get the income statement for the stock\n",
    "        income_statement = stock_info.income_stmt\n",
    "\n",
    "        # Get the amortization expense from the income statement\n",
    "\n",
    "        # Print the amortization expense\n",
    "        print(income_statement.index)\n",
    "        #In info: \n",
    "            #We have price to book\n",
    "            #We have price to sale 12 months\n",
    "            #We have enterprise value\n",
    "            #We have gross profit\n",
    "        #In income_stmt: \n",
    "        #EBIDTA\n",
    "\n",
    "        #Ratio endettement (liabilities/assets)\n",
    "        #Working capital (currentAssets/currentLiability) Voir si depense sont capapble d'etre couverte dans la prochaine annee\n",
    "\n",
    "    except TypeError: \n",
    "        print(\"Nonetype found for: \" + tick[\"0\"][i])\n",
    "        continue\n",
    "    except IndexError: \n",
    "        print(\"Couldn't find: \",tick[\"0\"][i])\n",
    "        continue\n",
    "    except KeyError:\n",
    "        print(\"Couldnt find key for: \" + tick['0'][i])\n",
    "        continue\n",
    "    break\n",
    "\n",
    "    '''    \n",
    "    try: \n",
    "        pass\n",
    "    except IndexError: \n",
    "        continue\n",
    "    #Change to keep only last 2 days!!! get date\n",
    "    \n",
    "    #Append latest value\n",
    "    final = final.append(\n",
    "        pd.Series(d,\n",
    "        index=['Ticker','Price','Trailing PE ratio', 'Forward PE ratio','Shares to buy']), \n",
    "        ignore_index = True\n",
    "    ) \n",
    "    '''"
   ]
  },
  {
   "cell_type": "code",
   "execution_count": 5,
   "metadata": {},
   "outputs": [],
   "source": [
    "final.to_csv(\"value_invest_advanced_sheet\")"
   ]
  }
 ],
 "metadata": {
  "interpreter": {
   "hash": "f36662cf0d2dc2d22e7ce50b6b2dd5771b8ab03597c45c6e0e62ff4a448306d1"
  },
  "kernelspec": {
   "display_name": "Python 3.8.5 64-bit",
   "language": "python",
   "name": "python3"
  },
  "language_info": {
   "codemirror_mode": {
    "name": "ipython",
    "version": 3
   },
   "file_extension": ".py",
   "mimetype": "text/x-python",
   "name": "python",
   "nbconvert_exporter": "python",
   "pygments_lexer": "ipython3",
   "version": "3.8.5"
  },
  "orig_nbformat": 4
 },
 "nbformat": 4,
 "nbformat_minor": 2
}
