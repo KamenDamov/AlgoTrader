{
 "cells": [
  {
   "cell_type": "code",
   "execution_count": null,
   "metadata": {},
   "outputs": [],
   "source": [
    "import numpy as np\n",
    "import pandas as pd\n",
    "import math\n",
    "import requests \n",
    "import matplotlib as plt\n",
    "import seaborn as sns\n",
    "import yfinance as yf\n",
    "from pandas_datareader import data as pdr\n",
    "from bs4 import BeautifulSoup as bs\n",
    "from scipy import stats\n",
    "import datetime"
   ]
  },
  {
   "cell_type": "code",
   "execution_count": null,
   "metadata": {},
   "outputs": [],
   "source": [
    "tick = pd.read_csv(\"all_stocks\")"
   ]
  },
  {
   "cell_type": "code",
   "execution_count": 3,
   "metadata": {},
   "outputs": [
    {
     "name": "stderr",
     "output_type": "stream",
     "text": [
      "<ipython-input-3-abdb3b7fe430>:57: FutureWarning: The frame.append method is deprecated and will be removed from pandas in a future version. Use pandas.concat instead.\n",
      "  final = final.append(\n"
     ]
    },
    {
     "name": "stdout",
     "output_type": "stream",
     "text": [
      "Producing data for:  AUY\n"
     ]
    },
    {
     "name": "stderr",
     "output_type": "stream",
     "text": [
      "<ipython-input-3-abdb3b7fe430>:57: FutureWarning: The frame.append method is deprecated and will be removed from pandas in a future version. Use pandas.concat instead.\n",
      "  final = final.append(\n"
     ]
    },
    {
     "name": "stdout",
     "output_type": "stream",
     "text": [
      "Producing data for:  YSG\n",
      "Couldnt find key for: YSG\n",
      "Producing data for:  YELP\n"
     ]
    },
    {
     "name": "stderr",
     "output_type": "stream",
     "text": [
      "<ipython-input-3-abdb3b7fe430>:57: FutureWarning: The frame.append method is deprecated and will be removed from pandas in a future version. Use pandas.concat instead.\n",
      "  final = final.append(\n"
     ]
    },
    {
     "name": "stdout",
     "output_type": "stream",
     "text": [
      "Producing data for:  YETI\n"
     ]
    },
    {
     "name": "stderr",
     "output_type": "stream",
     "text": [
      "<ipython-input-3-abdb3b7fe430>:57: FutureWarning: The frame.append method is deprecated and will be removed from pandas in a future version. Use pandas.concat instead.\n",
      "  final = final.append(\n"
     ]
    },
    {
     "name": "stdout",
     "output_type": "stream",
     "text": [
      "Producing data for:  YEXT\n",
      "Couldnt find key for: YEXT\n",
      "Producing data for:  YOKU\n",
      "YOKU: No data found for this date range, symbol may be delisted\n",
      "Couldnt find key for: YOKU\n",
      "Producing data for:  YPF\n"
     ]
    },
    {
     "name": "stderr",
     "output_type": "stream",
     "text": [
      "<ipython-input-3-abdb3b7fe430>:57: FutureWarning: The frame.append method is deprecated and will be removed from pandas in a future version. Use pandas.concat instead.\n",
      "  final = final.append(\n"
     ]
    },
    {
     "name": "stdout",
     "output_type": "stream",
     "text": [
      "Producing data for:  YAC\n",
      "YAC: No data found, symbol may be delisted\n",
      "- YAC: No summary info found, symbol may be delisted\n",
      "Nonetype found for: YAC\n",
      "Producing data for:  YUM\n"
     ]
    },
    {
     "name": "stderr",
     "output_type": "stream",
     "text": [
      "<ipython-input-3-abdb3b7fe430>:57: FutureWarning: The frame.append method is deprecated and will be removed from pandas in a future version. Use pandas.concat instead.\n",
      "  final = final.append(\n"
     ]
    },
    {
     "name": "stdout",
     "output_type": "stream",
     "text": [
      "Producing data for:  YUMC\n"
     ]
    },
    {
     "name": "stderr",
     "output_type": "stream",
     "text": [
      "<ipython-input-3-abdb3b7fe430>:57: FutureWarning: The frame.append method is deprecated and will be removed from pandas in a future version. Use pandas.concat instead.\n",
      "  final = final.append(\n"
     ]
    },
    {
     "name": "stdout",
     "output_type": "stream",
     "text": [
      "Producing data for:  ZEN\n",
      "ZEN: No data found for this date range, symbol may be delisted\n",
      "- ZEN: No summary info found, symbol may be delisted\n",
      "Nonetype found for: ZEN\n",
      "Producing data for:  ZH\n",
      "Couldnt find key for: ZH\n",
      "Producing data for:  ZIM\n"
     ]
    },
    {
     "name": "stderr",
     "output_type": "stream",
     "text": [
      "<ipython-input-3-abdb3b7fe430>:57: FutureWarning: The frame.append method is deprecated and will be removed from pandas in a future version. Use pandas.concat instead.\n",
      "  final = final.append(\n"
     ]
    },
    {
     "name": "stdout",
     "output_type": "stream",
     "text": [
      "Producing data for:  ZBH\n"
     ]
    },
    {
     "name": "stderr",
     "output_type": "stream",
     "text": [
      "<ipython-input-3-abdb3b7fe430>:57: FutureWarning: The frame.append method is deprecated and will be removed from pandas in a future version. Use pandas.concat instead.\n",
      "  final = final.append(\n"
     ]
    },
    {
     "name": "stdout",
     "output_type": "stream",
     "text": [
      "Producing data for:  ZION\n",
      "Couldn't find:  ZION\n",
      "Producing data for:  ZUO\n",
      "Couldnt find key for: ZUO\n",
      "Producing data for:  ZTS\n"
     ]
    },
    {
     "name": "stderr",
     "output_type": "stream",
     "text": [
      "<ipython-input-3-abdb3b7fe430>:57: FutureWarning: The frame.append method is deprecated and will be removed from pandas in a future version. Use pandas.concat instead.\n",
      "  final = final.append(\n"
     ]
    },
    {
     "name": "stdout",
     "output_type": "stream",
     "text": [
      "Producing data for:  ZYME\n",
      "Couldnt find key for: ZYME\n"
     ]
    }
   ],
   "source": [
    "final = pd.DataFrame(columns=['Ticker','Price','Trailing PE ratio','Forward PE ratio','Price To Book',\\\n",
    "                                'Price To Sale','EV/EBITDA','EV/GP','Working Capital','Shares to buy'])\n",
    "for i in range(len(tick[\"0\"])):\n",
    "    print(\"Producing data for: \", tick[\"0\"][i])\n",
    "    try:\n",
    "        ticker = tick[\"0\"][i]\n",
    "        stock_info = yf.Ticker(ticker)\n",
    "        d = yf.Ticker(tick[\"0\"][i]).history(period = \"1mo\")\n",
    "        # Get the income statement for the stock\n",
    "\n",
    "        info = stock_info.info\n",
    "        fpe = info[\"forwardPE\"]\n",
    "        tpe = info[\"trailingPE\"]\n",
    "        fin = stock_info.info\n",
    "        liab = stock_info.balance_sheet\n",
    "        price_to_book = fin['priceToBook']\n",
    "        price_to_sale = fin['priceToSalesTrailing12Months']\n",
    "        ev_ebidta = fin['enterpriseToEbitda']\n",
    "        enterprise_value = fin['enterpriseValue']\n",
    "        gp = fin['grossProfits']\n",
    "        ev_gp = enterprise_value/gp\n",
    "        current_assets = liab[liab.index=='Current Assets'].iloc[0,0]\n",
    "        current_liab = liab[liab.index=='Current Liabilities'].iloc[0,0]\n",
    "        working_capital = current_assets/current_liab \n",
    "\n",
    "            #Ratio endettement (liabilities/assets)\n",
    "            #Working capital (currentAssets/currentLiability) Voir si depense sont capapble d'etre couverte dans la prochaine annee\n",
    "            #In balance_sheet we have: \n",
    "                #Current assets\n",
    "                #Current liabilities\n",
    "\n",
    "    except TypeError: \n",
    "        print(\"Nonetype found for: \" + tick[\"0\"][i])\n",
    "        continue\n",
    "    except IndexError: \n",
    "        print(\"Couldn't find: \",tick[\"0\"][i])\n",
    "        continue\n",
    "    except KeyError:\n",
    "        print(\"Couldnt find key for: \" + tick['0'][i])\n",
    "        continue\n",
    "    \n",
    "    d.reset_index(inplace = True)\n",
    "    try: \n",
    "        d['Ticker'] = tick['0'][i]\n",
    "        d[\"Price\"] = d['Close']\n",
    "        d['Trailing PE ratio'] = tpe\n",
    "        d['Forward PE ratio'] = fpe\n",
    "        d['Price To Book'] = price_to_book\n",
    "        d['Price To Sale'] = price_to_sale\n",
    "        d['EV/EBITDA'] = ev_ebidta\n",
    "        d['EV/GP'] = ev_gp\n",
    "        d['Working Capital'] = working_capital\n",
    "        d = d.iloc[-1]\n",
    "    except IndexError: \n",
    "        continue\n",
    "    #Append latest value\n",
    "    final = final.append(\n",
    "        pd.Series(d,\n",
    "        index=['Ticker','Price','Trailing PE ratio', 'Forward PE ratio','Price To Book', 'Price To Sale','EV/EBITDA','EV/GP','Working Capital','Shares to buy']), \n",
    "        ignore_index = True\n",
    "    ) "
   ]
  },
  {
   "cell_type": "code",
   "execution_count": 4,
   "metadata": {},
   "outputs": [
    {
     "data": {
      "text/html": [
       "<div>\n",
       "<style scoped>\n",
       "    .dataframe tbody tr th:only-of-type {\n",
       "        vertical-align: middle;\n",
       "    }\n",
       "\n",
       "    .dataframe tbody tr th {\n",
       "        vertical-align: top;\n",
       "    }\n",
       "\n",
       "    .dataframe thead th {\n",
       "        text-align: right;\n",
       "    }\n",
       "</style>\n",
       "<table border=\"1\" class=\"dataframe\">\n",
       "  <thead>\n",
       "    <tr style=\"text-align: right;\">\n",
       "      <th></th>\n",
       "      <th>Ticker</th>\n",
       "      <th>Price</th>\n",
       "      <th>Trailing PE ratio</th>\n",
       "      <th>Forward PE ratio</th>\n",
       "      <th>Price To Book</th>\n",
       "      <th>Price To Sale</th>\n",
       "      <th>EV/EBITDA</th>\n",
       "      <th>EV/GP</th>\n",
       "      <th>Working Capital</th>\n",
       "      <th>Shares to buy</th>\n",
       "    </tr>\n",
       "  </thead>\n",
       "  <tbody>\n",
       "    <tr>\n",
       "      <th>0</th>\n",
       "      <td>AOS</td>\n",
       "      <td>59.215000</td>\n",
       "      <td>18.332817</td>\n",
       "      <td>18.44704</td>\n",
       "      <td>5.176137</td>\n",
       "      <td>2.304731</td>\n",
       "      <td>12.441</td>\n",
       "      <td>6.793145</td>\n",
       "      <td>1.566500</td>\n",
       "      <td>NaN</td>\n",
       "    </tr>\n",
       "    <tr>\n",
       "      <th>1</th>\n",
       "      <td>ATEN</td>\n",
       "      <td>15.760000</td>\n",
       "      <td>30.901962</td>\n",
       "      <td>18.761906</td>\n",
       "      <td>7.196347</td>\n",
       "      <td>4.234247</td>\n",
       "      <td>20.083</td>\n",
       "      <td>5.728374</td>\n",
       "      <td>2.446647</td>\n",
       "      <td>NaN</td>\n",
       "    </tr>\n",
       "    <tr>\n",
       "      <th>2</th>\n",
       "      <td>AIR</td>\n",
       "      <td>44.900002</td>\n",
       "      <td>17.817461</td>\n",
       "      <td>12.683617</td>\n",
       "      <td>1.470251</td>\n",
       "      <td>0.838774</td>\n",
       "      <td>11.1</td>\n",
       "      <td>5.535717</td>\n",
       "      <td>2.892590</td>\n",
       "      <td>NaN</td>\n",
       "    </tr>\n",
       "    <tr>\n",
       "      <th>3</th>\n",
       "      <td>AAN</td>\n",
       "      <td>12.715000</td>\n",
       "      <td>21.922415</td>\n",
       "      <td>7.613773</td>\n",
       "      <td>0.556139</td>\n",
       "      <td>0.185957</td>\n",
       "      <td>4.674</td>\n",
       "      <td>0.969086</td>\n",
       "      <td>2.714882</td>\n",
       "      <td>NaN</td>\n",
       "    </tr>\n",
       "    <tr>\n",
       "      <th>4</th>\n",
       "      <td>ABB</td>\n",
       "      <td>31.795000</td>\n",
       "      <td>15.359904</td>\n",
       "      <td>20.781046</td>\n",
       "      <td>5.042023</td>\n",
       "      <td>2.033011</td>\n",
       "      <td>14.11</td>\n",
       "      <td>6.694239</td>\n",
       "      <td>1.200861</td>\n",
       "      <td>NaN</td>\n",
       "    </tr>\n",
       "    <tr>\n",
       "      <th>...</th>\n",
       "      <td>...</td>\n",
       "      <td>...</td>\n",
       "      <td>...</td>\n",
       "      <td>...</td>\n",
       "      <td>...</td>\n",
       "      <td>...</td>\n",
       "      <td>...</td>\n",
       "      <td>...</td>\n",
       "      <td>...</td>\n",
       "      <td>...</td>\n",
       "    </tr>\n",
       "    <tr>\n",
       "      <th>987</th>\n",
       "      <td>YUM</td>\n",
       "      <td>127.699997</td>\n",
       "      <td>28.956917</td>\n",
       "      <td>24.844358</td>\n",
       "      <td>None</td>\n",
       "      <td>5.358492</td>\n",
       "      <td>21.467</td>\n",
       "      <td>15.201704</td>\n",
       "      <td>1.082686</td>\n",
       "      <td>NaN</td>\n",
       "    </tr>\n",
       "    <tr>\n",
       "      <th>988</th>\n",
       "      <td>YUMC</td>\n",
       "      <td>58.040001</td>\n",
       "      <td>27.903847</td>\n",
       "      <td>4.157593</td>\n",
       "      <td>3.789254</td>\n",
       "      <td>2.485071</td>\n",
       "      <td>18.873</td>\n",
       "      <td>12.165653</td>\n",
       "      <td>1.979018</td>\n",
       "      <td>NaN</td>\n",
       "    </tr>\n",
       "    <tr>\n",
       "      <th>989</th>\n",
       "      <td>ZIM</td>\n",
       "      <td>17.049999</td>\n",
       "      <td>0.369848</td>\n",
       "      <td>10.791139</td>\n",
       "      <td>0.352258</td>\n",
       "      <td>0.1479</td>\n",
       "      <td>0.436</td>\n",
       "      <td>0.523250</td>\n",
       "      <td>1.844618</td>\n",
       "      <td>NaN</td>\n",
       "    </tr>\n",
       "    <tr>\n",
       "      <th>990</th>\n",
       "      <td>ZBH</td>\n",
       "      <td>126.080002</td>\n",
       "      <td>81.34194</td>\n",
       "      <td>18.141008</td>\n",
       "      <td>2.160236</td>\n",
       "      <td>3.34875</td>\n",
       "      <td>13.492</td>\n",
       "      <td>5.832100</td>\n",
       "      <td>1.408633</td>\n",
       "      <td>NaN</td>\n",
       "    </tr>\n",
       "    <tr>\n",
       "      <th>991</th>\n",
       "      <td>ZTS</td>\n",
       "      <td>145.449997</td>\n",
       "      <td>32.685394</td>\n",
       "      <td>27.186916</td>\n",
       "      <td>14.549365</td>\n",
       "      <td>8.466363</td>\n",
       "      <td>22.639</td>\n",
       "      <td>13.428039</td>\n",
       "      <td>3.856427</td>\n",
       "      <td>NaN</td>\n",
       "    </tr>\n",
       "  </tbody>\n",
       "</table>\n",
       "<p>992 rows × 10 columns</p>\n",
       "</div>"
      ],
      "text/plain": [
       "    Ticker       Price Trailing PE ratio Forward PE ratio Price To Book  \\\n",
       "0      AOS   59.215000         18.332817         18.44704      5.176137   \n",
       "1     ATEN   15.760000         30.901962        18.761906      7.196347   \n",
       "2      AIR   44.900002         17.817461        12.683617      1.470251   \n",
       "3      AAN   12.715000         21.922415         7.613773      0.556139   \n",
       "4      ABB   31.795000         15.359904        20.781046      5.042023   \n",
       "..     ...         ...               ...              ...           ...   \n",
       "987    YUM  127.699997         28.956917        24.844358          None   \n",
       "988   YUMC   58.040001         27.903847         4.157593      3.789254   \n",
       "989    ZIM   17.049999          0.369848        10.791139      0.352258   \n",
       "990    ZBH  126.080002          81.34194        18.141008      2.160236   \n",
       "991    ZTS  145.449997         32.685394        27.186916     14.549365   \n",
       "\n",
       "    Price To Sale EV/EBITDA      EV/GP  Working Capital  Shares to buy  \n",
       "0        2.304731    12.441   6.793145         1.566500            NaN  \n",
       "1        4.234247    20.083   5.728374         2.446647            NaN  \n",
       "2        0.838774      11.1   5.535717         2.892590            NaN  \n",
       "3        0.185957     4.674   0.969086         2.714882            NaN  \n",
       "4        2.033011     14.11   6.694239         1.200861            NaN  \n",
       "..            ...       ...        ...              ...            ...  \n",
       "987      5.358492    21.467  15.201704         1.082686            NaN  \n",
       "988      2.485071    18.873  12.165653         1.979018            NaN  \n",
       "989        0.1479     0.436   0.523250         1.844618            NaN  \n",
       "990       3.34875    13.492   5.832100         1.408633            NaN  \n",
       "991      8.466363    22.639  13.428039         3.856427            NaN  \n",
       "\n",
       "[992 rows x 10 columns]"
      ]
     },
     "execution_count": 4,
     "metadata": {},
     "output_type": "execute_result"
    }
   ],
   "source": [
    "final"
   ]
  },
  {
   "cell_type": "code",
   "execution_count": 5,
   "metadata": {},
   "outputs": [],
   "source": [
    "final.to_csv(\"value_invest_advanced_sheet\")"
   ]
  }
 ],
 "metadata": {
  "interpreter": {
   "hash": "f36662cf0d2dc2d22e7ce50b6b2dd5771b8ab03597c45c6e0e62ff4a448306d1"
  },
  "kernelspec": {
   "display_name": "Python 3.8.5 64-bit",
   "language": "python",
   "name": "python3"
  },
  "language_info": {
   "codemirror_mode": {
    "name": "ipython",
    "version": 3
   },
   "file_extension": ".py",
   "mimetype": "text/x-python",
   "name": "python",
   "nbconvert_exporter": "python",
   "pygments_lexer": "ipython3",
   "version": "3.8.5"
  },
  "orig_nbformat": 4
 },
 "nbformat": 4,
 "nbformat_minor": 2
}
