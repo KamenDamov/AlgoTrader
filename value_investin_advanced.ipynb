{
 "cells": [
  {
   "cell_type": "code",
   "execution_count": 77,
   "metadata": {},
   "outputs": [],
   "source": [
    "import numpy as np\n",
    "import pandas as pd\n",
    "import math\n",
    "import requests \n",
    "import matplotlib as plt\n",
    "import seaborn as sns\n",
    "import yfinance as yf\n",
    "from pandas_datareader import data as pdr\n",
    "from bs4 import BeautifulSoup as bs\n",
    "from scipy import stats\n",
    "import datetime"
   ]
  },
  {
   "cell_type": "code",
   "execution_count": 78,
   "metadata": {},
   "outputs": [],
   "source": [
    "tick = pd.read_csv(\"all_stocks\")"
   ]
  },
  {
   "cell_type": "code",
   "execution_count": 102,
   "metadata": {},
   "outputs": [
    {
     "name": "stdout",
     "output_type": "stream",
     "text": [
      "Producing data for:  AOS\n",
      "Total Liabilities Net Minority Interest\n",
      "Current Liabilities\n",
      "Total Non Current Liabilities Net Minority Interest\n",
      "Other Non Current Liabilities\n"
     ]
    }
   ],
   "source": [
    "final = pd.DataFrame(columns=['Ticker','Price','Trailing PE ratio', 'Forward PE ratio','Shares to buy'])\n",
    "for i in range(len(tick[\"0\"])):\n",
    "    print(\"Producing data for: \", tick[\"0\"][i])\n",
    "    try:\n",
    "        ticker = tick[\"0\"][i]\n",
    "        stock_info = yf.Ticker(ticker)\n",
    "\n",
    "        # Get the income statement for the stock\n",
    "        fin = stock_info.info\n",
    "        liab = stock_info.balance_sheet\n",
    "        #print(liab)\n",
    "        for i in liab.index: \n",
    "            if 'liab' in i.lower(): \n",
    "                print(i)\n",
    "\n",
    "        # Print the amortization expense\n",
    "        price_to_book = fin['priceToBook']\n",
    "        price_to_sale = fin['priceToSalesTrailing12Months']\n",
    "        ev_ebidta = fin['enterpriseToEbitda']\n",
    "        enterprise_value = fin['enterpriseValue']\n",
    "        gp = fin['grossProfits']\n",
    "        ev_gp = enterprise_value/gp\n",
    "\n",
    "        #Ratio endettement (liabilities/assets)\n",
    "        #Working capital (currentAssets/currentLiability) Voir si depense sont capapble d'etre couverte dans la prochaine annee\n",
    "        #In balance_sheet we have: \n",
    "            #Total assets\n",
    "            #\n",
    "\n",
    "    except TypeError: \n",
    "        print(\"Nonetype found for: \" + tick[\"0\"][i])\n",
    "        continue\n",
    "    except IndexError: \n",
    "        print(\"Couldn't find: \",tick[\"0\"][i])\n",
    "        continue\n",
    "    except KeyError:\n",
    "        print(\"Couldnt find key for: \" + tick['0'][i])\n",
    "        continue\n",
    "    break\n",
    "\n",
    "    '''    \n",
    "    try: \n",
    "        pass\n",
    "    except IndexError: \n",
    "        continue\n",
    "    #Change to keep only last 2 days!!! get date\n",
    "    \n",
    "    #Append latest value\n",
    "    final = final.append(\n",
    "        pd.Series(d,\n",
    "        index=['Ticker','Price','Trailing PE ratio', 'Forward PE ratio','Shares to buy']), \n",
    "        ignore_index = True\n",
    "    ) \n",
    "    '''"
   ]
  },
  {
   "cell_type": "code",
   "execution_count": 5,
   "metadata": {},
   "outputs": [],
   "source": [
    "final.to_csv(\"value_invest_advanced_sheet\")"
   ]
  }
 ],
 "metadata": {
  "interpreter": {
   "hash": "f36662cf0d2dc2d22e7ce50b6b2dd5771b8ab03597c45c6e0e62ff4a448306d1"
  },
  "kernelspec": {
   "display_name": "Python 3.8.5 64-bit",
   "language": "python",
   "name": "python3"
  },
  "language_info": {
   "codemirror_mode": {
    "name": "ipython",
    "version": 3
   },
   "file_extension": ".py",
   "mimetype": "text/x-python",
   "name": "python",
   "nbconvert_exporter": "python",
   "pygments_lexer": "ipython3",
   "version": "3.8.5"
  },
  "orig_nbformat": 4
 },
 "nbformat": 4,
 "nbformat_minor": 2
}
