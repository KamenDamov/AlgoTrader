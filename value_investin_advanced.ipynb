{
 "cells": [
  {
   "cell_type": "code",
   "execution_count": 77,
   "metadata": {},
   "outputs": [],
   "source": [
    "import numpy as np\n",
    "import pandas as pd\n",
    "import math\n",
    "import requests \n",
    "import matplotlib as plt\n",
    "import seaborn as sns\n",
    "import yfinance as yf\n",
    "from pandas_datareader import data as pdr\n",
    "from bs4 import BeautifulSoup as bs\n",
    "from scipy import stats\n",
    "import datetime"
   ]
  },
  {
   "cell_type": "code",
   "execution_count": 78,
   "metadata": {},
   "outputs": [],
   "source": [
    "tick = pd.read_csv(\"all_stocks\")"
   ]
  },
  {
   "cell_type": "code",
   "execution_count": 107,
   "metadata": {},
   "outputs": [
    {
     "name": "stdout",
     "output_type": "stream",
     "text": [
      "Producing data for:  AOS\n",
      "                                                    2021-12-31    2020-12-31  \\\n",
      "Total Assets                                      3474400000.0  3160700000.0   \n",
      "Current Assets                                    1752600000.0  1618000000.0   \n",
      "Cash Cash Equivalents And Short Term Investments   631400000.0   689600000.0   \n",
      "Cash And Cash Equivalents                          443300000.0   573100000.0   \n",
      "Other Short Term Investments                       188100000.0   116500000.0   \n",
      "...                                                        ...           ...   \n",
      "Tangible Book Value                                839600000.0   977600000.0   \n",
      "Total Debt                                         219000000.0   147600000.0   \n",
      "Share Issued                                       190577214.0   190577214.0   \n",
      "Ordinary Shares Number                             157652567.0   161769759.0   \n",
      "Treasury Shares Number                              33055027.0    28937835.0   \n",
      "\n",
      "                                                    2019-12-31    2018-12-31  \n",
      "Total Assets                                      3058000000.0  3071500000.0  \n",
      "Current Assets                                    1500400000.0  1638500000.0  \n",
      "Cash Cash Equivalents And Short Term Investments   551400000.0   645000000.0  \n",
      "Cash And Cash Equivalents                          374000000.0   259700000.0  \n",
      "Other Short Term Investments                       177400000.0   385300000.0  \n",
      "...                                                        ...           ...  \n",
      "Tangible Book Value                                782400000.0   910900000.0  \n",
      "Total Debt                                         322700000.0   221400000.0  \n",
      "Share Issued                                       190577214.0   190577214.0  \n",
      "Ordinary Shares Number                             162371408.0   168159148.0  \n",
      "Treasury Shares Number                              28336186.0    22548446.0  \n",
      "\n",
      "[66 rows x 4 columns]\n"
     ]
    },
    {
     "ename": "AttributeError",
     "evalue": "'Timestamp' object has no attribute 'lower'",
     "output_type": "error",
     "traceback": [
      "\u001b[1;31m---------------------------------------------------------------------------\u001b[0m",
      "\u001b[1;31mAttributeError\u001b[0m                            Traceback (most recent call last)",
      "\u001b[1;32m<ipython-input-107-86579804b449>\u001b[0m in \u001b[0;36m<module>\u001b[1;34m\u001b[0m\n\u001b[0;32m     11\u001b[0m         \u001b[0mprint\u001b[0m\u001b[1;33m(\u001b[0m\u001b[0mliab\u001b[0m\u001b[1;33m)\u001b[0m\u001b[1;33m\u001b[0m\u001b[1;33m\u001b[0m\u001b[0m\n\u001b[0;32m     12\u001b[0m         \u001b[1;32mfor\u001b[0m \u001b[0mi\u001b[0m \u001b[1;32min\u001b[0m \u001b[0mliab\u001b[0m\u001b[1;33m:\u001b[0m\u001b[1;33m\u001b[0m\u001b[1;33m\u001b[0m\u001b[0m\n\u001b[1;32m---> 13\u001b[1;33m             \u001b[1;32mif\u001b[0m \u001b[1;34m'earn'\u001b[0m \u001b[1;32min\u001b[0m \u001b[0mi\u001b[0m\u001b[1;33m.\u001b[0m\u001b[0mlower\u001b[0m\u001b[1;33m(\u001b[0m\u001b[1;33m)\u001b[0m\u001b[1;33m:\u001b[0m\u001b[1;33m\u001b[0m\u001b[1;33m\u001b[0m\u001b[0m\n\u001b[0m\u001b[0;32m     14\u001b[0m                 \u001b[0mprint\u001b[0m\u001b[1;33m(\u001b[0m\u001b[0mi\u001b[0m\u001b[1;33m)\u001b[0m\u001b[1;33m\u001b[0m\u001b[1;33m\u001b[0m\u001b[0m\n\u001b[0;32m     15\u001b[0m \u001b[1;33m\u001b[0m\u001b[0m\n",
      "\u001b[1;31mAttributeError\u001b[0m: 'Timestamp' object has no attribute 'lower'"
     ]
    }
   ],
   "source": [
    "final = pd.DataFrame(columns=['Ticker','Price','Price To Book', 'Price To Sale','EV/EBITDA','EV/GP','Working Capital','Shares to buy'])\n",
    "for i in range(len(tick[\"0\"])):\n",
    "    print(\"Producing data for: \", tick[\"0\"][i])\n",
    "    try:\n",
    "        ticker = tick[\"0\"][i]\n",
    "        stock_info = yf.Ticker(ticker)\n",
    "\n",
    "        # Get the income statement for the stock\n",
    "        fin = stock_info.info\n",
    "        liab = stock_info.balance_sheet\n",
    "        print(liab)\n",
    "        for i in liab: \n",
    "            if 'earn' in i.lower(): \n",
    "                print(i)\n",
    "\n",
    "        # Print the amortization expense\n",
    "        price_to_book = fin['priceToBook']\n",
    "        price_to_sale = fin['priceToSalesTrailing12Months']\n",
    "        ev_ebidta = fin['enterpriseToEbitda']\n",
    "        enterprise_value = fin['enterpriseValue']\n",
    "        gp = fin['grossProfits']\n",
    "        ev_gp = enterprise_value/gp\n",
    "        current_assets = liab[liab.index=='Current Assets'].iloc[0,0]\n",
    "        current_liab = liab[liab.index=='Current Liabilites'].iloc[0,0]\n",
    "        working_capital = current_assets/current_liab \n",
    "\n",
    "        #Ratio endettement (liabilities/assets)\n",
    "        #Working capital (currentAssets/currentLiability) Voir si depense sont capapble d'etre couverte dans la prochaine annee\n",
    "        #In balance_sheet we have: \n",
    "            #Current assets\n",
    "            #Current liabilities\n",
    "\n",
    "    except TypeError: \n",
    "        print(\"Nonetype found for: \" + tick[\"0\"][i])\n",
    "        continue\n",
    "    except IndexError: \n",
    "        print(\"Couldn't find: \",tick[\"0\"][i])\n",
    "        continue\n",
    "    except KeyError:\n",
    "        print(\"Couldnt find key for: \" + tick['0'][i])\n",
    "        continue\n",
    "    break\n",
    "\n",
    "    '''    \n",
    "    try: \n",
    "        pass\n",
    "    except IndexError: \n",
    "        continue\n",
    "    #Change to keep only last 2 days!!! get date\n",
    "    \n",
    "    #Append latest value\n",
    "    final = final.append(\n",
    "        pd.Series(d,\n",
    "        index=['Ticker','Price','Trailing PE ratio', 'Forward PE ratio','Shares to buy']), \n",
    "        ignore_index = True\n",
    "    ) \n",
    "    '''"
   ]
  },
  {
   "cell_type": "code",
   "execution_count": 5,
   "metadata": {},
   "outputs": [],
   "source": [
    "final.to_csv(\"value_invest_advanced_sheet\")"
   ]
  }
 ],
 "metadata": {
  "interpreter": {
   "hash": "f36662cf0d2dc2d22e7ce50b6b2dd5771b8ab03597c45c6e0e62ff4a448306d1"
  },
  "kernelspec": {
   "display_name": "Python 3.8.5 64-bit",
   "language": "python",
   "name": "python3"
  },
  "language_info": {
   "codemirror_mode": {
    "name": "ipython",
    "version": 3
   },
   "file_extension": ".py",
   "mimetype": "text/x-python",
   "name": "python",
   "nbconvert_exporter": "python",
   "pygments_lexer": "ipython3",
   "version": "3.8.5"
  },
  "orig_nbformat": 4
 },
 "nbformat": 4,
 "nbformat_minor": 2
}
