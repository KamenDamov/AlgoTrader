{
 "cells": [
  {
   "cell_type": "code",
   "execution_count": null,
   "metadata": {},
   "outputs": [],
   "source": [
    "import numpy as np\n",
    "import pandas as pd\n",
    "import math\n",
    "import requests \n",
    "import matplotlib as plt\n",
    "import seaborn as sns\n",
    "import yfinance as yf\n",
    "from pandas_datareader import data as pdr\n",
    "from bs4 import BeautifulSoup as bs\n",
    "from scipy import stats\n",
    "import datetime"
   ]
  },
  {
   "cell_type": "code",
   "execution_count": null,
   "metadata": {},
   "outputs": [],
   "source": [
    "tick = pd.read_csv(\"all_stocks\")"
   ]
  },
  {
   "cell_type": "code",
   "execution_count": 3,
   "metadata": {},
   "outputs": [
    {
     "name": "stdout",
     "output_type": "stream",
     "text": [
      "Couldnt find key for: CKP\n",
      "Producing data for:  CMCM\n"
     ]
    },
    {
     "name": "stderr",
     "output_type": "stream",
     "text": [
      "<ipython-input-3-abdb3b7fe430>:57: FutureWarning: The frame.append method is deprecated and will be removed from pandas in a future version. Use pandas.concat instead.\n",
      "  final = final.append(\n"
     ]
    },
    {
     "name": "stdout",
     "output_type": "stream",
     "text": [
      "Producing data for:  CHGG\n"
     ]
    },
    {
     "name": "stderr",
     "output_type": "stream",
     "text": [
      "<ipython-input-3-abdb3b7fe430>:57: FutureWarning: The frame.append method is deprecated and will be removed from pandas in a future version. Use pandas.concat instead.\n",
      "  final = final.append(\n"
     ]
    },
    {
     "name": "stdout",
     "output_type": "stream",
     "text": [
      "Producing data for:  CHE\n"
     ]
    },
    {
     "name": "stderr",
     "output_type": "stream",
     "text": [
      "<ipython-input-3-abdb3b7fe430>:57: FutureWarning: The frame.append method is deprecated and will be removed from pandas in a future version. Use pandas.concat instead.\n",
      "  final = final.append(\n"
     ]
    },
    {
     "name": "stdout",
     "output_type": "stream",
     "text": [
      "Producing data for:  CHMT\n",
      "Couldnt find key for: CHMT\n",
      "Producing data for:  CHMI\n",
      "Couldn't find:  CHMI\n",
      "Producing data for:  CHK\n",
      "Couldnt find key for: CHK\n",
      "Producing data for:  CHKR\n",
      "Couldn't find:  CHKR\n",
      "Producing data for:  CHSP\n",
      "CHSP: No data found, symbol may be delisted\n",
      "- CHSP: No summary info found, symbol may be delisted\n",
      "Nonetype found for: CHSP\n",
      "Producing data for:  CPK\n"
     ]
    },
    {
     "name": "stderr",
     "output_type": "stream",
     "text": [
      "<ipython-input-3-abdb3b7fe430>:57: FutureWarning: The frame.append method is deprecated and will be removed from pandas in a future version. Use pandas.concat instead.\n",
      "  final = final.append(\n"
     ]
    },
    {
     "name": "stdout",
     "output_type": "stream",
     "text": [
      "Producing data for:  CVX\n"
     ]
    },
    {
     "name": "stderr",
     "output_type": "stream",
     "text": [
      "<ipython-input-3-abdb3b7fe430>:57: FutureWarning: The frame.append method is deprecated and will be removed from pandas in a future version. Use pandas.concat instead.\n",
      "  final = final.append(\n"
     ]
    },
    {
     "name": "stdout",
     "output_type": "stream",
     "text": [
      "Producing data for:  CBI\n",
      "- CBI: No summary info found, symbol may be delisted\n",
      "Nonetype found for: CBI\n",
      "Producing data for:  CHS\n"
     ]
    },
    {
     "name": "stderr",
     "output_type": "stream",
     "text": [
      "<ipython-input-3-abdb3b7fe430>:57: FutureWarning: The frame.append method is deprecated and will be removed from pandas in a future version. Use pandas.concat instead.\n",
      "  final = final.append(\n"
     ]
    },
    {
     "name": "stdout",
     "output_type": "stream",
     "text": [
      "Producing data for:  CIM\n",
      "Couldn't find:  CIM\n",
      "Producing data for:  CO\n"
     ]
    },
    {
     "name": "stderr",
     "output_type": "stream",
     "text": [
      "<ipython-input-3-abdb3b7fe430>:57: FutureWarning: The frame.append method is deprecated and will be removed from pandas in a future version. Use pandas.concat instead.\n",
      "  final = final.append(\n"
     ]
    },
    {
     "name": "stdout",
     "output_type": "stream",
     "text": [
      "Producing data for:  STV\n",
      "STV: No data found for this date range, symbol may be delisted\n",
      "Couldnt find key for: STV\n",
      "Producing data for:  DL\n",
      "DL: No data found, symbol may be delisted\n",
      "- DL: No summary info found, symbol may be delisted\n",
      "Nonetype found for: DL\n",
      "Producing data for:  CEA\n",
      "Couldnt find key for: CEA\n",
      "Producing data for:  CGA\n",
      "Couldnt find key for: CGA\n",
      "Producing data for:  LFC\n",
      "LFC: No data found, symbol may be delisted\n",
      "- LFC: No summary info found, symbol may be delisted\n",
      "Nonetype found for: LFC\n",
      "Producing data for:  MY\n",
      "MY: No data found for this date range, symbol may be delisted\n",
      "Couldnt find key for: MY\n",
      "Producing data for:  CHL\n",
      "CHL: No data found, symbol may be delisted\n",
      "- CHL: No summary info found, symbol may be delisted\n",
      "Nonetype found for: CHL\n",
      "Producing data for:  NPD\n",
      "NPD: No data found for this date range, symbol may be delisted\n",
      "Couldnt find key for: NPD\n",
      "Producing data for:  BORN\n",
      "BORN: No data found, symbol may be delisted\n",
      "- BORN: No summary info found, symbol may be delisted\n",
      "Nonetype found for: BORN\n",
      "Producing data for:  SNP\n",
      "SNP: No data found, symbol may be delisted\n",
      "- SNP: No summary info found, symbol may be delisted\n",
      "Nonetype found for: SNP\n",
      "Producing data for:  ZNH\n",
      "Couldnt find key for: ZNH\n",
      "Producing data for:  CHA\n",
      "CHA: No data found, symbol may be delisted\n",
      "- CHA: No summary info found, symbol may be delisted\n",
      "Nonetype found for: CHA\n",
      "Producing data for:  CHU\n",
      "CHU: No data found, symbol may be delisted\n",
      "- CHU: No summary info found, symbol may be delisted\n",
      "Nonetype found for: CHU\n",
      "Producing data for:  XNY\n",
      "XNY: No data found for this date range, symbol may be delisted\n",
      "Couldnt find key for: XNY\n",
      "Producing data for:  CYD\n"
     ]
    },
    {
     "name": "stderr",
     "output_type": "stream",
     "text": [
      "<ipython-input-3-abdb3b7fe430>:57: FutureWarning: The frame.append method is deprecated and will be removed from pandas in a future version. Use pandas.concat instead.\n",
      "  final = final.append(\n"
     ]
    },
    {
     "name": "stdout",
     "output_type": "stream",
     "text": [
      "Producing data for:  ZX\n",
      "ZX: No data found for this date range, symbol may be delisted\n",
      "Couldnt find key for: ZX\n",
      "Producing data for:  CMG\n"
     ]
    },
    {
     "name": "stderr",
     "output_type": "stream",
     "text": [
      "<ipython-input-3-abdb3b7fe430>:57: FutureWarning: The frame.append method is deprecated and will be removed from pandas in a future version. Use pandas.concat instead.\n",
      "  final = final.append(\n"
     ]
    },
    {
     "name": "stdout",
     "output_type": "stream",
     "text": [
      "Producing data for:  CQB\n",
      "CQB: No data found for this date range, symbol may be delisted\n",
      "Couldnt find key for: CQB\n",
      "Producing data for:  CHH\n"
     ]
    },
    {
     "name": "stderr",
     "output_type": "stream",
     "text": [
      "<ipython-input-3-abdb3b7fe430>:57: FutureWarning: The frame.append method is deprecated and will be removed from pandas in a future version. Use pandas.concat instead.\n",
      "  final = final.append(\n"
     ]
    },
    {
     "name": "stdout",
     "output_type": "stream",
     "text": [
      "Producing data for:  CBK\n",
      "CBK: No data found, symbol may be delisted\n",
      "- CBK: No summary info found, symbol may be delisted\n",
      "Nonetype found for: CBK\n",
      "Producing data for:  CB\n",
      "Couldn't find:  CB\n",
      "Producing data for:  CHT\n"
     ]
    },
    {
     "name": "stderr",
     "output_type": "stream",
     "text": [
      "<ipython-input-3-abdb3b7fe430>:57: FutureWarning: The frame.append method is deprecated and will be removed from pandas in a future version. Use pandas.concat instead.\n",
      "  final = final.append(\n"
     ]
    },
    {
     "name": "stdout",
     "output_type": "stream",
     "text": [
      "Producing data for:  CHD\n"
     ]
    },
    {
     "name": "stderr",
     "output_type": "stream",
     "text": [
      "<ipython-input-3-abdb3b7fe430>:57: FutureWarning: The frame.append method is deprecated and will be removed from pandas in a future version. Use pandas.concat instead.\n",
      "  final = final.append(\n"
     ]
    },
    {
     "name": "stdout",
     "output_type": "stream",
     "text": [
      "Producing data for:  CIEN\n"
     ]
    },
    {
     "name": "stderr",
     "output_type": "stream",
     "text": [
      "<ipython-input-3-abdb3b7fe430>:57: FutureWarning: The frame.append method is deprecated and will be removed from pandas in a future version. Use pandas.concat instead.\n",
      "  final = final.append(\n"
     ]
    },
    {
     "name": "stdout",
     "output_type": "stream",
     "text": [
      "Producing data for:  CI\n",
      "Couldn't find:  CI\n",
      "Producing data for:  CBB\n",
      "CBB: No data found, symbol may be delisted\n",
      "- CBB: No summary info found, symbol may be delisted\n",
      "Nonetype found for: CBB\n",
      "Producing data for:  CNK\n",
      "Couldnt find key for: CNK\n",
      "Producing data for:  CIR\n",
      "Couldnt find key for: CIR\n",
      "Producing data for:  C\n",
      "Couldn't find:  C\n",
      "Producing data for:  CIA\n",
      "Couldn't find:  CIA\n",
      "Producing data for:  CYN\n",
      "Couldnt find key for: CYN\n",
      "Producing data for:  CIO\n"
     ]
    },
    {
     "name": "stderr",
     "output_type": "stream",
     "text": [
      "<ipython-input-3-abdb3b7fe430>:57: FutureWarning: The frame.append method is deprecated and will be removed from pandas in a future version. Use pandas.concat instead.\n",
      "  final = final.append(\n"
     ]
    },
    {
     "name": "stdout",
     "output_type": "stream",
     "text": [
      "Producing data for:  CVEO\n"
     ]
    },
    {
     "name": "stderr",
     "output_type": "stream",
     "text": [
      "<ipython-input-3-abdb3b7fe430>:57: FutureWarning: The frame.append method is deprecated and will be removed from pandas in a future version. Use pandas.concat instead.\n",
      "  final = final.append(\n"
     ]
    },
    {
     "name": "stdout",
     "output_type": "stream",
     "text": [
      "Producing data for:  CLC\n",
      "CLC: No data found for this date range, symbol may be delisted\n",
      "Couldnt find key for: CLC\n",
      "Producing data for:  CWEI\n",
      "CWEI: No data found for this date range, symbol may be delisted\n",
      "Couldnt find key for: CWEI\n",
      "Producing data for:  CLH\n"
     ]
    },
    {
     "name": "stderr",
     "output_type": "stream",
     "text": [
      "<ipython-input-3-abdb3b7fe430>:57: FutureWarning: The frame.append method is deprecated and will be removed from pandas in a future version. Use pandas.concat instead.\n",
      "  final = final.append(\n"
     ]
    },
    {
     "name": "stdout",
     "output_type": "stream",
     "text": [
      "Producing data for:  CCO\n",
      "Couldnt find key for: CCO\n",
      "Producing data for:  CLW\n"
     ]
    },
    {
     "name": "stderr",
     "output_type": "stream",
     "text": [
      "<ipython-input-3-abdb3b7fe430>:57: FutureWarning: The frame.append method is deprecated and will be removed from pandas in a future version. Use pandas.concat instead.\n",
      "  final = final.append(\n"
     ]
    },
    {
     "name": "stdout",
     "output_type": "stream",
     "text": [
      "Producing data for:  CNL\n",
      "CNL: No data found for this date range, symbol may be delisted\n",
      "- CNL: No summary info found, symbol may be delisted\n",
      "Nonetype found for: CNL\n",
      "Producing data for:  CLF\n"
     ]
    },
    {
     "name": "stderr",
     "output_type": "stream",
     "text": [
      "<ipython-input-3-abdb3b7fe430>:57: FutureWarning: The frame.append method is deprecated and will be removed from pandas in a future version. Use pandas.concat instead.\n",
      "  final = final.append(\n"
     ]
    },
    {
     "name": "stdout",
     "output_type": "stream",
     "text": [
      "Producing data for:  CLX\n"
     ]
    },
    {
     "name": "stderr",
     "output_type": "stream",
     "text": [
      "<ipython-input-3-abdb3b7fe430>:57: FutureWarning: The frame.append method is deprecated and will be removed from pandas in a future version. Use pandas.concat instead.\n",
      "  final = final.append(\n"
     ]
    },
    {
     "name": "stdout",
     "output_type": "stream",
     "text": [
      "Producing data for:  CLD\n",
      "CLD: No data found, symbol may be delisted\n",
      "- CLD: No summary info found, symbol may be delisted\n",
      "Nonetype found for: CLD\n",
      "Producing data for:  MYCC\n",
      "MYCC: No data found for this date range, symbol may be delisted\n",
      "Couldnt find key for: MYCC\n",
      "Producing data for:  CMS\n"
     ]
    },
    {
     "name": "stderr",
     "output_type": "stream",
     "text": [
      "<ipython-input-3-abdb3b7fe430>:57: FutureWarning: The frame.append method is deprecated and will be removed from pandas in a future version. Use pandas.concat instead.\n",
      "  final = final.append(\n"
     ]
    },
    {
     "name": "stdout",
     "output_type": "stream",
     "text": [
      "Producing data for:  CNA\n",
      "Couldn't find:  CNA\n",
      "Producing data for:  CNHI\n"
     ]
    },
    {
     "name": "stderr",
     "output_type": "stream",
     "text": [
      "<ipython-input-3-abdb3b7fe430>:57: FutureWarning: The frame.append method is deprecated and will be removed from pandas in a future version. Use pandas.concat instead.\n",
      "  final = final.append(\n"
     ]
    },
    {
     "name": "stdout",
     "output_type": "stream",
     "text": [
      "Producing data for:  CNO\n",
      "Couldn't find:  CNO\n",
      "Producing data for:  CEO\n",
      "CEO: No data found for this date range, symbol may be delisted\n",
      "- CEO: No summary info found, symbol may be delisted\n",
      "Nonetype found for: CEO\n",
      "Producing data for:  COH\n",
      "COH: No data found for this date range, symbol may be delisted\n",
      "Couldnt find key for: COH\n",
      "Producing data for:  CIE\n",
      "CIE: No data found for this date range, symbol may be delisted\n",
      "- CIE: No summary info found, symbol may be delisted\n",
      "Nonetype found for: CIE\n",
      "Producing data for:  KO\n"
     ]
    },
    {
     "name": "stderr",
     "output_type": "stream",
     "text": [
      "<ipython-input-3-abdb3b7fe430>:57: FutureWarning: The frame.append method is deprecated and will be removed from pandas in a future version. Use pandas.concat instead.\n",
      "  final = final.append(\n"
     ]
    },
    {
     "name": "stdout",
     "output_type": "stream",
     "text": [
      "Producing data for:  CCE\n",
      "CCE: No data found for this date range, symbol may be delisted\n",
      "- CCE: No summary info found, symbol may be delisted\n",
      "Nonetype found for: CCE\n",
      "Producing data for:  KOF\n"
     ]
    },
    {
     "name": "stderr",
     "output_type": "stream",
     "text": [
      "<ipython-input-3-abdb3b7fe430>:57: FutureWarning: The frame.append method is deprecated and will be removed from pandas in a future version. Use pandas.concat instead.\n",
      "  final = final.append(\n"
     ]
    },
    {
     "name": "stdout",
     "output_type": "stream",
     "text": [
      "Producing data for:  CDE\n",
      "Couldnt find key for: CDE\n",
      "Producing data for:  CDE.WS\n",
      "CDE.WS: No data found, symbol may be delisted\n",
      "- CDE.WS: No summary info found, symbol may be delisted\n",
      "Nonetype found for: CDE.WS\n",
      "Producing data for:  CNS\n"
     ]
    },
    {
     "name": "stderr",
     "output_type": "stream",
     "text": [
      "<ipython-input-3-abdb3b7fe430>:57: FutureWarning: The frame.append method is deprecated and will be removed from pandas in a future version. Use pandas.concat instead.\n",
      "  final = final.append(\n"
     ]
    },
    {
     "name": "stdout",
     "output_type": "stream",
     "text": [
      "Producing data for:  CFX\n",
      "CFX: No data found, symbol may be delisted\n",
      "- CFX: No summary info found, symbol may be delisted\n",
      "Nonetype found for: CFX\n",
      "Producing data for:  CL\n"
     ]
    },
    {
     "name": "stderr",
     "output_type": "stream",
     "text": [
      "<ipython-input-3-abdb3b7fe430>:57: FutureWarning: The frame.append method is deprecated and will be removed from pandas in a future version. Use pandas.concat instead.\n",
      "  final = final.append(\n"
     ]
    },
    {
     "name": "stdout",
     "output_type": "stream",
     "text": [
      "Producing data for:  CLNY\n",
      "CLNY: No data found, symbol may be delisted\n",
      "- CLNY: No summary info found, symbol may be delisted\n",
      "Nonetype found for: CLNY\n",
      "Producing data for:  CXP\n",
      "CXP: No data found, symbol may be delisted\n",
      "- CXP: No summary info found, symbol may be delisted\n",
      "Nonetype found for: CXP\n",
      "Producing data for:  CCV\n",
      "Nonetype found for: CCV\n",
      "Producing data for:  CCZ\n",
      "Couldnt find key for: CCZ\n",
      "Producing data for:  CMA\n",
      "Couldn't find:  CMA\n",
      "Producing data for:  FIX\n"
     ]
    },
    {
     "name": "stderr",
     "output_type": "stream",
     "text": [
      "<ipython-input-3-abdb3b7fe430>:57: FutureWarning: The frame.append method is deprecated and will be removed from pandas in a future version. Use pandas.concat instead.\n",
      "  final = final.append(\n"
     ]
    },
    {
     "name": "stdout",
     "output_type": "stream",
     "text": [
      "Producing data for:  CMC\n"
     ]
    },
    {
     "name": "stderr",
     "output_type": "stream",
     "text": [
      "<ipython-input-3-abdb3b7fe430>:57: FutureWarning: The frame.append method is deprecated and will be removed from pandas in a future version. Use pandas.concat instead.\n",
      "  final = final.append(\n"
     ]
    },
    {
     "name": "stdout",
     "output_type": "stream",
     "text": [
      "Producing data for:  CWH\n"
     ]
    },
    {
     "name": "stderr",
     "output_type": "stream",
     "text": [
      "<ipython-input-3-abdb3b7fe430>:57: FutureWarning: The frame.append method is deprecated and will be removed from pandas in a future version. Use pandas.concat instead.\n",
      "  final = final.append(\n"
     ]
    },
    {
     "name": "stdout",
     "output_type": "stream",
     "text": [
      "Producing data for:  CBU\n",
      "Couldn't find:  CBU\n",
      "Producing data for:  CYH\n"
     ]
    },
    {
     "name": "stderr",
     "output_type": "stream",
     "text": [
      "<ipython-input-3-abdb3b7fe430>:57: FutureWarning: The frame.append method is deprecated and will be removed from pandas in a future version. Use pandas.concat instead.\n",
      "  final = final.append(\n"
     ]
    },
    {
     "name": "stdout",
     "output_type": "stream",
     "text": [
      "Producing data for:  CBD\n"
     ]
    },
    {
     "name": "stderr",
     "output_type": "stream",
     "text": [
      "<ipython-input-3-abdb3b7fe430>:57: FutureWarning: The frame.append method is deprecated and will be removed from pandas in a future version. Use pandas.concat instead.\n",
      "  final = final.append(\n"
     ]
    },
    {
     "name": "stdout",
     "output_type": "stream",
     "text": [
      "Producing data for:  SBS\n"
     ]
    },
    {
     "name": "stderr",
     "output_type": "stream",
     "text": [
      "<ipython-input-3-abdb3b7fe430>:57: FutureWarning: The frame.append method is deprecated and will be removed from pandas in a future version. Use pandas.concat instead.\n",
      "  final = final.append(\n"
     ]
    },
    {
     "name": "stdout",
     "output_type": "stream",
     "text": [
      "Producing data for:  CIG\n"
     ]
    },
    {
     "name": "stderr",
     "output_type": "stream",
     "text": [
      "<ipython-input-3-abdb3b7fe430>:57: FutureWarning: The frame.append method is deprecated and will be removed from pandas in a future version. Use pandas.concat instead.\n",
      "  final = final.append(\n"
     ]
    },
    {
     "name": "stdout",
     "output_type": "stream",
     "text": [
      "Producing data for:  ELP\n"
     ]
    },
    {
     "name": "stderr",
     "output_type": "stream",
     "text": [
      "<ipython-input-3-abdb3b7fe430>:57: FutureWarning: The frame.append method is deprecated and will be removed from pandas in a future version. Use pandas.concat instead.\n",
      "  final = final.append(\n"
     ]
    },
    {
     "name": "stdout",
     "output_type": "stream",
     "text": [
      "Producing data for:  SID\n"
     ]
    },
    {
     "name": "stderr",
     "output_type": "stream",
     "text": [
      "<ipython-input-3-abdb3b7fe430>:57: FutureWarning: The frame.append method is deprecated and will be removed from pandas in a future version. Use pandas.concat instead.\n",
      "  final = final.append(\n"
     ]
    },
    {
     "name": "stdout",
     "output_type": "stream",
     "text": [
      "Producing data for:  CODI\n"
     ]
    },
    {
     "name": "stderr",
     "output_type": "stream",
     "text": [
      "<ipython-input-3-abdb3b7fe430>:57: FutureWarning: The frame.append method is deprecated and will be removed from pandas in a future version. Use pandas.concat instead.\n",
      "  final = final.append(\n"
     ]
    },
    {
     "name": "stdout",
     "output_type": "stream",
     "text": [
      "Producing data for:  CMP\n"
     ]
    },
    {
     "name": "stderr",
     "output_type": "stream",
     "text": [
      "<ipython-input-3-abdb3b7fe430>:57: FutureWarning: The frame.append method is deprecated and will be removed from pandas in a future version. Use pandas.concat instead.\n",
      "  final = final.append(\n"
     ]
    },
    {
     "name": "stdout",
     "output_type": "stream",
     "text": [
      "Producing data for:  BVN\n"
     ]
    },
    {
     "name": "stderr",
     "output_type": "stream",
     "text": [
      "<ipython-input-3-abdb3b7fe430>:57: FutureWarning: The frame.append method is deprecated and will be removed from pandas in a future version. Use pandas.concat instead.\n",
      "  final = final.append(\n"
     ]
    },
    {
     "name": "stdout",
     "output_type": "stream",
     "text": [
      "Producing data for:  CCU\n"
     ]
    },
    {
     "name": "stderr",
     "output_type": "stream",
     "text": [
      "<ipython-input-3-abdb3b7fe430>:57: FutureWarning: The frame.append method is deprecated and will be removed from pandas in a future version. Use pandas.concat instead.\n",
      "  final = final.append(\n"
     ]
    },
    {
     "name": "stdout",
     "output_type": "stream",
     "text": [
      "Producing data for:  CSC\n",
      "CSC: No data found for this date range, symbol may be delisted\n",
      "Couldnt find key for: CSC\n",
      "Producing data for:  CRK\n"
     ]
    },
    {
     "name": "stderr",
     "output_type": "stream",
     "text": [
      "<ipython-input-3-abdb3b7fe430>:57: FutureWarning: The frame.append method is deprecated and will be removed from pandas in a future version. Use pandas.concat instead.\n",
      "  final = final.append(\n"
     ]
    },
    {
     "name": "stdout",
     "output_type": "stream",
     "text": [
      "Producing data for:  CNW\n",
      "CNW: No data found for this date range, symbol may be delisted\n",
      "Couldnt find key for: CNW\n",
      "Producing data for:  CAG\n"
     ]
    },
    {
     "name": "stderr",
     "output_type": "stream",
     "text": [
      "<ipython-input-3-abdb3b7fe430>:57: FutureWarning: The frame.append method is deprecated and will be removed from pandas in a future version. Use pandas.concat instead.\n",
      "  final = final.append(\n"
     ]
    },
    {
     "name": "stdout",
     "output_type": "stream",
     "text": [
      "Producing data for:  CXO\n",
      "CXO: No data found, symbol may be delisted\n",
      "- CXO: No summary info found, symbol may be delisted\n",
      "Nonetype found for: CXO\n",
      "Producing data for:  CCM\n",
      "Couldnt find key for: CCM\n",
      "Producing data for:  COP\n"
     ]
    },
    {
     "name": "stderr",
     "output_type": "stream",
     "text": [
      "<ipython-input-3-abdb3b7fe430>:57: FutureWarning: The frame.append method is deprecated and will be removed from pandas in a future version. Use pandas.concat instead.\n",
      "  final = final.append(\n"
     ]
    },
    {
     "name": "stdout",
     "output_type": "stream",
     "text": [
      "Producing data for:  CNX\n",
      "Couldnt find key for: CNX\n",
      "Producing data for:  ED\n"
     ]
    },
    {
     "name": "stderr",
     "output_type": "stream",
     "text": [
      "<ipython-input-3-abdb3b7fe430>:57: FutureWarning: The frame.append method is deprecated and will be removed from pandas in a future version. Use pandas.concat instead.\n",
      "  final = final.append(\n"
     ]
    },
    {
     "name": "stdout",
     "output_type": "stream",
     "text": [
      "Producing data for:  STZ\n"
     ]
    },
    {
     "name": "stderr",
     "output_type": "stream",
     "text": [
      "<ipython-input-3-abdb3b7fe430>:57: FutureWarning: The frame.append method is deprecated and will be removed from pandas in a future version. Use pandas.concat instead.\n",
      "  final = final.append(\n"
     ]
    },
    {
     "name": "stdout",
     "output_type": "stream",
     "text": [
      "Producing data for:  CSTM\n"
     ]
    },
    {
     "name": "stderr",
     "output_type": "stream",
     "text": [
      "<ipython-input-3-abdb3b7fe430>:57: FutureWarning: The frame.append method is deprecated and will be removed from pandas in a future version. Use pandas.concat instead.\n",
      "  final = final.append(\n"
     ]
    },
    {
     "name": "stdout",
     "output_type": "stream",
     "text": [
      "Producing data for:  TCS\n"
     ]
    },
    {
     "name": "stderr",
     "output_type": "stream",
     "text": [
      "<ipython-input-3-abdb3b7fe430>:57: FutureWarning: The frame.append method is deprecated and will be removed from pandas in a future version. Use pandas.concat instead.\n",
      "  final = final.append(\n"
     ]
    },
    {
     "name": "stdout",
     "output_type": "stream",
     "text": [
      "Producing data for:  CBPX\n",
      "CBPX: No data found, symbol may be delisted\n",
      "- CBPX: No summary info found, symbol may be delisted\n",
      "Nonetype found for: CBPX\n",
      "Producing data for:  CLR\n",
      "CLR: No data found for this date range, symbol may be delisted\n",
      "- CLR: No summary info found, symbol may be delisted\n",
      "Nonetype found for: CLR\n",
      "Producing data for:  VLRS\n"
     ]
    },
    {
     "name": "stderr",
     "output_type": "stream",
     "text": [
      "<ipython-input-3-abdb3b7fe430>:57: FutureWarning: The frame.append method is deprecated and will be removed from pandas in a future version. Use pandas.concat instead.\n",
      "  final = final.append(\n"
     ]
    },
    {
     "name": "stdout",
     "output_type": "stream",
     "text": [
      "Producing data for:  CVG\n",
      "- CVG: No summary info found, symbol may be delisted\n",
      "Nonetype found for: CVG\n",
      "Producing data for:  COO\n"
     ]
    },
    {
     "name": "stderr",
     "output_type": "stream",
     "text": [
      "<ipython-input-3-abdb3b7fe430>:57: FutureWarning: The frame.append method is deprecated and will be removed from pandas in a future version. Use pandas.concat instead.\n",
      "  final = final.append(\n"
     ]
    },
    {
     "name": "stdout",
     "output_type": "stream",
     "text": [
      "Producing data for:  CPS\n",
      "Couldnt find key for: CPS\n",
      "Producing data for:  CTB\n",
      "CTB: No data found, symbol may be delisted\n",
      "- CTB: No summary info found, symbol may be delisted\n",
      "Nonetype found for: CTB\n",
      "Producing data for:  CPA\n"
     ]
    }
   ],
   "source": [
    "final = pd.DataFrame(columns=['Ticker','Price','Trailing PE ratio','Forward PE ratio','Price To Book',\\\n",
    "                                'Price To Sale','EV/EBITDA','EV/GP','Working Capital','Shares to buy'])\n",
    "for i in range(len(tick[\"0\"])):\n",
    "    print(\"Producing data for: \", tick[\"0\"][i])\n",
    "    try:\n",
    "        ticker = tick[\"0\"][i]\n",
    "        stock_info = yf.Ticker(ticker)\n",
    "        d = yf.Ticker(tick[\"0\"][i]).history(period = \"1mo\")\n",
    "        # Get the income statement for the stock\n",
    "\n",
    "        info = stock_info.info\n",
    "        fpe = info[\"forwardPE\"]\n",
    "        tpe = info[\"trailingPE\"]\n",
    "        fin = stock_info.info\n",
    "        liab = stock_info.balance_sheet\n",
    "        price_to_book = fin['priceToBook']\n",
    "        price_to_sale = fin['priceToSalesTrailing12Months']\n",
    "        ev_ebidta = fin['enterpriseToEbitda']\n",
    "        enterprise_value = fin['enterpriseValue']\n",
    "        gp = fin['grossProfits']\n",
    "        ev_gp = enterprise_value/gp\n",
    "        current_assets = liab[liab.index=='Current Assets'].iloc[0,0]\n",
    "        current_liab = liab[liab.index=='Current Liabilities'].iloc[0,0]\n",
    "        working_capital = current_assets/current_liab \n",
    "\n",
    "            #Ratio endettement (liabilities/assets)\n",
    "            #Working capital (currentAssets/currentLiability) Voir si depense sont capapble d'etre couverte dans la prochaine annee\n",
    "            #In balance_sheet we have: \n",
    "                #Current assets\n",
    "                #Current liabilities\n",
    "\n",
    "    except TypeError: \n",
    "        print(\"Nonetype found for: \" + tick[\"0\"][i])\n",
    "        continue\n",
    "    except IndexError: \n",
    "        print(\"Couldn't find: \",tick[\"0\"][i])\n",
    "        continue\n",
    "    except KeyError:\n",
    "        print(\"Couldnt find key for: \" + tick['0'][i])\n",
    "        continue\n",
    "    \n",
    "    d.reset_index(inplace = True)\n",
    "    try: \n",
    "        d['Ticker'] = tick['0'][i]\n",
    "        d[\"Price\"] = d['Close']\n",
    "        d['Trailing PE ratio'] = tpe\n",
    "        d['Forward PE ratio'] = fpe\n",
    "        d['Price To Book'] = price_to_book\n",
    "        d['Price To Sale'] = price_to_sale\n",
    "        d['EV/EBITDA'] = ev_ebidta\n",
    "        d['EV/GP'] = ev_gp\n",
    "        d['Working Capital'] = working_capital\n",
    "        d = d.iloc[-1]\n",
    "    except IndexError: \n",
    "        continue\n",
    "    #Append latest value\n",
    "    final = final.append(\n",
    "        pd.Series(d,\n",
    "        index=['Ticker','Price','Trailing PE ratio', 'Forward PE ratio','Price To Book', 'Price To Sale','EV/EBITDA','EV/GP','Working Capital','Shares to buy']), \n",
    "        ignore_index = True\n",
    "    ) "
   ]
  },
  {
   "cell_type": "code",
   "execution_count": null,
   "metadata": {},
   "outputs": [],
   "source": [
    "final"
   ]
  },
  {
   "cell_type": "code",
   "execution_count": null,
   "metadata": {},
   "outputs": [],
   "source": [
    "final.to_csv(\"value_invest_advanced_sheet\")"
   ]
  }
 ],
 "metadata": {
  "interpreter": {
   "hash": "f36662cf0d2dc2d22e7ce50b6b2dd5771b8ab03597c45c6e0e62ff4a448306d1"
  },
  "kernelspec": {
   "display_name": "Python 3.8.5 64-bit",
   "language": "python",
   "name": "python3"
  },
  "language_info": {
   "codemirror_mode": {
    "name": "ipython",
    "version": 3
   },
   "file_extension": ".py",
   "mimetype": "text/x-python",
   "name": "python",
   "nbconvert_exporter": "python",
   "pygments_lexer": "ipython3",
   "version": "3.8.5"
  },
  "orig_nbformat": 4
 },
 "nbformat": 4,
 "nbformat_minor": 2
}
