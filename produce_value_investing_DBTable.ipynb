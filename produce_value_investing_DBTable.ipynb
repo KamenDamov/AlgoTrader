{
 "cells": [
  {
   "cell_type": "code",
   "execution_count": 1,
   "metadata": {},
   "outputs": [],
   "source": [
    "import numpy as np\n",
    "import pandas as pd\n",
    "import math\n",
    "import requests \n",
    "import matplotlib as plt\n",
    "import seaborn as sns\n",
    "import yfinance as yf\n",
    "import pandas_datareader as web\n",
    "from pandas_datareader import data\n",
    "from bs4 import BeautifulSoup as bs\n",
    "from scipy import stats\n",
    "import sqlite3\n",
    "import time\n",
    "\n",
    "\n",
    "# Connect to the database (or create it if it doesn't exist)\n",
    "conn = sqlite3.connect('financial_data.db')\n",
    "\n",
    "# Create a cursor\n",
    "c = conn.cursor()\n",
    "\n",
    "# Define the table name\n",
    "table_name = 'value_invest'\n",
    "\n",
    "# Use the execute() method to delete the table\n",
    "c.execute(f'DROP TABLE {table_name}')\n",
    "\n",
    "# Commit the changes and close the connection\n",
    "conn.commit()\n",
    "conn.close()\n",
    "\n",
    "#Create db\n",
    "conn = sqlite3.connect('financial_data.db')\n",
    "\n",
    "# Create a cursor\n",
    "cursor = conn.cursor()\n",
    "\n",
    "value_invest_query = '''\n",
    "CREATE TABLE value_invest (\n",
    "        Ticker TEXT NON NULL,\n",
    "        Price REAL, \n",
    "        Trailing_PE_ratio REAL, \n",
    "        Forward_PE_ratio REAL, \n",
    "        Price_To_Book REAL,\n",
    "        Price_To_Sale REAL, \n",
    "        EV_EBITDA REAL, \n",
    "        EV_GP REAL, \n",
    "        Shares_to_buy REAL, \n",
    "        Trailing_PE_ratio_percentile REAL, \n",
    "        Forward_PE_ratio_percentile REAL,\n",
    "        Price_To_Book_percentile REAL, \n",
    "        Price_To_Sale_percentile REAL, \n",
    "        EV_EBITDA_percentile REAL, \n",
    "        EV_GP_percentile REAL, \n",
    "        RV_Score REAL\n",
    ");\n",
    "'''\n",
    "\n",
    "cursor.execute(value_invest_query)\n",
    "\n",
    "conn.commit()\n"
   ]
  },
  {
   "cell_type": "code",
   "execution_count": 2,
   "metadata": {},
   "outputs": [
    {
     "name": "stdout",
     "output_type": "stream",
     "text": [
      "Producing data for:  AOS\n"
     ]
    },
    {
     "name": "stderr",
     "output_type": "stream",
     "text": [
      "<ipython-input-2-1956285887a8>:67: FutureWarning: The frame.append method is deprecated and will be removed from pandas in a future version. Use pandas.concat instead.\n",
      "  value_invest = value_invest.append(\n"
     ]
    },
    {
     "name": "stdout",
     "output_type": "stream",
     "text": [
      "3.4081363677978516\n",
      "Producing data for:  ATEN\n"
     ]
    },
    {
     "name": "stderr",
     "output_type": "stream",
     "text": [
      "<ipython-input-2-1956285887a8>:67: FutureWarning: The frame.append method is deprecated and will be removed from pandas in a future version. Use pandas.concat instead.\n",
      "  value_invest = value_invest.append(\n"
     ]
    },
    {
     "name": "stdout",
     "output_type": "stream",
     "text": [
      "2.694190502166748\n",
      "Producing data for:  AAC\n",
      "Nonetype found for: AAC\n",
      "2.8871147632598877\n",
      "Producing data for:  AIR\n"
     ]
    },
    {
     "name": "stderr",
     "output_type": "stream",
     "text": [
      "<ipython-input-2-1956285887a8>:67: FutureWarning: The frame.append method is deprecated and will be removed from pandas in a future version. Use pandas.concat instead.\n",
      "  value_invest = value_invest.append(\n"
     ]
    },
    {
     "name": "stdout",
     "output_type": "stream",
     "text": [
      "2.876096248626709\n",
      "Producing data for:  AAN\n"
     ]
    },
    {
     "name": "stderr",
     "output_type": "stream",
     "text": [
      "<ipython-input-2-1956285887a8>:67: FutureWarning: The frame.append method is deprecated and will be removed from pandas in a future version. Use pandas.concat instead.\n",
      "  value_invest = value_invest.append(\n"
     ]
    },
    {
     "name": "stdout",
     "output_type": "stream",
     "text": [
      "2.6871602535247803\n",
      "Producing data for:  ABB\n"
     ]
    },
    {
     "name": "stderr",
     "output_type": "stream",
     "text": [
      "<ipython-input-2-1956285887a8>:67: FutureWarning: The frame.append method is deprecated and will be removed from pandas in a future version. Use pandas.concat instead.\n",
      "  value_invest = value_invest.append(\n"
     ]
    },
    {
     "name": "stdout",
     "output_type": "stream",
     "text": [
      "3.1801249980926514\n",
      "Producing data for:  ABT\n"
     ]
    },
    {
     "name": "stderr",
     "output_type": "stream",
     "text": [
      "<ipython-input-2-1956285887a8>:67: FutureWarning: The frame.append method is deprecated and will be removed from pandas in a future version. Use pandas.concat instead.\n",
      "  value_invest = value_invest.append(\n"
     ]
    },
    {
     "name": "stdout",
     "output_type": "stream",
     "text": [
      "3.160576820373535\n",
      "Producing data for:  ABBV\n"
     ]
    },
    {
     "name": "stderr",
     "output_type": "stream",
     "text": [
      "<ipython-input-2-1956285887a8>:67: FutureWarning: The frame.append method is deprecated and will be removed from pandas in a future version. Use pandas.concat instead.\n",
      "  value_invest = value_invest.append(\n"
     ]
    },
    {
     "name": "stdout",
     "output_type": "stream",
     "text": [
      "3.1800947189331055\n",
      "Producing data for:  ANF\n"
     ]
    },
    {
     "name": "stderr",
     "output_type": "stream",
     "text": [
      "<ipython-input-2-1956285887a8>:67: FutureWarning: The frame.append method is deprecated and will be removed from pandas in a future version. Use pandas.concat instead.\n",
      "  value_invest = value_invest.append(\n"
     ]
    },
    {
     "name": "stdout",
     "output_type": "stream",
     "text": [
      "3.141453981399536\n",
      "Producing data for:  GCH\n",
      "GCH: No data found for this date range, symbol may be delisted\n",
      "Couldnt find key for: GCH\n",
      "2.4031128883361816\n",
      "Producing data for:  JEQ\n"
     ]
    },
    {
     "name": "stderr",
     "output_type": "stream",
     "text": [
      "<ipython-input-2-1956285887a8>:67: FutureWarning: The frame.append method is deprecated and will be removed from pandas in a future version. Use pandas.concat instead.\n",
      "  value_invest = value_invest.append(\n"
     ]
    },
    {
     "name": "stdout",
     "output_type": "stream",
     "text": [
      "3.022810459136963\n",
      "Producing data for:  SGF\n",
      "SGF: No data found for this date range, symbol may be delisted\n",
      "Couldnt find key for: SGF\n",
      "3.8013176918029785\n",
      "Producing data for:  ABM\n"
     ]
    },
    {
     "name": "stderr",
     "output_type": "stream",
     "text": [
      "<ipython-input-2-1956285887a8>:67: FutureWarning: The frame.append method is deprecated and will be removed from pandas in a future version. Use pandas.concat instead.\n",
      "  value_invest = value_invest.append(\n"
     ]
    },
    {
     "name": "stdout",
     "output_type": "stream",
     "text": [
      "2.7876484394073486\n",
      "Producing data for:  AKR\n"
     ]
    },
    {
     "name": "stderr",
     "output_type": "stream",
     "text": [
      "<ipython-input-2-1956285887a8>:67: FutureWarning: The frame.append method is deprecated and will be removed from pandas in a future version. Use pandas.concat instead.\n",
      "  value_invest = value_invest.append(\n"
     ]
    },
    {
     "name": "stdout",
     "output_type": "stream",
     "text": [
      "6.132168531417847\n",
      "Producing data for:  ACN\n"
     ]
    },
    {
     "name": "stderr",
     "output_type": "stream",
     "text": [
      "<ipython-input-2-1956285887a8>:67: FutureWarning: The frame.append method is deprecated and will be removed from pandas in a future version. Use pandas.concat instead.\n",
      "  value_invest = value_invest.append(\n"
     ]
    },
    {
     "name": "stdout",
     "output_type": "stream",
     "text": [
      "2.389505386352539\n",
      "Producing data for:  ACCO\n"
     ]
    },
    {
     "name": "stderr",
     "output_type": "stream",
     "text": [
      "<ipython-input-2-1956285887a8>:67: FutureWarning: The frame.append method is deprecated and will be removed from pandas in a future version. Use pandas.concat instead.\n",
      "  value_invest = value_invest.append(\n"
     ]
    },
    {
     "name": "stdout",
     "output_type": "stream",
     "text": [
      "3.0579991340637207\n",
      "Producing data for:  ATV\n",
      "ATV: No data found, symbol may be delisted\n",
      "- ATV: No summary info found, symbol may be delisted\n",
      "Nonetype found for: ATV\n",
      "2.404803514480591\n",
      "Producing data for:  ATU\n",
      "ATU: No data found, symbol may be delisted\n",
      "- ATU: No summary info found, symbol may be delisted\n",
      "Nonetype found for: ATU\n",
      "1.6996939182281494\n",
      "Producing data for:  GOLF\n"
     ]
    },
    {
     "name": "stderr",
     "output_type": "stream",
     "text": [
      "<ipython-input-2-1956285887a8>:67: FutureWarning: The frame.append method is deprecated and will be removed from pandas in a future version. Use pandas.concat instead.\n",
      "  value_invest = value_invest.append(\n"
     ]
    },
    {
     "name": "stdout",
     "output_type": "stream",
     "text": [
      "3.9865562915802\n",
      "Producing data for:  AYI\n"
     ]
    },
    {
     "name": "stderr",
     "output_type": "stream",
     "text": [
      "<ipython-input-2-1956285887a8>:67: FutureWarning: The frame.append method is deprecated and will be removed from pandas in a future version. Use pandas.concat instead.\n",
      "  value_invest = value_invest.append(\n"
     ]
    },
    {
     "name": "stdout",
     "output_type": "stream",
     "text": [
      "3.2068581581115723\n",
      "Producing data for:  ADX\n"
     ]
    },
    {
     "name": "stderr",
     "output_type": "stream",
     "text": [
      "<ipython-input-2-1956285887a8>:67: FutureWarning: The frame.append method is deprecated and will be removed from pandas in a future version. Use pandas.concat instead.\n",
      "  value_invest = value_invest.append(\n"
     ]
    },
    {
     "name": "stdout",
     "output_type": "stream",
     "text": [
      "3.107529401779175\n",
      "Producing data for:  AGRO\n"
     ]
    },
    {
     "name": "stderr",
     "output_type": "stream",
     "text": [
      "<ipython-input-2-1956285887a8>:67: FutureWarning: The frame.append method is deprecated and will be removed from pandas in a future version. Use pandas.concat instead.\n",
      "  value_invest = value_invest.append(\n"
     ]
    },
    {
     "name": "stdout",
     "output_type": "stream",
     "text": [
      "3.1971521377563477\n",
      "Producing data for:  ADPT\n",
      "Couldnt find key for: ADPT\n",
      "2.986335039138794\n",
      "Producing data for:  ADNT\n",
      "Couldnt find key for: ADNT\n",
      "3.09019136428833\n",
      "Producing data for:  AAP\n"
     ]
    },
    {
     "name": "stderr",
     "output_type": "stream",
     "text": [
      "<ipython-input-2-1956285887a8>:67: FutureWarning: The frame.append method is deprecated and will be removed from pandas in a future version. Use pandas.concat instead.\n",
      "  value_invest = value_invest.append(\n"
     ]
    },
    {
     "name": "stdout",
     "output_type": "stream",
     "text": [
      "4.1742613315582275\n",
      "Producing data for:  ADSW\n",
      "ADSW: No data found, symbol may be delisted\n",
      "- ADSW: No summary info found, symbol may be delisted\n",
      "Nonetype found for: ADSW\n",
      "2.7405405044555664\n",
      "Producing data for:  WMS\n"
     ]
    },
    {
     "name": "stderr",
     "output_type": "stream",
     "text": [
      "<ipython-input-2-1956285887a8>:67: FutureWarning: The frame.append method is deprecated and will be removed from pandas in a future version. Use pandas.concat instead.\n",
      "  value_invest = value_invest.append(\n"
     ]
    },
    {
     "name": "stdout",
     "output_type": "stream",
     "text": [
      "3.5807178020477295\n",
      "Producing data for:  ASX\n"
     ]
    },
    {
     "name": "stderr",
     "output_type": "stream",
     "text": [
      "<ipython-input-2-1956285887a8>:67: FutureWarning: The frame.append method is deprecated and will be removed from pandas in a future version. Use pandas.concat instead.\n",
      "  value_invest = value_invest.append(\n"
     ]
    },
    {
     "name": "stdout",
     "output_type": "stream",
     "text": [
      "3.6286869049072266\n",
      "Producing data for:  APFH\n",
      "APFH: No data found for this date range, symbol may be delisted\n",
      "Couldnt find key for: APFH\n",
      "2.627995729446411\n",
      "Producing data for:  ASIX\n"
     ]
    },
    {
     "name": "stderr",
     "output_type": "stream",
     "text": [
      "<ipython-input-2-1956285887a8>:67: FutureWarning: The frame.append method is deprecated and will be removed from pandas in a future version. Use pandas.concat instead.\n",
      "  value_invest = value_invest.append(\n"
     ]
    },
    {
     "name": "stdout",
     "output_type": "stream",
     "text": [
      "3.94197940826416\n",
      "Producing data for:  AAV\n",
      "AAV: No data found for this date range, symbol may be delisted\n",
      "Couldnt find key for: AAV\n",
      "3.0265133380889893\n",
      "Producing data for:  AVK\n"
     ]
    },
    {
     "name": "stderr",
     "output_type": "stream",
     "text": [
      "<ipython-input-2-1956285887a8>:67: FutureWarning: The frame.append method is deprecated and will be removed from pandas in a future version. Use pandas.concat instead.\n",
      "  value_invest = value_invest.append(\n"
     ]
    },
    {
     "name": "stdout",
     "output_type": "stream",
     "text": [
      "2.839136838912964\n",
      "Producing data for:  AGC\n",
      "AGC: No data found, symbol may be delisted\n",
      "- AGC: No summary info found, symbol may be delisted\n",
      "Nonetype found for: AGC\n",
      "2.3997015953063965\n",
      "Producing data for:  LCM\n",
      "LCM: No data found for this date range, symbol may be delisted\n",
      "Couldnt find key for: LCM\n",
      "1.9459404945373535\n",
      "Producing data for:  ACM\n",
      "Couldnt find key for: ACM\n",
      "3.920055389404297\n",
      "Producing data for:  ANW\n",
      "ANW: No data found for this date range, symbol may be delisted\n",
      "Couldnt find key for: ANW\n",
      "2.4623336791992188\n",
      "Producing data for:  AEG\n",
      "Couldnt find key for: AEG\n",
      "3.2280097007751465\n",
      "Producing data for:  AEB\n",
      "AEB: No data found for this date range, symbol may be delisted\n",
      "Couldnt find key for: AEB\n",
      "3.1042418479919434\n",
      "Producing data for:  AED\n",
      "AED: No data found for this date range, symbol may be delisted\n",
      "Couldnt find key for: AED\n",
      "2.6369967460632324\n",
      "Producing data for:  AEH\n",
      "AEH: No data found for this date range, symbol may be delisted\n",
      "Couldnt find key for: AEH\n",
      "2.897733688354492\n",
      "Producing data for:  AEK\n",
      "AEK: No data found, symbol may be delisted\n",
      "- AEK: No summary info found, symbol may be delisted\n",
      "Nonetype found for: AEK\n",
      "1.854649543762207\n",
      "Producing data for:  AER\n",
      "Couldnt find key for: AER\n",
      "2.834143877029419\n",
      "Producing data for:  HIVE\n"
     ]
    },
    {
     "name": "stderr",
     "output_type": "stream",
     "text": [
      "<ipython-input-2-1956285887a8>:67: FutureWarning: The frame.append method is deprecated and will be removed from pandas in a future version. Use pandas.concat instead.\n",
      "  value_invest = value_invest.append(\n"
     ]
    },
    {
     "name": "stdout",
     "output_type": "stream",
     "text": [
      "2.307681083679199\n",
      "Producing data for:  AJRD\n"
     ]
    },
    {
     "name": "stderr",
     "output_type": "stream",
     "text": [
      "<ipython-input-2-1956285887a8>:67: FutureWarning: The frame.append method is deprecated and will be removed from pandas in a future version. Use pandas.concat instead.\n",
      "  value_invest = value_invest.append(\n"
     ]
    },
    {
     "name": "stdout",
     "output_type": "stream",
     "text": [
      "4.06572961807251\n",
      "Producing data for:  AES\n"
     ]
    },
    {
     "name": "stderr",
     "output_type": "stream",
     "text": [
      "<ipython-input-2-1956285887a8>:67: FutureWarning: The frame.append method is deprecated and will be removed from pandas in a future version. Use pandas.concat instead.\n",
      "  value_invest = value_invest.append(\n"
     ]
    },
    {
     "name": "stdout",
     "output_type": "stream",
     "text": [
      "3.3099310398101807\n",
      "Producing data for:  AES.PRC\n",
      "AES.PRC: No data found, symbol may be delisted\n",
      "- AES.PRC: No summary info found, symbol may be delisted\n",
      "Nonetype found for: AES.PRC\n",
      "1.7457842826843262\n",
      "Producing data for:  AET\n",
      "AET: No data found for this date range, symbol may be delisted\n",
      "Couldnt find key for: AET\n",
      "2.261802911758423\n",
      "Producing data for:  AMG\n"
     ]
    },
    {
     "name": "stderr",
     "output_type": "stream",
     "text": [
      "<ipython-input-2-1956285887a8>:67: FutureWarning: The frame.append method is deprecated and will be removed from pandas in a future version. Use pandas.concat instead.\n",
      "  value_invest = value_invest.append(\n"
     ]
    },
    {
     "name": "stdout",
     "output_type": "stream",
     "text": [
      "2.194619655609131\n",
      "Producing data for:  MGR\n",
      "Couldnt find key for: MGR\n",
      "3.8802692890167236\n",
      "Producing data for:  AFL\n"
     ]
    },
    {
     "name": "stderr",
     "output_type": "stream",
     "text": [
      "<ipython-input-2-1956285887a8>:67: FutureWarning: The frame.append method is deprecated and will be removed from pandas in a future version. Use pandas.concat instead.\n",
      "  value_invest = value_invest.append(\n"
     ]
    },
    {
     "name": "stdout",
     "output_type": "stream",
     "text": [
      "4.698798656463623\n",
      "Producing data for:  AFSD\n",
      "AFSD: No data found, symbol may be delisted\n",
      "Couldnt find key for: AFSD\n",
      "3.1216626167297363\n",
      "Producing data for:  MITT\n",
      "Couldnt find key for: MITT\n",
      "3.024604082107544\n",
      "Producing data for:  MITT.PRA\n",
      "MITT.PRA: No data found, symbol may be delisted\n",
      "- MITT.PRA: No summary info found, symbol may be delisted\n",
      "Nonetype found for: MITT.PRA\n",
      "2.496886730194092\n",
      "Producing data for:  MITT.PRB\n",
      "MITT.PRB: No data found, symbol may be delisted\n",
      "- MITT.PRB: No summary info found, symbol may be delisted\n",
      "Nonetype found for: MITT.PRB\n",
      "1.742492437362671\n",
      "Producing data for:  AGCO\n"
     ]
    },
    {
     "name": "stderr",
     "output_type": "stream",
     "text": [
      "<ipython-input-2-1956285887a8>:67: FutureWarning: The frame.append method is deprecated and will be removed from pandas in a future version. Use pandas.concat instead.\n",
      "  value_invest = value_invest.append(\n"
     ]
    },
    {
     "name": "stdout",
     "output_type": "stream",
     "text": [
      "2.9685935974121094\n",
      "Producing data for:  A\n"
     ]
    },
    {
     "name": "stderr",
     "output_type": "stream",
     "text": [
      "<ipython-input-2-1956285887a8>:67: FutureWarning: The frame.append method is deprecated and will be removed from pandas in a future version. Use pandas.concat instead.\n",
      "  value_invest = value_invest.append(\n"
     ]
    },
    {
     "name": "stdout",
     "output_type": "stream",
     "text": [
      "2.7946808338165283\n",
      "Producing data for:  AEM\n"
     ]
    },
    {
     "name": "stderr",
     "output_type": "stream",
     "text": [
      "<ipython-input-2-1956285887a8>:67: FutureWarning: The frame.append method is deprecated and will be removed from pandas in a future version. Use pandas.concat instead.\n",
      "  value_invest = value_invest.append(\n"
     ]
    },
    {
     "name": "stdout",
     "output_type": "stream",
     "text": [
      "2.798517942428589\n",
      "Producing data for:  ADC\n"
     ]
    },
    {
     "name": "stderr",
     "output_type": "stream",
     "text": [
      "<ipython-input-2-1956285887a8>:67: FutureWarning: The frame.append method is deprecated and will be removed from pandas in a future version. Use pandas.concat instead.\n",
      "  value_invest = value_invest.append(\n"
     ]
    },
    {
     "name": "stdout",
     "output_type": "stream",
     "text": [
      "3.0293068885803223\n",
      "Producing data for:  AGU\n",
      "AGU: No data found for this date range, symbol may be delisted\n",
      "Couldnt find key for: AGU\n",
      "2.145880699157715\n",
      "Producing data for:  AHC\n",
      "AHC: No data found, symbol may be delisted\n",
      "- AHC: No summary info found, symbol may be delisted\n",
      "Nonetype found for: AHC\n",
      "1.988945722579956\n",
      "Producing data for:  AL\n"
     ]
    },
    {
     "name": "stderr",
     "output_type": "stream",
     "text": [
      "<ipython-input-2-1956285887a8>:67: FutureWarning: The frame.append method is deprecated and will be removed from pandas in a future version. Use pandas.concat instead.\n",
      "  value_invest = value_invest.append(\n"
     ]
    },
    {
     "name": "stdout",
     "output_type": "stream",
     "text": [
      "3.7683682441711426\n",
      "Producing data for:  APD\n"
     ]
    },
    {
     "name": "stderr",
     "output_type": "stream",
     "text": [
      "<ipython-input-2-1956285887a8>:67: FutureWarning: The frame.append method is deprecated and will be removed from pandas in a future version. Use pandas.concat instead.\n",
      "  value_invest = value_invest.append(\n"
     ]
    },
    {
     "name": "stdout",
     "output_type": "stream",
     "text": [
      "2.6968390941619873\n",
      "Producing data for:  AYR\n",
      "AYR: No data found, symbol may be delisted\n",
      "- AYR: No summary info found, symbol may be delisted\n",
      "Nonetype found for: AYR\n",
      "2.420501470565796\n",
      "Producing data for:  AKS\n",
      "AKS: No data found, symbol may be delisted\n",
      "- AKS: No summary info found, symbol may be delisted\n",
      "Nonetype found for: AKS\n",
      "1.5070970058441162\n",
      "Producing data for:  ALP.PRO\n",
      "ALP.PRO: No data found, symbol may be delisted\n",
      "- ALP.PRO: No summary info found, symbol may be delisted\n",
      "Nonetype found for: ALP.PRO\n",
      "2.612574815750122\n",
      "Producing data for:  ALG\n"
     ]
    },
    {
     "name": "stderr",
     "output_type": "stream",
     "text": [
      "<ipython-input-2-1956285887a8>:67: FutureWarning: The frame.append method is deprecated and will be removed from pandas in a future version. Use pandas.concat instead.\n",
      "  value_invest = value_invest.append(\n"
     ]
    },
    {
     "name": "stdout",
     "output_type": "stream",
     "text": [
      "2.1575019359588623\n",
      "Producing data for:  AGI\n"
     ]
    },
    {
     "name": "stderr",
     "output_type": "stream",
     "text": [
      "<ipython-input-2-1956285887a8>:67: FutureWarning: The frame.append method is deprecated and will be removed from pandas in a future version. Use pandas.concat instead.\n",
      "  value_invest = value_invest.append(\n"
     ]
    },
    {
     "name": "stdout",
     "output_type": "stream",
     "text": [
      "4.23000955581665\n",
      "Producing data for:  ALK\n",
      "Couldnt find key for: ALK\n",
      "3.087557792663574\n",
      "Producing data for:  AIN\n"
     ]
    },
    {
     "name": "stderr",
     "output_type": "stream",
     "text": [
      "<ipython-input-2-1956285887a8>:67: FutureWarning: The frame.append method is deprecated and will be removed from pandas in a future version. Use pandas.concat instead.\n",
      "  value_invest = value_invest.append(\n"
     ]
    },
    {
     "name": "stdout",
     "output_type": "stream",
     "text": [
      "3.483215570449829\n",
      "Producing data for:  ALB\n"
     ]
    },
    {
     "name": "stderr",
     "output_type": "stream",
     "text": [
      "<ipython-input-2-1956285887a8>:67: FutureWarning: The frame.append method is deprecated and will be removed from pandas in a future version. Use pandas.concat instead.\n",
      "  value_invest = value_invest.append(\n"
     ]
    },
    {
     "name": "stdout",
     "output_type": "stream",
     "text": [
      "2.5821926593780518\n",
      "Producing data for:  AA\n",
      "Couldnt find key for: AA\n",
      "2.8924899101257324\n",
      "Producing data for:  ALR\n",
      "Couldnt find key for: ALR\n",
      "3.495588779449463\n",
      "Producing data for:  ALR.PRB\n",
      "ALR.PRB: No data found, symbol may be delisted\n",
      "- ALR.PRB: No summary info found, symbol may be delisted\n",
      "Nonetype found for: ALR.PRB\n",
      "2.601209878921509\n",
      "Producing data for:  ALEX\n"
     ]
    },
    {
     "name": "stderr",
     "output_type": "stream",
     "text": [
      "<ipython-input-2-1956285887a8>:67: FutureWarning: The frame.append method is deprecated and will be removed from pandas in a future version. Use pandas.concat instead.\n",
      "  value_invest = value_invest.append(\n"
     ]
    },
    {
     "name": "stdout",
     "output_type": "stream",
     "text": [
      "5.198667764663696\n",
      "Producing data for:  ALX\n"
     ]
    },
    {
     "name": "stderr",
     "output_type": "stream",
     "text": [
      "<ipython-input-2-1956285887a8>:67: FutureWarning: The frame.append method is deprecated and will be removed from pandas in a future version. Use pandas.concat instead.\n",
      "  value_invest = value_invest.append(\n"
     ]
    },
    {
     "name": "stdout",
     "output_type": "stream",
     "text": [
      "3.4807121753692627\n",
      "Producing data for:  ARE\n"
     ]
    },
    {
     "name": "stderr",
     "output_type": "stream",
     "text": [
      "<ipython-input-2-1956285887a8>:67: FutureWarning: The frame.append method is deprecated and will be removed from pandas in a future version. Use pandas.concat instead.\n",
      "  value_invest = value_invest.append(\n"
     ]
    },
    {
     "name": "stdout",
     "output_type": "stream",
     "text": [
      "2.6541926860809326\n",
      "Producing data for:  ARE.PRD\n",
      "ARE.PRD: No data found, symbol may be delisted\n",
      "- ARE.PRD: No summary info found, symbol may be delisted\n",
      "Nonetype found for: ARE.PRD\n",
      "1.532813310623169\n",
      "Producing data for:  ARE.PRE\n",
      "ARE.PRE: No data found, symbol may be delisted\n",
      "- ARE.PRE: No summary info found, symbol may be delisted\n",
      "Nonetype found for: ARE.PRE\n",
      "1.7178409099578857\n",
      "Producing data for:  AQN\n"
     ]
    },
    {
     "name": "stderr",
     "output_type": "stream",
     "text": [
      "<ipython-input-2-1956285887a8>:67: FutureWarning: The frame.append method is deprecated and will be removed from pandas in a future version. Use pandas.concat instead.\n",
      "  value_invest = value_invest.append(\n"
     ]
    },
    {
     "name": "stdout",
     "output_type": "stream",
     "text": [
      "2.3125932216644287\n",
      "Producing data for:  BABA\n"
     ]
    },
    {
     "name": "stderr",
     "output_type": "stream",
     "text": [
      "<ipython-input-2-1956285887a8>:67: FutureWarning: The frame.append method is deprecated and will be removed from pandas in a future version. Use pandas.concat instead.\n",
      "  value_invest = value_invest.append(\n"
     ]
    },
    {
     "name": "stdout",
     "output_type": "stream",
     "text": [
      "3.503811836242676\n",
      "Producing data for:  Y\n",
      "Y: No data found, symbol may be delisted\n",
      "- Y: No summary info found, symbol may be delisted\n",
      "Nonetype found for: Y\n",
      "2.282174825668335\n",
      "Producing data for:  ATI\n",
      "Couldnt find key for: ATI\n",
      "2.9880897998809814\n",
      "Producing data for:  ALLE\n"
     ]
    },
    {
     "name": "stderr",
     "output_type": "stream",
     "text": [
      "<ipython-input-2-1956285887a8>:67: FutureWarning: The frame.append method is deprecated and will be removed from pandas in a future version. Use pandas.concat instead.\n",
      "  value_invest = value_invest.append(\n"
     ]
    },
    {
     "name": "stdout",
     "output_type": "stream",
     "text": [
      "3.83304762840271\n",
      "Producing data for:  AGN\n",
      "AGN: No data found, symbol may be delisted\n",
      "- AGN: No summary info found, symbol may be delisted\n",
      "Nonetype found for: AGN\n",
      "1.9284541606903076\n",
      "Producing data for:  AGN.PRA\n",
      "AGN.PRA: No data found, symbol may be delisted\n",
      "- AGN.PRA: No summary info found, symbol may be delisted\n",
      "Nonetype found for: AGN.PRA\n",
      "1.6569101810455322\n",
      "Producing data for:  ALE\n"
     ]
    },
    {
     "name": "stderr",
     "output_type": "stream",
     "text": [
      "<ipython-input-2-1956285887a8>:67: FutureWarning: The frame.append method is deprecated and will be removed from pandas in a future version. Use pandas.concat instead.\n",
      "  value_invest = value_invest.append(\n"
     ]
    },
    {
     "name": "stdout",
     "output_type": "stream",
     "text": [
      "3.8944780826568604\n",
      "Producing data for:  AKP\n",
      "AKP: No data found, symbol may be delisted\n",
      "- AKP: No summary info found, symbol may be delisted\n",
      "Nonetype found for: AKP\n",
      "1.9901421070098877\n",
      "Producing data for:  ADS\n",
      "ADS: No data found, symbol may be delisted\n",
      "- ADS: No summary info found, symbol may be delisted\n",
      "Nonetype found for: ADS\n",
      "1.6287178993225098\n",
      "Producing data for:  AOI\n",
      "AOI: No data found for this date range, symbol may be delisted\n",
      "Couldnt find key for: AOI\n",
      "2.4215614795684814\n",
      "Producing data for:  AWF\n",
      "Couldnt find key for: AWF\n",
      "3.5729970932006836\n",
      "Producing data for:  AB\n"
     ]
    },
    {
     "name": "stderr",
     "output_type": "stream",
     "text": [
      "<ipython-input-2-1956285887a8>:67: FutureWarning: The frame.append method is deprecated and will be removed from pandas in a future version. Use pandas.concat instead.\n",
      "  value_invest = value_invest.append(\n"
     ]
    },
    {
     "name": "stdout",
     "output_type": "stream",
     "text": [
      "2.6399121284484863\n",
      "Producing data for:  AFB\n"
     ]
    },
    {
     "name": "stderr",
     "output_type": "stream",
     "text": [
      "<ipython-input-2-1956285887a8>:67: FutureWarning: The frame.append method is deprecated and will be removed from pandas in a future version. Use pandas.concat instead.\n",
      "  value_invest = value_invest.append(\n"
     ]
    },
    {
     "name": "stdout",
     "output_type": "stream",
     "text": [
      "3.8800997734069824\n",
      "Producing data for:  LNT\n"
     ]
    },
    {
     "name": "stderr",
     "output_type": "stream",
     "text": [
      "<ipython-input-2-1956285887a8>:67: FutureWarning: The frame.append method is deprecated and will be removed from pandas in a future version. Use pandas.concat instead.\n",
      "  value_invest = value_invest.append(\n"
     ]
    },
    {
     "name": "stdout",
     "output_type": "stream",
     "text": [
      "2.8019981384277344\n",
      "Producing data for:  NCV\n"
     ]
    },
    {
     "name": "stderr",
     "output_type": "stream",
     "text": [
      "<ipython-input-2-1956285887a8>:67: FutureWarning: The frame.append method is deprecated and will be removed from pandas in a future version. Use pandas.concat instead.\n",
      "  value_invest = value_invest.append(\n"
     ]
    },
    {
     "name": "stdout",
     "output_type": "stream",
     "text": [
      "3.6006155014038086\n",
      "Producing data for:  NCZ\n"
     ]
    },
    {
     "name": "stderr",
     "output_type": "stream",
     "text": [
      "<ipython-input-2-1956285887a8>:67: FutureWarning: The frame.append method is deprecated and will be removed from pandas in a future version. Use pandas.concat instead.\n",
      "  value_invest = value_invest.append(\n"
     ]
    },
    {
     "name": "stdout",
     "output_type": "stream",
     "text": [
      "3.027245044708252\n",
      "Producing data for:  NIE\n",
      "Nonetype found for: NIE\n",
      "3.101977586746216\n",
      "Producing data for:  NFJ\n"
     ]
    },
    {
     "name": "stderr",
     "output_type": "stream",
     "text": [
      "<ipython-input-2-1956285887a8>:67: FutureWarning: The frame.append method is deprecated and will be removed from pandas in a future version. Use pandas.concat instead.\n",
      "  value_invest = value_invest.append(\n"
     ]
    },
    {
     "name": "stdout",
     "output_type": "stream",
     "text": [
      "2.784893751144409\n",
      "Producing data for:  AFC\n",
      "AFC: No data found, symbol may be delisted\n",
      "- AFC: No summary info found, symbol may be delisted\n",
      "Nonetype found for: AFC\n",
      "2.9167850017547607\n",
      "Producing data for:  AWH\n",
      "Couldnt find key for: AWH\n",
      "2.3094377517700195\n",
      "Producing data for:  ALSN\n"
     ]
    },
    {
     "name": "stderr",
     "output_type": "stream",
     "text": [
      "<ipython-input-2-1956285887a8>:67: FutureWarning: The frame.append method is deprecated and will be removed from pandas in a future version. Use pandas.concat instead.\n",
      "  value_invest = value_invest.append(\n"
     ]
    },
    {
     "name": "stdout",
     "output_type": "stream",
     "text": [
      "3.753553867340088\n",
      "Producing data for:  ALL\n"
     ]
    },
    {
     "name": "stderr",
     "output_type": "stream",
     "text": [
      "<ipython-input-2-1956285887a8>:67: FutureWarning: The frame.append method is deprecated and will be removed from pandas in a future version. Use pandas.concat instead.\n",
      "  value_invest = value_invest.append(\n"
     ]
    },
    {
     "name": "stdout",
     "output_type": "stream",
     "text": [
      "2.8408031463623047\n",
      "Producing data for:  ALL.PRA\n",
      "ALL.PRA: No data found, symbol may be delisted\n",
      "- ALL.PRA: No summary info found, symbol may be delisted\n",
      "Nonetype found for: ALL.PRA\n",
      "5.247995138168335\n",
      "Producing data for:  ALL.PRB\n",
      "ALL.PRB: No data found, symbol may be delisted\n",
      "- ALL.PRB: No summary info found, symbol may be delisted\n",
      "Nonetype found for: ALL.PRB\n",
      "1.6069352626800537\n",
      "Producing data for:  ALL.PRC\n",
      "ALL.PRC: No data found, symbol may be delisted\n",
      "- ALL.PRC: No summary info found, symbol may be delisted\n",
      "Nonetype found for: ALL.PRC\n",
      "1.60017728805542\n",
      "Producing data for:  ALL.PRD\n",
      "ALL.PRD: No data found, symbol may be delisted\n",
      "- ALL.PRD: No summary info found, symbol may be delisted\n",
      "Nonetype found for: ALL.PRD\n",
      "1.807628870010376\n",
      "Producing data for:  ALL.PRE\n",
      "ALL.PRE: No data found, symbol may be delisted\n",
      "- ALL.PRE: No summary info found, symbol may be delisted\n",
      "Nonetype found for: ALL.PRE\n",
      "3.150838613510132\n",
      "Producing data for:  ALL.PRF\n",
      "ALL.PRF: No data found, symbol may be delisted\n",
      "- ALL.PRF: No summary info found, symbol may be delisted\n",
      "Nonetype found for: ALL.PRF\n",
      "2.4560375213623047\n",
      "Producing data for:  ALLY\n"
     ]
    },
    {
     "name": "stderr",
     "output_type": "stream",
     "text": [
      "<ipython-input-2-1956285887a8>:67: FutureWarning: The frame.append method is deprecated and will be removed from pandas in a future version. Use pandas.concat instead.\n",
      "  value_invest = value_invest.append(\n"
     ]
    },
    {
     "name": "stdout",
     "output_type": "stream",
     "text": [
      "2.7036592960357666\n",
      "Producing data for:  ALJ\n",
      "ALJ: No data found for this date range, symbol may be delisted\n",
      "Couldnt find key for: ALJ\n",
      "2.5901939868927\n",
      "Producing data for:  ALDW\n",
      "ALDW: No data found for this date range, symbol may be delisted\n",
      "Couldnt find key for: ALDW\n",
      "2.23862361907959\n",
      "Producing data for:  AGD\n"
     ]
    },
    {
     "name": "stderr",
     "output_type": "stream",
     "text": [
      "<ipython-input-2-1956285887a8>:67: FutureWarning: The frame.append method is deprecated and will be removed from pandas in a future version. Use pandas.concat instead.\n",
      "  value_invest = value_invest.append(\n"
     ]
    },
    {
     "name": "stdout",
     "output_type": "stream",
     "text": [
      "2.75528621673584\n",
      "Producing data for:  AWP\n"
     ]
    },
    {
     "name": "stderr",
     "output_type": "stream",
     "text": [
      "<ipython-input-2-1956285887a8>:67: FutureWarning: The frame.append method is deprecated and will be removed from pandas in a future version. Use pandas.concat instead.\n",
      "  value_invest = value_invest.append(\n"
     ]
    },
    {
     "name": "stdout",
     "output_type": "stream",
     "text": [
      "3.327625274658203\n",
      "Producing data for:  AOD\n",
      "Couldnt find key for: AOD\n",
      "3.0290582180023193\n",
      "Producing data for:  RESI\n",
      "Couldnt find key for: RESI\n",
      "2.955695867538452\n",
      "Producing data for:  MO\n"
     ]
    },
    {
     "name": "stderr",
     "output_type": "stream",
     "text": [
      "<ipython-input-2-1956285887a8>:67: FutureWarning: The frame.append method is deprecated and will be removed from pandas in a future version. Use pandas.concat instead.\n",
      "  value_invest = value_invest.append(\n"
     ]
    },
    {
     "name": "stdout",
     "output_type": "stream",
     "text": [
      "3.0282986164093018\n",
      "Producing data for:  ACH\n",
      "ACH: No data found, symbol may be delisted\n",
      "- ACH: No summary info found, symbol may be delisted\n",
      "Nonetype found for: ACH\n",
      "1.756274938583374\n",
      "Producing data for:  AMBR\n",
      "AMBR: No data found, symbol may be delisted\n",
      "- AMBR: No summary info found, symbol may be delisted\n",
      "Nonetype found for: AMBR\n",
      "1.6580140590667725\n",
      "Producing data for:  ABEV\n"
     ]
    },
    {
     "name": "stderr",
     "output_type": "stream",
     "text": [
      "<ipython-input-2-1956285887a8>:67: FutureWarning: The frame.append method is deprecated and will be removed from pandas in a future version. Use pandas.concat instead.\n",
      "  value_invest = value_invest.append(\n"
     ]
    },
    {
     "name": "stdout",
     "output_type": "stream",
     "text": [
      "2.883462905883789\n",
      "Producing data for:  AMC\n",
      "Couldnt find key for: AMC\n",
      "2.6868648529052734\n",
      "Producing data for:  AMFW\n",
      "AMFW: No data found, symbol may be delisted\n",
      "- AMFW: No summary info found, symbol may be delisted\n",
      "Nonetype found for: AMFW\n",
      "1.9064631462097168\n",
      "Producing data for:  AEE\n"
     ]
    },
    {
     "name": "stderr",
     "output_type": "stream",
     "text": [
      "<ipython-input-2-1956285887a8>:67: FutureWarning: The frame.append method is deprecated and will be removed from pandas in a future version. Use pandas.concat instead.\n",
      "  value_invest = value_invest.append(\n"
     ]
    },
    {
     "name": "stdout",
     "output_type": "stream",
     "text": [
      "3.4266254901885986\n",
      "Producing data for:  AMRC\n"
     ]
    },
    {
     "name": "stderr",
     "output_type": "stream",
     "text": [
      "<ipython-input-2-1956285887a8>:67: FutureWarning: The frame.append method is deprecated and will be removed from pandas in a future version. Use pandas.concat instead.\n",
      "  value_invest = value_invest.append(\n"
     ]
    },
    {
     "name": "stdout",
     "output_type": "stream",
     "text": [
      "5.0509352684021\n",
      "Producing data for:  AAT\n"
     ]
    },
    {
     "name": "stderr",
     "output_type": "stream",
     "text": [
      "<ipython-input-2-1956285887a8>:67: FutureWarning: The frame.append method is deprecated and will be removed from pandas in a future version. Use pandas.concat instead.\n",
      "  value_invest = value_invest.append(\n"
     ]
    },
    {
     "name": "stdout",
     "output_type": "stream",
     "text": [
      "2.9981002807617188\n",
      "Producing data for:  AXL\n",
      "Couldnt find key for: AXL\n",
      "3.321061372756958\n",
      "Producing data for:  ACC\n",
      "ACC: No data found, symbol may be delisted\n",
      "- ACC: No summary info found, symbol may be delisted\n",
      "Nonetype found for: ACC\n",
      "2.6432323455810547\n",
      "Producing data for:  AEO\n",
      "Couldnt find key for: AEO\n",
      "2.5062685012817383\n",
      "Producing data for:  AEP\n"
     ]
    },
    {
     "name": "stderr",
     "output_type": "stream",
     "text": [
      "<ipython-input-2-1956285887a8>:67: FutureWarning: The frame.append method is deprecated and will be removed from pandas in a future version. Use pandas.concat instead.\n",
      "  value_invest = value_invest.append(\n"
     ]
    },
    {
     "name": "stdout",
     "output_type": "stream",
     "text": [
      "2.913745880126953\n",
      "Producing data for:  AEL\n"
     ]
    },
    {
     "name": "stderr",
     "output_type": "stream",
     "text": [
      "<ipython-input-2-1956285887a8>:67: FutureWarning: The frame.append method is deprecated and will be removed from pandas in a future version. Use pandas.concat instead.\n",
      "  value_invest = value_invest.append(\n"
     ]
    },
    {
     "name": "stdout",
     "output_type": "stream",
     "text": [
      "2.722071647644043\n",
      "Producing data for:  AXP\n"
     ]
    },
    {
     "name": "stderr",
     "output_type": "stream",
     "text": [
      "<ipython-input-2-1956285887a8>:67: FutureWarning: The frame.append method is deprecated and will be removed from pandas in a future version. Use pandas.concat instead.\n",
      "  value_invest = value_invest.append(\n"
     ]
    },
    {
     "name": "stdout",
     "output_type": "stream",
     "text": [
      "2.8823816776275635\n",
      "Producing data for:  AFG\n"
     ]
    },
    {
     "name": "stderr",
     "output_type": "stream",
     "text": [
      "<ipython-input-2-1956285887a8>:67: FutureWarning: The frame.append method is deprecated and will be removed from pandas in a future version. Use pandas.concat instead.\n",
      "  value_invest = value_invest.append(\n"
     ]
    },
    {
     "name": "stdout",
     "output_type": "stream",
     "text": [
      "3.9563395977020264\n",
      "Producing data for:  AFA\n",
      "AFA: No data found, symbol may be delisted\n",
      "- AFA: No summary info found, symbol may be delisted\n",
      "Nonetype found for: AFA\n",
      "8.00197148323059\n",
      "Producing data for:  AFW\n",
      "AFW: No data found, symbol may be delisted\n",
      "- AFW: No summary info found, symbol may be delisted\n",
      "Nonetype found for: AFW\n",
      "1.7559704780578613\n",
      "Producing data for:  AMH\n"
     ]
    },
    {
     "name": "stderr",
     "output_type": "stream",
     "text": [
      "<ipython-input-2-1956285887a8>:67: FutureWarning: The frame.append method is deprecated and will be removed from pandas in a future version. Use pandas.concat instead.\n",
      "  value_invest = value_invest.append(\n"
     ]
    },
    {
     "name": "stdout",
     "output_type": "stream",
     "text": [
      "3.251488447189331\n",
      "Producing data for:  AMH.PRA\n",
      "AMH.PRA: No data found, symbol may be delisted\n",
      "- AMH.PRA: No summary info found, symbol may be delisted\n",
      "Nonetype found for: AMH.PRA\n",
      "2.263125419616699\n",
      "Producing data for:  AMH.PRB\n",
      "AMH.PRB: No data found, symbol may be delisted\n",
      "- AMH.PRB: No summary info found, symbol may be delisted\n",
      "Nonetype found for: AMH.PRB\n",
      "1.821976661682129\n",
      "Producing data for:  AMH.PRC\n",
      "AMH.PRC: No data found, symbol may be delisted\n",
      "- AMH.PRC: No summary info found, symbol may be delisted\n",
      "Nonetype found for: AMH.PRC\n",
      "1.3948073387145996\n",
      "Producing data for:  AMH.PRD\n",
      "AMH.PRD: No data found, symbol may be delisted\n",
      "- AMH.PRD: No summary info found, symbol may be delisted\n",
      "Nonetype found for: AMH.PRD\n",
      "3.1553702354431152\n",
      "Producing data for:  AMH.PRE\n",
      "AMH.PRE: No data found, symbol may be delisted\n",
      "- AMH.PRE: No summary info found, symbol may be delisted\n",
      "Nonetype found for: AMH.PRE\n",
      "1.853313684463501\n",
      "Producing data for:  AIG\n",
      "Couldnt find key for: AIG\n",
      "4.0703558921813965\n",
      "Producing data for:  AIG.WS\n",
      "AIG.WS: No data found, symbol may be delisted\n",
      "- AIG.WS: No summary info found, symbol may be delisted\n",
      "Nonetype found for: AIG.WS\n",
      "1.7340879440307617\n",
      "Producing data for:  AMID\n",
      "Couldnt find key for: AMID\n",
      "2.914388656616211\n",
      "Producing data for:  ARL\n"
     ]
    },
    {
     "name": "stderr",
     "output_type": "stream",
     "text": [
      "<ipython-input-2-1956285887a8>:67: FutureWarning: The frame.append method is deprecated and will be removed from pandas in a future version. Use pandas.concat instead.\n",
      "  value_invest = value_invest.append(\n"
     ]
    },
    {
     "name": "stdout",
     "output_type": "stream",
     "text": [
      "3.6325252056121826\n",
      "Producing data for:  ARA\n",
      "ARA: No data found, symbol may be delisted\n",
      "- ARA: No summary info found, symbol may be delisted\n",
      "Nonetype found for: ARA\n",
      "1.7725255489349365\n",
      "Producing data for:  AWR\n"
     ]
    },
    {
     "name": "stderr",
     "output_type": "stream",
     "text": [
      "<ipython-input-2-1956285887a8>:67: FutureWarning: The frame.append method is deprecated and will be removed from pandas in a future version. Use pandas.concat instead.\n",
      "  value_invest = value_invest.append(\n"
     ]
    },
    {
     "name": "stdout",
     "output_type": "stream",
     "text": [
      "6.159074783325195\n",
      "Producing data for:  AMT\n"
     ]
    },
    {
     "name": "stderr",
     "output_type": "stream",
     "text": [
      "<ipython-input-2-1956285887a8>:67: FutureWarning: The frame.append method is deprecated and will be removed from pandas in a future version. Use pandas.concat instead.\n",
      "  value_invest = value_invest.append(\n"
     ]
    },
    {
     "name": "stdout",
     "output_type": "stream",
     "text": [
      "3.864751100540161\n",
      "Producing data for:  AMT.PRA\n",
      "AMT.PRA: No data found, symbol may be delisted\n",
      "- AMT.PRA: No summary info found, symbol may be delisted\n",
      "Nonetype found for: AMT.PRA\n",
      "2.672901153564453\n",
      "Producing data for:  AMT.PRB\n",
      "AMT.PRB: No data found, symbol may be delisted\n",
      "- AMT.PRB: No summary info found, symbol may be delisted\n",
      "Nonetype found for: AMT.PRB\n",
      "2.3053746223449707\n",
      "Producing data for:  AVD\n"
     ]
    },
    {
     "name": "stderr",
     "output_type": "stream",
     "text": [
      "<ipython-input-2-1956285887a8>:67: FutureWarning: The frame.append method is deprecated and will be removed from pandas in a future version. Use pandas.concat instead.\n",
      "  value_invest = value_invest.append(\n"
     ]
    },
    {
     "name": "stdout",
     "output_type": "stream",
     "text": [
      "3.7442564964294434\n",
      "Producing data for:  AWK\n"
     ]
    },
    {
     "name": "stderr",
     "output_type": "stream",
     "text": [
      "<ipython-input-2-1956285887a8>:67: FutureWarning: The frame.append method is deprecated and will be removed from pandas in a future version. Use pandas.concat instead.\n",
      "  value_invest = value_invest.append(\n"
     ]
    },
    {
     "name": "stdout",
     "output_type": "stream",
     "text": [
      "4.142397880554199\n",
      "Producing data for:  APU\n",
      "APU: No data found, symbol may be delisted\n",
      "- APU: No summary info found, symbol may be delisted\n",
      "Nonetype found for: APU\n",
      "2.4539473056793213\n",
      "Producing data for:  AMP\n",
      "Couldnt find key for: AMP\n",
      "4.369852781295776\n",
      "Producing data for:  ABC\n",
      "Couldnt find key for: ABC\n",
      "3.672722339630127\n",
      "Producing data for:  AME\n"
     ]
    },
    {
     "name": "stderr",
     "output_type": "stream",
     "text": [
      "<ipython-input-2-1956285887a8>:67: FutureWarning: The frame.append method is deprecated and will be removed from pandas in a future version. Use pandas.concat instead.\n",
      "  value_invest = value_invest.append(\n"
     ]
    },
    {
     "name": "stdout",
     "output_type": "stream",
     "text": [
      "2.8516242504119873\n",
      "Producing data for:  ANFI\n",
      "ANFI: No data found, symbol may be delisted\n",
      "- ANFI: No summary info found, symbol may be delisted\n",
      "Nonetype found for: ANFI\n",
      "2.3207085132598877\n",
      "Producing data for:  AMN\n"
     ]
    },
    {
     "name": "stderr",
     "output_type": "stream",
     "text": [
      "<ipython-input-2-1956285887a8>:67: FutureWarning: The frame.append method is deprecated and will be removed from pandas in a future version. Use pandas.concat instead.\n",
      "  value_invest = value_invest.append(\n"
     ]
    },
    {
     "name": "stdout",
     "output_type": "stream",
     "text": [
      "3.0277011394500732\n",
      "Producing data for:  AP\n"
     ]
    },
    {
     "name": "stderr",
     "output_type": "stream",
     "text": [
      "<ipython-input-2-1956285887a8>:67: FutureWarning: The frame.append method is deprecated and will be removed from pandas in a future version. Use pandas.concat instead.\n",
      "  value_invest = value_invest.append(\n"
     ]
    },
    {
     "name": "stdout",
     "output_type": "stream",
     "text": [
      "2.956716299057007\n",
      "Producing data for:  APH\n"
     ]
    },
    {
     "name": "stderr",
     "output_type": "stream",
     "text": [
      "<ipython-input-2-1956285887a8>:67: FutureWarning: The frame.append method is deprecated and will be removed from pandas in a future version. Use pandas.concat instead.\n",
      "  value_invest = value_invest.append(\n"
     ]
    },
    {
     "name": "stdout",
     "output_type": "stream",
     "text": [
      "3.297013282775879\n",
      "Producing data for:  BETR\n",
      "BETR: No data found for this date range, symbol may be delisted\n",
      "- BETR: No summary info found, symbol may be delisted\n",
      "Nonetype found for: BETR\n",
      "7.759856224060059\n",
      "Producing data for:  AXR\n",
      "Couldnt find key for: AXR\n",
      "5.031571865081787\n",
      "Producing data for:  AFSI.PRA\n",
      "AFSI.PRA: No data found, symbol may be delisted\n",
      "- AFSI.PRA: No summary info found, symbol may be delisted\n",
      "Nonetype found for: AFSI.PRA\n",
      "1.4907197952270508\n",
      "Producing data for:  AFSI.PRB\n",
      "AFSI.PRB: No data found, symbol may be delisted\n",
      "- AFSI.PRB: No summary info found, symbol may be delisted\n",
      "Nonetype found for: AFSI.PRB\n",
      "1.6578803062438965\n",
      "Producing data for:  AFSI.PRC\n",
      "AFSI.PRC: No data found, symbol may be delisted\n",
      "- AFSI.PRC: No summary info found, symbol may be delisted\n",
      "Nonetype found for: AFSI.PRC\n",
      "1.8201286792755127\n",
      "Producing data for:  AFSI.PRD\n",
      "AFSI.PRD: No data found, symbol may be delisted\n",
      "- AFSI.PRD: No summary info found, symbol may be delisted\n",
      "Nonetype found for: AFSI.PRD\n",
      "1.7121624946594238\n",
      "Producing data for:  AFSI.PRE\n",
      "AFSI.PRE: No data found, symbol may be delisted\n",
      "- AFSI.PRE: No summary info found, symbol may be delisted\n",
      "Nonetype found for: AFSI.PRE\n",
      "1.9825263023376465\n",
      "Producing data for:  AFSI.PRF\n",
      "AFSI.PRF: No data found, symbol may be delisted\n",
      "- AFSI.PRF: No summary info found, symbol may be delisted\n",
      "Nonetype found for: AFSI.PRF\n",
      "1.4696624279022217\n",
      "Producing data for:  AMX\n"
     ]
    },
    {
     "name": "stderr",
     "output_type": "stream",
     "text": [
      "<ipython-input-2-1956285887a8>:67: FutureWarning: The frame.append method is deprecated and will be removed from pandas in a future version. Use pandas.concat instead.\n",
      "  value_invest = value_invest.append(\n"
     ]
    },
    {
     "name": "stdout",
     "output_type": "stream",
     "text": [
      "2.7752771377563477\n",
      "Producing data for:  AMOV\n"
     ]
    },
    {
     "name": "stderr",
     "output_type": "stream",
     "text": [
      "<ipython-input-2-1956285887a8>:67: FutureWarning: The frame.append method is deprecated and will be removed from pandas in a future version. Use pandas.concat instead.\n",
      "  value_invest = value_invest.append(\n"
     ]
    },
    {
     "name": "stdout",
     "output_type": "stream",
     "text": [
      "3.116940975189209\n",
      "Producing data for:  AU\n"
     ]
    },
    {
     "name": "stderr",
     "output_type": "stream",
     "text": [
      "<ipython-input-2-1956285887a8>:67: FutureWarning: The frame.append method is deprecated and will be removed from pandas in a future version. Use pandas.concat instead.\n",
      "  value_invest = value_invest.append(\n"
     ]
    },
    {
     "name": "stdout",
     "output_type": "stream",
     "text": [
      "2.914273977279663\n",
      "Producing data for:  BUD\n"
     ]
    },
    {
     "name": "stderr",
     "output_type": "stream",
     "text": [
      "<ipython-input-2-1956285887a8>:67: FutureWarning: The frame.append method is deprecated and will be removed from pandas in a future version. Use pandas.concat instead.\n",
      "  value_invest = value_invest.append(\n"
     ]
    },
    {
     "name": "stdout",
     "output_type": "stream",
     "text": [
      "3.1789841651916504\n",
      "Producing data for:  AXE\n",
      "AXE: No data found, symbol may be delisted\n",
      "- AXE: No summary info found, symbol may be delisted\n",
      "Nonetype found for: AXE\n",
      "2.395275592803955\n",
      "Producing data for:  NLY\n"
     ]
    },
    {
     "name": "stderr",
     "output_type": "stream",
     "text": [
      "<ipython-input-2-1956285887a8>:67: FutureWarning: The frame.append method is deprecated and will be removed from pandas in a future version. Use pandas.concat instead.\n",
      "  value_invest = value_invest.append(\n"
     ]
    },
    {
     "name": "stdout",
     "output_type": "stream",
     "text": [
      "3.6815261840820312\n",
      "Producing data for:  NLY.PRA\n",
      "NLY.PRA: No data found, symbol may be delisted\n",
      "- NLY.PRA: No summary info found, symbol may be delisted\n",
      "Nonetype found for: NLY.PRA\n",
      "1.7365872859954834\n",
      "Producing data for:  NLY.PRC\n",
      "NLY.PRC: No data found, symbol may be delisted\n",
      "- NLY.PRC: No summary info found, symbol may be delisted\n",
      "Nonetype found for: NLY.PRC\n",
      "1.873117446899414\n",
      "Producing data for:  NLY.PRD\n",
      "NLY.PRD: No data found, symbol may be delisted\n",
      "- NLY.PRD: No summary info found, symbol may be delisted\n",
      "Nonetype found for: NLY.PRD\n",
      "2.362745523452759\n",
      "Producing data for:  NLY.PRE\n",
      "NLY.PRE: No data found, symbol may be delisted\n",
      "- NLY.PRE: No summary info found, symbol may be delisted\n",
      "Nonetype found for: NLY.PRE\n",
      "1.8740723133087158\n",
      "Producing data for:  AR\n",
      "Couldnt find key for: AR\n",
      "3.619032382965088\n",
      "Producing data for:  AM\n"
     ]
    },
    {
     "name": "stderr",
     "output_type": "stream",
     "text": [
      "<ipython-input-2-1956285887a8>:67: FutureWarning: The frame.append method is deprecated and will be removed from pandas in a future version. Use pandas.concat instead.\n",
      "  value_invest = value_invest.append(\n"
     ]
    },
    {
     "name": "stdout",
     "output_type": "stream",
     "text": [
      "1.8279383182525635\n",
      "Producing data for:  ANTM\n",
      "ANTM: No data found, symbol may be delisted\n",
      "- ANTM: No summary info found, symbol may be delisted\n",
      "Nonetype found for: ANTM\n",
      "1.6741461753845215\n",
      "Producing data for:  ANTX\n",
      "Couldnt find key for: ANTX\n",
      "2.6385297775268555\n",
      "Producing data for:  ANH\n",
      "ANH: No data found, symbol may be delisted\n",
      "- ANH: No summary info found, symbol may be delisted\n",
      "Nonetype found for: ANH\n",
      "1.6445012092590332\n",
      "Producing data for:  ANH.PRA\n",
      "ANH.PRA: No data found, symbol may be delisted\n",
      "- ANH.PRA: No summary info found, symbol may be delisted\n",
      "Nonetype found for: ANH.PRA\n",
      "1.6949577331542969\n",
      "Producing data for:  ANH.PRB\n",
      "ANH.PRB: No data found, symbol may be delisted\n",
      "- ANH.PRB: No summary info found, symbol may be delisted\n",
      "Nonetype found for: ANH.PRB\n",
      "1.6449782848358154\n",
      "Producing data for:  ANH.PRC\n",
      "ANH.PRC: No data found, symbol may be delisted\n",
      "- ANH.PRC: No summary info found, symbol may be delisted\n",
      "Nonetype found for: ANH.PRC\n",
      "1.7004520893096924\n",
      "Producing data for:  AON\n"
     ]
    },
    {
     "name": "stderr",
     "output_type": "stream",
     "text": [
      "<ipython-input-2-1956285887a8>:67: FutureWarning: The frame.append method is deprecated and will be removed from pandas in a future version. Use pandas.concat instead.\n",
      "  value_invest = value_invest.append(\n"
     ]
    },
    {
     "name": "stdout",
     "output_type": "stream",
     "text": [
      "2.6760568618774414\n",
      "Producing data for:  APA\n",
      "Couldnt find key for: APA\n",
      "3.7493948936462402\n",
      "Producing data for:  AIV\n",
      "Couldnt find key for: AIV\n",
      "3.477029323577881\n",
      "Producing data for:  AIV.PRA\n",
      "AIV.PRA: No data found, symbol may be delisted\n",
      "- AIV.PRA: No summary info found, symbol may be delisted\n",
      "Nonetype found for: AIV.PRA\n",
      "2.3987526893615723\n",
      "Producing data for:  ARI\n"
     ]
    },
    {
     "name": "stderr",
     "output_type": "stream",
     "text": [
      "<ipython-input-2-1956285887a8>:67: FutureWarning: The frame.append method is deprecated and will be removed from pandas in a future version. Use pandas.concat instead.\n",
      "  value_invest = value_invest.append(\n"
     ]
    },
    {
     "name": "stdout",
     "output_type": "stream",
     "text": [
      "2.3013546466827393\n",
      "Producing data for:  ARI.PRA\n",
      "ARI.PRA: No data found, symbol may be delisted\n",
      "- ARI.PRA: No summary info found, symbol may be delisted\n",
      "Nonetype found for: ARI.PRA\n",
      "2.256469249725342\n",
      "Producing data for:  ARI.PRC\n",
      "ARI.PRC: No data found, symbol may be delisted\n",
      "- ARI.PRC: No summary info found, symbol may be delisted\n",
      "Nonetype found for: ARI.PRC\n",
      "2.2671360969543457\n",
      "Producing data for:  APO\n"
     ]
    },
    {
     "name": "stderr",
     "output_type": "stream",
     "text": [
      "<ipython-input-2-1956285887a8>:67: FutureWarning: The frame.append method is deprecated and will be removed from pandas in a future version. Use pandas.concat instead.\n",
      "  value_invest = value_invest.append(\n"
     ]
    },
    {
     "name": "stdout",
     "output_type": "stream",
     "text": [
      "3.558002233505249\n",
      "Producing data for:  AIB\n",
      "Couldnt find key for: AIB\n",
      "2.671637535095215\n",
      "Producing data for:  AIY\n",
      "AIY: No data found, symbol may be delisted\n",
      "- AIY: No summary info found, symbol may be delisted\n",
      "Nonetype found for: AIY\n",
      "1.6391751766204834\n",
      "Producing data for:  AFT\n"
     ]
    },
    {
     "name": "stderr",
     "output_type": "stream",
     "text": [
      "<ipython-input-2-1956285887a8>:67: FutureWarning: The frame.append method is deprecated and will be removed from pandas in a future version. Use pandas.concat instead.\n",
      "  value_invest = value_invest.append(\n"
     ]
    },
    {
     "name": "stdout",
     "output_type": "stream",
     "text": [
      "1.8235876560211182\n",
      "Producing data for:  AIF\n"
     ]
    },
    {
     "name": "stderr",
     "output_type": "stream",
     "text": [
      "<ipython-input-2-1956285887a8>:67: FutureWarning: The frame.append method is deprecated and will be removed from pandas in a future version. Use pandas.concat instead.\n",
      "  value_invest = value_invest.append(\n"
     ]
    },
    {
     "name": "stdout",
     "output_type": "stream",
     "text": [
      "2.8514504432678223\n",
      "Producing data for:  APLE\n",
      "Couldnt find key for: APLE\n",
      "3.826535224914551\n",
      "Producing data for:  AIT\n"
     ]
    },
    {
     "name": "stderr",
     "output_type": "stream",
     "text": [
      "<ipython-input-2-1956285887a8>:67: FutureWarning: The frame.append method is deprecated and will be removed from pandas in a future version. Use pandas.concat instead.\n",
      "  value_invest = value_invest.append(\n"
     ]
    },
    {
     "name": "stdout",
     "output_type": "stream",
     "text": [
      "3.435196876525879\n",
      "Producing data for:  ATR\n"
     ]
    },
    {
     "name": "stderr",
     "output_type": "stream",
     "text": [
      "<ipython-input-2-1956285887a8>:67: FutureWarning: The frame.append method is deprecated and will be removed from pandas in a future version. Use pandas.concat instead.\n",
      "  value_invest = value_invest.append(\n"
     ]
    },
    {
     "name": "stdout",
     "output_type": "stream",
     "text": [
      "5.357148885726929\n",
      "Producing data for:  WTR\n",
      "WTR: No data found, symbol may be delisted\n",
      "- WTR: No summary info found, symbol may be delisted\n",
      "Nonetype found for: WTR\n",
      "1.6817467212677002\n",
      "Producing data for:  WAAS\n",
      "WAAS: No data found, symbol may be delisted\n",
      "- WAAS: No summary info found, symbol may be delisted\n",
      "Nonetype found for: WAAS\n",
      "2.0081663131713867\n",
      "Producing data for:  ARMK\n",
      "Couldnt find key for: ARMK\n",
      "3.355205535888672\n",
      "Producing data for:  ABR\n"
     ]
    },
    {
     "name": "stderr",
     "output_type": "stream",
     "text": [
      "<ipython-input-2-1956285887a8>:67: FutureWarning: The frame.append method is deprecated and will be removed from pandas in a future version. Use pandas.concat instead.\n",
      "  value_invest = value_invest.append(\n"
     ]
    },
    {
     "name": "stdout",
     "output_type": "stream",
     "text": [
      "3.052700996398926\n",
      "Producing data for:  ABRN\n",
      "ABRN: No data found, symbol may be delisted\n",
      "- ABRN: No summary info found, symbol may be delisted\n",
      "Nonetype found for: ABRN\n",
      "1.6116280555725098\n",
      "Producing data for:  ABR.PRA\n",
      "ABR.PRA: No data found, symbol may be delisted\n",
      "- ABR.PRA: No summary info found, symbol may be delisted\n",
      "Nonetype found for: ABR.PRA\n",
      "1.6045575141906738\n",
      "Producing data for:  ABR.PRB\n",
      "ABR.PRB: No data found, symbol may be delisted\n",
      "- ABR.PRB: No summary info found, symbol may be delisted\n",
      "Nonetype found for: ABR.PRB\n",
      "2.6237215995788574\n",
      "Producing data for:  ABR.PRC\n",
      "ABR.PRC: No data found, symbol may be delisted\n",
      "- ABR.PRC: No summary info found, symbol may be delisted\n",
      "Nonetype found for: ABR.PRC\n",
      "2.093705177307129\n",
      "Producing data for:  ARC\n"
     ]
    },
    {
     "name": "stderr",
     "output_type": "stream",
     "text": [
      "<ipython-input-2-1956285887a8>:67: FutureWarning: The frame.append method is deprecated and will be removed from pandas in a future version. Use pandas.concat instead.\n",
      "  value_invest = value_invest.append(\n"
     ]
    },
    {
     "name": "stdout",
     "output_type": "stream",
     "text": [
      "2.694023370742798\n",
      "Producing data for:  ARCX\n",
      "ARCX: No data found for this date range, symbol may be delisted\n",
      "Couldnt find key for: ARCX\n",
      "2.2698566913604736\n",
      "Producing data for:  MT\n",
      "Couldnt find key for: MT\n",
      "3.049361228942871\n",
      "Producing data for:  ARH.PRC\n",
      "ARH.PRC: No data found, symbol may be delisted\n",
      "- ARH.PRC: No summary info found, symbol may be delisted\n",
      "Nonetype found for: ARH.PRC\n",
      "1.6769280433654785\n",
      "Producing data for:  ARCH\n",
      "Couldnt find key for: ARCH\n",
      "3.0649685859680176\n",
      "Producing data for:  ADM\n"
     ]
    },
    {
     "name": "stderr",
     "output_type": "stream",
     "text": [
      "<ipython-input-2-1956285887a8>:67: FutureWarning: The frame.append method is deprecated and will be removed from pandas in a future version. Use pandas.concat instead.\n",
      "  value_invest = value_invest.append(\n"
     ]
    },
    {
     "name": "stdout",
     "output_type": "stream",
     "text": [
      "3.318154811859131\n",
      "Producing data for:  AROC\n"
     ]
    },
    {
     "name": "stderr",
     "output_type": "stream",
     "text": [
      "<ipython-input-2-1956285887a8>:67: FutureWarning: The frame.append method is deprecated and will be removed from pandas in a future version. Use pandas.concat instead.\n",
      "  value_invest = value_invest.append(\n"
     ]
    },
    {
     "name": "stdout",
     "output_type": "stream",
     "text": [
      "2.099358081817627\n",
      "Producing data for:  ARNC\n",
      "Couldnt find key for: ARNC\n",
      "2.9735522270202637\n",
      "Producing data for:  ARNC.PR\n",
      "ARNC.PR: No data found, symbol may be delisted\n",
      "- ARNC.PR: No summary info found, symbol may be delisted\n",
      "Nonetype found for: ARNC.PR\n",
      "1.7169275283813477\n",
      "Producing data for:  ARNC.PRB\n",
      "ARNC.PRB: No data found, symbol may be delisted\n",
      "- ARNC.PRB: No summary info found, symbol may be delisted\n",
      "Nonetype found for: ARNC.PRB\n",
      "1.6569337844848633\n",
      "Producing data for:  ARCO\n"
     ]
    },
    {
     "name": "stderr",
     "output_type": "stream",
     "text": [
      "<ipython-input-2-1956285887a8>:67: FutureWarning: The frame.append method is deprecated and will be removed from pandas in a future version. Use pandas.concat instead.\n",
      "  value_invest = value_invest.append(\n"
     ]
    },
    {
     "name": "stdout",
     "output_type": "stream",
     "text": [
      "3.128690242767334\n",
      "Producing data for:  ASC\n",
      "Couldnt find key for: ASC\n",
      "3.0286548137664795\n",
      "Producing data for:  ARU\n",
      "ARU: No data found, symbol may be delisted\n",
      "- ARU: No summary info found, symbol may be delisted\n",
      "Nonetype found for: ARU\n",
      "1.421811580657959\n",
      "Producing data for:  ACRE\n"
     ]
    },
    {
     "name": "stderr",
     "output_type": "stream",
     "text": [
      "<ipython-input-2-1956285887a8>:67: FutureWarning: The frame.append method is deprecated and will be removed from pandas in a future version. Use pandas.concat instead.\n",
      "  value_invest = value_invest.append(\n"
     ]
    },
    {
     "name": "stdout",
     "output_type": "stream",
     "text": [
      "2.162065267562866\n",
      "Producing data for:  ARDC\n",
      "Couldnt find key for: ARDC\n",
      "3.5199966430664062\n",
      "Producing data for:  ARES\n"
     ]
    },
    {
     "name": "stderr",
     "output_type": "stream",
     "text": [
      "<ipython-input-2-1956285887a8>:67: FutureWarning: The frame.append method is deprecated and will be removed from pandas in a future version. Use pandas.concat instead.\n",
      "  value_invest = value_invest.append(\n"
     ]
    },
    {
     "name": "stdout",
     "output_type": "stream",
     "text": [
      "2.4886868000030518\n",
      "Producing data for:  ARES.PRA\n",
      "ARES.PRA: No data found, symbol may be delisted"
     ]
    }
   ],
   "source": [
    "#Create first table with all stock info from yfinance\n",
    "\"\"\"\n",
    "Working capital has been removed because API calls are too slow. \n",
    "Also, working capital is somewhat linked to EBITDA\n",
    "\"\"\"\n",
    "\n",
    "tick = pd.read_csv(\"all_stocks\")\n",
    "value_invest_cols = ['Ticker','Price','Trailing PE ratio','Forward PE ratio','Price To Book',\\\n",
    "                                'Price To Sale','EV/EBITDA','EV/GP','Shares to buy']\n",
    "value_invest = pd.DataFrame(columns = value_invest_cols)\n",
    "count = 0 \n",
    "for i in range(len(tick)): \n",
    "    start = time.time()    \n",
    "    print(\"Producing data for: \", tick[\"0\"][i])\n",
    "    try:\n",
    "        ticker = tick[\"0\"][i]\n",
    "        stock_info = yf.Ticker(ticker)\n",
    "        d = yf.Ticker(ticker).history(period = \"1mo\")\n",
    "        # Get the income statement for the stock\n",
    "\n",
    "        info = stock_info.info\n",
    "        fpe = info[\"forwardPE\"]\n",
    "        tpe = info[\"trailingPE\"]\n",
    "        fin = stock_info.info\n",
    "        #liab = stock_info.balance_sheet\n",
    "        price_to_book = fin['priceToBook']\n",
    "        price_to_sale = fin['priceToSalesTrailing12Months']\n",
    "        ev_ebidta = fin['enterpriseToEbitda']\n",
    "        enterprise_value = fin['enterpriseValue']\n",
    "        gp = fin['grossProfits']\n",
    "        ev_gp = enterprise_value/gp\n",
    "        #current_assets = liab[liab.index=='Current Assets'].iloc[0,0]\n",
    "        #current_liab = liab[liab.index=='Current Liabilities'].iloc[0,0]\n",
    "        #working_capital = current_assets/current_liab \n",
    "\n",
    "    except TypeError: \n",
    "        print(\"Nonetype found for: \" + ticker)\n",
    "        stop = time.time()\n",
    "        duration = stop-start\n",
    "        print(duration)\n",
    "        continue\n",
    "    except IndexError: \n",
    "        print(\"Couldn't find: \", ticker)\n",
    "        stop = time.time()\n",
    "        duration = stop-start\n",
    "        print(duration)\n",
    "        continue\n",
    "    except KeyError:\n",
    "        print(\"Couldnt find key for: \" + ticker)\n",
    "        stop = time.time()\n",
    "        duration = stop-start\n",
    "        print(duration)\n",
    "        continue\n",
    "    \n",
    "    d.reset_index(inplace = True)\n",
    "    d['Ticker'] = ticker\n",
    "    d[\"Price\"] = d['Close']\n",
    "    d['Trailing PE ratio'] = tpe\n",
    "    d['Forward PE ratio'] = fpe\n",
    "    d['Price To Book'] = price_to_book\n",
    "    d['Price To Sale'] = price_to_sale\n",
    "    d['EV/EBITDA'] = ev_ebidta\n",
    "    d['EV/GP'] = ev_gp\n",
    "    d = d.iloc[-1]\n",
    "\n",
    "    #Append to df\n",
    "    value_invest = value_invest.append(\n",
    "        pd.Series(d,\n",
    "        index=value_invest_cols), \n",
    "        ignore_index = True\n",
    "    )\n",
    "\n",
    "    stop = time.time()\n",
    "    duration = stop-start\n",
    "    print(duration)\n",
    "#Get percentiles for each stock and a specific category\n",
    "cols = ['Trailing PE ratio', 'Forward PE ratio', 'Price To Book', 'Price To Sale', 'EV/EBITDA', 'EV/GP']\n",
    "for c in cols: \n",
    "    value_invest[c + ' percentile'] = np.NaN\n",
    "    for index, row in value_invest.iterrows(): \n",
    "        percentile_change = stats.percentileofscore(value_invest[c], value_invest[c].loc[index])\n",
    "        value_invest[c + ' percentile'][index] = percentile_change \n",
    "\n",
    "value_invest['RV Score'] = 0\n",
    "\n",
    "for index, row in value_invest.iterrows(): \n",
    "    value_invest['RV Score'][index] = (value_invest['Trailing PE ratio percentile'][index]\\\n",
    "        +value_invest['Forward PE ratio percentile'][index]\\\n",
    "        +value_invest['Price To Book percentile'][index]\\\n",
    "        +value_invest['Price To Sale percentile'][index]\\\n",
    "        +value_invest['EV/EBITDA percentile'][index]\\\n",
    "        +value_invest['EV/GP percentile'][index])/6\n",
    "\n",
    "#PUSH TO DATABASE\n",
    "value_invest.to_sql('value_invest', conn, if_exists='append', index=False)\n",
    "# Close the connection\n",
    "conn.close()"
   ]
  },
  {
   "cell_type": "code",
   "execution_count": null,
   "metadata": {},
   "outputs": [],
   "source": [
    "value_invest.columns"
   ]
  },
  {
   "cell_type": "code",
   "execution_count": null,
   "metadata": {},
   "outputs": [],
   "source": []
  }
 ],
 "metadata": {
  "interpreter": {
   "hash": "f36662cf0d2dc2d22e7ce50b6b2dd5771b8ab03597c45c6e0e62ff4a448306d1"
  },
  "kernelspec": {
   "display_name": "Python 3.8.5 64-bit",
   "language": "python",
   "name": "python3"
  },
  "language_info": {
   "codemirror_mode": {
    "name": "ipython",
    "version": 3
   },
   "file_extension": ".py",
   "mimetype": "text/x-python",
   "name": "python",
   "nbconvert_exporter": "python",
   "pygments_lexer": "ipython3",
   "version": "3.8.5"
  },
  "orig_nbformat": 4
 },
 "nbformat": 4,
 "nbformat_minor": 2
}
