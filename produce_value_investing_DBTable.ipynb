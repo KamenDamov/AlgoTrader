{
 "cells": [
  {
   "cell_type": "code",
   "execution_count": 2,
   "metadata": {},
   "outputs": [],
   "source": [
    "import numpy as np\n",
    "import pandas as pd\n",
    "import math\n",
    "import requests \n",
    "import matplotlib as plt\n",
    "import seaborn as sns\n",
    "import yfinance as yf\n",
    "import pandas_datareader as web\n",
    "from pandas_datareader import data\n",
    "from bs4 import BeautifulSoup as bs\n",
    "from scipy import stats\n",
    "import sqlite3\n",
    "import time\n",
    "\n",
    "#Create db\n",
    "conn = sqlite3.connect('financial_data.db')\n",
    "\n",
    "# Create a cursor\n",
    "cursor = conn.cursor()\n",
    "\n",
    "value_invest_query = '''\n",
    "CREATE TABLE value_invest (\n",
    "        Ticker TEXT NON NULL,\n",
    "        Price REAL, \n",
    "        Trailing_PE_ratio REAL, \n",
    "        Forward_PE_ratio REAL, \n",
    "        Price_To_Book REAL,\n",
    "        Price_To_Sale REAL, \n",
    "        EV_EBITDA REAL, \n",
    "        EV_GP REAL, \n",
    "        Shares_to_buy REAL, \n",
    "        Trailing_PE_ratio_percentile REAL, \n",
    "        Forward_PE_ratio_percentile REAL,\n",
    "        Price_To_Book_percentile REAL, \n",
    "        Price_To_Sale_percentile REAL, \n",
    "        EV_EBITDA_percentile REAL, \n",
    "        EV_GP_percentile REAL, \n",
    "        RV_Score REAL\n",
    ");\n",
    "'''\n",
    "\n",
    "cursor.execute(value_invest_query)\n",
    "\n",
    "conn.commit()\n"
   ]
  },
  {
   "cell_type": "code",
   "execution_count": 3,
   "metadata": {},
   "outputs": [
    {
     "name": "stdout",
     "output_type": "stream",
     "text": [
      "Producing data for:  AOS\n"
     ]
    },
    {
     "name": "stderr",
     "output_type": "stream",
     "text": [
      "<ipython-input-3-1956285887a8>:67: FutureWarning: The frame.append method is deprecated and will be removed from pandas in a future version. Use pandas.concat instead.\n",
      "  value_invest = value_invest.append(\n"
     ]
    },
    {
     "name": "stdout",
     "output_type": "stream",
     "text": [
      "3.785463809967041\n",
      "Producing data for:  ATEN\n"
     ]
    },
    {
     "name": "stderr",
     "output_type": "stream",
     "text": [
      "<ipython-input-3-1956285887a8>:67: FutureWarning: The frame.append method is deprecated and will be removed from pandas in a future version. Use pandas.concat instead.\n",
      "  value_invest = value_invest.append(\n"
     ]
    },
    {
     "name": "stdout",
     "output_type": "stream",
     "text": [
      "2.0128352642059326\n",
      "Producing data for:  AAC\n",
      "Nonetype found for: AAC\n",
      "2.019439458847046\n",
      "Producing data for:  AIR\n"
     ]
    },
    {
     "name": "stderr",
     "output_type": "stream",
     "text": [
      "<ipython-input-3-1956285887a8>:67: FutureWarning: The frame.append method is deprecated and will be removed from pandas in a future version. Use pandas.concat instead.\n",
      "  value_invest = value_invest.append(\n"
     ]
    },
    {
     "name": "stdout",
     "output_type": "stream",
     "text": [
      "1.683168649673462\n",
      "Producing data for:  AAN\n"
     ]
    },
    {
     "name": "stderr",
     "output_type": "stream",
     "text": [
      "<ipython-input-3-1956285887a8>:67: FutureWarning: The frame.append method is deprecated and will be removed from pandas in a future version. Use pandas.concat instead.\n",
      "  value_invest = value_invest.append(\n"
     ]
    },
    {
     "name": "stdout",
     "output_type": "stream",
     "text": [
      "1.676856517791748\n",
      "Producing data for:  ABB\n"
     ]
    },
    {
     "name": "stderr",
     "output_type": "stream",
     "text": [
      "<ipython-input-3-1956285887a8>:67: FutureWarning: The frame.append method is deprecated and will be removed from pandas in a future version. Use pandas.concat instead.\n",
      "  value_invest = value_invest.append(\n"
     ]
    },
    {
     "name": "stdout",
     "output_type": "stream",
     "text": [
      "2.006467342376709\n",
      "Producing data for:  ABT\n"
     ]
    },
    {
     "name": "stderr",
     "output_type": "stream",
     "text": [
      "<ipython-input-3-1956285887a8>:67: FutureWarning: The frame.append method is deprecated and will be removed from pandas in a future version. Use pandas.concat instead.\n",
      "  value_invest = value_invest.append(\n"
     ]
    },
    {
     "name": "stdout",
     "output_type": "stream",
     "text": [
      "1.7411746978759766\n",
      "Producing data for:  ABBV\n"
     ]
    },
    {
     "name": "stderr",
     "output_type": "stream",
     "text": [
      "<ipython-input-3-1956285887a8>:67: FutureWarning: The frame.append method is deprecated and will be removed from pandas in a future version. Use pandas.concat instead.\n",
      "  value_invest = value_invest.append(\n"
     ]
    },
    {
     "name": "stdout",
     "output_type": "stream",
     "text": [
      "1.855855941772461\n",
      "Producing data for:  ANF\n"
     ]
    },
    {
     "name": "stderr",
     "output_type": "stream",
     "text": [
      "<ipython-input-3-1956285887a8>:67: FutureWarning: The frame.append method is deprecated and will be removed from pandas in a future version. Use pandas.concat instead.\n",
      "  value_invest = value_invest.append(\n"
     ]
    },
    {
     "name": "stdout",
     "output_type": "stream",
     "text": [
      "1.5897138118743896\n",
      "Producing data for:  GCH\n",
      "GCH: No data found for this date range, symbol may be delisted\n",
      "Couldnt find key for: GCH\n",
      "2.160090446472168\n",
      "Producing data for:  JEQ\n"
     ]
    },
    {
     "name": "stderr",
     "output_type": "stream",
     "text": [
      "<ipython-input-3-1956285887a8>:67: FutureWarning: The frame.append method is deprecated and will be removed from pandas in a future version. Use pandas.concat instead.\n",
      "  value_invest = value_invest.append(\n"
     ]
    },
    {
     "name": "stdout",
     "output_type": "stream",
     "text": [
      "1.7373287677764893\n",
      "Producing data for:  SGF\n",
      "SGF: No data found for this date range, symbol may be delisted\n",
      "Couldnt find key for: SGF\n",
      "1.48526930809021\n",
      "Producing data for:  ABM\n"
     ]
    },
    {
     "name": "stderr",
     "output_type": "stream",
     "text": [
      "<ipython-input-3-1956285887a8>:67: FutureWarning: The frame.append method is deprecated and will be removed from pandas in a future version. Use pandas.concat instead.\n",
      "  value_invest = value_invest.append(\n"
     ]
    },
    {
     "name": "stdout",
     "output_type": "stream",
     "text": [
      "1.8766613006591797\n",
      "Producing data for:  AKR\n"
     ]
    },
    {
     "name": "stderr",
     "output_type": "stream",
     "text": [
      "<ipython-input-3-1956285887a8>:67: FutureWarning: The frame.append method is deprecated and will be removed from pandas in a future version. Use pandas.concat instead.\n",
      "  value_invest = value_invest.append(\n"
     ]
    },
    {
     "name": "stdout",
     "output_type": "stream",
     "text": [
      "2.028977394104004\n",
      "Producing data for:  ACN\n"
     ]
    },
    {
     "name": "stderr",
     "output_type": "stream",
     "text": [
      "<ipython-input-3-1956285887a8>:67: FutureWarning: The frame.append method is deprecated and will be removed from pandas in a future version. Use pandas.concat instead.\n",
      "  value_invest = value_invest.append(\n"
     ]
    },
    {
     "name": "stdout",
     "output_type": "stream",
     "text": [
      "1.9631280899047852\n",
      "Producing data for:  ACCO\n"
     ]
    },
    {
     "name": "stderr",
     "output_type": "stream",
     "text": [
      "<ipython-input-3-1956285887a8>:67: FutureWarning: The frame.append method is deprecated and will be removed from pandas in a future version. Use pandas.concat instead.\n",
      "  value_invest = value_invest.append(\n"
     ]
    },
    {
     "name": "stdout",
     "output_type": "stream",
     "text": [
      "1.4763128757476807\n",
      "Producing data for:  ATV\n",
      "ATV: No data found, symbol may be delisted\n",
      "- ATV: No summary info found, symbol may be delisted\n",
      "Nonetype found for: ATV\n",
      "1.273310899734497\n",
      "Producing data for:  ATU\n",
      "ATU: No data found, symbol may be delisted\n",
      "- ATU: No summary info found, symbol may be delisted\n",
      "Nonetype found for: ATU\n",
      "1.660243272781372\n",
      "Producing data for:  GOLF\n"
     ]
    },
    {
     "name": "stderr",
     "output_type": "stream",
     "text": [
      "<ipython-input-3-1956285887a8>:67: FutureWarning: The frame.append method is deprecated and will be removed from pandas in a future version. Use pandas.concat instead.\n",
      "  value_invest = value_invest.append(\n"
     ]
    },
    {
     "name": "stdout",
     "output_type": "stream",
     "text": [
      "2.018406391143799\n",
      "Producing data for:  AYI\n"
     ]
    },
    {
     "name": "stderr",
     "output_type": "stream",
     "text": [
      "<ipython-input-3-1956285887a8>:67: FutureWarning: The frame.append method is deprecated and will be removed from pandas in a future version. Use pandas.concat instead.\n",
      "  value_invest = value_invest.append(\n"
     ]
    },
    {
     "name": "stdout",
     "output_type": "stream",
     "text": [
      "1.4704627990722656\n",
      "Producing data for:  ADX\n"
     ]
    },
    {
     "name": "stderr",
     "output_type": "stream",
     "text": [
      "<ipython-input-3-1956285887a8>:67: FutureWarning: The frame.append method is deprecated and will be removed from pandas in a future version. Use pandas.concat instead.\n",
      "  value_invest = value_invest.append(\n"
     ]
    },
    {
     "name": "stdout",
     "output_type": "stream",
     "text": [
      "1.6363277435302734\n",
      "Producing data for:  AGRO\n"
     ]
    },
    {
     "name": "stderr",
     "output_type": "stream",
     "text": [
      "<ipython-input-3-1956285887a8>:67: FutureWarning: The frame.append method is deprecated and will be removed from pandas in a future version. Use pandas.concat instead.\n",
      "  value_invest = value_invest.append(\n"
     ]
    },
    {
     "name": "stdout",
     "output_type": "stream",
     "text": [
      "1.674243688583374\n",
      "Producing data for:  ADPT\n",
      "Couldnt find key for: ADPT\n",
      "1.6737120151519775\n",
      "Producing data for:  ADNT\n"
     ]
    },
    {
     "name": "stderr",
     "output_type": "stream",
     "text": [
      "<ipython-input-3-1956285887a8>:67: FutureWarning: The frame.append method is deprecated and will be removed from pandas in a future version. Use pandas.concat instead.\n",
      "  value_invest = value_invest.append(\n"
     ]
    },
    {
     "name": "stdout",
     "output_type": "stream",
     "text": [
      "1.5994951725006104\n",
      "Producing data for:  AAP\n"
     ]
    },
    {
     "name": "stderr",
     "output_type": "stream",
     "text": [
      "<ipython-input-3-1956285887a8>:67: FutureWarning: The frame.append method is deprecated and will be removed from pandas in a future version. Use pandas.concat instead.\n",
      "  value_invest = value_invest.append(\n"
     ]
    },
    {
     "name": "stdout",
     "output_type": "stream",
     "text": [
      "1.5645420551300049\n",
      "Producing data for:  ADSW\n",
      "ADSW: No data found, symbol may be delisted\n",
      "- ADSW: No summary info found, symbol may be delisted\n",
      "Nonetype found for: ADSW\n",
      "1.3590731620788574\n",
      "Producing data for:  WMS\n"
     ]
    },
    {
     "name": "stderr",
     "output_type": "stream",
     "text": [
      "<ipython-input-3-1956285887a8>:67: FutureWarning: The frame.append method is deprecated and will be removed from pandas in a future version. Use pandas.concat instead.\n",
      "  value_invest = value_invest.append(\n"
     ]
    },
    {
     "name": "stdout",
     "output_type": "stream",
     "text": [
      "1.598236083984375\n",
      "Producing data for:  ASX\n"
     ]
    },
    {
     "name": "stderr",
     "output_type": "stream",
     "text": [
      "<ipython-input-3-1956285887a8>:67: FutureWarning: The frame.append method is deprecated and will be removed from pandas in a future version. Use pandas.concat instead.\n",
      "  value_invest = value_invest.append(\n"
     ]
    },
    {
     "name": "stdout",
     "output_type": "stream",
     "text": [
      "1.5220246315002441\n",
      "Producing data for:  APFH\n",
      "APFH: No data found for this date range, symbol may be delisted\n",
      "Couldnt find key for: APFH\n",
      "1.3143036365509033\n",
      "Producing data for:  ASIX\n"
     ]
    },
    {
     "name": "stderr",
     "output_type": "stream",
     "text": [
      "<ipython-input-3-1956285887a8>:67: FutureWarning: The frame.append method is deprecated and will be removed from pandas in a future version. Use pandas.concat instead.\n",
      "  value_invest = value_invest.append(\n"
     ]
    },
    {
     "name": "stdout",
     "output_type": "stream",
     "text": [
      "1.8095109462738037\n",
      "Producing data for:  AAV\n",
      "AAV: No data found for this date range, symbol may be delisted\n",
      "Couldnt find key for: AAV\n",
      "1.7597129344940186\n",
      "Producing data for:  AVK\n"
     ]
    },
    {
     "name": "stderr",
     "output_type": "stream",
     "text": [
      "<ipython-input-3-1956285887a8>:67: FutureWarning: The frame.append method is deprecated and will be removed from pandas in a future version. Use pandas.concat instead.\n",
      "  value_invest = value_invest.append(\n"
     ]
    },
    {
     "name": "stdout",
     "output_type": "stream",
     "text": [
      "1.7602894306182861\n",
      "Producing data for:  AGC\n",
      "AGC: No data found, symbol may be delisted\n",
      "- AGC: No summary info found, symbol may be delisted\n",
      "Nonetype found for: AGC\n",
      "1.7393267154693604\n",
      "Producing data for:  LCM\n",
      "LCM: No data found for this date range, symbol may be delisted\n",
      "- LCM: No summary info found, symbol may be delisted\n",
      "Nonetype found for: LCM\n",
      "7.742331027984619\n",
      "Producing data for:  ACM\n"
     ]
    },
    {
     "name": "stderr",
     "output_type": "stream",
     "text": [
      "<ipython-input-3-1956285887a8>:67: FutureWarning: The frame.append method is deprecated and will be removed from pandas in a future version. Use pandas.concat instead.\n",
      "  value_invest = value_invest.append(\n"
     ]
    },
    {
     "name": "stdout",
     "output_type": "stream",
     "text": [
      "1.9246370792388916\n",
      "Producing data for:  ANW\n",
      "ANW: No data found for this date range, symbol may be delisted\n",
      "- ANW: No summary info found, symbol may be delisted\n",
      "Nonetype found for: ANW\n",
      "7.843813180923462\n",
      "Producing data for:  AEG\n"
     ]
    },
    {
     "name": "stderr",
     "output_type": "stream",
     "text": [
      "<ipython-input-3-1956285887a8>:67: FutureWarning: The frame.append method is deprecated and will be removed from pandas in a future version. Use pandas.concat instead.\n",
      "  value_invest = value_invest.append(\n"
     ]
    },
    {
     "name": "stdout",
     "output_type": "stream",
     "text": [
      "1.9026048183441162\n",
      "Producing data for:  AEB\n",
      "AEB: No data found for this date range, symbol may be delisted\n",
      "Couldnt find key for: AEB\n",
      "2.2102749347686768\n",
      "Producing data for:  AED\n",
      "AED: No data found for this date range, symbol may be delisted\n",
      "Couldnt find key for: AED\n",
      "1.7350468635559082\n",
      "Producing data for:  AEH\n",
      "AEH: No data found for this date range, symbol may be delisted\n",
      "Couldnt find key for: AEH\n",
      "1.5107271671295166\n",
      "Producing data for:  AEK\n",
      "AEK: No data found, symbol may be delisted\n",
      "Nonetype found for: AEK\n",
      "1.3004465103149414\n",
      "Producing data for:  AER\n",
      "Couldnt find key for: AER\n",
      "1.523512363433838\n",
      "Producing data for:  HIVE\n"
     ]
    },
    {
     "name": "stderr",
     "output_type": "stream",
     "text": [
      "<ipython-input-3-1956285887a8>:67: FutureWarning: The frame.append method is deprecated and will be removed from pandas in a future version. Use pandas.concat instead.\n",
      "  value_invest = value_invest.append(\n"
     ]
    },
    {
     "name": "stdout",
     "output_type": "stream",
     "text": [
      "2.136239767074585\n",
      "Producing data for:  AJRD\n",
      "1.5387685298919678\n",
      "Producing data for:  AES\n"
     ]
    },
    {
     "name": "stderr",
     "output_type": "stream",
     "text": [
      "<ipython-input-3-1956285887a8>:67: FutureWarning: The frame.append method is deprecated and will be removed from pandas in a future version. Use pandas.concat instead.\n",
      "  value_invest = value_invest.append(\n"
     ]
    },
    {
     "name": "stdout",
     "output_type": "stream",
     "text": [
      "Couldnt find key for: AES\n",
      "1.774430751800537\n",
      "Producing data for:  AES.PRC\n",
      "AES.PRC: No data found, symbol may be delisted\n",
      "- AES.PRC: No summary info found, symbol may be delisted\n",
      "Nonetype found for: AES.PRC\n",
      "1.3083395957946777\n",
      "Producing data for:  AET\n",
      "AET: No data found for this date range, symbol may be delisted\n",
      "- AET: No summary info found, symbol may be delisted\n",
      "Nonetype found for: AET\n",
      "7.688262701034546\n",
      "Producing data for:  AMG\n"
     ]
    },
    {
     "name": "stderr",
     "output_type": "stream",
     "text": [
      "<ipython-input-3-1956285887a8>:67: FutureWarning: The frame.append method is deprecated and will be removed from pandas in a future version. Use pandas.concat instead.\n",
      "  value_invest = value_invest.append(\n"
     ]
    },
    {
     "name": "stdout",
     "output_type": "stream",
     "text": [
      "2.024996042251587\n",
      "Producing data for:  MGR\n",
      "Couldnt find key for: MGR\n",
      "1.5297813415527344\n",
      "Producing data for:  AFL\n"
     ]
    },
    {
     "name": "stderr",
     "output_type": "stream",
     "text": [
      "<ipython-input-3-1956285887a8>:67: FutureWarning: The frame.append method is deprecated and will be removed from pandas in a future version. Use pandas.concat instead.\n",
      "  value_invest = value_invest.append(\n"
     ]
    },
    {
     "name": "stdout",
     "output_type": "stream",
     "text": [
      "2.1319727897644043\n",
      "Producing data for:  AFSD\n",
      "AFSD: No data found, symbol may be delisted\n",
      "Couldnt find key for: AFSD\n",
      "1.912038803100586\n",
      "Producing data for:  MITT\n"
     ]
    },
    {
     "name": "stderr",
     "output_type": "stream",
     "text": [
      "<ipython-input-3-1956285887a8>:67: FutureWarning: The frame.append method is deprecated and will be removed from pandas in a future version. Use pandas.concat instead.\n",
      "  value_invest = value_invest.append(\n"
     ]
    },
    {
     "name": "stdout",
     "output_type": "stream",
     "text": [
      "1.504150152206421\n",
      "Producing data for:  MITT.PRA\n",
      "MITT.PRA: No data found, symbol may be delisted\n",
      "- MITT.PRA: No summary info found, symbol may be delisted\n",
      "Nonetype found for: MITT.PRA\n",
      "1.4946599006652832\n",
      "Producing data for:  MITT.PRB\n",
      "MITT.PRB: No data found, symbol may be delisted\n",
      "- MITT.PRB: No summary info found, symbol may be delisted\n",
      "Nonetype found for: MITT.PRB\n",
      "1.4740560054779053\n",
      "Producing data for:  AGCO\n"
     ]
    },
    {
     "name": "stderr",
     "output_type": "stream",
     "text": [
      "<ipython-input-3-1956285887a8>:67: FutureWarning: The frame.append method is deprecated and will be removed from pandas in a future version. Use pandas.concat instead.\n",
      "  value_invest = value_invest.append(\n"
     ]
    },
    {
     "name": "stdout",
     "output_type": "stream",
     "text": [
      "2.1935064792633057\n",
      "Producing data for:  A\n"
     ]
    },
    {
     "name": "stderr",
     "output_type": "stream",
     "text": [
      "<ipython-input-3-1956285887a8>:67: FutureWarning: The frame.append method is deprecated and will be removed from pandas in a future version. Use pandas.concat instead.\n",
      "  value_invest = value_invest.append(\n"
     ]
    },
    {
     "name": "stdout",
     "output_type": "stream",
     "text": [
      "1.9530375003814697\n",
      "Producing data for:  AEM\n"
     ]
    },
    {
     "name": "stderr",
     "output_type": "stream",
     "text": [
      "<ipython-input-3-1956285887a8>:67: FutureWarning: The frame.append method is deprecated and will be removed from pandas in a future version. Use pandas.concat instead.\n",
      "  value_invest = value_invest.append(\n"
     ]
    },
    {
     "name": "stdout",
     "output_type": "stream",
     "text": [
      "1.8421156406402588\n",
      "Producing data for:  ADC\n"
     ]
    },
    {
     "name": "stderr",
     "output_type": "stream",
     "text": [
      "<ipython-input-3-1956285887a8>:67: FutureWarning: The frame.append method is deprecated and will be removed from pandas in a future version. Use pandas.concat instead.\n",
      "  value_invest = value_invest.append(\n"
     ]
    },
    {
     "name": "stdout",
     "output_type": "stream",
     "text": [
      "1.6790130138397217\n",
      "Producing data for:  AGU\n",
      "AGU: No data found for this date range, symbol may be delisted\n",
      "- AGU: No summary info found, symbol may be delisted\n",
      "Nonetype found for: AGU\n",
      "7.56045389175415\n",
      "Producing data for:  AHC\n",
      "AHC: No data found, symbol may be delisted\n",
      "- AHC: No summary info found, symbol may be delisted\n",
      "Nonetype found for: AHC\n",
      "2.201263666152954\n",
      "Producing data for:  AL\n",
      "Couldnt find key for: AL\n",
      "1.6344382762908936\n",
      "Producing data for:  APD\n"
     ]
    },
    {
     "name": "stderr",
     "output_type": "stream",
     "text": [
      "<ipython-input-3-1956285887a8>:67: FutureWarning: The frame.append method is deprecated and will be removed from pandas in a future version. Use pandas.concat instead.\n",
      "  value_invest = value_invest.append(\n"
     ]
    },
    {
     "name": "stdout",
     "output_type": "stream",
     "text": [
      "1.9993698596954346\n",
      "Producing data for:  AYR\n",
      "AYR: No data found, symbol may be delisted\n",
      "- AYR: No summary info found, symbol may be delisted\n",
      "Nonetype found for: AYR\n",
      "1.5678958892822266\n",
      "Producing data for:  AKS\n",
      "AKS: No data found, symbol may be delisted\n",
      "- AKS: No summary info found, symbol may be delisted\n",
      "Nonetype found for: AKS\n",
      "1.532029628753662\n",
      "Producing data for:  ALP.PRO\n",
      "ALP.PRO: No data found, symbol may be delisted\n",
      "Nonetype found for: ALP.PRO\n",
      "1.2444345951080322\n",
      "Producing data for:  ALG\n"
     ]
    },
    {
     "name": "stderr",
     "output_type": "stream",
     "text": [
      "<ipython-input-3-1956285887a8>:67: FutureWarning: The frame.append method is deprecated and will be removed from pandas in a future version. Use pandas.concat instead.\n",
      "  value_invest = value_invest.append(\n"
     ]
    },
    {
     "name": "stdout",
     "output_type": "stream",
     "text": [
      "1.7573294639587402\n",
      "Producing data for:  AGI\n"
     ]
    },
    {
     "name": "stderr",
     "output_type": "stream",
     "text": [
      "<ipython-input-3-1956285887a8>:67: FutureWarning: The frame.append method is deprecated and will be removed from pandas in a future version. Use pandas.concat instead.\n",
      "  value_invest = value_invest.append(\n"
     ]
    },
    {
     "name": "stdout",
     "output_type": "stream",
     "text": [
      "1.476944923400879\n",
      "Producing data for:  ALK\n"
     ]
    },
    {
     "name": "stderr",
     "output_type": "stream",
     "text": [
      "<ipython-input-3-1956285887a8>:67: FutureWarning: The frame.append method is deprecated and will be removed from pandas in a future version. Use pandas.concat instead.\n",
      "  value_invest = value_invest.append(\n"
     ]
    },
    {
     "name": "stdout",
     "output_type": "stream",
     "text": [
      "1.687013864517212\n",
      "Producing data for:  AIN\n",
      "Nonetype found for: AIN\n",
      "1.6658754348754883\n",
      "Producing data for:  ALB\n"
     ]
    },
    {
     "name": "stderr",
     "output_type": "stream",
     "text": [
      "<ipython-input-3-1956285887a8>:67: FutureWarning: The frame.append method is deprecated and will be removed from pandas in a future version. Use pandas.concat instead.\n",
      "  value_invest = value_invest.append(\n"
     ]
    },
    {
     "name": "stdout",
     "output_type": "stream",
     "text": [
      "2.0610480308532715\n",
      "Producing data for:  AA\n"
     ]
    },
    {
     "name": "stderr",
     "output_type": "stream",
     "text": [
      "<ipython-input-3-1956285887a8>:67: FutureWarning: The frame.append method is deprecated and will be removed from pandas in a future version. Use pandas.concat instead.\n",
      "  value_invest = value_invest.append(\n"
     ]
    },
    {
     "name": "stdout",
     "output_type": "stream",
     "text": [
      "1.9612970352172852\n",
      "Producing data for:  ALR\n",
      "Couldnt find key for: ALR\n",
      "1.455475091934204\n",
      "Producing data for:  ALR.PRB\n",
      "ALR.PRB: No data found, symbol may be delisted\n",
      "- ALR.PRB: No summary info found, symbol may be delisted\n",
      "Nonetype found for: ALR.PRB\n",
      "1.4404666423797607\n",
      "Producing data for:  ALEX\n"
     ]
    },
    {
     "name": "stderr",
     "output_type": "stream",
     "text": [
      "<ipython-input-3-1956285887a8>:67: FutureWarning: The frame.append method is deprecated and will be removed from pandas in a future version. Use pandas.concat instead.\n",
      "  value_invest = value_invest.append(\n"
     ]
    },
    {
     "name": "stdout",
     "output_type": "stream",
     "text": [
      "1.6803336143493652\n",
      "Producing data for:  ALX\n"
     ]
    },
    {
     "name": "stderr",
     "output_type": "stream",
     "text": [
      "<ipython-input-3-1956285887a8>:67: FutureWarning: The frame.append method is deprecated and will be removed from pandas in a future version. Use pandas.concat instead.\n",
      "  value_invest = value_invest.append(\n"
     ]
    },
    {
     "name": "stdout",
     "output_type": "stream",
     "text": [
      "1.790297508239746\n",
      "Producing data for:  ARE\n"
     ]
    },
    {
     "name": "stderr",
     "output_type": "stream",
     "text": [
      "<ipython-input-3-1956285887a8>:67: FutureWarning: The frame.append method is deprecated and will be removed from pandas in a future version. Use pandas.concat instead.\n",
      "  value_invest = value_invest.append(\n"
     ]
    },
    {
     "name": "stdout",
     "output_type": "stream",
     "text": [
      "2.0531888008117676\n",
      "Producing data for:  ARE.PRD\n",
      "ARE.PRD: No data found, symbol may be delisted\n",
      "- ARE.PRD: No summary info found, symbol may be delisted\n",
      "Nonetype found for: ARE.PRD\n",
      "1.132702350616455\n",
      "Producing data for:  ARE.PRE\n",
      "ARE.PRE: No data found, symbol may be delisted\n",
      "- ARE.PRE: No summary info found, symbol may be delisted\n",
      "Nonetype found for: ARE.PRE\n",
      "1.2800800800323486\n",
      "Producing data for:  AQN\n",
      "Nonetype found for: AQN\n",
      "1.876359224319458\n",
      "Producing data for:  BABA\n"
     ]
    },
    {
     "name": "stderr",
     "output_type": "stream",
     "text": [
      "<ipython-input-3-1956285887a8>:67: FutureWarning: The frame.append method is deprecated and will be removed from pandas in a future version. Use pandas.concat instead.\n",
      "  value_invest = value_invest.append(\n"
     ]
    },
    {
     "name": "stdout",
     "output_type": "stream",
     "text": [
      "1.7093019485473633\n",
      "Producing data for:  Y\n",
      "Y: No data found, symbol may be delisted\n",
      "- Y: No summary info found, symbol may be delisted\n",
      "Nonetype found for: Y\n",
      "1.8467140197753906\n",
      "Producing data for:  ATI\n"
     ]
    },
    {
     "name": "stderr",
     "output_type": "stream",
     "text": [
      "<ipython-input-3-1956285887a8>:67: FutureWarning: The frame.append method is deprecated and will be removed from pandas in a future version. Use pandas.concat instead.\n",
      "  value_invest = value_invest.append(\n"
     ]
    },
    {
     "name": "stdout",
     "output_type": "stream",
     "text": [
      "1.6384637355804443\n",
      "Producing data for:  ALLE\n"
     ]
    },
    {
     "name": "stderr",
     "output_type": "stream",
     "text": [
      "<ipython-input-3-1956285887a8>:67: FutureWarning: The frame.append method is deprecated and will be removed from pandas in a future version. Use pandas.concat instead.\n",
      "  value_invest = value_invest.append(\n"
     ]
    },
    {
     "name": "stdout",
     "output_type": "stream",
     "text": [
      "1.8590104579925537\n",
      "Producing data for:  AGN\n",
      "AGN: No data found, symbol may be delisted\n",
      "- AGN: No summary info found, symbol may be delisted\n",
      "Nonetype found for: AGN\n",
      "1.7067291736602783\n",
      "Producing data for:  AGN.PRA\n",
      "AGN.PRA: No data found, symbol may be delisted\n",
      "- AGN.PRA: No summary info found, symbol may be delisted\n",
      "Nonetype found for: AGN.PRA\n",
      "1.4645283222198486\n",
      "Producing data for:  ALE\n"
     ]
    },
    {
     "name": "stderr",
     "output_type": "stream",
     "text": [
      "<ipython-input-3-1956285887a8>:67: FutureWarning: The frame.append method is deprecated and will be removed from pandas in a future version. Use pandas.concat instead.\n",
      "  value_invest = value_invest.append(\n"
     ]
    },
    {
     "name": "stdout",
     "output_type": "stream",
     "text": [
      "1.674943208694458\n",
      "Producing data for:  AKP\n",
      "AKP: No data found, symbol may be delisted\n",
      "Nonetype found for: AKP\n",
      "1.5354714393615723\n",
      "Producing data for:  ADS\n",
      "ADS: No data found, symbol may be delisted\n",
      "- ADS: No summary info found, symbol may be delisted\n",
      "Nonetype found for: ADS\n",
      "1.2508225440979004\n",
      "Producing data for:  AOI\n",
      "AOI: No data found for this date range, symbol may be delisted\n",
      "Couldnt find key for: AOI\n",
      "1.639662742614746\n",
      "Producing data for:  AWF\n"
     ]
    },
    {
     "name": "stderr",
     "output_type": "stream",
     "text": [
      "<ipython-input-3-1956285887a8>:67: FutureWarning: The frame.append method is deprecated and will be removed from pandas in a future version. Use pandas.concat instead.\n",
      "  value_invest = value_invest.append(\n"
     ]
    },
    {
     "name": "stdout",
     "output_type": "stream",
     "text": [
      "1.8638629913330078\n",
      "Producing data for:  AB\n"
     ]
    },
    {
     "name": "stderr",
     "output_type": "stream",
     "text": [
      "<ipython-input-3-1956285887a8>:67: FutureWarning: The frame.append method is deprecated and will be removed from pandas in a future version. Use pandas.concat instead.\n",
      "  value_invest = value_invest.append(\n"
     ]
    },
    {
     "name": "stdout",
     "output_type": "stream",
     "text": [
      "1.6469700336456299\n",
      "Producing data for:  AFB\n"
     ]
    },
    {
     "name": "stderr",
     "output_type": "stream",
     "text": [
      "<ipython-input-3-1956285887a8>:67: FutureWarning: The frame.append method is deprecated and will be removed from pandas in a future version. Use pandas.concat instead.\n",
      "  value_invest = value_invest.append(\n"
     ]
    },
    {
     "name": "stdout",
     "output_type": "stream",
     "text": [
      "1.470916509628296\n",
      "Producing data for:  LNT\n",
      "1.7835259437561035\n",
      "Producing data for:  NCV\n"
     ]
    },
    {
     "name": "stderr",
     "output_type": "stream",
     "text": [
      "<ipython-input-3-1956285887a8>:67: FutureWarning: The frame.append method is deprecated and will be removed from pandas in a future version. Use pandas.concat instead.\n",
      "  value_invest = value_invest.append(\n",
      "<ipython-input-3-1956285887a8>:67: FutureWarning: The frame.append method is deprecated and will be removed from pandas in a future version. Use pandas.concat instead.\n",
      "  value_invest = value_invest.append(\n"
     ]
    },
    {
     "name": "stdout",
     "output_type": "stream",
     "text": [
      "1.8478307723999023\n",
      "Producing data for:  NCZ\n"
     ]
    },
    {
     "name": "stderr",
     "output_type": "stream",
     "text": [
      "<ipython-input-3-1956285887a8>:67: FutureWarning: The frame.append method is deprecated and will be removed from pandas in a future version. Use pandas.concat instead.\n",
      "  value_invest = value_invest.append(\n"
     ]
    },
    {
     "name": "stdout",
     "output_type": "stream",
     "text": [
      "1.8552954196929932\n",
      "Producing data for:  NIE\n",
      "Nonetype found for: NIE\n",
      "1.7985374927520752\n",
      "Producing data for:  NFJ\n"
     ]
    },
    {
     "name": "stderr",
     "output_type": "stream",
     "text": [
      "<ipython-input-3-1956285887a8>:67: FutureWarning: The frame.append method is deprecated and will be removed from pandas in a future version. Use pandas.concat instead.\n",
      "  value_invest = value_invest.append(\n"
     ]
    },
    {
     "name": "stdout",
     "output_type": "stream",
     "text": [
      "1.5169548988342285\n",
      "Producing data for:  AFC\n",
      "AFC: No data found, symbol may be delisted\n",
      "- AFC: No summary info found, symbol may be delisted\n",
      "Nonetype found for: AFC\n",
      "1.5944743156433105\n",
      "Producing data for:  AWH\n",
      "Couldnt find key for: AWH\n",
      "1.807361125946045\n",
      "Producing data for:  ALSN\n"
     ]
    },
    {
     "name": "stderr",
     "output_type": "stream",
     "text": [
      "<ipython-input-3-1956285887a8>:67: FutureWarning: The frame.append method is deprecated and will be removed from pandas in a future version. Use pandas.concat instead.\n",
      "  value_invest = value_invest.append(\n"
     ]
    },
    {
     "name": "stdout",
     "output_type": "stream",
     "text": [
      "1.5390934944152832\n",
      "Producing data for:  ALL\n",
      "Nonetype found for: ALL\n",
      "1.658698320388794\n",
      "Producing data for:  ALL.PRA\n",
      "ALL.PRA: No data found, symbol may be delisted\n",
      "- ALL.PRA: No summary info found, symbol may be delisted\n",
      "Nonetype found for: ALL.PRA\n",
      "1.4030086994171143\n",
      "Producing data for:  ALL.PRB\n",
      "ALL.PRB: No data found, symbol may be delisted\n",
      "- ALL.PRB: No summary info found, symbol may be delisted\n",
      "Nonetype found for: ALL.PRB\n",
      "1.2712891101837158\n",
      "Producing data for:  ALL.PRC\n",
      "ALL.PRC: No data found, symbol may be delisted\n",
      "- ALL.PRC: No summary info found, symbol may be delisted\n",
      "Nonetype found for: ALL.PRC\n",
      "1.487635850906372\n",
      "Producing data for:  ALL.PRD\n",
      "ALL.PRD: No data found, symbol may be delisted\n",
      "- ALL.PRD: No summary info found, symbol may be delisted\n",
      "Nonetype found for: ALL.PRD\n",
      "1.369957685470581\n",
      "Producing data for:  ALL.PRE\n",
      "ALL.PRE: No data found, symbol may be delisted\n",
      "- ALL.PRE: No summary info found, symbol may be delisted\n",
      "Nonetype found for: ALL.PRE\n",
      "1.5635082721710205\n",
      "Producing data for:  ALL.PRF\n",
      "ALL.PRF: No data found, symbol may be delisted\n",
      "- ALL.PRF: No summary info found, symbol may be delisted\n",
      "Nonetype found for: ALL.PRF\n",
      "1.3541803359985352\n",
      "Producing data for:  ALLY\n"
     ]
    },
    {
     "name": "stderr",
     "output_type": "stream",
     "text": [
      "<ipython-input-3-1956285887a8>:67: FutureWarning: The frame.append method is deprecated and will be removed from pandas in a future version. Use pandas.concat instead.\n",
      "  value_invest = value_invest.append(\n"
     ]
    },
    {
     "name": "stdout",
     "output_type": "stream",
     "text": [
      "1.6526036262512207\n",
      "Producing data for:  ALJ\n",
      "ALJ: No data found for this date range, symbol may be delisted\n",
      "Couldnt find key for: ALJ\n",
      "1.5320708751678467\n",
      "Producing data for:  ALDW\n",
      "ALDW: No data found for this date range, symbol may be delisted\n",
      "Nonetype found for: ALDW\n",
      "1.8903274536132812\n",
      "Producing data for:  AGD\n"
     ]
    },
    {
     "name": "stderr",
     "output_type": "stream",
     "text": [
      "<ipython-input-3-1956285887a8>:67: FutureWarning: The frame.append method is deprecated and will be removed from pandas in a future version. Use pandas.concat instead.\n",
      "  value_invest = value_invest.append(\n"
     ]
    },
    {
     "name": "stdout",
     "output_type": "stream",
     "text": [
      "1.530886173248291\n",
      "Producing data for:  AWP\n"
     ]
    },
    {
     "name": "stderr",
     "output_type": "stream",
     "text": [
      "<ipython-input-3-1956285887a8>:67: FutureWarning: The frame.append method is deprecated and will be removed from pandas in a future version. Use pandas.concat instead.\n",
      "  value_invest = value_invest.append(\n"
     ]
    },
    {
     "name": "stdout",
     "output_type": "stream",
     "text": [
      "1.775287389755249\n",
      "Producing data for:  AOD\n"
     ]
    },
    {
     "name": "stderr",
     "output_type": "stream",
     "text": [
      "<ipython-input-3-1956285887a8>:67: FutureWarning: The frame.append method is deprecated and will be removed from pandas in a future version. Use pandas.concat instead.\n",
      "  value_invest = value_invest.append(\n"
     ]
    },
    {
     "name": "stdout",
     "output_type": "stream",
     "text": [
      "2.004542589187622\n",
      "Producing data for:  RESI\n",
      "Couldnt find key for: RESI\n",
      "1.4378893375396729\n",
      "Producing data for:  MO\n"
     ]
    },
    {
     "name": "stderr",
     "output_type": "stream",
     "text": [
      "<ipython-input-3-1956285887a8>:67: FutureWarning: The frame.append method is deprecated and will be removed from pandas in a future version. Use pandas.concat instead.\n",
      "  value_invest = value_invest.append(\n"
     ]
    },
    {
     "name": "stdout",
     "output_type": "stream",
     "text": [
      "1.6854851245880127\n",
      "Producing data for:  ACH\n",
      "ACH: No data found, symbol may be delisted\n",
      "- ACH: No summary info found, symbol may be delisted\n",
      "Nonetype found for: ACH\n",
      "1.2856895923614502\n",
      "Producing data for:  AMBR\n",
      "AMBR: No data found, symbol may be delisted\n",
      "Nonetype found for: AMBR\n",
      "1.2078330516815186\n",
      "Producing data for:  ABEV\n"
     ]
    },
    {
     "name": "stderr",
     "output_type": "stream",
     "text": [
      "<ipython-input-3-1956285887a8>:67: FutureWarning: The frame.append method is deprecated and will be removed from pandas in a future version. Use pandas.concat instead.\n",
      "  value_invest = value_invest.append(\n"
     ]
    },
    {
     "name": "stdout",
     "output_type": "stream",
     "text": [
      "1.4334676265716553\n",
      "Producing data for:  AMC\n",
      "Couldnt find key for: AMC\n",
      "1.4787826538085938\n",
      "Producing data for:  AMFW\n",
      "AMFW: No data found, symbol may be delisted\n",
      "- AMFW: No summary info found, symbol may be delisted\n",
      "Nonetype found for: AMFW\n",
      "1.5919058322906494\n",
      "Producing data for:  AEE\n"
     ]
    },
    {
     "name": "stderr",
     "output_type": "stream",
     "text": [
      "<ipython-input-3-1956285887a8>:67: FutureWarning: The frame.append method is deprecated and will be removed from pandas in a future version. Use pandas.concat instead.\n",
      "  value_invest = value_invest.append(\n"
     ]
    },
    {
     "name": "stdout",
     "output_type": "stream",
     "text": [
      "1.5718135833740234\n",
      "Producing data for:  AMRC\n",
      "Nonetype found for: AMRC\n",
      "1.365077018737793\n",
      "Producing data for:  AAT\n",
      "Nonetype found for: AAT\n",
      "1.4624834060668945\n",
      "Producing data for:  AXL\n",
      "Couldnt find key for: AXL\n",
      "3.145801305770874\n",
      "Producing data for:  ACC\n",
      "ACC: No data found, symbol may be delisted\n",
      "- ACC: No summary info found, symbol may be delisted\n",
      "Nonetype found for: ACC\n",
      "1.51242995262146\n",
      "Producing data for:  AEO\n",
      "Couldnt find key for: AEO\n",
      "2.871227979660034\n",
      "Producing data for:  AEP\n"
     ]
    },
    {
     "name": "stderr",
     "output_type": "stream",
     "text": [
      "<ipython-input-3-1956285887a8>:67: FutureWarning: The frame.append method is deprecated and will be removed from pandas in a future version. Use pandas.concat instead.\n",
      "  value_invest = value_invest.append(\n"
     ]
    },
    {
     "name": "stdout",
     "output_type": "stream",
     "text": [
      "3.027346611022949\n",
      "Producing data for:  AEL\n"
     ]
    },
    {
     "name": "stderr",
     "output_type": "stream",
     "text": [
      "<ipython-input-3-1956285887a8>:67: FutureWarning: The frame.append method is deprecated and will be removed from pandas in a future version. Use pandas.concat instead.\n",
      "  value_invest = value_invest.append(\n"
     ]
    },
    {
     "name": "stdout",
     "output_type": "stream",
     "text": [
      "1.7409720420837402\n",
      "Producing data for:  AXP\n"
     ]
    },
    {
     "name": "stderr",
     "output_type": "stream",
     "text": [
      "<ipython-input-3-1956285887a8>:67: FutureWarning: The frame.append method is deprecated and will be removed from pandas in a future version. Use pandas.concat instead.\n",
      "  value_invest = value_invest.append(\n"
     ]
    },
    {
     "name": "stdout",
     "output_type": "stream",
     "text": [
      "4.120635747909546\n",
      "Producing data for:  AFG\n"
     ]
    },
    {
     "name": "stderr",
     "output_type": "stream",
     "text": [
      "<ipython-input-3-1956285887a8>:67: FutureWarning: The frame.append method is deprecated and will be removed from pandas in a future version. Use pandas.concat instead.\n",
      "  value_invest = value_invest.append(\n"
     ]
    },
    {
     "name": "stdout",
     "output_type": "stream",
     "text": [
      "3.548766613006592\n",
      "Producing data for:  AFA\n",
      "AFA: No data found, symbol may be delisted\n",
      "Couldnt find key for: AFA\n",
      "2.15834379196167\n",
      "Producing data for:  AFW\n",
      "AFW: No data found, symbol may be delisted\n",
      "- AFW: No summary info found, symbol may be delisted\n",
      "Nonetype found for: AFW\n",
      "1.5360157489776611\n",
      "Producing data for:  AMH\n"
     ]
    },
    {
     "name": "stderr",
     "output_type": "stream",
     "text": [
      "<ipython-input-3-1956285887a8>:67: FutureWarning: The frame.append method is deprecated and will be removed from pandas in a future version. Use pandas.concat instead.\n",
      "  value_invest = value_invest.append(\n"
     ]
    },
    {
     "name": "stdout",
     "output_type": "stream",
     "text": [
      "2.763369560241699\n",
      "Producing data for:  AMH.PRA\n",
      "AMH.PRA: No data found, symbol may be delisted\n",
      "- AMH.PRA: No summary info found, symbol may be delisted\n",
      "Nonetype found for: AMH.PRA\n",
      "2.2418227195739746\n",
      "Producing data for:  AMH.PRB\n",
      "AMH.PRB: No data found, symbol may be delisted\n",
      "- AMH.PRB: No summary info found, symbol may be delisted\n",
      "Nonetype found for: AMH.PRB\n",
      "1.5999071598052979\n",
      "Producing data for:  AMH.PRC\n",
      "AMH.PRC: No data found, symbol may be delisted\n",
      "- AMH.PRC: No summary info found, symbol may be delisted\n",
      "Nonetype found for: AMH.PRC\n",
      "1.366403579711914\n",
      "Producing data for:  AMH.PRD\n",
      "AMH.PRD: No data found, symbol may be delisted\n",
      "- AMH.PRD: No summary info found, symbol may be delisted\n",
      "Nonetype found for: AMH.PRD\n",
      "1.7809252738952637\n",
      "Producing data for:  AMH.PRE\n",
      "AMH.PRE: No data found, symbol may be delisted\n",
      "- AMH.PRE: No summary info found, symbol may be delisted\n",
      "Nonetype found for: AMH.PRE\n",
      "2.2051641941070557\n",
      "Producing data for:  AIG\n",
      "Couldnt find key for: AIG\n",
      "2.778003692626953\n",
      "Producing data for:  AIG.WS\n",
      "AIG.WS: No data found, symbol may be delisted\n",
      "- AIG.WS: No summary info found, symbol may be delisted\n",
      "Nonetype found for: AIG.WS\n",
      "1.8575286865234375\n",
      "Producing data for:  AMID\n",
      "Couldnt find key for: AMID\n",
      "4.1099700927734375\n",
      "Producing data for:  ARL\n"
     ]
    },
    {
     "name": "stderr",
     "output_type": "stream",
     "text": [
      "<ipython-input-3-1956285887a8>:67: FutureWarning: The frame.append method is deprecated and will be removed from pandas in a future version. Use pandas.concat instead.\n",
      "  value_invest = value_invest.append(\n"
     ]
    },
    {
     "name": "stdout",
     "output_type": "stream",
     "text": [
      "1.609980821609497\n",
      "Producing data for:  ARA\n",
      "ARA: No data found, symbol may be delisted\n",
      "- ARA: No summary info found, symbol may be delisted\n",
      "Nonetype found for: ARA\n",
      "2.623654365539551\n",
      "Producing data for:  AWR\n"
     ]
    },
    {
     "name": "stderr",
     "output_type": "stream",
     "text": [
      "<ipython-input-3-1956285887a8>:67: FutureWarning: The frame.append method is deprecated and will be removed from pandas in a future version. Use pandas.concat instead.\n",
      "  value_invest = value_invest.append(\n"
     ]
    },
    {
     "name": "stdout",
     "output_type": "stream",
     "text": [
      "4.150404930114746\n",
      "Producing data for:  AMT\n"
     ]
    },
    {
     "name": "stderr",
     "output_type": "stream",
     "text": [
      "<ipython-input-3-1956285887a8>:67: FutureWarning: The frame.append method is deprecated and will be removed from pandas in a future version. Use pandas.concat instead.\n",
      "  value_invest = value_invest.append(\n"
     ]
    },
    {
     "name": "stdout",
     "output_type": "stream",
     "text": [
      "2.623671293258667\n",
      "Producing data for:  AMT.PRA\n",
      "AMT.PRA: No data found, symbol may be delisted\n",
      "- AMT.PRA: No summary info found, symbol may be delisted\n",
      "Nonetype found for: AMT.PRA\n",
      "1.6929748058319092\n",
      "Producing data for:  AMT.PRB\n",
      "AMT.PRB: No data found, symbol may be delisted\n",
      "- AMT.PRB: No summary info found, symbol may be delisted\n",
      "Nonetype found for: AMT.PRB\n",
      "2.063774585723877\n",
      "Producing data for:  AVD\n"
     ]
    },
    {
     "name": "stderr",
     "output_type": "stream",
     "text": [
      "<ipython-input-3-1956285887a8>:67: FutureWarning: The frame.append method is deprecated and will be removed from pandas in a future version. Use pandas.concat instead.\n",
      "  value_invest = value_invest.append(\n"
     ]
    },
    {
     "name": "stdout",
     "output_type": "stream",
     "text": [
      "3.8943862915039062\n",
      "Producing data for:  AWK\n"
     ]
    },
    {
     "name": "stderr",
     "output_type": "stream",
     "text": [
      "<ipython-input-3-1956285887a8>:67: FutureWarning: The frame.append method is deprecated and will be removed from pandas in a future version. Use pandas.concat instead.\n",
      "  value_invest = value_invest.append(\n"
     ]
    },
    {
     "name": "stdout",
     "output_type": "stream",
     "text": [
      "2.7790188789367676\n",
      "Producing data for:  APU\n",
      "APU: No data found, symbol may be delisted\n",
      "Nonetype found for: APU\n",
      "1.4997835159301758\n",
      "Producing data for:  AMP\n",
      "Couldnt find key for: AMP\n",
      "3.0203771591186523\n",
      "Producing data for:  ABC\n",
      "Couldnt find key for: ABC\n",
      "3.010183572769165\n",
      "Producing data for:  AME\n"
     ]
    },
    {
     "name": "stderr",
     "output_type": "stream",
     "text": [
      "<ipython-input-3-1956285887a8>:67: FutureWarning: The frame.append method is deprecated and will be removed from pandas in a future version. Use pandas.concat instead.\n",
      "  value_invest = value_invest.append(\n"
     ]
    },
    {
     "name": "stdout",
     "output_type": "stream",
     "text": [
      "2.896746873855591\n",
      "Producing data for:  ANFI\n",
      "ANFI: No data found, symbol may be delisted\n",
      "- ANFI: No summary info found, symbol may be delisted\n",
      "Nonetype found for: ANFI\n",
      "1.4355337619781494\n",
      "Producing data for:  AMN\n"
     ]
    },
    {
     "name": "stderr",
     "output_type": "stream",
     "text": [
      "<ipython-input-3-1956285887a8>:67: FutureWarning: The frame.append method is deprecated and will be removed from pandas in a future version. Use pandas.concat instead.\n",
      "  value_invest = value_invest.append(\n"
     ]
    },
    {
     "name": "stdout",
     "output_type": "stream",
     "text": [
      "3.455498218536377\n",
      "Producing data for:  AP\n"
     ]
    },
    {
     "name": "stderr",
     "output_type": "stream",
     "text": [
      "<ipython-input-3-1956285887a8>:67: FutureWarning: The frame.append method is deprecated and will be removed from pandas in a future version. Use pandas.concat instead.\n",
      "  value_invest = value_invest.append(\n"
     ]
    },
    {
     "name": "stdout",
     "output_type": "stream",
     "text": [
      "3.1734650135040283\n",
      "Producing data for:  APH\n"
     ]
    },
    {
     "name": "stderr",
     "output_type": "stream",
     "text": [
      "<ipython-input-3-1956285887a8>:67: FutureWarning: The frame.append method is deprecated and will be removed from pandas in a future version. Use pandas.concat instead.\n",
      "  value_invest = value_invest.append(\n"
     ]
    },
    {
     "name": "stdout",
     "output_type": "stream",
     "text": [
      "3.4104163646698\n",
      "Producing data for:  BETR\n",
      "BETR: No data found for this date range, symbol may be delisted\n",
      "Couldnt find key for: BETR\n",
      "2.570945978164673\n",
      "Producing data for:  AXR\n",
      "Couldnt find key for: AXR\n",
      "2.749852180480957\n",
      "Producing data for:  AFSI.PRA\n",
      "AFSI.PRA: No data found, symbol may be delisted\n",
      "- AFSI.PRA: No summary info found, symbol may be delisted\n",
      "Nonetype found for: AFSI.PRA\n",
      "2.367980718612671\n",
      "Producing data for:  AFSI.PRB\n",
      "AFSI.PRB: No data found, symbol may be delisted\n",
      "- AFSI.PRB: No summary info found, symbol may be delisted\n",
      "Nonetype found for: AFSI.PRB\n",
      "2.4172775745391846\n",
      "Producing data for:  AFSI.PRC\n",
      "AFSI.PRC: No data found, symbol may be delisted\n",
      "- AFSI.PRC: No summary info found, symbol may be delisted\n",
      "Nonetype found for: AFSI.PRC\n",
      "2.5623207092285156\n",
      "Producing data for:  AFSI.PRD\n",
      "AFSI.PRD: No data found, symbol may be delisted\n",
      "- AFSI.PRD: No summary info found, symbol may be delisted\n",
      "Nonetype found for: AFSI.PRD\n",
      "3.5410475730895996\n",
      "Producing data for:  AFSI.PRE\n",
      "AFSI.PRE: No data found, symbol may be delisted\n",
      "Nonetype found for: AFSI.PRE\n",
      "2.0340166091918945\n",
      "Producing data for:  AFSI.PRF\n",
      "AFSI.PRF: No data found, symbol may be delisted\n",
      "- AFSI.PRF: No summary info found, symbol may be delisted\n",
      "Nonetype found for: AFSI.PRF\n",
      "2.047856569290161\n",
      "Producing data for:  AMX\n"
     ]
    },
    {
     "name": "stderr",
     "output_type": "stream",
     "text": [
      "<ipython-input-3-1956285887a8>:67: FutureWarning: The frame.append method is deprecated and will be removed from pandas in a future version. Use pandas.concat instead.\n",
      "  value_invest = value_invest.append(\n"
     ]
    },
    {
     "name": "stdout",
     "output_type": "stream",
     "text": [
      "2.6730618476867676\n",
      "Producing data for:  AMOV\n"
     ]
    },
    {
     "name": "stderr",
     "output_type": "stream",
     "text": [
      "<ipython-input-3-1956285887a8>:67: FutureWarning: The frame.append method is deprecated and will be removed from pandas in a future version. Use pandas.concat instead.\n",
      "  value_invest = value_invest.append(\n"
     ]
    },
    {
     "name": "stdout",
     "output_type": "stream",
     "text": [
      "4.924072980880737\n",
      "Producing data for:  AU\n"
     ]
    },
    {
     "name": "stderr",
     "output_type": "stream",
     "text": [
      "<ipython-input-3-1956285887a8>:67: FutureWarning: The frame.append method is deprecated and will be removed from pandas in a future version. Use pandas.concat instead.\n",
      "  value_invest = value_invest.append(\n"
     ]
    },
    {
     "name": "stdout",
     "output_type": "stream",
     "text": [
      "2.733665943145752\n",
      "Producing data for:  BUD\n"
     ]
    },
    {
     "name": "stderr",
     "output_type": "stream",
     "text": [
      "<ipython-input-3-1956285887a8>:67: FutureWarning: The frame.append method is deprecated and will be removed from pandas in a future version. Use pandas.concat instead.\n",
      "  value_invest = value_invest.append(\n"
     ]
    },
    {
     "name": "stdout",
     "output_type": "stream",
     "text": [
      "3.232269763946533\n",
      "Producing data for:  AXE\n",
      "AXE: No data found, symbol may be delisted\n",
      "- AXE: No summary info found, symbol may be delisted\n",
      "Nonetype found for: AXE\n",
      "2.265737533569336\n",
      "Producing data for:  NLY\n"
     ]
    },
    {
     "name": "stderr",
     "output_type": "stream",
     "text": [
      "<ipython-input-3-1956285887a8>:67: FutureWarning: The frame.append method is deprecated and will be removed from pandas in a future version. Use pandas.concat instead.\n",
      "  value_invest = value_invest.append(\n"
     ]
    },
    {
     "name": "stdout",
     "output_type": "stream",
     "text": [
      "3.963573932647705\n",
      "Producing data for:  NLY.PRA\n",
      "NLY.PRA: No data found, symbol may be delisted\n",
      "- NLY.PRA: No summary info found, symbol may be delisted\n",
      "Nonetype found for: NLY.PRA\n",
      "1.7092134952545166\n",
      "Producing data for:  NLY.PRC\n",
      "NLY.PRC: No data found, symbol may be delisted\n",
      "- NLY.PRC: No summary info found, symbol may be delisted\n",
      "Nonetype found for: NLY.PRC\n",
      "2.7355830669403076\n",
      "Producing data for:  NLY.PRD\n",
      "NLY.PRD: No data found, symbol may be delisted\n",
      "- NLY.PRD: No summary info found, symbol may be delisted\n",
      "Nonetype found for: NLY.PRD\n",
      "1.9883713722229004\n",
      "Producing data for:  NLY.PRE\n",
      "NLY.PRE: No data found, symbol may be delisted\n",
      "- NLY.PRE: No summary info found, symbol may be delisted\n",
      "Nonetype found for: NLY.PRE\n",
      "2.11173415184021\n",
      "Producing data for:  AR\n",
      "Couldnt find key for: AR\n",
      "3.7920238971710205\n",
      "Producing data for:  AM\n"
     ]
    },
    {
     "name": "stderr",
     "output_type": "stream",
     "text": [
      "<ipython-input-3-1956285887a8>:67: FutureWarning: The frame.append method is deprecated and will be removed from pandas in a future version. Use pandas.concat instead.\n",
      "  value_invest = value_invest.append(\n"
     ]
    },
    {
     "name": "stdout",
     "output_type": "stream",
     "text": [
      "3.2589221000671387\n",
      "Producing data for:  ANTM\n",
      "ANTM: No data found, symbol may be delisted\n",
      "- ANTM: No summary info found, symbol may be delisted\n",
      "Nonetype found for: ANTM\n",
      "1.799797534942627\n",
      "Producing data for:  ANTX\n",
      "Couldnt find key for: ANTX\n",
      "2.065608501434326\n",
      "Producing data for:  ANH\n",
      "ANH: No data found, symbol may be delisted\n",
      "- ANH: No summary info found, symbol may be delisted\n",
      "Nonetype found for: ANH\n",
      "1.5401968955993652\n",
      "Producing data for:  ANH.PRA\n",
      "ANH.PRA: No data found, symbol may be delisted\n",
      "- ANH.PRA: No summary info found, symbol may be delisted\n",
      "Nonetype found for: ANH.PRA\n",
      "1.501587152481079\n",
      "Producing data for:  ANH.PRB\n",
      "ANH.PRB: No data found, symbol may be delisted\n",
      "- ANH.PRB: No summary info found, symbol may be delisted\n",
      "Nonetype found for: ANH.PRB\n",
      "1.621973991394043\n",
      "Producing data for:  ANH.PRC\n",
      "ANH.PRC: No data found, symbol may be delisted\n",
      "- ANH.PRC: No summary info found, symbol may be delisted\n",
      "Nonetype found for: ANH.PRC\n",
      "1.6961328983306885\n",
      "Producing data for:  AON\n"
     ]
    },
    {
     "name": "stderr",
     "output_type": "stream",
     "text": [
      "<ipython-input-3-1956285887a8>:67: FutureWarning: The frame.append method is deprecated and will be removed from pandas in a future version. Use pandas.concat instead.\n",
      "  value_invest = value_invest.append(\n"
     ]
    },
    {
     "name": "stdout",
     "output_type": "stream",
     "text": [
      "2.9956743717193604\n",
      "Producing data for:  APA\n",
      "Couldnt find key for: APA\n",
      "4.33077073097229\n",
      "Producing data for:  AIV\n",
      "Couldnt find key for: AIV\n",
      "3.954042911529541\n",
      "Producing data for:  AIV.PRA\n",
      "AIV.PRA: No data found, symbol may be delisted\n",
      "- AIV.PRA: No summary info found, symbol may be delisted\n",
      "Nonetype found for: AIV.PRA\n",
      "1.929225206375122\n",
      "Producing data for:  ARI\n"
     ]
    },
    {
     "name": "stderr",
     "output_type": "stream",
     "text": [
      "<ipython-input-3-1956285887a8>:67: FutureWarning: The frame.append method is deprecated and will be removed from pandas in a future version. Use pandas.concat instead.\n",
      "  value_invest = value_invest.append(\n"
     ]
    },
    {
     "name": "stdout",
     "output_type": "stream",
     "text": [
      "3.810826539993286\n",
      "Producing data for:  ARI.PRA\n",
      "ARI.PRA: No data found, symbol may be delisted\n",
      "- ARI.PRA: No summary info found, symbol may be delisted\n",
      "Nonetype found for: ARI.PRA\n",
      "1.870509386062622\n",
      "Producing data for:  ARI.PRC\n",
      "ARI.PRC: No data found, symbol may be delisted\n",
      "- ARI.PRC: No summary info found, symbol may be delisted\n",
      "Nonetype found for: ARI.PRC\n",
      "2.768724203109741\n",
      "Producing data for:  APO\n"
     ]
    },
    {
     "name": "stderr",
     "output_type": "stream",
     "text": [
      "<ipython-input-3-1956285887a8>:67: FutureWarning: The frame.append method is deprecated and will be removed from pandas in a future version. Use pandas.concat instead.\n",
      "  value_invest = value_invest.append(\n"
     ]
    },
    {
     "name": "stdout",
     "output_type": "stream",
     "text": [
      "3.053891658782959\n",
      "Producing data for:  AIB\n",
      "Couldnt find key for: AIB\n",
      "3.3525850772857666\n",
      "Producing data for:  AIY\n",
      "AIY: No data found, symbol may be delisted\n",
      "- AIY: No summary info found, symbol may be delisted\n",
      "Nonetype found for: AIY\n",
      "1.4558141231536865\n",
      "Producing data for:  AFT\n"
     ]
    },
    {
     "name": "stderr",
     "output_type": "stream",
     "text": [
      "<ipython-input-3-1956285887a8>:67: FutureWarning: The frame.append method is deprecated and will be removed from pandas in a future version. Use pandas.concat instead.\n",
      "  value_invest = value_invest.append(\n"
     ]
    },
    {
     "name": "stdout",
     "output_type": "stream",
     "text": [
      "2.303053855895996\n",
      "Producing data for:  AIF\n"
     ]
    },
    {
     "name": "stderr",
     "output_type": "stream",
     "text": [
      "<ipython-input-3-1956285887a8>:67: FutureWarning: The frame.append method is deprecated and will be removed from pandas in a future version. Use pandas.concat instead.\n",
      "  value_invest = value_invest.append(\n"
     ]
    },
    {
     "name": "stdout",
     "output_type": "stream",
     "text": [
      "2.840362548828125\n",
      "Producing data for:  APLE\n",
      "Couldnt find key for: APLE\n",
      "2.7079427242279053\n",
      "Producing data for:  AIT\n"
     ]
    },
    {
     "name": "stderr",
     "output_type": "stream",
     "text": [
      "<ipython-input-3-1956285887a8>:67: FutureWarning: The frame.append method is deprecated and will be removed from pandas in a future version. Use pandas.concat instead.\n",
      "  value_invest = value_invest.append(\n"
     ]
    },
    {
     "name": "stdout",
     "output_type": "stream",
     "text": [
      "3.5041816234588623\n",
      "Producing data for:  ATR\n"
     ]
    },
    {
     "name": "stderr",
     "output_type": "stream",
     "text": [
      "<ipython-input-3-1956285887a8>:67: FutureWarning: The frame.append method is deprecated and will be removed from pandas in a future version. Use pandas.concat instead.\n",
      "  value_invest = value_invest.append(\n"
     ]
    },
    {
     "name": "stdout",
     "output_type": "stream",
     "text": [
      "4.453677415847778\n",
      "Producing data for:  WTR\n",
      "WTR: No data found, symbol may be delisted\n",
      "- WTR: No summary info found, symbol may be delisted\n",
      "Nonetype found for: WTR\n",
      "1.651658535003662\n",
      "Producing data for:  WAAS\n",
      "WAAS: No data found, symbol may be delisted\n",
      "- WAAS: No summary info found, symbol may be delisted\n",
      "Nonetype found for: WAAS\n",
      "1.6498818397521973\n",
      "Producing data for:  ARMK\n",
      "Couldnt find key for: ARMK\n",
      "3.2840120792388916\n",
      "Producing data for:  ABR\n"
     ]
    },
    {
     "name": "stderr",
     "output_type": "stream",
     "text": [
      "<ipython-input-3-1956285887a8>:67: FutureWarning: The frame.append method is deprecated and will be removed from pandas in a future version. Use pandas.concat instead.\n",
      "  value_invest = value_invest.append(\n"
     ]
    },
    {
     "name": "stdout",
     "output_type": "stream",
     "text": [
      "3.849531650543213\n",
      "Producing data for:  ABRN\n",
      "ABRN: No data found, symbol may be delisted\n",
      "- ABRN: No summary info found, symbol may be delisted\n",
      "Nonetype found for: ABRN\n",
      "2.47908091545105\n",
      "Producing data for:  ABR.PRA\n",
      "ABR.PRA: No data found, symbol may be delisted\n",
      "- ABR.PRA: No summary info found, symbol may be delisted\n",
      "Nonetype found for: ABR.PRA\n",
      "2.121155023574829\n",
      "Producing data for:  ABR.PRB\n",
      "ABR.PRB: No data found, symbol may be delisted\n",
      "- ABR.PRB: No summary info found, symbol may be delisted\n",
      "Nonetype found for: ABR.PRB\n",
      "2.0404980182647705\n",
      "Producing data for:  ABR.PRC\n",
      "ABR.PRC: No data found, symbol may be delisted\n",
      "Nonetype found for: ABR.PRC\n",
      "1.5529489517211914\n",
      "Producing data for:  ARC\n"
     ]
    },
    {
     "name": "stderr",
     "output_type": "stream",
     "text": [
      "<ipython-input-3-1956285887a8>:67: FutureWarning: The frame.append method is deprecated and will be removed from pandas in a future version. Use pandas.concat instead.\n",
      "  value_invest = value_invest.append(\n"
     ]
    },
    {
     "name": "stdout",
     "output_type": "stream",
     "text": [
      "2.579200506210327\n",
      "Producing data for:  ARCX\n",
      "ARCX: No data found for this date range, symbol may be delisted\n",
      "Couldnt find key for: ARCX\n",
      "2.1436941623687744\n",
      "Producing data for:  MT\n",
      "Couldnt find key for: MT\n",
      "3.612022876739502\n",
      "Producing data for:  ARH.PRC\n",
      "ARH.PRC: No data found, symbol may be delisted\n",
      "- ARH.PRC: No summary info found, symbol may be delisted\n",
      "Nonetype found for: ARH.PRC\n",
      "1.8942766189575195\n",
      "Producing data for:  ARCH\n",
      "Couldnt find key for: ARCH\n",
      "2.9397177696228027\n",
      "Producing data for:  ADM\n"
     ]
    },
    {
     "name": "stderr",
     "output_type": "stream",
     "text": [
      "<ipython-input-3-1956285887a8>:67: FutureWarning: The frame.append method is deprecated and will be removed from pandas in a future version. Use pandas.concat instead.\n",
      "  value_invest = value_invest.append(\n"
     ]
    },
    {
     "name": "stdout",
     "output_type": "stream",
     "text": [
      "2.7192556858062744\n",
      "Producing data for:  AROC\n",
      "Couldnt find key for: AROC\n",
      "3.9819631576538086\n",
      "Producing data for:  ARNC\n",
      "Couldnt find key for: ARNC\n",
      "2.467582941055298\n",
      "Producing data for:  ARNC.PR\n",
      "ARNC.PR: No data found, symbol may be delisted\n",
      "- ARNC.PR: No summary info found, symbol may be delisted\n",
      "Nonetype found for: ARNC.PR\n",
      "1.5872626304626465\n",
      "Producing data for:  ARNC.PRB\n",
      "ARNC.PRB: No data found, symbol may be delisted\n",
      "- ARNC.PRB: No summary info found, symbol may be delisted\n",
      "Nonetype found for: ARNC.PRB\n",
      "1.7148730754852295\n",
      "Producing data for:  ARCO\n",
      "Nonetype found for: ARCO\n",
      "2.784836530685425\n",
      "Producing data for:  ASC\n"
     ]
    },
    {
     "name": "stderr",
     "output_type": "stream",
     "text": [
      "<ipython-input-3-1956285887a8>:67: FutureWarning: The frame.append method is deprecated and will be removed from pandas in a future version. Use pandas.concat instead.\n",
      "  value_invest = value_invest.append(\n"
     ]
    },
    {
     "name": "stdout",
     "output_type": "stream",
     "text": [
      "1.715315580368042\n",
      "Producing data for:  ARU\n",
      "ARU: No data found, symbol may be delisted\n",
      "- ARU: No summary info found, symbol may be delisted\n",
      "Nonetype found for: ARU\n",
      "2.8443257808685303\n",
      "Producing data for:  ACRE\n"
     ]
    },
    {
     "name": "stderr",
     "output_type": "stream",
     "text": [
      "<ipython-input-3-1956285887a8>:67: FutureWarning: The frame.append method is deprecated and will be removed from pandas in a future version. Use pandas.concat instead.\n",
      "  value_invest = value_invest.append(\n"
     ]
    },
    {
     "name": "stdout",
     "output_type": "stream",
     "text": [
      "3.348566770553589\n",
      "Producing data for:  ARDC\n",
      "Couldnt find key for: ARDC\n",
      "2.9019062519073486\n",
      "Producing data for:  ARES\n"
     ]
    },
    {
     "name": "stderr",
     "output_type": "stream",
     "text": [
      "<ipython-input-3-1956285887a8>:67: FutureWarning: The frame.append method is deprecated and will be removed from pandas in a future version. Use pandas.concat instead.\n",
      "  value_invest = value_invest.append(\n"
     ]
    },
    {
     "name": "stdout",
     "output_type": "stream",
     "text": [
      "3.384746551513672\n",
      "Producing data for:  ARES.PRA\n",
      "ARES.PRA: No data found, symbol may be delisted\n",
      "- ARES.PRA: No summary info found, symbol may be delisted\n",
      "Nonetype found for: ARES.PRA\n",
      "1.8070933818817139\n",
      "Producing data for:  ARMF\n",
      "ARMF: No data found for this date range, symbol may be delisted\n",
      "Couldnt find key for: ARMF\n",
      "2.4539787769317627\n",
      "Producing data for:  AGX\n"
     ]
    },
    {
     "name": "stderr",
     "output_type": "stream",
     "text": [
      "<ipython-input-3-1956285887a8>:67: FutureWarning: The frame.append method is deprecated and will be removed from pandas in a future version. Use pandas.concat instead.\n",
      "  value_invest = value_invest.append(\n"
     ]
    },
    {
     "name": "stdout",
     "output_type": "stream",
     "text": [
      "2.747986078262329\n",
      "Producing data for:  ANET\n"
     ]
    },
    {
     "name": "stderr",
     "output_type": "stream",
     "text": [
      "<ipython-input-3-1956285887a8>:67: FutureWarning: The frame.append method is deprecated and will be removed from pandas in a future version. Use pandas.concat instead.\n",
      "  value_invest = value_invest.append(\n"
     ]
    },
    {
     "name": "stdout",
     "output_type": "stream",
     "text": [
      "2.7386953830718994\n",
      "Producing data for:  AI\n",
      "Couldnt find key for: AI\n",
      "2.486052989959717\n",
      "Producing data for:  AIW\n",
      "AIW: No data found, symbol may be delisted\n",
      "- AIW: No summary info found, symbol may be delisted\n",
      "Nonetype found for: AIW\n",
      "1.6371614933013916\n",
      "Producing data for:  AHH\n"
     ]
    },
    {
     "name": "stderr",
     "output_type": "stream",
     "text": [
      "<ipython-input-3-1956285887a8>:67: FutureWarning: The frame.append method is deprecated and will be removed from pandas in a future version. Use pandas.concat instead.\n",
      "  value_invest = value_invest.append(\n"
     ]
    },
    {
     "name": "stdout",
     "output_type": "stream",
     "text": [
      "2.9483530521392822\n",
      "Producing data for:  ARR\n"
     ]
    },
    {
     "name": "stderr",
     "output_type": "stream",
     "text": [
      "<ipython-input-3-1956285887a8>:67: FutureWarning: The frame.append method is deprecated and will be removed from pandas in a future version. Use pandas.concat instead.\n",
      "  value_invest = value_invest.append(\n"
     ]
    },
    {
     "name": "stdout",
     "output_type": "stream",
     "text": [
      "3.950683116912842\n",
      "Producing data for:  ARR.PRA\n",
      "ARR.PRA: No data found, symbol may be delisted\n",
      "- ARR.PRA: No summary info found, symbol may be delisted\n",
      "Nonetype found for: ARR.PRA\n",
      "1.728151798248291\n",
      "Producing data for:  ARR.PRB\n",
      "ARR.PRB: No data found, symbol may be delisted\n",
      "- ARR.PRB: No summary info found, symbol may be delisted\n",
      "Nonetype found for: ARR.PRB\n",
      "1.9965720176696777\n",
      "Producing data for:  AFI\n",
      "AFI: No data found, symbol may be delisted\n",
      "- AFI: No summary info found, symbol may be delisted\n",
      "Nonetype found for: AFI\n",
      "1.9267120361328125\n",
      "Producing data for:  AWI\n"
     ]
    },
    {
     "name": "stderr",
     "output_type": "stream",
     "text": [
      "<ipython-input-3-1956285887a8>:67: FutureWarning: The frame.append method is deprecated and will be removed from pandas in a future version. Use pandas.concat instead.\n",
      "  value_invest = value_invest.append(\n"
     ]
    },
    {
     "name": "stdout",
     "output_type": "stream",
     "text": [
      "2.7490692138671875\n",
      "Producing data for:  ARW\n"
     ]
    },
    {
     "name": "stderr",
     "output_type": "stream",
     "text": [
      "<ipython-input-3-1956285887a8>:67: FutureWarning: The frame.append method is deprecated and will be removed from pandas in a future version. Use pandas.concat instead.\n",
      "  value_invest = value_invest.append(\n"
     ]
    },
    {
     "name": "stdout",
     "output_type": "stream",
     "text": [
      "2.5419788360595703\n",
      "Producing data for:  AJG\n"
     ]
    },
    {
     "name": "stderr",
     "output_type": "stream",
     "text": [
      "<ipython-input-3-1956285887a8>:67: FutureWarning: The frame.append method is deprecated and will be removed from pandas in a future version. Use pandas.concat instead.\n",
      "  value_invest = value_invest.append(\n"
     ]
    },
    {
     "name": "stdout",
     "output_type": "stream",
     "text": [
      "4.129295110702515\n",
      "Producing data for:  APAM\n"
     ]
    },
    {
     "name": "stderr",
     "output_type": "stream",
     "text": [
      "<ipython-input-3-1956285887a8>:67: FutureWarning: The frame.append method is deprecated and will be removed from pandas in a future version. Use pandas.concat instead.\n",
      "  value_invest = value_invest.append(\n"
     ]
    },
    {
     "name": "stdout",
     "output_type": "stream",
     "text": [
      "3.8719959259033203\n",
      "Producing data for:  ASA\n"
     ]
    },
    {
     "name": "stderr",
     "output_type": "stream",
     "text": [
      "<ipython-input-3-1956285887a8>:67: FutureWarning: The frame.append method is deprecated and will be removed from pandas in a future version. Use pandas.concat instead.\n",
      "  value_invest = value_invest.append(\n"
     ]
    },
    {
     "name": "stdout",
     "output_type": "stream",
     "text": [
      "3.559370279312134\n",
      "Producing data for:  ABG\n"
     ]
    },
    {
     "name": "stderr",
     "output_type": "stream",
     "text": [
      "<ipython-input-3-1956285887a8>:67: FutureWarning: The frame.append method is deprecated and will be removed from pandas in a future version. Use pandas.concat instead.\n",
      "  value_invest = value_invest.append(\n"
     ]
    },
    {
     "name": "stdout",
     "output_type": "stream",
     "text": [
      "2.730846643447876\n",
      "Producing data for:  AHP\n",
      "AHP: No data found for this date range, symbol may be delisted\n",
      "Nonetype found for: AHP\n",
      "2.534954309463501\n",
      "Producing data for:  AHT\n",
      "Couldnt find key for: AHT\n",
      "4.358709096908569\n",
      "Producing data for:  AHT.PRA\n",
      "AHT.PRA: No data found, symbol may be delisted\n",
      "- AHT.PRA: No summary info found, symbol may be delisted\n",
      "Nonetype found for: AHT.PRA\n",
      "2.013354539871216\n",
      "Producing data for:  AHT.PRB\n",
      "AHT.PRB: No data found, symbol may be delisted\n",
      "- AHT.PRB: No summary info found, symbol may be delisted\n",
      "Nonetype found for: AHT.PRB\n",
      "1.5627169609069824\n",
      "Producing data for:  AHT.PRD\n",
      "AHT.PRD: No data found, symbol may be delisted\n",
      "- AHT.PRD: No summary info found, symbol may be delisted\n",
      "Nonetype found for: AHT.PRD\n",
      "1.5358185768127441\n",
      "Producing data for:  AHT.PRF\n",
      "AHT.PRF: No data found, symbol may be delisted\n",
      "- AHT.PRF: No summary info found, symbol may be delisted\n",
      "Nonetype found for: AHT.PRF\n",
      "2.3555822372436523\n",
      "Producing data for:  AHT.PRG\n",
      "AHT.PRG: No data found, symbol may be delisted\n",
      "- AHT.PRG: No summary info found, symbol may be delisted\n",
      "Nonetype found for: AHT.PRG\n",
      "2.3936097621917725\n",
      "Producing data for:  ASH\n"
     ]
    },
    {
     "name": "stderr",
     "output_type": "stream",
     "text": [
      "<ipython-input-3-1956285887a8>:67: FutureWarning: The frame.append method is deprecated and will be removed from pandas in a future version. Use pandas.concat instead.\n",
      "  value_invest = value_invest.append(\n"
     ]
    },
    {
     "name": "stdout",
     "output_type": "stream",
     "text": [
      "3.452608108520508\n",
      "Producing data for:  APB\n",
      "APB: No data found for this date range, symbol may be delisted\n",
      "Couldnt find key for: APB\n",
      "3.2774386405944824\n",
      "Producing data for:  GRR\n",
      "GRR: No data found for this date range, symbol may be delisted\n",
      "Couldnt find key for: GRR\n",
      "2.473548650741577\n",
      "Producing data for:  ASPN\n",
      "Couldnt find key for: ASPN\n",
      "3.3733456134796143\n",
      "Producing data for:  AHL\n",
      "AHL: No data found for this date range, symbol may be delisted\n",
      "Couldnt find key for: AHL\n",
      "3.8897805213928223\n",
      "Producing data for:  AHL.PRB\n",
      "AHL.PRB: No data found, symbol may be delisted\n",
      "- AHL.PRB: No summary info found, symbol may be delisted\n",
      "Nonetype found for: AHL.PRB\n",
      "2.049287796020508\n",
      "Producing data for:  AHL.PRC\n",
      "AHL.PRC: No data found, symbol may be delisted\n",
      "- AHL.PRC: No summary info found, symbol may be delisted\n",
      "Nonetype found for: AHL.PRC\n",
      "1.826300859451294\n",
      "Producing data for:  AHL.PRD\n",
      "AHL.PRD: No data found, symbol may be delisted\n",
      "- AHL.PRD: No summary info found, symbol may be delisted\n",
      "Nonetype found for: AHL.PRD\n",
      "1.8802196979522705\n",
      "Producing data for:  ASB\n"
     ]
    },
    {
     "name": "stderr",
     "output_type": "stream",
     "text": [
      "<ipython-input-3-1956285887a8>:67: FutureWarning: The frame.append method is deprecated and will be removed from pandas in a future version. Use pandas.concat instead.\n",
      "  value_invest = value_invest.append(\n"
     ]
    },
    {
     "name": "stdout",
     "output_type": "stream",
     "text": [
      "2.889080047607422\n",
      "Producing data for:  ASB.PRC\n",
      "ASB.PRC: No data found, symbol may be delisted\n",
      "- ASB.PRC: No summary info found, symbol may be delisted\n",
      "Nonetype found for: ASB.PRC\n",
      "2.478163242340088\n",
      "Producing data for:  ASB.PRD\n",
      "ASB.PRD: No data found, symbol may be delisted\n",
      "- ASB.PRD: No summary info found, symbol may be delisted\n",
      "Nonetype found for: ASB.PRD\n",
      "1.7190759181976318\n",
      "Producing data for:  AC\n"
     ]
    },
    {
     "name": "stderr",
     "output_type": "stream",
     "text": [
      "<ipython-input-3-1956285887a8>:67: FutureWarning: The frame.append method is deprecated and will be removed from pandas in a future version. Use pandas.concat instead.\n",
      "  value_invest = value_invest.append(\n"
     ]
    },
    {
     "name": "stdout",
     "output_type": "stream",
     "text": [
      "3.8282227516174316\n",
      "Producing data for:  AIZ\n"
     ]
    },
    {
     "name": "stderr",
     "output_type": "stream",
     "text": [
      "<ipython-input-3-1956285887a8>:67: FutureWarning: The frame.append method is deprecated and will be removed from pandas in a future version. Use pandas.concat instead.\n",
      "  value_invest = value_invest.append(\n"
     ]
    },
    {
     "name": "stdout",
     "output_type": "stream",
     "text": [
      "2.5538129806518555\n",
      "Producing data for:  AGO\n"
     ]
    },
    {
     "name": "stderr",
     "output_type": "stream",
     "text": [
      "<ipython-input-3-1956285887a8>:67: FutureWarning: The frame.append method is deprecated and will be removed from pandas in a future version. Use pandas.concat instead.\n",
      "  value_invest = value_invest.append(\n"
     ]
    },
    {
     "name": "stdout",
     "output_type": "stream",
     "text": [
      "2.819478750228882\n",
      "Producing data for:  AGO.PRB\n",
      "AGO.PRB: No data found, symbol may be delisted\n",
      "- AGO.PRB: No summary info found, symbol may be delisted\n",
      "Nonetype found for: AGO.PRB\n",
      "2.440216541290283\n",
      "Producing data for:  AGO.PRE\n",
      "AGO.PRE: No data found, symbol may be delisted\n",
      "- AGO.PRE: No summary info found, symbol may be delisted\n",
      "Nonetype found for: AGO.PRE\n",
      "1.7263598442077637\n",
      "Producing data for:  AGO.PRF\n",
      "AGO.PRF: No data found, symbol may be delisted\n",
      "- AGO.PRF: No summary info found, symbol may be delisted\n",
      "Nonetype found for: AGO.PRF\n",
      "2.46484112739563\n",
      "Producing data for:  AF\n",
      "AF: No data found for this date range, symbol may be delisted\n",
      "Couldnt find key for: AF\n",
      "1.9858109951019287\n",
      "Producing data for:  AF.PRC\n",
      "AF.PRC: No data found, symbol may be delisted\n",
      "- AF.PRC: No summary info found, symbol may be delisted\n",
      "Nonetype found for: AF.PRC\n",
      "1.7419991493225098\n",
      "Producing data for:  AZN\n"
     ]
    },
    {
     "name": "stderr",
     "output_type": "stream",
     "text": [
      "<ipython-input-3-1956285887a8>:67: FutureWarning: The frame.append method is deprecated and will be removed from pandas in a future version. Use pandas.concat instead.\n",
      "  value_invest = value_invest.append(\n"
     ]
    },
    {
     "name": "stdout",
     "output_type": "stream",
     "text": [
      "3.967973470687866\n",
      "Producing data for:  T\n",
      "Couldnt find key for: T\n",
      "3.111541271209717\n",
      "Producing data for:  HOME\n",
      "HOME: No data found, symbol may be delisted\n",
      "Nonetype found for: HOME\n",
      "1.8906216621398926\n",
      "Producing data for:  ATTO\n",
      "Couldnt find key for: ATTO\n",
      "3.3638994693756104\n",
      "Producing data for:  ATH\n",
      "ATH: No data found, symbol may be delisted\n",
      "- ATH: No summary info found, symbol may be delisted\n",
      "Nonetype found for: ATH\n",
      "1.5597491264343262\n",
      "Producing data for:  ATKR\n"
     ]
    },
    {
     "name": "stderr",
     "output_type": "stream",
     "text": [
      "<ipython-input-3-1956285887a8>:67: FutureWarning: The frame.append method is deprecated and will be removed from pandas in a future version. Use pandas.concat instead.\n",
      "  value_invest = value_invest.append(\n"
     ]
    },
    {
     "name": "stdout",
     "output_type": "stream",
     "text": [
      "3.0514252185821533\n",
      "Producing data for:  AT\n",
      "AT: No data found, symbol may be delisted\n",
      "- AT: No summary info found, symbol may be delisted\n",
      "Nonetype found for: AT\n",
      "1.6156988143920898\n",
      "Producing data for:  ATO\n"
     ]
    },
    {
     "name": "stderr",
     "output_type": "stream",
     "text": [
      "<ipython-input-3-1956285887a8>:67: FutureWarning: The frame.append method is deprecated and will be removed from pandas in a future version. Use pandas.concat instead.\n",
      "  value_invest = value_invest.append(\n"
     ]
    },
    {
     "name": "stdout",
     "output_type": "stream",
     "text": [
      "4.028538227081299\n",
      "Producing data for:  AUO\n",
      "AUO: No data found, symbol may be delisted\n",
      "- AUO: No summary info found, symbol may be delisted\n",
      "Nonetype found for: AUO\n",
      "1.5372850894927979\n",
      "Producing data for:  AUD\n",
      "Couldnt find key for: AUD\n",
      "2.7954821586608887\n",
      "Producing data for:  ATHM\n"
     ]
    },
    {
     "name": "stderr",
     "output_type": "stream",
     "text": [
      "<ipython-input-3-1956285887a8>:67: FutureWarning: The frame.append method is deprecated and will be removed from pandas in a future version. Use pandas.concat instead.\n",
      "  value_invest = value_invest.append(\n"
     ]
    },
    {
     "name": "stdout",
     "output_type": "stream",
     "text": [
      "1.956352710723877\n",
      "Producing data for:  ALV\n"
     ]
    },
    {
     "name": "stderr",
     "output_type": "stream",
     "text": [
      "<ipython-input-3-1956285887a8>:67: FutureWarning: The frame.append method is deprecated and will be removed from pandas in a future version. Use pandas.concat instead.\n",
      "  value_invest = value_invest.append(\n"
     ]
    },
    {
     "name": "stdout",
     "output_type": "stream",
     "text": [
      "3.757343292236328\n",
      "Producing data for:  AN\n"
     ]
    },
    {
     "name": "stderr",
     "output_type": "stream",
     "text": [
      "<ipython-input-3-1956285887a8>:67: FutureWarning: The frame.append method is deprecated and will be removed from pandas in a future version. Use pandas.concat instead.\n",
      "  value_invest = value_invest.append(\n"
     ]
    },
    {
     "name": "stdout",
     "output_type": "stream",
     "text": [
      "3.157026767730713\n",
      "Producing data for:  AZO\n"
     ]
    },
    {
     "name": "stderr",
     "output_type": "stream",
     "text": [
      "<ipython-input-3-1956285887a8>:67: FutureWarning: The frame.append method is deprecated and will be removed from pandas in a future version. Use pandas.concat instead.\n",
      "  value_invest = value_invest.append(\n"
     ]
    },
    {
     "name": "stdout",
     "output_type": "stream",
     "text": [
      "3.762819290161133\n",
      "Producing data for:  AVB\n",
      "Nonetype found for: AVB\n",
      "3.2238380908966064\n",
      "Producing data for:  AGR\n"
     ]
    },
    {
     "name": "stderr",
     "output_type": "stream",
     "text": [
      "<ipython-input-3-1956285887a8>:67: FutureWarning: The frame.append method is deprecated and will be removed from pandas in a future version. Use pandas.concat instead.\n",
      "  value_invest = value_invest.append(\n"
     ]
    },
    {
     "name": "stdout",
     "output_type": "stream",
     "text": [
      "2.6842501163482666\n",
      "Producing data for:  ACP\n",
      "Couldnt find key for: ACP\n",
      "2.8813018798828125\n",
      "Producing data for:  AVY\n"
     ]
    },
    {
     "name": "stderr",
     "output_type": "stream",
     "text": [
      "<ipython-input-3-1956285887a8>:67: FutureWarning: The frame.append method is deprecated and will be removed from pandas in a future version. Use pandas.concat instead.\n",
      "  value_invest = value_invest.append(\n"
     ]
    },
    {
     "name": "stdout",
     "output_type": "stream",
     "text": [
      "4.213143587112427\n",
      "Producing data for:  AVH\n",
      "AVH: No data found, symbol may be delisted\n",
      "- AVH: No summary info found, symbol may be delisted\n",
      "Nonetype found for: AVH\n",
      "1.8889055252075195\n",
      "Producing data for:  AVA\n"
     ]
    },
    {
     "name": "stderr",
     "output_type": "stream",
     "text": [
      "<ipython-input-3-1956285887a8>:67: FutureWarning: The frame.append method is deprecated and will be removed from pandas in a future version. Use pandas.concat instead.\n",
      "  value_invest = value_invest.append(\n"
     ]
    },
    {
     "name": "stdout",
     "output_type": "stream",
     "text": [
      "1.7661805152893066\n",
      "Producing data for:  AVT\n"
     ]
    },
    {
     "name": "stderr",
     "output_type": "stream",
     "text": [
      "<ipython-input-3-1956285887a8>:67: FutureWarning: The frame.append method is deprecated and will be removed from pandas in a future version. Use pandas.concat instead.\n",
      "  value_invest = value_invest.append(\n"
     ]
    },
    {
     "name": "stdout",
     "output_type": "stream",
     "text": [
      "2.401505708694458\n",
      "Producing data for:  AVP\n",
      "AVP: No data found, symbol may be delisted\n",
      "- AVP: No summary info found, symbol may be delisted\n",
      "Nonetype found for: AVP\n",
      "1.5118706226348877\n",
      "Producing data for:  AVX\n",
      "AVX: No data found, symbol may be delisted\n",
      "- AVX: No summary info found, symbol may be delisted\n",
      "Nonetype found for: AVX\n",
      "1.5519871711730957\n",
      "Producing data for:  AXTA\n",
      "Nonetype found for: AXTA\n",
      "2.6034560203552246\n",
      "Producing data for:  AXS\n"
     ]
    },
    {
     "name": "stderr",
     "output_type": "stream",
     "text": [
      "<ipython-input-3-1956285887a8>:67: FutureWarning: The frame.append method is deprecated and will be removed from pandas in a future version. Use pandas.concat instead.\n",
      "  value_invest = value_invest.append(\n"
     ]
    },
    {
     "name": "stdout",
     "output_type": "stream",
     "text": [
      "3.0771732330322266\n",
      "Producing data for:  AXS.PRC\n",
      "AXS.PRC: No data found, symbol may be delisted\n",
      "- AXS.PRC: No summary info found, symbol may be delisted\n",
      "Nonetype found for: AXS.PRC\n",
      "1.7120060920715332\n",
      "Producing data for:  AXS.PRD\n",
      "AXS.PRD: No data found, symbol may be delisted\n",
      "- AXS.PRD: No summary info found, symbol may be delisted\n",
      "Nonetype found for: AXS.PRD\n",
      "1.5102951526641846\n",
      "Producing data for:  AXS.PRE\n",
      "AXS.PRE: No data found, symbol may be delisted\n",
      "- AXS.PRE: No summary info found, symbol may be delisted\n",
      "Nonetype found for: AXS.PRE\n",
      "1.809476613998413\n",
      "Producing data for:  AXON\n",
      "Nonetype found for: AXON\n",
      "1.9135105609893799\n",
      "Producing data for:  AZRE\n",
      "Couldnt find key for: AZRE\n",
      "3.510626792907715\n",
      "Producing data for:  AZZ\n"
     ]
    },
    {
     "name": "stderr",
     "output_type": "stream",
     "text": [
      "<ipython-input-3-1956285887a8>:67: FutureWarning: The frame.append method is deprecated and will be removed from pandas in a future version. Use pandas.concat instead.\n",
      "  value_invest = value_invest.append(\n"
     ]
    },
    {
     "name": "stdout",
     "output_type": "stream",
     "text": [
      "2.0505425930023193\n",
      "Producing data for:  BGS\n"
     ]
    },
    {
     "name": "stderr",
     "output_type": "stream",
     "text": [
      "<ipython-input-3-1956285887a8>:67: FutureWarning: The frame.append method is deprecated and will be removed from pandas in a future version. Use pandas.concat instead.\n",
      "  value_invest = value_invest.append(\n"
     ]
    },
    {
     "name": "stdout",
     "output_type": "stream",
     "text": [
      "3.5615782737731934\n",
      "Producing data for:  BWC\n",
      "Nonetype found for: BWC\n",
      "2.589139699935913\n",
      "Producing data for:  MCI\n",
      "Nonetype found for: MCI\n",
      "3.917438268661499\n",
      "Producing data for:  BMI\n"
     ]
    },
    {
     "name": "stderr",
     "output_type": "stream",
     "text": [
      "<ipython-input-3-1956285887a8>:67: FutureWarning: The frame.append method is deprecated and will be removed from pandas in a future version. Use pandas.concat instead.\n",
      "  value_invest = value_invest.append(\n"
     ]
    },
    {
     "name": "stdout",
     "output_type": "stream",
     "text": [
      "3.38742995262146\n",
      "Producing data for:  BKR\n"
     ]
    },
    {
     "name": "stderr",
     "output_type": "stream",
     "text": [
      "<ipython-input-3-1956285887a8>:67: FutureWarning: The frame.append method is deprecated and will be removed from pandas in a future version. Use pandas.concat instead.\n",
      "  value_invest = value_invest.append(\n"
     ]
    },
    {
     "name": "stdout",
     "output_type": "stream",
     "text": [
      "4.329297780990601\n",
      "Producing data for:  BLL\n",
      "BLL: No data found, symbol may be delisted\n",
      "- BLL: No summary info found, symbol may be delisted\n",
      "Nonetype found for: BLL\n",
      "1.5064589977264404\n",
      "Producing data for:  BYI\n",
      "BYI: No data found for this date range, symbol may be delisted\n",
      "Couldnt find key for: BYI\n",
      "3.567107677459717\n",
      "Producing data for:  BALT\n",
      "Couldnt find key for: BALT\n",
      "2.010754108428955\n",
      "Producing data for:  BANC\n"
     ]
    },
    {
     "name": "stderr",
     "output_type": "stream",
     "text": [
      "<ipython-input-3-1956285887a8>:67: FutureWarning: The frame.append method is deprecated and will be removed from pandas in a future version. Use pandas.concat instead.\n",
      "  value_invest = value_invest.append(\n"
     ]
    },
    {
     "name": "stdout",
     "output_type": "stream",
     "text": [
      "2.9578144550323486\n",
      "Producing data for:  BBVA\n"
     ]
    },
    {
     "name": "stderr",
     "output_type": "stream",
     "text": [
      "<ipython-input-3-1956285887a8>:67: FutureWarning: The frame.append method is deprecated and will be removed from pandas in a future version. Use pandas.concat instead.\n",
      "  value_invest = value_invest.append(\n"
     ]
    },
    {
     "name": "stdout",
     "output_type": "stream",
     "text": [
      "2.165661096572876\n",
      "Producing data for:  BBD\n"
     ]
    },
    {
     "name": "stderr",
     "output_type": "stream",
     "text": [
      "<ipython-input-3-1956285887a8>:67: FutureWarning: The frame.append method is deprecated and will be removed from pandas in a future version. Use pandas.concat instead.\n",
      "  value_invest = value_invest.append(\n"
     ]
    },
    {
     "name": "stdout",
     "output_type": "stream",
     "text": [
      "2.844644069671631\n",
      "Producing data for:  BCH\n"
     ]
    },
    {
     "name": "stderr",
     "output_type": "stream",
     "text": [
      "<ipython-input-3-1956285887a8>:67: FutureWarning: The frame.append method is deprecated and will be removed from pandas in a future version. Use pandas.concat instead.\n",
      "  value_invest = value_invest.append(\n"
     ]
    },
    {
     "name": "stdout",
     "output_type": "stream",
     "text": [
      "2.3829407691955566\n",
      "Producing data for:  BLX\n"
     ]
    },
    {
     "name": "stderr",
     "output_type": "stream",
     "text": [
      "<ipython-input-3-1956285887a8>:67: FutureWarning: The frame.append method is deprecated and will be removed from pandas in a future version. Use pandas.concat instead.\n",
      "  value_invest = value_invest.append(\n"
     ]
    },
    {
     "name": "stdout",
     "output_type": "stream",
     "text": [
      "3.778233528137207\n",
      "Producing data for:  BMA\n"
     ]
    },
    {
     "name": "stderr",
     "output_type": "stream",
     "text": [
      "<ipython-input-3-1956285887a8>:67: FutureWarning: The frame.append method is deprecated and will be removed from pandas in a future version. Use pandas.concat instead.\n",
      "  value_invest = value_invest.append(\n"
     ]
    },
    {
     "name": "stdout",
     "output_type": "stream",
     "text": [
      "3.7667236328125\n",
      "Producing data for:  SAN\n"
     ]
    },
    {
     "name": "stderr",
     "output_type": "stream",
     "text": [
      "<ipython-input-3-1956285887a8>:67: FutureWarning: The frame.append method is deprecated and will be removed from pandas in a future version. Use pandas.concat instead.\n",
      "  value_invest = value_invest.append(\n"
     ]
    },
    {
     "name": "stdout",
     "output_type": "stream",
     "text": [
      "3.240248680114746\n",
      "Producing data for:  BSBR\n"
     ]
    },
    {
     "name": "stderr",
     "output_type": "stream",
     "text": [
      "<ipython-input-3-1956285887a8>:67: FutureWarning: The frame.append method is deprecated and will be removed from pandas in a future version. Use pandas.concat instead.\n",
      "  value_invest = value_invest.append(\n"
     ]
    },
    {
     "name": "stdout",
     "output_type": "stream",
     "text": [
      "2.5935816764831543\n",
      "Producing data for:  BSAC\n"
     ]
    },
    {
     "name": "stderr",
     "output_type": "stream",
     "text": [
      "<ipython-input-3-1956285887a8>:67: FutureWarning: The frame.append method is deprecated and will be removed from pandas in a future version. Use pandas.concat instead.\n",
      "  value_invest = value_invest.append(\n"
     ]
    },
    {
     "name": "stdout",
     "output_type": "stream",
     "text": [
      "2.7525224685668945\n",
      "Producing data for:  CIB\n",
      "Nonetype found for: CIB\n",
      "2.217524290084839\n",
      "Producing data for:  BXS\n",
      "BXS: No data found, symbol may be delisted\n",
      "- BXS: No summary info found, symbol may be delisted\n",
      "Nonetype found for: BXS\n",
      "1.749995470046997\n",
      "Producing data for:  BAC\n"
     ]
    },
    {
     "name": "stderr",
     "output_type": "stream",
     "text": [
      "<ipython-input-3-1956285887a8>:67: FutureWarning: The frame.append method is deprecated and will be removed from pandas in a future version. Use pandas.concat instead.\n",
      "  value_invest = value_invest.append(\n"
     ]
    },
    {
     "name": "stdout",
     "output_type": "stream",
     "text": [
      "3.0707578659057617\n",
      "Producing data for:  BOH\n"
     ]
    },
    {
     "name": "stderr",
     "output_type": "stream",
     "text": [
      "<ipython-input-3-1956285887a8>:67: FutureWarning: The frame.append method is deprecated and will be removed from pandas in a future version. Use pandas.concat instead.\n",
      "  value_invest = value_invest.append(\n"
     ]
    },
    {
     "name": "stdout",
     "output_type": "stream",
     "text": [
      "3.9381561279296875\n",
      "Producing data for:  BK\n"
     ]
    },
    {
     "name": "stderr",
     "output_type": "stream",
     "text": [
      "<ipython-input-3-1956285887a8>:67: FutureWarning: The frame.append method is deprecated and will be removed from pandas in a future version. Use pandas.concat instead.\n",
      "  value_invest = value_invest.append(\n"
     ]
    },
    {
     "name": "stdout",
     "output_type": "stream",
     "text": [
      "3.243896007537842\n",
      "Producing data for:  BNS\n"
     ]
    },
    {
     "name": "stderr",
     "output_type": "stream",
     "text": [
      "<ipython-input-3-1956285887a8>:67: FutureWarning: The frame.append method is deprecated and will be removed from pandas in a future version. Use pandas.concat instead.\n",
      "  value_invest = value_invest.append(\n"
     ]
    },
    {
     "name": "stdout",
     "output_type": "stream",
     "text": [
      "2.417429208755493\n",
      "Producing data for:  RATE\n",
      "Couldnt find key for: RATE\n",
      "2.9786136150360107\n",
      "Producing data for:  BKU\n"
     ]
    },
    {
     "name": "stderr",
     "output_type": "stream",
     "text": [
      "<ipython-input-3-1956285887a8>:67: FutureWarning: The frame.append method is deprecated and will be removed from pandas in a future version. Use pandas.concat instead.\n",
      "  value_invest = value_invest.append(\n"
     ]
    },
    {
     "name": "stdout",
     "output_type": "stream",
     "text": [
      "4.077219724655151\n",
      "Producing data for:  BCS\n"
     ]
    },
    {
     "name": "stderr",
     "output_type": "stream",
     "text": [
      "<ipython-input-3-1956285887a8>:67: FutureWarning: The frame.append method is deprecated and will be removed from pandas in a future version. Use pandas.concat instead.\n",
      "  value_invest = value_invest.append(\n"
     ]
    },
    {
     "name": "stdout",
     "output_type": "stream",
     "text": [
      "4.024815797805786\n",
      "Producing data for:  B\n"
     ]
    },
    {
     "name": "stderr",
     "output_type": "stream",
     "text": [
      "<ipython-input-3-1956285887a8>:67: FutureWarning: The frame.append method is deprecated and will be removed from pandas in a future version. Use pandas.concat instead.\n",
      "  value_invest = value_invest.append(\n"
     ]
    },
    {
     "name": "stdout",
     "output_type": "stream",
     "text": [
      "2.9017157554626465\n",
      "Producing data for:  CUDA\n",
      "CUDA: No data found for this date range, symbol may be delisted\n",
      "Couldnt find key for: CUDA\n",
      "2.157289505004883\n",
      "Producing data for:  ABX\n",
      "ABX: No data found for this date range, symbol may be delisted\n",
      "Couldnt find key for: ABX\n",
      "2.179044246673584\n",
      "Producing data for:  BAS\n",
      "BAS: No data found, symbol may be delisted\n",
      "- BAS: No summary info found, symbol may be delisted\n",
      "Nonetype found for: BAS\n",
      "1.885472297668457\n",
      "Producing data for:  BAX\n"
     ]
    },
    {
     "name": "stderr",
     "output_type": "stream",
     "text": [
      "<ipython-input-3-1956285887a8>:67: FutureWarning: The frame.append method is deprecated and will be removed from pandas in a future version. Use pandas.concat instead.\n",
      "  value_invest = value_invest.append(\n"
     ]
    },
    {
     "name": "stdout",
     "output_type": "stream",
     "text": [
      "3.8598153591156006\n",
      "Producing data for:  BTE\n",
      "BTE: No data found, symbol may be delisted\n",
      "- BTE: No summary info found, symbol may be delisted\n",
      "Nonetype found for: BTE\n",
      "2.131849527359009\n",
      "Producing data for:  BFR\n",
      "BFR: No data found, symbol may be delisted\n",
      "- BFR: No summary info found, symbol may be delisted\n",
      "Nonetype found for: BFR\n",
      "1.4527781009674072\n",
      "Producing data for:  BBX\n",
      "BBX: No data found, symbol may be delisted\n",
      "- BBX: No summary info found, symbol may be delisted\n",
      "Nonetype found for: BBX\n",
      "1.5141916275024414\n",
      "Producing data for:  BCE\n"
     ]
    },
    {
     "name": "stderr",
     "output_type": "stream",
     "text": [
      "<ipython-input-3-1956285887a8>:67: FutureWarning: The frame.append method is deprecated and will be removed from pandas in a future version. Use pandas.concat instead.\n",
      "  value_invest = value_invest.append(\n"
     ]
    },
    {
     "name": "stdout",
     "output_type": "stream",
     "text": [
      "2.3866376876831055\n",
      "Producing data for:  BZH\n"
     ]
    },
    {
     "name": "stderr",
     "output_type": "stream",
     "text": [
      "<ipython-input-3-1956285887a8>:67: FutureWarning: The frame.append method is deprecated and will be removed from pandas in a future version. Use pandas.concat instead.\n",
      "  value_invest = value_invest.append(\n"
     ]
    },
    {
     "name": "stdout",
     "output_type": "stream",
     "text": [
      "3.9682533740997314\n",
      "Producing data for:  BDX\n"
     ]
    },
    {
     "name": "stderr",
     "output_type": "stream",
     "text": [
      "<ipython-input-3-1956285887a8>:67: FutureWarning: The frame.append method is deprecated and will be removed from pandas in a future version. Use pandas.concat instead.\n",
      "  value_invest = value_invest.append(\n"
     ]
    },
    {
     "name": "stdout",
     "output_type": "stream",
     "text": [
      "2.8766684532165527\n",
      "Producing data for:  BDC\n",
      "Couldnt find key for: BDC\n",
      "3.2867748737335205\n",
      "Producing data for:  BEL\n",
      "BEL: No data found, symbol may be delisted\n",
      "- BEL: No summary info found, symbol may be delisted\n",
      "Nonetype found for: BEL\n",
      "2.1485137939453125\n",
      "Producing data for:  BMS\n",
      "BMS: No data found for this date range, symbol may be delisted\n",
      "Couldnt find key for: BMS\n",
      "2.4042186737060547\n",
      "Producing data for:  BHE\n"
     ]
    },
    {
     "name": "stderr",
     "output_type": "stream",
     "text": [
      "<ipython-input-3-1956285887a8>:67: FutureWarning: The frame.append method is deprecated and will be removed from pandas in a future version. Use pandas.concat instead.\n",
      "  value_invest = value_invest.append(\n"
     ]
    },
    {
     "name": "stdout",
     "output_type": "stream",
     "text": [
      "2.6399052143096924\n",
      "Producing data for:  BRK.A & BRK.B\n",
      "BRK.A & BRK.B: No data found, symbol may be delisted\n",
      "- BRK.A & BRK.B: No summary info found, symbol may be delisted\n",
      "Nonetype found for: BRK.A & BRK.B\n",
      "1.727935552597046\n",
      "Producing data for:  BHLB\n",
      "Couldnt find key for: BHLB\n",
      "3.5004727840423584\n",
      "Producing data for:  BERY\n"
     ]
    },
    {
     "name": "stderr",
     "output_type": "stream",
     "text": [
      "<ipython-input-3-1956285887a8>:67: FutureWarning: The frame.append method is deprecated and will be removed from pandas in a future version. Use pandas.concat instead.\n",
      "  value_invest = value_invest.append(\n"
     ]
    },
    {
     "name": "stdout",
     "output_type": "stream",
     "text": [
      "2.4651310443878174\n",
      "Producing data for:  BBY\n"
     ]
    },
    {
     "name": "stderr",
     "output_type": "stream",
     "text": [
      "<ipython-input-3-1956285887a8>:67: FutureWarning: The frame.append method is deprecated and will be removed from pandas in a future version. Use pandas.concat instead.\n",
      "  value_invest = value_invest.append(\n"
     ]
    },
    {
     "name": "stdout",
     "output_type": "stream",
     "text": [
      "2.840508460998535\n",
      "Producing data for:  BGCA\n",
      "BGCA: No data found, symbol may be delisted\n",
      "- BGCA: No summary info found, symbol may be delisted\n",
      "Nonetype found for: BGCA\n",
      "1.780029296875\n",
      "Producing data for:  BBL & BHP\n",
      "BBL & BHP: No data found, symbol may be delisted\n",
      "Nonetype found for: BBL & BHP\n",
      "1.4066152572631836\n",
      "Producing data for:  BIG\n"
     ]
    },
    {
     "name": "stderr",
     "output_type": "stream",
     "text": [
      "<ipython-input-3-1956285887a8>:67: FutureWarning: The frame.append method is deprecated and will be removed from pandas in a future version. Use pandas.concat instead.\n",
      "  value_invest = value_invest.append(\n"
     ]
    },
    {
     "name": "stdout",
     "output_type": "stream",
     "text": [
      "3.0724873542785645\n",
      "Producing data for:  BH\n",
      "Couldnt find key for: BH\n",
      "2.578474998474121\n",
      "Producing data for:  BBG\n",
      "BBG: No data found for this date range, symbol may be delisted\n",
      "Couldnt find key for: BBG\n",
      "2.088063955307007\n",
      "Producing data for:  BIO\n"
     ]
    },
    {
     "name": "stderr",
     "output_type": "stream",
     "text": [
      "<ipython-input-3-1956285887a8>:67: FutureWarning: The frame.append method is deprecated and will be removed from pandas in a future version. Use pandas.concat instead.\n",
      "  value_invest = value_invest.append(\n"
     ]
    },
    {
     "name": "stdout",
     "output_type": "stream",
     "text": [
      "3.1334800720214844\n",
      "Producing data for:  BIOA\n",
      "BIOA: No data found for this date range, symbol may be delisted\n",
      "Nonetype found for: BIOA\n",
      "1.8927288055419922\n",
      "Producing data for:  BMR\n",
      "BMR: No data found, symbol may be delisted\n",
      "- BMR: No summary info found, symbol may be delisted\n",
      "Nonetype found for: BMR\n",
      "1.6325039863586426\n",
      "Producing data for:  BITA\n",
      "BITA: No data found, symbol may be delisted\n",
      "- BITA: No summary info found, symbol may be delisted\n",
      "Nonetype found for: BITA\n",
      "1.8757953643798828\n",
      "Producing data for:  BKH\n"
     ]
    },
    {
     "name": "stderr",
     "output_type": "stream",
     "text": [
      "<ipython-input-3-1956285887a8>:67: FutureWarning: The frame.append method is deprecated and will be removed from pandas in a future version. Use pandas.concat instead.\n",
      "  value_invest = value_invest.append(\n"
     ]
    },
    {
     "name": "stdout",
     "output_type": "stream",
     "text": [
      "3.3494694232940674\n",
      "Producing data for:  BLK\n"
     ]
    },
    {
     "name": "stderr",
     "output_type": "stream",
     "text": [
      "<ipython-input-3-1956285887a8>:67: FutureWarning: The frame.append method is deprecated and will be removed from pandas in a future version. Use pandas.concat instead.\n",
      "  value_invest = value_invest.append(\n"
     ]
    },
    {
     "name": "stdout",
     "output_type": "stream",
     "text": [
      "3.050307035446167\n",
      "Producing data for:  BX\n"
     ]
    },
    {
     "name": "stderr",
     "output_type": "stream",
     "text": [
      "<ipython-input-3-1956285887a8>:67: FutureWarning: The frame.append method is deprecated and will be removed from pandas in a future version. Use pandas.concat instead.\n",
      "  value_invest = value_invest.append(\n"
     ]
    },
    {
     "name": "stdout",
     "output_type": "stream",
     "text": [
      "2.6900441646575928\n",
      "Producing data for:  BXMT\n"
     ]
    },
    {
     "name": "stderr",
     "output_type": "stream",
     "text": [
      "<ipython-input-3-1956285887a8>:67: FutureWarning: The frame.append method is deprecated and will be removed from pandas in a future version. Use pandas.concat instead.\n",
      "  value_invest = value_invest.append(\n"
     ]
    },
    {
     "name": "stdout",
     "output_type": "stream",
     "text": [
      "4.130986213684082\n",
      "Producing data for:  BLT\n",
      "BLT: No data found for this date range, symbol may be delisted\n",
      "Couldnt find key for: BLT\n",
      "2.922966957092285\n",
      "Producing data for:  BCRH\n",
      "BCRH: No data found, symbol may be delisted\n",
      "- BCRH: No summary info found, symbol may be delisted\n",
      "Nonetype found for: BCRH\n",
      "1.6497023105621338\n",
      "Producing data for:  BXC\n"
     ]
    },
    {
     "name": "stderr",
     "output_type": "stream",
     "text": [
      "<ipython-input-3-1956285887a8>:67: FutureWarning: The frame.append method is deprecated and will be removed from pandas in a future version. Use pandas.concat instead.\n",
      "  value_invest = value_invest.append(\n"
     ]
    },
    {
     "name": "stdout",
     "output_type": "stream",
     "text": [
      "2.4685792922973633\n",
      "Producing data for:  BTH\n",
      "BTH: No data found for this date range, symbol may be delisted\n",
      "Couldnt find key for: BTH\n",
      "2.282639503479004\n",
      "Producing data for:  BMO\n"
     ]
    },
    {
     "name": "stderr",
     "output_type": "stream",
     "text": [
      "<ipython-input-3-1956285887a8>:67: FutureWarning: The frame.append method is deprecated and will be removed from pandas in a future version. Use pandas.concat instead.\n",
      "  value_invest = value_invest.append(\n"
     ]
    },
    {
     "name": "stdout",
     "output_type": "stream",
     "text": [
      "2.4702749252319336\n",
      "Producing data for:  BA\n",
      "Couldnt find key for: BA\n",
      "1.926720142364502\n",
      "Producing data for:  BCC\n"
     ]
    },
    {
     "name": "stderr",
     "output_type": "stream",
     "text": [
      "<ipython-input-3-1956285887a8>:67: FutureWarning: The frame.append method is deprecated and will be removed from pandas in a future version. Use pandas.concat instead.\n",
      "  value_invest = value_invest.append(\n"
     ]
    },
    {
     "name": "stdout",
     "output_type": "stream",
     "text": [
      "2.944074869155884\n",
      "Producing data for:  BCEI\n",
      "BCEI: No data found, symbol may be delisted\n",
      "- BCEI: No summary info found, symbol may be delisted\n",
      "Nonetype found for: BCEI\n",
      "1.6946361064910889\n",
      "Producing data for:  BAH\n"
     ]
    },
    {
     "name": "stderr",
     "output_type": "stream",
     "text": [
      "<ipython-input-3-1956285887a8>:67: FutureWarning: The frame.append method is deprecated and will be removed from pandas in a future version. Use pandas.concat instead.\n",
      "  value_invest = value_invest.append(\n"
     ]
    },
    {
     "name": "stdout",
     "output_type": "stream",
     "text": [
      "2.072399854660034\n",
      "Producing data for:  BWA\n"
     ]
    },
    {
     "name": "stderr",
     "output_type": "stream",
     "text": [
      "<ipython-input-3-1956285887a8>:67: FutureWarning: The frame.append method is deprecated and will be removed from pandas in a future version. Use pandas.concat instead.\n",
      "  value_invest = value_invest.append(\n"
     ]
    },
    {
     "name": "stdout",
     "output_type": "stream",
     "text": [
      "2.7059521675109863\n",
      "Producing data for:  SAM\n",
      "Nonetype found for: SAM\n",
      "2.564776659011841\n",
      "Producing data for:  BXP\n"
     ]
    },
    {
     "name": "stderr",
     "output_type": "stream",
     "text": [
      "<ipython-input-3-1956285887a8>:67: FutureWarning: The frame.append method is deprecated and will be removed from pandas in a future version. Use pandas.concat instead.\n",
      "  value_invest = value_invest.append(\n"
     ]
    },
    {
     "name": "stdout",
     "output_type": "stream",
     "text": [
      "2.388272523880005\n",
      "Producing data for:  BSX\n"
     ]
    },
    {
     "name": "stderr",
     "output_type": "stream",
     "text": [
      "<ipython-input-3-1956285887a8>:67: FutureWarning: The frame.append method is deprecated and will be removed from pandas in a future version. Use pandas.concat instead.\n",
      "  value_invest = value_invest.append(\n"
     ]
    },
    {
     "name": "stdout",
     "output_type": "stream",
     "text": [
      "3.014629364013672\n",
      "Producing data for:  TEU\n",
      "TEU: No data found for this date range, symbol may be delisted\n",
      "Couldnt find key for: TEU\n",
      "2.5308966636657715\n",
      "Producing data for:  BYD\n"
     ]
    },
    {
     "name": "stderr",
     "output_type": "stream",
     "text": [
      "<ipython-input-3-1956285887a8>:67: FutureWarning: The frame.append method is deprecated and will be removed from pandas in a future version. Use pandas.concat instead.\n",
      "  value_invest = value_invest.append(\n"
     ]
    },
    {
     "name": "stdout",
     "output_type": "stream",
     "text": [
      "2.681807518005371\n",
      "Producing data for:  BP\n",
      "Couldnt find key for: BP\n",
      "2.914701223373413\n",
      "Producing data for:  BPT\n"
     ]
    },
    {
     "name": "stderr",
     "output_type": "stream",
     "text": [
      "<ipython-input-3-1956285887a8>:67: FutureWarning: The frame.append method is deprecated and will be removed from pandas in a future version. Use pandas.concat instead.\n",
      "  value_invest = value_invest.append(\n"
     ]
    },
    {
     "name": "stdout",
     "output_type": "stream",
     "text": [
      "2.1008949279785156\n",
      "Producing data for:  BPZ\n",
      "BPZ: No data found for this date range, symbol may be delisted\n",
      "- BPZ: No summary info found, symbol may be delisted\n",
      "Nonetype found for: BPZ\n",
      "8.307117700576782\n",
      "Producing data for:  BRC\n"
     ]
    },
    {
     "name": "stderr",
     "output_type": "stream",
     "text": [
      "<ipython-input-3-1956285887a8>:67: FutureWarning: The frame.append method is deprecated and will be removed from pandas in a future version. Use pandas.concat instead.\n",
      "  value_invest = value_invest.append(\n"
     ]
    },
    {
     "name": "stdout",
     "output_type": "stream",
     "text": [
      "2.988757610321045\n",
      "Producing data for:  BDN\n"
     ]
    },
    {
     "name": "stderr",
     "output_type": "stream",
     "text": [
      "<ipython-input-3-1956285887a8>:67: FutureWarning: The frame.append method is deprecated and will be removed from pandas in a future version. Use pandas.concat instead.\n",
      "  value_invest = value_invest.append(\n"
     ]
    },
    {
     "name": "stdout",
     "output_type": "stream",
     "text": [
      "2.334225654602051\n",
      "Producing data for:  LND\n"
     ]
    },
    {
     "name": "stderr",
     "output_type": "stream",
     "text": [
      "<ipython-input-3-1956285887a8>:67: FutureWarning: The frame.append method is deprecated and will be removed from pandas in a future version. Use pandas.concat instead.\n",
      "  value_invest = value_invest.append(\n"
     ]
    },
    {
     "name": "stdout",
     "output_type": "stream",
     "text": [
      "3.5836410522460938\n",
      "Producing data for:  BAK\n"
     ]
    },
    {
     "name": "stderr",
     "output_type": "stream",
     "text": [
      "<ipython-input-3-1956285887a8>:67: FutureWarning: The frame.append method is deprecated and will be removed from pandas in a future version. Use pandas.concat instead.\n",
      "  value_invest = value_invest.append(\n"
     ]
    },
    {
     "name": "stdout",
     "output_type": "stream",
     "text": [
      "3.3461830615997314\n",
      "Producing data for:  BRFS\n"
     ]
    },
    {
     "name": "stderr",
     "output_type": "stream",
     "text": [
      "<ipython-input-3-1956285887a8>:67: FutureWarning: The frame.append method is deprecated and will be removed from pandas in a future version. Use pandas.concat instead.\n",
      "  value_invest = value_invest.append(\n"
     ]
    },
    {
     "name": "stdout",
     "output_type": "stream",
     "text": [
      "4.267618179321289\n",
      "Producing data for:  BGG\n",
      "BGG: No data found, symbol may be delisted\n",
      "- BGG: No summary info found, symbol may be delisted\n",
      "Nonetype found for: BGG\n",
      "1.402315616607666\n",
      "Producing data for:  BFAM\n"
     ]
    },
    {
     "name": "stderr",
     "output_type": "stream",
     "text": [
      "<ipython-input-3-1956285887a8>:67: FutureWarning: The frame.append method is deprecated and will be removed from pandas in a future version. Use pandas.concat instead.\n",
      "  value_invest = value_invest.append(\n"
     ]
    },
    {
     "name": "stdout",
     "output_type": "stream",
     "text": [
      "2.640454053878784\n",
      "Producing data for:  EAT\n"
     ]
    },
    {
     "name": "stderr",
     "output_type": "stream",
     "text": [
      "<ipython-input-3-1956285887a8>:67: FutureWarning: The frame.append method is deprecated and will be removed from pandas in a future version. Use pandas.concat instead.\n",
      "  value_invest = value_invest.append(\n"
     ]
    },
    {
     "name": "stdout",
     "output_type": "stream",
     "text": [
      "2.338393211364746\n",
      "Producing data for:  BCO\n"
     ]
    },
    {
     "name": "stderr",
     "output_type": "stream",
     "text": [
      "<ipython-input-3-1956285887a8>:67: FutureWarning: The frame.append method is deprecated and will be removed from pandas in a future version. Use pandas.concat instead.\n",
      "  value_invest = value_invest.append(\n"
     ]
    },
    {
     "name": "stdout",
     "output_type": "stream",
     "text": [
      "2.7870354652404785\n",
      "Producing data for:  BMY\n",
      "Couldnt find key for: BMY\n",
      "3.030510663986206\n",
      "Producing data for:  BRS\n",
      "BRS: No data found, symbol may be delisted\n",
      "- BRS: No summary info found, symbol may be delisted\n",
      "Nonetype found for: BRS\n",
      "1.9243240356445312\n",
      "Producing data for:  BRX\n"
     ]
    },
    {
     "name": "stderr",
     "output_type": "stream",
     "text": [
      "<ipython-input-3-1956285887a8>:67: FutureWarning: The frame.append method is deprecated and will be removed from pandas in a future version. Use pandas.concat instead.\n",
      "  value_invest = value_invest.append(\n"
     ]
    },
    {
     "name": "stdout",
     "output_type": "stream",
     "text": [
      "2.6585443019866943\n",
      "Producing data for:  BR\n"
     ]
    },
    {
     "name": "stderr",
     "output_type": "stream",
     "text": [
      "<ipython-input-3-1956285887a8>:67: FutureWarning: The frame.append method is deprecated and will be removed from pandas in a future version. Use pandas.concat instead.\n",
      "  value_invest = value_invest.append(\n"
     ]
    },
    {
     "name": "stdout",
     "output_type": "stream",
     "text": [
      "1.8622987270355225\n",
      "Producing data for:  BKD\n",
      "Couldnt find key for: BKD\n",
      "2.0375962257385254\n",
      "Producing data for:  BAM\n",
      "Couldnt find key for: BAM\n",
      "3.4628357887268066\n",
      "Producing data for:  BOXC\n",
      "BOXC: No data found for this date range, symbol may be delisted\n",
      "Couldnt find key for: BOXC\n",
      "3.2863528728485107\n",
      "Producing data for:  BIP\n"
     ]
    },
    {
     "name": "stderr",
     "output_type": "stream",
     "text": [
      "<ipython-input-3-1956285887a8>:67: FutureWarning: The frame.append method is deprecated and will be removed from pandas in a future version. Use pandas.concat instead.\n",
      "  value_invest = value_invest.append(\n"
     ]
    },
    {
     "name": "stdout",
     "output_type": "stream",
     "text": [
      "3.6141891479492188\n",
      "Producing data for:  BPY\n",
      "BPY: No data found, symbol may be delisted\n",
      "- BPY: No summary info found, symbol may be delisted\n",
      "Nonetype found for: BPY\n",
      "2.2837469577789307\n",
      "Producing data for:  BEP\n",
      "Couldnt find key for: BEP\n",
      "3.8736073970794678\n",
      "Producing data for:  BRP\n",
      "Couldnt find key for: BRP\n",
      "3.636467218399048\n",
      "Producing data for:  BRO\n"
     ]
    },
    {
     "name": "stderr",
     "output_type": "stream",
     "text": [
      "<ipython-input-3-1956285887a8>:67: FutureWarning: The frame.append method is deprecated and will be removed from pandas in a future version. Use pandas.concat instead.\n",
      "  value_invest = value_invest.append(\n"
     ]
    },
    {
     "name": "stdout",
     "output_type": "stream",
     "text": [
      "2.7267725467681885\n",
      "Producing data for:  BF.A & BF.B\n",
      "BF.A & BF.B: No data found, symbol may be delisted\n",
      "- BF.A & BF.B: No summary info found, symbol may be delisted\n",
      "Nonetype found for: BF.A & BF.B\n",
      "1.733302354812622\n",
      "Producing data for:  BWS\n",
      "BWS: No data found for this date range, symbol may be delisted\n",
      "Couldnt find key for: BWS\n",
      "2.2002484798431396\n",
      "Producing data for:  BRT\n",
      "Couldnt find key for: BRT\n",
      "2.924454689025879\n",
      "Producing data for:  BC\n"
     ]
    },
    {
     "name": "stderr",
     "output_type": "stream",
     "text": [
      "<ipython-input-3-1956285887a8>:67: FutureWarning: The frame.append method is deprecated and will be removed from pandas in a future version. Use pandas.concat instead.\n",
      "  value_invest = value_invest.append(\n"
     ]
    },
    {
     "name": "stdout",
     "output_type": "stream",
     "text": [
      "2.7573025226593018\n",
      "Producing data for:  BT\n",
      "BT: No data found, symbol may be delisted\n",
      "- BT: No summary info found, symbol may be delisted\n",
      "Nonetype found for: BT\n",
      "1.5432288646697998\n",
      "Producing data for:  BPL\n",
      "BPL: No data found, symbol may be delisted\n",
      "- BPL: No summary info found, symbol may be delisted\n",
      "Nonetype found for: BPL\n",
      "1.7948062419891357\n",
      "Producing data for:  BKE\n"
     ]
    },
    {
     "name": "stderr",
     "output_type": "stream",
     "text": [
      "<ipython-input-3-1956285887a8>:67: FutureWarning: The frame.append method is deprecated and will be removed from pandas in a future version. Use pandas.concat instead.\n",
      "  value_invest = value_invest.append(\n"
     ]
    },
    {
     "name": "stdout",
     "output_type": "stream",
     "text": [
      "2.9653635025024414\n",
      "Producing data for:  BBW\n",
      "Couldnt find key for: BBW\n",
      "2.926854372024536\n",
      "Producing data for:  BG\n"
     ]
    },
    {
     "name": "stderr",
     "output_type": "stream",
     "text": [
      "<ipython-input-3-1956285887a8>:67: FutureWarning: The frame.append method is deprecated and will be removed from pandas in a future version. Use pandas.concat instead.\n",
      "  value_invest = value_invest.append(\n"
     ]
    },
    {
     "name": "stdout",
     "output_type": "stream",
     "text": [
      "1.9422314167022705\n",
      "Producing data for:  BURL\n",
      "Couldnt find key for: BURL\n",
      "2.347498893737793\n",
      "Producing data for:  BCR\n",
      "BCR: No data found for this date range, symbol may be delisted\n",
      "Couldnt find key for: BCR\n",
      "2.045334815979004\n",
      "Producing data for:  PFH\n",
      "Couldnt find key for: PFH\n",
      "2.757864475250244\n",
      "Producing data for:  CAB\n",
      "CAB: No data found for this date range, symbol may be delisted\n",
      "Couldnt find key for: CAB\n",
      "2.1134748458862305\n",
      "Producing data for:  CBT\n",
      "Couldnt find key for: CBT\n",
      "2.544668197631836\n",
      "Producing data for:  CTRA\n"
     ]
    },
    {
     "name": "stderr",
     "output_type": "stream",
     "text": [
      "<ipython-input-3-1956285887a8>:67: FutureWarning: The frame.append method is deprecated and will be removed from pandas in a future version. Use pandas.concat instead.\n",
      "  value_invest = value_invest.append(\n"
     ]
    },
    {
     "name": "stdout",
     "output_type": "stream",
     "text": [
      "1.7208850383758545\n",
      "Producing data for:  CACI\n"
     ]
    },
    {
     "name": "stderr",
     "output_type": "stream",
     "text": [
      "<ipython-input-3-1956285887a8>:67: FutureWarning: The frame.append method is deprecated and will be removed from pandas in a future version. Use pandas.concat instead.\n",
      "  value_invest = value_invest.append(\n"
     ]
    },
    {
     "name": "stdout",
     "output_type": "stream",
     "text": [
      "2.3356688022613525\n",
      "Producing data for:  CAE\n"
     ]
    },
    {
     "name": "stderr",
     "output_type": "stream",
     "text": [
      "<ipython-input-3-1956285887a8>:67: FutureWarning: The frame.append method is deprecated and will be removed from pandas in a future version. Use pandas.concat instead.\n",
      "  value_invest = value_invest.append(\n"
     ]
    },
    {
     "name": "stdout",
     "output_type": "stream",
     "text": [
      "3.729434013366699\n",
      "Producing data for:  CAP\n",
      "CAP: No data found, symbol may be delisted\n",
      "- CAP: No summary info found, symbol may be delisted\n",
      "Nonetype found for: CAP\n",
      "2.1945314407348633\n",
      "Producing data for:  DVR\n",
      "DVR: No data found for this date range, symbol may be delisted\n",
      "Couldnt find key for: DVR\n",
      "2.690725564956665\n",
      "Producing data for:  CCC\n",
      "CCC: No data found, symbol may be delisted\n",
      "- CCC: No summary info found, symbol may be delisted\n",
      "Nonetype found for: CCC\n",
      "1.4182701110839844\n",
      "Producing data for:  CWT\n"
     ]
    },
    {
     "name": "stderr",
     "output_type": "stream",
     "text": [
      "<ipython-input-3-1956285887a8>:67: FutureWarning: The frame.append method is deprecated and will be removed from pandas in a future version. Use pandas.concat instead.\n",
      "  value_invest = value_invest.append(\n"
     ]
    },
    {
     "name": "stdout",
     "output_type": "stream",
     "text": [
      "2.7885539531707764\n",
      "Producing data for:  CALX\n"
     ]
    },
    {
     "name": "stderr",
     "output_type": "stream",
     "text": [
      "<ipython-input-3-1956285887a8>:67: FutureWarning: The frame.append method is deprecated and will be removed from pandas in a future version. Use pandas.concat instead.\n",
      "  value_invest = value_invest.append(\n"
     ]
    },
    {
     "name": "stdout",
     "output_type": "stream",
     "text": [
      "3.458960771560669\n",
      "Producing data for:  ELY\n",
      "ELY: No data found, symbol may be delisted\n",
      "- ELY: No summary info found, symbol may be delisted\n",
      "Nonetype found for: ELY\n",
      "1.6518454551696777\n",
      "Producing data for:  CPE\n",
      "Couldnt find key for: CPE\n",
      "3.817282199859619\n",
      "Producing data for:  CPN\n",
      "CPN: No data found, symbol may be delisted\n",
      "Couldnt find key for: CPN\n",
      "2.0511698722839355\n",
      "Producing data for:  CBM\n",
      "CBM: No data found, symbol may be delisted\n",
      "- CBM: No summary info found, symbol may be delisted\n",
      "Nonetype found for: CBM\n",
      "2.8826119899749756\n",
      "Producing data for:  CPT\n"
     ]
    },
    {
     "name": "stderr",
     "output_type": "stream",
     "text": [
      "<ipython-input-3-1956285887a8>:67: FutureWarning: The frame.append method is deprecated and will be removed from pandas in a future version. Use pandas.concat instead.\n",
      "  value_invest = value_invest.append(\n"
     ]
    },
    {
     "name": "stdout",
     "output_type": "stream",
     "text": [
      "3.211995840072632\n",
      "Producing data for:  CCJ\n",
      "Couldnt find key for: CCJ\n",
      "2.768354892730713\n",
      "Producing data for:  CAM\n",
      "CAM: No data found for this date range, symbol may be delisted\n",
      "Couldnt find key for: CAM\n",
      "2.044736862182617\n",
      "Producing data for:  CPB\n"
     ]
    },
    {
     "name": "stderr",
     "output_type": "stream",
     "text": [
      "<ipython-input-3-1956285887a8>:67: FutureWarning: The frame.append method is deprecated and will be removed from pandas in a future version. Use pandas.concat instead.\n",
      "  value_invest = value_invest.append(\n"
     ]
    },
    {
     "name": "stdout",
     "output_type": "stream",
     "text": [
      "3.4907259941101074\n",
      "Producing data for:  CCG\n",
      "CCG: No data found for this date range, symbol may be delisted\n",
      "Couldnt find key for: CCG\n",
      "1.7758502960205078\n",
      "Producing data for:  GOOS\n"
     ]
    },
    {
     "name": "stderr",
     "output_type": "stream",
     "text": [
      "<ipython-input-3-1956285887a8>:67: FutureWarning: The frame.append method is deprecated and will be removed from pandas in a future version. Use pandas.concat instead.\n",
      "  value_invest = value_invest.append(\n"
     ]
    },
    {
     "name": "stdout",
     "output_type": "stream",
     "text": [
      "3.2647998332977295\n",
      "Producing data for:  CM\n",
      "Nonetype found for: CM\n",
      "2.0159475803375244\n",
      "Producing data for:  CNI\n"
     ]
    },
    {
     "name": "stderr",
     "output_type": "stream",
     "text": [
      "<ipython-input-3-1956285887a8>:67: FutureWarning: The frame.append method is deprecated and will be removed from pandas in a future version. Use pandas.concat instead.\n",
      "  value_invest = value_invest.append(\n"
     ]
    },
    {
     "name": "stdout",
     "output_type": "stream",
     "text": [
      "1.9244358539581299\n",
      "Producing data for:  CNQ\n"
     ]
    },
    {
     "name": "stderr",
     "output_type": "stream",
     "text": [
      "<ipython-input-3-1956285887a8>:67: FutureWarning: The frame.append method is deprecated and will be removed from pandas in a future version. Use pandas.concat instead.\n",
      "  value_invest = value_invest.append(\n"
     ]
    },
    {
     "name": "stdout",
     "output_type": "stream",
     "text": [
      "1.8384859561920166\n",
      "Producing data for:  CP\n"
     ]
    },
    {
     "name": "stderr",
     "output_type": "stream",
     "text": [
      "<ipython-input-3-1956285887a8>:67: FutureWarning: The frame.append method is deprecated and will be removed from pandas in a future version. Use pandas.concat instead.\n",
      "  value_invest = value_invest.append(\n"
     ]
    },
    {
     "name": "stdout",
     "output_type": "stream",
     "text": [
      "2.9337120056152344\n",
      "Producing data for:  CAJ\n"
     ]
    },
    {
     "name": "stderr",
     "output_type": "stream",
     "text": [
      "<ipython-input-3-1956285887a8>:67: FutureWarning: The frame.append method is deprecated and will be removed from pandas in a future version. Use pandas.concat instead.\n",
      "  value_invest = value_invest.append(\n"
     ]
    },
    {
     "name": "stdout",
     "output_type": "stream",
     "text": [
      "4.0855724811553955\n",
      "Producing data for:  CGC\n",
      "Couldnt find key for: CGC\n",
      "2.0016441345214844\n",
      "Producing data for:  CMN\n",
      "CMN: No data found for this date range, symbol may be delisted\n",
      "Couldnt find key for: CMN\n",
      "3.4546103477478027\n",
      "Producing data for:  COF\n"
     ]
    },
    {
     "name": "stderr",
     "output_type": "stream",
     "text": [
      "<ipython-input-3-1956285887a8>:67: FutureWarning: The frame.append method is deprecated and will be removed from pandas in a future version. Use pandas.concat instead.\n",
      "  value_invest = value_invest.append(\n"
     ]
    },
    {
     "name": "stdout",
     "output_type": "stream",
     "text": [
      "2.619835615158081\n",
      "Producing data for:  CSU\n",
      "CSU: No data found, symbol may be delisted\n",
      "- CSU: No summary info found, symbol may be delisted\n",
      "Nonetype found for: CSU\n",
      "2.6568827629089355\n",
      "Producing data for:  CLA\n",
      "CLA: No data found, symbol may be delisted\n",
      "- CLA: No summary info found, symbol may be delisted\n",
      "Nonetype found for: CLA\n",
      "1.812093734741211\n",
      "Producing data for:  CMO\n",
      "CMO: No data found, symbol may be delisted\n",
      "- CMO: No summary info found, symbol may be delisted\n",
      "Nonetype found for: CMO\n",
      "2.0580356121063232\n",
      "Producing data for:  CRR\n",
      "CRR: No data found, symbol may be delisted\n",
      "- CRR: No summary info found, symbol may be delisted\n",
      "Nonetype found for: CRR\n",
      "1.6664762496948242\n",
      "Producing data for:  CAH\n",
      "Couldnt find key for: CAH\n",
      "1.9746322631835938\n",
      "Producing data for:  CRCM\n",
      "CRCM: No data found, symbol may be delisted\n",
      "- CRCM: No summary info found, symbol may be delisted\n",
      "Nonetype found for: CRCM\n",
      "1.4532744884490967\n",
      "Producing data for:  CFN\n",
      "CFN: No data found for this date range, symbol may be delisted\n",
      "Couldnt find key for: CFN\n",
      "2.6323747634887695\n",
      "Producing data for:  CSL\n",
      "Nonetype found for: CSL\n",
      "2.737656593322754\n",
      "Producing data for:  KMX\n"
     ]
    },
    {
     "name": "stderr",
     "output_type": "stream",
     "text": [
      "<ipython-input-3-1956285887a8>:67: FutureWarning: The frame.append method is deprecated and will be removed from pandas in a future version. Use pandas.concat instead.\n",
      "  value_invest = value_invest.append(\n"
     ]
    },
    {
     "name": "stdout",
     "output_type": "stream",
     "text": [
      "3.6615262031555176\n",
      "Producing data for:  CCL\n",
      "Couldnt find key for: CCL\n",
      "1.598595142364502\n",
      "Producing data for:  CUK\n",
      "Couldnt find key for: CUK\n",
      "3.665607213973999\n",
      "Producing data for:  CRS\n",
      "Couldnt find key for: CRS\n",
      "3.086599588394165\n",
      "Producing data for:  CSV\n"
     ]
    },
    {
     "name": "stderr",
     "output_type": "stream",
     "text": [
      "<ipython-input-3-1956285887a8>:67: FutureWarning: The frame.append method is deprecated and will be removed from pandas in a future version. Use pandas.concat instead.\n",
      "  value_invest = value_invest.append(\n"
     ]
    },
    {
     "name": "stdout",
     "output_type": "stream",
     "text": [
      "2.6886978149414062\n",
      "Producing data for:  CRI\n"
     ]
    },
    {
     "name": "stderr",
     "output_type": "stream",
     "text": [
      "<ipython-input-3-1956285887a8>:67: FutureWarning: The frame.append method is deprecated and will be removed from pandas in a future version. Use pandas.concat instead.\n",
      "  value_invest = value_invest.append(\n"
     ]
    },
    {
     "name": "stdout",
     "output_type": "stream",
     "text": [
      "2.6074371337890625\n",
      "Producing data for:  CSH\n",
      "Couldnt find key for: CSH\n",
      "3.1584978103637695\n",
      "Producing data for:  CSLT\n",
      "CSLT: No data found, symbol may be delisted\n",
      "- CSLT: No summary info found, symbol may be delisted\n",
      "Nonetype found for: CSLT\n",
      "1.4911634922027588\n",
      "Producing data for:  CTT\n",
      "CTT: No data found, symbol may be delisted\n",
      "- CTT: No summary info found, symbol may be delisted\n",
      "Nonetype found for: CTT\n",
      "1.837214708328247\n",
      "Producing data for:  CAT\n",
      "Nonetype found for: CAT\n",
      "2.400763750076294\n",
      "Producing data for:  CATO\n"
     ]
    },
    {
     "name": "stderr",
     "output_type": "stream",
     "text": [
      "<ipython-input-3-1956285887a8>:67: FutureWarning: The frame.append method is deprecated and will be removed from pandas in a future version. Use pandas.concat instead.\n",
      "  value_invest = value_invest.append(\n"
     ]
    },
    {
     "name": "stdout",
     "output_type": "stream",
     "text": [
      "1.8002994060516357\n",
      "Producing data for:  CBZ\n"
     ]
    },
    {
     "name": "stderr",
     "output_type": "stream",
     "text": [
      "<ipython-input-3-1956285887a8>:67: FutureWarning: The frame.append method is deprecated and will be removed from pandas in a future version. Use pandas.concat instead.\n",
      "  value_invest = value_invest.append(\n"
     ]
    },
    {
     "name": "stdout",
     "output_type": "stream",
     "text": [
      "2.785520315170288\n",
      "Producing data for:  CBL\n",
      "Couldnt find key for: CBL\n",
      "2.9174721240997314\n",
      "Producing data for:  CBG\n",
      "CBG: No data found for this date range, symbol may be delisted\n",
      "Couldnt find key for: CBG\n",
      "2.8140647411346436\n",
      "Producing data for:  CDI\n",
      "CDI: No data found for this date range, symbol may be delisted\n",
      "Couldnt find key for: CDI\n",
      "1.5742249488830566\n",
      "Producing data for:  FUN\n",
      "Couldnt find key for: FUN\n",
      "2.953474760055542\n",
      "Producing data for:  CDR\n",
      "CDR: No data found, symbol may be delisted\n",
      "- CDR: No summary info found, symbol may be delisted\n",
      "Nonetype found for: CDR\n",
      "2.42048716545105\n",
      "Producing data for:  CGI\n",
      "CGI: No data found for this date range, symbol may be delisted\n",
      "Couldnt find key for: CGI\n",
      "2.2705020904541016\n",
      "Producing data for:  CE\n"
     ]
    },
    {
     "name": "stderr",
     "output_type": "stream",
     "text": [
      "<ipython-input-3-1956285887a8>:67: FutureWarning: The frame.append method is deprecated and will be removed from pandas in a future version. Use pandas.concat instead.\n",
      "  value_invest = value_invest.append(\n"
     ]
    },
    {
     "name": "stdout",
     "output_type": "stream",
     "text": [
      "3.708685874938965\n",
      "Producing data for:  CLS\n"
     ]
    },
    {
     "name": "stderr",
     "output_type": "stream",
     "text": [
      "<ipython-input-3-1956285887a8>:67: FutureWarning: The frame.append method is deprecated and will be removed from pandas in a future version. Use pandas.concat instead.\n",
      "  value_invest = value_invest.append(\n"
     ]
    },
    {
     "name": "stdout",
     "output_type": "stream",
     "text": [
      "2.732832431793213\n",
      "Producing data for:  CEL\n",
      "CEL: No data found, symbol may be delisted\n",
      "- CEL: No summary info found, symbol may be delisted\n",
      "Nonetype found for: CEL\n",
      "1.9481782913208008\n",
      "Producing data for:  CPAC\n"
     ]
    },
    {
     "name": "stderr",
     "output_type": "stream",
     "text": [
      "<ipython-input-3-1956285887a8>:67: FutureWarning: The frame.append method is deprecated and will be removed from pandas in a future version. Use pandas.concat instead.\n",
      "  value_invest = value_invest.append(\n"
     ]
    },
    {
     "name": "stdout",
     "output_type": "stream",
     "text": [
      "2.751044988632202\n",
      "Producing data for:  CX\n",
      "Couldnt find key for: CX\n",
      "2.780378580093384\n",
      "Producing data for:  CNCO\n",
      "CNCO: No data found for this date range, symbol may be delisted\n",
      "Couldnt find key for: CNCO\n",
      "2.570736885070801\n",
      "Producing data for:  CVE\n",
      "Couldnt find key for: CVE\n",
      "3.0128519535064697\n",
      "Producing data for:  CNC\n"
     ]
    },
    {
     "name": "stderr",
     "output_type": "stream",
     "text": [
      "<ipython-input-3-1956285887a8>:67: FutureWarning: The frame.append method is deprecated and will be removed from pandas in a future version. Use pandas.concat instead.\n",
      "  value_invest = value_invest.append(\n"
     ]
    },
    {
     "name": "stdout",
     "output_type": "stream",
     "text": [
      "2.6050679683685303\n",
      "Producing data for:  CNP\n"
     ]
    },
    {
     "name": "stderr",
     "output_type": "stream",
     "text": [
      "<ipython-input-3-1956285887a8>:67: FutureWarning: The frame.append method is deprecated and will be removed from pandas in a future version. Use pandas.concat instead.\n",
      "  value_invest = value_invest.append(\n"
     ]
    },
    {
     "name": "stdout",
     "output_type": "stream",
     "text": [
      "3.1090636253356934\n",
      "Producing data for:  EBR\n"
     ]
    },
    {
     "name": "stderr",
     "output_type": "stream",
     "text": [
      "<ipython-input-3-1956285887a8>:67: FutureWarning: The frame.append method is deprecated and will be removed from pandas in a future version. Use pandas.concat instead.\n",
      "  value_invest = value_invest.append(\n"
     ]
    },
    {
     "name": "stdout",
     "output_type": "stream",
     "text": [
      "3.9372200965881348\n",
      "Producing data for:  CPF\n"
     ]
    },
    {
     "name": "stderr",
     "output_type": "stream",
     "text": [
      "<ipython-input-3-1956285887a8>:67: FutureWarning: The frame.append method is deprecated and will be removed from pandas in a future version. Use pandas.concat instead.\n",
      "  value_invest = value_invest.append(\n"
     ]
    },
    {
     "name": "stdout",
     "output_type": "stream",
     "text": [
      "3.0480873584747314\n",
      "Producing data for:  CCS\n"
     ]
    },
    {
     "name": "stderr",
     "output_type": "stream",
     "text": [
      "<ipython-input-3-1956285887a8>:67: FutureWarning: The frame.append method is deprecated and will be removed from pandas in a future version. Use pandas.concat instead.\n",
      "  value_invest = value_invest.append(\n"
     ]
    },
    {
     "name": "stdout",
     "output_type": "stream",
     "text": [
      "1.7929496765136719\n",
      "Producing data for:  CTL\n",
      "CTL: No data found, symbol may be delisted\n",
      "Nonetype found for: CTL\n",
      "1.3241610527038574\n",
      "Producing data for:  CVO\n",
      "CVO: No data found for this date range, symbol may be delisted\n",
      "Couldnt find key for: CVO\n",
      "1.6974272727966309\n",
      "Producing data for:  CF\n"
     ]
    },
    {
     "name": "stderr",
     "output_type": "stream",
     "text": [
      "<ipython-input-3-1956285887a8>:67: FutureWarning: The frame.append method is deprecated and will be removed from pandas in a future version. Use pandas.concat instead.\n",
      "  value_invest = value_invest.append(\n"
     ]
    },
    {
     "name": "stdout",
     "output_type": "stream",
     "text": [
      "2.718721866607666\n",
      "Producing data for:  CGG\n",
      "CGG: No data found for this date range, symbol may be delisted\n",
      "Couldnt find key for: CGG\n",
      "2.0016448497772217\n",
      "Producing data for:  GIB\n"
     ]
    },
    {
     "name": "stderr",
     "output_type": "stream",
     "text": [
      "<ipython-input-3-1956285887a8>:67: FutureWarning: The frame.append method is deprecated and will be removed from pandas in a future version. Use pandas.concat instead.\n",
      "  value_invest = value_invest.append(\n"
     ]
    },
    {
     "name": "stdout",
     "output_type": "stream",
     "text": [
      "1.7408974170684814\n",
      "Producing data for:  CSG\n",
      "CSG: No data found for this date range, symbol may be delisted\n",
      "Couldnt find key for: CSG\n",
      "2.425302505493164\n",
      "Producing data for:  ECOM\n",
      "ECOM: No data found for this date range, symbol may be delisted\n"
     ]
    },
    {
     "ename": "IndexError",
     "evalue": "single positional indexer is out-of-bounds",
     "output_type": "error",
     "traceback": [
      "\u001b[1;31m---------------------------------------------------------------------------\u001b[0m",
      "\u001b[1;31mIndexError\u001b[0m                                Traceback (most recent call last)",
      "\u001b[1;32m<ipython-input-3-1956285887a8>\u001b[0m in \u001b[0;36m<module>\u001b[1;34m\u001b[0m\n\u001b[0;32m     62\u001b[0m     \u001b[0md\u001b[0m\u001b[1;33m[\u001b[0m\u001b[1;34m'EV/EBITDA'\u001b[0m\u001b[1;33m]\u001b[0m \u001b[1;33m=\u001b[0m \u001b[0mev_ebidta\u001b[0m\u001b[1;33m\u001b[0m\u001b[1;33m\u001b[0m\u001b[0m\n\u001b[0;32m     63\u001b[0m     \u001b[0md\u001b[0m\u001b[1;33m[\u001b[0m\u001b[1;34m'EV/GP'\u001b[0m\u001b[1;33m]\u001b[0m \u001b[1;33m=\u001b[0m \u001b[0mev_gp\u001b[0m\u001b[1;33m\u001b[0m\u001b[1;33m\u001b[0m\u001b[0m\n\u001b[1;32m---> 64\u001b[1;33m     \u001b[0md\u001b[0m \u001b[1;33m=\u001b[0m \u001b[0md\u001b[0m\u001b[1;33m.\u001b[0m\u001b[0miloc\u001b[0m\u001b[1;33m[\u001b[0m\u001b[1;33m-\u001b[0m\u001b[1;36m1\u001b[0m\u001b[1;33m]\u001b[0m\u001b[1;33m\u001b[0m\u001b[1;33m\u001b[0m\u001b[0m\n\u001b[0m\u001b[0;32m     65\u001b[0m \u001b[1;33m\u001b[0m\u001b[0m\n\u001b[0;32m     66\u001b[0m     \u001b[1;31m#Append to df\u001b[0m\u001b[1;33m\u001b[0m\u001b[1;33m\u001b[0m\u001b[1;33m\u001b[0m\u001b[0m\n",
      "\u001b[1;32m~\\AppData\\Local\\Programs\\Python\\Python38\\lib\\site-packages\\pandas\\core\\indexing.py\u001b[0m in \u001b[0;36m__getitem__\u001b[1;34m(self, key)\u001b[0m\n\u001b[0;32m    965\u001b[0m \u001b[1;33m\u001b[0m\u001b[0m\n\u001b[0;32m    966\u001b[0m             \u001b[0mmaybe_callable\u001b[0m \u001b[1;33m=\u001b[0m \u001b[0mcom\u001b[0m\u001b[1;33m.\u001b[0m\u001b[0mapply_if_callable\u001b[0m\u001b[1;33m(\u001b[0m\u001b[0mkey\u001b[0m\u001b[1;33m,\u001b[0m \u001b[0mself\u001b[0m\u001b[1;33m.\u001b[0m\u001b[0mobj\u001b[0m\u001b[1;33m)\u001b[0m\u001b[1;33m\u001b[0m\u001b[1;33m\u001b[0m\u001b[0m\n\u001b[1;32m--> 967\u001b[1;33m             \u001b[1;32mreturn\u001b[0m \u001b[0mself\u001b[0m\u001b[1;33m.\u001b[0m\u001b[0m_getitem_axis\u001b[0m\u001b[1;33m(\u001b[0m\u001b[0mmaybe_callable\u001b[0m\u001b[1;33m,\u001b[0m \u001b[0maxis\u001b[0m\u001b[1;33m=\u001b[0m\u001b[0maxis\u001b[0m\u001b[1;33m)\u001b[0m\u001b[1;33m\u001b[0m\u001b[1;33m\u001b[0m\u001b[0m\n\u001b[0m\u001b[0;32m    968\u001b[0m \u001b[1;33m\u001b[0m\u001b[0m\n\u001b[0;32m    969\u001b[0m     \u001b[1;32mdef\u001b[0m \u001b[0m_is_scalar_access\u001b[0m\u001b[1;33m(\u001b[0m\u001b[0mself\u001b[0m\u001b[1;33m,\u001b[0m \u001b[0mkey\u001b[0m\u001b[1;33m:\u001b[0m \u001b[0mtuple\u001b[0m\u001b[1;33m)\u001b[0m\u001b[1;33m:\u001b[0m\u001b[1;33m\u001b[0m\u001b[1;33m\u001b[0m\u001b[0m\n",
      "\u001b[1;32m~\\AppData\\Local\\Programs\\Python\\Python38\\lib\\site-packages\\pandas\\core\\indexing.py\u001b[0m in \u001b[0;36m_getitem_axis\u001b[1;34m(self, key, axis)\u001b[0m\n\u001b[0;32m   1521\u001b[0m \u001b[1;33m\u001b[0m\u001b[0m\n\u001b[0;32m   1522\u001b[0m             \u001b[1;31m# validate the location\u001b[0m\u001b[1;33m\u001b[0m\u001b[1;33m\u001b[0m\u001b[1;33m\u001b[0m\u001b[0m\n\u001b[1;32m-> 1523\u001b[1;33m             \u001b[0mself\u001b[0m\u001b[1;33m.\u001b[0m\u001b[0m_validate_integer\u001b[0m\u001b[1;33m(\u001b[0m\u001b[0mkey\u001b[0m\u001b[1;33m,\u001b[0m \u001b[0maxis\u001b[0m\u001b[1;33m)\u001b[0m\u001b[1;33m\u001b[0m\u001b[1;33m\u001b[0m\u001b[0m\n\u001b[0m\u001b[0;32m   1524\u001b[0m \u001b[1;33m\u001b[0m\u001b[0m\n\u001b[0;32m   1525\u001b[0m             \u001b[1;32mreturn\u001b[0m \u001b[0mself\u001b[0m\u001b[1;33m.\u001b[0m\u001b[0mobj\u001b[0m\u001b[1;33m.\u001b[0m\u001b[0m_ixs\u001b[0m\u001b[1;33m(\u001b[0m\u001b[0mkey\u001b[0m\u001b[1;33m,\u001b[0m \u001b[0maxis\u001b[0m\u001b[1;33m=\u001b[0m\u001b[0maxis\u001b[0m\u001b[1;33m)\u001b[0m\u001b[1;33m\u001b[0m\u001b[1;33m\u001b[0m\u001b[0m\n",
      "\u001b[1;32m~\\AppData\\Local\\Programs\\Python\\Python38\\lib\\site-packages\\pandas\\core\\indexing.py\u001b[0m in \u001b[0;36m_validate_integer\u001b[1;34m(self, key, axis)\u001b[0m\n\u001b[0;32m   1453\u001b[0m         \u001b[0mlen_axis\u001b[0m \u001b[1;33m=\u001b[0m \u001b[0mlen\u001b[0m\u001b[1;33m(\u001b[0m\u001b[0mself\u001b[0m\u001b[1;33m.\u001b[0m\u001b[0mobj\u001b[0m\u001b[1;33m.\u001b[0m\u001b[0m_get_axis\u001b[0m\u001b[1;33m(\u001b[0m\u001b[0maxis\u001b[0m\u001b[1;33m)\u001b[0m\u001b[1;33m)\u001b[0m\u001b[1;33m\u001b[0m\u001b[1;33m\u001b[0m\u001b[0m\n\u001b[0;32m   1454\u001b[0m         \u001b[1;32mif\u001b[0m \u001b[0mkey\u001b[0m \u001b[1;33m>=\u001b[0m \u001b[0mlen_axis\u001b[0m \u001b[1;32mor\u001b[0m \u001b[0mkey\u001b[0m \u001b[1;33m<\u001b[0m \u001b[1;33m-\u001b[0m\u001b[0mlen_axis\u001b[0m\u001b[1;33m:\u001b[0m\u001b[1;33m\u001b[0m\u001b[1;33m\u001b[0m\u001b[0m\n\u001b[1;32m-> 1455\u001b[1;33m             \u001b[1;32mraise\u001b[0m \u001b[0mIndexError\u001b[0m\u001b[1;33m(\u001b[0m\u001b[1;34m\"single positional indexer is out-of-bounds\"\u001b[0m\u001b[1;33m)\u001b[0m\u001b[1;33m\u001b[0m\u001b[1;33m\u001b[0m\u001b[0m\n\u001b[0m\u001b[0;32m   1456\u001b[0m \u001b[1;33m\u001b[0m\u001b[0m\n\u001b[0;32m   1457\u001b[0m     \u001b[1;31m# -------------------------------------------------------------------\u001b[0m\u001b[1;33m\u001b[0m\u001b[1;33m\u001b[0m\u001b[1;33m\u001b[0m\u001b[0m\n",
      "\u001b[1;31mIndexError\u001b[0m: single positional indexer is out-of-bounds"
     ]
    }
   ],
   "source": [
    "#Create first table with all stock info from yfinance\n",
    "\"\"\"\n",
    "Working capital has been removed because API calls are too slow. \n",
    "Also, working capital is somewhat linked to EBITDA\n",
    "\"\"\"\n",
    "\n",
    "tick = pd.read_csv(\"all_stocks\")\n",
    "value_invest_cols = ['Ticker','Price','Trailing PE ratio','Forward PE ratio','Price To Book',\\\n",
    "                                'Price To Sale','EV/EBITDA','EV/GP','Shares to buy']\n",
    "value_invest = pd.DataFrame(columns = value_invest_cols)\n",
    "count = 0 \n",
    "for i in range(len(tick)): \n",
    "    start = time.time()    \n",
    "    print(\"Producing data for: \", tick[\"0\"][i])\n",
    "    try:\n",
    "        ticker = tick[\"0\"][i]\n",
    "        stock_info = yf.Ticker(ticker)\n",
    "        d = yf.Ticker(ticker).history(period = \"1mo\")\n",
    "        # Get the income statement for the stock\n",
    "\n",
    "        info = stock_info.info\n",
    "        fpe = info[\"forwardPE\"]\n",
    "        tpe = info[\"trailingPE\"]\n",
    "        fin = stock_info.info\n",
    "        #liab = stock_info.balance_sheet\n",
    "        price_to_book = fin['priceToBook']\n",
    "        price_to_sale = fin['priceToSalesTrailing12Months']\n",
    "        ev_ebidta = fin['enterpriseToEbitda']\n",
    "        enterprise_value = fin['enterpriseValue']\n",
    "        gp = fin['grossProfits']\n",
    "        ev_gp = enterprise_value/gp\n",
    "        #current_assets = liab[liab.index=='Current Assets'].iloc[0,0]\n",
    "        #current_liab = liab[liab.index=='Current Liabilities'].iloc[0,0]\n",
    "        #working_capital = current_assets/current_liab \n",
    "\n",
    "        d.reset_index(inplace = True)\n",
    "        d['Ticker'] = ticker\n",
    "        d[\"Price\"] = d['Close']\n",
    "        d['Trailing PE ratio'] = tpe\n",
    "        d['Forward PE ratio'] = fpe\n",
    "        d['Price To Book'] = price_to_book\n",
    "        d['Price To Sale'] = price_to_sale\n",
    "        d['EV/EBITDA'] = ev_ebidta\n",
    "        d['EV/GP'] = ev_gp\n",
    "        d = d.iloc[-1]\n",
    "\n",
    "    except TypeError: \n",
    "        print(\"Nonetype found for: \" + ticker)\n",
    "        stop = time.time()\n",
    "        duration = stop-start\n",
    "        print(duration)\n",
    "        continue\n",
    "    except IndexError: \n",
    "        print(\"Couldn't find: \", ticker)\n",
    "        stop = time.time()\n",
    "        duration = stop-start\n",
    "        print(duration)\n",
    "        continue\n",
    "    except KeyError:\n",
    "        print(\"Couldnt find key for: \" + ticker)\n",
    "        stop = time.time()\n",
    "        duration = stop-start\n",
    "        print(duration)\n",
    "        continue\n",
    "    \n",
    "    \n",
    "\n",
    "    #Append to df\n",
    "    value_invest = value_invest.append(\n",
    "        pd.Series(d,\n",
    "        index=value_invest_cols), \n",
    "        ignore_index = True\n",
    "    )\n",
    "\n",
    "    stop = time.time()\n",
    "    duration = stop-start\n",
    "    print(duration)\n",
    "#Get percentiles for each stock and a specific category\n",
    "cols = ['Trailing PE ratio', 'Forward PE ratio', 'Price To Book', 'Price To Sale', 'EV/EBITDA', 'EV/GP']\n",
    "for c in cols: \n",
    "    value_invest[c + ' percentile'] = np.NaN\n",
    "    for index, row in value_invest.iterrows(): \n",
    "        percentile_change = stats.percentileofscore(value_invest[c], value_invest[c].loc[index])\n",
    "        value_invest[c + ' percentile'][index] = percentile_change \n",
    "\n",
    "value_invest['RV Score'] = 0\n",
    "\n",
    "for index, row in value_invest.iterrows(): \n",
    "    value_invest['RV Score'][index] = (value_invest['Trailing PE ratio percentile'][index]\\\n",
    "        +value_invest['Forward PE ratio percentile'][index]\\\n",
    "        +value_invest['Price To Book percentile'][index]\\\n",
    "        +value_invest['Price To Sale percentile'][index]\\\n",
    "        +value_invest['EV/EBITDA percentile'][index]\\\n",
    "        +value_invest['EV/GP percentile'][index])/6\n",
    "\n",
    "#PUSH TO DATABASE\n",
    "value_invest.to_sql('value_invest', conn, if_exists='append', index=False)\n",
    "# Close the connection\n",
    "conn.close()"
   ]
  }
 ],
 "metadata": {
  "interpreter": {
   "hash": "f36662cf0d2dc2d22e7ce50b6b2dd5771b8ab03597c45c6e0e62ff4a448306d1"
  },
  "kernelspec": {
   "display_name": "Python 3.8.5 64-bit",
   "language": "python",
   "name": "python3"
  },
  "language_info": {
   "codemirror_mode": {
    "name": "ipython",
    "version": 3
   },
   "file_extension": ".py",
   "mimetype": "text/x-python",
   "name": "python",
   "nbconvert_exporter": "python",
   "pygments_lexer": "ipython3",
   "version": "3.8.5"
  },
  "orig_nbformat": 4
 },
 "nbformat": 4,
 "nbformat_minor": 2
}
