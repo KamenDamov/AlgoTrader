{
 "cells": [
  {
   "cell_type": "code",
   "execution_count": 10,
   "metadata": {},
   "outputs": [
    {
     "data": {
      "text/plain": [
       "\"\\n#Create db\\nconn = sqlite3.connect('financial_data.db')\\n\\n# Create a cursor\\ncursor = conn.cursor()\\n\\nmomentum_query = '''\\nCREATE TABLE momentum (\\n    Date INTEGER PRIMARY KEY,\\n    Open FLOAT,\\n    High FLOAT, \\n    Low FLOAT, \\n    Close FLOAT, \\n    Volume FLOAT,\\n    Dividends FLOAT, \\n    Stock Splits FLOAT, \\n    Ticker TEXT NOT NULL    \\n);\\n'''\\n\\ncursor.execute(momentum_query)\\n\\nconn.commit()\\n\\n# Close the connection\\nconn.close()\\n\""
      ]
     },
     "execution_count": 10,
     "metadata": {},
     "output_type": "execute_result"
    }
   ],
   "source": [
    "import numpy as np\n",
    "import pandas as pd\n",
    "import math\n",
    "import requests \n",
    "import matplotlib as plt\n",
    "import seaborn as sns\n",
    "import yfinance as yf\n",
    "import pandas_datareader as web\n",
    "from pandas_datareader import data\n",
    "from bs4 import BeautifulSoup as bs\n",
    "from scipy import stats\n",
    "import sqlite3\n",
    "import time\n",
    "\n",
    "\n",
    "#Create db\n",
    "conn = sqlite3.connect('financial_data.db')\n",
    "\n",
    "# Create a cursor\n",
    "cursor = conn.cursor()\n",
    "\n",
    "value_invest_query = '''\n",
    "CREATE TABLE momentum (\n",
    "        \n",
    ");\n",
    "'''\n",
    "\n",
    "cursor.execute(value_invest_query)\n",
    "\n",
    "conn.commit()\n",
    "\n",
    "# Close the connection\n",
    "conn.close()\n"
   ]
  },
  {
   "cell_type": "code",
   "execution_count": 12,
   "metadata": {},
   "outputs": [
    {
     "name": "stdout",
     "output_type": "stream",
     "text": [
      "Producing data for:  AOS\n",
      "1.355095386505127\n"
     ]
    },
    {
     "name": "stderr",
     "output_type": "stream",
     "text": [
      "<ipython-input-12-3b87d65fecb6>:67: FutureWarning: The frame.append method is deprecated and will be removed from pandas in a future version. Use pandas.concat instead.\n",
      "  value_invest = value_invest.append(\n",
      "<ipython-input-12-3b87d65fecb6>:83: SettingWithCopyWarning: \n",
      "A value is trying to be set on a copy of a slice from a DataFrame\n",
      "\n",
      "See the caveats in the documentation: https://pandas.pydata.org/pandas-docs/stable/user_guide/indexing.html#returning-a-view-versus-a-copy\n",
      "  value_invest[c + ' percentile'][index] = percentile_change\n",
      "<ipython-input-12-3b87d65fecb6>:83: SettingWithCopyWarning: \n",
      "A value is trying to be set on a copy of a slice from a DataFrame\n",
      "\n",
      "See the caveats in the documentation: https://pandas.pydata.org/pandas-docs/stable/user_guide/indexing.html#returning-a-view-versus-a-copy\n",
      "  value_invest[c + ' percentile'][index] = percentile_change\n",
      "<ipython-input-12-3b87d65fecb6>:83: SettingWithCopyWarning: \n",
      "A value is trying to be set on a copy of a slice from a DataFrame\n",
      "\n",
      "See the caveats in the documentation: https://pandas.pydata.org/pandas-docs/stable/user_guide/indexing.html#returning-a-view-versus-a-copy\n",
      "  value_invest[c + ' percentile'][index] = percentile_change\n",
      "<ipython-input-12-3b87d65fecb6>:83: SettingWithCopyWarning: \n",
      "A value is trying to be set on a copy of a slice from a DataFrame\n",
      "\n",
      "See the caveats in the documentation: https://pandas.pydata.org/pandas-docs/stable/user_guide/indexing.html#returning-a-view-versus-a-copy\n",
      "  value_invest[c + ' percentile'][index] = percentile_change\n",
      "<ipython-input-12-3b87d65fecb6>:83: SettingWithCopyWarning: \n",
      "A value is trying to be set on a copy of a slice from a DataFrame\n",
      "\n",
      "See the caveats in the documentation: https://pandas.pydata.org/pandas-docs/stable/user_guide/indexing.html#returning-a-view-versus-a-copy\n",
      "  value_invest[c + ' percentile'][index] = percentile_change\n",
      "<ipython-input-12-3b87d65fecb6>:83: SettingWithCopyWarning: \n",
      "A value is trying to be set on a copy of a slice from a DataFrame\n",
      "\n",
      "See the caveats in the documentation: https://pandas.pydata.org/pandas-docs/stable/user_guide/indexing.html#returning-a-view-versus-a-copy\n",
      "  value_invest[c + ' percentile'][index] = percentile_change\n",
      "<ipython-input-12-3b87d65fecb6>:88: SettingWithCopyWarning: \n",
      "A value is trying to be set on a copy of a slice from a DataFrame\n",
      "\n",
      "See the caveats in the documentation: https://pandas.pydata.org/pandas-docs/stable/user_guide/indexing.html#returning-a-view-versus-a-copy\n",
      "  value_invest['RV Score'][index] = (value_invest['Trailing PE ratio percentile'][index]\\\n"
     ]
    }
   ],
   "source": [
    "#Create first table with all stock info from yfinance\n",
    "\"\"\"\n",
    "Working capital has been removed because API calls are too slow. \n",
    "Also, working capital is somewhat linked to EBITDA\n",
    "\"\"\"\n",
    "\n",
    "tick = pd.read_csv(\"all_stocks\")\n",
    "value_invest_cols = ['Ticker','Price','Trailing PE ratio','Forward PE ratio','Price To Book',\\\n",
    "                                'Price To Sale','EV/EBITDA','EV/GP','Shares to buy']\n",
    "value_invest = pd.DataFrame(columns = value_invest_cols)\n",
    "count = 0 \n",
    "for i in range(len(tick)): \n",
    "    start = time.time()    \n",
    "    print(\"Producing data for: \", tick[\"0\"][i])\n",
    "    try:\n",
    "        ticker = tick[\"0\"][i]\n",
    "        stock_info = yf.Ticker(ticker)\n",
    "        d = yf.Ticker(ticker).history(period = \"1mo\")\n",
    "        # Get the income statement for the stock\n",
    "\n",
    "        info = stock_info.info\n",
    "        fpe = info[\"forwardPE\"]\n",
    "        tpe = info[\"trailingPE\"]\n",
    "        fin = stock_info.info\n",
    "        #liab = stock_info.balance_sheet\n",
    "        price_to_book = fin['priceToBook']\n",
    "        price_to_sale = fin['priceToSalesTrailing12Months']\n",
    "        ev_ebidta = fin['enterpriseToEbitda']\n",
    "        enterprise_value = fin['enterpriseValue']\n",
    "        gp = fin['grossProfits']\n",
    "        ev_gp = enterprise_value/gp\n",
    "        #current_assets = liab[liab.index=='Current Assets'].iloc[0,0]\n",
    "        #current_liab = liab[liab.index=='Current Liabilities'].iloc[0,0]\n",
    "        #working_capital = current_assets/current_liab \n",
    "\n",
    "    except TypeError: \n",
    "        print(\"Nonetype found for: \" + ticker)\n",
    "        stop = time.time()\n",
    "        duration = stop-start\n",
    "        print(duration)\n",
    "        continue\n",
    "    except IndexError: \n",
    "        print(\"Couldn't find: \", ticker)\n",
    "        stop = time.time()\n",
    "        duration = stop-start\n",
    "        print(duration)\n",
    "        continue\n",
    "    except KeyError:\n",
    "        print(\"Couldnt find key for: \" + ticker)\n",
    "        stop = time.time()\n",
    "        duration = stop-start\n",
    "        print(duration)\n",
    "        continue\n",
    "    \n",
    "    d.reset_index(inplace = True)\n",
    "    d['Ticker'] = ticker\n",
    "    d[\"Price\"] = d['Close']\n",
    "    d['Trailing PE ratio'] = tpe\n",
    "    d['Forward PE ratio'] = fpe\n",
    "    d['Price To Book'] = price_to_book\n",
    "    d['Price To Sale'] = price_to_sale\n",
    "    d['EV/EBITDA'] = ev_ebidta\n",
    "    d['EV/GP'] = ev_gp\n",
    "    d = d.iloc[-1]\n",
    "\n",
    "    #Append to df\n",
    "    value_invest = value_invest.append(\n",
    "        pd.Series(d,\n",
    "        index=value_invest_cols), \n",
    "        ignore_index = True\n",
    "    )\n",
    "\n",
    "    stop = time.time()\n",
    "    duration = stop-start\n",
    "    print(duration)\n",
    "    break\n",
    "#Get percentiles for each stock and a specific category\n",
    "cols = ['Trailing PE ratio', 'Forward PE ratio', 'Price To Book', 'Price To Sale', 'EV/EBITDA', 'EV/GP']\n",
    "for c in cols: \n",
    "    value_invest[c + ' percentile'] = np.NaN\n",
    "    for index, row in value_invest.iterrows(): \n",
    "        percentile_change = stats.percentileofscore(value_invest[c], value_invest[c].loc[index])\n",
    "        value_invest[c + ' percentile'][index] = percentile_change \n",
    "\n",
    "value_invest['RV Score'] = 0\n",
    "\n",
    "for index, row in value_invest.iterrows(): \n",
    "    value_invest['RV Score'][index] = (value_invest['Trailing PE ratio percentile'][index]\\\n",
    "        +value_invest['Forward PE ratio percentile'][index]\\\n",
    "        +value_invest['Price To Book percentile'][index]\\\n",
    "        +value_invest['Price To Sale percentile'][index]\\\n",
    "        +value_invest['EV/EBITDA percentile'][index]\\\n",
    "        +value_invest['EV/GP percentile'][index])/6\n",
    "\n",
    "#PUSH TO DATABASE\n",
    "#value_invest.to_sql('all_time_prices', conn, if_exists='append', index=False)"
   ]
  },
  {
   "cell_type": "code",
   "execution_count": 17,
   "metadata": {},
   "outputs": [
    {
     "data": {
      "text/plain": [
       "Index(['Ticker', 'Price', 'Trailing PE ratio', 'Forward PE ratio',\n",
       "       'Price To Book', 'Price To Sale', 'EV/EBITDA', 'EV/GP', 'Shares to buy',\n",
       "       'Trailing PE ratio percentile', 'Forward PE ratio percentile',\n",
       "       'Price To Book percentile', 'Price To Sale percentile',\n",
       "       'EV/EBITDA percentile', 'EV/GP percentile', 'RV Score'],\n",
       "      dtype='object')"
      ]
     },
     "execution_count": 17,
     "metadata": {},
     "output_type": "execute_result"
    }
   ],
   "source": [
    "value_invest.columns"
   ]
  },
  {
   "cell_type": "code",
   "execution_count": null,
   "metadata": {},
   "outputs": [],
   "source": []
  }
 ],
 "metadata": {
  "interpreter": {
   "hash": "f36662cf0d2dc2d22e7ce50b6b2dd5771b8ab03597c45c6e0e62ff4a448306d1"
  },
  "kernelspec": {
   "display_name": "Python 3.8.5 64-bit",
   "language": "python",
   "name": "python3"
  },
  "language_info": {
   "codemirror_mode": {
    "name": "ipython",
    "version": 3
   },
   "file_extension": ".py",
   "mimetype": "text/x-python",
   "name": "python",
   "nbconvert_exporter": "python",
   "pygments_lexer": "ipython3",
   "version": "3.8.5"
  },
  "orig_nbformat": 4
 },
 "nbformat": 4,
 "nbformat_minor": 2
}
