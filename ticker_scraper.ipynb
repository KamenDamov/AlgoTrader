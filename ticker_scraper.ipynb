{
 "cells": [
  {
   "cell_type": "code",
   "execution_count": 2,
   "metadata": {},
   "outputs": [],
   "source": [
    "#ADD SCHEDULER\n",
    "\n",
    "import numpy as np\n",
    "import pandas as pd\n",
    "import math\n",
    "import requests \n",
    "import matplotlib as plt\n",
    "import seaborn as sns\n",
    "import yfinance as yf\n",
    "import pandas_datareader as web\n",
    "from pandas_datareader import data\n",
    "from bs4 import BeautifulSoup as bs\n",
    "from scipy import stats\n",
    "l = \"abcdefghijklmnopqrstuvwxyz\"\n",
    "\n",
    "#Getting NSYE stocks\n",
    "all_stocks = []\n",
    "for i in l:\n",
    "    url = \"https://en.wikipedia.org/wiki/Companies_listed_on_the_New_York_Stock_Exchange_(\" + i.upper() + \")\"\n",
    "    data = requests.get(url)\n",
    "    data = data.content\n",
    "    soup = bs(data, \"html.parser\")\n",
    "    raw = []\n",
    "    for element in soup.select('table tbody tr td'):\n",
    "        raw.append(element.text.strip())\n",
    "    clean = raw[2::3]\n",
    "    all_stocks.append(clean)\n",
    "    #Combine all lists\n",
    "all_stocks = [item for sublist in all_stocks for item in sublist]\n",
    "\n",
    "#Getting NASDAQ stocks\n",
    "nasdaq = []\n",
    "for i in l: \n",
    "    url = 'https://www.eoddata.com/stocklist/NASDAQ/'+i.upper()+'.htm'\n",
    "    data = requests.get(url)\n",
    "    data = data.content\n",
    "    soup = bs(data, \"html.parser\")\n",
    "    new = []\n",
    "    for i in soup.select(\".quotes tr td \"): \n",
    "        new.append(i.text)\n",
    "    nasdaq.extend(new[::10][:-5])\n",
    "all_stocks = all_stocks + nasdaq\n",
    "pd.Series(all_stocks).to_csv(\"all_stocks\")"
   ]
  },
  {
   "cell_type": "code",
   "execution_count": null,
   "metadata": {},
   "outputs": [],
   "source": []
  }
 ],
 "metadata": {
  "interpreter": {
   "hash": "f36662cf0d2dc2d22e7ce50b6b2dd5771b8ab03597c45c6e0e62ff4a448306d1"
  },
  "kernelspec": {
   "display_name": "Python 3.8.5 64-bit",
   "language": "python",
   "name": "python3"
  },
  "language_info": {
   "codemirror_mode": {
    "name": "ipython",
    "version": 3
   },
   "file_extension": ".py",
   "mimetype": "text/x-python",
   "name": "python",
   "nbconvert_exporter": "python",
   "pygments_lexer": "ipython3",
   "version": "3.8.5"
  },
  "orig_nbformat": 4
 },
 "nbformat": 4,
 "nbformat_minor": 2
}
