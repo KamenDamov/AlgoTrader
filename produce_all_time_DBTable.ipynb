{
 "cells": [
  {
   "cell_type": "code",
   "execution_count": 1,
   "metadata": {},
   "outputs": [],
   "source": [
    "import numpy as np\n",
    "import pandas as pd\n",
    "import math\n",
    "import requests \n",
    "import matplotlib as plt\n",
    "import seaborn as sns\n",
    "import yfinance as yf\n",
    "import pandas_datareader as web\n",
    "from pandas_datareader import data\n",
    "from bs4 import BeautifulSoup as bs\n",
    "from scipy import stats\n",
    "import sqlite3\n",
    "import time\n",
    "\n",
    "#Create db\n",
    "conn = sqlite3.connect('financial_data.db')\n",
    "\n",
    "# Create a cursor\n",
    "cursor = conn.cursor()\n",
    "# Create the first table\n",
    "all_time_prices_query = '''\n",
    "CREATE TABLE all_time_prices (\n",
    "    Date INTEGER PRIMARY KEY,\n",
    "    Open FLOAT,\n",
    "    High FLOAT, \n",
    "    Low FLOAT, \n",
    "    Close FLOAT, \n",
    "    Volume FLOAT,\n",
    "    Dividends FLOAT, \n",
    "    Stock_Splits FLOAT, \n",
    "    Ticker TEXT NOT NULL    \n",
    ");\n",
    "'''\n",
    "\n",
    "cursor.execute(all_time_prices_query)\n",
    "\n",
    "conn.commit()\n"
   ]
  },
  {
   "cell_type": "code",
   "execution_count": 2,
   "metadata": {},
   "outputs": [
    {
     "name": "stdout",
     "output_type": "stream",
     "text": [
      "AOS: No data found for this date range, symbol may be delisted\n",
      "Empty DataFrame\n",
      "Columns: [Date, Open, High, Low, Close, Adj Close, Volume, Ticker]\n",
      "Index: []\n",
      "0.1748189926147461\n"
     ]
    }
   ],
   "source": [
    "#Create first table with all stock info from yfinance\n",
    "tick = pd.read_csv(\"all_stocks\")\n",
    "all_time_cols = ['Date', 'Open', 'High', 'Low', 'Close', 'Volume', 'Dividends', 'Stock_Splits', 'Ticker']\n",
    "all_time = pd.DataFrame(columns = all_time_cols)\n",
    "count = 0 \n",
    "for i in range(len(tick)): \n",
    "    start = time.time()    \n",
    "    try:\n",
    "        #Creating the df to be added to all_time_prices\n",
    "        ticker = tick[\"0\"][i]\n",
    "        info = yf.Ticker(ticker).history(period='max')\n",
    "        info.reset_index(inplace = True)\n",
    "        info['Ticker'] = ticker\n",
    "        info.rename({'Stock Splits':'Stock_Splits'},axis = 1,inplace = True)\n",
    "        print(info) \n",
    "        \n",
    "        # Append the first dataframe to the table\n",
    "        all_time = pd.concat([all_time, info])\n",
    "\n",
    "        #print(momentum_append)\n",
    "    except TypeError: \n",
    "        print(\"Nonetype found for: \" + tick[\"0\"][i])\n",
    "        continue\n",
    "    except IndexError: \n",
    "        print(\"Couldn't find: \",tick[\"0\"][i])\n",
    "        continue\n",
    "    except KeyError:\n",
    "        print(\"Couldnt find key for: \" + tick['0'][i])\n",
    "        continue\n",
    "    except AttributeError: \n",
    "        print(\"Attribute error found\")\n",
    "        continue\n",
    "    stop = time.time()\n",
    "    duration = stop-start\n",
    "    print(duration)\n",
    "    break\n",
    "\n",
    "#PUSH TO DATABASE\n",
    "all_time.to_sql('all_time_prices', conn, if_exists='append', index=False)\n",
    "# Close the connection\n",
    "conn.close()"
   ]
  },
  {
   "cell_type": "code",
   "execution_count": 3,
   "metadata": {},
   "outputs": [
    {
     "name": "stdout",
     "output_type": "stream",
     "text": [
      "<class 'pandas.core.frame.DataFrame'>\n",
      "Index: 0 entries\n",
      "Data columns (total 10 columns):\n",
      " #   Column        Non-Null Count  Dtype  \n",
      "---  ------        --------------  -----  \n",
      " 0   Date          0 non-null      object \n",
      " 1   Open          0 non-null      object \n",
      " 2   High          0 non-null      object \n",
      " 3   Low           0 non-null      object \n",
      " 4   Close         0 non-null      object \n",
      " 5   Volume        0 non-null      object \n",
      " 6   Dividends     0 non-null      object \n",
      " 7   Stock_Splits  0 non-null      object \n",
      " 8   Ticker        0 non-null      object \n",
      " 9   Adj Close     0 non-null      float64\n",
      "dtypes: float64(1), object(9)\n",
      "memory usage: 108.0+ bytes\n"
     ]
    }
   ],
   "source": [
    "all_time.info()"
   ]
  },
  {
   "cell_type": "code",
   "execution_count": 4,
   "metadata": {},
   "outputs": [
    {
     "data": {
      "text/html": [
       "<div>\n",
       "<style scoped>\n",
       "    .dataframe tbody tr th:only-of-type {\n",
       "        vertical-align: middle;\n",
       "    }\n",
       "\n",
       "    .dataframe tbody tr th {\n",
       "        vertical-align: top;\n",
       "    }\n",
       "\n",
       "    .dataframe thead th {\n",
       "        text-align: right;\n",
       "    }\n",
       "</style>\n",
       "<table border=\"1\" class=\"dataframe\">\n",
       "  <thead>\n",
       "    <tr style=\"text-align: right;\">\n",
       "      <th></th>\n",
       "      <th>Date</th>\n",
       "      <th>Open</th>\n",
       "      <th>High</th>\n",
       "      <th>Low</th>\n",
       "      <th>Close</th>\n",
       "      <th>Volume</th>\n",
       "      <th>Dividends</th>\n",
       "      <th>Stock_Splits</th>\n",
       "      <th>Ticker</th>\n",
       "      <th>Adj Close</th>\n",
       "    </tr>\n",
       "  </thead>\n",
       "  <tbody>\n",
       "  </tbody>\n",
       "</table>\n",
       "</div>"
      ],
      "text/plain": [
       "Empty DataFrame\n",
       "Columns: [Date, Open, High, Low, Close, Volume, Dividends, Stock_Splits, Ticker, Adj Close]\n",
       "Index: []"
      ]
     },
     "execution_count": 4,
     "metadata": {},
     "output_type": "execute_result"
    }
   ],
   "source": [
    "all_time"
   ]
  },
  {
   "cell_type": "code",
   "execution_count": null,
   "metadata": {},
   "outputs": [],
   "source": []
  }
 ],
 "metadata": {
  "interpreter": {
   "hash": "f36662cf0d2dc2d22e7ce50b6b2dd5771b8ab03597c45c6e0e62ff4a448306d1"
  },
  "kernelspec": {
   "display_name": "Python 3.8.5 64-bit",
   "language": "python",
   "name": "python3"
  },
  "language_info": {
   "codemirror_mode": {
    "name": "ipython",
    "version": 3
   },
   "file_extension": ".py",
   "mimetype": "text/x-python",
   "name": "python",
   "nbconvert_exporter": "python",
   "pygments_lexer": "ipython3",
   "version": "3.8.5"
  },
  "orig_nbformat": 4
 },
 "nbformat": 4,
 "nbformat_minor": 2
}
