{
 "cells": [
  {
   "cell_type": "code",
   "execution_count": null,
   "metadata": {},
   "outputs": [],
   "source": [
    "import numpy as np\n",
    "import pandas as pd\n",
    "import math\n",
    "import requests \n",
    "import matplotlib as plt\n",
    "import seaborn as sns\n",
    "import yfinance as yf\n",
    "import pandas_datareader as web\n",
    "from pandas_datareader import data"
   ]
  },
  {
   "cell_type": "code",
   "execution_count": null,
   "metadata": {},
   "outputs": [],
   "source": [
    "#Create SnP500 scraper: Runs once every year\n",
    "#Implement ML Algo\n",
    "#Implement 2 other Algo trading methods"
   ]
  },
  {
   "cell_type": "code",
   "execution_count": null,
   "metadata": {},
   "outputs": [],
   "source": [
    "tick = pd.read_csv(\"snp500\")"
   ]
  },
  {
   "cell_type": "code",
   "execution_count": null,
   "metadata": {},
   "outputs": [],
   "source": [
    "#for i in range(len(tick[\"0\"])): \n",
    "#    print(tick[\"0\"][i])\n",
    "    #print(tick[\"Ticker\"][i])\n",
    "    #print(data.get_quote_yahoo(tick[\"Ticker\"][i])['marketCap'][0])"
   ]
  },
  {
   "cell_type": "code",
   "execution_count": 14,
   "metadata": {},
   "outputs": [
    {
     "name": "stderr",
     "output_type": "stream",
     "text": [
      "<ipython-input-14-bd1a883ea310>:25: FutureWarning: The frame.append method is deprecated and will be removed from pandas in a future version. Use pandas.concat instead.\n",
      "  final = final.append(\n"
     ]
    },
    {
     "name": "stdout",
     "output_type": "stream",
     "text": [
      "Producing data for:  WELL\n"
     ]
    },
    {
     "name": "stderr",
     "output_type": "stream",
     "text": [
      "<ipython-input-14-bd1a883ea310>:25: FutureWarning: The frame.append method is deprecated and will be removed from pandas in a future version. Use pandas.concat instead.\n",
      "  final = final.append(\n"
     ]
    },
    {
     "name": "stdout",
     "output_type": "stream",
     "text": [
      "Producing data for:  WST\n"
     ]
    },
    {
     "name": "stderr",
     "output_type": "stream",
     "text": [
      "<ipython-input-14-bd1a883ea310>:25: FutureWarning: The frame.append method is deprecated and will be removed from pandas in a future version. Use pandas.concat instead.\n",
      "  final = final.append(\n"
     ]
    },
    {
     "name": "stdout",
     "output_type": "stream",
     "text": [
      "Producing data for:  WDC\n"
     ]
    },
    {
     "name": "stderr",
     "output_type": "stream",
     "text": [
      "<ipython-input-14-bd1a883ea310>:25: FutureWarning: The frame.append method is deprecated and will be removed from pandas in a future version. Use pandas.concat instead.\n",
      "  final = final.append(\n"
     ]
    },
    {
     "name": "stdout",
     "output_type": "stream",
     "text": [
      "Producing data for:  WRK\n"
     ]
    },
    {
     "name": "stderr",
     "output_type": "stream",
     "text": [
      "<ipython-input-14-bd1a883ea310>:25: FutureWarning: The frame.append method is deprecated and will be removed from pandas in a future version. Use pandas.concat instead.\n",
      "  final = final.append(\n"
     ]
    },
    {
     "name": "stdout",
     "output_type": "stream",
     "text": [
      "Producing data for:  WY\n"
     ]
    },
    {
     "name": "stderr",
     "output_type": "stream",
     "text": [
      "<ipython-input-14-bd1a883ea310>:25: FutureWarning: The frame.append method is deprecated and will be removed from pandas in a future version. Use pandas.concat instead.\n",
      "  final = final.append(\n"
     ]
    },
    {
     "name": "stdout",
     "output_type": "stream",
     "text": [
      "Producing data for:  WHR\n"
     ]
    },
    {
     "name": "stderr",
     "output_type": "stream",
     "text": [
      "<ipython-input-14-bd1a883ea310>:25: FutureWarning: The frame.append method is deprecated and will be removed from pandas in a future version. Use pandas.concat instead.\n",
      "  final = final.append(\n"
     ]
    },
    {
     "name": "stdout",
     "output_type": "stream",
     "text": [
      "Producing data for:  WMB\n"
     ]
    },
    {
     "name": "stderr",
     "output_type": "stream",
     "text": [
      "<ipython-input-14-bd1a883ea310>:25: FutureWarning: The frame.append method is deprecated and will be removed from pandas in a future version. Use pandas.concat instead.\n",
      "  final = final.append(\n"
     ]
    },
    {
     "name": "stdout",
     "output_type": "stream",
     "text": [
      "Producing data for:  WTW\n"
     ]
    },
    {
     "name": "stderr",
     "output_type": "stream",
     "text": [
      "<ipython-input-14-bd1a883ea310>:25: FutureWarning: The frame.append method is deprecated and will be removed from pandas in a future version. Use pandas.concat instead.\n",
      "  final = final.append(\n"
     ]
    },
    {
     "name": "stdout",
     "output_type": "stream",
     "text": [
      "Producing data for:  GWW\n"
     ]
    },
    {
     "name": "stderr",
     "output_type": "stream",
     "text": [
      "<ipython-input-14-bd1a883ea310>:25: FutureWarning: The frame.append method is deprecated and will be removed from pandas in a future version. Use pandas.concat instead.\n",
      "  final = final.append(\n"
     ]
    },
    {
     "name": "stdout",
     "output_type": "stream",
     "text": [
      "Producing data for:  WYNN\n"
     ]
    },
    {
     "name": "stderr",
     "output_type": "stream",
     "text": [
      "<ipython-input-14-bd1a883ea310>:25: FutureWarning: The frame.append method is deprecated and will be removed from pandas in a future version. Use pandas.concat instead.\n",
      "  final = final.append(\n"
     ]
    },
    {
     "name": "stdout",
     "output_type": "stream",
     "text": [
      "Producing data for:  XEL\n"
     ]
    },
    {
     "name": "stderr",
     "output_type": "stream",
     "text": [
      "<ipython-input-14-bd1a883ea310>:25: FutureWarning: The frame.append method is deprecated and will be removed from pandas in a future version. Use pandas.concat instead.\n",
      "  final = final.append(\n"
     ]
    },
    {
     "name": "stdout",
     "output_type": "stream",
     "text": [
      "Producing data for:  XYL\n"
     ]
    },
    {
     "name": "stderr",
     "output_type": "stream",
     "text": [
      "<ipython-input-14-bd1a883ea310>:25: FutureWarning: The frame.append method is deprecated and will be removed from pandas in a future version. Use pandas.concat instead.\n",
      "  final = final.append(\n"
     ]
    },
    {
     "name": "stdout",
     "output_type": "stream",
     "text": [
      "Producing data for:  YUM\n"
     ]
    },
    {
     "name": "stderr",
     "output_type": "stream",
     "text": [
      "<ipython-input-14-bd1a883ea310>:25: FutureWarning: The frame.append method is deprecated and will be removed from pandas in a future version. Use pandas.concat instead.\n",
      "  final = final.append(\n"
     ]
    },
    {
     "name": "stdout",
     "output_type": "stream",
     "text": [
      "Producing data for:  ZBRA\n"
     ]
    },
    {
     "name": "stderr",
     "output_type": "stream",
     "text": [
      "<ipython-input-14-bd1a883ea310>:25: FutureWarning: The frame.append method is deprecated and will be removed from pandas in a future version. Use pandas.concat instead.\n",
      "  final = final.append(\n"
     ]
    },
    {
     "name": "stdout",
     "output_type": "stream",
     "text": [
      "Producing data for:  ZBH\n"
     ]
    },
    {
     "name": "stderr",
     "output_type": "stream",
     "text": [
      "<ipython-input-14-bd1a883ea310>:25: FutureWarning: The frame.append method is deprecated and will be removed from pandas in a future version. Use pandas.concat instead.\n",
      "  final = final.append(\n"
     ]
    },
    {
     "name": "stdout",
     "output_type": "stream",
     "text": [
      "Producing data for:  ZION\n"
     ]
    },
    {
     "name": "stderr",
     "output_type": "stream",
     "text": [
      "<ipython-input-14-bd1a883ea310>:25: FutureWarning: The frame.append method is deprecated and will be removed from pandas in a future version. Use pandas.concat instead.\n",
      "  final = final.append(\n"
     ]
    },
    {
     "name": "stdout",
     "output_type": "stream",
     "text": [
      "Producing data for:  ZTS\n"
     ]
    },
    {
     "name": "stderr",
     "output_type": "stream",
     "text": [
      "<ipython-input-14-bd1a883ea310>:25: FutureWarning: The frame.append method is deprecated and will be removed from pandas in a future version. Use pandas.concat instead.\n",
      "  final = final.append(\n"
     ]
    }
   ],
   "source": [
    "final = pd.DataFrame(columns=['Ticker','Date','Open', 'High', 'Low', 'Close', 'Volume','Market Cap','Dividends', 'Stock Splits'])\n",
    "for i in range(len(tick[\"0\"])):\n",
    "    print(\"Producing data for: \", tick[\"0\"][i])\n",
    "    try:\n",
    "        d = yf.Ticker(tick[\"0\"][i]).history(period='max')\n",
    "    except IndexError: \n",
    "        print(\"Couldn't find: \",tick[\"0\"][i])\n",
    "        continue\n",
    "    except KeyError:\n",
    "        continue\n",
    "    d.reset_index(inplace=True)\n",
    "    d['Ticker'] = tick['0'][i]\n",
    "    try:\n",
    "        d['Market Cap'] = web.get_quote_yahoo(tick[\"0\"][i])['marketCap'][0]\n",
    "    except IndexError:\n",
    "        print(\"Couldn't find market cap for \",tick[\"0\"][i])\n",
    "        continue\n",
    "    except KeyError:\n",
    "        continue\n",
    "    d = d.iloc[-1]\n",
    "\n",
    "    #Change to keep only last 2 days!!! get date\n",
    "\n",
    "    #Append latest value\n",
    "    final = final.append(\n",
    "        pd.Series(d,\n",
    "        index=['Ticker','Date','Open', 'High', 'Low', 'Close', 'Volume','Market Cap','Dividends', 'Stock Splits']), \n",
    "        ignore_index = True\n",
    "    )  "
   ]
  },
  {
   "cell_type": "code",
   "execution_count": 17,
   "metadata": {},
   "outputs": [
    {
     "data": {
      "text/plain": [
       "<AxesSubplot:>"
      ]
     },
     "execution_count": 17,
     "metadata": {},
     "output_type": "execute_result"
    },
    {
     "data": {
      "image/png": "[encoded data removed]",
      "text/plain": [
       "<Figure size 432x288 with 1 Axes>"
      ]
     },
     "metadata": {
      "needs_background": "light"
     },
     "output_type": "display_data"
    }
   ],
   "source": [
    "final['Open'].plot()"
   ]
  },
  {
   "cell_type": "code",
   "execution_count": 18,
   "metadata": {},
   "outputs": [
    {
     "data": {
      "text/html": [
       "<div>\n",
       "<style scoped>\n",
       "    .dataframe tbody tr th:only-of-type {\n",
       "        vertical-align: middle;\n",
       "    }\n",
       "\n",
       "    .dataframe tbody tr th {\n",
       "        vertical-align: top;\n",
       "    }\n",
       "\n",
       "    .dataframe thead th {\n",
       "        text-align: right;\n",
       "    }\n",
       "</style>\n",
       "<table border=\"1\" class=\"dataframe\">\n",
       "  <thead>\n",
       "    <tr style=\"text-align: right;\">\n",
       "      <th></th>\n",
       "      <th>Ticker</th>\n",
       "      <th>Date</th>\n",
       "      <th>Open</th>\n",
       "      <th>High</th>\n",
       "      <th>Low</th>\n",
       "      <th>Close</th>\n",
       "      <th>Volume</th>\n",
       "      <th>Market Cap</th>\n",
       "      <th>Dividends</th>\n",
       "      <th>Stock Splits</th>\n",
       "    </tr>\n",
       "  </thead>\n",
       "  <tbody>\n",
       "    <tr>\n",
       "      <th>0</th>\n",
       "      <td>MMM</td>\n",
       "      <td>2022-12-23 00:00:00-05:00</td>\n",
       "      <td>120.790001</td>\n",
       "      <td>121.000000</td>\n",
       "      <td>117.800003</td>\n",
       "      <td>120.139999</td>\n",
       "      <td>2609300</td>\n",
       "      <td>66406539264</td>\n",
       "      <td>0.00</td>\n",
       "      <td>0.0</td>\n",
       "    </tr>\n",
       "    <tr>\n",
       "      <th>1</th>\n",
       "      <td>AOS</td>\n",
       "      <td>2022-12-23 00:00:00-05:00</td>\n",
       "      <td>56.049999</td>\n",
       "      <td>56.939999</td>\n",
       "      <td>55.840000</td>\n",
       "      <td>56.900002</td>\n",
       "      <td>879500</td>\n",
       "      <td>8692955136</td>\n",
       "      <td>0.00</td>\n",
       "      <td>0.0</td>\n",
       "    </tr>\n",
       "    <tr>\n",
       "      <th>2</th>\n",
       "      <td>ABT</td>\n",
       "      <td>2022-12-23 00:00:00-05:00</td>\n",
       "      <td>107.669998</td>\n",
       "      <td>108.400002</td>\n",
       "      <td>107.099998</td>\n",
       "      <td>108.180000</td>\n",
       "      <td>2618400</td>\n",
       "      <td>188619407360</td>\n",
       "      <td>0.00</td>\n",
       "      <td>0.0</td>\n",
       "    </tr>\n",
       "    <tr>\n",
       "      <th>3</th>\n",
       "      <td>ABBV</td>\n",
       "      <td>2022-12-23 00:00:00-05:00</td>\n",
       "      <td>163.389999</td>\n",
       "      <td>163.820007</td>\n",
       "      <td>162.330002</td>\n",
       "      <td>163.100006</td>\n",
       "      <td>2684700</td>\n",
       "      <td>288439107584</td>\n",
       "      <td>0.00</td>\n",
       "      <td>0.0</td>\n",
       "    </tr>\n",
       "    <tr>\n",
       "      <th>4</th>\n",
       "      <td>ACN</td>\n",
       "      <td>2022-12-23 00:00:00-05:00</td>\n",
       "      <td>265.790009</td>\n",
       "      <td>266.709991</td>\n",
       "      <td>263.309998</td>\n",
       "      <td>266.089996</td>\n",
       "      <td>1213300</td>\n",
       "      <td>167702691840</td>\n",
       "      <td>0.00</td>\n",
       "      <td>0.0</td>\n",
       "    </tr>\n",
       "    <tr>\n",
       "      <th>...</th>\n",
       "      <td>...</td>\n",
       "      <td>...</td>\n",
       "      <td>...</td>\n",
       "      <td>...</td>\n",
       "      <td>...</td>\n",
       "      <td>...</td>\n",
       "      <td>...</td>\n",
       "      <td>...</td>\n",
       "      <td>...</td>\n",
       "      <td>...</td>\n",
       "    </tr>\n",
       "    <tr>\n",
       "      <th>496</th>\n",
       "      <td>YUM</td>\n",
       "      <td>2022-12-23 00:00:00-05:00</td>\n",
       "      <td>128.429993</td>\n",
       "      <td>129.210007</td>\n",
       "      <td>127.839996</td>\n",
       "      <td>128.899994</td>\n",
       "      <td>699700</td>\n",
       "      <td>36309581824</td>\n",
       "      <td>0.00</td>\n",
       "      <td>0.0</td>\n",
       "    </tr>\n",
       "    <tr>\n",
       "      <th>497</th>\n",
       "      <td>ZBRA</td>\n",
       "      <td>2022-12-23 00:00:00-05:00</td>\n",
       "      <td>246.860001</td>\n",
       "      <td>249.139999</td>\n",
       "      <td>244.759995</td>\n",
       "      <td>248.220001</td>\n",
       "      <td>180900</td>\n",
       "      <td>12815549440</td>\n",
       "      <td>0.00</td>\n",
       "      <td>0.0</td>\n",
       "    </tr>\n",
       "    <tr>\n",
       "      <th>498</th>\n",
       "      <td>ZBH</td>\n",
       "      <td>2022-12-23 00:00:00-05:00</td>\n",
       "      <td>125.940002</td>\n",
       "      <td>126.769997</td>\n",
       "      <td>125.239998</td>\n",
       "      <td>126.690002</td>\n",
       "      <td>789800</td>\n",
       "      <td>26586150912</td>\n",
       "      <td>0.24</td>\n",
       "      <td>0.0</td>\n",
       "    </tr>\n",
       "    <tr>\n",
       "      <th>499</th>\n",
       "      <td>ZION</td>\n",
       "      <td>2022-12-23 00:00:00-05:00</td>\n",
       "      <td>48.279999</td>\n",
       "      <td>48.669998</td>\n",
       "      <td>47.990002</td>\n",
       "      <td>48.450001</td>\n",
       "      <td>1263300</td>\n",
       "      <td>7248992256</td>\n",
       "      <td>0.00</td>\n",
       "      <td>0.0</td>\n",
       "    </tr>\n",
       "    <tr>\n",
       "      <th>500</th>\n",
       "      <td>ZTS</td>\n",
       "      <td>2022-12-23 00:00:00-05:00</td>\n",
       "      <td>144.509995</td>\n",
       "      <td>145.889999</td>\n",
       "      <td>143.539993</td>\n",
       "      <td>145.759995</td>\n",
       "      <td>1017600</td>\n",
       "      <td>67934650368</td>\n",
       "      <td>0.00</td>\n",
       "      <td>0.0</td>\n",
       "    </tr>\n",
       "  </tbody>\n",
       "</table>\n",
       "<p>501 rows × 10 columns</p>\n",
       "</div>"
      ],
      "text/plain": [
       "    Ticker                      Date        Open        High         Low  \\\n",
       "0      MMM 2022-12-23 00:00:00-05:00  120.790001  121.000000  117.800003   \n",
       "1      AOS 2022-12-23 00:00:00-05:00   56.049999   56.939999   55.840000   \n",
       "2      ABT 2022-12-23 00:00:00-05:00  107.669998  108.400002  107.099998   \n",
       "3     ABBV 2022-12-23 00:00:00-05:00  163.389999  163.820007  162.330002   \n",
       "4      ACN 2022-12-23 00:00:00-05:00  265.790009  266.709991  263.309998   \n",
       "..     ...                       ...         ...         ...         ...   \n",
       "496    YUM 2022-12-23 00:00:00-05:00  128.429993  129.210007  127.839996   \n",
       "497   ZBRA 2022-12-23 00:00:00-05:00  246.860001  249.139999  244.759995   \n",
       "498    ZBH 2022-12-23 00:00:00-05:00  125.940002  126.769997  125.239998   \n",
       "499   ZION 2022-12-23 00:00:00-05:00   48.279999   48.669998   47.990002   \n",
       "500    ZTS 2022-12-23 00:00:00-05:00  144.509995  145.889999  143.539993   \n",
       "\n",
       "          Close   Volume    Market Cap  Dividends  Stock Splits  \n",
       "0    120.139999  2609300   66406539264       0.00           0.0  \n",
       "1     56.900002   879500    8692955136       0.00           0.0  \n",
       "2    108.180000  2618400  188619407360       0.00           0.0  \n",
       "3    163.100006  2684700  288439107584       0.00           0.0  \n",
       "4    266.089996  1213300  167702691840       0.00           0.0  \n",
       "..          ...      ...           ...        ...           ...  \n",
       "496  128.899994   699700   36309581824       0.00           0.0  \n",
       "497  248.220001   180900   12815549440       0.00           0.0  \n",
       "498  126.690002   789800   26586150912       0.24           0.0  \n",
       "499   48.450001  1263300    7248992256       0.00           0.0  \n",
       "500  145.759995  1017600   67934650368       0.00           0.0  \n",
       "\n",
       "[501 rows x 10 columns]"
      ]
     },
     "execution_count": 18,
     "metadata": {},
     "output_type": "execute_result"
    }
   ],
   "source": [
    "final"
   ]
  },
  {
   "cell_type": "code",
   "execution_count": null,
   "metadata": {},
   "outputs": [],
   "source": [
    "#Get value of the portfolio\n"
   ]
  }
 ],
 "metadata": {
  "interpreter": {
   "hash": "f36662cf0d2dc2d22e7ce50b6b2dd5771b8ab03597c45c6e0e62ff4a448306d1"
  },
  "kernelspec": {
   "display_name": "Python 3.8.5 64-bit",
   "language": "python",
   "name": "python3"
  },
  "language_info": {
   "codemirror_mode": {
    "name": "ipython",
    "version": 3
   },
   "file_extension": ".py",
   "mimetype": "text/x-python",
   "name": "python",
   "nbconvert_exporter": "python",
   "pygments_lexer": "ipython3",
   "version": "3.8.5"
  },
  "orig_nbformat": 4
 },
 "nbformat": 4,
 "nbformat_minor": 2
}
