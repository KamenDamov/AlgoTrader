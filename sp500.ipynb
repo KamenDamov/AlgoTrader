{
 "cells": [
  {
   "cell_type": "code",
   "execution_count": null,
   "metadata": {},
   "outputs": [],
   "source": [
    "import numpy as np\n",
    "import pandas as pd\n",
    "import math\n",
    "import requests \n",
    "import matplotlib as plt\n",
    "import seaborn as sns\n",
    "import yfinance as yf\n",
    "import pandas_datareader as web\n",
    "from pandas_datareader import data"
   ]
  },
  {
   "cell_type": "code",
   "execution_count": null,
   "metadata": {},
   "outputs": [],
   "source": [
    "#Create SnP500 scraper: Runs once every year\n",
    "#Implement ML Algo\n",
    "#Implement 2 other Algo trading methods"
   ]
  },
  {
   "cell_type": "code",
   "execution_count": null,
   "metadata": {},
   "outputs": [],
   "source": [
    "tick = pd.read_csv(\"snp500\")"
   ]
  },
  {
   "cell_type": "code",
   "execution_count": null,
   "metadata": {},
   "outputs": [],
   "source": [
    "#for i in range(len(tick[\"0\"])): \n",
    "#    print(tick[\"0\"][i])\n",
    "    #print(tick[\"Ticker\"][i])\n",
    "    #print(data.get_quote_yahoo(tick[\"Ticker\"][i])['marketCap'][0])"
   ]
  },
  {
   "cell_type": "code",
   "execution_count": null,
   "metadata": {},
   "outputs": [],
   "source": [
    "final = pd.DataFrame(columns=['Ticker','Date','Open', 'High', 'Low', 'Close', 'Volume','Market Cap','Dividends', 'Stock Splits'])\n",
    "for i in range(len(tick[\"0\"])):\n",
    "    print(\"Producing data for: \", tick[\"0\"][i])\n",
    "    try:\n",
    "        d = yf.Ticker(tick[\"0\"][i]).history(period='max')\n",
    "    except IndexError: \n",
    "        print(\"Couldn't find: \",tick[\"0\"][i])\n",
    "        continue\n",
    "    except KeyError:\n",
    "        continue\n",
    "    d.reset_index(inplace=True)\n",
    "    d['Ticker'] = tick['0'][i]\n",
    "    try:\n",
    "        d['Market Cap'] = web.get_quote_yahoo(tick[\"0\"][i])['marketCap'][0]\n",
    "    except IndexError:\n",
    "        print(\"Couldn't find market cap for \",tick[\"0\"][i])\n",
    "        continue\n",
    "    except KeyError:\n",
    "        continue\n",
    "    d = d.iloc[-1]\n",
    "\n",
    "    #Change to keep only last 2 days!!! get date\n",
    "\n",
    "    #Append latest value\n",
    "    final = final.append(\n",
    "        pd.Series(d,\n",
    "        index=['Ticker','Date','Open', 'High', 'Low', 'Close', 'Volume','Market Cap','Dividends', 'Stock Splits']), \n",
    "        ignore_index = True\n",
    "    )  "
   ]
  },
  {
   "cell_type": "code",
   "execution_count": null,
   "metadata": {},
   "outputs": [],
   "source": [
    "final['Open'].plot()"
   ]
  },
  {
   "cell_type": "code",
   "execution_count": null,
   "metadata": {},
   "outputs": [],
   "source": [
    "final"
   ]
  },
  {
   "cell_type": "code",
   "execution_count": null,
   "metadata": {},
   "outputs": [],
   "source": [
    "#Get value of the portfolio\n",
    "port_size = input(\"Enter value of portfolio\")\n",
    "val = float(port_size)"
   ]
  },
  {
   "cell_type": "code",
   "execution_count": null,
   "metadata": {},
   "outputs": [],
   "source": [
    "position_size = val/len(final)\n",
    "for i in range(len(final)): \n",
    "    if position_size/final[\"Close\"][i]>1: \n",
    "        print(position_size/final[\"Close\"][i])\n",
    "    print(\"Stock: \", final[\"Ticker\"][i], \" Number of shares you can buy: \", position_size/final[\"Close\"][i])"
   ]
  }
 ],
 "metadata": {
  "interpreter": {
   "hash": "f36662cf0d2dc2d22e7ce50b6b2dd5771b8ab03597c45c6e0e62ff4a448306d1"
  },
  "kernelspec": {
   "display_name": "Python 3.8.5 64-bit",
   "language": "python",
   "name": "python3"
  },
  "language_info": {
   "codemirror_mode": {
    "name": "ipython",
    "version": 3
   },
   "file_extension": ".py",
   "mimetype": "text/x-python",
   "name": "python",
   "nbconvert_exporter": "python",
   "pygments_lexer": "ipython3",
   "version": "3.8.5"
  },
  "orig_nbformat": 4
 },
 "nbformat": 4,
 "nbformat_minor": 2
}
