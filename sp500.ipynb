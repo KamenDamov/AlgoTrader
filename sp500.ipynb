{
 "cells": [
  {
   "cell_type": "code",
   "execution_count": null,
   "metadata": {},
   "outputs": [],
   "source": [
    "import numpy as np\n",
    "import pandas as pd\n",
    "import math\n",
    "import requests \n",
    "import matplotlib as plt\n",
    "import seaborn as sns\n",
    "import yfinance as yf\n",
    "import pandas_datareader as web\n",
    "from pandas_datareader import data"
   ]
  },
  {
   "cell_type": "code",
   "execution_count": null,
   "metadata": {},
   "outputs": [],
   "source": [
    "#Create SnP500 scraper: Runs once every year\n",
    "#Implement ML Algo\n",
    "#Implement 2 other Algo trading methods"
   ]
  },
  {
   "cell_type": "code",
   "execution_count": null,
   "metadata": {},
   "outputs": [],
   "source": [
    "tick = pd.read_csv(\"snp500\")"
   ]
  },
  {
   "cell_type": "code",
   "execution_count": null,
   "metadata": {},
   "outputs": [],
   "source": [
    "#for i in range(len(tick[\"0\"])): \n",
    "#    print(tick[\"0\"][i])\n",
    "    #print(tick[\"Ticker\"][i])\n",
    "    #print(data.get_quote_yahoo(tick[\"Ticker\"][i])['marketCap'][0])"
   ]
  },
  {
   "cell_type": "code",
   "execution_count": 5,
   "metadata": {},
   "outputs": [
    {
     "name": "stderr",
     "output_type": "stream",
     "text": [
      "<ipython-input-5-bd1a883ea310>:25: FutureWarning: The frame.append method is deprecated and will be removed from pandas in a future version. Use pandas.concat instead.\n",
      "  final = final.append(\n"
     ]
    },
    {
     "name": "stdout",
     "output_type": "stream",
     "text": [
      "Producing data for:  URI\n"
     ]
    },
    {
     "name": "stderr",
     "output_type": "stream",
     "text": [
      "<ipython-input-5-bd1a883ea310>:25: FutureWarning: The frame.append method is deprecated and will be removed from pandas in a future version. Use pandas.concat instead.\n",
      "  final = final.append(\n"
     ]
    },
    {
     "name": "stdout",
     "output_type": "stream",
     "text": [
      "Producing data for:  UNH\n"
     ]
    },
    {
     "name": "stderr",
     "output_type": "stream",
     "text": [
      "<ipython-input-5-bd1a883ea310>:25: FutureWarning: The frame.append method is deprecated and will be removed from pandas in a future version. Use pandas.concat instead.\n",
      "  final = final.append(\n"
     ]
    },
    {
     "name": "stdout",
     "output_type": "stream",
     "text": [
      "Producing data for:  UHS\n"
     ]
    },
    {
     "name": "stderr",
     "output_type": "stream",
     "text": [
      "<ipython-input-5-bd1a883ea310>:25: FutureWarning: The frame.append method is deprecated and will be removed from pandas in a future version. Use pandas.concat instead.\n",
      "  final = final.append(\n"
     ]
    },
    {
     "name": "stdout",
     "output_type": "stream",
     "text": [
      "Producing data for:  VLO\n"
     ]
    },
    {
     "name": "stderr",
     "output_type": "stream",
     "text": [
      "<ipython-input-5-bd1a883ea310>:25: FutureWarning: The frame.append method is deprecated and will be removed from pandas in a future version. Use pandas.concat instead.\n",
      "  final = final.append(\n"
     ]
    },
    {
     "name": "stdout",
     "output_type": "stream",
     "text": [
      "Producing data for:  VTR\n"
     ]
    },
    {
     "name": "stderr",
     "output_type": "stream",
     "text": [
      "<ipython-input-5-bd1a883ea310>:25: FutureWarning: The frame.append method is deprecated and will be removed from pandas in a future version. Use pandas.concat instead.\n",
      "  final = final.append(\n"
     ]
    },
    {
     "name": "stdout",
     "output_type": "stream",
     "text": [
      "Producing data for:  VRSN\n"
     ]
    },
    {
     "name": "stderr",
     "output_type": "stream",
     "text": [
      "<ipython-input-5-bd1a883ea310>:25: FutureWarning: The frame.append method is deprecated and will be removed from pandas in a future version. Use pandas.concat instead.\n",
      "  final = final.append(\n"
     ]
    },
    {
     "name": "stdout",
     "output_type": "stream",
     "text": [
      "Producing data for:  VRSK\n"
     ]
    },
    {
     "name": "stderr",
     "output_type": "stream",
     "text": [
      "<ipython-input-5-bd1a883ea310>:25: FutureWarning: The frame.append method is deprecated and will be removed from pandas in a future version. Use pandas.concat instead.\n",
      "  final = final.append(\n"
     ]
    },
    {
     "name": "stdout",
     "output_type": "stream",
     "text": [
      "Producing data for:  VZ\n"
     ]
    },
    {
     "name": "stderr",
     "output_type": "stream",
     "text": [
      "<ipython-input-5-bd1a883ea310>:25: FutureWarning: The frame.append method is deprecated and will be removed from pandas in a future version. Use pandas.concat instead.\n",
      "  final = final.append(\n"
     ]
    },
    {
     "name": "stdout",
     "output_type": "stream",
     "text": [
      "Producing data for:  VRTX\n"
     ]
    },
    {
     "name": "stderr",
     "output_type": "stream",
     "text": [
      "<ipython-input-5-bd1a883ea310>:25: FutureWarning: The frame.append method is deprecated and will be removed from pandas in a future version. Use pandas.concat instead.\n",
      "  final = final.append(\n"
     ]
    },
    {
     "name": "stdout",
     "output_type": "stream",
     "text": [
      "Producing data for:  VFC\n"
     ]
    },
    {
     "name": "stderr",
     "output_type": "stream",
     "text": [
      "<ipython-input-5-bd1a883ea310>:25: FutureWarning: The frame.append method is deprecated and will be removed from pandas in a future version. Use pandas.concat instead.\n",
      "  final = final.append(\n"
     ]
    },
    {
     "name": "stdout",
     "output_type": "stream",
     "text": [
      "Producing data for:  VTRS\n"
     ]
    },
    {
     "name": "stderr",
     "output_type": "stream",
     "text": [
      "<ipython-input-5-bd1a883ea310>:25: FutureWarning: The frame.append method is deprecated and will be removed from pandas in a future version. Use pandas.concat instead.\n",
      "  final = final.append(\n"
     ]
    },
    {
     "name": "stdout",
     "output_type": "stream",
     "text": [
      "Producing data for:  VICI\n"
     ]
    },
    {
     "name": "stderr",
     "output_type": "stream",
     "text": [
      "<ipython-input-5-bd1a883ea310>:25: FutureWarning: The frame.append method is deprecated and will be removed from pandas in a future version. Use pandas.concat instead.\n",
      "  final = final.append(\n"
     ]
    },
    {
     "name": "stdout",
     "output_type": "stream",
     "text": [
      "Producing data for:  V\n"
     ]
    },
    {
     "name": "stderr",
     "output_type": "stream",
     "text": [
      "<ipython-input-5-bd1a883ea310>:25: FutureWarning: The frame.append method is deprecated and will be removed from pandas in a future version. Use pandas.concat instead.\n",
      "  final = final.append(\n"
     ]
    },
    {
     "name": "stdout",
     "output_type": "stream",
     "text": [
      "Producing data for:  VNO\n"
     ]
    },
    {
     "name": "stderr",
     "output_type": "stream",
     "text": [
      "<ipython-input-5-bd1a883ea310>:25: FutureWarning: The frame.append method is deprecated and will be removed from pandas in a future version. Use pandas.concat instead.\n",
      "  final = final.append(\n"
     ]
    },
    {
     "name": "stdout",
     "output_type": "stream",
     "text": [
      "Producing data for:  VMC\n"
     ]
    },
    {
     "name": "stderr",
     "output_type": "stream",
     "text": [
      "<ipython-input-5-bd1a883ea310>:25: FutureWarning: The frame.append method is deprecated and will be removed from pandas in a future version. Use pandas.concat instead.\n",
      "  final = final.append(\n"
     ]
    },
    {
     "name": "stdout",
     "output_type": "stream",
     "text": [
      "Producing data for:  WAB\n"
     ]
    },
    {
     "name": "stderr",
     "output_type": "stream",
     "text": [
      "<ipython-input-5-bd1a883ea310>:25: FutureWarning: The frame.append method is deprecated and will be removed from pandas in a future version. Use pandas.concat instead.\n",
      "  final = final.append(\n"
     ]
    },
    {
     "name": "stdout",
     "output_type": "stream",
     "text": [
      "Producing data for:  WBA\n"
     ]
    },
    {
     "name": "stderr",
     "output_type": "stream",
     "text": [
      "<ipython-input-5-bd1a883ea310>:25: FutureWarning: The frame.append method is deprecated and will be removed from pandas in a future version. Use pandas.concat instead.\n",
      "  final = final.append(\n"
     ]
    },
    {
     "name": "stdout",
     "output_type": "stream",
     "text": [
      "Producing data for:  WMT\n"
     ]
    },
    {
     "name": "stderr",
     "output_type": "stream",
     "text": [
      "<ipython-input-5-bd1a883ea310>:25: FutureWarning: The frame.append method is deprecated and will be removed from pandas in a future version. Use pandas.concat instead.\n",
      "  final = final.append(\n"
     ]
    },
    {
     "name": "stdout",
     "output_type": "stream",
     "text": [
      "Producing data for:  WBD\n",
      "Producing data for:  WM\n"
     ]
    },
    {
     "name": "stderr",
     "output_type": "stream",
     "text": [
      "<ipython-input-5-bd1a883ea310>:25: FutureWarning: The frame.append method is deprecated and will be removed from pandas in a future version. Use pandas.concat instead.\n",
      "  final = final.append(\n",
      "<ipython-input-5-bd1a883ea310>:25: FutureWarning: The frame.append method is deprecated and will be removed from pandas in a future version. Use pandas.concat instead.\n",
      "  final = final.append(\n"
     ]
    },
    {
     "name": "stdout",
     "output_type": "stream",
     "text": [
      "Producing data for:  WAT\n"
     ]
    },
    {
     "name": "stderr",
     "output_type": "stream",
     "text": [
      "<ipython-input-5-bd1a883ea310>:25: FutureWarning: The frame.append method is deprecated and will be removed from pandas in a future version. Use pandas.concat instead.\n",
      "  final = final.append(\n"
     ]
    },
    {
     "name": "stdout",
     "output_type": "stream",
     "text": [
      "Producing data for:  WEC\n"
     ]
    },
    {
     "name": "stderr",
     "output_type": "stream",
     "text": [
      "<ipython-input-5-bd1a883ea310>:25: FutureWarning: The frame.append method is deprecated and will be removed from pandas in a future version. Use pandas.concat instead.\n",
      "  final = final.append(\n"
     ]
    },
    {
     "name": "stdout",
     "output_type": "stream",
     "text": [
      "Producing data for:  WFC\n"
     ]
    },
    {
     "name": "stderr",
     "output_type": "stream",
     "text": [
      "<ipython-input-5-bd1a883ea310>:25: FutureWarning: The frame.append method is deprecated and will be removed from pandas in a future version. Use pandas.concat instead.\n",
      "  final = final.append(\n"
     ]
    },
    {
     "name": "stdout",
     "output_type": "stream",
     "text": [
      "Producing data for:  WELL\n"
     ]
    },
    {
     "name": "stderr",
     "output_type": "stream",
     "text": [
      "<ipython-input-5-bd1a883ea310>:25: FutureWarning: The frame.append method is deprecated and will be removed from pandas in a future version. Use pandas.concat instead.\n",
      "  final = final.append(\n"
     ]
    },
    {
     "name": "stdout",
     "output_type": "stream",
     "text": [
      "Producing data for:  WST\n"
     ]
    },
    {
     "name": "stderr",
     "output_type": "stream",
     "text": [
      "<ipython-input-5-bd1a883ea310>:25: FutureWarning: The frame.append method is deprecated and will be removed from pandas in a future version. Use pandas.concat instead.\n",
      "  final = final.append(\n"
     ]
    },
    {
     "name": "stdout",
     "output_type": "stream",
     "text": [
      "Producing data for:  WDC\n",
      "Producing data for:  WRK\n"
     ]
    },
    {
     "name": "stderr",
     "output_type": "stream",
     "text": [
      "<ipython-input-5-bd1a883ea310>:25: FutureWarning: The frame.append method is deprecated and will be removed from pandas in a future version. Use pandas.concat instead.\n",
      "  final = final.append(\n",
      "<ipython-input-5-bd1a883ea310>:25: FutureWarning: The frame.append method is deprecated and will be removed from pandas in a future version. Use pandas.concat instead.\n",
      "  final = final.append(\n"
     ]
    },
    {
     "name": "stdout",
     "output_type": "stream",
     "text": [
      "Producing data for:  WY\n"
     ]
    },
    {
     "name": "stderr",
     "output_type": "stream",
     "text": [
      "<ipython-input-5-bd1a883ea310>:25: FutureWarning: The frame.append method is deprecated and will be removed from pandas in a future version. Use pandas.concat instead.\n",
      "  final = final.append(\n"
     ]
    },
    {
     "name": "stdout",
     "output_type": "stream",
     "text": [
      "Producing data for:  WHR\n"
     ]
    },
    {
     "name": "stderr",
     "output_type": "stream",
     "text": [
      "<ipython-input-5-bd1a883ea310>:25: FutureWarning: The frame.append method is deprecated and will be removed from pandas in a future version. Use pandas.concat instead.\n",
      "  final = final.append(\n"
     ]
    },
    {
     "name": "stdout",
     "output_type": "stream",
     "text": [
      "Producing data for:  WMB\n"
     ]
    },
    {
     "name": "stderr",
     "output_type": "stream",
     "text": [
      "<ipython-input-5-bd1a883ea310>:25: FutureWarning: The frame.append method is deprecated and will be removed from pandas in a future version. Use pandas.concat instead.\n",
      "  final = final.append(\n"
     ]
    },
    {
     "name": "stdout",
     "output_type": "stream",
     "text": [
      "Producing data for:  WTW\n"
     ]
    },
    {
     "name": "stderr",
     "output_type": "stream",
     "text": [
      "<ipython-input-5-bd1a883ea310>:25: FutureWarning: The frame.append method is deprecated and will be removed from pandas in a future version. Use pandas.concat instead.\n",
      "  final = final.append(\n"
     ]
    },
    {
     "name": "stdout",
     "output_type": "stream",
     "text": [
      "Producing data for:  GWW\n"
     ]
    },
    {
     "name": "stderr",
     "output_type": "stream",
     "text": [
      "<ipython-input-5-bd1a883ea310>:25: FutureWarning: The frame.append method is deprecated and will be removed from pandas in a future version. Use pandas.concat instead.\n",
      "  final = final.append(\n"
     ]
    },
    {
     "name": "stdout",
     "output_type": "stream",
     "text": [
      "Producing data for:  WYNN\n"
     ]
    },
    {
     "name": "stderr",
     "output_type": "stream",
     "text": [
      "<ipython-input-5-bd1a883ea310>:25: FutureWarning: The frame.append method is deprecated and will be removed from pandas in a future version. Use pandas.concat instead.\n",
      "  final = final.append(\n"
     ]
    },
    {
     "name": "stdout",
     "output_type": "stream",
     "text": [
      "Producing data for:  XEL\n"
     ]
    },
    {
     "name": "stderr",
     "output_type": "stream",
     "text": [
      "<ipython-input-5-bd1a883ea310>:25: FutureWarning: The frame.append method is deprecated and will be removed from pandas in a future version. Use pandas.concat instead.\n",
      "  final = final.append(\n"
     ]
    },
    {
     "name": "stdout",
     "output_type": "stream",
     "text": [
      "Producing data for:  XYL\n"
     ]
    },
    {
     "name": "stderr",
     "output_type": "stream",
     "text": [
      "<ipython-input-5-bd1a883ea310>:25: FutureWarning: The frame.append method is deprecated and will be removed from pandas in a future version. Use pandas.concat instead.\n",
      "  final = final.append(\n"
     ]
    },
    {
     "name": "stdout",
     "output_type": "stream",
     "text": [
      "Producing data for:  YUM\n"
     ]
    },
    {
     "name": "stderr",
     "output_type": "stream",
     "text": [
      "<ipython-input-5-bd1a883ea310>:25: FutureWarning: The frame.append method is deprecated and will be removed from pandas in a future version. Use pandas.concat instead.\n",
      "  final = final.append(\n"
     ]
    },
    {
     "name": "stdout",
     "output_type": "stream",
     "text": [
      "Producing data for:  ZBRA\n"
     ]
    },
    {
     "name": "stderr",
     "output_type": "stream",
     "text": [
      "<ipython-input-5-bd1a883ea310>:25: FutureWarning: The frame.append method is deprecated and will be removed from pandas in a future version. Use pandas.concat instead.\n",
      "  final = final.append(\n"
     ]
    },
    {
     "name": "stdout",
     "output_type": "stream",
     "text": [
      "Producing data for:  ZBH\n"
     ]
    },
    {
     "name": "stderr",
     "output_type": "stream",
     "text": [
      "<ipython-input-5-bd1a883ea310>:25: FutureWarning: The frame.append method is deprecated and will be removed from pandas in a future version. Use pandas.concat instead.\n",
      "  final = final.append(\n"
     ]
    },
    {
     "name": "stdout",
     "output_type": "stream",
     "text": [
      "Producing data for:  ZION\n"
     ]
    },
    {
     "name": "stderr",
     "output_type": "stream",
     "text": [
      "<ipython-input-5-bd1a883ea310>:25: FutureWarning: The frame.append method is deprecated and will be removed from pandas in a future version. Use pandas.concat instead.\n",
      "  final = final.append(\n"
     ]
    },
    {
     "name": "stdout",
     "output_type": "stream",
     "text": [
      "Producing data for:  ZTS\n"
     ]
    },
    {
     "name": "stderr",
     "output_type": "stream",
     "text": [
      "<ipython-input-5-bd1a883ea310>:25: FutureWarning: The frame.append method is deprecated and will be removed from pandas in a future version. Use pandas.concat instead.\n",
      "  final = final.append(\n"
     ]
    }
   ],
   "source": [
    "final = pd.DataFrame(columns=['Ticker','Date','Open', 'High', 'Low', 'Close', 'Volume','Market Cap','Dividends', 'Stock Splits'])\n",
    "for i in range(len(tick[\"0\"])):\n",
    "    print(\"Producing data for: \", tick[\"0\"][i])\n",
    "    try:\n",
    "        d = yf.Ticker(tick[\"0\"][i]).history(period='max')\n",
    "    except IndexError: \n",
    "        print(\"Couldn't find: \",tick[\"0\"][i])\n",
    "        continue\n",
    "    except KeyError:\n",
    "        continue\n",
    "    d.reset_index(inplace=True)\n",
    "    d['Ticker'] = tick['0'][i]\n",
    "    try:\n",
    "        d['Market Cap'] = web.get_quote_yahoo(tick[\"0\"][i])['marketCap'][0]\n",
    "    except IndexError:\n",
    "        print(\"Couldn't find market cap for \",tick[\"0\"][i])\n",
    "        continue\n",
    "    except KeyError:\n",
    "        continue\n",
    "    d = d.iloc[-1]\n",
    "\n",
    "    #Change to keep only last 2 days!!! get date\n",
    "\n",
    "    #Append latest value\n",
    "    final = final.append(\n",
    "        pd.Series(d,\n",
    "        index=['Ticker','Date','Open', 'High', 'Low', 'Close', 'Volume','Market Cap','Dividends', 'Stock Splits']), \n",
    "        ignore_index = True\n",
    "    )  "
   ]
  },
  {
   "cell_type": "code",
   "execution_count": 6,
   "metadata": {},
   "outputs": [
    {
     "data": {
      "text/plain": [
       "<AxesSubplot:>"
      ]
     },
     "execution_count": 6,
     "metadata": {},
     "output_type": "execute_result"
    },
    {
     "data": {
      "image/png": "[encoded data removed]",
      "text/plain": [
       "<Figure size 432x288 with 1 Axes>"
      ]
     },
     "metadata": {
      "needs_background": "light"
     },
     "output_type": "display_data"
    }
   ],
   "source": [
    "final['Open'].plot()"
   ]
  },
  {
   "cell_type": "code",
   "execution_count": 7,
   "metadata": {},
   "outputs": [
    {
     "data": {
      "text/html": [
       "<div>\n",
       "<style scoped>\n",
       "    .dataframe tbody tr th:only-of-type {\n",
       "        vertical-align: middle;\n",
       "    }\n",
       "\n",
       "    .dataframe tbody tr th {\n",
       "        vertical-align: top;\n",
       "    }\n",
       "\n",
       "    .dataframe thead th {\n",
       "        text-align: right;\n",
       "    }\n",
       "</style>\n",
       "<table border=\"1\" class=\"dataframe\">\n",
       "  <thead>\n",
       "    <tr style=\"text-align: right;\">\n",
       "      <th></th>\n",
       "      <th>Ticker</th>\n",
       "      <th>Date</th>\n",
       "      <th>Open</th>\n",
       "      <th>High</th>\n",
       "      <th>Low</th>\n",
       "      <th>Close</th>\n",
       "      <th>Volume</th>\n",
       "      <th>Market Cap</th>\n",
       "      <th>Dividends</th>\n",
       "      <th>Stock Splits</th>\n",
       "    </tr>\n",
       "  </thead>\n",
       "  <tbody>\n",
       "    <tr>\n",
       "      <th>0</th>\n",
       "      <td>MMM</td>\n",
       "      <td>2022-12-23 00:00:00-05:00</td>\n",
       "      <td>120.790001</td>\n",
       "      <td>121.000000</td>\n",
       "      <td>117.800003</td>\n",
       "      <td>120.139999</td>\n",
       "      <td>2609300</td>\n",
       "      <td>66406539264</td>\n",
       "      <td>0.00</td>\n",
       "      <td>0.0</td>\n",
       "    </tr>\n",
       "    <tr>\n",
       "      <th>1</th>\n",
       "      <td>AOS</td>\n",
       "      <td>2022-12-23 00:00:00-05:00</td>\n",
       "      <td>56.049999</td>\n",
       "      <td>56.939999</td>\n",
       "      <td>55.840000</td>\n",
       "      <td>56.900002</td>\n",
       "      <td>879500</td>\n",
       "      <td>8692955136</td>\n",
       "      <td>0.00</td>\n",
       "      <td>0.0</td>\n",
       "    </tr>\n",
       "    <tr>\n",
       "      <th>2</th>\n",
       "      <td>ABT</td>\n",
       "      <td>2022-12-23 00:00:00-05:00</td>\n",
       "      <td>107.669998</td>\n",
       "      <td>108.400002</td>\n",
       "      <td>107.099998</td>\n",
       "      <td>108.180000</td>\n",
       "      <td>2618400</td>\n",
       "      <td>188619407360</td>\n",
       "      <td>0.00</td>\n",
       "      <td>0.0</td>\n",
       "    </tr>\n",
       "    <tr>\n",
       "      <th>3</th>\n",
       "      <td>ABBV</td>\n",
       "      <td>2022-12-23 00:00:00-05:00</td>\n",
       "      <td>163.389999</td>\n",
       "      <td>163.820007</td>\n",
       "      <td>162.330002</td>\n",
       "      <td>163.100006</td>\n",
       "      <td>2684700</td>\n",
       "      <td>288439107584</td>\n",
       "      <td>0.00</td>\n",
       "      <td>0.0</td>\n",
       "    </tr>\n",
       "    <tr>\n",
       "      <th>4</th>\n",
       "      <td>ACN</td>\n",
       "      <td>2022-12-23 00:00:00-05:00</td>\n",
       "      <td>265.790009</td>\n",
       "      <td>266.709991</td>\n",
       "      <td>263.309998</td>\n",
       "      <td>266.089996</td>\n",
       "      <td>1213300</td>\n",
       "      <td>167702691840</td>\n",
       "      <td>0.00</td>\n",
       "      <td>0.0</td>\n",
       "    </tr>\n",
       "    <tr>\n",
       "      <th>...</th>\n",
       "      <td>...</td>\n",
       "      <td>...</td>\n",
       "      <td>...</td>\n",
       "      <td>...</td>\n",
       "      <td>...</td>\n",
       "      <td>...</td>\n",
       "      <td>...</td>\n",
       "      <td>...</td>\n",
       "      <td>...</td>\n",
       "      <td>...</td>\n",
       "    </tr>\n",
       "    <tr>\n",
       "      <th>496</th>\n",
       "      <td>YUM</td>\n",
       "      <td>2022-12-23 00:00:00-05:00</td>\n",
       "      <td>128.429993</td>\n",
       "      <td>129.210007</td>\n",
       "      <td>127.839996</td>\n",
       "      <td>128.899994</td>\n",
       "      <td>699700</td>\n",
       "      <td>36309581824</td>\n",
       "      <td>0.00</td>\n",
       "      <td>0.0</td>\n",
       "    </tr>\n",
       "    <tr>\n",
       "      <th>497</th>\n",
       "      <td>ZBRA</td>\n",
       "      <td>2022-12-23 00:00:00-05:00</td>\n",
       "      <td>246.860001</td>\n",
       "      <td>249.139999</td>\n",
       "      <td>244.759995</td>\n",
       "      <td>248.220001</td>\n",
       "      <td>180900</td>\n",
       "      <td>12815549440</td>\n",
       "      <td>0.00</td>\n",
       "      <td>0.0</td>\n",
       "    </tr>\n",
       "    <tr>\n",
       "      <th>498</th>\n",
       "      <td>ZBH</td>\n",
       "      <td>2022-12-23 00:00:00-05:00</td>\n",
       "      <td>125.940002</td>\n",
       "      <td>126.769997</td>\n",
       "      <td>125.239998</td>\n",
       "      <td>126.690002</td>\n",
       "      <td>789800</td>\n",
       "      <td>26586150912</td>\n",
       "      <td>0.24</td>\n",
       "      <td>0.0</td>\n",
       "    </tr>\n",
       "    <tr>\n",
       "      <th>499</th>\n",
       "      <td>ZION</td>\n",
       "      <td>2022-12-23 00:00:00-05:00</td>\n",
       "      <td>48.279999</td>\n",
       "      <td>48.669998</td>\n",
       "      <td>47.990002</td>\n",
       "      <td>48.450001</td>\n",
       "      <td>1263300</td>\n",
       "      <td>7248992256</td>\n",
       "      <td>0.00</td>\n",
       "      <td>0.0</td>\n",
       "    </tr>\n",
       "    <tr>\n",
       "      <th>500</th>\n",
       "      <td>ZTS</td>\n",
       "      <td>2022-12-23 00:00:00-05:00</td>\n",
       "      <td>144.509995</td>\n",
       "      <td>145.889999</td>\n",
       "      <td>143.539993</td>\n",
       "      <td>145.759995</td>\n",
       "      <td>1017600</td>\n",
       "      <td>67934650368</td>\n",
       "      <td>0.00</td>\n",
       "      <td>0.0</td>\n",
       "    </tr>\n",
       "  </tbody>\n",
       "</table>\n",
       "<p>501 rows × 10 columns</p>\n",
       "</div>"
      ],
      "text/plain": [
       "    Ticker                      Date        Open        High         Low  \\\n",
       "0      MMM 2022-12-23 00:00:00-05:00  120.790001  121.000000  117.800003   \n",
       "1      AOS 2022-12-23 00:00:00-05:00   56.049999   56.939999   55.840000   \n",
       "2      ABT 2022-12-23 00:00:00-05:00  107.669998  108.400002  107.099998   \n",
       "3     ABBV 2022-12-23 00:00:00-05:00  163.389999  163.820007  162.330002   \n",
       "4      ACN 2022-12-23 00:00:00-05:00  265.790009  266.709991  263.309998   \n",
       "..     ...                       ...         ...         ...         ...   \n",
       "496    YUM 2022-12-23 00:00:00-05:00  128.429993  129.210007  127.839996   \n",
       "497   ZBRA 2022-12-23 00:00:00-05:00  246.860001  249.139999  244.759995   \n",
       "498    ZBH 2022-12-23 00:00:00-05:00  125.940002  126.769997  125.239998   \n",
       "499   ZION 2022-12-23 00:00:00-05:00   48.279999   48.669998   47.990002   \n",
       "500    ZTS 2022-12-23 00:00:00-05:00  144.509995  145.889999  143.539993   \n",
       "\n",
       "          Close   Volume    Market Cap  Dividends  Stock Splits  \n",
       "0    120.139999  2609300   66406539264       0.00           0.0  \n",
       "1     56.900002   879500    8692955136       0.00           0.0  \n",
       "2    108.180000  2618400  188619407360       0.00           0.0  \n",
       "3    163.100006  2684700  288439107584       0.00           0.0  \n",
       "4    266.089996  1213300  167702691840       0.00           0.0  \n",
       "..          ...      ...           ...        ...           ...  \n",
       "496  128.899994   699700   36309581824       0.00           0.0  \n",
       "497  248.220001   180900   12815549440       0.00           0.0  \n",
       "498  126.690002   789800   26586150912       0.24           0.0  \n",
       "499   48.450001  1263300    7248992256       0.00           0.0  \n",
       "500  145.759995  1017600   67934650368       0.00           0.0  \n",
       "\n",
       "[501 rows x 10 columns]"
      ]
     },
     "execution_count": 7,
     "metadata": {},
     "output_type": "execute_result"
    }
   ],
   "source": [
    "final"
   ]
  },
  {
   "cell_type": "code",
   "execution_count": 8,
   "metadata": {},
   "outputs": [],
   "source": [
    "#Get value of the portfolio\n",
    "port_size = input(\"Enter value of portfolio\")\n",
    "val = float(port_size)"
   ]
  },
  {
   "cell_type": "code",
   "execution_count": 10,
   "metadata": {},
   "outputs": [
    {
     "name": "stdout",
     "output_type": "stream",
     "text": [
      "Stock:  MMM  Number of shares you can buy:  0.01661401693168243\n",
      "Stock:  AOS  Number of shares you can buy:  0.035079225492184285\n",
      "Stock:  ABT  Number of shares you can buy:  0.018450804015540744\n",
      "Stock:  ABBV  Number of shares you can buy:  0.012237939358292349\n",
      "Stock:  ACN  Number of shares you can buy:  0.007501251499501445\n",
      "Stock:  ATVI  Number of shares you can buy:  0.026280553841129973\n",
      "Stock:  ADM  Number of shares you can buy:  0.021094989707174133\n",
      "Stock:  ADBE  Number of shares you can buy:  0.00589749715479688\n",
      "Stock:  ADP  Number of shares you can buy:  0.008284253190863736\n",
      "Stock:  AAP  Number of shares you can buy:  0.013930820777759161\n",
      "Stock:  AES  Number of shares you can buy:  0.06959581460226566\n",
      "Stock:  AFL  Number of shares you can buy:  0.02781892660671688\n",
      "Stock:  A  Number of shares you can buy:  0.013375380561400033\n",
      "Stock:  APD  Number of shares you can buy:  0.006396641229884426\n",
      "Stock:  AKAM  Number of shares you can buy:  0.024002018953029308\n",
      "Stock:  ALK  Number of shares you can buy:  0.046086537075541646\n",
      "Stock:  ALB  Number of shares you can buy:  0.008794536151685708\n",
      "Stock:  ARE  Number of shares you can buy:  0.0135561526050378\n",
      "Stock:  ALGN  Number of shares you can buy:  0.009800206225642705\n",
      "Stock:  ALLE  Number of shares you can buy:  0.019004170305916272\n",
      "Stock:  LNT  Number of shares you can buy:  0.03609417742440521\n",
      "Stock:  ALL  Number of shares you can buy:  0.01463670936056496\n",
      "Stock:  GOOGL  Number of shares you can buy:  0.02236924699024834\n",
      "Stock:  GOOG  Number of shares you can buy:  0.0222247860849757\n",
      "Stock:  MO  Number of shares you can buy:  0.04316626106355537\n",
      "Stock:  AMZN  Number of shares you can buy:  0.02341358339040394\n",
      "Stock:  AMCR  Number of shares you can buy:  0.1655064605789935\n",
      "Stock:  AMD  Number of shares you can buy:  0.030936269186034367\n",
      "Stock:  AEE  Number of shares you can buy:  0.02229429254156873\n",
      "Stock:  AAL  Number of shares you can buy:  0.15704232714722632\n",
      "Stock:  AEP  Number of shares you can buy:  0.020859106835681703\n",
      "Stock:  AXP  Number of shares you can buy:  0.013576438076636747\n",
      "Stock:  AIG  Number of shares you can buy:  0.03160240640997594\n",
      "Stock:  AMT  Number of shares you can buy:  0.009395189516139229\n",
      "Stock:  AWK  Number of shares you can buy:  0.013044098342056824\n",
      "Stock:  AMP  Number of shares you can buy:  0.006474869611596905\n",
      "Stock:  ABC  Number of shares you can buy:  0.011740533195250933\n",
      "Stock:  AME  Number of shares you can buy:  0.014320619271825492\n",
      "Stock:  AMGN  Number of shares you can buy:  0.007562927714758076\n",
      "Stock:  APH  Number of shares you can buy:  0.02632908650985269\n",
      "Stock:  ADI  Number of shares you can buy:  0.01218266619046748\n",
      "Stock:  ANSS  Number of shares you can buy:  0.008402475093199819\n",
      "Stock:  AON  Number of shares you can buy:  0.006640300769651165\n",
      "Stock:  APA  Number of shares you can buy:  0.042243555217607115\n",
      "Stock:  AAPL  Number of shares you can buy:  0.015137327277361176\n",
      "Stock:  AMAT  Number of shares you can buy:  0.020530836854246854\n",
      "Stock:  APTV  Number of shares you can buy:  0.021871662692406573\n",
      "Stock:  ACGL  Number of shares you can buy:  0.031492709851595024\n",
      "Stock:  ANET  Number of shares you can buy:  0.016665342239094792\n",
      "Stock:  AJG  Number of shares you can buy:  0.010593959690227148\n",
      "Stock:  AIZ  Number of shares you can buy:  0.015964232612329238\n",
      "Stock:  T  Number of shares you can buy:  0.10901190836977477\n",
      "Stock:  ATO  Number of shares you can buy:  0.017341511820095423\n",
      "Stock:  ADSK  Number of shares you can buy:  0.010608035422959981\n",
      "Stock:  AZO  Number of shares you can buy:  0.0008211828376054028\n",
      "Stock:  AVB  Number of shares you can buy:  0.012243194497805568\n",
      "Stock:  AVY  Number of shares you can buy:  0.011020970555492626\n",
      "Stock:  BKR  Number of shares you can buy:  0.06859133875829611\n",
      "Stock:  BALL  Number of shares you can buy:  0.0386598478159745\n",
      "Stock:  BAC  Number of shares you can buy:  0.06147237169671758\n",
      "Stock:  BBWI  Number of shares you can buy:  0.04759198973270357\n",
      "Stock:  BAX  Number of shares you can buy:  0.03978489250309448\n",
      "Stock:  BDX  Number of shares you can buy:  0.00784378502164107\n",
      "Stock:  WRB  Number of shares you can buy:  0.027175058774181537\n",
      "Stock:  BBY  Number of shares you can buy:  0.024536054351210618\n",
      "Stock:  BIO  Number of shares you can buy:  0.004836579447585066\n",
      "Stock:  TECH  Number of shares you can buy:  0.024126772670614798\n",
      "Stock:  BIIB  Number of shares you can buy:  0.00715004999945433\n",
      "Stock:  BLK  Number of shares you can buy:  0.002835480264098328\n",
      "Stock:  BK  Number of shares you can buy:  0.044703424766403654\n",
      "Stock:  BA  Number of shares you can buy:  0.010557537341622627\n",
      "Stock:  BKNG  Number of shares you can buy:  0.0010124208551057516\n",
      "Stock:  BWA  Number of shares you can buy:  0.0499001996007984\n",
      "Stock:  BXP  Number of shares you can buy:  0.029181402624336977\n",
      "Stock:  BSX  Number of shares you can buy:  0.04333495276857218\n",
      "Stock:  BMY  Number of shares you can buy:  0.02738383867122657\n",
      "Stock:  AVGO  Number of shares you can buy:  0.003613141955533512\n",
      "Stock:  BR  Number of shares you can buy:  0.01484241558183802\n",
      "Stock:  BRO  Number of shares you can buy:  0.03505458433740923\n",
      "Stock:  CHRW  Number of shares you can buy:  0.021444004563459292\n",
      "Stock:  CDNS  Number of shares you can buy:  0.012363010354666148\n",
      "Stock:  CZR  Number of shares you can buy:  0.046321837478853205\n",
      "Stock:  CPT  Number of shares you can buy:  0.017931974016810435\n",
      "Stock:  CPB  Number of shares you can buy:  0.034846508843735656\n",
      "Stock:  COF  Number of shares you can buy:  0.02200912923474154\n",
      "Stock:  CAH  Number of shares you can buy:  0.024934514777487017\n",
      "Stock:  KMX  Number of shares you can buy:  0.033178324286810945\n",
      "Stock:  CCL  Number of shares you can buy:  0.2555708064860198\n",
      "Stock:  CARR  Number of shares you can buy:  0.04776281264187066\n",
      "Stock:  CTLT  Number of shares you can buy:  0.046044015093184024\n",
      "Stock:  CAT  Number of shares you can buy:  0.0083212074234495\n",
      "Stock:  CBOE  Number of shares you can buy:  0.01581873497546712\n",
      "Stock:  CBRE  Number of shares you can buy:  0.026033755467603573\n",
      "Stock:  CDW  Number of shares you can buy:  0.011204715341140405\n",
      "Stock:  CE  Number of shares you can buy:  0.019461856781847062\n",
      "Stock:  CNC  Number of shares you can buy:  0.02445189331362326\n",
      "Stock:  CNP  Number of shares you can buy:  0.06503773050824505\n",
      "Stock:  CDAY  Number of shares you can buy:  0.03217810774321865\n",
      "Stock:  CF  Number of shares you can buy:  0.021997002766394134\n",
      "Stock:  CRL  Number of shares you can buy:  0.009135047981839525\n",
      "Stock:  SCHW  Number of shares you can buy:  0.02441002893450877\n",
      "Stock:  CHTR  Number of shares you can buy:  0.005977503305485174\n",
      "Stock:  CVX  Number of shares you can buy:  0.01125145463757252\n",
      "Stock:  CMG  Number of shares you can buy:  0.0014132430858518643\n",
      "Stock:  CB  Number of shares you can buy:  0.0090872207580056\n",
      "Stock:  CHD  Number of shares you can buy:  0.024323763629248412\n",
      "Stock:  CI  Number of shares you can buy:  0.005970530341923443\n",
      "Stock:  CINF  Number of shares you can buy:  0.01910786905538687\n",
      "Stock:  CTAS  Number of shares you can buy:  0.0043653399235898185\n",
      "Stock:  CSCO  Number of shares you can buy:  0.0420389217202154\n",
      "Stock:  C  Number of shares you can buy:  0.045097335285276006\n",
      "Stock:  CFG  Number of shares you can buy:  0.051311257216893856\n",
      "Stock:  CLX  Number of shares you can buy:  0.01385058618817715\n",
      "Stock:  CME  Number of shares you can buy:  0.011515652010304895\n",
      "Stock:  CMS  Number of shares you can buy:  0.0313739078519787\n",
      "Stock:  KO  Number of shares you can buy:  0.03127558748944669\n",
      "Stock:  CTSH  Number of shares you can buy:  0.03563027432562818\n",
      "Stock:  CL  Number of shares you can buy:  0.025122820147271224\n",
      "Stock:  CMCSA  Number of shares you can buy:  0.056801594157680074\n",
      "Stock:  CMA  Number of shares you can buy:  0.03020593112474613\n",
      "Stock:  CAG  Number of shares you can buy:  0.05139052461870145\n",
      "Stock:  COP  Number of shares you can buy:  0.017052609414707407\n",
      "Stock:  ED  Number of shares you can buy:  0.02082428811483858\n",
      "Stock:  STZ  Number of shares you can buy:  0.008588304946347507\n",
      "Stock:  CEG  Number of shares you can buy:  0.022671603399312394\n",
      "Stock:  COO  Number of shares you can buy:  0.005998881730310621\n",
      "Stock:  CPRT  Number of shares you can buy:  0.03298641611962552\n",
      "Stock:  GLW  Number of shares you can buy:  0.06286639319785625\n",
      "Stock:  CTVA  Number of shares you can buy:  0.03361414530360652\n",
      "Stock:  CSGP  Number of shares you can buy:  0.025959266482978475\n",
      "Stock:  COST  Number of shares you can buy:  0.004314293764971999\n",
      "Stock:  CTRA  Number of shares you can buy:  0.07920666363500188\n",
      "Stock:  CCI  Number of shares you can buy:  0.01457152902823934\n",
      "Stock:  CSX  Number of shares you can buy:  0.06387225548902195\n",
      "Stock:  CMI  Number of shares you can buy:  0.008273265479061348\n",
      "Stock:  CVS  Number of shares you can buy:  0.021333989270167494\n",
      "Stock:  DHI  Number of shares you can buy:  0.022381789383287238\n",
      "Stock:  DHR  Number of shares you can buy:  0.007681090189132247\n",
      "Stock:  DRI  Number of shares you can buy:  0.014376318328144528\n",
      "Stock:  DVA  Number of shares you can buy:  0.027060844986764296\n",
      "Stock:  DE  Number of shares you can buy:  0.004568255824710688\n",
      "Stock:  DAL  Number of shares you can buy:  0.06019324466877854\n",
      "Stock:  XRAY  Number of shares you can buy:  0.06270838796155219\n",
      "Stock:  DVN  Number of shares you can buy:  0.03193101963889125\n",
      "Stock:  DXCM  Number of shares you can buy:  0.0179110547407015\n",
      "Stock:  FANG  Number of shares you can buy:  0.014566211791673037\n",
      "Stock:  DLR  Number of shares you can buy:  0.01978792435493981\n",
      "Stock:  DFS  Number of shares you can buy:  0.020450901795466554\n",
      "Stock:  DISH  Number of shares you can buy:  0.1380365130543749\n",
      "Stock:  DIS  Number of shares you can buy:  0.022679331162182226\n",
      "Stock:  DG  Number of shares you can buy:  0.008063049725006911\n",
      "Stock:  DLTR  Number of shares you can buy:  0.01406530852317129\n",
      "Stock:  D  Number of shares you can buy:  0.03283447859797784\n",
      "Stock:  DPZ  Number of shares you can buy:  0.005654093383235118\n",
      "Stock:  DOV  Number of shares you can buy:  0.014815973618958067\n",
      "Stock:  DOW  Number of shares you can buy:  0.039245142746335074\n",
      "Stock:  DTE  Number of shares you can buy:  0.016838265299612316\n",
      "Stock:  DUK  Number of shares you can buy:  0.019380600305207933\n",
      "Stock:  DD  Number of shares you can buy:  0.02904129036144701\n",
      "Stock:  DXC  Number of shares you can buy:  0.07523588135588224\n",
      "Stock:  EMN  Number of shares you can buy:  0.024288245030661376\n",
      "Stock:  ETN  Number of shares you can buy:  0.012729642507551977\n",
      "Stock:  EBAY  Number of shares you can buy:  0.049689023525398446\n",
      "Stock:  ECL  Number of shares you can buy:  0.013809382017063047\n",
      "Stock:  EIX  Number of shares you can buy:  0.030623012805868887\n",
      "Stock:  EW  Number of shares you can buy:  0.026904002134362275\n",
      "Stock:  EA  Number of shares you can buy:  0.016426696970954863\n",
      "Stock:  ELV  Number of shares you can buy:  0.003881094458982073\n",
      "Stock:  LLY  Number of shares you can buy:  0.0054254091251590255\n",
      "Stock:  EMR  Number of shares you can buy:  0.020891856446565524\n",
      "Stock:  ENPH  Number of shares you can buy:  0.006790297333364737\n",
      "Stock:  ETR  Number of shares you can buy:  0.0175968260483277\n",
      "Stock:  EOG  Number of shares you can buy:  0.015282198719121218\n",
      "Stock:  EPAM  Number of shares you can buy:  0.00616698993217495\n",
      "Stock:  EQT  Number of shares you can buy:  0.05512311611429594\n",
      "Stock:  EFX  Number of shares you can buy:  0.010197762364489231\n",
      "Stock:  EQIX  Number of shares you can buy:  0.003034922768307344\n",
      "Stock:  EQR  Number of shares you can buy:  0.033580215850392746\n",
      "Stock:  ESS  Number of shares you can buy:  0.00943070182656448\n",
      "Stock:  EL  Number of shares you can buy:  0.008281503396604167\n",
      "Stock:  ETSY  Number of shares you can buy:  0.015724026671208438\n",
      "Stock:  RE  Number of shares you can buy:  0.005959655750648697\n",
      "Stock:  EVRG  Number of shares you can buy:  0.03151259834580826\n",
      "Stock:  ES  Number of shares you can buy:  0.023697113908136034\n",
      "Stock:  EXC  Number of shares you can buy:  0.04637564920013385\n",
      "Stock:  EXPE  Number of shares you can buy:  0.023093925453942257\n",
      "Stock:  EXPD  Number of shares you can buy:  0.018600391663806247\n",
      "Stock:  EXR  Number of shares you can buy:  0.01358660359591796\n",
      "Stock:  XOM  Number of shares you can buy:  0.01836591809373484\n",
      "Stock:  FFIV  Number of shares you can buy:  0.014155081638097453\n",
      "Stock:  FDS  Number of shares you can buy:  0.005014591350574427\n",
      "Stock:  FAST  Number of shares you can buy:  0.041792463445963116\n",
      "Stock:  FRT  Number of shares you can buy:  0.019503694112337277\n",
      "Stock:  FDX  Number of shares you can buy:  0.0113454673286456\n",
      "Stock:  FITB  Number of shares you can buy:  0.0615861769030929\n",
      "Stock:  FRC  Number of shares you can buy:  0.01671698457725161\n",
      "Stock:  FSLR  Number of shares you can buy:  0.01273370324741267\n",
      "Stock:  FE  Number of shares you can buy:  0.047523999619808\n",
      "Stock:  FIS  Number of shares you can buy:  0.029826778820179308\n",
      "Stock:  FISV  Number of shares you can buy:  0.019868684075475408\n",
      "Stock:  FLT  Number of shares you can buy:  0.011014280822132044\n",
      "Stock:  FMC  Number of shares you can buy:  0.015798702247020038\n",
      "Stock:  F  Number of shares you can buy:  0.17570493348199276\n",
      "Stock:  FTNT  Number of shares you can buy:  0.04096055823480795\n",
      "Stock:  FTV  Number of shares you can buy:  0.031114698933042452\n",
      "Stock:  FOXA  Number of shares you can buy:  0.06488972591612018\n",
      "Stock:  FOX  Number of shares you can buy:  0.06918571776913966\n",
      "Stock:  BEN  Number of shares you can buy:  0.07433921622621138\n",
      "Stock:  FCX  Number of shares you can buy:  0.05238866309634362\n",
      "Stock:  GRMN  Number of shares you can buy:  0.021871662692406573\n",
      "Stock:  IT  Number of shares you can buy:  0.0059413838711274815\n",
      "Stock:  GEN  Number of shares you can buy:  0.0937092983815238\n",
      "Stock:  GNRC  Number of shares you can buy:  0.02165102431036978\n",
      "Stock:  GD  Number of shares you can buy:  0.008051666128178323\n",
      "Stock:  GE  Number of shares you can buy:  0.0244040587075358\n",
      "Stock:  GIS  Number of shares you can buy:  0.023369721325950832\n",
      "Stock:  GM  Number of shares you can buy:  0.059001119597920766\n",
      "Stock:  GPC  Number of shares you can buy:  0.011304343326932394\n",
      "Stock:  GILD  Number of shares you can buy:  0.023551716625745556\n",
      "Stock:  GL  Number of shares you can buy:  0.01661401693168243\n",
      "Stock:  GPN  Number of shares you can buy:  0.02063697227915963\n",
      "Stock:  GS  Number of shares you can buy:  0.005776990326230832\n",
      "Stock:  HAL  Number of shares you can buy:  0.05106185664467933\n",
      "Stock:  HIG  Number of shares you can buy:  0.026218416603743175\n",
      "Stock:  HAS  Number of shares you can buy:  0.03428977865358471\n",
      "Stock:  HCA  Number of shares you can buy:  0.008291135409518023\n",
      "Stock:  PEAK  Number of shares you can buy:  0.07930107183082019\n",
      "Stock:  HSIC  Number of shares you can buy:  0.02475208332266132\n",
      "Stock:  HSY  Number of shares you can buy:  0.008461963467499386\n",
      "Stock:  HES  Number of shares you can buy:  0.014088142908078603\n",
      "Stock:  HPE  Number of shares you can buy:  0.12673066565282134\n",
      "Stock:  HLT  Number of shares you can buy:  0.015787455344570014\n",
      "Stock:  HOLX  Number of shares you can buy:  0.026433689942570286\n",
      "Stock:  HD  Number of shares you can buy:  0.006262378549968282\n",
      "Stock:  HON  Number of shares you can buy:  0.009332809789134972\n",
      "Stock:  HRL  Number of shares you can buy:  0.043743325384813146\n",
      "Stock:  HST  Number of shares you can buy:  0.12215471024434556\n",
      "Stock:  HWM  Number of shares you can buy:  0.05110107306337152\n",
      "Stock:  HPQ  Number of shares you can buy:  0.07458923643347588\n",
      "Stock:  HUM  Number of shares you can buy:  0.0038835860742066197\n",
      "Stock:  HBAN  Number of shares you can buy:  0.1420646232694135\n",
      "Stock:  HII  Number of shares you can buy:  0.008675654889770686\n",
      "Stock:  IBM  Number of shares you can buy:  0.014091126509264714\n",
      "Stock:  IEX  Number of shares you can buy:  0.008703649623228874\n",
      "Stock:  IDXX  Number of shares you can buy:  0.004861435163208135\n",
      "Stock:  ITW  Number of shares you can buy:  0.008992242073501275\n",
      "Stock:  ILMN  Number of shares you can buy:  0.010437188489326225\n",
      "Stock:  INCY  Number of shares you can buy:  0.024533037967774802\n",
      "Stock:  IR  Number of shares you can buy:  0.03817918956842754\n",
      "Stock:  INTC  Number of shares you can buy:  0.07650471339050377\n",
      "Stock:  ICE  Number of shares you can buy:  0.019414531966060654\n",
      "Stock:  IP  Number of shares you can buy:  0.05747215693465596\n",
      "Stock:  IPG  Number of shares you can buy:  0.05972495791117894\n",
      "Stock:  IFF  Number of shares you can buy:  0.01921085615705963\n",
      "Stock:  INTU  Number of shares you can buy:  0.005191313258415965\n",
      "Stock:  ISRG  Number of shares you can buy:  0.00759920793498365\n",
      "Stock:  IVZ  Number of shares you can buy:  0.10859673967192311\n",
      "Stock:  INVH  Number of shares you can buy:  0.06675612071897576\n",
      "Stock:  IQV  Number of shares you can buy:  0.009792033064616523\n",
      "Stock:  IRM  Number of shares you can buy:  0.03942342369984548\n",
      "Stock:  JBHT  Number of shares you can buy:  0.0112539917521597\n",
      "Stock:  JKHY  Number of shares you can buy:  0.011255261222792003\n",
      "Stock:  J  Number of shares you can buy:  0.016515041982061513\n",
      "Stock:  JNJ  Number of shares you can buy:  0.011246382871769593\n",
      "Stock:  JCI  Number of shares you can buy:  0.0311389708509553\n",
      "Stock:  JPM  Number of shares you can buy:  0.01520420477294147\n",
      "Stock:  JNPR  Number of shares you can buy:  0.06302519669161652\n",
      "Stock:  K  Number of shares you can buy:  0.027653199994359227\n",
      "Stock:  KDP  Number of shares you can buy:  0.054880617064909515\n",
      "Stock:  KEY  Number of shares you can buy:  0.11618206918370094\n",
      "Stock:  KEYS  Number of shares you can buy:  0.011752976285176905\n",
      "Stock:  KMB  Number of shares you can buy:  0.014553467538164437\n",
      "Stock:  KIM  Number of shares you can buy:  0.09384146408437813\n",
      "Stock:  KMI  Number of shares you can buy:  0.11003351991130468\n",
      "Stock:  KLAC  Number of shares you can buy:  0.005288979322601693\n",
      "Stock:  KHC  Number of shares you can buy:  0.04925982135939238\n",
      "Stock:  KR  Number of shares you can buy:  0.043495489443876136\n",
      "Stock:  LHX  Number of shares you can buy:  0.009678083450681904\n",
      "Stock:  LH  Number of shares you can buy:  0.008616481919373054\n",
      "Stock:  LRCX  Number of shares you can buy:  0.004843268969428104\n",
      "Stock:  LW  Number of shares you can buy:  0.022269419225669114\n",
      "Stock:  LVS  Number of shares you can buy:  0.04290644807375157\n",
      "Stock:  LDOS  Number of shares you can buy:  0.018978872480586568\n",
      "Stock:  LEN  Number of shares you can buy:  0.022026130253093825\n",
      "Stock:  LNC  Number of shares you can buy:  0.06624653301122599\n",
      "Stock:  LIN  Number of shares you can buy:  0.006060814579342739\n",
      "Stock:  LYV  Number of shares you can buy:  0.02823607179369379\n",
      "Stock:  LKQ  Number of shares you can buy:  0.03721118580805074\n",
      "Stock:  LMT  Number of shares you can buy:  0.0041300418977033475\n",
      "Stock:  L  Number of shares you can buy:  0.03450316398754687\n",
      "Stock:  LOW  Number of shares you can buy:  0.009887100930033069\n",
      "Stock:  LUMN  Number of shares you can buy:  0.3809175708429483\n",
      "Stock:  LYB  Number of shares you can buy:  0.024010682665454655\n",
      "Stock:  MTB  Number of shares you can buy:  0.013807471069048022\n",
      "Stock:  MRO  Number of shares you can buy:  0.07274081432886845\n",
      "Stock:  MPC  Number of shares you can buy:  0.017338498405232175\n",
      "Stock:  MKTX  Number of shares you can buy:  0.007107024891059635\n",
      "Stock:  MAR  Number of shares you can buy:  0.013433893925385257\n",
      "Stock:  MMC  Number of shares you can buy:  0.012053916469440767\n",
      "Stock:  MLM  Number of shares you can buy:  0.005895058937417781\n",
      "Stock:  MAS  Number of shares you can buy:  0.0423511126415461\n",
      "Stock:  MA  Number of shares you can buy:  0.005809103459185047\n",
      "Stock:  MTCH  Number of shares you can buy:  0.04918698605145083\n",
      "Stock:  MKC  Number of shares you can buy:  0.023699928224903345\n",
      "Stock:  MCD  Number of shares you can buy:  0.007459759798912522\n",
      "Stock:  MCK  Number of shares you can buy:  0.005202408095955853\n",
      "Stock:  MDT  Number of shares you can buy:  0.025754941729444335\n",
      "Stock:  MRK  Number of shares you can buy:  0.01784380451583177\n",
      "Stock:  META  Number of shares you can buy:  0.01690958970307306\n",
      "Stock:  MET  Number of shares you can buy:  0.027618764034126095\n",
      "Stock:  MTD  Number of shares you can buy:  0.0013870316641574514\n",
      "Stock:  MGM  Number of shares you can buy:  0.05901856895455275\n",
      "Stock:  MCHP  Number of shares you can buy:  0.028542942590037482\n",
      "Stock:  MU  Number of shares you can buy:  0.039761114615470376\n",
      "Stock:  MSFT  Number of shares you can buy:  0.008360943407840406\n",
      "Stock:  MAA  Number of shares you can buy:  0.012766280179806496\n",
      "Stock:  MRNA  Number of shares you can buy:  0.010026160165127026\n",
      "Stock:  MHK  Number of shares you can buy:  0.020375745229547652\n",
      "Stock:  MOH  Number of shares you can buy:  0.0059568105050089686\n",
      "Stock:  TAP  Number of shares you can buy:  0.03843651015409289\n",
      "Stock:  MDLZ  Number of shares you can buy:  0.029746766459342766\n",
      "Stock:  MPWR  Number of shares you can buy:  0.005692958179814832\n",
      "Stock:  MNST  Number of shares you can buy:  0.01971171184992274\n",
      "Stock:  MCO  Number of shares you can buy:  0.007158768853021831\n",
      "Stock:  MS  Number of shares you can buy:  0.023179746485705977\n",
      "Stock:  MOS  Number of shares you can buy:  0.04421816595083214\n",
      "Stock:  MSI  Number of shares you can buy:  0.0077777654446267615\n",
      "Stock:  MSCI  Number of shares you can buy:  0.004303410703533299\n",
      "Stock:  NDAQ  Number of shares you can buy:  0.03257193250314288\n",
      "Stock:  NTAP  Number of shares you can buy:  0.033807722782521026\n",
      "Stock:  NFLX  Number of shares you can buy:  0.006767046521073433\n",
      "Stock:  NWL  Number of shares you can buy:  0.15365727630494963\n",
      "Stock:  NEM  Number of shares you can buy:  0.04171385679586688\n",
      "Stock:  NWSA  Number of shares you can buy:  0.10901190836977477\n",
      "Stock:  NWS  Number of shares you can buy:  0.10754353671693863\n",
      "Stock:  NEE  Number of shares you can buy:  0.02371400769221315\n",
      "Stock:  NKE  Number of shares you can buy:  0.01716996115296289\n",
      "Stock:  NI  Number of shares you can buy:  0.07203204799636397\n",
      "Stock:  NDSN  Number of shares you can buy:  0.008446208201464368\n",
      "Stock:  NSC  Number of shares you can buy:  0.008064678723361357\n",
      "Stock:  NTRS  Number of shares you can buy:  0.022674179390098578\n",
      "Stock:  NOC  Number of shares you can buy:  0.0037324605178531266\n",
      "Stock:  NCLH  Number of shares you can buy:  0.1535390756947643\n",
      "Stock:  NRG  Number of shares you can buy:  0.06255117497889338\n",
      "Stock:  NUE  Number of shares you can buy:  0.01466790091985749\n",
      "Stock:  NVDA  Number of shares you can buy:  0.013126450191233286\n",
      "Stock:  NVR  Number of shares you can buy:  0.00042971108375283875\n",
      "Stock:  NXPI  Number of shares you can buy:  0.012659402595370042\n",
      "Stock:  ORLY  Number of shares you can buy:  0.0023945870232892266\n",
      "Stock:  OXY  Number of shares you can buy:  0.03121200876026682\n",
      "Stock:  ODFL  Number of shares you can buy:  0.00697660937242255\n",
      "Stock:  OMC  Number of shares you can buy:  0.024795130236421565\n",
      "Stock:  ON  Number of shares you can buy:  0.031992434742083166\n",
      "Stock:  OKE  Number of shares you can buy:  0.030445516448471783\n",
      "Stock:  ORCL  Number of shares you can buy:  0.024687792476221618\n",
      "Stock:  OGN  Number of shares you can buy:  0.07146466030156293\n",
      "Stock:  OTIS  Number of shares you can buy:  0.02547228137423289\n",
      "Stock:  PCAR  Number of shares you can buy:  0.019850899288431617\n",
      "Stock:  PKG  Number of shares you can buy:  0.015508997912677867\n",
      "Stock:  PARA  Number of shares you can buy:  0.11980840350019493\n",
      "Stock:  PH  Number of shares you can buy:  0.006860077133113689\n",
      "Stock:  PAYX  Number of shares you can buy:  0.017205481831540914\n",
      "Stock:  PAYC  Number of shares you can buy:  0.006540642580220614\n",
      "Stock:  PYPL  Number of shares you can buy:  0.028915080679830008\n",
      "Stock:  PNR  Number of shares you can buy:  0.044955133230537084\n",
      "Stock:  PEP  Number of shares you can buy:  0.010951432262646495\n",
      "Stock:  PKI  Number of shares you can buy:  0.014193329408579747\n",
      "Stock:  PFE  Number of shares you can buy:  0.0385106678278371\n",
      "Stock:  PCG  Number of shares you can buy:  0.12428443651351097\n",
      "Stock:  PM  Number of shares you can buy:  0.019628360075829826\n",
      "Stock:  PSX  Number of shares you can buy:  0.01920346293196538\n",
      "Stock:  PNW  Number of shares you can buy:  0.025612831723540615\n",
      "Stock:  PXD  Number of shares you can buy:  0.008712007239817332\n",
      "Stock:  PNC  Number of shares you can buy:  0.012875809115085438\n",
      "Stock:  POOL  Number of shares you can buy:  0.006531439607876938\n",
      "Stock:  PPG  Number of shares you can buy:  0.01575132547983147\n",
      "Stock:  PPL  Number of shares you can buy:  0.06756966561171494\n",
      "Stock:  PFG  Number of shares you can buy:  0.02332875223219843\n",
      "Stock:  PG  Number of shares you can buy:  0.013078286252724123\n",
      "Stock:  PGR  Number of shares you can buy:  0.015420333331154496\n",
      "Stock:  PLD  Number of shares you can buy:  0.01756739954041218\n",
      "Stock:  PRU  Number of shares you can buy:  0.020048292818179624\n",
      "Stock:  PEG  Number of shares you can buy:  0.032678584220623134\n",
      "Stock:  PTC  Number of shares you can buy:  0.016461921517789163\n",
      "Stock:  PSA  Number of shares you can buy:  0.007047802140654831\n",
      "Stock:  PHM  Number of shares you can buy:  0.0435904770500909\n",
      "Stock:  QRVO  Number of shares you can buy:  0.02205533684013189\n",
      "Stock:  PWR  Number of shares you can buy:  0.013841941929779406\n",
      "Stock:  QCOM  Number of shares you can buy:  0.01800801199909099\n",
      "Stock:  DGX  Number of shares you can buy:  0.01276954779097684\n",
      "Stock:  RL  Number of shares you can buy:  0.019126178347625943\n",
      "Stock:  RJF  Number of shares you can buy:  0.018593460758298142\n",
      "Stock:  RTX  Number of shares you can buy:  0.020100784719931614\n",
      "Stock:  O  Number of shares you can buy:  0.030989099061426266\n",
      "Stock:  REG  Number of shares you can buy:  0.03186475101342012\n",
      "Stock:  REGN  Number of shares you can buy:  0.00274652284290592\n",
      "Stock:  RF  Number of shares you can buy:  0.09406258476058375\n",
      "Stock:  RSG  Number of shares you can buy:  0.015263500182145964\n",
      "Stock:  RMD  Number of shares you can buy:  0.00958145119938216\n",
      "Stock:  RHI  Number of shares you can buy:  0.027200981994299052\n",
      "Stock:  ROK  Number of shares you can buy:  0.0077744335123242905\n",
      "Stock:  ROL  Number of shares you can buy:  0.053771768358469314\n",
      "Stock:  ROP  Number of shares you can buy:  0.004640692036945952\n",
      "Stock:  ROST  Number of shares you can buy:  0.0172844468826567\n",
      "Stock:  RCL  Number of shares you can buy:  0.040088530775854385\n",
      "Stock:  SPGI  Number of shares you can buy:  0.005995098123972685\n",
      "Stock:  CRM  Number of shares you can buy:  0.015420333331154496\n",
      "Stock:  SBAC  Number of shares you can buy:  0.00706526464562391\n",
      "Stock:  SLB  Number of shares you can buy:  0.03766763390843675\n",
      "Stock:  STX  Number of shares you can buy:  0.039517086722630254\n",
      "Stock:  SEE  Number of shares you can buy:  0.03995212210987182\n",
      "Stock:  SRE  Number of shares you can buy:  0.012652982466129547\n",
      "Stock:  NOW  Number of shares you can buy:  0.005227067670351203\n",
      "Stock:  SHW  Number of shares you can buy:  0.008225194705125139\n",
      "Stock:  SBNY  Number of shares you can buy:  0.017356591165495094\n",
      "Stock:  SPG  Number of shares you can buy:  0.016928232737163058\n",
      "Stock:  SWKS  Number of shares you can buy:  0.022464918607886117\n",
      "Stock:  SJM  Number of shares you can buy:  0.012518865739264293\n",
      "Stock:  SNA  Number of shares you can buy:  0.008764415280089422\n",
      "Stock:  SEDG  Number of shares you can buy:  0.006435621548643729\n",
      "Stock:  SO  Number of shares you can buy:  0.027822805177974076\n",
      "Stock:  LUV  Number of shares you can buy:  0.055306399988718453\n",
      "Stock:  SWK  Number of shares you can buy:  0.026994967786397796\n",
      "Stock:  SBUX  Number of shares you can buy:  0.020311468934732763\n",
      "Stock:  STT  Number of shares you can buy:  0.025758266086688977\n",
      "Stock:  STLD  Number of shares you can buy:  0.019456165857125875\n",
      "Stock:  STE  Number of shares you can buy:  0.010963462654060212\n",
      "Stock:  SYK  Number of shares you can buy:  0.008219436724314003\n",
      "Stock:  SIVB  Number of shares you can buy:  0.00920455581209032\n",
      "Stock:  SYF  Number of shares you can buy:  0.06094680867273087\n",
      "Stock:  SNPS  Number of shares you can buy:  0.006233434425208914\n",
      "Stock:  SYY  Number of shares you can buy:  0.02556035443253617\n",
      "Stock:  TMUS  Number of shares you can buy:  0.014255162999052343\n",
      "Stock:  TROW  Number of shares you can buy:  0.01796263440151266\n",
      "Stock:  TTWO  Number of shares you can buy:  0.019994069392183726\n",
      "Stock:  TPR  Number of shares you can buy:  0.053340675620032876\n",
      "Stock:  TRGP  Number of shares you can buy:  0.0272083965025252\n",
      "Stock:  TGT  Number of shares you can buy:  0.013943472365603475\n",
      "Stock:  TEL  Number of shares you can buy:  0.017516525120562777\n",
      "Stock:  TDY  Number of shares you can buy:  0.005069226626112853\n",
      "Stock:  TFX  Number of shares you can buy:  0.00802221777105996\n",
      "Stock:  TER  Number of shares you can buy:  0.023059242610084508\n",
      "Stock:  TSLA  Number of shares you can buy:  0.016207941204227205\n",
      "Stock:  TXN  Number of shares you can buy:  0.012142644632812259\n",
      "Stock:  TXT  Number of shares you can buy:  0.02834835790679092\n",
      "Stock:  TMO  Number of shares you can buy:  0.003691662371588516\n",
      "Stock:  TJX  Number of shares you can buy:  0.025107018667068378\n",
      "Stock:  TSCO  Number of shares you can buy:  0.009195651001945342\n",
      "Stock:  TT  Number of shares you can buy:  0.011744677963364807\n",
      "Stock:  TDG  Number of shares you can buy:  0.003217706926207033\n",
      "Stock:  TRV  Number of shares you can buy:  0.010534135682069977\n",
      "Stock:  TRMB  Number of shares you can buy:  0.04112088888307865\n",
      "Stock:  TFC  Number of shares you can buy:  0.046865648670598864\n",
      "Stock:  TYL  Number of shares you can buy:  0.006235186850172387\n",
      "Stock:  TSN  Number of shares you can buy:  0.032534768275078285\n",
      "Stock:  USB  Number of shares you can buy:  0.04620388770326776\n",
      "Stock:  UDR  Number of shares you can buy:  0.05150988345888867\n",
      "Stock:  ULTA  Number of shares you can buy:  0.004373374256627726\n",
      "Stock:  UNP  Number of shares you can buy:  0.00950887499027867\n",
      "Stock:  UAL  Number of shares you can buy:  0.051992915232245196\n",
      "Stock:  UPS  Number of shares you can buy:  0.011276244539710736\n",
      "Stock:  URI  Number of shares you can buy:  0.0056190754382430975\n",
      "Stock:  UNH  Number of shares you can buy:  0.0037567672229089064\n",
      "Stock:  UHS  Number of shares you can buy:  0.014180222093820846\n",
      "Stock:  VLO  Number of shares you can buy:  0.016048950228770426\n",
      "Stock:  VTR  Number of shares you can buy:  0.043877949228055727\n",
      "Stock:  VRSN  Number of shares you can buy:  0.009797800766109022\n",
      "Stock:  VRSK  Number of shares you can buy:  0.011366140749926508\n",
      "Stock:  VZ  Number of shares you can buy:  0.05196584201929951\n",
      "Stock:  VRTX  Number of shares you can buy:  0.006890151428113767\n",
      "Stock:  VFC  Number of shares you can buy:  0.07656340649778418\n",
      "Stock:  VTRS  Number of shares you can buy:  0.18129045799617105\n",
      "Stock:  VICI  Number of shares you can buy:  0.061096054358804795\n",
      "Stock:  V  Number of shares you can buy:  0.009697361736751378\n",
      "Stock:  VNO  Number of shares you can buy:  0.0930539819597847\n",
      "Stock:  VMC  Number of shares you can buy:  0.0113927398333323\n",
      "Stock:  WAB  Number of shares you can buy:  0.019862752776030983\n",
      "Stock:  WBA  Number of shares you can buy:  0.0516698920228459\n",
      "Stock:  WMT  Number of shares you can buy:  0.01388334092450375\n",
      "Stock:  WBD  Number of shares you can buy:  0.2176671720202016\n",
      "Stock:  WM  Number of shares you can buy:  0.012536950567555523\n",
      "Stock:  WAT  Number of shares you can buy:  0.005757826005152448\n",
      "Stock:  WEC  Number of shares you can buy:  0.020904984435015622\n",
      "Stock:  WFC  Number of shares you can buy:  0.048706881559984795\n",
      "Stock:  WELL  Number of shares you can buy:  0.030674780903536748\n",
      "Stock:  WST  Number of shares you can buy:  0.008488954801947694\n",
      "Stock:  WDC  Number of shares you can buy:  0.06525034240194587\n",
      "Stock:  WRK  Number of shares you can buy:  0.056289002695038275\n",
      "Stock:  WY  Number of shares you can buy:  0.06338545565384933\n",
      "Stock:  WHR  Number of shares you can buy:  0.014094111374458687\n",
      "Stock:  WMB  Number of shares you can buy:  0.05990420175009747\n",
      "Stock:  WTW  Number of shares you can buy:  0.00816730630965614\n",
      "Stock:  GWW  Number of shares you can buy:  0.003532132490294885\n",
      "Stock:  WYNN  Number of shares you can buy:  0.024727551459947185\n",
      "Stock:  XEL  Number of shares you can buy:  0.028140532573581376\n",
      "Stock:  XYL  Number of shares you can buy:  0.01819017518425887\n",
      "Stock:  YUM  Number of shares you can buy:  0.015484934666753117\n",
      "Stock:  ZBRA  Number of shares you can buy:  0.008041285852130825\n",
      "Stock:  ZBH  Number of shares you can buy:  0.01575505521799231\n",
      "Stock:  ZION  Number of shares you can buy:  0.04119727456348627\n",
      "Stock:  ZTS  Number of shares you can buy:  0.013693798430668341\n"
     ]
    }
   ],
   "source": [
    "position_size = val/len(final)\n",
    "for i in range(len(final)): \n",
    "    if position_size/final[\"Close\"][i]>1: \n",
    "        print(position_size/final[\"Close\"][i])\n",
    "    print(\"Stock: \", final[\"Ticker\"][i], \" Number of shares you can buy: \", position_size/final[\"Close\"][i])"
   ]
  }
 ],
 "metadata": {
  "interpreter": {
   "hash": "f36662cf0d2dc2d22e7ce50b6b2dd5771b8ab03597c45c6e0e62ff4a448306d1"
  },
  "kernelspec": {
   "display_name": "Python 3.8.5 64-bit",
   "language": "python",
   "name": "python3"
  },
  "language_info": {
   "codemirror_mode": {
    "name": "ipython",
    "version": 3
   },
   "file_extension": ".py",
   "mimetype": "text/x-python",
   "name": "python",
   "nbconvert_exporter": "python",
   "pygments_lexer": "ipython3",
   "version": "3.8.5"
  },
  "orig_nbformat": 4
 },
 "nbformat": 4,
 "nbformat_minor": 2
}
