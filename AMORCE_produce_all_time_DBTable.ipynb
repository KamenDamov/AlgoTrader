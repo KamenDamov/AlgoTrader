{
 "cells": [
  {
   "cell_type": "code",
   "execution_count": 1,
   "metadata": {},
   "outputs": [],
   "source": [
    "import numpy as np\n",
    "import pandas as pd\n",
    "import math\n",
    "import requests \n",
    "import matplotlib as plt\n",
    "import seaborn as sns\n",
    "import yfinance as yf\n",
    "import pandas_datareader as web\n",
    "from pandas_datareader import data\n",
    "from bs4 import BeautifulSoup as bs\n",
    "from scipy import stats\n",
    "import sqlite3\n",
    "import time\n",
    "\n",
    "#Create db\n",
    "conn = sqlite3.connect('financial_data.db')\n",
    "\n",
    "# Create a cursor\n",
    "cursor = conn.cursor()\n",
    "# Create the first table\n",
    "all_time_prices_query = '''\n",
    "CREATE TABLE all_time_prices (\n",
    "    Date DATETIME PRIMARY KEY,\n",
    "    Open FLOAT,\n",
    "    High FLOAT, \n",
    "    Low FLOAT, \n",
    "    Close FLOAT, \n",
    "    Volume FLOAT,\n",
    "    Dividends FLOAT, \n",
    "    Stock_Splits FLOAT, \n",
    "    Ticker TEXT NOT NULL    \n",
    ");\n",
    "'''\n",
    "\n",
    "cursor.execute(all_time_prices_query)\n",
    "\n",
    "conn.commit()\n"
   ]
  },
  {
   "cell_type": "code",
   "execution_count": 2,
   "metadata": {},
   "outputs": [
    {
     "name": "stdout",
     "output_type": "stream",
     "text": [
      "                          Date       Open       High        Low      Close  \\\n",
      "0    1983-09-30 00:00:00-04:00   0.000000   0.467834   0.450507   0.450507   \n",
      "1    1983-10-03 00:00:00-04:00   0.000000   0.453395   0.447619   0.450507   \n",
      "2    1983-10-04 00:00:00-04:00   0.000000   0.447619   0.444731   0.444731   \n",
      "3    1983-10-05 00:00:00-04:00   0.000000   0.441843   0.392749   0.392749   \n",
      "4    1983-10-06 00:00:00-04:00   0.000000   0.401413   0.389862   0.401413   \n",
      "...                        ...        ...        ...        ...        ...   \n",
      "9927 2023-02-17 00:00:00-05:00  67.480003  67.480003  65.470001  67.239998   \n",
      "9928 2023-02-21 00:00:00-05:00  66.589996  67.160004  65.290001  65.669998   \n",
      "9929 2023-02-22 00:00:00-05:00  65.919998  66.290001  65.150002  65.470001   \n",
      "9930 2023-02-23 00:00:00-05:00  65.930000  66.150002  64.930000  65.809998   \n",
      "9931 2023-02-24 00:00:00-05:00  65.110001  65.400002  64.389999  65.089996   \n",
      "\n",
      "         Volume  Dividends  Stock_Splits Ticker  \n",
      "0       18000.0        0.0           0.0    AOS  \n",
      "1       18000.0        0.0           0.0    AOS  \n",
      "2       21600.0        0.0           0.0    AOS  \n",
      "3      127800.0        0.0           0.0    AOS  \n",
      "4      118800.0        0.0           0.0    AOS  \n",
      "...         ...        ...           ...    ...  \n",
      "9927  1178700.0        0.0           0.0    AOS  \n",
      "9928  1433400.0        0.0           0.0    AOS  \n",
      "9929   626300.0        0.0           0.0    AOS  \n",
      "9930   809900.0        0.0           0.0    AOS  \n",
      "9931   281655.0        0.0           0.0    AOS  \n",
      "\n",
      "[9932 rows x 9 columns]\n",
      "1.2166688442230225\n"
     ]
    }
   ],
   "source": [
    "#Create first table with all stock info from yfinance\n",
    "tick = pd.read_csv(\"all_stocks\")\n",
    "all_time_cols = ['Date', 'Open', 'High', 'Low', 'Close', 'Volume', 'Dividends', 'Stock_Splits', 'Ticker']\n",
    "all_time = pd.DataFrame(columns = all_time_cols)\n",
    "count = 0 \n",
    "for i in range(len(tick)): \n",
    "    start = time.time()    \n",
    "    try:\n",
    "        #Creating the df to be added to all_time_prices\n",
    "        ticker = tick[\"0\"][i]\n",
    "        info = yf.Ticker(ticker).history(period='max')\n",
    "        info.reset_index(inplace = True)\n",
    "        info['Ticker'] = ticker\n",
    "        info.rename({'Stock Splits':'Stock_Splits'},axis = 1,inplace = True)\n",
    "        info['Volume'] = info['Volume'].astype(float)\n",
    "        print(info) \n",
    "        \n",
    "        # Append the first dataframe to the table\n",
    "        all_time = pd.concat([all_time, info])\n",
    "\n",
    "        #print(momentum_append)\n",
    "    except TypeError: \n",
    "        print(\"Nonetype found for: \" + tick[\"0\"][i])\n",
    "        continue\n",
    "    except IndexError: \n",
    "        print(\"Couldn't find: \",tick[\"0\"][i])\n",
    "        continue\n",
    "    except KeyError:\n",
    "        print(\"Couldnt find key for: \" + tick['0'][i])\n",
    "        continue\n",
    "    except AttributeError: \n",
    "        print(\"Attribute error found\")\n",
    "        continue\n",
    "    stop = time.time()\n",
    "    duration = stop-start\n",
    "    print(duration)\n",
    "\n",
    "#PUSH TO DATABASE\n",
    "all_time.to_sql('all_time_prices', conn, if_exists='append', index=False)\n",
    "# Close the connection\n",
    "conn.close()"
   ]
  },
  {
   "cell_type": "code",
   "execution_count": 3,
   "metadata": {},
   "outputs": [
    {
     "name": "stdout",
     "output_type": "stream",
     "text": [
      "<class 'pandas.core.frame.DataFrame'>\n",
      "Int64Index: 9932 entries, 0 to 9931\n",
      "Data columns (total 9 columns):\n",
      " #   Column        Non-Null Count  Dtype                           \n",
      "---  ------        --------------  -----                           \n",
      " 0   Date          9932 non-null   datetime64[ns, America/New_York]\n",
      " 1   Open          9932 non-null   float64                         \n",
      " 2   High          9932 non-null   float64                         \n",
      " 3   Low           9932 non-null   float64                         \n",
      " 4   Close         9932 non-null   float64                         \n",
      " 5   Volume        9932 non-null   float64                         \n",
      " 6   Dividends     9932 non-null   float64                         \n",
      " 7   Stock_Splits  9932 non-null   float64                         \n",
      " 8   Ticker        9932 non-null   object                          \n",
      "dtypes: datetime64[ns, America/New_York](1), float64(7), object(1)\n",
      "memory usage: 775.9+ KB\n"
     ]
    }
   ],
   "source": [
    "all_time.info()"
   ]
  }
 ],
 "metadata": {
  "interpreter": {
   "hash": "f36662cf0d2dc2d22e7ce50b6b2dd5771b8ab03597c45c6e0e62ff4a448306d1"
  },
  "kernelspec": {
   "display_name": "Python 3.8.5 64-bit",
   "language": "python",
   "name": "python3"
  },
  "language_info": {
   "codemirror_mode": {
    "name": "ipython",
    "version": 3
   },
   "file_extension": ".py",
   "mimetype": "text/x-python",
   "name": "python",
   "nbconvert_exporter": "python",
   "pygments_lexer": "ipython3",
   "version": "3.8.5"
  },
  "orig_nbformat": 4
 },
 "nbformat": 4,
 "nbformat_minor": 2
}
