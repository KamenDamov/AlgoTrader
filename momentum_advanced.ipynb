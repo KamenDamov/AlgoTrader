{
 "cells": [
  {
   "cell_type": "code",
   "execution_count": 1,
   "metadata": {},
   "outputs": [],
   "source": [
    "import numpy as np\n",
    "import pandas as pd\n",
    "import math\n",
    "import requests \n",
    "import matplotlib as plt\n",
    "import seaborn as sns\n",
    "import yfinance as yf\n",
    "import pandas_datareader as web\n",
    "from pandas_datareader import data\n",
    "from bs4 import BeautifulSoup as bs\n",
    "from scipy import stats"
   ]
  },
  {
   "cell_type": "code",
   "execution_count": 2,
   "metadata": {},
   "outputs": [],
   "source": [
    "tick = pd.read_csv(\"all_stocks\")"
   ]
  },
  {
   "cell_type": "code",
   "execution_count": 3,
   "metadata": {},
   "outputs": [
    {
     "name": "stdout",
     "output_type": "stream",
     "text": [
      "Producing data for:  AOS\n",
      "Date               2022-12-23 00:00:00-05:00\n",
      "Open                               56.049999\n",
      "High                               56.939999\n",
      "Low                                    55.84\n",
      "Close                              56.900002\n",
      "Volume                                879500\n",
      "Dividends                                0.0\n",
      "Stock Splits                             0.0\n",
      "Ticker                                   AOS\n",
      "1y Price Return                     -0.31561\n",
      "6m Price Return                     0.030038\n",
      "3m Price Return                     0.158284\n",
      "1m Price Return                    -0.080181\n",
      "Price                              56.900002\n",
      "1y percentile                              0\n",
      "6m percentile                              0\n",
      "3m percentile                              0\n",
      "1m percentile                              0\n",
      "Name: 9890, dtype: object\n",
      "Producing data for:  ATEN\n"
     ]
    },
    {
     "name": "stderr",
     "output_type": "stream",
     "text": [
      "<ipython-input-3-e619353caa5d>:57: FutureWarning: The frame.append method is deprecated and will be removed from pandas in a future version. Use pandas.concat instead.\n",
      "  final = final.append(\n"
     ]
    },
    {
     "name": "stdout",
     "output_type": "stream",
     "text": [
      "Date               2022-12-23 00:00:00-05:00\n",
      "Open                               17.139999\n",
      "High                               17.139999\n",
      "Low                                    16.93\n",
      "Close                                  17.02\n",
      "Volume                                349000\n",
      "Dividends                                0.0\n",
      "Stock Splits                             0.0\n",
      "Ticker                                  ATEN\n",
      "1y Price Return                     0.021706\n",
      "6m Price Return                     0.178193\n",
      "3m Price Return                     0.336118\n",
      "1m Price Return                    -0.066374\n",
      "Price                                  17.02\n",
      "1y percentile                              0\n",
      "6m percentile                              0\n",
      "3m percentile                              0\n",
      "1m percentile                              0\n",
      "Name: 2207, dtype: object\n",
      "Producing data for:  AAC\n"
     ]
    },
    {
     "name": "stderr",
     "output_type": "stream",
     "text": [
      "<ipython-input-3-e619353caa5d>:57: FutureWarning: The frame.append method is deprecated and will be removed from pandas in a future version. Use pandas.concat instead.\n",
      "  final = final.append(\n"
     ]
    },
    {
     "name": "stdout",
     "output_type": "stream",
     "text": [
      "Date               2022-12-23 00:00:00-05:00\n",
      "Open                                   10.06\n",
      "High                                   10.09\n",
      "Low                                    10.06\n",
      "Close                                  10.07\n",
      "Volume                                318800\n",
      "Dividends                                0.0\n",
      "Stock Splits                             0.0\n",
      "Ticker                                   AAC\n",
      "1y Price Return                     0.033881\n",
      "6m Price Return                     0.025458\n",
      "3m Price Return                     0.015121\n",
      "1m Price Return                     0.005994\n",
      "Price                                  10.07\n",
      "1y percentile                              0\n",
      "6m percentile                              0\n",
      "3m percentile                              0\n",
      "1m percentile                              0\n",
      "Name: 442, dtype: object\n",
      "Producing data for:  AIR\n"
     ]
    },
    {
     "name": "stderr",
     "output_type": "stream",
     "text": [
      "<ipython-input-3-e619353caa5d>:57: FutureWarning: The frame.append method is deprecated and will be removed from pandas in a future version. Use pandas.concat instead.\n",
      "  final = final.append(\n"
     ]
    },
    {
     "name": "stdout",
     "output_type": "stream",
     "text": [
      "Date               2022-12-23 00:00:00-05:00\n",
      "Open                               42.299999\n",
      "High                                   42.91\n",
      "Low                                42.200001\n",
      "Close                              42.889999\n",
      "Volume                                186200\n",
      "Dividends                                0.0\n",
      "Stock Splits                             0.0\n",
      "Ticker                                   AIR\n",
      "1y Price Return                     0.108269\n",
      "6m Price Return                     0.036241\n",
      "3m Price Return                      0.22648\n",
      "1m Price Return                    -0.078625\n",
      "Price                              42.889999\n",
      "1y percentile                              0\n",
      "6m percentile                              0\n",
      "3m percentile                              0\n",
      "1m percentile                              0\n",
      "Name: 10786, dtype: object\n",
      "Producing data for:  AAN\n"
     ]
    },
    {
     "name": "stderr",
     "output_type": "stream",
     "text": [
      "<ipython-input-3-e619353caa5d>:57: FutureWarning: The frame.append method is deprecated and will be removed from pandas in a future version. Use pandas.concat instead.\n",
      "  final = final.append(\n"
     ]
    },
    {
     "name": "stdout",
     "output_type": "stream",
     "text": [
      "Date               2022-12-23 00:00:00-05:00\n",
      "Open                                   11.24\n",
      "High                                   11.45\n",
      "Low                                    11.24\n",
      "Close                                  11.37\n",
      "Volume                                138800\n",
      "Dividends                                0.0\n",
      "Stock Splits                             0.0\n",
      "Ticker                                   AAN\n",
      "1y Price Return                    -0.527754\n",
      "6m Price Return                    -0.284193\n",
      "3m Price Return                      0.08352\n",
      "1m Price Return                    -0.009112\n",
      "Price                                  11.37\n",
      "1y percentile                              0\n",
      "6m percentile                              0\n",
      "3m percentile                              0\n",
      "1m percentile                              0\n",
      "Name: 523, dtype: object\n",
      "Producing data for:  ABB\n"
     ]
    },
    {
     "name": "stderr",
     "output_type": "stream",
     "text": [
      "<ipython-input-3-e619353caa5d>:57: FutureWarning: The frame.append method is deprecated and will be removed from pandas in a future version. Use pandas.concat instead.\n",
      "  final = final.append(\n"
     ]
    },
    {
     "name": "stdout",
     "output_type": "stream",
     "text": [
      "Date               2022-12-23 00:00:00-05:00\n",
      "Open                               30.139999\n",
      "High                                   30.32\n",
      "Low                                30.030001\n",
      "Close                              30.299999\n",
      "Volume                                675200\n",
      "Dividends                                0.0\n",
      "Stock Splits                             0.0\n",
      "Ticker                                   ABB\n",
      "1y Price Return                    -0.187432\n",
      "6m Price Return                     0.131864\n",
      "3m Price Return                     0.193853\n",
      "1m Price Return                     -0.03962\n",
      "Price                              30.299999\n",
      "1y percentile                              0\n",
      "6m percentile                              0\n",
      "3m percentile                              0\n",
      "1m percentile                              0\n",
      "Name: 5464, dtype: object\n",
      "Producing data for:  ABT\n"
     ]
    },
    {
     "name": "stderr",
     "output_type": "stream",
     "text": [
      "<ipython-input-3-e619353caa5d>:57: FutureWarning: The frame.append method is deprecated and will be removed from pandas in a future version. Use pandas.concat instead.\n",
      "  final = final.append(\n"
     ]
    },
    {
     "name": "stdout",
     "output_type": "stream",
     "text": [
      "Date               2022-12-23 00:00:00-05:00\n",
      "Open                              107.669998\n",
      "High                              108.400002\n",
      "Low                               107.099998\n",
      "Close                                 108.18\n",
      "Volume                               2618400\n",
      "Dividends                                0.0\n",
      "Stock Splits                             0.0\n",
      "Ticker                                   ABT\n",
      "1y Price Return                    -0.222428\n",
      "6m Price Return                    -0.002526\n",
      "3m Price Return                     0.088646\n",
      "1m Price Return                     0.011406\n",
      "Price                                 108.18\n",
      "1y percentile                              0\n",
      "6m percentile                              0\n",
      "3m percentile                              0\n",
      "1m percentile                              0\n",
      "Name: 10786, dtype: object\n",
      "Producing data for:  ABBV\n"
     ]
    },
    {
     "name": "stderr",
     "output_type": "stream",
     "text": [
      "<ipython-input-3-e619353caa5d>:57: FutureWarning: The frame.append method is deprecated and will be removed from pandas in a future version. Use pandas.concat instead.\n",
      "  final = final.append(\n"
     ]
    },
    {
     "name": "stdout",
     "output_type": "stream",
     "text": [
      "Date               2022-12-23 00:00:00-05:00\n",
      "Open                              163.389999\n",
      "High                              163.820007\n",
      "Low                               162.330002\n",
      "Close                             163.100006\n",
      "Volume                               2684700\n",
      "Dividends                                0.0\n",
      "Stock Splits                             0.0\n",
      "Ticker                                  ABBV\n",
      "1y Price Return                     0.260728\n",
      "6m Price Return                     0.091642\n",
      "3m Price Return                      0.16677\n",
      "1m Price Return                     0.021802\n",
      "Price                             163.100006\n",
      "1y percentile                              0\n",
      "6m percentile                              0\n",
      "3m percentile                              0\n",
      "1m percentile                              0\n",
      "Name: 2513, dtype: object\n",
      "Producing data for:  ANF\n"
     ]
    },
    {
     "name": "stderr",
     "output_type": "stream",
     "text": [
      "<ipython-input-3-e619353caa5d>:57: FutureWarning: The frame.append method is deprecated and will be removed from pandas in a future version. Use pandas.concat instead.\n",
      "  final = final.append(\n"
     ]
    },
    {
     "name": "stdout",
     "output_type": "stream",
     "text": [
      "Date               2022-12-23 00:00:00-05:00\n",
      "Open                                   21.41\n",
      "High                               22.610001\n",
      "Low                                21.200001\n",
      "Close                                  22.26\n",
      "Volume                               1898000\n",
      "Dividends                                0.0\n",
      "Stock Splits                             0.0\n",
      "Ticker                                   ANF\n",
      "1y Price Return                    -0.358686\n",
      "6m Price Return                     0.143297\n",
      "3m Price Return                     0.433355\n",
      "1m Price Return                    -0.063525\n",
      "Price                                  22.26\n",
      "1y percentile                              0\n",
      "6m percentile                              0\n",
      "3m percentile                              0\n",
      "1m percentile                              0\n",
      "Name: 6606, dtype: object\n",
      "Producing data for:  GCH\n"
     ]
    },
    {
     "name": "stderr",
     "output_type": "stream",
     "text": [
      "<ipython-input-3-e619353caa5d>:57: FutureWarning: The frame.append method is deprecated and will be removed from pandas in a future version. Use pandas.concat instead.\n",
      "  final = final.append(\n"
     ]
    },
    {
     "name": "stdout",
     "output_type": "stream",
     "text": [
      "GCH: No data found for this date range, symbol may be delisted\n",
      "GCH: No data found for this date range, symbol may be delisted\n",
      "GCH: No data found for this date range, symbol may be delisted\n",
      "GCH: No data found for this date range, symbol may be delisted\n",
      "Producing data for:  JEQ\n",
      "Date               2022-12-23 00:00:00-05:00\n",
      "Open                                    5.31\n",
      "High                                    5.34\n",
      "Low                                     5.29\n",
      "Close                                   5.34\n",
      "Volume                                 11200\n",
      "Dividends                                0.0\n",
      "Stock Splits                             0.0\n",
      "Ticker                                   JEQ\n",
      "1y Price Return                     -0.28138\n",
      "6m Price Return                     0.003276\n",
      "3m Price Return                     0.080656\n",
      "1m Price Return                    -0.074523\n",
      "Price                                   5.34\n",
      "1y percentile                              0\n",
      "6m percentile                              0\n",
      "3m percentile                              0\n",
      "1m percentile                              0\n",
      "Name: 7647, dtype: object\n",
      "Producing data for:  SGF\n"
     ]
    },
    {
     "name": "stderr",
     "output_type": "stream",
     "text": [
      "<ipython-input-3-e619353caa5d>:57: FutureWarning: The frame.append method is deprecated and will be removed from pandas in a future version. Use pandas.concat instead.\n",
      "  final = final.append(\n"
     ]
    },
    {
     "name": "stdout",
     "output_type": "stream",
     "text": [
      "SGF: No data found for this date range, symbol may be delisted\n",
      "SGF: No data found for this date range, symbol may be delisted\n",
      "SGF: No data found for this date range, symbol may be delisted\n",
      "SGF: No data found for this date range, symbol may be delisted\n",
      "Producing data for:  ABM\n",
      "Date               2022-12-23 00:00:00-05:00\n",
      "Open                               43.439999\n",
      "High                               44.310001\n",
      "Low                                43.369999\n",
      "Close                              44.110001\n",
      "Volume                                199300\n",
      "Dividends                                0.0\n",
      "Stock Splits                             0.0\n",
      "Ticker                                   ABM\n",
      "1y Price Return                     0.085501\n",
      "6m Price Return                     0.007444\n",
      "3m Price Return                     0.156165\n",
      "1m Price Return                    -0.034158\n",
      "Price                              44.110001\n",
      "1y percentile                              0\n",
      "6m percentile                              0\n",
      "3m percentile                              0\n",
      "1m percentile                              0\n",
      "Name: 10786, dtype: object\n",
      "Producing data for:  AKR\n"
     ]
    },
    {
     "name": "stderr",
     "output_type": "stream",
     "text": [
      "<ipython-input-3-e619353caa5d>:57: FutureWarning: The frame.append method is deprecated and will be removed from pandas in a future version. Use pandas.concat instead.\n",
      "  final = final.append(\n"
     ]
    },
    {
     "name": "stdout",
     "output_type": "stream",
     "text": [
      "Date               2022-12-23 00:00:00-05:00\n",
      "Open                                   14.09\n",
      "High                                    14.3\n",
      "Low                                    14.03\n",
      "Close                                   14.3\n",
      "Volume                                267300\n",
      "Dividends                                0.0\n",
      "Stock Splits                             0.0\n",
      "Ticker                                   AKR\n",
      "1y Price Return                    -0.310433\n",
      "6m Price Return                    -0.094539\n",
      "3m Price Return                       0.1229\n",
      "1m Price Return                    -0.057971\n",
      "Price                                   14.3\n",
      "1y percentile                              0\n",
      "6m percentile                              0\n",
      "3m percentile                              0\n",
      "1m percentile                              0\n",
      "Name: 7449, dtype: object\n",
      "Producing data for:  ACN\n"
     ]
    },
    {
     "name": "stderr",
     "output_type": "stream",
     "text": [
      "<ipython-input-3-e619353caa5d>:57: FutureWarning: The frame.append method is deprecated and will be removed from pandas in a future version. Use pandas.concat instead.\n",
      "  final = final.append(\n"
     ]
    },
    {
     "name": "stdout",
     "output_type": "stream",
     "text": [
      "Date               2022-12-23 00:00:00-05:00\n",
      "Open                              265.790009\n",
      "High                              266.709991\n",
      "Low                               263.309998\n",
      "Close                             266.089996\n",
      "Volume                               1213300\n",
      "Dividends                                0.0\n",
      "Stock Splits                             0.0\n",
      "Ticker                                   ACN\n",
      "1y Price Return                    -0.350588\n",
      "6m Price Return                    -0.104039\n",
      "3m Price Return                     0.037793\n",
      "1m Price Return                     -0.10226\n",
      "Price                             266.089996\n",
      "1y percentile                              0\n",
      "6m percentile                              0\n",
      "3m percentile                              0\n",
      "1m percentile                              0\n",
      "Name: 5393, dtype: object\n",
      "Producing data for:  ACCO\n"
     ]
    },
    {
     "name": "stderr",
     "output_type": "stream",
     "text": [
      "<ipython-input-3-e619353caa5d>:57: FutureWarning: The frame.append method is deprecated and will be removed from pandas in a future version. Use pandas.concat instead.\n",
      "  final = final.append(\n"
     ]
    },
    {
     "name": "stdout",
     "output_type": "stream",
     "text": [
      "Date               2022-12-23 00:00:00-05:00\n",
      "Open                                    5.53\n",
      "High                                    5.61\n",
      "Low                                     5.49\n",
      "Close                                   5.58\n",
      "Volume                                441000\n",
      "Dividends                                0.0\n",
      "Stock Splits                             0.0\n",
      "Ticker                                  ACCO\n",
      "1y Price Return                    -0.282191\n",
      "6m Price Return                    -0.154482\n",
      "3m Price Return                     0.120397\n",
      "1m Price Return                     0.014545\n",
      "Price                                   5.58\n",
      "1y percentile                              0\n",
      "6m percentile                              0\n",
      "3m percentile                              0\n",
      "1m percentile                              0\n",
      "Name: 4369, dtype: object\n",
      "Producing data for:  ATV\n"
     ]
    },
    {
     "name": "stderr",
     "output_type": "stream",
     "text": [
      "<ipython-input-3-e619353caa5d>:57: FutureWarning: The frame.append method is deprecated and will be removed from pandas in a future version. Use pandas.concat instead.\n",
      "  final = final.append(\n"
     ]
    },
    {
     "name": "stdout",
     "output_type": "stream",
     "text": [
      "Got error from yahoo api for ticker ATV, Error: {'code': 'Not Found', 'description': 'No data found, symbol may be delisted'}\n",
      "- ATV: No timezone found, symbol may be delisted\n",
      "ATV: No data found, symbol may be delisted\n",
      "ATV: No data found, symbol may be delisted\n",
      "ATV: No data found, symbol may be delisted\n",
      "ATV: No data found, symbol may be delisted\n",
      "Producing data for:  ATU\n",
      "Got error from yahoo api for ticker ATU, Error: {'code': 'Not Found', 'description': 'No data found, symbol may be delisted'}\n",
      "- ATU: No timezone found, symbol may be delisted\n",
      "ATU: No data found, symbol may be delisted\n",
      "ATU: No data found, symbol may be delisted\n",
      "ATU: No data found, symbol may be delisted\n",
      "ATU: No data found, symbol may be delisted\n",
      "Producing data for:  GOLF\n",
      "Date               2022-12-23 00:00:00-05:00\n",
      "Open                               43.110001\n",
      "High                                    43.5\n",
      "Low                                    42.59\n",
      "Close                              43.279999\n",
      "Volume                                153400\n",
      "Dividends                                0.0\n",
      "Stock Splits                             0.0\n",
      "Ticker                                  GOLF\n",
      "1y Price Return                        -0.16\n",
      "6m Price Return                     0.062789\n",
      "3m Price Return                    -0.033324\n",
      "1m Price Return                    -0.014468\n",
      "Price                              43.279999\n",
      "1y percentile                              0\n",
      "6m percentile                              0\n",
      "3m percentile                              0\n",
      "1m percentile                              0\n",
      "Name: 1549, dtype: object\n",
      "Producing data for:  AYI\n"
     ]
    },
    {
     "name": "stderr",
     "output_type": "stream",
     "text": [
      "<ipython-input-3-e619353caa5d>:57: FutureWarning: The frame.append method is deprecated and will be removed from pandas in a future version. Use pandas.concat instead.\n",
      "  final = final.append(\n"
     ]
    },
    {
     "name": "stdout",
     "output_type": "stream",
     "text": [
      "Date               2022-12-23 00:00:00-05:00\n",
      "Open                              166.020004\n",
      "High                              166.779999\n",
      "Low                               163.759995\n",
      "Close                             166.350006\n",
      "Volume                                201300\n",
      "Dividends                                0.0\n",
      "Stock Splits                             0.0\n",
      "Ticker                                   AYI\n",
      "1y Price Return                    -0.223597\n",
      "6m Price Return                     0.077136\n",
      "3m Price Return                     0.057799\n",
      "1m Price Return                    -0.128053\n",
      "Price                             166.350006\n",
      "1y percentile                              0\n",
      "6m percentile                              0\n",
      "3m percentile                              0\n",
      "1m percentile                              0\n",
      "Name: 5302, dtype: object\n",
      "Producing data for:  ADX\n"
     ]
    },
    {
     "name": "stderr",
     "output_type": "stream",
     "text": [
      "<ipython-input-3-e619353caa5d>:57: FutureWarning: The frame.append method is deprecated and will be removed from pandas in a future version. Use pandas.concat instead.\n",
      "  final = final.append(\n"
     ]
    },
    {
     "name": "stdout",
     "output_type": "stream",
     "text": [
      "Date               2022-12-23 00:00:00-05:00\n",
      "Open                                    14.5\n",
      "High                                    14.6\n",
      "Low                                    14.43\n",
      "Close                                  14.59\n",
      "Volume                                224600\n",
      "Dividends                                0.0\n",
      "Stock Splits                             0.0\n",
      "Ticker                                   ADX\n",
      "1y Price Return                    -0.199932\n",
      "6m Price Return                    -0.016609\n",
      "3m Price Return                     0.048278\n",
      "1m Price Return                     -0.04765\n",
      "Price                                  14.59\n",
      "1y percentile                              0\n",
      "6m percentile                              0\n",
      "3m percentile                              0\n",
      "1m percentile                              0\n",
      "Name: 10786, dtype: object\n",
      "Producing data for:  AGRO\n"
     ]
    },
    {
     "name": "stderr",
     "output_type": "stream",
     "text": [
      "<ipython-input-3-e619353caa5d>:57: FutureWarning: The frame.append method is deprecated and will be removed from pandas in a future version. Use pandas.concat instead.\n",
      "  final = final.append(\n"
     ]
    },
    {
     "name": "stdout",
     "output_type": "stream",
     "text": [
      "Date               2022-12-23 00:00:00-05:00\n",
      "Open                                    8.23\n",
      "High                                     8.5\n",
      "Low                                     8.22\n",
      "Close                                   8.41\n",
      "Volume                                815700\n",
      "Dividends                                0.0\n",
      "Stock Splits                             0.0\n",
      "Ticker                                  AGRO\n",
      "1y Price Return                     0.152081\n",
      "6m Price Return                    -0.009444\n",
      "3m Price Return                      0.14092\n",
      "1m Price Return                     0.023114\n",
      "Price                                   8.41\n",
      "1y percentile                              0\n",
      "6m percentile                              0\n",
      "3m percentile                              0\n",
      "1m percentile                              0\n",
      "Name: 2997, dtype: object\n",
      "Producing data for:  ADPT\n"
     ]
    },
    {
     "name": "stderr",
     "output_type": "stream",
     "text": [
      "<ipython-input-3-e619353caa5d>:57: FutureWarning: The frame.append method is deprecated and will be removed from pandas in a future version. Use pandas.concat instead.\n",
      "  final = final.append(\n"
     ]
    },
    {
     "name": "stdout",
     "output_type": "stream",
     "text": [
      "Date               2022-12-23 00:00:00-05:00\n",
      "Open                                    8.05\n",
      "High                                    8.05\n",
      "Low                                     7.49\n",
      "Close                                    7.5\n",
      "Volume                                609500\n",
      "Dividends                                0.0\n",
      "Stock Splits                             0.0\n",
      "Ticker                                  ADPT\n",
      "1y Price Return                    -0.720982\n",
      "6m Price Return                    -0.142857\n",
      "3m Price Return                     0.150307\n",
      "1m Price Return                    -0.076355\n",
      "Price                                    7.5\n",
      "1y percentile                              0\n",
      "6m percentile                              0\n",
      "3m percentile                              0\n",
      "1m percentile                              0\n",
      "Name: 881, dtype: object\n",
      "Producing data for:  ADNT\n"
     ]
    },
    {
     "name": "stderr",
     "output_type": "stream",
     "text": [
      "<ipython-input-3-e619353caa5d>:57: FutureWarning: The frame.append method is deprecated and will be removed from pandas in a future version. Use pandas.concat instead.\n",
      "  final = final.append(\n"
     ]
    },
    {
     "name": "stdout",
     "output_type": "stream",
     "text": [
      "Date               2022-12-23 00:00:00-05:00\n",
      "Open                               33.700001\n",
      "High                               34.259998\n",
      "Low                                33.310001\n",
      "Close                              34.060001\n",
      "Volume                                364000\n",
      "Dividends                                0.0\n",
      "Stock Splits                             0.0\n",
      "Ticker                                  ADNT\n",
      "1y Price Return                    -0.283852\n",
      "6m Price Return                     0.026832\n",
      "3m Price Return                     0.163251\n",
      "1m Price Return                    -0.132008\n",
      "Price                              34.060001\n",
      "1y percentile                              0\n",
      "6m percentile                              0\n",
      "3m percentile                              0\n",
      "1m percentile                              0\n",
      "Name: 1558, dtype: object\n",
      "Producing data for:  AAP\n"
     ]
    },
    {
     "name": "stderr",
     "output_type": "stream",
     "text": [
      "<ipython-input-3-e619353caa5d>:57: FutureWarning: The frame.append method is deprecated and will be removed from pandas in a future version. Use pandas.concat instead.\n",
      "  final = final.append(\n"
     ]
    },
    {
     "name": "stdout",
     "output_type": "stream",
     "text": [
      "Date               2022-12-23 00:00:00-05:00\n",
      "Open                              141.899994\n",
      "High                              143.589996\n",
      "Low                               141.509995\n",
      "Close                             143.279999\n",
      "Volume                                524500\n",
      "Dividends                                0.0\n",
      "Stock Splits                             0.0\n",
      "Ticker                                   AAP\n",
      "1y Price Return                    -0.372353\n",
      "6m Price Return                     -0.20217\n",
      "3m Price Return                    -0.081723\n",
      "1m Price Return                    -0.034707\n",
      "Price                             143.279999\n",
      "1y percentile                              0\n",
      "6m percentile                              0\n",
      "3m percentile                              0\n",
      "1m percentile                              0\n",
      "Name: 5304, dtype: object\n",
      "Producing data for:  ADSW\n"
     ]
    },
    {
     "name": "stderr",
     "output_type": "stream",
     "text": [
      "<ipython-input-3-e619353caa5d>:57: FutureWarning: The frame.append method is deprecated and will be removed from pandas in a future version. Use pandas.concat instead.\n",
      "  final = final.append(\n"
     ]
    },
    {
     "name": "stdout",
     "output_type": "stream",
     "text": [
      "Got error from yahoo api for ticker ADSW, Error: {'code': 'Not Found', 'description': 'No data found, symbol may be delisted'}\n",
      "- ADSW: No timezone found, symbol may be delisted\n",
      "ADSW: No data found, symbol may be delisted\n",
      "ADSW: No data found, symbol may be delisted\n",
      "ADSW: No data found, symbol may be delisted\n",
      "ADSW: No data found, symbol may be delisted\n",
      "Producing data for:  WMS\n",
      "Date               2022-12-23 00:00:00-05:00\n",
      "Open                               81.809998\n",
      "High                               82.800003\n",
      "Low                                81.184998\n",
      "Close                              82.779999\n",
      "Volume                                467200\n",
      "Dividends                                0.0\n",
      "Stock Splits                             0.0\n",
      "Ticker                                   WMS\n",
      "1y Price Return                    -0.387237\n",
      "6m Price Return                    -0.054923\n",
      "3m Price Return                    -0.307144\n",
      "1m Price Return                    -0.140361\n",
      "Price                              82.779999\n",
      "1y percentile                              0\n",
      "6m percentile                              0\n",
      "3m percentile                              0\n",
      "1m percentile                              0\n",
      "Name: 2120, dtype: object\n",
      "Producing data for:  ASX\n"
     ]
    },
    {
     "name": "stderr",
     "output_type": "stream",
     "text": [
      "<ipython-input-3-e619353caa5d>:57: FutureWarning: The frame.append method is deprecated and will be removed from pandas in a future version. Use pandas.concat instead.\n",
      "  final = final.append(\n"
     ]
    },
    {
     "name": "stdout",
     "output_type": "stream",
     "text": [
      "Date               2022-12-23 00:00:00-05:00\n",
      "Open                                    6.28\n",
      "High                                    6.36\n",
      "Low                                     6.25\n",
      "Close                                   6.34\n",
      "Volume                               6816900\n",
      "Dividends                                0.0\n",
      "Stock Splits                             0.0\n",
      "Ticker                                   ASX\n",
      "1y Price Return                    -0.118919\n",
      "6m Price Return                     0.097143\n",
      "3m Price Return                     0.231068\n",
      "1m Price Return                     -0.00627\n",
      "Price                                   6.34\n",
      "1y percentile                              0\n",
      "6m percentile                              0\n",
      "3m percentile                              0\n",
      "1m percentile                              0\n",
      "Name: 5593, dtype: object\n",
      "Producing data for:  APFH\n"
     ]
    },
    {
     "name": "stderr",
     "output_type": "stream",
     "text": [
      "<ipython-input-3-e619353caa5d>:57: FutureWarning: The frame.append method is deprecated and will be removed from pandas in a future version. Use pandas.concat instead.\n",
      "  final = final.append(\n"
     ]
    },
    {
     "name": "stdout",
     "output_type": "stream",
     "text": [
      "APFH: 1d data not available for startTime=-2208994789 and endTime=1672121373. Only 100 years worth of day granularity data are allowed to be fetched per request.\n",
      "APFH: No data found for this date range, symbol may be delisted\n",
      "APFH: No data found for this date range, symbol may be delisted\n",
      "APFH: No data found for this date range, symbol may be delisted\n",
      "APFH: No data found for this date range, symbol may be delisted\n",
      "Producing data for:  ASIX\n",
      "Date               2022-12-23 00:00:00-05:00\n",
      "Open                                   37.93\n",
      "High                               38.880001\n",
      "Low                                    37.93\n",
      "Close                              38.669998\n",
      "Volume                                 81500\n",
      "Dividends                                0.0\n",
      "Stock Splits                             0.0\n",
      "Ticker                                  ASIX\n",
      "1y Price Return                    -0.164327\n",
      "6m Price Return                     0.116449\n",
      "3m Price Return                     0.230561\n",
      "1m Price Return                    -0.054061\n",
      "Price                              38.669998\n",
      "1y percentile                              0\n",
      "6m percentile                              0\n",
      "3m percentile                              0\n",
      "1m percentile                              0\n",
      "Name: 1580, dtype: object\n",
      "Producing data for:  AAV\n"
     ]
    },
    {
     "name": "stderr",
     "output_type": "stream",
     "text": [
      "<ipython-input-3-e619353caa5d>:57: FutureWarning: The frame.append method is deprecated and will be removed from pandas in a future version. Use pandas.concat instead.\n",
      "  final = final.append(\n"
     ]
    },
    {
     "name": "stdout",
     "output_type": "stream",
     "text": [
      "AAV: 1d data not available for startTime=-2208994789 and endTime=1672121378. Only 100 years worth of day granularity data are allowed to be fetched per request.\n",
      "AAV: No data found for this date range, symbol may be delisted\n",
      "AAV: No data found for this date range, symbol may be delisted\n",
      "AAV: No data found for this date range, symbol may be delisted\n",
      "AAV: No data found for this date range, symbol may be delisted\n",
      "Producing data for:  AVK\n",
      "Date               2022-12-23 00:00:00-05:00\n",
      "Open                                   11.18\n",
      "High                                    11.3\n",
      "Low                                    11.13\n",
      "Close                                  11.23\n",
      "Volume                                112200\n",
      "Dividends                                0.0\n",
      "Stock Splits                             0.0\n",
      "Ticker                                   AVK\n",
      "1y Price Return                    -0.300102\n",
      "6m Price Return                    -0.024224\n",
      "3m Price Return                     0.053632\n",
      "1m Price Return                    -0.063404\n",
      "Price                                  11.23\n",
      "1y percentile                              0\n",
      "6m percentile                              0\n",
      "3m percentile                              0\n",
      "1m percentile                              0\n",
      "Name: 4949, dtype: object\n",
      "Producing data for:  AGC\n"
     ]
    },
    {
     "name": "stderr",
     "output_type": "stream",
     "text": [
      "<ipython-input-3-e619353caa5d>:57: FutureWarning: The frame.append method is deprecated and will be removed from pandas in a future version. Use pandas.concat instead.\n",
      "  final = final.append(\n"
     ]
    },
    {
     "name": "stdout",
     "output_type": "stream",
     "text": [
      "Got error from yahoo api for ticker AGC, Error: {'code': 'Not Found', 'description': 'No data found, symbol may be delisted'}\n",
      "- AGC: No timezone found, symbol may be delisted\n",
      "AGC: No data found, symbol may be delisted\n",
      "AGC: No data found, symbol may be delisted\n",
      "AGC: No data found, symbol may be delisted\n",
      "AGC: No data found, symbol may be delisted\n",
      "Producing data for:  LCM\n",
      "LCM: No data found for this date range, symbol may be delisted\n",
      "LCM: No data found for this date range, symbol may be delisted\n",
      "LCM: No data found for this date range, symbol may be delisted\n",
      "LCM: No data found for this date range, symbol may be delisted\n",
      "Producing data for:  ACM\n",
      "Date               2022-12-23 00:00:00-05:00\n",
      "Open                               84.510002\n",
      "High                               85.089996\n",
      "Low                                84.169998\n",
      "Close                              84.690002\n",
      "Volume                                516900\n",
      "Dividends                                0.0\n",
      "Stock Splits                             0.0\n",
      "Ticker                                   ACM\n",
      "1y Price Return                     0.117946\n",
      "6m Price Return                     0.271726\n",
      "3m Price Return                     0.254564\n",
      "1m Price Return                     0.007016\n",
      "Price                              84.690002\n",
      "1y percentile                              0\n",
      "6m percentile                              0\n",
      "3m percentile                              0\n",
      "1m percentile                              0\n",
      "Name: 3935, dtype: object\n",
      "Producing data for:  ANW\n"
     ]
    },
    {
     "name": "stderr",
     "output_type": "stream",
     "text": [
      "<ipython-input-3-e619353caa5d>:57: FutureWarning: The frame.append method is deprecated and will be removed from pandas in a future version. Use pandas.concat instead.\n",
      "  final = final.append(\n"
     ]
    },
    {
     "name": "stdout",
     "output_type": "stream",
     "text": [
      "ANW: 1d data not available for startTime=-2208994789 and endTime=1672121391. Only 100 years worth of day granularity data are allowed to be fetched per request.\n",
      "ANW: No data found for this date range, symbol may be delisted\n",
      "ANW: No data found for this date range, symbol may be delisted\n",
      "ANW: No data found for this date range, symbol may be delisted\n",
      "ANW: No data found for this date range, symbol may be delisted\n",
      "Producing data for:  AEG\n",
      "Date               2022-12-23 00:00:00-05:00\n",
      "Open                                    5.13\n",
      "High                                    5.16\n",
      "Low                                     5.11\n",
      "Close                                   5.14\n",
      "Volume                               1410800\n",
      "Dividends                                0.0\n",
      "Stock Splits                             0.0\n",
      "Ticker                                   AEG\n",
      "1y Price Return                     0.074781\n",
      "6m Price Return                     0.162394\n",
      "3m Price Return                     0.256724\n",
      "1m Price Return                      0.04898\n",
      "Price                                   5.14\n",
      "1y percentile                              0\n",
      "6m percentile                              0\n",
      "3m percentile                              0\n",
      "1m percentile                              0\n",
      "Name: 9449, dtype: object\n",
      "Producing data for:  AEB\n"
     ]
    },
    {
     "name": "stderr",
     "output_type": "stream",
     "text": [
      "<ipython-input-3-e619353caa5d>:57: FutureWarning: The frame.append method is deprecated and will be removed from pandas in a future version. Use pandas.concat instead.\n",
      "  final = final.append(\n"
     ]
    },
    {
     "name": "stdout",
     "output_type": "stream",
     "text": [
      "AEB: No data found for this date range, symbol may be delisted\n",
      "AEB: No data found for this date range, symbol may be delisted\n",
      "AEB: No data found for this date range, symbol may be delisted\n",
      "AEB: No data found for this date range, symbol may be delisted\n",
      "Producing data for:  AED\n",
      "AED: No data found for this date range, symbol may be delisted\n",
      "AED: No data found for this date range, symbol may be delisted\n",
      "AED: No data found for this date range, symbol may be delisted\n",
      "AED: No data found for this date range, symbol may be delisted\n",
      "Producing data for:  AEH\n",
      "AEH: No data found for this date range, symbol may be delisted\n",
      "AEH: No data found for this date range, symbol may be delisted\n",
      "AEH: No data found for this date range, symbol may be delisted\n",
      "AEH: No data found for this date range, symbol may be delisted\n",
      "Producing data for:  AEK\n",
      "Got error from yahoo api for ticker AEK, Error: {'code': 'Not Found', 'description': 'No data found, symbol may be delisted'}\n",
      "- AEK: No timezone found, symbol may be delisted\n",
      "AEK: No data found, symbol may be delisted\n",
      "AEK: No data found, symbol may be delisted\n",
      "AEK: No data found, symbol may be delisted\n",
      "AEK: No data found, symbol may be delisted\n",
      "Producing data for:  AER\n",
      "Date               2022-12-23 00:00:00-05:00\n",
      "Open                               56.400002\n",
      "High                                   56.98\n",
      "Low                                56.110001\n",
      "Close                                  56.68\n",
      "Volume                                438100\n",
      "Dividends                                0.0\n",
      "Stock Splits                             0.0\n",
      "Ticker                                   AER\n",
      "1y Price Return                    -0.137816\n",
      "6m Price Return                     0.382776\n",
      "3m Price Return                     0.425912\n",
      "1m Price Return                    -0.056591\n",
      "Price                                  56.68\n",
      "1y percentile                              0\n",
      "6m percentile                              0\n",
      "3m percentile                              0\n",
      "1m percentile                              0\n",
      "Name: 4050, dtype: object\n",
      "Producing data for:  HIVE\n"
     ]
    },
    {
     "name": "stderr",
     "output_type": "stream",
     "text": [
      "<ipython-input-3-e619353caa5d>:57: FutureWarning: The frame.append method is deprecated and will be removed from pandas in a future version. Use pandas.concat instead.\n",
      "  final = final.append(\n"
     ]
    },
    {
     "name": "stdout",
     "output_type": "stream",
     "text": [
      "Date               2022-12-23 00:00:00-05:00\n",
      "Open                                    1.62\n",
      "High                                    1.66\n",
      "Low                                     1.58\n",
      "Close                                   1.59\n",
      "Volume                                581700\n",
      "Dividends                                0.0\n",
      "Stock Splits                             0.0\n",
      "Ticker                                  HIVE\n",
      "1y Price Return                    -0.896753\n",
      "6m Price Return                    -0.554622\n",
      "3m Price Return                    -0.559557\n",
      "1m Price Return                    -0.253521\n",
      "Price                                   1.59\n",
      "1y percentile                              0\n",
      "6m percentile                              0\n",
      "3m percentile                              0\n",
      "1m percentile                              0\n",
      "Name: 2994, dtype: object\n",
      "Producing data for:  AJRD\n"
     ]
    },
    {
     "name": "stderr",
     "output_type": "stream",
     "text": [
      "<ipython-input-3-e619353caa5d>:57: FutureWarning: The frame.append method is deprecated and will be removed from pandas in a future version. Use pandas.concat instead.\n",
      "  final = final.append(\n"
     ]
    },
    {
     "name": "stdout",
     "output_type": "stream",
     "text": [
      "Date               2022-12-23 00:00:00-05:00\n",
      "Open                                   55.75\n",
      "High                                   55.84\n",
      "Low                                55.689999\n",
      "Close                              55.799999\n",
      "Volume                               1443300\n",
      "Dividends                                0.0\n",
      "Stock Splits                             0.0\n",
      "Ticker                                  AJRD\n",
      "1y Price Return                      0.21015\n",
      "6m Price Return                     0.390135\n",
      "3m Price Return                     0.380846\n",
      "1m Price Return                     0.094332\n",
      "Price                              55.799999\n",
      "1y percentile                              0\n",
      "6m percentile                              0\n",
      "3m percentile                              0\n",
      "1m percentile                              0\n",
      "Name: 10564, dtype: object\n",
      "Producing data for:  AES\n"
     ]
    },
    {
     "name": "stderr",
     "output_type": "stream",
     "text": [
      "<ipython-input-3-e619353caa5d>:57: FutureWarning: The frame.append method is deprecated and will be removed from pandas in a future version. Use pandas.concat instead.\n",
      "  final = final.append(\n"
     ]
    },
    {
     "name": "stdout",
     "output_type": "stream",
     "text": [
      "Date               2022-12-23 00:00:00-05:00\n",
      "Open                                   28.26\n",
      "High                               28.709999\n",
      "Low                                    28.15\n",
      "Close                                  28.68\n",
      "Volume                               1532500\n",
      "Dividends                                0.0\n",
      "Stock Splits                             0.0\n",
      "Ticker                                   AES\n",
      "1y Price Return                     0.245793\n",
      "6m Price Return                     0.356599\n",
      "3m Price Return                     0.256633\n",
      "1m Price Return                     0.002447\n",
      "Price                                  28.68\n",
      "1y percentile                              0\n",
      "6m percentile                              0\n",
      "3m percentile                              0\n",
      "1m percentile                              0\n",
      "Name: 7935, dtype: object\n",
      "Producing data for:  AES.PRC\n"
     ]
    },
    {
     "name": "stderr",
     "output_type": "stream",
     "text": [
      "<ipython-input-3-e619353caa5d>:57: FutureWarning: The frame.append method is deprecated and will be removed from pandas in a future version. Use pandas.concat instead.\n",
      "  final = final.append(\n"
     ]
    },
    {
     "name": "stdout",
     "output_type": "stream",
     "text": [
      "Got error from yahoo api for ticker AES.PRC, Error: {'code': 'Not Found', 'description': 'No data found, symbol may be delisted'}\n",
      "- AES.PRC: No timezone found, symbol may be delisted\n",
      "AES.PRC: No data found, symbol may be delisted\n",
      "AES.PRC: No data found, symbol may be delisted\n",
      "AES.PRC: No data found, symbol may be delisted\n",
      "AES.PRC: No data found, symbol may be delisted\n",
      "Producing data for:  AET\n",
      "AET: No data found for this date range, symbol may be delisted\n",
      "AET: No data found for this date range, symbol may be delisted\n",
      "AET: No data found for this date range, symbol may be delisted\n",
      "AET: No data found for this date range, symbol may be delisted\n",
      "Producing data for:  AMG\n",
      "Date               2022-12-23 00:00:00-05:00\n",
      "Open                              154.110001\n",
      "High                              157.050003\n",
      "Low                               154.110001\n",
      "Close                             156.919998\n",
      "Volume                                176600\n",
      "Dividends                                0.0\n",
      "Stock Splits                             0.0\n",
      "Ticker                                   AMG\n",
      "1y Price Return                    -0.058902\n",
      "6m Price Return                     0.265254\n",
      "3m Price Return                     0.373567\n",
      "1m Price Return                     0.000255\n",
      "Price                             156.919998\n",
      "1y percentile                              0\n",
      "6m percentile                              0\n",
      "3m percentile                              0\n",
      "1m percentile                              0\n",
      "Name: 6313, dtype: object\n",
      "Producing data for:  MGR\n"
     ]
    },
    {
     "name": "stderr",
     "output_type": "stream",
     "text": [
      "<ipython-input-3-e619353caa5d>:57: FutureWarning: The frame.append method is deprecated and will be removed from pandas in a future version. Use pandas.concat instead.\n",
      "  final = final.append(\n"
     ]
    },
    {
     "name": "stdout",
     "output_type": "stream",
     "text": [
      "Date               2022-12-23 00:00:00-05:00\n",
      "Open                               23.129999\n",
      "High                               23.389999\n",
      "Low                                     22.5\n",
      "Close                                  22.58\n",
      "Volume                                 26200\n",
      "Dividends                                0.0\n",
      "Stock Splits                             0.0\n",
      "Ticker                                   MGR\n",
      "1y Price Return                    -0.117669\n",
      "6m Price Return                    -0.039457\n",
      "3m Price Return                     0.020471\n",
      "1m Price Return                     0.016659\n",
      "Price                                  22.58\n",
      "1y percentile                              0\n",
      "6m percentile                              0\n",
      "3m percentile                              0\n",
      "1m percentile                              0\n",
      "Name: 943, dtype: object\n",
      "Producing data for:  AFL\n"
     ]
    },
    {
     "name": "stderr",
     "output_type": "stream",
     "text": [
      "<ipython-input-3-e619353caa5d>:57: FutureWarning: The frame.append method is deprecated and will be removed from pandas in a future version. Use pandas.concat instead.\n",
      "  final = final.append(\n"
     ]
    },
    {
     "name": "stdout",
     "output_type": "stream",
     "text": [
      "Date               2022-12-23 00:00:00-05:00\n",
      "Open                               70.910004\n",
      "High                               71.809998\n",
      "Low                                70.910004\n",
      "Close                                  71.75\n",
      "Volume                               1471200\n",
      "Dividends                                0.0\n",
      "Stock Splits                             0.0\n",
      "Ticker                                   AFL\n",
      "1y Price Return                     0.264888\n",
      "6m Price Return                     0.301975\n",
      "3m Price Return                      0.26993\n",
      "1m Price Return                    -0.010345\n",
      "Price                                  71.75\n",
      "1y percentile                              0\n",
      "6m percentile                              0\n",
      "3m percentile                              0\n",
      "1m percentile                              0\n",
      "Name: 10786, dtype: object\n",
      "Producing data for:  AFSD\n"
     ]
    },
    {
     "name": "stderr",
     "output_type": "stream",
     "text": [
      "<ipython-input-3-e619353caa5d>:57: FutureWarning: The frame.append method is deprecated and will be removed from pandas in a future version. Use pandas.concat instead.\n",
      "  final = final.append(\n"
     ]
    },
    {
     "name": "stdout",
     "output_type": "stream",
     "text": [
      "Got error from yahoo api for ticker AFSD, Error: {'code': 'Not Found', 'description': 'No data found, symbol may be delisted'}\n",
      "- AFSD: No timezone found, symbol may be delisted\n",
      "AFSD: No data found, symbol may be delisted\n",
      "AFSD: No data found, symbol may be delisted\n",
      "AFSD: No data found, symbol may be delisted\n",
      "AFSD: No data found, symbol may be delisted\n",
      "Producing data for:  MITT\n",
      "Date               2022-12-23 00:00:00-05:00\n",
      "Open                                    5.79\n",
      "High                                    5.81\n",
      "Low                                     5.66\n",
      "Close                                   5.76\n",
      "Volume                                107600\n",
      "Dividends                                0.0\n",
      "Stock Splits                             0.0\n",
      "Ticker                                  MITT\n",
      "1y Price Return                    -0.390817\n",
      "6m Price Return                    -0.138772\n",
      "3m Price Return                     0.246058\n",
      "1m Price Return                     0.003484\n",
      "Price                                   5.76\n",
      "1y percentile                              0\n",
      "6m percentile                              0\n",
      "3m percentile                              0\n",
      "1m percentile                              0\n",
      "Name: 2891, dtype: object\n",
      "Producing data for:  MITT.PRA\n"
     ]
    },
    {
     "name": "stderr",
     "output_type": "stream",
     "text": [
      "<ipython-input-3-e619353caa5d>:57: FutureWarning: The frame.append method is deprecated and will be removed from pandas in a future version. Use pandas.concat instead.\n",
      "  final = final.append(\n"
     ]
    },
    {
     "name": "stdout",
     "output_type": "stream",
     "text": [
      "Got error from yahoo api for ticker MITT.PRA, Error: {'code': 'Not Found', 'description': 'No data found, symbol may be delisted'}\n",
      "- MITT.PRA: No timezone found, symbol may be delisted\n",
      "MITT.PRA: No data found, symbol may be delisted\n",
      "MITT.PRA: No data found, symbol may be delisted\n",
      "MITT.PRA: No data found, symbol may be delisted\n",
      "MITT.PRA: No data found, symbol may be delisted\n",
      "Producing data for:  MITT.PRB\n",
      "Got error from yahoo api for ticker MITT.PRB, Error: {'code': 'Not Found', 'description': 'No data found, symbol may be delisted'}\n",
      "- MITT.PRB: No timezone found, symbol may be delisted\n",
      "MITT.PRB: No data found, symbol may be delisted\n",
      "MITT.PRB: No data found, symbol may be delisted\n",
      "MITT.PRB: No data found, symbol may be delisted\n",
      "MITT.PRB: No data found, symbol may be delisted\n",
      "Producing data for:  AGCO\n",
      "Date               2022-12-23 00:00:00-05:00\n",
      "Open                              134.009995\n",
      "High                              134.979996\n",
      "Low                               132.449997\n",
      "Close                             134.169998\n",
      "Volume                                203600\n",
      "Dividends                                0.0\n",
      "Stock Splits                             0.0\n",
      "Ticker                                  AGCO\n",
      "1y Price Return                     0.198323\n",
      "6m Price Return                      0.33867\n",
      "3m Price Return                     0.415866\n",
      "1m Price Return                      0.01024\n",
      "Price                             134.169998\n",
      "1y percentile                              0\n",
      "6m percentile                              0\n",
      "3m percentile                              0\n",
      "1m percentile                              0\n",
      "Name: 7730, dtype: object\n",
      "Producing data for:  A\n"
     ]
    },
    {
     "name": "stderr",
     "output_type": "stream",
     "text": [
      "<ipython-input-3-e619353caa5d>:57: FutureWarning: The frame.append method is deprecated and will be removed from pandas in a future version. Use pandas.concat instead.\n",
      "  final = final.append(\n"
     ]
    },
    {
     "name": "stdout",
     "output_type": "stream",
     "text": [
      "Date               2022-12-23 00:00:00-05:00\n",
      "Open                              149.009995\n",
      "High                                  150.25\n",
      "Low                               148.220001\n",
      "Close                             149.229996\n",
      "Volume                                779400\n",
      "Dividends                                0.0\n",
      "Stock Splits                             0.0\n",
      "Ticker                                     A\n",
      "1y Price Return                    -0.053889\n",
      "6m Price Return                     0.234669\n",
      "3m Price Return                     0.222208\n",
      "1m Price Return                    -0.049248\n",
      "Price                             149.229996\n",
      "1y percentile                              0\n",
      "6m percentile                              0\n",
      "3m percentile                              0\n",
      "1m percentile                              0\n",
      "Name: 5812, dtype: object\n",
      "Producing data for:  AEM\n"
     ]
    },
    {
     "name": "stderr",
     "output_type": "stream",
     "text": [
      "<ipython-input-3-e619353caa5d>:57: FutureWarning: The frame.append method is deprecated and will be removed from pandas in a future version. Use pandas.concat instead.\n",
      "  final = final.append(\n"
     ]
    },
    {
     "name": "stdout",
     "output_type": "stream",
     "text": [
      "Date               2022-12-23 00:00:00-05:00\n",
      "Open                                   52.02\n",
      "High                                   52.93\n",
      "Low                                51.299999\n",
      "Close                              52.619999\n",
      "Volume                               2073800\n",
      "Dividends                                0.0\n",
      "Stock Splits                             0.0\n",
      "Ticker                                   AEM\n",
      "1y Price Return                      0.05682\n",
      "6m Price Return                     0.088007\n",
      "3m Price Return                     0.413034\n",
      "1m Price Return                     0.063672\n",
      "Price                              52.619999\n",
      "1y percentile                              0\n",
      "6m percentile                              0\n",
      "3m percentile                              0\n",
      "1m percentile                              0\n",
      "Name: 12572, dtype: object\n",
      "Producing data for:  ADC\n"
     ]
    },
    {
     "name": "stderr",
     "output_type": "stream",
     "text": [
      "<ipython-input-3-e619353caa5d>:57: FutureWarning: The frame.append method is deprecated and will be removed from pandas in a future version. Use pandas.concat instead.\n",
      "  final = final.append(\n"
     ]
    }
   ],
   "source": [
    "final = pd.DataFrame(columns=[\n",
    "                            'Ticker',\n",
    "                            'Price',\n",
    "                            '1y Price Return',\n",
    "                            '1y percentile', \n",
    "                            '6m Price Return', \n",
    "                            '6m percentile', \n",
    "                            '3m Price Return', \n",
    "                            '3m percentile',\n",
    "                            '1m Price Return', \n",
    "                            '1m percentile'\n",
    "                            ])\n",
    "for i in range(len(tick[\"0\"])):\n",
    "    print(\"Producing data for: \", tick[\"0\"][i])\n",
    "    try:\n",
    "        d = yf.Ticker(tick[\"0\"][i]).history(period='max')\n",
    "        y = yf.Ticker(tick[\"0\"][i]).history(period='1y')\n",
    "        m6 = yf.Ticker(tick[\"0\"][i]).history(period='6mo')\n",
    "        m3 = yf.Ticker(tick[\"0\"][i]).history(period='3mo')\n",
    "        m1 = yf.Ticker(tick[\"0\"][i]).history(period='1mo')\n",
    "    except IndexError: \n",
    "        print(\"Couldn't find: \",tick[\"0\"][i])\n",
    "        continue\n",
    "    except KeyError:\n",
    "        continue\n",
    "    \n",
    "    d.reset_index(inplace=True)\n",
    "    y.reset_index(inplace=True)\n",
    "    m6.reset_index(inplace=True)\n",
    "    m3.reset_index(inplace=True)\n",
    "    m1.reset_index(inplace=True)\n",
    "\n",
    "    d['Ticker'] = tick['0'][i]    \n",
    "    try: \n",
    "        perc_change1y = ((y.iloc[-1]['Close'] - y.iloc[0]['Close'])/y.iloc[0][\"Close\"])\n",
    "        d['1y Price Return'] = perc_change1y\n",
    "        perc_change6m = ((m6.iloc[-1]['Close'] - m6.iloc[0]['Close'])/m6.iloc[0][\"Close\"])\n",
    "        d['6m Price Return'] = perc_change6m\n",
    "        perc_change3m = ((m3.iloc[-1]['Close'] - m3.iloc[0]['Close'])/m3.iloc[0][\"Close\"])\n",
    "        d['3m Price Return'] = perc_change3m\n",
    "        perc_change1m = ((m1.iloc[-1]['Close'] - m1.iloc[0]['Close'])/m1.iloc[0][\"Close\"])\n",
    "        d['1m Price Return'] = perc_change1m\n",
    "\n",
    "        d['Price'] = d['Close'] \n",
    "        d['1y percentile'] = 0\n",
    "        d['6m percentile'] = 0\n",
    "        d['3m percentile'] = 0\n",
    "        d['1m percentile'] = 0\n",
    "        d = d.iloc[-1]\n",
    "    except IndexError: \n",
    "        continue\n",
    "    print(d)\n",
    "\n",
    "    #Change to keep only last 2 days!!! get date\n",
    "    \n",
    "    #Append latest value\n",
    "    final = final.append(\n",
    "        pd.Series(d,\n",
    "        index=['Ticker',\n",
    "                            'Price',\n",
    "                            '1y Price Return',\n",
    "                            '1y percentile', \n",
    "                            '6m Price Return', \n",
    "                            '6m percentile', \n",
    "                            '3m Price Return', \n",
    "                            '3m percentile',\n",
    "                            '1m Price Return', \n",
    "                            '1m percentile']), \n",
    "        ignore_index = True\n",
    "    )  "
   ]
  },
  {
   "cell_type": "code",
   "execution_count": null,
   "metadata": {},
   "outputs": [],
   "source": [
    "final.to_csv(\"momentum_advanced_sheet\")"
   ]
  }
 ],
 "metadata": {
  "interpreter": {
   "hash": "f36662cf0d2dc2d22e7ce50b6b2dd5771b8ab03597c45c6e0e62ff4a448306d1"
  },
  "kernelspec": {
   "display_name": "Python 3.8.5 64-bit",
   "language": "python",
   "name": "python3"
  },
  "language_info": {
   "codemirror_mode": {
    "name": "ipython",
    "version": 3
   },
   "file_extension": ".py",
   "mimetype": "text/x-python",
   "name": "python",
   "nbconvert_exporter": "python",
   "pygments_lexer": "ipython3",
   "version": "3.8.5"
  },
  "orig_nbformat": 4
 },
 "nbformat": 4,
 "nbformat_minor": 2
}
