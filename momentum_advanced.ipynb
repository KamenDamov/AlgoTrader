{
 "cells": [
  {
   "cell_type": "code",
   "execution_count": 1,
   "metadata": {},
   "outputs": [],
   "source": [
    "import numpy as np\n",
    "import pandas as pd\n",
    "import math\n",
    "import requests \n",
    "import matplotlib as plt\n",
    "import seaborn as sns\n",
    "import yfinance as yf\n",
    "import pandas_datareader as web\n",
    "from pandas_datareader import data\n",
    "from bs4 import BeautifulSoup as bs\n",
    "from scipy import stats"
   ]
  },
  {
   "cell_type": "code",
   "execution_count": 2,
   "metadata": {},
   "outputs": [],
   "source": [
    "tick = pd.read_csv(\"all_stocks\")"
   ]
  },
  {
   "cell_type": "code",
   "execution_count": 15,
   "metadata": {},
   "outputs": [
    {
     "name": "stdout",
     "output_type": "stream",
     "text": [
      "Producing data for:  AOS\n",
      "Date               2022-12-23 00:00:00-05:00\n",
      "Open                               56.049999\n",
      "High                               56.939999\n",
      "Low                                    55.84\n",
      "Close                              56.900002\n",
      "Volume                                879500\n",
      "Dividends                                0.0\n",
      "Stock Splits                             0.0\n",
      "Ticker                                   AOS\n",
      "1y Price Return                     -0.31561\n",
      "6m Price Return                     0.030038\n",
      "3m Price Return                     0.158284\n",
      "1m Price Return                    -0.080181\n",
      "Price                              56.900002\n",
      "1y percentile                              0\n",
      "6m percentile                              0\n",
      "3m percentile                              0\n",
      "1m percentile                              0\n",
      "Name: 9890, dtype: object\n"
     ]
    },
    {
     "name": "stderr",
     "output_type": "stream",
     "text": [
      "<ipython-input-15-46534c27f6d6>:57: FutureWarning: The frame.append method is deprecated and will be removed from pandas in a future version. Use pandas.concat instead.\n",
      "  final = final.append(\n"
     ]
    }
   ],
   "source": [
    "final = pd.DataFrame(columns=[\n",
    "                            'Ticker',\n",
    "                            'Price',\n",
    "                            '1y Price Return',\n",
    "                            '1y percentile', \n",
    "                            '6m Price Return', \n",
    "                            '6m percentile', \n",
    "                            '3m Price Return', \n",
    "                            '3m percentile',\n",
    "                            '1m Price Return', \n",
    "                            '1m percentile'\n",
    "                            ])\n",
    "for i in range(len(tick[\"0\"])):\n",
    "    print(\"Producing data for: \", tick[\"0\"][i])\n",
    "    try:\n",
    "        d = yf.Ticker(tick[\"0\"][i]).history(period='max')\n",
    "        y = yf.Ticker(tick[\"0\"][i]).history(period='1y')\n",
    "        m6 = yf.Ticker(tick[\"0\"][i]).history(period='6mo')\n",
    "        m3 = yf.Ticker(tick[\"0\"][i]).history(period='3mo')\n",
    "        m1 = yf.Ticker(tick[\"0\"][i]).history(period='1mo')\n",
    "    except IndexError: \n",
    "        print(\"Couldn't find: \",tick[\"0\"][i])\n",
    "        continue\n",
    "    except KeyError:\n",
    "        continue\n",
    "    \n",
    "    d.reset_index(inplace=True)\n",
    "    y.reset_index(inplace=True)\n",
    "    m6.reset_index(inplace=True)\n",
    "    m3.reset_index(inplace=True)\n",
    "    m1.reset_index(inplace=True)\n",
    "\n",
    "    d['Ticker'] = tick['0'][i]    \n",
    "    try: \n",
    "        perc_change1y = ((y.iloc[-1]['Close'] - y.iloc[0]['Close'])/y.iloc[0][\"Close\"])\n",
    "        d['1y Price Return'] = perc_change1y\n",
    "        perc_change6m = ((m6.iloc[-1]['Close'] - m6.iloc[0]['Close'])/m6.iloc[0][\"Close\"])\n",
    "        d['6m Price Return'] = perc_change6m\n",
    "        perc_change3m = ((m3.iloc[-1]['Close'] - m3.iloc[0]['Close'])/m3.iloc[0][\"Close\"])\n",
    "        d['3m Price Return'] = perc_change3m\n",
    "        perc_change1m = ((m1.iloc[-1]['Close'] - m1.iloc[0]['Close'])/m1.iloc[0][\"Close\"])\n",
    "        d['1m Price Return'] = perc_change1m\n",
    "\n",
    "        d['Price'] = d['Close'] \n",
    "        d['1y percentile'] = 0\n",
    "        d['6m percentile'] = 0\n",
    "        d['3m percentile'] = 0\n",
    "        d['1m percentile'] = 0\n",
    "        d = d.iloc[-1]\n",
    "    except IndexError: \n",
    "        continue\n",
    "    print(d)\n",
    "\n",
    "    #Change to keep only last 2 days!!! get date\n",
    "    \n",
    "    #Append latest value\n",
    "    final = final.append(\n",
    "        pd.Series(d,\n",
    "        index=['Ticker',\n",
    "                            'Price',\n",
    "                            '1y Price Return',\n",
    "                            '1y percentile', \n",
    "                            '6m Price Return', \n",
    "                            '6m percentile', \n",
    "                            '3m Price Return', \n",
    "                            '3m percentile',\n",
    "                            '1m Price Return', \n",
    "                            '1m percentile']), \n",
    "        ignore_index = True\n",
    "    )  "
   ]
  },
  {
   "cell_type": "code",
   "execution_count": null,
   "metadata": {},
   "outputs": [],
   "source": [
    "final.to_csv(\"momentum_advanced_sheet\")"
   ]
  }
 ],
 "metadata": {
  "interpreter": {
   "hash": "f36662cf0d2dc2d22e7ce50b6b2dd5771b8ab03597c45c6e0e62ff4a448306d1"
  },
  "kernelspec": {
   "display_name": "Python 3.8.5 64-bit",
   "language": "python",
   "name": "python3"
  },
  "language_info": {
   "codemirror_mode": {
    "name": "ipython",
    "version": 3
   },
   "file_extension": ".py",
   "mimetype": "text/x-python",
   "name": "python",
   "nbconvert_exporter": "python",
   "pygments_lexer": "ipython3",
   "version": "3.8.5"
  },
  "orig_nbformat": 4
 },
 "nbformat": 4,
 "nbformat_minor": 2
}
