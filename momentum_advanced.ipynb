{
 "cells": [
  {
   "cell_type": "code",
   "execution_count": 1,
   "metadata": {},
   "outputs": [
    {
     "name": "stderr",
     "output_type": "stream",
     "text": [
      "<ipython-input-1-d5b62f59ed62>:103: FutureWarning: The frame.append method is deprecated and will be removed from pandas in a future version. Use pandas.concat instead.\n",
      "  final = final.append(\n"
     ]
    },
    {
     "name": "stdout",
     "output_type": "stream",
     "text": [
      "Got error from yahoo api for ticker AFSD, Error: {'code': 'Not Found', 'description': 'No data found, symbol may be delisted'}\n",
      "- AFSD: No timezone found, symbol may be delisted\n",
      "Got error from yahoo api for ticker AFSD, Error: {'code': 'Not Found', 'description': 'No data found, symbol may be delisted'}\n",
      "- AFSD: No timezone found, symbol may be delisted\n",
      "Producing data for:  MITT\n"
     ]
    },
    {
     "name": "stderr",
     "output_type": "stream",
     "text": [
      "<ipython-input-1-d5b62f59ed62>:47: FutureWarning: Indexing a timezone-aware DatetimeIndex with a timezone-naive datetime is deprecated and will raise KeyError in a future version. Use a timezone-aware object instead.\n",
      "  y = max.truncate(before=pd.Timestamp('today') - pd.DateOffset(months=12))\n",
      "<ipython-input-1-d5b62f59ed62>:48: FutureWarning: Indexing a timezone-aware DatetimeIndex with a timezone-naive datetime is deprecated and will raise KeyError in a future version. Use a timezone-aware object instead.\n",
      "  m6 = max.truncate(before=pd.Timestamp('today') - pd.DateOffset(months=6))\n",
      "<ipython-input-1-d5b62f59ed62>:49: FutureWarning: Indexing a timezone-aware DatetimeIndex with a timezone-naive datetime is deprecated and will raise KeyError in a future version. Use a timezone-aware object instead.\n",
      "  m3 = max.truncate(before=pd.Timestamp('today') - pd.DateOffset(months=3))\n",
      "<ipython-input-1-d5b62f59ed62>:50: FutureWarning: Indexing a timezone-aware DatetimeIndex with a timezone-naive datetime is deprecated and will raise KeyError in a future version. Use a timezone-aware object instead.\n",
      "  m1 = max.truncate(before=pd.Timestamp('today') - pd.DateOffset(months=1))\n",
      "<ipython-input-1-d5b62f59ed62>:103: FutureWarning: The frame.append method is deprecated and will be removed from pandas in a future version. Use pandas.concat instead.\n",
      "  final = final.append(\n"
     ]
    },
    {
     "name": "stdout",
     "output_type": "stream",
     "text": [
      "0.2478404934652844\n",
      "0.3584688711331252\n",
      "0.4637234004951505\n",
      "0.5148293768004812\n",
      "0.5644746936803873\n",
      "Producing data for:  MITT.PRA\n",
      "Got error from yahoo api for ticker MITT.PRA, Error: {'code': 'Not Found', 'description': 'No data found, symbol may be delisted'}\n",
      "- MITT.PRA: No timezone found, symbol may be delisted\n",
      "Got error from yahoo api for ticker MITT.PRA, Error: {'code': 'Not Found', 'description': 'No data found, symbol may be delisted'}\n",
      "- MITT.PRA: No timezone found, symbol may be delisted\n",
      "Producing data for:  MITT.PRB\n",
      "Got error from yahoo api for ticker MITT.PRB, Error: {'code': 'Not Found', 'description': 'No data found, symbol may be delisted'}\n",
      "- MITT.PRB: No timezone found, symbol may be delisted\n",
      "Got error from yahoo api for ticker MITT.PRB, Error: {'code': 'Not Found', 'description': 'No data found, symbol may be delisted'}\n",
      "- MITT.PRB: No timezone found, symbol may be delisted\n",
      "Producing data for:  AGCO\n"
     ]
    },
    {
     "name": "stderr",
     "output_type": "stream",
     "text": [
      "<ipython-input-1-d5b62f59ed62>:47: FutureWarning: Indexing a timezone-aware DatetimeIndex with a timezone-naive datetime is deprecated and will raise KeyError in a future version. Use a timezone-aware object instead.\n",
      "  y = max.truncate(before=pd.Timestamp('today') - pd.DateOffset(months=12))\n",
      "<ipython-input-1-d5b62f59ed62>:48: FutureWarning: Indexing a timezone-aware DatetimeIndex with a timezone-naive datetime is deprecated and will raise KeyError in a future version. Use a timezone-aware object instead.\n",
      "  m6 = max.truncate(before=pd.Timestamp('today') - pd.DateOffset(months=6))\n",
      "<ipython-input-1-d5b62f59ed62>:49: FutureWarning: Indexing a timezone-aware DatetimeIndex with a timezone-naive datetime is deprecated and will raise KeyError in a future version. Use a timezone-aware object instead.\n",
      "  m3 = max.truncate(before=pd.Timestamp('today') - pd.DateOffset(months=3))\n",
      "<ipython-input-1-d5b62f59ed62>:50: FutureWarning: Indexing a timezone-aware DatetimeIndex with a timezone-naive datetime is deprecated and will raise KeyError in a future version. Use a timezone-aware object instead.\n",
      "  m1 = max.truncate(before=pd.Timestamp('today') - pd.DateOffset(months=1))\n",
      "<ipython-input-1-d5b62f59ed62>:103: FutureWarning: The frame.append method is deprecated and will be removed from pandas in a future version. Use pandas.concat instead.\n",
      "  final = final.append(\n"
     ]
    },
    {
     "name": "stdout",
     "output_type": "stream",
     "text": [
      "0.18032466710282555\n",
      "0.2790608011495199\n",
      "0.37775235244104943\n",
      "0.4224933198437987\n",
      "0.458180704289342\n",
      "Producing data for:  A\n"
     ]
    },
    {
     "name": "stderr",
     "output_type": "stream",
     "text": [
      "<ipython-input-1-d5b62f59ed62>:47: FutureWarning: Indexing a timezone-aware DatetimeIndex with a timezone-naive datetime is deprecated and will raise KeyError in a future version. Use a timezone-aware object instead.\n",
      "  y = max.truncate(before=pd.Timestamp('today') - pd.DateOffset(months=12))\n",
      "<ipython-input-1-d5b62f59ed62>:48: FutureWarning: Indexing a timezone-aware DatetimeIndex with a timezone-naive datetime is deprecated and will raise KeyError in a future version. Use a timezone-aware object instead.\n",
      "  m6 = max.truncate(before=pd.Timestamp('today') - pd.DateOffset(months=6))\n",
      "<ipython-input-1-d5b62f59ed62>:49: FutureWarning: Indexing a timezone-aware DatetimeIndex with a timezone-naive datetime is deprecated and will raise KeyError in a future version. Use a timezone-aware object instead.\n",
      "  m3 = max.truncate(before=pd.Timestamp('today') - pd.DateOffset(months=3))\n",
      "<ipython-input-1-d5b62f59ed62>:50: FutureWarning: Indexing a timezone-aware DatetimeIndex with a timezone-naive datetime is deprecated and will raise KeyError in a future version. Use a timezone-aware object instead.\n",
      "  m1 = max.truncate(before=pd.Timestamp('today') - pd.DateOffset(months=1))\n",
      "<ipython-input-1-d5b62f59ed62>:103: FutureWarning: The frame.append method is deprecated and will be removed from pandas in a future version. Use pandas.concat instead.\n",
      "  final = final.append(\n"
     ]
    },
    {
     "name": "stdout",
     "output_type": "stream",
     "text": [
      "0.18120025975630422\n",
      "0.2716969575371696\n",
      "0.36202236007923305\n",
      "0.40690263986541625\n",
      "0.45014952106195494\n",
      "Producing data for:  AEM\n"
     ]
    },
    {
     "name": "stderr",
     "output_type": "stream",
     "text": [
      "<ipython-input-1-d5b62f59ed62>:47: FutureWarning: Indexing a timezone-aware DatetimeIndex with a timezone-naive datetime is deprecated and will raise KeyError in a future version. Use a timezone-aware object instead.\n",
      "  y = max.truncate(before=pd.Timestamp('today') - pd.DateOffset(months=12))\n",
      "<ipython-input-1-d5b62f59ed62>:48: FutureWarning: Indexing a timezone-aware DatetimeIndex with a timezone-naive datetime is deprecated and will raise KeyError in a future version. Use a timezone-aware object instead.\n",
      "  m6 = max.truncate(before=pd.Timestamp('today') - pd.DateOffset(months=6))\n",
      "<ipython-input-1-d5b62f59ed62>:49: FutureWarning: Indexing a timezone-aware DatetimeIndex with a timezone-naive datetime is deprecated and will raise KeyError in a future version. Use a timezone-aware object instead.\n",
      "  m3 = max.truncate(before=pd.Timestamp('today') - pd.DateOffset(months=3))\n",
      "<ipython-input-1-d5b62f59ed62>:50: FutureWarning: Indexing a timezone-aware DatetimeIndex with a timezone-naive datetime is deprecated and will raise KeyError in a future version. Use a timezone-aware object instead.\n",
      "  m1 = max.truncate(before=pd.Timestamp('today') - pd.DateOffset(months=1))\n"
     ]
    },
    {
     "name": "stdout",
     "output_type": "stream",
     "text": [
      "0.19196103669834622\n",
      "0.2821137650495577\n",
      "0.3639341275264343\n",
      "0.4022286964948328\n",
      "0.43888727423412227\n",
      "Producing data for:  ADC\n"
     ]
    },
    {
     "name": "stderr",
     "output_type": "stream",
     "text": [
      "<ipython-input-1-d5b62f59ed62>:103: FutureWarning: The frame.append method is deprecated and will be removed from pandas in a future version. Use pandas.concat instead.\n",
      "  final = final.append(\n",
      "<ipython-input-1-d5b62f59ed62>:47: FutureWarning: Indexing a timezone-aware DatetimeIndex with a timezone-naive datetime is deprecated and will raise KeyError in a future version. Use a timezone-aware object instead.\n",
      "  y = max.truncate(before=pd.Timestamp('today') - pd.DateOffset(months=12))\n",
      "<ipython-input-1-d5b62f59ed62>:48: FutureWarning: Indexing a timezone-aware DatetimeIndex with a timezone-naive datetime is deprecated and will raise KeyError in a future version. Use a timezone-aware object instead.\n",
      "  m6 = max.truncate(before=pd.Timestamp('today') - pd.DateOffset(months=6))\n",
      "<ipython-input-1-d5b62f59ed62>:49: FutureWarning: Indexing a timezone-aware DatetimeIndex with a timezone-naive datetime is deprecated and will raise KeyError in a future version. Use a timezone-aware object instead.\n",
      "  m3 = max.truncate(before=pd.Timestamp('today') - pd.DateOffset(months=3))\n",
      "<ipython-input-1-d5b62f59ed62>:50: FutureWarning: Indexing a timezone-aware DatetimeIndex with a timezone-naive datetime is deprecated and will raise KeyError in a future version. Use a timezone-aware object instead.\n",
      "  m1 = max.truncate(before=pd.Timestamp('today') - pd.DateOffset(months=1))\n",
      "<ipython-input-1-d5b62f59ed62>:103: FutureWarning: The frame.append method is deprecated and will be removed from pandas in a future version. Use pandas.concat instead.\n",
      "  final = final.append(\n"
     ]
    },
    {
     "name": "stdout",
     "output_type": "stream",
     "text": [
      "0.16809858632180938\n",
      "0.24248373681686033\n",
      "0.3182688737749719\n",
      "0.3586692377428905\n",
      "0.4057632266694029\n",
      "Producing data for:  AGU\n",
      "AGU: 1d data not available for startTime=-2208994789 and endTime=1673287245. Only 100 years worth of day granularity data are allowed to be fetched per request.\n",
      "AGU: 1d data not available for startTime=-2208994789 and endTime=1673287246. Only 100 years worth of day granularity data are allowed to be fetched per request.\n",
      "Producing data for:  AHC\n",
      "Got error from yahoo api for ticker AHC, Error: {'code': 'Not Found', 'description': 'No data found, symbol may be delisted'}\n",
      "- AHC: No timezone found, symbol may be delisted\n",
      "Got error from yahoo api for ticker AHC, Error: {'code': 'Not Found', 'description': 'No data found, symbol may be delisted'}\n",
      "- AHC: No timezone found, symbol may be delisted\n",
      "Producing data for:  AL\n"
     ]
    },
    {
     "name": "stderr",
     "output_type": "stream",
     "text": [
      "<ipython-input-1-d5b62f59ed62>:47: FutureWarning: Indexing a timezone-aware DatetimeIndex with a timezone-naive datetime is deprecated and will raise KeyError in a future version. Use a timezone-aware object instead.\n",
      "  y = max.truncate(before=pd.Timestamp('today') - pd.DateOffset(months=12))\n",
      "<ipython-input-1-d5b62f59ed62>:48: FutureWarning: Indexing a timezone-aware DatetimeIndex with a timezone-naive datetime is deprecated and will raise KeyError in a future version. Use a timezone-aware object instead.\n",
      "  m6 = max.truncate(before=pd.Timestamp('today') - pd.DateOffset(months=6))\n",
      "<ipython-input-1-d5b62f59ed62>:49: FutureWarning: Indexing a timezone-aware DatetimeIndex with a timezone-naive datetime is deprecated and will raise KeyError in a future version. Use a timezone-aware object instead.\n",
      "  m3 = max.truncate(before=pd.Timestamp('today') - pd.DateOffset(months=3))\n",
      "<ipython-input-1-d5b62f59ed62>:50: FutureWarning: Indexing a timezone-aware DatetimeIndex with a timezone-naive datetime is deprecated and will raise KeyError in a future version. Use a timezone-aware object instead.\n",
      "  m1 = max.truncate(before=pd.Timestamp('today') - pd.DateOffset(months=1))\n",
      "<ipython-input-1-d5b62f59ed62>:103: FutureWarning: The frame.append method is deprecated and will be removed from pandas in a future version. Use pandas.concat instead.\n",
      "  final = final.append(\n"
     ]
    },
    {
     "name": "stdout",
     "output_type": "stream",
     "text": [
      "0.1926763817438727\n",
      "0.27844171731779205\n",
      "0.35081846290255997\n",
      "0.381107152074902\n",
      "0.3944970769964585\n",
      "Producing data for:  APD\n"
     ]
    },
    {
     "name": "stderr",
     "output_type": "stream",
     "text": [
      "<ipython-input-1-d5b62f59ed62>:47: FutureWarning: Indexing a timezone-aware DatetimeIndex with a timezone-naive datetime is deprecated and will raise KeyError in a future version. Use a timezone-aware object instead.\n",
      "  y = max.truncate(before=pd.Timestamp('today') - pd.DateOffset(months=12))\n",
      "<ipython-input-1-d5b62f59ed62>:48: FutureWarning: Indexing a timezone-aware DatetimeIndex with a timezone-naive datetime is deprecated and will raise KeyError in a future version. Use a timezone-aware object instead.\n",
      "  m6 = max.truncate(before=pd.Timestamp('today') - pd.DateOffset(months=6))\n",
      "<ipython-input-1-d5b62f59ed62>:49: FutureWarning: Indexing a timezone-aware DatetimeIndex with a timezone-naive datetime is deprecated and will raise KeyError in a future version. Use a timezone-aware object instead.\n",
      "  m3 = max.truncate(before=pd.Timestamp('today') - pd.DateOffset(months=3))\n",
      "<ipython-input-1-d5b62f59ed62>:50: FutureWarning: Indexing a timezone-aware DatetimeIndex with a timezone-naive datetime is deprecated and will raise KeyError in a future version. Use a timezone-aware object instead.\n",
      "  m1 = max.truncate(before=pd.Timestamp('today') - pd.DateOffset(months=1))\n",
      "<ipython-input-1-d5b62f59ed62>:103: FutureWarning: The frame.append method is deprecated and will be removed from pandas in a future version. Use pandas.concat instead.\n",
      "  final = final.append(\n"
     ]
    },
    {
     "name": "stdout",
     "output_type": "stream",
     "text": [
      "0.2048482011579305\n",
      "0.2944850069797477\n",
      "0.370118963872403\n",
      "0.40993961449246286\n",
      "0.45562784445709437\n",
      "Producing data for:  AYR\n",
      "Got error from yahoo api for ticker AYR, Error: {'code': 'Not Found', 'description': 'No data found, symbol may be delisted'}\n",
      "- AYR: No timezone found, symbol may be delisted\n",
      "Got error from yahoo api for ticker AYR, Error: {'code': 'Not Found', 'description': 'No data found, symbol may be delisted'}\n",
      "- AYR: No timezone found, symbol may be delisted\n",
      "Producing data for:  AKS\n",
      "Got error from yahoo api for ticker AKS, Error: {'code': 'Not Found', 'description': 'No data found, symbol may be delisted'}\n",
      "- AKS: No timezone found, symbol may be delisted\n",
      "Got error from yahoo api for ticker AKS, Error: {'code': 'Not Found', 'description': 'No data found, symbol may be delisted'}\n",
      "- AKS: No timezone found, symbol may be delisted\n",
      "Producing data for:  ALP.PRO\n",
      "Got error from yahoo api for ticker ALP.PRO, Error: {'code': 'Not Found', 'description': 'No data found, symbol may be delisted'}\n",
      "- ALP.PRO: No timezone found, symbol may be delisted\n",
      "Got error from yahoo api for ticker ALP.PRO, Error: {'code': 'Not Found', 'description': 'No data found, symbol may be delisted'}\n",
      "- ALP.PRO: No timezone found, symbol may be delisted\n",
      "Producing data for:  ALG\n"
     ]
    },
    {
     "name": "stderr",
     "output_type": "stream",
     "text": [
      "<ipython-input-1-d5b62f59ed62>:47: FutureWarning: Indexing a timezone-aware DatetimeIndex with a timezone-naive datetime is deprecated and will raise KeyError in a future version. Use a timezone-aware object instead.\n",
      "  y = max.truncate(before=pd.Timestamp('today') - pd.DateOffset(months=12))\n",
      "<ipython-input-1-d5b62f59ed62>:48: FutureWarning: Indexing a timezone-aware DatetimeIndex with a timezone-naive datetime is deprecated and will raise KeyError in a future version. Use a timezone-aware object instead.\n",
      "  m6 = max.truncate(before=pd.Timestamp('today') - pd.DateOffset(months=6))\n",
      "<ipython-input-1-d5b62f59ed62>:49: FutureWarning: Indexing a timezone-aware DatetimeIndex with a timezone-naive datetime is deprecated and will raise KeyError in a future version. Use a timezone-aware object instead.\n",
      "  m3 = max.truncate(before=pd.Timestamp('today') - pd.DateOffset(months=3))\n",
      "<ipython-input-1-d5b62f59ed62>:50: FutureWarning: Indexing a timezone-aware DatetimeIndex with a timezone-naive datetime is deprecated and will raise KeyError in a future version. Use a timezone-aware object instead.\n",
      "  m1 = max.truncate(before=pd.Timestamp('today') - pd.DateOffset(months=1))\n",
      "<ipython-input-1-d5b62f59ed62>:103: FutureWarning: The frame.append method is deprecated and will be removed from pandas in a future version. Use pandas.concat instead.\n",
      "  final = final.append(\n"
     ]
    },
    {
     "name": "stdout",
     "output_type": "stream",
     "text": [
      "0.18703009397848985\n",
      "0.277148916260006\n",
      "0.3632679814010231\n",
      "0.4013306019124232\n",
      "0.43796892099524154\n",
      "Producing data for:  AGI\n"
     ]
    },
    {
     "name": "stderr",
     "output_type": "stream",
     "text": [
      "<ipython-input-1-d5b62f59ed62>:47: FutureWarning: Indexing a timezone-aware DatetimeIndex with a timezone-naive datetime is deprecated and will raise KeyError in a future version. Use a timezone-aware object instead.\n",
      "  y = max.truncate(before=pd.Timestamp('today') - pd.DateOffset(months=12))\n",
      "<ipython-input-1-d5b62f59ed62>:48: FutureWarning: Indexing a timezone-aware DatetimeIndex with a timezone-naive datetime is deprecated and will raise KeyError in a future version. Use a timezone-aware object instead.\n",
      "  m6 = max.truncate(before=pd.Timestamp('today') - pd.DateOffset(months=6))\n",
      "<ipython-input-1-d5b62f59ed62>:49: FutureWarning: Indexing a timezone-aware DatetimeIndex with a timezone-naive datetime is deprecated and will raise KeyError in a future version. Use a timezone-aware object instead.\n",
      "  m3 = max.truncate(before=pd.Timestamp('today') - pd.DateOffset(months=3))\n",
      "<ipython-input-1-d5b62f59ed62>:50: FutureWarning: Indexing a timezone-aware DatetimeIndex with a timezone-naive datetime is deprecated and will raise KeyError in a future version. Use a timezone-aware object instead.\n",
      "  m1 = max.truncate(before=pd.Timestamp('today') - pd.DateOffset(months=1))\n",
      "<ipython-input-1-d5b62f59ed62>:103: FutureWarning: The frame.append method is deprecated and will be removed from pandas in a future version. Use pandas.concat instead.\n",
      "  final = final.append(\n"
     ]
    },
    {
     "name": "stdout",
     "output_type": "stream",
     "text": [
      "0.17254081275921007\n",
      "0.2523318369320703\n",
      "0.33665869884063127\n",
      "0.3834874774012544\n",
      "0.43359566983532666\n",
      "Producing data for:  ALK\n"
     ]
    },
    {
     "name": "stderr",
     "output_type": "stream",
     "text": [
      "<ipython-input-1-d5b62f59ed62>:47: FutureWarning: Indexing a timezone-aware DatetimeIndex with a timezone-naive datetime is deprecated and will raise KeyError in a future version. Use a timezone-aware object instead.\n",
      "  y = max.truncate(before=pd.Timestamp('today') - pd.DateOffset(months=12))\n",
      "<ipython-input-1-d5b62f59ed62>:48: FutureWarning: Indexing a timezone-aware DatetimeIndex with a timezone-naive datetime is deprecated and will raise KeyError in a future version. Use a timezone-aware object instead.\n",
      "  m6 = max.truncate(before=pd.Timestamp('today') - pd.DateOffset(months=6))\n",
      "<ipython-input-1-d5b62f59ed62>:49: FutureWarning: Indexing a timezone-aware DatetimeIndex with a timezone-naive datetime is deprecated and will raise KeyError in a future version. Use a timezone-aware object instead.\n",
      "  m3 = max.truncate(before=pd.Timestamp('today') - pd.DateOffset(months=3))\n",
      "<ipython-input-1-d5b62f59ed62>:50: FutureWarning: Indexing a timezone-aware DatetimeIndex with a timezone-naive datetime is deprecated and will raise KeyError in a future version. Use a timezone-aware object instead.\n",
      "  m1 = max.truncate(before=pd.Timestamp('today') - pd.DateOffset(months=1))\n"
     ]
    },
    {
     "name": "stdout",
     "output_type": "stream",
     "text": [
      "0.20867298112990082\n",
      "0.30727639720135647\n",
      "0.39815466334911187\n",
      "0.43902861978618846\n",
      "0.48322328695689865\n",
      "Producing data for:  AIN\n"
     ]
    },
    {
     "name": "stderr",
     "output_type": "stream",
     "text": [
      "<ipython-input-1-d5b62f59ed62>:103: FutureWarning: The frame.append method is deprecated and will be removed from pandas in a future version. Use pandas.concat instead.\n",
      "  final = final.append(\n",
      "<ipython-input-1-d5b62f59ed62>:47: FutureWarning: Indexing a timezone-aware DatetimeIndex with a timezone-naive datetime is deprecated and will raise KeyError in a future version. Use a timezone-aware object instead.\n",
      "  y = max.truncate(before=pd.Timestamp('today') - pd.DateOffset(months=12))\n",
      "<ipython-input-1-d5b62f59ed62>:48: FutureWarning: Indexing a timezone-aware DatetimeIndex with a timezone-naive datetime is deprecated and will raise KeyError in a future version. Use a timezone-aware object instead.\n",
      "  m6 = max.truncate(before=pd.Timestamp('today') - pd.DateOffset(months=6))\n",
      "<ipython-input-1-d5b62f59ed62>:49: FutureWarning: Indexing a timezone-aware DatetimeIndex with a timezone-naive datetime is deprecated and will raise KeyError in a future version. Use a timezone-aware object instead.\n",
      "  m3 = max.truncate(before=pd.Timestamp('today') - pd.DateOffset(months=3))\n",
      "<ipython-input-1-d5b62f59ed62>:50: FutureWarning: Indexing a timezone-aware DatetimeIndex with a timezone-naive datetime is deprecated and will raise KeyError in a future version. Use a timezone-aware object instead.\n",
      "  m1 = max.truncate(before=pd.Timestamp('today') - pd.DateOffset(months=1))\n"
     ]
    },
    {
     "name": "stdout",
     "output_type": "stream",
     "text": [
      "0.1949480590452639\n",
      "0.2844673584787168\n",
      "0.3694851328356594\n",
      "0.40794940166770943\n",
      "0.44338363286364046\n",
      "Producing data for:  ALB\n"
     ]
    },
    {
     "name": "stderr",
     "output_type": "stream",
     "text": [
      "<ipython-input-1-d5b62f59ed62>:103: FutureWarning: The frame.append method is deprecated and will be removed from pandas in a future version. Use pandas.concat instead.\n",
      "  final = final.append(\n",
      "<ipython-input-1-d5b62f59ed62>:47: FutureWarning: Indexing a timezone-aware DatetimeIndex with a timezone-naive datetime is deprecated and will raise KeyError in a future version. Use a timezone-aware object instead.\n",
      "  y = max.truncate(before=pd.Timestamp('today') - pd.DateOffset(months=12))\n",
      "<ipython-input-1-d5b62f59ed62>:48: FutureWarning: Indexing a timezone-aware DatetimeIndex with a timezone-naive datetime is deprecated and will raise KeyError in a future version. Use a timezone-aware object instead.\n",
      "  m6 = max.truncate(before=pd.Timestamp('today') - pd.DateOffset(months=6))\n",
      "<ipython-input-1-d5b62f59ed62>:49: FutureWarning: Indexing a timezone-aware DatetimeIndex with a timezone-naive datetime is deprecated and will raise KeyError in a future version. Use a timezone-aware object instead.\n",
      "  m3 = max.truncate(before=pd.Timestamp('today') - pd.DateOffset(months=3))\n",
      "<ipython-input-1-d5b62f59ed62>:50: FutureWarning: Indexing a timezone-aware DatetimeIndex with a timezone-naive datetime is deprecated and will raise KeyError in a future version. Use a timezone-aware object instead.\n",
      "  m1 = max.truncate(before=pd.Timestamp('today') - pd.DateOffset(months=1))\n"
     ]
    },
    {
     "name": "stdout",
     "output_type": "stream",
     "text": [
      "0.18667276045919554\n",
      "0.2706528351944191\n",
      "0.35685045921352404\n",
      "0.4050538802718563\n",
      "0.4457353216176535\n",
      "Producing data for:  AA\n"
     ]
    },
    {
     "name": "stderr",
     "output_type": "stream",
     "text": [
      "<ipython-input-1-d5b62f59ed62>:103: FutureWarning: The frame.append method is deprecated and will be removed from pandas in a future version. Use pandas.concat instead.\n",
      "  final = final.append(\n",
      "<ipython-input-1-d5b62f59ed62>:47: FutureWarning: Indexing a timezone-aware DatetimeIndex with a timezone-naive datetime is deprecated and will raise KeyError in a future version. Use a timezone-aware object instead.\n",
      "  y = max.truncate(before=pd.Timestamp('today') - pd.DateOffset(months=12))\n",
      "<ipython-input-1-d5b62f59ed62>:48: FutureWarning: Indexing a timezone-aware DatetimeIndex with a timezone-naive datetime is deprecated and will raise KeyError in a future version. Use a timezone-aware object instead.\n",
      "  m6 = max.truncate(before=pd.Timestamp('today') - pd.DateOffset(months=6))\n",
      "<ipython-input-1-d5b62f59ed62>:49: FutureWarning: Indexing a timezone-aware DatetimeIndex with a timezone-naive datetime is deprecated and will raise KeyError in a future version. Use a timezone-aware object instead.\n",
      "  m3 = max.truncate(before=pd.Timestamp('today') - pd.DateOffset(months=3))\n",
      "<ipython-input-1-d5b62f59ed62>:50: FutureWarning: Indexing a timezone-aware DatetimeIndex with a timezone-naive datetime is deprecated and will raise KeyError in a future version. Use a timezone-aware object instead.\n",
      "  m1 = max.truncate(before=pd.Timestamp('today') - pd.DateOffset(months=1))\n"
     ]
    },
    {
     "name": "stdout",
     "output_type": "stream",
     "text": [
      "0.196512996622158\n",
      "0.29617855931422177\n",
      "0.3954344052954084\n",
      "0.44259387982724724\n",
      "0.4789026416045575\n",
      "Producing data for:  ALR\n"
     ]
    },
    {
     "name": "stderr",
     "output_type": "stream",
     "text": [
      "<ipython-input-1-d5b62f59ed62>:103: FutureWarning: The frame.append method is deprecated and will be removed from pandas in a future version. Use pandas.concat instead.\n",
      "  final = final.append(\n",
      "<ipython-input-1-d5b62f59ed62>:47: FutureWarning: Indexing a timezone-aware DatetimeIndex with a timezone-naive datetime is deprecated and will raise KeyError in a future version. Use a timezone-aware object instead.\n",
      "  y = max.truncate(before=pd.Timestamp('today') - pd.DateOffset(months=12))\n",
      "<ipython-input-1-d5b62f59ed62>:48: FutureWarning: Indexing a timezone-aware DatetimeIndex with a timezone-naive datetime is deprecated and will raise KeyError in a future version. Use a timezone-aware object instead.\n",
      "  m6 = max.truncate(before=pd.Timestamp('today') - pd.DateOffset(months=6))\n",
      "<ipython-input-1-d5b62f59ed62>:49: FutureWarning: Indexing a timezone-aware DatetimeIndex with a timezone-naive datetime is deprecated and will raise KeyError in a future version. Use a timezone-aware object instead.\n",
      "  m3 = max.truncate(before=pd.Timestamp('today') - pd.DateOffset(months=3))\n",
      "<ipython-input-1-d5b62f59ed62>:50: FutureWarning: Indexing a timezone-aware DatetimeIndex with a timezone-naive datetime is deprecated and will raise KeyError in a future version. Use a timezone-aware object instead.\n",
      "  m1 = max.truncate(before=pd.Timestamp('today') - pd.DateOffset(months=1))\n",
      "<ipython-input-1-d5b62f59ed62>:103: FutureWarning: The frame.append method is deprecated and will be removed from pandas in a future version. Use pandas.concat instead.\n",
      "  final = final.append(\n"
     ]
    },
    {
     "name": "stdout",
     "output_type": "stream",
     "text": [
      "0.21093229659279983\n",
      "0.31920802381124513\n",
      "0.42428906946979494\n",
      "0.4738996782540215\n",
      "0.518067845146459\n",
      "Producing data for:  ALR.PRB\n",
      "Got error from yahoo api for ticker ALR.PRB, Error: {'code': 'Not Found', 'description': 'No data found, symbol may be delisted'}\n",
      "- ALR.PRB: No timezone found, symbol may be delisted\n",
      "Got error from yahoo api for ticker ALR.PRB, Error: {'code': 'Not Found', 'description': 'No data found, symbol may be delisted'}\n",
      "- ALR.PRB: No timezone found, symbol may be delisted\n",
      "Producing data for:  ALEX\n"
     ]
    },
    {
     "name": "stderr",
     "output_type": "stream",
     "text": [
      "<ipython-input-1-d5b62f59ed62>:47: FutureWarning: Indexing a timezone-aware DatetimeIndex with a timezone-naive datetime is deprecated and will raise KeyError in a future version. Use a timezone-aware object instead.\n",
      "  y = max.truncate(before=pd.Timestamp('today') - pd.DateOffset(months=12))\n",
      "<ipython-input-1-d5b62f59ed62>:48: FutureWarning: Indexing a timezone-aware DatetimeIndex with a timezone-naive datetime is deprecated and will raise KeyError in a future version. Use a timezone-aware object instead.\n",
      "  m6 = max.truncate(before=pd.Timestamp('today') - pd.DateOffset(months=6))\n",
      "<ipython-input-1-d5b62f59ed62>:49: FutureWarning: Indexing a timezone-aware DatetimeIndex with a timezone-naive datetime is deprecated and will raise KeyError in a future version. Use a timezone-aware object instead.\n",
      "  m3 = max.truncate(before=pd.Timestamp('today') - pd.DateOffset(months=3))\n",
      "<ipython-input-1-d5b62f59ed62>:50: FutureWarning: Indexing a timezone-aware DatetimeIndex with a timezone-naive datetime is deprecated and will raise KeyError in a future version. Use a timezone-aware object instead.\n",
      "  m1 = max.truncate(before=pd.Timestamp('today') - pd.DateOffset(months=1))\n",
      "<ipython-input-1-d5b62f59ed62>:103: FutureWarning: The frame.append method is deprecated and will be removed from pandas in a future version. Use pandas.concat instead.\n",
      "  final = final.append(\n"
     ]
    },
    {
     "name": "stdout",
     "output_type": "stream",
     "text": [
      "0.1999533218735453\n",
      "0.28787470185772673\n",
      "0.37726890504514615\n",
      "0.4158064149843097\n",
      "0.4432254975814982\n",
      "Producing data for:  ALX\n"
     ]
    },
    {
     "name": "stderr",
     "output_type": "stream",
     "text": [
      "<ipython-input-1-d5b62f59ed62>:47: FutureWarning: Indexing a timezone-aware DatetimeIndex with a timezone-naive datetime is deprecated and will raise KeyError in a future version. Use a timezone-aware object instead.\n",
      "  y = max.truncate(before=pd.Timestamp('today') - pd.DateOffset(months=12))\n",
      "<ipython-input-1-d5b62f59ed62>:48: FutureWarning: Indexing a timezone-aware DatetimeIndex with a timezone-naive datetime is deprecated and will raise KeyError in a future version. Use a timezone-aware object instead.\n",
      "  m6 = max.truncate(before=pd.Timestamp('today') - pd.DateOffset(months=6))\n",
      "<ipython-input-1-d5b62f59ed62>:49: FutureWarning: Indexing a timezone-aware DatetimeIndex with a timezone-naive datetime is deprecated and will raise KeyError in a future version. Use a timezone-aware object instead.\n",
      "  m3 = max.truncate(before=pd.Timestamp('today') - pd.DateOffset(months=3))\n",
      "<ipython-input-1-d5b62f59ed62>:50: FutureWarning: Indexing a timezone-aware DatetimeIndex with a timezone-naive datetime is deprecated and will raise KeyError in a future version. Use a timezone-aware object instead.\n",
      "  m1 = max.truncate(before=pd.Timestamp('today') - pd.DateOffset(months=1))\n"
     ]
    },
    {
     "name": "stdout",
     "output_type": "stream",
     "text": [
      "0.18166495126255172\n",
      "0.2605930844763493\n",
      "0.3427906670089336\n",
      "0.3827661078101292\n",
      "0.42492682408180193\n",
      "Producing data for:  ARE\n"
     ]
    },
    {
     "name": "stderr",
     "output_type": "stream",
     "text": [
      "<ipython-input-1-d5b62f59ed62>:103: FutureWarning: The frame.append method is deprecated and will be removed from pandas in a future version. Use pandas.concat instead.\n",
      "  final = final.append(\n",
      "<ipython-input-1-d5b62f59ed62>:47: FutureWarning: Indexing a timezone-aware DatetimeIndex with a timezone-naive datetime is deprecated and will raise KeyError in a future version. Use a timezone-aware object instead.\n",
      "  y = max.truncate(before=pd.Timestamp('today') - pd.DateOffset(months=12))\n",
      "<ipython-input-1-d5b62f59ed62>:48: FutureWarning: Indexing a timezone-aware DatetimeIndex with a timezone-naive datetime is deprecated and will raise KeyError in a future version. Use a timezone-aware object instead.\n",
      "  m6 = max.truncate(before=pd.Timestamp('today') - pd.DateOffset(months=6))\n",
      "<ipython-input-1-d5b62f59ed62>:49: FutureWarning: Indexing a timezone-aware DatetimeIndex with a timezone-naive datetime is deprecated and will raise KeyError in a future version. Use a timezone-aware object instead.\n",
      "  m3 = max.truncate(before=pd.Timestamp('today') - pd.DateOffset(months=3))\n",
      "<ipython-input-1-d5b62f59ed62>:50: FutureWarning: Indexing a timezone-aware DatetimeIndex with a timezone-naive datetime is deprecated and will raise KeyError in a future version. Use a timezone-aware object instead.\n",
      "  m1 = max.truncate(before=pd.Timestamp('today') - pd.DateOffset(months=1))\n"
     ]
    },
    {
     "name": "stdout",
     "output_type": "stream",
     "text": [
      "0.19470170839046078\n",
      "0.2785446967751537\n",
      "0.36492893510445423\n",
      "0.4034375024661332\n",
      "0.4426984033791005\n",
      "Producing data for:  ARE.PRD\n"
     ]
    },
    {
     "name": "stderr",
     "output_type": "stream",
     "text": [
      "<ipython-input-1-d5b62f59ed62>:103: FutureWarning: The frame.append method is deprecated and will be removed from pandas in a future version. Use pandas.concat instead.\n",
      "  final = final.append(\n"
     ]
    },
    {
     "name": "stdout",
     "output_type": "stream",
     "text": [
      "Got error from yahoo api for ticker ARE.PRD, Error: {'code': 'Not Found', 'description': 'No data found, symbol may be delisted'}\n",
      "- ARE.PRD: No timezone found, symbol may be delisted\n",
      "Got error from yahoo api for ticker ARE.PRD, Error: {'code': 'Not Found', 'description': 'No data found, symbol may be delisted'}\n",
      "- ARE.PRD: No timezone found, symbol may be delisted\n",
      "Producing data for:  ARE.PRE\n",
      "Got error from yahoo api for ticker ARE.PRE, Error: {'code': 'Not Found', 'description': 'No data found, symbol may be delisted'}\n",
      "- ARE.PRE: No timezone found, symbol may be delisted\n",
      "Got error from yahoo api for ticker ARE.PRE, Error: {'code': 'Not Found', 'description': 'No data found, symbol may be delisted'}\n",
      "- ARE.PRE: No timezone found, symbol may be delisted\n",
      "Producing data for:  AQN\n"
     ]
    },
    {
     "name": "stderr",
     "output_type": "stream",
     "text": [
      "<ipython-input-1-d5b62f59ed62>:47: FutureWarning: Indexing a timezone-aware DatetimeIndex with a timezone-naive datetime is deprecated and will raise KeyError in a future version. Use a timezone-aware object instead.\n",
      "  y = max.truncate(before=pd.Timestamp('today') - pd.DateOffset(months=12))\n",
      "<ipython-input-1-d5b62f59ed62>:48: FutureWarning: Indexing a timezone-aware DatetimeIndex with a timezone-naive datetime is deprecated and will raise KeyError in a future version. Use a timezone-aware object instead.\n",
      "  m6 = max.truncate(before=pd.Timestamp('today') - pd.DateOffset(months=6))\n",
      "<ipython-input-1-d5b62f59ed62>:49: FutureWarning: Indexing a timezone-aware DatetimeIndex with a timezone-naive datetime is deprecated and will raise KeyError in a future version. Use a timezone-aware object instead.\n",
      "  m3 = max.truncate(before=pd.Timestamp('today') - pd.DateOffset(months=3))\n",
      "<ipython-input-1-d5b62f59ed62>:50: FutureWarning: Indexing a timezone-aware DatetimeIndex with a timezone-naive datetime is deprecated and will raise KeyError in a future version. Use a timezone-aware object instead.\n",
      "  m1 = max.truncate(before=pd.Timestamp('today') - pd.DateOffset(months=1))\n",
      "<ipython-input-1-d5b62f59ed62>:103: FutureWarning: The frame.append method is deprecated and will be removed from pandas in a future version. Use pandas.concat instead.\n",
      "  final = final.append(\n"
     ]
    },
    {
     "name": "stdout",
     "output_type": "stream",
     "text": [
      "0.19704335360701386\n",
      "0.28553371511127335\n",
      "0.3594277320207263\n",
      "0.3951715256273523\n",
      "0.42609289906947684\n",
      "Producing data for:  BABA\n"
     ]
    },
    {
     "name": "stderr",
     "output_type": "stream",
     "text": [
      "<ipython-input-1-d5b62f59ed62>:47: FutureWarning: Indexing a timezone-aware DatetimeIndex with a timezone-naive datetime is deprecated and will raise KeyError in a future version. Use a timezone-aware object instead.\n",
      "  y = max.truncate(before=pd.Timestamp('today') - pd.DateOffset(months=12))\n",
      "<ipython-input-1-d5b62f59ed62>:48: FutureWarning: Indexing a timezone-aware DatetimeIndex with a timezone-naive datetime is deprecated and will raise KeyError in a future version. Use a timezone-aware object instead.\n",
      "  m6 = max.truncate(before=pd.Timestamp('today') - pd.DateOffset(months=6))\n",
      "<ipython-input-1-d5b62f59ed62>:49: FutureWarning: Indexing a timezone-aware DatetimeIndex with a timezone-naive datetime is deprecated and will raise KeyError in a future version. Use a timezone-aware object instead.\n",
      "  m3 = max.truncate(before=pd.Timestamp('today') - pd.DateOffset(months=3))\n",
      "<ipython-input-1-d5b62f59ed62>:50: FutureWarning: Indexing a timezone-aware DatetimeIndex with a timezone-naive datetime is deprecated and will raise KeyError in a future version. Use a timezone-aware object instead.\n",
      "  m1 = max.truncate(before=pd.Timestamp('today') - pd.DateOffset(months=1))\n",
      "<ipython-input-1-d5b62f59ed62>:103: FutureWarning: The frame.append method is deprecated and will be removed from pandas in a future version. Use pandas.concat instead.\n",
      "  final = final.append(\n"
     ]
    },
    {
     "name": "stdout",
     "output_type": "stream",
     "text": [
      "0.1810829848374218\n",
      "0.2769653535127982\n",
      "0.38928419932661373\n",
      "0.44592286501088685\n",
      "0.4865511528508863\n",
      "Producing data for:  Y\n",
      "Got error from yahoo api for ticker Y, Error: {'code': 'Not Found', 'description': 'No data found, symbol may be delisted'}\n",
      "- Y: No timezone found, symbol may be delisted\n",
      "Got error from yahoo api for ticker Y, Error: {'code': 'Not Found', 'description': 'No data found, symbol may be delisted'}\n",
      "- Y: No timezone found, symbol may be delisted\n",
      "Producing data for:  ATI\n"
     ]
    },
    {
     "name": "stderr",
     "output_type": "stream",
     "text": [
      "<ipython-input-1-d5b62f59ed62>:47: FutureWarning: Indexing a timezone-aware DatetimeIndex with a timezone-naive datetime is deprecated and will raise KeyError in a future version. Use a timezone-aware object instead.\n",
      "  y = max.truncate(before=pd.Timestamp('today') - pd.DateOffset(months=12))\n",
      "<ipython-input-1-d5b62f59ed62>:48: FutureWarning: Indexing a timezone-aware DatetimeIndex with a timezone-naive datetime is deprecated and will raise KeyError in a future version. Use a timezone-aware object instead.\n",
      "  m6 = max.truncate(before=pd.Timestamp('today') - pd.DateOffset(months=6))\n",
      "<ipython-input-1-d5b62f59ed62>:49: FutureWarning: Indexing a timezone-aware DatetimeIndex with a timezone-naive datetime is deprecated and will raise KeyError in a future version. Use a timezone-aware object instead.\n",
      "  m3 = max.truncate(before=pd.Timestamp('today') - pd.DateOffset(months=3))\n",
      "<ipython-input-1-d5b62f59ed62>:50: FutureWarning: Indexing a timezone-aware DatetimeIndex with a timezone-naive datetime is deprecated and will raise KeyError in a future version. Use a timezone-aware object instead.\n",
      "  m1 = max.truncate(before=pd.Timestamp('today') - pd.DateOffset(months=1))\n"
     ]
    },
    {
     "name": "stdout",
     "output_type": "stream",
     "text": [
      "0.19028810880392852\n",
      "0.2922771006074392\n",
      "0.4056190647113743\n",
      "0.46375343198271335\n",
      "0.5121945749790466\n",
      "Producing data for:  ALLE\n"
     ]
    },
    {
     "name": "stderr",
     "output_type": "stream",
     "text": [
      "<ipython-input-1-d5b62f59ed62>:103: FutureWarning: The frame.append method is deprecated and will be removed from pandas in a future version. Use pandas.concat instead.\n",
      "  final = final.append(\n",
      "<ipython-input-1-d5b62f59ed62>:47: FutureWarning: Indexing a timezone-aware DatetimeIndex with a timezone-naive datetime is deprecated and will raise KeyError in a future version. Use a timezone-aware object instead.\n",
      "  y = max.truncate(before=pd.Timestamp('today') - pd.DateOffset(months=12))\n",
      "<ipython-input-1-d5b62f59ed62>:48: FutureWarning: Indexing a timezone-aware DatetimeIndex with a timezone-naive datetime is deprecated and will raise KeyError in a future version. Use a timezone-aware object instead.\n",
      "  m6 = max.truncate(before=pd.Timestamp('today') - pd.DateOffset(months=6))\n",
      "<ipython-input-1-d5b62f59ed62>:49: FutureWarning: Indexing a timezone-aware DatetimeIndex with a timezone-naive datetime is deprecated and will raise KeyError in a future version. Use a timezone-aware object instead.\n",
      "  m3 = max.truncate(before=pd.Timestamp('today') - pd.DateOffset(months=3))\n",
      "<ipython-input-1-d5b62f59ed62>:50: FutureWarning: Indexing a timezone-aware DatetimeIndex with a timezone-naive datetime is deprecated and will raise KeyError in a future version. Use a timezone-aware object instead.\n",
      "  m1 = max.truncate(before=pd.Timestamp('today') - pd.DateOffset(months=1))\n",
      "<ipython-input-1-d5b62f59ed62>:103: FutureWarning: The frame.append method is deprecated and will be removed from pandas in a future version. Use pandas.concat instead.\n",
      "  final = final.append(\n"
     ]
    },
    {
     "name": "stdout",
     "output_type": "stream",
     "text": [
      "0.18456861795000024\n",
      "0.27052401274848215\n",
      "0.3521463383431095\n",
      "0.3770096498336552\n",
      "0.3932055978856233\n",
      "Producing data for:  AGN\n",
      "Got error from yahoo api for ticker AGN, Error: {'code': 'Not Found', 'description': 'No data found, symbol may be delisted'}\n",
      "- AGN: No timezone found, symbol may be delisted\n",
      "Got error from yahoo api for ticker AGN, Error: {'code': 'Not Found', 'description': 'No data found, symbol may be delisted'}\n",
      "- AGN: No timezone found, symbol may be delisted\n",
      "Producing data for:  AGN.PRA\n",
      "Got error from yahoo api for ticker AGN.PRA, Error: {'code': 'Not Found', 'description': 'No data found, symbol may be delisted'}\n",
      "- AGN.PRA: No timezone found, symbol may be delisted\n",
      "Got error from yahoo api for ticker AGN.PRA, Error: {'code': 'Not Found', 'description': 'No data found, symbol may be delisted'}\n",
      "- AGN.PRA: No timezone found, symbol may be delisted\n",
      "Producing data for:  ALE\n"
     ]
    },
    {
     "name": "stderr",
     "output_type": "stream",
     "text": [
      "<ipython-input-1-d5b62f59ed62>:47: FutureWarning: Indexing a timezone-aware DatetimeIndex with a timezone-naive datetime is deprecated and will raise KeyError in a future version. Use a timezone-aware object instead.\n",
      "  y = max.truncate(before=pd.Timestamp('today') - pd.DateOffset(months=12))\n",
      "<ipython-input-1-d5b62f59ed62>:48: FutureWarning: Indexing a timezone-aware DatetimeIndex with a timezone-naive datetime is deprecated and will raise KeyError in a future version. Use a timezone-aware object instead.\n",
      "  m6 = max.truncate(before=pd.Timestamp('today') - pd.DateOffset(months=6))\n",
      "<ipython-input-1-d5b62f59ed62>:49: FutureWarning: Indexing a timezone-aware DatetimeIndex with a timezone-naive datetime is deprecated and will raise KeyError in a future version. Use a timezone-aware object instead.\n",
      "  m3 = max.truncate(before=pd.Timestamp('today') - pd.DateOffset(months=3))\n",
      "<ipython-input-1-d5b62f59ed62>:50: FutureWarning: Indexing a timezone-aware DatetimeIndex with a timezone-naive datetime is deprecated and will raise KeyError in a future version. Use a timezone-aware object instead.\n",
      "  m1 = max.truncate(before=pd.Timestamp('today') - pd.DateOffset(months=1))\n"
     ]
    },
    {
     "name": "stdout",
     "output_type": "stream",
     "text": [
      "0.18999553920091217\n",
      "0.2836889644077188\n",
      "0.3757417089769359\n",
      "0.4165423354229266\n",
      "0.45573444638145766\n",
      "Producing data for:  AKP\n"
     ]
    },
    {
     "name": "stderr",
     "output_type": "stream",
     "text": [
      "<ipython-input-1-d5b62f59ed62>:103: FutureWarning: The frame.append method is deprecated and will be removed from pandas in a future version. Use pandas.concat instead.\n",
      "  final = final.append(\n"
     ]
    },
    {
     "name": "stdout",
     "output_type": "stream",
     "text": [
      "Got error from yahoo api for ticker AKP, Error: {'code': 'Not Found', 'description': 'No data found, symbol may be delisted'}\n",
      "- AKP: No timezone found, symbol may be delisted\n",
      "Got error from yahoo api for ticker AKP, Error: {'code': 'Not Found', 'description': 'No data found, symbol may be delisted'}\n",
      "- AKP: No timezone found, symbol may be delisted\n",
      "Producing data for:  ADS\n",
      "Got error from yahoo api for ticker ADS, Error: {'code': 'Not Found', 'description': 'No data found, symbol may be delisted'}\n",
      "- ADS: No timezone found, symbol may be delisted\n",
      "Got error from yahoo api for ticker ADS, Error: {'code': 'Not Found', 'description': 'No data found, symbol may be delisted'}\n",
      "- ADS: No timezone found, symbol may be delisted\n",
      "Producing data for:  AOI\n",
      "AOI: 1d data not available for startTime=-2208994789 and endTime=1673287284. Only 100 years worth of day granularity data are allowed to be fetched per request.\n",
      "AOI: 1d data not available for startTime=-2208994789 and endTime=1673287284. Only 100 years worth of day granularity data are allowed to be fetched per request.\n",
      "Producing data for:  AWF\n"
     ]
    },
    {
     "name": "stderr",
     "output_type": "stream",
     "text": [
      "<ipython-input-1-d5b62f59ed62>:47: FutureWarning: Indexing a timezone-aware DatetimeIndex with a timezone-naive datetime is deprecated and will raise KeyError in a future version. Use a timezone-aware object instead.\n",
      "  y = max.truncate(before=pd.Timestamp('today') - pd.DateOffset(months=12))\n",
      "<ipython-input-1-d5b62f59ed62>:48: FutureWarning: Indexing a timezone-aware DatetimeIndex with a timezone-naive datetime is deprecated and will raise KeyError in a future version. Use a timezone-aware object instead.\n",
      "  m6 = max.truncate(before=pd.Timestamp('today') - pd.DateOffset(months=6))\n",
      "<ipython-input-1-d5b62f59ed62>:49: FutureWarning: Indexing a timezone-aware DatetimeIndex with a timezone-naive datetime is deprecated and will raise KeyError in a future version. Use a timezone-aware object instead.\n",
      "  m3 = max.truncate(before=pd.Timestamp('today') - pd.DateOffset(months=3))\n",
      "<ipython-input-1-d5b62f59ed62>:50: FutureWarning: Indexing a timezone-aware DatetimeIndex with a timezone-naive datetime is deprecated and will raise KeyError in a future version. Use a timezone-aware object instead.\n",
      "  m1 = max.truncate(before=pd.Timestamp('today') - pd.DateOffset(months=1))\n",
      "<ipython-input-1-d5b62f59ed62>:103: FutureWarning: The frame.append method is deprecated and will be removed from pandas in a future version. Use pandas.concat instead.\n",
      "  final = final.append(\n"
     ]
    },
    {
     "name": "stdout",
     "output_type": "stream",
     "text": [
      "0.20343599716113694\n",
      "0.29646722375055523\n",
      "0.387508232579225\n",
      "0.4268176320701392\n",
      "0.4596864203901131\n",
      "Producing data for:  AB\n"
     ]
    },
    {
     "name": "stderr",
     "output_type": "stream",
     "text": [
      "<ipython-input-1-d5b62f59ed62>:47: FutureWarning: Indexing a timezone-aware DatetimeIndex with a timezone-naive datetime is deprecated and will raise KeyError in a future version. Use a timezone-aware object instead.\n",
      "  y = max.truncate(before=pd.Timestamp('today') - pd.DateOffset(months=12))\n",
      "<ipython-input-1-d5b62f59ed62>:48: FutureWarning: Indexing a timezone-aware DatetimeIndex with a timezone-naive datetime is deprecated and will raise KeyError in a future version. Use a timezone-aware object instead.\n",
      "  m6 = max.truncate(before=pd.Timestamp('today') - pd.DateOffset(months=6))\n",
      "<ipython-input-1-d5b62f59ed62>:49: FutureWarning: Indexing a timezone-aware DatetimeIndex with a timezone-naive datetime is deprecated and will raise KeyError in a future version. Use a timezone-aware object instead.\n",
      "  m3 = max.truncate(before=pd.Timestamp('today') - pd.DateOffset(months=3))\n",
      "<ipython-input-1-d5b62f59ed62>:50: FutureWarning: Indexing a timezone-aware DatetimeIndex with a timezone-naive datetime is deprecated and will raise KeyError in a future version. Use a timezone-aware object instead.\n",
      "  m1 = max.truncate(before=pd.Timestamp('today') - pd.DateOffset(months=1))\n"
     ]
    },
    {
     "name": "stdout",
     "output_type": "stream",
     "text": [
      "0.19991279722520955\n",
      "0.29280797538790737\n",
      "0.3995885076044567\n",
      "0.4535570147216907\n",
      "0.5022648106508786\n",
      "Producing data for:  AFB\n"
     ]
    },
    {
     "name": "stderr",
     "output_type": "stream",
     "text": [
      "<ipython-input-1-d5b62f59ed62>:103: FutureWarning: The frame.append method is deprecated and will be removed from pandas in a future version. Use pandas.concat instead.\n",
      "  final = final.append(\n",
      "<ipython-input-1-d5b62f59ed62>:47: FutureWarning: Indexing a timezone-aware DatetimeIndex with a timezone-naive datetime is deprecated and will raise KeyError in a future version. Use a timezone-aware object instead.\n",
      "  y = max.truncate(before=pd.Timestamp('today') - pd.DateOffset(months=12))\n",
      "<ipython-input-1-d5b62f59ed62>:48: FutureWarning: Indexing a timezone-aware DatetimeIndex with a timezone-naive datetime is deprecated and will raise KeyError in a future version. Use a timezone-aware object instead.\n",
      "  m6 = max.truncate(before=pd.Timestamp('today') - pd.DateOffset(months=6))\n",
      "<ipython-input-1-d5b62f59ed62>:49: FutureWarning: Indexing a timezone-aware DatetimeIndex with a timezone-naive datetime is deprecated and will raise KeyError in a future version. Use a timezone-aware object instead.\n",
      "  m3 = max.truncate(before=pd.Timestamp('today') - pd.DateOffset(months=3))\n",
      "<ipython-input-1-d5b62f59ed62>:50: FutureWarning: Indexing a timezone-aware DatetimeIndex with a timezone-naive datetime is deprecated and will raise KeyError in a future version. Use a timezone-aware object instead.\n",
      "  m1 = max.truncate(before=pd.Timestamp('today') - pd.DateOffset(months=1))\n",
      "<ipython-input-1-d5b62f59ed62>:103: FutureWarning: The frame.append method is deprecated and will be removed from pandas in a future version. Use pandas.concat instead.\n",
      "  final = final.append(\n"
     ]
    },
    {
     "name": "stdout",
     "output_type": "stream",
     "text": [
      "0.1950074794741665\n",
      "0.2936937893884183\n",
      "0.39442414891680677\n",
      "0.43652317903230564\n",
      "0.4658372033961817\n",
      "Producing data for:  LNT\n"
     ]
    },
    {
     "name": "stderr",
     "output_type": "stream",
     "text": [
      "<ipython-input-1-d5b62f59ed62>:47: FutureWarning: Indexing a timezone-aware DatetimeIndex with a timezone-naive datetime is deprecated and will raise KeyError in a future version. Use a timezone-aware object instead.\n",
      "  y = max.truncate(before=pd.Timestamp('today') - pd.DateOffset(months=12))\n",
      "<ipython-input-1-d5b62f59ed62>:48: FutureWarning: Indexing a timezone-aware DatetimeIndex with a timezone-naive datetime is deprecated and will raise KeyError in a future version. Use a timezone-aware object instead.\n",
      "  m6 = max.truncate(before=pd.Timestamp('today') - pd.DateOffset(months=6))\n",
      "<ipython-input-1-d5b62f59ed62>:49: FutureWarning: Indexing a timezone-aware DatetimeIndex with a timezone-naive datetime is deprecated and will raise KeyError in a future version. Use a timezone-aware object instead.\n",
      "  m3 = max.truncate(before=pd.Timestamp('today') - pd.DateOffset(months=3))\n",
      "<ipython-input-1-d5b62f59ed62>:50: FutureWarning: Indexing a timezone-aware DatetimeIndex with a timezone-naive datetime is deprecated and will raise KeyError in a future version. Use a timezone-aware object instead.\n",
      "  m1 = max.truncate(before=pd.Timestamp('today') - pd.DateOffset(months=1))\n",
      "<ipython-input-1-d5b62f59ed62>:103: FutureWarning: The frame.append method is deprecated and will be removed from pandas in a future version. Use pandas.concat instead.\n",
      "  final = final.append(\n"
     ]
    },
    {
     "name": "stdout",
     "output_type": "stream",
     "text": [
      "0.19542761031942105\n",
      "0.2692051014945694\n",
      "0.33955007200256243\n",
      "0.37859031434595025\n",
      "0.42699770984082097\n",
      "Producing data for:  NCV\n"
     ]
    },
    {
     "name": "stderr",
     "output_type": "stream",
     "text": [
      "<ipython-input-1-d5b62f59ed62>:47: FutureWarning: Indexing a timezone-aware DatetimeIndex with a timezone-naive datetime is deprecated and will raise KeyError in a future version. Use a timezone-aware object instead.\n",
      "  y = max.truncate(before=pd.Timestamp('today') - pd.DateOffset(months=12))\n",
      "<ipython-input-1-d5b62f59ed62>:48: FutureWarning: Indexing a timezone-aware DatetimeIndex with a timezone-naive datetime is deprecated and will raise KeyError in a future version. Use a timezone-aware object instead.\n",
      "  m6 = max.truncate(before=pd.Timestamp('today') - pd.DateOffset(months=6))\n",
      "<ipython-input-1-d5b62f59ed62>:49: FutureWarning: Indexing a timezone-aware DatetimeIndex with a timezone-naive datetime is deprecated and will raise KeyError in a future version. Use a timezone-aware object instead.\n",
      "  m3 = max.truncate(before=pd.Timestamp('today') - pd.DateOffset(months=3))\n",
      "<ipython-input-1-d5b62f59ed62>:50: FutureWarning: Indexing a timezone-aware DatetimeIndex with a timezone-naive datetime is deprecated and will raise KeyError in a future version. Use a timezone-aware object instead.\n",
      "  m1 = max.truncate(before=pd.Timestamp('today') - pd.DateOffset(months=1))\n",
      "<ipython-input-1-d5b62f59ed62>:103: FutureWarning: The frame.append method is deprecated and will be removed from pandas in a future version. Use pandas.concat instead.\n",
      "  final = final.append(\n"
     ]
    },
    {
     "name": "stdout",
     "output_type": "stream",
     "text": [
      "0.2098164840103925\n",
      "0.3110812105555067\n",
      "0.41169387136724234\n",
      "0.45630372355375903\n",
      "0.4850262830937362\n",
      "Producing data for:  NCZ\n"
     ]
    },
    {
     "name": "stderr",
     "output_type": "stream",
     "text": [
      "<ipython-input-1-d5b62f59ed62>:47: FutureWarning: Indexing a timezone-aware DatetimeIndex with a timezone-naive datetime is deprecated and will raise KeyError in a future version. Use a timezone-aware object instead.\n",
      "  y = max.truncate(before=pd.Timestamp('today') - pd.DateOffset(months=12))\n",
      "<ipython-input-1-d5b62f59ed62>:48: FutureWarning: Indexing a timezone-aware DatetimeIndex with a timezone-naive datetime is deprecated and will raise KeyError in a future version. Use a timezone-aware object instead.\n",
      "  m6 = max.truncate(before=pd.Timestamp('today') - pd.DateOffset(months=6))\n",
      "<ipython-input-1-d5b62f59ed62>:49: FutureWarning: Indexing a timezone-aware DatetimeIndex with a timezone-naive datetime is deprecated and will raise KeyError in a future version. Use a timezone-aware object instead.\n",
      "  m3 = max.truncate(before=pd.Timestamp('today') - pd.DateOffset(months=3))\n",
      "<ipython-input-1-d5b62f59ed62>:50: FutureWarning: Indexing a timezone-aware DatetimeIndex with a timezone-naive datetime is deprecated and will raise KeyError in a future version. Use a timezone-aware object instead.\n",
      "  m1 = max.truncate(before=pd.Timestamp('today') - pd.DateOffset(months=1))\n",
      "<ipython-input-1-d5b62f59ed62>:103: FutureWarning: The frame.append method is deprecated and will be removed from pandas in a future version. Use pandas.concat instead.\n",
      "  final = final.append(\n"
     ]
    },
    {
     "name": "stdout",
     "output_type": "stream",
     "text": [
      "0.21223198017897685\n",
      "0.3158854884809097\n",
      "0.420394769389183\n",
      "0.467387387991661\n",
      "0.4979116259709938\n",
      "Producing data for:  NIE\n"
     ]
    },
    {
     "name": "stderr",
     "output_type": "stream",
     "text": [
      "<ipython-input-1-d5b62f59ed62>:47: FutureWarning: Indexing a timezone-aware DatetimeIndex with a timezone-naive datetime is deprecated and will raise KeyError in a future version. Use a timezone-aware object instead.\n",
      "  y = max.truncate(before=pd.Timestamp('today') - pd.DateOffset(months=12))\n",
      "<ipython-input-1-d5b62f59ed62>:48: FutureWarning: Indexing a timezone-aware DatetimeIndex with a timezone-naive datetime is deprecated and will raise KeyError in a future version. Use a timezone-aware object instead.\n",
      "  m6 = max.truncate(before=pd.Timestamp('today') - pd.DateOffset(months=6))\n",
      "<ipython-input-1-d5b62f59ed62>:49: FutureWarning: Indexing a timezone-aware DatetimeIndex with a timezone-naive datetime is deprecated and will raise KeyError in a future version. Use a timezone-aware object instead.\n",
      "  m3 = max.truncate(before=pd.Timestamp('today') - pd.DateOffset(months=3))\n",
      "<ipython-input-1-d5b62f59ed62>:50: FutureWarning: Indexing a timezone-aware DatetimeIndex with a timezone-naive datetime is deprecated and will raise KeyError in a future version. Use a timezone-aware object instead.\n",
      "  m1 = max.truncate(before=pd.Timestamp('today') - pd.DateOffset(months=1))\n",
      "<ipython-input-1-d5b62f59ed62>:103: FutureWarning: The frame.append method is deprecated and will be removed from pandas in a future version. Use pandas.concat instead.\n",
      "  final = final.append(\n"
     ]
    },
    {
     "name": "stdout",
     "output_type": "stream",
     "text": [
      "0.19078327821550908\n",
      "0.27960836049705895\n",
      "0.3749894463172294\n",
      "0.41992179327695967\n",
      "0.45483194119427384\n",
      "Producing data for:  NFJ\n"
     ]
    },
    {
     "name": "stderr",
     "output_type": "stream",
     "text": [
      "<ipython-input-1-d5b62f59ed62>:47: FutureWarning: Indexing a timezone-aware DatetimeIndex with a timezone-naive datetime is deprecated and will raise KeyError in a future version. Use a timezone-aware object instead.\n",
      "  y = max.truncate(before=pd.Timestamp('today') - pd.DateOffset(months=12))\n",
      "<ipython-input-1-d5b62f59ed62>:48: FutureWarning: Indexing a timezone-aware DatetimeIndex with a timezone-naive datetime is deprecated and will raise KeyError in a future version. Use a timezone-aware object instead.\n",
      "  m6 = max.truncate(before=pd.Timestamp('today') - pd.DateOffset(months=6))\n",
      "<ipython-input-1-d5b62f59ed62>:49: FutureWarning: Indexing a timezone-aware DatetimeIndex with a timezone-naive datetime is deprecated and will raise KeyError in a future version. Use a timezone-aware object instead.\n",
      "  m3 = max.truncate(before=pd.Timestamp('today') - pd.DateOffset(months=3))\n",
      "<ipython-input-1-d5b62f59ed62>:50: FutureWarning: Indexing a timezone-aware DatetimeIndex with a timezone-naive datetime is deprecated and will raise KeyError in a future version. Use a timezone-aware object instead.\n",
      "  m1 = max.truncate(before=pd.Timestamp('today') - pd.DateOffset(months=1))\n"
     ]
    },
    {
     "name": "stdout",
     "output_type": "stream",
     "text": [
      "0.1969255711283512\n",
      "0.28795518439442\n",
      "0.38539625979409514\n",
      "0.4313032809186551\n",
      "0.4671804638345906\n",
      "Producing data for:  AFC\n"
     ]
    },
    {
     "name": "stderr",
     "output_type": "stream",
     "text": [
      "<ipython-input-1-d5b62f59ed62>:103: FutureWarning: The frame.append method is deprecated and will be removed from pandas in a future version. Use pandas.concat instead.\n",
      "  final = final.append(\n"
     ]
    },
    {
     "name": "stdout",
     "output_type": "stream",
     "text": [
      "Got error from yahoo api for ticker AFC, Error: {'code': 'Not Found', 'description': 'No data found, symbol may be delisted'}\n",
      "- AFC: No timezone found, symbol may be delisted\n",
      "Got error from yahoo api for ticker AFC, Error: {'code': 'Not Found', 'description': 'No data found, symbol may be delisted'}\n",
      "- AFC: No timezone found, symbol may be delisted\n",
      "Producing data for:  AWH\n"
     ]
    },
    {
     "name": "stderr",
     "output_type": "stream",
     "text": [
      "<ipython-input-1-d5b62f59ed62>:47: FutureWarning: Indexing a timezone-aware DatetimeIndex with a timezone-naive datetime is deprecated and will raise KeyError in a future version. Use a timezone-aware object instead.\n",
      "  y = max.truncate(before=pd.Timestamp('today') - pd.DateOffset(months=12))\n",
      "<ipython-input-1-d5b62f59ed62>:48: FutureWarning: Indexing a timezone-aware DatetimeIndex with a timezone-naive datetime is deprecated and will raise KeyError in a future version. Use a timezone-aware object instead.\n",
      "  m6 = max.truncate(before=pd.Timestamp('today') - pd.DateOffset(months=6))\n",
      "<ipython-input-1-d5b62f59ed62>:49: FutureWarning: Indexing a timezone-aware DatetimeIndex with a timezone-naive datetime is deprecated and will raise KeyError in a future version. Use a timezone-aware object instead.\n",
      "  m3 = max.truncate(before=pd.Timestamp('today') - pd.DateOffset(months=3))\n",
      "<ipython-input-1-d5b62f59ed62>:50: FutureWarning: Indexing a timezone-aware DatetimeIndex with a timezone-naive datetime is deprecated and will raise KeyError in a future version. Use a timezone-aware object instead.\n",
      "  m1 = max.truncate(before=pd.Timestamp('today') - pd.DateOffset(months=1))\n",
      "<ipython-input-1-d5b62f59ed62>:103: FutureWarning: The frame.append method is deprecated and will be removed from pandas in a future version. Use pandas.concat instead.\n",
      "  final = final.append(\n"
     ]
    },
    {
     "name": "stdout",
     "output_type": "stream",
     "text": [
      "0.22878840789425176\n",
      "0.3298436232760626\n",
      "0.406608763312604\n",
      "0.4386025613094919\n",
      "0.4580717343249684\n",
      "Producing data for:  ALSN\n"
     ]
    },
    {
     "name": "stderr",
     "output_type": "stream",
     "text": [
      "<ipython-input-1-d5b62f59ed62>:47: FutureWarning: Indexing a timezone-aware DatetimeIndex with a timezone-naive datetime is deprecated and will raise KeyError in a future version. Use a timezone-aware object instead.\n",
      "  y = max.truncate(before=pd.Timestamp('today') - pd.DateOffset(months=12))\n",
      "<ipython-input-1-d5b62f59ed62>:48: FutureWarning: Indexing a timezone-aware DatetimeIndex with a timezone-naive datetime is deprecated and will raise KeyError in a future version. Use a timezone-aware object instead.\n",
      "  m6 = max.truncate(before=pd.Timestamp('today') - pd.DateOffset(months=6))\n",
      "<ipython-input-1-d5b62f59ed62>:49: FutureWarning: Indexing a timezone-aware DatetimeIndex with a timezone-naive datetime is deprecated and will raise KeyError in a future version. Use a timezone-aware object instead.\n",
      "  m3 = max.truncate(before=pd.Timestamp('today') - pd.DateOffset(months=3))\n",
      "<ipython-input-1-d5b62f59ed62>:50: FutureWarning: Indexing a timezone-aware DatetimeIndex with a timezone-naive datetime is deprecated and will raise KeyError in a future version. Use a timezone-aware object instead.\n",
      "  m1 = max.truncate(before=pd.Timestamp('today') - pd.DateOffset(months=1))\n"
     ]
    },
    {
     "name": "stdout",
     "output_type": "stream",
     "text": [
      "0.18915599139024541\n",
      "0.26861652787962337\n",
      "0.3387001122898997\n",
      "0.3748695562739627\n",
      "0.4082344835874127\n",
      "Producing data for:  ALL\n"
     ]
    },
    {
     "name": "stderr",
     "output_type": "stream",
     "text": [
      "<ipython-input-1-d5b62f59ed62>:103: FutureWarning: The frame.append method is deprecated and will be removed from pandas in a future version. Use pandas.concat instead.\n",
      "  final = final.append(\n",
      "<ipython-input-1-d5b62f59ed62>:47: FutureWarning: Indexing a timezone-aware DatetimeIndex with a timezone-naive datetime is deprecated and will raise KeyError in a future version. Use a timezone-aware object instead.\n",
      "  y = max.truncate(before=pd.Timestamp('today') - pd.DateOffset(months=12))\n",
      "<ipython-input-1-d5b62f59ed62>:48: FutureWarning: Indexing a timezone-aware DatetimeIndex with a timezone-naive datetime is deprecated and will raise KeyError in a future version. Use a timezone-aware object instead.\n",
      "  m6 = max.truncate(before=pd.Timestamp('today') - pd.DateOffset(months=6))\n",
      "<ipython-input-1-d5b62f59ed62>:49: FutureWarning: Indexing a timezone-aware DatetimeIndex with a timezone-naive datetime is deprecated and will raise KeyError in a future version. Use a timezone-aware object instead.\n",
      "  m3 = max.truncate(before=pd.Timestamp('today') - pd.DateOffset(months=3))\n",
      "<ipython-input-1-d5b62f59ed62>:50: FutureWarning: Indexing a timezone-aware DatetimeIndex with a timezone-naive datetime is deprecated and will raise KeyError in a future version. Use a timezone-aware object instead.\n",
      "  m1 = max.truncate(before=pd.Timestamp('today') - pd.DateOffset(months=1))\n",
      "<ipython-input-1-d5b62f59ed62>:103: FutureWarning: The frame.append method is deprecated and will be removed from pandas in a future version. Use pandas.concat instead.\n",
      "  final = final.append(\n"
     ]
    },
    {
     "name": "stdout",
     "output_type": "stream",
     "text": [
      "0.19496398068700765\n",
      "0.27914252998663824\n",
      "0.36320891919250814\n",
      "0.4038316106469634\n",
      "0.44644677329959404\n",
      "Producing data for:  ALL.PRA\n",
      "Got error from yahoo api for ticker ALL.PRA, Error: {'code': 'Not Found', 'description': 'No data found, symbol may be delisted'}\n",
      "- ALL.PRA: No timezone found, symbol may be delisted\n",
      "Got error from yahoo api for ticker ALL.PRA, Error: {'code': 'Not Found', 'description': 'No data found, symbol may be delisted'}\n",
      "- ALL.PRA: No timezone found, symbol may be delisted\n",
      "Producing data for:  ALL.PRB\n",
      "Got error from yahoo api for ticker ALL.PRB, Error: {'code': 'Not Found', 'description': 'No data found, symbol may be delisted'}\n",
      "- ALL.PRB: No timezone found, symbol may be delisted\n",
      "Got error from yahoo api for ticker ALL.PRB, Error: {'code': 'Not Found', 'description': 'No data found, symbol may be delisted'}\n",
      "- ALL.PRB: No timezone found, symbol may be delisted\n",
      "Producing data for:  ALL.PRC\n",
      "Got error from yahoo api for ticker ALL.PRC, Error: {'code': 'Not Found', 'description': 'No data found, symbol may be delisted'}\n",
      "- ALL.PRC: No timezone found, symbol may be delisted\n",
      "Got error from yahoo api for ticker ALL.PRC, Error: {'code': 'Not Found', 'description': 'No data found, symbol may be delisted'}\n",
      "- ALL.PRC: No timezone found, symbol may be delisted\n",
      "Producing data for:  ALL.PRD\n",
      "Got error from yahoo api for ticker ALL.PRD, Error: {'code': 'Not Found', 'description': 'No data found, symbol may be delisted'}\n",
      "- ALL.PRD: No timezone found, symbol may be delisted\n",
      "Got error from yahoo api for ticker ALL.PRD, Error: {'code': 'Not Found', 'description': 'No data found, symbol may be delisted'}\n",
      "- ALL.PRD: No timezone found, symbol may be delisted\n",
      "Producing data for:  ALL.PRE\n",
      "Got error from yahoo api for ticker ALL.PRE, Error: {'code': 'Not Found', 'description': 'No data found, symbol may be delisted'}\n",
      "- ALL.PRE: No timezone found, symbol may be delisted\n",
      "Got error from yahoo api for ticker ALL.PRE, Error: {'code': 'Not Found', 'description': 'No data found, symbol may be delisted'}\n",
      "- ALL.PRE: No timezone found, symbol may be delisted\n",
      "Producing data for:  ALL.PRF\n",
      "Got error from yahoo api for ticker ALL.PRF, Error: {'code': 'Not Found', 'description': 'No data found, symbol may be delisted'}\n",
      "- ALL.PRF: No timezone found, symbol may be delisted\n",
      "Got error from yahoo api for ticker ALL.PRF, Error: {'code': 'Not Found', 'description': 'No data found, symbol may be delisted'}\n",
      "- ALL.PRF: No timezone found, symbol may be delisted\n",
      "Producing data for:  ALLY\n"
     ]
    },
    {
     "name": "stderr",
     "output_type": "stream",
     "text": [
      "<ipython-input-1-d5b62f59ed62>:47: FutureWarning: Indexing a timezone-aware DatetimeIndex with a timezone-naive datetime is deprecated and will raise KeyError in a future version. Use a timezone-aware object instead.\n",
      "  y = max.truncate(before=pd.Timestamp('today') - pd.DateOffset(months=12))\n",
      "<ipython-input-1-d5b62f59ed62>:48: FutureWarning: Indexing a timezone-aware DatetimeIndex with a timezone-naive datetime is deprecated and will raise KeyError in a future version. Use a timezone-aware object instead.\n",
      "  m6 = max.truncate(before=pd.Timestamp('today') - pd.DateOffset(months=6))\n",
      "<ipython-input-1-d5b62f59ed62>:49: FutureWarning: Indexing a timezone-aware DatetimeIndex with a timezone-naive datetime is deprecated and will raise KeyError in a future version. Use a timezone-aware object instead.\n",
      "  m3 = max.truncate(before=pd.Timestamp('today') - pd.DateOffset(months=3))\n",
      "<ipython-input-1-d5b62f59ed62>:50: FutureWarning: Indexing a timezone-aware DatetimeIndex with a timezone-naive datetime is deprecated and will raise KeyError in a future version. Use a timezone-aware object instead.\n",
      "  m1 = max.truncate(before=pd.Timestamp('today') - pd.DateOffset(months=1))\n",
      "<ipython-input-1-d5b62f59ed62>:103: FutureWarning: The frame.append method is deprecated and will be removed from pandas in a future version. Use pandas.concat instead.\n",
      "  final = final.append(\n"
     ]
    },
    {
     "name": "stdout",
     "output_type": "stream",
     "text": [
      "0.18065633737461928\n",
      "0.28855830460607573\n",
      "0.4065277897974845\n",
      "0.45382510862393766\n",
      "0.4792718815603456\n",
      "Producing data for:  ALJ\n",
      "ALJ: 1d data not available for startTime=-2208994789 and endTime=1673287309. Only 100 years worth of day granularity data are allowed to be fetched per request.\n",
      "ALJ: 1d data not available for startTime=-2208994789 and endTime=1673287309. Only 100 years worth of day granularity data are allowed to be fetched per request.\n",
      "Producing data for:  ALDW\n",
      "ALDW: 1d data not available for startTime=-2208994789 and endTime=1673287310. Only 100 years worth of day granularity data are allowed to be fetched per request.\n",
      "ALDW: 1d data not available for startTime=-2208994789 and endTime=1673287310. Only 100 years worth of day granularity data are allowed to be fetched per request.\n",
      "Producing data for:  AGD\n"
     ]
    },
    {
     "name": "stderr",
     "output_type": "stream",
     "text": [
      "<ipython-input-1-d5b62f59ed62>:47: FutureWarning: Indexing a timezone-aware DatetimeIndex with a timezone-naive datetime is deprecated and will raise KeyError in a future version. Use a timezone-aware object instead.\n",
      "  y = max.truncate(before=pd.Timestamp('today') - pd.DateOffset(months=12))\n",
      "<ipython-input-1-d5b62f59ed62>:48: FutureWarning: Indexing a timezone-aware DatetimeIndex with a timezone-naive datetime is deprecated and will raise KeyError in a future version. Use a timezone-aware object instead.\n",
      "  m6 = max.truncate(before=pd.Timestamp('today') - pd.DateOffset(months=6))\n",
      "<ipython-input-1-d5b62f59ed62>:49: FutureWarning: Indexing a timezone-aware DatetimeIndex with a timezone-naive datetime is deprecated and will raise KeyError in a future version. Use a timezone-aware object instead.\n",
      "  m3 = max.truncate(before=pd.Timestamp('today') - pd.DateOffset(months=3))\n",
      "<ipython-input-1-d5b62f59ed62>:50: FutureWarning: Indexing a timezone-aware DatetimeIndex with a timezone-naive datetime is deprecated and will raise KeyError in a future version. Use a timezone-aware object instead.\n",
      "  m1 = max.truncate(before=pd.Timestamp('today') - pd.DateOffset(months=1))\n",
      "<ipython-input-1-d5b62f59ed62>:103: FutureWarning: The frame.append method is deprecated and will be removed from pandas in a future version. Use pandas.concat instead.\n",
      "  final = final.append(\n"
     ]
    },
    {
     "name": "stdout",
     "output_type": "stream",
     "text": [
      "0.198743268208637\n",
      "0.2971437644199021\n",
      "0.40050419382936747\n",
      "0.4478665206189005\n",
      "0.4855541326279181\n",
      "Producing data for:  AWP\n"
     ]
    },
    {
     "name": "stderr",
     "output_type": "stream",
     "text": [
      "<ipython-input-1-d5b62f59ed62>:47: FutureWarning: Indexing a timezone-aware DatetimeIndex with a timezone-naive datetime is deprecated and will raise KeyError in a future version. Use a timezone-aware object instead.\n",
      "  y = max.truncate(before=pd.Timestamp('today') - pd.DateOffset(months=12))\n",
      "<ipython-input-1-d5b62f59ed62>:48: FutureWarning: Indexing a timezone-aware DatetimeIndex with a timezone-naive datetime is deprecated and will raise KeyError in a future version. Use a timezone-aware object instead.\n",
      "  m6 = max.truncate(before=pd.Timestamp('today') - pd.DateOffset(months=6))\n",
      "<ipython-input-1-d5b62f59ed62>:49: FutureWarning: Indexing a timezone-aware DatetimeIndex with a timezone-naive datetime is deprecated and will raise KeyError in a future version. Use a timezone-aware object instead.\n",
      "  m3 = max.truncate(before=pd.Timestamp('today') - pd.DateOffset(months=3))\n",
      "<ipython-input-1-d5b62f59ed62>:50: FutureWarning: Indexing a timezone-aware DatetimeIndex with a timezone-naive datetime is deprecated and will raise KeyError in a future version. Use a timezone-aware object instead.\n",
      "  m1 = max.truncate(before=pd.Timestamp('today') - pd.DateOffset(months=1))\n"
     ]
    },
    {
     "name": "stdout",
     "output_type": "stream",
     "text": [
      "0.2120220069412191\n",
      "0.31220543752475827\n",
      "0.41480698976896613\n",
      "0.45839636277045204\n",
      "0.4852205935092712\n",
      "Producing data for:  AOD\n"
     ]
    },
    {
     "name": "stderr",
     "output_type": "stream",
     "text": [
      "<ipython-input-1-d5b62f59ed62>:103: FutureWarning: The frame.append method is deprecated and will be removed from pandas in a future version. Use pandas.concat instead.\n",
      "  final = final.append(\n",
      "<ipython-input-1-d5b62f59ed62>:47: FutureWarning: Indexing a timezone-aware DatetimeIndex with a timezone-naive datetime is deprecated and will raise KeyError in a future version. Use a timezone-aware object instead.\n",
      "  y = max.truncate(before=pd.Timestamp('today') - pd.DateOffset(months=12))\n",
      "<ipython-input-1-d5b62f59ed62>:48: FutureWarning: Indexing a timezone-aware DatetimeIndex with a timezone-naive datetime is deprecated and will raise KeyError in a future version. Use a timezone-aware object instead.\n",
      "  m6 = max.truncate(before=pd.Timestamp('today') - pd.DateOffset(months=6))\n",
      "<ipython-input-1-d5b62f59ed62>:49: FutureWarning: Indexing a timezone-aware DatetimeIndex with a timezone-naive datetime is deprecated and will raise KeyError in a future version. Use a timezone-aware object instead.\n",
      "  m3 = max.truncate(before=pd.Timestamp('today') - pd.DateOffset(months=3))\n",
      "<ipython-input-1-d5b62f59ed62>:50: FutureWarning: Indexing a timezone-aware DatetimeIndex with a timezone-naive datetime is deprecated and will raise KeyError in a future version. Use a timezone-aware object instead.\n",
      "  m1 = max.truncate(before=pd.Timestamp('today') - pd.DateOffset(months=1))\n",
      "<ipython-input-1-d5b62f59ed62>:103: FutureWarning: The frame.append method is deprecated and will be removed from pandas in a future version. Use pandas.concat instead.\n",
      "  final = final.append(\n"
     ]
    },
    {
     "name": "stdout",
     "output_type": "stream",
     "text": [
      "0.19595120024130203\n",
      "0.2950167695399196\n",
      "0.3985730503519703\n",
      "0.4438827719651575\n",
      "0.48071049543342587\n",
      "Producing data for:  RESI\n"
     ]
    },
    {
     "name": "stderr",
     "output_type": "stream",
     "text": [
      "<ipython-input-1-d5b62f59ed62>:47: FutureWarning: Indexing a timezone-aware DatetimeIndex with a timezone-naive datetime is deprecated and will raise KeyError in a future version. Use a timezone-aware object instead.\n",
      "  y = max.truncate(before=pd.Timestamp('today') - pd.DateOffset(months=12))\n",
      "<ipython-input-1-d5b62f59ed62>:48: FutureWarning: Indexing a timezone-aware DatetimeIndex with a timezone-naive datetime is deprecated and will raise KeyError in a future version. Use a timezone-aware object instead.\n",
      "  m6 = max.truncate(before=pd.Timestamp('today') - pd.DateOffset(months=6))\n",
      "<ipython-input-1-d5b62f59ed62>:49: FutureWarning: Indexing a timezone-aware DatetimeIndex with a timezone-naive datetime is deprecated and will raise KeyError in a future version. Use a timezone-aware object instead.\n",
      "  m3 = max.truncate(before=pd.Timestamp('today') - pd.DateOffset(months=3))\n",
      "<ipython-input-1-d5b62f59ed62>:50: FutureWarning: Indexing a timezone-aware DatetimeIndex with a timezone-naive datetime is deprecated and will raise KeyError in a future version. Use a timezone-aware object instead.\n",
      "  m1 = max.truncate(before=pd.Timestamp('today') - pd.DateOffset(months=1))\n",
      "C:\\Users\\Kamen\\AppData\\Local\\Programs\\Python\\Python38\\lib\\site-packages\\numpy\\core\\_methods.py:262: RuntimeWarning: Degrees of freedom <= 0 for slice\n",
      "  ret = _var(a, axis=axis, dtype=dtype, out=out, ddof=ddof,\n",
      "C:\\Users\\Kamen\\AppData\\Local\\Programs\\Python\\Python38\\lib\\site-packages\\numpy\\core\\_methods.py:222: RuntimeWarning: invalid value encountered in true_divide\n",
      "  arrmean = um.true_divide(arrmean, div, out=arrmean, casting='unsafe',\n",
      "C:\\Users\\Kamen\\AppData\\Local\\Programs\\Python\\Python38\\lib\\site-packages\\numpy\\core\\_methods.py:254: RuntimeWarning: invalid value encountered in double_scalars\n",
      "  ret = ret.dtype.type(ret / rcount)\n",
      "<ipython-input-1-d5b62f59ed62>:38: RuntimeWarning: divide by zero encountered in log\n",
      "  reg = np.polyfit(np.log(lags), np.log(tau), 1)\n",
      "<ipython-input-1-d5b62f59ed62>:103: FutureWarning: The frame.append method is deprecated and will be removed from pandas in a future version. Use pandas.concat instead.\n",
      "  final = final.append(\n"
     ]
    },
    {
     "name": "stdout",
     "output_type": "stream",
     "text": [
      "0.18801107750347848\n",
      "0.20598381856136327\n",
      "nan\n",
      "nan\n",
      "nan\n",
      "Producing data for:  MO\n"
     ]
    },
    {
     "name": "stderr",
     "output_type": "stream",
     "text": [
      "<ipython-input-1-d5b62f59ed62>:47: FutureWarning: Indexing a timezone-aware DatetimeIndex with a timezone-naive datetime is deprecated and will raise KeyError in a future version. Use a timezone-aware object instead.\n",
      "  y = max.truncate(before=pd.Timestamp('today') - pd.DateOffset(months=12))\n",
      "<ipython-input-1-d5b62f59ed62>:48: FutureWarning: Indexing a timezone-aware DatetimeIndex with a timezone-naive datetime is deprecated and will raise KeyError in a future version. Use a timezone-aware object instead.\n",
      "  m6 = max.truncate(before=pd.Timestamp('today') - pd.DateOffset(months=6))\n",
      "<ipython-input-1-d5b62f59ed62>:49: FutureWarning: Indexing a timezone-aware DatetimeIndex with a timezone-naive datetime is deprecated and will raise KeyError in a future version. Use a timezone-aware object instead.\n",
      "  m3 = max.truncate(before=pd.Timestamp('today') - pd.DateOffset(months=3))\n",
      "<ipython-input-1-d5b62f59ed62>:50: FutureWarning: Indexing a timezone-aware DatetimeIndex with a timezone-naive datetime is deprecated and will raise KeyError in a future version. Use a timezone-aware object instead.\n",
      "  m1 = max.truncate(before=pd.Timestamp('today') - pd.DateOffset(months=1))\n"
     ]
    },
    {
     "name": "stdout",
     "output_type": "stream",
     "text": [
      "0.20236879903596053\n",
      "0.29847602965968634\n",
      "0.3810237410777566\n",
      "0.4271796792457793\n",
      "0.47813229972488624\n",
      "Producing data for:  ACH\n"
     ]
    },
    {
     "name": "stderr",
     "output_type": "stream",
     "text": [
      "<ipython-input-1-d5b62f59ed62>:103: FutureWarning: The frame.append method is deprecated and will be removed from pandas in a future version. Use pandas.concat instead.\n",
      "  final = final.append(\n"
     ]
    },
    {
     "name": "stdout",
     "output_type": "stream",
     "text": [
      "Got error from yahoo api for ticker ACH, Error: {'code': 'Not Found', 'description': 'No data found, symbol may be delisted'}\n",
      "- ACH: No timezone found, symbol may be delisted\n",
      "Got error from yahoo api for ticker ACH, Error: {'code': 'Not Found', 'description': 'No data found, symbol may be delisted'}\n",
      "- ACH: No timezone found, symbol may be delisted\n",
      "Producing data for:  AMBR\n",
      "Got error from yahoo api for ticker AMBR, Error: {'code': 'Not Found', 'description': 'No data found, symbol may be delisted'}\n",
      "- AMBR: No timezone found, symbol may be delisted\n",
      "Got error from yahoo api for ticker AMBR, Error: {'code': 'Not Found', 'description': 'No data found, symbol may be delisted'}\n",
      "- AMBR: No timezone found, symbol may be delisted\n",
      "Producing data for:  ABEV\n"
     ]
    },
    {
     "name": "stderr",
     "output_type": "stream",
     "text": [
      "<ipython-input-1-d5b62f59ed62>:47: FutureWarning: Indexing a timezone-aware DatetimeIndex with a timezone-naive datetime is deprecated and will raise KeyError in a future version. Use a timezone-aware object instead.\n",
      "  y = max.truncate(before=pd.Timestamp('today') - pd.DateOffset(months=12))\n",
      "<ipython-input-1-d5b62f59ed62>:48: FutureWarning: Indexing a timezone-aware DatetimeIndex with a timezone-naive datetime is deprecated and will raise KeyError in a future version. Use a timezone-aware object instead.\n",
      "  m6 = max.truncate(before=pd.Timestamp('today') - pd.DateOffset(months=6))\n",
      "<ipython-input-1-d5b62f59ed62>:49: FutureWarning: Indexing a timezone-aware DatetimeIndex with a timezone-naive datetime is deprecated and will raise KeyError in a future version. Use a timezone-aware object instead.\n",
      "  m3 = max.truncate(before=pd.Timestamp('today') - pd.DateOffset(months=3))\n",
      "<ipython-input-1-d5b62f59ed62>:50: FutureWarning: Indexing a timezone-aware DatetimeIndex with a timezone-naive datetime is deprecated and will raise KeyError in a future version. Use a timezone-aware object instead.\n",
      "  m1 = max.truncate(before=pd.Timestamp('today') - pd.DateOffset(months=1))\n",
      "<ipython-input-1-d5b62f59ed62>:103: FutureWarning: The frame.append method is deprecated and will be removed from pandas in a future version. Use pandas.concat instead.\n",
      "  final = final.append(\n"
     ]
    },
    {
     "name": "stdout",
     "output_type": "stream",
     "text": [
      "0.1981590400144713\n",
      "0.29809251611240745\n",
      "0.3913647592266446\n",
      "0.43760511195449503\n",
      "0.4865920599344282\n",
      "Producing data for:  AMC\n"
     ]
    },
    {
     "name": "stderr",
     "output_type": "stream",
     "text": [
      "<ipython-input-1-d5b62f59ed62>:47: FutureWarning: Indexing a timezone-aware DatetimeIndex with a timezone-naive datetime is deprecated and will raise KeyError in a future version. Use a timezone-aware object instead.\n",
      "  y = max.truncate(before=pd.Timestamp('today') - pd.DateOffset(months=12))\n",
      "<ipython-input-1-d5b62f59ed62>:48: FutureWarning: Indexing a timezone-aware DatetimeIndex with a timezone-naive datetime is deprecated and will raise KeyError in a future version. Use a timezone-aware object instead.\n",
      "  m6 = max.truncate(before=pd.Timestamp('today') - pd.DateOffset(months=6))\n",
      "<ipython-input-1-d5b62f59ed62>:49: FutureWarning: Indexing a timezone-aware DatetimeIndex with a timezone-naive datetime is deprecated and will raise KeyError in a future version. Use a timezone-aware object instead.\n",
      "  m3 = max.truncate(before=pd.Timestamp('today') - pd.DateOffset(months=3))\n",
      "<ipython-input-1-d5b62f59ed62>:50: FutureWarning: Indexing a timezone-aware DatetimeIndex with a timezone-naive datetime is deprecated and will raise KeyError in a future version. Use a timezone-aware object instead.\n",
      "  m1 = max.truncate(before=pd.Timestamp('today') - pd.DateOffset(months=1))\n"
     ]
    },
    {
     "name": "stdout",
     "output_type": "stream",
     "text": [
      "0.2138486619054656\n",
      "0.3007990180340883\n",
      "0.38648329917581\n",
      "0.41733905459918397\n",
      "0.43593169899234446\n",
      "Producing data for:  AMFW\n"
     ]
    },
    {
     "name": "stderr",
     "output_type": "stream",
     "text": [
      "<ipython-input-1-d5b62f59ed62>:103: FutureWarning: The frame.append method is deprecated and will be removed from pandas in a future version. Use pandas.concat instead.\n",
      "  final = final.append(\n"
     ]
    },
    {
     "name": "stdout",
     "output_type": "stream",
     "text": [
      "Got error from yahoo api for ticker AMFW, Error: {'code': 'Not Found', 'description': 'No data found, symbol may be delisted'}\n",
      "- AMFW: No timezone found, symbol may be delisted\n",
      "Got error from yahoo api for ticker AMFW, Error: {'code': 'Not Found', 'description': 'No data found, symbol may be delisted'}\n",
      "- AMFW: No timezone found, symbol may be delisted\n",
      "Producing data for:  AEE\n"
     ]
    },
    {
     "name": "stderr",
     "output_type": "stream",
     "text": [
      "<ipython-input-1-d5b62f59ed62>:47: FutureWarning: Indexing a timezone-aware DatetimeIndex with a timezone-naive datetime is deprecated and will raise KeyError in a future version. Use a timezone-aware object instead.\n",
      "  y = max.truncate(before=pd.Timestamp('today') - pd.DateOffset(months=12))\n",
      "<ipython-input-1-d5b62f59ed62>:48: FutureWarning: Indexing a timezone-aware DatetimeIndex with a timezone-naive datetime is deprecated and will raise KeyError in a future version. Use a timezone-aware object instead.\n",
      "  m6 = max.truncate(before=pd.Timestamp('today') - pd.DateOffset(months=6))\n",
      "<ipython-input-1-d5b62f59ed62>:49: FutureWarning: Indexing a timezone-aware DatetimeIndex with a timezone-naive datetime is deprecated and will raise KeyError in a future version. Use a timezone-aware object instead.\n",
      "  m3 = max.truncate(before=pd.Timestamp('today') - pd.DateOffset(months=3))\n",
      "<ipython-input-1-d5b62f59ed62>:50: FutureWarning: Indexing a timezone-aware DatetimeIndex with a timezone-naive datetime is deprecated and will raise KeyError in a future version. Use a timezone-aware object instead.\n",
      "  m1 = max.truncate(before=pd.Timestamp('today') - pd.DateOffset(months=1))\n",
      "<ipython-input-1-d5b62f59ed62>:103: FutureWarning: The frame.append method is deprecated and will be removed from pandas in a future version. Use pandas.concat instead.\n",
      "  final = final.append(\n"
     ]
    },
    {
     "name": "stdout",
     "output_type": "stream",
     "text": [
      "0.18511334306342103\n",
      "0.2548122687446489\n",
      "0.3242966175441167\n",
      "0.36454787812351575\n",
      "0.41459833754866865\n",
      "Producing data for:  AMRC\n"
     ]
    },
    {
     "name": "stderr",
     "output_type": "stream",
     "text": [
      "<ipython-input-1-d5b62f59ed62>:47: FutureWarning: Indexing a timezone-aware DatetimeIndex with a timezone-naive datetime is deprecated and will raise KeyError in a future version. Use a timezone-aware object instead.\n",
      "  y = max.truncate(before=pd.Timestamp('today') - pd.DateOffset(months=12))\n",
      "<ipython-input-1-d5b62f59ed62>:48: FutureWarning: Indexing a timezone-aware DatetimeIndex with a timezone-naive datetime is deprecated and will raise KeyError in a future version. Use a timezone-aware object instead.\n",
      "  m6 = max.truncate(before=pd.Timestamp('today') - pd.DateOffset(months=6))\n",
      "<ipython-input-1-d5b62f59ed62>:49: FutureWarning: Indexing a timezone-aware DatetimeIndex with a timezone-naive datetime is deprecated and will raise KeyError in a future version. Use a timezone-aware object instead.\n",
      "  m3 = max.truncate(before=pd.Timestamp('today') - pd.DateOffset(months=3))\n",
      "<ipython-input-1-d5b62f59ed62>:50: FutureWarning: Indexing a timezone-aware DatetimeIndex with a timezone-naive datetime is deprecated and will raise KeyError in a future version. Use a timezone-aware object instead.\n",
      "  m1 = max.truncate(before=pd.Timestamp('today') - pd.DateOffset(months=1))\n"
     ]
    },
    {
     "name": "stdout",
     "output_type": "stream",
     "text": [
      "0.23167375104330518\n",
      "0.3027741458761963\n",
      "0.37232402157121003\n",
      "0.41100285280703774\n",
      "0.4530263370521773\n",
      "Producing data for:  AAT\n"
     ]
    },
    {
     "name": "stderr",
     "output_type": "stream",
     "text": [
      "<ipython-input-1-d5b62f59ed62>:103: FutureWarning: The frame.append method is deprecated and will be removed from pandas in a future version. Use pandas.concat instead.\n",
      "  final = final.append(\n",
      "<ipython-input-1-d5b62f59ed62>:47: FutureWarning: Indexing a timezone-aware DatetimeIndex with a timezone-naive datetime is deprecated and will raise KeyError in a future version. Use a timezone-aware object instead.\n",
      "  y = max.truncate(before=pd.Timestamp('today') - pd.DateOffset(months=12))\n",
      "<ipython-input-1-d5b62f59ed62>:48: FutureWarning: Indexing a timezone-aware DatetimeIndex with a timezone-naive datetime is deprecated and will raise KeyError in a future version. Use a timezone-aware object instead.\n",
      "  m6 = max.truncate(before=pd.Timestamp('today') - pd.DateOffset(months=6))\n",
      "<ipython-input-1-d5b62f59ed62>:49: FutureWarning: Indexing a timezone-aware DatetimeIndex with a timezone-naive datetime is deprecated and will raise KeyError in a future version. Use a timezone-aware object instead.\n",
      "  m3 = max.truncate(before=pd.Timestamp('today') - pd.DateOffset(months=3))\n",
      "<ipython-input-1-d5b62f59ed62>:50: FutureWarning: Indexing a timezone-aware DatetimeIndex with a timezone-naive datetime is deprecated and will raise KeyError in a future version. Use a timezone-aware object instead.\n",
      "  m1 = max.truncate(before=pd.Timestamp('today') - pd.DateOffset(months=1))\n"
     ]
    },
    {
     "name": "stdout",
     "output_type": "stream",
     "text": [
      "0.20699945251215654\n",
      "0.30311122887592856\n",
      "0.4026582154198271\n",
      "0.4431374269337366\n",
      "0.475652704816602\n",
      "Producing data for:  AXL\n"
     ]
    },
    {
     "name": "stderr",
     "output_type": "stream",
     "text": [
      "<ipython-input-1-d5b62f59ed62>:103: FutureWarning: The frame.append method is deprecated and will be removed from pandas in a future version. Use pandas.concat instead.\n",
      "  final = final.append(\n",
      "<ipython-input-1-d5b62f59ed62>:47: FutureWarning: Indexing a timezone-aware DatetimeIndex with a timezone-naive datetime is deprecated and will raise KeyError in a future version. Use a timezone-aware object instead.\n",
      "  y = max.truncate(before=pd.Timestamp('today') - pd.DateOffset(months=12))\n",
      "<ipython-input-1-d5b62f59ed62>:48: FutureWarning: Indexing a timezone-aware DatetimeIndex with a timezone-naive datetime is deprecated and will raise KeyError in a future version. Use a timezone-aware object instead.\n",
      "  m6 = max.truncate(before=pd.Timestamp('today') - pd.DateOffset(months=6))\n",
      "<ipython-input-1-d5b62f59ed62>:49: FutureWarning: Indexing a timezone-aware DatetimeIndex with a timezone-naive datetime is deprecated and will raise KeyError in a future version. Use a timezone-aware object instead.\n",
      "  m3 = max.truncate(before=pd.Timestamp('today') - pd.DateOffset(months=3))\n",
      "<ipython-input-1-d5b62f59ed62>:50: FutureWarning: Indexing a timezone-aware DatetimeIndex with a timezone-naive datetime is deprecated and will raise KeyError in a future version. Use a timezone-aware object instead.\n",
      "  m1 = max.truncate(before=pd.Timestamp('today') - pd.DateOffset(months=1))\n"
     ]
    },
    {
     "name": "stdout",
     "output_type": "stream",
     "text": [
      "0.20324647965459228\n",
      "0.3029202587880728\n",
      "0.4026541468531147\n",
      "0.44975293090823043\n",
      "0.49084763675574955\n",
      "Producing data for:  ACC\n"
     ]
    },
    {
     "name": "stderr",
     "output_type": "stream",
     "text": [
      "<ipython-input-1-d5b62f59ed62>:103: FutureWarning: The frame.append method is deprecated and will be removed from pandas in a future version. Use pandas.concat instead.\n",
      "  final = final.append(\n"
     ]
    },
    {
     "name": "stdout",
     "output_type": "stream",
     "text": [
      "Got error from yahoo api for ticker ACC, Error: {'code': 'Not Found', 'description': 'No data found, symbol may be delisted'}\n",
      "- ACC: No timezone found, symbol may be delisted\n",
      "Got error from yahoo api for ticker ACC, Error: {'code': 'Not Found', 'description': 'No data found, symbol may be delisted'}\n",
      "- ACC: No timezone found, symbol may be delisted\n",
      "Producing data for:  AEO\n"
     ]
    },
    {
     "name": "stderr",
     "output_type": "stream",
     "text": [
      "<ipython-input-1-d5b62f59ed62>:47: FutureWarning: Indexing a timezone-aware DatetimeIndex with a timezone-naive datetime is deprecated and will raise KeyError in a future version. Use a timezone-aware object instead.\n",
      "  y = max.truncate(before=pd.Timestamp('today') - pd.DateOffset(months=12))\n",
      "<ipython-input-1-d5b62f59ed62>:48: FutureWarning: Indexing a timezone-aware DatetimeIndex with a timezone-naive datetime is deprecated and will raise KeyError in a future version. Use a timezone-aware object instead.\n",
      "  m6 = max.truncate(before=pd.Timestamp('today') - pd.DateOffset(months=6))\n",
      "<ipython-input-1-d5b62f59ed62>:49: FutureWarning: Indexing a timezone-aware DatetimeIndex with a timezone-naive datetime is deprecated and will raise KeyError in a future version. Use a timezone-aware object instead.\n",
      "  m3 = max.truncate(before=pd.Timestamp('today') - pd.DateOffset(months=3))\n",
      "<ipython-input-1-d5b62f59ed62>:50: FutureWarning: Indexing a timezone-aware DatetimeIndex with a timezone-naive datetime is deprecated and will raise KeyError in a future version. Use a timezone-aware object instead.\n",
      "  m1 = max.truncate(before=pd.Timestamp('today') - pd.DateOffset(months=1))\n"
     ]
    },
    {
     "name": "stdout",
     "output_type": "stream",
     "text": [
      "0.18645206101177703\n",
      "0.2945103134367166\n",
      "0.41043522688767997\n",
      "0.45770221853739296\n",
      "0.4858870830984705\n",
      "Producing data for:  AEP\n"
     ]
    },
    {
     "name": "stderr",
     "output_type": "stream",
     "text": [
      "<ipython-input-1-d5b62f59ed62>:103: FutureWarning: The frame.append method is deprecated and will be removed from pandas in a future version. Use pandas.concat instead.\n",
      "  final = final.append(\n",
      "<ipython-input-1-d5b62f59ed62>:47: FutureWarning: Indexing a timezone-aware DatetimeIndex with a timezone-naive datetime is deprecated and will raise KeyError in a future version. Use a timezone-aware object instead.\n",
      "  y = max.truncate(before=pd.Timestamp('today') - pd.DateOffset(months=12))\n",
      "<ipython-input-1-d5b62f59ed62>:48: FutureWarning: Indexing a timezone-aware DatetimeIndex with a timezone-naive datetime is deprecated and will raise KeyError in a future version. Use a timezone-aware object instead.\n",
      "  m6 = max.truncate(before=pd.Timestamp('today') - pd.DateOffset(months=6))\n",
      "<ipython-input-1-d5b62f59ed62>:49: FutureWarning: Indexing a timezone-aware DatetimeIndex with a timezone-naive datetime is deprecated and will raise KeyError in a future version. Use a timezone-aware object instead.\n",
      "  m3 = max.truncate(before=pd.Timestamp('today') - pd.DateOffset(months=3))\n",
      "<ipython-input-1-d5b62f59ed62>:50: FutureWarning: Indexing a timezone-aware DatetimeIndex with a timezone-naive datetime is deprecated and will raise KeyError in a future version. Use a timezone-aware object instead.\n",
      "  m1 = max.truncate(before=pd.Timestamp('today') - pd.DateOffset(months=1))\n"
     ]
    },
    {
     "name": "stdout",
     "output_type": "stream",
     "text": [
      "0.19322509862987405\n",
      "0.26933258167058033\n",
      "0.3475151177191151\n",
      "0.3877667549661537\n",
      "0.4322253000863723\n",
      "Producing data for:  AEL\n"
     ]
    },
    {
     "name": "stderr",
     "output_type": "stream",
     "text": [
      "<ipython-input-1-d5b62f59ed62>:103: FutureWarning: The frame.append method is deprecated and will be removed from pandas in a future version. Use pandas.concat instead.\n",
      "  final = final.append(\n",
      "<ipython-input-1-d5b62f59ed62>:47: FutureWarning: Indexing a timezone-aware DatetimeIndex with a timezone-naive datetime is deprecated and will raise KeyError in a future version. Use a timezone-aware object instead.\n",
      "  y = max.truncate(before=pd.Timestamp('today') - pd.DateOffset(months=12))\n",
      "<ipython-input-1-d5b62f59ed62>:48: FutureWarning: Indexing a timezone-aware DatetimeIndex with a timezone-naive datetime is deprecated and will raise KeyError in a future version. Use a timezone-aware object instead.\n",
      "  m6 = max.truncate(before=pd.Timestamp('today') - pd.DateOffset(months=6))\n",
      "<ipython-input-1-d5b62f59ed62>:49: FutureWarning: Indexing a timezone-aware DatetimeIndex with a timezone-naive datetime is deprecated and will raise KeyError in a future version. Use a timezone-aware object instead.\n",
      "  m3 = max.truncate(before=pd.Timestamp('today') - pd.DateOffset(months=3))\n",
      "<ipython-input-1-d5b62f59ed62>:50: FutureWarning: Indexing a timezone-aware DatetimeIndex with a timezone-naive datetime is deprecated and will raise KeyError in a future version. Use a timezone-aware object instead.\n",
      "  m1 = max.truncate(before=pd.Timestamp('today') - pd.DateOffset(months=1))\n",
      "<ipython-input-1-d5b62f59ed62>:103: FutureWarning: The frame.append method is deprecated and will be removed from pandas in a future version. Use pandas.concat instead.\n",
      "  final = final.append(\n"
     ]
    },
    {
     "name": "stdout",
     "output_type": "stream",
     "text": [
      "0.18501979270639013\n",
      "0.2612820440659206\n",
      "0.34037127608832896\n",
      "0.38187704565901914\n",
      "0.4108980954100761\n",
      "Producing data for:  AXP\n"
     ]
    },
    {
     "name": "stderr",
     "output_type": "stream",
     "text": [
      "<ipython-input-1-d5b62f59ed62>:47: FutureWarning: Indexing a timezone-aware DatetimeIndex with a timezone-naive datetime is deprecated and will raise KeyError in a future version. Use a timezone-aware object instead.\n",
      "  y = max.truncate(before=pd.Timestamp('today') - pd.DateOffset(months=12))\n",
      "<ipython-input-1-d5b62f59ed62>:48: FutureWarning: Indexing a timezone-aware DatetimeIndex with a timezone-naive datetime is deprecated and will raise KeyError in a future version. Use a timezone-aware object instead.\n",
      "  m6 = max.truncate(before=pd.Timestamp('today') - pd.DateOffset(months=6))\n",
      "<ipython-input-1-d5b62f59ed62>:49: FutureWarning: Indexing a timezone-aware DatetimeIndex with a timezone-naive datetime is deprecated and will raise KeyError in a future version. Use a timezone-aware object instead.\n",
      "  m3 = max.truncate(before=pd.Timestamp('today') - pd.DateOffset(months=3))\n",
      "<ipython-input-1-d5b62f59ed62>:50: FutureWarning: Indexing a timezone-aware DatetimeIndex with a timezone-naive datetime is deprecated and will raise KeyError in a future version. Use a timezone-aware object instead.\n",
      "  m1 = max.truncate(before=pd.Timestamp('today') - pd.DateOffset(months=1))\n",
      "<ipython-input-1-d5b62f59ed62>:103: FutureWarning: The frame.append method is deprecated and will be removed from pandas in a future version. Use pandas.concat instead.\n",
      "  final = final.append(\n"
     ]
    },
    {
     "name": "stdout",
     "output_type": "stream",
     "text": [
      "0.1795144036590263\n",
      "0.26295472608301557\n",
      "0.356265526179629\n",
      "0.40197317803114235\n",
      "0.44238322116162465\n",
      "Producing data for:  AFG\n"
     ]
    }
   ],
   "source": [
    "#ADD SCHEDULER\n",
    "\n",
    "import numpy as np\n",
    "import pandas as pd\n",
    "import matplotlib as plt\n",
    "import seaborn as sns\n",
    "import yfinance as yf\n",
    "import pandas_datareader as web\n",
    "from pandas_datareader import data\n",
    "from bs4 import BeautifulSoup as bs\n",
    "from scipy import stats\n",
    "tick = pd.read_csv(\"all_stocks\")\n",
    "final = pd.DataFrame(columns=[\n",
    "                            'Ticker',\n",
    "                            'Price',\n",
    "                            '1y Price Return',\n",
    "                            '1y percentile', \n",
    "                            '6m Price Return', \n",
    "                            '6m percentile', \n",
    "                            '3m Price Return', \n",
    "                            '3m percentile',\n",
    "                            '1m Price Return', \n",
    "                            '1m percentile',\n",
    "                            'Weighted Hurst Exponent'\n",
    "                            ])\n",
    "counter= 0\n",
    "\n",
    "#calulate the Hurst exponent of a stock\n",
    "def get_hurst_exponent(time_series, max_lag):\n",
    "    \"\"\"Returns the Hurst Exponent of the time series\"\"\"\n",
    "        \n",
    "    lags = range(2, max_lag)\n",
    "\n",
    "    # variances of the lagged differences\n",
    "    tau = [np.std(np.subtract(time_series[lag:], time_series[:-lag])) for lag in lags]\n",
    "\n",
    "    # calculate the slope of the log plot -> the Hurst Exponent\n",
    "    reg = np.polyfit(np.log(lags), np.log(tau), 1)\n",
    "\n",
    "    return reg[0]\n",
    "\n",
    "for i in range(len(tick[\"0\"])):\n",
    "    print(\"Producing data for: \", tick[\"0\"][i])\n",
    "    try:\n",
    "        max = yf.Ticker(tick[\"0\"][i]).history(period='max')\n",
    "        d = yf.Ticker(tick[\"0\"][i]).history(period='max')\n",
    "        y = max.truncate(before=pd.Timestamp('today') - pd.DateOffset(months=12))\n",
    "        m6 = max.truncate(before=pd.Timestamp('today') - pd.DateOffset(months=6))\n",
    "        m3 = max.truncate(before=pd.Timestamp('today') - pd.DateOffset(months=3))\n",
    "        m1 = max.truncate(before=pd.Timestamp('today') - pd.DateOffset(months=1))\n",
    "    except IndexError: \n",
    "        print(\"Couldn't find: \",tick[\"0\"][i])\n",
    "        continue\n",
    "    except KeyError:\n",
    "        continue\n",
    "    \n",
    "    max.reset_index(inplace = True)\n",
    "    d.reset_index(inplace=True)\n",
    "    y.reset_index(inplace=True)\n",
    "    m6.reset_index(inplace=True)\n",
    "    m3.reset_index(inplace=True)\n",
    "    m1.reset_index(inplace=True)\n",
    "\n",
    "    d['Ticker'] = tick['0'][i]    \n",
    "    try: \n",
    "        perc_change1y = ((y.iloc[-1]['Close'] - y.iloc[0]['Close'])/y.iloc[0][\"Close\"])\n",
    "        d['1y Price Return'] = perc_change1y\n",
    "        perc_change6m = ((m6.iloc[-1]['Close'] - m6.iloc[0]['Close'])/m6.iloc[0][\"Close\"])\n",
    "        d['6m Price Return'] = perc_change6m\n",
    "        perc_change3m = ((m3.iloc[-1]['Close'] - m3.iloc[0]['Close'])/m3.iloc[0][\"Close\"])\n",
    "        d['3m Price Return'] = perc_change3m\n",
    "        perc_change1m = ((m1.iloc[-1]['Close'] - m1.iloc[0]['Close'])/m1.iloc[0][\"Close\"])\n",
    "        d['1m Price Return'] = perc_change1m\n",
    "\n",
    "        d['Price'] = d['Close'] \n",
    "        d['1y percentile'] = 0\n",
    "        d['6m percentile'] = 0\n",
    "        d['3m percentile'] = 0\n",
    "        d['1m percentile'] = 0\n",
    "        d['Weighted Hurst Exponent'] = 0\n",
    "        d = d.iloc[-1]\n",
    "    except IndexError: \n",
    "        continue\n",
    "\n",
    "    #Change to keep only last 2 days!!! get date\n",
    "\n",
    "    t = [20, 100, 300, 500, 1000]\n",
    "    total_hurst = 0\n",
    "    weight = 0.4\n",
    "    for j in range(len(t)): \n",
    "        #Use Weighted average to determine hurst exp of the stock\n",
    "        hurst_exp = get_hurst_exponent(max[\"Close\"].values, t[j])\n",
    "        #print(tick[\"0\"][i] + \" Hurst exponent with \" + str(t[j]) +  ' lags: ' + str(hurst_exp))\n",
    "        total_hurst += hurst_exp*weight\n",
    "        if j >= 2: \n",
    "            weight = 0.1\n",
    "        else: \n",
    "            weight = 0.2\n",
    "        print(total_hurst)\n",
    "    d['Weighted Hurst Exponent'] = total_hurst\n",
    "    \n",
    "    #Append latest value\n",
    "    final = final.append(\n",
    "        pd.Series(d,\n",
    "        index=['Ticker',\n",
    "                            'Price',\n",
    "                            '1y Price Return',\n",
    "                            '1y percentile', \n",
    "                            '6m Price Return', \n",
    "                            '6m percentile', \n",
    "                            '3m Price Return', \n",
    "                            '3m percentile',\n",
    "                            '1m Price Return', \n",
    "                            '1m percentile',\n",
    "                            'Weighted Hurst Exponent'\n",
    "                            ]), \n",
    "        ignore_index = True\n",
    "    ) \n",
    "\n",
    "final.to_csv(\"momentum_advanced_sheet\")\n",
    "\n",
    "#Get percentiles for each stock\n",
    "cols = ['1y', '6m', '3m', '1m']\n",
    "top90 = []\n",
    "for c in cols: \n",
    "    for index, row in final.iterrows(): \n",
    "        percentile_change = stats.percentileofscore(final[c+ ' Price Return'], final[c + ' Price Return'].loc[index])\n",
    "        final[c + ' percentile'][index] = percentile_change \n",
    "final['Shares To Buy'] = 0\n",
    "\n",
    "#Calculate HQM score\n",
    "#Get the mean of all 4 percentiles \n",
    "final['HQM score'] = 0\n",
    "from statistics import mean\n",
    "for index, row in final.iterrows(): \n",
    "    all_periods_p = [row['1y percentile'], row['6m percentile'], row['3m percentile'], row['1m percentile']]\n",
    "    final['HQM score'].iloc[index] = mean(all_periods_p)\n",
    "\n",
    "#Sort values to present\n",
    "final.sort_values(\"HQM score\", ascending=False, inplace = True)\n",
    "final.to_csv(\"momentum_advanced_HQM\")"
   ]
  },
  {
   "cell_type": "code",
   "execution_count": null,
   "metadata": {},
   "outputs": [],
   "source": []
  }
 ],
 "metadata": {
  "interpreter": {
   "hash": "f36662cf0d2dc2d22e7ce50b6b2dd5771b8ab03597c45c6e0e62ff4a448306d1"
  },
  "kernelspec": {
   "display_name": "Python 3.8.5 64-bit",
   "language": "python",
   "name": "python3"
  },
  "language_info": {
   "codemirror_mode": {
    "name": "ipython",
    "version": 3
   },
   "file_extension": ".py",
   "mimetype": "text/x-python",
   "name": "python",
   "nbconvert_exporter": "python",
   "pygments_lexer": "ipython3",
   "version": "3.8.5"
  },
  "orig_nbformat": 4
 },
 "nbformat": 4,
 "nbformat_minor": 2
}
