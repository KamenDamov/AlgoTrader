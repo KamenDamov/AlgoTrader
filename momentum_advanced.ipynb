{
 "cells": [
  {
   "cell_type": "code",
   "execution_count": null,
   "metadata": {},
   "outputs": [],
   "source": [
    "import numpy as np\n",
    "import pandas as pd\n",
    "import math\n",
    "import requests \n",
    "import matplotlib as plt\n",
    "import seaborn as sns\n",
    "import yfinance as yf\n",
    "import pandas_datareader as web\n",
    "from pandas_datareader import data\n",
    "from bs4 import BeautifulSoup as bs\n",
    "from scipy import stats"
   ]
  },
  {
   "cell_type": "code",
   "execution_count": null,
   "metadata": {},
   "outputs": [],
   "source": [
    "tick = pd.read_csv(\"all_stocks\")"
   ]
  },
  {
   "cell_type": "code",
   "execution_count": 3,
   "metadata": {},
   "outputs": [
    {
     "name": "stdout",
     "output_type": "stream",
     "text": [
      "Date               2022-12-23 00:00:00-05:00\n",
      "Open                               22.129999\n",
      "High                                   22.51\n",
      "Low                                22.049999\n",
      "Close                                  22.48\n",
      "Volume                                858200\n",
      "Dividends                                0.0\n",
      "Stock Splits                             0.0\n",
      "Ticker                                   BRX\n",
      "1y Price Return                      -0.0526\n",
      "6m Price Return                      0.10497\n",
      "3m Price Return                     0.245268\n",
      "1m Price Return                    -0.028942\n",
      "Price                                  22.48\n",
      "1y percentile                              0\n",
      "6m percentile                              0\n",
      "3m percentile                              0\n",
      "1m percentile                              0\n",
      "Name: 2304, dtype: object\n",
      "Producing data for:  BR\n"
     ]
    },
    {
     "name": "stderr",
     "output_type": "stream",
     "text": [
      "<ipython-input-3-e619353caa5d>:57: FutureWarning: The frame.append method is deprecated and will be removed from pandas in a future version. Use pandas.concat instead.\n",
      "  final = final.append(\n"
     ]
    },
    {
     "name": "stdout",
     "output_type": "stream",
     "text": [
      "Date               2022-12-23 00:00:00-05:00\n",
      "Open                              134.309998\n",
      "High                              134.929993\n",
      "Low                               133.509995\n",
      "Close                             134.479996\n",
      "Volume                                377200\n",
      "Dividends                                0.0\n",
      "Stock Splits                             0.0\n",
      "Ticker                                    BR\n",
      "1y Price Return                    -0.257421\n",
      "6m Price Return                    -0.067663\n",
      "3m Price Return                    -0.117846\n",
      "1m Price Return                    -0.089989\n",
      "Price                             134.479996\n",
      "1y percentile                              0\n",
      "6m percentile                              0\n",
      "3m percentile                              0\n",
      "1m percentile                              0\n",
      "Name: 3969, dtype: object\n",
      "Producing data for:  BKD\n"
     ]
    },
    {
     "name": "stderr",
     "output_type": "stream",
     "text": [
      "<ipython-input-3-e619353caa5d>:57: FutureWarning: The frame.append method is deprecated and will be removed from pandas in a future version. Use pandas.concat instead.\n",
      "  final = final.append(\n"
     ]
    },
    {
     "name": "stdout",
     "output_type": "stream",
     "text": [
      "Date               2022-12-23 00:00:00-05:00\n",
      "Open                                     2.7\n",
      "High                                    2.74\n",
      "Low                                      2.7\n",
      "Close                                   2.71\n",
      "Volume                                654800\n",
      "Dividends                                0.0\n",
      "Stock Splits                             0.0\n",
      "Ticker                                   BKD\n",
      "1y Price Return                    -0.471735\n",
      "6m Price Return                    -0.434238\n",
      "3m Price Return                    -0.396436\n",
      "1m Price Return                    -0.136943\n",
      "Price                                   2.71\n",
      "1y percentile                              0\n",
      "6m percentile                              0\n",
      "3m percentile                              0\n",
      "1m percentile                              0\n",
      "Name: 4301, dtype: object\n",
      "Producing data for:  BAM\n"
     ]
    },
    {
     "name": "stderr",
     "output_type": "stream",
     "text": [
      "<ipython-input-3-e619353caa5d>:57: FutureWarning: The frame.append method is deprecated and will be removed from pandas in a future version. Use pandas.concat instead.\n",
      "  final = final.append(\n"
     ]
    },
    {
     "name": "stdout",
     "output_type": "stream",
     "text": [
      "Date               2022-12-23 00:00:00-05:00\n",
      "Open                               28.219999\n",
      "High                                   28.42\n",
      "Low                                27.799999\n",
      "Close                              28.040001\n",
      "Volume                               1477900\n",
      "Dividends                                0.0\n",
      "Stock Splits                             0.0\n",
      "Ticker                                   BAM\n",
      "1y Price Return                    -0.134568\n",
      "6m Price Return                    -0.134568\n",
      "3m Price Return                    -0.134568\n",
      "1m Price Return                    -0.134568\n",
      "Price                              28.040001\n",
      "1y percentile                              0\n",
      "6m percentile                              0\n",
      "3m percentile                              0\n",
      "1m percentile                              0\n",
      "Name: 9, dtype: object\n",
      "Producing data for:  BOXC\n"
     ]
    },
    {
     "name": "stderr",
     "output_type": "stream",
     "text": [
      "<ipython-input-3-e619353caa5d>:57: FutureWarning: The frame.append method is deprecated and will be removed from pandas in a future version. Use pandas.concat instead.\n",
      "  final = final.append(\n"
     ]
    },
    {
     "name": "stdout",
     "output_type": "stream",
     "text": [
      "BOXC: 1d data not available for startTime=-2208994789 and endTime=1672122441. Only 100 years worth of day granularity data are allowed to be fetched per request.\n",
      "BOXC: No data found for this date range, symbol may be delisted\n",
      "BOXC: No data found for this date range, symbol may be delisted\n",
      "BOXC: No data found for this date range, symbol may be delisted\n",
      "BOXC: No data found for this date range, symbol may be delisted\n",
      "Producing data for:  BIP\n",
      "Date               2022-12-23 00:00:00-05:00\n",
      "Open                               30.620001\n",
      "High                               31.370001\n",
      "Low                                    30.59\n",
      "Close                                  31.33\n",
      "Volume                                640100\n",
      "Dividends                                0.0\n",
      "Stock Splits                             0.0\n",
      "Ticker                                   BIP\n",
      "1y Price Return                    -0.179317\n",
      "6m Price Return                    -0.139862\n",
      "3m Price Return                    -0.171839\n",
      "1m Price Return                    -0.162189\n",
      "Price                                  31.33\n",
      "1y percentile                              0\n",
      "6m percentile                              0\n",
      "3m percentile                              0\n",
      "1m percentile                              0\n",
      "Name: 3766, dtype: object\n",
      "Producing data for:  BPY\n"
     ]
    },
    {
     "name": "stderr",
     "output_type": "stream",
     "text": [
      "<ipython-input-3-e619353caa5d>:57: FutureWarning: The frame.append method is deprecated and will be removed from pandas in a future version. Use pandas.concat instead.\n",
      "  final = final.append(\n"
     ]
    },
    {
     "name": "stdout",
     "output_type": "stream",
     "text": [
      "Got error from yahoo api for ticker BPY, Error: {'code': 'Not Found', 'description': 'No data found, symbol may be delisted'}\n",
      "- BPY: No timezone found, symbol may be delisted\n",
      "BPY: No data found, symbol may be delisted\n",
      "BPY: No data found, symbol may be delisted\n",
      "BPY: No data found, symbol may be delisted\n",
      "BPY: No data found, symbol may be delisted\n",
      "Producing data for:  BEP\n",
      "Date               2022-12-23 00:00:00-05:00\n",
      "Open                               25.459999\n",
      "High                                   25.84\n",
      "Low                                25.379999\n",
      "Close                                  25.52\n",
      "Volume                                474500\n",
      "Dividends                                0.0\n",
      "Stock Splits                             0.0\n",
      "Ticker                                   BEP\n",
      "1y Price Return                    -0.252245\n",
      "6m Price Return                    -0.257704\n",
      "3m Price Return                    -0.216824\n",
      "1m Price Return                    -0.116245\n",
      "Price                                  25.52\n",
      "1y percentile                              0\n",
      "6m percentile                              0\n",
      "3m percentile                              0\n",
      "1m percentile                              0\n",
      "Name: 4306, dtype: object\n",
      "Producing data for:  BRP\n"
     ]
    },
    {
     "name": "stderr",
     "output_type": "stream",
     "text": [
      "<ipython-input-3-e619353caa5d>:57: FutureWarning: The frame.append method is deprecated and will be removed from pandas in a future version. Use pandas.concat instead.\n",
      "  final = final.append(\n"
     ]
    },
    {
     "name": "stdout",
     "output_type": "stream",
     "text": [
      "Date               2022-12-23 00:00:00-05:00\n",
      "Open                                   26.52\n",
      "High                                   26.84\n",
      "Low                                25.040001\n",
      "Close                              25.959999\n",
      "Volume                                530500\n",
      "Dividends                                0.0\n",
      "Stock Splits                             0.0\n",
      "Ticker                                   BRP\n",
      "1y Price Return                    -0.285242\n",
      "6m Price Return                     0.056573\n",
      "3m Price Return                     0.003867\n",
      "1m Price Return                    -0.130901\n",
      "Price                              25.959999\n",
      "1y percentile                              0\n",
      "6m percentile                              0\n",
      "3m percentile                              0\n",
      "1m percentile                              0\n",
      "Name: 798, dtype: object\n",
      "Producing data for:  BRO\n"
     ]
    },
    {
     "name": "stderr",
     "output_type": "stream",
     "text": [
      "<ipython-input-3-e619353caa5d>:57: FutureWarning: The frame.append method is deprecated and will be removed from pandas in a future version. Use pandas.concat instead.\n",
      "  final = final.append(\n"
     ]
    },
    {
     "name": "stdout",
     "output_type": "stream",
     "text": [
      "Date               2022-12-23 00:00:00-05:00\n",
      "Open                               56.650002\n",
      "High                                    57.0\n",
      "Low                                56.139999\n",
      "Close                              56.939999\n",
      "Volume                                766900\n",
      "Dividends                                0.0\n",
      "Stock Splits                             0.0\n",
      "Ticker                                   BRO\n",
      "1y Price Return                    -0.174655\n",
      "6m Price Return                     -0.03248\n",
      "3m Price Return                    -0.026755\n",
      "1m Price Return                     -0.03915\n",
      "Price                              56.939999\n",
      "1y percentile                              0\n",
      "6m percentile                              0\n",
      "3m percentile                              0\n",
      "1m percentile                              0\n",
      "Name: 10557, dtype: object\n",
      "Producing data for:  BF.A & BF.B\n"
     ]
    },
    {
     "name": "stderr",
     "output_type": "stream",
     "text": [
      "<ipython-input-3-e619353caa5d>:57: FutureWarning: The frame.append method is deprecated and will be removed from pandas in a future version. Use pandas.concat instead.\n",
      "  final = final.append(\n"
     ]
    },
    {
     "name": "stdout",
     "output_type": "stream",
     "text": [
      "Got error from yahoo api for ticker BF.A & BF.B, Error: {'code': 'Not Found', 'description': 'No data found, symbol may be delisted'}\n",
      "- BF.A & BF.B: No timezone found, symbol may be delisted\n",
      "BF.A & BF.B: No data found, symbol may be delisted\n",
      "BF.A & BF.B: No data found, symbol may be delisted\n",
      "BF.A & BF.B: No data found, symbol may be delisted\n",
      "BF.A & BF.B: No data found, symbol may be delisted\n",
      "Producing data for:  BWS\n",
      "BWS: 1d data not available for startTime=-2208994789 and endTime=1672122463. Only 100 years worth of day granularity data are allowed to be fetched per request.\n",
      "BWS: No data found for this date range, symbol may be delisted\n",
      "BWS: No data found for this date range, symbol may be delisted\n",
      "BWS: No data found for this date range, symbol may be delisted\n",
      "BWS: No data found for this date range, symbol may be delisted\n",
      "Producing data for:  BRT\n",
      "Date               2022-12-23 00:00:00-05:00\n",
      "Open                               19.639999\n",
      "High                                   19.85\n",
      "Low                                    19.42\n",
      "Close                              19.540001\n",
      "Volume                                 53100\n",
      "Dividends                                0.0\n",
      "Stock Splits                             0.0\n",
      "Ticker                                   BRT\n",
      "1y Price Return                    -0.095178\n",
      "6m Price Return                    -0.075385\n",
      "3m Price Return                    -0.041078\n",
      "1m Price Return                    -0.034526\n",
      "Price                              19.540001\n",
      "1y percentile                              0\n",
      "6m percentile                              0\n",
      "3m percentile                              0\n",
      "1m percentile                              0\n",
      "Name: 12522, dtype: object\n",
      "Producing data for:  BC\n"
     ]
    },
    {
     "name": "stderr",
     "output_type": "stream",
     "text": [
      "<ipython-input-3-e619353caa5d>:57: FutureWarning: The frame.append method is deprecated and will be removed from pandas in a future version. Use pandas.concat instead.\n",
      "  final = final.append(\n"
     ]
    },
    {
     "name": "stdout",
     "output_type": "stream",
     "text": [
      "Date               2022-12-23 00:00:00-05:00\n",
      "Open                               70.300003\n",
      "High                               71.550003\n",
      "Low                                69.870003\n",
      "Close                              71.440002\n",
      "Volume                                254100\n",
      "Dividends                                0.0\n",
      "Stock Splits                             0.0\n",
      "Ticker                                    BC\n",
      "1y Price Return                    -0.254027\n",
      "6m Price Return                     0.068074\n",
      "3m Price Return                     0.084752\n",
      "1m Price Return                     -0.02471\n",
      "Price                              71.440002\n",
      "1y percentile                              0\n",
      "6m percentile                              0\n",
      "3m percentile                              0\n",
      "1m percentile                              0\n",
      "Name: 10333, dtype: object\n",
      "Producing data for:  BT\n"
     ]
    },
    {
     "name": "stderr",
     "output_type": "stream",
     "text": [
      "<ipython-input-3-e619353caa5d>:57: FutureWarning: The frame.append method is deprecated and will be removed from pandas in a future version. Use pandas.concat instead.\n",
      "  final = final.append(\n"
     ]
    },
    {
     "name": "stdout",
     "output_type": "stream",
     "text": [
      "Got error from yahoo api for ticker BT, Error: {'code': 'Not Found', 'description': 'No data found, symbol may be delisted'}\n",
      "- BT: No timezone found, symbol may be delisted\n",
      "BT: No data found, symbol may be delisted\n",
      "BT: No data found, symbol may be delisted\n",
      "BT: No data found, symbol may be delisted\n",
      "BT: No data found, symbol may be delisted\n",
      "Producing data for:  BPL\n",
      "Got error from yahoo api for ticker BPL, Error: {'code': 'Not Found', 'description': 'No data found, symbol may be delisted'}\n",
      "- BPL: No timezone found, symbol may be delisted\n",
      "BPL: No data found, symbol may be delisted\n",
      "BPL: No data found, symbol may be delisted\n",
      "BPL: No data found, symbol may be delisted\n",
      "BPL: No data found, symbol may be delisted\n",
      "Producing data for:  BKE\n",
      "Date               2022-12-23 00:00:00-05:00\n",
      "Open                               44.139999\n",
      "High                                   45.23\n",
      "Low                                43.830002\n",
      "Close                                  45.23\n",
      "Volume                                309300\n",
      "Dividends                                0.0\n",
      "Stock Splits                             0.0\n",
      "Ticker                                   BKE\n",
      "1y Price Return                     0.115128\n",
      "6m Price Return                     0.540962\n",
      "3m Price Return                     0.447748\n",
      "1m Price Return                     0.027021\n",
      "Price                                  45.23\n",
      "1y percentile                              0\n",
      "6m percentile                              0\n",
      "3m percentile                              0\n",
      "1m percentile                              0\n",
      "Name: 7715, dtype: object\n",
      "Producing data for:  BBW\n"
     ]
    },
    {
     "name": "stderr",
     "output_type": "stream",
     "text": [
      "<ipython-input-3-e619353caa5d>:57: FutureWarning: The frame.append method is deprecated and will be removed from pandas in a future version. Use pandas.concat instead.\n",
      "  final = final.append(\n"
     ]
    },
    {
     "name": "stdout",
     "output_type": "stream",
     "text": [
      "Date               2022-12-23 00:00:00-05:00\n",
      "Open                                    22.9\n",
      "High                                   23.26\n",
      "Low                                    22.84\n",
      "Close                              23.219999\n",
      "Volume                                110000\n",
      "Dividends                                0.0\n",
      "Stock Splits                             0.0\n",
      "Ticker                                   BBW\n",
      "1y Price Return                     0.326099\n",
      "6m Price Return                     0.384615\n",
      "3m Price Return                     0.805599\n",
      "1m Price Return                     0.233139\n",
      "Price                              23.219999\n",
      "1y percentile                              0\n",
      "6m percentile                              0\n",
      "3m percentile                              0\n",
      "1m percentile                              0\n",
      "Name: 4571, dtype: object\n",
      "Producing data for:  BG\n"
     ]
    },
    {
     "name": "stderr",
     "output_type": "stream",
     "text": [
      "<ipython-input-3-e619353caa5d>:57: FutureWarning: The frame.append method is deprecated and will be removed from pandas in a future version. Use pandas.concat instead.\n",
      "  final = final.append(\n"
     ]
    },
    {
     "name": "stdout",
     "output_type": "stream",
     "text": [
      "Date               2022-12-23 00:00:00-05:00\n",
      "Open                               97.459999\n",
      "High                               99.110001\n",
      "Low                                97.199997\n",
      "Close                              98.959999\n",
      "Volume                                459700\n",
      "Dividends                                0.0\n",
      "Stock Splits                             0.0\n",
      "Ticker                                    BG\n",
      "1y Price Return                     0.111271\n",
      "6m Price Return                     0.133746\n",
      "3m Price Return                     0.215651\n",
      "1m Price Return                    -0.027707\n",
      "Price                              98.959999\n",
      "1y percentile                              0\n",
      "6m percentile                              0\n",
      "3m percentile                              0\n",
      "1m percentile                              0\n",
      "Name: 5383, dtype: object\n",
      "Producing data for:  BURL\n"
     ]
    },
    {
     "name": "stderr",
     "output_type": "stream",
     "text": [
      "<ipython-input-3-e619353caa5d>:57: FutureWarning: The frame.append method is deprecated and will be removed from pandas in a future version. Use pandas.concat instead.\n",
      "  final = final.append(\n"
     ]
    },
    {
     "name": "stdout",
     "output_type": "stream",
     "text": [
      "Date               2022-12-23 00:00:00-05:00\n",
      "Open                              193.350006\n",
      "High                              200.389999\n",
      "Low                               192.520004\n",
      "Close                             200.339996\n",
      "Volume                                766400\n",
      "Dividends                                0.0\n",
      "Stock Splits                             0.0\n",
      "Ticker                                  BURL\n",
      "1y Price Return                    -0.307357\n",
      "6m Price Return                     0.252282\n",
      "3m Price Return                     0.745882\n",
      "1m Price Return                     0.019023\n",
      "Price                             200.339996\n",
      "1y percentile                              0\n",
      "6m percentile                              0\n",
      "3m percentile                              0\n",
      "1m percentile                              0\n",
      "Name: 2324, dtype: object\n",
      "Producing data for:  BCR\n"
     ]
    },
    {
     "name": "stderr",
     "output_type": "stream",
     "text": [
      "<ipython-input-3-e619353caa5d>:57: FutureWarning: The frame.append method is deprecated and will be removed from pandas in a future version. Use pandas.concat instead.\n",
      "  final = final.append(\n"
     ]
    },
    {
     "name": "stdout",
     "output_type": "stream",
     "text": [
      "BCR: 1d data not available for startTime=-2208994789 and endTime=1672122495. Only 100 years worth of day granularity data are allowed to be fetched per request.\n",
      "BCR: No data found for this date range, symbol may be delisted\n",
      "BCR: No data found for this date range, symbol may be delisted\n",
      "BCR: No data found for this date range, symbol may be delisted\n",
      "BCR: No data found for this date range, symbol may be delisted\n",
      "Producing data for:  PFH\n",
      "Date               2022-12-23 00:00:00-05:00\n",
      "Open                               19.129999\n",
      "High                                   19.26\n",
      "Low                                   19.003\n",
      "Close                              19.059999\n",
      "Volume                                 30300\n",
      "Dividends                                0.0\n",
      "Stock Splits                             0.0\n",
      "Ticker                                   PFH\n",
      "1y Price Return                    -0.228418\n",
      "6m Price Return                    -0.036395\n",
      "3m Price Return                    -0.006816\n",
      "1m Price Return                    -0.031012\n",
      "Price                              19.059999\n",
      "1y percentile                              0\n",
      "6m percentile                              0\n",
      "3m percentile                              0\n",
      "1m percentile                              0\n",
      "Name: 582, dtype: object\n",
      "Producing data for:  CAB\n"
     ]
    },
    {
     "name": "stderr",
     "output_type": "stream",
     "text": [
      "<ipython-input-3-e619353caa5d>:57: FutureWarning: The frame.append method is deprecated and will be removed from pandas in a future version. Use pandas.concat instead.\n",
      "  final = final.append(\n"
     ]
    },
    {
     "name": "stdout",
     "output_type": "stream",
     "text": [
      "CAB: No data found for this date range, symbol may be delisted\n",
      "CAB: No data found for this date range, symbol may be delisted\n",
      "CAB: No data found for this date range, symbol may be delisted\n",
      "CAB: No data found for this date range, symbol may be delisted\n",
      "Producing data for:  CBT\n",
      "Date               2022-12-23 00:00:00-05:00\n",
      "Open                               66.540001\n",
      "High                               67.419998\n",
      "Low                                     66.5\n",
      "Close                                  67.25\n",
      "Volume                                163300\n",
      "Dividends                                0.0\n",
      "Stock Splits                             0.0\n",
      "Ticker                                   CBT\n",
      "1y Price Return                     0.235332\n",
      "6m Price Return                     0.042753\n",
      "3m Price Return                      0.03506\n",
      "1m Price Return                    -0.098163\n",
      "Price                                  67.25\n",
      "1y percentile                              0\n",
      "6m percentile                              0\n",
      "3m percentile                              0\n",
      "1m percentile                              0\n",
      "Name: 10624, dtype: object\n",
      "Producing data for:  CTRA\n"
     ]
    },
    {
     "name": "stderr",
     "output_type": "stream",
     "text": [
      "<ipython-input-3-e619353caa5d>:57: FutureWarning: The frame.append method is deprecated and will be removed from pandas in a future version. Use pandas.concat instead.\n",
      "  final = final.append(\n"
     ]
    },
    {
     "name": "stdout",
     "output_type": "stream",
     "text": [
      "Date               2022-12-23 00:00:00-05:00\n",
      "Open                               24.709999\n",
      "High                               25.219999\n",
      "Low                                24.530001\n",
      "Close                              25.200001\n",
      "Volume                               6794400\n",
      "Dividends                                0.0\n",
      "Stock Splits                             0.0\n",
      "Ticker                                  CTRA\n",
      "1y Price Return                     0.384297\n",
      "6m Price Return                      0.00226\n",
      "3m Price Return                     0.019916\n",
      "1m Price Return                    -0.087287\n",
      "Price                              25.200001\n",
      "1y percentile                              0\n",
      "6m percentile                              0\n",
      "3m percentile                              0\n",
      "1m percentile                              0\n",
      "Name: 8283, dtype: object\n",
      "Producing data for:  CACI\n"
     ]
    },
    {
     "name": "stderr",
     "output_type": "stream",
     "text": [
      "<ipython-input-3-e619353caa5d>:57: FutureWarning: The frame.append method is deprecated and will be removed from pandas in a future version. Use pandas.concat instead.\n",
      "  final = final.append(\n"
     ]
    },
    {
     "name": "stdout",
     "output_type": "stream",
     "text": [
      "Date               2022-12-23 00:00:00-05:00\n",
      "Open                              299.519989\n",
      "High                              302.269989\n",
      "Low                               298.149994\n",
      "Close                             299.279999\n",
      "Volume                                 93100\n",
      "Dividends                                0.0\n",
      "Stock Splits                             0.0\n",
      "Ticker                                  CACI\n",
      "1y Price Return                     0.122918\n",
      "6m Price Return                      0.07977\n",
      "3m Price Return                     0.112772\n",
      "1m Price Return                    -0.037932\n",
      "Price                             299.279999\n",
      "1y percentile                              0\n",
      "6m percentile                              0\n",
      "3m percentile                              0\n",
      "1m percentile                              0\n",
      "Name: 10786, dtype: object\n",
      "Producing data for:  CAE\n"
     ]
    },
    {
     "name": "stderr",
     "output_type": "stream",
     "text": [
      "<ipython-input-3-e619353caa5d>:57: FutureWarning: The frame.append method is deprecated and will be removed from pandas in a future version. Use pandas.concat instead.\n",
      "  final = final.append(\n"
     ]
    },
    {
     "name": "stdout",
     "output_type": "stream",
     "text": [
      "Date               2022-12-23 00:00:00-05:00\n",
      "Open                                    19.1\n",
      "High                                   19.15\n",
      "Low                                     18.9\n",
      "Close                                   19.1\n",
      "Volume                                115000\n",
      "Dividends                                0.0\n",
      "Stock Splits                             0.0\n",
      "Ticker                                   CAE\n",
      "1y Price Return                    -0.243864\n",
      "6m Price Return                    -0.234469\n",
      "3m Price Return                     0.232258\n",
      "1m Price Return                    -0.120626\n",
      "Price                                   19.1\n",
      "1y percentile                              0\n",
      "6m percentile                              0\n",
      "3m percentile                              0\n",
      "1m percentile                              0\n",
      "Name: 5139, dtype: object\n",
      "Producing data for:  CAP\n"
     ]
    },
    {
     "name": "stderr",
     "output_type": "stream",
     "text": [
      "<ipython-input-3-e619353caa5d>:57: FutureWarning: The frame.append method is deprecated and will be removed from pandas in a future version. Use pandas.concat instead.\n",
      "  final = final.append(\n"
     ]
    },
    {
     "name": "stdout",
     "output_type": "stream",
     "text": [
      "Got error from yahoo api for ticker CAP, Error: {'code': 'Not Found', 'description': 'No data found, symbol may be delisted'}\n",
      "- CAP: No timezone found, symbol may be delisted\n",
      "CAP: No data found, symbol may be delisted\n",
      "CAP: No data found, symbol may be delisted\n",
      "CAP: No data found, symbol may be delisted\n",
      "CAP: No data found, symbol may be delisted\n",
      "Producing data for:  DVR\n",
      "DVR: No data found for this date range, symbol may be delisted\n",
      "DVR: No data found for this date range, symbol may be delisted\n",
      "DVR: No data found for this date range, symbol may be delisted\n",
      "DVR: No data found for this date range, symbol may be delisted\n",
      "DVR: No data found for this date range, symbol may be delisted\n",
      "Producing data for:  CCC\n",
      "Got error from yahoo api for ticker CCC, Error: {'code': 'Not Found', 'description': 'No data found, symbol may be delisted'}\n",
      "- CCC: No timezone found, symbol may be delisted\n",
      "CCC: No data found, symbol may be delisted\n",
      "CCC: No data found, symbol may be delisted\n",
      "CCC: No data found, symbol may be delisted\n",
      "CCC: No data found, symbol may be delisted\n",
      "Producing data for:  CWT\n",
      "Date               2022-12-23 00:00:00-05:00\n",
      "Open                               60.900002\n",
      "High                               61.830002\n",
      "Low                                    60.73\n",
      "Close                              61.779999\n",
      "Volume                                157800\n",
      "Dividends                                0.0\n",
      "Stock Splits                             0.0\n",
      "Ticker                                   CWT\n",
      "1y Price Return                    -0.102161\n",
      "6m Price Return                     0.156022\n",
      "3m Price Return                     0.115901\n",
      "1m Price Return                    -0.057226\n",
      "Price                              61.779999\n",
      "1y percentile                              0\n",
      "6m percentile                              0\n",
      "3m percentile                              0\n",
      "1m percentile                              0\n",
      "Name: 12572, dtype: object\n",
      "Producing data for:  CALX\n"
     ]
    },
    {
     "name": "stderr",
     "output_type": "stream",
     "text": [
      "<ipython-input-3-e619353caa5d>:57: FutureWarning: The frame.append method is deprecated and will be removed from pandas in a future version. Use pandas.concat instead.\n",
      "  final = final.append(\n"
     ]
    },
    {
     "name": "stdout",
     "output_type": "stream",
     "text": [
      "Date               2022-12-23 00:00:00-05:00\n",
      "Open                               67.099998\n",
      "High                               67.959999\n",
      "Low                                66.050003\n",
      "Close                              67.470001\n",
      "Volume                                196100\n",
      "Dividends                                0.0\n",
      "Stock Splits                             0.0\n",
      "Ticker                                  CALX\n",
      "1y Price Return                    -0.036143\n",
      "6m Price Return                     0.866907\n",
      "3m Price Return                       0.1841\n",
      "1m Price Return                    -0.013596\n",
      "Price                              67.470001\n",
      "1y percentile                              0\n",
      "6m percentile                              0\n",
      "3m percentile                              0\n",
      "1m percentile                              0\n",
      "Name: 3212, dtype: object\n",
      "Producing data for:  ELY\n"
     ]
    },
    {
     "name": "stderr",
     "output_type": "stream",
     "text": [
      "<ipython-input-3-e619353caa5d>:57: FutureWarning: The frame.append method is deprecated and will be removed from pandas in a future version. Use pandas.concat instead.\n",
      "  final = final.append(\n"
     ]
    },
    {
     "name": "stdout",
     "output_type": "stream",
     "text": [
      "Got error from yahoo api for ticker ELY, Error: {'code': 'Not Found', 'description': 'No data found, symbol may be delisted'}\n",
      "- ELY: No timezone found, symbol may be delisted\n",
      "ELY: No data found, symbol may be delisted\n",
      "ELY: No data found, symbol may be delisted\n",
      "ELY: No data found, symbol may be delisted\n",
      "ELY: No data found, symbol may be delisted\n",
      "Producing data for:  CPE\n"
     ]
    }
   ],
   "source": [
    "final = pd.DataFrame(columns=[\n",
    "                            'Ticker',\n",
    "                            'Price',\n",
    "                            '1y Price Return',\n",
    "                            '1y percentile', \n",
    "                            '6m Price Return', \n",
    "                            '6m percentile', \n",
    "                            '3m Price Return', \n",
    "                            '3m percentile',\n",
    "                            '1m Price Return', \n",
    "                            '1m percentile'\n",
    "                            ])\n",
    "for i in range(len(tick[\"0\"])):\n",
    "    print(\"Producing data for: \", tick[\"0\"][i])\n",
    "    try:\n",
    "        d = yf.Ticker(tick[\"0\"][i]).history(period='max')\n",
    "        y = yf.Ticker(tick[\"0\"][i]).history(period='1y')\n",
    "        m6 = yf.Ticker(tick[\"0\"][i]).history(period='6mo')\n",
    "        m3 = yf.Ticker(tick[\"0\"][i]).history(period='3mo')\n",
    "        m1 = yf.Ticker(tick[\"0\"][i]).history(period='1mo')\n",
    "    except IndexError: \n",
    "        print(\"Couldn't find: \",tick[\"0\"][i])\n",
    "        continue\n",
    "    except KeyError:\n",
    "        continue\n",
    "    \n",
    "    d.reset_index(inplace=True)\n",
    "    y.reset_index(inplace=True)\n",
    "    m6.reset_index(inplace=True)\n",
    "    m3.reset_index(inplace=True)\n",
    "    m1.reset_index(inplace=True)\n",
    "\n",
    "    d['Ticker'] = tick['0'][i]    \n",
    "    try: \n",
    "        perc_change1y = ((y.iloc[-1]['Close'] - y.iloc[0]['Close'])/y.iloc[0][\"Close\"])\n",
    "        d['1y Price Return'] = perc_change1y\n",
    "        perc_change6m = ((m6.iloc[-1]['Close'] - m6.iloc[0]['Close'])/m6.iloc[0][\"Close\"])\n",
    "        d['6m Price Return'] = perc_change6m\n",
    "        perc_change3m = ((m3.iloc[-1]['Close'] - m3.iloc[0]['Close'])/m3.iloc[0][\"Close\"])\n",
    "        d['3m Price Return'] = perc_change3m\n",
    "        perc_change1m = ((m1.iloc[-1]['Close'] - m1.iloc[0]['Close'])/m1.iloc[0][\"Close\"])\n",
    "        d['1m Price Return'] = perc_change1m\n",
    "\n",
    "        d['Price'] = d['Close'] \n",
    "        d['1y percentile'] = 0\n",
    "        d['6m percentile'] = 0\n",
    "        d['3m percentile'] = 0\n",
    "        d['1m percentile'] = 0\n",
    "        d = d.iloc[-1]\n",
    "    except IndexError: \n",
    "        continue\n",
    "    print(d)\n",
    "\n",
    "    #Change to keep only last 2 days!!! get date\n",
    "    \n",
    "    #Append latest value\n",
    "    final = final.append(\n",
    "        pd.Series(d,\n",
    "        index=['Ticker',\n",
    "                            'Price',\n",
    "                            '1y Price Return',\n",
    "                            '1y percentile', \n",
    "                            '6m Price Return', \n",
    "                            '6m percentile', \n",
    "                            '3m Price Return', \n",
    "                            '3m percentile',\n",
    "                            '1m Price Return', \n",
    "                            '1m percentile']), \n",
    "        ignore_index = True\n",
    "    )  "
   ]
  },
  {
   "cell_type": "code",
   "execution_count": null,
   "metadata": {},
   "outputs": [],
   "source": [
    "final.to_csv(\"momentum_advanced_sheet\")"
   ]
  }
 ],
 "metadata": {
  "interpreter": {
   "hash": "f36662cf0d2dc2d22e7ce50b6b2dd5771b8ab03597c45c6e0e62ff4a448306d1"
  },
  "kernelspec": {
   "display_name": "Python 3.8.5 64-bit",
   "language": "python",
   "name": "python3"
  },
  "language_info": {
   "codemirror_mode": {
    "name": "ipython",
    "version": 3
   },
   "file_extension": ".py",
   "mimetype": "text/x-python",
   "name": "python",
   "nbconvert_exporter": "python",
   "pygments_lexer": "ipython3",
   "version": "3.8.5"
  },
  "orig_nbformat": 4
 },
 "nbformat": 4,
 "nbformat_minor": 2
}
