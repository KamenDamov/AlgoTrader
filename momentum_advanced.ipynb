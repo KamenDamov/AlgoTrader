{
 "cells": [
  {
   "cell_type": "code",
   "execution_count": 1,
   "metadata": {},
   "outputs": [
    {
     "name": "stdout",
     "output_type": "stream",
     "text": [
      "Producing data for:  AAPL\n"
     ]
    },
    {
     "name": "stderr",
     "output_type": "stream",
     "text": [
      "<ipython-input-1-d5b62f59ed62>:47: FutureWarning: Indexing a timezone-aware DatetimeIndex with a timezone-naive datetime is deprecated and will raise KeyError in a future version. Use a timezone-aware object instead.\n",
      "  y = max.truncate(before=pd.Timestamp('today') - pd.DateOffset(months=12))\n",
      "<ipython-input-1-d5b62f59ed62>:48: FutureWarning: Indexing a timezone-aware DatetimeIndex with a timezone-naive datetime is deprecated and will raise KeyError in a future version. Use a timezone-aware object instead.\n",
      "  m6 = max.truncate(before=pd.Timestamp('today') - pd.DateOffset(months=6))\n",
      "<ipython-input-1-d5b62f59ed62>:49: FutureWarning: Indexing a timezone-aware DatetimeIndex with a timezone-naive datetime is deprecated and will raise KeyError in a future version. Use a timezone-aware object instead.\n",
      "  m3 = max.truncate(before=pd.Timestamp('today') - pd.DateOffset(months=3))\n",
      "<ipython-input-1-d5b62f59ed62>:50: FutureWarning: Indexing a timezone-aware DatetimeIndex with a timezone-naive datetime is deprecated and will raise KeyError in a future version. Use a timezone-aware object instead.\n",
      "  m1 = max.truncate(before=pd.Timestamp('today') - pd.DateOffset(months=1))\n"
     ]
    },
    {
     "name": "stdout",
     "output_type": "stream",
     "text": [
      "0.19374906382831417\n",
      "0.28411129693335657\n",
      "0.3829721611658028\n",
      "0.4381515787942888\n",
      "0.4965638509727813\n",
      "Producing data for:  TSLA\n"
     ]
    },
    {
     "name": "stderr",
     "output_type": "stream",
     "text": [
      "<ipython-input-1-d5b62f59ed62>:103: FutureWarning: The frame.append method is deprecated and will be removed from pandas in a future version. Use pandas.concat instead.\n",
      "  final = final.append(\n",
      "<ipython-input-1-d5b62f59ed62>:47: FutureWarning: Indexing a timezone-aware DatetimeIndex with a timezone-naive datetime is deprecated and will raise KeyError in a future version. Use a timezone-aware object instead.\n",
      "  y = max.truncate(before=pd.Timestamp('today') - pd.DateOffset(months=12))\n",
      "<ipython-input-1-d5b62f59ed62>:48: FutureWarning: Indexing a timezone-aware DatetimeIndex with a timezone-naive datetime is deprecated and will raise KeyError in a future version. Use a timezone-aware object instead.\n",
      "  m6 = max.truncate(before=pd.Timestamp('today') - pd.DateOffset(months=6))\n",
      "<ipython-input-1-d5b62f59ed62>:49: FutureWarning: Indexing a timezone-aware DatetimeIndex with a timezone-naive datetime is deprecated and will raise KeyError in a future version. Use a timezone-aware object instead.\n",
      "  m3 = max.truncate(before=pd.Timestamp('today') - pd.DateOffset(months=3))\n",
      "<ipython-input-1-d5b62f59ed62>:50: FutureWarning: Indexing a timezone-aware DatetimeIndex with a timezone-naive datetime is deprecated and will raise KeyError in a future version. Use a timezone-aware object instead.\n",
      "  m1 = max.truncate(before=pd.Timestamp('today') - pd.DateOffset(months=1))\n"
     ]
    },
    {
     "name": "stdout",
     "output_type": "stream",
     "text": [
      "0.2098941993072032\n",
      "0.3029359694688357\n",
      "0.3911055984384126\n",
      "0.43738136079578205\n",
      "0.48139083353221335\n",
      "Producing data for: "
     ]
    },
    {
     "name": "stderr",
     "output_type": "stream",
     "text": [
      "<ipython-input-1-d5b62f59ed62>:103: FutureWarning: The frame.append method is deprecated and will be removed from pandas in a future version. Use pandas.concat instead.\n",
      "  final = final.append(\n",
      "<ipython-input-1-d5b62f59ed62>:47: FutureWarning: Indexing a timezone-aware DatetimeIndex with a timezone-naive datetime is deprecated and will raise KeyError in a future version. Use a timezone-aware object instead.\n",
      "  y = max.truncate(before=pd.Timestamp('today') - pd.DateOffset(months=12))\n",
      "<ipython-input-1-d5b62f59ed62>:48: FutureWarning: Indexing a timezone-aware DatetimeIndex with a timezone-naive datetime is deprecated and will raise KeyError in a future version. Use a timezone-aware object instead.\n",
      "  m6 = max.truncate(before=pd.Timestamp('today') - pd.DateOffset(months=6))\n",
      "<ipython-input-1-d5b62f59ed62>:49: FutureWarning: Indexing a timezone-aware DatetimeIndex with a timezone-naive datetime is deprecated and will raise KeyError in a future version. Use a timezone-aware object instead.\n",
      "  m3 = max.truncate(before=pd.Timestamp('today') - pd.DateOffset(months=3))\n",
      "<ipython-input-1-d5b62f59ed62>:50: FutureWarning: Indexing a timezone-aware DatetimeIndex with a timezone-naive datetime is deprecated and will raise KeyError in a future version. Use a timezone-aware object instead.\n",
      "  m1 = max.truncate(before=pd.Timestamp('today') - pd.DateOffset(months=1))\n",
      "C:\\Users\\Kamen\\AppData\\Local\\Programs\\Python\\Python38\\lib\\site-packages\\numpy\\core\\_methods.py:262: RuntimeWarning: Degrees of freedom <= 0 for slice\n",
      "  ret = _var(a, axis=axis, dtype=dtype, out=out, ddof=ddof,\n",
      "C:\\Users\\Kamen\\AppData\\Local\\Programs\\Python\\Python38\\lib\\site-packages\\numpy\\core\\_methods.py:222: RuntimeWarning: invalid value encountered in true_divide\n",
      "  arrmean = um.true_divide(arrmean, div, out=arrmean, casting='unsafe',\n",
      "C:\\Users\\Kamen\\AppData\\Local\\Programs\\Python\\Python38\\lib\\site-packages\\numpy\\core\\_methods.py:254: RuntimeWarning: invalid value encountered in double_scalars\n",
      "  ret = ret.dtype.type(ret / rcount)\n",
      "<ipython-input-1-d5b62f59ed62>:38: RuntimeWarning: divide by zero encountered in log\n",
      "  reg = np.polyfit(np.log(lags), np.log(tau), 1)\n"
     ]
    },
    {
     "name": "stdout",
     "output_type": "stream",
     "text": [
      " AAC\n",
      "0.10081902277872973\n",
      "0.18030589488353121\n",
      "0.2496813121682332\n",
      "nan\n",
      "nan\n",
      "Producing data for:  AIR\n"
     ]
    },
    {
     "name": "stderr",
     "output_type": "stream",
     "text": [
      "<ipython-input-1-d5b62f59ed62>:103: FutureWarning: The frame.append method is deprecated and will be removed from pandas in a future version. Use pandas.concat instead.\n",
      "  final = final.append(\n",
      "<ipython-input-1-d5b62f59ed62>:47: FutureWarning: Indexing a timezone-aware DatetimeIndex with a timezone-naive datetime is deprecated and will raise KeyError in a future version. Use a timezone-aware object instead.\n",
      "  y = max.truncate(before=pd.Timestamp('today') - pd.DateOffset(months=12))\n",
      "<ipython-input-1-d5b62f59ed62>:48: FutureWarning: Indexing a timezone-aware DatetimeIndex with a timezone-naive datetime is deprecated and will raise KeyError in a future version. Use a timezone-aware object instead.\n",
      "  m6 = max.truncate(before=pd.Timestamp('today') - pd.DateOffset(months=6))\n",
      "<ipython-input-1-d5b62f59ed62>:49: FutureWarning: Indexing a timezone-aware DatetimeIndex with a timezone-naive datetime is deprecated and will raise KeyError in a future version. Use a timezone-aware object instead.\n",
      "  m3 = max.truncate(before=pd.Timestamp('today') - pd.DateOffset(months=3))\n",
      "<ipython-input-1-d5b62f59ed62>:50: FutureWarning: Indexing a timezone-aware DatetimeIndex with a timezone-naive datetime is deprecated and will raise KeyError in a future version. Use a timezone-aware object instead.\n",
      "  m1 = max.truncate(before=pd.Timestamp('today') - pd.DateOffset(months=1))\n"
     ]
    },
    {
     "name": "stdout",
     "output_type": "stream",
     "text": [
      "0.20610317993720134\n",
      "0.30541658941738714\n",
      "0.3922784369897221\n",
      "0.43227082568006187\n",
      "0.4647238000287539\n",
      "Producing data for:  AAN\n"
     ]
    },
    {
     "name": "stderr",
     "output_type": "stream",
     "text": [
      "<ipython-input-1-d5b62f59ed62>:103: FutureWarning: The frame.append method is deprecated and will be removed from pandas in a future version. Use pandas.concat instead.\n",
      "  final = final.append(\n",
      "<ipython-input-1-d5b62f59ed62>:47: FutureWarning: Indexing a timezone-aware DatetimeIndex with a timezone-naive datetime is deprecated and will raise KeyError in a future version. Use a timezone-aware object instead.\n",
      "  y = max.truncate(before=pd.Timestamp('today') - pd.DateOffset(months=12))\n",
      "<ipython-input-1-d5b62f59ed62>:48: FutureWarning: Indexing a timezone-aware DatetimeIndex with a timezone-naive datetime is deprecated and will raise KeyError in a future version. Use a timezone-aware object instead.\n",
      "  m6 = max.truncate(before=pd.Timestamp('today') - pd.DateOffset(months=6))\n",
      "<ipython-input-1-d5b62f59ed62>:49: FutureWarning: Indexing a timezone-aware DatetimeIndex with a timezone-naive datetime is deprecated and will raise KeyError in a future version. Use a timezone-aware object instead.\n",
      "  m3 = max.truncate(before=pd.Timestamp('today') - pd.DateOffset(months=3))\n",
      "<ipython-input-1-d5b62f59ed62>:50: FutureWarning: Indexing a timezone-aware DatetimeIndex with a timezone-naive datetime is deprecated and will raise KeyError in a future version. Use a timezone-aware object instead.\n",
      "  m1 = max.truncate(before=pd.Timestamp('today') - pd.DateOffset(months=1))\n",
      "C:\\Users\\Kamen\\AppData\\Local\\Programs\\Python\\Python38\\lib\\site-packages\\numpy\\core\\_methods.py:262: RuntimeWarning: Degrees of freedom <= 0 for slice\n",
      "  ret = _var(a, axis=axis, dtype=dtype, out=out, ddof=ddof,\n",
      "C:\\Users\\Kamen\\AppData\\Local\\Programs\\Python\\Python38\\lib\\site-packages\\numpy\\core\\_methods.py:222: RuntimeWarning: invalid value encountered in true_divide\n",
      "  arrmean = um.true_divide(arrmean, div, out=arrmean, casting='unsafe',\n",
      "C:\\Users\\Kamen\\AppData\\Local\\Programs\\Python\\Python38\\lib\\site-packages\\numpy\\core\\_methods.py:254: RuntimeWarning: invalid value encountered in double_scalars\n",
      "  ret = ret.dtype.type(ret / rcount)\n",
      "<ipython-input-1-d5b62f59ed62>:38: RuntimeWarning: divide by zero encountered in log\n",
      "  reg = np.polyfit(np.log(lags), np.log(tau), 1)\n",
      "<ipython-input-1-d5b62f59ed62>:103: FutureWarning: The frame.append method is deprecated and will be removed from pandas in a future version. Use pandas.concat instead.\n",
      "  final = final.append(\n"
     ]
    },
    {
     "name": "stdout",
     "output_type": "stream",
     "text": [
      "0.15934434762048635\n",
      "0.26276594490496896\n",
      "0.34122018847842384\n",
      "0.3510450460525795\n",
      "nan\n",
      "Producing data for:  ABB\n"
     ]
    },
    {
     "name": "stderr",
     "output_type": "stream",
     "text": [
      "<ipython-input-1-d5b62f59ed62>:47: FutureWarning: Indexing a timezone-aware DatetimeIndex with a timezone-naive datetime is deprecated and will raise KeyError in a future version. Use a timezone-aware object instead.\n",
      "  y = max.truncate(before=pd.Timestamp('today') - pd.DateOffset(months=12))\n",
      "<ipython-input-1-d5b62f59ed62>:48: FutureWarning: Indexing a timezone-aware DatetimeIndex with a timezone-naive datetime is deprecated and will raise KeyError in a future version. Use a timezone-aware object instead.\n",
      "  m6 = max.truncate(before=pd.Timestamp('today') - pd.DateOffset(months=6))\n",
      "<ipython-input-1-d5b62f59ed62>:49: FutureWarning: Indexing a timezone-aware DatetimeIndex with a timezone-naive datetime is deprecated and will raise KeyError in a future version. Use a timezone-aware object instead.\n",
      "  m3 = max.truncate(before=pd.Timestamp('today') - pd.DateOffset(months=3))\n",
      "<ipython-input-1-d5b62f59ed62>:50: FutureWarning: Indexing a timezone-aware DatetimeIndex with a timezone-naive datetime is deprecated and will raise KeyError in a future version. Use a timezone-aware object instead.\n",
      "  m1 = max.truncate(before=pd.Timestamp('today') - pd.DateOffset(months=1))\n"
     ]
    },
    {
     "name": "stdout",
     "output_type": "stream",
     "text": [
      "0.19915828026420762\n",
      "0.2991280123902327\n",
      "0.39687044699135865\n",
      "0.4432373360928211\n",
      "0.47586850088443083"
     ]
    },
    {
     "name": "stderr",
     "output_type": "stream",
     "text": [
      "<ipython-input-1-d5b62f59ed62>:103: FutureWarning: The frame.append method is deprecated and will be removed from pandas in a future version. Use pandas.concat instead.\n",
      "  final = final.append(\n",
      "<ipython-input-1-d5b62f59ed62>:47: FutureWarning: Indexing a timezone-aware DatetimeIndex with a timezone-naive datetime is deprecated and will raise KeyError in a future version. Use a timezone-aware object instead.\n",
      "  y = max.truncate(before=pd.Timestamp('today') - pd.DateOffset(months=12))\n",
      "<ipython-input-1-d5b62f59ed62>:48: FutureWarning: Indexing a timezone-aware DatetimeIndex with a timezone-naive datetime is deprecated and will raise KeyError in a future version. Use a timezone-aware object instead.\n",
      "  m6 = max.truncate(before=pd.Timestamp('today') - pd.DateOffset(months=6))\n",
      "<ipython-input-1-d5b62f59ed62>:49: FutureWarning: Indexing a timezone-aware DatetimeIndex with a timezone-naive datetime is deprecated and will raise KeyError in a future version. Use a timezone-aware object instead.\n",
      "  m3 = max.truncate(before=pd.Timestamp('today') - pd.DateOffset(months=3))\n",
      "<ipython-input-1-d5b62f59ed62>:50: FutureWarning: Indexing a timezone-aware DatetimeIndex with a timezone-naive datetime is deprecated and will raise KeyError in a future version. Use a timezone-aware object instead.\n",
      "  m1 = max.truncate(before=pd.Timestamp('today') - pd.DateOffset(months=1))\n"
     ]
    },
    {
     "name": "stdout",
     "output_type": "stream",
     "text": [
      "\n",
      "Producing data for:  ABT\n",
      "0.17889151054778576\n",
      "0.2557631920971123\n",
      "0.34915305292045945\n",
      "0.3998328932544948\n",
      "0.45605028741356207\n",
      "Producing data for:  ABBV\n"
     ]
    },
    {
     "name": "stderr",
     "output_type": "stream",
     "text": [
      "<ipython-input-1-d5b62f59ed62>:103: FutureWarning: The frame.append method is deprecated and will be removed from pandas in a future version. Use pandas.concat instead.\n",
      "  final = final.append(\n",
      "<ipython-input-1-d5b62f59ed62>:47: FutureWarning: Indexing a timezone-aware DatetimeIndex with a timezone-naive datetime is deprecated and will raise KeyError in a future version. Use a timezone-aware object instead.\n",
      "  y = max.truncate(before=pd.Timestamp('today') - pd.DateOffset(months=12))\n",
      "<ipython-input-1-d5b62f59ed62>:48: FutureWarning: Indexing a timezone-aware DatetimeIndex with a timezone-naive datetime is deprecated and will raise KeyError in a future version. Use a timezone-aware object instead.\n",
      "  m6 = max.truncate(before=pd.Timestamp('today') - pd.DateOffset(months=6))\n",
      "<ipython-input-1-d5b62f59ed62>:49: FutureWarning: Indexing a timezone-aware DatetimeIndex with a timezone-naive datetime is deprecated and will raise KeyError in a future version. Use a timezone-aware object instead.\n",
      "  m3 = max.truncate(before=pd.Timestamp('today') - pd.DateOffset(months=3))\n",
      "<ipython-input-1-d5b62f59ed62>:50: FutureWarning: Indexing a timezone-aware DatetimeIndex with a timezone-naive datetime is deprecated and will raise KeyError in a future version. Use a timezone-aware object instead.\n",
      "  m1 = max.truncate(before=pd.Timestamp('today') - pd.DateOffset(months=1))\n"
     ]
    },
    {
     "name": "stdout",
     "output_type": "stream",
     "text": [
      "0.19282518882584843\n",
      "0.2863258882349863\n",
      "0.37236316359547394\n",
      "0.41569348622831365\n",
      "0.4496256436560091\n",
      "Producing data for:  ANF\n"
     ]
    },
    {
     "name": "stderr",
     "output_type": "stream",
     "text": [
      "<ipython-input-1-d5b62f59ed62>:103: FutureWarning: The frame.append method is deprecated and will be removed from pandas in a future version. Use pandas.concat instead.\n",
      "  final = final.append(\n",
      "<ipython-input-1-d5b62f59ed62>:47: FutureWarning: Indexing a timezone-aware DatetimeIndex with a timezone-naive datetime is deprecated and will raise KeyError in a future version. Use a timezone-aware object instead.\n",
      "  y = max.truncate(before=pd.Timestamp('today') - pd.DateOffset(months=12))\n",
      "<ipython-input-1-d5b62f59ed62>:48: FutureWarning: Indexing a timezone-aware DatetimeIndex with a timezone-naive datetime is deprecated and will raise KeyError in a future version. Use a timezone-aware object instead.\n",
      "  m6 = max.truncate(before=pd.Timestamp('today') - pd.DateOffset(months=6))\n",
      "<ipython-input-1-d5b62f59ed62>:49: FutureWarning: Indexing a timezone-aware DatetimeIndex with a timezone-naive datetime is deprecated and will raise KeyError in a future version. Use a timezone-aware object instead.\n",
      "  m3 = max.truncate(before=pd.Timestamp('today') - pd.DateOffset(months=3))\n",
      "<ipython-input-1-d5b62f59ed62>:50: FutureWarning: Indexing a timezone-aware DatetimeIndex with a timezone-naive datetime is deprecated and will raise KeyError in a future version. Use a timezone-aware object instead.\n",
      "  m1 = max.truncate(before=pd.Timestamp('today') - pd.DateOffset(months=1))\n",
      "<ipython-input-1-d5b62f59ed62>:103: FutureWarning: The frame.append method is deprecated and will be removed from pandas in a future version. Use pandas.concat instead.\n",
      "  final = final.append(\n"
     ]
    },
    {
     "name": "stdout",
     "output_type": "stream",
     "text": [
      "0.20103410888325293\n",
      "0.30049058288042363\n",
      "0.40214001955062895\n",
      "0.44817685815950625\n",
      "0.4853796176755688\n",
      "Producing data for:  GCH\n"
     ]
    },
    {
     "name": "stderr",
     "output_type": "stream",
     "text": [
      "<ipython-input-1-d5b62f59ed62>:47: FutureWarning: Indexing a timezone-aware DatetimeIndex with a timezone-naive datetime is deprecated and will raise KeyError in a future version. Use a timezone-aware object instead.\n",
      "  y = max.truncate(before=pd.Timestamp('today') - pd.DateOffset(months=12))\n",
      "<ipython-input-1-d5b62f59ed62>:48: FutureWarning: Indexing a timezone-aware DatetimeIndex with a timezone-naive datetime is deprecated and will raise KeyError in a future version. Use a timezone-aware object instead.\n",
      "  m6 = max.truncate(before=pd.Timestamp('today') - pd.DateOffset(months=6))\n",
      "<ipython-input-1-d5b62f59ed62>:49: FutureWarning: Indexing a timezone-aware DatetimeIndex with a timezone-naive datetime is deprecated and will raise KeyError in a future version. Use a timezone-aware object instead.\n",
      "  m3 = max.truncate(before=pd.Timestamp('today') - pd.DateOffset(months=3))\n",
      "<ipython-input-1-d5b62f59ed62>:50: FutureWarning: Indexing a timezone-aware DatetimeIndex with a timezone-naive datetime is deprecated and will raise KeyError in a future version. Use a timezone-aware object instead.\n",
      "  m1 = max.truncate(before=pd.Timestamp('today') - pd.DateOffset(months=1))\n"
     ]
    },
    {
     "name": "stdout",
     "output_type": "stream",
     "text": [
      "Producing data for:  JEQ\n"
     ]
    },
    {
     "name": "stderr",
     "output_type": "stream",
     "text": [
      "<ipython-input-1-d5b62f59ed62>:47: FutureWarning: Indexing a timezone-aware DatetimeIndex with a timezone-naive datetime is deprecated and will raise KeyError in a future version. Use a timezone-aware object instead.\n",
      "  y = max.truncate(before=pd.Timestamp('today') - pd.DateOffset(months=12))\n",
      "<ipython-input-1-d5b62f59ed62>:48: FutureWarning: Indexing a timezone-aware DatetimeIndex with a timezone-naive datetime is deprecated and will raise KeyError in a future version. Use a timezone-aware object instead.\n",
      "  m6 = max.truncate(before=pd.Timestamp('today') - pd.DateOffset(months=6))\n",
      "<ipython-input-1-d5b62f59ed62>:49: FutureWarning: Indexing a timezone-aware DatetimeIndex with a timezone-naive datetime is deprecated and will raise KeyError in a future version. Use a timezone-aware object instead.\n",
      "  m3 = max.truncate(before=pd.Timestamp('today') - pd.DateOffset(months=3))\n",
      "<ipython-input-1-d5b62f59ed62>:50: FutureWarning: Indexing a timezone-aware DatetimeIndex with a timezone-naive datetime is deprecated and will raise KeyError in a future version. Use a timezone-aware object instead.\n",
      "  m1 = max.truncate(before=pd.Timestamp('today') - pd.DateOffset(months=1))\n",
      "<ipython-input-1-d5b62f59ed62>:103: FutureWarning: The frame.append method is deprecated and will be removed from pandas in a future version. Use pandas.concat instead.\n",
      "  final = final.append(\n"
     ]
    },
    {
     "name": "stdout",
     "output_type": "stream",
     "text": [
      "0.1816546015077436\n",
      "0.27723447473516866\n",
      "0.3737449848960447\n",
      "0.41879311722719786\n",
      "0.45705428533144565\n",
      "Producing data for:  SGF\n"
     ]
    },
    {
     "name": "stderr",
     "output_type": "stream",
     "text": [
      "<ipython-input-1-d5b62f59ed62>:47: FutureWarning: Indexing a timezone-aware DatetimeIndex with a timezone-naive datetime is deprecated and will raise KeyError in a future version. Use a timezone-aware object instead.\n",
      "  y = max.truncate(before=pd.Timestamp('today') - pd.DateOffset(months=12))\n",
      "<ipython-input-1-d5b62f59ed62>:48: FutureWarning: Indexing a timezone-aware DatetimeIndex with a timezone-naive datetime is deprecated and will raise KeyError in a future version. Use a timezone-aware object instead.\n",
      "  m6 = max.truncate(before=pd.Timestamp('today') - pd.DateOffset(months=6))\n",
      "<ipython-input-1-d5b62f59ed62>:49: FutureWarning: Indexing a timezone-aware DatetimeIndex with a timezone-naive datetime is deprecated and will raise KeyError in a future version. Use a timezone-aware object instead.\n",
      "  m3 = max.truncate(before=pd.Timestamp('today') - pd.DateOffset(months=3))\n",
      "<ipython-input-1-d5b62f59ed62>:50: FutureWarning: Indexing a timezone-aware DatetimeIndex with a timezone-naive datetime is deprecated and will raise KeyError in a future version. Use a timezone-aware object instead.\n",
      "  m1 = max.truncate(before=pd.Timestamp('today') - pd.DateOffset(months=1))\n"
     ]
    },
    {
     "name": "stdout",
     "output_type": "stream",
     "text": [
      "Producing data for:  ABM\n"
     ]
    },
    {
     "name": "stderr",
     "output_type": "stream",
     "text": [
      "<ipython-input-1-d5b62f59ed62>:47: FutureWarning: Indexing a timezone-aware DatetimeIndex with a timezone-naive datetime is deprecated and will raise KeyError in a future version. Use a timezone-aware object instead.\n",
      "  y = max.truncate(before=pd.Timestamp('today') - pd.DateOffset(months=12))\n",
      "<ipython-input-1-d5b62f59ed62>:48: FutureWarning: Indexing a timezone-aware DatetimeIndex with a timezone-naive datetime is deprecated and will raise KeyError in a future version. Use a timezone-aware object instead.\n",
      "  m6 = max.truncate(before=pd.Timestamp('today') - pd.DateOffset(months=6))\n",
      "<ipython-input-1-d5b62f59ed62>:49: FutureWarning: Indexing a timezone-aware DatetimeIndex with a timezone-naive datetime is deprecated and will raise KeyError in a future version. Use a timezone-aware object instead.\n",
      "  m3 = max.truncate(before=pd.Timestamp('today') - pd.DateOffset(months=3))\n",
      "<ipython-input-1-d5b62f59ed62>:50: FutureWarning: Indexing a timezone-aware DatetimeIndex with a timezone-naive datetime is deprecated and will raise KeyError in a future version. Use a timezone-aware object instead.\n",
      "  m1 = max.truncate(before=pd.Timestamp('today') - pd.DateOffset(months=1))\n"
     ]
    },
    {
     "name": "stdout",
     "output_type": "stream",
     "text": [
      "0.18130929633269696\n",
      "0.2598069164639285\n",
      "0.33615688141779315\n",
      "0.37007492380510126\n",
      "0.39877248855820885\n"
     ]
    },
    {
     "name": "stderr",
     "output_type": "stream",
     "text": [
      "<ipython-input-1-d5b62f59ed62>:103: FutureWarning: The frame.append method is deprecated and will be removed from pandas in a future version. Use pandas.concat instead.\n",
      "  final = final.append(\n"
     ]
    },
    {
     "name": "stdout",
     "output_type": "stream",
     "text": [
      "Producing data for:  AKR\n"
     ]
    },
    {
     "name": "stderr",
     "output_type": "stream",
     "text": [
      "<ipython-input-1-d5b62f59ed62>:47: FutureWarning: Indexing a timezone-aware DatetimeIndex with a timezone-naive datetime is deprecated and will raise KeyError in a future version. Use a timezone-aware object instead.\n",
      "  y = max.truncate(before=pd.Timestamp('today') - pd.DateOffset(months=12))\n",
      "<ipython-input-1-d5b62f59ed62>:48: FutureWarning: Indexing a timezone-aware DatetimeIndex with a timezone-naive datetime is deprecated and will raise KeyError in a future version. Use a timezone-aware object instead.\n",
      "  m6 = max.truncate(before=pd.Timestamp('today') - pd.DateOffset(months=6))\n",
      "<ipython-input-1-d5b62f59ed62>:49: FutureWarning: Indexing a timezone-aware DatetimeIndex with a timezone-naive datetime is deprecated and will raise KeyError in a future version. Use a timezone-aware object instead.\n",
      "  m3 = max.truncate(before=pd.Timestamp('today') - pd.DateOffset(months=3))\n",
      "<ipython-input-1-d5b62f59ed62>:50: FutureWarning: Indexing a timezone-aware DatetimeIndex with a timezone-naive datetime is deprecated and will raise KeyError in a future version. Use a timezone-aware object instead.\n",
      "  m1 = max.truncate(before=pd.Timestamp('today') - pd.DateOffset(months=1))\n",
      "<ipython-input-1-d5b62f59ed62>:103: FutureWarning: The frame.append method is deprecated and will be removed from pandas in a future version. Use pandas.concat instead.\n",
      "  final = final.append(\n"
     ]
    },
    {
     "name": "stdout",
     "output_type": "stream",
     "text": [
      "0.19682408866448553\n",
      "0.2951571880911138\n",
      "0.39735263176064445\n",
      "0.44345245198050043\n",
      "0.4855267531226256\n",
      "Producing data for:  ACN\n"
     ]
    },
    {
     "name": "stderr",
     "output_type": "stream",
     "text": [
      "<ipython-input-1-d5b62f59ed62>:47: FutureWarning: Indexing a timezone-aware DatetimeIndex with a timezone-naive datetime is deprecated and will raise KeyError in a future version. Use a timezone-aware object instead.\n",
      "  y = max.truncate(before=pd.Timestamp('today') - pd.DateOffset(months=12))\n",
      "<ipython-input-1-d5b62f59ed62>:48: FutureWarning: Indexing a timezone-aware DatetimeIndex with a timezone-naive datetime is deprecated and will raise KeyError in a future version. Use a timezone-aware object instead.\n",
      "  m6 = max.truncate(before=pd.Timestamp('today') - pd.DateOffset(months=6))\n",
      "<ipython-input-1-d5b62f59ed62>:49: FutureWarning: Indexing a timezone-aware DatetimeIndex with a timezone-naive datetime is deprecated and will raise KeyError in a future version. Use a timezone-aware object instead.\n",
      "  m3 = max.truncate(before=pd.Timestamp('today') - pd.DateOffset(months=3))\n",
      "<ipython-input-1-d5b62f59ed62>:50: FutureWarning: Indexing a timezone-aware DatetimeIndex with a timezone-naive datetime is deprecated and will raise KeyError in a future version. Use a timezone-aware object instead.\n",
      "  m1 = max.truncate(before=pd.Timestamp('today') - pd.DateOffset(months=1))\n",
      "<ipython-input-1-d5b62f59ed62>:103: FutureWarning: The frame.append method is deprecated and will be removed from pandas in a future version. Use pandas.concat instead.\n",
      "  final = final.append(\n"
     ]
    },
    {
     "name": "stdout",
     "output_type": "stream",
     "text": [
      "0.20338336206027754\n",
      "0.29122822293606043\n",
      "0.3837060706362193\n",
      "0.4281982229098148\n",
      "0.47325845361139773\n",
      "Producing data for:  ACCO\n"
     ]
    },
    {
     "name": "stderr",
     "output_type": "stream",
     "text": [
      "<ipython-input-1-d5b62f59ed62>:47: FutureWarning: Indexing a timezone-aware DatetimeIndex with a timezone-naive datetime is deprecated and will raise KeyError in a future version. Use a timezone-aware object instead.\n",
      "  y = max.truncate(before=pd.Timestamp('today') - pd.DateOffset(months=12))\n",
      "<ipython-input-1-d5b62f59ed62>:48: FutureWarning: Indexing a timezone-aware DatetimeIndex with a timezone-naive datetime is deprecated and will raise KeyError in a future version. Use a timezone-aware object instead.\n",
      "  m6 = max.truncate(before=pd.Timestamp('today') - pd.DateOffset(months=6))\n",
      "<ipython-input-1-d5b62f59ed62>:49: FutureWarning: Indexing a timezone-aware DatetimeIndex with a timezone-naive datetime is deprecated and will raise KeyError in a future version. Use a timezone-aware object instead.\n",
      "  m3 = max.truncate(before=pd.Timestamp('today') - pd.DateOffset(months=3))\n",
      "<ipython-input-1-d5b62f59ed62>:50: FutureWarning: Indexing a timezone-aware DatetimeIndex with a timezone-naive datetime is deprecated and will raise KeyError in a future version. Use a timezone-aware object instead.\n",
      "  m1 = max.truncate(before=pd.Timestamp('today') - pd.DateOffset(months=1))\n",
      "<ipython-input-1-d5b62f59ed62>:103: FutureWarning: The frame.append method is deprecated and will be removed from pandas in a future version. Use pandas.concat instead.\n",
      "  final = final.append(\n"
     ]
    },
    {
     "name": "stdout",
     "output_type": "stream",
     "text": [
      "0.19907341219876512\n",
      "0.29760561326430723\n",
      "0.3985391326432307\n",
      "0.4497133751130512\n",
      "0.496938108031404\n",
      "Producing data for:  ATV\n",
      "Got error from yahoo api for ticker ATV, Error: {'code': 'Not Found', 'description': 'No data found, symbol may be delisted'}\n",
      "- ATV: No timezone found, symbol may be delisted\n",
      "Got error from yahoo api for ticker ATV, Error: {'code': 'Not Found', 'description': 'No data found, symbol may be delisted'}\n",
      "- ATV: No timezone found, symbol may be delisted\n",
      "Producing data for:  ATU\n",
      "Got error from yahoo api for ticker ATU, Error: {'code': 'Not Found', 'description': 'No data found, symbol may be delisted'}\n",
      "- ATU: No timezone found, symbol may be delisted\n",
      "Got error from yahoo api for ticker ATU, Error: {'code': 'Not Found', 'description': 'No data found, symbol may be delisted'}\n",
      "- ATU: No timezone found, symbol may be delisted\n",
      "Producing data for:  GOLF\n"
     ]
    },
    {
     "name": "stderr",
     "output_type": "stream",
     "text": [
      "<ipython-input-1-d5b62f59ed62>:47: FutureWarning: Indexing a timezone-aware DatetimeIndex with a timezone-naive datetime is deprecated and will raise KeyError in a future version. Use a timezone-aware object instead.\n",
      "  y = max.truncate(before=pd.Timestamp('today') - pd.DateOffset(months=12))\n",
      "<ipython-input-1-d5b62f59ed62>:48: FutureWarning: Indexing a timezone-aware DatetimeIndex with a timezone-naive datetime is deprecated and will raise KeyError in a future version. Use a timezone-aware object instead.\n",
      "  m6 = max.truncate(before=pd.Timestamp('today') - pd.DateOffset(months=6))\n",
      "<ipython-input-1-d5b62f59ed62>:49: FutureWarning: Indexing a timezone-aware DatetimeIndex with a timezone-naive datetime is deprecated and will raise KeyError in a future version. Use a timezone-aware object instead.\n",
      "  m3 = max.truncate(before=pd.Timestamp('today') - pd.DateOffset(months=3))\n",
      "<ipython-input-1-d5b62f59ed62>:50: FutureWarning: Indexing a timezone-aware DatetimeIndex with a timezone-naive datetime is deprecated and will raise KeyError in a future version. Use a timezone-aware object instead.\n",
      "  m1 = max.truncate(before=pd.Timestamp('today') - pd.DateOffset(months=1))\n",
      "<ipython-input-1-d5b62f59ed62>:103: FutureWarning: The frame.append method is deprecated and will be removed from pandas in a future version. Use pandas.concat instead.\n",
      "  final = final.append(\n"
     ]
    },
    {
     "name": "stdout",
     "output_type": "stream",
     "text": [
      "0.17862656747076336\n",
      "0.2671050720233696\n",
      "0.3446473974370491\n",
      "0.37732034122132346\n",
      "0.39466087432848496\n",
      "Producing data for:  AYI\n"
     ]
    },
    {
     "name": "stderr",
     "output_type": "stream",
     "text": [
      "<ipython-input-1-d5b62f59ed62>:47: FutureWarning: Indexing a timezone-aware DatetimeIndex with a timezone-naive datetime is deprecated and will raise KeyError in a future version. Use a timezone-aware object instead.\n",
      "  y = max.truncate(before=pd.Timestamp('today') - pd.DateOffset(months=12))\n",
      "<ipython-input-1-d5b62f59ed62>:48: FutureWarning: Indexing a timezone-aware DatetimeIndex with a timezone-naive datetime is deprecated and will raise KeyError in a future version. Use a timezone-aware object instead.\n",
      "  m6 = max.truncate(before=pd.Timestamp('today') - pd.DateOffset(months=6))\n",
      "<ipython-input-1-d5b62f59ed62>:49: FutureWarning: Indexing a timezone-aware DatetimeIndex with a timezone-naive datetime is deprecated and will raise KeyError in a future version. Use a timezone-aware object instead.\n",
      "  m3 = max.truncate(before=pd.Timestamp('today') - pd.DateOffset(months=3))\n",
      "<ipython-input-1-d5b62f59ed62>:50: FutureWarning: Indexing a timezone-aware DatetimeIndex with a timezone-naive datetime is deprecated and will raise KeyError in a future version. Use a timezone-aware object instead.\n",
      "  m1 = max.truncate(before=pd.Timestamp('today') - pd.DateOffset(months=1))\n"
     ]
    },
    {
     "name": "stdout",
     "output_type": "stream",
     "text": [
      "0.19286758061418813\n",
      "0.28256626969264353\n",
      "0.3815847494731093\n",
      "0.43320402181919904\n",
      "0.4847864876061105\n"
     ]
    },
    {
     "name": "stderr",
     "output_type": "stream",
     "text": [
      "<ipython-input-1-d5b62f59ed62>:103: FutureWarning: The frame.append method is deprecated and will be removed from pandas in a future version. Use pandas.concat instead.\n",
      "  final = final.append(\n"
     ]
    },
    {
     "name": "stdout",
     "output_type": "stream",
     "text": [
      "Producing data for:  ADX\n"
     ]
    },
    {
     "name": "stderr",
     "output_type": "stream",
     "text": [
      "<ipython-input-1-d5b62f59ed62>:47: FutureWarning: Indexing a timezone-aware DatetimeIndex with a timezone-naive datetime is deprecated and will raise KeyError in a future version. Use a timezone-aware object instead.\n",
      "  y = max.truncate(before=pd.Timestamp('today') - pd.DateOffset(months=12))\n",
      "<ipython-input-1-d5b62f59ed62>:48: FutureWarning: Indexing a timezone-aware DatetimeIndex with a timezone-naive datetime is deprecated and will raise KeyError in a future version. Use a timezone-aware object instead.\n",
      "  m6 = max.truncate(before=pd.Timestamp('today') - pd.DateOffset(months=6))\n",
      "<ipython-input-1-d5b62f59ed62>:49: FutureWarning: Indexing a timezone-aware DatetimeIndex with a timezone-naive datetime is deprecated and will raise KeyError in a future version. Use a timezone-aware object instead.\n",
      "  m3 = max.truncate(before=pd.Timestamp('today') - pd.DateOffset(months=3))\n",
      "<ipython-input-1-d5b62f59ed62>:50: FutureWarning: Indexing a timezone-aware DatetimeIndex with a timezone-naive datetime is deprecated and will raise KeyError in a future version. Use a timezone-aware object instead.\n",
      "  m1 = max.truncate(before=pd.Timestamp('today') - pd.DateOffset(months=1))\n"
     ]
    },
    {
     "name": "stdout",
     "output_type": "stream",
     "text": [
      "0.19478519773938593\n",
      "0.2828048127301939\n",
      "0.3788305041495558\n",
      "0.4274921888005849\n",
      "0.47759174939715165\n",
      "Producing data for:  AGRO\n"
     ]
    },
    {
     "name": "stderr",
     "output_type": "stream",
     "text": [
      "<ipython-input-1-d5b62f59ed62>:103: FutureWarning: The frame.append method is deprecated and will be removed from pandas in a future version. Use pandas.concat instead.\n",
      "  final = final.append(\n",
      "<ipython-input-1-d5b62f59ed62>:47: FutureWarning: Indexing a timezone-aware DatetimeIndex with a timezone-naive datetime is deprecated and will raise KeyError in a future version. Use a timezone-aware object instead.\n",
      "  y = max.truncate(before=pd.Timestamp('today') - pd.DateOffset(months=12))\n",
      "<ipython-input-1-d5b62f59ed62>:48: FutureWarning: Indexing a timezone-aware DatetimeIndex with a timezone-naive datetime is deprecated and will raise KeyError in a future version. Use a timezone-aware object instead.\n",
      "  m6 = max.truncate(before=pd.Timestamp('today') - pd.DateOffset(months=6))\n",
      "<ipython-input-1-d5b62f59ed62>:49: FutureWarning: Indexing a timezone-aware DatetimeIndex with a timezone-naive datetime is deprecated and will raise KeyError in a future version. Use a timezone-aware object instead.\n",
      "  m3 = max.truncate(before=pd.Timestamp('today') - pd.DateOffset(months=3))\n",
      "<ipython-input-1-d5b62f59ed62>:50: FutureWarning: Indexing a timezone-aware DatetimeIndex with a timezone-naive datetime is deprecated and will raise KeyError in a future version. Use a timezone-aware object instead.\n",
      "  m1 = max.truncate(before=pd.Timestamp('today') - pd.DateOffset(months=1))\n"
     ]
    },
    {
     "name": "stdout",
     "output_type": "stream",
     "text": [
      "0.1999992887477814\n",
      "0.29281404809243394\n",
      "0.36658023664861733\n",
      "0.4024002285624967\n",
      "0.43469192369059445\n",
      "Producing data for:  ADPT\n"
     ]
    },
    {
     "name": "stderr",
     "output_type": "stream",
     "text": [
      "<ipython-input-1-d5b62f59ed62>:103: FutureWarning: The frame.append method is deprecated and will be removed from pandas in a future version. Use pandas.concat instead.\n",
      "  final = final.append(\n",
      "<ipython-input-1-d5b62f59ed62>:47: FutureWarning: Indexing a timezone-aware DatetimeIndex with a timezone-naive datetime is deprecated and will raise KeyError in a future version. Use a timezone-aware object instead.\n",
      "  y = max.truncate(before=pd.Timestamp('today') - pd.DateOffset(months=12))\n",
      "<ipython-input-1-d5b62f59ed62>:48: FutureWarning: Indexing a timezone-aware DatetimeIndex with a timezone-naive datetime is deprecated and will raise KeyError in a future version. Use a timezone-aware object instead.\n",
      "  m6 = max.truncate(before=pd.Timestamp('today') - pd.DateOffset(months=6))\n",
      "<ipython-input-1-d5b62f59ed62>:49: FutureWarning: Indexing a timezone-aware DatetimeIndex with a timezone-naive datetime is deprecated and will raise KeyError in a future version. Use a timezone-aware object instead.\n",
      "  m3 = max.truncate(before=pd.Timestamp('today') - pd.DateOffset(months=3))\n",
      "<ipython-input-1-d5b62f59ed62>:50: FutureWarning: Indexing a timezone-aware DatetimeIndex with a timezone-naive datetime is deprecated and will raise KeyError in a future version. Use a timezone-aware object instead.\n",
      "  m1 = max.truncate(before=pd.Timestamp('today') - pd.DateOffset(months=1))\n",
      "C:\\Users\\Kamen\\AppData\\Local\\Programs\\Python\\Python38\\lib\\site-packages\\numpy\\core\\_methods.py:262: RuntimeWarning: Degrees of freedom <= 0 for slice\n",
      "  ret = _var(a, axis=axis, dtype=dtype, out=out, ddof=ddof,\n",
      "C:\\Users\\Kamen\\AppData\\Local\\Programs\\Python\\Python38\\lib\\site-packages\\numpy\\core\\_methods.py:222: RuntimeWarning: invalid value encountered in true_divide\n",
      "  arrmean = um.true_divide(arrmean, div, out=arrmean, casting='unsafe',\n",
      "C:\\Users\\Kamen\\AppData\\Local\\Programs\\Python\\Python38\\lib\\site-packages\\numpy\\core\\_methods.py:254: RuntimeWarning: invalid value encountered in double_scalars\n",
      "  ret = ret.dtype.type(ret / rcount)\n",
      "<ipython-input-1-d5b62f59ed62>:38: RuntimeWarning: divide by zero encountered in log\n",
      "  reg = np.polyfit(np.log(lags), np.log(tau), 1)\n",
      "<ipython-input-1-d5b62f59ed62>:103: FutureWarning: The frame.append method is deprecated and will be removed from pandas in a future version. Use pandas.concat instead.\n",
      "  final = final.append(\n"
     ]
    },
    {
     "name": "stdout",
     "output_type": "stream",
     "text": [
      "0.1920795778239785\n",
      "0.2825063879675864\n",
      "0.3818871680942993\n",
      "0.4251685885907193\n",
      "nan\n",
      "Producing data for:  ADNT\n"
     ]
    },
    {
     "name": "stderr",
     "output_type": "stream",
     "text": [
      "<ipython-input-1-d5b62f59ed62>:47: FutureWarning: Indexing a timezone-aware DatetimeIndex with a timezone-naive datetime is deprecated and will raise KeyError in a future version. Use a timezone-aware object instead.\n",
      "  y = max.truncate(before=pd.Timestamp('today') - pd.DateOffset(months=12))\n",
      "<ipython-input-1-d5b62f59ed62>:48: FutureWarning: Indexing a timezone-aware DatetimeIndex with a timezone-naive datetime is deprecated and will raise KeyError in a future version. Use a timezone-aware object instead.\n",
      "  m6 = max.truncate(before=pd.Timestamp('today') - pd.DateOffset(months=6))\n",
      "<ipython-input-1-d5b62f59ed62>:49: FutureWarning: Indexing a timezone-aware DatetimeIndex with a timezone-naive datetime is deprecated and will raise KeyError in a future version. Use a timezone-aware object instead.\n",
      "  m3 = max.truncate(before=pd.Timestamp('today') - pd.DateOffset(months=3))\n",
      "<ipython-input-1-d5b62f59ed62>:50: FutureWarning: Indexing a timezone-aware DatetimeIndex with a timezone-naive datetime is deprecated and will raise KeyError in a future version. Use a timezone-aware object instead.\n",
      "  m1 = max.truncate(before=pd.Timestamp('today') - pd.DateOffset(months=1))\n",
      "<ipython-input-1-d5b62f59ed62>:103: FutureWarning: The frame.append method is deprecated and will be removed from pandas in a future version. Use pandas.concat instead.\n",
      "  final = final.append(\n"
     ]
    },
    {
     "name": "stdout",
     "output_type": "stream",
     "text": [
      "0.19409751004761283\n",
      "0.2940267144011717\n",
      "0.40514634682286654\n",
      "0.4598825236985778\n",
      "0.49653677987667794\n",
      "Producing data for:  AAP\n"
     ]
    },
    {
     "name": "stderr",
     "output_type": "stream",
     "text": [
      "<ipython-input-1-d5b62f59ed62>:47: FutureWarning: Indexing a timezone-aware DatetimeIndex with a timezone-naive datetime is deprecated and will raise KeyError in a future version. Use a timezone-aware object instead.\n",
      "  y = max.truncate(before=pd.Timestamp('today') - pd.DateOffset(months=12))\n",
      "<ipython-input-1-d5b62f59ed62>:48: FutureWarning: Indexing a timezone-aware DatetimeIndex with a timezone-naive datetime is deprecated and will raise KeyError in a future version. Use a timezone-aware object instead.\n",
      "  m6 = max.truncate(before=pd.Timestamp('today') - pd.DateOffset(months=6))\n",
      "<ipython-input-1-d5b62f59ed62>:49: FutureWarning: Indexing a timezone-aware DatetimeIndex with a timezone-naive datetime is deprecated and will raise KeyError in a future version. Use a timezone-aware object instead.\n",
      "  m3 = max.truncate(before=pd.Timestamp('today') - pd.DateOffset(months=3))\n",
      "<ipython-input-1-d5b62f59ed62>:50: FutureWarning: Indexing a timezone-aware DatetimeIndex with a timezone-naive datetime is deprecated and will raise KeyError in a future version. Use a timezone-aware object instead.\n",
      "  m1 = max.truncate(before=pd.Timestamp('today') - pd.DateOffset(months=1))\n"
     ]
    },
    {
     "name": "stdout",
     "output_type": "stream",
     "text": [
      "0.1909656856763333\n",
      "0.2839297223388867\n",
      "0.3766501549844892\n",
      "0.418237479045974\n",
      "0.4518820212776092\n",
      "Producing data for:  ADSW\n"
     ]
    },
    {
     "name": "stderr",
     "output_type": "stream",
     "text": [
      "<ipython-input-1-d5b62f59ed62>:103: FutureWarning: The frame.append method is deprecated and will be removed from pandas in a future version. Use pandas.concat instead.\n",
      "  final = final.append(\n"
     ]
    },
    {
     "name": "stdout",
     "output_type": "stream",
     "text": [
      "Got error from yahoo api for ticker ADSW, Error: {'code': 'Not Found', 'description': 'No data found, symbol may be delisted'}\n",
      "- ADSW: No timezone found, symbol may be delisted\n",
      "Got error from yahoo api for ticker ADSW, Error: {'code': 'Not Found', 'description': 'No data found, symbol may be delisted'}\n",
      "- ADSW: No timezone found, symbol may be delisted\n",
      "Producing data for:  WMS\n"
     ]
    },
    {
     "name": "stderr",
     "output_type": "stream",
     "text": [
      "<ipython-input-1-d5b62f59ed62>:47: FutureWarning: Indexing a timezone-aware DatetimeIndex with a timezone-naive datetime is deprecated and will raise KeyError in a future version. Use a timezone-aware object instead.\n",
      "  y = max.truncate(before=pd.Timestamp('today') - pd.DateOffset(months=12))\n",
      "<ipython-input-1-d5b62f59ed62>:48: FutureWarning: Indexing a timezone-aware DatetimeIndex with a timezone-naive datetime is deprecated and will raise KeyError in a future version. Use a timezone-aware object instead.\n",
      "  m6 = max.truncate(before=pd.Timestamp('today') - pd.DateOffset(months=6))\n",
      "<ipython-input-1-d5b62f59ed62>:49: FutureWarning: Indexing a timezone-aware DatetimeIndex with a timezone-naive datetime is deprecated and will raise KeyError in a future version. Use a timezone-aware object instead.\n",
      "  m3 = max.truncate(before=pd.Timestamp('today') - pd.DateOffset(months=3))\n",
      "<ipython-input-1-d5b62f59ed62>:50: FutureWarning: Indexing a timezone-aware DatetimeIndex with a timezone-naive datetime is deprecated and will raise KeyError in a future version. Use a timezone-aware object instead.\n",
      "  m1 = max.truncate(before=pd.Timestamp('today') - pd.DateOffset(months=1))\n",
      "<ipython-input-1-d5b62f59ed62>:103: FutureWarning: The frame.append method is deprecated and will be removed from pandas in a future version. Use pandas.concat instead.\n",
      "  final = final.append(\n"
     ]
    },
    {
     "name": "stdout",
     "output_type": "stream",
     "text": [
      "0.20072800177902317\n",
      "0.28417844308269363\n",
      "0.3661721822049137\n",
      "0.4113549586044389\n",
      "0.4562643155580027\n",
      "Producing data for:  ASX\n"
     ]
    },
    {
     "name": "stderr",
     "output_type": "stream",
     "text": [
      "<ipython-input-1-d5b62f59ed62>:47: FutureWarning: Indexing a timezone-aware DatetimeIndex with a timezone-naive datetime is deprecated and will raise KeyError in a future version. Use a timezone-aware object instead.\n",
      "  y = max.truncate(before=pd.Timestamp('today') - pd.DateOffset(months=12))\n",
      "<ipython-input-1-d5b62f59ed62>:48: FutureWarning: Indexing a timezone-aware DatetimeIndex with a timezone-naive datetime is deprecated and will raise KeyError in a future version. Use a timezone-aware object instead.\n",
      "  m6 = max.truncate(before=pd.Timestamp('today') - pd.DateOffset(months=6))\n",
      "<ipython-input-1-d5b62f59ed62>:49: FutureWarning: Indexing a timezone-aware DatetimeIndex with a timezone-naive datetime is deprecated and will raise KeyError in a future version. Use a timezone-aware object instead.\n",
      "  m3 = max.truncate(before=pd.Timestamp('today') - pd.DateOffset(months=3))\n",
      "<ipython-input-1-d5b62f59ed62>:50: FutureWarning: Indexing a timezone-aware DatetimeIndex with a timezone-naive datetime is deprecated and will raise KeyError in a future version. Use a timezone-aware object instead.\n",
      "  m1 = max.truncate(before=pd.Timestamp('today') - pd.DateOffset(months=1))\n",
      "<ipython-input-1-d5b62f59ed62>:103: FutureWarning: The frame.append method is deprecated and will be removed from pandas in a future version. Use pandas.concat instead.\n",
      "  final = final.append(\n"
     ]
    },
    {
     "name": "stdout",
     "output_type": "stream",
     "text": [
      "0.18925007285990028\n",
      "0.28154509660711813\n",
      "0.3729005479576625\n",
      "0.41317368853907743\n",
      "0.4370987831441375\n",
      "Producing data for:  APFH\n",
      "APFH: 1d data not available for startTime=-2208994789 and endTime=1673327296. Only 100 years worth of day granularity data are allowed to be fetched per request.\n",
      "APFH: 1d data not available for startTime=-2208994789 and endTime=1673327297. Only 100 years worth of day granularity data are allowed to be fetched per request.\n",
      "Producing data for:  ASIX\n"
     ]
    },
    {
     "name": "stderr",
     "output_type": "stream",
     "text": [
      "<ipython-input-1-d5b62f59ed62>:47: FutureWarning: Indexing a timezone-aware DatetimeIndex with a timezone-naive datetime is deprecated and will raise KeyError in a future version. Use a timezone-aware object instead.\n",
      "  y = max.truncate(before=pd.Timestamp('today') - pd.DateOffset(months=12))\n",
      "<ipython-input-1-d5b62f59ed62>:48: FutureWarning: Indexing a timezone-aware DatetimeIndex with a timezone-naive datetime is deprecated and will raise KeyError in a future version. Use a timezone-aware object instead.\n",
      "  m6 = max.truncate(before=pd.Timestamp('today') - pd.DateOffset(months=6))\n",
      "<ipython-input-1-d5b62f59ed62>:49: FutureWarning: Indexing a timezone-aware DatetimeIndex with a timezone-naive datetime is deprecated and will raise KeyError in a future version. Use a timezone-aware object instead.\n",
      "  m3 = max.truncate(before=pd.Timestamp('today') - pd.DateOffset(months=3))\n",
      "<ipython-input-1-d5b62f59ed62>:50: FutureWarning: Indexing a timezone-aware DatetimeIndex with a timezone-naive datetime is deprecated and will raise KeyError in a future version. Use a timezone-aware object instead.\n",
      "  m1 = max.truncate(before=pd.Timestamp('today') - pd.DateOffset(months=1))\n",
      "<ipython-input-1-d5b62f59ed62>:103: FutureWarning: The frame.append method is deprecated and will be removed from pandas in a future version. Use pandas.concat instead.\n",
      "  final = final.append(\n"
     ]
    },
    {
     "name": "stdout",
     "output_type": "stream",
     "text": [
      "0.2039423116018417\n",
      "0.2978862256416556\n",
      "0.40346322652639177\n",
      "0.4559520186670873\n",
      "0.48256794161427097\n",
      "Producing data for:  AAV\n",
      "AAV: 1d data not available for startTime=-2208994789 and endTime=1673327301. Only 100 years worth of day granularity data are allowed to be fetched per request.\n",
      "AAV: 1d data not available for startTime=-2208994789 and endTime=1673327301. Only 100 years worth of day granularity data are allowed to be fetched per request.\n",
      "Producing data for:  AVK\n"
     ]
    },
    {
     "name": "stderr",
     "output_type": "stream",
     "text": [
      "<ipython-input-1-d5b62f59ed62>:47: FutureWarning: Indexing a timezone-aware DatetimeIndex with a timezone-naive datetime is deprecated and will raise KeyError in a future version. Use a timezone-aware object instead.\n",
      "  y = max.truncate(before=pd.Timestamp('today') - pd.DateOffset(months=12))\n",
      "<ipython-input-1-d5b62f59ed62>:48: FutureWarning: Indexing a timezone-aware DatetimeIndex with a timezone-naive datetime is deprecated and will raise KeyError in a future version. Use a timezone-aware object instead.\n",
      "  m6 = max.truncate(before=pd.Timestamp('today') - pd.DateOffset(months=6))\n",
      "<ipython-input-1-d5b62f59ed62>:49: FutureWarning: Indexing a timezone-aware DatetimeIndex with a timezone-naive datetime is deprecated and will raise KeyError in a future version. Use a timezone-aware object instead.\n",
      "  m3 = max.truncate(before=pd.Timestamp('today') - pd.DateOffset(months=3))\n",
      "<ipython-input-1-d5b62f59ed62>:50: FutureWarning: Indexing a timezone-aware DatetimeIndex with a timezone-naive datetime is deprecated and will raise KeyError in a future version. Use a timezone-aware object instead.\n",
      "  m1 = max.truncate(before=pd.Timestamp('today') - pd.DateOffset(months=1))\n"
     ]
    },
    {
     "name": "stdout",
     "output_type": "stream",
     "text": [
      "0.21057720052027934\n",
      "0.3045502866722474\n",
      "0.40456480719640137\n",
      "0.44944565033979894\n",
      "0.4810174051978841\n",
      "Producing data for:  AGC\n"
     ]
    },
    {
     "name": "stderr",
     "output_type": "stream",
     "text": [
      "<ipython-input-1-d5b62f59ed62>:103: FutureWarning: The frame.append method is deprecated and will be removed from pandas in a future version. Use pandas.concat instead.\n",
      "  final = final.append(\n"
     ]
    },
    {
     "name": "stdout",
     "output_type": "stream",
     "text": [
      "Got error from yahoo api for ticker AGC, Error: {'code': 'Not Found', 'description': 'No data found, symbol may be delisted'}\n",
      "- AGC: No timezone found, symbol may be delisted\n",
      "Got error from yahoo api for ticker AGC, Error: {'code': 'Not Found', 'description': 'No data found, symbol may be delisted'}\n",
      "- AGC: No timezone found, symbol may be delisted\n",
      "Producing data for:  LCM\n"
     ]
    },
    {
     "name": "stderr",
     "output_type": "stream",
     "text": [
      "<ipython-input-1-d5b62f59ed62>:47: FutureWarning: Indexing a timezone-aware DatetimeIndex with a timezone-naive datetime is deprecated and will raise KeyError in a future version. Use a timezone-aware object instead.\n",
      "  y = max.truncate(before=pd.Timestamp('today') - pd.DateOffset(months=12))\n",
      "<ipython-input-1-d5b62f59ed62>:48: FutureWarning: Indexing a timezone-aware DatetimeIndex with a timezone-naive datetime is deprecated and will raise KeyError in a future version. Use a timezone-aware object instead.\n",
      "  m6 = max.truncate(before=pd.Timestamp('today') - pd.DateOffset(months=6))\n",
      "<ipython-input-1-d5b62f59ed62>:49: FutureWarning: Indexing a timezone-aware DatetimeIndex with a timezone-naive datetime is deprecated and will raise KeyError in a future version. Use a timezone-aware object instead.\n",
      "  m3 = max.truncate(before=pd.Timestamp('today') - pd.DateOffset(months=3))\n",
      "<ipython-input-1-d5b62f59ed62>:50: FutureWarning: Indexing a timezone-aware DatetimeIndex with a timezone-naive datetime is deprecated and will raise KeyError in a future version. Use a timezone-aware object instead.\n",
      "  m1 = max.truncate(before=pd.Timestamp('today') - pd.DateOffset(months=1))\n"
     ]
    },
    {
     "name": "stdout",
     "output_type": "stream",
     "text": [
      "Producing data for:  ACM\n"
     ]
    },
    {
     "name": "stderr",
     "output_type": "stream",
     "text": [
      "<ipython-input-1-d5b62f59ed62>:47: FutureWarning: Indexing a timezone-aware DatetimeIndex with a timezone-naive datetime is deprecated and will raise KeyError in a future version. Use a timezone-aware object instead.\n",
      "  y = max.truncate(before=pd.Timestamp('today') - pd.DateOffset(months=12))\n",
      "<ipython-input-1-d5b62f59ed62>:48: FutureWarning: Indexing a timezone-aware DatetimeIndex with a timezone-naive datetime is deprecated and will raise KeyError in a future version. Use a timezone-aware object instead.\n",
      "  m6 = max.truncate(before=pd.Timestamp('today') - pd.DateOffset(months=6))\n",
      "<ipython-input-1-d5b62f59ed62>:49: FutureWarning: Indexing a timezone-aware DatetimeIndex with a timezone-naive datetime is deprecated and will raise KeyError in a future version. Use a timezone-aware object instead.\n",
      "  m3 = max.truncate(before=pd.Timestamp('today') - pd.DateOffset(months=3))\n",
      "<ipython-input-1-d5b62f59ed62>:50: FutureWarning: Indexing a timezone-aware DatetimeIndex with a timezone-naive datetime is deprecated and will raise KeyError in a future version. Use a timezone-aware object instead.\n",
      "  m1 = max.truncate(before=pd.Timestamp('today') - pd.DateOffset(months=1))\n"
     ]
    },
    {
     "name": "stdout",
     "output_type": "stream",
     "text": [
      "0.19946386177611594\n",
      "0.28139465122398866\n",
      "0.35322019310504443\n",
      "0.391092985187876\n",
      "0.42916056400766384\n",
      "Producing data for:  ANW\n"
     ]
    },
    {
     "name": "stderr",
     "output_type": "stream",
     "text": [
      "<ipython-input-1-d5b62f59ed62>:103: FutureWarning: The frame.append method is deprecated and will be removed from pandas in a future version. Use pandas.concat instead.\n",
      "  final = final.append(\n"
     ]
    },
    {
     "name": "stdout",
     "output_type": "stream",
     "text": [
      "ANW: 1d data not available for startTime=-2208994789 and endTime=1673327314. Only 100 years worth of day granularity data are allowed to be fetched per request.\n",
      "ANW: 1d data not available for startTime=-2208994789 and endTime=1673327317. Only 100 years worth of day granularity data are allowed to be fetched per request.\n",
      "Producing data for:  AEG\n"
     ]
    },
    {
     "name": "stderr",
     "output_type": "stream",
     "text": [
      "<ipython-input-1-d5b62f59ed62>:47: FutureWarning: Indexing a timezone-aware DatetimeIndex with a timezone-naive datetime is deprecated and will raise KeyError in a future version. Use a timezone-aware object instead.\n",
      "  y = max.truncate(before=pd.Timestamp('today') - pd.DateOffset(months=12))\n",
      "<ipython-input-1-d5b62f59ed62>:48: FutureWarning: Indexing a timezone-aware DatetimeIndex with a timezone-naive datetime is deprecated and will raise KeyError in a future version. Use a timezone-aware object instead.\n",
      "  m6 = max.truncate(before=pd.Timestamp('today') - pd.DateOffset(months=6))\n",
      "<ipython-input-1-d5b62f59ed62>:49: FutureWarning: Indexing a timezone-aware DatetimeIndex with a timezone-naive datetime is deprecated and will raise KeyError in a future version. Use a timezone-aware object instead.\n",
      "  m3 = max.truncate(before=pd.Timestamp('today') - pd.DateOffset(months=3))\n",
      "<ipython-input-1-d5b62f59ed62>:50: FutureWarning: Indexing a timezone-aware DatetimeIndex with a timezone-naive datetime is deprecated and will raise KeyError in a future version. Use a timezone-aware object instead.\n",
      "  m1 = max.truncate(before=pd.Timestamp('today') - pd.DateOffset(months=1))\n"
     ]
    },
    {
     "name": "stdout",
     "output_type": "stream",
     "text": [
      "0.20074187822552214\n",
      "0.29681368861373386\n",
      "0.3993054872039647\n",
      "0.4536257513613943\n",
      "0.5100550306387739\n",
      "Producing data for:  AEB\n"
     ]
    },
    {
     "name": "stderr",
     "output_type": "stream",
     "text": [
      "<ipython-input-1-d5b62f59ed62>:103: FutureWarning: The frame.append method is deprecated and will be removed from pandas in a future version. Use pandas.concat instead.\n",
      "  final = final.append(\n",
      "<ipython-input-1-d5b62f59ed62>:47: FutureWarning: Indexing a timezone-aware DatetimeIndex with a timezone-naive datetime is deprecated and will raise KeyError in a future version. Use a timezone-aware object instead.\n",
      "  y = max.truncate(before=pd.Timestamp('today') - pd.DateOffset(months=12))\n",
      "<ipython-input-1-d5b62f59ed62>:48: FutureWarning: Indexing a timezone-aware DatetimeIndex with a timezone-naive datetime is deprecated and will raise KeyError in a future version. Use a timezone-aware object instead.\n",
      "  m6 = max.truncate(before=pd.Timestamp('today') - pd.DateOffset(months=6))\n",
      "<ipython-input-1-d5b62f59ed62>:49: FutureWarning: Indexing a timezone-aware DatetimeIndex with a timezone-naive datetime is deprecated and will raise KeyError in a future version. Use a timezone-aware object instead.\n",
      "  m3 = max.truncate(before=pd.Timestamp('today') - pd.DateOffset(months=3))\n",
      "<ipython-input-1-d5b62f59ed62>:50: FutureWarning: Indexing a timezone-aware DatetimeIndex with a timezone-naive datetime is deprecated and will raise KeyError in a future version. Use a timezone-aware object instead.\n",
      "  m1 = max.truncate(before=pd.Timestamp('today') - pd.DateOffset(months=1))\n"
     ]
    },
    {
     "name": "stdout",
     "output_type": "stream",
     "text": [
      "Producing data for:  AED\n",
      "AED: No data found for this date range, symbol may be delisted\n",
      "AED: No data found for this date range, symbol may be delisted\n",
      "Producing data for:  AEH\n",
      "AEH: No data found for this date range, symbol may be delisted\n",
      "AEH: No data found for this date range, symbol may be delisted\n",
      "Producing data for:  AEK\n",
      "Got error from yahoo api for ticker AEK, Error: {'code': 'Not Found', 'description': 'No data found, symbol may be delisted'}\n",
      "- AEK: No timezone found, symbol may be delisted\n",
      "Got error from yahoo api for ticker AEK, Error: {'code': 'Not Found', 'description': 'No data found, symbol may be delisted'}\n",
      "- AEK: No timezone found, symbol may be delisted\n",
      "Producing data for:  AER\n"
     ]
    },
    {
     "name": "stderr",
     "output_type": "stream",
     "text": [
      "<ipython-input-1-d5b62f59ed62>:47: FutureWarning: Indexing a timezone-aware DatetimeIndex with a timezone-naive datetime is deprecated and will raise KeyError in a future version. Use a timezone-aware object instead.\n",
      "  y = max.truncate(before=pd.Timestamp('today') - pd.DateOffset(months=12))\n",
      "<ipython-input-1-d5b62f59ed62>:48: FutureWarning: Indexing a timezone-aware DatetimeIndex with a timezone-naive datetime is deprecated and will raise KeyError in a future version. Use a timezone-aware object instead.\n",
      "  m6 = max.truncate(before=pd.Timestamp('today') - pd.DateOffset(months=6))\n",
      "<ipython-input-1-d5b62f59ed62>:49: FutureWarning: Indexing a timezone-aware DatetimeIndex with a timezone-naive datetime is deprecated and will raise KeyError in a future version. Use a timezone-aware object instead.\n",
      "  m3 = max.truncate(before=pd.Timestamp('today') - pd.DateOffset(months=3))\n",
      "<ipython-input-1-d5b62f59ed62>:50: FutureWarning: Indexing a timezone-aware DatetimeIndex with a timezone-naive datetime is deprecated and will raise KeyError in a future version. Use a timezone-aware object instead.\n",
      "  m1 = max.truncate(before=pd.Timestamp('today') - pd.DateOffset(months=1))\n",
      "<ipython-input-1-d5b62f59ed62>:103: FutureWarning: The frame.append method is deprecated and will be removed from pandas in a future version. Use pandas.concat instead.\n",
      "  final = final.append(\n"
     ]
    },
    {
     "name": "stdout",
     "output_type": "stream",
     "text": [
      "0.21477393408756376\n",
      "0.31208327451619056\n",
      "0.4012168925968713\n",
      "0.4411130675298605\n",
      "0.4715216347903764\n",
      "Producing data for:  HIVE\n"
     ]
    },
    {
     "name": "stderr",
     "output_type": "stream",
     "text": [
      "<ipython-input-1-d5b62f59ed62>:47: FutureWarning: Indexing a timezone-aware DatetimeIndex with a timezone-naive datetime is deprecated and will raise KeyError in a future version. Use a timezone-aware object instead.\n",
      "  y = max.truncate(before=pd.Timestamp('today') - pd.DateOffset(months=12))\n",
      "<ipython-input-1-d5b62f59ed62>:48: FutureWarning: Indexing a timezone-aware DatetimeIndex with a timezone-naive datetime is deprecated and will raise KeyError in a future version. Use a timezone-aware object instead.\n",
      "  m6 = max.truncate(before=pd.Timestamp('today') - pd.DateOffset(months=6))\n",
      "<ipython-input-1-d5b62f59ed62>:49: FutureWarning: Indexing a timezone-aware DatetimeIndex with a timezone-naive datetime is deprecated and will raise KeyError in a future version. Use a timezone-aware object instead.\n",
      "  m3 = max.truncate(before=pd.Timestamp('today') - pd.DateOffset(months=3))\n",
      "<ipython-input-1-d5b62f59ed62>:50: FutureWarning: Indexing a timezone-aware DatetimeIndex with a timezone-naive datetime is deprecated and will raise KeyError in a future version. Use a timezone-aware object instead.\n",
      "  m1 = max.truncate(before=pd.Timestamp('today') - pd.DateOffset(months=1))\n",
      "<ipython-input-1-d5b62f59ed62>:103: FutureWarning: The frame.append method is deprecated and will be removed from pandas in a future version. Use pandas.concat instead.\n",
      "  final = final.append(\n"
     ]
    },
    {
     "name": "stdout",
     "output_type": "stream",
     "text": [
      "0.1909008723576196\n",
      "0.29673545913432353\n",
      "0.3918251986260914\n",
      "0.43139132235669164\n",
      "0.44855535000343777\n",
      "Producing data for:  AJRD\n"
     ]
    },
    {
     "name": "stderr",
     "output_type": "stream",
     "text": [
      "<ipython-input-1-d5b62f59ed62>:47: FutureWarning: Indexing a timezone-aware DatetimeIndex with a timezone-naive datetime is deprecated and will raise KeyError in a future version. Use a timezone-aware object instead.\n",
      "  y = max.truncate(before=pd.Timestamp('today') - pd.DateOffset(months=12))\n",
      "<ipython-input-1-d5b62f59ed62>:48: FutureWarning: Indexing a timezone-aware DatetimeIndex with a timezone-naive datetime is deprecated and will raise KeyError in a future version. Use a timezone-aware object instead.\n",
      "  m6 = max.truncate(before=pd.Timestamp('today') - pd.DateOffset(months=6))\n",
      "<ipython-input-1-d5b62f59ed62>:49: FutureWarning: Indexing a timezone-aware DatetimeIndex with a timezone-naive datetime is deprecated and will raise KeyError in a future version. Use a timezone-aware object instead.\n",
      "  m3 = max.truncate(before=pd.Timestamp('today') - pd.DateOffset(months=3))\n",
      "<ipython-input-1-d5b62f59ed62>:50: FutureWarning: Indexing a timezone-aware DatetimeIndex with a timezone-naive datetime is deprecated and will raise KeyError in a future version. Use a timezone-aware object instead.\n",
      "  m1 = max.truncate(before=pd.Timestamp('today') - pd.DateOffset(months=1))\n"
     ]
    },
    {
     "name": "stdout",
     "output_type": "stream",
     "text": [
      "0.20339552214846635\n",
      "0.29272471482890605\n",
      "0.3742134490824731\n",
      "0.41388758085662114\n",
      "0.45719981564460144\n",
      "Producing data for:  AES\n"
     ]
    },
    {
     "name": "stderr",
     "output_type": "stream",
     "text": [
      "<ipython-input-1-d5b62f59ed62>:103: FutureWarning: The frame.append method is deprecated and will be removed from pandas in a future version. Use pandas.concat instead.\n",
      "  final = final.append(\n",
      "<ipython-input-1-d5b62f59ed62>:47: FutureWarning: Indexing a timezone-aware DatetimeIndex with a timezone-naive datetime is deprecated and will raise KeyError in a future version. Use a timezone-aware object instead.\n",
      "  y = max.truncate(before=pd.Timestamp('today') - pd.DateOffset(months=12))\n",
      "<ipython-input-1-d5b62f59ed62>:48: FutureWarning: Indexing a timezone-aware DatetimeIndex with a timezone-naive datetime is deprecated and will raise KeyError in a future version. Use a timezone-aware object instead.\n",
      "  m6 = max.truncate(before=pd.Timestamp('today') - pd.DateOffset(months=6))\n",
      "<ipython-input-1-d5b62f59ed62>:49: FutureWarning: Indexing a timezone-aware DatetimeIndex with a timezone-naive datetime is deprecated and will raise KeyError in a future version. Use a timezone-aware object instead.\n",
      "  m3 = max.truncate(before=pd.Timestamp('today') - pd.DateOffset(months=3))\n",
      "<ipython-input-1-d5b62f59ed62>:50: FutureWarning: Indexing a timezone-aware DatetimeIndex with a timezone-naive datetime is deprecated and will raise KeyError in a future version. Use a timezone-aware object instead.\n",
      "  m1 = max.truncate(before=pd.Timestamp('today') - pd.DateOffset(months=1))\n",
      "<ipython-input-1-d5b62f59ed62>:103: FutureWarning: The frame.append method is deprecated and will be removed from pandas in a future version. Use pandas.concat instead.\n",
      "  final = final.append(\n"
     ]
    },
    {
     "name": "stdout",
     "output_type": "stream",
     "text": [
      "0.1910672923973239\n",
      "0.29341950453591653\n",
      "0.40893668881876\n",
      "0.4670505587128373\n",
      "0.5181288605330571\n",
      "Producing data for:  AES.PRC\n",
      "Got error from yahoo api for ticker AES.PRC, Error: {'code': 'Not Found', 'description': 'No data found, symbol may be delisted'}\n",
      "- AES.PRC: No timezone found, symbol may be delisted\n",
      "Got error from yahoo api for ticker AES.PRC, Error: {'code': 'Not Found', 'description': 'No data found, symbol may be delisted'}\n",
      "- AES.PRC: No timezone found, symbol may be delisted\n",
      "Producing data for:  AET\n"
     ]
    },
    {
     "name": "stderr",
     "output_type": "stream",
     "text": [
      "<ipython-input-1-d5b62f59ed62>:47: FutureWarning: Indexing a timezone-aware DatetimeIndex with a timezone-naive datetime is deprecated and will raise KeyError in a future version. Use a timezone-aware object instead.\n",
      "  y = max.truncate(before=pd.Timestamp('today') - pd.DateOffset(months=12))\n",
      "<ipython-input-1-d5b62f59ed62>:48: FutureWarning: Indexing a timezone-aware DatetimeIndex with a timezone-naive datetime is deprecated and will raise KeyError in a future version. Use a timezone-aware object instead.\n",
      "  m6 = max.truncate(before=pd.Timestamp('today') - pd.DateOffset(months=6))\n",
      "<ipython-input-1-d5b62f59ed62>:49: FutureWarning: Indexing a timezone-aware DatetimeIndex with a timezone-naive datetime is deprecated and will raise KeyError in a future version. Use a timezone-aware object instead.\n",
      "  m3 = max.truncate(before=pd.Timestamp('today') - pd.DateOffset(months=3))\n",
      "<ipython-input-1-d5b62f59ed62>:50: FutureWarning: Indexing a timezone-aware DatetimeIndex with a timezone-naive datetime is deprecated and will raise KeyError in a future version. Use a timezone-aware object instead.\n",
      "  m1 = max.truncate(before=pd.Timestamp('today') - pd.DateOffset(months=1))\n"
     ]
    },
    {
     "name": "stdout",
     "output_type": "stream",
     "text": [
      "Producing data for:  AMG\n"
     ]
    },
    {
     "name": "stderr",
     "output_type": "stream",
     "text": [
      "<ipython-input-1-d5b62f59ed62>:47: FutureWarning: Indexing a timezone-aware DatetimeIndex with a timezone-naive datetime is deprecated and will raise KeyError in a future version. Use a timezone-aware object instead.\n",
      "  y = max.truncate(before=pd.Timestamp('today') - pd.DateOffset(months=12))\n",
      "<ipython-input-1-d5b62f59ed62>:48: FutureWarning: Indexing a timezone-aware DatetimeIndex with a timezone-naive datetime is deprecated and will raise KeyError in a future version. Use a timezone-aware object instead.\n",
      "  m6 = max.truncate(before=pd.Timestamp('today') - pd.DateOffset(months=6))\n",
      "<ipython-input-1-d5b62f59ed62>:49: FutureWarning: Indexing a timezone-aware DatetimeIndex with a timezone-naive datetime is deprecated and will raise KeyError in a future version. Use a timezone-aware object instead.\n",
      "  m3 = max.truncate(before=pd.Timestamp('today') - pd.DateOffset(months=3))\n",
      "<ipython-input-1-d5b62f59ed62>:50: FutureWarning: Indexing a timezone-aware DatetimeIndex with a timezone-naive datetime is deprecated and will raise KeyError in a future version. Use a timezone-aware object instead.\n",
      "  m1 = max.truncate(before=pd.Timestamp('today') - pd.DateOffset(months=1))\n",
      "<ipython-input-1-d5b62f59ed62>:103: FutureWarning: The frame.append method is deprecated and will be removed from pandas in a future version. Use pandas.concat instead.\n",
      "  final = final.append(\n"
     ]
    },
    {
     "name": "stdout",
     "output_type": "stream",
     "text": [
      "0.189752550947794\n",
      "0.2887733428352398\n",
      "0.39553729412323224\n",
      "0.4484181608228015\n",
      "0.4945846605195447\n",
      "Producing data for:  MGR\n"
     ]
    },
    {
     "name": "stderr",
     "output_type": "stream",
     "text": [
      "<ipython-input-1-d5b62f59ed62>:47: FutureWarning: Indexing a timezone-aware DatetimeIndex with a timezone-naive datetime is deprecated and will raise KeyError in a future version. Use a timezone-aware object instead.\n",
      "  y = max.truncate(before=pd.Timestamp('today') - pd.DateOffset(months=12))\n",
      "<ipython-input-1-d5b62f59ed62>:48: FutureWarning: Indexing a timezone-aware DatetimeIndex with a timezone-naive datetime is deprecated and will raise KeyError in a future version. Use a timezone-aware object instead.\n",
      "  m6 = max.truncate(before=pd.Timestamp('today') - pd.DateOffset(months=6))\n",
      "<ipython-input-1-d5b62f59ed62>:49: FutureWarning: Indexing a timezone-aware DatetimeIndex with a timezone-naive datetime is deprecated and will raise KeyError in a future version. Use a timezone-aware object instead.\n",
      "  m3 = max.truncate(before=pd.Timestamp('today') - pd.DateOffset(months=3))\n",
      "<ipython-input-1-d5b62f59ed62>:50: FutureWarning: Indexing a timezone-aware DatetimeIndex with a timezone-naive datetime is deprecated and will raise KeyError in a future version. Use a timezone-aware object instead.\n",
      "  m1 = max.truncate(before=pd.Timestamp('today') - pd.DateOffset(months=1))\n",
      "C:\\Users\\Kamen\\AppData\\Local\\Programs\\Python\\Python38\\lib\\site-packages\\numpy\\core\\_methods.py:262: RuntimeWarning: Degrees of freedom <= 0 for slice\n",
      "  ret = _var(a, axis=axis, dtype=dtype, out=out, ddof=ddof,\n",
      "C:\\Users\\Kamen\\AppData\\Local\\Programs\\Python\\Python38\\lib\\site-packages\\numpy\\core\\_methods.py:222: RuntimeWarning: invalid value encountered in true_divide\n",
      "  arrmean = um.true_divide(arrmean, div, out=arrmean, casting='unsafe',\n",
      "C:\\Users\\Kamen\\AppData\\Local\\Programs\\Python\\Python38\\lib\\site-packages\\numpy\\core\\_methods.py:254: RuntimeWarning: invalid value encountered in double_scalars\n",
      "  ret = ret.dtype.type(ret / rcount)\n",
      "<ipython-input-1-d5b62f59ed62>:38: RuntimeWarning: divide by zero encountered in log\n",
      "  reg = np.polyfit(np.log(lags), np.log(tau), 1)\n",
      "<ipython-input-1-d5b62f59ed62>:103: FutureWarning: The frame.append method is deprecated and will be removed from pandas in a future version. Use pandas.concat instead.\n",
      "  final = final.append(\n"
     ]
    },
    {
     "name": "stdout",
     "output_type": "stream",
     "text": [
      "0.16052802617473172\n",
      "0.22582934958143291\n",
      "0.2965986785231933\n",
      "0.3315701577603565\n",
      "nan\n",
      "Producing data for:  AFL\n"
     ]
    },
    {
     "name": "stderr",
     "output_type": "stream",
     "text": [
      "<ipython-input-1-d5b62f59ed62>:47: FutureWarning: Indexing a timezone-aware DatetimeIndex with a timezone-naive datetime is deprecated and will raise KeyError in a future version. Use a timezone-aware object instead.\n",
      "  y = max.truncate(before=pd.Timestamp('today') - pd.DateOffset(months=12))\n",
      "<ipython-input-1-d5b62f59ed62>:48: FutureWarning: Indexing a timezone-aware DatetimeIndex with a timezone-naive datetime is deprecated and will raise KeyError in a future version. Use a timezone-aware object instead.\n",
      "  m6 = max.truncate(before=pd.Timestamp('today') - pd.DateOffset(months=6))\n",
      "<ipython-input-1-d5b62f59ed62>:49: FutureWarning: Indexing a timezone-aware DatetimeIndex with a timezone-naive datetime is deprecated and will raise KeyError in a future version. Use a timezone-aware object instead.\n",
      "  m3 = max.truncate(before=pd.Timestamp('today') - pd.DateOffset(months=3))\n",
      "<ipython-input-1-d5b62f59ed62>:50: FutureWarning: Indexing a timezone-aware DatetimeIndex with a timezone-naive datetime is deprecated and will raise KeyError in a future version. Use a timezone-aware object instead.\n",
      "  m1 = max.truncate(before=pd.Timestamp('today') - pd.DateOffset(months=1))\n"
     ]
    },
    {
     "name": "stdout",
     "output_type": "stream",
     "text": [
      "0.20434613244412592\n",
      "0.29687668540318213\n",
      "0.38768917801642533\n",
      "0.42885597409817006\n",
      "0.46088229222181337\n",
      "Producing data for:  AFSD\n"
     ]
    },
    {
     "name": "stderr",
     "output_type": "stream",
     "text": [
      "<ipython-input-1-d5b62f59ed62>:103: FutureWarning: The frame.append method is deprecated and will be removed from pandas in a future version. Use pandas.concat instead.\n",
      "  final = final.append(\n"
     ]
    },
    {
     "name": "stdout",
     "output_type": "stream",
     "text": [
      "Got error from yahoo api for ticker AFSD, Error: {'code': 'Not Found', 'description': 'No data found, symbol may be delisted'}\n",
      "- AFSD: No timezone found, symbol may be delisted\n",
      "Got error from yahoo api for ticker AFSD, Error: {'code': 'Not Found', 'description': 'No data found, symbol may be delisted'}\n",
      "- AFSD: No timezone found, symbol may be delisted\n",
      "Producing data for:  MITT\n"
     ]
    },
    {
     "name": "stderr",
     "output_type": "stream",
     "text": [
      "<ipython-input-1-d5b62f59ed62>:47: FutureWarning: Indexing a timezone-aware DatetimeIndex with a timezone-naive datetime is deprecated and will raise KeyError in a future version. Use a timezone-aware object instead.\n",
      "  y = max.truncate(before=pd.Timestamp('today') - pd.DateOffset(months=12))\n",
      "<ipython-input-1-d5b62f59ed62>:48: FutureWarning: Indexing a timezone-aware DatetimeIndex with a timezone-naive datetime is deprecated and will raise KeyError in a future version. Use a timezone-aware object instead.\n",
      "  m6 = max.truncate(before=pd.Timestamp('today') - pd.DateOffset(months=6))\n",
      "<ipython-input-1-d5b62f59ed62>:49: FutureWarning: Indexing a timezone-aware DatetimeIndex with a timezone-naive datetime is deprecated and will raise KeyError in a future version. Use a timezone-aware object instead.\n",
      "  m3 = max.truncate(before=pd.Timestamp('today') - pd.DateOffset(months=3))\n",
      "<ipython-input-1-d5b62f59ed62>:50: FutureWarning: Indexing a timezone-aware DatetimeIndex with a timezone-naive datetime is deprecated and will raise KeyError in a future version. Use a timezone-aware object instead.\n",
      "  m1 = max.truncate(before=pd.Timestamp('today') - pd.DateOffset(months=1))\n",
      "<ipython-input-1-d5b62f59ed62>:103: FutureWarning: The frame.append method is deprecated and will be removed from pandas in a future version. Use pandas.concat instead.\n",
      "  final = final.append(\n"
     ]
    },
    {
     "name": "stdout",
     "output_type": "stream",
     "text": [
      "0.24787353626357556\n",
      "0.35855045806528596\n",
      "0.46386634716718067\n",
      "0.5149803622554219\n",
      "0.5646961532947238\n",
      "Producing data for:  MITT.PRA\n",
      "Got error from yahoo api for ticker MITT.PRA, Error: {'code': 'Not Found', 'description': 'No data found, symbol may be delisted'}\n",
      "- MITT.PRA: No timezone found, symbol may be delisted\n",
      "Got error from yahoo api for ticker MITT.PRA, Error: {'code': 'Not Found', 'description': 'No data found, symbol may be delisted'}\n",
      "- MITT.PRA: No timezone found, symbol may be delisted\n",
      "Producing data for:  MITT.PRB\n",
      "Got error from yahoo api for ticker MITT.PRB, Error: {'code': 'Not Found', 'description': 'No data found, symbol may be delisted'}\n",
      "- MITT.PRB: No timezone found, symbol may be delisted\n",
      "Got error from yahoo api for ticker MITT.PRB, Error: {'code': 'Not Found', 'description': 'No data found, symbol may be delisted'}\n",
      "- MITT.PRB: No timezone found, symbol may be delisted\n",
      "Producing data for:  AGCO\n"
     ]
    },
    {
     "name": "stderr",
     "output_type": "stream",
     "text": [
      "<ipython-input-1-d5b62f59ed62>:47: FutureWarning: Indexing a timezone-aware DatetimeIndex with a timezone-naive datetime is deprecated and will raise KeyError in a future version. Use a timezone-aware object instead.\n",
      "  y = max.truncate(before=pd.Timestamp('today') - pd.DateOffset(months=12))\n",
      "<ipython-input-1-d5b62f59ed62>:48: FutureWarning: Indexing a timezone-aware DatetimeIndex with a timezone-naive datetime is deprecated and will raise KeyError in a future version. Use a timezone-aware object instead.\n",
      "  m6 = max.truncate(before=pd.Timestamp('today') - pd.DateOffset(months=6))\n",
      "<ipython-input-1-d5b62f59ed62>:49: FutureWarning: Indexing a timezone-aware DatetimeIndex with a timezone-naive datetime is deprecated and will raise KeyError in a future version. Use a timezone-aware object instead.\n",
      "  m3 = max.truncate(before=pd.Timestamp('today') - pd.DateOffset(months=3))\n",
      "<ipython-input-1-d5b62f59ed62>:50: FutureWarning: Indexing a timezone-aware DatetimeIndex with a timezone-naive datetime is deprecated and will raise KeyError in a future version. Use a timezone-aware object instead.\n",
      "  m1 = max.truncate(before=pd.Timestamp('today') - pd.DateOffset(months=1))\n"
     ]
    },
    {
     "name": "stdout",
     "output_type": "stream",
     "text": [
      "0.17916386105118376\n",
      "0.27903289106545626\n",
      "0.3781943354731357\n",
      "0.42288575935722883\n",
      "0.457971201287198\n",
      "Producing data for:  A\n"
     ]
    },
    {
     "name": "stderr",
     "output_type": "stream",
     "text": [
      "<ipython-input-1-d5b62f59ed62>:103: FutureWarning: The frame.append method is deprecated and will be removed from pandas in a future version. Use pandas.concat instead.\n",
      "  final = final.append(\n",
      "<ipython-input-1-d5b62f59ed62>:47: FutureWarning: Indexing a timezone-aware DatetimeIndex with a timezone-naive datetime is deprecated and will raise KeyError in a future version. Use a timezone-aware object instead.\n",
      "  y = max.truncate(before=pd.Timestamp('today') - pd.DateOffset(months=12))\n",
      "<ipython-input-1-d5b62f59ed62>:48: FutureWarning: Indexing a timezone-aware DatetimeIndex with a timezone-naive datetime is deprecated and will raise KeyError in a future version. Use a timezone-aware object instead.\n",
      "  m6 = max.truncate(before=pd.Timestamp('today') - pd.DateOffset(months=6))\n",
      "<ipython-input-1-d5b62f59ed62>:49: FutureWarning: Indexing a timezone-aware DatetimeIndex with a timezone-naive datetime is deprecated and will raise KeyError in a future version. Use a timezone-aware object instead.\n",
      "  m3 = max.truncate(before=pd.Timestamp('today') - pd.DateOffset(months=3))\n",
      "<ipython-input-1-d5b62f59ed62>:50: FutureWarning: Indexing a timezone-aware DatetimeIndex with a timezone-naive datetime is deprecated and will raise KeyError in a future version. Use a timezone-aware object instead.\n",
      "  m1 = max.truncate(before=pd.Timestamp('today') - pd.DateOffset(months=1))\n",
      "<ipython-input-1-d5b62f59ed62>:103: FutureWarning: The frame.append method is deprecated and will be removed from pandas in a future version. Use pandas.concat instead.\n",
      "  final = final.append(\n"
     ]
    },
    {
     "name": "stdout",
     "output_type": "stream",
     "text": [
      "0.18131237049445043\n",
      "0.2718264484687971\n",
      "0.36228971443281216\n",
      "0.407187587586959\n",
      "0.450383399152132\n",
      "Producing data for:  AEM\n"
     ]
    },
    {
     "name": "stderr",
     "output_type": "stream",
     "text": [
      "<ipython-input-1-d5b62f59ed62>:47: FutureWarning: Indexing a timezone-aware DatetimeIndex with a timezone-naive datetime is deprecated and will raise KeyError in a future version. Use a timezone-aware object instead.\n",
      "  y = max.truncate(before=pd.Timestamp('today') - pd.DateOffset(months=12))\n",
      "<ipython-input-1-d5b62f59ed62>:48: FutureWarning: Indexing a timezone-aware DatetimeIndex with a timezone-naive datetime is deprecated and will raise KeyError in a future version. Use a timezone-aware object instead.\n",
      "  m6 = max.truncate(before=pd.Timestamp('today') - pd.DateOffset(months=6))\n",
      "<ipython-input-1-d5b62f59ed62>:49: FutureWarning: Indexing a timezone-aware DatetimeIndex with a timezone-naive datetime is deprecated and will raise KeyError in a future version. Use a timezone-aware object instead.\n",
      "  m3 = max.truncate(before=pd.Timestamp('today') - pd.DateOffset(months=3))\n",
      "<ipython-input-1-d5b62f59ed62>:50: FutureWarning: Indexing a timezone-aware DatetimeIndex with a timezone-naive datetime is deprecated and will raise KeyError in a future version. Use a timezone-aware object instead.\n",
      "  m1 = max.truncate(before=pd.Timestamp('today') - pd.DateOffset(months=1))\n"
     ]
    },
    {
     "name": "stdout",
     "output_type": "stream",
     "text": [
      "0.19189313881666797\n",
      "0.28207068307561844\n",
      "0.3637718367966935\n",
      "0.4020289426124758\n",
      "0.43861046794228953\n",
      "Producing data for:  ADC\n"
     ]
    },
    {
     "name": "stderr",
     "output_type": "stream",
     "text": [
      "<ipython-input-1-d5b62f59ed62>:103: FutureWarning: The frame.append method is deprecated and will be removed from pandas in a future version. Use pandas.concat instead.\n",
      "  final = final.append(\n",
      "<ipython-input-1-d5b62f59ed62>:47: FutureWarning: Indexing a timezone-aware DatetimeIndex with a timezone-naive datetime is deprecated and will raise KeyError in a future version. Use a timezone-aware object instead.\n",
      "  y = max.truncate(before=pd.Timestamp('today') - pd.DateOffset(months=12))\n",
      "<ipython-input-1-d5b62f59ed62>:48: FutureWarning: Indexing a timezone-aware DatetimeIndex with a timezone-naive datetime is deprecated and will raise KeyError in a future version. Use a timezone-aware object instead.\n",
      "  m6 = max.truncate(before=pd.Timestamp('today') - pd.DateOffset(months=6))\n",
      "<ipython-input-1-d5b62f59ed62>:49: FutureWarning: Indexing a timezone-aware DatetimeIndex with a timezone-naive datetime is deprecated and will raise KeyError in a future version. Use a timezone-aware object instead.\n",
      "  m3 = max.truncate(before=pd.Timestamp('today') - pd.DateOffset(months=3))\n",
      "<ipython-input-1-d5b62f59ed62>:50: FutureWarning: Indexing a timezone-aware DatetimeIndex with a timezone-naive datetime is deprecated and will raise KeyError in a future version. Use a timezone-aware object instead.\n",
      "  m1 = max.truncate(before=pd.Timestamp('today') - pd.DateOffset(months=1))\n",
      "<ipython-input-1-d5b62f59ed62>:103: FutureWarning: The frame.append method is deprecated and will be removed from pandas in a future version. Use pandas.concat instead.\n",
      "  final = final.append(\n"
     ]
    },
    {
     "name": "stdout",
     "output_type": "stream",
     "text": [
      "0.16761165019736515\n",
      "0.24177423418090765\n",
      "0.31762769369586147\n",
      "0.3580836517069874\n",
      "0.4052807992489792\n",
      "Producing data for:  AGU\n",
      "AGU: 1d data not available for startTime=-2208994789 and endTime=1673327401. Only 100 years worth of day granularity data are allowed to be fetched per request.\n",
      "AGU: 1d data not available for startTime=-2208994789 and endTime=1673327401. Only 100 years worth of day granularity data are allowed to be fetched per request.\n",
      "Producing data for:  AHC\n",
      "Got error from yahoo api for ticker AHC, Error: {'code': 'Not Found', 'description': 'No data found, symbol may be delisted'}\n",
      "- AHC: No timezone found, symbol may be delisted\n",
      "Got error from yahoo api for ticker AHC, Error: {'code': 'Not Found', 'description': 'No data found, symbol may be delisted'}\n",
      "- AHC: No timezone found, symbol may be delisted\n",
      "Producing data for:  AL\n"
     ]
    },
    {
     "name": "stderr",
     "output_type": "stream",
     "text": [
      "<ipython-input-1-d5b62f59ed62>:47: FutureWarning: Indexing a timezone-aware DatetimeIndex with a timezone-naive datetime is deprecated and will raise KeyError in a future version. Use a timezone-aware object instead.\n",
      "  y = max.truncate(before=pd.Timestamp('today') - pd.DateOffset(months=12))\n",
      "<ipython-input-1-d5b62f59ed62>:48: FutureWarning: Indexing a timezone-aware DatetimeIndex with a timezone-naive datetime is deprecated and will raise KeyError in a future version. Use a timezone-aware object instead.\n",
      "  m6 = max.truncate(before=pd.Timestamp('today') - pd.DateOffset(months=6))\n",
      "<ipython-input-1-d5b62f59ed62>:49: FutureWarning: Indexing a timezone-aware DatetimeIndex with a timezone-naive datetime is deprecated and will raise KeyError in a future version. Use a timezone-aware object instead.\n",
      "  m3 = max.truncate(before=pd.Timestamp('today') - pd.DateOffset(months=3))\n",
      "<ipython-input-1-d5b62f59ed62>:50: FutureWarning: Indexing a timezone-aware DatetimeIndex with a timezone-naive datetime is deprecated and will raise KeyError in a future version. Use a timezone-aware object instead.\n",
      "  m1 = max.truncate(before=pd.Timestamp('today') - pd.DateOffset(months=1))\n",
      "<ipython-input-1-d5b62f59ed62>:103: FutureWarning: The frame.append method is deprecated and will be removed from pandas in a future version. Use pandas.concat instead.\n",
      "  final = final.append(\n"
     ]
    },
    {
     "name": "stdout",
     "output_type": "stream",
     "text": [
      "0.19279667875309148\n",
      "0.27873170524187946\n",
      "0.35139562787217504\n",
      "0.3817909522461942\n",
      "0.3952952591230476\n",
      "Producing data for:  APD\n"
     ]
    },
    {
     "name": "stderr",
     "output_type": "stream",
     "text": [
      "<ipython-input-1-d5b62f59ed62>:47: FutureWarning: Indexing a timezone-aware DatetimeIndex with a timezone-naive datetime is deprecated and will raise KeyError in a future version. Use a timezone-aware object instead.\n",
      "  y = max.truncate(before=pd.Timestamp('today') - pd.DateOffset(months=12))\n",
      "<ipython-input-1-d5b62f59ed62>:48: FutureWarning: Indexing a timezone-aware DatetimeIndex with a timezone-naive datetime is deprecated and will raise KeyError in a future version. Use a timezone-aware object instead.\n",
      "  m6 = max.truncate(before=pd.Timestamp('today') - pd.DateOffset(months=6))\n",
      "<ipython-input-1-d5b62f59ed62>:49: FutureWarning: Indexing a timezone-aware DatetimeIndex with a timezone-naive datetime is deprecated and will raise KeyError in a future version. Use a timezone-aware object instead.\n",
      "  m3 = max.truncate(before=pd.Timestamp('today') - pd.DateOffset(months=3))\n",
      "<ipython-input-1-d5b62f59ed62>:50: FutureWarning: Indexing a timezone-aware DatetimeIndex with a timezone-naive datetime is deprecated and will raise KeyError in a future version. Use a timezone-aware object instead.\n",
      "  m1 = max.truncate(before=pd.Timestamp('today') - pd.DateOffset(months=1))\n"
     ]
    },
    {
     "name": "stdout",
     "output_type": "stream",
     "text": [
      "0.20496481410268508\n",
      "0.2945567086742479\n",
      "0.3707889876249897\n",
      "0.41094523595552257\n",
      "0.45688373361439166\n",
      "Producing data for:  AYR\n"
     ]
    },
    {
     "name": "stderr",
     "output_type": "stream",
     "text": [
      "<ipython-input-1-d5b62f59ed62>:103: FutureWarning: The frame.append method is deprecated and will be removed from pandas in a future version. Use pandas.concat instead.\n",
      "  final = final.append(\n"
     ]
    },
    {
     "name": "stdout",
     "output_type": "stream",
     "text": [
      "Got error from yahoo api for ticker AYR, Error: {'code': 'Not Found', 'description': 'No data found, symbol may be delisted'}\n",
      "- AYR: No timezone found, symbol may be delisted\n",
      "Got error from yahoo api for ticker AYR, Error: {'code': 'Not Found', 'description': 'No data found, symbol may be delisted'}\n",
      "- AYR: No timezone found, symbol may be delisted\n",
      "Producing data for:  AKS\n",
      "Got error from yahoo api for ticker AKS, Error: {'code': 'Not Found', 'description': 'No data found, symbol may be delisted'}\n",
      "- AKS: No timezone found, symbol may be delisted\n",
      "Got error from yahoo api for ticker AKS, Error: {'code': 'Not Found', 'description': 'No data found, symbol may be delisted'}\n",
      "- AKS: No timezone found, symbol may be delisted\n",
      "Producing data for:  ALP.PRO\n",
      "Got error from yahoo api for ticker ALP.PRO, Error: {'code': 'Not Found', 'description': 'No data found, symbol may be delisted'}\n",
      "- ALP.PRO: No timezone found, symbol may be delisted\n",
      "Got error from yahoo api for ticker ALP.PRO, Error: {'code': 'Not Found', 'description': 'No data found, symbol may be delisted'}\n",
      "- ALP.PRO: No timezone found, symbol may be delisted\n",
      "Producing data for:  ALG\n"
     ]
    },
    {
     "name": "stderr",
     "output_type": "stream",
     "text": [
      "<ipython-input-1-d5b62f59ed62>:47: FutureWarning: Indexing a timezone-aware DatetimeIndex with a timezone-naive datetime is deprecated and will raise KeyError in a future version. Use a timezone-aware object instead.\n",
      "  y = max.truncate(before=pd.Timestamp('today') - pd.DateOffset(months=12))\n",
      "<ipython-input-1-d5b62f59ed62>:48: FutureWarning: Indexing a timezone-aware DatetimeIndex with a timezone-naive datetime is deprecated and will raise KeyError in a future version. Use a timezone-aware object instead.\n",
      "  m6 = max.truncate(before=pd.Timestamp('today') - pd.DateOffset(months=6))\n",
      "<ipython-input-1-d5b62f59ed62>:49: FutureWarning: Indexing a timezone-aware DatetimeIndex with a timezone-naive datetime is deprecated and will raise KeyError in a future version. Use a timezone-aware object instead.\n",
      "  m3 = max.truncate(before=pd.Timestamp('today') - pd.DateOffset(months=3))\n",
      "<ipython-input-1-d5b62f59ed62>:50: FutureWarning: Indexing a timezone-aware DatetimeIndex with a timezone-naive datetime is deprecated and will raise KeyError in a future version. Use a timezone-aware object instead.\n",
      "  m1 = max.truncate(before=pd.Timestamp('today') - pd.DateOffset(months=1))\n"
     ]
    },
    {
     "name": "stdout",
     "output_type": "stream",
     "text": [
      "0.18697858006724194\n",
      "0.27713670448980166\n",
      "0.3633672620776912\n",
      "0.40147162732868424\n"
     ]
    },
    {
     "name": "stderr",
     "output_type": "stream",
     "text": [
      "<ipython-input-1-d5b62f59ed62>:103: FutureWarning: The frame.append method is deprecated and will be removed from pandas in a future version. Use pandas.concat instead.\n",
      "  final = final.append(\n"
     ]
    },
    {
     "name": "stdout",
     "output_type": "stream",
     "text": [
      "0.4380863527770154\n",
      "Producing data for:  AGI\n"
     ]
    },
    {
     "name": "stderr",
     "output_type": "stream",
     "text": [
      "<ipython-input-1-d5b62f59ed62>:47: FutureWarning: Indexing a timezone-aware DatetimeIndex with a timezone-naive datetime is deprecated and will raise KeyError in a future version. Use a timezone-aware object instead.\n",
      "  y = max.truncate(before=pd.Timestamp('today') - pd.DateOffset(months=12))\n",
      "<ipython-input-1-d5b62f59ed62>:48: FutureWarning: Indexing a timezone-aware DatetimeIndex with a timezone-naive datetime is deprecated and will raise KeyError in a future version. Use a timezone-aware object instead.\n",
      "  m6 = max.truncate(before=pd.Timestamp('today') - pd.DateOffset(months=6))\n",
      "<ipython-input-1-d5b62f59ed62>:49: FutureWarning: Indexing a timezone-aware DatetimeIndex with a timezone-naive datetime is deprecated and will raise KeyError in a future version. Use a timezone-aware object instead.\n",
      "  m3 = max.truncate(before=pd.Timestamp('today') - pd.DateOffset(months=3))\n",
      "<ipython-input-1-d5b62f59ed62>:50: FutureWarning: Indexing a timezone-aware DatetimeIndex with a timezone-naive datetime is deprecated and will raise KeyError in a future version. Use a timezone-aware object instead.\n",
      "  m1 = max.truncate(before=pd.Timestamp('today') - pd.DateOffset(months=1))\n",
      "<ipython-input-1-d5b62f59ed62>:103: FutureWarning: The frame.append method is deprecated and will be removed from pandas in a future version. Use pandas.concat instead.\n",
      "  final = final.append(\n"
     ]
    },
    {
     "name": "stdout",
     "output_type": "stream",
     "text": [
      "0.1725261389785002\n",
      "0.2523003708647995\n",
      "0.3366306294332512\n",
      "0.3834668171336633\n",
      "0.43357340820696505\n",
      "Producing data for:  ALK\n"
     ]
    },
    {
     "name": "stderr",
     "output_type": "stream",
     "text": [
      "<ipython-input-1-d5b62f59ed62>:47: FutureWarning: Indexing a timezone-aware DatetimeIndex with a timezone-naive datetime is deprecated and will raise KeyError in a future version. Use a timezone-aware object instead.\n",
      "  y = max.truncate(before=pd.Timestamp('today') - pd.DateOffset(months=12))\n",
      "<ipython-input-1-d5b62f59ed62>:48: FutureWarning: Indexing a timezone-aware DatetimeIndex with a timezone-naive datetime is deprecated and will raise KeyError in a future version. Use a timezone-aware object instead.\n",
      "  m6 = max.truncate(before=pd.Timestamp('today') - pd.DateOffset(months=6))\n",
      "<ipython-input-1-d5b62f59ed62>:49: FutureWarning: Indexing a timezone-aware DatetimeIndex with a timezone-naive datetime is deprecated and will raise KeyError in a future version. Use a timezone-aware object instead.\n",
      "  m3 = max.truncate(before=pd.Timestamp('today') - pd.DateOffset(months=3))\n",
      "<ipython-input-1-d5b62f59ed62>:50: FutureWarning: Indexing a timezone-aware DatetimeIndex with a timezone-naive datetime is deprecated and will raise KeyError in a future version. Use a timezone-aware object instead.\n",
      "  m1 = max.truncate(before=pd.Timestamp('today') - pd.DateOffset(months=1))\n"
     ]
    },
    {
     "name": "stdout",
     "output_type": "stream",
     "text": [
      "0.20872691266026902\n",
      "0.30734455796547927\n",
      "0.39828460448289843\n",
      "0.4391698444972274\n",
      "0.483360370174155\n",
      "Producing data for:  AIN\n"
     ]
    },
    {
     "name": "stderr",
     "output_type": "stream",
     "text": [
      "<ipython-input-1-d5b62f59ed62>:103: FutureWarning: The frame.append method is deprecated and will be removed from pandas in a future version. Use pandas.concat instead.\n",
      "  final = final.append(\n",
      "<ipython-input-1-d5b62f59ed62>:47: FutureWarning: Indexing a timezone-aware DatetimeIndex with a timezone-naive datetime is deprecated and will raise KeyError in a future version. Use a timezone-aware object instead.\n",
      "  y = max.truncate(before=pd.Timestamp('today') - pd.DateOffset(months=12))\n",
      "<ipython-input-1-d5b62f59ed62>:48: FutureWarning: Indexing a timezone-aware DatetimeIndex with a timezone-naive datetime is deprecated and will raise KeyError in a future version. Use a timezone-aware object instead.\n",
      "  m6 = max.truncate(before=pd.Timestamp('today') - pd.DateOffset(months=6))\n",
      "<ipython-input-1-d5b62f59ed62>:49: FutureWarning: Indexing a timezone-aware DatetimeIndex with a timezone-naive datetime is deprecated and will raise KeyError in a future version. Use a timezone-aware object instead.\n",
      "  m3 = max.truncate(before=pd.Timestamp('today') - pd.DateOffset(months=3))\n",
      "<ipython-input-1-d5b62f59ed62>:50: FutureWarning: Indexing a timezone-aware DatetimeIndex with a timezone-naive datetime is deprecated and will raise KeyError in a future version. Use a timezone-aware object instead.\n",
      "  m1 = max.truncate(before=pd.Timestamp('today') - pd.DateOffset(months=1))\n"
     ]
    },
    {
     "name": "stdout",
     "output_type": "stream",
     "text": [
      "0.19506968063872002\n",
      "0.2845671499763205\n",
      "0.36955463729642846\n",
      "0.4079730629931484\n",
      "0.443367066594781\n",
      "Producing data for:  ALB\n"
     ]
    },
    {
     "name": "stderr",
     "output_type": "stream",
     "text": [
      "<ipython-input-1-d5b62f59ed62>:103: FutureWarning: The frame.append method is deprecated and will be removed from pandas in a future version. Use pandas.concat instead.\n",
      "  final = final.append(\n",
      "<ipython-input-1-d5b62f59ed62>:47: FutureWarning: Indexing a timezone-aware DatetimeIndex with a timezone-naive datetime is deprecated and will raise KeyError in a future version. Use a timezone-aware object instead.\n",
      "  y = max.truncate(before=pd.Timestamp('today') - pd.DateOffset(months=12))\n",
      "<ipython-input-1-d5b62f59ed62>:48: FutureWarning: Indexing a timezone-aware DatetimeIndex with a timezone-naive datetime is deprecated and will raise KeyError in a future version. Use a timezone-aware object instead.\n",
      "  m6 = max.truncate(before=pd.Timestamp('today') - pd.DateOffset(months=6))\n",
      "<ipython-input-1-d5b62f59ed62>:49: FutureWarning: Indexing a timezone-aware DatetimeIndex with a timezone-naive datetime is deprecated and will raise KeyError in a future version. Use a timezone-aware object instead.\n",
      "  m3 = max.truncate(before=pd.Timestamp('today') - pd.DateOffset(months=3))\n",
      "<ipython-input-1-d5b62f59ed62>:50: FutureWarning: Indexing a timezone-aware DatetimeIndex with a timezone-naive datetime is deprecated and will raise KeyError in a future version. Use a timezone-aware object instead.\n",
      "  m1 = max.truncate(before=pd.Timestamp('today') - pd.DateOffset(months=1))\n",
      "<ipython-input-1-d5b62f59ed62>:103: FutureWarning: The frame.append method is deprecated and will be removed from pandas in a future version. Use pandas.concat instead.\n",
      "  final = final.append(\n"
     ]
    },
    {
     "name": "stdout",
     "output_type": "stream",
     "text": [
      "0.18683313512291136\n",
      "0.2708026026556908\n",
      "0.3569764617490742\n",
      "0.4051451254668697\n",
      "0.44574267736158524\n",
      "Producing data for:  AA\n"
     ]
    },
    {
     "name": "stderr",
     "output_type": "stream",
     "text": [
      "<ipython-input-1-d5b62f59ed62>:47: FutureWarning: Indexing a timezone-aware DatetimeIndex with a timezone-naive datetime is deprecated and will raise KeyError in a future version. Use a timezone-aware object instead.\n",
      "  y = max.truncate(before=pd.Timestamp('today') - pd.DateOffset(months=12))\n",
      "<ipython-input-1-d5b62f59ed62>:48: FutureWarning: Indexing a timezone-aware DatetimeIndex with a timezone-naive datetime is deprecated and will raise KeyError in a future version. Use a timezone-aware object instead.\n",
      "  m6 = max.truncate(before=pd.Timestamp('today') - pd.DateOffset(months=6))\n",
      "<ipython-input-1-d5b62f59ed62>:49: FutureWarning: Indexing a timezone-aware DatetimeIndex with a timezone-naive datetime is deprecated and will raise KeyError in a future version. Use a timezone-aware object instead.\n",
      "  m3 = max.truncate(before=pd.Timestamp('today') - pd.DateOffset(months=3))\n",
      "<ipython-input-1-d5b62f59ed62>:50: FutureWarning: Indexing a timezone-aware DatetimeIndex with a timezone-naive datetime is deprecated and will raise KeyError in a future version. Use a timezone-aware object instead.\n",
      "  m1 = max.truncate(before=pd.Timestamp('today') - pd.DateOffset(months=1))\n"
     ]
    },
    {
     "name": "stdout",
     "output_type": "stream",
     "text": [
      "0.1964862553974066\n",
      "0.29619939301038223\n",
      "0.39547890442500655\n",
      "0.44263434456619205\n",
      "0.4789338449919827\n",
      "Producing data for:  ALR\n"
     ]
    },
    {
     "name": "stderr",
     "output_type": "stream",
     "text": [
      "<ipython-input-1-d5b62f59ed62>:103: FutureWarning: The frame.append method is deprecated and will be removed from pandas in a future version. Use pandas.concat instead.\n",
      "  final = final.append(\n",
      "<ipython-input-1-d5b62f59ed62>:47: FutureWarning: Indexing a timezone-aware DatetimeIndex with a timezone-naive datetime is deprecated and will raise KeyError in a future version. Use a timezone-aware object instead.\n",
      "  y = max.truncate(before=pd.Timestamp('today') - pd.DateOffset(months=12))\n",
      "<ipython-input-1-d5b62f59ed62>:48: FutureWarning: Indexing a timezone-aware DatetimeIndex with a timezone-naive datetime is deprecated and will raise KeyError in a future version. Use a timezone-aware object instead.\n",
      "  m6 = max.truncate(before=pd.Timestamp('today') - pd.DateOffset(months=6))\n",
      "<ipython-input-1-d5b62f59ed62>:49: FutureWarning: Indexing a timezone-aware DatetimeIndex with a timezone-naive datetime is deprecated and will raise KeyError in a future version. Use a timezone-aware object instead.\n",
      "  m3 = max.truncate(before=pd.Timestamp('today') - pd.DateOffset(months=3))\n",
      "<ipython-input-1-d5b62f59ed62>:50: FutureWarning: Indexing a timezone-aware DatetimeIndex with a timezone-naive datetime is deprecated and will raise KeyError in a future version. Use a timezone-aware object instead.\n",
      "  m1 = max.truncate(before=pd.Timestamp('today') - pd.DateOffset(months=1))\n",
      "<ipython-input-1-d5b62f59ed62>:103: FutureWarning: The frame.append method is deprecated and will be removed from pandas in a future version. Use pandas.concat instead.\n",
      "  final = final.append(\n"
     ]
    },
    {
     "name": "stdout",
     "output_type": "stream",
     "text": [
      "0.21093229738689745\n",
      "0.3192080247385641\n",
      "0.4242890705254733\n",
      "0.4738996793907986\n",
      "0.5180678463109774\n",
      "Producing data for:  ALR.PRB\n",
      "Got error from yahoo api for ticker ALR.PRB, Error: {'code': 'Not Found', 'description': 'No data found, symbol may be delisted'}\n",
      "- ALR.PRB: No timezone found, symbol may be delisted\n",
      "Got error from yahoo api for ticker ALR.PRB, Error: {'code': 'Not Found', 'description': 'No data found, symbol may be delisted'}\n",
      "- ALR.PRB: No timezone found, symbol may be delisted\n",
      "Producing data for:  ALEX\n"
     ]
    },
    {
     "name": "stderr",
     "output_type": "stream",
     "text": [
      "<ipython-input-1-d5b62f59ed62>:47: FutureWarning: Indexing a timezone-aware DatetimeIndex with a timezone-naive datetime is deprecated and will raise KeyError in a future version. Use a timezone-aware object instead.\n",
      "  y = max.truncate(before=pd.Timestamp('today') - pd.DateOffset(months=12))\n",
      "<ipython-input-1-d5b62f59ed62>:48: FutureWarning: Indexing a timezone-aware DatetimeIndex with a timezone-naive datetime is deprecated and will raise KeyError in a future version. Use a timezone-aware object instead.\n",
      "  m6 = max.truncate(before=pd.Timestamp('today') - pd.DateOffset(months=6))\n",
      "<ipython-input-1-d5b62f59ed62>:49: FutureWarning: Indexing a timezone-aware DatetimeIndex with a timezone-naive datetime is deprecated and will raise KeyError in a future version. Use a timezone-aware object instead.\n",
      "  m3 = max.truncate(before=pd.Timestamp('today') - pd.DateOffset(months=3))\n",
      "<ipython-input-1-d5b62f59ed62>:50: FutureWarning: Indexing a timezone-aware DatetimeIndex with a timezone-naive datetime is deprecated and will raise KeyError in a future version. Use a timezone-aware object instead.\n",
      "  m1 = max.truncate(before=pd.Timestamp('today') - pd.DateOffset(months=1))\n"
     ]
    },
    {
     "name": "stdout",
     "output_type": "stream",
     "text": [
      "0.20031387528003736\n",
      "0.28850787918699244\n",
      "0.3781323699651775\n",
      "0.4164740378122581\n",
      "0.4437549339324151\n",
      "Producing data for:  ALX\n"
     ]
    },
    {
     "name": "stderr",
     "output_type": "stream",
     "text": [
      "<ipython-input-1-d5b62f59ed62>:103: FutureWarning: The frame.append method is deprecated and will be removed from pandas in a future version. Use pandas.concat instead.\n",
      "  final = final.append(\n",
      "<ipython-input-1-d5b62f59ed62>:47: FutureWarning: Indexing a timezone-aware DatetimeIndex with a timezone-naive datetime is deprecated and will raise KeyError in a future version. Use a timezone-aware object instead.\n",
      "  y = max.truncate(before=pd.Timestamp('today') - pd.DateOffset(months=12))\n",
      "<ipython-input-1-d5b62f59ed62>:48: FutureWarning: Indexing a timezone-aware DatetimeIndex with a timezone-naive datetime is deprecated and will raise KeyError in a future version. Use a timezone-aware object instead.\n",
      "  m6 = max.truncate(before=pd.Timestamp('today') - pd.DateOffset(months=6))\n",
      "<ipython-input-1-d5b62f59ed62>:49: FutureWarning: Indexing a timezone-aware DatetimeIndex with a timezone-naive datetime is deprecated and will raise KeyError in a future version. Use a timezone-aware object instead.\n",
      "  m3 = max.truncate(before=pd.Timestamp('today') - pd.DateOffset(months=3))\n",
      "<ipython-input-1-d5b62f59ed62>:50: FutureWarning: Indexing a timezone-aware DatetimeIndex with a timezone-naive datetime is deprecated and will raise KeyError in a future version. Use a timezone-aware object instead.\n",
      "  m1 = max.truncate(before=pd.Timestamp('today') - pd.DateOffset(months=1))\n"
     ]
    },
    {
     "name": "stdout",
     "output_type": "stream",
     "text": [
      "0.1810370956638665\n",
      "0.26040662236440654\n",
      "0.34313706276298966\n",
      "0.38326383562980443\n",
      "0.4255220971504355\n",
      "Producing data for:  ARE\n"
     ]
    },
    {
     "name": "stderr",
     "output_type": "stream",
     "text": [
      "<ipython-input-1-d5b62f59ed62>:103: FutureWarning: The frame.append method is deprecated and will be removed from pandas in a future version. Use pandas.concat instead.\n",
      "  final = final.append(\n",
      "<ipython-input-1-d5b62f59ed62>:47: FutureWarning: Indexing a timezone-aware DatetimeIndex with a timezone-naive datetime is deprecated and will raise KeyError in a future version. Use a timezone-aware object instead.\n",
      "  y = max.truncate(before=pd.Timestamp('today') - pd.DateOffset(months=12))\n",
      "<ipython-input-1-d5b62f59ed62>:48: FutureWarning: Indexing a timezone-aware DatetimeIndex with a timezone-naive datetime is deprecated and will raise KeyError in a future version. Use a timezone-aware object instead.\n",
      "  m6 = max.truncate(before=pd.Timestamp('today') - pd.DateOffset(months=6))\n",
      "<ipython-input-1-d5b62f59ed62>:49: FutureWarning: Indexing a timezone-aware DatetimeIndex with a timezone-naive datetime is deprecated and will raise KeyError in a future version. Use a timezone-aware object instead.\n",
      "  m3 = max.truncate(before=pd.Timestamp('today') - pd.DateOffset(months=3))\n",
      "<ipython-input-1-d5b62f59ed62>:50: FutureWarning: Indexing a timezone-aware DatetimeIndex with a timezone-naive datetime is deprecated and will raise KeyError in a future version. Use a timezone-aware object instead.\n",
      "  m1 = max.truncate(before=pd.Timestamp('today') - pd.DateOffset(months=1))\n",
      "<ipython-input-1-d5b62f59ed62>:103: FutureWarning: The frame.append method is deprecated and will be removed from pandas in a future version. Use pandas.concat instead.\n",
      "  final = final.append(\n"
     ]
    },
    {
     "name": "stdout",
     "output_type": "stream",
     "text": [
      "0.19509502785283683\n",
      "0.2800075591317809\n",
      "0.3674940619553929\n",
      "0.40618522843747396\n",
      "0.44524289397515615\n",
      "Producing data for:  ARE.PRD\n",
      "Got error from yahoo api for ticker ARE.PRD, Error: {'code': 'Not Found', 'description': 'No data found, symbol may be delisted'}\n",
      "- ARE.PRD: No timezone found, symbol may be delisted\n",
      "Got error from yahoo api for ticker ARE.PRD, Error: {'code': 'Not Found', 'description': 'No data found, symbol may be delisted'}\n",
      "- ARE.PRD: No timezone found, symbol may be delisted\n",
      "Producing data for:  ARE.PRE\n",
      "Got error from yahoo api for ticker ARE.PRE, Error: {'code': 'Not Found', 'description': 'No data found, symbol may be delisted'}\n",
      "- ARE.PRE: No timezone found, symbol may be delisted\n",
      "Got error from yahoo api for ticker ARE.PRE, Error: {'code': 'Not Found', 'description': 'No data found, symbol may be delisted'}\n",
      "- ARE.PRE: No timezone found, symbol may be delisted\n",
      "Producing data for:  AQN\n"
     ]
    },
    {
     "name": "stderr",
     "output_type": "stream",
     "text": [
      "<ipython-input-1-d5b62f59ed62>:47: FutureWarning: Indexing a timezone-aware DatetimeIndex with a timezone-naive datetime is deprecated and will raise KeyError in a future version. Use a timezone-aware object instead.\n",
      "  y = max.truncate(before=pd.Timestamp('today') - pd.DateOffset(months=12))\n",
      "<ipython-input-1-d5b62f59ed62>:48: FutureWarning: Indexing a timezone-aware DatetimeIndex with a timezone-naive datetime is deprecated and will raise KeyError in a future version. Use a timezone-aware object instead.\n",
      "  m6 = max.truncate(before=pd.Timestamp('today') - pd.DateOffset(months=6))\n",
      "<ipython-input-1-d5b62f59ed62>:49: FutureWarning: Indexing a timezone-aware DatetimeIndex with a timezone-naive datetime is deprecated and will raise KeyError in a future version. Use a timezone-aware object instead.\n",
      "  m3 = max.truncate(before=pd.Timestamp('today') - pd.DateOffset(months=3))\n",
      "<ipython-input-1-d5b62f59ed62>:50: FutureWarning: Indexing a timezone-aware DatetimeIndex with a timezone-naive datetime is deprecated and will raise KeyError in a future version. Use a timezone-aware object instead.\n",
      "  m1 = max.truncate(before=pd.Timestamp('today') - pd.DateOffset(months=1))\n",
      "<ipython-input-1-d5b62f59ed62>:103: FutureWarning: The frame.append method is deprecated and will be removed from pandas in a future version. Use pandas.concat instead.\n",
      "  final = final.append(\n"
     ]
    },
    {
     "name": "stdout",
     "output_type": "stream",
     "text": [
      "0.19772667673027858\n",
      "0.287358761683651\n",
      "0.36342840492016115\n",
      "0.39996880877301244\n",
      "0.4301788738331075\n",
      "Producing data for:  BABA\n"
     ]
    },
    {
     "name": "stderr",
     "output_type": "stream",
     "text": [
      "<ipython-input-1-d5b62f59ed62>:47: FutureWarning: Indexing a timezone-aware DatetimeIndex with a timezone-naive datetime is deprecated and will raise KeyError in a future version. Use a timezone-aware object instead.\n",
      "  y = max.truncate(before=pd.Timestamp('today') - pd.DateOffset(months=12))\n",
      "<ipython-input-1-d5b62f59ed62>:48: FutureWarning: Indexing a timezone-aware DatetimeIndex with a timezone-naive datetime is deprecated and will raise KeyError in a future version. Use a timezone-aware object instead.\n",
      "  m6 = max.truncate(before=pd.Timestamp('today') - pd.DateOffset(months=6))\n",
      "<ipython-input-1-d5b62f59ed62>:49: FutureWarning: Indexing a timezone-aware DatetimeIndex with a timezone-naive datetime is deprecated and will raise KeyError in a future version. Use a timezone-aware object instead.\n",
      "  m3 = max.truncate(before=pd.Timestamp('today') - pd.DateOffset(months=3))\n",
      "<ipython-input-1-d5b62f59ed62>:50: FutureWarning: Indexing a timezone-aware DatetimeIndex with a timezone-naive datetime is deprecated and will raise KeyError in a future version. Use a timezone-aware object instead.\n",
      "  m1 = max.truncate(before=pd.Timestamp('today') - pd.DateOffset(months=1))\n",
      "<ipython-input-1-d5b62f59ed62>:103: FutureWarning: The frame.append method is deprecated and will be removed from pandas in a future version. Use pandas.concat instead.\n",
      "  final = final.append(\n"
     ]
    },
    {
     "name": "stdout",
     "output_type": "stream",
     "text": [
      "0.18109610637615098\n",
      "0.2769838614669845\n",
      "0.3893067672340489\n",
      "0.44594720865070564\n",
      "0.4865769695675847\n",
      "Producing data for:  Y\n",
      "Got error from yahoo api for ticker Y, Error: {'code': 'Not Found', 'description': 'No data found, symbol may be delisted'}\n",
      "- Y: No timezone found, symbol may be delisted\n",
      "Got error from yahoo api for ticker Y, Error: {'code': 'Not Found', 'description': 'No data found, symbol may be delisted'}\n",
      "- Y: No timezone found, symbol may be delisted\n",
      "Producing data for:  ATI\n"
     ]
    },
    {
     "name": "stderr",
     "output_type": "stream",
     "text": [
      "<ipython-input-1-d5b62f59ed62>:47: FutureWarning: Indexing a timezone-aware DatetimeIndex with a timezone-naive datetime is deprecated and will raise KeyError in a future version. Use a timezone-aware object instead.\n",
      "  y = max.truncate(before=pd.Timestamp('today') - pd.DateOffset(months=12))\n",
      "<ipython-input-1-d5b62f59ed62>:48: FutureWarning: Indexing a timezone-aware DatetimeIndex with a timezone-naive datetime is deprecated and will raise KeyError in a future version. Use a timezone-aware object instead.\n",
      "  m6 = max.truncate(before=pd.Timestamp('today') - pd.DateOffset(months=6))\n",
      "<ipython-input-1-d5b62f59ed62>:49: FutureWarning: Indexing a timezone-aware DatetimeIndex with a timezone-naive datetime is deprecated and will raise KeyError in a future version. Use a timezone-aware object instead.\n",
      "  m3 = max.truncate(before=pd.Timestamp('today') - pd.DateOffset(months=3))\n",
      "<ipython-input-1-d5b62f59ed62>:50: FutureWarning: Indexing a timezone-aware DatetimeIndex with a timezone-naive datetime is deprecated and will raise KeyError in a future version. Use a timezone-aware object instead.\n",
      "  m1 = max.truncate(before=pd.Timestamp('today') - pd.DateOffset(months=1))\n",
      "<ipython-input-1-d5b62f59ed62>:103: FutureWarning: The frame.append method is deprecated and will be removed from pandas in a future version. Use pandas.concat instead.\n",
      "  final = final.append(\n"
     ]
    },
    {
     "name": "stdout",
     "output_type": "stream",
     "text": [
      "0.19029464668300233\n",
      "0.2922858839942398\n",
      "0.4056290200236469\n",
      "0.46376384596781794\n",
      "0.5122052959327765\n",
      "Producing data for:  ALLE\n"
     ]
    },
    {
     "name": "stderr",
     "output_type": "stream",
     "text": [
      "<ipython-input-1-d5b62f59ed62>:47: FutureWarning: Indexing a timezone-aware DatetimeIndex with a timezone-naive datetime is deprecated and will raise KeyError in a future version. Use a timezone-aware object instead.\n",
      "  y = max.truncate(before=pd.Timestamp('today') - pd.DateOffset(months=12))\n",
      "<ipython-input-1-d5b62f59ed62>:48: FutureWarning: Indexing a timezone-aware DatetimeIndex with a timezone-naive datetime is deprecated and will raise KeyError in a future version. Use a timezone-aware object instead.\n",
      "  m6 = max.truncate(before=pd.Timestamp('today') - pd.DateOffset(months=6))\n",
      "<ipython-input-1-d5b62f59ed62>:49: FutureWarning: Indexing a timezone-aware DatetimeIndex with a timezone-naive datetime is deprecated and will raise KeyError in a future version. Use a timezone-aware object instead.\n",
      "  m3 = max.truncate(before=pd.Timestamp('today') - pd.DateOffset(months=3))\n",
      "<ipython-input-1-d5b62f59ed62>:50: FutureWarning: Indexing a timezone-aware DatetimeIndex with a timezone-naive datetime is deprecated and will raise KeyError in a future version. Use a timezone-aware object instead.\n",
      "  m1 = max.truncate(before=pd.Timestamp('today') - pd.DateOffset(months=1))\n",
      "<ipython-input-1-d5b62f59ed62>:103: FutureWarning: The frame.append method is deprecated and will be removed from pandas in a future version. Use pandas.concat instead.\n",
      "  final = final.append(\n"
     ]
    },
    {
     "name": "stdout",
     "output_type": "stream",
     "text": [
      "0.18495768212792063\n",
      "0.2712416210924171\n",
      "0.35358522610356047\n",
      "0.37890375222487166\n",
      "0.3954223649274501\n",
      "Producing data for:  AGN\n",
      "Got error from yahoo api for ticker AGN, Error: {'code': 'Not Found', 'description': 'No data found, symbol may be delisted'}\n",
      "- AGN: No timezone found, symbol may be delisted\n",
      "Got error from yahoo api for ticker AGN, Error: {'code': 'Not Found', 'description': 'No data found, symbol may be delisted'}\n",
      "- AGN: No timezone found, symbol may be delisted\n",
      "Producing data for:  AGN.PRA\n",
      "Got error from yahoo api for ticker AGN.PRA, Error: {'code': 'Not Found', 'description': 'No data found, symbol may be delisted'}\n",
      "- AGN.PRA: No timezone found, symbol may be delisted\n",
      "Got error from yahoo api for ticker AGN.PRA, Error: {'code': 'Not Found', 'description': 'No data found, symbol may be delisted'}\n",
      "- AGN.PRA: No timezone found, symbol may be delisted\n",
      "Producing data for:  ALE\n"
     ]
    },
    {
     "name": "stderr",
     "output_type": "stream",
     "text": [
      "<ipython-input-1-d5b62f59ed62>:47: FutureWarning: Indexing a timezone-aware DatetimeIndex with a timezone-naive datetime is deprecated and will raise KeyError in a future version. Use a timezone-aware object instead.\n",
      "  y = max.truncate(before=pd.Timestamp('today') - pd.DateOffset(months=12))\n",
      "<ipython-input-1-d5b62f59ed62>:48: FutureWarning: Indexing a timezone-aware DatetimeIndex with a timezone-naive datetime is deprecated and will raise KeyError in a future version. Use a timezone-aware object instead.\n",
      "  m6 = max.truncate(before=pd.Timestamp('today') - pd.DateOffset(months=6))\n",
      "<ipython-input-1-d5b62f59ed62>:49: FutureWarning: Indexing a timezone-aware DatetimeIndex with a timezone-naive datetime is deprecated and will raise KeyError in a future version. Use a timezone-aware object instead.\n",
      "  m3 = max.truncate(before=pd.Timestamp('today') - pd.DateOffset(months=3))\n",
      "<ipython-input-1-d5b62f59ed62>:50: FutureWarning: Indexing a timezone-aware DatetimeIndex with a timezone-naive datetime is deprecated and will raise KeyError in a future version. Use a timezone-aware object instead.\n",
      "  m1 = max.truncate(before=pd.Timestamp('today') - pd.DateOffset(months=1))\n"
     ]
    },
    {
     "name": "stdout",
     "output_type": "stream",
     "text": [
      "0.18937499905452157\n",
      "0.2835773665294928\n",
      "0.37612378185730116\n",
      "0.4170868342727944\n",
      "0.4564198599568612\n",
      "Producing data for:  AKP\n"
     ]
    },
    {
     "name": "stderr",
     "output_type": "stream",
     "text": [
      "<ipython-input-1-d5b62f59ed62>:103: FutureWarning: The frame.append method is deprecated and will be removed from pandas in a future version. Use pandas.concat instead.\n",
      "  final = final.append(\n"
     ]
    },
    {
     "name": "stdout",
     "output_type": "stream",
     "text": [
      "Got error from yahoo api for ticker AKP, Error: {'code': 'Not Found', 'description': 'No data found, symbol may be delisted'}\n",
      "- AKP: No timezone found, symbol may be delisted\n",
      "Got error from yahoo api for ticker AKP, Error: {'code': 'Not Found', 'description': 'No data found, symbol may be delisted'}\n",
      "- AKP: No timezone found, symbol may be delisted\n",
      "Producing data for:  ADS\n",
      "Got error from yahoo api for ticker ADS, Error: {'code': 'Not Found', 'description': 'No data found, symbol may be delisted'}\n",
      "- ADS: No timezone found, symbol may be delisted\n",
      "Got error from yahoo api for ticker ADS, Error: {'code': 'Not Found', 'description': 'No data found, symbol may be delisted'}\n",
      "- ADS: No timezone found, symbol may be delisted\n",
      "Producing data for:  AOI\n",
      "AOI: 1d data not available for startTime=-2208994789 and endTime=1673327502. Only 100 years worth of day granularity data are allowed to be fetched per request.\n",
      "AOI: 1d data not available for startTime=-2208994789 and endTime=1673327502. Only 100 years worth of day granularity data are allowed to be fetched per request.\n",
      "Producing data for:  AWF\n"
     ]
    },
    {
     "name": "stderr",
     "output_type": "stream",
     "text": [
      "<ipython-input-1-d5b62f59ed62>:47: FutureWarning: Indexing a timezone-aware DatetimeIndex with a timezone-naive datetime is deprecated and will raise KeyError in a future version. Use a timezone-aware object instead.\n",
      "  y = max.truncate(before=pd.Timestamp('today') - pd.DateOffset(months=12))\n",
      "<ipython-input-1-d5b62f59ed62>:48: FutureWarning: Indexing a timezone-aware DatetimeIndex with a timezone-naive datetime is deprecated and will raise KeyError in a future version. Use a timezone-aware object instead.\n",
      "  m6 = max.truncate(before=pd.Timestamp('today') - pd.DateOffset(months=6))\n",
      "<ipython-input-1-d5b62f59ed62>:49: FutureWarning: Indexing a timezone-aware DatetimeIndex with a timezone-naive datetime is deprecated and will raise KeyError in a future version. Use a timezone-aware object instead.\n",
      "  m3 = max.truncate(before=pd.Timestamp('today') - pd.DateOffset(months=3))\n",
      "<ipython-input-1-d5b62f59ed62>:50: FutureWarning: Indexing a timezone-aware DatetimeIndex with a timezone-naive datetime is deprecated and will raise KeyError in a future version. Use a timezone-aware object instead.\n",
      "  m1 = max.truncate(before=pd.Timestamp('today') - pd.DateOffset(months=1))\n"
     ]
    },
    {
     "name": "stdout",
     "output_type": "stream",
     "text": [
      "0.20336438507686322\n",
      "0.2974931061821145\n",
      "0.39061559783115946\n",
      "0.4304972211279293\n",
      "0.46324916433560437\n",
      "Producing data for:  AB\n"
     ]
    },
    {
     "name": "stderr",
     "output_type": "stream",
     "text": [
      "<ipython-input-1-d5b62f59ed62>:103: FutureWarning: The frame.append method is deprecated and will be removed from pandas in a future version. Use pandas.concat instead.\n",
      "  final = final.append(\n",
      "<ipython-input-1-d5b62f59ed62>:47: FutureWarning: Indexing a timezone-aware DatetimeIndex with a timezone-naive datetime is deprecated and will raise KeyError in a future version. Use a timezone-aware object instead.\n",
      "  y = max.truncate(before=pd.Timestamp('today') - pd.DateOffset(months=12))\n",
      "<ipython-input-1-d5b62f59ed62>:48: FutureWarning: Indexing a timezone-aware DatetimeIndex with a timezone-naive datetime is deprecated and will raise KeyError in a future version. Use a timezone-aware object instead.\n",
      "  m6 = max.truncate(before=pd.Timestamp('today') - pd.DateOffset(months=6))\n",
      "<ipython-input-1-d5b62f59ed62>:49: FutureWarning: Indexing a timezone-aware DatetimeIndex with a timezone-naive datetime is deprecated and will raise KeyError in a future version. Use a timezone-aware object instead.\n",
      "  m3 = max.truncate(before=pd.Timestamp('today') - pd.DateOffset(months=3))\n",
      "<ipython-input-1-d5b62f59ed62>:50: FutureWarning: Indexing a timezone-aware DatetimeIndex with a timezone-naive datetime is deprecated and will raise KeyError in a future version. Use a timezone-aware object instead.\n",
      "  m1 = max.truncate(before=pd.Timestamp('today') - pd.DateOffset(months=1))\n",
      "<ipython-input-1-d5b62f59ed62>:103: FutureWarning: The frame.append method is deprecated and will be removed from pandas in a future version. Use pandas.concat instead.\n",
      "  final = final.append(\n"
     ]
    },
    {
     "name": "stdout",
     "output_type": "stream",
     "text": [
      "0.19849725401149998\n",
      "0.29245057449540013\n",
      "0.4002424591081335\n",
      "0.45421625030997165\n",
      "0.5025865291631959\n",
      "Producing data for:  AFB\n"
     ]
    },
    {
     "name": "stderr",
     "output_type": "stream",
     "text": [
      "<ipython-input-1-d5b62f59ed62>:47: FutureWarning: Indexing a timezone-aware DatetimeIndex with a timezone-naive datetime is deprecated and will raise KeyError in a future version. Use a timezone-aware object instead.\n",
      "  y = max.truncate(before=pd.Timestamp('today') - pd.DateOffset(months=12))\n",
      "<ipython-input-1-d5b62f59ed62>:48: FutureWarning: Indexing a timezone-aware DatetimeIndex with a timezone-naive datetime is deprecated and will raise KeyError in a future version. Use a timezone-aware object instead.\n",
      "  m6 = max.truncate(before=pd.Timestamp('today') - pd.DateOffset(months=6))\n",
      "<ipython-input-1-d5b62f59ed62>:49: FutureWarning: Indexing a timezone-aware DatetimeIndex with a timezone-naive datetime is deprecated and will raise KeyError in a future version. Use a timezone-aware object instead.\n",
      "  m3 = max.truncate(before=pd.Timestamp('today') - pd.DateOffset(months=3))\n",
      "<ipython-input-1-d5b62f59ed62>:50: FutureWarning: Indexing a timezone-aware DatetimeIndex with a timezone-naive datetime is deprecated and will raise KeyError in a future version. Use a timezone-aware object instead.\n",
      "  m1 = max.truncate(before=pd.Timestamp('today') - pd.DateOffset(months=1))\n"
     ]
    },
    {
     "name": "stdout",
     "output_type": "stream",
     "text": [
      "0.19514433802926212\n",
      "0.29489331285455733\n",
      "0.397180242960709\n",
      "0.4398422170338441\n",
      "0.4692637569148792\n",
      "Producing data for:  LNT\n"
     ]
    },
    {
     "name": "stderr",
     "output_type": "stream",
     "text": [
      "<ipython-input-1-d5b62f59ed62>:103: FutureWarning: The frame.append method is deprecated and will be removed from pandas in a future version. Use pandas.concat instead.\n",
      "  final = final.append(\n",
      "<ipython-input-1-d5b62f59ed62>:47: FutureWarning: Indexing a timezone-aware DatetimeIndex with a timezone-naive datetime is deprecated and will raise KeyError in a future version. Use a timezone-aware object instead.\n",
      "  y = max.truncate(before=pd.Timestamp('today') - pd.DateOffset(months=12))\n",
      "<ipython-input-1-d5b62f59ed62>:48: FutureWarning: Indexing a timezone-aware DatetimeIndex with a timezone-naive datetime is deprecated and will raise KeyError in a future version. Use a timezone-aware object instead.\n",
      "  m6 = max.truncate(before=pd.Timestamp('today') - pd.DateOffset(months=6))\n",
      "<ipython-input-1-d5b62f59ed62>:49: FutureWarning: Indexing a timezone-aware DatetimeIndex with a timezone-naive datetime is deprecated and will raise KeyError in a future version. Use a timezone-aware object instead.\n",
      "  m3 = max.truncate(before=pd.Timestamp('today') - pd.DateOffset(months=3))\n",
      "<ipython-input-1-d5b62f59ed62>:50: FutureWarning: Indexing a timezone-aware DatetimeIndex with a timezone-naive datetime is deprecated and will raise KeyError in a future version. Use a timezone-aware object instead.\n",
      "  m1 = max.truncate(before=pd.Timestamp('today') - pd.DateOffset(months=1))\n"
     ]
    },
    {
     "name": "stdout",
     "output_type": "stream",
     "text": [
      "0.19515173351174586\n",
      "0.2697239399211393\n",
      "0.34029506678538385\n",
      "0.37910766072094415\n",
      "0.4274152537883621\n",
      "Producing data for:  NCV\n"
     ]
    },
    {
     "name": "stderr",
     "output_type": "stream",
     "text": [
      "<ipython-input-1-d5b62f59ed62>:103: FutureWarning: The frame.append method is deprecated and will be removed from pandas in a future version. Use pandas.concat instead.\n",
      "  final = final.append(\n",
      "<ipython-input-1-d5b62f59ed62>:47: FutureWarning: Indexing a timezone-aware DatetimeIndex with a timezone-naive datetime is deprecated and will raise KeyError in a future version. Use a timezone-aware object instead.\n",
      "  y = max.truncate(before=pd.Timestamp('today') - pd.DateOffset(months=12))\n",
      "<ipython-input-1-d5b62f59ed62>:48: FutureWarning: Indexing a timezone-aware DatetimeIndex with a timezone-naive datetime is deprecated and will raise KeyError in a future version. Use a timezone-aware object instead.\n",
      "  m6 = max.truncate(before=pd.Timestamp('today') - pd.DateOffset(months=6))\n",
      "<ipython-input-1-d5b62f59ed62>:49: FutureWarning: Indexing a timezone-aware DatetimeIndex with a timezone-naive datetime is deprecated and will raise KeyError in a future version. Use a timezone-aware object instead.\n",
      "  m3 = max.truncate(before=pd.Timestamp('today') - pd.DateOffset(months=3))\n",
      "<ipython-input-1-d5b62f59ed62>:50: FutureWarning: Indexing a timezone-aware DatetimeIndex with a timezone-naive datetime is deprecated and will raise KeyError in a future version. Use a timezone-aware object instead.\n",
      "  m1 = max.truncate(before=pd.Timestamp('today') - pd.DateOffset(months=1))\n",
      "<ipython-input-1-d5b62f59ed62>:103: FutureWarning: The frame.append method is deprecated and will be removed from pandas in a future version. Use pandas.concat instead.\n",
      "  final = final.append(\n"
     ]
    },
    {
     "name": "stdout",
     "output_type": "stream",
     "text": [
      "0.21016006009380006\n",
      "0.31297353839112935\n",
      "0.4156702415832704\n",
      "0.46079956764927527\n",
      "0.48965992608825903\n",
      "Producing data for:  NCZ\n"
     ]
    },
    {
     "name": "stderr",
     "output_type": "stream",
     "text": [
      "<ipython-input-1-d5b62f59ed62>:47: FutureWarning: Indexing a timezone-aware DatetimeIndex with a timezone-naive datetime is deprecated and will raise KeyError in a future version. Use a timezone-aware object instead.\n",
      "  y = max.truncate(before=pd.Timestamp('today') - pd.DateOffset(months=12))\n",
      "<ipython-input-1-d5b62f59ed62>:48: FutureWarning: Indexing a timezone-aware DatetimeIndex with a timezone-naive datetime is deprecated and will raise KeyError in a future version. Use a timezone-aware object instead.\n",
      "  m6 = max.truncate(before=pd.Timestamp('today') - pd.DateOffset(months=6))\n",
      "<ipython-input-1-d5b62f59ed62>:49: FutureWarning: Indexing a timezone-aware DatetimeIndex with a timezone-naive datetime is deprecated and will raise KeyError in a future version. Use a timezone-aware object instead.\n",
      "  m3 = max.truncate(before=pd.Timestamp('today') - pd.DateOffset(months=3))\n",
      "<ipython-input-1-d5b62f59ed62>:50: FutureWarning: Indexing a timezone-aware DatetimeIndex with a timezone-naive datetime is deprecated and will raise KeyError in a future version. Use a timezone-aware object instead.\n",
      "  m1 = max.truncate(before=pd.Timestamp('today') - pd.DateOffset(months=1))\n",
      "<ipython-input-1-d5b62f59ed62>:103: FutureWarning: The frame.append method is deprecated and will be removed from pandas in a future version. Use pandas.concat instead.\n",
      "  final = final.append(\n"
     ]
    },
    {
     "name": "stdout",
     "output_type": "stream",
     "text": [
      "0.2124569565118856\n",
      "0.3175997783974345\n",
      "0.42399920197233415\n",
      "0.4714516841816994\n",
      "0.502116762005866\n",
      "Producing data for:  NIE\n"
     ]
    },
    {
     "name": "stderr",
     "output_type": "stream",
     "text": [
      "<ipython-input-1-d5b62f59ed62>:47: FutureWarning: Indexing a timezone-aware DatetimeIndex with a timezone-naive datetime is deprecated and will raise KeyError in a future version. Use a timezone-aware object instead.\n",
      "  y = max.truncate(before=pd.Timestamp('today') - pd.DateOffset(months=12))\n",
      "<ipython-input-1-d5b62f59ed62>:48: FutureWarning: Indexing a timezone-aware DatetimeIndex with a timezone-naive datetime is deprecated and will raise KeyError in a future version. Use a timezone-aware object instead.\n",
      "  m6 = max.truncate(before=pd.Timestamp('today') - pd.DateOffset(months=6))\n",
      "<ipython-input-1-d5b62f59ed62>:49: FutureWarning: Indexing a timezone-aware DatetimeIndex with a timezone-naive datetime is deprecated and will raise KeyError in a future version. Use a timezone-aware object instead.\n",
      "  m3 = max.truncate(before=pd.Timestamp('today') - pd.DateOffset(months=3))\n",
      "<ipython-input-1-d5b62f59ed62>:50: FutureWarning: Indexing a timezone-aware DatetimeIndex with a timezone-naive datetime is deprecated and will raise KeyError in a future version. Use a timezone-aware object instead.\n",
      "  m1 = max.truncate(before=pd.Timestamp('today') - pd.DateOffset(months=1))\n",
      "<ipython-input-1-d5b62f59ed62>:103: FutureWarning: The frame.append method is deprecated and will be removed from pandas in a future version. Use pandas.concat instead.\n",
      "  final = final.append(\n"
     ]
    },
    {
     "name": "stdout",
     "output_type": "stream",
     "text": [
      "0.19155783888627156\n",
      "0.2827402178472935\n",
      "0.38122010923912897\n",
      "0.426478742419024\n",
      "0.459642442906226\n",
      "Producing data for:  NFJ\n"
     ]
    },
    {
     "name": "stderr",
     "output_type": "stream",
     "text": [
      "<ipython-input-1-d5b62f59ed62>:47: FutureWarning: Indexing a timezone-aware DatetimeIndex with a timezone-naive datetime is deprecated and will raise KeyError in a future version. Use a timezone-aware object instead.\n",
      "  y = max.truncate(before=pd.Timestamp('today') - pd.DateOffset(months=12))\n",
      "<ipython-input-1-d5b62f59ed62>:48: FutureWarning: Indexing a timezone-aware DatetimeIndex with a timezone-naive datetime is deprecated and will raise KeyError in a future version. Use a timezone-aware object instead.\n",
      "  m6 = max.truncate(before=pd.Timestamp('today') - pd.DateOffset(months=6))\n",
      "<ipython-input-1-d5b62f59ed62>:49: FutureWarning: Indexing a timezone-aware DatetimeIndex with a timezone-naive datetime is deprecated and will raise KeyError in a future version. Use a timezone-aware object instead.\n",
      "  m3 = max.truncate(before=pd.Timestamp('today') - pd.DateOffset(months=3))\n",
      "<ipython-input-1-d5b62f59ed62>:50: FutureWarning: Indexing a timezone-aware DatetimeIndex with a timezone-naive datetime is deprecated and will raise KeyError in a future version. Use a timezone-aware object instead.\n",
      "  m1 = max.truncate(before=pd.Timestamp('today') - pd.DateOffset(months=1))\n"
     ]
    },
    {
     "name": "stdout",
     "output_type": "stream",
     "text": [
      "0.19818277131907097\n",
      "0.29122106588924135\n",
      "0.3907173765007415\n",
      "0.4366853771655154\n",
      "0.47162532369213006"
     ]
    },
    {
     "name": "stderr",
     "output_type": "stream",
     "text": [
      "<ipython-input-1-d5b62f59ed62>:103: FutureWarning: The frame.append method is deprecated and will be removed from pandas in a future version. Use pandas.concat instead.\n",
      "  final = final.append(\n"
     ]
    },
    {
     "name": "stdout",
     "output_type": "stream",
     "text": [
      "\n",
      "Producing data for:  AFC\n",
      "Got error from yahoo api for ticker AFC, Error: {'code': 'Not Found', 'description': 'No data found, symbol may be delisted'}\n",
      "- AFC: No timezone found, symbol may be delisted\n",
      "Got error from yahoo api for ticker AFC, Error: {'code': 'Not Found', 'description': 'No data found, symbol may be delisted'}\n",
      "- AFC: No timezone found, symbol may be delisted\n",
      "Producing data for:  AWH\n"
     ]
    },
    {
     "name": "stderr",
     "output_type": "stream",
     "text": [
      "<ipython-input-1-d5b62f59ed62>:47: FutureWarning: Indexing a timezone-aware DatetimeIndex with a timezone-naive datetime is deprecated and will raise KeyError in a future version. Use a timezone-aware object instead.\n",
      "  y = max.truncate(before=pd.Timestamp('today') - pd.DateOffset(months=12))\n",
      "<ipython-input-1-d5b62f59ed62>:48: FutureWarning: Indexing a timezone-aware DatetimeIndex with a timezone-naive datetime is deprecated and will raise KeyError in a future version. Use a timezone-aware object instead.\n",
      "  m6 = max.truncate(before=pd.Timestamp('today') - pd.DateOffset(months=6))\n",
      "<ipython-input-1-d5b62f59ed62>:49: FutureWarning: Indexing a timezone-aware DatetimeIndex with a timezone-naive datetime is deprecated and will raise KeyError in a future version. Use a timezone-aware object instead.\n",
      "  m3 = max.truncate(before=pd.Timestamp('today') - pd.DateOffset(months=3))\n",
      "<ipython-input-1-d5b62f59ed62>:50: FutureWarning: Indexing a timezone-aware DatetimeIndex with a timezone-naive datetime is deprecated and will raise KeyError in a future version. Use a timezone-aware object instead.\n",
      "  m1 = max.truncate(before=pd.Timestamp('today') - pd.DateOffset(months=1))\n",
      "<ipython-input-1-d5b62f59ed62>:103: FutureWarning: The frame.append method is deprecated and will be removed from pandas in a future version. Use pandas.concat instead.\n",
      "  final = final.append(\n"
     ]
    },
    {
     "name": "stdout",
     "output_type": "stream",
     "text": [
      "0.22878840789425176\n",
      "0.3298436232760626\n",
      "0.406608763312604\n",
      "0.4386025613094919\n",
      "0.4580717343249684\n",
      "Producing data for:  ALSN\n"
     ]
    },
    {
     "name": "stderr",
     "output_type": "stream",
     "text": [
      "<ipython-input-1-d5b62f59ed62>:47: FutureWarning: Indexing a timezone-aware DatetimeIndex with a timezone-naive datetime is deprecated and will raise KeyError in a future version. Use a timezone-aware object instead.\n",
      "  y = max.truncate(before=pd.Timestamp('today') - pd.DateOffset(months=12))\n",
      "<ipython-input-1-d5b62f59ed62>:48: FutureWarning: Indexing a timezone-aware DatetimeIndex with a timezone-naive datetime is deprecated and will raise KeyError in a future version. Use a timezone-aware object instead.\n",
      "  m6 = max.truncate(before=pd.Timestamp('today') - pd.DateOffset(months=6))\n",
      "<ipython-input-1-d5b62f59ed62>:49: FutureWarning: Indexing a timezone-aware DatetimeIndex with a timezone-naive datetime is deprecated and will raise KeyError in a future version. Use a timezone-aware object instead.\n",
      "  m3 = max.truncate(before=pd.Timestamp('today') - pd.DateOffset(months=3))\n",
      "<ipython-input-1-d5b62f59ed62>:50: FutureWarning: Indexing a timezone-aware DatetimeIndex with a timezone-naive datetime is deprecated and will raise KeyError in a future version. Use a timezone-aware object instead.\n",
      "  m1 = max.truncate(before=pd.Timestamp('today') - pd.DateOffset(months=1))\n",
      "<ipython-input-1-d5b62f59ed62>:103: FutureWarning: The frame.append method is deprecated and will be removed from pandas in a future version. Use pandas.concat instead.\n",
      "  final = final.append(\n"
     ]
    },
    {
     "name": "stdout",
     "output_type": "stream",
     "text": [
      "0.18906305079992697\n",
      "0.2685295807385665\n",
      "0.33872904266277354\n",
      "0.3750591510808494\n",
      "0.4087646305441924\n",
      "Producing data for:  ALL\n"
     ]
    },
    {
     "name": "stderr",
     "output_type": "stream",
     "text": [
      "<ipython-input-1-d5b62f59ed62>:47: FutureWarning: Indexing a timezone-aware DatetimeIndex with a timezone-naive datetime is deprecated and will raise KeyError in a future version. Use a timezone-aware object instead.\n",
      "  y = max.truncate(before=pd.Timestamp('today') - pd.DateOffset(months=12))\n",
      "<ipython-input-1-d5b62f59ed62>:48: FutureWarning: Indexing a timezone-aware DatetimeIndex with a timezone-naive datetime is deprecated and will raise KeyError in a future version. Use a timezone-aware object instead.\n",
      "  m6 = max.truncate(before=pd.Timestamp('today') - pd.DateOffset(months=6))\n",
      "<ipython-input-1-d5b62f59ed62>:49: FutureWarning: Indexing a timezone-aware DatetimeIndex with a timezone-naive datetime is deprecated and will raise KeyError in a future version. Use a timezone-aware object instead.\n",
      "  m3 = max.truncate(before=pd.Timestamp('today') - pd.DateOffset(months=3))\n",
      "<ipython-input-1-d5b62f59ed62>:50: FutureWarning: Indexing a timezone-aware DatetimeIndex with a timezone-naive datetime is deprecated and will raise KeyError in a future version. Use a timezone-aware object instead.\n",
      "  m1 = max.truncate(before=pd.Timestamp('today') - pd.DateOffset(months=1))\n",
      "<ipython-input-1-d5b62f59ed62>:103: FutureWarning: The frame.append method is deprecated and will be removed from pandas in a future version. Use pandas.concat instead.\n",
      "  final = final.append(\n"
     ]
    },
    {
     "name": "stdout",
     "output_type": "stream",
     "text": [
      "0.19511042320088323\n",
      "0.27933142260613336\n",
      "0.3633640115090746\n",
      "0.4039176141924994\n",
      "0.44642513457901767\n",
      "Producing data for:  ALL.PRA\n",
      "Got error from yahoo api for ticker ALL.PRA, Error: {'code': 'Not Found', 'description': 'No data found, symbol may be delisted'}\n",
      "- ALL.PRA: No timezone found, symbol may be delisted\n",
      "Got error from yahoo api for ticker ALL.PRA, Error: {'code': 'Not Found', 'description': 'No data found, symbol may be delisted'}\n",
      "- ALL.PRA: No timezone found, symbol may be delisted\n",
      "Producing data for:  ALL.PRB\n",
      "Got error from yahoo api for ticker ALL.PRB, Error: {'code': 'Not Found', 'description': 'No data found, symbol may be delisted'}\n",
      "- ALL.PRB: No timezone found, symbol may be delisted\n",
      "Got error from yahoo api for ticker ALL.PRB, Error: {'code': 'Not Found', 'description': 'No data found, symbol may be delisted'}\n",
      "- ALL.PRB: No timezone found, symbol may be delisted\n",
      "Producing data for:  ALL.PRC\n",
      "Got error from yahoo api for ticker ALL.PRC, Error: {'code': 'Not Found', 'description': 'No data found, symbol may be delisted'}\n",
      "- ALL.PRC: No timezone found, symbol may be delisted\n",
      "Got error from yahoo api for ticker ALL.PRC, Error: {'code': 'Not Found', 'description': 'No data found, symbol may be delisted'}\n",
      "- ALL.PRC: No timezone found, symbol may be delisted\n",
      "Producing data for:  ALL.PRD\n",
      "Got error from yahoo api for ticker ALL.PRD, Error: {'code': 'Not Found', 'description': 'No data found, symbol may be delisted'}\n",
      "- ALL.PRD: No timezone found, symbol may be delisted\n",
      "Got error from yahoo api for ticker ALL.PRD, Error: {'code': 'Not Found', 'description': 'No data found, symbol may be delisted'}\n",
      "- ALL.PRD: No timezone found, symbol may be delisted\n",
      "Producing data for:  ALL.PRE\n",
      "Got error from yahoo api for ticker ALL.PRE, Error: {'code': 'Not Found', 'description': 'No data found, symbol may be delisted'}\n",
      "- ALL.PRE: No timezone found, symbol may be delisted\n",
      "Got error from yahoo api for ticker ALL.PRE, Error: {'code': 'Not Found', 'description': 'No data found, symbol may be delisted'}\n",
      "- ALL.PRE: No timezone found, symbol may be delisted\n",
      "Producing data for:  ALL.PRF\n",
      "Got error from yahoo api for ticker ALL.PRF, Error: {'code': 'Not Found', 'description': 'No data found, symbol may be delisted'}\n",
      "- ALL.PRF: No timezone found, symbol may be delisted\n",
      "Got error from yahoo api for ticker ALL.PRF, Error: {'code': 'Not Found', 'description': 'No data found, symbol may be delisted'}\n",
      "- ALL.PRF: No timezone found, symbol may be delisted\n",
      "Producing data for:  ALLY\n"
     ]
    },
    {
     "name": "stderr",
     "output_type": "stream",
     "text": [
      "<ipython-input-1-d5b62f59ed62>:47: FutureWarning: Indexing a timezone-aware DatetimeIndex with a timezone-naive datetime is deprecated and will raise KeyError in a future version. Use a timezone-aware object instead.\n",
      "  y = max.truncate(before=pd.Timestamp('today') - pd.DateOffset(months=12))\n",
      "<ipython-input-1-d5b62f59ed62>:48: FutureWarning: Indexing a timezone-aware DatetimeIndex with a timezone-naive datetime is deprecated and will raise KeyError in a future version. Use a timezone-aware object instead.\n",
      "  m6 = max.truncate(before=pd.Timestamp('today') - pd.DateOffset(months=6))\n",
      "<ipython-input-1-d5b62f59ed62>:49: FutureWarning: Indexing a timezone-aware DatetimeIndex with a timezone-naive datetime is deprecated and will raise KeyError in a future version. Use a timezone-aware object instead.\n",
      "  m3 = max.truncate(before=pd.Timestamp('today') - pd.DateOffset(months=3))\n",
      "<ipython-input-1-d5b62f59ed62>:50: FutureWarning: Indexing a timezone-aware DatetimeIndex with a timezone-naive datetime is deprecated and will raise KeyError in a future version. Use a timezone-aware object instead.\n",
      "  m1 = max.truncate(before=pd.Timestamp('today') - pd.DateOffset(months=1))\n",
      "<ipython-input-1-d5b62f59ed62>:103: FutureWarning: The frame.append method is deprecated and will be removed from pandas in a future version. Use pandas.concat instead.\n",
      "  final = final.append(\n"
     ]
    },
    {
     "name": "stdout",
     "output_type": "stream",
     "text": [
      "0.18118428466426473\n",
      "0.2897360619896032\n",
      "0.4081972437737792\n",
      "0.45560672241857747\n",
      "0.481023509834725\n",
      "Producing data for:  ALJ\n",
      "ALJ: 1d data not available for startTime=-2208994789 and endTime=1673327572. Only 100 years worth of day granularity data are allowed to be fetched per request.\n",
      "ALJ: 1d data not available for startTime=-2208994789 and endTime=1673327573. Only 100 years worth of day granularity data are allowed to be fetched per request.\n",
      "Producing data for:  ALDW\n",
      "ALDW: 1d data not available for startTime=-2208994789 and endTime=1673327573. Only 100 years worth of day granularity data are allowed to be fetched per request.\n",
      "ALDW: 1d data not available for startTime=-2208994789 and endTime=1673327574. Only 100 years worth of day granularity data are allowed to be fetched per request.\n",
      "Producing data for:  AGD\n"
     ]
    },
    {
     "name": "stderr",
     "output_type": "stream",
     "text": [
      "<ipython-input-1-d5b62f59ed62>:47: FutureWarning: Indexing a timezone-aware DatetimeIndex with a timezone-naive datetime is deprecated and will raise KeyError in a future version. Use a timezone-aware object instead.\n",
      "  y = max.truncate(before=pd.Timestamp('today') - pd.DateOffset(months=12))\n",
      "<ipython-input-1-d5b62f59ed62>:48: FutureWarning: Indexing a timezone-aware DatetimeIndex with a timezone-naive datetime is deprecated and will raise KeyError in a future version. Use a timezone-aware object instead.\n",
      "  m6 = max.truncate(before=pd.Timestamp('today') - pd.DateOffset(months=6))\n",
      "<ipython-input-1-d5b62f59ed62>:49: FutureWarning: Indexing a timezone-aware DatetimeIndex with a timezone-naive datetime is deprecated and will raise KeyError in a future version. Use a timezone-aware object instead.\n",
      "  m3 = max.truncate(before=pd.Timestamp('today') - pd.DateOffset(months=3))\n",
      "<ipython-input-1-d5b62f59ed62>:50: FutureWarning: Indexing a timezone-aware DatetimeIndex with a timezone-naive datetime is deprecated and will raise KeyError in a future version. Use a timezone-aware object instead.\n",
      "  m1 = max.truncate(before=pd.Timestamp('today') - pd.DateOffset(months=1))\n",
      "<ipython-input-1-d5b62f59ed62>:103: FutureWarning: The frame.append method is deprecated and will be removed from pandas in a future version. Use pandas.concat instead.\n",
      "  final = final.append(\n"
     ]
    },
    {
     "name": "stdout",
     "output_type": "stream",
     "text": [
      "0.19886594140158545\n",
      "0.2980801547330141\n",
      "0.4022607784442678\n",
      "0.4496614510879554\n",
      "0.4869461358242\n",
      "Producing data for:  AWP\n"
     ]
    },
    {
     "name": "stderr",
     "output_type": "stream",
     "text": [
      "<ipython-input-1-d5b62f59ed62>:47: FutureWarning: Indexing a timezone-aware DatetimeIndex with a timezone-naive datetime is deprecated and will raise KeyError in a future version. Use a timezone-aware object instead.\n",
      "  y = max.truncate(before=pd.Timestamp('today') - pd.DateOffset(months=12))\n",
      "<ipython-input-1-d5b62f59ed62>:48: FutureWarning: Indexing a timezone-aware DatetimeIndex with a timezone-naive datetime is deprecated and will raise KeyError in a future version. Use a timezone-aware object instead.\n",
      "  m6 = max.truncate(before=pd.Timestamp('today') - pd.DateOffset(months=6))\n",
      "<ipython-input-1-d5b62f59ed62>:49: FutureWarning: Indexing a timezone-aware DatetimeIndex with a timezone-naive datetime is deprecated and will raise KeyError in a future version. Use a timezone-aware object instead.\n",
      "  m3 = max.truncate(before=pd.Timestamp('today') - pd.DateOffset(months=3))\n",
      "<ipython-input-1-d5b62f59ed62>:50: FutureWarning: Indexing a timezone-aware DatetimeIndex with a timezone-naive datetime is deprecated and will raise KeyError in a future version. Use a timezone-aware object instead.\n",
      "  m1 = max.truncate(before=pd.Timestamp('today') - pd.DateOffset(months=1))\n",
      "<ipython-input-1-d5b62f59ed62>:103: FutureWarning: The frame.append method is deprecated and will be removed from pandas in a future version. Use pandas.concat instead.\n",
      "  final = final.append(\n"
     ]
    },
    {
     "name": "stdout",
     "output_type": "stream",
     "text": [
      "0.21231359825999216\n",
      "0.31411445181072273\n",
      "0.41803497191221084\n",
      "0.4617636193768962\n",
      "0.48852686506673065\n",
      "Producing data for:  AOD\n"
     ]
    },
    {
     "name": "stderr",
     "output_type": "stream",
     "text": [
      "<ipython-input-1-d5b62f59ed62>:47: FutureWarning: Indexing a timezone-aware DatetimeIndex with a timezone-naive datetime is deprecated and will raise KeyError in a future version. Use a timezone-aware object instead.\n",
      "  y = max.truncate(before=pd.Timestamp('today') - pd.DateOffset(months=12))\n",
      "<ipython-input-1-d5b62f59ed62>:48: FutureWarning: Indexing a timezone-aware DatetimeIndex with a timezone-naive datetime is deprecated and will raise KeyError in a future version. Use a timezone-aware object instead.\n",
      "  m6 = max.truncate(before=pd.Timestamp('today') - pd.DateOffset(months=6))\n",
      "<ipython-input-1-d5b62f59ed62>:49: FutureWarning: Indexing a timezone-aware DatetimeIndex with a timezone-naive datetime is deprecated and will raise KeyError in a future version. Use a timezone-aware object instead.\n",
      "  m3 = max.truncate(before=pd.Timestamp('today') - pd.DateOffset(months=3))\n",
      "<ipython-input-1-d5b62f59ed62>:50: FutureWarning: Indexing a timezone-aware DatetimeIndex with a timezone-naive datetime is deprecated and will raise KeyError in a future version. Use a timezone-aware object instead.\n",
      "  m1 = max.truncate(before=pd.Timestamp('today') - pd.DateOffset(months=1))\n",
      "<ipython-input-1-d5b62f59ed62>:103: FutureWarning: The frame.append method is deprecated and will be removed from pandas in a future version. Use pandas.concat instead.\n",
      "  final = final.append(\n"
     ]
    },
    {
     "name": "stdout",
     "output_type": "stream",
     "text": [
      "0.19592491448502997\n",
      "0.29609011692864534\n",
      "0.400677126563183\n",
      "0.44603677285523374\n",
      "0.4823326652020413\n",
      "Producing data for:  RESI\n"
     ]
    },
    {
     "name": "stderr",
     "output_type": "stream",
     "text": [
      "<ipython-input-1-d5b62f59ed62>:47: FutureWarning: Indexing a timezone-aware DatetimeIndex with a timezone-naive datetime is deprecated and will raise KeyError in a future version. Use a timezone-aware object instead.\n",
      "  y = max.truncate(before=pd.Timestamp('today') - pd.DateOffset(months=12))\n",
      "<ipython-input-1-d5b62f59ed62>:48: FutureWarning: Indexing a timezone-aware DatetimeIndex with a timezone-naive datetime is deprecated and will raise KeyError in a future version. Use a timezone-aware object instead.\n",
      "  m6 = max.truncate(before=pd.Timestamp('today') - pd.DateOffset(months=6))\n",
      "<ipython-input-1-d5b62f59ed62>:49: FutureWarning: Indexing a timezone-aware DatetimeIndex with a timezone-naive datetime is deprecated and will raise KeyError in a future version. Use a timezone-aware object instead.\n",
      "  m3 = max.truncate(before=pd.Timestamp('today') - pd.DateOffset(months=3))\n",
      "<ipython-input-1-d5b62f59ed62>:50: FutureWarning: Indexing a timezone-aware DatetimeIndex with a timezone-naive datetime is deprecated and will raise KeyError in a future version. Use a timezone-aware object instead.\n",
      "  m1 = max.truncate(before=pd.Timestamp('today') - pd.DateOffset(months=1))\n",
      "C:\\Users\\Kamen\\AppData\\Local\\Programs\\Python\\Python38\\lib\\site-packages\\numpy\\core\\_methods.py:262: RuntimeWarning: Degrees of freedom <= 0 for slice\n",
      "  ret = _var(a, axis=axis, dtype=dtype, out=out, ddof=ddof,\n",
      "C:\\Users\\Kamen\\AppData\\Local\\Programs\\Python\\Python38\\lib\\site-packages\\numpy\\core\\_methods.py:222: RuntimeWarning: invalid value encountered in true_divide\n",
      "  arrmean = um.true_divide(arrmean, div, out=arrmean, casting='unsafe',\n",
      "C:\\Users\\Kamen\\AppData\\Local\\Programs\\Python\\Python38\\lib\\site-packages\\numpy\\core\\_methods.py:254: RuntimeWarning: invalid value encountered in double_scalars\n",
      "  ret = ret.dtype.type(ret / rcount)\n",
      "<ipython-input-1-d5b62f59ed62>:38: RuntimeWarning: divide by zero encountered in log\n",
      "  reg = np.polyfit(np.log(lags), np.log(tau), 1)\n",
      "<ipython-input-1-d5b62f59ed62>:103: FutureWarning: The frame.append method is deprecated and will be removed from pandas in a future version. Use pandas.concat instead.\n",
      "  final = final.append(\n"
     ]
    },
    {
     "name": "stdout",
     "output_type": "stream",
     "text": [
      "0.188486304289936\n",
      "0.20653419980591514\n",
      "nan\n",
      "nan\n",
      "nan\n",
      "Producing data for:  MO\n"
     ]
    },
    {
     "name": "stderr",
     "output_type": "stream",
     "text": [
      "<ipython-input-1-d5b62f59ed62>:47: FutureWarning: Indexing a timezone-aware DatetimeIndex with a timezone-naive datetime is deprecated and will raise KeyError in a future version. Use a timezone-aware object instead.\n",
      "  y = max.truncate(before=pd.Timestamp('today') - pd.DateOffset(months=12))\n",
      "<ipython-input-1-d5b62f59ed62>:48: FutureWarning: Indexing a timezone-aware DatetimeIndex with a timezone-naive datetime is deprecated and will raise KeyError in a future version. Use a timezone-aware object instead.\n",
      "  m6 = max.truncate(before=pd.Timestamp('today') - pd.DateOffset(months=6))\n",
      "<ipython-input-1-d5b62f59ed62>:49: FutureWarning: Indexing a timezone-aware DatetimeIndex with a timezone-naive datetime is deprecated and will raise KeyError in a future version. Use a timezone-aware object instead.\n",
      "  m3 = max.truncate(before=pd.Timestamp('today') - pd.DateOffset(months=3))\n",
      "<ipython-input-1-d5b62f59ed62>:50: FutureWarning: Indexing a timezone-aware DatetimeIndex with a timezone-naive datetime is deprecated and will raise KeyError in a future version. Use a timezone-aware object instead.\n",
      "  m1 = max.truncate(before=pd.Timestamp('today') - pd.DateOffset(months=1))\n"
     ]
    },
    {
     "name": "stdout",
     "output_type": "stream",
     "text": [
      "0.20378937061829464\n",
      "0.30010102173480646\n",
      "0.38264538218056493\n",
      "0.4284271570925233\n",
      "0.47902327070351974\n",
      "Producing data for:  ACH\n"
     ]
    },
    {
     "name": "stderr",
     "output_type": "stream",
     "text": [
      "<ipython-input-1-d5b62f59ed62>:103: FutureWarning: The frame.append method is deprecated and will be removed from pandas in a future version. Use pandas.concat instead.\n",
      "  final = final.append(\n"
     ]
    },
    {
     "name": "stdout",
     "output_type": "stream",
     "text": [
      "Got error from yahoo api for ticker ACH, Error: {'code': 'Not Found', 'description': 'No data found, symbol may be delisted'}\n",
      "- ACH: No timezone found, symbol may be delisted\n",
      "Got error from yahoo api for ticker ACH, Error: {'code': 'Not Found', 'description': 'No data found, symbol may be delisted'}\n",
      "- ACH: No timezone found, symbol may be delisted\n",
      "Producing data for:  AMBR\n",
      "Got error from yahoo api for ticker AMBR, Error: {'code': 'Not Found', 'description': 'No data found, symbol may be delisted'}\n",
      "- AMBR: No timezone found, symbol may be delisted\n",
      "Got error from yahoo api for ticker AMBR, Error: {'code': 'Not Found', 'description': 'No data found, symbol may be delisted'}\n",
      "- AMBR: No timezone found, symbol may be delisted\n",
      "Producing data for:  ABEV\n"
     ]
    },
    {
     "name": "stderr",
     "output_type": "stream",
     "text": [
      "<ipython-input-1-d5b62f59ed62>:47: FutureWarning: Indexing a timezone-aware DatetimeIndex with a timezone-naive datetime is deprecated and will raise KeyError in a future version. Use a timezone-aware object instead.\n",
      "  y = max.truncate(before=pd.Timestamp('today') - pd.DateOffset(months=12))\n",
      "<ipython-input-1-d5b62f59ed62>:48: FutureWarning: Indexing a timezone-aware DatetimeIndex with a timezone-naive datetime is deprecated and will raise KeyError in a future version. Use a timezone-aware object instead.\n",
      "  m6 = max.truncate(before=pd.Timestamp('today') - pd.DateOffset(months=6))\n",
      "<ipython-input-1-d5b62f59ed62>:49: FutureWarning: Indexing a timezone-aware DatetimeIndex with a timezone-naive datetime is deprecated and will raise KeyError in a future version. Use a timezone-aware object instead.\n",
      "  m3 = max.truncate(before=pd.Timestamp('today') - pd.DateOffset(months=3))\n",
      "<ipython-input-1-d5b62f59ed62>:50: FutureWarning: Indexing a timezone-aware DatetimeIndex with a timezone-naive datetime is deprecated and will raise KeyError in a future version. Use a timezone-aware object instead.\n",
      "  m1 = max.truncate(before=pd.Timestamp('today') - pd.DateOffset(months=1))\n",
      "<ipython-input-1-d5b62f59ed62>:103: FutureWarning: The frame.append method is deprecated and will be removed from pandas in a future version. Use pandas.concat instead.\n",
      "  final = final.append(\n"
     ]
    },
    {
     "name": "stdout",
     "output_type": "stream",
     "text": [
      "0.19859930752579866\n",
      "0.29864911471111194\n",
      "0.39241080631452485\n",
      "0.43897947363453255\n",
      "0.4882760619798218\n",
      "Producing data for:  AMC\n"
     ]
    },
    {
     "name": "stderr",
     "output_type": "stream",
     "text": [
      "<ipython-input-1-d5b62f59ed62>:47: FutureWarning: Indexing a timezone-aware DatetimeIndex with a timezone-naive datetime is deprecated and will raise KeyError in a future version. Use a timezone-aware object instead.\n",
      "  y = max.truncate(before=pd.Timestamp('today') - pd.DateOffset(months=12))\n",
      "<ipython-input-1-d5b62f59ed62>:48: FutureWarning: Indexing a timezone-aware DatetimeIndex with a timezone-naive datetime is deprecated and will raise KeyError in a future version. Use a timezone-aware object instead.\n",
      "  m6 = max.truncate(before=pd.Timestamp('today') - pd.DateOffset(months=6))\n",
      "<ipython-input-1-d5b62f59ed62>:49: FutureWarning: Indexing a timezone-aware DatetimeIndex with a timezone-naive datetime is deprecated and will raise KeyError in a future version. Use a timezone-aware object instead.\n",
      "  m3 = max.truncate(before=pd.Timestamp('today') - pd.DateOffset(months=3))\n",
      "<ipython-input-1-d5b62f59ed62>:50: FutureWarning: Indexing a timezone-aware DatetimeIndex with a timezone-naive datetime is deprecated and will raise KeyError in a future version. Use a timezone-aware object instead.\n",
      "  m1 = max.truncate(before=pd.Timestamp('today') - pd.DateOffset(months=1))\n",
      "<ipython-input-1-d5b62f59ed62>:103: FutureWarning: The frame.append method is deprecated and will be removed from pandas in a future version. Use pandas.concat instead.\n",
      "  final = final.append(\n"
     ]
    },
    {
     "name": "stdout",
     "output_type": "stream",
     "text": [
      "0.2138488137121747\n",
      "0.3007991859035638\n",
      "0.38648350929252817\n",
      "0.4173392954932766\n",
      "0.43593192038222317\n",
      "Producing data for:  AMFW\n",
      "Got error from yahoo api for ticker AMFW, Error: {'code': 'Not Found', 'description': 'No data found, symbol may be delisted'}\n",
      "- AMFW: No timezone found, symbol may be delisted\n",
      "Got error from yahoo api for ticker AMFW, Error: {'code': 'Not Found', 'description': 'No data found, symbol may be delisted'}\n",
      "- AMFW: No timezone found, symbol may be delisted\n",
      "Producing data for:  AEE\n"
     ]
    },
    {
     "name": "stderr",
     "output_type": "stream",
     "text": [
      "<ipython-input-1-d5b62f59ed62>:47: FutureWarning: Indexing a timezone-aware DatetimeIndex with a timezone-naive datetime is deprecated and will raise KeyError in a future version. Use a timezone-aware object instead.\n",
      "  y = max.truncate(before=pd.Timestamp('today') - pd.DateOffset(months=12))\n",
      "<ipython-input-1-d5b62f59ed62>:48: FutureWarning: Indexing a timezone-aware DatetimeIndex with a timezone-naive datetime is deprecated and will raise KeyError in a future version. Use a timezone-aware object instead.\n",
      "  m6 = max.truncate(before=pd.Timestamp('today') - pd.DateOffset(months=6))\n",
      "<ipython-input-1-d5b62f59ed62>:49: FutureWarning: Indexing a timezone-aware DatetimeIndex with a timezone-naive datetime is deprecated and will raise KeyError in a future version. Use a timezone-aware object instead.\n",
      "  m3 = max.truncate(before=pd.Timestamp('today') - pd.DateOffset(months=3))\n",
      "<ipython-input-1-d5b62f59ed62>:50: FutureWarning: Indexing a timezone-aware DatetimeIndex with a timezone-naive datetime is deprecated and will raise KeyError in a future version. Use a timezone-aware object instead.\n",
      "  m1 = max.truncate(before=pd.Timestamp('today') - pd.DateOffset(months=1))\n"
     ]
    },
    {
     "name": "stdout",
     "output_type": "stream",
     "text": [
      "0.1851436303911438\n",
      "0.2551973780982838\n",
      "0.3246397637689675\n",
      "0.3647118343586293\n",
      "0.41464066940623806\n",
      "Producing data for:  AMRC\n"
     ]
    },
    {
     "name": "stderr",
     "output_type": "stream",
     "text": [
      "<ipython-input-1-d5b62f59ed62>:103: FutureWarning: The frame.append method is deprecated and will be removed from pandas in a future version. Use pandas.concat instead.\n",
      "  final = final.append(\n",
      "<ipython-input-1-d5b62f59ed62>:47: FutureWarning: Indexing a timezone-aware DatetimeIndex with a timezone-naive datetime is deprecated and will raise KeyError in a future version. Use a timezone-aware object instead.\n",
      "  y = max.truncate(before=pd.Timestamp('today') - pd.DateOffset(months=12))\n",
      "<ipython-input-1-d5b62f59ed62>:48: FutureWarning: Indexing a timezone-aware DatetimeIndex with a timezone-naive datetime is deprecated and will raise KeyError in a future version. Use a timezone-aware object instead.\n",
      "  m6 = max.truncate(before=pd.Timestamp('today') - pd.DateOffset(months=6))\n",
      "<ipython-input-1-d5b62f59ed62>:49: FutureWarning: Indexing a timezone-aware DatetimeIndex with a timezone-naive datetime is deprecated and will raise KeyError in a future version. Use a timezone-aware object instead.\n",
      "  m3 = max.truncate(before=pd.Timestamp('today') - pd.DateOffset(months=3))\n",
      "<ipython-input-1-d5b62f59ed62>:50: FutureWarning: Indexing a timezone-aware DatetimeIndex with a timezone-naive datetime is deprecated and will raise KeyError in a future version. Use a timezone-aware object instead.\n",
      "  m1 = max.truncate(before=pd.Timestamp('today') - pd.DateOffset(months=1))\n",
      "<ipython-input-1-d5b62f59ed62>:103: FutureWarning: The frame.append method is deprecated and will be removed from pandas in a future version. Use pandas.concat instead.\n",
      "  final = final.append(\n"
     ]
    },
    {
     "name": "stdout",
     "output_type": "stream",
     "text": [
      "0.23176696568498314\n",
      "0.30288182143651626\n",
      "0.3724358638459749\n",
      "0.41111511950853136\n",
      "0.45313636832782184\n",
      "Producing data for:  AAT\n"
     ]
    },
    {
     "name": "stderr",
     "output_type": "stream",
     "text": [
      "<ipython-input-1-d5b62f59ed62>:47: FutureWarning: Indexing a timezone-aware DatetimeIndex with a timezone-naive datetime is deprecated and will raise KeyError in a future version. Use a timezone-aware object instead.\n",
      "  y = max.truncate(before=pd.Timestamp('today') - pd.DateOffset(months=12))\n",
      "<ipython-input-1-d5b62f59ed62>:48: FutureWarning: Indexing a timezone-aware DatetimeIndex with a timezone-naive datetime is deprecated and will raise KeyError in a future version. Use a timezone-aware object instead.\n",
      "  m6 = max.truncate(before=pd.Timestamp('today') - pd.DateOffset(months=6))\n",
      "<ipython-input-1-d5b62f59ed62>:49: FutureWarning: Indexing a timezone-aware DatetimeIndex with a timezone-naive datetime is deprecated and will raise KeyError in a future version. Use a timezone-aware object instead.\n",
      "  m3 = max.truncate(before=pd.Timestamp('today') - pd.DateOffset(months=3))\n",
      "<ipython-input-1-d5b62f59ed62>:50: FutureWarning: Indexing a timezone-aware DatetimeIndex with a timezone-naive datetime is deprecated and will raise KeyError in a future version. Use a timezone-aware object instead.\n",
      "  m1 = max.truncate(before=pd.Timestamp('today') - pd.DateOffset(months=1))\n",
      "<ipython-input-1-d5b62f59ed62>:103: FutureWarning: The frame.append method is deprecated and will be removed from pandas in a future version. Use pandas.concat instead.\n",
      "  final = final.append(\n"
     ]
    },
    {
     "name": "stdout",
     "output_type": "stream",
     "text": [
      "0.20745750434664567\n",
      "0.30393913964086294\n",
      "0.4039186431658707\n",
      "0.44441508593634943\n",
      "0.4771121252710524\n",
      "Producing data for:  AXL\n"
     ]
    },
    {
     "name": "stderr",
     "output_type": "stream",
     "text": [
      "<ipython-input-1-d5b62f59ed62>:47: FutureWarning: Indexing a timezone-aware DatetimeIndex with a timezone-naive datetime is deprecated and will raise KeyError in a future version. Use a timezone-aware object instead.\n",
      "  y = max.truncate(before=pd.Timestamp('today') - pd.DateOffset(months=12))\n",
      "<ipython-input-1-d5b62f59ed62>:48: FutureWarning: Indexing a timezone-aware DatetimeIndex with a timezone-naive datetime is deprecated and will raise KeyError in a future version. Use a timezone-aware object instead.\n",
      "  m6 = max.truncate(before=pd.Timestamp('today') - pd.DateOffset(months=6))\n",
      "<ipython-input-1-d5b62f59ed62>:49: FutureWarning: Indexing a timezone-aware DatetimeIndex with a timezone-naive datetime is deprecated and will raise KeyError in a future version. Use a timezone-aware object instead.\n",
      "  m3 = max.truncate(before=pd.Timestamp('today') - pd.DateOffset(months=3))\n",
      "<ipython-input-1-d5b62f59ed62>:50: FutureWarning: Indexing a timezone-aware DatetimeIndex with a timezone-naive datetime is deprecated and will raise KeyError in a future version. Use a timezone-aware object instead.\n",
      "  m1 = max.truncate(before=pd.Timestamp('today') - pd.DateOffset(months=1))\n",
      "<ipython-input-1-d5b62f59ed62>:103: FutureWarning: The frame.append method is deprecated and will be removed from pandas in a future version. Use pandas.concat instead.\n",
      "  final = final.append(\n"
     ]
    },
    {
     "name": "stdout",
     "output_type": "stream",
     "text": [
      "0.20325635456170688\n",
      "0.302931689477477\n",
      "0.40266606661742477\n",
      "0.44976503195371176\n",
      "0.4908598327537262\n",
      "Producing data for:  ACC\n",
      "Got error from yahoo api for ticker ACC, Error: {'code': 'Not Found', 'description': 'No data found, symbol may be delisted'}\n",
      "- ACC: No timezone found, symbol may be delisted\n",
      "Got error from yahoo api for ticker ACC, Error: {'code': 'Not Found', 'description': 'No data found, symbol may be delisted'}\n",
      "- ACC: No timezone found, symbol may be delisted\n",
      "Producing data for:  AEO\n"
     ]
    },
    {
     "name": "stderr",
     "output_type": "stream",
     "text": [
      "<ipython-input-1-d5b62f59ed62>:47: FutureWarning: Indexing a timezone-aware DatetimeIndex with a timezone-naive datetime is deprecated and will raise KeyError in a future version. Use a timezone-aware object instead.\n",
      "  y = max.truncate(before=pd.Timestamp('today') - pd.DateOffset(months=12))\n",
      "<ipython-input-1-d5b62f59ed62>:48: FutureWarning: Indexing a timezone-aware DatetimeIndex with a timezone-naive datetime is deprecated and will raise KeyError in a future version. Use a timezone-aware object instead.\n",
      "  m6 = max.truncate(before=pd.Timestamp('today') - pd.DateOffset(months=6))\n",
      "<ipython-input-1-d5b62f59ed62>:49: FutureWarning: Indexing a timezone-aware DatetimeIndex with a timezone-naive datetime is deprecated and will raise KeyError in a future version. Use a timezone-aware object instead.\n",
      "  m3 = max.truncate(before=pd.Timestamp('today') - pd.DateOffset(months=3))\n",
      "<ipython-input-1-d5b62f59ed62>:50: FutureWarning: Indexing a timezone-aware DatetimeIndex with a timezone-naive datetime is deprecated and will raise KeyError in a future version. Use a timezone-aware object instead.\n",
      "  m1 = max.truncate(before=pd.Timestamp('today') - pd.DateOffset(months=1))\n"
     ]
    },
    {
     "name": "stdout",
     "output_type": "stream",
     "text": [
      "0.18675327641463865\n",
      "0.29540887390467846\n",
      "0.4119223145832459\n",
      "0.45929240192457316\n",
      "0.48722719314405966\n",
      "Producing data for: "
     ]
    },
    {
     "name": "stderr",
     "output_type": "stream",
     "text": [
      "<ipython-input-1-d5b62f59ed62>:103: FutureWarning: The frame.append method is deprecated and will be removed from pandas in a future version. Use pandas.concat instead.\n",
      "  final = final.append(\n"
     ]
    },
    {
     "name": "stdout",
     "output_type": "stream",
     "text": [
      " AEP\n"
     ]
    },
    {
     "name": "stderr",
     "output_type": "stream",
     "text": [
      "<ipython-input-1-d5b62f59ed62>:47: FutureWarning: Indexing a timezone-aware DatetimeIndex with a timezone-naive datetime is deprecated and will raise KeyError in a future version. Use a timezone-aware object instead.\n",
      "  y = max.truncate(before=pd.Timestamp('today') - pd.DateOffset(months=12))\n",
      "<ipython-input-1-d5b62f59ed62>:48: FutureWarning: Indexing a timezone-aware DatetimeIndex with a timezone-naive datetime is deprecated and will raise KeyError in a future version. Use a timezone-aware object instead.\n",
      "  m6 = max.truncate(before=pd.Timestamp('today') - pd.DateOffset(months=6))\n",
      "<ipython-input-1-d5b62f59ed62>:49: FutureWarning: Indexing a timezone-aware DatetimeIndex with a timezone-naive datetime is deprecated and will raise KeyError in a future version. Use a timezone-aware object instead.\n",
      "  m3 = max.truncate(before=pd.Timestamp('today') - pd.DateOffset(months=3))\n",
      "<ipython-input-1-d5b62f59ed62>:50: FutureWarning: Indexing a timezone-aware DatetimeIndex with a timezone-naive datetime is deprecated and will raise KeyError in a future version. Use a timezone-aware object instead.\n",
      "  m1 = max.truncate(before=pd.Timestamp('today') - pd.DateOffset(months=1))\n"
     ]
    },
    {
     "name": "stdout",
     "output_type": "stream",
     "text": [
      "0.19223755248069435\n",
      "0.26888883823573484\n",
      "0.34690608961651703\n",
      "0.38706683140910575\n",
      "0.4316001529164876\n",
      "Producing data for:  AEL\n"
     ]
    },
    {
     "name": "stderr",
     "output_type": "stream",
     "text": [
      "<ipython-input-1-d5b62f59ed62>:103: FutureWarning: The frame.append method is deprecated and will be removed from pandas in a future version. Use pandas.concat instead.\n",
      "  final = final.append(\n",
      "<ipython-input-1-d5b62f59ed62>:47: FutureWarning: Indexing a timezone-aware DatetimeIndex with a timezone-naive datetime is deprecated and will raise KeyError in a future version. Use a timezone-aware object instead.\n",
      "  y = max.truncate(before=pd.Timestamp('today') - pd.DateOffset(months=12))\n",
      "<ipython-input-1-d5b62f59ed62>:48: FutureWarning: Indexing a timezone-aware DatetimeIndex with a timezone-naive datetime is deprecated and will raise KeyError in a future version. Use a timezone-aware object instead.\n",
      "  m6 = max.truncate(before=pd.Timestamp('today') - pd.DateOffset(months=6))\n",
      "<ipython-input-1-d5b62f59ed62>:49: FutureWarning: Indexing a timezone-aware DatetimeIndex with a timezone-naive datetime is deprecated and will raise KeyError in a future version. Use a timezone-aware object instead.\n",
      "  m3 = max.truncate(before=pd.Timestamp('today') - pd.DateOffset(months=3))\n",
      "<ipython-input-1-d5b62f59ed62>:50: FutureWarning: Indexing a timezone-aware DatetimeIndex with a timezone-naive datetime is deprecated and will raise KeyError in a future version. Use a timezone-aware object instead.\n",
      "  m1 = max.truncate(before=pd.Timestamp('today') - pd.DateOffset(months=1))\n",
      "<ipython-input-1-d5b62f59ed62>:103: FutureWarning: The frame.append method is deprecated and will be removed from pandas in a future version. Use pandas.concat instead.\n",
      "  final = final.append(\n"
     ]
    },
    {
     "name": "stdout",
     "output_type": "stream",
     "text": [
      "0.18487470336428002\n",
      "0.2611306072814859\n",
      "0.3402734456724849\n",
      "0.38179743663672144\n",
      "0.410815511553127\n",
      "Producing data for:  AXP\n"
     ]
    },
    {
     "name": "stderr",
     "output_type": "stream",
     "text": [
      "<ipython-input-1-d5b62f59ed62>:47: FutureWarning: Indexing a timezone-aware DatetimeIndex with a timezone-naive datetime is deprecated and will raise KeyError in a future version. Use a timezone-aware object instead.\n",
      "  y = max.truncate(before=pd.Timestamp('today') - pd.DateOffset(months=12))\n",
      "<ipython-input-1-d5b62f59ed62>:48: FutureWarning: Indexing a timezone-aware DatetimeIndex with a timezone-naive datetime is deprecated and will raise KeyError in a future version. Use a timezone-aware object instead.\n",
      "  m6 = max.truncate(before=pd.Timestamp('today') - pd.DateOffset(months=6))\n",
      "<ipython-input-1-d5b62f59ed62>:49: FutureWarning: Indexing a timezone-aware DatetimeIndex with a timezone-naive datetime is deprecated and will raise KeyError in a future version. Use a timezone-aware object instead.\n",
      "  m3 = max.truncate(before=pd.Timestamp('today') - pd.DateOffset(months=3))\n",
      "<ipython-input-1-d5b62f59ed62>:50: FutureWarning: Indexing a timezone-aware DatetimeIndex with a timezone-naive datetime is deprecated and will raise KeyError in a future version. Use a timezone-aware object instead.\n",
      "  m1 = max.truncate(before=pd.Timestamp('today') - pd.DateOffset(months=1))\n"
     ]
    },
    {
     "name": "stdout",
     "output_type": "stream",
     "text": [
      "0.17964026888836826\n",
      "0.26336446536939867\n",
      "0.35683358504156126\n",
      "0.402478468076199\n",
      "0.4427528439385997\n",
      "Producing data for:  AFG\n"
     ]
    },
    {
     "name": "stderr",
     "output_type": "stream",
     "text": [
      "<ipython-input-1-d5b62f59ed62>:103: FutureWarning: The frame.append method is deprecated and will be removed from pandas in a future version. Use pandas.concat instead.\n",
      "  final = final.append(\n",
      "<ipython-input-1-d5b62f59ed62>:47: FutureWarning: Indexing a timezone-aware DatetimeIndex with a timezone-naive datetime is deprecated and will raise KeyError in a future version. Use a timezone-aware object instead.\n",
      "  y = max.truncate(before=pd.Timestamp('today') - pd.DateOffset(months=12))\n",
      "<ipython-input-1-d5b62f59ed62>:48: FutureWarning: Indexing a timezone-aware DatetimeIndex with a timezone-naive datetime is deprecated and will raise KeyError in a future version. Use a timezone-aware object instead.\n",
      "  m6 = max.truncate(before=pd.Timestamp('today') - pd.DateOffset(months=6))\n",
      "<ipython-input-1-d5b62f59ed62>:49: FutureWarning: Indexing a timezone-aware DatetimeIndex with a timezone-naive datetime is deprecated and will raise KeyError in a future version. Use a timezone-aware object instead.\n",
      "  m3 = max.truncate(before=pd.Timestamp('today') - pd.DateOffset(months=3))\n",
      "<ipython-input-1-d5b62f59ed62>:50: FutureWarning: Indexing a timezone-aware DatetimeIndex with a timezone-naive datetime is deprecated and will raise KeyError in a future version. Use a timezone-aware object instead.\n",
      "  m1 = max.truncate(before=pd.Timestamp('today') - pd.DateOffset(months=1))\n"
     ]
    },
    {
     "name": "stdout",
     "output_type": "stream",
     "text": [
      "0.1820559424836034\n",
      "0.28357209881874745\n",
      "0.3997019844906059\n",
      "0.4563316938500196\n",
      "0.5003521289717928"
     ]
    },
    {
     "name": "stderr",
     "output_type": "stream",
     "text": [
      "<ipython-input-1-d5b62f59ed62>:103: FutureWarning: The frame.append method is deprecated and will be removed from pandas in a future version. Use pandas.concat instead.\n",
      "  final = final.append(\n"
     ]
    },
    {
     "name": "stdout",
     "output_type": "stream",
     "text": [
      "\n",
      "Producing data for:  AFA\n",
      "Got error from yahoo api for ticker AFA, Error: {'code': 'Not Found', 'description': 'No data found, symbol may be delisted'}\n",
      "- AFA: No timezone found, symbol may be delisted\n",
      "Got error from yahoo api for ticker AFA, Error: {'code': 'Not Found', 'description': 'No data found, symbol may be delisted'}\n",
      "- AFA: No timezone found, symbol may be delisted\n",
      "Producing data for:  AFW\n",
      "Got error from yahoo api for ticker AFW, Error: {'code': 'Not Found', 'description': 'No data found, symbol may be delisted'}\n",
      "- AFW: No timezone found, symbol may be delisted\n",
      "Got error from yahoo api for ticker AFW, Error: {'code': 'Not Found', 'description': 'No data found, symbol may be delisted'}\n",
      "- AFW: No timezone found, symbol may be delisted\n",
      "Producing data for:  AMH\n"
     ]
    },
    {
     "name": "stderr",
     "output_type": "stream",
     "text": [
      "<ipython-input-1-d5b62f59ed62>:47: FutureWarning: Indexing a timezone-aware DatetimeIndex with a timezone-naive datetime is deprecated and will raise KeyError in a future version. Use a timezone-aware object instead.\n",
      "  y = max.truncate(before=pd.Timestamp('today') - pd.DateOffset(months=12))\n",
      "<ipython-input-1-d5b62f59ed62>:48: FutureWarning: Indexing a timezone-aware DatetimeIndex with a timezone-naive datetime is deprecated and will raise KeyError in a future version. Use a timezone-aware object instead.\n",
      "  m6 = max.truncate(before=pd.Timestamp('today') - pd.DateOffset(months=6))\n",
      "<ipython-input-1-d5b62f59ed62>:49: FutureWarning: Indexing a timezone-aware DatetimeIndex with a timezone-naive datetime is deprecated and will raise KeyError in a future version. Use a timezone-aware object instead.\n",
      "  m3 = max.truncate(before=pd.Timestamp('today') - pd.DateOffset(months=3))\n",
      "<ipython-input-1-d5b62f59ed62>:50: FutureWarning: Indexing a timezone-aware DatetimeIndex with a timezone-naive datetime is deprecated and will raise KeyError in a future version. Use a timezone-aware object instead.\n",
      "  m1 = max.truncate(before=pd.Timestamp('today') - pd.DateOffset(months=1))\n"
     ]
    },
    {
     "name": "stdout",
     "output_type": "stream",
     "text": [
      "0.1739592455142197\n",
      "0.2609584710162873\n",
      "0.3537395927957876\n",
      "0.39489783215965324\n",
      "0.4266373194176994\n",
      "Producing data for:  AMH.PRA\n"
     ]
    },
    {
     "name": "stderr",
     "output_type": "stream",
     "text": [
      "<ipython-input-1-d5b62f59ed62>:103: FutureWarning: The frame.append method is deprecated and will be removed from pandas in a future version. Use pandas.concat instead.\n",
      "  final = final.append(\n"
     ]
    },
    {
     "name": "stdout",
     "output_type": "stream",
     "text": [
      "Got error from yahoo api for ticker AMH.PRA, Error: {'code': 'Not Found', 'description': 'No data found, symbol may be delisted'}\n",
      "- AMH.PRA: No timezone found, symbol may be delisted\n",
      "Got error from yahoo api for ticker AMH.PRA, Error: {'code': 'Not Found', 'description': 'No data found, symbol may be delisted'}\n",
      "- AMH.PRA: No timezone found, symbol may be delisted\n",
      "Producing data for:  AMH.PRB\n",
      "Got error from yahoo api for ticker AMH.PRB, Error: {'code': 'Not Found', 'description': 'No data found, symbol may be delisted'}\n",
      "- AMH.PRB: No timezone found, symbol may be delisted\n",
      "Got error from yahoo api for ticker AMH.PRB, Error: {'code': 'Not Found', 'description': 'No data found, symbol may be delisted'}\n",
      "- AMH.PRB: No timezone found, symbol may be delisted\n",
      "Producing data for:  AMH.PRC\n",
      "Got error from yahoo api for ticker AMH.PRC, Error: {'code': 'Not Found', 'description': 'No data found, symbol may be delisted'}\n",
      "- AMH.PRC: No timezone found, symbol may be delisted\n",
      "Got error from yahoo api for ticker AMH.PRC, Error: {'code': 'Not Found', 'description': 'No data found, symbol may be delisted'}\n",
      "- AMH.PRC: No timezone found, symbol may be delisted\n",
      "Producing data for:  AMH.PRD\n",
      "Got error from yahoo api for ticker AMH.PRD, Error: {'code': 'Not Found', 'description': 'No data found, symbol may be delisted'}\n",
      "- AMH.PRD: No timezone found, symbol may be delisted\n",
      "Got error from yahoo api for ticker AMH.PRD, Error: {'code': 'Not Found', 'description': 'No data found, symbol may be delisted'}\n",
      "- AMH.PRD: No timezone found, symbol may be delisted\n",
      "Producing data for:  AMH.PRE\n",
      "Got error from yahoo api for ticker AMH.PRE, Error: {'code': 'Not Found', 'description': 'No data found, symbol may be delisted'}\n",
      "- AMH.PRE: No timezone found, symbol may be delisted\n",
      "Got error from yahoo api for ticker AMH.PRE, Error: {'code': 'Not Found', 'description': 'No data found, symbol may be delisted'}\n",
      "- AMH.PRE: No timezone found, symbol may be delisted\n",
      "Producing data for:  AIG\n"
     ]
    },
    {
     "name": "stderr",
     "output_type": "stream",
     "text": [
      "<ipython-input-1-d5b62f59ed62>:47: FutureWarning: Indexing a timezone-aware DatetimeIndex with a timezone-naive datetime is deprecated and will raise KeyError in a future version. Use a timezone-aware object instead.\n",
      "  y = max.truncate(before=pd.Timestamp('today') - pd.DateOffset(months=12))\n",
      "<ipython-input-1-d5b62f59ed62>:48: FutureWarning: Indexing a timezone-aware DatetimeIndex with a timezone-naive datetime is deprecated and will raise KeyError in a future version. Use a timezone-aware object instead.\n",
      "  m6 = max.truncate(before=pd.Timestamp('today') - pd.DateOffset(months=6))\n",
      "<ipython-input-1-d5b62f59ed62>:49: FutureWarning: Indexing a timezone-aware DatetimeIndex with a timezone-naive datetime is deprecated and will raise KeyError in a future version. Use a timezone-aware object instead.\n",
      "  m3 = max.truncate(before=pd.Timestamp('today') - pd.DateOffset(months=3))\n",
      "<ipython-input-1-d5b62f59ed62>:50: FutureWarning: Indexing a timezone-aware DatetimeIndex with a timezone-naive datetime is deprecated and will raise KeyError in a future version. Use a timezone-aware object instead.\n",
      "  m1 = max.truncate(before=pd.Timestamp('today') - pd.DateOffset(months=1))\n"
     ]
    },
    {
     "name": "stdout",
     "output_type": "stream",
     "text": [
      "0.17869906146913858\n",
      "0.275450698344391\n",
      "0.38709360651139274\n",
      "0.4459999737269446\n",
      "0.5057489869200303\n",
      "Producing data for:  AIG.WS\n"
     ]
    },
    {
     "name": "stderr",
     "output_type": "stream",
     "text": [
      "<ipython-input-1-d5b62f59ed62>:103: FutureWarning: The frame.append method is deprecated and will be removed from pandas in a future version. Use pandas.concat instead.\n",
      "  final = final.append(\n"
     ]
    },
    {
     "name": "stdout",
     "output_type": "stream",
     "text": [
      "Got error from yahoo api for ticker AIG.WS, Error: {'code': 'Not Found', 'description': 'No data found, symbol may be delisted'}\n",
      "- AIG.WS: No timezone found, symbol may be delisted\n",
      "Got error from yahoo api for ticker AIG.WS, Error: {'code': 'Not Found', 'description': 'No data found, symbol may be delisted'}\n",
      "- AIG.WS: No timezone found, symbol may be delisted\n",
      "Producing data for:  AMID\n"
     ]
    },
    {
     "name": "stderr",
     "output_type": "stream",
     "text": [
      "<ipython-input-1-d5b62f59ed62>:47: FutureWarning: Indexing a timezone-aware DatetimeIndex with a timezone-naive datetime is deprecated and will raise KeyError in a future version. Use a timezone-aware object instead.\n",
      "  y = max.truncate(before=pd.Timestamp('today') - pd.DateOffset(months=12))\n",
      "<ipython-input-1-d5b62f59ed62>:48: FutureWarning: Indexing a timezone-aware DatetimeIndex with a timezone-naive datetime is deprecated and will raise KeyError in a future version. Use a timezone-aware object instead.\n",
      "  m6 = max.truncate(before=pd.Timestamp('today') - pd.DateOffset(months=6))\n",
      "<ipython-input-1-d5b62f59ed62>:49: FutureWarning: Indexing a timezone-aware DatetimeIndex with a timezone-naive datetime is deprecated and will raise KeyError in a future version. Use a timezone-aware object instead.\n",
      "  m3 = max.truncate(before=pd.Timestamp('today') - pd.DateOffset(months=3))\n",
      "<ipython-input-1-d5b62f59ed62>:50: FutureWarning: Indexing a timezone-aware DatetimeIndex with a timezone-naive datetime is deprecated and will raise KeyError in a future version. Use a timezone-aware object instead.\n",
      "  m1 = max.truncate(before=pd.Timestamp('today') - pd.DateOffset(months=1))\n",
      "<ipython-input-1-d5b62f59ed62>:38: RuntimeWarning: divide by zero encountered in log\n",
      "  reg = np.polyfit(np.log(lags), np.log(tau), 1)\n",
      "C:\\Users\\Kamen\\AppData\\Local\\Programs\\Python\\Python38\\lib\\site-packages\\numpy\\core\\_methods.py:262: RuntimeWarning: Degrees of freedom <= 0 for slice\n",
      "  ret = _var(a, axis=axis, dtype=dtype, out=out, ddof=ddof,\n",
      "C:\\Users\\Kamen\\AppData\\Local\\Programs\\Python\\Python38\\lib\\site-packages\\numpy\\core\\_methods.py:222: RuntimeWarning: invalid value encountered in true_divide\n",
      "  arrmean = um.true_divide(arrmean, div, out=arrmean, casting='unsafe',\n",
      "C:\\Users\\Kamen\\AppData\\Local\\Programs\\Python\\Python38\\lib\\site-packages\\numpy\\core\\_methods.py:254: RuntimeWarning: invalid value encountered in double_scalars\n",
      "  ret = ret.dtype.type(ret / rcount)\n",
      "<ipython-input-1-d5b62f59ed62>:103: FutureWarning: The frame.append method is deprecated and will be removed from pandas in a future version. Use pandas.concat instead.\n",
      "  final = final.append(\n"
     ]
    },
    {
     "name": "stdout",
     "output_type": "stream",
     "text": [
      "0.11899358594907404\n",
      "nan\n",
      "nan\n",
      "nan\n",
      "nan\n",
      "Producing data for:  ARL\n"
     ]
    },
    {
     "name": "stderr",
     "output_type": "stream",
     "text": [
      "<ipython-input-1-d5b62f59ed62>:47: FutureWarning: Indexing a timezone-aware DatetimeIndex with a timezone-naive datetime is deprecated and will raise KeyError in a future version. Use a timezone-aware object instead.\n",
      "  y = max.truncate(before=pd.Timestamp('today') - pd.DateOffset(months=12))\n",
      "<ipython-input-1-d5b62f59ed62>:48: FutureWarning: Indexing a timezone-aware DatetimeIndex with a timezone-naive datetime is deprecated and will raise KeyError in a future version. Use a timezone-aware object instead.\n",
      "  m6 = max.truncate(before=pd.Timestamp('today') - pd.DateOffset(months=6))\n",
      "<ipython-input-1-d5b62f59ed62>:49: FutureWarning: Indexing a timezone-aware DatetimeIndex with a timezone-naive datetime is deprecated and will raise KeyError in a future version. Use a timezone-aware object instead.\n",
      "  m3 = max.truncate(before=pd.Timestamp('today') - pd.DateOffset(months=3))\n",
      "<ipython-input-1-d5b62f59ed62>:50: FutureWarning: Indexing a timezone-aware DatetimeIndex with a timezone-naive datetime is deprecated and will raise KeyError in a future version. Use a timezone-aware object instead.\n",
      "  m1 = max.truncate(before=pd.Timestamp('today') - pd.DateOffset(months=1))\n"
     ]
    },
    {
     "name": "stdout",
     "output_type": "stream",
     "text": [
      "0.18885122182529104\n",
      "0.26968672711566694\n",
      "0.34516875531834723\n",
      "0.38528168271738594\n",
      "0.42616212856752334\n",
      "Producing data for:  ARA\n"
     ]
    },
    {
     "name": "stderr",
     "output_type": "stream",
     "text": [
      "<ipython-input-1-d5b62f59ed62>:103: FutureWarning: The frame.append method is deprecated and will be removed from pandas in a future version. Use pandas.concat instead.\n",
      "  final = final.append(\n"
     ]
    },
    {
     "name": "stdout",
     "output_type": "stream",
     "text": [
      "Got error from yahoo api for ticker ARA, Error: {'code': 'Not Found', 'description': 'No data found, symbol may be delisted'}\n",
      "- ARA: No timezone found, symbol may be delisted\n",
      "Got error from yahoo api for ticker ARA, Error: {'code': 'Not Found', 'description': 'No data found, symbol may be delisted'}\n",
      "- ARA: No timezone found, symbol may be delisted\n",
      "Producing data for:  AWR\n"
     ]
    },
    {
     "name": "stderr",
     "output_type": "stream",
     "text": [
      "<ipython-input-1-d5b62f59ed62>:47: FutureWarning: Indexing a timezone-aware DatetimeIndex with a timezone-naive datetime is deprecated and will raise KeyError in a future version. Use a timezone-aware object instead.\n",
      "  y = max.truncate(before=pd.Timestamp('today') - pd.DateOffset(months=12))\n",
      "<ipython-input-1-d5b62f59ed62>:48: FutureWarning: Indexing a timezone-aware DatetimeIndex with a timezone-naive datetime is deprecated and will raise KeyError in a future version. Use a timezone-aware object instead.\n",
      "  m6 = max.truncate(before=pd.Timestamp('today') - pd.DateOffset(months=6))\n",
      "<ipython-input-1-d5b62f59ed62>:49: FutureWarning: Indexing a timezone-aware DatetimeIndex with a timezone-naive datetime is deprecated and will raise KeyError in a future version. Use a timezone-aware object instead.\n",
      "  m3 = max.truncate(before=pd.Timestamp('today') - pd.DateOffset(months=3))\n",
      "<ipython-input-1-d5b62f59ed62>:50: FutureWarning: Indexing a timezone-aware DatetimeIndex with a timezone-naive datetime is deprecated and will raise KeyError in a future version. Use a timezone-aware object instead.\n",
      "  m1 = max.truncate(before=pd.Timestamp('today') - pd.DateOffset(months=1))\n",
      "<ipython-input-1-d5b62f59ed62>:103: FutureWarning: The frame.append method is deprecated and will be removed from pandas in a future version. Use pandas.concat instead.\n",
      "  final = final.append(\n"
     ]
    },
    {
     "name": "stdout",
     "output_type": "stream",
     "text": [
      "0.16048965162367626\n",
      "0.2349227025514688\n",
      "0.31665032044051455\n",
      "0.35935722585886265\n",
      "0.4100609157875347\n",
      "Producing data for:  AMT\n"
     ]
    },
    {
     "name": "stderr",
     "output_type": "stream",
     "text": [
      "<ipython-input-1-d5b62f59ed62>:47: FutureWarning: Indexing a timezone-aware DatetimeIndex with a timezone-naive datetime is deprecated and will raise KeyError in a future version. Use a timezone-aware object instead.\n",
      "  y = max.truncate(before=pd.Timestamp('today') - pd.DateOffset(months=12))\n",
      "<ipython-input-1-d5b62f59ed62>:48: FutureWarning: Indexing a timezone-aware DatetimeIndex with a timezone-naive datetime is deprecated and will raise KeyError in a future version. Use a timezone-aware object instead.\n",
      "  m6 = max.truncate(before=pd.Timestamp('today') - pd.DateOffset(months=6))\n",
      "<ipython-input-1-d5b62f59ed62>:49: FutureWarning: Indexing a timezone-aware DatetimeIndex with a timezone-naive datetime is deprecated and will raise KeyError in a future version. Use a timezone-aware object instead.\n",
      "  m3 = max.truncate(before=pd.Timestamp('today') - pd.DateOffset(months=3))\n",
      "<ipython-input-1-d5b62f59ed62>:50: FutureWarning: Indexing a timezone-aware DatetimeIndex with a timezone-naive datetime is deprecated and will raise KeyError in a future version. Use a timezone-aware object instead.\n",
      "  m1 = max.truncate(before=pd.Timestamp('today') - pd.DateOffset(months=1))\n",
      "<ipython-input-1-d5b62f59ed62>:103: FutureWarning: The frame.append method is deprecated and will be removed from pandas in a future version. Use pandas.concat instead.\n",
      "  final = final.append(\n"
     ]
    },
    {
     "name": "stdout",
     "output_type": "stream",
     "text": [
      "0.19222390685974244\n",
      "0.2722660863309635\n",
      "0.35034058987166505\n",
      "0.3909733862883937\n",
      "0.43908728248840034\n",
      "Producing data for:  AMT.PRA\n",
      "Got error from yahoo api for ticker AMT.PRA, Error: {'code': 'Not Found', 'description': 'No data found, symbol may be delisted'}\n",
      "- AMT.PRA: No timezone found, symbol may be delisted\n",
      "Got error from yahoo api for ticker AMT.PRA, Error: {'code': 'Not Found', 'description': 'No data found, symbol may be delisted'}\n",
      "- AMT.PRA: No timezone found, symbol may be delisted\n",
      "Producing data for:  AMT.PRB\n",
      "Got error from yahoo api for ticker AMT.PRB, Error: {'code': 'Not Found', 'description': 'No data found, symbol may be delisted'}\n",
      "- AMT.PRB: No timezone found, symbol may be delisted\n",
      "Got error from yahoo api for ticker AMT.PRB, Error: {'code': 'Not Found', 'description': 'No data found, symbol may be delisted'}\n",
      "- AMT.PRB: No timezone found, symbol may be delisted\n",
      "Producing data for:  AVD\n"
     ]
    },
    {
     "name": "stderr",
     "output_type": "stream",
     "text": [
      "<ipython-input-1-d5b62f59ed62>:47: FutureWarning: Indexing a timezone-aware DatetimeIndex with a timezone-naive datetime is deprecated and will raise KeyError in a future version. Use a timezone-aware object instead.\n",
      "  y = max.truncate(before=pd.Timestamp('today') - pd.DateOffset(months=12))\n",
      "<ipython-input-1-d5b62f59ed62>:48: FutureWarning: Indexing a timezone-aware DatetimeIndex with a timezone-naive datetime is deprecated and will raise KeyError in a future version. Use a timezone-aware object instead.\n",
      "  m6 = max.truncate(before=pd.Timestamp('today') - pd.DateOffset(months=6))\n",
      "<ipython-input-1-d5b62f59ed62>:49: FutureWarning: Indexing a timezone-aware DatetimeIndex with a timezone-naive datetime is deprecated and will raise KeyError in a future version. Use a timezone-aware object instead.\n",
      "  m3 = max.truncate(before=pd.Timestamp('today') - pd.DateOffset(months=3))\n",
      "<ipython-input-1-d5b62f59ed62>:50: FutureWarning: Indexing a timezone-aware DatetimeIndex with a timezone-naive datetime is deprecated and will raise KeyError in a future version. Use a timezone-aware object instead.\n",
      "  m1 = max.truncate(before=pd.Timestamp('today') - pd.DateOffset(months=1))\n"
     ]
    },
    {
     "name": "stdout",
     "output_type": "stream",
     "text": [
      "0.1818390837989445\n",
      "0.26919766633876524\n",
      "0.3645977134164567\n",
      "0.41505783768933546\n",
      "0.4604680091936475\n",
      "Producing data for:  AWK\n"
     ]
    },
    {
     "name": "stderr",
     "output_type": "stream",
     "text": [
      "<ipython-input-1-d5b62f59ed62>:103: FutureWarning: The frame.append method is deprecated and will be removed from pandas in a future version. Use pandas.concat instead.\n",
      "  final = final.append(\n",
      "<ipython-input-1-d5b62f59ed62>:47: FutureWarning: Indexing a timezone-aware DatetimeIndex with a timezone-naive datetime is deprecated and will raise KeyError in a future version. Use a timezone-aware object instead.\n",
      "  y = max.truncate(before=pd.Timestamp('today') - pd.DateOffset(months=12))\n",
      "<ipython-input-1-d5b62f59ed62>:48: FutureWarning: Indexing a timezone-aware DatetimeIndex with a timezone-naive datetime is deprecated and will raise KeyError in a future version. Use a timezone-aware object instead.\n",
      "  m6 = max.truncate(before=pd.Timestamp('today') - pd.DateOffset(months=6))\n",
      "<ipython-input-1-d5b62f59ed62>:49: FutureWarning: Indexing a timezone-aware DatetimeIndex with a timezone-naive datetime is deprecated and will raise KeyError in a future version. Use a timezone-aware object instead.\n",
      "  m3 = max.truncate(before=pd.Timestamp('today') - pd.DateOffset(months=3))\n",
      "<ipython-input-1-d5b62f59ed62>:50: FutureWarning: Indexing a timezone-aware DatetimeIndex with a timezone-naive datetime is deprecated and will raise KeyError in a future version. Use a timezone-aware object instead.\n",
      "  m1 = max.truncate(before=pd.Timestamp('today') - pd.DateOffset(months=1))\n",
      "<ipython-input-1-d5b62f59ed62>:103: FutureWarning: The frame.append method is deprecated and will be removed from pandas in a future version. Use pandas.concat instead.\n",
      "  final = final.append(\n"
     ]
    },
    {
     "name": "stdout",
     "output_type": "stream",
     "text": [
      "0.19223712222720515\n",
      "0.26052119625533\n",
      "0.3338239758538789\n",
      "0.37052728302371096\n",
      "0.41052729226554036\n",
      "Producing data for:  APU\n",
      "Got error from yahoo api for ticker APU, Error: {'code': 'Not Found', 'description': 'No data found, symbol may be delisted'}\n",
      "- APU: No timezone found, symbol may be delisted\n",
      "Got error from yahoo api for ticker APU, Error: {'code': 'Not Found', 'description': 'No data found, symbol may be delisted'}\n",
      "- APU: No timezone found, symbol may be delisted\n",
      "Producing data for:  AMP\n"
     ]
    },
    {
     "name": "stderr",
     "output_type": "stream",
     "text": [
      "<ipython-input-1-d5b62f59ed62>:47: FutureWarning: Indexing a timezone-aware DatetimeIndex with a timezone-naive datetime is deprecated and will raise KeyError in a future version. Use a timezone-aware object instead.\n",
      "  y = max.truncate(before=pd.Timestamp('today') - pd.DateOffset(months=12))\n",
      "<ipython-input-1-d5b62f59ed62>:48: FutureWarning: Indexing a timezone-aware DatetimeIndex with a timezone-naive datetime is deprecated and will raise KeyError in a future version. Use a timezone-aware object instead.\n",
      "  m6 = max.truncate(before=pd.Timestamp('today') - pd.DateOffset(months=6))\n",
      "<ipython-input-1-d5b62f59ed62>:49: FutureWarning: Indexing a timezone-aware DatetimeIndex with a timezone-naive datetime is deprecated and will raise KeyError in a future version. Use a timezone-aware object instead.\n",
      "  m3 = max.truncate(before=pd.Timestamp('today') - pd.DateOffset(months=3))\n",
      "<ipython-input-1-d5b62f59ed62>:50: FutureWarning: Indexing a timezone-aware DatetimeIndex with a timezone-naive datetime is deprecated and will raise KeyError in a future version. Use a timezone-aware object instead.\n",
      "  m1 = max.truncate(before=pd.Timestamp('today') - pd.DateOffset(months=1))\n",
      "<ipython-input-1-d5b62f59ed62>:103: FutureWarning: The frame.append method is deprecated and will be removed from pandas in a future version. Use pandas.concat instead.\n",
      "  final = final.append(\n"
     ]
    },
    {
     "name": "stdout",
     "output_type": "stream",
     "text": [
      "0.20115788690414582\n",
      "0.29266109733100554\n",
      "0.38468407961990525\n",
      "0.43204934678823165\n",
      "0.47277264209881886\n",
      "Producing data for:  ABC\n"
     ]
    },
    {
     "name": "stderr",
     "output_type": "stream",
     "text": [
      "<ipython-input-1-d5b62f59ed62>:47: FutureWarning: Indexing a timezone-aware DatetimeIndex with a timezone-naive datetime is deprecated and will raise KeyError in a future version. Use a timezone-aware object instead.\n",
      "  y = max.truncate(before=pd.Timestamp('today') - pd.DateOffset(months=12))\n",
      "<ipython-input-1-d5b62f59ed62>:48: FutureWarning: Indexing a timezone-aware DatetimeIndex with a timezone-naive datetime is deprecated and will raise KeyError in a future version. Use a timezone-aware object instead.\n",
      "  m6 = max.truncate(before=pd.Timestamp('today') - pd.DateOffset(months=6))\n",
      "<ipython-input-1-d5b62f59ed62>:49: FutureWarning: Indexing a timezone-aware DatetimeIndex with a timezone-naive datetime is deprecated and will raise KeyError in a future version. Use a timezone-aware object instead.\n",
      "  m3 = max.truncate(before=pd.Timestamp('today') - pd.DateOffset(months=3))\n",
      "<ipython-input-1-d5b62f59ed62>:50: FutureWarning: Indexing a timezone-aware DatetimeIndex with a timezone-naive datetime is deprecated and will raise KeyError in a future version. Use a timezone-aware object instead.\n",
      "  m1 = max.truncate(before=pd.Timestamp('today') - pd.DateOffset(months=1))\n"
     ]
    },
    {
     "name": "stdout",
     "output_type": "stream",
     "text": [
      "0.18038271737956413\n",
      "0.2664980608265184\n",
      "0.3558243411526139\n",
      "0.40313867425127076\n",
      "0.4500177554122562"
     ]
    },
    {
     "name": "stderr",
     "output_type": "stream",
     "text": [
      "<ipython-input-1-d5b62f59ed62>:103: FutureWarning: The frame.append method is deprecated and will be removed from pandas in a future version. Use pandas.concat instead.\n",
      "  final = final.append(\n"
     ]
    },
    {
     "name": "stdout",
     "output_type": "stream",
     "text": [
      "\n",
      "Producing data for:  AME\n"
     ]
    },
    {
     "name": "stderr",
     "output_type": "stream",
     "text": [
      "<ipython-input-1-d5b62f59ed62>:47: FutureWarning: Indexing a timezone-aware DatetimeIndex with a timezone-naive datetime is deprecated and will raise KeyError in a future version. Use a timezone-aware object instead.\n",
      "  y = max.truncate(before=pd.Timestamp('today') - pd.DateOffset(months=12))\n",
      "<ipython-input-1-d5b62f59ed62>:48: FutureWarning: Indexing a timezone-aware DatetimeIndex with a timezone-naive datetime is deprecated and will raise KeyError in a future version. Use a timezone-aware object instead.\n",
      "  m6 = max.truncate(before=pd.Timestamp('today') - pd.DateOffset(months=6))\n",
      "<ipython-input-1-d5b62f59ed62>:49: FutureWarning: Indexing a timezone-aware DatetimeIndex with a timezone-naive datetime is deprecated and will raise KeyError in a future version. Use a timezone-aware object instead.\n",
      "  m3 = max.truncate(before=pd.Timestamp('today') - pd.DateOffset(months=3))\n",
      "<ipython-input-1-d5b62f59ed62>:50: FutureWarning: Indexing a timezone-aware DatetimeIndex with a timezone-naive datetime is deprecated and will raise KeyError in a future version. Use a timezone-aware object instead.\n",
      "  m1 = max.truncate(before=pd.Timestamp('today') - pd.DateOffset(months=1))\n",
      "<ipython-input-1-d5b62f59ed62>:103: FutureWarning: The frame.append method is deprecated and will be removed from pandas in a future version. Use pandas.concat instead.\n",
      "  final = final.append(\n"
     ]
    },
    {
     "name": "stdout",
     "output_type": "stream",
     "text": [
      "0.20010688927444698\n",
      "0.288188779998407\n",
      "0.3767215530465107\n",
      "0.4216822139157268\n",
      "0.469848804376853\n",
      "Producing data for:  ANFI\n",
      "Got error from yahoo api for ticker ANFI, Error: {'code': 'Not Found', 'description': 'No data found, symbol may be delisted'}\n",
      "- ANFI: No timezone found, symbol may be delisted\n",
      "Got error from yahoo api for ticker ANFI, Error: {'code': 'Not Found', 'description': 'No data found, symbol may be delisted'}\n",
      "- ANFI: No timezone found, symbol may be delisted\n",
      "Producing data for:  AMN\n"
     ]
    },
    {
     "name": "stderr",
     "output_type": "stream",
     "text": [
      "<ipython-input-1-d5b62f59ed62>:47: FutureWarning: Indexing a timezone-aware DatetimeIndex with a timezone-naive datetime is deprecated and will raise KeyError in a future version. Use a timezone-aware object instead.\n",
      "  y = max.truncate(before=pd.Timestamp('today') - pd.DateOffset(months=12))\n",
      "<ipython-input-1-d5b62f59ed62>:48: FutureWarning: Indexing a timezone-aware DatetimeIndex with a timezone-naive datetime is deprecated and will raise KeyError in a future version. Use a timezone-aware object instead.\n",
      "  m6 = max.truncate(before=pd.Timestamp('today') - pd.DateOffset(months=6))\n",
      "<ipython-input-1-d5b62f59ed62>:49: FutureWarning: Indexing a timezone-aware DatetimeIndex with a timezone-naive datetime is deprecated and will raise KeyError in a future version. Use a timezone-aware object instead.\n",
      "  m3 = max.truncate(before=pd.Timestamp('today') - pd.DateOffset(months=3))\n",
      "<ipython-input-1-d5b62f59ed62>:50: FutureWarning: Indexing a timezone-aware DatetimeIndex with a timezone-naive datetime is deprecated and will raise KeyError in a future version. Use a timezone-aware object instead.\n",
      "  m1 = max.truncate(before=pd.Timestamp('today') - pd.DateOffset(months=1))\n",
      "<ipython-input-1-d5b62f59ed62>:103: FutureWarning: The frame.append method is deprecated and will be removed from pandas in a future version. Use pandas.concat instead.\n",
      "  final = final.append(\n"
     ]
    },
    {
     "name": "stdout",
     "output_type": "stream",
     "text": [
      "0.17632616301648799\n",
      "0.2574253459295446\n",
      "0.34118758875995603\n",
      "0.3834403369621631\n",
      "0.42508157425489324\n",
      "Producing data for:  AP\n"
     ]
    },
    {
     "name": "stderr",
     "output_type": "stream",
     "text": [
      "<ipython-input-1-d5b62f59ed62>:47: FutureWarning: Indexing a timezone-aware DatetimeIndex with a timezone-naive datetime is deprecated and will raise KeyError in a future version. Use a timezone-aware object instead.\n",
      "  y = max.truncate(before=pd.Timestamp('today') - pd.DateOffset(months=12))\n",
      "<ipython-input-1-d5b62f59ed62>:48: FutureWarning: Indexing a timezone-aware DatetimeIndex with a timezone-naive datetime is deprecated and will raise KeyError in a future version. Use a timezone-aware object instead.\n",
      "  m6 = max.truncate(before=pd.Timestamp('today') - pd.DateOffset(months=6))\n",
      "<ipython-input-1-d5b62f59ed62>:49: FutureWarning: Indexing a timezone-aware DatetimeIndex with a timezone-naive datetime is deprecated and will raise KeyError in a future version. Use a timezone-aware object instead.\n",
      "  m3 = max.truncate(before=pd.Timestamp('today') - pd.DateOffset(months=3))\n",
      "<ipython-input-1-d5b62f59ed62>:50: FutureWarning: Indexing a timezone-aware DatetimeIndex with a timezone-naive datetime is deprecated and will raise KeyError in a future version. Use a timezone-aware object instead.\n",
      "  m1 = max.truncate(before=pd.Timestamp('today') - pd.DateOffset(months=1))\n"
     ]
    },
    {
     "name": "stdout",
     "output_type": "stream",
     "text": [
      "0.1894675396694161\n",
      "0.28247416211742227\n",
      "0.3686077717438328\n",
      "0.41043627896565615\n",
      "0.44910214671569665\n",
      "Producing data for:  APH\n"
     ]
    },
    {
     "name": "stderr",
     "output_type": "stream",
     "text": [
      "<ipython-input-1-d5b62f59ed62>:103: FutureWarning: The frame.append method is deprecated and will be removed from pandas in a future version. Use pandas.concat instead.\n",
      "  final = final.append(\n",
      "<ipython-input-1-d5b62f59ed62>:47: FutureWarning: Indexing a timezone-aware DatetimeIndex with a timezone-naive datetime is deprecated and will raise KeyError in a future version. Use a timezone-aware object instead.\n",
      "  y = max.truncate(before=pd.Timestamp('today') - pd.DateOffset(months=12))\n",
      "<ipython-input-1-d5b62f59ed62>:48: FutureWarning: Indexing a timezone-aware DatetimeIndex with a timezone-naive datetime is deprecated and will raise KeyError in a future version. Use a timezone-aware object instead.\n",
      "  m6 = max.truncate(before=pd.Timestamp('today') - pd.DateOffset(months=6))\n",
      "<ipython-input-1-d5b62f59ed62>:49: FutureWarning: Indexing a timezone-aware DatetimeIndex with a timezone-naive datetime is deprecated and will raise KeyError in a future version. Use a timezone-aware object instead.\n",
      "  m3 = max.truncate(before=pd.Timestamp('today') - pd.DateOffset(months=3))\n",
      "<ipython-input-1-d5b62f59ed62>:50: FutureWarning: Indexing a timezone-aware DatetimeIndex with a timezone-naive datetime is deprecated and will raise KeyError in a future version. Use a timezone-aware object instead.\n",
      "  m1 = max.truncate(before=pd.Timestamp('today') - pd.DateOffset(months=1))\n"
     ]
    },
    {
     "name": "stdout",
     "output_type": "stream",
     "text": [
      "0.19384067495835974\n",
      "0.2822674445729157\n",
      "0.3643946138127734\n",
      "0.40784116939116816\n",
      "0.45305100153739875"
     ]
    },
    {
     "name": "stderr",
     "output_type": "stream",
     "text": [
      "<ipython-input-1-d5b62f59ed62>:103: FutureWarning: The frame.append method is deprecated and will be removed from pandas in a future version. Use pandas.concat instead.\n",
      "  final = final.append(\n"
     ]
    },
    {
     "name": "stdout",
     "output_type": "stream",
     "text": [
      "\n",
      "Producing data for:  BETR\n",
      "BETR: 1d data not available for startTime=-2208994789 and endTime=1673327747. Only 100 years worth of day granularity data are allowed to be fetched per request.\n",
      "BETR: 1d data not available for startTime=-2208994789 and endTime=1673327747. Only 100 years worth of day granularity data are allowed to be fetched per request.\n",
      "Producing data for:  AXR\n"
     ]
    },
    {
     "name": "stderr",
     "output_type": "stream",
     "text": [
      "<ipython-input-1-d5b62f59ed62>:47: FutureWarning: Indexing a timezone-aware DatetimeIndex with a timezone-naive datetime is deprecated and will raise KeyError in a future version. Use a timezone-aware object instead.\n",
      "  y = max.truncate(before=pd.Timestamp('today') - pd.DateOffset(months=12))\n",
      "<ipython-input-1-d5b62f59ed62>:48: FutureWarning: Indexing a timezone-aware DatetimeIndex with a timezone-naive datetime is deprecated and will raise KeyError in a future version. Use a timezone-aware object instead.\n",
      "  m6 = max.truncate(before=pd.Timestamp('today') - pd.DateOffset(months=6))\n",
      "<ipython-input-1-d5b62f59ed62>:49: FutureWarning: Indexing a timezone-aware DatetimeIndex with a timezone-naive datetime is deprecated and will raise KeyError in a future version. Use a timezone-aware object instead.\n",
      "  m3 = max.truncate(before=pd.Timestamp('today') - pd.DateOffset(months=3))\n",
      "<ipython-input-1-d5b62f59ed62>:50: FutureWarning: Indexing a timezone-aware DatetimeIndex with a timezone-naive datetime is deprecated and will raise KeyError in a future version. Use a timezone-aware object instead.\n",
      "  m1 = max.truncate(before=pd.Timestamp('today') - pd.DateOffset(months=1))\n",
      "<ipython-input-1-d5b62f59ed62>:103: FutureWarning: The frame.append method is deprecated and will be removed from pandas in a future version. Use pandas.concat instead.\n",
      "  final = final.append(\n"
     ]
    },
    {
     "name": "stdout",
     "output_type": "stream",
     "text": [
      "0.2041293381632254\n",
      "0.3182558981753695\n",
      "0.41517094379979036\n",
      "0.4571654473255279\n",
      "0.49762152964732653\n",
      "Producing data for:  AFSI.PRA\n",
      "Got error from yahoo api for ticker AFSI.PRA, Error: {'code': 'Not Found', 'description': 'No data found, symbol may be delisted'}\n",
      "- AFSI.PRA: No timezone found, symbol may be delisted\n",
      "Got error from yahoo api for ticker AFSI.PRA, Error: {'code': 'Not Found', 'description': 'No data found, symbol may be delisted'}\n",
      "- AFSI.PRA: No timezone found, symbol may be delisted\n",
      "Producing data for:  AFSI.PRB\n",
      "Got error from yahoo api for ticker AFSI.PRB, Error: {'code': 'Not Found', 'description': 'No data found, symbol may be delisted'}\n",
      "- AFSI.PRB: No timezone found, symbol may be delisted\n",
      "Got error from yahoo api for ticker AFSI.PRB, Error: {'code': 'Not Found', 'description': 'No data found, symbol may be delisted'}\n",
      "- AFSI.PRB: No timezone found, symbol may be delisted\n",
      "Producing data for:  AFSI.PRC\n",
      "Got error from yahoo api for ticker AFSI.PRC, Error: {'code': 'Not Found', 'description': 'No data found, symbol may be delisted'}\n",
      "- AFSI.PRC: No timezone found, symbol may be delisted\n",
      "Got error from yahoo api for ticker AFSI.PRC, Error: {'code': 'Not Found', 'description': 'No data found, symbol may be delisted'}\n",
      "- AFSI.PRC: No timezone found, symbol may be delisted\n",
      "Producing data for:  AFSI.PRD\n",
      "Got error from yahoo api for ticker AFSI.PRD, Error: {'code': 'Not Found', 'description': 'No data found, symbol may be delisted'}\n",
      "- AFSI.PRD: No timezone found, symbol may be delisted\n",
      "Got error from yahoo api for ticker AFSI.PRD, Error: {'code': 'Not Found', 'description': 'No data found, symbol may be delisted'}\n",
      "- AFSI.PRD: No timezone found, symbol may be delisted\n",
      "Producing data for:  AFSI.PRE\n",
      "Got error from yahoo api for ticker AFSI.PRE, Error: {'code': 'Not Found', 'description': 'No data found, symbol may be delisted'}\n",
      "- AFSI.PRE: No timezone found, symbol may be delisted\n",
      "Got error from yahoo api for ticker AFSI.PRE, Error: {'code': 'Not Found', 'description': 'No data found, symbol may be delisted'}\n",
      "- AFSI.PRE: No timezone found, symbol may be delisted\n",
      "Producing data for:  AFSI.PRF\n",
      "Got error from yahoo api for ticker AFSI.PRF, Error: {'code': 'Not Found', 'description': 'No data found, symbol may be delisted'}\n",
      "- AFSI.PRF: No timezone found, symbol may be delisted\n",
      "Got error from yahoo api for ticker AFSI.PRF, Error: {'code': 'Not Found', 'description': 'No data found, symbol may be delisted'}\n",
      "- AFSI.PRF: No timezone found, symbol may be delisted\n",
      "Producing data for:  AMX\n"
     ]
    },
    {
     "name": "stderr",
     "output_type": "stream",
     "text": [
      "<ipython-input-1-d5b62f59ed62>:47: FutureWarning: Indexing a timezone-aware DatetimeIndex with a timezone-naive datetime is deprecated and will raise KeyError in a future version. Use a timezone-aware object instead.\n",
      "  y = max.truncate(before=pd.Timestamp('today') - pd.DateOffset(months=12))\n",
      "<ipython-input-1-d5b62f59ed62>:48: FutureWarning: Indexing a timezone-aware DatetimeIndex with a timezone-naive datetime is deprecated and will raise KeyError in a future version. Use a timezone-aware object instead.\n",
      "  m6 = max.truncate(before=pd.Timestamp('today') - pd.DateOffset(months=6))\n",
      "<ipython-input-1-d5b62f59ed62>:49: FutureWarning: Indexing a timezone-aware DatetimeIndex with a timezone-naive datetime is deprecated and will raise KeyError in a future version. Use a timezone-aware object instead.\n",
      "  m3 = max.truncate(before=pd.Timestamp('today') - pd.DateOffset(months=3))\n",
      "<ipython-input-1-d5b62f59ed62>:50: FutureWarning: Indexing a timezone-aware DatetimeIndex with a timezone-naive datetime is deprecated and will raise KeyError in a future version. Use a timezone-aware object instead.\n",
      "  m1 = max.truncate(before=pd.Timestamp('today') - pd.DateOffset(months=1))\n"
     ]
    },
    {
     "name": "stdout",
     "output_type": "stream",
     "text": [
      "0.1819495199232847\n",
      "0.2707664092348212\n",
      "0.37163572311087895\n",
      "0.4213171777851821\n",
      "0.4660807109778606\n"
     ]
    },
    {
     "name": "stderr",
     "output_type": "stream",
     "text": [
      "<ipython-input-1-d5b62f59ed62>:103: FutureWarning: The frame.append method is deprecated and will be removed from pandas in a future version. Use pandas.concat instead.\n",
      "  final = final.append(\n"
     ]
    },
    {
     "name": "stdout",
     "output_type": "stream",
     "text": [
      "Producing data for:  AMOV\n"
     ]
    },
    {
     "name": "stderr",
     "output_type": "stream",
     "text": [
      "<ipython-input-1-d5b62f59ed62>:47: FutureWarning: Indexing a timezone-aware DatetimeIndex with a timezone-naive datetime is deprecated and will raise KeyError in a future version. Use a timezone-aware object instead.\n",
      "  y = max.truncate(before=pd.Timestamp('today') - pd.DateOffset(months=12))\n",
      "<ipython-input-1-d5b62f59ed62>:48: FutureWarning: Indexing a timezone-aware DatetimeIndex with a timezone-naive datetime is deprecated and will raise KeyError in a future version. Use a timezone-aware object instead.\n",
      "  m6 = max.truncate(before=pd.Timestamp('today') - pd.DateOffset(months=6))\n",
      "<ipython-input-1-d5b62f59ed62>:49: FutureWarning: Indexing a timezone-aware DatetimeIndex with a timezone-naive datetime is deprecated and will raise KeyError in a future version. Use a timezone-aware object instead.\n",
      "  m3 = max.truncate(before=pd.Timestamp('today') - pd.DateOffset(months=3))\n",
      "<ipython-input-1-d5b62f59ed62>:50: FutureWarning: Indexing a timezone-aware DatetimeIndex with a timezone-naive datetime is deprecated and will raise KeyError in a future version. Use a timezone-aware object instead.\n",
      "  m1 = max.truncate(before=pd.Timestamp('today') - pd.DateOffset(months=1))\n",
      "<ipython-input-1-d5b62f59ed62>:103: FutureWarning: The frame.append method is deprecated and will be removed from pandas in a future version. Use pandas.concat instead.\n",
      "  final = final.append(\n"
     ]
    },
    {
     "name": "stdout",
     "output_type": "stream",
     "text": [
      "0.17531995759113658\n",
      "0.2626768719696043\n",
      "0.36220448715333065\n",
      "0.4112462021936897\n",
      "0.45532082958952314\n",
      "Producing data for:  AU\n"
     ]
    },
    {
     "name": "stderr",
     "output_type": "stream",
     "text": [
      "<ipython-input-1-d5b62f59ed62>:47: FutureWarning: Indexing a timezone-aware DatetimeIndex with a timezone-naive datetime is deprecated and will raise KeyError in a future version. Use a timezone-aware object instead.\n",
      "  y = max.truncate(before=pd.Timestamp('today') - pd.DateOffset(months=12))\n",
      "<ipython-input-1-d5b62f59ed62>:48: FutureWarning: Indexing a timezone-aware DatetimeIndex with a timezone-naive datetime is deprecated and will raise KeyError in a future version. Use a timezone-aware object instead.\n",
      "  m6 = max.truncate(before=pd.Timestamp('today') - pd.DateOffset(months=6))\n",
      "<ipython-input-1-d5b62f59ed62>:49: FutureWarning: Indexing a timezone-aware DatetimeIndex with a timezone-naive datetime is deprecated and will raise KeyError in a future version. Use a timezone-aware object instead.\n",
      "  m3 = max.truncate(before=pd.Timestamp('today') - pd.DateOffset(months=3))\n",
      "<ipython-input-1-d5b62f59ed62>:50: FutureWarning: Indexing a timezone-aware DatetimeIndex with a timezone-naive datetime is deprecated and will raise KeyError in a future version. Use a timezone-aware object instead.\n",
      "  m1 = max.truncate(before=pd.Timestamp('today') - pd.DateOffset(months=1))\n",
      "<ipython-input-1-d5b62f59ed62>:103: FutureWarning: The frame.append method is deprecated and will be removed from pandas in a future version. Use pandas.concat instead.\n",
      "  final = final.append(\n"
     ]
    },
    {
     "name": "stdout",
     "output_type": "stream",
     "text": [
      "0.18827348648131448\n",
      "0.27646640180815835\n",
      "0.36326556916246266\n",
      "0.4073087259090221\n",
      "0.45182480781980877\n",
      "Producing data for:  BUD\n"
     ]
    },
    {
     "name": "stderr",
     "output_type": "stream",
     "text": [
      "<ipython-input-1-d5b62f59ed62>:47: FutureWarning: Indexing a timezone-aware DatetimeIndex with a timezone-naive datetime is deprecated and will raise KeyError in a future version. Use a timezone-aware object instead.\n",
      "  y = max.truncate(before=pd.Timestamp('today') - pd.DateOffset(months=12))\n",
      "<ipython-input-1-d5b62f59ed62>:48: FutureWarning: Indexing a timezone-aware DatetimeIndex with a timezone-naive datetime is deprecated and will raise KeyError in a future version. Use a timezone-aware object instead.\n",
      "  m6 = max.truncate(before=pd.Timestamp('today') - pd.DateOffset(months=6))\n",
      "<ipython-input-1-d5b62f59ed62>:49: FutureWarning: Indexing a timezone-aware DatetimeIndex with a timezone-naive datetime is deprecated and will raise KeyError in a future version. Use a timezone-aware object instead.\n",
      "  m3 = max.truncate(before=pd.Timestamp('today') - pd.DateOffset(months=3))\n",
      "<ipython-input-1-d5b62f59ed62>:50: FutureWarning: Indexing a timezone-aware DatetimeIndex with a timezone-naive datetime is deprecated and will raise KeyError in a future version. Use a timezone-aware object instead.\n",
      "  m1 = max.truncate(before=pd.Timestamp('today') - pd.DateOffset(months=1))\n",
      "<ipython-input-1-d5b62f59ed62>:103: FutureWarning: The frame.append method is deprecated and will be removed from pandas in a future version. Use pandas.concat instead.\n",
      "  final = final.append(\n"
     ]
    },
    {
     "name": "stdout",
     "output_type": "stream",
     "text": [
      "0.20117327093254753\n",
      "0.3008483941463228\n",
      "0.39227428103607065\n",
      "0.4362233148739212\n",
      "0.48863423205723755\n",
      "Producing data for:  AXE\n",
      "Got error from yahoo api for ticker AXE, Error: {'code': 'Not Found', 'description': 'No data found, symbol may be delisted'}\n",
      "- AXE: No timezone found, symbol may be delisted\n",
      "Got error from yahoo api for ticker AXE, Error: {'code': 'Not Found', 'description': 'No data found, symbol may be delisted'}\n",
      "- AXE: No timezone found, symbol may be delisted\n",
      "Producing data for:  NLY\n"
     ]
    },
    {
     "name": "stderr",
     "output_type": "stream",
     "text": [
      "<ipython-input-1-d5b62f59ed62>:47: FutureWarning: Indexing a timezone-aware DatetimeIndex with a timezone-naive datetime is deprecated and will raise KeyError in a future version. Use a timezone-aware object instead.\n",
      "  y = max.truncate(before=pd.Timestamp('today') - pd.DateOffset(months=12))\n",
      "<ipython-input-1-d5b62f59ed62>:48: FutureWarning: Indexing a timezone-aware DatetimeIndex with a timezone-naive datetime is deprecated and will raise KeyError in a future version. Use a timezone-aware object instead.\n",
      "  m6 = max.truncate(before=pd.Timestamp('today') - pd.DateOffset(months=6))\n",
      "<ipython-input-1-d5b62f59ed62>:49: FutureWarning: Indexing a timezone-aware DatetimeIndex with a timezone-naive datetime is deprecated and will raise KeyError in a future version. Use a timezone-aware object instead.\n",
      "  m3 = max.truncate(before=pd.Timestamp('today') - pd.DateOffset(months=3))\n",
      "<ipython-input-1-d5b62f59ed62>:50: FutureWarning: Indexing a timezone-aware DatetimeIndex with a timezone-naive datetime is deprecated and will raise KeyError in a future version. Use a timezone-aware object instead.\n",
      "  m1 = max.truncate(before=pd.Timestamp('today') - pd.DateOffset(months=1))\n"
     ]
    },
    {
     "name": "stdout",
     "output_type": "stream",
     "text": [
      "0.17819808830329817\n",
      "0.26789901998984145\n",
      "0.3550595373503438\n",
      "0.3978926054031796\n",
      "0.44162079065403986\n",
      "Producing data for:  NLY.PRA\n"
     ]
    },
    {
     "name": "stderr",
     "output_type": "stream",
     "text": [
      "<ipython-input-1-d5b62f59ed62>:103: FutureWarning: The frame.append method is deprecated and will be removed from pandas in a future version. Use pandas.concat instead.\n",
      "  final = final.append(\n"
     ]
    },
    {
     "name": "stdout",
     "output_type": "stream",
     "text": [
      "Got error from yahoo api for ticker NLY.PRA, Error: {'code': 'Not Found', 'description': 'No data found, symbol may be delisted'}\n",
      "- NLY.PRA: No timezone found, symbol may be delisted\n",
      "Got error from yahoo api for ticker NLY.PRA, Error: {'code': 'Not Found', 'description': 'No data found, symbol may be delisted'}\n",
      "- NLY.PRA: No timezone found, symbol may be delisted\n",
      "Producing data for:  NLY.PRC\n",
      "Got error from yahoo api for ticker NLY.PRC, Error: {'code': 'Not Found', 'description': 'No data found, symbol may be delisted'}\n",
      "- NLY.PRC: No timezone found, symbol may be delisted\n",
      "Got error from yahoo api for ticker NLY.PRC, Error: {'code': 'Not Found', 'description': 'No data found, symbol may be delisted'}\n",
      "- NLY.PRC: No timezone found, symbol may be delisted\n",
      "Producing data for:  NLY.PRD\n",
      "Got error from yahoo api for ticker NLY.PRD, Error: {'code': 'Not Found', 'description': 'No data found, symbol may be delisted'}\n",
      "- NLY.PRD: No timezone found, symbol may be delisted\n",
      "Got error from yahoo api for ticker NLY.PRD, Error: {'code': 'Not Found', 'description': 'No data found, symbol may be delisted'}\n",
      "- NLY.PRD: No timezone found, symbol may be delisted\n",
      "Producing data for:  NLY.PRE\n",
      "Got error from yahoo api for ticker NLY.PRE, Error: {'code': 'Not Found', 'description': 'No data found, symbol may be delisted'}\n",
      "- NLY.PRE: No timezone found, symbol may be delisted\n",
      "Got error from yahoo api for ticker NLY.PRE, Error: {'code': 'Not Found', 'description': 'No data found, symbol may be delisted'}\n",
      "- NLY.PRE: No timezone found, symbol may be delisted\n",
      "Producing data for:  AR\n"
     ]
    },
    {
     "name": "stderr",
     "output_type": "stream",
     "text": [
      "<ipython-input-1-d5b62f59ed62>:47: FutureWarning: Indexing a timezone-aware DatetimeIndex with a timezone-naive datetime is deprecated and will raise KeyError in a future version. Use a timezone-aware object instead.\n",
      "  y = max.truncate(before=pd.Timestamp('today') - pd.DateOffset(months=12))\n",
      "<ipython-input-1-d5b62f59ed62>:48: FutureWarning: Indexing a timezone-aware DatetimeIndex with a timezone-naive datetime is deprecated and will raise KeyError in a future version. Use a timezone-aware object instead.\n",
      "  m6 = max.truncate(before=pd.Timestamp('today') - pd.DateOffset(months=6))\n",
      "<ipython-input-1-d5b62f59ed62>:49: FutureWarning: Indexing a timezone-aware DatetimeIndex with a timezone-naive datetime is deprecated and will raise KeyError in a future version. Use a timezone-aware object instead.\n",
      "  m3 = max.truncate(before=pd.Timestamp('today') - pd.DateOffset(months=3))\n",
      "<ipython-input-1-d5b62f59ed62>:50: FutureWarning: Indexing a timezone-aware DatetimeIndex with a timezone-naive datetime is deprecated and will raise KeyError in a future version. Use a timezone-aware object instead.\n",
      "  m1 = max.truncate(before=pd.Timestamp('today') - pd.DateOffset(months=1))\n",
      "<ipython-input-1-d5b62f59ed62>:103: FutureWarning: The frame.append method is deprecated and will be removed from pandas in a future version. Use pandas.concat instead.\n",
      "  final = final.append(\n"
     ]
    },
    {
     "name": "stdout",
     "output_type": "stream",
     "text": [
      "0.19756207082662092\n",
      "0.2926975342428619\n",
      "0.40403565397065005\n",
      "0.4615074614018831\n",
      "0.5096887179026898\n",
      "Producing data for:  AM\n"
     ]
    },
    {
     "name": "stderr",
     "output_type": "stream",
     "text": [
      "<ipython-input-1-d5b62f59ed62>:47: FutureWarning: Indexing a timezone-aware DatetimeIndex with a timezone-naive datetime is deprecated and will raise KeyError in a future version. Use a timezone-aware object instead.\n",
      "  y = max.truncate(before=pd.Timestamp('today') - pd.DateOffset(months=12))\n",
      "<ipython-input-1-d5b62f59ed62>:48: FutureWarning: Indexing a timezone-aware DatetimeIndex with a timezone-naive datetime is deprecated and will raise KeyError in a future version. Use a timezone-aware object instead.\n",
      "  m6 = max.truncate(before=pd.Timestamp('today') - pd.DateOffset(months=6))\n",
      "<ipython-input-1-d5b62f59ed62>:49: FutureWarning: Indexing a timezone-aware DatetimeIndex with a timezone-naive datetime is deprecated and will raise KeyError in a future version. Use a timezone-aware object instead.\n",
      "  m3 = max.truncate(before=pd.Timestamp('today') - pd.DateOffset(months=3))\n",
      "<ipython-input-1-d5b62f59ed62>:50: FutureWarning: Indexing a timezone-aware DatetimeIndex with a timezone-naive datetime is deprecated and will raise KeyError in a future version. Use a timezone-aware object instead.\n",
      "  m1 = max.truncate(before=pd.Timestamp('today') - pd.DateOffset(months=1))\n",
      "<ipython-input-1-d5b62f59ed62>:103: FutureWarning: The frame.append method is deprecated and will be removed from pandas in a future version. Use pandas.concat instead.\n",
      "  final = final.append(\n"
     ]
    },
    {
     "name": "stdout",
     "output_type": "stream",
     "text": [
      "0.20778317994446047\n",
      "0.2978171990470553\n",
      "0.40366817818078704\n",
      "0.46204389822836034\n",
      "0.4970209081231483\n",
      "Producing data for:  ANTM\n",
      "Got error from yahoo api for ticker ANTM, Error: {'code': 'Not Found', 'description': 'No data found, symbol may be delisted'}\n",
      "- ANTM: No timezone found, symbol may be delisted\n",
      "Got error from yahoo api for ticker ANTM, Error: {'code': 'Not Found', 'description': 'No data found, symbol may be delisted'}\n",
      "- ANTM: No timezone found, symbol may be delisted\n",
      "Producing data for:  ANTX\n"
     ]
    },
    {
     "name": "stderr",
     "output_type": "stream",
     "text": [
      "<ipython-input-1-d5b62f59ed62>:47: FutureWarning: Indexing a timezone-aware DatetimeIndex with a timezone-naive datetime is deprecated and will raise KeyError in a future version. Use a timezone-aware object instead.\n",
      "  y = max.truncate(before=pd.Timestamp('today') - pd.DateOffset(months=12))\n",
      "<ipython-input-1-d5b62f59ed62>:48: FutureWarning: Indexing a timezone-aware DatetimeIndex with a timezone-naive datetime is deprecated and will raise KeyError in a future version. Use a timezone-aware object instead.\n",
      "  m6 = max.truncate(before=pd.Timestamp('today') - pd.DateOffset(months=6))\n",
      "<ipython-input-1-d5b62f59ed62>:49: FutureWarning: Indexing a timezone-aware DatetimeIndex with a timezone-naive datetime is deprecated and will raise KeyError in a future version. Use a timezone-aware object instead.\n",
      "  m3 = max.truncate(before=pd.Timestamp('today') - pd.DateOffset(months=3))\n",
      "<ipython-input-1-d5b62f59ed62>:50: FutureWarning: Indexing a timezone-aware DatetimeIndex with a timezone-naive datetime is deprecated and will raise KeyError in a future version. Use a timezone-aware object instead.\n",
      "  m1 = max.truncate(before=pd.Timestamp('today') - pd.DateOffset(months=1))\n",
      "C:\\Users\\Kamen\\AppData\\Local\\Programs\\Python\\Python38\\lib\\site-packages\\numpy\\core\\_methods.py:262: RuntimeWarning: Degrees of freedom <= 0 for slice\n",
      "  ret = _var(a, axis=axis, dtype=dtype, out=out, ddof=ddof,\n",
      "C:\\Users\\Kamen\\AppData\\Local\\Programs\\Python\\Python38\\lib\\site-packages\\numpy\\core\\_methods.py:222: RuntimeWarning: invalid value encountered in true_divide\n",
      "  arrmean = um.true_divide(arrmean, div, out=arrmean, casting='unsafe',\n",
      "C:\\Users\\Kamen\\AppData\\Local\\Programs\\Python\\Python38\\lib\\site-packages\\numpy\\core\\_methods.py:254: RuntimeWarning: invalid value encountered in double_scalars\n",
      "  ret = ret.dtype.type(ret / rcount)\n",
      "<ipython-input-1-d5b62f59ed62>:38: RuntimeWarning: divide by zero encountered in log\n",
      "  reg = np.polyfit(np.log(lags), np.log(tau), 1)\n",
      "<ipython-input-1-d5b62f59ed62>:103: FutureWarning: The frame.append method is deprecated and will be removed from pandas in a future version. Use pandas.concat instead.\n",
      "  final = final.append(\n"
     ]
    },
    {
     "name": "stdout",
     "output_type": "stream",
     "text": [
      "0.20549945777634046\n",
      "0.2485686977076036\n",
      "nan\n",
      "nan\n",
      "nan\n",
      "Producing data for:  ANH\n",
      "Got error from yahoo api for ticker ANH, Error: {'code': 'Not Found', 'description': 'No data found, symbol may be delisted'}\n",
      "- ANH: No timezone found, symbol may be delisted\n",
      "Got error from yahoo api for ticker ANH, Error: {'code': 'Not Found', 'description': 'No data found, symbol may be delisted'}\n",
      "- ANH: No timezone found, symbol may be delisted\n",
      "Producing data for:  ANH.PRA\n",
      "Got error from yahoo api for ticker ANH.PRA, Error: {'code': 'Not Found', 'description': 'No data found, symbol may be delisted'}\n",
      "- ANH.PRA: No timezone found, symbol may be delisted\n",
      "Got error from yahoo api for ticker ANH.PRA, Error: {'code': 'Not Found', 'description': 'No data found, symbol may be delisted'}\n",
      "- ANH.PRA: No timezone found, symbol may be delisted\n",
      "Producing data for:  ANH.PRB\n",
      "Got error from yahoo api for ticker ANH.PRB, Error: {'code': 'Not Found', 'description': 'No data found, symbol may be delisted'}\n",
      "- ANH.PRB: No timezone found, symbol may be delisted\n",
      "Got error from yahoo api for ticker ANH.PRB, Error: {'code': 'Not Found', 'description': 'No data found, symbol may be delisted'}\n",
      "- ANH.PRB: No timezone found, symbol may be delisted\n",
      "Producing data for:  ANH.PRC\n",
      "Got error from yahoo api for ticker ANH.PRC, Error: {'code': 'Not Found', 'description': 'No data found, symbol may be delisted'}\n",
      "- ANH.PRC: No timezone found, symbol may be delisted\n",
      "Got error from yahoo api for ticker ANH.PRC, Error: {'code': 'Not Found', 'description': 'No data found, symbol may be delisted'}\n",
      "- ANH.PRC: No timezone found, symbol may be delisted\n",
      "Producing data for:  AON\n"
     ]
    },
    {
     "name": "stderr",
     "output_type": "stream",
     "text": [
      "<ipython-input-1-d5b62f59ed62>:47: FutureWarning: Indexing a timezone-aware DatetimeIndex with a timezone-naive datetime is deprecated and will raise KeyError in a future version. Use a timezone-aware object instead.\n",
      "  y = max.truncate(before=pd.Timestamp('today') - pd.DateOffset(months=12))\n",
      "<ipython-input-1-d5b62f59ed62>:48: FutureWarning: Indexing a timezone-aware DatetimeIndex with a timezone-naive datetime is deprecated and will raise KeyError in a future version. Use a timezone-aware object instead.\n",
      "  m6 = max.truncate(before=pd.Timestamp('today') - pd.DateOffset(months=6))\n",
      "<ipython-input-1-d5b62f59ed62>:49: FutureWarning: Indexing a timezone-aware DatetimeIndex with a timezone-naive datetime is deprecated and will raise KeyError in a future version. Use a timezone-aware object instead.\n",
      "  m3 = max.truncate(before=pd.Timestamp('today') - pd.DateOffset(months=3))\n",
      "<ipython-input-1-d5b62f59ed62>:50: FutureWarning: Indexing a timezone-aware DatetimeIndex with a timezone-naive datetime is deprecated and will raise KeyError in a future version. Use a timezone-aware object instead.\n",
      "  m1 = max.truncate(before=pd.Timestamp('today') - pd.DateOffset(months=1))\n"
     ]
    },
    {
     "name": "stdout",
     "output_type": "stream",
     "text": [
      "0.2051369006740366\n",
      "0.2813146515659757\n",
      "0.3629148530424506\n",
      "0.40731967777691247\n",
      "0.4577653792675732\n",
      "Producing data for:  APA\n"
     ]
    },
    {
     "name": "stderr",
     "output_type": "stream",
     "text": [
      "<ipython-input-1-d5b62f59ed62>:103: FutureWarning: The frame.append method is deprecated and will be removed from pandas in a future version. Use pandas.concat instead.\n",
      "  final = final.append(\n",
      "<ipython-input-1-d5b62f59ed62>:47: FutureWarning: Indexing a timezone-aware DatetimeIndex with a timezone-naive datetime is deprecated and will raise KeyError in a future version. Use a timezone-aware object instead.\n",
      "  y = max.truncate(before=pd.Timestamp('today') - pd.DateOffset(months=12))\n",
      "<ipython-input-1-d5b62f59ed62>:48: FutureWarning: Indexing a timezone-aware DatetimeIndex with a timezone-naive datetime is deprecated and will raise KeyError in a future version. Use a timezone-aware object instead.\n",
      "  m6 = max.truncate(before=pd.Timestamp('today') - pd.DateOffset(months=6))\n",
      "<ipython-input-1-d5b62f59ed62>:49: FutureWarning: Indexing a timezone-aware DatetimeIndex with a timezone-naive datetime is deprecated and will raise KeyError in a future version. Use a timezone-aware object instead.\n",
      "  m3 = max.truncate(before=pd.Timestamp('today') - pd.DateOffset(months=3))\n",
      "<ipython-input-1-d5b62f59ed62>:50: FutureWarning: Indexing a timezone-aware DatetimeIndex with a timezone-naive datetime is deprecated and will raise KeyError in a future version. Use a timezone-aware object instead.\n",
      "  m1 = max.truncate(before=pd.Timestamp('today') - pd.DateOffset(months=1))\n"
     ]
    },
    {
     "name": "stdout",
     "output_type": "stream",
     "text": [
      "0.1951600888550724\n",
      "0.28922621470325643\n",
      "0.38074202380931077\n",
      "0.42287261881637406\n",
      "0.46215405145526706\n",
      "Producing data for:  AIV\n"
     ]
    },
    {
     "name": "stderr",
     "output_type": "stream",
     "text": [
      "<ipython-input-1-d5b62f59ed62>:103: FutureWarning: The frame.append method is deprecated and will be removed from pandas in a future version. Use pandas.concat instead.\n",
      "  final = final.append(\n",
      "<ipython-input-1-d5b62f59ed62>:47: FutureWarning: Indexing a timezone-aware DatetimeIndex with a timezone-naive datetime is deprecated and will raise KeyError in a future version. Use a timezone-aware object instead.\n",
      "  y = max.truncate(before=pd.Timestamp('today') - pd.DateOffset(months=12))\n",
      "<ipython-input-1-d5b62f59ed62>:48: FutureWarning: Indexing a timezone-aware DatetimeIndex with a timezone-naive datetime is deprecated and will raise KeyError in a future version. Use a timezone-aware object instead.\n",
      "  m6 = max.truncate(before=pd.Timestamp('today') - pd.DateOffset(months=6))\n",
      "<ipython-input-1-d5b62f59ed62>:49: FutureWarning: Indexing a timezone-aware DatetimeIndex with a timezone-naive datetime is deprecated and will raise KeyError in a future version. Use a timezone-aware object instead.\n",
      "  m3 = max.truncate(before=pd.Timestamp('today') - pd.DateOffset(months=3))\n",
      "<ipython-input-1-d5b62f59ed62>:50: FutureWarning: Indexing a timezone-aware DatetimeIndex with a timezone-naive datetime is deprecated and will raise KeyError in a future version. Use a timezone-aware object instead.\n",
      "  m1 = max.truncate(before=pd.Timestamp('today') - pd.DateOffset(months=1))\n",
      "<ipython-input-1-d5b62f59ed62>:103: FutureWarning: The frame.append method is deprecated and will be removed from pandas in a future version. Use pandas.concat instead.\n",
      "  final = final.append(\n"
     ]
    },
    {
     "name": "stdout",
     "output_type": "stream",
     "text": [
      "0.21715648481950553\n",
      "0.32244685590154887\n",
      "0.43639643304818887\n",
      "0.49577213597657793\n",
      "0.5446952380721981\n",
      "Producing data for:  AIV.PRA\n",
      "Got error from yahoo api for ticker AIV.PRA, Error: {'code': 'Not Found', 'description': 'No data found, symbol may be delisted'}\n",
      "- AIV.PRA: No timezone found, symbol may be delisted\n",
      "Got error from yahoo api for ticker AIV.PRA, Error: {'code': 'Not Found', 'description': 'No data found, symbol may be delisted'}\n",
      "- AIV.PRA: No timezone found, symbol may be delisted\n",
      "Producing data for:  ARI\n"
     ]
    },
    {
     "name": "stderr",
     "output_type": "stream",
     "text": [
      "<ipython-input-1-d5b62f59ed62>:47: FutureWarning: Indexing a timezone-aware DatetimeIndex with a timezone-naive datetime is deprecated and will raise KeyError in a future version. Use a timezone-aware object instead.\n",
      "  y = max.truncate(before=pd.Timestamp('today') - pd.DateOffset(months=12))\n",
      "<ipython-input-1-d5b62f59ed62>:48: FutureWarning: Indexing a timezone-aware DatetimeIndex with a timezone-naive datetime is deprecated and will raise KeyError in a future version. Use a timezone-aware object instead.\n",
      "  m6 = max.truncate(before=pd.Timestamp('today') - pd.DateOffset(months=6))\n",
      "<ipython-input-1-d5b62f59ed62>:49: FutureWarning: Indexing a timezone-aware DatetimeIndex with a timezone-naive datetime is deprecated and will raise KeyError in a future version. Use a timezone-aware object instead.\n",
      "  m3 = max.truncate(before=pd.Timestamp('today') - pd.DateOffset(months=3))\n",
      "<ipython-input-1-d5b62f59ed62>:50: FutureWarning: Indexing a timezone-aware DatetimeIndex with a timezone-naive datetime is deprecated and will raise KeyError in a future version. Use a timezone-aware object instead.\n",
      "  m1 = max.truncate(before=pd.Timestamp('today') - pd.DateOffset(months=1))\n",
      "<ipython-input-1-d5b62f59ed62>:103: FutureWarning: The frame.append method is deprecated and will be removed from pandas in a future version. Use pandas.concat instead.\n",
      "  final = final.append(\n"
     ]
    },
    {
     "name": "stdout",
     "output_type": "stream",
     "text": [
      "0.21189673562104377\n",
      "0.3085160983271594\n",
      "0.40311988703268875\n",
      "0.4387518460052867\n",
      "0.4604733503681608\n",
      "Producing data for:  ARI.PRA\n",
      "Got error from yahoo api for ticker ARI.PRA, Error: {'code': 'Not Found', 'description': 'No data found, symbol may be delisted'}\n",
      "- ARI.PRA: No timezone found, symbol may be delisted\n",
      "Got error from yahoo api for ticker ARI.PRA, Error: {'code': 'Not Found', 'description': 'No data found, symbol may be delisted'}\n",
      "- ARI.PRA: No timezone found, symbol may be delisted\n",
      "Producing data for:  ARI.PRC\n",
      "Got error from yahoo api for ticker ARI.PRC, Error: {'code': 'Not Found', 'description': 'No data found, symbol may be delisted'}\n",
      "- ARI.PRC: No timezone found, symbol may be delisted\n",
      "Got error from yahoo api for ticker ARI.PRC, Error: {'code': 'Not Found', 'description': 'No data found, symbol may be delisted'}\n",
      "- ARI.PRC: No timezone found, symbol may be delisted\n",
      "Producing data for:  APO\n"
     ]
    },
    {
     "name": "stderr",
     "output_type": "stream",
     "text": [
      "<ipython-input-1-d5b62f59ed62>:47: FutureWarning: Indexing a timezone-aware DatetimeIndex with a timezone-naive datetime is deprecated and will raise KeyError in a future version. Use a timezone-aware object instead.\n",
      "  y = max.truncate(before=pd.Timestamp('today') - pd.DateOffset(months=12))\n",
      "<ipython-input-1-d5b62f59ed62>:48: FutureWarning: Indexing a timezone-aware DatetimeIndex with a timezone-naive datetime is deprecated and will raise KeyError in a future version. Use a timezone-aware object instead.\n",
      "  m6 = max.truncate(before=pd.Timestamp('today') - pd.DateOffset(months=6))\n",
      "<ipython-input-1-d5b62f59ed62>:49: FutureWarning: Indexing a timezone-aware DatetimeIndex with a timezone-naive datetime is deprecated and will raise KeyError in a future version. Use a timezone-aware object instead.\n",
      "  m3 = max.truncate(before=pd.Timestamp('today') - pd.DateOffset(months=3))\n",
      "<ipython-input-1-d5b62f59ed62>:50: FutureWarning: Indexing a timezone-aware DatetimeIndex with a timezone-naive datetime is deprecated and will raise KeyError in a future version. Use a timezone-aware object instead.\n",
      "  m1 = max.truncate(before=pd.Timestamp('today') - pd.DateOffset(months=1))\n"
     ]
    },
    {
     "name": "stdout",
     "output_type": "stream",
     "text": [
      "0.1909189979760017\n",
      "0.2758917533908556\n",
      "0.3523638222186186\n",
      "0.38601035824363944\n",
      "0.4207630642167134\n",
      "Producing data for:  AIB\n"
     ]
    },
    {
     "name": "stderr",
     "output_type": "stream",
     "text": [
      "<ipython-input-1-d5b62f59ed62>:103: FutureWarning: The frame.append method is deprecated and will be removed from pandas in a future version. Use pandas.concat instead.\n",
      "  final = final.append(\n",
      "<ipython-input-1-d5b62f59ed62>:47: FutureWarning: Indexing a timezone-aware DatetimeIndex with a timezone-naive datetime is deprecated and will raise KeyError in a future version. Use a timezone-aware object instead.\n",
      "  y = max.truncate(before=pd.Timestamp('today') - pd.DateOffset(months=12))\n",
      "<ipython-input-1-d5b62f59ed62>:48: FutureWarning: Indexing a timezone-aware DatetimeIndex with a timezone-naive datetime is deprecated and will raise KeyError in a future version. Use a timezone-aware object instead.\n",
      "  m6 = max.truncate(before=pd.Timestamp('today') - pd.DateOffset(months=6))\n",
      "<ipython-input-1-d5b62f59ed62>:49: FutureWarning: Indexing a timezone-aware DatetimeIndex with a timezone-naive datetime is deprecated and will raise KeyError in a future version. Use a timezone-aware object instead.\n",
      "  m3 = max.truncate(before=pd.Timestamp('today') - pd.DateOffset(months=3))\n",
      "<ipython-input-1-d5b62f59ed62>:50: FutureWarning: Indexing a timezone-aware DatetimeIndex with a timezone-naive datetime is deprecated and will raise KeyError in a future version. Use a timezone-aware object instead.\n",
      "  m1 = max.truncate(before=pd.Timestamp('today') - pd.DateOffset(months=1))\n",
      "C:\\Users\\Kamen\\AppData\\Local\\Programs\\Python\\Python38\\lib\\site-packages\\numpy\\core\\_methods.py:262: RuntimeWarning: Degrees of freedom <= 0 for slice\n",
      "  ret = _var(a, axis=axis, dtype=dtype, out=out, ddof=ddof,\n",
      "C:\\Users\\Kamen\\AppData\\Local\\Programs\\Python\\Python38\\lib\\site-packages\\numpy\\core\\_methods.py:222: RuntimeWarning: invalid value encountered in true_divide\n",
      "  arrmean = um.true_divide(arrmean, div, out=arrmean, casting='unsafe',\n",
      "C:\\Users\\Kamen\\AppData\\Local\\Programs\\Python\\Python38\\lib\\site-packages\\numpy\\core\\_methods.py:254: RuntimeWarning: invalid value encountered in double_scalars\n",
      "  ret = ret.dtype.type(ret / rcount)\n",
      "<ipython-input-1-d5b62f59ed62>:38: RuntimeWarning: divide by zero encountered in log\n",
      "  reg = np.polyfit(np.log(lags), np.log(tau), 1)\n",
      "<ipython-input-1-d5b62f59ed62>:103: FutureWarning: The frame.append method is deprecated and will be removed from pandas in a future version. Use pandas.concat instead.\n",
      "  final = final.append(\n"
     ]
    },
    {
     "name": "stdout",
     "output_type": "stream",
     "text": [
      "0.07579560111323187\n",
      "0.11733189175456314\n",
      "nan\n",
      "nan\n",
      "nan\n",
      "Producing data for:  AIY\n",
      "Got error from yahoo api for ticker AIY, Error: {'code': 'Not Found', 'description': 'No data found, symbol may be delisted'}\n",
      "- AIY: No timezone found, symbol may be delisted\n",
      "Got error from yahoo api for ticker AIY, Error: {'code': 'Not Found', 'description': 'No data found, symbol may be delisted'}\n",
      "- AIY: No timezone found, symbol may be delisted\n",
      "Producing data for:  AFT\n"
     ]
    },
    {
     "name": "stderr",
     "output_type": "stream",
     "text": [
      "<ipython-input-1-d5b62f59ed62>:47: FutureWarning: Indexing a timezone-aware DatetimeIndex with a timezone-naive datetime is deprecated and will raise KeyError in a future version. Use a timezone-aware object instead.\n",
      "  y = max.truncate(before=pd.Timestamp('today') - pd.DateOffset(months=12))\n",
      "<ipython-input-1-d5b62f59ed62>:48: FutureWarning: Indexing a timezone-aware DatetimeIndex with a timezone-naive datetime is deprecated and will raise KeyError in a future version. Use a timezone-aware object instead.\n",
      "  m6 = max.truncate(before=pd.Timestamp('today') - pd.DateOffset(months=6))\n",
      "<ipython-input-1-d5b62f59ed62>:49: FutureWarning: Indexing a timezone-aware DatetimeIndex with a timezone-naive datetime is deprecated and will raise KeyError in a future version. Use a timezone-aware object instead.\n",
      "  m3 = max.truncate(before=pd.Timestamp('today') - pd.DateOffset(months=3))\n",
      "<ipython-input-1-d5b62f59ed62>:50: FutureWarning: Indexing a timezone-aware DatetimeIndex with a timezone-naive datetime is deprecated and will raise KeyError in a future version. Use a timezone-aware object instead.\n",
      "  m1 = max.truncate(before=pd.Timestamp('today') - pd.DateOffset(months=1))\n",
      "<ipython-input-1-d5b62f59ed62>:103: FutureWarning: The frame.append method is deprecated and will be removed from pandas in a future version. Use pandas.concat instead.\n",
      "  final = final.append(\n"
     ]
    },
    {
     "name": "stdout",
     "output_type": "stream",
     "text": [
      "0.2123023865686443\n",
      "0.3170215341133596\n",
      "0.4137704136251661\n",
      "0.450962646579679\n",
      "0.4682633275465885\n",
      "Producing data for:  AIF\n"
     ]
    },
    {
     "name": "stderr",
     "output_type": "stream",
     "text": [
      "<ipython-input-1-d5b62f59ed62>:47: FutureWarning: Indexing a timezone-aware DatetimeIndex with a timezone-naive datetime is deprecated and will raise KeyError in a future version. Use a timezone-aware object instead.\n",
      "  y = max.truncate(before=pd.Timestamp('today') - pd.DateOffset(months=12))\n",
      "<ipython-input-1-d5b62f59ed62>:48: FutureWarning: Indexing a timezone-aware DatetimeIndex with a timezone-naive datetime is deprecated and will raise KeyError in a future version. Use a timezone-aware object instead.\n",
      "  m6 = max.truncate(before=pd.Timestamp('today') - pd.DateOffset(months=6))\n",
      "<ipython-input-1-d5b62f59ed62>:49: FutureWarning: Indexing a timezone-aware DatetimeIndex with a timezone-naive datetime is deprecated and will raise KeyError in a future version. Use a timezone-aware object instead.\n",
      "  m3 = max.truncate(before=pd.Timestamp('today') - pd.DateOffset(months=3))\n",
      "<ipython-input-1-d5b62f59ed62>:50: FutureWarning: Indexing a timezone-aware DatetimeIndex with a timezone-naive datetime is deprecated and will raise KeyError in a future version. Use a timezone-aware object instead.\n",
      "  m1 = max.truncate(before=pd.Timestamp('today') - pd.DateOffset(months=1))\n",
      "<ipython-input-1-d5b62f59ed62>:103: FutureWarning: The frame.append method is deprecated and will be removed from pandas in a future version. Use pandas.concat instead.\n",
      "  final = final.append(\n"
     ]
    },
    {
     "name": "stdout",
     "output_type": "stream",
     "text": [
      "0.21512203073545522\n",
      "0.3140394602777945\n",
      "0.4117238785956884\n",
      "0.4500684503378722\n",
      "0.46810492074175014\n",
      "Producing data for:  APLE\n"
     ]
    },
    {
     "name": "stderr",
     "output_type": "stream",
     "text": [
      "<ipython-input-1-d5b62f59ed62>:47: FutureWarning: Indexing a timezone-aware DatetimeIndex with a timezone-naive datetime is deprecated and will raise KeyError in a future version. Use a timezone-aware object instead.\n",
      "  y = max.truncate(before=pd.Timestamp('today') - pd.DateOffset(months=12))\n",
      "<ipython-input-1-d5b62f59ed62>:48: FutureWarning: Indexing a timezone-aware DatetimeIndex with a timezone-naive datetime is deprecated and will raise KeyError in a future version. Use a timezone-aware object instead.\n",
      "  m6 = max.truncate(before=pd.Timestamp('today') - pd.DateOffset(months=6))\n",
      "<ipython-input-1-d5b62f59ed62>:49: FutureWarning: Indexing a timezone-aware DatetimeIndex with a timezone-naive datetime is deprecated and will raise KeyError in a future version. Use a timezone-aware object instead.\n",
      "  m3 = max.truncate(before=pd.Timestamp('today') - pd.DateOffset(months=3))\n",
      "<ipython-input-1-d5b62f59ed62>:50: FutureWarning: Indexing a timezone-aware DatetimeIndex with a timezone-naive datetime is deprecated and will raise KeyError in a future version. Use a timezone-aware object instead.\n",
      "  m1 = max.truncate(before=pd.Timestamp('today') - pd.DateOffset(months=1))\n",
      "<ipython-input-1-d5b62f59ed62>:103: FutureWarning: The frame.append method is deprecated and will be removed from pandas in a future version. Use pandas.concat instead.\n",
      "  final = final.append(\n"
     ]
    },
    {
     "name": "stdout",
     "output_type": "stream",
     "text": [
      "0.1838593932909742\n",
      "0.2657546063108497\n",
      "0.3440875627387072\n",
      "0.3799639209783155\n",
      "0.40085550809554293\n",
      "Producing data for:  AIT\n"
     ]
    },
    {
     "name": "stderr",
     "output_type": "stream",
     "text": [
      "<ipython-input-1-d5b62f59ed62>:47: FutureWarning: Indexing a timezone-aware DatetimeIndex with a timezone-naive datetime is deprecated and will raise KeyError in a future version. Use a timezone-aware object instead.\n",
      "  y = max.truncate(before=pd.Timestamp('today') - pd.DateOffset(months=12))\n",
      "<ipython-input-1-d5b62f59ed62>:48: FutureWarning: Indexing a timezone-aware DatetimeIndex with a timezone-naive datetime is deprecated and will raise KeyError in a future version. Use a timezone-aware object instead.\n",
      "  m6 = max.truncate(before=pd.Timestamp('today') - pd.DateOffset(months=6))\n",
      "<ipython-input-1-d5b62f59ed62>:49: FutureWarning: Indexing a timezone-aware DatetimeIndex with a timezone-naive datetime is deprecated and will raise KeyError in a future version. Use a timezone-aware object instead.\n",
      "  m3 = max.truncate(before=pd.Timestamp('today') - pd.DateOffset(months=3))\n",
      "<ipython-input-1-d5b62f59ed62>:50: FutureWarning: Indexing a timezone-aware DatetimeIndex with a timezone-naive datetime is deprecated and will raise KeyError in a future version. Use a timezone-aware object instead.\n",
      "  m1 = max.truncate(before=pd.Timestamp('today') - pd.DateOffset(months=1))\n"
     ]
    },
    {
     "name": "stdout",
     "output_type": "stream",
     "text": [
      "0.1863898036434633\n",
      "0.27234833951112336\n",
      "0.35400488880475106\n",
      "0.3978149734386756\n",
      "0.437282968842105\n",
      "Producing data for:  ATR\n"
     ]
    },
    {
     "name": "stderr",
     "output_type": "stream",
     "text": [
      "<ipython-input-1-d5b62f59ed62>:103: FutureWarning: The frame.append method is deprecated and will be removed from pandas in a future version. Use pandas.concat instead.\n",
      "  final = final.append(\n",
      "<ipython-input-1-d5b62f59ed62>:47: FutureWarning: Indexing a timezone-aware DatetimeIndex with a timezone-naive datetime is deprecated and will raise KeyError in a future version. Use a timezone-aware object instead.\n",
      "  y = max.truncate(before=pd.Timestamp('today') - pd.DateOffset(months=12))\n",
      "<ipython-input-1-d5b62f59ed62>:48: FutureWarning: Indexing a timezone-aware DatetimeIndex with a timezone-naive datetime is deprecated and will raise KeyError in a future version. Use a timezone-aware object instead.\n",
      "  m6 = max.truncate(before=pd.Timestamp('today') - pd.DateOffset(months=6))\n",
      "<ipython-input-1-d5b62f59ed62>:49: FutureWarning: Indexing a timezone-aware DatetimeIndex with a timezone-naive datetime is deprecated and will raise KeyError in a future version. Use a timezone-aware object instead.\n",
      "  m3 = max.truncate(before=pd.Timestamp('today') - pd.DateOffset(months=3))\n",
      "<ipython-input-1-d5b62f59ed62>:50: FutureWarning: Indexing a timezone-aware DatetimeIndex with a timezone-naive datetime is deprecated and will raise KeyError in a future version. Use a timezone-aware object instead.\n",
      "  m1 = max.truncate(before=pd.Timestamp('today') - pd.DateOffset(months=1))\n",
      "<ipython-input-1-d5b62f59ed62>:103: FutureWarning: The frame.append method is deprecated and will be removed from pandas in a future version. Use pandas.concat instead.\n",
      "  final = final.append(\n"
     ]
    },
    {
     "name": "stdout",
     "output_type": "stream",
     "text": [
      "0.17480105202729912\n",
      "0.260442206298608\n",
      "0.3510237188307733\n",
      "0.39108055535767433\n",
      "0.42843440452335096\n",
      "Producing data for:  WTR\n",
      "Got error from yahoo api for ticker WTR, Error: {'code': 'Not Found', 'description': 'No data found, symbol may be delisted'}\n",
      "- WTR: No timezone found, symbol may be delisted\n",
      "Got error from yahoo api for ticker WTR, Error: {'code': 'Not Found', 'description': 'No data found, symbol may be delisted'}\n",
      "- WTR: No timezone found, symbol may be delisted\n",
      "Producing data for:  WAAS\n",
      "Got error from yahoo api for ticker WAAS, Error: {'code': 'Not Found', 'description': 'No data found, symbol may be delisted'}\n",
      "- WAAS: No timezone found, symbol may be delisted\n",
      "Got error from yahoo api for ticker WAAS, Error: {'code': 'Not Found', 'description': 'No data found, symbol may be delisted'}\n",
      "- WAAS: No timezone found, symbol may be delisted\n",
      "Producing data for:  ARMK\n"
     ]
    },
    {
     "name": "stderr",
     "output_type": "stream",
     "text": [
      "<ipython-input-1-d5b62f59ed62>:47: FutureWarning: Indexing a timezone-aware DatetimeIndex with a timezone-naive datetime is deprecated and will raise KeyError in a future version. Use a timezone-aware object instead.\n",
      "  y = max.truncate(before=pd.Timestamp('today') - pd.DateOffset(months=12))\n",
      "<ipython-input-1-d5b62f59ed62>:48: FutureWarning: Indexing a timezone-aware DatetimeIndex with a timezone-naive datetime is deprecated and will raise KeyError in a future version. Use a timezone-aware object instead.\n",
      "  m6 = max.truncate(before=pd.Timestamp('today') - pd.DateOffset(months=6))\n",
      "<ipython-input-1-d5b62f59ed62>:49: FutureWarning: Indexing a timezone-aware DatetimeIndex with a timezone-naive datetime is deprecated and will raise KeyError in a future version. Use a timezone-aware object instead.\n",
      "  m3 = max.truncate(before=pd.Timestamp('today') - pd.DateOffset(months=3))\n",
      "<ipython-input-1-d5b62f59ed62>:50: FutureWarning: Indexing a timezone-aware DatetimeIndex with a timezone-naive datetime is deprecated and will raise KeyError in a future version. Use a timezone-aware object instead.\n",
      "  m1 = max.truncate(before=pd.Timestamp('today') - pd.DateOffset(months=1))\n",
      "<ipython-input-1-d5b62f59ed62>:103: FutureWarning: The frame.append method is deprecated and will be removed from pandas in a future version. Use pandas.concat instead.\n",
      "  final = final.append(\n"
     ]
    },
    {
     "name": "stdout",
     "output_type": "stream",
     "text": [
      "0.2053144664114672\n",
      "0.29984372651726154\n",
      "0.37115014931237406\n",
      "0.3977115389441914\n",
      "0.42039599692638496\n",
      "Producing data for:  ABR\n"
     ]
    },
    {
     "name": "stderr",
     "output_type": "stream",
     "text": [
      "<ipython-input-1-d5b62f59ed62>:47: FutureWarning: Indexing a timezone-aware DatetimeIndex with a timezone-naive datetime is deprecated and will raise KeyError in a future version. Use a timezone-aware object instead.\n",
      "  y = max.truncate(before=pd.Timestamp('today') - pd.DateOffset(months=12))\n",
      "<ipython-input-1-d5b62f59ed62>:48: FutureWarning: Indexing a timezone-aware DatetimeIndex with a timezone-naive datetime is deprecated and will raise KeyError in a future version. Use a timezone-aware object instead.\n",
      "  m6 = max.truncate(before=pd.Timestamp('today') - pd.DateOffset(months=6))\n",
      "<ipython-input-1-d5b62f59ed62>:49: FutureWarning: Indexing a timezone-aware DatetimeIndex with a timezone-naive datetime is deprecated and will raise KeyError in a future version. Use a timezone-aware object instead.\n",
      "  m3 = max.truncate(before=pd.Timestamp('today') - pd.DateOffset(months=3))\n",
      "<ipython-input-1-d5b62f59ed62>:50: FutureWarning: Indexing a timezone-aware DatetimeIndex with a timezone-naive datetime is deprecated and will raise KeyError in a future version. Use a timezone-aware object instead.\n",
      "  m1 = max.truncate(before=pd.Timestamp('today') - pd.DateOffset(months=1))\n",
      "<ipython-input-1-d5b62f59ed62>:103: FutureWarning: The frame.append method is deprecated and will be removed from pandas in a future version. Use pandas.concat instead.\n",
      "  final = final.append(\n"
     ]
    },
    {
     "name": "stdout",
     "output_type": "stream",
     "text": [
      "0.21824507493889117\n",
      "0.3183269990550868\n",
      "0.4206966247759284\n",
      "0.47047444446258513\n",
      "0.5189488770601636\n",
      "Producing data for:  ABRN\n",
      "Got error from yahoo api for ticker ABRN, Error: {'code': 'Not Found', 'description': 'No data found, symbol may be delisted'}\n",
      "- ABRN: No timezone found, symbol may be delisted\n",
      "Got error from yahoo api for ticker ABRN, Error: {'code': 'Not Found', 'description': 'No data found, symbol may be delisted'}\n",
      "- ABRN: No timezone found, symbol may be delisted\n",
      "Producing data for:  ABR.PRA\n",
      "Got error from yahoo api for ticker ABR.PRA, Error: {'code': 'Not Found', 'description': 'No data found, symbol may be delisted'}\n",
      "- ABR.PRA: No timezone found, symbol may be delisted\n",
      "Got error from yahoo api for ticker ABR.PRA, Error: {'code': 'Not Found', 'description': 'No data found, symbol may be delisted'}\n",
      "- ABR.PRA: No timezone found, symbol may be delisted\n",
      "Producing data for:  ABR.PRB\n",
      "Got error from yahoo api for ticker ABR.PRB, Error: {'code': 'Not Found', 'description': 'No data found, symbol may be delisted'}\n",
      "- ABR.PRB: No timezone found, symbol may be delisted\n",
      "Got error from yahoo api for ticker ABR.PRB, Error: {'code': 'Not Found', 'description': 'No data found, symbol may be delisted'}\n",
      "- ABR.PRB: No timezone found, symbol may be delisted\n",
      "Producing data for:  ABR.PRC\n",
      "Got error from yahoo api for ticker ABR.PRC, Error: {'code': 'Not Found', 'description': 'No data found, symbol may be delisted'}\n",
      "- ABR.PRC: No timezone found, symbol may be delisted\n",
      "Got error from yahoo api for ticker ABR.PRC, Error: {'code': 'Not Found', 'description': 'No data found, symbol may be delisted'}\n",
      "- ABR.PRC: No timezone found, symbol may be delisted\n",
      "Producing data for:  ARC\n"
     ]
    },
    {
     "name": "stderr",
     "output_type": "stream",
     "text": [
      "<ipython-input-1-d5b62f59ed62>:47: FutureWarning: Indexing a timezone-aware DatetimeIndex with a timezone-naive datetime is deprecated and will raise KeyError in a future version. Use a timezone-aware object instead.\n",
      "  y = max.truncate(before=pd.Timestamp('today') - pd.DateOffset(months=12))\n",
      "<ipython-input-1-d5b62f59ed62>:48: FutureWarning: Indexing a timezone-aware DatetimeIndex with a timezone-naive datetime is deprecated and will raise KeyError in a future version. Use a timezone-aware object instead.\n",
      "  m6 = max.truncate(before=pd.Timestamp('today') - pd.DateOffset(months=6))\n",
      "<ipython-input-1-d5b62f59ed62>:49: FutureWarning: Indexing a timezone-aware DatetimeIndex with a timezone-naive datetime is deprecated and will raise KeyError in a future version. Use a timezone-aware object instead.\n",
      "  m3 = max.truncate(before=pd.Timestamp('today') - pd.DateOffset(months=3))\n",
      "<ipython-input-1-d5b62f59ed62>:50: FutureWarning: Indexing a timezone-aware DatetimeIndex with a timezone-naive datetime is deprecated and will raise KeyError in a future version. Use a timezone-aware object instead.\n",
      "  m1 = max.truncate(before=pd.Timestamp('today') - pd.DateOffset(months=1))\n",
      "<ipython-input-1-d5b62f59ed62>:103: FutureWarning: The frame.append method is deprecated and will be removed from pandas in a future version. Use pandas.concat instead.\n",
      "  final = final.append(\n"
     ]
    },
    {
     "name": "stdout",
     "output_type": "stream",
     "text": [
      "0.20992098865942085\n",
      "0.3198115190250138\n",
      "0.43260039008906137\n",
      "0.48596370216098517\n",
      "0.5277529153019737\n",
      "Producing data for:  ARCX\n",
      "ARCX: 1d data not available for startTime=-2208994789 and endTime=1673327880. Only 100 years worth of day granularity data are allowed to be fetched per request.\n",
      "ARCX: 1d data not available for startTime=-2208994789 and endTime=1673327881. Only 100 years worth of day granularity data are allowed to be fetched per request.\n",
      "Producing data for:  MT\n"
     ]
    },
    {
     "name": "stderr",
     "output_type": "stream",
     "text": [
      "<ipython-input-1-d5b62f59ed62>:47: FutureWarning: Indexing a timezone-aware DatetimeIndex with a timezone-naive datetime is deprecated and will raise KeyError in a future version. Use a timezone-aware object instead.\n",
      "  y = max.truncate(before=pd.Timestamp('today') - pd.DateOffset(months=12))\n",
      "<ipython-input-1-d5b62f59ed62>:48: FutureWarning: Indexing a timezone-aware DatetimeIndex with a timezone-naive datetime is deprecated and will raise KeyError in a future version. Use a timezone-aware object instead.\n",
      "  m6 = max.truncate(before=pd.Timestamp('today') - pd.DateOffset(months=6))\n",
      "<ipython-input-1-d5b62f59ed62>:49: FutureWarning: Indexing a timezone-aware DatetimeIndex with a timezone-naive datetime is deprecated and will raise KeyError in a future version. Use a timezone-aware object instead.\n",
      "  m3 = max.truncate(before=pd.Timestamp('today') - pd.DateOffset(months=3))\n",
      "<ipython-input-1-d5b62f59ed62>:50: FutureWarning: Indexing a timezone-aware DatetimeIndex with a timezone-naive datetime is deprecated and will raise KeyError in a future version. Use a timezone-aware object instead.\n",
      "  m1 = max.truncate(before=pd.Timestamp('today') - pd.DateOffset(months=1))\n",
      "<ipython-input-1-d5b62f59ed62>:103: FutureWarning: The frame.append method is deprecated and will be removed from pandas in a future version. Use pandas.concat instead.\n",
      "  final = final.append(\n"
     ]
    },
    {
     "name": "stdout",
     "output_type": "stream",
     "text": [
      "0.2003973799451727\n",
      "0.31961449208039006\n",
      "0.42899678947789827\n",
      "0.4782339692238936\n",
      "0.5221601667825729\n",
      "Producing data for:  ARH.PRC\n",
      "Got error from yahoo api for ticker ARH.PRC, Error: {'code': 'Not Found', 'description': 'No data found, symbol may be delisted'}\n",
      "- ARH.PRC: No timezone found, symbol may be delisted\n",
      "Got error from yahoo api for ticker ARH.PRC, Error: {'code': 'Not Found', 'description': 'No data found, symbol may be delisted'}\n",
      "- ARH.PRC: No timezone found, symbol may be delisted\n",
      "Producing data for:  ARCH\n"
     ]
    },
    {
     "name": "stderr",
     "output_type": "stream",
     "text": [
      "<ipython-input-1-d5b62f59ed62>:47: FutureWarning: Indexing a timezone-aware DatetimeIndex with a timezone-naive datetime is deprecated and will raise KeyError in a future version. Use a timezone-aware object instead.\n",
      "  y = max.truncate(before=pd.Timestamp('today') - pd.DateOffset(months=12))\n",
      "<ipython-input-1-d5b62f59ed62>:48: FutureWarning: Indexing a timezone-aware DatetimeIndex with a timezone-naive datetime is deprecated and will raise KeyError in a future version. Use a timezone-aware object instead.\n",
      "  m6 = max.truncate(before=pd.Timestamp('today') - pd.DateOffset(months=6))\n",
      "<ipython-input-1-d5b62f59ed62>:49: FutureWarning: Indexing a timezone-aware DatetimeIndex with a timezone-naive datetime is deprecated and will raise KeyError in a future version. Use a timezone-aware object instead.\n",
      "  m3 = max.truncate(before=pd.Timestamp('today') - pd.DateOffset(months=3))\n",
      "<ipython-input-1-d5b62f59ed62>:50: FutureWarning: Indexing a timezone-aware DatetimeIndex with a timezone-naive datetime is deprecated and will raise KeyError in a future version. Use a timezone-aware object instead.\n",
      "  m1 = max.truncate(before=pd.Timestamp('today') - pd.DateOffset(months=1))\n",
      "<ipython-input-1-d5b62f59ed62>:103: FutureWarning: The frame.append method is deprecated and will be removed from pandas in a future version. Use pandas.concat instead.\n",
      "  final = final.append(\n"
     ]
    },
    {
     "name": "stdout",
     "output_type": "stream",
     "text": [
      "0.1625480815301754\n",
      "0.252196624089144\n",
      "0.35513909915642505\n",
      "0.4087187333903797\n",
      "0.44344065803775995\n",
      "Producing data for:  ADM\n"
     ]
    },
    {
     "name": "stderr",
     "output_type": "stream",
     "text": [
      "<ipython-input-1-d5b62f59ed62>:47: FutureWarning: Indexing a timezone-aware DatetimeIndex with a timezone-naive datetime is deprecated and will raise KeyError in a future version. Use a timezone-aware object instead.\n",
      "  y = max.truncate(before=pd.Timestamp('today') - pd.DateOffset(months=12))\n",
      "<ipython-input-1-d5b62f59ed62>:48: FutureWarning: Indexing a timezone-aware DatetimeIndex with a timezone-naive datetime is deprecated and will raise KeyError in a future version. Use a timezone-aware object instead.\n",
      "  m6 = max.truncate(before=pd.Timestamp('today') - pd.DateOffset(months=6))\n",
      "<ipython-input-1-d5b62f59ed62>:49: FutureWarning: Indexing a timezone-aware DatetimeIndex with a timezone-naive datetime is deprecated and will raise KeyError in a future version. Use a timezone-aware object instead.\n",
      "  m3 = max.truncate(before=pd.Timestamp('today') - pd.DateOffset(months=3))\n",
      "<ipython-input-1-d5b62f59ed62>:50: FutureWarning: Indexing a timezone-aware DatetimeIndex with a timezone-naive datetime is deprecated and will raise KeyError in a future version. Use a timezone-aware object instead.\n",
      "  m1 = max.truncate(before=pd.Timestamp('today') - pd.DateOffset(months=1))\n"
     ]
    },
    {
     "name": "stdout",
     "output_type": "stream",
     "text": [
      "0.19724959668292946\n",
      "0.2960598891781888\n",
      "0.38947614382143547\n",
      "0.43664518676144465\n",
      "0.47875706415704455\n",
      "Producing data for:  AROC\n"
     ]
    },
    {
     "name": "stderr",
     "output_type": "stream",
     "text": [
      "<ipython-input-1-d5b62f59ed62>:103: FutureWarning: The frame.append method is deprecated and will be removed from pandas in a future version. Use pandas.concat instead.\n",
      "  final = final.append(\n",
      "<ipython-input-1-d5b62f59ed62>:47: FutureWarning: Indexing a timezone-aware DatetimeIndex with a timezone-naive datetime is deprecated and will raise KeyError in a future version. Use a timezone-aware object instead.\n",
      "  y = max.truncate(before=pd.Timestamp('today') - pd.DateOffset(months=12))\n",
      "<ipython-input-1-d5b62f59ed62>:48: FutureWarning: Indexing a timezone-aware DatetimeIndex with a timezone-naive datetime is deprecated and will raise KeyError in a future version. Use a timezone-aware object instead.\n",
      "  m6 = max.truncate(before=pd.Timestamp('today') - pd.DateOffset(months=6))\n",
      "<ipython-input-1-d5b62f59ed62>:49: FutureWarning: Indexing a timezone-aware DatetimeIndex with a timezone-naive datetime is deprecated and will raise KeyError in a future version. Use a timezone-aware object instead.\n",
      "  m3 = max.truncate(before=pd.Timestamp('today') - pd.DateOffset(months=3))\n",
      "<ipython-input-1-d5b62f59ed62>:50: FutureWarning: Indexing a timezone-aware DatetimeIndex with a timezone-naive datetime is deprecated and will raise KeyError in a future version. Use a timezone-aware object instead.\n",
      "  m1 = max.truncate(before=pd.Timestamp('today') - pd.DateOffset(months=1))\n",
      "<ipython-input-1-d5b62f59ed62>:103: FutureWarning: The frame.append method is deprecated and will be removed from pandas in a future version. Use pandas.concat instead.\n",
      "  final = final.append(\n"
     ]
    },
    {
     "name": "stdout",
     "output_type": "stream",
     "text": [
      "0.20619670270402324\n",
      "0.3255041090629921\n",
      "0.44644510656074643\n",
      "0.5016691685382927\n",
      "0.5441417138148787\n",
      "Producing data for:  ARNC\n"
     ]
    },
    {
     "name": "stderr",
     "output_type": "stream",
     "text": [
      "<ipython-input-1-d5b62f59ed62>:47: FutureWarning: Indexing a timezone-aware DatetimeIndex with a timezone-naive datetime is deprecated and will raise KeyError in a future version. Use a timezone-aware object instead.\n",
      "  y = max.truncate(before=pd.Timestamp('today') - pd.DateOffset(months=12))\n",
      "<ipython-input-1-d5b62f59ed62>:48: FutureWarning: Indexing a timezone-aware DatetimeIndex with a timezone-naive datetime is deprecated and will raise KeyError in a future version. Use a timezone-aware object instead.\n",
      "  m6 = max.truncate(before=pd.Timestamp('today') - pd.DateOffset(months=6))\n",
      "<ipython-input-1-d5b62f59ed62>:49: FutureWarning: Indexing a timezone-aware DatetimeIndex with a timezone-naive datetime is deprecated and will raise KeyError in a future version. Use a timezone-aware object instead.\n",
      "  m3 = max.truncate(before=pd.Timestamp('today') - pd.DateOffset(months=3))\n",
      "<ipython-input-1-d5b62f59ed62>:50: FutureWarning: Indexing a timezone-aware DatetimeIndex with a timezone-naive datetime is deprecated and will raise KeyError in a future version. Use a timezone-aware object instead.\n",
      "  m1 = max.truncate(before=pd.Timestamp('today') - pd.DateOffset(months=1))\n",
      "C:\\Users\\Kamen\\AppData\\Local\\Programs\\Python\\Python38\\lib\\site-packages\\numpy\\core\\_methods.py:262: RuntimeWarning: Degrees of freedom <= 0 for slice\n",
      "  ret = _var(a, axis=axis, dtype=dtype, out=out, ddof=ddof,\n",
      "C:\\Users\\Kamen\\AppData\\Local\\Programs\\Python\\Python38\\lib\\site-packages\\numpy\\core\\_methods.py:222: RuntimeWarning: invalid value encountered in true_divide\n",
      "  arrmean = um.true_divide(arrmean, div, out=arrmean, casting='unsafe',\n",
      "C:\\Users\\Kamen\\AppData\\Local\\Programs\\Python\\Python38\\lib\\site-packages\\numpy\\core\\_methods.py:254: RuntimeWarning: invalid value encountered in double_scalars\n",
      "  ret = ret.dtype.type(ret / rcount)\n",
      "<ipython-input-1-d5b62f59ed62>:38: RuntimeWarning: divide by zero encountered in log\n",
      "  reg = np.polyfit(np.log(lags), np.log(tau), 1)\n",
      "<ipython-input-1-d5b62f59ed62>:103: FutureWarning: The frame.append method is deprecated and will be removed from pandas in a future version. Use pandas.concat instead.\n",
      "  final = final.append(\n"
     ]
    },
    {
     "name": "stdout",
     "output_type": "stream",
     "text": [
      "0.19511391831242092\n",
      "0.28409895235927207\n",
      "0.37630119546372\n",
      "0.41373937900822044\n",
      "nan\n",
      "Producing data for:  ARNC.PR\n",
      "Got error from yahoo api for ticker ARNC.PR, Error: {'code': 'Not Found', 'description': 'No data found, symbol may be delisted'}\n",
      "- ARNC.PR: No timezone found, symbol may be delisted\n",
      "Got error from yahoo api for ticker ARNC.PR, Error: {'code': 'Not Found', 'description': 'No data found, symbol may be delisted'}\n",
      "- ARNC.PR: No timezone found, symbol may be delisted\n",
      "Producing data for:  ARNC.PRB\n",
      "Got error from yahoo api for ticker ARNC.PRB, Error: {'code': 'Not Found', 'description': 'No data found, symbol may be delisted'}\n",
      "- ARNC.PRB: No timezone found, symbol may be delisted\n",
      "Got error from yahoo api for ticker ARNC.PRB, Error: {'code': 'Not Found', 'description': 'No data found, symbol may be delisted'}\n",
      "- ARNC.PRB: No timezone found, symbol may be delisted\n",
      "Producing data for:  ARCO\n"
     ]
    },
    {
     "name": "stderr",
     "output_type": "stream",
     "text": [
      "<ipython-input-1-d5b62f59ed62>:47: FutureWarning: Indexing a timezone-aware DatetimeIndex with a timezone-naive datetime is deprecated and will raise KeyError in a future version. Use a timezone-aware object instead.\n",
      "  y = max.truncate(before=pd.Timestamp('today') - pd.DateOffset(months=12))\n",
      "<ipython-input-1-d5b62f59ed62>:48: FutureWarning: Indexing a timezone-aware DatetimeIndex with a timezone-naive datetime is deprecated and will raise KeyError in a future version. Use a timezone-aware object instead.\n",
      "  m6 = max.truncate(before=pd.Timestamp('today') - pd.DateOffset(months=6))\n",
      "<ipython-input-1-d5b62f59ed62>:49: FutureWarning: Indexing a timezone-aware DatetimeIndex with a timezone-naive datetime is deprecated and will raise KeyError in a future version. Use a timezone-aware object instead.\n",
      "  m3 = max.truncate(before=pd.Timestamp('today') - pd.DateOffset(months=3))\n",
      "<ipython-input-1-d5b62f59ed62>:50: FutureWarning: Indexing a timezone-aware DatetimeIndex with a timezone-naive datetime is deprecated and will raise KeyError in a future version. Use a timezone-aware object instead.\n",
      "  m1 = max.truncate(before=pd.Timestamp('today') - pd.DateOffset(months=1))\n",
      "<ipython-input-1-d5b62f59ed62>:103: FutureWarning: The frame.append method is deprecated and will be removed from pandas in a future version. Use pandas.concat instead.\n",
      "  final = final.append(\n"
     ]
    },
    {
     "name": "stdout",
     "output_type": "stream",
     "text": [
      "0.1835564472193111\n",
      "0.26888446451989867\n",
      "0.35699556103526625\n",
      "0.40234652358396394\n",
      "0.4482763089391803\n",
      "Producing data for:  ASC\n"
     ]
    },
    {
     "name": "stderr",
     "output_type": "stream",
     "text": [
      "<ipython-input-1-d5b62f59ed62>:47: FutureWarning: Indexing a timezone-aware DatetimeIndex with a timezone-naive datetime is deprecated and will raise KeyError in a future version. Use a timezone-aware object instead.\n",
      "  y = max.truncate(before=pd.Timestamp('today') - pd.DateOffset(months=12))\n",
      "<ipython-input-1-d5b62f59ed62>:48: FutureWarning: Indexing a timezone-aware DatetimeIndex with a timezone-naive datetime is deprecated and will raise KeyError in a future version. Use a timezone-aware object instead.\n",
      "  m6 = max.truncate(before=pd.Timestamp('today') - pd.DateOffset(months=6))\n",
      "<ipython-input-1-d5b62f59ed62>:49: FutureWarning: Indexing a timezone-aware DatetimeIndex with a timezone-naive datetime is deprecated and will raise KeyError in a future version. Use a timezone-aware object instead.\n",
      "  m3 = max.truncate(before=pd.Timestamp('today') - pd.DateOffset(months=3))\n",
      "<ipython-input-1-d5b62f59ed62>:50: FutureWarning: Indexing a timezone-aware DatetimeIndex with a timezone-naive datetime is deprecated and will raise KeyError in a future version. Use a timezone-aware object instead.\n",
      "  m1 = max.truncate(before=pd.Timestamp('today') - pd.DateOffset(months=1))\n"
     ]
    },
    {
     "name": "stdout",
     "output_type": "stream",
     "text": [
      "0.19792203176159728\n",
      "0.28650934406616413\n",
      "0.3728383226031796\n",
      "0.4087117840055641\n",
      "0.43218119300548846\n",
      "Producing data for:  ARU\n"
     ]
    },
    {
     "name": "stderr",
     "output_type": "stream",
     "text": [
      "<ipython-input-1-d5b62f59ed62>:103: FutureWarning: The frame.append method is deprecated and will be removed from pandas in a future version. Use pandas.concat instead.\n",
      "  final = final.append(\n"
     ]
    },
    {
     "name": "stdout",
     "output_type": "stream",
     "text": [
      "Got error from yahoo api for ticker ARU, Error: {'code': 'Not Found', 'description': 'No data found, symbol may be delisted'}\n",
      "- ARU: No timezone found, symbol may be delisted\n",
      "Got error from yahoo api for ticker ARU, Error: {'code': 'Not Found', 'description': 'No data found, symbol may be delisted'}\n",
      "- ARU: No timezone found, symbol may be delisted\n",
      "Producing data for:  ACRE\n"
     ]
    },
    {
     "name": "stderr",
     "output_type": "stream",
     "text": [
      "<ipython-input-1-d5b62f59ed62>:47: FutureWarning: Indexing a timezone-aware DatetimeIndex with a timezone-naive datetime is deprecated and will raise KeyError in a future version. Use a timezone-aware object instead.\n",
      "  y = max.truncate(before=pd.Timestamp('today') - pd.DateOffset(months=12))\n",
      "<ipython-input-1-d5b62f59ed62>:48: FutureWarning: Indexing a timezone-aware DatetimeIndex with a timezone-naive datetime is deprecated and will raise KeyError in a future version. Use a timezone-aware object instead.\n",
      "  m6 = max.truncate(before=pd.Timestamp('today') - pd.DateOffset(months=6))\n",
      "<ipython-input-1-d5b62f59ed62>:49: FutureWarning: Indexing a timezone-aware DatetimeIndex with a timezone-naive datetime is deprecated and will raise KeyError in a future version. Use a timezone-aware object instead.\n",
      "  m3 = max.truncate(before=pd.Timestamp('today') - pd.DateOffset(months=3))\n",
      "<ipython-input-1-d5b62f59ed62>:50: FutureWarning: Indexing a timezone-aware DatetimeIndex with a timezone-naive datetime is deprecated and will raise KeyError in a future version. Use a timezone-aware object instead.\n",
      "  m1 = max.truncate(before=pd.Timestamp('today') - pd.DateOffset(months=1))\n",
      "<ipython-input-1-d5b62f59ed62>:103: FutureWarning: The frame.append method is deprecated and will be removed from pandas in a future version. Use pandas.concat instead.\n",
      "  final = final.append(\n"
     ]
    },
    {
     "name": "stdout",
     "output_type": "stream",
     "text": [
      "0.2031188509947692\n",
      "0.2934139561641673\n",
      "0.37735255178814636\n",
      "0.4097139287526662\n",
      "0.42788674783968184\n",
      "Producing data for:  ARDC\n"
     ]
    },
    {
     "name": "stderr",
     "output_type": "stream",
     "text": [
      "<ipython-input-1-d5b62f59ed62>:47: FutureWarning: Indexing a timezone-aware DatetimeIndex with a timezone-naive datetime is deprecated and will raise KeyError in a future version. Use a timezone-aware object instead.\n",
      "  y = max.truncate(before=pd.Timestamp('today') - pd.DateOffset(months=12))\n",
      "<ipython-input-1-d5b62f59ed62>:48: FutureWarning: Indexing a timezone-aware DatetimeIndex with a timezone-naive datetime is deprecated and will raise KeyError in a future version. Use a timezone-aware object instead.\n",
      "  m6 = max.truncate(before=pd.Timestamp('today') - pd.DateOffset(months=6))\n",
      "<ipython-input-1-d5b62f59ed62>:49: FutureWarning: Indexing a timezone-aware DatetimeIndex with a timezone-naive datetime is deprecated and will raise KeyError in a future version. Use a timezone-aware object instead.\n",
      "  m3 = max.truncate(before=pd.Timestamp('today') - pd.DateOffset(months=3))\n",
      "<ipython-input-1-d5b62f59ed62>:50: FutureWarning: Indexing a timezone-aware DatetimeIndex with a timezone-naive datetime is deprecated and will raise KeyError in a future version. Use a timezone-aware object instead.\n",
      "  m1 = max.truncate(before=pd.Timestamp('today') - pd.DateOffset(months=1))\n",
      "<ipython-input-1-d5b62f59ed62>:103: FutureWarning: The frame.append method is deprecated and will be removed from pandas in a future version. Use pandas.concat instead.\n",
      "  final = final.append(\n"
     ]
    },
    {
     "name": "stdout",
     "output_type": "stream",
     "text": [
      "0.22438850678330696\n",
      "0.3301884595320799\n",
      "0.4356003640727041\n",
      "0.47921198424683753\n",
      "0.5022038694084602\n",
      "Producing data for:  ARES\n"
     ]
    },
    {
     "name": "stderr",
     "output_type": "stream",
     "text": [
      "<ipython-input-1-d5b62f59ed62>:47: FutureWarning: Indexing a timezone-aware DatetimeIndex with a timezone-naive datetime is deprecated and will raise KeyError in a future version. Use a timezone-aware object instead.\n",
      "  y = max.truncate(before=pd.Timestamp('today') - pd.DateOffset(months=12))\n",
      "<ipython-input-1-d5b62f59ed62>:48: FutureWarning: Indexing a timezone-aware DatetimeIndex with a timezone-naive datetime is deprecated and will raise KeyError in a future version. Use a timezone-aware object instead.\n",
      "  m6 = max.truncate(before=pd.Timestamp('today') - pd.DateOffset(months=6))\n",
      "<ipython-input-1-d5b62f59ed62>:49: FutureWarning: Indexing a timezone-aware DatetimeIndex with a timezone-naive datetime is deprecated and will raise KeyError in a future version. Use a timezone-aware object instead.\n",
      "  m3 = max.truncate(before=pd.Timestamp('today') - pd.DateOffset(months=3))\n",
      "<ipython-input-1-d5b62f59ed62>:50: FutureWarning: Indexing a timezone-aware DatetimeIndex with a timezone-naive datetime is deprecated and will raise KeyError in a future version. Use a timezone-aware object instead.\n",
      "  m1 = max.truncate(before=pd.Timestamp('today') - pd.DateOffset(months=1))\n",
      "<ipython-input-1-d5b62f59ed62>:103: FutureWarning: The frame.append method is deprecated and will be removed from pandas in a future version. Use pandas.concat instead.\n",
      "  final = final.append(\n"
     ]
    },
    {
     "name": "stdout",
     "output_type": "stream",
     "text": [
      "0.19289481981335188\n",
      "0.26847871589216754\n",
      "0.35517062845511094\n",
      "0.39989176922572384\n",
      "0.44567867849758513\n",
      "Producing data for:  ARES.PRA\n",
      "Got error from yahoo api for ticker ARES.PRA, Error: {'code': 'Not Found', 'description': 'No data found, symbol may be delisted'}\n",
      "- ARES.PRA: No timezone found, symbol may be delisted\n",
      "Got error from yahoo api for ticker ARES.PRA, Error: {'code': 'Not Found', 'description': 'No data found, symbol may be delisted'}\n",
      "- ARES.PRA: No timezone found, symbol may be delisted\n",
      "Producing data for:  ARMF\n",
      "ARMF: 1d data not available for startTime=-2208994789 and endTime=1673327932. Only 100 years worth of day granularity data are allowed to be fetched per request.\n",
      "ARMF: 1d data not available for startTime=-2208994789 and endTime=1673327933. Only 100 years worth of day granularity data are allowed to be fetched per request.\n",
      "Producing data for:  AGX\n"
     ]
    },
    {
     "name": "stderr",
     "output_type": "stream",
     "text": [
      "<ipython-input-1-d5b62f59ed62>:47: FutureWarning: Indexing a timezone-aware DatetimeIndex with a timezone-naive datetime is deprecated and will raise KeyError in a future version. Use a timezone-aware object instead.\n",
      "  y = max.truncate(before=pd.Timestamp('today') - pd.DateOffset(months=12))\n",
      "<ipython-input-1-d5b62f59ed62>:48: FutureWarning: Indexing a timezone-aware DatetimeIndex with a timezone-naive datetime is deprecated and will raise KeyError in a future version. Use a timezone-aware object instead.\n",
      "  m6 = max.truncate(before=pd.Timestamp('today') - pd.DateOffset(months=6))\n",
      "<ipython-input-1-d5b62f59ed62>:49: FutureWarning: Indexing a timezone-aware DatetimeIndex with a timezone-naive datetime is deprecated and will raise KeyError in a future version. Use a timezone-aware object instead.\n",
      "  m3 = max.truncate(before=pd.Timestamp('today') - pd.DateOffset(months=3))\n",
      "<ipython-input-1-d5b62f59ed62>:50: FutureWarning: Indexing a timezone-aware DatetimeIndex with a timezone-naive datetime is deprecated and will raise KeyError in a future version. Use a timezone-aware object instead.\n",
      "  m1 = max.truncate(before=pd.Timestamp('today') - pd.DateOffset(months=1))\n"
     ]
    },
    {
     "name": "stdout",
     "output_type": "stream",
     "text": [
      "0.1758456900108403\n",
      "0.2697706793303063\n",
      "0.3677324845609065\n",
      "0.41252921643669016\n",
      "0.45252610069912175\n"
     ]
    },
    {
     "name": "stderr",
     "output_type": "stream",
     "text": [
      "<ipython-input-1-d5b62f59ed62>:103: FutureWarning: The frame.append method is deprecated and will be removed from pandas in a future version. Use pandas.concat instead.\n",
      "  final = final.append(\n"
     ]
    },
    {
     "name": "stdout",
     "output_type": "stream",
     "text": [
      "Producing data for:  ANET\n"
     ]
    },
    {
     "name": "stderr",
     "output_type": "stream",
     "text": [
      "<ipython-input-1-d5b62f59ed62>:47: FutureWarning: Indexing a timezone-aware DatetimeIndex with a timezone-naive datetime is deprecated and will raise KeyError in a future version. Use a timezone-aware object instead.\n",
      "  y = max.truncate(before=pd.Timestamp('today') - pd.DateOffset(months=12))\n",
      "<ipython-input-1-d5b62f59ed62>:48: FutureWarning: Indexing a timezone-aware DatetimeIndex with a timezone-naive datetime is deprecated and will raise KeyError in a future version. Use a timezone-aware object instead.\n",
      "  m6 = max.truncate(before=pd.Timestamp('today') - pd.DateOffset(months=6))\n",
      "<ipython-input-1-d5b62f59ed62>:49: FutureWarning: Indexing a timezone-aware DatetimeIndex with a timezone-naive datetime is deprecated and will raise KeyError in a future version. Use a timezone-aware object instead.\n",
      "  m3 = max.truncate(before=pd.Timestamp('today') - pd.DateOffset(months=3))\n",
      "<ipython-input-1-d5b62f59ed62>:50: FutureWarning: Indexing a timezone-aware DatetimeIndex with a timezone-naive datetime is deprecated and will raise KeyError in a future version. Use a timezone-aware object instead.\n",
      "  m1 = max.truncate(before=pd.Timestamp('today') - pd.DateOffset(months=1))\n",
      "<ipython-input-1-d5b62f59ed62>:103: FutureWarning: The frame.append method is deprecated and will be removed from pandas in a future version. Use pandas.concat instead.\n",
      "  final = final.append(\n"
     ]
    },
    {
     "name": "stdout",
     "output_type": "stream",
     "text": [
      "0.20766839649124363\n",
      "0.28879970671701216\n",
      "0.36590891931517777\n",
      "0.40622491601428\n",
      "0.4230012340787264\n",
      "Producing data for:  AI\n"
     ]
    },
    {
     "name": "stderr",
     "output_type": "stream",
     "text": [
      "<ipython-input-1-d5b62f59ed62>:47: FutureWarning: Indexing a timezone-aware DatetimeIndex with a timezone-naive datetime is deprecated and will raise KeyError in a future version. Use a timezone-aware object instead.\n",
      "  y = max.truncate(before=pd.Timestamp('today') - pd.DateOffset(months=12))\n",
      "<ipython-input-1-d5b62f59ed62>:48: FutureWarning: Indexing a timezone-aware DatetimeIndex with a timezone-naive datetime is deprecated and will raise KeyError in a future version. Use a timezone-aware object instead.\n",
      "  m6 = max.truncate(before=pd.Timestamp('today') - pd.DateOffset(months=6))\n",
      "<ipython-input-1-d5b62f59ed62>:49: FutureWarning: Indexing a timezone-aware DatetimeIndex with a timezone-naive datetime is deprecated and will raise KeyError in a future version. Use a timezone-aware object instead.\n",
      "  m3 = max.truncate(before=pd.Timestamp('today') - pd.DateOffset(months=3))\n",
      "<ipython-input-1-d5b62f59ed62>:50: FutureWarning: Indexing a timezone-aware DatetimeIndex with a timezone-naive datetime is deprecated and will raise KeyError in a future version. Use a timezone-aware object instead.\n",
      "  m1 = max.truncate(before=pd.Timestamp('today') - pd.DateOffset(months=1))\n",
      "C:\\Users\\Kamen\\AppData\\Local\\Programs\\Python\\Python38\\lib\\site-packages\\numpy\\core\\_methods.py:262: RuntimeWarning: Degrees of freedom <= 0 for slice\n",
      "  ret = _var(a, axis=axis, dtype=dtype, out=out, ddof=ddof,\n",
      "C:\\Users\\Kamen\\AppData\\Local\\Programs\\Python\\Python38\\lib\\site-packages\\numpy\\core\\_methods.py:222: RuntimeWarning: invalid value encountered in true_divide\n",
      "  arrmean = um.true_divide(arrmean, div, out=arrmean, casting='unsafe',\n",
      "C:\\Users\\Kamen\\AppData\\Local\\Programs\\Python\\Python38\\lib\\site-packages\\numpy\\core\\_methods.py:254: RuntimeWarning: invalid value encountered in double_scalars\n",
      "  ret = ret.dtype.type(ret / rcount)\n",
      "<ipython-input-1-d5b62f59ed62>:38: RuntimeWarning: divide by zero encountered in log\n",
      "  reg = np.polyfit(np.log(lags), np.log(tau), 1)\n",
      "<ipython-input-1-d5b62f59ed62>:103: FutureWarning: The frame.append method is deprecated and will be removed from pandas in a future version. Use pandas.concat instead.\n",
      "  final = final.append(\n"
     ]
    },
    {
     "name": "stdout",
     "output_type": "stream",
     "text": [
      "0.14768567183019404\n",
      "0.22228962567881283\n",
      "0.28374972197282533\n",
      "0.3064293330459275\n",
      "nan\n",
      "Producing data for:  AIW\n",
      "Got error from yahoo api for ticker AIW, Error: {'code': 'Not Found', 'description': 'No data found, symbol may be delisted'}\n",
      "- AIW: No timezone found, symbol may be delisted\n",
      "Got error from yahoo api for ticker AIW, Error: {'code': 'Not Found', 'description': 'No data found, symbol may be delisted'}\n",
      "- AIW: No timezone found, symbol may be delisted\n",
      "Producing data for:  AHH\n"
     ]
    },
    {
     "name": "stderr",
     "output_type": "stream",
     "text": [
      "<ipython-input-1-d5b62f59ed62>:47: FutureWarning: Indexing a timezone-aware DatetimeIndex with a timezone-naive datetime is deprecated and will raise KeyError in a future version. Use a timezone-aware object instead.\n",
      "  y = max.truncate(before=pd.Timestamp('today') - pd.DateOffset(months=12))\n",
      "<ipython-input-1-d5b62f59ed62>:48: FutureWarning: Indexing a timezone-aware DatetimeIndex with a timezone-naive datetime is deprecated and will raise KeyError in a future version. Use a timezone-aware object instead.\n",
      "  m6 = max.truncate(before=pd.Timestamp('today') - pd.DateOffset(months=6))\n",
      "<ipython-input-1-d5b62f59ed62>:49: FutureWarning: Indexing a timezone-aware DatetimeIndex with a timezone-naive datetime is deprecated and will raise KeyError in a future version. Use a timezone-aware object instead.\n",
      "  m3 = max.truncate(before=pd.Timestamp('today') - pd.DateOffset(months=3))\n",
      "<ipython-input-1-d5b62f59ed62>:50: FutureWarning: Indexing a timezone-aware DatetimeIndex with a timezone-naive datetime is deprecated and will raise KeyError in a future version. Use a timezone-aware object instead.\n",
      "  m1 = max.truncate(before=pd.Timestamp('today') - pd.DateOffset(months=1))\n",
      "<ipython-input-1-d5b62f59ed62>:103: FutureWarning: The frame.append method is deprecated and will be removed from pandas in a future version. Use pandas.concat instead.\n",
      "  final = final.append(\n"
     ]
    },
    {
     "name": "stdout",
     "output_type": "stream",
     "text": [
      "0.20297456469810957\n",
      "0.3015156786292771\n",
      "0.3918837202780727\n",
      "0.42880969991848683\n",
      "0.45633955464311265\n",
      "Producing data for:  ARR\n"
     ]
    },
    {
     "name": "stderr",
     "output_type": "stream",
     "text": [
      "<ipython-input-1-d5b62f59ed62>:47: FutureWarning: Indexing a timezone-aware DatetimeIndex with a timezone-naive datetime is deprecated and will raise KeyError in a future version. Use a timezone-aware object instead.\n",
      "  y = max.truncate(before=pd.Timestamp('today') - pd.DateOffset(months=12))\n",
      "<ipython-input-1-d5b62f59ed62>:48: FutureWarning: Indexing a timezone-aware DatetimeIndex with a timezone-naive datetime is deprecated and will raise KeyError in a future version. Use a timezone-aware object instead.\n",
      "  m6 = max.truncate(before=pd.Timestamp('today') - pd.DateOffset(months=6))\n",
      "<ipython-input-1-d5b62f59ed62>:49: FutureWarning: Indexing a timezone-aware DatetimeIndex with a timezone-naive datetime is deprecated and will raise KeyError in a future version. Use a timezone-aware object instead.\n",
      "  m3 = max.truncate(before=pd.Timestamp('today') - pd.DateOffset(months=3))\n",
      "<ipython-input-1-d5b62f59ed62>:50: FutureWarning: Indexing a timezone-aware DatetimeIndex with a timezone-naive datetime is deprecated and will raise KeyError in a future version. Use a timezone-aware object instead.\n",
      "  m1 = max.truncate(before=pd.Timestamp('today') - pd.DateOffset(months=1))\n",
      "<ipython-input-1-d5b62f59ed62>:103: FutureWarning: The frame.append method is deprecated and will be removed from pandas in a future version. Use pandas.concat instead.\n",
      "  final = final.append(\n"
     ]
    },
    {
     "name": "stdout",
     "output_type": "stream",
     "text": [
      "0.2084724151614481\n",
      "0.3074156690852585\n",
      "0.3993416462977096\n",
      "0.44210415115358903\n",
      "0.4808259649079527\n",
      "Producing data for:  ARR.PRA\n",
      "Got error from yahoo api for ticker ARR.PRA, Error: {'code': 'Not Found', 'description': 'No data found, symbol may be delisted'}\n",
      "- ARR.PRA: No timezone found, symbol may be delisted\n",
      "Got error from yahoo api for ticker ARR.PRA, Error: {'code': 'Not Found', 'description': 'No data found, symbol may be delisted'}\n",
      "- ARR.PRA: No timezone found, symbol may be delisted\n",
      "Producing data for:  ARR.PRB\n",
      "Got error from yahoo api for ticker ARR.PRB, Error: {'code': 'Not Found', 'description': 'No data found, symbol may be delisted'}\n",
      "- ARR.PRB: No timezone found, symbol may be delisted\n",
      "Got error from yahoo api for ticker ARR.PRB, Error: {'code': 'Not Found', 'description': 'No data found, symbol may be delisted'}\n",
      "- ARR.PRB: No timezone found, symbol may be delisted\n",
      "Producing data for:  AFI\n",
      "Got error from yahoo api for ticker AFI, Error: {'code': 'Not Found', 'description': 'No data found, symbol may be delisted'}\n",
      "- AFI: No timezone found, symbol may be delisted\n",
      "Got error from yahoo api for ticker AFI, Error: {'code': 'Not Found', 'description': 'No data found, symbol may be delisted'}\n",
      "- AFI: No timezone found, symbol may be delisted\n",
      "Producing data for:  AWI\n"
     ]
    },
    {
     "name": "stderr",
     "output_type": "stream",
     "text": [
      "<ipython-input-1-d5b62f59ed62>:47: FutureWarning: Indexing a timezone-aware DatetimeIndex with a timezone-naive datetime is deprecated and will raise KeyError in a future version. Use a timezone-aware object instead.\n",
      "  y = max.truncate(before=pd.Timestamp('today') - pd.DateOffset(months=12))\n",
      "<ipython-input-1-d5b62f59ed62>:48: FutureWarning: Indexing a timezone-aware DatetimeIndex with a timezone-naive datetime is deprecated and will raise KeyError in a future version. Use a timezone-aware object instead.\n",
      "  m6 = max.truncate(before=pd.Timestamp('today') - pd.DateOffset(months=6))\n",
      "<ipython-input-1-d5b62f59ed62>:49: FutureWarning: Indexing a timezone-aware DatetimeIndex with a timezone-naive datetime is deprecated and will raise KeyError in a future version. Use a timezone-aware object instead.\n",
      "  m3 = max.truncate(before=pd.Timestamp('today') - pd.DateOffset(months=3))\n",
      "<ipython-input-1-d5b62f59ed62>:50: FutureWarning: Indexing a timezone-aware DatetimeIndex with a timezone-naive datetime is deprecated and will raise KeyError in a future version. Use a timezone-aware object instead.\n",
      "  m1 = max.truncate(before=pd.Timestamp('today') - pd.DateOffset(months=1))\n",
      "<ipython-input-1-d5b62f59ed62>:103: FutureWarning: The frame.append method is deprecated and will be removed from pandas in a future version. Use pandas.concat instead.\n",
      "  final = final.append(\n"
     ]
    },
    {
     "name": "stdout",
     "output_type": "stream",
     "text": [
      "0.18804487363273384\n",
      "0.2797526659698967\n",
      "0.3726649358549413\n",
      "0.41107424001664505\n",
      "0.4450189362701679\n",
      "Producing data for:  ARW\n",
      "ARW: No data found for this date range, symbol may be delisted\n",
      "Producing data for:  AJG\n"
     ]
    },
    {
     "name": "stderr",
     "output_type": "stream",
     "text": [
      "<ipython-input-1-d5b62f59ed62>:47: FutureWarning: Indexing a timezone-aware DatetimeIndex with a timezone-naive datetime is deprecated and will raise KeyError in a future version. Use a timezone-aware object instead.\n",
      "  y = max.truncate(before=pd.Timestamp('today') - pd.DateOffset(months=12))\n",
      "<ipython-input-1-d5b62f59ed62>:48: FutureWarning: Indexing a timezone-aware DatetimeIndex with a timezone-naive datetime is deprecated and will raise KeyError in a future version. Use a timezone-aware object instead.\n",
      "  m6 = max.truncate(before=pd.Timestamp('today') - pd.DateOffset(months=6))\n",
      "<ipython-input-1-d5b62f59ed62>:49: FutureWarning: Indexing a timezone-aware DatetimeIndex with a timezone-naive datetime is deprecated and will raise KeyError in a future version. Use a timezone-aware object instead.\n",
      "  m3 = max.truncate(before=pd.Timestamp('today') - pd.DateOffset(months=3))\n",
      "<ipython-input-1-d5b62f59ed62>:50: FutureWarning: Indexing a timezone-aware DatetimeIndex with a timezone-naive datetime is deprecated and will raise KeyError in a future version. Use a timezone-aware object instead.\n",
      "  m1 = max.truncate(before=pd.Timestamp('today') - pd.DateOffset(months=1))\n",
      "<ipython-input-1-d5b62f59ed62>:47: FutureWarning: Indexing a timezone-aware DatetimeIndex with a timezone-naive datetime is deprecated and will raise KeyError in a future version. Use a timezone-aware object instead.\n",
      "  y = max.truncate(before=pd.Timestamp('today') - pd.DateOffset(months=12))\n",
      "<ipython-input-1-d5b62f59ed62>:48: FutureWarning: Indexing a timezone-aware DatetimeIndex with a timezone-naive datetime is deprecated and will raise KeyError in a future version. Use a timezone-aware object instead.\n",
      "  m6 = max.truncate(before=pd.Timestamp('today') - pd.DateOffset(months=6))\n",
      "<ipython-input-1-d5b62f59ed62>:49: FutureWarning: Indexing a timezone-aware DatetimeIndex with a timezone-naive datetime is deprecated and will raise KeyError in a future version. Use a timezone-aware object instead.\n",
      "  m3 = max.truncate(before=pd.Timestamp('today') - pd.DateOffset(months=3))\n",
      "<ipython-input-1-d5b62f59ed62>:50: FutureWarning: Indexing a timezone-aware DatetimeIndex with a timezone-naive datetime is deprecated and will raise KeyError in a future version. Use a timezone-aware object instead.\n",
      "  m1 = max.truncate(before=pd.Timestamp('today') - pd.DateOffset(months=1))\n",
      "<ipython-input-1-d5b62f59ed62>:103: FutureWarning: The frame.append method is deprecated and will be removed from pandas in a future version. Use pandas.concat instead.\n",
      "  final = final.append(\n"
     ]
    },
    {
     "name": "stdout",
     "output_type": "stream",
     "text": [
      "0.20068937058311428\n",
      "0.28152042404968985\n",
      "0.3776396968002194\n",
      "0.43298688354446674\n",
      "0.49268514834216637\n",
      "Producing data for:  APAM\n"
     ]
    },
    {
     "name": "stderr",
     "output_type": "stream",
     "text": [
      "<ipython-input-1-d5b62f59ed62>:47: FutureWarning: Indexing a timezone-aware DatetimeIndex with a timezone-naive datetime is deprecated and will raise KeyError in a future version. Use a timezone-aware object instead.\n",
      "  y = max.truncate(before=pd.Timestamp('today') - pd.DateOffset(months=12))\n",
      "<ipython-input-1-d5b62f59ed62>:48: FutureWarning: Indexing a timezone-aware DatetimeIndex with a timezone-naive datetime is deprecated and will raise KeyError in a future version. Use a timezone-aware object instead.\n",
      "  m6 = max.truncate(before=pd.Timestamp('today') - pd.DateOffset(months=6))\n",
      "<ipython-input-1-d5b62f59ed62>:49: FutureWarning: Indexing a timezone-aware DatetimeIndex with a timezone-naive datetime is deprecated and will raise KeyError in a future version. Use a timezone-aware object instead.\n",
      "  m3 = max.truncate(before=pd.Timestamp('today') - pd.DateOffset(months=3))\n",
      "<ipython-input-1-d5b62f59ed62>:50: FutureWarning: Indexing a timezone-aware DatetimeIndex with a timezone-naive datetime is deprecated and will raise KeyError in a future version. Use a timezone-aware object instead.\n",
      "  m1 = max.truncate(before=pd.Timestamp('today') - pd.DateOffset(months=1))\n",
      "<ipython-input-1-d5b62f59ed62>:103: FutureWarning: The frame.append method is deprecated and will be removed from pandas in a future version. Use pandas.concat instead.\n",
      "  final = final.append(\n"
     ]
    },
    {
     "name": "stdout",
     "output_type": "stream",
     "text": [
      "0.18847164312647924\n",
      "0.2801419287832423\n",
      "0.3833153074487688\n",
      "0.43385890027045176\n",
      "0.47423225026597005\n",
      "Producing data for:  ASA\n"
     ]
    },
    {
     "name": "stderr",
     "output_type": "stream",
     "text": [
      "<ipython-input-1-d5b62f59ed62>:47: FutureWarning: Indexing a timezone-aware DatetimeIndex with a timezone-naive datetime is deprecated and will raise KeyError in a future version. Use a timezone-aware object instead.\n",
      "  y = max.truncate(before=pd.Timestamp('today') - pd.DateOffset(months=12))\n",
      "<ipython-input-1-d5b62f59ed62>:48: FutureWarning: Indexing a timezone-aware DatetimeIndex with a timezone-naive datetime is deprecated and will raise KeyError in a future version. Use a timezone-aware object instead.\n",
      "  m6 = max.truncate(before=pd.Timestamp('today') - pd.DateOffset(months=6))\n",
      "<ipython-input-1-d5b62f59ed62>:49: FutureWarning: Indexing a timezone-aware DatetimeIndex with a timezone-naive datetime is deprecated and will raise KeyError in a future version. Use a timezone-aware object instead.\n",
      "  m3 = max.truncate(before=pd.Timestamp('today') - pd.DateOffset(months=3))\n",
      "<ipython-input-1-d5b62f59ed62>:50: FutureWarning: Indexing a timezone-aware DatetimeIndex with a timezone-naive datetime is deprecated and will raise KeyError in a future version. Use a timezone-aware object instead.\n",
      "  m1 = max.truncate(before=pd.Timestamp('today') - pd.DateOffset(months=1))\n"
     ]
    },
    {
     "name": "stdout",
     "output_type": "stream",
     "text": [
      "0.19287657358191193\n",
      "0.289463483099426\n",
      "0.3843938293717577\n",
      "0.4309706653200971\n",
      "0.47570615011478956\n",
      "Producing data for:  ABG\n"
     ]
    },
    {
     "name": "stderr",
     "output_type": "stream",
     "text": [
      "<ipython-input-1-d5b62f59ed62>:103: FutureWarning: The frame.append method is deprecated and will be removed from pandas in a future version. Use pandas.concat instead.\n",
      "  final = final.append(\n",
      "<ipython-input-1-d5b62f59ed62>:47: FutureWarning: Indexing a timezone-aware DatetimeIndex with a timezone-naive datetime is deprecated and will raise KeyError in a future version. Use a timezone-aware object instead.\n",
      "  y = max.truncate(before=pd.Timestamp('today') - pd.DateOffset(months=12))\n",
      "<ipython-input-1-d5b62f59ed62>:48: FutureWarning: Indexing a timezone-aware DatetimeIndex with a timezone-naive datetime is deprecated and will raise KeyError in a future version. Use a timezone-aware object instead.\n",
      "  m6 = max.truncate(before=pd.Timestamp('today') - pd.DateOffset(months=6))\n",
      "<ipython-input-1-d5b62f59ed62>:49: FutureWarning: Indexing a timezone-aware DatetimeIndex with a timezone-naive datetime is deprecated and will raise KeyError in a future version. Use a timezone-aware object instead.\n",
      "  m3 = max.truncate(before=pd.Timestamp('today') - pd.DateOffset(months=3))\n",
      "<ipython-input-1-d5b62f59ed62>:50: FutureWarning: Indexing a timezone-aware DatetimeIndex with a timezone-naive datetime is deprecated and will raise KeyError in a future version. Use a timezone-aware object instead.\n",
      "  m1 = max.truncate(before=pd.Timestamp('today') - pd.DateOffset(months=1))\n",
      "<ipython-input-1-d5b62f59ed62>:103: FutureWarning: The frame.append method is deprecated and will be removed from pandas in a future version. Use pandas.concat instead.\n",
      "  final = final.append(\n"
     ]
    },
    {
     "name": "stdout",
     "output_type": "stream",
     "text": [
      "0.19051860216244157\n",
      "0.2755571540055107\n",
      "0.36509155410433225\n",
      "0.40782946158677746\n",
      "0.448509633398257\n",
      "Producing data for:  AHP\n",
      "AHP: 1d data not available for startTime=-2208994789 and endTime=1673327997. Only 100 years worth of day granularity data are allowed to be fetched per request.\n",
      "AHP: 1d data not available for startTime=-2208994789 and endTime=1673327997. Only 100 years worth of day granularity data are allowed to be fetched per request.\n",
      "Producing data for:  AHT\n"
     ]
    },
    {
     "name": "stderr",
     "output_type": "stream",
     "text": [
      "<ipython-input-1-d5b62f59ed62>:47: FutureWarning: Indexing a timezone-aware DatetimeIndex with a timezone-naive datetime is deprecated and will raise KeyError in a future version. Use a timezone-aware object instead.\n",
      "  y = max.truncate(before=pd.Timestamp('today') - pd.DateOffset(months=12))\n",
      "<ipython-input-1-d5b62f59ed62>:48: FutureWarning: Indexing a timezone-aware DatetimeIndex with a timezone-naive datetime is deprecated and will raise KeyError in a future version. Use a timezone-aware object instead.\n",
      "  m6 = max.truncate(before=pd.Timestamp('today') - pd.DateOffset(months=6))\n",
      "<ipython-input-1-d5b62f59ed62>:49: FutureWarning: Indexing a timezone-aware DatetimeIndex with a timezone-naive datetime is deprecated and will raise KeyError in a future version. Use a timezone-aware object instead.\n",
      "  m3 = max.truncate(before=pd.Timestamp('today') - pd.DateOffset(months=3))\n",
      "<ipython-input-1-d5b62f59ed62>:50: FutureWarning: Indexing a timezone-aware DatetimeIndex with a timezone-naive datetime is deprecated and will raise KeyError in a future version. Use a timezone-aware object instead.\n",
      "  m1 = max.truncate(before=pd.Timestamp('today') - pd.DateOffset(months=1))\n",
      "<ipython-input-1-d5b62f59ed62>:103: FutureWarning: The frame.append method is deprecated and will be removed from pandas in a future version. Use pandas.concat instead.\n",
      "  final = final.append(\n"
     ]
    },
    {
     "name": "stdout",
     "output_type": "stream",
     "text": [
      "0.200192778978683\n",
      "0.2977948361328068\n",
      "0.40040903122319826\n",
      "0.45480001105657797\n",
      "0.5071643131798081\n",
      "Producing data for:  AHT.PRA\n",
      "Got error from yahoo api for ticker AHT.PRA, Error: {'code': 'Not Found', 'description': 'No data found, symbol may be delisted'}\n",
      "- AHT.PRA: No timezone found, symbol may be delisted\n",
      "Got error from yahoo api for ticker AHT.PRA, Error: {'code': 'Not Found', 'description': 'No data found, symbol may be delisted'}\n",
      "- AHT.PRA: No timezone found, symbol may be delisted\n",
      "Producing data for:  AHT.PRB\n",
      "Got error from yahoo api for ticker AHT.PRB, Error: {'code': 'Not Found', 'description': 'No data found, symbol may be delisted'}\n",
      "- AHT.PRB: No timezone found, symbol may be delisted\n",
      "Got error from yahoo api for ticker AHT.PRB, Error: {'code': 'Not Found', 'description': 'No data found, symbol may be delisted'}\n",
      "- AHT.PRB: No timezone found, symbol may be delisted\n",
      "Producing data for:  AHT.PRD\n",
      "Got error from yahoo api for ticker AHT.PRD, Error: {'code': 'Not Found', 'description': 'No data found, symbol may be delisted'}\n",
      "- AHT.PRD: No timezone found, symbol may be delisted\n",
      "Got error from yahoo api for ticker AHT.PRD, Error: {'code': 'Not Found', 'description': 'No data found, symbol may be delisted'}\n",
      "- AHT.PRD: No timezone found, symbol may be delisted\n",
      "Producing data for:  AHT.PRF\n",
      "Got error from yahoo api for ticker AHT.PRF, Error: {'code': 'Not Found', 'description': 'No data found, symbol may be delisted'}\n",
      "- AHT.PRF: No timezone found, symbol may be delisted\n",
      "Got error from yahoo api for ticker AHT.PRF, Error: {'code': 'Not Found', 'description': 'No data found, symbol may be delisted'}\n",
      "- AHT.PRF: No timezone found, symbol may be delisted\n",
      "Producing data for:  AHT.PRG\n",
      "Got error from yahoo api for ticker AHT.PRG, Error: {'code': 'Not Found', 'description': 'No data found, symbol may be delisted'}\n",
      "- AHT.PRG: No timezone found, symbol may be delisted\n",
      "Got error from yahoo api for ticker AHT.PRG, Error: {'code': 'Not Found', 'description': 'No data found, symbol may be delisted'}\n",
      "- AHT.PRG: No timezone found, symbol may be delisted\n",
      "Producing data for:  ASH\n"
     ]
    },
    {
     "name": "stderr",
     "output_type": "stream",
     "text": [
      "<ipython-input-1-d5b62f59ed62>:47: FutureWarning: Indexing a timezone-aware DatetimeIndex with a timezone-naive datetime is deprecated and will raise KeyError in a future version. Use a timezone-aware object instead.\n",
      "  y = max.truncate(before=pd.Timestamp('today') - pd.DateOffset(months=12))\n",
      "<ipython-input-1-d5b62f59ed62>:48: FutureWarning: Indexing a timezone-aware DatetimeIndex with a timezone-naive datetime is deprecated and will raise KeyError in a future version. Use a timezone-aware object instead.\n",
      "  m6 = max.truncate(before=pd.Timestamp('today') - pd.DateOffset(months=6))\n",
      "<ipython-input-1-d5b62f59ed62>:49: FutureWarning: Indexing a timezone-aware DatetimeIndex with a timezone-naive datetime is deprecated and will raise KeyError in a future version. Use a timezone-aware object instead.\n",
      "  m3 = max.truncate(before=pd.Timestamp('today') - pd.DateOffset(months=3))\n",
      "<ipython-input-1-d5b62f59ed62>:50: FutureWarning: Indexing a timezone-aware DatetimeIndex with a timezone-naive datetime is deprecated and will raise KeyError in a future version. Use a timezone-aware object instead.\n",
      "  m1 = max.truncate(before=pd.Timestamp('today') - pd.DateOffset(months=1))\n"
     ]
    },
    {
     "name": "stdout",
     "output_type": "stream",
     "text": [
      "0.19437517192945916\n",
      "0.27544460668400084\n",
      "0.3533943138506107\n",
      "0.3949802923625233\n",
      "0.434861079540822\n",
      "Producing data for:  APB\n"
     ]
    },
    {
     "name": "stderr",
     "output_type": "stream",
     "text": [
      "<ipython-input-1-d5b62f59ed62>:103: FutureWarning: The frame.append method is deprecated and will be removed from pandas in a future version. Use pandas.concat instead.\n",
      "  final = final.append(\n",
      "<ipython-input-1-d5b62f59ed62>:47: FutureWarning: Indexing a timezone-aware DatetimeIndex with a timezone-naive datetime is deprecated and will raise KeyError in a future version. Use a timezone-aware object instead.\n",
      "  y = max.truncate(before=pd.Timestamp('today') - pd.DateOffset(months=12))\n",
      "<ipython-input-1-d5b62f59ed62>:48: FutureWarning: Indexing a timezone-aware DatetimeIndex with a timezone-naive datetime is deprecated and will raise KeyError in a future version. Use a timezone-aware object instead.\n",
      "  m6 = max.truncate(before=pd.Timestamp('today') - pd.DateOffset(months=6))\n",
      "<ipython-input-1-d5b62f59ed62>:49: FutureWarning: Indexing a timezone-aware DatetimeIndex with a timezone-naive datetime is deprecated and will raise KeyError in a future version. Use a timezone-aware object instead.\n",
      "  m3 = max.truncate(before=pd.Timestamp('today') - pd.DateOffset(months=3))\n",
      "<ipython-input-1-d5b62f59ed62>:50: FutureWarning: Indexing a timezone-aware DatetimeIndex with a timezone-naive datetime is deprecated and will raise KeyError in a future version. Use a timezone-aware object instead.\n",
      "  m1 = max.truncate(before=pd.Timestamp('today') - pd.DateOffset(months=1))\n"
     ]
    },
    {
     "name": "stdout",
     "output_type": "stream",
     "text": [
      "Producing data for:  GRR\n"
     ]
    },
    {
     "name": "stderr",
     "output_type": "stream",
     "text": [
      "<ipython-input-1-d5b62f59ed62>:47: FutureWarning: Indexing a timezone-aware DatetimeIndex with a timezone-naive datetime is deprecated and will raise KeyError in a future version. Use a timezone-aware object instead.\n",
      "  y = max.truncate(before=pd.Timestamp('today') - pd.DateOffset(months=12))\n",
      "<ipython-input-1-d5b62f59ed62>:48: FutureWarning: Indexing a timezone-aware DatetimeIndex with a timezone-naive datetime is deprecated and will raise KeyError in a future version. Use a timezone-aware object instead.\n",
      "  m6 = max.truncate(before=pd.Timestamp('today') - pd.DateOffset(months=6))\n",
      "<ipython-input-1-d5b62f59ed62>:49: FutureWarning: Indexing a timezone-aware DatetimeIndex with a timezone-naive datetime is deprecated and will raise KeyError in a future version. Use a timezone-aware object instead.\n",
      "  m3 = max.truncate(before=pd.Timestamp('today') - pd.DateOffset(months=3))\n",
      "<ipython-input-1-d5b62f59ed62>:50: FutureWarning: Indexing a timezone-aware DatetimeIndex with a timezone-naive datetime is deprecated and will raise KeyError in a future version. Use a timezone-aware object instead.\n",
      "  m1 = max.truncate(before=pd.Timestamp('today') - pd.DateOffset(months=1))\n"
     ]
    },
    {
     "name": "stdout",
     "output_type": "stream",
     "text": [
      "Producing data for:  ASPN\n"
     ]
    },
    {
     "name": "stderr",
     "output_type": "stream",
     "text": [
      "<ipython-input-1-d5b62f59ed62>:47: FutureWarning: Indexing a timezone-aware DatetimeIndex with a timezone-naive datetime is deprecated and will raise KeyError in a future version. Use a timezone-aware object instead.\n",
      "  y = max.truncate(before=pd.Timestamp('today') - pd.DateOffset(months=12))\n",
      "<ipython-input-1-d5b62f59ed62>:48: FutureWarning: Indexing a timezone-aware DatetimeIndex with a timezone-naive datetime is deprecated and will raise KeyError in a future version. Use a timezone-aware object instead.\n",
      "  m6 = max.truncate(before=pd.Timestamp('today') - pd.DateOffset(months=6))\n",
      "<ipython-input-1-d5b62f59ed62>:49: FutureWarning: Indexing a timezone-aware DatetimeIndex with a timezone-naive datetime is deprecated and will raise KeyError in a future version. Use a timezone-aware object instead.\n",
      "  m3 = max.truncate(before=pd.Timestamp('today') - pd.DateOffset(months=3))\n",
      "<ipython-input-1-d5b62f59ed62>:50: FutureWarning: Indexing a timezone-aware DatetimeIndex with a timezone-naive datetime is deprecated and will raise KeyError in a future version. Use a timezone-aware object instead.\n",
      "  m1 = max.truncate(before=pd.Timestamp('today') - pd.DateOffset(months=1))\n",
      "<ipython-input-1-d5b62f59ed62>:103: FutureWarning: The frame.append method is deprecated and will be removed from pandas in a future version. Use pandas.concat instead.\n",
      "  final = final.append(\n"
     ]
    },
    {
     "name": "stdout",
     "output_type": "stream",
     "text": [
      "0.22114106337816844\n",
      "0.3405749102694855\n",
      "0.4516975785612062\n",
      "0.4933331259511611\n",
      "0.5236614543566206\n",
      "Producing data for:  AHL\n"
     ]
    },
    {
     "name": "stderr",
     "output_type": "stream",
     "text": [
      "<ipython-input-1-d5b62f59ed62>:47: FutureWarning: Indexing a timezone-aware DatetimeIndex with a timezone-naive datetime is deprecated and will raise KeyError in a future version. Use a timezone-aware object instead.\n",
      "  y = max.truncate(before=pd.Timestamp('today') - pd.DateOffset(months=12))\n",
      "<ipython-input-1-d5b62f59ed62>:48: FutureWarning: Indexing a timezone-aware DatetimeIndex with a timezone-naive datetime is deprecated and will raise KeyError in a future version. Use a timezone-aware object instead.\n",
      "  m6 = max.truncate(before=pd.Timestamp('today') - pd.DateOffset(months=6))\n",
      "<ipython-input-1-d5b62f59ed62>:49: FutureWarning: Indexing a timezone-aware DatetimeIndex with a timezone-naive datetime is deprecated and will raise KeyError in a future version. Use a timezone-aware object instead.\n",
      "  m3 = max.truncate(before=pd.Timestamp('today') - pd.DateOffset(months=3))\n",
      "<ipython-input-1-d5b62f59ed62>:50: FutureWarning: Indexing a timezone-aware DatetimeIndex with a timezone-naive datetime is deprecated and will raise KeyError in a future version. Use a timezone-aware object instead.\n",
      "  m1 = max.truncate(before=pd.Timestamp('today') - pd.DateOffset(months=1))\n"
     ]
    },
    {
     "name": "stdout",
     "output_type": "stream",
     "text": [
      "Producing data for:  AHL.PRB\n",
      "Got error from yahoo api for ticker AHL.PRB, Error: {'code': 'Not Found', 'description': 'No data found, symbol may be delisted'}\n",
      "- AHL.PRB: No timezone found, symbol may be delisted\n",
      "Got error from yahoo api for ticker AHL.PRB, Error: {'code': 'Not Found', 'description': 'No data found, symbol may be delisted'}\n",
      "- AHL.PRB: No timezone found, symbol may be delisted\n",
      "Producing data for:  AHL.PRC\n",
      "Got error from yahoo api for ticker AHL.PRC, Error: {'code': 'Not Found', 'description': 'No data found, symbol may be delisted'}\n",
      "- AHL.PRC: No timezone found, symbol may be delisted\n",
      "Got error from yahoo api for ticker AHL.PRC, Error: {'code': 'Not Found', 'description': 'No data found, symbol may be delisted'}\n",
      "- AHL.PRC: No timezone found, symbol may be delisted\n",
      "Producing data for:  AHL.PRD\n",
      "Got error from yahoo api for ticker AHL.PRD, Error: {'code': 'Not Found', 'description': 'No data found, symbol may be delisted'}\n",
      "- AHL.PRD: No timezone found, symbol may be delisted\n",
      "Got error from yahoo api for ticker AHL.PRD, Error: {'code': 'Not Found', 'description': 'No data found, symbol may be delisted'}\n",
      "- AHL.PRD: No timezone found, symbol may be delisted\n",
      "Producing data for:  ASB\n"
     ]
    },
    {
     "name": "stderr",
     "output_type": "stream",
     "text": [
      "<ipython-input-1-d5b62f59ed62>:47: FutureWarning: Indexing a timezone-aware DatetimeIndex with a timezone-naive datetime is deprecated and will raise KeyError in a future version. Use a timezone-aware object instead.\n",
      "  y = max.truncate(before=pd.Timestamp('today') - pd.DateOffset(months=12))\n",
      "<ipython-input-1-d5b62f59ed62>:48: FutureWarning: Indexing a timezone-aware DatetimeIndex with a timezone-naive datetime is deprecated and will raise KeyError in a future version. Use a timezone-aware object instead.\n",
      "  m6 = max.truncate(before=pd.Timestamp('today') - pd.DateOffset(months=6))\n",
      "<ipython-input-1-d5b62f59ed62>:49: FutureWarning: Indexing a timezone-aware DatetimeIndex with a timezone-naive datetime is deprecated and will raise KeyError in a future version. Use a timezone-aware object instead.\n",
      "  m3 = max.truncate(before=pd.Timestamp('today') - pd.DateOffset(months=3))\n",
      "<ipython-input-1-d5b62f59ed62>:50: FutureWarning: Indexing a timezone-aware DatetimeIndex with a timezone-naive datetime is deprecated and will raise KeyError in a future version. Use a timezone-aware object instead.\n",
      "  m1 = max.truncate(before=pd.Timestamp('today') - pd.DateOffset(months=1))\n",
      "<ipython-input-1-d5b62f59ed62>:103: FutureWarning: The frame.append method is deprecated and will be removed from pandas in a future version. Use pandas.concat instead.\n",
      "  final = final.append(\n"
     ]
    },
    {
     "name": "stdout",
     "output_type": "stream",
     "text": [
      "0.17882208728123294\n",
      "0.2686385788480928\n",
      "0.3556249857165952\n",
      "0.40056661757087564\n",
      "0.44624477381586336\n",
      "Producing data for:  ASB.PRC\n",
      "Got error from yahoo api for ticker ASB.PRC, Error: {'code': 'Not Found', 'description': 'No data found, symbol may be delisted'}\n",
      "- ASB.PRC: No timezone found, symbol may be delisted\n",
      "Got error from yahoo api for ticker ASB.PRC, Error: {'code': 'Not Found', 'description': 'No data found, symbol may be delisted'}\n",
      "- ASB.PRC: No timezone found, symbol may be delisted\n",
      "Producing data for:  ASB.PRD\n",
      "Got error from yahoo api for ticker ASB.PRD, Error: {'code': 'Not Found', 'description': 'No data found, symbol may be delisted'}\n",
      "- ASB.PRD: No timezone found, symbol may be delisted\n",
      "Got error from yahoo api for ticker ASB.PRD, Error: {'code': 'Not Found', 'description': 'No data found, symbol may be delisted'}\n",
      "- ASB.PRD: No timezone found, symbol may be delisted\n",
      "Producing data for:  AC\n"
     ]
    },
    {
     "name": "stderr",
     "output_type": "stream",
     "text": [
      "<ipython-input-1-d5b62f59ed62>:47: FutureWarning: Indexing a timezone-aware DatetimeIndex with a timezone-naive datetime is deprecated and will raise KeyError in a future version. Use a timezone-aware object instead.\n",
      "  y = max.truncate(before=pd.Timestamp('today') - pd.DateOffset(months=12))\n",
      "<ipython-input-1-d5b62f59ed62>:48: FutureWarning: Indexing a timezone-aware DatetimeIndex with a timezone-naive datetime is deprecated and will raise KeyError in a future version. Use a timezone-aware object instead.\n",
      "  m6 = max.truncate(before=pd.Timestamp('today') - pd.DateOffset(months=6))\n",
      "<ipython-input-1-d5b62f59ed62>:49: FutureWarning: Indexing a timezone-aware DatetimeIndex with a timezone-naive datetime is deprecated and will raise KeyError in a future version. Use a timezone-aware object instead.\n",
      "  m3 = max.truncate(before=pd.Timestamp('today') - pd.DateOffset(months=3))\n",
      "<ipython-input-1-d5b62f59ed62>:50: FutureWarning: Indexing a timezone-aware DatetimeIndex with a timezone-naive datetime is deprecated and will raise KeyError in a future version. Use a timezone-aware object instead.\n",
      "  m1 = max.truncate(before=pd.Timestamp('today') - pd.DateOffset(months=1))\n"
     ]
    },
    {
     "name": "stdout",
     "output_type": "stream",
     "text": [
      "0.14246370399331185\n",
      "0.18405013904850587\n",
      "0.2157131438516211\n",
      "0.23045856086881822\n",
      "0.24315530938423646\n",
      "Producing data for:  AIZ\n"
     ]
    },
    {
     "name": "stderr",
     "output_type": "stream",
     "text": [
      "<ipython-input-1-d5b62f59ed62>:103: FutureWarning: The frame.append method is deprecated and will be removed from pandas in a future version. Use pandas.concat instead.\n",
      "  final = final.append(\n",
      "<ipython-input-1-d5b62f59ed62>:47: FutureWarning: Indexing a timezone-aware DatetimeIndex with a timezone-naive datetime is deprecated and will raise KeyError in a future version. Use a timezone-aware object instead.\n",
      "  y = max.truncate(before=pd.Timestamp('today') - pd.DateOffset(months=12))\n",
      "<ipython-input-1-d5b62f59ed62>:48: FutureWarning: Indexing a timezone-aware DatetimeIndex with a timezone-naive datetime is deprecated and will raise KeyError in a future version. Use a timezone-aware object instead.\n",
      "  m6 = max.truncate(before=pd.Timestamp('today') - pd.DateOffset(months=6))\n",
      "<ipython-input-1-d5b62f59ed62>:49: FutureWarning: Indexing a timezone-aware DatetimeIndex with a timezone-naive datetime is deprecated and will raise KeyError in a future version. Use a timezone-aware object instead.\n",
      "  m3 = max.truncate(before=pd.Timestamp('today') - pd.DateOffset(months=3))\n",
      "<ipython-input-1-d5b62f59ed62>:50: FutureWarning: Indexing a timezone-aware DatetimeIndex with a timezone-naive datetime is deprecated and will raise KeyError in a future version. Use a timezone-aware object instead.\n",
      "  m1 = max.truncate(before=pd.Timestamp('today') - pd.DateOffset(months=1))\n"
     ]
    },
    {
     "name": "stdout",
     "output_type": "stream",
     "text": [
      "0.1921220278464365\n",
      "0.29070579502167093\n",
      "0.3736302644218178\n",
      "0.41286913230502387\n",
      "0.4517967810811053\n",
      "Producing data for:  AGO\n"
     ]
    },
    {
     "name": "stderr",
     "output_type": "stream",
     "text": [
      "<ipython-input-1-d5b62f59ed62>:103: FutureWarning: The frame.append method is deprecated and will be removed from pandas in a future version. Use pandas.concat instead.\n",
      "  final = final.append(\n",
      "<ipython-input-1-d5b62f59ed62>:47: FutureWarning: Indexing a timezone-aware DatetimeIndex with a timezone-naive datetime is deprecated and will raise KeyError in a future version. Use a timezone-aware object instead.\n",
      "  y = max.truncate(before=pd.Timestamp('today') - pd.DateOffset(months=12))\n",
      "<ipython-input-1-d5b62f59ed62>:48: FutureWarning: Indexing a timezone-aware DatetimeIndex with a timezone-naive datetime is deprecated and will raise KeyError in a future version. Use a timezone-aware object instead.\n",
      "  m6 = max.truncate(before=pd.Timestamp('today') - pd.DateOffset(months=6))\n",
      "<ipython-input-1-d5b62f59ed62>:49: FutureWarning: Indexing a timezone-aware DatetimeIndex with a timezone-naive datetime is deprecated and will raise KeyError in a future version. Use a timezone-aware object instead.\n",
      "  m3 = max.truncate(before=pd.Timestamp('today') - pd.DateOffset(months=3))\n",
      "<ipython-input-1-d5b62f59ed62>:50: FutureWarning: Indexing a timezone-aware DatetimeIndex with a timezone-naive datetime is deprecated and will raise KeyError in a future version. Use a timezone-aware object instead.\n",
      "  m1 = max.truncate(before=pd.Timestamp('today') - pd.DateOffset(months=1))\n",
      "<ipython-input-1-d5b62f59ed62>:103: FutureWarning: The frame.append method is deprecated and will be removed from pandas in a future version. Use pandas.concat instead.\n",
      "  final = final.append(\n"
     ]
    },
    {
     "name": "stdout",
     "output_type": "stream",
     "text": [
      "0.18902183431273378\n",
      "0.28124700760570626\n",
      "0.3743956284541702\n",
      "0.41692852482538667\n",
      "0.4482531535899531\n",
      "Producing data for:  AGO.PRB\n",
      "Got error from yahoo api for ticker AGO.PRB, Error: {'code': 'Not Found', 'description': 'No data found, symbol may be delisted'}\n",
      "- AGO.PRB: No timezone found, symbol may be delisted\n",
      "Got error from yahoo api for ticker AGO.PRB, Error: {'code': 'Not Found', 'description': 'No data found, symbol may be delisted'}\n",
      "- AGO.PRB: No timezone found, symbol may be delisted\n",
      "Producing data for:  AGO.PRE\n",
      "Got error from yahoo api for ticker AGO.PRE, Error: {'code': 'Not Found', 'description': 'No data found, symbol may be delisted'}\n",
      "- AGO.PRE: No timezone found, symbol may be delisted\n",
      "Got error from yahoo api for ticker AGO.PRE, Error: {'code': 'Not Found', 'description': 'No data found, symbol may be delisted'}\n",
      "- AGO.PRE: No timezone found, symbol may be delisted\n",
      "Producing data for:  AGO.PRF\n",
      "Got error from yahoo api for ticker AGO.PRF, Error: {'code': 'Not Found', 'description': 'No data found, symbol may be delisted'}\n",
      "- AGO.PRF: No timezone found, symbol may be delisted\n",
      "Got error from yahoo api for ticker AGO.PRF, Error: {'code': 'Not Found', 'description': 'No data found, symbol may be delisted'}\n",
      "- AGO.PRF: No timezone found, symbol may be delisted\n",
      "Producing data for:  AF\n",
      "AF: 1d data not available for startTime=-2208994789 and endTime=1673328063. Only 100 years worth of day granularity data are allowed to be fetched per request.\n",
      "AF: 1d data not available for startTime=-2208994789 and endTime=1673328063. Only 100 years worth of day granularity data are allowed to be fetched per request.\n",
      "Producing data for:  AF.PRC\n",
      "Got error from yahoo api for ticker AF.PRC, Error: {'code': 'Not Found', 'description': 'No data found, symbol may be delisted'}\n",
      "- AF.PRC: No timezone found, symbol may be delisted\n",
      "Got error from yahoo api for ticker AF.PRC, Error: {'code': 'Not Found', 'description': 'No data found, symbol may be delisted'}\n",
      "- AF.PRC: No timezone found, symbol may be delisted\n",
      "Producing data for:  AZN\n"
     ]
    },
    {
     "name": "stderr",
     "output_type": "stream",
     "text": [
      "<ipython-input-1-d5b62f59ed62>:47: FutureWarning: Indexing a timezone-aware DatetimeIndex with a timezone-naive datetime is deprecated and will raise KeyError in a future version. Use a timezone-aware object instead.\n",
      "  y = max.truncate(before=pd.Timestamp('today') - pd.DateOffset(months=12))\n",
      "<ipython-input-1-d5b62f59ed62>:48: FutureWarning: Indexing a timezone-aware DatetimeIndex with a timezone-naive datetime is deprecated and will raise KeyError in a future version. Use a timezone-aware object instead.\n",
      "  m6 = max.truncate(before=pd.Timestamp('today') - pd.DateOffset(months=6))\n",
      "<ipython-input-1-d5b62f59ed62>:49: FutureWarning: Indexing a timezone-aware DatetimeIndex with a timezone-naive datetime is deprecated and will raise KeyError in a future version. Use a timezone-aware object instead.\n",
      "  m3 = max.truncate(before=pd.Timestamp('today') - pd.DateOffset(months=3))\n",
      "<ipython-input-1-d5b62f59ed62>:50: FutureWarning: Indexing a timezone-aware DatetimeIndex with a timezone-naive datetime is deprecated and will raise KeyError in a future version. Use a timezone-aware object instead.\n",
      "  m1 = max.truncate(before=pd.Timestamp('today') - pd.DateOffset(months=1))\n",
      "<ipython-input-1-d5b62f59ed62>:103: FutureWarning: The frame.append method is deprecated and will be removed from pandas in a future version. Use pandas.concat instead.\n",
      "  final = final.append(\n"
     ]
    },
    {
     "name": "stdout",
     "output_type": "stream",
     "text": [
      "0.18812296803882966\n",
      "0.26357576372251645\n",
      "0.331920825447461\n",
      "0.37082120976137645\n",
      "0.41655499703101495\n",
      "Producing data for:  T\n"
     ]
    },
    {
     "name": "stderr",
     "output_type": "stream",
     "text": [
      "<ipython-input-1-d5b62f59ed62>:47: FutureWarning: Indexing a timezone-aware DatetimeIndex with a timezone-naive datetime is deprecated and will raise KeyError in a future version. Use a timezone-aware object instead.\n",
      "  y = max.truncate(before=pd.Timestamp('today') - pd.DateOffset(months=12))\n",
      "<ipython-input-1-d5b62f59ed62>:48: FutureWarning: Indexing a timezone-aware DatetimeIndex with a timezone-naive datetime is deprecated and will raise KeyError in a future version. Use a timezone-aware object instead.\n",
      "  m6 = max.truncate(before=pd.Timestamp('today') - pd.DateOffset(months=6))\n",
      "<ipython-input-1-d5b62f59ed62>:49: FutureWarning: Indexing a timezone-aware DatetimeIndex with a timezone-naive datetime is deprecated and will raise KeyError in a future version. Use a timezone-aware object instead.\n",
      "  m3 = max.truncate(before=pd.Timestamp('today') - pd.DateOffset(months=3))\n",
      "<ipython-input-1-d5b62f59ed62>:50: FutureWarning: Indexing a timezone-aware DatetimeIndex with a timezone-naive datetime is deprecated and will raise KeyError in a future version. Use a timezone-aware object instead.\n",
      "  m1 = max.truncate(before=pd.Timestamp('today') - pd.DateOffset(months=1))\n"
     ]
    },
    {
     "name": "stdout",
     "output_type": "stream",
     "text": [
      "0.1842412402199739\n",
      "0.2692436543831082\n",
      "0.35034309536577435\n",
      "0.3903083355628503\n",
      "0.42855406177245864\n",
      "Producing data for:  HOME\n"
     ]
    },
    {
     "name": "stderr",
     "output_type": "stream",
     "text": [
      "<ipython-input-1-d5b62f59ed62>:103: FutureWarning: The frame.append method is deprecated and will be removed from pandas in a future version. Use pandas.concat instead.\n",
      "  final = final.append(\n"
     ]
    },
    {
     "name": "stdout",
     "output_type": "stream",
     "text": [
      "Got error from yahoo api for ticker HOME, Error: {'code': 'Not Found', 'description': 'No data found, symbol may be delisted'}\n",
      "- HOME: No timezone found, symbol may be delisted\n",
      "Got error from yahoo api for ticker HOME, Error: {'code': 'Not Found', 'description': 'No data found, symbol may be delisted'}\n",
      "- HOME: No timezone found, symbol may be delisted\n",
      "Producing data for:  ATTO\n"
     ]
    },
    {
     "name": "stderr",
     "output_type": "stream",
     "text": [
      "<ipython-input-1-d5b62f59ed62>:47: FutureWarning: Indexing a timezone-aware DatetimeIndex with a timezone-naive datetime is deprecated and will raise KeyError in a future version. Use a timezone-aware object instead.\n",
      "  y = max.truncate(before=pd.Timestamp('today') - pd.DateOffset(months=12))\n",
      "<ipython-input-1-d5b62f59ed62>:48: FutureWarning: Indexing a timezone-aware DatetimeIndex with a timezone-naive datetime is deprecated and will raise KeyError in a future version. Use a timezone-aware object instead.\n",
      "  m6 = max.truncate(before=pd.Timestamp('today') - pd.DateOffset(months=6))\n",
      "<ipython-input-1-d5b62f59ed62>:49: FutureWarning: Indexing a timezone-aware DatetimeIndex with a timezone-naive datetime is deprecated and will raise KeyError in a future version. Use a timezone-aware object instead.\n",
      "  m3 = max.truncate(before=pd.Timestamp('today') - pd.DateOffset(months=3))\n",
      "<ipython-input-1-d5b62f59ed62>:50: FutureWarning: Indexing a timezone-aware DatetimeIndex with a timezone-naive datetime is deprecated and will raise KeyError in a future version. Use a timezone-aware object instead.\n",
      "  m1 = max.truncate(before=pd.Timestamp('today') - pd.DateOffset(months=1))\n",
      "<ipython-input-1-d5b62f59ed62>:103: FutureWarning: The frame.append method is deprecated and will be removed from pandas in a future version. Use pandas.concat instead.\n",
      "  final = final.append(\n"
     ]
    },
    {
     "name": "stdout",
     "output_type": "stream",
     "text": [
      "0.1925632687009713\n",
      "0.2918246664656464\n",
      "0.39107212378470224\n",
      "0.4388234482749001\n",
      "0.4654294483352906\n",
      "Producing data for:  ATH\n",
      "Got error from yahoo api for ticker ATH, Error: {'code': 'Not Found', 'description': 'No data found, symbol may be delisted'}\n",
      "- ATH: No timezone found, symbol may be delisted\n",
      "Got error from yahoo api for ticker ATH, Error: {'code': 'Not Found', 'description': 'No data found, symbol may be delisted'}\n",
      "- ATH: No timezone found, symbol may be delisted\n",
      "Producing data for:  ATKR\n"
     ]
    },
    {
     "name": "stderr",
     "output_type": "stream",
     "text": [
      "<ipython-input-1-d5b62f59ed62>:47: FutureWarning: Indexing a timezone-aware DatetimeIndex with a timezone-naive datetime is deprecated and will raise KeyError in a future version. Use a timezone-aware object instead.\n",
      "  y = max.truncate(before=pd.Timestamp('today') - pd.DateOffset(months=12))\n",
      "<ipython-input-1-d5b62f59ed62>:48: FutureWarning: Indexing a timezone-aware DatetimeIndex with a timezone-naive datetime is deprecated and will raise KeyError in a future version. Use a timezone-aware object instead.\n",
      "  m6 = max.truncate(before=pd.Timestamp('today') - pd.DateOffset(months=6))\n",
      "<ipython-input-1-d5b62f59ed62>:49: FutureWarning: Indexing a timezone-aware DatetimeIndex with a timezone-naive datetime is deprecated and will raise KeyError in a future version. Use a timezone-aware object instead.\n",
      "  m3 = max.truncate(before=pd.Timestamp('today') - pd.DateOffset(months=3))\n",
      "<ipython-input-1-d5b62f59ed62>:50: FutureWarning: Indexing a timezone-aware DatetimeIndex with a timezone-naive datetime is deprecated and will raise KeyError in a future version. Use a timezone-aware object instead.\n",
      "  m1 = max.truncate(before=pd.Timestamp('today') - pd.DateOffset(months=1))\n",
      "<ipython-input-1-d5b62f59ed62>:103: FutureWarning: The frame.append method is deprecated and will be removed from pandas in a future version. Use pandas.concat instead.\n",
      "  final = final.append(\n"
     ]
    },
    {
     "name": "stdout",
     "output_type": "stream",
     "text": [
      "0.1869267115079768\n",
      "0.2748943972202713\n",
      "0.36456052628062874\n",
      "0.40873047420471054\n",
      "0.44666726269666995\n",
      "Producing data for:  AT\n",
      "Got error from yahoo api for ticker AT, Error: {'code': 'Not Found', 'description': 'No data found, symbol may be delisted'}\n",
      "- AT: No timezone found, symbol may be delisted\n",
      "Got error from yahoo api for ticker AT, Error: {'code': 'Not Found', 'description': 'No data found, symbol may be delisted'}\n",
      "- AT: No timezone found, symbol may be delisted\n",
      "Producing data for:  ATO\n"
     ]
    },
    {
     "name": "stderr",
     "output_type": "stream",
     "text": [
      "<ipython-input-1-d5b62f59ed62>:47: FutureWarning: Indexing a timezone-aware DatetimeIndex with a timezone-naive datetime is deprecated and will raise KeyError in a future version. Use a timezone-aware object instead.\n",
      "  y = max.truncate(before=pd.Timestamp('today') - pd.DateOffset(months=12))\n",
      "<ipython-input-1-d5b62f59ed62>:48: FutureWarning: Indexing a timezone-aware DatetimeIndex with a timezone-naive datetime is deprecated and will raise KeyError in a future version. Use a timezone-aware object instead.\n",
      "  m6 = max.truncate(before=pd.Timestamp('today') - pd.DateOffset(months=6))\n",
      "<ipython-input-1-d5b62f59ed62>:49: FutureWarning: Indexing a timezone-aware DatetimeIndex with a timezone-naive datetime is deprecated and will raise KeyError in a future version. Use a timezone-aware object instead.\n",
      "  m3 = max.truncate(before=pd.Timestamp('today') - pd.DateOffset(months=3))\n",
      "<ipython-input-1-d5b62f59ed62>:50: FutureWarning: Indexing a timezone-aware DatetimeIndex with a timezone-naive datetime is deprecated and will raise KeyError in a future version. Use a timezone-aware object instead.\n",
      "  m1 = max.truncate(before=pd.Timestamp('today') - pd.DateOffset(months=1))\n"
     ]
    },
    {
     "name": "stdout",
     "output_type": "stream",
     "text": [
      "0.17337539588740003\n",
      "0.24765238560496416\n",
      "0.32674114102562274\n",
      "0.36885549052553745\n",
      "0.41714177779480877"
     ]
    },
    {
     "name": "stderr",
     "output_type": "stream",
     "text": [
      "<ipython-input-1-d5b62f59ed62>:103: FutureWarning: The frame.append method is deprecated and will be removed from pandas in a future version. Use pandas.concat instead.\n",
      "  final = final.append(\n"
     ]
    },
    {
     "name": "stdout",
     "output_type": "stream",
     "text": [
      "\n",
      "Producing data for:  AUO\n",
      "Got error from yahoo api for ticker AUO, Error: {'code': 'Not Found', 'description': 'No data found, symbol may be delisted'}\n",
      "- AUO: No timezone found, symbol may be delisted\n",
      "Got error from yahoo api for ticker AUO, Error: {'code': 'Not Found', 'description': 'No data found, symbol may be delisted'}\n",
      "- AUO: No timezone found, symbol may be delisted\n",
      "Producing data for:  AUD\n"
     ]
    },
    {
     "name": "stderr",
     "output_type": "stream",
     "text": [
      "<ipython-input-1-d5b62f59ed62>:47: FutureWarning: Indexing a timezone-aware DatetimeIndex with a timezone-naive datetime is deprecated and will raise KeyError in a future version. Use a timezone-aware object instead.\n",
      "  y = max.truncate(before=pd.Timestamp('today') - pd.DateOffset(months=12))\n",
      "<ipython-input-1-d5b62f59ed62>:48: FutureWarning: Indexing a timezone-aware DatetimeIndex with a timezone-naive datetime is deprecated and will raise KeyError in a future version. Use a timezone-aware object instead.\n",
      "  m6 = max.truncate(before=pd.Timestamp('today') - pd.DateOffset(months=6))\n",
      "<ipython-input-1-d5b62f59ed62>:49: FutureWarning: Indexing a timezone-aware DatetimeIndex with a timezone-naive datetime is deprecated and will raise KeyError in a future version. Use a timezone-aware object instead.\n",
      "  m3 = max.truncate(before=pd.Timestamp('today') - pd.DateOffset(months=3))\n",
      "<ipython-input-1-d5b62f59ed62>:50: FutureWarning: Indexing a timezone-aware DatetimeIndex with a timezone-naive datetime is deprecated and will raise KeyError in a future version. Use a timezone-aware object instead.\n",
      "  m1 = max.truncate(before=pd.Timestamp('today') - pd.DateOffset(months=1))\n",
      "<ipython-input-1-d5b62f59ed62>:103: FutureWarning: The frame.append method is deprecated and will be removed from pandas in a future version. Use pandas.concat instead.\n",
      "  final = final.append(\n"
     ]
    },
    {
     "name": "stdout",
     "output_type": "stream",
     "text": [
      "0.1777853987499589\n",
      "0.2689246650323074\n",
      "0.34445874279563776\n",
      "0.3793591319795752\n",
      "0.4137808762126104\n",
      "Producing data for:  ATHM\n"
     ]
    },
    {
     "name": "stderr",
     "output_type": "stream",
     "text": [
      "<ipython-input-1-d5b62f59ed62>:47: FutureWarning: Indexing a timezone-aware DatetimeIndex with a timezone-naive datetime is deprecated and will raise KeyError in a future version. Use a timezone-aware object instead.\n",
      "  y = max.truncate(before=pd.Timestamp('today') - pd.DateOffset(months=12))\n",
      "<ipython-input-1-d5b62f59ed62>:48: FutureWarning: Indexing a timezone-aware DatetimeIndex with a timezone-naive datetime is deprecated and will raise KeyError in a future version. Use a timezone-aware object instead.\n",
      "  m6 = max.truncate(before=pd.Timestamp('today') - pd.DateOffset(months=6))\n",
      "<ipython-input-1-d5b62f59ed62>:49: FutureWarning: Indexing a timezone-aware DatetimeIndex with a timezone-naive datetime is deprecated and will raise KeyError in a future version. Use a timezone-aware object instead.\n",
      "  m3 = max.truncate(before=pd.Timestamp('today') - pd.DateOffset(months=3))\n",
      "<ipython-input-1-d5b62f59ed62>:50: FutureWarning: Indexing a timezone-aware DatetimeIndex with a timezone-naive datetime is deprecated and will raise KeyError in a future version. Use a timezone-aware object instead.\n",
      "  m1 = max.truncate(before=pd.Timestamp('today') - pd.DateOffset(months=1))\n"
     ]
    },
    {
     "name": "stdout",
     "output_type": "stream",
     "text": [
      "0.19851991406658945\n",
      "0.29691821955358955\n",
      "0.3977660443443825\n",
      "0.44686228640939635\n",
      "0.48931626591371785\n",
      "Producing data for:  ALV\n"
     ]
    },
    {
     "name": "stderr",
     "output_type": "stream",
     "text": [
      "<ipython-input-1-d5b62f59ed62>:103: FutureWarning: The frame.append method is deprecated and will be removed from pandas in a future version. Use pandas.concat instead.\n",
      "  final = final.append(\n",
      "<ipython-input-1-d5b62f59ed62>:47: FutureWarning: Indexing a timezone-aware DatetimeIndex with a timezone-naive datetime is deprecated and will raise KeyError in a future version. Use a timezone-aware object instead.\n",
      "  y = max.truncate(before=pd.Timestamp('today') - pd.DateOffset(months=12))\n",
      "<ipython-input-1-d5b62f59ed62>:48: FutureWarning: Indexing a timezone-aware DatetimeIndex with a timezone-naive datetime is deprecated and will raise KeyError in a future version. Use a timezone-aware object instead.\n",
      "  m6 = max.truncate(before=pd.Timestamp('today') - pd.DateOffset(months=6))\n",
      "<ipython-input-1-d5b62f59ed62>:49: FutureWarning: Indexing a timezone-aware DatetimeIndex with a timezone-naive datetime is deprecated and will raise KeyError in a future version. Use a timezone-aware object instead.\n",
      "  m3 = max.truncate(before=pd.Timestamp('today') - pd.DateOffset(months=3))\n",
      "<ipython-input-1-d5b62f59ed62>:50: FutureWarning: Indexing a timezone-aware DatetimeIndex with a timezone-naive datetime is deprecated and will raise KeyError in a future version. Use a timezone-aware object instead.\n",
      "  m1 = max.truncate(before=pd.Timestamp('today') - pd.DateOffset(months=1))\n"
     ]
    },
    {
     "name": "stdout",
     "output_type": "stream",
     "text": [
      "0.1933732371235254\n",
      "0.28444633859246404\n",
      "0.3682882592210373\n",
      "0.40703043110902415\n",
      "0.43595609853484174"
     ]
    },
    {
     "name": "stderr",
     "output_type": "stream",
     "text": [
      "<ipython-input-1-d5b62f59ed62>:103: FutureWarning: The frame.append method is deprecated and will be removed from pandas in a future version. Use pandas.concat instead.\n",
      "  final = final.append(\n"
     ]
    },
    {
     "name": "stdout",
     "output_type": "stream",
     "text": [
      "\n",
      "Producing data for:  AN\n"
     ]
    },
    {
     "name": "stderr",
     "output_type": "stream",
     "text": [
      "<ipython-input-1-d5b62f59ed62>:47: FutureWarning: Indexing a timezone-aware DatetimeIndex with a timezone-naive datetime is deprecated and will raise KeyError in a future version. Use a timezone-aware object instead.\n",
      "  y = max.truncate(before=pd.Timestamp('today') - pd.DateOffset(months=12))\n",
      "<ipython-input-1-d5b62f59ed62>:48: FutureWarning: Indexing a timezone-aware DatetimeIndex with a timezone-naive datetime is deprecated and will raise KeyError in a future version. Use a timezone-aware object instead.\n",
      "  m6 = max.truncate(before=pd.Timestamp('today') - pd.DateOffset(months=6))\n",
      "<ipython-input-1-d5b62f59ed62>:49: FutureWarning: Indexing a timezone-aware DatetimeIndex with a timezone-naive datetime is deprecated and will raise KeyError in a future version. Use a timezone-aware object instead.\n",
      "  m3 = max.truncate(before=pd.Timestamp('today') - pd.DateOffset(months=3))\n",
      "<ipython-input-1-d5b62f59ed62>:50: FutureWarning: Indexing a timezone-aware DatetimeIndex with a timezone-naive datetime is deprecated and will raise KeyError in a future version. Use a timezone-aware object instead.\n",
      "  m1 = max.truncate(before=pd.Timestamp('today') - pd.DateOffset(months=1))\n",
      "<ipython-input-1-d5b62f59ed62>:103: FutureWarning: The frame.append method is deprecated and will be removed from pandas in a future version. Use pandas.concat instead.\n",
      "  final = final.append(\n"
     ]
    },
    {
     "name": "stdout",
     "output_type": "stream",
     "text": [
      "0.18888898175881982\n",
      "0.27298627597756503\n",
      "0.37002486967296105\n",
      "0.42132564773936865\n",
      "0.4692566369401304\n",
      "Producing data for:  AZO\n"
     ]
    },
    {
     "name": "stderr",
     "output_type": "stream",
     "text": [
      "<ipython-input-1-d5b62f59ed62>:47: FutureWarning: Indexing a timezone-aware DatetimeIndex with a timezone-naive datetime is deprecated and will raise KeyError in a future version. Use a timezone-aware object instead.\n",
      "  y = max.truncate(before=pd.Timestamp('today') - pd.DateOffset(months=12))\n",
      "<ipython-input-1-d5b62f59ed62>:48: FutureWarning: Indexing a timezone-aware DatetimeIndex with a timezone-naive datetime is deprecated and will raise KeyError in a future version. Use a timezone-aware object instead.\n",
      "  m6 = max.truncate(before=pd.Timestamp('today') - pd.DateOffset(months=6))\n",
      "<ipython-input-1-d5b62f59ed62>:49: FutureWarning: Indexing a timezone-aware DatetimeIndex with a timezone-naive datetime is deprecated and will raise KeyError in a future version. Use a timezone-aware object instead.\n",
      "  m3 = max.truncate(before=pd.Timestamp('today') - pd.DateOffset(months=3))\n",
      "<ipython-input-1-d5b62f59ed62>:50: FutureWarning: Indexing a timezone-aware DatetimeIndex with a timezone-naive datetime is deprecated and will raise KeyError in a future version. Use a timezone-aware object instead.\n",
      "  m1 = max.truncate(before=pd.Timestamp('today') - pd.DateOffset(months=1))\n"
     ]
    },
    {
     "name": "stdout",
     "output_type": "stream",
     "text": [
      "0.1862786490040811\n",
      "0.2717655560676552\n",
      "0.3732735529527816\n",
      "0.42807088451950576\n",
      "0.4809406966002213\n",
      "Producing data for:  AVB\n"
     ]
    },
    {
     "name": "stderr",
     "output_type": "stream",
     "text": [
      "<ipython-input-1-d5b62f59ed62>:103: FutureWarning: The frame.append method is deprecated and will be removed from pandas in a future version. Use pandas.concat instead.\n",
      "  final = final.append(\n",
      "<ipython-input-1-d5b62f59ed62>:47: FutureWarning: Indexing a timezone-aware DatetimeIndex with a timezone-naive datetime is deprecated and will raise KeyError in a future version. Use a timezone-aware object instead.\n",
      "  y = max.truncate(before=pd.Timestamp('today') - pd.DateOffset(months=12))\n",
      "<ipython-input-1-d5b62f59ed62>:48: FutureWarning: Indexing a timezone-aware DatetimeIndex with a timezone-naive datetime is deprecated and will raise KeyError in a future version. Use a timezone-aware object instead.\n",
      "  m6 = max.truncate(before=pd.Timestamp('today') - pd.DateOffset(months=6))\n",
      "<ipython-input-1-d5b62f59ed62>:49: FutureWarning: Indexing a timezone-aware DatetimeIndex with a timezone-naive datetime is deprecated and will raise KeyError in a future version. Use a timezone-aware object instead.\n",
      "  m3 = max.truncate(before=pd.Timestamp('today') - pd.DateOffset(months=3))\n",
      "<ipython-input-1-d5b62f59ed62>:50: FutureWarning: Indexing a timezone-aware DatetimeIndex with a timezone-naive datetime is deprecated and will raise KeyError in a future version. Use a timezone-aware object instead.\n",
      "  m1 = max.truncate(before=pd.Timestamp('today') - pd.DateOffset(months=1))\n"
     ]
    },
    {
     "name": "stdout",
     "output_type": "stream",
     "text": [
      "0.19151050675527007\n",
      "0.2809518942836643\n",
      "0.37793360425308836\n",
      "0.41915442963730765\n",
      "0.44920514524726474\n",
      "Producing data for:  AGR\n"
     ]
    },
    {
     "name": "stderr",
     "output_type": "stream",
     "text": [
      "<ipython-input-1-d5b62f59ed62>:103: FutureWarning: The frame.append method is deprecated and will be removed from pandas in a future version. Use pandas.concat instead.\n",
      "  final = final.append(\n",
      "<ipython-input-1-d5b62f59ed62>:47: FutureWarning: Indexing a timezone-aware DatetimeIndex with a timezone-naive datetime is deprecated and will raise KeyError in a future version. Use a timezone-aware object instead.\n",
      "  y = max.truncate(before=pd.Timestamp('today') - pd.DateOffset(months=12))\n",
      "<ipython-input-1-d5b62f59ed62>:48: FutureWarning: Indexing a timezone-aware DatetimeIndex with a timezone-naive datetime is deprecated and will raise KeyError in a future version. Use a timezone-aware object instead.\n",
      "  m6 = max.truncate(before=pd.Timestamp('today') - pd.DateOffset(months=6))\n",
      "<ipython-input-1-d5b62f59ed62>:49: FutureWarning: Indexing a timezone-aware DatetimeIndex with a timezone-naive datetime is deprecated and will raise KeyError in a future version. Use a timezone-aware object instead.\n",
      "  m3 = max.truncate(before=pd.Timestamp('today') - pd.DateOffset(months=3))\n",
      "<ipython-input-1-d5b62f59ed62>:50: FutureWarning: Indexing a timezone-aware DatetimeIndex with a timezone-naive datetime is deprecated and will raise KeyError in a future version. Use a timezone-aware object instead.\n",
      "  m1 = max.truncate(before=pd.Timestamp('today') - pd.DateOffset(months=1))\n",
      "<ipython-input-1-d5b62f59ed62>:103: FutureWarning: The frame.append method is deprecated and will be removed from pandas in a future version. Use pandas.concat instead.\n",
      "  final = final.append(\n"
     ]
    },
    {
     "name": "stdout",
     "output_type": "stream",
     "text": [
      "0.1783024850721782\n",
      "0.2543915581941385\n",
      "0.3099197801773041\n",
      "0.33377255139201184\n",
      "0.3525046018333796\n",
      "Producing data for:  ACP\n"
     ]
    },
    {
     "name": "stderr",
     "output_type": "stream",
     "text": [
      "<ipython-input-1-d5b62f59ed62>:47: FutureWarning: Indexing a timezone-aware DatetimeIndex with a timezone-naive datetime is deprecated and will raise KeyError in a future version. Use a timezone-aware object instead.\n",
      "  y = max.truncate(before=pd.Timestamp('today') - pd.DateOffset(months=12))\n",
      "<ipython-input-1-d5b62f59ed62>:48: FutureWarning: Indexing a timezone-aware DatetimeIndex with a timezone-naive datetime is deprecated and will raise KeyError in a future version. Use a timezone-aware object instead.\n",
      "  m6 = max.truncate(before=pd.Timestamp('today') - pd.DateOffset(months=6))\n",
      "<ipython-input-1-d5b62f59ed62>:49: FutureWarning: Indexing a timezone-aware DatetimeIndex with a timezone-naive datetime is deprecated and will raise KeyError in a future version. Use a timezone-aware object instead.\n",
      "  m3 = max.truncate(before=pd.Timestamp('today') - pd.DateOffset(months=3))\n",
      "<ipython-input-1-d5b62f59ed62>:50: FutureWarning: Indexing a timezone-aware DatetimeIndex with a timezone-naive datetime is deprecated and will raise KeyError in a future version. Use a timezone-aware object instead.\n",
      "  m1 = max.truncate(before=pd.Timestamp('today') - pd.DateOffset(months=1))\n",
      "<ipython-input-1-d5b62f59ed62>:103: FutureWarning: The frame.append method is deprecated and will be removed from pandas in a future version. Use pandas.concat instead.\n",
      "  final = final.append(\n"
     ]
    },
    {
     "name": "stdout",
     "output_type": "stream",
     "text": [
      "0.2289768378523291\n",
      "0.33031828784132616\n",
      "0.42282684163789225\n",
      "0.4618033265768872\n",
      "0.4809462523002083\n",
      "Producing data for:  AVY\n"
     ]
    },
    {
     "name": "stderr",
     "output_type": "stream",
     "text": [
      "<ipython-input-1-d5b62f59ed62>:47: FutureWarning: Indexing a timezone-aware DatetimeIndex with a timezone-naive datetime is deprecated and will raise KeyError in a future version. Use a timezone-aware object instead.\n",
      "  y = max.truncate(before=pd.Timestamp('today') - pd.DateOffset(months=12))\n",
      "<ipython-input-1-d5b62f59ed62>:48: FutureWarning: Indexing a timezone-aware DatetimeIndex with a timezone-naive datetime is deprecated and will raise KeyError in a future version. Use a timezone-aware object instead.\n",
      "  m6 = max.truncate(before=pd.Timestamp('today') - pd.DateOffset(months=6))\n",
      "<ipython-input-1-d5b62f59ed62>:49: FutureWarning: Indexing a timezone-aware DatetimeIndex with a timezone-naive datetime is deprecated and will raise KeyError in a future version. Use a timezone-aware object instead.\n",
      "  m3 = max.truncate(before=pd.Timestamp('today') - pd.DateOffset(months=3))\n",
      "<ipython-input-1-d5b62f59ed62>:50: FutureWarning: Indexing a timezone-aware DatetimeIndex with a timezone-naive datetime is deprecated and will raise KeyError in a future version. Use a timezone-aware object instead.\n",
      "  m1 = max.truncate(before=pd.Timestamp('today') - pd.DateOffset(months=1))\n"
     ]
    },
    {
     "name": "stdout",
     "output_type": "stream",
     "text": [
      "0.1882303744099959\n",
      "0.2841046178634603\n",
      "0.3878048959897976\n",
      "0.4361193601997654\n",
      "0.4824392986160657\n",
      "Producing data for:  AVH\n"
     ]
    },
    {
     "name": "stderr",
     "output_type": "stream",
     "text": [
      "<ipython-input-1-d5b62f59ed62>:103: FutureWarning: The frame.append method is deprecated and will be removed from pandas in a future version. Use pandas.concat instead.\n",
      "  final = final.append(\n"
     ]
    },
    {
     "name": "stdout",
     "output_type": "stream",
     "text": [
      "Got error from yahoo api for ticker AVH, Error: {'code': 'Not Found', 'description': 'No data found, symbol may be delisted'}\n",
      "- AVH: No timezone found, symbol may be delisted\n",
      "Got error from yahoo api for ticker AVH, Error: {'code': 'Not Found', 'description': 'No data found, symbol may be delisted'}\n",
      "- AVH: No timezone found, symbol may be delisted\n",
      "Producing data for:  AVA\n"
     ]
    },
    {
     "name": "stderr",
     "output_type": "stream",
     "text": [
      "<ipython-input-1-d5b62f59ed62>:47: FutureWarning: Indexing a timezone-aware DatetimeIndex with a timezone-naive datetime is deprecated and will raise KeyError in a future version. Use a timezone-aware object instead.\n",
      "  y = max.truncate(before=pd.Timestamp('today') - pd.DateOffset(months=12))\n",
      "<ipython-input-1-d5b62f59ed62>:48: FutureWarning: Indexing a timezone-aware DatetimeIndex with a timezone-naive datetime is deprecated and will raise KeyError in a future version. Use a timezone-aware object instead.\n",
      "  m6 = max.truncate(before=pd.Timestamp('today') - pd.DateOffset(months=6))\n",
      "<ipython-input-1-d5b62f59ed62>:49: FutureWarning: Indexing a timezone-aware DatetimeIndex with a timezone-naive datetime is deprecated and will raise KeyError in a future version. Use a timezone-aware object instead.\n",
      "  m3 = max.truncate(before=pd.Timestamp('today') - pd.DateOffset(months=3))\n",
      "<ipython-input-1-d5b62f59ed62>:50: FutureWarning: Indexing a timezone-aware DatetimeIndex with a timezone-naive datetime is deprecated and will raise KeyError in a future version. Use a timezone-aware object instead.\n",
      "  m1 = max.truncate(before=pd.Timestamp('today') - pd.DateOffset(months=1))\n"
     ]
    },
    {
     "name": "stdout",
     "output_type": "stream",
     "text": [
      "0.1589281562192565\n",
      "0.24379154453975516\n",
      "0.3213284594366815\n",
      "0.35693335939704\n",
      "0.39511236539743466\n",
      "Producing data for:  AVT\n"
     ]
    },
    {
     "name": "stderr",
     "output_type": "stream",
     "text": [
      "<ipython-input-1-d5b62f59ed62>:103: FutureWarning: The frame.append method is deprecated and will be removed from pandas in a future version. Use pandas.concat instead.\n",
      "  final = final.append(\n",
      "<ipython-input-1-d5b62f59ed62>:47: FutureWarning: Indexing a timezone-aware DatetimeIndex with a timezone-naive datetime is deprecated and will raise KeyError in a future version. Use a timezone-aware object instead.\n",
      "  y = max.truncate(before=pd.Timestamp('today') - pd.DateOffset(months=12))\n",
      "<ipython-input-1-d5b62f59ed62>:48: FutureWarning: Indexing a timezone-aware DatetimeIndex with a timezone-naive datetime is deprecated and will raise KeyError in a future version. Use a timezone-aware object instead.\n",
      "  m6 = max.truncate(before=pd.Timestamp('today') - pd.DateOffset(months=6))\n",
      "<ipython-input-1-d5b62f59ed62>:49: FutureWarning: Indexing a timezone-aware DatetimeIndex with a timezone-naive datetime is deprecated and will raise KeyError in a future version. Use a timezone-aware object instead.\n",
      "  m3 = max.truncate(before=pd.Timestamp('today') - pd.DateOffset(months=3))\n",
      "<ipython-input-1-d5b62f59ed62>:50: FutureWarning: Indexing a timezone-aware DatetimeIndex with a timezone-naive datetime is deprecated and will raise KeyError in a future version. Use a timezone-aware object instead.\n",
      "  m1 = max.truncate(before=pd.Timestamp('today') - pd.DateOffset(months=1))\n"
     ]
    },
    {
     "name": "stdout",
     "output_type": "stream",
     "text": [
      "0.19660161100344184\n",
      "0.28600758925449205\n",
      "0.37140380005082424\n",
      "0.40858692966081034\n",
      "0.43684010046640703\n",
      "Producing data for:  AVP\n"
     ]
    },
    {
     "name": "stderr",
     "output_type": "stream",
     "text": [
      "<ipython-input-1-d5b62f59ed62>:103: FutureWarning: The frame.append method is deprecated and will be removed from pandas in a future version. Use pandas.concat instead.\n",
      "  final = final.append(\n"
     ]
    },
    {
     "name": "stdout",
     "output_type": "stream",
     "text": [
      "Got error from yahoo api for ticker AVP, Error: {'code': 'Not Found', 'description': 'No data found, symbol may be delisted'}\n",
      "- AVP: No timezone found, symbol may be delisted\n",
      "Got error from yahoo api for ticker AVP, Error: {'code': 'Not Found', 'description': 'No data found, symbol may be delisted'}\n",
      "- AVP: No timezone found, symbol may be delisted\n",
      "Producing data for:  AVX\n",
      "Got error from yahoo api for ticker AVX, Error: {'code': 'Not Found', 'description': 'No data found, symbol may be delisted'}\n",
      "- AVX: No timezone found, symbol may be delisted\n",
      "Got error from yahoo api for ticker AVX, Error: {'code': 'Not Found', 'description': 'No data found, symbol may be delisted'}\n",
      "- AVX: No timezone found, symbol may be delisted\n",
      "Producing data for:  AXTA\n"
     ]
    },
    {
     "name": "stderr",
     "output_type": "stream",
     "text": [
      "<ipython-input-1-d5b62f59ed62>:47: FutureWarning: Indexing a timezone-aware DatetimeIndex with a timezone-naive datetime is deprecated and will raise KeyError in a future version. Use a timezone-aware object instead.\n",
      "  y = max.truncate(before=pd.Timestamp('today') - pd.DateOffset(months=12))\n",
      "<ipython-input-1-d5b62f59ed62>:48: FutureWarning: Indexing a timezone-aware DatetimeIndex with a timezone-naive datetime is deprecated and will raise KeyError in a future version. Use a timezone-aware object instead.\n",
      "  m6 = max.truncate(before=pd.Timestamp('today') - pd.DateOffset(months=6))\n",
      "<ipython-input-1-d5b62f59ed62>:49: FutureWarning: Indexing a timezone-aware DatetimeIndex with a timezone-naive datetime is deprecated and will raise KeyError in a future version. Use a timezone-aware object instead.\n",
      "  m3 = max.truncate(before=pd.Timestamp('today') - pd.DateOffset(months=3))\n",
      "<ipython-input-1-d5b62f59ed62>:50: FutureWarning: Indexing a timezone-aware DatetimeIndex with a timezone-naive datetime is deprecated and will raise KeyError in a future version. Use a timezone-aware object instead.\n",
      "  m1 = max.truncate(before=pd.Timestamp('today') - pd.DateOffset(months=1))\n",
      "<ipython-input-1-d5b62f59ed62>:103: FutureWarning: The frame.append method is deprecated and will be removed from pandas in a future version. Use pandas.concat instead.\n",
      "  final = final.append(\n"
     ]
    },
    {
     "name": "stdout",
     "output_type": "stream",
     "text": [
      "0.19597626927906547\n",
      "0.2834373578031185\n",
      "0.3509560481680994\n",
      "0.3749956031560693\n",
      "0.3857296321344438\n",
      "Producing data for:  AXS\n"
     ]
    },
    {
     "name": "stderr",
     "output_type": "stream",
     "text": [
      "<ipython-input-1-d5b62f59ed62>:47: FutureWarning: Indexing a timezone-aware DatetimeIndex with a timezone-naive datetime is deprecated and will raise KeyError in a future version. Use a timezone-aware object instead.\n",
      "  y = max.truncate(before=pd.Timestamp('today') - pd.DateOffset(months=12))\n",
      "<ipython-input-1-d5b62f59ed62>:48: FutureWarning: Indexing a timezone-aware DatetimeIndex with a timezone-naive datetime is deprecated and will raise KeyError in a future version. Use a timezone-aware object instead.\n",
      "  m6 = max.truncate(before=pd.Timestamp('today') - pd.DateOffset(months=6))\n",
      "<ipython-input-1-d5b62f59ed62>:49: FutureWarning: Indexing a timezone-aware DatetimeIndex with a timezone-naive datetime is deprecated and will raise KeyError in a future version. Use a timezone-aware object instead.\n",
      "  m3 = max.truncate(before=pd.Timestamp('today') - pd.DateOffset(months=3))\n",
      "<ipython-input-1-d5b62f59ed62>:50: FutureWarning: Indexing a timezone-aware DatetimeIndex with a timezone-naive datetime is deprecated and will raise KeyError in a future version. Use a timezone-aware object instead.\n",
      "  m1 = max.truncate(before=pd.Timestamp('today') - pd.DateOffset(months=1))\n",
      "<ipython-input-1-d5b62f59ed62>:103: FutureWarning: The frame.append method is deprecated and will be removed from pandas in a future version. Use pandas.concat instead.\n",
      "  final = final.append(\n"
     ]
    },
    {
     "name": "stdout",
     "output_type": "stream",
     "text": [
      "0.19495864368712462\n",
      "0.28359527899118103\n",
      "0.3632447043458253\n",
      "0.3978798963479033\n",
      "0.42857558049825656\n",
      "Producing data for:  AXS.PRC\n",
      "Got error from yahoo api for ticker AXS.PRC, Error: {'code': 'Not Found', 'description': 'No data found, symbol may be delisted'}\n",
      "- AXS.PRC: No timezone found, symbol may be delisted\n",
      "Got error from yahoo api for ticker AXS.PRC, Error: {'code': 'Not Found', 'description': 'No data found, symbol may be delisted'}\n",
      "- AXS.PRC: No timezone found, symbol may be delisted\n",
      "Producing data for:  AXS.PRD\n",
      "Got error from yahoo api for ticker AXS.PRD, Error: {'code': 'Not Found', 'description': 'No data found, symbol may be delisted'}\n",
      "- AXS.PRD: No timezone found, symbol may be delisted\n",
      "Got error from yahoo api for ticker AXS.PRD, Error: {'code': 'Not Found', 'description': 'No data found, symbol may be delisted'}\n",
      "- AXS.PRD: No timezone found, symbol may be delisted\n",
      "Producing data for:  AXS.PRE\n",
      "Got error from yahoo api for ticker AXS.PRE, Error: {'code': 'Not Found', 'description': 'No data found, symbol may be delisted'}\n",
      "- AXS.PRE: No timezone found, symbol may be delisted\n",
      "Got error from yahoo api for ticker AXS.PRE, Error: {'code': 'Not Found', 'description': 'No data found, symbol may be delisted'}\n",
      "- AXS.PRE: No timezone found, symbol may be delisted\n",
      "Producing data for:  AXON\n"
     ]
    },
    {
     "name": "stderr",
     "output_type": "stream",
     "text": [
      "<ipython-input-1-d5b62f59ed62>:47: FutureWarning: Indexing a timezone-aware DatetimeIndex with a timezone-naive datetime is deprecated and will raise KeyError in a future version. Use a timezone-aware object instead.\n",
      "  y = max.truncate(before=pd.Timestamp('today') - pd.DateOffset(months=12))\n",
      "<ipython-input-1-d5b62f59ed62>:48: FutureWarning: Indexing a timezone-aware DatetimeIndex with a timezone-naive datetime is deprecated and will raise KeyError in a future version. Use a timezone-aware object instead.\n",
      "  m6 = max.truncate(before=pd.Timestamp('today') - pd.DateOffset(months=6))\n",
      "<ipython-input-1-d5b62f59ed62>:49: FutureWarning: Indexing a timezone-aware DatetimeIndex with a timezone-naive datetime is deprecated and will raise KeyError in a future version. Use a timezone-aware object instead.\n",
      "  m3 = max.truncate(before=pd.Timestamp('today') - pd.DateOffset(months=3))\n",
      "<ipython-input-1-d5b62f59ed62>:50: FutureWarning: Indexing a timezone-aware DatetimeIndex with a timezone-naive datetime is deprecated and will raise KeyError in a future version. Use a timezone-aware object instead.\n",
      "  m1 = max.truncate(before=pd.Timestamp('today') - pd.DateOffset(months=1))\n",
      "<ipython-input-1-d5b62f59ed62>:103: FutureWarning: The frame.append method is deprecated and will be removed from pandas in a future version. Use pandas.concat instead.\n",
      "  final = final.append(\n"
     ]
    },
    {
     "name": "stdout",
     "output_type": "stream",
     "text": [
      "0.20464750214835187\n",
      "0.2997253979985297\n",
      "0.3863679388814523\n",
      "0.42541228655148305\n",
      "0.46371218811377274\n",
      "Producing data for:  AZRE\n"
     ]
    },
    {
     "name": "stderr",
     "output_type": "stream",
     "text": [
      "<ipython-input-1-d5b62f59ed62>:47: FutureWarning: Indexing a timezone-aware DatetimeIndex with a timezone-naive datetime is deprecated and will raise KeyError in a future version. Use a timezone-aware object instead.\n",
      "  y = max.truncate(before=pd.Timestamp('today') - pd.DateOffset(months=12))\n",
      "<ipython-input-1-d5b62f59ed62>:48: FutureWarning: Indexing a timezone-aware DatetimeIndex with a timezone-naive datetime is deprecated and will raise KeyError in a future version. Use a timezone-aware object instead.\n",
      "  m6 = max.truncate(before=pd.Timestamp('today') - pd.DateOffset(months=6))\n",
      "<ipython-input-1-d5b62f59ed62>:49: FutureWarning: Indexing a timezone-aware DatetimeIndex with a timezone-naive datetime is deprecated and will raise KeyError in a future version. Use a timezone-aware object instead.\n",
      "  m3 = max.truncate(before=pd.Timestamp('today') - pd.DateOffset(months=3))\n",
      "<ipython-input-1-d5b62f59ed62>:50: FutureWarning: Indexing a timezone-aware DatetimeIndex with a timezone-naive datetime is deprecated and will raise KeyError in a future version. Use a timezone-aware object instead.\n",
      "  m1 = max.truncate(before=pd.Timestamp('today') - pd.DateOffset(months=1))\n",
      "<ipython-input-1-d5b62f59ed62>:103: FutureWarning: The frame.append method is deprecated and will be removed from pandas in a future version. Use pandas.concat instead.\n",
      "  final = final.append(\n"
     ]
    },
    {
     "name": "stdout",
     "output_type": "stream",
     "text": [
      "0.20679217913347495\n",
      "0.3037429378117926\n",
      "0.4022956456087804\n",
      "0.4507790997363542\n",
      "0.4725037258330034\n",
      "Producing data for:  AZZ\n"
     ]
    },
    {
     "name": "stderr",
     "output_type": "stream",
     "text": [
      "<ipython-input-1-d5b62f59ed62>:47: FutureWarning: Indexing a timezone-aware DatetimeIndex with a timezone-naive datetime is deprecated and will raise KeyError in a future version. Use a timezone-aware object instead.\n",
      "  y = max.truncate(before=pd.Timestamp('today') - pd.DateOffset(months=12))\n",
      "<ipython-input-1-d5b62f59ed62>:48: FutureWarning: Indexing a timezone-aware DatetimeIndex with a timezone-naive datetime is deprecated and will raise KeyError in a future version. Use a timezone-aware object instead.\n",
      "  m6 = max.truncate(before=pd.Timestamp('today') - pd.DateOffset(months=6))\n",
      "<ipython-input-1-d5b62f59ed62>:49: FutureWarning: Indexing a timezone-aware DatetimeIndex with a timezone-naive datetime is deprecated and will raise KeyError in a future version. Use a timezone-aware object instead.\n",
      "  m3 = max.truncate(before=pd.Timestamp('today') - pd.DateOffset(months=3))\n",
      "<ipython-input-1-d5b62f59ed62>:50: FutureWarning: Indexing a timezone-aware DatetimeIndex with a timezone-naive datetime is deprecated and will raise KeyError in a future version. Use a timezone-aware object instead.\n",
      "  m1 = max.truncate(before=pd.Timestamp('today') - pd.DateOffset(months=1))\n"
     ]
    },
    {
     "name": "stdout",
     "output_type": "stream",
     "text": [
      "0.18692934084080562\n",
      "0.267485547724042\n",
      "0.35049830918186897\n",
      "0.3909665496449479\n",
      "0.43093247660691647\n",
      "Producing data for:  BGS\n"
     ]
    },
    {
     "name": "stderr",
     "output_type": "stream",
     "text": [
      "<ipython-input-1-d5b62f59ed62>:103: FutureWarning: The frame.append method is deprecated and will be removed from pandas in a future version. Use pandas.concat instead.\n",
      "  final = final.append(\n",
      "<ipython-input-1-d5b62f59ed62>:47: FutureWarning: Indexing a timezone-aware DatetimeIndex with a timezone-naive datetime is deprecated and will raise KeyError in a future version. Use a timezone-aware object instead.\n",
      "  y = max.truncate(before=pd.Timestamp('today') - pd.DateOffset(months=12))\n",
      "<ipython-input-1-d5b62f59ed62>:48: FutureWarning: Indexing a timezone-aware DatetimeIndex with a timezone-naive datetime is deprecated and will raise KeyError in a future version. Use a timezone-aware object instead.\n",
      "  m6 = max.truncate(before=pd.Timestamp('today') - pd.DateOffset(months=6))\n",
      "<ipython-input-1-d5b62f59ed62>:49: FutureWarning: Indexing a timezone-aware DatetimeIndex with a timezone-naive datetime is deprecated and will raise KeyError in a future version. Use a timezone-aware object instead.\n",
      "  m3 = max.truncate(before=pd.Timestamp('today') - pd.DateOffset(months=3))\n",
      "<ipython-input-1-d5b62f59ed62>:50: FutureWarning: Indexing a timezone-aware DatetimeIndex with a timezone-naive datetime is deprecated and will raise KeyError in a future version. Use a timezone-aware object instead.\n",
      "  m1 = max.truncate(before=pd.Timestamp('today') - pd.DateOffset(months=1))\n",
      "<ipython-input-1-d5b62f59ed62>:103: FutureWarning: The frame.append method is deprecated and will be removed from pandas in a future version. Use pandas.concat instead.\n",
      "  final = final.append(\n"
     ]
    },
    {
     "name": "stdout",
     "output_type": "stream",
     "text": [
      "0.18197684259602412\n",
      "0.27527919050212524\n",
      "0.37280792668752755\n",
      "0.4200802914011052\n",
      "0.4585075317880332\n",
      "Producing data for:  BWC\n"
     ]
    },
    {
     "name": "stderr",
     "output_type": "stream",
     "text": [
      "<ipython-input-1-d5b62f59ed62>:47: FutureWarning: Indexing a timezone-aware DatetimeIndex with a timezone-naive datetime is deprecated and will raise KeyError in a future version. Use a timezone-aware object instead.\n",
      "  y = max.truncate(before=pd.Timestamp('today') - pd.DateOffset(months=12))\n",
      "<ipython-input-1-d5b62f59ed62>:48: FutureWarning: Indexing a timezone-aware DatetimeIndex with a timezone-naive datetime is deprecated and will raise KeyError in a future version. Use a timezone-aware object instead.\n",
      "  m6 = max.truncate(before=pd.Timestamp('today') - pd.DateOffset(months=6))\n",
      "<ipython-input-1-d5b62f59ed62>:49: FutureWarning: Indexing a timezone-aware DatetimeIndex with a timezone-naive datetime is deprecated and will raise KeyError in a future version. Use a timezone-aware object instead.\n",
      "  m3 = max.truncate(before=pd.Timestamp('today') - pd.DateOffset(months=3))\n",
      "<ipython-input-1-d5b62f59ed62>:50: FutureWarning: Indexing a timezone-aware DatetimeIndex with a timezone-naive datetime is deprecated and will raise KeyError in a future version. Use a timezone-aware object instead.\n",
      "  m1 = max.truncate(before=pd.Timestamp('today') - pd.DateOffset(months=1))\n",
      "C:\\Users\\Kamen\\AppData\\Local\\Programs\\Python\\Python38\\lib\\site-packages\\numpy\\core\\_methods.py:262: RuntimeWarning: Degrees of freedom <= 0 for slice\n",
      "  ret = _var(a, axis=axis, dtype=dtype, out=out, ddof=ddof,\n",
      "C:\\Users\\Kamen\\AppData\\Local\\Programs\\Python\\Python38\\lib\\site-packages\\numpy\\core\\_methods.py:222: RuntimeWarning: invalid value encountered in true_divide\n",
      "  arrmean = um.true_divide(arrmean, div, out=arrmean, casting='unsafe',\n",
      "C:\\Users\\Kamen\\AppData\\Local\\Programs\\Python\\Python38\\lib\\site-packages\\numpy\\core\\_methods.py:254: RuntimeWarning: invalid value encountered in double_scalars\n",
      "  ret = ret.dtype.type(ret / rcount)\n",
      "<ipython-input-1-d5b62f59ed62>:38: RuntimeWarning: divide by zero encountered in log\n",
      "  reg = np.polyfit(np.log(lags), np.log(tau), 1)\n",
      "<ipython-input-1-d5b62f59ed62>:103: FutureWarning: The frame.append method is deprecated and will be removed from pandas in a future version. Use pandas.concat instead.\n",
      "  final = final.append(\n"
     ]
    },
    {
     "name": "stdout",
     "output_type": "stream",
     "text": [
      "0.06808713211024638\n",
      "0.08863048588693771\n",
      "0.09333962751012989\n",
      "nan\n",
      "nan\n",
      "Producing data for:  MCI\n"
     ]
    },
    {
     "name": "stderr",
     "output_type": "stream",
     "text": [
      "<ipython-input-1-d5b62f59ed62>:47: FutureWarning: Indexing a timezone-aware DatetimeIndex with a timezone-naive datetime is deprecated and will raise KeyError in a future version. Use a timezone-aware object instead.\n",
      "  y = max.truncate(before=pd.Timestamp('today') - pd.DateOffset(months=12))\n",
      "<ipython-input-1-d5b62f59ed62>:48: FutureWarning: Indexing a timezone-aware DatetimeIndex with a timezone-naive datetime is deprecated and will raise KeyError in a future version. Use a timezone-aware object instead.\n",
      "  m6 = max.truncate(before=pd.Timestamp('today') - pd.DateOffset(months=6))\n",
      "<ipython-input-1-d5b62f59ed62>:49: FutureWarning: Indexing a timezone-aware DatetimeIndex with a timezone-naive datetime is deprecated and will raise KeyError in a future version. Use a timezone-aware object instead.\n",
      "  m3 = max.truncate(before=pd.Timestamp('today') - pd.DateOffset(months=3))\n",
      "<ipython-input-1-d5b62f59ed62>:50: FutureWarning: Indexing a timezone-aware DatetimeIndex with a timezone-naive datetime is deprecated and will raise KeyError in a future version. Use a timezone-aware object instead.\n",
      "  m1 = max.truncate(before=pd.Timestamp('today') - pd.DateOffset(months=1))\n"
     ]
    },
    {
     "name": "stdout",
     "output_type": "stream",
     "text": [
      "0.16762204284727522\n",
      "0.24254382984238057\n",
      "0.32349888397694165\n",
      "0.3609870007907505\n",
      "0.3954538834095164\n",
      "Producing data for:  BMI\n"
     ]
    },
    {
     "name": "stderr",
     "output_type": "stream",
     "text": [
      "<ipython-input-1-d5b62f59ed62>:103: FutureWarning: The frame.append method is deprecated and will be removed from pandas in a future version. Use pandas.concat instead.\n",
      "  final = final.append(\n",
      "<ipython-input-1-d5b62f59ed62>:47: FutureWarning: Indexing a timezone-aware DatetimeIndex with a timezone-naive datetime is deprecated and will raise KeyError in a future version. Use a timezone-aware object instead.\n",
      "  y = max.truncate(before=pd.Timestamp('today') - pd.DateOffset(months=12))\n",
      "<ipython-input-1-d5b62f59ed62>:48: FutureWarning: Indexing a timezone-aware DatetimeIndex with a timezone-naive datetime is deprecated and will raise KeyError in a future version. Use a timezone-aware object instead.\n",
      "  m6 = max.truncate(before=pd.Timestamp('today') - pd.DateOffset(months=6))\n",
      "<ipython-input-1-d5b62f59ed62>:49: FutureWarning: Indexing a timezone-aware DatetimeIndex with a timezone-naive datetime is deprecated and will raise KeyError in a future version. Use a timezone-aware object instead.\n",
      "  m3 = max.truncate(before=pd.Timestamp('today') - pd.DateOffset(months=3))\n",
      "<ipython-input-1-d5b62f59ed62>:50: FutureWarning: Indexing a timezone-aware DatetimeIndex with a timezone-naive datetime is deprecated and will raise KeyError in a future version. Use a timezone-aware object instead.\n",
      "  m1 = max.truncate(before=pd.Timestamp('today') - pd.DateOffset(months=1))\n"
     ]
    },
    {
     "name": "stdout",
     "output_type": "stream",
     "text": [
      "0.1880525868373374\n",
      "0.279311185683555\n",
      "0.3609477108407741\n",
      "0.4028971671680686\n",
      "0.4483917112139444\n",
      "Producing data for:  BKR\n"
     ]
    },
    {
     "name": "stderr",
     "output_type": "stream",
     "text": [
      "<ipython-input-1-d5b62f59ed62>:103: FutureWarning: The frame.append method is deprecated and will be removed from pandas in a future version. Use pandas.concat instead.\n",
      "  final = final.append(\n",
      "<ipython-input-1-d5b62f59ed62>:47: FutureWarning: Indexing a timezone-aware DatetimeIndex with a timezone-naive datetime is deprecated and will raise KeyError in a future version. Use a timezone-aware object instead.\n",
      "  y = max.truncate(before=pd.Timestamp('today') - pd.DateOffset(months=12))\n",
      "<ipython-input-1-d5b62f59ed62>:48: FutureWarning: Indexing a timezone-aware DatetimeIndex with a timezone-naive datetime is deprecated and will raise KeyError in a future version. Use a timezone-aware object instead.\n",
      "  m6 = max.truncate(before=pd.Timestamp('today') - pd.DateOffset(months=6))\n",
      "<ipython-input-1-d5b62f59ed62>:49: FutureWarning: Indexing a timezone-aware DatetimeIndex with a timezone-naive datetime is deprecated and will raise KeyError in a future version. Use a timezone-aware object instead.\n",
      "  m3 = max.truncate(before=pd.Timestamp('today') - pd.DateOffset(months=3))\n",
      "<ipython-input-1-d5b62f59ed62>:50: FutureWarning: Indexing a timezone-aware DatetimeIndex with a timezone-naive datetime is deprecated and will raise KeyError in a future version. Use a timezone-aware object instead.\n",
      "  m1 = max.truncate(before=pd.Timestamp('today') - pd.DateOffset(months=1))\n"
     ]
    },
    {
     "name": "stdout",
     "output_type": "stream",
     "text": [
      "0.1962058707040748\n",
      "0.29612498617023497\n",
      "0.38682353840919476\n",
      "0.4301542804139107\n",
      "0.46619047096866395\n",
      "Producing data for:  BLL\n"
     ]
    },
    {
     "name": "stderr",
     "output_type": "stream",
     "text": [
      "<ipython-input-1-d5b62f59ed62>:103: FutureWarning: The frame.append method is deprecated and will be removed from pandas in a future version. Use pandas.concat instead.\n",
      "  final = final.append(\n"
     ]
    },
    {
     "name": "stdout",
     "output_type": "stream",
     "text": [
      "Got error from yahoo api for ticker BLL, Error: {'code': 'Not Found', 'description': 'No data found, symbol may be delisted'}\n",
      "- BLL: No timezone found, symbol may be delisted\n",
      "Got error from yahoo api for ticker BLL, Error: {'code': 'Not Found', 'description': 'No data found, symbol may be delisted'}\n",
      "- BLL: No timezone found, symbol may be delisted\n",
      "Producing data for:  BYI\n",
      "BYI: 1d data not available for startTime=-2208994789 and endTime=1673328164. Only 100 years worth of day granularity data are allowed to be fetched per request.\n",
      "BYI: 1d data not available for startTime=-2208994789 and endTime=1673328164. Only 100 years worth of day granularity data are allowed to be fetched per request.\n",
      "Producing data for:  BALT\n"
     ]
    },
    {
     "name": "stderr",
     "output_type": "stream",
     "text": [
      "<ipython-input-1-d5b62f59ed62>:47: FutureWarning: Indexing a timezone-aware DatetimeIndex with a timezone-naive datetime is deprecated and will raise KeyError in a future version. Use a timezone-aware object instead.\n",
      "  y = max.truncate(before=pd.Timestamp('today') - pd.DateOffset(months=12))\n",
      "<ipython-input-1-d5b62f59ed62>:48: FutureWarning: Indexing a timezone-aware DatetimeIndex with a timezone-naive datetime is deprecated and will raise KeyError in a future version. Use a timezone-aware object instead.\n",
      "  m6 = max.truncate(before=pd.Timestamp('today') - pd.DateOffset(months=6))\n",
      "<ipython-input-1-d5b62f59ed62>:49: FutureWarning: Indexing a timezone-aware DatetimeIndex with a timezone-naive datetime is deprecated and will raise KeyError in a future version. Use a timezone-aware object instead.\n",
      "  m3 = max.truncate(before=pd.Timestamp('today') - pd.DateOffset(months=3))\n",
      "<ipython-input-1-d5b62f59ed62>:50: FutureWarning: Indexing a timezone-aware DatetimeIndex with a timezone-naive datetime is deprecated and will raise KeyError in a future version. Use a timezone-aware object instead.\n",
      "  m1 = max.truncate(before=pd.Timestamp('today') - pd.DateOffset(months=1))\n",
      "C:\\Users\\Kamen\\AppData\\Local\\Programs\\Python\\Python38\\lib\\site-packages\\numpy\\core\\_methods.py:262: RuntimeWarning: Degrees of freedom <= 0 for slice\n",
      "  ret = _var(a, axis=axis, dtype=dtype, out=out, ddof=ddof,\n",
      "C:\\Users\\Kamen\\AppData\\Local\\Programs\\Python\\Python38\\lib\\site-packages\\numpy\\core\\_methods.py:222: RuntimeWarning: invalid value encountered in true_divide\n",
      "  arrmean = um.true_divide(arrmean, div, out=arrmean, casting='unsafe',\n",
      "C:\\Users\\Kamen\\AppData\\Local\\Programs\\Python\\Python38\\lib\\site-packages\\numpy\\core\\_methods.py:254: RuntimeWarning: invalid value encountered in double_scalars\n",
      "  ret = ret.dtype.type(ret / rcount)\n",
      "<ipython-input-1-d5b62f59ed62>:38: RuntimeWarning: divide by zero encountered in log\n",
      "  reg = np.polyfit(np.log(lags), np.log(tau), 1)\n",
      "<ipython-input-1-d5b62f59ed62>:103: FutureWarning: The frame.append method is deprecated and will be removed from pandas in a future version. Use pandas.concat instead.\n",
      "  final = final.append(\n"
     ]
    },
    {
     "name": "stdout",
     "output_type": "stream",
     "text": [
      "0.16843765139283867\n",
      "0.2297555764109285\n",
      "0.25776097374118834\n",
      "nan\n",
      "nan\n",
      "Producing data for:  BANC\n"
     ]
    },
    {
     "name": "stderr",
     "output_type": "stream",
     "text": [
      "<ipython-input-1-d5b62f59ed62>:47: FutureWarning: Indexing a timezone-aware DatetimeIndex with a timezone-naive datetime is deprecated and will raise KeyError in a future version. Use a timezone-aware object instead.\n",
      "  y = max.truncate(before=pd.Timestamp('today') - pd.DateOffset(months=12))\n",
      "<ipython-input-1-d5b62f59ed62>:48: FutureWarning: Indexing a timezone-aware DatetimeIndex with a timezone-naive datetime is deprecated and will raise KeyError in a future version. Use a timezone-aware object instead.\n",
      "  m6 = max.truncate(before=pd.Timestamp('today') - pd.DateOffset(months=6))\n",
      "<ipython-input-1-d5b62f59ed62>:49: FutureWarning: Indexing a timezone-aware DatetimeIndex with a timezone-naive datetime is deprecated and will raise KeyError in a future version. Use a timezone-aware object instead.\n",
      "  m3 = max.truncate(before=pd.Timestamp('today') - pd.DateOffset(months=3))\n",
      "<ipython-input-1-d5b62f59ed62>:50: FutureWarning: Indexing a timezone-aware DatetimeIndex with a timezone-naive datetime is deprecated and will raise KeyError in a future version. Use a timezone-aware object instead.\n",
      "  m1 = max.truncate(before=pd.Timestamp('today') - pd.DateOffset(months=1))\n",
      "<ipython-input-1-d5b62f59ed62>:103: FutureWarning: The frame.append method is deprecated and will be removed from pandas in a future version. Use pandas.concat instead.\n",
      "  final = final.append(\n"
     ]
    },
    {
     "name": "stdout",
     "output_type": "stream",
     "text": [
      "0.1931804325051958\n",
      "0.2866028539093915\n",
      "0.37789570202857736\n",
      "0.4256826559000237\n",
      "0.4713534540028044\n",
      "Producing data for:  BBVA\n"
     ]
    },
    {
     "name": "stderr",
     "output_type": "stream",
     "text": [
      "<ipython-input-1-d5b62f59ed62>:47: FutureWarning: Indexing a timezone-aware DatetimeIndex with a timezone-naive datetime is deprecated and will raise KeyError in a future version. Use a timezone-aware object instead.\n",
      "  y = max.truncate(before=pd.Timestamp('today') - pd.DateOffset(months=12))\n",
      "<ipython-input-1-d5b62f59ed62>:48: FutureWarning: Indexing a timezone-aware DatetimeIndex with a timezone-naive datetime is deprecated and will raise KeyError in a future version. Use a timezone-aware object instead.\n",
      "  m6 = max.truncate(before=pd.Timestamp('today') - pd.DateOffset(months=6))\n",
      "<ipython-input-1-d5b62f59ed62>:49: FutureWarning: Indexing a timezone-aware DatetimeIndex with a timezone-naive datetime is deprecated and will raise KeyError in a future version. Use a timezone-aware object instead.\n",
      "  m3 = max.truncate(before=pd.Timestamp('today') - pd.DateOffset(months=3))\n",
      "<ipython-input-1-d5b62f59ed62>:50: FutureWarning: Indexing a timezone-aware DatetimeIndex with a timezone-naive datetime is deprecated and will raise KeyError in a future version. Use a timezone-aware object instead.\n",
      "  m1 = max.truncate(before=pd.Timestamp('today') - pd.DateOffset(months=1))\n"
     ]
    },
    {
     "name": "stdout",
     "output_type": "stream",
     "text": [
      "0.19252997229416127\n",
      "0.2903090289914082\n",
      "0.38869012326954144\n",
      "0.43579793380742327\n",
      "0.4783418154855018\n",
      "Producing data for:  BBD\n"
     ]
    },
    {
     "name": "stderr",
     "output_type": "stream",
     "text": [
      "<ipython-input-1-d5b62f59ed62>:103: FutureWarning: The frame.append method is deprecated and will be removed from pandas in a future version. Use pandas.concat instead.\n",
      "  final = final.append(\n",
      "<ipython-input-1-d5b62f59ed62>:47: FutureWarning: Indexing a timezone-aware DatetimeIndex with a timezone-naive datetime is deprecated and will raise KeyError in a future version. Use a timezone-aware object instead.\n",
      "  y = max.truncate(before=pd.Timestamp('today') - pd.DateOffset(months=12))\n",
      "<ipython-input-1-d5b62f59ed62>:48: FutureWarning: Indexing a timezone-aware DatetimeIndex with a timezone-naive datetime is deprecated and will raise KeyError in a future version. Use a timezone-aware object instead.\n",
      "  m6 = max.truncate(before=pd.Timestamp('today') - pd.DateOffset(months=6))\n",
      "<ipython-input-1-d5b62f59ed62>:49: FutureWarning: Indexing a timezone-aware DatetimeIndex with a timezone-naive datetime is deprecated and will raise KeyError in a future version. Use a timezone-aware object instead.\n",
      "  m3 = max.truncate(before=pd.Timestamp('today') - pd.DateOffset(months=3))\n",
      "<ipython-input-1-d5b62f59ed62>:50: FutureWarning: Indexing a timezone-aware DatetimeIndex with a timezone-naive datetime is deprecated and will raise KeyError in a future version. Use a timezone-aware object instead.\n",
      "  m1 = max.truncate(before=pd.Timestamp('today') - pd.DateOffset(months=1))\n",
      "<ipython-input-1-d5b62f59ed62>:103: FutureWarning: The frame.append method is deprecated and will be removed from pandas in a future version. Use pandas.concat instead.\n",
      "  final = final.append(\n"
     ]
    },
    {
     "name": "stdout",
     "output_type": "stream",
     "text": [
      "0.190810875874325\n",
      "0.2911556753637006\n",
      "0.385376530011282\n",
      "0.4270468103491013\n",
      "0.46573553203163626\n",
      "Producing data for:  BCH\n"
     ]
    },
    {
     "name": "stderr",
     "output_type": "stream",
     "text": [
      "<ipython-input-1-d5b62f59ed62>:47: FutureWarning: Indexing a timezone-aware DatetimeIndex with a timezone-naive datetime is deprecated and will raise KeyError in a future version. Use a timezone-aware object instead.\n",
      "  y = max.truncate(before=pd.Timestamp('today') - pd.DateOffset(months=12))\n",
      "<ipython-input-1-d5b62f59ed62>:48: FutureWarning: Indexing a timezone-aware DatetimeIndex with a timezone-naive datetime is deprecated and will raise KeyError in a future version. Use a timezone-aware object instead.\n",
      "  m6 = max.truncate(before=pd.Timestamp('today') - pd.DateOffset(months=6))\n",
      "<ipython-input-1-d5b62f59ed62>:49: FutureWarning: Indexing a timezone-aware DatetimeIndex with a timezone-naive datetime is deprecated and will raise KeyError in a future version. Use a timezone-aware object instead.\n",
      "  m3 = max.truncate(before=pd.Timestamp('today') - pd.DateOffset(months=3))\n",
      "<ipython-input-1-d5b62f59ed62>:50: FutureWarning: Indexing a timezone-aware DatetimeIndex with a timezone-naive datetime is deprecated and will raise KeyError in a future version. Use a timezone-aware object instead.\n",
      "  m1 = max.truncate(before=pd.Timestamp('today') - pd.DateOffset(months=1))\n"
     ]
    },
    {
     "name": "stdout",
     "output_type": "stream",
     "text": [
      "0.18224376267313896\n",
      "0.2795655110146944\n",
      "0.3781769548175711\n",
      "0.42835743202377674\n",
      "0.47564969303323174\n",
      "Producing data for:  BLX\n"
     ]
    },
    {
     "name": "stderr",
     "output_type": "stream",
     "text": [
      "<ipython-input-1-d5b62f59ed62>:103: FutureWarning: The frame.append method is deprecated and will be removed from pandas in a future version. Use pandas.concat instead.\n",
      "  final = final.append(\n",
      "<ipython-input-1-d5b62f59ed62>:47: FutureWarning: Indexing a timezone-aware DatetimeIndex with a timezone-naive datetime is deprecated and will raise KeyError in a future version. Use a timezone-aware object instead.\n",
      "  y = max.truncate(before=pd.Timestamp('today') - pd.DateOffset(months=12))\n",
      "<ipython-input-1-d5b62f59ed62>:48: FutureWarning: Indexing a timezone-aware DatetimeIndex with a timezone-naive datetime is deprecated and will raise KeyError in a future version. Use a timezone-aware object instead.\n",
      "  m6 = max.truncate(before=pd.Timestamp('today') - pd.DateOffset(months=6))\n",
      "<ipython-input-1-d5b62f59ed62>:49: FutureWarning: Indexing a timezone-aware DatetimeIndex with a timezone-naive datetime is deprecated and will raise KeyError in a future version. Use a timezone-aware object instead.\n",
      "  m3 = max.truncate(before=pd.Timestamp('today') - pd.DateOffset(months=3))\n",
      "<ipython-input-1-d5b62f59ed62>:50: FutureWarning: Indexing a timezone-aware DatetimeIndex with a timezone-naive datetime is deprecated and will raise KeyError in a future version. Use a timezone-aware object instead.\n",
      "  m1 = max.truncate(before=pd.Timestamp('today') - pd.DateOffset(months=1))\n",
      "<ipython-input-1-d5b62f59ed62>:103: FutureWarning: The frame.append method is deprecated and will be removed from pandas in a future version. Use pandas.concat instead.\n",
      "  final = final.append(\n"
     ]
    },
    {
     "name": "stdout",
     "output_type": "stream",
     "text": [
      "0.20160016687093943\n",
      "0.3024131413220572\n",
      "0.4003472187734963\n",
      "0.44586503453379017\n",
      "0.4869532160725426\n",
      "Producing data for: "
     ]
    },
    {
     "name": "stderr",
     "output_type": "stream",
     "text": [
      "<ipython-input-1-d5b62f59ed62>:47: FutureWarning: Indexing a timezone-aware DatetimeIndex with a timezone-naive datetime is deprecated and will raise KeyError in a future version. Use a timezone-aware object instead.\n",
      "  y = max.truncate(before=pd.Timestamp('today') - pd.DateOffset(months=12))\n",
      "<ipython-input-1-d5b62f59ed62>:48: FutureWarning: Indexing a timezone-aware DatetimeIndex with a timezone-naive datetime is deprecated and will raise KeyError in a future version. Use a timezone-aware object instead.\n",
      "  m6 = max.truncate(before=pd.Timestamp('today') - pd.DateOffset(months=6))\n",
      "<ipython-input-1-d5b62f59ed62>:49: FutureWarning: Indexing a timezone-aware DatetimeIndex with a timezone-naive datetime is deprecated and will raise KeyError in a future version. Use a timezone-aware object instead.\n",
      "  m3 = max.truncate(before=pd.Timestamp('today') - pd.DateOffset(months=3))\n",
      "<ipython-input-1-d5b62f59ed62>:50: FutureWarning: Indexing a timezone-aware DatetimeIndex with a timezone-naive datetime is deprecated and will raise KeyError in a future version. Use a timezone-aware object instead.\n",
      "  m1 = max.truncate(before=pd.Timestamp('today') - pd.DateOffset(months=1))\n",
      "<ipython-input-1-d5b62f59ed62>:103: FutureWarning: The frame.append method is deprecated and will be removed from pandas in a future version. Use pandas.concat instead.\n",
      "  final = final.append(\n"
     ]
    },
    {
     "name": "stdout",
     "output_type": "stream",
     "text": [
      " BMA\n",
      "0.20662576976453978\n",
      "0.30342884773497825\n",
      "0.40060135434010047\n",
      "0.4498882697578816\n",
      "0.5009892696355421\n",
      "Producing data for:  SAN\n"
     ]
    },
    {
     "name": "stderr",
     "output_type": "stream",
     "text": [
      "<ipython-input-1-d5b62f59ed62>:47: FutureWarning: Indexing a timezone-aware DatetimeIndex with a timezone-naive datetime is deprecated and will raise KeyError in a future version. Use a timezone-aware object instead.\n",
      "  y = max.truncate(before=pd.Timestamp('today') - pd.DateOffset(months=12))\n",
      "<ipython-input-1-d5b62f59ed62>:48: FutureWarning: Indexing a timezone-aware DatetimeIndex with a timezone-naive datetime is deprecated and will raise KeyError in a future version. Use a timezone-aware object instead.\n",
      "  m6 = max.truncate(before=pd.Timestamp('today') - pd.DateOffset(months=6))\n",
      "<ipython-input-1-d5b62f59ed62>:49: FutureWarning: Indexing a timezone-aware DatetimeIndex with a timezone-naive datetime is deprecated and will raise KeyError in a future version. Use a timezone-aware object instead.\n",
      "  m3 = max.truncate(before=pd.Timestamp('today') - pd.DateOffset(months=3))\n",
      "<ipython-input-1-d5b62f59ed62>:50: FutureWarning: Indexing a timezone-aware DatetimeIndex with a timezone-naive datetime is deprecated and will raise KeyError in a future version. Use a timezone-aware object instead.\n",
      "  m1 = max.truncate(before=pd.Timestamp('today') - pd.DateOffset(months=1))\n",
      "<ipython-input-1-d5b62f59ed62>:103: FutureWarning: The frame.append method is deprecated and will be removed from pandas in a future version. Use pandas.concat instead.\n",
      "  final = final.append(\n"
     ]
    },
    {
     "name": "stdout",
     "output_type": "stream",
     "text": [
      "0.19213145213551386\n",
      "0.29555407414963675\n",
      "0.39628436305798215\n",
      "0.4420629131424641\n",
      "0.47953696712684607\n",
      "Producing data for:  BSBR\n"
     ]
    },
    {
     "name": "stderr",
     "output_type": "stream",
     "text": [
      "<ipython-input-1-d5b62f59ed62>:47: FutureWarning: Indexing a timezone-aware DatetimeIndex with a timezone-naive datetime is deprecated and will raise KeyError in a future version. Use a timezone-aware object instead.\n",
      "  y = max.truncate(before=pd.Timestamp('today') - pd.DateOffset(months=12))\n",
      "<ipython-input-1-d5b62f59ed62>:48: FutureWarning: Indexing a timezone-aware DatetimeIndex with a timezone-naive datetime is deprecated and will raise KeyError in a future version. Use a timezone-aware object instead.\n",
      "  m6 = max.truncate(before=pd.Timestamp('today') - pd.DateOffset(months=6))\n",
      "<ipython-input-1-d5b62f59ed62>:49: FutureWarning: Indexing a timezone-aware DatetimeIndex with a timezone-naive datetime is deprecated and will raise KeyError in a future version. Use a timezone-aware object instead.\n",
      "  m3 = max.truncate(before=pd.Timestamp('today') - pd.DateOffset(months=3))\n",
      "<ipython-input-1-d5b62f59ed62>:50: FutureWarning: Indexing a timezone-aware DatetimeIndex with a timezone-naive datetime is deprecated and will raise KeyError in a future version. Use a timezone-aware object instead.\n",
      "  m1 = max.truncate(before=pd.Timestamp('today') - pd.DateOffset(months=1))\n"
     ]
    },
    {
     "name": "stdout",
     "output_type": "stream",
     "text": [
      "0.21342875242369208\n",
      "0.3158783012684451\n",
      "0.40094852731248515\n",
      "0.44084983036034964\n",
      "0.4802626242887177\n",
      "Producing data for:  BSAC\n"
     ]
    },
    {
     "name": "stderr",
     "output_type": "stream",
     "text": [
      "<ipython-input-1-d5b62f59ed62>:103: FutureWarning: The frame.append method is deprecated and will be removed from pandas in a future version. Use pandas.concat instead.\n",
      "  final = final.append(\n",
      "<ipython-input-1-d5b62f59ed62>:47: FutureWarning: Indexing a timezone-aware DatetimeIndex with a timezone-naive datetime is deprecated and will raise KeyError in a future version. Use a timezone-aware object instead.\n",
      "  y = max.truncate(before=pd.Timestamp('today') - pd.DateOffset(months=12))\n",
      "<ipython-input-1-d5b62f59ed62>:48: FutureWarning: Indexing a timezone-aware DatetimeIndex with a timezone-naive datetime is deprecated and will raise KeyError in a future version. Use a timezone-aware object instead.\n",
      "  m6 = max.truncate(before=pd.Timestamp('today') - pd.DateOffset(months=6))\n",
      "<ipython-input-1-d5b62f59ed62>:49: FutureWarning: Indexing a timezone-aware DatetimeIndex with a timezone-naive datetime is deprecated and will raise KeyError in a future version. Use a timezone-aware object instead.\n",
      "  m3 = max.truncate(before=pd.Timestamp('today') - pd.DateOffset(months=3))\n",
      "<ipython-input-1-d5b62f59ed62>:50: FutureWarning: Indexing a timezone-aware DatetimeIndex with a timezone-naive datetime is deprecated and will raise KeyError in a future version. Use a timezone-aware object instead.\n",
      "  m1 = max.truncate(before=pd.Timestamp('today') - pd.DateOffset(months=1))\n",
      "<ipython-input-1-d5b62f59ed62>:103: FutureWarning: The frame.append method is deprecated and will be removed from pandas in a future version. Use pandas.concat instead.\n",
      "  final = final.append(\n"
     ]
    },
    {
     "name": "stdout",
     "output_type": "stream",
     "text": [
      "0.187812214292606\n",
      "0.28556921798955615\n",
      "0.3838253211495809\n",
      "0.43332058806223417\n",
      "0.4781754056379059\n",
      "Producing data for:  CIB\n"
     ]
    },
    {
     "name": "stderr",
     "output_type": "stream",
     "text": [
      "<ipython-input-1-d5b62f59ed62>:47: FutureWarning: Indexing a timezone-aware DatetimeIndex with a timezone-naive datetime is deprecated and will raise KeyError in a future version. Use a timezone-aware object instead.\n",
      "  y = max.truncate(before=pd.Timestamp('today') - pd.DateOffset(months=12))\n",
      "<ipython-input-1-d5b62f59ed62>:48: FutureWarning: Indexing a timezone-aware DatetimeIndex with a timezone-naive datetime is deprecated and will raise KeyError in a future version. Use a timezone-aware object instead.\n",
      "  m6 = max.truncate(before=pd.Timestamp('today') - pd.DateOffset(months=6))\n",
      "<ipython-input-1-d5b62f59ed62>:49: FutureWarning: Indexing a timezone-aware DatetimeIndex with a timezone-naive datetime is deprecated and will raise KeyError in a future version. Use a timezone-aware object instead.\n",
      "  m3 = max.truncate(before=pd.Timestamp('today') - pd.DateOffset(months=3))\n",
      "<ipython-input-1-d5b62f59ed62>:50: FutureWarning: Indexing a timezone-aware DatetimeIndex with a timezone-naive datetime is deprecated and will raise KeyError in a future version. Use a timezone-aware object instead.\n",
      "  m1 = max.truncate(before=pd.Timestamp('today') - pd.DateOffset(months=1))\n"
     ]
    },
    {
     "name": "stdout",
     "output_type": "stream",
     "text": [
      "0.21989247388809316\n",
      "0.31950911753396916\n",
      "0.4067539350240887\n",
      "0.4488951440561256\n",
      "0.490604487913374\n",
      "Producing data for:  BXS\n"
     ]
    },
    {
     "name": "stderr",
     "output_type": "stream",
     "text": [
      "<ipython-input-1-d5b62f59ed62>:103: FutureWarning: The frame.append method is deprecated and will be removed from pandas in a future version. Use pandas.concat instead.\n",
      "  final = final.append(\n"
     ]
    },
    {
     "name": "stdout",
     "output_type": "stream",
     "text": [
      "Got error from yahoo api for ticker BXS, Error: {'code': 'Not Found', 'description': 'No data found, symbol may be delisted'}\n",
      "- BXS: No timezone found, symbol may be delisted\n",
      "Got error from yahoo api for ticker BXS, Error: {'code': 'Not Found', 'description': 'No data found, symbol may be delisted'}\n",
      "- BXS: No timezone found, symbol may be delisted\n",
      "Producing data for:  BAC\n"
     ]
    },
    {
     "name": "stderr",
     "output_type": "stream",
     "text": [
      "<ipython-input-1-d5b62f59ed62>:47: FutureWarning: Indexing a timezone-aware DatetimeIndex with a timezone-naive datetime is deprecated and will raise KeyError in a future version. Use a timezone-aware object instead.\n",
      "  y = max.truncate(before=pd.Timestamp('today') - pd.DateOffset(months=12))\n",
      "<ipython-input-1-d5b62f59ed62>:48: FutureWarning: Indexing a timezone-aware DatetimeIndex with a timezone-naive datetime is deprecated and will raise KeyError in a future version. Use a timezone-aware object instead.\n",
      "  m6 = max.truncate(before=pd.Timestamp('today') - pd.DateOffset(months=6))\n",
      "<ipython-input-1-d5b62f59ed62>:49: FutureWarning: Indexing a timezone-aware DatetimeIndex with a timezone-naive datetime is deprecated and will raise KeyError in a future version. Use a timezone-aware object instead.\n",
      "  m3 = max.truncate(before=pd.Timestamp('today') - pd.DateOffset(months=3))\n",
      "<ipython-input-1-d5b62f59ed62>:50: FutureWarning: Indexing a timezone-aware DatetimeIndex with a timezone-naive datetime is deprecated and will raise KeyError in a future version. Use a timezone-aware object instead.\n",
      "  m1 = max.truncate(before=pd.Timestamp('today') - pd.DateOffset(months=1))\n"
     ]
    },
    {
     "name": "stdout",
     "output_type": "stream",
     "text": [
      "0.18853649236139375\n",
      "0.2834165903164944\n",
      "0.3822146108026978\n",
      "0.4316325800954405\n",
      "0.48022294182531905\n",
      "Producing data for:  BOH\n"
     ]
    },
    {
     "name": "stderr",
     "output_type": "stream",
     "text": [
      "<ipython-input-1-d5b62f59ed62>:103: FutureWarning: The frame.append method is deprecated and will be removed from pandas in a future version. Use pandas.concat instead.\n",
      "  final = final.append(\n",
      "<ipython-input-1-d5b62f59ed62>:47: FutureWarning: Indexing a timezone-aware DatetimeIndex with a timezone-naive datetime is deprecated and will raise KeyError in a future version. Use a timezone-aware object instead.\n",
      "  y = max.truncate(before=pd.Timestamp('today') - pd.DateOffset(months=12))\n",
      "<ipython-input-1-d5b62f59ed62>:48: FutureWarning: Indexing a timezone-aware DatetimeIndex with a timezone-naive datetime is deprecated and will raise KeyError in a future version. Use a timezone-aware object instead.\n",
      "  m6 = max.truncate(before=pd.Timestamp('today') - pd.DateOffset(months=6))\n",
      "<ipython-input-1-d5b62f59ed62>:49: FutureWarning: Indexing a timezone-aware DatetimeIndex with a timezone-naive datetime is deprecated and will raise KeyError in a future version. Use a timezone-aware object instead.\n",
      "  m3 = max.truncate(before=pd.Timestamp('today') - pd.DateOffset(months=3))\n",
      "<ipython-input-1-d5b62f59ed62>:50: FutureWarning: Indexing a timezone-aware DatetimeIndex with a timezone-naive datetime is deprecated and will raise KeyError in a future version. Use a timezone-aware object instead.\n",
      "  m1 = max.truncate(before=pd.Timestamp('today') - pd.DateOffset(months=1))\n"
     ]
    },
    {
     "name": "stdout",
     "output_type": "stream",
     "text": [
      "0.18661956394578824\n",
      "0.27967611029829276\n",
      "0.3592218856937129\n",
      "0.3915701610058411\n",
      "0.4217914638985807\n",
      "Producing data for:  BK\n"
     ]
    },
    {
     "name": "stderr",
     "output_type": "stream",
     "text": [
      "<ipython-input-1-d5b62f59ed62>:103: FutureWarning: The frame.append method is deprecated and will be removed from pandas in a future version. Use pandas.concat instead.\n",
      "  final = final.append(\n",
      "<ipython-input-1-d5b62f59ed62>:47: FutureWarning: Indexing a timezone-aware DatetimeIndex with a timezone-naive datetime is deprecated and will raise KeyError in a future version. Use a timezone-aware object instead.\n",
      "  y = max.truncate(before=pd.Timestamp('today') - pd.DateOffset(months=12))\n",
      "<ipython-input-1-d5b62f59ed62>:48: FutureWarning: Indexing a timezone-aware DatetimeIndex with a timezone-naive datetime is deprecated and will raise KeyError in a future version. Use a timezone-aware object instead.\n",
      "  m6 = max.truncate(before=pd.Timestamp('today') - pd.DateOffset(months=6))\n",
      "<ipython-input-1-d5b62f59ed62>:49: FutureWarning: Indexing a timezone-aware DatetimeIndex with a timezone-naive datetime is deprecated and will raise KeyError in a future version. Use a timezone-aware object instead.\n",
      "  m3 = max.truncate(before=pd.Timestamp('today') - pd.DateOffset(months=3))\n",
      "<ipython-input-1-d5b62f59ed62>:50: FutureWarning: Indexing a timezone-aware DatetimeIndex with a timezone-naive datetime is deprecated and will raise KeyError in a future version. Use a timezone-aware object instead.\n",
      "  m1 = max.truncate(before=pd.Timestamp('today') - pd.DateOffset(months=1))\n"
     ]
    },
    {
     "name": "stdout",
     "output_type": "stream",
     "text": [
      "0.1782343519095513\n",
      "0.2631205987100476\n",
      "0.35226748978620726\n",
      "0.39586599793101457\n",
      "0.4364838666001064\n",
      "Producing data for:  BNS\n"
     ]
    },
    {
     "name": "stderr",
     "output_type": "stream",
     "text": [
      "<ipython-input-1-d5b62f59ed62>:103: FutureWarning: The frame.append method is deprecated and will be removed from pandas in a future version. Use pandas.concat instead.\n",
      "  final = final.append(\n",
      "C:\\Users\\Kamen\\AppData\\Local\\Programs\\Python\\Python38\\lib\\site-packages\\yfinance\\utils.py:613: SettingWithCopyWarning: \n",
      "A value is trying to be set on a copy of a slice from a DataFrame.\n",
      "Try using .loc[row_indexer,col_indexer] = value instead\n",
      "\n",
      "See the caveats in the documentation: https://pandas.pydata.org/pandas-docs/stable/user_guide/indexing.html#returning-a-view-versus-a-copy\n",
      "  df_sub_missing[list(keys)] = _np.nan\n",
      "C:\\Users\\Kamen\\AppData\\Local\\Programs\\Python\\Python38\\lib\\site-packages\\yfinance\\utils.py:613: SettingWithCopyWarning: \n",
      "A value is trying to be set on a copy of a slice from a DataFrame.\n",
      "Try using .loc[row_indexer,col_indexer] = value instead\n",
      "\n",
      "See the caveats in the documentation: https://pandas.pydata.org/pandas-docs/stable/user_guide/indexing.html#returning-a-view-versus-a-copy\n",
      "  df_sub_missing[list(keys)] = _np.nan\n",
      "C:\\Users\\Kamen\\AppData\\Local\\Programs\\Python\\Python38\\lib\\site-packages\\yfinance\\utils.py:613: SettingWithCopyWarning: \n",
      "A value is trying to be set on a copy of a slice from a DataFrame.\n",
      "Try using .loc[row_indexer,col_indexer] = value instead\n",
      "\n",
      "See the caveats in the documentation: https://pandas.pydata.org/pandas-docs/stable/user_guide/indexing.html#returning-a-view-versus-a-copy\n",
      "  df_sub_missing[list(keys)] = _np.nan\n",
      "C:\\Users\\Kamen\\AppData\\Local\\Programs\\Python\\Python38\\lib\\site-packages\\yfinance\\utils.py:613: SettingWithCopyWarning: \n",
      "A value is trying to be set on a copy of a slice from a DataFrame.\n",
      "Try using .loc[row_indexer,col_indexer] = value instead\n",
      "\n",
      "See the caveats in the documentation: https://pandas.pydata.org/pandas-docs/stable/user_guide/indexing.html#returning-a-view-versus-a-copy\n",
      "  df_sub_missing[list(keys)] = _np.nan\n",
      "C:\\Users\\Kamen\\AppData\\Local\\Programs\\Python\\Python38\\lib\\site-packages\\yfinance\\utils.py:613: SettingWithCopyWarning: \n",
      "A value is trying to be set on a copy of a slice from a DataFrame.\n",
      "Try using .loc[row_indexer,col_indexer] = value instead\n",
      "\n",
      "See the caveats in the documentation: https://pandas.pydata.org/pandas-docs/stable/user_guide/indexing.html#returning-a-view-versus-a-copy\n",
      "  df_sub_missing[list(keys)] = _np.nan\n",
      "C:\\Users\\Kamen\\AppData\\Local\\Programs\\Python\\Python38\\lib\\site-packages\\yfinance\\utils.py:613: SettingWithCopyWarning: \n",
      "A value is trying to be set on a copy of a slice from a DataFrame.\n",
      "Try using .loc[row_indexer,col_indexer] = value instead\n",
      "\n",
      "See the caveats in the documentation: https://pandas.pydata.org/pandas-docs/stable/user_guide/indexing.html#returning-a-view-versus-a-copy\n",
      "  df_sub_missing[list(keys)] = _np.nan\n",
      "C:\\Users\\Kamen\\AppData\\Local\\Programs\\Python\\Python38\\lib\\site-packages\\yfinance\\utils.py:613: SettingWithCopyWarning: \n",
      "A value is trying to be set on a copy of a slice from a DataFrame.\n",
      "Try using .loc[row_indexer,col_indexer] = value instead\n",
      "\n",
      "See the caveats in the documentation: https://pandas.pydata.org/pandas-docs/stable/user_guide/indexing.html#returning-a-view-versus-a-copy\n",
      "  df_sub_missing[list(keys)] = _np.nan\n",
      "C:\\Users\\Kamen\\AppData\\Local\\Programs\\Python\\Python38\\lib\\site-packages\\yfinance\\utils.py:613: SettingWithCopyWarning: \n",
      "A value is trying to be set on a copy of a slice from a DataFrame.\n",
      "Try using .loc[row_indexer,col_indexer] = value instead\n",
      "\n",
      "See the caveats in the documentation: https://pandas.pydata.org/pandas-docs/stable/user_guide/indexing.html#returning-a-view-versus-a-copy\n",
      "  df_sub_missing[list(keys)] = _np.nan\n",
      "C:\\Users\\Kamen\\AppData\\Local\\Programs\\Python\\Python38\\lib\\site-packages\\yfinance\\utils.py:613: SettingWithCopyWarning: \n",
      "A value is trying to be set on a copy of a slice from a DataFrame.\n",
      "Try using .loc[row_indexer,col_indexer] = value instead\n",
      "\n",
      "See the caveats in the documentation: https://pandas.pydata.org/pandas-docs/stable/user_guide/indexing.html#returning-a-view-versus-a-copy\n",
      "  df_sub_missing[list(keys)] = _np.nan\n",
      "C:\\Users\\Kamen\\AppData\\Local\\Programs\\Python\\Python38\\lib\\site-packages\\yfinance\\utils.py:613: SettingWithCopyWarning: \n",
      "A value is trying to be set on a copy of a slice from a DataFrame.\n",
      "Try using .loc[row_indexer,col_indexer] = value instead\n",
      "\n",
      "See the caveats in the documentation: https://pandas.pydata.org/pandas-docs/stable/user_guide/indexing.html#returning-a-view-versus-a-copy\n",
      "  df_sub_missing[list(keys)] = _np.nan\n"
     ]
    },
    {
     "ename": "ValueError",
     "evalue": "truncate requires a sorted index",
     "output_type": "error",
     "traceback": [
      "\u001b[1;31m---------------------------------------------------------------------------\u001b[0m",
      "\u001b[1;31mValueError\u001b[0m                                Traceback (most recent call last)",
      "\u001b[1;32m<ipython-input-1-d5b62f59ed62>\u001b[0m in \u001b[0;36m<module>\u001b[1;34m\u001b[0m\n\u001b[0;32m     45\u001b[0m         \u001b[0mmax\u001b[0m \u001b[1;33m=\u001b[0m \u001b[0myf\u001b[0m\u001b[1;33m.\u001b[0m\u001b[0mTicker\u001b[0m\u001b[1;33m(\u001b[0m\u001b[0mtick\u001b[0m\u001b[1;33m[\u001b[0m\u001b[1;34m\"0\"\u001b[0m\u001b[1;33m]\u001b[0m\u001b[1;33m[\u001b[0m\u001b[0mi\u001b[0m\u001b[1;33m]\u001b[0m\u001b[1;33m)\u001b[0m\u001b[1;33m.\u001b[0m\u001b[0mhistory\u001b[0m\u001b[1;33m(\u001b[0m\u001b[0mperiod\u001b[0m\u001b[1;33m=\u001b[0m\u001b[1;34m'max'\u001b[0m\u001b[1;33m)\u001b[0m\u001b[1;33m\u001b[0m\u001b[1;33m\u001b[0m\u001b[0m\n\u001b[0;32m     46\u001b[0m         \u001b[0md\u001b[0m \u001b[1;33m=\u001b[0m \u001b[0myf\u001b[0m\u001b[1;33m.\u001b[0m\u001b[0mTicker\u001b[0m\u001b[1;33m(\u001b[0m\u001b[0mtick\u001b[0m\u001b[1;33m[\u001b[0m\u001b[1;34m\"0\"\u001b[0m\u001b[1;33m]\u001b[0m\u001b[1;33m[\u001b[0m\u001b[0mi\u001b[0m\u001b[1;33m]\u001b[0m\u001b[1;33m)\u001b[0m\u001b[1;33m.\u001b[0m\u001b[0mhistory\u001b[0m\u001b[1;33m(\u001b[0m\u001b[0mperiod\u001b[0m\u001b[1;33m=\u001b[0m\u001b[1;34m'max'\u001b[0m\u001b[1;33m)\u001b[0m\u001b[1;33m\u001b[0m\u001b[1;33m\u001b[0m\u001b[0m\n\u001b[1;32m---> 47\u001b[1;33m         \u001b[0my\u001b[0m \u001b[1;33m=\u001b[0m \u001b[0mmax\u001b[0m\u001b[1;33m.\u001b[0m\u001b[0mtruncate\u001b[0m\u001b[1;33m(\u001b[0m\u001b[0mbefore\u001b[0m\u001b[1;33m=\u001b[0m\u001b[0mpd\u001b[0m\u001b[1;33m.\u001b[0m\u001b[0mTimestamp\u001b[0m\u001b[1;33m(\u001b[0m\u001b[1;34m'today'\u001b[0m\u001b[1;33m)\u001b[0m \u001b[1;33m-\u001b[0m \u001b[0mpd\u001b[0m\u001b[1;33m.\u001b[0m\u001b[0mDateOffset\u001b[0m\u001b[1;33m(\u001b[0m\u001b[0mmonths\u001b[0m\u001b[1;33m=\u001b[0m\u001b[1;36m12\u001b[0m\u001b[1;33m)\u001b[0m\u001b[1;33m)\u001b[0m\u001b[1;33m\u001b[0m\u001b[1;33m\u001b[0m\u001b[0m\n\u001b[0m\u001b[0;32m     48\u001b[0m         \u001b[0mm6\u001b[0m \u001b[1;33m=\u001b[0m \u001b[0mmax\u001b[0m\u001b[1;33m.\u001b[0m\u001b[0mtruncate\u001b[0m\u001b[1;33m(\u001b[0m\u001b[0mbefore\u001b[0m\u001b[1;33m=\u001b[0m\u001b[0mpd\u001b[0m\u001b[1;33m.\u001b[0m\u001b[0mTimestamp\u001b[0m\u001b[1;33m(\u001b[0m\u001b[1;34m'today'\u001b[0m\u001b[1;33m)\u001b[0m \u001b[1;33m-\u001b[0m \u001b[0mpd\u001b[0m\u001b[1;33m.\u001b[0m\u001b[0mDateOffset\u001b[0m\u001b[1;33m(\u001b[0m\u001b[0mmonths\u001b[0m\u001b[1;33m=\u001b[0m\u001b[1;36m6\u001b[0m\u001b[1;33m)\u001b[0m\u001b[1;33m)\u001b[0m\u001b[1;33m\u001b[0m\u001b[1;33m\u001b[0m\u001b[0m\n\u001b[0;32m     49\u001b[0m         \u001b[0mm3\u001b[0m \u001b[1;33m=\u001b[0m \u001b[0mmax\u001b[0m\u001b[1;33m.\u001b[0m\u001b[0mtruncate\u001b[0m\u001b[1;33m(\u001b[0m\u001b[0mbefore\u001b[0m\u001b[1;33m=\u001b[0m\u001b[0mpd\u001b[0m\u001b[1;33m.\u001b[0m\u001b[0mTimestamp\u001b[0m\u001b[1;33m(\u001b[0m\u001b[1;34m'today'\u001b[0m\u001b[1;33m)\u001b[0m \u001b[1;33m-\u001b[0m \u001b[0mpd\u001b[0m\u001b[1;33m.\u001b[0m\u001b[0mDateOffset\u001b[0m\u001b[1;33m(\u001b[0m\u001b[0mmonths\u001b[0m\u001b[1;33m=\u001b[0m\u001b[1;36m3\u001b[0m\u001b[1;33m)\u001b[0m\u001b[1;33m)\u001b[0m\u001b[1;33m\u001b[0m\u001b[1;33m\u001b[0m\u001b[0m\n",
      "\u001b[1;32m~\\AppData\\Local\\Programs\\Python\\Python38\\lib\\site-packages\\pandas\\core\\generic.py\u001b[0m in \u001b[0;36mtruncate\u001b[1;34m(self, before, after, axis, copy)\u001b[0m\n\u001b[0;32m   9723\u001b[0m         \u001b[1;31m# Check that index is sorted\u001b[0m\u001b[1;33m\u001b[0m\u001b[1;33m\u001b[0m\u001b[1;33m\u001b[0m\u001b[0m\n\u001b[0;32m   9724\u001b[0m         \u001b[1;32mif\u001b[0m \u001b[1;32mnot\u001b[0m \u001b[0max\u001b[0m\u001b[1;33m.\u001b[0m\u001b[0mis_monotonic_increasing\u001b[0m \u001b[1;32mand\u001b[0m \u001b[1;32mnot\u001b[0m \u001b[0max\u001b[0m\u001b[1;33m.\u001b[0m\u001b[0mis_monotonic_decreasing\u001b[0m\u001b[1;33m:\u001b[0m\u001b[1;33m\u001b[0m\u001b[1;33m\u001b[0m\u001b[0m\n\u001b[1;32m-> 9725\u001b[1;33m             \u001b[1;32mraise\u001b[0m \u001b[0mValueError\u001b[0m\u001b[1;33m(\u001b[0m\u001b[1;34m\"truncate requires a sorted index\"\u001b[0m\u001b[1;33m)\u001b[0m\u001b[1;33m\u001b[0m\u001b[1;33m\u001b[0m\u001b[0m\n\u001b[0m\u001b[0;32m   9726\u001b[0m \u001b[1;33m\u001b[0m\u001b[0m\n\u001b[0;32m   9727\u001b[0m         \u001b[1;31m# if we have a date index, convert to dates, otherwise\u001b[0m\u001b[1;33m\u001b[0m\u001b[1;33m\u001b[0m\u001b[1;33m\u001b[0m\u001b[0m\n",
      "\u001b[1;31mValueError\u001b[0m: truncate requires a sorted index"
     ]
    }
   ],
   "source": [
    "#ADD SCHEDULER\n",
    "\n",
    "import numpy as np\n",
    "import pandas as pd\n",
    "import matplotlib as plt\n",
    "import seaborn as sns\n",
    "import yfinance as yf\n",
    "import pandas_datareader as web\n",
    "from pandas_datareader import data\n",
    "from bs4 import BeautifulSoup as bs\n",
    "from scipy import stats\n",
    "tick = pd.read_csv(\"all_stocks\")\n",
    "final = pd.DataFrame(columns=[\n",
    "                            'Ticker',\n",
    "                            'Price',\n",
    "                            '1y Price Return',\n",
    "                            '1y percentile', \n",
    "                            '6m Price Return', \n",
    "                            '6m percentile', \n",
    "                            '3m Price Return', \n",
    "                            '3m percentile',\n",
    "                            '1m Price Return', \n",
    "                            '1m percentile',\n",
    "                            'Weighted Hurst Exponent'\n",
    "                            ])\n",
    "counter= 0\n",
    "\n",
    "#calulate the Hurst exponent of a stock\n",
    "def get_hurst_exponent(time_series, max_lag):\n",
    "    \"\"\"Returns the Hurst Exponent of the time series\"\"\"\n",
    "        \n",
    "    lags = range(2, max_lag)\n",
    "\n",
    "    # variances of the lagged differences\n",
    "    tau = [np.std(np.subtract(time_series[lag:], time_series[:-lag])) for lag in lags]\n",
    "\n",
    "    # calculate the slope of the log plot -> the Hurst Exponent\n",
    "    reg = np.polyfit(np.log(lags), np.log(tau), 1)\n",
    "\n",
    "    return reg[0]\n",
    "\n",
    "for i in range(len(tick[\"0\"])):\n",
    "    print(\"Producing data for: \", tick[\"0\"][i])\n",
    "    try:\n",
    "        max = yf.Ticker(tick[\"0\"][i]).history(period='max')\n",
    "        d = yf.Ticker(tick[\"0\"][i]).history(period='max')\n",
    "        y = max.truncate(before=pd.Timestamp('today') - pd.DateOffset(months=12))\n",
    "        m6 = max.truncate(before=pd.Timestamp('today') - pd.DateOffset(months=6))\n",
    "        m3 = max.truncate(before=pd.Timestamp('today') - pd.DateOffset(months=3))\n",
    "        m1 = max.truncate(before=pd.Timestamp('today') - pd.DateOffset(months=1))\n",
    "    except IndexError: \n",
    "        print(\"Couldn't find: \",tick[\"0\"][i])\n",
    "        continue\n",
    "    except KeyError:\n",
    "        continue\n",
    "    \n",
    "    max.reset_index(inplace = True)\n",
    "    d.reset_index(inplace=True)\n",
    "    y.reset_index(inplace=True)\n",
    "    m6.reset_index(inplace=True)\n",
    "    m3.reset_index(inplace=True)\n",
    "    m1.reset_index(inplace=True)\n",
    "\n",
    "    d['Ticker'] = tick['0'][i]    \n",
    "    try: \n",
    "        perc_change1y = ((y.iloc[-1]['Close'] - y.iloc[0]['Close'])/y.iloc[0][\"Close\"])\n",
    "        d['1y Price Return'] = perc_change1y\n",
    "        perc_change6m = ((m6.iloc[-1]['Close'] - m6.iloc[0]['Close'])/m6.iloc[0][\"Close\"])\n",
    "        d['6m Price Return'] = perc_change6m\n",
    "        perc_change3m = ((m3.iloc[-1]['Close'] - m3.iloc[0]['Close'])/m3.iloc[0][\"Close\"])\n",
    "        d['3m Price Return'] = perc_change3m\n",
    "        perc_change1m = ((m1.iloc[-1]['Close'] - m1.iloc[0]['Close'])/m1.iloc[0][\"Close\"])\n",
    "        d['1m Price Return'] = perc_change1m\n",
    "\n",
    "        d['Price'] = d['Close'] \n",
    "        d['1y percentile'] = 0\n",
    "        d['6m percentile'] = 0\n",
    "        d['3m percentile'] = 0\n",
    "        d['1m percentile'] = 0\n",
    "        d['Weighted Hurst Exponent'] = 0\n",
    "        d = d.iloc[-1]\n",
    "    except IndexError: \n",
    "        continue\n",
    "\n",
    "    #Change to keep only last 2 days!!! get date\n",
    "\n",
    "    t = [20, 100, 300, 500, 1000]\n",
    "    total_hurst = 0\n",
    "    weight = 0.4\n",
    "    for j in range(len(t)): \n",
    "        #Use Weighted average to determine hurst exp of the stock\n",
    "        hurst_exp = get_hurst_exponent(max[\"Close\"].values, t[j])\n",
    "        #print(tick[\"0\"][i] + \" Hurst exponent with \" + str(t[j]) +  ' lags: ' + str(hurst_exp))\n",
    "        total_hurst += hurst_exp*weight\n",
    "        if j >= 2: \n",
    "            weight = 0.1\n",
    "        else: \n",
    "            weight = 0.2\n",
    "        print(total_hurst)\n",
    "    d['Weighted Hurst Exponent'] = total_hurst\n",
    "    \n",
    "    #Append latest value\n",
    "    final = final.append(\n",
    "        pd.Series(d,\n",
    "        index=['Ticker',\n",
    "                            'Price',\n",
    "                            '1y Price Return',\n",
    "                            '1y percentile', \n",
    "                            '6m Price Return', \n",
    "                            '6m percentile', \n",
    "                            '3m Price Return', \n",
    "                            '3m percentile',\n",
    "                            '1m Price Return', \n",
    "                            '1m percentile',\n",
    "                            'Weighted Hurst Exponent'\n",
    "                            ]), \n",
    "        ignore_index = True\n",
    "    ) \n",
    "\n",
    "final.to_csv(\"momentum_advanced_sheet\")\n",
    "\n",
    "#Get percentiles for each stock\n",
    "cols = ['1y', '6m', '3m', '1m']\n",
    "top90 = []\n",
    "for c in cols: \n",
    "    for index, row in final.iterrows(): \n",
    "        percentile_change = stats.percentileofscore(final[c+ ' Price Return'], final[c + ' Price Return'].loc[index])\n",
    "        final[c + ' percentile'][index] = percentile_change \n",
    "final['Shares To Buy'] = 0\n",
    "\n",
    "#Calculate HQM score\n",
    "#Get the mean of all 4 percentiles \n",
    "final['HQM score'] = 0\n",
    "from statistics import mean\n",
    "for index, row in final.iterrows(): \n",
    "    all_periods_p = [row['1y percentile'], row['6m percentile'], row['3m percentile'], row['1m percentile']]\n",
    "    final['HQM score'].iloc[index] = mean(all_periods_p)\n",
    "\n",
    "#Sort values to present\n",
    "final.sort_values(\"HQM score\", ascending=False, inplace = True)\n",
    "final.to_csv(\"momentum_advanced_HQM\")"
   ]
  }
 ],
 "metadata": {
  "interpreter": {
   "hash": "f36662cf0d2dc2d22e7ce50b6b2dd5771b8ab03597c45c6e0e62ff4a448306d1"
  },
  "kernelspec": {
   "display_name": "Python 3.8.5 64-bit",
   "language": "python",
   "name": "python3"
  },
  "language_info": {
   "codemirror_mode": {
    "name": "ipython",
    "version": 3
   },
   "file_extension": ".py",
   "mimetype": "text/x-python",
   "name": "python",
   "nbconvert_exporter": "python",
   "pygments_lexer": "ipython3",
   "version": "3.8.5"
  },
  "orig_nbformat": 4
 },
 "nbformat": 4,
 "nbformat_minor": 2
}
