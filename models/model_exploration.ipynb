{
 "cells": [
  {
   "cell_type": "code",
   "execution_count": 5,
   "metadata": {},
   "outputs": [],
   "source": [
    "#Imports\n",
    "import pandas as pd\n",
    "import numpy as np\n",
    "from statsmodels.graphics.tsaplots import plot_acf\n",
    "import seaborn as sns\n",
    "import matplotlib as plt \n",
    "import psycopg2 "
   ]
  },
  {
   "cell_type": "code",
   "execution_count": 13,
   "metadata": {},
   "outputs": [],
   "source": [
    "#Stocks chosen : MSFT, AAPL, ARIZ, BFI, CLS\n",
    "conn = psycopg2.connect(\n",
    "    host=\"localhost\",\n",
    "    database=\"financial_db\",\n",
    "    user=\"postgres\",\n",
    "    password=\"KaMendiNiO\"\n",
    ")\n",
    "\n",
    "# Open a cursor to perform database operations\n",
    "cur = conn.cursor()\n",
    "data = []\n",
    "stock_sample = ['MSFT', 'AAPL', 'ARIZ', 'BFI', 'CLS']\n",
    "for s in stock_sample:\n",
    "    #Get the tickers as a list\n",
    "    query = query = '''SELECT \"Close\" \n",
    "            FROM public.all_time_prices \n",
    "            WHERE \"Ticker\" = '{}' \n",
    "            ORDER BY \"Date\" DESC'''.format(s)\n",
    "    cur.execute(query)\n",
    "    curr_trend = []\n",
    "    for i in cur.fetchall(): \n",
    "        t = i[0]\n",
    "        curr_trend.append(t) \n",
    "        data.append(curr_trend)\n",
    "    break"
   ]
  },
  {
   "cell_type": "code",
   "execution_count": null,
   "metadata": {},
   "outputs": [],
   "source": []
  }
 ],
 "metadata": {
  "kernelspec": {
   "display_name": "Python 3",
   "language": "python",
   "name": "python3"
  },
  "language_info": {
   "codemirror_mode": {
    "name": "ipython",
    "version": 3
   },
   "file_extension": ".py",
   "mimetype": "text/x-python",
   "name": "python",
   "nbconvert_exporter": "python",
   "pygments_lexer": "ipython3",
   "version": "3.8.5"
  },
  "orig_nbformat": 4
 },
 "nbformat": 4,
 "nbformat_minor": 2
}
