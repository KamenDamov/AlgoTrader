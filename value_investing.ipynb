{
 "cells": [
  {
   "cell_type": "code",
   "execution_count": 36,
   "metadata": {},
   "outputs": [
    {
     "data": {
      "text/plain": [
       "'0.2.3'"
      ]
     },
     "execution_count": 36,
     "metadata": {},
     "output_type": "execute_result"
    }
   ],
   "source": [
    "import numpy as np\n",
    "import pandas as pd\n",
    "import math\n",
    "import requests \n",
    "import matplotlib as plt\n",
    "import seaborn as sns\n",
    "import yfinance as yf\n",
    "import pandas_datareader as web\n",
    "from pandas_datareader import data\n",
    "from bs4 import BeautifulSoup as bs\n",
    "from scipy import stats"
   ]
  },
  {
   "cell_type": "code",
   "execution_count": 2,
   "metadata": {},
   "outputs": [],
   "source": [
    "tick = pd.read_csv(\"all_stocks\")"
   ]
  },
  {
   "cell_type": "code",
   "execution_count": 35,
   "metadata": {},
   "outputs": [
    {
     "name": "stdout",
     "output_type": "stream",
     "text": [
      "Producing data for:  AOS\n",
      "sharesOutstanding\n",
      "impliedSharesOutstanding\n"
     ]
    }
   ],
   "source": [
    "final = pd.DataFrame(columns=['Ticker','Price','OneYearPercentageChange'])\n",
    "for i in range(len(tick[\"0\"])):\n",
    "    print(\"Producing data for: \", tick[\"0\"][i])\n",
    "    try:\n",
    "        ticker = yf.Ticker(tick[\"0\"][i])\n",
    "        info = ticker.info\n",
    "        for i in info: \n",
    "            if \"outstanding\" in i.lower(): \n",
    "                print(i)\n",
    "\n",
    "        #df = web.get_data_yahoo(tick[\"0\"][i])\n",
    "        \n",
    "        #df = web.DataReader(tick[\"0\"][i], data_source=\"yahoo\")\n",
    "        #eps = df['EPS'].iloc[-1]\n",
    "        #print(eps)\n",
    "        #net_income = info['regularMarketNetIncome']\n",
    "        #outstanding_shares = info['regularMarketSharesOutstanding']\n",
    "\n",
    "#        eps = net_income / outstanding_shares\n",
    "#        print(eps)\n",
    "    except IndexError: \n",
    "        print(\"Couldn't find: \",tick[\"0\"][i])\n",
    "        continue\n",
    "    except KeyError:\n",
    "        print(\"Couldnt find key for: \" + tick['0'[i]])\n",
    "        continue\n",
    "    break\n",
    "    '''\n",
    "    d.reset_index(inplace=True)\n",
    "    d['Ticker'] = tick['0'][i]    \n",
    "    try: \n",
    "        perc_change = ((d.iloc[-1]['Close'] - d.iloc[0]['Close'])/d.iloc[0][\"Close\"])\n",
    "        d['OneYearPercentageChange'] = perc_change\n",
    "        d['Price'] = d['Close'] \n",
    "        print(perc_change)\n",
    "        d = d.iloc[-1]\n",
    "    except IndexError: \n",
    "        continue\n",
    "    #Change to keep only last 2 days!!! get date\n",
    "    \n",
    "    #Append latest value\n",
    "    final = final.append(\n",
    "        pd.Series(d,\n",
    "        index=['Ticker','Price','OneYearPercentageChange']), \n",
    "        ignore_index = True\n",
    "    )  \n",
    "    '''"
   ]
  }
 ],
 "metadata": {
  "interpreter": {
   "hash": "f36662cf0d2dc2d22e7ce50b6b2dd5771b8ab03597c45c6e0e62ff4a448306d1"
  },
  "kernelspec": {
   "display_name": "Python 3.8.5 64-bit",
   "language": "python",
   "name": "python3"
  },
  "language_info": {
   "codemirror_mode": {
    "name": "ipython",
    "version": 3
   },
   "file_extension": ".py",
   "mimetype": "text/x-python",
   "name": "python",
   "nbconvert_exporter": "python",
   "pygments_lexer": "ipython3",
   "version": "3.8.5"
  },
  "orig_nbformat": 4
 },
 "nbformat": 4,
 "nbformat_minor": 2
}
